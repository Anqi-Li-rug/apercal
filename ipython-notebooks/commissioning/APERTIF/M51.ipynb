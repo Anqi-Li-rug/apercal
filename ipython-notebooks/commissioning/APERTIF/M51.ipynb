{
 "cells": [
  {
   "cell_type": "code",
   "execution_count": 1,
   "metadata": {
    "collapsed": false
   },
   "outputs": [
    {
     "name": "stderr",
     "output_type": "stream",
     "text": [
      "root - INFO : Logging started!\n"
     ]
    },
    {
     "name": "stderr",
     "output_type": "stream",
     "text": [
      "root - INFO : To see the log in a bash window use the following command:\n"
     ]
    },
    {
     "name": "stderr",
     "output_type": "stream",
     "text": [
      "root - INFO : tail -n +1 -f /home/adebahr/apercal/ipython-notebooks/commissioning/APERTIF/M51.log\n"
     ]
    },
    {
     "name": "stdout",
     "output_type": "stream",
     "text": [
      "Setup logger with lib.setup_logger()\n"
     ]
    }
   ],
   "source": [
    "%config IPCompleter.greedy=True\n",
    "%matplotlib notebook\n",
    "import lib\n",
    "lib.setup_logger('info', logfile='/home/adebahr/apercal/ipython-notebooks/commissioning/APERTIF/M51.log')\n",
    "import apercal"
   ]
  },
  {
   "cell_type": "code",
   "execution_count": 2,
   "metadata": {},
   "outputs": [
    {
     "name": "stderr",
     "output_type": "stream",
     "text": [
      "PREFLAG - INFO : ### Configuration file /home/adebahr/apercal/ipython-notebooks/commissioning/APERTIF/M51.cfg successfully read! ###\n"
     ]
    }
   ],
   "source": [
    "preflag = apercal.preflag('/home/adebahr/apercal/ipython-notebooks/commissioning/APERTIF/M51.cfg')"
   ]
  },
  {
   "cell_type": "code",
   "execution_count": 3,
   "metadata": {},
   "outputs": [],
   "source": [
    "# Create lists of channels for the bandpass edges and the ghost in the second half of each subband\n",
    "# As soon as we solve the aliasing and ghost problem uncomment this line\n",
    "nchannel = 11008 # Total number of channels\n",
    "# Make lists of the chanenls which are affected\n",
    "a = range(0, nchannel, 64) # the subband edges\n",
    "b = range(1, nchannel, 64)\n",
    "c = range(63, nchannel, 64)\n",
    "d = range(16, nchannel, 64) # the two ghosts\n",
    "e = range(48, nchannel, 64)\n",
    "# Combine the channel list into one list and convert to a string\n",
    "l = a + b + c + d + e\n",
    "preflag.preflag_manualflag_channel = ';'.join(str(ch) for ch in l)"
   ]
  },
  {
   "cell_type": "code",
   "execution_count": 4,
   "metadata": {},
   "outputs": [
    {
     "name": "stderr",
     "output_type": "stream",
     "text": [
      "PREFLAG - INFO : ### Starting pre-flagging of known flags ###\n"
     ]
    },
    {
     "name": "stderr",
     "output_type": "stream",
     "text": [
      "PREFLAG - INFO : # Moved to directory /data/adebahr/apertif/7070708_M51/raw #\n"
     ]
    },
    {
     "name": "stderr",
     "output_type": "stream",
     "text": [
      "PREFLAG - INFO : # Flagging auto-correlations for flux calibrator data #\n"
     ]
    },
    {
     "name": "stderr",
     "output_type": "stream",
     "text": [
      "PREFLAG - INFO : # Auto-correlation flagging for flux calibrator data done #\n"
     ]
    },
    {
     "name": "stderr",
     "output_type": "stream",
     "text": [
      "PREFLAG - INFO : # Flagging auto-correlations for target data #\n"
     ]
    },
    {
     "name": "stderr",
     "output_type": "stream",
     "text": [
      "PREFLAG - INFO : # Auto-correlation flagging for target data done #\n"
     ]
    },
    {
     "name": "stderr",
     "output_type": "stream",
     "text": [
      "PREFLAG - INFO : # Flagging shadowed antennas for flux calibrator data #\n"
     ]
    },
    {
     "name": "stderr",
     "output_type": "stream",
     "text": [
      "PREFLAG - INFO : # Flagging of shadowed antennas for flux calibrator data done #\n"
     ]
    },
    {
     "name": "stderr",
     "output_type": "stream",
     "text": [
      "PREFLAG - INFO : # Flagging of shadowed antennas for target data #\n"
     ]
    },
    {
     "name": "stderr",
     "output_type": "stream",
     "text": [
      "PREFLAG - INFO : # Flagging of shadowed antennas for target data done #\n"
     ]
    },
    {
     "name": "stderr",
     "output_type": "stream",
     "text": [
      "PREFLAG - INFO : # Flagging channel(s) 0;64;128;192;256;320;384;448;512;576;640;704;768;832;896;960;1024;1088;1152;1216;1280;1344;1408;1472;1536;1600;1664;1728;1792;1856;1920;1984;2048;2112;2176;2240;2304;2368;2432;2496;2560;2624;2688;2752;2816;2880;2944;3008;3072;3136;3200;3264;3328;3392;3456;3520;3584;3648;3712;3776;3840;3904;3968;4032;4096;4160;4224;4288;4352;4416;4480;4544;4608;4672;4736;4800;4864;4928;4992;5056;5120;5184;5248;5312;5376;5440;5504;5568;5632;5696;5760;5824;5888;5952;6016;6080;6144;6208;6272;6336;6400;6464;6528;6592;6656;6720;6784;6848;6912;6976;7040;7104;7168;7232;7296;7360;7424;7488;7552;7616;7680;7744;7808;7872;7936;8000;8064;8128;8192;8256;8320;8384;8448;8512;8576;8640;8704;8768;8832;8896;8960;9024;9088;9152;9216;9280;9344;9408;9472;9536;9600;9664;9728;9792;9856;9920;9984;10048;10112;10176;10240;10304;10368;10432;10496;10560;10624;10688;10752;10816;10880;10944;1;65;129;193;257;321;385;449;513;577;641;705;769;833;897;961;1025;1089;1153;1217;1281;1345;1409;1473;1537;1601;1665;1729;1793;1857;1921;1985;2049;2113;2177;2241;2305;2369;2433;2497;2561;2625;2689;2753;2817;2881;2945;3009;3073;3137;3201;3265;3329;3393;3457;3521;3585;3649;3713;3777;3841;3905;3969;4033;4097;4161;4225;4289;4353;4417;4481;4545;4609;4673;4737;4801;4865;4929;4993;5057;5121;5185;5249;5313;5377;5441;5505;5569;5633;5697;5761;5825;5889;5953;6017;6081;6145;6209;6273;6337;6401;6465;6529;6593;6657;6721;6785;6849;6913;6977;7041;7105;7169;7233;7297;7361;7425;7489;7553;7617;7681;7745;7809;7873;7937;8001;8065;8129;8193;8257;8321;8385;8449;8513;8577;8641;8705;8769;8833;8897;8961;9025;9089;9153;9217;9281;9345;9409;9473;9537;9601;9665;9729;9793;9857;9921;9985;10049;10113;10177;10241;10305;10369;10433;10497;10561;10625;10689;10753;10817;10881;10945;63;127;191;255;319;383;447;511;575;639;703;767;831;895;959;1023;1087;1151;1215;1279;1343;1407;1471;1535;1599;1663;1727;1791;1855;1919;1983;2047;2111;2175;2239;2303;2367;2431;2495;2559;2623;2687;2751;2815;2879;2943;3007;3071;3135;3199;3263;3327;3391;3455;3519;3583;3647;3711;3775;3839;3903;3967;4031;4095;4159;4223;4287;4351;4415;4479;4543;4607;4671;4735;4799;4863;4927;4991;5055;5119;5183;5247;5311;5375;5439;5503;5567;5631;5695;5759;5823;5887;5951;6015;6079;6143;6207;6271;6335;6399;6463;6527;6591;6655;6719;6783;6847;6911;6975;7039;7103;7167;7231;7295;7359;7423;7487;7551;7615;7679;7743;7807;7871;7935;7999;8063;8127;8191;8255;8319;8383;8447;8511;8575;8639;8703;8767;8831;8895;8959;9023;9087;9151;9215;9279;9343;9407;9471;9535;9599;9663;9727;9791;9855;9919;9983;10047;10111;10175;10239;10303;10367;10431;10495;10559;10623;10687;10751;10815;10879;10943;11007;48;112;176;240;304;368;432;496;560;624;688;752;816;880;944;1008;1072;1136;1200;1264;1328;1392;1456;1520;1584;1648;1712;1776;1840;1904;1968;2032;2096;2160;2224;2288;2352;2416;2480;2544;2608;2672;2736;2800;2864;2928;2992;3056;3120;3184;3248;3312;3376;3440;3504;3568;3632;3696;3760;3824;3888;3952;4016;4080;4144;4208;4272;4336;4400;4464;4528;4592;4656;4720;4784;4848;4912;4976;5040;5104;5168;5232;5296;5360;5424;5488;5552;5616;5680;5744;5808;5872;5936;6000;6064;6128;6192;6256;6320;6384;6448;6512;6576;6640;6704;6768;6832;6896;6960;7024;7088;7152;7216;7280;7344;7408;7472;7536;7600;7664;7728;7792;7856;7920;7984;8048;8112;8176;8240;8304;8368;8432;8496;8560;8624;8688;8752;8816;8880;8944;9008;9072;9136;9200;9264;9328;9392;9456;9520;9584;9648;9712;9776;9840;9904;9968;10032;10096;10160;10224;10288;10352;10416;10480;10544;10608;10672;10736;10800;10864;10928;10992 for flux calibrator data #\n"
     ]
    },
    {
     "name": "stderr",
     "output_type": "stream",
     "text": [
      "PREFLAG - INFO : # Flagging of channel(s) 0;64;128;192;256;320;384;448;512;576;640;704;768;832;896;960;1024;1088;1152;1216;1280;1344;1408;1472;1536;1600;1664;1728;1792;1856;1920;1984;2048;2112;2176;2240;2304;2368;2432;2496;2560;2624;2688;2752;2816;2880;2944;3008;3072;3136;3200;3264;3328;3392;3456;3520;3584;3648;3712;3776;3840;3904;3968;4032;4096;4160;4224;4288;4352;4416;4480;4544;4608;4672;4736;4800;4864;4928;4992;5056;5120;5184;5248;5312;5376;5440;5504;5568;5632;5696;5760;5824;5888;5952;6016;6080;6144;6208;6272;6336;6400;6464;6528;6592;6656;6720;6784;6848;6912;6976;7040;7104;7168;7232;7296;7360;7424;7488;7552;7616;7680;7744;7808;7872;7936;8000;8064;8128;8192;8256;8320;8384;8448;8512;8576;8640;8704;8768;8832;8896;8960;9024;9088;9152;9216;9280;9344;9408;9472;9536;9600;9664;9728;9792;9856;9920;9984;10048;10112;10176;10240;10304;10368;10432;10496;10560;10624;10688;10752;10816;10880;10944;1;65;129;193;257;321;385;449;513;577;641;705;769;833;897;961;1025;1089;1153;1217;1281;1345;1409;1473;1537;1601;1665;1729;1793;1857;1921;1985;2049;2113;2177;2241;2305;2369;2433;2497;2561;2625;2689;2753;2817;2881;2945;3009;3073;3137;3201;3265;3329;3393;3457;3521;3585;3649;3713;3777;3841;3905;3969;4033;4097;4161;4225;4289;4353;4417;4481;4545;4609;4673;4737;4801;4865;4929;4993;5057;5121;5185;5249;5313;5377;5441;5505;5569;5633;5697;5761;5825;5889;5953;6017;6081;6145;6209;6273;6337;6401;6465;6529;6593;6657;6721;6785;6849;6913;6977;7041;7105;7169;7233;7297;7361;7425;7489;7553;7617;7681;7745;7809;7873;7937;8001;8065;8129;8193;8257;8321;8385;8449;8513;8577;8641;8705;8769;8833;8897;8961;9025;9089;9153;9217;9281;9345;9409;9473;9537;9601;9665;9729;9793;9857;9921;9985;10049;10113;10177;10241;10305;10369;10433;10497;10561;10625;10689;10753;10817;10881;10945;63;127;191;255;319;383;447;511;575;639;703;767;831;895;959;1023;1087;1151;1215;1279;1343;1407;1471;1535;1599;1663;1727;1791;1855;1919;1983;2047;2111;2175;2239;2303;2367;2431;2495;2559;2623;2687;2751;2815;2879;2943;3007;3071;3135;3199;3263;3327;3391;3455;3519;3583;3647;3711;3775;3839;3903;3967;4031;4095;4159;4223;4287;4351;4415;4479;4543;4607;4671;4735;4799;4863;4927;4991;5055;5119;5183;5247;5311;5375;5439;5503;5567;5631;5695;5759;5823;5887;5951;6015;6079;6143;6207;6271;6335;6399;6463;6527;6591;6655;6719;6783;6847;6911;6975;7039;7103;7167;7231;7295;7359;7423;7487;7551;7615;7679;7743;7807;7871;7935;7999;8063;8127;8191;8255;8319;8383;8447;8511;8575;8639;8703;8767;8831;8895;8959;9023;9087;9151;9215;9279;9343;9407;9471;9535;9599;9663;9727;9791;9855;9919;9983;10047;10111;10175;10239;10303;10367;10431;10495;10559;10623;10687;10751;10815;10879;10943;11007;48;112;176;240;304;368;432;496;560;624;688;752;816;880;944;1008;1072;1136;1200;1264;1328;1392;1456;1520;1584;1648;1712;1776;1840;1904;1968;2032;2096;2160;2224;2288;2352;2416;2480;2544;2608;2672;2736;2800;2864;2928;2992;3056;3120;3184;3248;3312;3376;3440;3504;3568;3632;3696;3760;3824;3888;3952;4016;4080;4144;4208;4272;4336;4400;4464;4528;4592;4656;4720;4784;4848;4912;4976;5040;5104;5168;5232;5296;5360;5424;5488;5552;5616;5680;5744;5808;5872;5936;6000;6064;6128;6192;6256;6320;6384;6448;6512;6576;6640;6704;6768;6832;6896;6960;7024;7088;7152;7216;7280;7344;7408;7472;7536;7600;7664;7728;7792;7856;7920;7984;8048;8112;8176;8240;8304;8368;8432;8496;8560;8624;8688;8752;8816;8880;8944;9008;9072;9136;9200;9264;9328;9392;9456;9520;9584;9648;9712;9776;9840;9904;9968;10032;10096;10160;10224;10288;10352;10416;10480;10544;10608;10672;10736;10800;10864;10928;10992 for flux calibrator data done #\n"
     ]
    },
    {
     "name": "stderr",
     "output_type": "stream",
     "text": [
      "PREFLAG - INFO : # Flagging channel(s) 0;64;128;192;256;320;384;448;512;576;640;704;768;832;896;960;1024;1088;1152;1216;1280;1344;1408;1472;1536;1600;1664;1728;1792;1856;1920;1984;2048;2112;2176;2240;2304;2368;2432;2496;2560;2624;2688;2752;2816;2880;2944;3008;3072;3136;3200;3264;3328;3392;3456;3520;3584;3648;3712;3776;3840;3904;3968;4032;4096;4160;4224;4288;4352;4416;4480;4544;4608;4672;4736;4800;4864;4928;4992;5056;5120;5184;5248;5312;5376;5440;5504;5568;5632;5696;5760;5824;5888;5952;6016;6080;6144;6208;6272;6336;6400;6464;6528;6592;6656;6720;6784;6848;6912;6976;7040;7104;7168;7232;7296;7360;7424;7488;7552;7616;7680;7744;7808;7872;7936;8000;8064;8128;8192;8256;8320;8384;8448;8512;8576;8640;8704;8768;8832;8896;8960;9024;9088;9152;9216;9280;9344;9408;9472;9536;9600;9664;9728;9792;9856;9920;9984;10048;10112;10176;10240;10304;10368;10432;10496;10560;10624;10688;10752;10816;10880;10944;1;65;129;193;257;321;385;449;513;577;641;705;769;833;897;961;1025;1089;1153;1217;1281;1345;1409;1473;1537;1601;1665;1729;1793;1857;1921;1985;2049;2113;2177;2241;2305;2369;2433;2497;2561;2625;2689;2753;2817;2881;2945;3009;3073;3137;3201;3265;3329;3393;3457;3521;3585;3649;3713;3777;3841;3905;3969;4033;4097;4161;4225;4289;4353;4417;4481;4545;4609;4673;4737;4801;4865;4929;4993;5057;5121;5185;5249;5313;5377;5441;5505;5569;5633;5697;5761;5825;5889;5953;6017;6081;6145;6209;6273;6337;6401;6465;6529;6593;6657;6721;6785;6849;6913;6977;7041;7105;7169;7233;7297;7361;7425;7489;7553;7617;7681;7745;7809;7873;7937;8001;8065;8129;8193;8257;8321;8385;8449;8513;8577;8641;8705;8769;8833;8897;8961;9025;9089;9153;9217;9281;9345;9409;9473;9537;9601;9665;9729;9793;9857;9921;9985;10049;10113;10177;10241;10305;10369;10433;10497;10561;10625;10689;10753;10817;10881;10945;63;127;191;255;319;383;447;511;575;639;703;767;831;895;959;1023;1087;1151;1215;1279;1343;1407;1471;1535;1599;1663;1727;1791;1855;1919;1983;2047;2111;2175;2239;2303;2367;2431;2495;2559;2623;2687;2751;2815;2879;2943;3007;3071;3135;3199;3263;3327;3391;3455;3519;3583;3647;3711;3775;3839;3903;3967;4031;4095;4159;4223;4287;4351;4415;4479;4543;4607;4671;4735;4799;4863;4927;4991;5055;5119;5183;5247;5311;5375;5439;5503;5567;5631;5695;5759;5823;5887;5951;6015;6079;6143;6207;6271;6335;6399;6463;6527;6591;6655;6719;6783;6847;6911;6975;7039;7103;7167;7231;7295;7359;7423;7487;7551;7615;7679;7743;7807;7871;7935;7999;8063;8127;8191;8255;8319;8383;8447;8511;8575;8639;8703;8767;8831;8895;8959;9023;9087;9151;9215;9279;9343;9407;9471;9535;9599;9663;9727;9791;9855;9919;9983;10047;10111;10175;10239;10303;10367;10431;10495;10559;10623;10687;10751;10815;10879;10943;11007;48;112;176;240;304;368;432;496;560;624;688;752;816;880;944;1008;1072;1136;1200;1264;1328;1392;1456;1520;1584;1648;1712;1776;1840;1904;1968;2032;2096;2160;2224;2288;2352;2416;2480;2544;2608;2672;2736;2800;2864;2928;2992;3056;3120;3184;3248;3312;3376;3440;3504;3568;3632;3696;3760;3824;3888;3952;4016;4080;4144;4208;4272;4336;4400;4464;4528;4592;4656;4720;4784;4848;4912;4976;5040;5104;5168;5232;5296;5360;5424;5488;5552;5616;5680;5744;5808;5872;5936;6000;6064;6128;6192;6256;6320;6384;6448;6512;6576;6640;6704;6768;6832;6896;6960;7024;7088;7152;7216;7280;7344;7408;7472;7536;7600;7664;7728;7792;7856;7920;7984;8048;8112;8176;8240;8304;8368;8432;8496;8560;8624;8688;8752;8816;8880;8944;9008;9072;9136;9200;9264;9328;9392;9456;9520;9584;9648;9712;9776;9840;9904;9968;10032;10096;10160;10224;10288;10352;10416;10480;10544;10608;10672;10736;10800;10864;10928;10992 for target data #\n"
     ]
    },
    {
     "name": "stderr",
     "output_type": "stream",
     "text": [
      "PREFLAG - INFO : # Flagging of channel(s) 0;64;128;192;256;320;384;448;512;576;640;704;768;832;896;960;1024;1088;1152;1216;1280;1344;1408;1472;1536;1600;1664;1728;1792;1856;1920;1984;2048;2112;2176;2240;2304;2368;2432;2496;2560;2624;2688;2752;2816;2880;2944;3008;3072;3136;3200;3264;3328;3392;3456;3520;3584;3648;3712;3776;3840;3904;3968;4032;4096;4160;4224;4288;4352;4416;4480;4544;4608;4672;4736;4800;4864;4928;4992;5056;5120;5184;5248;5312;5376;5440;5504;5568;5632;5696;5760;5824;5888;5952;6016;6080;6144;6208;6272;6336;6400;6464;6528;6592;6656;6720;6784;6848;6912;6976;7040;7104;7168;7232;7296;7360;7424;7488;7552;7616;7680;7744;7808;7872;7936;8000;8064;8128;8192;8256;8320;8384;8448;8512;8576;8640;8704;8768;8832;8896;8960;9024;9088;9152;9216;9280;9344;9408;9472;9536;9600;9664;9728;9792;9856;9920;9984;10048;10112;10176;10240;10304;10368;10432;10496;10560;10624;10688;10752;10816;10880;10944;1;65;129;193;257;321;385;449;513;577;641;705;769;833;897;961;1025;1089;1153;1217;1281;1345;1409;1473;1537;1601;1665;1729;1793;1857;1921;1985;2049;2113;2177;2241;2305;2369;2433;2497;2561;2625;2689;2753;2817;2881;2945;3009;3073;3137;3201;3265;3329;3393;3457;3521;3585;3649;3713;3777;3841;3905;3969;4033;4097;4161;4225;4289;4353;4417;4481;4545;4609;4673;4737;4801;4865;4929;4993;5057;5121;5185;5249;5313;5377;5441;5505;5569;5633;5697;5761;5825;5889;5953;6017;6081;6145;6209;6273;6337;6401;6465;6529;6593;6657;6721;6785;6849;6913;6977;7041;7105;7169;7233;7297;7361;7425;7489;7553;7617;7681;7745;7809;7873;7937;8001;8065;8129;8193;8257;8321;8385;8449;8513;8577;8641;8705;8769;8833;8897;8961;9025;9089;9153;9217;9281;9345;9409;9473;9537;9601;9665;9729;9793;9857;9921;9985;10049;10113;10177;10241;10305;10369;10433;10497;10561;10625;10689;10753;10817;10881;10945;63;127;191;255;319;383;447;511;575;639;703;767;831;895;959;1023;1087;1151;1215;1279;1343;1407;1471;1535;1599;1663;1727;1791;1855;1919;1983;2047;2111;2175;2239;2303;2367;2431;2495;2559;2623;2687;2751;2815;2879;2943;3007;3071;3135;3199;3263;3327;3391;3455;3519;3583;3647;3711;3775;3839;3903;3967;4031;4095;4159;4223;4287;4351;4415;4479;4543;4607;4671;4735;4799;4863;4927;4991;5055;5119;5183;5247;5311;5375;5439;5503;5567;5631;5695;5759;5823;5887;5951;6015;6079;6143;6207;6271;6335;6399;6463;6527;6591;6655;6719;6783;6847;6911;6975;7039;7103;7167;7231;7295;7359;7423;7487;7551;7615;7679;7743;7807;7871;7935;7999;8063;8127;8191;8255;8319;8383;8447;8511;8575;8639;8703;8767;8831;8895;8959;9023;9087;9151;9215;9279;9343;9407;9471;9535;9599;9663;9727;9791;9855;9919;9983;10047;10111;10175;10239;10303;10367;10431;10495;10559;10623;10687;10751;10815;10879;10943;11007;48;112;176;240;304;368;432;496;560;624;688;752;816;880;944;1008;1072;1136;1200;1264;1328;1392;1456;1520;1584;1648;1712;1776;1840;1904;1968;2032;2096;2160;2224;2288;2352;2416;2480;2544;2608;2672;2736;2800;2864;2928;2992;3056;3120;3184;3248;3312;3376;3440;3504;3568;3632;3696;3760;3824;3888;3952;4016;4080;4144;4208;4272;4336;4400;4464;4528;4592;4656;4720;4784;4848;4912;4976;5040;5104;5168;5232;5296;5360;5424;5488;5552;5616;5680;5744;5808;5872;5936;6000;6064;6128;6192;6256;6320;6384;6448;6512;6576;6640;6704;6768;6832;6896;6960;7024;7088;7152;7216;7280;7344;7408;7472;7536;7600;7664;7728;7792;7856;7920;7984;8048;8112;8176;8240;8304;8368;8432;8496;8560;8624;8688;8752;8816;8880;8944;9008;9072;9136;9200;9264;9328;9392;9456;9520;9584;9648;9712;9776;9840;9904;9968;10032;10096;10160;10224;10288;10352;10416;10480;10544;10608;10672;10736;10800;10864;10928;10992 for target data done #\n"
     ]
    },
    {
     "name": "stderr",
     "output_type": "stream",
     "text": [
      "PREFLAG - INFO : ### Pre-flagging of known flags done ###\n"
     ]
    },
    {
     "name": "stderr",
     "output_type": "stream",
     "text": [
      "PREFLAG - INFO : ### Doing pre-flagging with AOFlagger ###\n"
     ]
    },
    {
     "ename": "TypeError",
     "evalue": "a float is required",
     "traceback": [
      "\u001b[0;31m\u001b[0m",
      "\u001b[0;31mTypeError\u001b[0mTraceback (most recent call last)",
      "\u001b[0;31mTypeError\u001b[0m: a float is required"
     ],
     "output_type": "error"
    }
   ],
   "source": [
    "preflag.go()"
   ]
  },
  {
   "cell_type": "code",
   "execution_count": 5,
   "metadata": {},
   "outputs": [
    {
     "name": "stderr",
     "output_type": "stream",
     "text": [
      "CONVERT - INFO : ### Configuration file /home/adebahr/apercal/ipython-notebooks/commissioning/APERTIF/M51.cfg successfully read! ###\n"
     ]
    }
   ],
   "source": [
    "convert = apercal.convert('/home/adebahr/apercal/ipython-notebooks/commissioning/APERTIF/M51.cfg')"
   ]
  },
  {
   "cell_type": "code",
   "execution_count": 6,
   "metadata": {},
   "outputs": [
    {
     "name": "stderr",
     "output_type": "stream",
     "text": [
      "CONVERT - INFO : ########## FILE CONVERSION started ##########\n"
     ]
    },
    {
     "name": "stderr",
     "output_type": "stream",
     "text": [
      "CONVERT - INFO : ### Starting conversion from MS to UVFITS format ###\n"
     ]
    },
    {
     "name": "stderr",
     "output_type": "stream",
     "text": [
      "CONVERT - INFO : # Creating directory /data/adebahr/apertif/7070708_M51/crosscal #\n"
     ]
    },
    {
     "name": "stderr",
     "output_type": "stream",
     "text": [
      "CONVERT - INFO : # Moved to directory /data/adebahr/apertif/7070708_M51/crosscal #\n"
     ]
    },
    {
     "name": "stderr",
     "output_type": "stream",
     "text": [
      "CONVERT - INFO : ### Using CASA toolkit to convert from MS to UVFITS format! ###\n"
     ]
    },
    {
     "name": "stderr",
     "output_type": "stream",
     "text": [
      "CONVERT - INFO : ### Converted MS file 3C147.MS to UVFITS using CASA toolkit! ###\n"
     ]
    },
    {
     "name": "stderr",
     "output_type": "stream",
     "text": [
      "CONVERT - INFO : ### Converted MS file M51.MS to UVFITS using CASA toolkit! ###\n"
     ]
    },
    {
     "name": "stderr",
     "output_type": "stream",
     "text": [
      "CONVERT - INFO : ### Conversion from MS to UVFITS format done! ###\n"
     ]
    },
    {
     "name": "stderr",
     "output_type": "stream",
     "text": [
      "CONVERT - INFO : ### Starting conversion from UVFITS to MIRIAD format ###\n"
     ]
    },
    {
     "name": "stderr",
     "output_type": "stream",
     "text": [
      "CONVERT - INFO : ### Using MIRIAD fits task to convert data from UVFITS to MIRIAD format ###\n"
     ]
    },
    {
     "name": "stderr",
     "output_type": "stream",
     "text": [
      "CONVERT - INFO : ### Converted UVFITS file 3C147.MS to MIRIAD format using MIRIAD task fits! ###\n"
     ]
    },
    {
     "name": "stderr",
     "output_type": "stream",
     "text": [
      "CONVERT - INFO : ### Converted UVFITS file M51.MS to MIRIAD format using MIRIAD task fits! ###\n"
     ]
    },
    {
     "name": "stderr",
     "output_type": "stream",
     "text": [
      "CONVERT - INFO : ### Conversion from UVFITS to MIRIAD format done! ###\n"
     ]
    },
    {
     "name": "stderr",
     "output_type": "stream",
     "text": [
      "CONVERT - INFO : ########## FILE CONVERSION done ##########\n"
     ]
    }
   ],
   "source": [
    "convert.go()"
   ]
  },
  {
   "cell_type": "code",
   "execution_count": 7,
   "metadata": {},
   "outputs": [
    {
     "data": {
      "text/plain": [
       "0"
      ]
     },
     "execution_count": 7,
     "metadata": {},
     "output_type": "execute_result"
    }
   ],
   "source": [
    "# Recompute the uv coordinates by changing the pointing centre by 0.00001s to force uvedit to recompute them\n",
    "\n",
    "import os\n",
    "\n",
    "uvedit = lib.miriad('uvedit')\n",
    "\n",
    "uvedit.vis = convert.crosscaldir + '/' + convert.fluxcal.rstrip('MS') + 'mir'\n",
    "uvedit.ra = 0.00001\n",
    "uvedit.out = convert.crosscaldir + '/' + convert.fluxcal.rstrip('.MS') + '_uvedit.mir'\n",
    "uvedit.go()\n",
    "\n",
    "uvedit.vis = convert.crosscaldir + '/' + convert.target.rstrip('MS') + 'mir'\n",
    "uvedit.ra = 0.00001\n",
    "uvedit.out = convert.crosscaldir + '/' + convert.target.rstrip('.MS') + '_uvedit.mir'\n",
    "uvedit.go()\n",
    "\n",
    "os.system('rm -rf ' + convert.crosscaldir + '/' + convert.fluxcal.rstrip('MS') + 'mir')\n",
    "os.system('rm -rf ' + convert.crosscaldir + '/' + convert.target.rstrip('MS') + 'mir')\n",
    "os.system('mv ' + convert.crosscaldir + '/' + convert.fluxcal.rstrip('.MS') + '_uvedit.mir ' + convert.crosscaldir + '/' + convert.fluxcal.rstrip('.MS') + '.mir')\n",
    "os.system('mv ' + convert.crosscaldir + '/' + convert.target.rstrip('.MS') + '_uvedit.mir ' + convert.crosscaldir + '/' + convert.target.rstrip('.MS') + '.mir')"
   ]
  },
  {
   "cell_type": "code",
   "execution_count": 8,
   "metadata": {},
   "outputs": [
    {
     "data": {
      "text/plain": [
       "0"
      ]
     },
     "execution_count": 8,
     "metadata": {},
     "output_type": "execute_result"
    }
   ],
   "source": [
    "# Flip the phases by using uvrot\n",
    "\n",
    "import os\n",
    "\n",
    "uvrot = lib.miriad('uvrot')\n",
    "\n",
    "uvrot.vis = convert.crosscaldir + '/' + convert.fluxcal.rstrip('.MS') + '.mir'\n",
    "uvrot.angle = 180\n",
    "uvrot.out = convert.crosscaldir + '/' + convert.fluxcal.rstrip('.MS') + '_uvrot.mir'\n",
    "uvrot.go()\n",
    "\n",
    "uvrot.vis = convert.crosscaldir + '/' + convert.target.rstrip('.MS') + '.mir'\n",
    "uvrot.angle = 180\n",
    "uvrot.out = convert.crosscaldir + '/' + convert.target.rstrip('.MS') + '_uvrot.mir'\n",
    "uvrot.go()\n",
    "\n",
    "os.system('rm -rf ' + convert.crosscaldir + '/' + convert.fluxcal.rstrip('MS') + 'mir')\n",
    "os.system('rm -rf ' + convert.crosscaldir + '/' + convert.target.rstrip('MS') + 'mir')\n",
    "os.system('mv ' + convert.crosscaldir + '/' + convert.fluxcal.rstrip('.MS') + '_uvrot.mir ' + convert.crosscaldir + '/' + convert.fluxcal.rstrip('.MS') + '.mir')\n",
    "os.system('mv ' + convert.crosscaldir + '/' + convert.target.rstrip('.MS') + '_uvrot.mir ' + convert.crosscaldir + '/' + convert.target.rstrip('.MS') + '.mir')"
   ]
  },
  {
   "cell_type": "code",
   "execution_count": 9,
   "metadata": {},
   "outputs": [
    {
     "name": "stderr",
     "output_type": "stream",
     "text": [
      "CROSSCAL - INFO : ### Configuration file /home/adebahr/apercal/ipython-notebooks/commissioning/APERTIF/M51.cfg successfully read! ###\n"
     ]
    }
   ],
   "source": [
    "ccal = apercal.ccal('/home/adebahr/apercal/ipython-notebooks/commissioning/APERTIF/M51.cfg')"
   ]
  },
  {
   "cell_type": "code",
   "execution_count": 10,
   "metadata": {},
   "outputs": [
    {
     "name": "stderr",
     "output_type": "stream",
     "text": [
      "CROSSCAL - INFO : ########## Starting CROSS CALIBRATION ##########\n"
     ]
    },
    {
     "name": "stderr",
     "output_type": "stream",
     "text": [
      "CROSSCAL - INFO : ### Bandpass calibration on the flux calibrator data started ###\n"
     ]
    },
    {
     "name": "stderr",
     "output_type": "stream",
     "text": [
      "CROSSCAL - INFO : ### Bandpass calibration on the flux calibrator data done ###\n"
     ]
    },
    {
     "name": "stderr",
     "output_type": "stream",
     "text": [
      "CROSSCAL - INFO : ### No polarisation calibration done! ###\n"
     ]
    },
    {
     "name": "stderr",
     "output_type": "stream",
     "text": [
      "CROSSCAL - INFO : ### Copying calibrator solutions to target dataset ###\n"
     ]
    },
    {
     "name": "stderr",
     "output_type": "stream",
     "text": [
      "CROSSCAL - INFO : # Copying calibrator solutions (bandpass, gains) from flux calibrator #\n"
     ]
    },
    {
     "name": "stderr",
     "output_type": "stream",
     "text": [
      "CROSSCAL - INFO : # Polarisation calibration solutions (leakage, angle) not found #\n"
     ]
    },
    {
     "name": "stderr",
     "output_type": "stream",
     "text": [
      "CROSSCAL - INFO : ### All solutions copied to target data ###\n"
     ]
    },
    {
     "name": "stderr",
     "output_type": "stream",
     "text": [
      "CROSSCAL - INFO : ########## CROSS CALIBRATION done ##########\n"
     ]
    }
   ],
   "source": [
    "ccal.go()"
   ]
  },
  {
   "cell_type": "code",
   "execution_count": 11,
   "metadata": {},
   "outputs": [
    {
     "name": "stderr",
     "output_type": "stream",
     "text": [
      "SELFCAL - INFO : ### Configuration file /home/adebahr/apercal/ipython-notebooks/commissioning/APERTIF/M51.cfg successfully read! ###\n"
     ]
    }
   ],
   "source": [
    "scal = apercal.scal('/home/adebahr/apercal/ipython-notebooks/commissioning/APERTIF/M51.cfg')"
   ]
  },
  {
   "cell_type": "code",
   "execution_count": 12,
   "metadata": {},
   "outputs": [
    {
     "name": "stderr",
     "output_type": "stream",
     "text": [
      "SELFCAL - INFO : ########## Starting SELF CALIBRATION ##########\n"
     ]
    },
    {
     "name": "stderr",
     "output_type": "stream",
     "text": [
      "SELFCAL - INFO : # Creating directory /data/adebahr/apertif/7070708_M51/selfcal #\n"
     ]
    },
    {
     "name": "stderr",
     "output_type": "stream",
     "text": [
      "SELFCAL - INFO : # Moved to directory /data/adebahr/apertif/7070708_M51/selfcal #\n"
     ]
    },
    {
     "name": "stderr",
     "output_type": "stream",
     "text": [
      "SELFCAL - INFO : ### Splitting of target data into individual frequency chunks started ###\n"
     ]
    },
    {
     "name": "stderr",
     "output_type": "stream",
     "text": [
      "SELFCAL - INFO : # Applying calibrator solutions to target data before averaging #\n"
     ]
    },
    {
     "name": "stderr",
     "output_type": "stream",
     "text": [
      "SELFCAL - INFO : # Calibrator solutions to target data applied #\n"
     ]
    },
    {
     "name": "stderr",
     "output_type": "stream",
     "text": [
      "SELFCAL - INFO : # Found 1 subband(s) in target data #\n"
     ]
    },
    {
     "name": "stderr",
     "output_type": "stream",
     "text": [
      "SELFCAL - INFO : # Started splitting of subband 0 #\n"
     ]
    },
    {
     "name": "stderr",
     "output_type": "stream",
     "text": [
      "SELFCAL - INFO : # Adjusting chunk size to 0.016796875 GHz for regular gridding of the data chunks over frequency #\n"
     ]
    },
    {
     "name": "stderr",
     "output_type": "stream",
     "text": [
      "SELFCAL - INFO : # Starting splitting of data chunk 0 for subband 0 #\n"
     ]
    },
    {
     "name": "stderr",
     "output_type": "stream",
     "text": [
      "SELFCAL - INFO : # Increasing frequency bin of data chunk 0 to keep bandwidth of chunks equal over the whole bandwidth #\n"
     ]
    },
    {
     "name": "stderr",
     "output_type": "stream",
     "text": [
      "SELFCAL - INFO : # New frequency bin is 0.0010498046875 GHz #\n"
     ]
    },
    {
     "name": "stderr",
     "output_type": "stream",
     "text": [
      "SELFCAL - INFO : # Creating directory /data/adebahr/apertif/7070708_M51/selfcal/00 #\n"
     ]
    },
    {
     "name": "stderr",
     "output_type": "stream",
     "text": [
      "SELFCAL - INFO : # Splitting of data chunk 0 for subband 0 done #\n"
     ]
    },
    {
     "name": "stderr",
     "output_type": "stream",
     "text": [
      "SELFCAL - INFO : # Starting splitting of data chunk 1 for subband 0 #\n"
     ]
    },
    {
     "name": "stderr",
     "output_type": "stream",
     "text": [
      "SELFCAL - INFO : # Increasing frequency bin of data chunk 1 to keep bandwidth of chunks equal over the whole bandwidth #\n"
     ]
    },
    {
     "name": "stderr",
     "output_type": "stream",
     "text": [
      "SELFCAL - INFO : # New frequency bin is 0.0010498046875 GHz #\n"
     ]
    },
    {
     "name": "stderr",
     "output_type": "stream",
     "text": [
      "SELFCAL - INFO : # Creating directory /data/adebahr/apertif/7070708_M51/selfcal/01 #\n"
     ]
    },
    {
     "name": "stderr",
     "output_type": "stream",
     "text": [
      "SELFCAL - INFO : # Splitting of data chunk 1 for subband 0 done #\n"
     ]
    },
    {
     "name": "stderr",
     "output_type": "stream",
     "text": [
      "SELFCAL - INFO : # Starting splitting of data chunk 2 for subband 0 #\n"
     ]
    },
    {
     "name": "stderr",
     "output_type": "stream",
     "text": [
      "SELFCAL - INFO : # Increasing frequency bin of data chunk 2 to keep bandwidth of chunks equal over the whole bandwidth #\n"
     ]
    },
    {
     "name": "stderr",
     "output_type": "stream",
     "text": [
      "SELFCAL - INFO : # New frequency bin is 0.0010498046875 GHz #\n"
     ]
    },
    {
     "name": "stderr",
     "output_type": "stream",
     "text": [
      "SELFCAL - INFO : # Creating directory /data/adebahr/apertif/7070708_M51/selfcal/02 #\n"
     ]
    },
    {
     "name": "stderr",
     "output_type": "stream",
     "text": [
      "SELFCAL - INFO : # Splitting of data chunk 2 for subband 0 done #\n"
     ]
    },
    {
     "name": "stderr",
     "output_type": "stream",
     "text": [
      "SELFCAL - INFO : # Starting splitting of data chunk 3 for subband 0 #\n"
     ]
    },
    {
     "name": "stderr",
     "output_type": "stream",
     "text": [
      "SELFCAL - INFO : # Increasing frequency bin of data chunk 3 to keep bandwidth of chunks equal over the whole bandwidth #\n"
     ]
    },
    {
     "name": "stderr",
     "output_type": "stream",
     "text": [
      "SELFCAL - INFO : # New frequency bin is 0.0010498046875 GHz #\n"
     ]
    },
    {
     "name": "stderr",
     "output_type": "stream",
     "text": [
      "SELFCAL - INFO : # Creating directory /data/adebahr/apertif/7070708_M51/selfcal/03 #\n"
     ]
    },
    {
     "name": "stderr",
     "output_type": "stream",
     "text": [
      "SELFCAL - INFO : # Splitting of data chunk 3 for subband 0 done #\n"
     ]
    },
    {
     "name": "stderr",
     "output_type": "stream",
     "text": [
      "SELFCAL - INFO : # Starting splitting of data chunk 4 for subband 0 #\n"
     ]
    },
    {
     "name": "stderr",
     "output_type": "stream",
     "text": [
      "SELFCAL - INFO : # Increasing frequency bin of data chunk 4 to keep bandwidth of chunks equal over the whole bandwidth #\n"
     ]
    },
    {
     "name": "stderr",
     "output_type": "stream",
     "text": [
      "SELFCAL - INFO : # New frequency bin is 0.0010498046875 GHz #\n"
     ]
    },
    {
     "name": "stderr",
     "output_type": "stream",
     "text": [
      "SELFCAL - INFO : # Creating directory /data/adebahr/apertif/7070708_M51/selfcal/04 #\n"
     ]
    },
    {
     "name": "stderr",
     "output_type": "stream",
     "text": [
      "SELFCAL - INFO : # Splitting of data chunk 4 for subband 0 done #\n"
     ]
    },
    {
     "name": "stderr",
     "output_type": "stream",
     "text": [
      "SELFCAL - INFO : # Starting splitting of data chunk 5 for subband 0 #\n"
     ]
    },
    {
     "name": "stderr",
     "output_type": "stream",
     "text": [
      "SELFCAL - INFO : # Increasing frequency bin of data chunk 5 to keep bandwidth of chunks equal over the whole bandwidth #\n"
     ]
    },
    {
     "name": "stderr",
     "output_type": "stream",
     "text": [
      "SELFCAL - INFO : # New frequency bin is 0.0010498046875 GHz #\n"
     ]
    },
    {
     "name": "stderr",
     "output_type": "stream",
     "text": [
      "SELFCAL - INFO : # Creating directory /data/adebahr/apertif/7070708_M51/selfcal/05 #\n"
     ]
    },
    {
     "name": "stderr",
     "output_type": "stream",
     "text": [
      "SELFCAL - INFO : # Splitting of data chunk 5 for subband 0 done #\n"
     ]
    },
    {
     "name": "stderr",
     "output_type": "stream",
     "text": [
      "SELFCAL - INFO : # Starting splitting of data chunk 6 for subband 0 #\n"
     ]
    },
    {
     "name": "stderr",
     "output_type": "stream",
     "text": [
      "SELFCAL - INFO : # Increasing frequency bin of data chunk 6 to keep bandwidth of chunks equal over the whole bandwidth #\n"
     ]
    },
    {
     "name": "stderr",
     "output_type": "stream",
     "text": [
      "SELFCAL - INFO : # New frequency bin is 0.0010498046875 GHz #\n"
     ]
    },
    {
     "name": "stderr",
     "output_type": "stream",
     "text": [
      "SELFCAL - INFO : # Creating directory /data/adebahr/apertif/7070708_M51/selfcal/06 #\n"
     ]
    },
    {
     "name": "stderr",
     "output_type": "stream",
     "text": [
      "SELFCAL - INFO : # Splitting of data chunk 6 for subband 0 done #\n"
     ]
    },
    {
     "name": "stderr",
     "output_type": "stream",
     "text": [
      "SELFCAL - INFO : # Starting splitting of data chunk 7 for subband 0 #\n"
     ]
    },
    {
     "name": "stderr",
     "output_type": "stream",
     "text": [
      "SELFCAL - INFO : # Increasing frequency bin of data chunk 7 to keep bandwidth of chunks equal over the whole bandwidth #\n"
     ]
    },
    {
     "name": "stderr",
     "output_type": "stream",
     "text": [
      "SELFCAL - INFO : # New frequency bin is 0.0010498046875 GHz #\n"
     ]
    },
    {
     "name": "stderr",
     "output_type": "stream",
     "text": [
      "SELFCAL - INFO : # Creating directory /data/adebahr/apertif/7070708_M51/selfcal/07 #\n"
     ]
    },
    {
     "name": "stderr",
     "output_type": "stream",
     "text": [
      "SELFCAL - INFO : # Splitting of data chunk 7 for subband 0 done #\n"
     ]
    },
    {
     "name": "stderr",
     "output_type": "stream",
     "text": [
      "SELFCAL - INFO : # Splitting of data for subband 0 done #\n"
     ]
    },
    {
     "name": "stderr",
     "output_type": "stream",
     "text": [
      "SELFCAL - INFO : ### Splitting of target data into individual frequency chunks done ###\n"
     ]
    },
    {
     "name": "stderr",
     "output_type": "stream",
     "text": [
      "SELFCAL - INFO : ### Automatic flagging of HI-line/RFI started ###\n"
     ]
    },
    {
     "name": "stderr",
     "output_type": "stream",
     "text": [
      "SELFCAL - INFO : # Moved to directory /data/adebahr/apertif/7070708_M51/selfcal/00 #\n"
     ]
    },
    {
     "name": "stderr",
     "output_type": "stream",
     "text": [
      "SELFCAL - INFO : # Looking through data chunk 00 #\n"
     ]
    },
    {
     "name": "stderr",
     "output_type": "stream",
     "text": [
      "SELFCAL - INFO : # Found high noise in channel(s) 13 #\n"
     ]
    },
    {
     "name": "stderr",
     "output_type": "stream",
     "text": [
      "SELFCAL - INFO : # Flagged channel(s) 13 in data chunk 00 #\n"
     ]
    },
    {
     "name": "stderr",
     "output_type": "stream",
     "text": [
      "SELFCAL - INFO : # Moved to directory /data/adebahr/apertif/7070708_M51/selfcal/01 #\n"
     ]
    },
    {
     "name": "stderr",
     "output_type": "stream",
     "text": [
      "SELFCAL - INFO : # Looking through data chunk 01 #\n"
     ]
    },
    {
     "name": "stderr",
     "output_type": "stream",
     "text": [
      "SELFCAL - INFO : # Found high noise in channel(s) 0 1 8 #\n"
     ]
    },
    {
     "name": "stderr",
     "output_type": "stream",
     "text": [
      "SELFCAL - INFO : # Flagged channel(s) 0 1 8 in data chunk 01 #\n"
     ]
    },
    {
     "name": "stderr",
     "output_type": "stream",
     "text": [
      "SELFCAL - INFO : # Moved to directory /data/adebahr/apertif/7070708_M51/selfcal/02 #\n"
     ]
    },
    {
     "name": "stderr",
     "output_type": "stream",
     "text": [
      "SELFCAL - INFO : # Looking through data chunk 02 #\n"
     ]
    },
    {
     "name": "stderr",
     "output_type": "stream",
     "text": [
      "SELFCAL - INFO : # Found high noise in channel(s)  8 11 #\n"
     ]
    },
    {
     "name": "stderr",
     "output_type": "stream",
     "text": [
      "SELFCAL - INFO : # Flagged channel(s)  8 11 in data chunk 02 #\n"
     ]
    },
    {
     "name": "stderr",
     "output_type": "stream",
     "text": [
      "SELFCAL - INFO : # Moved to directory /data/adebahr/apertif/7070708_M51/selfcal/03 #\n"
     ]
    },
    {
     "name": "stderr",
     "output_type": "stream",
     "text": [
      "SELFCAL - INFO : # Looking through data chunk 03 #\n"
     ]
    },
    {
     "name": "stderr",
     "output_type": "stream",
     "text": [
      "SELFCAL - INFO : # No high noise found in data chunk 03 #\n"
     ]
    },
    {
     "name": "stderr",
     "output_type": "stream",
     "text": [
      "SELFCAL - INFO : # Moved to directory /data/adebahr/apertif/7070708_M51/selfcal/04 #\n"
     ]
    },
    {
     "name": "stderr",
     "output_type": "stream",
     "text": [
      "SELFCAL - INFO : # Looking through data chunk 04 #\n"
     ]
    },
    {
     "name": "stderr",
     "output_type": "stream",
     "text": [
      "SELFCAL - INFO : # Found high noise in channel(s) 13 #\n"
     ]
    },
    {
     "name": "stderr",
     "output_type": "stream",
     "text": [
      "SELFCAL - INFO : # Flagged channel(s) 13 in data chunk 04 #\n"
     ]
    },
    {
     "name": "stderr",
     "output_type": "stream",
     "text": [
      "SELFCAL - INFO : # Moved to directory /data/adebahr/apertif/7070708_M51/selfcal/05 #\n"
     ]
    },
    {
     "name": "stderr",
     "output_type": "stream",
     "text": [
      "SELFCAL - INFO : # Looking through data chunk 05 #\n"
     ]
    },
    {
     "name": "stderr",
     "output_type": "stream",
     "text": [
      "SELFCAL - INFO : # Found high noise in channel(s)  1 14 #\n"
     ]
    },
    {
     "name": "stderr",
     "output_type": "stream",
     "text": [
      "SELFCAL - INFO : # Flagged channel(s)  1 14 in data chunk 05 #\n"
     ]
    },
    {
     "name": "stderr",
     "output_type": "stream",
     "text": [
      "SELFCAL - INFO : # Moved to directory /data/adebahr/apertif/7070708_M51/selfcal/06 #\n"
     ]
    },
    {
     "name": "stderr",
     "output_type": "stream",
     "text": [
      "SELFCAL - INFO : # Looking through data chunk 06 #\n"
     ]
    },
    {
     "name": "stderr",
     "output_type": "stream",
     "text": [
      "SELFCAL - INFO : # Found high noise in channel(s) 0 #\n"
     ]
    },
    {
     "name": "stderr",
     "output_type": "stream",
     "text": [
      "SELFCAL - INFO : # Flagged channel(s) 0 in data chunk 06 #\n"
     ]
    },
    {
     "name": "stderr",
     "output_type": "stream",
     "text": [
      "SELFCAL - INFO : # Moved to directory /data/adebahr/apertif/7070708_M51/selfcal/07 #\n"
     ]
    },
    {
     "name": "stderr",
     "output_type": "stream",
     "text": [
      "SELFCAL - INFO : # Looking through data chunk 07 #\n"
     ]
    },
    {
     "name": "stderr",
     "output_type": "stream",
     "text": [
      "SELFCAL - INFO : # Found high noise in channel(s) 1 #\n"
     ]
    },
    {
     "name": "stderr",
     "output_type": "stream",
     "text": [
      "SELFCAL - INFO : # Flagged channel(s) 1 in data chunk 07 #\n"
     ]
    },
    {
     "name": "stderr",
     "output_type": "stream",
     "text": [
      "SELFCAL - INFO : ### Automatic flagging of HI-line/RFI done ###\n"
     ]
    },
    {
     "name": "stderr",
     "output_type": "stream",
     "text": [
      "SELFCAL - INFO : ### Parametric self calibration disabled ###\n"
     ]
    },
    {
     "name": "stderr",
     "output_type": "stream",
     "text": [
      "SELFCAL - INFO : # Moved to directory /data/adebahr/apertif/7070708_M51/selfcal #\n"
     ]
    },
    {
     "name": "stderr",
     "output_type": "stream",
     "text": [
      "SELFCAL - INFO : ### Starting standard self calibration routine ###\n"
     ]
    },
    {
     "name": "stderr",
     "output_type": "stream",
     "text": [
      "SELFCAL - INFO : # Starting standard self-calibration routine on frequency chunk 00 #\n"
     ]
    },
    {
     "name": "stderr",
     "output_type": "stream",
     "text": [
      "SELFCAL - INFO : # Moved to directory /data/adebahr/apertif/7070708_M51/selfcal/00 #\n"
     ]
    },
    {
     "name": "stderr",
     "output_type": "stream",
     "text": [
      "SELFCAL - INFO : # Theoretical noise for chunk 00 is 6.85e-05 Jy/beam #\n"
     ]
    },
    {
     "name": "stderr",
     "output_type": "stream",
     "text": [
      "SELFCAL - INFO : # Your theoretical noise threshold will be 50 times the theoretical noise corresponding to 0.003425 Jy/beam #\n"
     ]
    },
    {
     "name": "stderr",
     "output_type": "stream",
     "text": [
      "SELFCAL - INFO : # Your dynamic range limits are set to [25.0, 50.0, 100.0] for the major self-calibration cycles #\n"
     ]
    },
    {
     "name": "stderr",
     "output_type": "stream",
     "text": [
      "SELFCAL - INFO : # Major self-calibration cycle 0 for frequency chunk 00 started #\n"
     ]
    },
    {
     "name": "stderr",
     "output_type": "stream",
     "text": [
      "SELFCAL - INFO : # Creating directory /data/adebahr/apertif/7070708_M51/selfcal/00/00 #\n"
     ]
    },
    {
     "name": "stderr",
     "output_type": "stream",
     "text": [
      "SELFCAL - INFO : # The minor cycle dynamic range limits for major cycle 0 are [3.0, 1.5625, 6.25, 14.0625, 25.0] #\n"
     ]
    },
    {
     "name": "stderr",
     "output_type": "stream",
     "text": [
      "SELFCAL - INFO : # Minor self-calibration cycle 0 for frequency chunk 00 started #\n"
     ]
    },
    {
     "name": "stderr",
     "output_type": "stream",
     "text": [
      "SELFCAL - INFO : # Mask threshold for major/minor cycle 0/0 set to 0.0225441927711 Jy/beam #\n"
     ]
    },
    {
     "name": "stderr",
     "output_type": "stream",
     "text": [
      "SELFCAL - INFO : # Mask threshold set by Dynamic range threshold #\n"
     ]
    },
    {
     "name": "stderr",
     "output_type": "stream",
     "text": [
      "SELFCAL - INFO : # Mask with threshold 0.0225441927711 Jy/beam created #\n"
     ]
    },
    {
     "name": "stderr",
     "output_type": "stream",
     "text": [
      "SELFCAL - INFO : # Clean threshold at major/minor cycle 0/0 was set to 0.00450883855422 Jy/beam #\n"
     ]
    },
    {
     "name": "stderr",
     "output_type": "stream",
     "text": [
      "SELFCAL - INFO : # Major/minor cycle 0/0 cleaning done #\n"
     ]
    },
    {
     "name": "stderr",
     "output_type": "stream",
     "text": [
      "SELFCAL - INFO : # Cleaned image for major/minor cycle 0/0 created #\n"
     ]
    },
    {
     "name": "stderr",
     "output_type": "stream",
     "text": [
      "SELFCAL - INFO : # Residual image for major/minor cycle 0/0 created #\n"
     ]
    },
    {
     "name": "stderr",
     "output_type": "stream",
     "text": [
      "SELFCAL - INFO : # Peak of the residual image is 0.0236059 Jy/beam #\n"
     ]
    },
    {
     "name": "stderr",
     "output_type": "stream",
     "text": [
      "SELFCAL - INFO : # RMS of the residual image is 0.00151103 Jy/beam #\n"
     ]
    },
    {
     "name": "stderr",
     "output_type": "stream",
     "text": [
      "SELFCAL - INFO : # Minor self-calibration cycle 0 for frequency chunk 00 finished #\n"
     ]
    },
    {
     "name": "stderr",
     "output_type": "stream",
     "text": [
      "SELFCAL - INFO : # Minor self-calibration cycle 1 for frequency chunk 00 started #\n"
     ]
    },
    {
     "name": "stderr",
     "output_type": "stream",
     "text": [
      "SELFCAL - INFO : # Mask threshold for major/minor cycle 0/1 set to 0.0432848501205 Jy/beam #\n"
     ]
    },
    {
     "name": "stderr",
     "output_type": "stream",
     "text": [
      "SELFCAL - INFO : # Mask threshold set by Dynamic range threshold #\n"
     ]
    },
    {
     "name": "stderr",
     "output_type": "stream",
     "text": [
      "SELFCAL - INFO : # Mask with threshold 0.0432848501205 Jy/beam created #\n"
     ]
    },
    {
     "name": "stderr",
     "output_type": "stream",
     "text": [
      "SELFCAL - INFO : # Clean threshold at major/minor cycle 0/1 was set to 0.00865697002411 Jy/beam #\n"
     ]
    },
    {
     "name": "stderr",
     "output_type": "stream",
     "text": [
      "SELFCAL - INFO : # Major/minor cycle 0/1 cleaning done #\n"
     ]
    },
    {
     "name": "stderr",
     "output_type": "stream",
     "text": [
      "SELFCAL - INFO : # Cleaned image for major/minor cycle 0/1 created #\n"
     ]
    },
    {
     "name": "stderr",
     "output_type": "stream",
     "text": [
      "SELFCAL - INFO : # Residual image for major/minor cycle 0/1 created #\n"
     ]
    },
    {
     "name": "stderr",
     "output_type": "stream",
     "text": [
      "SELFCAL - INFO : # Peak of the residual image is 0.023415 Jy/beam #\n"
     ]
    },
    {
     "name": "stderr",
     "output_type": "stream",
     "text": [
      "SELFCAL - INFO : # RMS of the residual image is 0.00167232 Jy/beam #\n"
     ]
    },
    {
     "name": "stderr",
     "output_type": "stream",
     "text": [
      "SELFCAL - INFO : # Minor self-calibration cycle 1 for frequency chunk 00 finished #\n"
     ]
    },
    {
     "name": "stderr",
     "output_type": "stream",
     "text": [
      "SELFCAL - INFO : # Minor self-calibration cycle 2 for frequency chunk 00 started #\n"
     ]
    },
    {
     "name": "stderr",
     "output_type": "stream",
     "text": [
      "SELFCAL - INFO : # Mask threshold for major/minor cycle 0/2 set to 0.0108212125301 Jy/beam #\n"
     ]
    },
    {
     "name": "stderr",
     "output_type": "stream",
     "text": [
      "SELFCAL - INFO : # Mask threshold set by Dynamic range threshold #\n"
     ]
    },
    {
     "name": "stderr",
     "output_type": "stream",
     "text": [
      "SELFCAL - INFO : # Mask with threshold 0.0108212125301 Jy/beam created #\n"
     ]
    },
    {
     "name": "stderr",
     "output_type": "stream",
     "text": [
      "SELFCAL - INFO : # Clean threshold at major/minor cycle 0/2 was set to 0.00216424250603 Jy/beam #\n"
     ]
    },
    {
     "name": "stderr",
     "output_type": "stream",
     "text": [
      "SELFCAL - INFO : # Major/minor cycle 0/2 cleaning done #\n"
     ]
    },
    {
     "name": "stderr",
     "output_type": "stream",
     "text": [
      "SELFCAL - INFO : # Cleaned image for major/minor cycle 0/2 created #\n"
     ]
    },
    {
     "name": "stderr",
     "output_type": "stream",
     "text": [
      "SELFCAL - INFO : # Residual image for major/minor cycle 0/2 created #\n"
     ]
    },
    {
     "name": "stderr",
     "output_type": "stream",
     "text": [
      "SELFCAL - INFO : # Peak of the residual image is 0.0127492 Jy/beam #\n"
     ]
    },
    {
     "name": "stderr",
     "output_type": "stream",
     "text": [
      "SELFCAL - INFO : # RMS of the residual image is 0.00128931 Jy/beam #\n"
     ]
    },
    {
     "name": "stderr",
     "output_type": "stream",
     "text": [
      "SELFCAL - INFO : # Minor self-calibration cycle 2 for frequency chunk 00 finished #\n"
     ]
    },
    {
     "name": "stderr",
     "output_type": "stream",
     "text": [
      "SELFCAL - INFO : # Minor self-calibration cycle 3 for frequency chunk 00 started #\n"
     ]
    },
    {
     "name": "stderr",
     "output_type": "stream",
     "text": [
      "SELFCAL - INFO : # Mask threshold for major/minor cycle 0/3 set to 0.00480942779117 Jy/beam #\n"
     ]
    },
    {
     "name": "stderr",
     "output_type": "stream",
     "text": [
      "SELFCAL - INFO : # Mask threshold set by Dynamic range threshold #\n"
     ]
    },
    {
     "name": "stderr",
     "output_type": "stream",
     "text": [
      "SELFCAL - INFO : # Mask with threshold 0.00480942779117 Jy/beam created #\n"
     ]
    },
    {
     "name": "stderr",
     "output_type": "stream",
     "text": [
      "SELFCAL - INFO : # Clean threshold at major/minor cycle 0/3 was set to 0.000961885558234 Jy/beam #\n"
     ]
    },
    {
     "name": "stderr",
     "output_type": "stream",
     "text": [
      "SELFCAL - INFO : # Major/minor cycle 0/3 cleaning done #\n"
     ]
    },
    {
     "name": "stderr",
     "output_type": "stream",
     "text": [
      "SELFCAL - INFO : # Cleaned image for major/minor cycle 0/3 created #\n"
     ]
    },
    {
     "name": "stderr",
     "output_type": "stream",
     "text": [
      "SELFCAL - INFO : # Residual image for major/minor cycle 0/3 created #\n"
     ]
    },
    {
     "name": "stderr",
     "output_type": "stream",
     "text": [
      "SELFCAL - INFO : # Peak of the residual image is 0.00498919 Jy/beam #\n"
     ]
    },
    {
     "name": "stderr",
     "output_type": "stream",
     "text": [
      "SELFCAL - INFO : # RMS of the residual image is 0.000986178 Jy/beam #\n"
     ]
    },
    {
     "name": "stderr",
     "output_type": "stream",
     "text": [
      "SELFCAL - INFO : # Minor self-calibration cycle 3 for frequency chunk 00 finished #\n"
     ]
    },
    {
     "name": "stderr",
     "output_type": "stream",
     "text": [
      "SELFCAL - INFO : # Minor self-calibration cycle 4 for frequency chunk 00 started #\n"
     ]
    },
    {
     "name": "stderr",
     "output_type": "stream",
     "text": [
      "SELFCAL - INFO : # Mask threshold for major/minor cycle 0/4 set to 0.003425 Jy/beam #\n"
     ]
    },
    {
     "name": "stderr",
     "output_type": "stream",
     "text": [
      "SELFCAL - INFO : # Mask threshold set by Theoretical noise threshold #\n"
     ]
    },
    {
     "name": "stderr",
     "output_type": "stream",
     "text": [
      "SELFCAL - INFO : # Mask with threshold 0.003425 Jy/beam created #\n"
     ]
    },
    {
     "name": "stderr",
     "output_type": "stream",
     "text": [
      "SELFCAL - INFO : # Clean threshold at major/minor cycle 0/4 was set to 0.000685 Jy/beam #\n"
     ]
    },
    {
     "name": "stderr",
     "output_type": "stream",
     "text": [
      "SELFCAL - INFO : # Major/minor cycle 0/4 cleaning done #\n"
     ]
    },
    {
     "name": "stderr",
     "output_type": "stream",
     "text": [
      "SELFCAL - INFO : # Cleaned image for major/minor cycle 0/4 created #\n"
     ]
    },
    {
     "name": "stderr",
     "output_type": "stream",
     "text": [
      "SELFCAL - INFO : # Residual image for major/minor cycle 0/4 created #\n"
     ]
    },
    {
     "name": "stderr",
     "output_type": "stream",
     "text": [
      "SELFCAL - INFO : # Peak of the residual image is 0.0036682 Jy/beam #\n"
     ]
    },
    {
     "name": "stderr",
     "output_type": "stream",
     "text": [
      "SELFCAL - INFO : # RMS of the residual image is 0.000916233 Jy/beam #\n"
     ]
    },
    {
     "name": "stderr",
     "output_type": "stream",
     "text": [
      "SELFCAL - INFO : # Minor self-calibration cycle 4 for frequency chunk 00 finished #\n"
     ]
    },
    {
     "name": "stderr",
     "output_type": "stream",
     "text": [
      "SELFCAL - INFO : # Doing self-calibration with uvmin=0.0, uvmax=3000, solution interval=5 minutes for major cycle 00 #\n"
     ]
    },
    {
     "name": "stderr",
     "output_type": "stream",
     "text": [
      "SELFCAL - INFO : # Major self-calibration cycle 0 for frequency chunk 00 finished #\n"
     ]
    },
    {
     "name": "stderr",
     "output_type": "stream",
     "text": [
      "SELFCAL - INFO : # Major self-calibration cycle 1 for frequency chunk 00 started #\n"
     ]
    },
    {
     "name": "stderr",
     "output_type": "stream",
     "text": [
      "SELFCAL - INFO : # Creating directory /data/adebahr/apertif/7070708_M51/selfcal/00/01 #\n"
     ]
    },
    {
     "name": "stderr",
     "output_type": "stream",
     "text": [
      "SELFCAL - INFO : # The minor cycle dynamic range limits for major cycle 1 are [25.0, 26.5625, 31.25, 39.0625, 50.0] #\n"
     ]
    },
    {
     "name": "stderr",
     "output_type": "stream",
     "text": [
      "SELFCAL - INFO : # Minor self-calibration cycle 0 for frequency chunk 00 started #\n"
     ]
    },
    {
     "name": "stderr",
     "output_type": "stream",
     "text": [
      "SELFCAL - INFO : # Mask threshold for major/minor cycle 1/0 set to 0.00359449014068 Jy/beam #\n"
     ]
    },
    {
     "name": "stderr",
     "output_type": "stream",
     "text": [
      "SELFCAL - INFO : # Mask threshold set by Noise threshold #\n"
     ]
    },
    {
     "name": "stderr",
     "output_type": "stream",
     "text": [
      "SELFCAL - INFO : # Mask from last minor iteration of last major cycle copied #\n"
     ]
    },
    {
     "name": "stderr",
     "output_type": "stream",
     "text": [
      "SELFCAL - INFO : # Clean threshold at major/minor cycle 1/0 was set to 0.000718898028135 Jy/beam #\n"
     ]
    },
    {
     "name": "stderr",
     "output_type": "stream",
     "text": [
      "SELFCAL - INFO : # Major/minor cycle 1/0 cleaning done #\n"
     ]
    },
    {
     "name": "stderr",
     "output_type": "stream",
     "text": [
      "SELFCAL - INFO : # Cleaned image for major/minor cycle 1/0 created #\n"
     ]
    },
    {
     "name": "stderr",
     "output_type": "stream",
     "text": [
      "SELFCAL - INFO : # Residual image for major/minor cycle 1/0 created #\n"
     ]
    },
    {
     "name": "stderr",
     "output_type": "stream",
     "text": [
      "SELFCAL - INFO : # Peak of the residual image is 0.00419565 Jy/beam #\n"
     ]
    },
    {
     "name": "stderr",
     "output_type": "stream",
     "text": [
      "SELFCAL - INFO : # RMS of the residual image is 0.000853898 Jy/beam #\n"
     ]
    },
    {
     "name": "stderr",
     "output_type": "stream",
     "text": [
      "SELFCAL - INFO : # Minor self-calibration cycle 0 for frequency chunk 00 finished #\n"
     ]
    },
    {
     "name": "stderr",
     "output_type": "stream",
     "text": [
      "SELFCAL - INFO : # Minor self-calibration cycle 1 for frequency chunk 00 started #\n"
     ]
    },
    {
     "name": "stderr",
     "output_type": "stream",
     "text": [
      "SELFCAL - INFO : # Mask threshold for major/minor cycle 1/1 set to 0.003425 Jy/beam #\n"
     ]
    },
    {
     "name": "stderr",
     "output_type": "stream",
     "text": [
      "SELFCAL - INFO : # Mask threshold set by Theoretical noise threshold #\n"
     ]
    },
    {
     "name": "stderr",
     "output_type": "stream",
     "text": [
      "SELFCAL - INFO : # Mask with threshold 0.003425 Jy/beam created #\n"
     ]
    },
    {
     "name": "stderr",
     "output_type": "stream",
     "text": [
      "SELFCAL - INFO : # Clean threshold at major/minor cycle 1/1 was set to 0.000685 Jy/beam #\n"
     ]
    },
    {
     "name": "stderr",
     "output_type": "stream",
     "text": [
      "SELFCAL - INFO : # Major/minor cycle 1/1 cleaning done #\n"
     ]
    },
    {
     "name": "stderr",
     "output_type": "stream",
     "text": [
      "SELFCAL - INFO : # Cleaned image for major/minor cycle 1/1 created #\n"
     ]
    },
    {
     "name": "stderr",
     "output_type": "stream",
     "text": [
      "SELFCAL - INFO : # Residual image for major/minor cycle 1/1 created #\n"
     ]
    },
    {
     "name": "stderr",
     "output_type": "stream",
     "text": [
      "SELFCAL - INFO : # Peak of the residual image is 0.003835 Jy/beam #\n"
     ]
    },
    {
     "name": "stderr",
     "output_type": "stream",
     "text": [
      "SELFCAL - INFO : # RMS of the residual image is 0.000858294 Jy/beam #\n"
     ]
    },
    {
     "name": "stderr",
     "output_type": "stream",
     "text": [
      "SELFCAL - INFO : # Minor self-calibration cycle 1 for frequency chunk 00 finished #\n"
     ]
    },
    {
     "name": "stderr",
     "output_type": "stream",
     "text": [
      "SELFCAL - INFO : # Minor self-calibration cycle 2 for frequency chunk 00 started #\n"
     ]
    },
    {
     "name": "stderr",
     "output_type": "stream",
     "text": [
      "SELFCAL - INFO : # Mask threshold for major/minor cycle 1/2 set to 0.003425 Jy/beam #\n"
     ]
    },
    {
     "name": "stderr",
     "output_type": "stream",
     "text": [
      "SELFCAL - INFO : # Mask threshold set by Theoretical noise threshold #\n"
     ]
    },
    {
     "name": "stderr",
     "output_type": "stream",
     "text": [
      "SELFCAL - INFO : # Mask with threshold 0.003425 Jy/beam created #\n"
     ]
    },
    {
     "name": "stderr",
     "output_type": "stream",
     "text": [
      "SELFCAL - INFO : # Clean threshold at major/minor cycle 1/2 was set to 0.000685 Jy/beam #\n"
     ]
    },
    {
     "name": "stderr",
     "output_type": "stream",
     "text": [
      "SELFCAL - INFO : # Major/minor cycle 1/2 cleaning done #\n"
     ]
    },
    {
     "name": "stderr",
     "output_type": "stream",
     "text": [
      "SELFCAL - INFO : # Cleaned image for major/minor cycle 1/2 created #\n"
     ]
    },
    {
     "name": "stderr",
     "output_type": "stream",
     "text": [
      "SELFCAL - INFO : # Residual image for major/minor cycle 1/2 created #\n"
     ]
    },
    {
     "name": "stderr",
     "output_type": "stream",
     "text": [
      "SELFCAL - INFO : # Peak of the residual image is 0.00351934 Jy/beam #\n"
     ]
    },
    {
     "name": "stderr",
     "output_type": "stream",
     "text": [
      "SELFCAL - INFO : # RMS of the residual image is 0.000853378 Jy/beam #\n"
     ]
    },
    {
     "name": "stderr",
     "output_type": "stream",
     "text": [
      "SELFCAL - INFO : # Minor self-calibration cycle 2 for frequency chunk 00 finished #\n"
     ]
    },
    {
     "name": "stderr",
     "output_type": "stream",
     "text": [
      "SELFCAL - INFO : # Minor self-calibration cycle 3 for frequency chunk 00 started #\n"
     ]
    },
    {
     "name": "stderr",
     "output_type": "stream",
     "text": [
      "SELFCAL - INFO : # Mask threshold for major/minor cycle 1/3 set to 0.003425 Jy/beam #\n"
     ]
    },
    {
     "name": "stderr",
     "output_type": "stream",
     "text": [
      "SELFCAL - INFO : # Mask threshold set by Theoretical noise threshold #\n"
     ]
    },
    {
     "name": "stderr",
     "output_type": "stream",
     "text": [
      "SELFCAL - INFO : # Mask with threshold 0.003425 Jy/beam created #\n"
     ]
    },
    {
     "name": "stderr",
     "output_type": "stream",
     "text": [
      "SELFCAL - INFO : # Clean threshold at major/minor cycle 1/3 was set to 0.000685 Jy/beam #\n"
     ]
    },
    {
     "name": "stderr",
     "output_type": "stream",
     "text": [
      "SELFCAL - INFO : # Major/minor cycle 1/3 cleaning done #\n"
     ]
    },
    {
     "name": "stderr",
     "output_type": "stream",
     "text": [
      "SELFCAL - INFO : # Cleaned image for major/minor cycle 1/3 created #\n"
     ]
    },
    {
     "name": "stderr",
     "output_type": "stream",
     "text": [
      "SELFCAL - INFO : # Residual image for major/minor cycle 1/3 created #\n"
     ]
    },
    {
     "name": "stderr",
     "output_type": "stream",
     "text": [
      "SELFCAL - INFO : # Peak of the residual image is 0.00340285 Jy/beam #\n"
     ]
    },
    {
     "name": "stderr",
     "output_type": "stream",
     "text": [
      "SELFCAL - INFO : # RMS of the residual image is 0.000851007 Jy/beam #\n"
     ]
    },
    {
     "name": "stderr",
     "output_type": "stream",
     "text": [
      "SELFCAL - INFO : # Minor self-calibration cycle 3 for frequency chunk 00 finished #\n"
     ]
    },
    {
     "name": "stderr",
     "output_type": "stream",
     "text": [
      "SELFCAL - INFO : # Minor self-calibration cycle 4 for frequency chunk 00 started #\n"
     ]
    },
    {
     "name": "stderr",
     "output_type": "stream",
     "text": [
      "SELFCAL - INFO : # Mask threshold for major/minor cycle 1/4 set to 0.003425 Jy/beam #\n"
     ]
    },
    {
     "name": "stderr",
     "output_type": "stream",
     "text": [
      "SELFCAL - INFO : # Mask threshold set by Theoretical noise threshold #\n"
     ]
    },
    {
     "name": "stderr",
     "output_type": "stream",
     "text": [
      "SELFCAL - INFO : # Mask with threshold 0.003425 Jy/beam created #\n"
     ]
    },
    {
     "name": "stderr",
     "output_type": "stream",
     "text": [
      "SELFCAL - INFO : # Clean threshold at major/minor cycle 1/4 was set to 0.000685 Jy/beam #\n"
     ]
    },
    {
     "name": "stderr",
     "output_type": "stream",
     "text": [
      "SELFCAL - INFO : # Major/minor cycle 1/4 cleaning done #\n"
     ]
    },
    {
     "name": "stderr",
     "output_type": "stream",
     "text": [
      "SELFCAL - INFO : # Cleaned image for major/minor cycle 1/4 created #\n"
     ]
    },
    {
     "name": "stderr",
     "output_type": "stream",
     "text": [
      "SELFCAL - INFO : # Residual image for major/minor cycle 1/4 created #\n"
     ]
    },
    {
     "name": "stderr",
     "output_type": "stream",
     "text": [
      "SELFCAL - INFO : # Peak of the residual image is 0.00339707 Jy/beam #\n"
     ]
    },
    {
     "name": "stderr",
     "output_type": "stream",
     "text": [
      "SELFCAL - INFO : # RMS of the residual image is 0.000850064 Jy/beam #\n"
     ]
    },
    {
     "name": "stderr",
     "output_type": "stream",
     "text": [
      "SELFCAL - INFO : # Minor self-calibration cycle 4 for frequency chunk 00 finished #\n"
     ]
    },
    {
     "name": "stderr",
     "output_type": "stream",
     "text": [
      "SELFCAL - INFO : # Doing self-calibration with uvmin=0.0, uvmax=3000, solution interval=3 minutes for major cycle 01 #\n"
     ]
    },
    {
     "name": "stderr",
     "output_type": "stream",
     "text": [
      "SELFCAL - INFO : # Major self-calibration cycle 1 for frequency chunk 00 finished #\n"
     ]
    },
    {
     "name": "stderr",
     "output_type": "stream",
     "text": [
      "SELFCAL - INFO : # Major self-calibration cycle 2 for frequency chunk 00 started #\n"
     ]
    },
    {
     "name": "stderr",
     "output_type": "stream",
     "text": [
      "SELFCAL - INFO : # Creating directory /data/adebahr/apertif/7070708_M51/selfcal/00/02 #\n"
     ]
    },
    {
     "name": "stderr",
     "output_type": "stream",
     "text": [
      "SELFCAL - INFO : # The minor cycle dynamic range limits for major cycle 2 are [50.0, 53.125, 62.5, 78.125, 100.0] #\n"
     ]
    },
    {
     "name": "stderr",
     "output_type": "stream",
     "text": [
      "SELFCAL - INFO : # Minor self-calibration cycle 0 for frequency chunk 00 started #\n"
     ]
    },
    {
     "name": "stderr",
     "output_type": "stream",
     "text": [
      "SELFCAL - INFO : # Mask threshold for major/minor cycle 2/0 set to 0.003425 Jy/beam #\n"
     ]
    },
    {
     "name": "stderr",
     "output_type": "stream",
     "text": [
      "SELFCAL - INFO : # Mask threshold set by Theoretical noise threshold #\n"
     ]
    },
    {
     "name": "stderr",
     "output_type": "stream",
     "text": [
      "SELFCAL - INFO : # Mask from last minor iteration of last major cycle copied #\n"
     ]
    },
    {
     "name": "stderr",
     "output_type": "stream",
     "text": [
      "SELFCAL - INFO : # Clean threshold at major/minor cycle 2/0 was set to 0.000685 Jy/beam #\n"
     ]
    },
    {
     "name": "stderr",
     "output_type": "stream",
     "text": [
      "SELFCAL - INFO : # Major/minor cycle 2/0 cleaning done #\n"
     ]
    },
    {
     "name": "stderr",
     "output_type": "stream",
     "text": [
      "SELFCAL - INFO : # Cleaned image for major/minor cycle 2/0 created #\n"
     ]
    },
    {
     "name": "stderr",
     "output_type": "stream",
     "text": [
      "SELFCAL - INFO : # Residual image for major/minor cycle 2/0 created #\n"
     ]
    },
    {
     "name": "stderr",
     "output_type": "stream",
     "text": [
      "SELFCAL - INFO : # Peak of the residual image is 0.00355006 Jy/beam #\n"
     ]
    },
    {
     "name": "stderr",
     "output_type": "stream",
     "text": [
      "SELFCAL - INFO : # RMS of the residual image is 0.000827693 Jy/beam #\n"
     ]
    },
    {
     "name": "stderr",
     "output_type": "stream",
     "text": [
      "SELFCAL - INFO : # Minor self-calibration cycle 0 for frequency chunk 00 finished #\n"
     ]
    },
    {
     "name": "stderr",
     "output_type": "stream",
     "text": [
      "SELFCAL - INFO : # Minor self-calibration cycle 1 for frequency chunk 00 started #\n"
     ]
    },
    {
     "name": "stderr",
     "output_type": "stream",
     "text": [
      "SELFCAL - INFO : # Mask threshold for major/minor cycle 2/1 set to 0.003425 Jy/beam #\n"
     ]
    },
    {
     "name": "stderr",
     "output_type": "stream",
     "text": [
      "SELFCAL - INFO : # Mask threshold set by Theoretical noise threshold #\n"
     ]
    },
    {
     "name": "stderr",
     "output_type": "stream",
     "text": [
      "SELFCAL - INFO : # Mask with threshold 0.003425 Jy/beam created #\n"
     ]
    },
    {
     "name": "stderr",
     "output_type": "stream",
     "text": [
      "SELFCAL - INFO : # Clean threshold at major/minor cycle 2/1 was set to 0.000685 Jy/beam #\n"
     ]
    },
    {
     "name": "stderr",
     "output_type": "stream",
     "text": [
      "SELFCAL - INFO : # Major/minor cycle 2/1 cleaning done #\n"
     ]
    },
    {
     "name": "stderr",
     "output_type": "stream",
     "text": [
      "SELFCAL - INFO : # Cleaned image for major/minor cycle 2/1 created #\n"
     ]
    },
    {
     "name": "stderr",
     "output_type": "stream",
     "text": [
      "SELFCAL - INFO : # Residual image for major/minor cycle 2/1 created #\n"
     ]
    },
    {
     "name": "stderr",
     "output_type": "stream",
     "text": [
      "SELFCAL - INFO : # Peak of the residual image is 0.00341464 Jy/beam #\n"
     ]
    },
    {
     "name": "stderr",
     "output_type": "stream",
     "text": [
      "SELFCAL - INFO : # RMS of the residual image is 0.000821796 Jy/beam #\n"
     ]
    },
    {
     "name": "stderr",
     "output_type": "stream",
     "text": [
      "SELFCAL - INFO : # Minor self-calibration cycle 1 for frequency chunk 00 finished #\n"
     ]
    },
    {
     "name": "stderr",
     "output_type": "stream",
     "text": [
      "SELFCAL - INFO : # Minor self-calibration cycle 2 for frequency chunk 00 started #\n"
     ]
    },
    {
     "name": "stderr",
     "output_type": "stream",
     "text": [
      "SELFCAL - INFO : # Mask threshold for major/minor cycle 2/2 set to 0.003425 Jy/beam #\n"
     ]
    },
    {
     "name": "stderr",
     "output_type": "stream",
     "text": [
      "SELFCAL - INFO : # Mask threshold set by Theoretical noise threshold #\n"
     ]
    },
    {
     "name": "stderr",
     "output_type": "stream",
     "text": [
      "SELFCAL - INFO : # Mask with threshold 0.003425 Jy/beam created #\n"
     ]
    },
    {
     "name": "stderr",
     "output_type": "stream",
     "text": [
      "SELFCAL - INFO : # Clean threshold at major/minor cycle 2/2 was set to 0.000685 Jy/beam #\n"
     ]
    },
    {
     "name": "stderr",
     "output_type": "stream",
     "text": [
      "SELFCAL - INFO : # Major/minor cycle 2/2 cleaning done #\n"
     ]
    },
    {
     "name": "stderr",
     "output_type": "stream",
     "text": [
      "SELFCAL - INFO : # Cleaned image for major/minor cycle 2/2 created #\n"
     ]
    },
    {
     "name": "stderr",
     "output_type": "stream",
     "text": [
      "SELFCAL - INFO : # Residual image for major/minor cycle 2/2 created #\n"
     ]
    },
    {
     "name": "stderr",
     "output_type": "stream",
     "text": [
      "SELFCAL - INFO : # Peak of the residual image is 0.00340337 Jy/beam #\n"
     ]
    },
    {
     "name": "stderr",
     "output_type": "stream",
     "text": [
      "SELFCAL - INFO : # RMS of the residual image is 0.000821558 Jy/beam #\n"
     ]
    },
    {
     "name": "stderr",
     "output_type": "stream",
     "text": [
      "SELFCAL - INFO : # Minor self-calibration cycle 2 for frequency chunk 00 finished #\n"
     ]
    },
    {
     "name": "stderr",
     "output_type": "stream",
     "text": [
      "SELFCAL - INFO : # Minor self-calibration cycle 3 for frequency chunk 00 started #\n"
     ]
    },
    {
     "name": "stderr",
     "output_type": "stream",
     "text": [
      "SELFCAL - INFO : # Mask threshold for major/minor cycle 2/3 set to 0.003425 Jy/beam #\n"
     ]
    },
    {
     "name": "stderr",
     "output_type": "stream",
     "text": [
      "SELFCAL - INFO : # Mask threshold set by Theoretical noise threshold #\n"
     ]
    },
    {
     "name": "stderr",
     "output_type": "stream",
     "text": [
      "SELFCAL - INFO : # Mask with threshold 0.003425 Jy/beam created #\n"
     ]
    },
    {
     "name": "stderr",
     "output_type": "stream",
     "text": [
      "SELFCAL - INFO : # Clean threshold at major/minor cycle 2/3 was set to 0.000685 Jy/beam #\n"
     ]
    },
    {
     "name": "stderr",
     "output_type": "stream",
     "text": [
      "SELFCAL - INFO : # Major/minor cycle 2/3 cleaning done #\n"
     ]
    },
    {
     "name": "stderr",
     "output_type": "stream",
     "text": [
      "SELFCAL - INFO : # Cleaned image for major/minor cycle 2/3 created #\n"
     ]
    },
    {
     "name": "stderr",
     "output_type": "stream",
     "text": [
      "SELFCAL - INFO : # Residual image for major/minor cycle 2/3 created #\n"
     ]
    },
    {
     "name": "stderr",
     "output_type": "stream",
     "text": [
      "SELFCAL - INFO : # Peak of the residual image is 0.0034208 Jy/beam #\n"
     ]
    },
    {
     "name": "stderr",
     "output_type": "stream",
     "text": [
      "SELFCAL - INFO : # RMS of the residual image is 0.000821119 Jy/beam #\n"
     ]
    },
    {
     "name": "stderr",
     "output_type": "stream",
     "text": [
      "SELFCAL - INFO : # Minor self-calibration cycle 3 for frequency chunk 00 finished #\n"
     ]
    },
    {
     "name": "stderr",
     "output_type": "stream",
     "text": [
      "SELFCAL - INFO : # Minor self-calibration cycle 4 for frequency chunk 00 started #\n"
     ]
    },
    {
     "name": "stderr",
     "output_type": "stream",
     "text": [
      "SELFCAL - INFO : # Mask threshold for major/minor cycle 2/4 set to 0.003425 Jy/beam #\n"
     ]
    },
    {
     "name": "stderr",
     "output_type": "stream",
     "text": [
      "SELFCAL - INFO : # Mask threshold set by Theoretical noise threshold #\n"
     ]
    },
    {
     "name": "stderr",
     "output_type": "stream",
     "text": [
      "SELFCAL - INFO : # Mask with threshold 0.003425 Jy/beam created #\n"
     ]
    },
    {
     "name": "stderr",
     "output_type": "stream",
     "text": [
      "SELFCAL - INFO : # Clean threshold at major/minor cycle 2/4 was set to 0.000685 Jy/beam #\n"
     ]
    },
    {
     "name": "stderr",
     "output_type": "stream",
     "text": [
      "SELFCAL - INFO : # Major/minor cycle 2/4 cleaning done #\n"
     ]
    },
    {
     "name": "stderr",
     "output_type": "stream",
     "text": [
      "SELFCAL - INFO : # Cleaned image for major/minor cycle 2/4 created #\n"
     ]
    },
    {
     "name": "stderr",
     "output_type": "stream",
     "text": [
      "SELFCAL - INFO : # Residual image for major/minor cycle 2/4 created #\n"
     ]
    },
    {
     "name": "stderr",
     "output_type": "stream",
     "text": [
      "SELFCAL - INFO : # Peak of the residual image is 0.00340668 Jy/beam #\n"
     ]
    },
    {
     "name": "stderr",
     "output_type": "stream",
     "text": [
      "SELFCAL - INFO : # RMS of the residual image is 0.000820811 Jy/beam #\n"
     ]
    },
    {
     "name": "stderr",
     "output_type": "stream",
     "text": [
      "SELFCAL - INFO : # Minor self-calibration cycle 4 for frequency chunk 00 finished #\n"
     ]
    },
    {
     "name": "stderr",
     "output_type": "stream",
     "text": [
      "SELFCAL - INFO : # Doing self-calibration with uvmin=0.0, uvmax=3000, solution interval=0.5 minutes for major cycle 02 #\n"
     ]
    },
    {
     "name": "stderr",
     "output_type": "stream",
     "text": [
      "SELFCAL - INFO : # Major self-calibration cycle 2 for frequency chunk 00 finished #\n"
     ]
    },
    {
     "name": "stderr",
     "output_type": "stream",
     "text": [
      "SELFCAL - INFO : # Standard self-calibration routine for chunk 00 finished #\n"
     ]
    },
    {
     "name": "stderr",
     "output_type": "stream",
     "text": [
      "SELFCAL - INFO : # Starting standard self-calibration routine on frequency chunk 01 #\n"
     ]
    },
    {
     "name": "stderr",
     "output_type": "stream",
     "text": [
      "SELFCAL - INFO : # Moved to directory /data/adebahr/apertif/7070708_M51/selfcal/01 #\n"
     ]
    },
    {
     "name": "stderr",
     "output_type": "stream",
     "text": [
      "SELFCAL - INFO : # Theoretical noise for chunk 01 is 6.85e-05 Jy/beam #\n"
     ]
    },
    {
     "name": "stderr",
     "output_type": "stream",
     "text": [
      "SELFCAL - INFO : # Your theoretical noise threshold will be 50 times the theoretical noise corresponding to 0.003425 Jy/beam #\n"
     ]
    },
    {
     "name": "stderr",
     "output_type": "stream",
     "text": [
      "SELFCAL - INFO : # Your dynamic range limits are set to [25.0, 50.0, 100.0] for the major self-calibration cycles #\n"
     ]
    },
    {
     "name": "stderr",
     "output_type": "stream",
     "text": [
      "SELFCAL - INFO : # Major self-calibration cycle 0 for frequency chunk 01 started #\n"
     ]
    },
    {
     "name": "stderr",
     "output_type": "stream",
     "text": [
      "SELFCAL - INFO : # Creating directory /data/adebahr/apertif/7070708_M51/selfcal/01/00 #\n"
     ]
    },
    {
     "name": "stderr",
     "output_type": "stream",
     "text": [
      "SELFCAL - INFO : # The minor cycle dynamic range limits for major cycle 0 are [3.0, 1.5625, 6.25, 14.0625, 25.0] #\n"
     ]
    },
    {
     "name": "stderr",
     "output_type": "stream",
     "text": [
      "SELFCAL - INFO : # Minor self-calibration cycle 0 for frequency chunk 01 started #\n"
     ]
    },
    {
     "name": "stderr",
     "output_type": "stream",
     "text": [
      "SELFCAL - INFO : # Mask threshold for major/minor cycle 0/0 set to 0.0230574260155 Jy/beam #\n"
     ]
    },
    {
     "name": "stderr",
     "output_type": "stream",
     "text": [
      "SELFCAL - INFO : # Mask threshold set by Dynamic range threshold #\n"
     ]
    },
    {
     "name": "stderr",
     "output_type": "stream",
     "text": [
      "SELFCAL - INFO : # Mask with threshold 0.0230574260155 Jy/beam created #\n"
     ]
    },
    {
     "name": "stderr",
     "output_type": "stream",
     "text": [
      "SELFCAL - INFO : # Clean threshold at major/minor cycle 0/0 was set to 0.00461148520311 Jy/beam #\n"
     ]
    },
    {
     "name": "stderr",
     "output_type": "stream",
     "text": [
      "SELFCAL - INFO : # Major/minor cycle 0/0 cleaning done #\n"
     ]
    },
    {
     "name": "stderr",
     "output_type": "stream",
     "text": [
      "SELFCAL - INFO : # Cleaned image for major/minor cycle 0/0 created #\n"
     ]
    },
    {
     "name": "stderr",
     "output_type": "stream",
     "text": [
      "SELFCAL - INFO : # Residual image for major/minor cycle 0/0 created #\n"
     ]
    },
    {
     "name": "stderr",
     "output_type": "stream",
     "text": [
      "SELFCAL - INFO : # Peak of the residual image is 0.0212526 Jy/beam #\n"
     ]
    },
    {
     "name": "stderr",
     "output_type": "stream",
     "text": [
      "SELFCAL - INFO : # RMS of the residual image is 0.00153272 Jy/beam #\n"
     ]
    },
    {
     "name": "stderr",
     "output_type": "stream",
     "text": [
      "SELFCAL - INFO : # Minor self-calibration cycle 0 for frequency chunk 01 finished #\n"
     ]
    },
    {
     "name": "stderr",
     "output_type": "stream",
     "text": [
      "SELFCAL - INFO : # Minor self-calibration cycle 1 for frequency chunk 01 started #\n"
     ]
    },
    {
     "name": "stderr",
     "output_type": "stream",
     "text": [
      "SELFCAL - INFO : # Mask threshold for major/minor cycle 0/1 set to 0.0442702579498 Jy/beam #\n"
     ]
    },
    {
     "name": "stderr",
     "output_type": "stream",
     "text": [
      "SELFCAL - INFO : # Mask threshold set by Dynamic range threshold #\n"
     ]
    },
    {
     "name": "stderr",
     "output_type": "stream",
     "text": [
      "SELFCAL - INFO : # Mask with threshold 0.0442702579498 Jy/beam created #\n"
     ]
    },
    {
     "name": "stderr",
     "output_type": "stream",
     "text": [
      "SELFCAL - INFO : # Clean threshold at major/minor cycle 0/1 was set to 0.00885405158997 Jy/beam #\n"
     ]
    },
    {
     "name": "stderr",
     "output_type": "stream",
     "text": [
      "SELFCAL - INFO : # Major/minor cycle 0/1 cleaning done #\n"
     ]
    },
    {
     "name": "stderr",
     "output_type": "stream",
     "text": [
      "SELFCAL - INFO : # Cleaned image for major/minor cycle 0/1 created #\n"
     ]
    },
    {
     "name": "stderr",
     "output_type": "stream",
     "text": [
      "SELFCAL - INFO : # Residual image for major/minor cycle 0/1 created #\n"
     ]
    },
    {
     "name": "stderr",
     "output_type": "stream",
     "text": [
      "SELFCAL - INFO : # Peak of the residual image is 0.0238084 Jy/beam #\n"
     ]
    },
    {
     "name": "stderr",
     "output_type": "stream",
     "text": [
      "SELFCAL - INFO : # RMS of the residual image is 0.00166794 Jy/beam #\n"
     ]
    },
    {
     "name": "stderr",
     "output_type": "stream",
     "text": [
      "SELFCAL - INFO : # Minor self-calibration cycle 1 for frequency chunk 01 finished #\n"
     ]
    },
    {
     "name": "stderr",
     "output_type": "stream",
     "text": [
      "SELFCAL - INFO : # Minor self-calibration cycle 2 for frequency chunk 01 started #\n"
     ]
    },
    {
     "name": "stderr",
     "output_type": "stream",
     "text": [
      "SELFCAL - INFO : # Mask threshold for major/minor cycle 0/2 set to 0.0110675644875 Jy/beam #\n"
     ]
    },
    {
     "name": "stderr",
     "output_type": "stream",
     "text": [
      "SELFCAL - INFO : # Mask threshold set by Dynamic range threshold #\n"
     ]
    },
    {
     "name": "stderr",
     "output_type": "stream",
     "text": [
      "SELFCAL - INFO : # Mask with threshold 0.0110675644875 Jy/beam created #\n"
     ]
    },
    {
     "name": "stderr",
     "output_type": "stream",
     "text": [
      "SELFCAL - INFO : # Clean threshold at major/minor cycle 0/2 was set to 0.00221351289749 Jy/beam #\n"
     ]
    },
    {
     "name": "stderr",
     "output_type": "stream",
     "text": [
      "SELFCAL - INFO : # Major/minor cycle 0/2 cleaning done #\n"
     ]
    },
    {
     "name": "stderr",
     "output_type": "stream",
     "text": [
      "SELFCAL - INFO : # Cleaned image for major/minor cycle 0/2 created #\n"
     ]
    },
    {
     "name": "stderr",
     "output_type": "stream",
     "text": [
      "SELFCAL - INFO : # Residual image for major/minor cycle 0/2 created #\n"
     ]
    },
    {
     "name": "stderr",
     "output_type": "stream",
     "text": [
      "SELFCAL - INFO : # Peak of the residual image is 0.0109422 Jy/beam #\n"
     ]
    },
    {
     "name": "stderr",
     "output_type": "stream",
     "text": [
      "SELFCAL - INFO : # RMS of the residual image is 0.00127065 Jy/beam #\n"
     ]
    },
    {
     "name": "stderr",
     "output_type": "stream",
     "text": [
      "SELFCAL - INFO : # Minor self-calibration cycle 2 for frequency chunk 01 finished #\n"
     ]
    },
    {
     "name": "stderr",
     "output_type": "stream",
     "text": [
      "SELFCAL - INFO : # Minor self-calibration cycle 3 for frequency chunk 01 started #\n"
     ]
    },
    {
     "name": "stderr",
     "output_type": "stream",
     "text": [
      "SELFCAL - INFO : # Mask threshold for major/minor cycle 0/3 set to 0.00491891754998 Jy/beam #\n"
     ]
    },
    {
     "name": "stderr",
     "output_type": "stream",
     "text": [
      "SELFCAL - INFO : # Mask threshold set by Dynamic range threshold #\n"
     ]
    },
    {
     "name": "stderr",
     "output_type": "stream",
     "text": [
      "SELFCAL - INFO : # Mask with threshold 0.00491891754998 Jy/beam created #\n"
     ]
    },
    {
     "name": "stderr",
     "output_type": "stream",
     "text": [
      "SELFCAL - INFO : # Clean threshold at major/minor cycle 0/3 was set to 0.000983783509996 Jy/beam #\n"
     ]
    },
    {
     "name": "stderr",
     "output_type": "stream",
     "text": [
      "SELFCAL - INFO : # Major/minor cycle 0/3 cleaning done #\n"
     ]
    },
    {
     "name": "stderr",
     "output_type": "stream",
     "text": [
      "SELFCAL - INFO : # Cleaned image for major/minor cycle 0/3 created #\n"
     ]
    },
    {
     "name": "stderr",
     "output_type": "stream",
     "text": [
      "SELFCAL - INFO : # Residual image for major/minor cycle 0/3 created #\n"
     ]
    },
    {
     "name": "stderr",
     "output_type": "stream",
     "text": [
      "SELFCAL - INFO : # Peak of the residual image is 0.00476974 Jy/beam #\n"
     ]
    },
    {
     "name": "stderr",
     "output_type": "stream",
     "text": [
      "SELFCAL - INFO : # RMS of the residual image is 0.00099473 Jy/beam #\n"
     ]
    },
    {
     "name": "stderr",
     "output_type": "stream",
     "text": [
      "SELFCAL - INFO : # Minor self-calibration cycle 3 for frequency chunk 01 finished #\n"
     ]
    },
    {
     "name": "stderr",
     "output_type": "stream",
     "text": [
      "SELFCAL - INFO : # Minor self-calibration cycle 4 for frequency chunk 01 started #\n"
     ]
    },
    {
     "name": "stderr",
     "output_type": "stream",
     "text": [
      "SELFCAL - INFO : # Mask threshold for major/minor cycle 0/4 set to 0.003425 Jy/beam #\n"
     ]
    },
    {
     "name": "stderr",
     "output_type": "stream",
     "text": [
      "SELFCAL - INFO : # Mask threshold set by Theoretical noise threshold #\n"
     ]
    },
    {
     "name": "stderr",
     "output_type": "stream",
     "text": [
      "SELFCAL - INFO : # Mask with threshold 0.003425 Jy/beam created #\n"
     ]
    },
    {
     "name": "stderr",
     "output_type": "stream",
     "text": [
      "SELFCAL - INFO : # Clean threshold at major/minor cycle 0/4 was set to 0.000685 Jy/beam #\n"
     ]
    },
    {
     "name": "stderr",
     "output_type": "stream",
     "text": [
      "SELFCAL - INFO : # Major/minor cycle 0/4 cleaning done #\n"
     ]
    },
    {
     "name": "stderr",
     "output_type": "stream",
     "text": [
      "SELFCAL - INFO : # Cleaned image for major/minor cycle 0/4 created #\n"
     ]
    },
    {
     "name": "stderr",
     "output_type": "stream",
     "text": [
      "SELFCAL - INFO : # Residual image for major/minor cycle 0/4 created #\n"
     ]
    },
    {
     "name": "stderr",
     "output_type": "stream",
     "text": [
      "SELFCAL - INFO : # Peak of the residual image is 0.00374913 Jy/beam #\n"
     ]
    },
    {
     "name": "stderr",
     "output_type": "stream",
     "text": [
      "SELFCAL - INFO : # RMS of the residual image is 0.000871244 Jy/beam #\n"
     ]
    },
    {
     "name": "stderr",
     "output_type": "stream",
     "text": [
      "SELFCAL - INFO : # Minor self-calibration cycle 4 for frequency chunk 01 finished #\n"
     ]
    },
    {
     "name": "stderr",
     "output_type": "stream",
     "text": [
      "SELFCAL - INFO : # Doing self-calibration with uvmin=0.0, uvmax=3000, solution interval=5 minutes for major cycle 00 #\n"
     ]
    },
    {
     "name": "stderr",
     "output_type": "stream",
     "text": [
      "SELFCAL - INFO : # Major self-calibration cycle 0 for frequency chunk 01 finished #\n"
     ]
    },
    {
     "name": "stderr",
     "output_type": "stream",
     "text": [
      "SELFCAL - INFO : # Major self-calibration cycle 1 for frequency chunk 01 started #\n"
     ]
    },
    {
     "name": "stderr",
     "output_type": "stream",
     "text": [
      "SELFCAL - INFO : # Creating directory /data/adebahr/apertif/7070708_M51/selfcal/01/01 #\n"
     ]
    },
    {
     "name": "stderr",
     "output_type": "stream",
     "text": [
      "SELFCAL - INFO : # The minor cycle dynamic range limits for major cycle 1 are [25.0, 26.5625, 31.25, 39.0625, 50.0] #\n"
     ]
    },
    {
     "name": "stderr",
     "output_type": "stream",
     "text": [
      "SELFCAL - INFO : # Minor self-calibration cycle 0 for frequency chunk 01 started #\n"
     ]
    },
    {
     "name": "stderr",
     "output_type": "stream",
     "text": [
      "SELFCAL - INFO : # Mask threshold for major/minor cycle 1/0 set to 0.00367084555328 Jy/beam #\n"
     ]
    },
    {
     "name": "stderr",
     "output_type": "stream",
     "text": [
      "SELFCAL - INFO : # Mask threshold set by Noise threshold #\n"
     ]
    },
    {
     "name": "stderr",
     "output_type": "stream",
     "text": [
      "SELFCAL - INFO : # Mask from last minor iteration of last major cycle copied #\n"
     ]
    },
    {
     "name": "stderr",
     "output_type": "stream",
     "text": [
      "SELFCAL - INFO : # Clean threshold at major/minor cycle 1/0 was set to 0.000734169110656 Jy/beam #\n"
     ]
    },
    {
     "name": "stderr",
     "output_type": "stream",
     "text": [
      "SELFCAL - INFO : # Major/minor cycle 1/0 cleaning done #\n"
     ]
    },
    {
     "name": "stderr",
     "output_type": "stream",
     "text": [
      "SELFCAL - INFO : # Cleaned image for major/minor cycle 1/0 created #\n"
     ]
    },
    {
     "name": "stderr",
     "output_type": "stream",
     "text": [
      "SELFCAL - INFO : # Residual image for major/minor cycle 1/0 created #\n"
     ]
    },
    {
     "name": "stderr",
     "output_type": "stream",
     "text": [
      "SELFCAL - INFO : # Peak of the residual image is 0.00411578 Jy/beam #\n"
     ]
    },
    {
     "name": "stderr",
     "output_type": "stream",
     "text": [
      "SELFCAL - INFO : # RMS of the residual image is 0.000807781 Jy/beam #\n"
     ]
    },
    {
     "name": "stderr",
     "output_type": "stream",
     "text": [
      "SELFCAL - INFO : # Minor self-calibration cycle 0 for frequency chunk 01 finished #\n"
     ]
    },
    {
     "name": "stderr",
     "output_type": "stream",
     "text": [
      "SELFCAL - INFO : # Minor self-calibration cycle 1 for frequency chunk 01 started #\n"
     ]
    },
    {
     "name": "stderr",
     "output_type": "stream",
     "text": [
      "SELFCAL - INFO : # Mask threshold for major/minor cycle 1/1 set to 0.003425 Jy/beam #\n"
     ]
    },
    {
     "name": "stderr",
     "output_type": "stream",
     "text": [
      "SELFCAL - INFO : # Mask threshold set by Theoretical noise threshold #\n"
     ]
    },
    {
     "name": "stderr",
     "output_type": "stream",
     "text": [
      "SELFCAL - INFO : # Mask with threshold 0.003425 Jy/beam created #\n"
     ]
    },
    {
     "name": "stderr",
     "output_type": "stream",
     "text": [
      "SELFCAL - INFO : # Clean threshold at major/minor cycle 1/1 was set to 0.000685 Jy/beam #\n"
     ]
    },
    {
     "name": "stderr",
     "output_type": "stream",
     "text": [
      "SELFCAL - INFO : # Major/minor cycle 1/1 cleaning done #\n"
     ]
    },
    {
     "name": "stderr",
     "output_type": "stream",
     "text": [
      "SELFCAL - INFO : # Cleaned image for major/minor cycle 1/1 created #\n"
     ]
    },
    {
     "name": "stderr",
     "output_type": "stream",
     "text": [
      "SELFCAL - INFO : # Residual image for major/minor cycle 1/1 created #\n"
     ]
    },
    {
     "name": "stderr",
     "output_type": "stream",
     "text": [
      "SELFCAL - INFO : # Peak of the residual image is 0.00350943 Jy/beam #\n"
     ]
    },
    {
     "name": "stderr",
     "output_type": "stream",
     "text": [
      "SELFCAL - INFO : # RMS of the residual image is 0.000823484 Jy/beam #\n"
     ]
    },
    {
     "name": "stderr",
     "output_type": "stream",
     "text": [
      "SELFCAL - INFO : # Minor self-calibration cycle 1 for frequency chunk 01 finished #\n"
     ]
    },
    {
     "name": "stderr",
     "output_type": "stream",
     "text": [
      "SELFCAL - INFO : # Minor self-calibration cycle 2 for frequency chunk 01 started #\n"
     ]
    },
    {
     "name": "stderr",
     "output_type": "stream",
     "text": [
      "SELFCAL - INFO : # Mask threshold for major/minor cycle 1/2 set to 0.003425 Jy/beam #\n"
     ]
    },
    {
     "name": "stderr",
     "output_type": "stream",
     "text": [
      "SELFCAL - INFO : # Mask threshold set by Theoretical noise threshold #\n"
     ]
    },
    {
     "name": "stderr",
     "output_type": "stream",
     "text": [
      "SELFCAL - INFO : # Mask with threshold 0.003425 Jy/beam created #\n"
     ]
    },
    {
     "name": "stderr",
     "output_type": "stream",
     "text": [
      "SELFCAL - INFO : # Clean threshold at major/minor cycle 1/2 was set to 0.000685 Jy/beam #\n"
     ]
    },
    {
     "name": "stderr",
     "output_type": "stream",
     "text": [
      "SELFCAL - INFO : # Major/minor cycle 1/2 cleaning done #\n"
     ]
    },
    {
     "name": "stderr",
     "output_type": "stream",
     "text": [
      "SELFCAL - INFO : # Cleaned image for major/minor cycle 1/2 created #\n"
     ]
    },
    {
     "name": "stderr",
     "output_type": "stream",
     "text": [
      "SELFCAL - INFO : # Residual image for major/minor cycle 1/2 created #\n"
     ]
    },
    {
     "name": "stderr",
     "output_type": "stream",
     "text": [
      "SELFCAL - INFO : # Peak of the residual image is 0.00340448 Jy/beam #\n"
     ]
    },
    {
     "name": "stderr",
     "output_type": "stream",
     "text": [
      "SELFCAL - INFO : # RMS of the residual image is 0.000812539 Jy/beam #\n"
     ]
    },
    {
     "name": "stderr",
     "output_type": "stream",
     "text": [
      "SELFCAL - INFO : # Minor self-calibration cycle 2 for frequency chunk 01 finished #\n"
     ]
    },
    {
     "name": "stderr",
     "output_type": "stream",
     "text": [
      "SELFCAL - INFO : # Minor self-calibration cycle 3 for frequency chunk 01 started #\n"
     ]
    },
    {
     "name": "stderr",
     "output_type": "stream",
     "text": [
      "SELFCAL - INFO : # Mask threshold for major/minor cycle 1/3 set to 0.003425 Jy/beam #\n"
     ]
    },
    {
     "name": "stderr",
     "output_type": "stream",
     "text": [
      "SELFCAL - INFO : # Mask threshold set by Theoretical noise threshold #\n"
     ]
    },
    {
     "name": "stderr",
     "output_type": "stream",
     "text": [
      "SELFCAL - INFO : # Mask with threshold 0.003425 Jy/beam created #\n"
     ]
    },
    {
     "name": "stderr",
     "output_type": "stream",
     "text": [
      "SELFCAL - INFO : # Clean threshold at major/minor cycle 1/3 was set to 0.000685 Jy/beam #\n"
     ]
    },
    {
     "name": "stderr",
     "output_type": "stream",
     "text": [
      "SELFCAL - INFO : # Major/minor cycle 1/3 cleaning done #\n"
     ]
    },
    {
     "name": "stderr",
     "output_type": "stream",
     "text": [
      "SELFCAL - INFO : # Cleaned image for major/minor cycle 1/3 created #\n"
     ]
    },
    {
     "name": "stderr",
     "output_type": "stream",
     "text": [
      "SELFCAL - INFO : # Residual image for major/minor cycle 1/3 created #\n"
     ]
    },
    {
     "name": "stderr",
     "output_type": "stream",
     "text": [
      "SELFCAL - INFO : # Peak of the residual image is 0.00347636 Jy/beam #\n"
     ]
    },
    {
     "name": "stderr",
     "output_type": "stream",
     "text": [
      "SELFCAL - INFO : # RMS of the residual image is 0.000813709 Jy/beam #\n"
     ]
    },
    {
     "name": "stderr",
     "output_type": "stream",
     "text": [
      "SELFCAL - INFO : # Minor self-calibration cycle 3 for frequency chunk 01 finished #\n"
     ]
    },
    {
     "name": "stderr",
     "output_type": "stream",
     "text": [
      "SELFCAL - INFO : # Minor self-calibration cycle 4 for frequency chunk 01 started #\n"
     ]
    },
    {
     "name": "stderr",
     "output_type": "stream",
     "text": [
      "SELFCAL - INFO : # Mask threshold for major/minor cycle 1/4 set to 0.003425 Jy/beam #\n"
     ]
    },
    {
     "name": "stderr",
     "output_type": "stream",
     "text": [
      "SELFCAL - INFO : # Mask threshold set by Theoretical noise threshold #\n"
     ]
    },
    {
     "name": "stderr",
     "output_type": "stream",
     "text": [
      "SELFCAL - INFO : # Mask with threshold 0.003425 Jy/beam created #\n"
     ]
    },
    {
     "name": "stderr",
     "output_type": "stream",
     "text": [
      "SELFCAL - INFO : # Clean threshold at major/minor cycle 1/4 was set to 0.000685 Jy/beam #\n"
     ]
    },
    {
     "name": "stderr",
     "output_type": "stream",
     "text": [
      "SELFCAL - INFO : # Major/minor cycle 1/4 cleaning done #\n"
     ]
    },
    {
     "name": "stderr",
     "output_type": "stream",
     "text": [
      "SELFCAL - INFO : # Cleaned image for major/minor cycle 1/4 created #\n"
     ]
    },
    {
     "name": "stderr",
     "output_type": "stream",
     "text": [
      "SELFCAL - INFO : # Residual image for major/minor cycle 1/4 created #\n"
     ]
    },
    {
     "name": "stderr",
     "output_type": "stream",
     "text": [
      "SELFCAL - INFO : # Peak of the residual image is 0.00330489 Jy/beam #\n"
     ]
    },
    {
     "name": "stderr",
     "output_type": "stream",
     "text": [
      "SELFCAL - INFO : # RMS of the residual image is 0.000811207 Jy/beam #\n"
     ]
    },
    {
     "name": "stderr",
     "output_type": "stream",
     "text": [
      "SELFCAL - INFO : # Minor self-calibration cycle 4 for frequency chunk 01 finished #\n"
     ]
    },
    {
     "name": "stderr",
     "output_type": "stream",
     "text": [
      "SELFCAL - INFO : # Doing self-calibration with uvmin=0.0, uvmax=3000, solution interval=3 minutes for major cycle 01 #\n"
     ]
    },
    {
     "name": "stderr",
     "output_type": "stream",
     "text": [
      "SELFCAL - INFO : # Major self-calibration cycle 1 for frequency chunk 01 finished #\n"
     ]
    },
    {
     "name": "stderr",
     "output_type": "stream",
     "text": [
      "SELFCAL - INFO : # Major self-calibration cycle 2 for frequency chunk 01 started #\n"
     ]
    },
    {
     "name": "stderr",
     "output_type": "stream",
     "text": [
      "SELFCAL - INFO : # Creating directory /data/adebahr/apertif/7070708_M51/selfcal/01/02 #\n"
     ]
    },
    {
     "name": "stderr",
     "output_type": "stream",
     "text": [
      "SELFCAL - INFO : # The minor cycle dynamic range limits for major cycle 2 are [50.0, 53.125, 62.5, 78.125, 100.0] #\n"
     ]
    },
    {
     "name": "stderr",
     "output_type": "stream",
     "text": [
      "SELFCAL - INFO : # Minor self-calibration cycle 0 for frequency chunk 01 started #\n"
     ]
    },
    {
     "name": "stderr",
     "output_type": "stream",
     "text": [
      "SELFCAL - INFO : # Mask threshold for major/minor cycle 2/0 set to 0.003425 Jy/beam #\n"
     ]
    },
    {
     "name": "stderr",
     "output_type": "stream",
     "text": [
      "SELFCAL - INFO : # Mask threshold set by Theoretical noise threshold #\n"
     ]
    },
    {
     "name": "stderr",
     "output_type": "stream",
     "text": [
      "SELFCAL - INFO : # Mask from last minor iteration of last major cycle copied #\n"
     ]
    },
    {
     "name": "stderr",
     "output_type": "stream",
     "text": [
      "SELFCAL - INFO : # Clean threshold at major/minor cycle 2/0 was set to 0.000685 Jy/beam #\n"
     ]
    },
    {
     "name": "stderr",
     "output_type": "stream",
     "text": [
      "SELFCAL - INFO : # Major/minor cycle 2/0 cleaning done #\n"
     ]
    },
    {
     "name": "stderr",
     "output_type": "stream",
     "text": [
      "SELFCAL - INFO : # Cleaned image for major/minor cycle 2/0 created #\n"
     ]
    },
    {
     "name": "stderr",
     "output_type": "stream",
     "text": [
      "SELFCAL - INFO : # Residual image for major/minor cycle 2/0 created #\n"
     ]
    },
    {
     "name": "stderr",
     "output_type": "stream",
     "text": [
      "SELFCAL - INFO : # Peak of the residual image is 0.00342956 Jy/beam #\n"
     ]
    },
    {
     "name": "stderr",
     "output_type": "stream",
     "text": [
      "SELFCAL - INFO : # RMS of the residual image is 0.000769243 Jy/beam #\n"
     ]
    },
    {
     "name": "stderr",
     "output_type": "stream",
     "text": [
      "SELFCAL - INFO : # Minor self-calibration cycle 0 for frequency chunk 01 finished #\n"
     ]
    },
    {
     "name": "stderr",
     "output_type": "stream",
     "text": [
      "SELFCAL - INFO : # Minor self-calibration cycle 1 for frequency chunk 01 started #\n"
     ]
    },
    {
     "name": "stderr",
     "output_type": "stream",
     "text": [
      "SELFCAL - INFO : # Mask threshold for major/minor cycle 2/1 set to 0.003425 Jy/beam #\n"
     ]
    },
    {
     "name": "stderr",
     "output_type": "stream",
     "text": [
      "SELFCAL - INFO : # Mask threshold set by Theoretical noise threshold #\n"
     ]
    },
    {
     "name": "stderr",
     "output_type": "stream",
     "text": [
      "SELFCAL - INFO : # Mask with threshold 0.003425 Jy/beam created #\n"
     ]
    },
    {
     "name": "stderr",
     "output_type": "stream",
     "text": [
      "SELFCAL - INFO : # Clean threshold at major/minor cycle 2/1 was set to 0.000685 Jy/beam #\n"
     ]
    },
    {
     "name": "stderr",
     "output_type": "stream",
     "text": [
      "SELFCAL - INFO : # Major/minor cycle 2/1 cleaning done #\n"
     ]
    },
    {
     "name": "stderr",
     "output_type": "stream",
     "text": [
      "SELFCAL - INFO : # Cleaned image for major/minor cycle 2/1 created #\n"
     ]
    },
    {
     "name": "stderr",
     "output_type": "stream",
     "text": [
      "SELFCAL - INFO : # Residual image for major/minor cycle 2/1 created #\n"
     ]
    },
    {
     "name": "stderr",
     "output_type": "stream",
     "text": [
      "SELFCAL - INFO : # Peak of the residual image is 0.00333127 Jy/beam #\n"
     ]
    },
    {
     "name": "stderr",
     "output_type": "stream",
     "text": [
      "SELFCAL - INFO : # RMS of the residual image is 0.000772135 Jy/beam #\n"
     ]
    },
    {
     "name": "stderr",
     "output_type": "stream",
     "text": [
      "SELFCAL - INFO : # Minor self-calibration cycle 1 for frequency chunk 01 finished #\n"
     ]
    },
    {
     "name": "stderr",
     "output_type": "stream",
     "text": [
      "SELFCAL - INFO : # Minor self-calibration cycle 2 for frequency chunk 01 started #\n"
     ]
    },
    {
     "name": "stderr",
     "output_type": "stream",
     "text": [
      "SELFCAL - INFO : # Mask threshold for major/minor cycle 2/2 set to 0.003425 Jy/beam #\n"
     ]
    },
    {
     "name": "stderr",
     "output_type": "stream",
     "text": [
      "SELFCAL - INFO : # Mask threshold set by Theoretical noise threshold #\n"
     ]
    },
    {
     "name": "stderr",
     "output_type": "stream",
     "text": [
      "SELFCAL - INFO : # Mask with threshold 0.003425 Jy/beam created #\n"
     ]
    },
    {
     "name": "stderr",
     "output_type": "stream",
     "text": [
      "SELFCAL - INFO : # Clean threshold at major/minor cycle 2/2 was set to 0.000685 Jy/beam #\n"
     ]
    },
    {
     "name": "stderr",
     "output_type": "stream",
     "text": [
      "SELFCAL - INFO : # Major/minor cycle 2/2 cleaning done #\n"
     ]
    },
    {
     "name": "stderr",
     "output_type": "stream",
     "text": [
      "SELFCAL - INFO : # Cleaned image for major/minor cycle 2/2 created #\n"
     ]
    },
    {
     "name": "stderr",
     "output_type": "stream",
     "text": [
      "SELFCAL - INFO : # Residual image for major/minor cycle 2/2 created #\n"
     ]
    },
    {
     "name": "stderr",
     "output_type": "stream",
     "text": [
      "SELFCAL - INFO : # Peak of the residual image is 0.00331268 Jy/beam #\n"
     ]
    },
    {
     "name": "stderr",
     "output_type": "stream",
     "text": [
      "SELFCAL - INFO : # RMS of the residual image is 0.000771565 Jy/beam #\n"
     ]
    },
    {
     "name": "stderr",
     "output_type": "stream",
     "text": [
      "SELFCAL - INFO : # Minor self-calibration cycle 2 for frequency chunk 01 finished #\n"
     ]
    },
    {
     "name": "stderr",
     "output_type": "stream",
     "text": [
      "SELFCAL - INFO : # Minor self-calibration cycle 3 for frequency chunk 01 started #\n"
     ]
    },
    {
     "name": "stderr",
     "output_type": "stream",
     "text": [
      "SELFCAL - INFO : # Mask threshold for major/minor cycle 2/3 set to 0.003425 Jy/beam #\n"
     ]
    },
    {
     "name": "stderr",
     "output_type": "stream",
     "text": [
      "SELFCAL - INFO : # Mask threshold set by Theoretical noise threshold #\n"
     ]
    },
    {
     "name": "stderr",
     "output_type": "stream",
     "text": [
      "SELFCAL - INFO : # Mask with threshold 0.003425 Jy/beam created #\n"
     ]
    },
    {
     "name": "stderr",
     "output_type": "stream",
     "text": [
      "SELFCAL - INFO : # Clean threshold at major/minor cycle 2/3 was set to 0.000685 Jy/beam #\n"
     ]
    },
    {
     "name": "stderr",
     "output_type": "stream",
     "text": [
      "SELFCAL - INFO : # Major/minor cycle 2/3 cleaning done #\n"
     ]
    },
    {
     "name": "stderr",
     "output_type": "stream",
     "text": [
      "SELFCAL - INFO : # Cleaned image for major/minor cycle 2/3 created #\n"
     ]
    },
    {
     "name": "stderr",
     "output_type": "stream",
     "text": [
      "SELFCAL - INFO : # Residual image for major/minor cycle 2/3 created #\n"
     ]
    },
    {
     "name": "stderr",
     "output_type": "stream",
     "text": [
      "SELFCAL - INFO : # Peak of the residual image is 0.00330698 Jy/beam #\n"
     ]
    },
    {
     "name": "stderr",
     "output_type": "stream",
     "text": [
      "SELFCAL - INFO : # RMS of the residual image is 0.000771489 Jy/beam #\n"
     ]
    },
    {
     "name": "stderr",
     "output_type": "stream",
     "text": [
      "SELFCAL - INFO : # Minor self-calibration cycle 3 for frequency chunk 01 finished #\n"
     ]
    },
    {
     "name": "stderr",
     "output_type": "stream",
     "text": [
      "SELFCAL - INFO : # Minor self-calibration cycle 4 for frequency chunk 01 started #\n"
     ]
    },
    {
     "name": "stderr",
     "output_type": "stream",
     "text": [
      "SELFCAL - INFO : # Mask threshold for major/minor cycle 2/4 set to 0.003425 Jy/beam #\n"
     ]
    },
    {
     "name": "stderr",
     "output_type": "stream",
     "text": [
      "SELFCAL - INFO : # Mask threshold set by Theoretical noise threshold #\n"
     ]
    },
    {
     "name": "stderr",
     "output_type": "stream",
     "text": [
      "SELFCAL - INFO : # Mask with threshold 0.003425 Jy/beam created #\n"
     ]
    },
    {
     "name": "stderr",
     "output_type": "stream",
     "text": [
      "SELFCAL - INFO : # Clean threshold at major/minor cycle 2/4 was set to 0.000685 Jy/beam #\n"
     ]
    },
    {
     "name": "stderr",
     "output_type": "stream",
     "text": [
      "SELFCAL - INFO : # Major/minor cycle 2/4 cleaning done #\n"
     ]
    },
    {
     "name": "stderr",
     "output_type": "stream",
     "text": [
      "SELFCAL - INFO : # Cleaned image for major/minor cycle 2/4 created #\n"
     ]
    },
    {
     "name": "stderr",
     "output_type": "stream",
     "text": [
      "SELFCAL - INFO : # Residual image for major/minor cycle 2/4 created #\n"
     ]
    },
    {
     "name": "stderr",
     "output_type": "stream",
     "text": [
      "SELFCAL - INFO : # Peak of the residual image is 0.00330554 Jy/beam #\n"
     ]
    },
    {
     "name": "stderr",
     "output_type": "stream",
     "text": [
      "SELFCAL - INFO : # RMS of the residual image is 0.000771456 Jy/beam #\n"
     ]
    },
    {
     "name": "stderr",
     "output_type": "stream",
     "text": [
      "SELFCAL - INFO : # Minor self-calibration cycle 4 for frequency chunk 01 finished #\n"
     ]
    },
    {
     "name": "stderr",
     "output_type": "stream",
     "text": [
      "SELFCAL - INFO : # Doing self-calibration with uvmin=0.0, uvmax=3000, solution interval=0.5 minutes for major cycle 02 #\n"
     ]
    },
    {
     "name": "stderr",
     "output_type": "stream",
     "text": [
      "SELFCAL - INFO : # Major self-calibration cycle 2 for frequency chunk 01 finished #\n"
     ]
    },
    {
     "name": "stderr",
     "output_type": "stream",
     "text": [
      "SELFCAL - INFO : # Standard self-calibration routine for chunk 01 finished #\n"
     ]
    },
    {
     "name": "stderr",
     "output_type": "stream",
     "text": [
      "SELFCAL - INFO : # Starting standard self-calibration routine on frequency chunk 02 #\n"
     ]
    },
    {
     "name": "stderr",
     "output_type": "stream",
     "text": [
      "SELFCAL - INFO : # Moved to directory /data/adebahr/apertif/7070708_M51/selfcal/02 #\n"
     ]
    },
    {
     "name": "stderr",
     "output_type": "stream",
     "text": [
      "SELFCAL - INFO : # Theoretical noise for chunk 02 is 6.85e-05 Jy/beam #\n"
     ]
    },
    {
     "name": "stderr",
     "output_type": "stream",
     "text": [
      "SELFCAL - INFO : # Your theoretical noise threshold will be 50 times the theoretical noise corresponding to 0.003425 Jy/beam #\n"
     ]
    },
    {
     "name": "stderr",
     "output_type": "stream",
     "text": [
      "SELFCAL - INFO : # Your dynamic range limits are set to [25.0, 50.0, 100.0] for the major self-calibration cycles #\n"
     ]
    },
    {
     "name": "stderr",
     "output_type": "stream",
     "text": [
      "SELFCAL - INFO : # Major self-calibration cycle 0 for frequency chunk 02 started #\n"
     ]
    },
    {
     "name": "stderr",
     "output_type": "stream",
     "text": [
      "SELFCAL - INFO : # Creating directory /data/adebahr/apertif/7070708_M51/selfcal/02/00 #\n"
     ]
    },
    {
     "name": "stderr",
     "output_type": "stream",
     "text": [
      "SELFCAL - INFO : # The minor cycle dynamic range limits for major cycle 0 are [3.0, 1.5625, 6.25, 14.0625, 25.0] #\n"
     ]
    },
    {
     "name": "stderr",
     "output_type": "stream",
     "text": [
      "SELFCAL - INFO : # Minor self-calibration cycle 0 for frequency chunk 02 started #\n"
     ]
    },
    {
     "name": "stderr",
     "output_type": "stream",
     "text": [
      "SELFCAL - INFO : # Mask threshold for major/minor cycle 0/0 set to 0.0227291410168 Jy/beam #\n"
     ]
    },
    {
     "name": "stderr",
     "output_type": "stream",
     "text": [
      "SELFCAL - INFO : # Mask threshold set by Dynamic range threshold #\n"
     ]
    },
    {
     "name": "stderr",
     "output_type": "stream",
     "text": [
      "SELFCAL - INFO : # Mask with threshold 0.0227291410168 Jy/beam created #\n"
     ]
    },
    {
     "name": "stderr",
     "output_type": "stream",
     "text": [
      "SELFCAL - INFO : # Clean threshold at major/minor cycle 0/0 was set to 0.00454582820336 Jy/beam #\n"
     ]
    },
    {
     "name": "stderr",
     "output_type": "stream",
     "text": [
      "SELFCAL - INFO : # Major/minor cycle 0/0 cleaning done #\n"
     ]
    },
    {
     "name": "stderr",
     "output_type": "stream",
     "text": [
      "SELFCAL - INFO : # Cleaned image for major/minor cycle 0/0 created #\n"
     ]
    },
    {
     "name": "stderr",
     "output_type": "stream",
     "text": [
      "SELFCAL - INFO : # Residual image for major/minor cycle 0/0 created #\n"
     ]
    },
    {
     "name": "stderr",
     "output_type": "stream",
     "text": [
      "SELFCAL - INFO : # Peak of the residual image is 0.0213296 Jy/beam #\n"
     ]
    },
    {
     "name": "stderr",
     "output_type": "stream",
     "text": [
      "SELFCAL - INFO : # RMS of the residual image is 0.00142983 Jy/beam #\n"
     ]
    },
    {
     "name": "stderr",
     "output_type": "stream",
     "text": [
      "SELFCAL - INFO : # Minor self-calibration cycle 0 for frequency chunk 02 finished #\n"
     ]
    },
    {
     "name": "stderr",
     "output_type": "stream",
     "text": [
      "SELFCAL - INFO : # Minor self-calibration cycle 1 for frequency chunk 02 started #\n"
     ]
    },
    {
     "name": "stderr",
     "output_type": "stream",
     "text": [
      "SELFCAL - INFO : # Mask threshold for major/minor cycle 0/1 set to 0.0436399507523 Jy/beam #\n"
     ]
    },
    {
     "name": "stderr",
     "output_type": "stream",
     "text": [
      "SELFCAL - INFO : # Mask threshold set by Dynamic range threshold #\n"
     ]
    },
    {
     "name": "stderr",
     "output_type": "stream",
     "text": [
      "SELFCAL - INFO : # Mask with threshold 0.0436399507523 Jy/beam created #\n"
     ]
    },
    {
     "name": "stderr",
     "output_type": "stream",
     "text": [
      "SELFCAL - INFO : # Clean threshold at major/minor cycle 0/1 was set to 0.00872799015045 Jy/beam #\n"
     ]
    },
    {
     "name": "stderr",
     "output_type": "stream",
     "text": [
      "SELFCAL - INFO : # Major/minor cycle 0/1 cleaning done #\n"
     ]
    },
    {
     "name": "stderr",
     "output_type": "stream",
     "text": [
      "SELFCAL - INFO : # Cleaned image for major/minor cycle 0/1 created #\n"
     ]
    },
    {
     "name": "stderr",
     "output_type": "stream",
     "text": [
      "SELFCAL - INFO : # Residual image for major/minor cycle 0/1 created #\n"
     ]
    },
    {
     "name": "stderr",
     "output_type": "stream",
     "text": [
      "SELFCAL - INFO : # Peak of the residual image is 0.0212917 Jy/beam #\n"
     ]
    },
    {
     "name": "stderr",
     "output_type": "stream",
     "text": [
      "SELFCAL - INFO : # RMS of the residual image is 0.00156427 Jy/beam #\n"
     ]
    },
    {
     "name": "stderr",
     "output_type": "stream",
     "text": [
      "SELFCAL - INFO : # Minor self-calibration cycle 1 for frequency chunk 02 finished #\n"
     ]
    },
    {
     "name": "stderr",
     "output_type": "stream",
     "text": [
      "SELFCAL - INFO : # Minor self-calibration cycle 2 for frequency chunk 02 started #\n"
     ]
    },
    {
     "name": "stderr",
     "output_type": "stream",
     "text": [
      "SELFCAL - INFO : # Mask threshold for major/minor cycle 0/2 set to 0.0109099876881 Jy/beam #\n"
     ]
    },
    {
     "name": "stderr",
     "output_type": "stream",
     "text": [
      "SELFCAL - INFO : # Mask threshold set by Dynamic range threshold #\n"
     ]
    },
    {
     "name": "stderr",
     "output_type": "stream",
     "text": [
      "SELFCAL - INFO : # Mask with threshold 0.0109099876881 Jy/beam created #\n"
     ]
    },
    {
     "name": "stderr",
     "output_type": "stream",
     "text": [
      "SELFCAL - INFO : # Clean threshold at major/minor cycle 0/2 was set to 0.00218199753761 Jy/beam #\n"
     ]
    },
    {
     "name": "stderr",
     "output_type": "stream",
     "text": [
      "SELFCAL - INFO : # Major/minor cycle 0/2 cleaning done #\n"
     ]
    },
    {
     "name": "stderr",
     "output_type": "stream",
     "text": [
      "SELFCAL - INFO : # Cleaned image for major/minor cycle 0/2 created #\n"
     ]
    },
    {
     "name": "stderr",
     "output_type": "stream",
     "text": [
      "SELFCAL - INFO : # Residual image for major/minor cycle 0/2 created #\n"
     ]
    },
    {
     "name": "stderr",
     "output_type": "stream",
     "text": [
      "SELFCAL - INFO : # Peak of the residual image is 0.0110248 Jy/beam #\n"
     ]
    },
    {
     "name": "stderr",
     "output_type": "stream",
     "text": [
      "SELFCAL - INFO : # RMS of the residual image is 0.00117745 Jy/beam #\n"
     ]
    },
    {
     "name": "stderr",
     "output_type": "stream",
     "text": [
      "SELFCAL - INFO : # Minor self-calibration cycle 2 for frequency chunk 02 finished #\n"
     ]
    },
    {
     "name": "stderr",
     "output_type": "stream",
     "text": [
      "SELFCAL - INFO : # Minor self-calibration cycle 3 for frequency chunk 02 started #\n"
     ]
    },
    {
     "name": "stderr",
     "output_type": "stream",
     "text": [
      "SELFCAL - INFO : # Mask threshold for major/minor cycle 0/3 set to 0.00484888341692 Jy/beam #\n"
     ]
    },
    {
     "name": "stderr",
     "output_type": "stream",
     "text": [
      "SELFCAL - INFO : # Mask threshold set by Dynamic range threshold #\n"
     ]
    },
    {
     "name": "stderr",
     "output_type": "stream",
     "text": [
      "SELFCAL - INFO : # Mask with threshold 0.00484888341692 Jy/beam created #\n"
     ]
    },
    {
     "name": "stderr",
     "output_type": "stream",
     "text": [
      "SELFCAL - INFO : # Clean threshold at major/minor cycle 0/3 was set to 0.000969776683384 Jy/beam #\n"
     ]
    },
    {
     "name": "stderr",
     "output_type": "stream",
     "text": [
      "SELFCAL - INFO : # Major/minor cycle 0/3 cleaning done #\n"
     ]
    },
    {
     "name": "stderr",
     "output_type": "stream",
     "text": [
      "SELFCAL - INFO : # Cleaned image for major/minor cycle 0/3 created #\n"
     ]
    },
    {
     "name": "stderr",
     "output_type": "stream",
     "text": [
      "SELFCAL - INFO : # Residual image for major/minor cycle 0/3 created #\n"
     ]
    },
    {
     "name": "stderr",
     "output_type": "stream",
     "text": [
      "SELFCAL - INFO : # Peak of the residual image is 0.00555891 Jy/beam #\n"
     ]
    },
    {
     "name": "stderr",
     "output_type": "stream",
     "text": [
      "SELFCAL - INFO : # RMS of the residual image is 0.000977431 Jy/beam #\n"
     ]
    },
    {
     "name": "stderr",
     "output_type": "stream",
     "text": [
      "SELFCAL - INFO : # Minor self-calibration cycle 3 for frequency chunk 02 finished #\n"
     ]
    },
    {
     "name": "stderr",
     "output_type": "stream",
     "text": [
      "SELFCAL - INFO : # Minor self-calibration cycle 4 for frequency chunk 02 started #\n"
     ]
    },
    {
     "name": "stderr",
     "output_type": "stream",
     "text": [
      "SELFCAL - INFO : # Mask threshold for major/minor cycle 0/4 set to 0.003425 Jy/beam #\n"
     ]
    },
    {
     "name": "stderr",
     "output_type": "stream",
     "text": [
      "SELFCAL - INFO : # Mask threshold set by Theoretical noise threshold #\n"
     ]
    },
    {
     "name": "stderr",
     "output_type": "stream",
     "text": [
      "SELFCAL - INFO : # Mask with threshold 0.003425 Jy/beam created #\n"
     ]
    },
    {
     "name": "stderr",
     "output_type": "stream",
     "text": [
      "SELFCAL - INFO : # Clean threshold at major/minor cycle 0/4 was set to 0.000685 Jy/beam #\n"
     ]
    },
    {
     "name": "stderr",
     "output_type": "stream",
     "text": [
      "SELFCAL - INFO : # Major/minor cycle 0/4 cleaning done #\n"
     ]
    },
    {
     "name": "stderr",
     "output_type": "stream",
     "text": [
      "SELFCAL - INFO : # Cleaned image for major/minor cycle 0/4 created #\n"
     ]
    },
    {
     "name": "stderr",
     "output_type": "stream",
     "text": [
      "SELFCAL - INFO : # Residual image for major/minor cycle 0/4 created #\n"
     ]
    },
    {
     "name": "stderr",
     "output_type": "stream",
     "text": [
      "SELFCAL - INFO : # Peak of the residual image is 0.00421825 Jy/beam #\n"
     ]
    },
    {
     "name": "stderr",
     "output_type": "stream",
     "text": [
      "SELFCAL - INFO : # RMS of the residual image is 0.000845565 Jy/beam #\n"
     ]
    },
    {
     "name": "stderr",
     "output_type": "stream",
     "text": [
      "SELFCAL - INFO : # Minor self-calibration cycle 4 for frequency chunk 02 finished #\n"
     ]
    },
    {
     "name": "stderr",
     "output_type": "stream",
     "text": [
      "SELFCAL - INFO : # Doing self-calibration with uvmin=0.0, uvmax=3000, solution interval=5 minutes for major cycle 00 #\n"
     ]
    },
    {
     "name": "stderr",
     "output_type": "stream",
     "text": [
      "SELFCAL - INFO : # Major self-calibration cycle 0 for frequency chunk 02 finished #\n"
     ]
    },
    {
     "name": "stderr",
     "output_type": "stream",
     "text": [
      "SELFCAL - INFO : # Major self-calibration cycle 1 for frequency chunk 02 started #\n"
     ]
    },
    {
     "name": "stderr",
     "output_type": "stream",
     "text": [
      "SELFCAL - INFO : # Creating directory /data/adebahr/apertif/7070708_M51/selfcal/02/01 #\n"
     ]
    },
    {
     "name": "stderr",
     "output_type": "stream",
     "text": [
      "SELFCAL - INFO : # The minor cycle dynamic range limits for major cycle 1 are [25.0, 26.5625, 31.25, 39.0625, 50.0] #\n"
     ]
    },
    {
     "name": "stderr",
     "output_type": "stream",
     "text": [
      "SELFCAL - INFO : # Minor self-calibration cycle 0 for frequency chunk 02 started #\n"
     ]
    },
    {
     "name": "stderr",
     "output_type": "stream",
     "text": [
      "SELFCAL - INFO : # Mask threshold for major/minor cycle 1/0 set to 0.00367387011647 Jy/beam #\n"
     ]
    },
    {
     "name": "stderr",
     "output_type": "stream",
     "text": [
      "SELFCAL - INFO : # Mask threshold set by Noise threshold #\n"
     ]
    },
    {
     "name": "stderr",
     "output_type": "stream",
     "text": [
      "SELFCAL - INFO : # Mask from last minor iteration of last major cycle copied #\n"
     ]
    },
    {
     "name": "stderr",
     "output_type": "stream",
     "text": [
      "SELFCAL - INFO : # Clean threshold at major/minor cycle 1/0 was set to 0.000734774023294 Jy/beam #\n"
     ]
    },
    {
     "name": "stderr",
     "output_type": "stream",
     "text": [
      "SELFCAL - INFO : # Major/minor cycle 1/0 cleaning done #\n"
     ]
    },
    {
     "name": "stderr",
     "output_type": "stream",
     "text": [
      "SELFCAL - INFO : # Cleaned image for major/minor cycle 1/0 created #\n"
     ]
    },
    {
     "name": "stderr",
     "output_type": "stream",
     "text": [
      "SELFCAL - INFO : # Residual image for major/minor cycle 1/0 created #\n"
     ]
    },
    {
     "name": "stderr",
     "output_type": "stream",
     "text": [
      "SELFCAL - INFO : # Peak of the residual image is 0.00361414 Jy/beam #\n"
     ]
    },
    {
     "name": "stderr",
     "output_type": "stream",
     "text": [
      "SELFCAL - INFO : # RMS of the residual image is 0.000776526 Jy/beam #\n"
     ]
    },
    {
     "name": "stderr",
     "output_type": "stream",
     "text": [
      "SELFCAL - INFO : # Minor self-calibration cycle 0 for frequency chunk 02 finished #\n"
     ]
    },
    {
     "name": "stderr",
     "output_type": "stream",
     "text": [
      "SELFCAL - INFO : # Minor self-calibration cycle 1 for frequency chunk 02 started #\n"
     ]
    },
    {
     "name": "stderr",
     "output_type": "stream",
     "text": [
      "SELFCAL - INFO : # Mask threshold for major/minor cycle 1/1 set to 0.003425 Jy/beam #\n"
     ]
    },
    {
     "name": "stderr",
     "output_type": "stream",
     "text": [
      "SELFCAL - INFO : # Mask threshold set by Theoretical noise threshold #\n"
     ]
    },
    {
     "name": "stderr",
     "output_type": "stream",
     "text": [
      "SELFCAL - INFO : # Mask with threshold 0.003425 Jy/beam created #\n"
     ]
    },
    {
     "name": "stderr",
     "output_type": "stream",
     "text": [
      "SELFCAL - INFO : # Clean threshold at major/minor cycle 1/1 was set to 0.000685 Jy/beam #\n"
     ]
    },
    {
     "name": "stderr",
     "output_type": "stream",
     "text": [
      "SELFCAL - INFO : # Major/minor cycle 1/1 cleaning done #\n"
     ]
    },
    {
     "name": "stderr",
     "output_type": "stream",
     "text": [
      "SELFCAL - INFO : # Cleaned image for major/minor cycle 1/1 created #\n"
     ]
    },
    {
     "name": "stderr",
     "output_type": "stream",
     "text": [
      "SELFCAL - INFO : # Residual image for major/minor cycle 1/1 created #\n"
     ]
    },
    {
     "name": "stderr",
     "output_type": "stream",
     "text": [
      "SELFCAL - INFO : # Peak of the residual image is 0.00375214 Jy/beam #\n"
     ]
    },
    {
     "name": "stderr",
     "output_type": "stream",
     "text": [
      "SELFCAL - INFO : # RMS of the residual image is 0.000800365 Jy/beam #\n"
     ]
    },
    {
     "name": "stderr",
     "output_type": "stream",
     "text": [
      "SELFCAL - INFO : # Minor self-calibration cycle 1 for frequency chunk 02 finished #\n"
     ]
    },
    {
     "name": "stderr",
     "output_type": "stream",
     "text": [
      "SELFCAL - INFO : # Minor self-calibration cycle 2 for frequency chunk 02 started #\n"
     ]
    },
    {
     "name": "stderr",
     "output_type": "stream",
     "text": [
      "SELFCAL - INFO : # Mask threshold for major/minor cycle 1/2 set to 0.003425 Jy/beam #\n"
     ]
    },
    {
     "name": "stderr",
     "output_type": "stream",
     "text": [
      "SELFCAL - INFO : # Mask threshold set by Theoretical noise threshold #\n"
     ]
    },
    {
     "name": "stderr",
     "output_type": "stream",
     "text": [
      "SELFCAL - INFO : # Mask with threshold 0.003425 Jy/beam created #\n"
     ]
    },
    {
     "name": "stderr",
     "output_type": "stream",
     "text": [
      "SELFCAL - INFO : # Clean threshold at major/minor cycle 1/2 was set to 0.000685 Jy/beam #\n"
     ]
    },
    {
     "name": "stderr",
     "output_type": "stream",
     "text": [
      "SELFCAL - INFO : # Major/minor cycle 1/2 cleaning done #\n"
     ]
    },
    {
     "name": "stderr",
     "output_type": "stream",
     "text": [
      "SELFCAL - INFO : # Cleaned image for major/minor cycle 1/2 created #\n"
     ]
    },
    {
     "name": "stderr",
     "output_type": "stream",
     "text": [
      "SELFCAL - INFO : # Residual image for major/minor cycle 1/2 created #\n"
     ]
    },
    {
     "name": "stderr",
     "output_type": "stream",
     "text": [
      "SELFCAL - INFO : # Peak of the residual image is 0.00342486 Jy/beam #\n"
     ]
    },
    {
     "name": "stderr",
     "output_type": "stream",
     "text": [
      "SELFCAL - INFO : # RMS of the residual image is 0.00078984 Jy/beam #\n"
     ]
    },
    {
     "name": "stderr",
     "output_type": "stream",
     "text": [
      "SELFCAL - INFO : # Minor self-calibration cycle 2 for frequency chunk 02 finished #\n"
     ]
    },
    {
     "name": "stderr",
     "output_type": "stream",
     "text": [
      "SELFCAL - INFO : # Minor self-calibration cycle 3 for frequency chunk 02 started #\n"
     ]
    },
    {
     "name": "stderr",
     "output_type": "stream",
     "text": [
      "SELFCAL - INFO : # Mask threshold for major/minor cycle 1/3 set to 0.003425 Jy/beam #\n"
     ]
    },
    {
     "name": "stderr",
     "output_type": "stream",
     "text": [
      "SELFCAL - INFO : # Mask threshold set by Theoretical noise threshold #\n"
     ]
    },
    {
     "name": "stderr",
     "output_type": "stream",
     "text": [
      "SELFCAL - INFO : # Mask with threshold 0.003425 Jy/beam created #\n"
     ]
    },
    {
     "name": "stderr",
     "output_type": "stream",
     "text": [
      "SELFCAL - INFO : # Clean threshold at major/minor cycle 1/3 was set to 0.000685 Jy/beam #\n"
     ]
    },
    {
     "name": "stderr",
     "output_type": "stream",
     "text": [
      "SELFCAL - INFO : # Major/minor cycle 1/3 cleaning done #\n"
     ]
    },
    {
     "name": "stderr",
     "output_type": "stream",
     "text": [
      "SELFCAL - INFO : # Cleaned image for major/minor cycle 1/3 created #\n"
     ]
    },
    {
     "name": "stderr",
     "output_type": "stream",
     "text": [
      "SELFCAL - INFO : # Residual image for major/minor cycle 1/3 created #\n"
     ]
    },
    {
     "name": "stderr",
     "output_type": "stream",
     "text": [
      "SELFCAL - INFO : # Peak of the residual image is 0.00347096 Jy/beam #\n"
     ]
    },
    {
     "name": "stderr",
     "output_type": "stream",
     "text": [
      "SELFCAL - INFO : # RMS of the residual image is 0.000790681 Jy/beam #\n"
     ]
    },
    {
     "name": "stderr",
     "output_type": "stream",
     "text": [
      "SELFCAL - INFO : # Minor self-calibration cycle 3 for frequency chunk 02 finished #\n"
     ]
    },
    {
     "name": "stderr",
     "output_type": "stream",
     "text": [
      "SELFCAL - INFO : # Minor self-calibration cycle 4 for frequency chunk 02 started #\n"
     ]
    },
    {
     "name": "stderr",
     "output_type": "stream",
     "text": [
      "SELFCAL - INFO : # Mask threshold for major/minor cycle 1/4 set to 0.003425 Jy/beam #\n"
     ]
    },
    {
     "name": "stderr",
     "output_type": "stream",
     "text": [
      "SELFCAL - INFO : # Mask threshold set by Theoretical noise threshold #\n"
     ]
    },
    {
     "name": "stderr",
     "output_type": "stream",
     "text": [
      "SELFCAL - INFO : # Mask with threshold 0.003425 Jy/beam created #\n"
     ]
    },
    {
     "name": "stderr",
     "output_type": "stream",
     "text": [
      "SELFCAL - INFO : # Clean threshold at major/minor cycle 1/4 was set to 0.000685 Jy/beam #\n"
     ]
    },
    {
     "name": "stderr",
     "output_type": "stream",
     "text": [
      "SELFCAL - INFO : # Major/minor cycle 1/4 cleaning done #\n"
     ]
    },
    {
     "name": "stderr",
     "output_type": "stream",
     "text": [
      "SELFCAL - INFO : # Cleaned image for major/minor cycle 1/4 created #\n"
     ]
    },
    {
     "name": "stderr",
     "output_type": "stream",
     "text": [
      "SELFCAL - INFO : # Residual image for major/minor cycle 1/4 created #\n"
     ]
    },
    {
     "name": "stderr",
     "output_type": "stream",
     "text": [
      "SELFCAL - INFO : # Peak of the residual image is 0.00336073 Jy/beam #\n"
     ]
    },
    {
     "name": "stderr",
     "output_type": "stream",
     "text": [
      "SELFCAL - INFO : # RMS of the residual image is 0.000788036 Jy/beam #\n"
     ]
    },
    {
     "name": "stderr",
     "output_type": "stream",
     "text": [
      "SELFCAL - INFO : # Minor self-calibration cycle 4 for frequency chunk 02 finished #\n"
     ]
    },
    {
     "name": "stderr",
     "output_type": "stream",
     "text": [
      "SELFCAL - INFO : # Doing self-calibration with uvmin=0.0, uvmax=3000, solution interval=3 minutes for major cycle 01 #\n"
     ]
    },
    {
     "name": "stderr",
     "output_type": "stream",
     "text": [
      "SELFCAL - INFO : # Major self-calibration cycle 1 for frequency chunk 02 finished #\n"
     ]
    },
    {
     "name": "stderr",
     "output_type": "stream",
     "text": [
      "SELFCAL - INFO : # Major self-calibration cycle 2 for frequency chunk 02 started #\n"
     ]
    },
    {
     "name": "stderr",
     "output_type": "stream",
     "text": [
      "SELFCAL - INFO : # Creating directory /data/adebahr/apertif/7070708_M51/selfcal/02/02 #\n"
     ]
    },
    {
     "name": "stderr",
     "output_type": "stream",
     "text": [
      "SELFCAL - INFO : # The minor cycle dynamic range limits for major cycle 2 are [50.0, 53.125, 62.5, 78.125, 100.0] #\n"
     ]
    },
    {
     "name": "stderr",
     "output_type": "stream",
     "text": [
      "SELFCAL - INFO : # Minor self-calibration cycle 0 for frequency chunk 02 started #\n"
     ]
    },
    {
     "name": "stderr",
     "output_type": "stream",
     "text": [
      "SELFCAL - INFO : # Mask threshold for major/minor cycle 2/0 set to 0.003425 Jy/beam #\n"
     ]
    },
    {
     "name": "stderr",
     "output_type": "stream",
     "text": [
      "SELFCAL - INFO : # Mask threshold set by Theoretical noise threshold #\n"
     ]
    },
    {
     "name": "stderr",
     "output_type": "stream",
     "text": [
      "SELFCAL - INFO : # Mask from last minor iteration of last major cycle copied #\n"
     ]
    },
    {
     "name": "stderr",
     "output_type": "stream",
     "text": [
      "SELFCAL - INFO : # Clean threshold at major/minor cycle 2/0 was set to 0.000685 Jy/beam #\n"
     ]
    },
    {
     "name": "stderr",
     "output_type": "stream",
     "text": [
      "SELFCAL - INFO : # Major/minor cycle 2/0 cleaning done #\n"
     ]
    },
    {
     "name": "stderr",
     "output_type": "stream",
     "text": [
      "SELFCAL - INFO : # Cleaned image for major/minor cycle 2/0 created #\n"
     ]
    },
    {
     "name": "stderr",
     "output_type": "stream",
     "text": [
      "SELFCAL - INFO : # Residual image for major/minor cycle 2/0 created #\n"
     ]
    },
    {
     "name": "stderr",
     "output_type": "stream",
     "text": [
      "SELFCAL - INFO : # Peak of the residual image is 0.00324371 Jy/beam #\n"
     ]
    },
    {
     "name": "stderr",
     "output_type": "stream",
     "text": [
      "SELFCAL - INFO : # RMS of the residual image is 0.000755233 Jy/beam #\n"
     ]
    },
    {
     "name": "stderr",
     "output_type": "stream",
     "text": [
      "SELFCAL - INFO : # Minor self-calibration cycle 0 for frequency chunk 02 finished #\n"
     ]
    },
    {
     "name": "stderr",
     "output_type": "stream",
     "text": [
      "SELFCAL - INFO : # Minor self-calibration cycle 1 for frequency chunk 02 started #\n"
     ]
    },
    {
     "name": "stderr",
     "output_type": "stream",
     "text": [
      "SELFCAL - INFO : # Mask threshold for major/minor cycle 2/1 set to 0.003425 Jy/beam #\n"
     ]
    },
    {
     "name": "stderr",
     "output_type": "stream",
     "text": [
      "SELFCAL - INFO : # Mask threshold set by Theoretical noise threshold #\n"
     ]
    },
    {
     "name": "stderr",
     "output_type": "stream",
     "text": [
      "SELFCAL - INFO : # Mask with threshold 0.003425 Jy/beam created #\n"
     ]
    },
    {
     "name": "stderr",
     "output_type": "stream",
     "text": [
      "SELFCAL - INFO : # Clean threshold at major/minor cycle 2/1 was set to 0.000685 Jy/beam #\n"
     ]
    },
    {
     "name": "stderr",
     "output_type": "stream",
     "text": [
      "SELFCAL - INFO : # Major/minor cycle 2/1 cleaning done #\n"
     ]
    },
    {
     "name": "stderr",
     "output_type": "stream",
     "text": [
      "SELFCAL - INFO : # Cleaned image for major/minor cycle 2/1 created #\n"
     ]
    },
    {
     "name": "stderr",
     "output_type": "stream",
     "text": [
      "SELFCAL - INFO : # Residual image for major/minor cycle 2/1 created #\n"
     ]
    },
    {
     "name": "stderr",
     "output_type": "stream",
     "text": [
      "SELFCAL - INFO : # Peak of the residual image is 0.0035625 Jy/beam #\n"
     ]
    },
    {
     "name": "stderr",
     "output_type": "stream",
     "text": [
      "SELFCAL - INFO : # RMS of the residual image is 0.000759489 Jy/beam #\n"
     ]
    },
    {
     "name": "stderr",
     "output_type": "stream",
     "text": [
      "SELFCAL - INFO : # Minor self-calibration cycle 1 for frequency chunk 02 finished #\n"
     ]
    },
    {
     "name": "stderr",
     "output_type": "stream",
     "text": [
      "SELFCAL - INFO : # Minor self-calibration cycle 2 for frequency chunk 02 started #\n"
     ]
    },
    {
     "name": "stderr",
     "output_type": "stream",
     "text": [
      "SELFCAL - INFO : # Mask threshold for major/minor cycle 2/2 set to 0.003425 Jy/beam #\n"
     ]
    },
    {
     "name": "stderr",
     "output_type": "stream",
     "text": [
      "SELFCAL - INFO : # Mask threshold set by Theoretical noise threshold #\n"
     ]
    },
    {
     "name": "stderr",
     "output_type": "stream",
     "text": [
      "SELFCAL - INFO : # Mask with threshold 0.003425 Jy/beam created #\n"
     ]
    },
    {
     "name": "stderr",
     "output_type": "stream",
     "text": [
      "SELFCAL - INFO : # Clean threshold at major/minor cycle 2/2 was set to 0.000685 Jy/beam #\n"
     ]
    },
    {
     "name": "stderr",
     "output_type": "stream",
     "text": [
      "SELFCAL - INFO : # Major/minor cycle 2/2 cleaning done #\n"
     ]
    },
    {
     "name": "stderr",
     "output_type": "stream",
     "text": [
      "SELFCAL - INFO : # Cleaned image for major/minor cycle 2/2 created #\n"
     ]
    },
    {
     "name": "stderr",
     "output_type": "stream",
     "text": [
      "SELFCAL - INFO : # Residual image for major/minor cycle 2/2 created #\n"
     ]
    },
    {
     "name": "stderr",
     "output_type": "stream",
     "text": [
      "SELFCAL - INFO : # Peak of the residual image is 0.00316191 Jy/beam #\n"
     ]
    },
    {
     "name": "stderr",
     "output_type": "stream",
     "text": [
      "SELFCAL - INFO : # RMS of the residual image is 0.000756627 Jy/beam #\n"
     ]
    },
    {
     "name": "stderr",
     "output_type": "stream",
     "text": [
      "SELFCAL - INFO : # Minor self-calibration cycle 2 for frequency chunk 02 finished #\n"
     ]
    },
    {
     "name": "stderr",
     "output_type": "stream",
     "text": [
      "SELFCAL - INFO : # Minor self-calibration cycle 3 for frequency chunk 02 started #\n"
     ]
    },
    {
     "name": "stderr",
     "output_type": "stream",
     "text": [
      "SELFCAL - INFO : # Mask threshold for major/minor cycle 2/3 set to 0.003425 Jy/beam #\n"
     ]
    },
    {
     "name": "stderr",
     "output_type": "stream",
     "text": [
      "SELFCAL - INFO : # Mask threshold set by Theoretical noise threshold #\n"
     ]
    },
    {
     "name": "stderr",
     "output_type": "stream",
     "text": [
      "SELFCAL - INFO : # Mask with threshold 0.003425 Jy/beam created #\n"
     ]
    },
    {
     "name": "stderr",
     "output_type": "stream",
     "text": [
      "SELFCAL - INFO : # Clean threshold at major/minor cycle 2/3 was set to 0.000685 Jy/beam #\n"
     ]
    },
    {
     "name": "stderr",
     "output_type": "stream",
     "text": [
      "SELFCAL - INFO : # Major/minor cycle 2/3 cleaning done #\n"
     ]
    },
    {
     "name": "stderr",
     "output_type": "stream",
     "text": [
      "SELFCAL - INFO : # Cleaned image for major/minor cycle 2/3 created #\n"
     ]
    },
    {
     "name": "stderr",
     "output_type": "stream",
     "text": [
      "SELFCAL - INFO : # Residual image for major/minor cycle 2/3 created #\n"
     ]
    },
    {
     "name": "stderr",
     "output_type": "stream",
     "text": [
      "SELFCAL - INFO : # Peak of the residual image is 0.00316247 Jy/beam #\n"
     ]
    },
    {
     "name": "stderr",
     "output_type": "stream",
     "text": [
      "SELFCAL - INFO : # RMS of the residual image is 0.000755991 Jy/beam #\n"
     ]
    },
    {
     "name": "stderr",
     "output_type": "stream",
     "text": [
      "SELFCAL - INFO : # Minor self-calibration cycle 3 for frequency chunk 02 finished #\n"
     ]
    },
    {
     "name": "stderr",
     "output_type": "stream",
     "text": [
      "SELFCAL - INFO : # Minor self-calibration cycle 4 for frequency chunk 02 started #\n"
     ]
    },
    {
     "name": "stderr",
     "output_type": "stream",
     "text": [
      "SELFCAL - INFO : # Mask threshold for major/minor cycle 2/4 set to 0.003425 Jy/beam #\n"
     ]
    },
    {
     "name": "stderr",
     "output_type": "stream",
     "text": [
      "SELFCAL - INFO : # Mask threshold set by Theoretical noise threshold #\n"
     ]
    },
    {
     "name": "stderr",
     "output_type": "stream",
     "text": [
      "SELFCAL - INFO : # Mask with threshold 0.003425 Jy/beam created #\n"
     ]
    },
    {
     "name": "stderr",
     "output_type": "stream",
     "text": [
      "SELFCAL - INFO : # Clean threshold at major/minor cycle 2/4 was set to 0.000685 Jy/beam #\n"
     ]
    },
    {
     "name": "stderr",
     "output_type": "stream",
     "text": [
      "SELFCAL - INFO : # Major/minor cycle 2/4 cleaning done #\n"
     ]
    },
    {
     "name": "stderr",
     "output_type": "stream",
     "text": [
      "SELFCAL - INFO : # Cleaned image for major/minor cycle 2/4 created #\n"
     ]
    },
    {
     "name": "stderr",
     "output_type": "stream",
     "text": [
      "SELFCAL - INFO : # Residual image for major/minor cycle 2/4 created #\n"
     ]
    },
    {
     "name": "stderr",
     "output_type": "stream",
     "text": [
      "SELFCAL - INFO : # Peak of the residual image is 0.00315099 Jy/beam #\n"
     ]
    },
    {
     "name": "stderr",
     "output_type": "stream",
     "text": [
      "SELFCAL - INFO : # RMS of the residual image is 0.000755845 Jy/beam #\n"
     ]
    },
    {
     "name": "stderr",
     "output_type": "stream",
     "text": [
      "SELFCAL - INFO : # Minor self-calibration cycle 4 for frequency chunk 02 finished #\n"
     ]
    },
    {
     "name": "stderr",
     "output_type": "stream",
     "text": [
      "SELFCAL - INFO : # Doing self-calibration with uvmin=0.0, uvmax=3000, solution interval=0.5 minutes for major cycle 02 #\n"
     ]
    },
    {
     "name": "stderr",
     "output_type": "stream",
     "text": [
      "SELFCAL - INFO : # Major self-calibration cycle 2 for frequency chunk 02 finished #\n"
     ]
    },
    {
     "name": "stderr",
     "output_type": "stream",
     "text": [
      "SELFCAL - INFO : # Standard self-calibration routine for chunk 02 finished #\n"
     ]
    },
    {
     "name": "stderr",
     "output_type": "stream",
     "text": [
      "SELFCAL - INFO : # Starting standard self-calibration routine on frequency chunk 03 #\n"
     ]
    },
    {
     "name": "stderr",
     "output_type": "stream",
     "text": [
      "SELFCAL - INFO : # Moved to directory /data/adebahr/apertif/7070708_M51/selfcal/03 #\n"
     ]
    },
    {
     "name": "stderr",
     "output_type": "stream",
     "text": [
      "SELFCAL - INFO : # Theoretical noise for chunk 03 is 6.85e-05 Jy/beam #\n"
     ]
    },
    {
     "name": "stderr",
     "output_type": "stream",
     "text": [
      "SELFCAL - INFO : # Your theoretical noise threshold will be 50 times the theoretical noise corresponding to 0.003425 Jy/beam #\n"
     ]
    },
    {
     "name": "stderr",
     "output_type": "stream",
     "text": [
      "SELFCAL - INFO : # Your dynamic range limits are set to [25.0, 50.0, 100.0] for the major self-calibration cycles #\n"
     ]
    },
    {
     "name": "stderr",
     "output_type": "stream",
     "text": [
      "SELFCAL - INFO : # Major self-calibration cycle 0 for frequency chunk 03 started #\n"
     ]
    },
    {
     "name": "stderr",
     "output_type": "stream",
     "text": [
      "SELFCAL - INFO : # Creating directory /data/adebahr/apertif/7070708_M51/selfcal/03/00 #\n"
     ]
    },
    {
     "name": "stderr",
     "output_type": "stream",
     "text": [
      "SELFCAL - INFO : # The minor cycle dynamic range limits for major cycle 0 are [3.0, 1.5625, 6.25, 14.0625, 25.0] #\n"
     ]
    },
    {
     "name": "stderr",
     "output_type": "stream",
     "text": [
      "SELFCAL - INFO : # Minor self-calibration cycle 0 for frequency chunk 03 started #\n"
     ]
    },
    {
     "name": "stderr",
     "output_type": "stream",
     "text": [
      "SELFCAL - INFO : # Mask threshold for major/minor cycle 0/0 set to 0.0219714269042 Jy/beam #\n"
     ]
    },
    {
     "name": "stderr",
     "output_type": "stream",
     "text": [
      "SELFCAL - INFO : # Mask threshold set by Dynamic range threshold #\n"
     ]
    },
    {
     "name": "stderr",
     "output_type": "stream",
     "text": [
      "SELFCAL - INFO : # Mask with threshold 0.0219714269042 Jy/beam created #\n"
     ]
    },
    {
     "name": "stderr",
     "output_type": "stream",
     "text": [
      "SELFCAL - INFO : # Clean threshold at major/minor cycle 0/0 was set to 0.00439428538084 Jy/beam #\n"
     ]
    },
    {
     "name": "stderr",
     "output_type": "stream",
     "text": [
      "SELFCAL - INFO : # Major/minor cycle 0/0 cleaning done #\n"
     ]
    },
    {
     "name": "stderr",
     "output_type": "stream",
     "text": [
      "SELFCAL - INFO : # Cleaned image for major/minor cycle 0/0 created #\n"
     ]
    },
    {
     "name": "stderr",
     "output_type": "stream",
     "text": [
      "SELFCAL - INFO : # Residual image for major/minor cycle 0/0 created #\n"
     ]
    },
    {
     "name": "stderr",
     "output_type": "stream",
     "text": [
      "SELFCAL - INFO : # Peak of the residual image is 0.0181515 Jy/beam #\n"
     ]
    },
    {
     "name": "stderr",
     "output_type": "stream",
     "text": [
      "SELFCAL - INFO : # RMS of the residual image is 0.00132488 Jy/beam #\n"
     ]
    },
    {
     "name": "stderr",
     "output_type": "stream",
     "text": [
      "SELFCAL - INFO : # Minor self-calibration cycle 0 for frequency chunk 03 finished #\n"
     ]
    },
    {
     "name": "stderr",
     "output_type": "stream",
     "text": [
      "SELFCAL - INFO : # Minor self-calibration cycle 1 for frequency chunk 03 started #\n"
     ]
    },
    {
     "name": "stderr",
     "output_type": "stream",
     "text": [
      "SELFCAL - INFO : # Mask threshold for major/minor cycle 0/1 set to 0.0421851396561 Jy/beam #\n"
     ]
    },
    {
     "name": "stderr",
     "output_type": "stream",
     "text": [
      "SELFCAL - INFO : # Mask threshold set by Dynamic range threshold #\n"
     ]
    },
    {
     "name": "stderr",
     "output_type": "stream",
     "text": [
      "SELFCAL - INFO : # Mask with threshold 0.0421851396561 Jy/beam created #\n"
     ]
    },
    {
     "name": "stderr",
     "output_type": "stream",
     "text": [
      "SELFCAL - INFO : # Clean threshold at major/minor cycle 0/1 was set to 0.00843702793121 Jy/beam #\n"
     ]
    },
    {
     "name": "stderr",
     "output_type": "stream",
     "text": [
      "SELFCAL - INFO : # Major/minor cycle 0/1 cleaning done #\n"
     ]
    },
    {
     "name": "stderr",
     "output_type": "stream",
     "text": [
      "SELFCAL - INFO : # Cleaned image for major/minor cycle 0/1 created #\n"
     ]
    },
    {
     "name": "stderr",
     "output_type": "stream",
     "text": [
      "SELFCAL - INFO : # Residual image for major/minor cycle 0/1 created #\n"
     ]
    },
    {
     "name": "stderr",
     "output_type": "stream",
     "text": [
      "SELFCAL - INFO : # Peak of the residual image is 0.0216436 Jy/beam #\n"
     ]
    },
    {
     "name": "stderr",
     "output_type": "stream",
     "text": [
      "SELFCAL - INFO : # RMS of the residual image is 0.00149971 Jy/beam #\n"
     ]
    },
    {
     "name": "stderr",
     "output_type": "stream",
     "text": [
      "SELFCAL - INFO : # Minor self-calibration cycle 1 for frequency chunk 03 finished #\n"
     ]
    },
    {
     "name": "stderr",
     "output_type": "stream",
     "text": [
      "SELFCAL - INFO : # Minor self-calibration cycle 2 for frequency chunk 03 started #\n"
     ]
    },
    {
     "name": "stderr",
     "output_type": "stream",
     "text": [
      "SELFCAL - INFO : # Mask threshold for major/minor cycle 0/2 set to 0.010546284914 Jy/beam #\n"
     ]
    },
    {
     "name": "stderr",
     "output_type": "stream",
     "text": [
      "SELFCAL - INFO : # Mask threshold set by Dynamic range threshold #\n"
     ]
    },
    {
     "name": "stderr",
     "output_type": "stream",
     "text": [
      "SELFCAL - INFO : # Mask with threshold 0.010546284914 Jy/beam created #\n"
     ]
    },
    {
     "name": "stderr",
     "output_type": "stream",
     "text": [
      "SELFCAL - INFO : # Clean threshold at major/minor cycle 0/2 was set to 0.0021092569828 Jy/beam #\n"
     ]
    },
    {
     "name": "stderr",
     "output_type": "stream",
     "text": [
      "SELFCAL - INFO : # Major/minor cycle 0/2 cleaning done #\n"
     ]
    },
    {
     "name": "stderr",
     "output_type": "stream",
     "text": [
      "SELFCAL - INFO : # Cleaned image for major/minor cycle 0/2 created #\n"
     ]
    },
    {
     "name": "stderr",
     "output_type": "stream",
     "text": [
      "SELFCAL - INFO : # Residual image for major/minor cycle 0/2 created #\n"
     ]
    },
    {
     "name": "stderr",
     "output_type": "stream",
     "text": [
      "SELFCAL - INFO : # Peak of the residual image is 0.00904664 Jy/beam #\n"
     ]
    },
    {
     "name": "stderr",
     "output_type": "stream",
     "text": [
      "SELFCAL - INFO : # RMS of the residual image is 0.00109263 Jy/beam #\n"
     ]
    },
    {
     "name": "stderr",
     "output_type": "stream",
     "text": [
      "SELFCAL - INFO : # Minor self-calibration cycle 2 for frequency chunk 03 finished #\n"
     ]
    },
    {
     "name": "stderr",
     "output_type": "stream",
     "text": [
      "SELFCAL - INFO : # Minor self-calibration cycle 3 for frequency chunk 03 started #\n"
     ]
    },
    {
     "name": "stderr",
     "output_type": "stream",
     "text": [
      "SELFCAL - INFO : # Mask threshold for major/minor cycle 0/3 set to 0.00468723773956 Jy/beam #\n"
     ]
    },
    {
     "name": "stderr",
     "output_type": "stream",
     "text": [
      "SELFCAL - INFO : # Mask threshold set by Dynamic range threshold #\n"
     ]
    },
    {
     "name": "stderr",
     "output_type": "stream",
     "text": [
      "SELFCAL - INFO : # Mask with threshold 0.00468723773956 Jy/beam created #\n"
     ]
    },
    {
     "name": "stderr",
     "output_type": "stream",
     "text": [
      "SELFCAL - INFO : # Clean threshold at major/minor cycle 0/3 was set to 0.000937447547913 Jy/beam #\n"
     ]
    },
    {
     "name": "stderr",
     "output_type": "stream",
     "text": [
      "SELFCAL - INFO : # Major/minor cycle 0/3 cleaning done #\n"
     ]
    },
    {
     "name": "stderr",
     "output_type": "stream",
     "text": [
      "SELFCAL - INFO : # Cleaned image for major/minor cycle 0/3 created #\n"
     ]
    },
    {
     "name": "stderr",
     "output_type": "stream",
     "text": [
      "SELFCAL - INFO : # Residual image for major/minor cycle 0/3 created #\n"
     ]
    },
    {
     "name": "stderr",
     "output_type": "stream",
     "text": [
      "SELFCAL - INFO : # Peak of the residual image is 0.00521253 Jy/beam #\n"
     ]
    },
    {
     "name": "stderr",
     "output_type": "stream",
     "text": [
      "SELFCAL - INFO : # RMS of the residual image is 0.00089843 Jy/beam #\n"
     ]
    },
    {
     "name": "stderr",
     "output_type": "stream",
     "text": [
      "SELFCAL - INFO : # Minor self-calibration cycle 3 for frequency chunk 03 finished #\n"
     ]
    },
    {
     "name": "stderr",
     "output_type": "stream",
     "text": [
      "SELFCAL - INFO : # Minor self-calibration cycle 4 for frequency chunk 03 started #\n"
     ]
    },
    {
     "name": "stderr",
     "output_type": "stream",
     "text": [
      "SELFCAL - INFO : # Mask threshold for major/minor cycle 0/4 set to 0.003425 Jy/beam #\n"
     ]
    },
    {
     "name": "stderr",
     "output_type": "stream",
     "text": [
      "SELFCAL - INFO : # Mask threshold set by Theoretical noise threshold #\n"
     ]
    },
    {
     "name": "stderr",
     "output_type": "stream",
     "text": [
      "SELFCAL - INFO : # Mask with threshold 0.003425 Jy/beam created #\n"
     ]
    },
    {
     "name": "stderr",
     "output_type": "stream",
     "text": [
      "SELFCAL - INFO : # Clean threshold at major/minor cycle 0/4 was set to 0.000685 Jy/beam #\n"
     ]
    },
    {
     "name": "stderr",
     "output_type": "stream",
     "text": [
      "SELFCAL - INFO : # Major/minor cycle 0/4 cleaning done #\n"
     ]
    },
    {
     "name": "stderr",
     "output_type": "stream",
     "text": [
      "SELFCAL - INFO : # Cleaned image for major/minor cycle 0/4 created #\n"
     ]
    },
    {
     "name": "stderr",
     "output_type": "stream",
     "text": [
      "SELFCAL - INFO : # Residual image for major/minor cycle 0/4 created #\n"
     ]
    },
    {
     "name": "stderr",
     "output_type": "stream",
     "text": [
      "SELFCAL - INFO : # Peak of the residual image is 0.0036607 Jy/beam #\n"
     ]
    },
    {
     "name": "stderr",
     "output_type": "stream",
     "text": [
      "SELFCAL - INFO : # RMS of the residual image is 0.000816619 Jy/beam #\n"
     ]
    },
    {
     "name": "stderr",
     "output_type": "stream",
     "text": [
      "SELFCAL - INFO : # Minor self-calibration cycle 4 for frequency chunk 03 finished #\n"
     ]
    },
    {
     "name": "stderr",
     "output_type": "stream",
     "text": [
      "SELFCAL - INFO : # Doing self-calibration with uvmin=0.0, uvmax=3000, solution interval=5 minutes for major cycle 00 #\n"
     ]
    },
    {
     "name": "stderr",
     "output_type": "stream",
     "text": [
      "SELFCAL - INFO : # Major self-calibration cycle 0 for frequency chunk 03 finished #\n"
     ]
    },
    {
     "name": "stderr",
     "output_type": "stream",
     "text": [
      "SELFCAL - INFO : # Major self-calibration cycle 1 for frequency chunk 03 started #\n"
     ]
    },
    {
     "name": "stderr",
     "output_type": "stream",
     "text": [
      "SELFCAL - INFO : # Creating directory /data/adebahr/apertif/7070708_M51/selfcal/03/01 #\n"
     ]
    },
    {
     "name": "stderr",
     "output_type": "stream",
     "text": [
      "SELFCAL - INFO : # The minor cycle dynamic range limits for major cycle 1 are [25.0, 26.5625, 31.25, 39.0625, 50.0] #\n"
     ]
    },
    {
     "name": "stderr",
     "output_type": "stream",
     "text": [
      "SELFCAL - INFO : # Minor self-calibration cycle 0 for frequency chunk 03 started #\n"
     ]
    },
    {
     "name": "stderr",
     "output_type": "stream",
     "text": [
      "SELFCAL - INFO : # Mask threshold for major/minor cycle 1/0 set to 0.00358889549971 Jy/beam #\n"
     ]
    },
    {
     "name": "stderr",
     "output_type": "stream",
     "text": [
      "SELFCAL - INFO : # Mask threshold set by Noise threshold #\n"
     ]
    },
    {
     "name": "stderr",
     "output_type": "stream",
     "text": [
      "SELFCAL - INFO : # Mask from last minor iteration of last major cycle copied #\n"
     ]
    },
    {
     "name": "stderr",
     "output_type": "stream",
     "text": [
      "SELFCAL - INFO : # Clean threshold at major/minor cycle 1/0 was set to 0.000717779099941 Jy/beam #\n"
     ]
    },
    {
     "name": "stderr",
     "output_type": "stream",
     "text": [
      "SELFCAL - INFO : # Major/minor cycle 1/0 cleaning done #\n"
     ]
    },
    {
     "name": "stderr",
     "output_type": "stream",
     "text": [
      "SELFCAL - INFO : # Cleaned image for major/minor cycle 1/0 created #\n"
     ]
    },
    {
     "name": "stderr",
     "output_type": "stream",
     "text": [
      "SELFCAL - INFO : # Residual image for major/minor cycle 1/0 created #\n"
     ]
    },
    {
     "name": "stderr",
     "output_type": "stream",
     "text": [
      "SELFCAL - INFO : # Peak of the residual image is 0.00450535 Jy/beam #\n"
     ]
    },
    {
     "name": "stderr",
     "output_type": "stream",
     "text": [
      "SELFCAL - INFO : # RMS of the residual image is 0.000718698 Jy/beam #\n"
     ]
    },
    {
     "name": "stderr",
     "output_type": "stream",
     "text": [
      "SELFCAL - INFO : # Minor self-calibration cycle 0 for frequency chunk 03 finished #\n"
     ]
    },
    {
     "name": "stderr",
     "output_type": "stream",
     "text": [
      "SELFCAL - INFO : # Minor self-calibration cycle 1 for frequency chunk 03 started #\n"
     ]
    },
    {
     "name": "stderr",
     "output_type": "stream",
     "text": [
      "SELFCAL - INFO : # Mask threshold for major/minor cycle 1/1 set to 0.003425 Jy/beam #\n"
     ]
    },
    {
     "name": "stderr",
     "output_type": "stream",
     "text": [
      "SELFCAL - INFO : # Mask threshold set by Theoretical noise threshold #\n"
     ]
    },
    {
     "name": "stderr",
     "output_type": "stream",
     "text": [
      "SELFCAL - INFO : # Mask with threshold 0.003425 Jy/beam created #\n"
     ]
    },
    {
     "name": "stderr",
     "output_type": "stream",
     "text": [
      "SELFCAL - INFO : # Clean threshold at major/minor cycle 1/1 was set to 0.000685 Jy/beam #\n"
     ]
    },
    {
     "name": "stderr",
     "output_type": "stream",
     "text": [
      "SELFCAL - INFO : # Major/minor cycle 1/1 cleaning done #\n"
     ]
    },
    {
     "name": "stderr",
     "output_type": "stream",
     "text": [
      "SELFCAL - INFO : # Cleaned image for major/minor cycle 1/1 created #\n"
     ]
    },
    {
     "name": "stderr",
     "output_type": "stream",
     "text": [
      "SELFCAL - INFO : # Residual image for major/minor cycle 1/1 created #\n"
     ]
    },
    {
     "name": "stderr",
     "output_type": "stream",
     "text": [
      "SELFCAL - INFO : # Peak of the residual image is 0.00367878 Jy/beam #\n"
     ]
    },
    {
     "name": "stderr",
     "output_type": "stream",
     "text": [
      "SELFCAL - INFO : # RMS of the residual image is 0.000722458 Jy/beam #\n"
     ]
    },
    {
     "name": "stderr",
     "output_type": "stream",
     "text": [
      "SELFCAL - INFO : # Minor self-calibration cycle 1 for frequency chunk 03 finished #\n"
     ]
    },
    {
     "name": "stderr",
     "output_type": "stream",
     "text": [
      "SELFCAL - INFO : # Minor self-calibration cycle 2 for frequency chunk 03 started #\n"
     ]
    },
    {
     "name": "stderr",
     "output_type": "stream",
     "text": [
      "SELFCAL - INFO : # Mask threshold for major/minor cycle 1/2 set to 0.003425 Jy/beam #\n"
     ]
    },
    {
     "name": "stderr",
     "output_type": "stream",
     "text": [
      "SELFCAL - INFO : # Mask threshold set by Theoretical noise threshold #\n"
     ]
    },
    {
     "name": "stderr",
     "output_type": "stream",
     "text": [
      "SELFCAL - INFO : # Mask with threshold 0.003425 Jy/beam created #\n"
     ]
    },
    {
     "name": "stderr",
     "output_type": "stream",
     "text": [
      "SELFCAL - INFO : # Clean threshold at major/minor cycle 1/2 was set to 0.000685 Jy/beam #\n"
     ]
    },
    {
     "name": "stderr",
     "output_type": "stream",
     "text": [
      "SELFCAL - INFO : # Major/minor cycle 1/2 cleaning done #\n"
     ]
    },
    {
     "name": "stderr",
     "output_type": "stream",
     "text": [
      "SELFCAL - INFO : # Cleaned image for major/minor cycle 1/2 created #\n"
     ]
    },
    {
     "name": "stderr",
     "output_type": "stream",
     "text": [
      "SELFCAL - INFO : # Residual image for major/minor cycle 1/2 created #\n"
     ]
    },
    {
     "name": "stderr",
     "output_type": "stream",
     "text": [
      "SELFCAL - INFO : # Peak of the residual image is 0.00344618 Jy/beam #\n"
     ]
    },
    {
     "name": "stderr",
     "output_type": "stream",
     "text": [
      "SELFCAL - INFO : # RMS of the residual image is 0.00071046 Jy/beam #\n"
     ]
    },
    {
     "name": "stderr",
     "output_type": "stream",
     "text": [
      "SELFCAL - INFO : # Minor self-calibration cycle 2 for frequency chunk 03 finished #\n"
     ]
    },
    {
     "name": "stderr",
     "output_type": "stream",
     "text": [
      "SELFCAL - INFO : # Minor self-calibration cycle 3 for frequency chunk 03 started #\n"
     ]
    },
    {
     "name": "stderr",
     "output_type": "stream",
     "text": [
      "SELFCAL - INFO : # Mask threshold for major/minor cycle 1/3 set to 0.003425 Jy/beam #\n"
     ]
    },
    {
     "name": "stderr",
     "output_type": "stream",
     "text": [
      "SELFCAL - INFO : # Mask threshold set by Theoretical noise threshold #\n"
     ]
    },
    {
     "name": "stderr",
     "output_type": "stream",
     "text": [
      "SELFCAL - INFO : # Mask with threshold 0.003425 Jy/beam created #\n"
     ]
    },
    {
     "name": "stderr",
     "output_type": "stream",
     "text": [
      "SELFCAL - INFO : # Clean threshold at major/minor cycle 1/3 was set to 0.000685 Jy/beam #\n"
     ]
    },
    {
     "name": "stderr",
     "output_type": "stream",
     "text": [
      "SELFCAL - INFO : # Major/minor cycle 1/3 cleaning done #\n"
     ]
    },
    {
     "name": "stderr",
     "output_type": "stream",
     "text": [
      "SELFCAL - INFO : # Cleaned image for major/minor cycle 1/3 created #\n"
     ]
    },
    {
     "name": "stderr",
     "output_type": "stream",
     "text": [
      "SELFCAL - INFO : # Residual image for major/minor cycle 1/3 created #\n"
     ]
    },
    {
     "name": "stderr",
     "output_type": "stream",
     "text": [
      "SELFCAL - INFO : # Peak of the residual image is 0.00314974 Jy/beam #\n"
     ]
    },
    {
     "name": "stderr",
     "output_type": "stream",
     "text": [
      "SELFCAL - INFO : # RMS of the residual image is 0.000706994 Jy/beam #\n"
     ]
    },
    {
     "name": "stderr",
     "output_type": "stream",
     "text": [
      "SELFCAL - INFO : # Minor self-calibration cycle 3 for frequency chunk 03 finished #\n"
     ]
    },
    {
     "name": "stderr",
     "output_type": "stream",
     "text": [
      "SELFCAL - INFO : # Minor self-calibration cycle 4 for frequency chunk 03 started #\n"
     ]
    },
    {
     "name": "stderr",
     "output_type": "stream",
     "text": [
      "SELFCAL - INFO : # Mask threshold for major/minor cycle 1/4 set to 0.003425 Jy/beam #\n"
     ]
    },
    {
     "name": "stderr",
     "output_type": "stream",
     "text": [
      "SELFCAL - INFO : # Mask threshold set by Theoretical noise threshold #\n"
     ]
    },
    {
     "name": "stderr",
     "output_type": "stream",
     "text": [
      "SELFCAL - INFO : # Mask with threshold 0.003425 Jy/beam created #\n"
     ]
    },
    {
     "name": "stderr",
     "output_type": "stream",
     "text": [
      "SELFCAL - INFO : # Clean threshold at major/minor cycle 1/4 was set to 0.000685 Jy/beam #\n"
     ]
    },
    {
     "name": "stderr",
     "output_type": "stream",
     "text": [
      "SELFCAL - INFO : # Major/minor cycle 1/4 cleaning done #\n"
     ]
    },
    {
     "name": "stderr",
     "output_type": "stream",
     "text": [
      "SELFCAL - INFO : # Cleaned image for major/minor cycle 1/4 created #\n"
     ]
    },
    {
     "name": "stderr",
     "output_type": "stream",
     "text": [
      "SELFCAL - INFO : # Residual image for major/minor cycle 1/4 created #\n"
     ]
    },
    {
     "name": "stderr",
     "output_type": "stream",
     "text": [
      "SELFCAL - INFO : # Peak of the residual image is 0.00320479 Jy/beam #\n"
     ]
    },
    {
     "name": "stderr",
     "output_type": "stream",
     "text": [
      "SELFCAL - INFO : # RMS of the residual image is 0.000706095 Jy/beam #\n"
     ]
    },
    {
     "name": "stderr",
     "output_type": "stream",
     "text": [
      "SELFCAL - INFO : # Minor self-calibration cycle 4 for frequency chunk 03 finished #\n"
     ]
    },
    {
     "name": "stderr",
     "output_type": "stream",
     "text": [
      "SELFCAL - INFO : # Doing self-calibration with uvmin=0.0, uvmax=3000, solution interval=3 minutes for major cycle 01 #\n"
     ]
    },
    {
     "name": "stderr",
     "output_type": "stream",
     "text": [
      "SELFCAL - INFO : # Major self-calibration cycle 1 for frequency chunk 03 finished #\n"
     ]
    },
    {
     "name": "stderr",
     "output_type": "stream",
     "text": [
      "SELFCAL - INFO : # Major self-calibration cycle 2 for frequency chunk 03 started #\n"
     ]
    },
    {
     "name": "stderr",
     "output_type": "stream",
     "text": [
      "SELFCAL - INFO : # Creating directory /data/adebahr/apertif/7070708_M51/selfcal/03/02 #\n"
     ]
    },
    {
     "name": "stderr",
     "output_type": "stream",
     "text": [
      "SELFCAL - INFO : # The minor cycle dynamic range limits for major cycle 2 are [50.0, 53.125, 62.5, 78.125, 100.0] #\n"
     ]
    },
    {
     "name": "stderr",
     "output_type": "stream",
     "text": [
      "SELFCAL - INFO : # Minor self-calibration cycle 0 for frequency chunk 03 started #\n"
     ]
    },
    {
     "name": "stderr",
     "output_type": "stream",
     "text": [
      "SELFCAL - INFO : # Mask threshold for major/minor cycle 2/0 set to 0.003425 Jy/beam #\n"
     ]
    },
    {
     "name": "stderr",
     "output_type": "stream",
     "text": [
      "SELFCAL - INFO : # Mask threshold set by Theoretical noise threshold #\n"
     ]
    },
    {
     "name": "stderr",
     "output_type": "stream",
     "text": [
      "SELFCAL - INFO : # Mask from last minor iteration of last major cycle copied #\n"
     ]
    },
    {
     "name": "stderr",
     "output_type": "stream",
     "text": [
      "SELFCAL - INFO : # Clean threshold at major/minor cycle 2/0 was set to 0.000685 Jy/beam #\n"
     ]
    },
    {
     "name": "stderr",
     "output_type": "stream",
     "text": [
      "SELFCAL - INFO : # Major/minor cycle 2/0 cleaning done #\n"
     ]
    },
    {
     "name": "stderr",
     "output_type": "stream",
     "text": [
      "SELFCAL - INFO : # Cleaned image for major/minor cycle 2/0 created #\n"
     ]
    },
    {
     "name": "stderr",
     "output_type": "stream",
     "text": [
      "SELFCAL - INFO : # Residual image for major/minor cycle 2/0 created #\n"
     ]
    },
    {
     "name": "stderr",
     "output_type": "stream",
     "text": [
      "SELFCAL - INFO : # Peak of the residual image is 0.00286929 Jy/beam #\n"
     ]
    },
    {
     "name": "stderr",
     "output_type": "stream",
     "text": [
      "SELFCAL - INFO : # RMS of the residual image is 0.000675229 Jy/beam #\n"
     ]
    },
    {
     "name": "stderr",
     "output_type": "stream",
     "text": [
      "SELFCAL - INFO : # Minor self-calibration cycle 0 for frequency chunk 03 finished #\n"
     ]
    },
    {
     "name": "stderr",
     "output_type": "stream",
     "text": [
      "SELFCAL - INFO : # Minor self-calibration cycle 1 for frequency chunk 03 started #\n"
     ]
    },
    {
     "name": "stderr",
     "output_type": "stream",
     "text": [
      "SELFCAL - INFO : # Mask threshold for major/minor cycle 2/1 set to 0.003425 Jy/beam #\n"
     ]
    },
    {
     "name": "stderr",
     "output_type": "stream",
     "text": [
      "SELFCAL - INFO : # Mask threshold set by Theoretical noise threshold #\n"
     ]
    },
    {
     "name": "stderr",
     "output_type": "stream",
     "text": [
      "SELFCAL - INFO : # Mask with threshold 0.003425 Jy/beam created #\n"
     ]
    },
    {
     "name": "stderr",
     "output_type": "stream",
     "text": [
      "SELFCAL - INFO : # Clean threshold at major/minor cycle 2/1 was set to 0.000685 Jy/beam #\n"
     ]
    },
    {
     "name": "stderr",
     "output_type": "stream",
     "text": [
      "SELFCAL - INFO : # Major/minor cycle 2/1 cleaning done #\n"
     ]
    },
    {
     "name": "stderr",
     "output_type": "stream",
     "text": [
      "SELFCAL - INFO : # Cleaned image for major/minor cycle 2/1 created #\n"
     ]
    },
    {
     "name": "stderr",
     "output_type": "stream",
     "text": [
      "SELFCAL - INFO : # Residual image for major/minor cycle 2/1 created #\n"
     ]
    },
    {
     "name": "stderr",
     "output_type": "stream",
     "text": [
      "SELFCAL - INFO : # Peak of the residual image is 0.00291654 Jy/beam #\n"
     ]
    },
    {
     "name": "stderr",
     "output_type": "stream",
     "text": [
      "SELFCAL - INFO : # RMS of the residual image is 0.000676076 Jy/beam #\n"
     ]
    },
    {
     "name": "stderr",
     "output_type": "stream",
     "text": [
      "SELFCAL - INFO : # Minor self-calibration cycle 1 for frequency chunk 03 finished #\n"
     ]
    },
    {
     "name": "stderr",
     "output_type": "stream",
     "text": [
      "SELFCAL - INFO : # Minor self-calibration cycle 2 for frequency chunk 03 started #\n"
     ]
    },
    {
     "name": "stderr",
     "output_type": "stream",
     "text": [
      "SELFCAL - INFO : # Mask threshold for major/minor cycle 2/2 set to 0.003425 Jy/beam #\n"
     ]
    },
    {
     "name": "stderr",
     "output_type": "stream",
     "text": [
      "SELFCAL - INFO : # Mask threshold set by Theoretical noise threshold #\n"
     ]
    },
    {
     "name": "stderr",
     "output_type": "stream",
     "text": [
      "SELFCAL - INFO : # Mask with threshold 0.003425 Jy/beam created #\n"
     ]
    },
    {
     "name": "stderr",
     "output_type": "stream",
     "text": [
      "SELFCAL - INFO : # Clean threshold at major/minor cycle 2/2 was set to 0.000685 Jy/beam #\n"
     ]
    },
    {
     "name": "stderr",
     "output_type": "stream",
     "text": [
      "SELFCAL - INFO : # Major/minor cycle 2/2 cleaning done #\n"
     ]
    },
    {
     "name": "stderr",
     "output_type": "stream",
     "text": [
      "SELFCAL - INFO : # Cleaned image for major/minor cycle 2/2 created #\n"
     ]
    },
    {
     "name": "stderr",
     "output_type": "stream",
     "text": [
      "SELFCAL - INFO : # Residual image for major/minor cycle 2/2 created #\n"
     ]
    },
    {
     "name": "stderr",
     "output_type": "stream",
     "text": [
      "SELFCAL - INFO : # Peak of the residual image is 0.00289827 Jy/beam #\n"
     ]
    },
    {
     "name": "stderr",
     "output_type": "stream",
     "text": [
      "SELFCAL - INFO : # RMS of the residual image is 0.000675766 Jy/beam #\n"
     ]
    },
    {
     "name": "stderr",
     "output_type": "stream",
     "text": [
      "SELFCAL - INFO : # Minor self-calibration cycle 2 for frequency chunk 03 finished #\n"
     ]
    },
    {
     "name": "stderr",
     "output_type": "stream",
     "text": [
      "SELFCAL - INFO : # Minor self-calibration cycle 3 for frequency chunk 03 started #\n"
     ]
    },
    {
     "name": "stderr",
     "output_type": "stream",
     "text": [
      "SELFCAL - INFO : # Mask threshold for major/minor cycle 2/3 set to 0.003425 Jy/beam #\n"
     ]
    },
    {
     "name": "stderr",
     "output_type": "stream",
     "text": [
      "SELFCAL - INFO : # Mask threshold set by Theoretical noise threshold #\n"
     ]
    },
    {
     "name": "stderr",
     "output_type": "stream",
     "text": [
      "SELFCAL - INFO : # Mask with threshold 0.003425 Jy/beam created #\n"
     ]
    },
    {
     "name": "stderr",
     "output_type": "stream",
     "text": [
      "SELFCAL - INFO : # Clean threshold at major/minor cycle 2/3 was set to 0.000685 Jy/beam #\n"
     ]
    },
    {
     "name": "stderr",
     "output_type": "stream",
     "text": [
      "SELFCAL - INFO : # Major/minor cycle 2/3 cleaning done #\n"
     ]
    },
    {
     "name": "stderr",
     "output_type": "stream",
     "text": [
      "SELFCAL - INFO : # Cleaned image for major/minor cycle 2/3 created #\n"
     ]
    },
    {
     "name": "stderr",
     "output_type": "stream",
     "text": [
      "SELFCAL - INFO : # Residual image for major/minor cycle 2/3 created #\n"
     ]
    },
    {
     "name": "stderr",
     "output_type": "stream",
     "text": [
      "SELFCAL - INFO : # Peak of the residual image is 0.00290251 Jy/beam #\n"
     ]
    },
    {
     "name": "stderr",
     "output_type": "stream",
     "text": [
      "SELFCAL - INFO : # RMS of the residual image is 0.000675619 Jy/beam #\n"
     ]
    },
    {
     "name": "stderr",
     "output_type": "stream",
     "text": [
      "SELFCAL - INFO : # Minor self-calibration cycle 3 for frequency chunk 03 finished #\n"
     ]
    },
    {
     "name": "stderr",
     "output_type": "stream",
     "text": [
      "SELFCAL - INFO : # Minor self-calibration cycle 4 for frequency chunk 03 started #\n"
     ]
    },
    {
     "name": "stderr",
     "output_type": "stream",
     "text": [
      "SELFCAL - INFO : # Mask threshold for major/minor cycle 2/4 set to 0.003425 Jy/beam #\n"
     ]
    },
    {
     "name": "stderr",
     "output_type": "stream",
     "text": [
      "SELFCAL - INFO : # Mask threshold set by Theoretical noise threshold #\n"
     ]
    },
    {
     "name": "stderr",
     "output_type": "stream",
     "text": [
      "SELFCAL - INFO : # Mask with threshold 0.003425 Jy/beam created #\n"
     ]
    },
    {
     "name": "stderr",
     "output_type": "stream",
     "text": [
      "SELFCAL - INFO : # Clean threshold at major/minor cycle 2/4 was set to 0.000685 Jy/beam #\n"
     ]
    },
    {
     "name": "stderr",
     "output_type": "stream",
     "text": [
      "SELFCAL - INFO : # Major/minor cycle 2/4 cleaning done #\n"
     ]
    },
    {
     "name": "stderr",
     "output_type": "stream",
     "text": [
      "SELFCAL - INFO : # Cleaned image for major/minor cycle 2/4 created #\n"
     ]
    },
    {
     "name": "stderr",
     "output_type": "stream",
     "text": [
      "SELFCAL - INFO : # Residual image for major/minor cycle 2/4 created #\n"
     ]
    },
    {
     "name": "stderr",
     "output_type": "stream",
     "text": [
      "SELFCAL - INFO : # Peak of the residual image is 0.00290459 Jy/beam #\n"
     ]
    },
    {
     "name": "stderr",
     "output_type": "stream",
     "text": [
      "SELFCAL - INFO : # RMS of the residual image is 0.000675563 Jy/beam #\n"
     ]
    },
    {
     "name": "stderr",
     "output_type": "stream",
     "text": [
      "SELFCAL - INFO : # Minor self-calibration cycle 4 for frequency chunk 03 finished #\n"
     ]
    },
    {
     "name": "stderr",
     "output_type": "stream",
     "text": [
      "SELFCAL - INFO : # Doing self-calibration with uvmin=0.0, uvmax=3000, solution interval=0.5 minutes for major cycle 02 #\n"
     ]
    },
    {
     "name": "stderr",
     "output_type": "stream",
     "text": [
      "SELFCAL - INFO : # Major self-calibration cycle 2 for frequency chunk 03 finished #\n"
     ]
    },
    {
     "name": "stderr",
     "output_type": "stream",
     "text": [
      "SELFCAL - INFO : # Standard self-calibration routine for chunk 03 finished #\n"
     ]
    },
    {
     "name": "stderr",
     "output_type": "stream",
     "text": [
      "SELFCAL - INFO : # Starting standard self-calibration routine on frequency chunk 04 #\n"
     ]
    },
    {
     "name": "stderr",
     "output_type": "stream",
     "text": [
      "SELFCAL - INFO : # Moved to directory /data/adebahr/apertif/7070708_M51/selfcal/04 #\n"
     ]
    },
    {
     "name": "stderr",
     "output_type": "stream",
     "text": [
      "SELFCAL - INFO : # Theoretical noise for chunk 04 is 6.85e-05 Jy/beam #\n"
     ]
    },
    {
     "name": "stderr",
     "output_type": "stream",
     "text": [
      "SELFCAL - INFO : # Your theoretical noise threshold will be 50 times the theoretical noise corresponding to 0.003425 Jy/beam #\n"
     ]
    },
    {
     "name": "stderr",
     "output_type": "stream",
     "text": [
      "SELFCAL - INFO : # Your dynamic range limits are set to [25.0, 50.0, 100.0] for the major self-calibration cycles #\n"
     ]
    },
    {
     "name": "stderr",
     "output_type": "stream",
     "text": [
      "SELFCAL - INFO : # Major self-calibration cycle 0 for frequency chunk 04 started #\n"
     ]
    },
    {
     "name": "stderr",
     "output_type": "stream",
     "text": [
      "SELFCAL - INFO : # Creating directory /data/adebahr/apertif/7070708_M51/selfcal/04/00 #\n"
     ]
    },
    {
     "name": "stderr",
     "output_type": "stream",
     "text": [
      "SELFCAL - INFO : # The minor cycle dynamic range limits for major cycle 0 are [3.0, 1.5625, 6.25, 14.0625, 25.0] #\n"
     ]
    },
    {
     "name": "stderr",
     "output_type": "stream",
     "text": [
      "SELFCAL - INFO : # Minor self-calibration cycle 0 for frequency chunk 04 started #\n"
     ]
    },
    {
     "name": "stderr",
     "output_type": "stream",
     "text": [
      "SELFCAL - INFO : # Mask threshold for major/minor cycle 0/0 set to 0.0210872019331 Jy/beam #\n"
     ]
    },
    {
     "name": "stderr",
     "output_type": "stream",
     "text": [
      "SELFCAL - INFO : # Mask threshold set by Dynamic range threshold #\n"
     ]
    },
    {
     "name": "stderr",
     "output_type": "stream",
     "text": [
      "SELFCAL - INFO : # Mask with threshold 0.0210872019331 Jy/beam created #\n"
     ]
    },
    {
     "name": "stderr",
     "output_type": "stream",
     "text": [
      "SELFCAL - INFO : # Clean threshold at major/minor cycle 0/0 was set to 0.00421744038661 Jy/beam #\n"
     ]
    },
    {
     "name": "stderr",
     "output_type": "stream",
     "text": [
      "SELFCAL - INFO : # Major/minor cycle 0/0 cleaning done #\n"
     ]
    },
    {
     "name": "stderr",
     "output_type": "stream",
     "text": [
      "SELFCAL - INFO : # Cleaned image for major/minor cycle 0/0 created #\n"
     ]
    },
    {
     "name": "stderr",
     "output_type": "stream",
     "text": [
      "SELFCAL - INFO : # Residual image for major/minor cycle 0/0 created #\n"
     ]
    },
    {
     "name": "stderr",
     "output_type": "stream",
     "text": [
      "SELFCAL - INFO : # Peak of the residual image is 0.0183735 Jy/beam #\n"
     ]
    },
    {
     "name": "stderr",
     "output_type": "stream",
     "text": [
      "SELFCAL - INFO : # RMS of the residual image is 0.00132498 Jy/beam #\n"
     ]
    },
    {
     "name": "stderr",
     "output_type": "stream",
     "text": [
      "SELFCAL - INFO : # Minor self-calibration cycle 0 for frequency chunk 04 finished #\n"
     ]
    },
    {
     "name": "stderr",
     "output_type": "stream",
     "text": [
      "SELFCAL - INFO : # Minor self-calibration cycle 1 for frequency chunk 04 started #\n"
     ]
    },
    {
     "name": "stderr",
     "output_type": "stream",
     "text": [
      "SELFCAL - INFO : # Mask threshold for major/minor cycle 0/1 set to 0.0404874277115 Jy/beam #\n"
     ]
    },
    {
     "name": "stderr",
     "output_type": "stream",
     "text": [
      "SELFCAL - INFO : # Mask threshold set by Dynamic range threshold #\n"
     ]
    },
    {
     "name": "stderr",
     "output_type": "stream",
     "text": [
      "SELFCAL - INFO : # Mask with threshold 0.0404874277115 Jy/beam created #\n"
     ]
    },
    {
     "name": "stderr",
     "output_type": "stream",
     "text": [
      "SELFCAL - INFO : # Clean threshold at major/minor cycle 0/1 was set to 0.0080974855423 Jy/beam #\n"
     ]
    },
    {
     "name": "stderr",
     "output_type": "stream",
     "text": [
      "SELFCAL - INFO : # Major/minor cycle 0/1 cleaning done #\n"
     ]
    },
    {
     "name": "stderr",
     "output_type": "stream",
     "text": [
      "SELFCAL - INFO : # Cleaned image for major/minor cycle 0/1 created #\n"
     ]
    },
    {
     "name": "stderr",
     "output_type": "stream",
     "text": [
      "SELFCAL - INFO : # Residual image for major/minor cycle 0/1 created #\n"
     ]
    },
    {
     "name": "stderr",
     "output_type": "stream",
     "text": [
      "SELFCAL - INFO : # Peak of the residual image is 0.0216933 Jy/beam #\n"
     ]
    },
    {
     "name": "stderr",
     "output_type": "stream",
     "text": [
      "SELFCAL - INFO : # RMS of the residual image is 0.00148347 Jy/beam #\n"
     ]
    },
    {
     "name": "stderr",
     "output_type": "stream",
     "text": [
      "SELFCAL - INFO : # Minor self-calibration cycle 1 for frequency chunk 04 finished #\n"
     ]
    },
    {
     "name": "stderr",
     "output_type": "stream",
     "text": [
      "SELFCAL - INFO : # Minor self-calibration cycle 2 for frequency chunk 04 started #\n"
     ]
    },
    {
     "name": "stderr",
     "output_type": "stream",
     "text": [
      "SELFCAL - INFO : # Mask threshold for major/minor cycle 0/2 set to 0.0101218569279 Jy/beam #\n"
     ]
    },
    {
     "name": "stderr",
     "output_type": "stream",
     "text": [
      "SELFCAL - INFO : # Mask threshold set by Dynamic range threshold #\n"
     ]
    },
    {
     "name": "stderr",
     "output_type": "stream",
     "text": [
      "SELFCAL - INFO : # Mask with threshold 0.0101218569279 Jy/beam created #\n"
     ]
    },
    {
     "name": "stderr",
     "output_type": "stream",
     "text": [
      "SELFCAL - INFO : # Clean threshold at major/minor cycle 0/2 was set to 0.00202437138557 Jy/beam #\n"
     ]
    },
    {
     "name": "stderr",
     "output_type": "stream",
     "text": [
      "SELFCAL - INFO : # Major/minor cycle 0/2 cleaning done #\n"
     ]
    },
    {
     "name": "stderr",
     "output_type": "stream",
     "text": [
      "SELFCAL - INFO : # Cleaned image for major/minor cycle 0/2 created #\n"
     ]
    },
    {
     "name": "stderr",
     "output_type": "stream",
     "text": [
      "SELFCAL - INFO : # Residual image for major/minor cycle 0/2 created #\n"
     ]
    },
    {
     "name": "stderr",
     "output_type": "stream",
     "text": [
      "SELFCAL - INFO : # Peak of the residual image is 0.00896133 Jy/beam #\n"
     ]
    },
    {
     "name": "stderr",
     "output_type": "stream",
     "text": [
      "SELFCAL - INFO : # RMS of the residual image is 0.00107752 Jy/beam #\n"
     ]
    },
    {
     "name": "stderr",
     "output_type": "stream",
     "text": [
      "SELFCAL - INFO : # Minor self-calibration cycle 2 for frequency chunk 04 finished #\n"
     ]
    },
    {
     "name": "stderr",
     "output_type": "stream",
     "text": [
      "SELFCAL - INFO : # Minor self-calibration cycle 3 for frequency chunk 04 started #\n"
     ]
    },
    {
     "name": "stderr",
     "output_type": "stream",
     "text": [
      "SELFCAL - INFO : # Mask threshold for major/minor cycle 0/3 set to 0.00449860307905 Jy/beam #\n"
     ]
    },
    {
     "name": "stderr",
     "output_type": "stream",
     "text": [
      "SELFCAL - INFO : # Mask threshold set by Dynamic range threshold #\n"
     ]
    },
    {
     "name": "stderr",
     "output_type": "stream",
     "text": [
      "SELFCAL - INFO : # Mask with threshold 0.00449860307905 Jy/beam created #\n"
     ]
    },
    {
     "name": "stderr",
     "output_type": "stream",
     "text": [
      "SELFCAL - INFO : # Clean threshold at major/minor cycle 0/3 was set to 0.000899720615811 Jy/beam #\n"
     ]
    },
    {
     "name": "stderr",
     "output_type": "stream",
     "text": [
      "SELFCAL - INFO : # Major/minor cycle 0/3 cleaning done #\n"
     ]
    },
    {
     "name": "stderr",
     "output_type": "stream",
     "text": [
      "SELFCAL - INFO : # Cleaned image for major/minor cycle 0/3 created #\n"
     ]
    },
    {
     "name": "stderr",
     "output_type": "stream",
     "text": [
      "SELFCAL - INFO : # Residual image for major/minor cycle 0/3 created #\n"
     ]
    },
    {
     "name": "stderr",
     "output_type": "stream",
     "text": [
      "SELFCAL - INFO : # Peak of the residual image is 0.00411559 Jy/beam #\n"
     ]
    },
    {
     "name": "stderr",
     "output_type": "stream",
     "text": [
      "SELFCAL - INFO : # RMS of the residual image is 0.000881912 Jy/beam #\n"
     ]
    },
    {
     "name": "stderr",
     "output_type": "stream",
     "text": [
      "SELFCAL - INFO : # Minor self-calibration cycle 3 for frequency chunk 04 finished #\n"
     ]
    },
    {
     "name": "stderr",
     "output_type": "stream",
     "text": [
      "SELFCAL - INFO : # Minor self-calibration cycle 4 for frequency chunk 04 started #\n"
     ]
    },
    {
     "name": "stderr",
     "output_type": "stream",
     "text": [
      "SELFCAL - INFO : # Mask threshold for major/minor cycle 0/4 set to 0.003425 Jy/beam #\n"
     ]
    },
    {
     "name": "stderr",
     "output_type": "stream",
     "text": [
      "SELFCAL - INFO : # Mask threshold set by Theoretical noise threshold #\n"
     ]
    },
    {
     "name": "stderr",
     "output_type": "stream",
     "text": [
      "SELFCAL - INFO : # Mask with threshold 0.003425 Jy/beam created #\n"
     ]
    },
    {
     "name": "stderr",
     "output_type": "stream",
     "text": [
      "SELFCAL - INFO : # Clean threshold at major/minor cycle 0/4 was set to 0.000685 Jy/beam #\n"
     ]
    },
    {
     "name": "stderr",
     "output_type": "stream",
     "text": [
      "SELFCAL - INFO : # Major/minor cycle 0/4 cleaning done #\n"
     ]
    },
    {
     "name": "stderr",
     "output_type": "stream",
     "text": [
      "SELFCAL - INFO : # Cleaned image for major/minor cycle 0/4 created #\n"
     ]
    },
    {
     "name": "stderr",
     "output_type": "stream",
     "text": [
      "SELFCAL - INFO : # Residual image for major/minor cycle 0/4 created #\n"
     ]
    },
    {
     "name": "stderr",
     "output_type": "stream",
     "text": [
      "SELFCAL - INFO : # Peak of the residual image is 0.00383811 Jy/beam #\n"
     ]
    },
    {
     "name": "stderr",
     "output_type": "stream",
     "text": [
      "SELFCAL - INFO : # RMS of the residual image is 0.000823942 Jy/beam #\n"
     ]
    },
    {
     "name": "stderr",
     "output_type": "stream",
     "text": [
      "SELFCAL - INFO : # Minor self-calibration cycle 4 for frequency chunk 04 finished #\n"
     ]
    },
    {
     "name": "stderr",
     "output_type": "stream",
     "text": [
      "SELFCAL - INFO : # Doing self-calibration with uvmin=0.0, uvmax=3000, solution interval=5 minutes for major cycle 00 #\n"
     ]
    },
    {
     "name": "stderr",
     "output_type": "stream",
     "text": [
      "SELFCAL - INFO : # Major self-calibration cycle 0 for frequency chunk 04 finished #\n"
     ]
    },
    {
     "name": "stderr",
     "output_type": "stream",
     "text": [
      "SELFCAL - INFO : # Major self-calibration cycle 1 for frequency chunk 04 started #\n"
     ]
    },
    {
     "name": "stderr",
     "output_type": "stream",
     "text": [
      "SELFCAL - INFO : # Creating directory /data/adebahr/apertif/7070708_M51/selfcal/04/01 #\n"
     ]
    },
    {
     "name": "stderr",
     "output_type": "stream",
     "text": [
      "SELFCAL - INFO : # The minor cycle dynamic range limits for major cycle 1 are [25.0, 26.5625, 31.25, 39.0625, 50.0] #\n"
     ]
    },
    {
     "name": "stderr",
     "output_type": "stream",
     "text": [
      "SELFCAL - INFO : # Minor self-calibration cycle 0 for frequency chunk 04 started #\n"
     ]
    },
    {
     "name": "stderr",
     "output_type": "stream",
     "text": [
      "SELFCAL - INFO : # Mask threshold for major/minor cycle 1/0 set to 0.00343085341156 Jy/beam #\n"
     ]
    },
    {
     "name": "stderr",
     "output_type": "stream",
     "text": [
      "SELFCAL - INFO : # Mask threshold set by Noise threshold #\n"
     ]
    },
    {
     "name": "stderr",
     "output_type": "stream",
     "text": [
      "SELFCAL - INFO : # Mask from last minor iteration of last major cycle copied #\n"
     ]
    },
    {
     "name": "stderr",
     "output_type": "stream",
     "text": [
      "SELFCAL - INFO : # Clean threshold at major/minor cycle 1/0 was set to 0.000686170682311 Jy/beam #\n"
     ]
    },
    {
     "name": "stderr",
     "output_type": "stream",
     "text": [
      "SELFCAL - INFO : # Major/minor cycle 1/0 cleaning done #\n"
     ]
    },
    {
     "name": "stderr",
     "output_type": "stream",
     "text": [
      "SELFCAL - INFO : # Cleaned image for major/minor cycle 1/0 created #\n"
     ]
    },
    {
     "name": "stderr",
     "output_type": "stream",
     "text": [
      "SELFCAL - INFO : # Residual image for major/minor cycle 1/0 created #\n"
     ]
    },
    {
     "name": "stderr",
     "output_type": "stream",
     "text": [
      "SELFCAL - INFO : # Peak of the residual image is 0.00380919 Jy/beam #\n"
     ]
    },
    {
     "name": "stderr",
     "output_type": "stream",
     "text": [
      "SELFCAL - INFO : # RMS of the residual image is 0.000701651 Jy/beam #\n"
     ]
    },
    {
     "name": "stderr",
     "output_type": "stream",
     "text": [
      "SELFCAL - INFO : # Minor self-calibration cycle 0 for frequency chunk 04 finished #\n"
     ]
    },
    {
     "name": "stderr",
     "output_type": "stream",
     "text": [
      "SELFCAL - INFO : # Minor self-calibration cycle 1 for frequency chunk 04 started #\n"
     ]
    },
    {
     "name": "stderr",
     "output_type": "stream",
     "text": [
      "SELFCAL - INFO : # Mask threshold for major/minor cycle 1/1 set to 0.003425 Jy/beam #\n"
     ]
    },
    {
     "name": "stderr",
     "output_type": "stream",
     "text": [
      "SELFCAL - INFO : # Mask threshold set by Theoretical noise threshold #\n"
     ]
    },
    {
     "name": "stderr",
     "output_type": "stream",
     "text": [
      "SELFCAL - INFO : # Mask with threshold 0.003425 Jy/beam created #\n"
     ]
    },
    {
     "name": "stderr",
     "output_type": "stream",
     "text": [
      "SELFCAL - INFO : # Clean threshold at major/minor cycle 1/1 was set to 0.000685 Jy/beam #\n"
     ]
    },
    {
     "name": "stderr",
     "output_type": "stream",
     "text": [
      "SELFCAL - INFO : # Major/minor cycle 1/1 cleaning done #\n"
     ]
    },
    {
     "name": "stderr",
     "output_type": "stream",
     "text": [
      "SELFCAL - INFO : # Cleaned image for major/minor cycle 1/1 created #\n"
     ]
    },
    {
     "name": "stderr",
     "output_type": "stream",
     "text": [
      "SELFCAL - INFO : # Residual image for major/minor cycle 1/1 created #\n"
     ]
    },
    {
     "name": "stderr",
     "output_type": "stream",
     "text": [
      "SELFCAL - INFO : # Peak of the residual image is 0.00366097 Jy/beam #\n"
     ]
    },
    {
     "name": "stderr",
     "output_type": "stream",
     "text": [
      "SELFCAL - INFO : # RMS of the residual image is 0.000706755 Jy/beam #\n"
     ]
    },
    {
     "name": "stderr",
     "output_type": "stream",
     "text": [
      "SELFCAL - INFO : # Minor self-calibration cycle 1 for frequency chunk 04 finished #\n"
     ]
    },
    {
     "name": "stderr",
     "output_type": "stream",
     "text": [
      "SELFCAL - INFO : # Minor self-calibration cycle 2 for frequency chunk 04 started #\n"
     ]
    },
    {
     "name": "stderr",
     "output_type": "stream",
     "text": [
      "SELFCAL - INFO : # Mask threshold for major/minor cycle 1/2 set to 0.003425 Jy/beam #\n"
     ]
    },
    {
     "name": "stderr",
     "output_type": "stream",
     "text": [
      "SELFCAL - INFO : # Mask threshold set by Theoretical noise threshold #\n"
     ]
    },
    {
     "name": "stderr",
     "output_type": "stream",
     "text": [
      "SELFCAL - INFO : # Mask with threshold 0.003425 Jy/beam created #\n"
     ]
    },
    {
     "name": "stderr",
     "output_type": "stream",
     "text": [
      "SELFCAL - INFO : # Clean threshold at major/minor cycle 1/2 was set to 0.000685 Jy/beam #\n"
     ]
    },
    {
     "name": "stderr",
     "output_type": "stream",
     "text": [
      "SELFCAL - INFO : # Major/minor cycle 1/2 cleaning done #\n"
     ]
    },
    {
     "name": "stderr",
     "output_type": "stream",
     "text": [
      "SELFCAL - INFO : # Cleaned image for major/minor cycle 1/2 created #\n"
     ]
    },
    {
     "name": "stderr",
     "output_type": "stream",
     "text": [
      "SELFCAL - INFO : # Residual image for major/minor cycle 1/2 created #\n"
     ]
    },
    {
     "name": "stderr",
     "output_type": "stream",
     "text": [
      "SELFCAL - INFO : # Peak of the residual image is 0.00327718 Jy/beam #\n"
     ]
    },
    {
     "name": "stderr",
     "output_type": "stream",
     "text": [
      "SELFCAL - INFO : # RMS of the residual image is 0.000703033 Jy/beam #\n"
     ]
    },
    {
     "name": "stderr",
     "output_type": "stream",
     "text": [
      "SELFCAL - INFO : # Minor self-calibration cycle 2 for frequency chunk 04 finished #\n"
     ]
    },
    {
     "name": "stderr",
     "output_type": "stream",
     "text": [
      "SELFCAL - INFO : # Minor self-calibration cycle 3 for frequency chunk 04 started #\n"
     ]
    },
    {
     "name": "stderr",
     "output_type": "stream",
     "text": [
      "SELFCAL - INFO : # Mask threshold for major/minor cycle 1/3 set to 0.003425 Jy/beam #\n"
     ]
    },
    {
     "name": "stderr",
     "output_type": "stream",
     "text": [
      "SELFCAL - INFO : # Mask threshold set by Theoretical noise threshold #\n"
     ]
    },
    {
     "name": "stderr",
     "output_type": "stream",
     "text": [
      "SELFCAL - INFO : # Mask with threshold 0.003425 Jy/beam created #\n"
     ]
    },
    {
     "name": "stderr",
     "output_type": "stream",
     "text": [
      "SELFCAL - INFO : # Clean threshold at major/minor cycle 1/3 was set to 0.000685 Jy/beam #\n"
     ]
    },
    {
     "name": "stderr",
     "output_type": "stream",
     "text": [
      "SELFCAL - INFO : # Major/minor cycle 1/3 cleaning done #\n"
     ]
    },
    {
     "name": "stderr",
     "output_type": "stream",
     "text": [
      "SELFCAL - INFO : # Cleaned image for major/minor cycle 1/3 created #\n"
     ]
    },
    {
     "name": "stderr",
     "output_type": "stream",
     "text": [
      "SELFCAL - INFO : # Residual image for major/minor cycle 1/3 created #\n"
     ]
    },
    {
     "name": "stderr",
     "output_type": "stream",
     "text": [
      "SELFCAL - INFO : # Peak of the residual image is 0.00339933 Jy/beam #\n"
     ]
    },
    {
     "name": "stderr",
     "output_type": "stream",
     "text": [
      "SELFCAL - INFO : # RMS of the residual image is 0.000702213 Jy/beam #\n"
     ]
    },
    {
     "name": "stderr",
     "output_type": "stream",
     "text": [
      "SELFCAL - INFO : # Minor self-calibration cycle 3 for frequency chunk 04 finished #\n"
     ]
    },
    {
     "name": "stderr",
     "output_type": "stream",
     "text": [
      "SELFCAL - INFO : # Minor self-calibration cycle 4 for frequency chunk 04 started #\n"
     ]
    },
    {
     "name": "stderr",
     "output_type": "stream",
     "text": [
      "SELFCAL - INFO : # Mask threshold for major/minor cycle 1/4 set to 0.003425 Jy/beam #\n"
     ]
    },
    {
     "name": "stderr",
     "output_type": "stream",
     "text": [
      "SELFCAL - INFO : # Mask threshold set by Theoretical noise threshold #\n"
     ]
    },
    {
     "name": "stderr",
     "output_type": "stream",
     "text": [
      "SELFCAL - INFO : # Mask with threshold 0.003425 Jy/beam created #\n"
     ]
    },
    {
     "name": "stderr",
     "output_type": "stream",
     "text": [
      "SELFCAL - INFO : # Clean threshold at major/minor cycle 1/4 was set to 0.000685 Jy/beam #\n"
     ]
    },
    {
     "name": "stderr",
     "output_type": "stream",
     "text": [
      "SELFCAL - INFO : # Major/minor cycle 1/4 cleaning done #\n"
     ]
    },
    {
     "name": "stderr",
     "output_type": "stream",
     "text": [
      "SELFCAL - INFO : # Cleaned image for major/minor cycle 1/4 created #\n"
     ]
    },
    {
     "name": "stderr",
     "output_type": "stream",
     "text": [
      "SELFCAL - INFO : # Residual image for major/minor cycle 1/4 created #\n"
     ]
    },
    {
     "name": "stderr",
     "output_type": "stream",
     "text": [
      "SELFCAL - INFO : # Peak of the residual image is 0.0030417 Jy/beam #\n"
     ]
    },
    {
     "name": "stderr",
     "output_type": "stream",
     "text": [
      "SELFCAL - INFO : # RMS of the residual image is 0.000698289 Jy/beam #\n"
     ]
    },
    {
     "name": "stderr",
     "output_type": "stream",
     "text": [
      "SELFCAL - INFO : # Minor self-calibration cycle 4 for frequency chunk 04 finished #\n"
     ]
    },
    {
     "name": "stderr",
     "output_type": "stream",
     "text": [
      "SELFCAL - INFO : # Doing self-calibration with uvmin=0.0, uvmax=3000, solution interval=3 minutes for major cycle 01 #\n"
     ]
    },
    {
     "name": "stderr",
     "output_type": "stream",
     "text": [
      "SELFCAL - INFO : # Major self-calibration cycle 1 for frequency chunk 04 finished #\n"
     ]
    },
    {
     "name": "stderr",
     "output_type": "stream",
     "text": [
      "SELFCAL - INFO : # Major self-calibration cycle 2 for frequency chunk 04 started #\n"
     ]
    },
    {
     "name": "stderr",
     "output_type": "stream",
     "text": [
      "SELFCAL - INFO : # Creating directory /data/adebahr/apertif/7070708_M51/selfcal/04/02 #\n"
     ]
    },
    {
     "name": "stderr",
     "output_type": "stream",
     "text": [
      "SELFCAL - INFO : # The minor cycle dynamic range limits for major cycle 2 are [50.0, 53.125, 62.5, 78.125, 100.0] #\n"
     ]
    },
    {
     "name": "stderr",
     "output_type": "stream",
     "text": [
      "SELFCAL - INFO : # Minor self-calibration cycle 0 for frequency chunk 04 started #\n"
     ]
    },
    {
     "name": "stderr",
     "output_type": "stream",
     "text": [
      "SELFCAL - INFO : # Mask threshold for major/minor cycle 2/0 set to 0.003425 Jy/beam #\n"
     ]
    },
    {
     "name": "stderr",
     "output_type": "stream",
     "text": [
      "SELFCAL - INFO : # Mask threshold set by Theoretical noise threshold #\n"
     ]
    },
    {
     "name": "stderr",
     "output_type": "stream",
     "text": [
      "SELFCAL - INFO : # Mask from last minor iteration of last major cycle copied #\n"
     ]
    },
    {
     "name": "stderr",
     "output_type": "stream",
     "text": [
      "SELFCAL - INFO : # Clean threshold at major/minor cycle 2/0 was set to 0.000685 Jy/beam #\n"
     ]
    },
    {
     "name": "stderr",
     "output_type": "stream",
     "text": [
      "SELFCAL - INFO : # Major/minor cycle 2/0 cleaning done #\n"
     ]
    },
    {
     "name": "stderr",
     "output_type": "stream",
     "text": [
      "SELFCAL - INFO : # Cleaned image for major/minor cycle 2/0 created #\n"
     ]
    },
    {
     "name": "stderr",
     "output_type": "stream",
     "text": [
      "SELFCAL - INFO : # Residual image for major/minor cycle 2/0 created #\n"
     ]
    },
    {
     "name": "stderr",
     "output_type": "stream",
     "text": [
      "SELFCAL - INFO : # Peak of the residual image is 0.00312036 Jy/beam #\n"
     ]
    },
    {
     "name": "stderr",
     "output_type": "stream",
     "text": [
      "SELFCAL - INFO : # RMS of the residual image is 0.000655798 Jy/beam #\n"
     ]
    },
    {
     "name": "stderr",
     "output_type": "stream",
     "text": [
      "SELFCAL - INFO : # Minor self-calibration cycle 0 for frequency chunk 04 finished #\n"
     ]
    },
    {
     "name": "stderr",
     "output_type": "stream",
     "text": [
      "SELFCAL - INFO : # Minor self-calibration cycle 1 for frequency chunk 04 started #\n"
     ]
    },
    {
     "name": "stderr",
     "output_type": "stream",
     "text": [
      "SELFCAL - INFO : # Mask threshold for major/minor cycle 2/1 set to 0.003425 Jy/beam #\n"
     ]
    },
    {
     "name": "stderr",
     "output_type": "stream",
     "text": [
      "SELFCAL - INFO : # Mask threshold set by Theoretical noise threshold #\n"
     ]
    },
    {
     "name": "stderr",
     "output_type": "stream",
     "text": [
      "SELFCAL - INFO : # Mask with threshold 0.003425 Jy/beam created #\n"
     ]
    },
    {
     "name": "stderr",
     "output_type": "stream",
     "text": [
      "SELFCAL - INFO : # Clean threshold at major/minor cycle 2/1 was set to 0.000685 Jy/beam #\n"
     ]
    },
    {
     "name": "stderr",
     "output_type": "stream",
     "text": [
      "SELFCAL - INFO : # Major/minor cycle 2/1 cleaning done #\n"
     ]
    },
    {
     "name": "stderr",
     "output_type": "stream",
     "text": [
      "SELFCAL - INFO : # Cleaned image for major/minor cycle 2/1 created #\n"
     ]
    },
    {
     "name": "stderr",
     "output_type": "stream",
     "text": [
      "SELFCAL - INFO : # Residual image for major/minor cycle 2/1 created #\n"
     ]
    },
    {
     "name": "stderr",
     "output_type": "stream",
     "text": [
      "SELFCAL - INFO : # Peak of the residual image is 0.00307447 Jy/beam #\n"
     ]
    },
    {
     "name": "stderr",
     "output_type": "stream",
     "text": [
      "SELFCAL - INFO : # RMS of the residual image is 0.000655228 Jy/beam #\n"
     ]
    },
    {
     "name": "stderr",
     "output_type": "stream",
     "text": [
      "SELFCAL - INFO : # Minor self-calibration cycle 1 for frequency chunk 04 finished #\n"
     ]
    },
    {
     "name": "stderr",
     "output_type": "stream",
     "text": [
      "SELFCAL - INFO : # Minor self-calibration cycle 2 for frequency chunk 04 started #\n"
     ]
    },
    {
     "name": "stderr",
     "output_type": "stream",
     "text": [
      "SELFCAL - INFO : # Mask threshold for major/minor cycle 2/2 set to 0.003425 Jy/beam #\n"
     ]
    },
    {
     "name": "stderr",
     "output_type": "stream",
     "text": [
      "SELFCAL - INFO : # Mask threshold set by Theoretical noise threshold #\n"
     ]
    },
    {
     "name": "stderr",
     "output_type": "stream",
     "text": [
      "SELFCAL - INFO : # Mask with threshold 0.003425 Jy/beam created #\n"
     ]
    },
    {
     "name": "stderr",
     "output_type": "stream",
     "text": [
      "SELFCAL - INFO : # Clean threshold at major/minor cycle 2/2 was set to 0.000685 Jy/beam #\n"
     ]
    },
    {
     "name": "stderr",
     "output_type": "stream",
     "text": [
      "SELFCAL - INFO : # Major/minor cycle 2/2 cleaning done #\n"
     ]
    },
    {
     "name": "stderr",
     "output_type": "stream",
     "text": [
      "SELFCAL - INFO : # Cleaned image for major/minor cycle 2/2 created #\n"
     ]
    },
    {
     "name": "stderr",
     "output_type": "stream",
     "text": [
      "SELFCAL - INFO : # Residual image for major/minor cycle 2/2 created #\n"
     ]
    },
    {
     "name": "stderr",
     "output_type": "stream",
     "text": [
      "SELFCAL - INFO : # Peak of the residual image is 0.00304201 Jy/beam #\n"
     ]
    },
    {
     "name": "stderr",
     "output_type": "stream",
     "text": [
      "SELFCAL - INFO : # RMS of the residual image is 0.00065476 Jy/beam #\n"
     ]
    },
    {
     "name": "stderr",
     "output_type": "stream",
     "text": [
      "SELFCAL - INFO : # Minor self-calibration cycle 2 for frequency chunk 04 finished #\n"
     ]
    },
    {
     "name": "stderr",
     "output_type": "stream",
     "text": [
      "SELFCAL - INFO : # Minor self-calibration cycle 3 for frequency chunk 04 started #\n"
     ]
    },
    {
     "name": "stderr",
     "output_type": "stream",
     "text": [
      "SELFCAL - INFO : # Mask threshold for major/minor cycle 2/3 set to 0.003425 Jy/beam #\n"
     ]
    },
    {
     "name": "stderr",
     "output_type": "stream",
     "text": [
      "SELFCAL - INFO : # Mask threshold set by Theoretical noise threshold #\n"
     ]
    },
    {
     "name": "stderr",
     "output_type": "stream",
     "text": [
      "SELFCAL - INFO : # Mask with threshold 0.003425 Jy/beam created #\n"
     ]
    },
    {
     "name": "stderr",
     "output_type": "stream",
     "text": [
      "SELFCAL - INFO : # Clean threshold at major/minor cycle 2/3 was set to 0.000685 Jy/beam #\n"
     ]
    },
    {
     "name": "stderr",
     "output_type": "stream",
     "text": [
      "SELFCAL - INFO : # Major/minor cycle 2/3 cleaning done #\n"
     ]
    },
    {
     "name": "stderr",
     "output_type": "stream",
     "text": [
      "SELFCAL - INFO : # Cleaned image for major/minor cycle 2/3 created #\n"
     ]
    },
    {
     "name": "stderr",
     "output_type": "stream",
     "text": [
      "SELFCAL - INFO : # Residual image for major/minor cycle 2/3 created #\n"
     ]
    },
    {
     "name": "stderr",
     "output_type": "stream",
     "text": [
      "SELFCAL - INFO : # Peak of the residual image is 0.00304107 Jy/beam #\n"
     ]
    },
    {
     "name": "stderr",
     "output_type": "stream",
     "text": [
      "SELFCAL - INFO : # RMS of the residual image is 0.000654568 Jy/beam #\n"
     ]
    },
    {
     "name": "stderr",
     "output_type": "stream",
     "text": [
      "SELFCAL - INFO : # Minor self-calibration cycle 3 for frequency chunk 04 finished #\n"
     ]
    },
    {
     "name": "stderr",
     "output_type": "stream",
     "text": [
      "SELFCAL - INFO : # Minor self-calibration cycle 4 for frequency chunk 04 started #\n"
     ]
    },
    {
     "name": "stderr",
     "output_type": "stream",
     "text": [
      "SELFCAL - INFO : # Mask threshold for major/minor cycle 2/4 set to 0.003425 Jy/beam #\n"
     ]
    },
    {
     "name": "stderr",
     "output_type": "stream",
     "text": [
      "SELFCAL - INFO : # Mask threshold set by Theoretical noise threshold #\n"
     ]
    },
    {
     "name": "stderr",
     "output_type": "stream",
     "text": [
      "SELFCAL - INFO : # Mask with threshold 0.003425 Jy/beam created #\n"
     ]
    },
    {
     "name": "stderr",
     "output_type": "stream",
     "text": [
      "SELFCAL - INFO : # Clean threshold at major/minor cycle 2/4 was set to 0.000685 Jy/beam #\n"
     ]
    },
    {
     "name": "stderr",
     "output_type": "stream",
     "text": [
      "SELFCAL - INFO : # Major/minor cycle 2/4 cleaning done #\n"
     ]
    },
    {
     "name": "stderr",
     "output_type": "stream",
     "text": [
      "SELFCAL - INFO : # Cleaned image for major/minor cycle 2/4 created #\n"
     ]
    },
    {
     "name": "stderr",
     "output_type": "stream",
     "text": [
      "SELFCAL - INFO : # Residual image for major/minor cycle 2/4 created #\n"
     ]
    },
    {
     "name": "stderr",
     "output_type": "stream",
     "text": [
      "SELFCAL - INFO : # Peak of the residual image is 0.00304215 Jy/beam #\n"
     ]
    },
    {
     "name": "stderr",
     "output_type": "stream",
     "text": [
      "SELFCAL - INFO : # RMS of the residual image is 0.000654478 Jy/beam #\n"
     ]
    },
    {
     "name": "stderr",
     "output_type": "stream",
     "text": [
      "SELFCAL - INFO : # Minor self-calibration cycle 4 for frequency chunk 04 finished #\n"
     ]
    },
    {
     "name": "stderr",
     "output_type": "stream",
     "text": [
      "SELFCAL - INFO : # Doing self-calibration with uvmin=0.0, uvmax=3000, solution interval=0.5 minutes for major cycle 02 #\n"
     ]
    },
    {
     "name": "stderr",
     "output_type": "stream",
     "text": [
      "SELFCAL - INFO : # Major self-calibration cycle 2 for frequency chunk 04 finished #\n"
     ]
    },
    {
     "name": "stderr",
     "output_type": "stream",
     "text": [
      "SELFCAL - INFO : # Standard self-calibration routine for chunk 04 finished #\n"
     ]
    },
    {
     "name": "stderr",
     "output_type": "stream",
     "text": [
      "SELFCAL - INFO : # Starting standard self-calibration routine on frequency chunk 05 #\n"
     ]
    },
    {
     "name": "stderr",
     "output_type": "stream",
     "text": [
      "SELFCAL - INFO : # Moved to directory /data/adebahr/apertif/7070708_M51/selfcal/05 #\n"
     ]
    },
    {
     "name": "stderr",
     "output_type": "stream",
     "text": [
      "SELFCAL - INFO : # Theoretical noise for chunk 05 is 6.85e-05 Jy/beam #\n"
     ]
    },
    {
     "name": "stderr",
     "output_type": "stream",
     "text": [
      "SELFCAL - INFO : # Your theoretical noise threshold will be 50 times the theoretical noise corresponding to 0.003425 Jy/beam #\n"
     ]
    },
    {
     "name": "stderr",
     "output_type": "stream",
     "text": [
      "SELFCAL - INFO : # Your dynamic range limits are set to [25.0, 50.0, 100.0] for the major self-calibration cycles #\n"
     ]
    },
    {
     "name": "stderr",
     "output_type": "stream",
     "text": [
      "SELFCAL - INFO : # Major self-calibration cycle 0 for frequency chunk 05 started #\n"
     ]
    },
    {
     "name": "stderr",
     "output_type": "stream",
     "text": [
      "SELFCAL - INFO : # Creating directory /data/adebahr/apertif/7070708_M51/selfcal/05/00 #\n"
     ]
    },
    {
     "name": "stderr",
     "output_type": "stream",
     "text": [
      "SELFCAL - INFO : # The minor cycle dynamic range limits for major cycle 0 are [3.0, 1.5625, 6.25, 14.0625, 25.0] #\n"
     ]
    },
    {
     "name": "stderr",
     "output_type": "stream",
     "text": [
      "SELFCAL - INFO : # Minor self-calibration cycle 0 for frequency chunk 05 started #\n"
     ]
    },
    {
     "name": "stderr",
     "output_type": "stream",
     "text": [
      "SELFCAL - INFO : # Mask threshold for major/minor cycle 0/0 set to 0.020140281568 Jy/beam #\n"
     ]
    },
    {
     "name": "stderr",
     "output_type": "stream",
     "text": [
      "SELFCAL - INFO : # Mask threshold set by Dynamic range threshold #\n"
     ]
    },
    {
     "name": "stderr",
     "output_type": "stream",
     "text": [
      "SELFCAL - INFO : # Mask with threshold 0.020140281568 Jy/beam created #\n"
     ]
    },
    {
     "name": "stderr",
     "output_type": "stream",
     "text": [
      "SELFCAL - INFO : # Clean threshold at major/minor cycle 0/0 was set to 0.00402805631359 Jy/beam #\n"
     ]
    },
    {
     "name": "stderr",
     "output_type": "stream",
     "text": [
      "SELFCAL - INFO : # Major/minor cycle 0/0 cleaning done #\n"
     ]
    },
    {
     "name": "stderr",
     "output_type": "stream",
     "text": [
      "SELFCAL - INFO : # Cleaned image for major/minor cycle 0/0 created #\n"
     ]
    },
    {
     "name": "stderr",
     "output_type": "stream",
     "text": [
      "SELFCAL - INFO : # Residual image for major/minor cycle 0/0 created #\n"
     ]
    },
    {
     "name": "stderr",
     "output_type": "stream",
     "text": [
      "SELFCAL - INFO : # Peak of the residual image is 0.0198227 Jy/beam #\n"
     ]
    },
    {
     "name": "stderr",
     "output_type": "stream",
     "text": [
      "SELFCAL - INFO : # RMS of the residual image is 0.00133402 Jy/beam #\n"
     ]
    },
    {
     "name": "stderr",
     "output_type": "stream",
     "text": [
      "SELFCAL - INFO : # Minor self-calibration cycle 0 for frequency chunk 05 finished #\n"
     ]
    },
    {
     "name": "stderr",
     "output_type": "stream",
     "text": [
      "SELFCAL - INFO : # Minor self-calibration cycle 1 for frequency chunk 05 started #\n"
     ]
    },
    {
     "name": "stderr",
     "output_type": "stream",
     "text": [
      "SELFCAL - INFO : # Mask threshold for major/minor cycle 0/1 set to 0.0386693406105 Jy/beam #\n"
     ]
    },
    {
     "name": "stderr",
     "output_type": "stream",
     "text": [
      "SELFCAL - INFO : # Mask threshold set by Dynamic range threshold #\n"
     ]
    },
    {
     "name": "stderr",
     "output_type": "stream",
     "text": [
      "SELFCAL - INFO : # Mask with threshold 0.0386693406105 Jy/beam created #\n"
     ]
    },
    {
     "name": "stderr",
     "output_type": "stream",
     "text": [
      "SELFCAL - INFO : # Clean threshold at major/minor cycle 0/1 was set to 0.0077338681221 Jy/beam #\n"
     ]
    },
    {
     "name": "stderr",
     "output_type": "stream",
     "text": [
      "SELFCAL - INFO : # Major/minor cycle 0/1 cleaning done #\n"
     ]
    },
    {
     "name": "stderr",
     "output_type": "stream",
     "text": [
      "SELFCAL - INFO : # Cleaned image for major/minor cycle 0/1 created #\n"
     ]
    },
    {
     "name": "stderr",
     "output_type": "stream",
     "text": [
      "SELFCAL - INFO : # Residual image for major/minor cycle 0/1 created #\n"
     ]
    },
    {
     "name": "stderr",
     "output_type": "stream",
     "text": [
      "SELFCAL - INFO : # Peak of the residual image is 0.020266 Jy/beam #\n"
     ]
    },
    {
     "name": "stderr",
     "output_type": "stream",
     "text": [
      "SELFCAL - INFO : # RMS of the residual image is 0.00145113 Jy/beam #\n"
     ]
    },
    {
     "name": "stderr",
     "output_type": "stream",
     "text": [
      "SELFCAL - INFO : # Minor self-calibration cycle 1 for frequency chunk 05 finished #\n"
     ]
    },
    {
     "name": "stderr",
     "output_type": "stream",
     "text": [
      "SELFCAL - INFO : # Minor self-calibration cycle 2 for frequency chunk 05 started #\n"
     ]
    },
    {
     "name": "stderr",
     "output_type": "stream",
     "text": [
      "SELFCAL - INFO : # Mask threshold for major/minor cycle 0/2 set to 0.00966733515263 Jy/beam #\n"
     ]
    },
    {
     "name": "stderr",
     "output_type": "stream",
     "text": [
      "SELFCAL - INFO : # Mask threshold set by Dynamic range threshold #\n"
     ]
    },
    {
     "name": "stderr",
     "output_type": "stream",
     "text": [
      "SELFCAL - INFO : # Mask with threshold 0.00966733515263 Jy/beam created #\n"
     ]
    },
    {
     "name": "stderr",
     "output_type": "stream",
     "text": [
      "SELFCAL - INFO : # Clean threshold at major/minor cycle 0/2 was set to 0.00193346703053 Jy/beam #\n"
     ]
    },
    {
     "name": "stderr",
     "output_type": "stream",
     "text": [
      "SELFCAL - INFO : # Major/minor cycle 0/2 cleaning done #\n"
     ]
    },
    {
     "name": "stderr",
     "output_type": "stream",
     "text": [
      "SELFCAL - INFO : # Cleaned image for major/minor cycle 0/2 created #\n"
     ]
    },
    {
     "name": "stderr",
     "output_type": "stream",
     "text": [
      "SELFCAL - INFO : # Residual image for major/minor cycle 0/2 created #\n"
     ]
    },
    {
     "name": "stderr",
     "output_type": "stream",
     "text": [
      "SELFCAL - INFO : # Peak of the residual image is 0.00966745 Jy/beam #\n"
     ]
    },
    {
     "name": "stderr",
     "output_type": "stream",
     "text": [
      "SELFCAL - INFO : # RMS of the residual image is 0.00106079 Jy/beam #\n"
     ]
    },
    {
     "name": "stderr",
     "output_type": "stream",
     "text": [
      "SELFCAL - INFO : # Minor self-calibration cycle 2 for frequency chunk 05 finished #\n"
     ]
    },
    {
     "name": "stderr",
     "output_type": "stream",
     "text": [
      "SELFCAL - INFO : # Minor self-calibration cycle 3 for frequency chunk 05 started #\n"
     ]
    },
    {
     "name": "stderr",
     "output_type": "stream",
     "text": [
      "SELFCAL - INFO : # Mask threshold for major/minor cycle 0/3 set to 0.00429659340117 Jy/beam #\n"
     ]
    },
    {
     "name": "stderr",
     "output_type": "stream",
     "text": [
      "SELFCAL - INFO : # Mask threshold set by Dynamic range threshold #\n"
     ]
    },
    {
     "name": "stderr",
     "output_type": "stream",
     "text": [
      "SELFCAL - INFO : # Mask with threshold 0.00429659340117 Jy/beam created #\n"
     ]
    },
    {
     "name": "stderr",
     "output_type": "stream",
     "text": [
      "SELFCAL - INFO : # Clean threshold at major/minor cycle 0/3 was set to 0.000859318680233 Jy/beam #\n"
     ]
    },
    {
     "name": "stderr",
     "output_type": "stream",
     "text": [
      "SELFCAL - INFO : # Major/minor cycle 0/3 cleaning done #\n"
     ]
    },
    {
     "name": "stderr",
     "output_type": "stream",
     "text": [
      "SELFCAL - INFO : # Cleaned image for major/minor cycle 0/3 created #\n"
     ]
    },
    {
     "name": "stderr",
     "output_type": "stream",
     "text": [
      "SELFCAL - INFO : # Residual image for major/minor cycle 0/3 created #\n"
     ]
    },
    {
     "name": "stderr",
     "output_type": "stream",
     "text": [
      "SELFCAL - INFO : # Peak of the residual image is 0.00482951 Jy/beam #\n"
     ]
    },
    {
     "name": "stderr",
     "output_type": "stream",
     "text": [
      "SELFCAL - INFO : # RMS of the residual image is 0.000867075 Jy/beam #\n"
     ]
    },
    {
     "name": "stderr",
     "output_type": "stream",
     "text": [
      "SELFCAL - INFO : # Minor self-calibration cycle 3 for frequency chunk 05 finished #\n"
     ]
    },
    {
     "name": "stderr",
     "output_type": "stream",
     "text": [
      "SELFCAL - INFO : # Minor self-calibration cycle 4 for frequency chunk 05 started #\n"
     ]
    },
    {
     "name": "stderr",
     "output_type": "stream",
     "text": [
      "SELFCAL - INFO : # Mask threshold for major/minor cycle 0/4 set to 0.003425 Jy/beam #\n"
     ]
    },
    {
     "name": "stderr",
     "output_type": "stream",
     "text": [
      "SELFCAL - INFO : # Mask threshold set by Theoretical noise threshold #\n"
     ]
    },
    {
     "name": "stderr",
     "output_type": "stream",
     "text": [
      "SELFCAL - INFO : # Mask with threshold 0.003425 Jy/beam created #\n"
     ]
    },
    {
     "name": "stderr",
     "output_type": "stream",
     "text": [
      "SELFCAL - INFO : # Clean threshold at major/minor cycle 0/4 was set to 0.000685 Jy/beam #\n"
     ]
    },
    {
     "name": "stderr",
     "output_type": "stream",
     "text": [
      "SELFCAL - INFO : # Major/minor cycle 0/4 cleaning done #\n"
     ]
    },
    {
     "name": "stderr",
     "output_type": "stream",
     "text": [
      "SELFCAL - INFO : # Cleaned image for major/minor cycle 0/4 created #\n"
     ]
    },
    {
     "name": "stderr",
     "output_type": "stream",
     "text": [
      "SELFCAL - INFO : # Residual image for major/minor cycle 0/4 created #\n"
     ]
    },
    {
     "name": "stderr",
     "output_type": "stream",
     "text": [
      "SELFCAL - INFO : # Peak of the residual image is 0.00384396 Jy/beam #\n"
     ]
    },
    {
     "name": "stderr",
     "output_type": "stream",
     "text": [
      "SELFCAL - INFO : # RMS of the residual image is 0.000806631 Jy/beam #\n"
     ]
    },
    {
     "name": "stderr",
     "output_type": "stream",
     "text": [
      "SELFCAL - INFO : # Minor self-calibration cycle 4 for frequency chunk 05 finished #\n"
     ]
    },
    {
     "name": "stderr",
     "output_type": "stream",
     "text": [
      "SELFCAL - INFO : # Doing self-calibration with uvmin=0.0, uvmax=3000, solution interval=5 minutes for major cycle 00 #\n"
     ]
    },
    {
     "name": "stderr",
     "output_type": "stream",
     "text": [
      "SELFCAL - INFO : # Major self-calibration cycle 0 for frequency chunk 05 finished #\n"
     ]
    },
    {
     "name": "stderr",
     "output_type": "stream",
     "text": [
      "SELFCAL - INFO : # Major self-calibration cycle 1 for frequency chunk 05 started #\n"
     ]
    },
    {
     "name": "stderr",
     "output_type": "stream",
     "text": [
      "SELFCAL - INFO : # Creating directory /data/adebahr/apertif/7070708_M51/selfcal/05/01 #\n"
     ]
    },
    {
     "name": "stderr",
     "output_type": "stream",
     "text": [
      "SELFCAL - INFO : # The minor cycle dynamic range limits for major cycle 1 are [25.0, 26.5625, 31.25, 39.0625, 50.0] #\n"
     ]
    },
    {
     "name": "stderr",
     "output_type": "stream",
     "text": [
      "SELFCAL - INFO : # Minor self-calibration cycle 0 for frequency chunk 05 started #\n"
     ]
    },
    {
     "name": "stderr",
     "output_type": "stream",
     "text": [
      "SELFCAL - INFO : # Mask threshold for major/minor cycle 1/0 set to 0.003425 Jy/beam #\n"
     ]
    },
    {
     "name": "stderr",
     "output_type": "stream",
     "text": [
      "SELFCAL - INFO : # Mask threshold set by Theoretical noise threshold #\n"
     ]
    },
    {
     "name": "stderr",
     "output_type": "stream",
     "text": [
      "SELFCAL - INFO : # Mask from last minor iteration of last major cycle copied #\n"
     ]
    },
    {
     "name": "stderr",
     "output_type": "stream",
     "text": [
      "SELFCAL - INFO : # Clean threshold at major/minor cycle 1/0 was set to 0.000685 Jy/beam #\n"
     ]
    },
    {
     "name": "stderr",
     "output_type": "stream",
     "text": [
      "SELFCAL - INFO : # Major/minor cycle 1/0 cleaning done #\n"
     ]
    },
    {
     "name": "stderr",
     "output_type": "stream",
     "text": [
      "SELFCAL - INFO : # Cleaned image for major/minor cycle 1/0 created #\n"
     ]
    },
    {
     "name": "stderr",
     "output_type": "stream",
     "text": [
      "SELFCAL - INFO : # Residual image for major/minor cycle 1/0 created #\n"
     ]
    },
    {
     "name": "stderr",
     "output_type": "stream",
     "text": [
      "SELFCAL - INFO : # Peak of the residual image is 0.00369444 Jy/beam #\n"
     ]
    },
    {
     "name": "stderr",
     "output_type": "stream",
     "text": [
      "SELFCAL - INFO : # RMS of the residual image is 0.000699765 Jy/beam #\n"
     ]
    },
    {
     "name": "stderr",
     "output_type": "stream",
     "text": [
      "SELFCAL - INFO : # Minor self-calibration cycle 0 for frequency chunk 05 finished #\n"
     ]
    },
    {
     "name": "stderr",
     "output_type": "stream",
     "text": [
      "SELFCAL - INFO : # Minor self-calibration cycle 1 for frequency chunk 05 started #\n"
     ]
    },
    {
     "name": "stderr",
     "output_type": "stream",
     "text": [
      "SELFCAL - INFO : # Mask threshold for major/minor cycle 1/1 set to 0.003425 Jy/beam #\n"
     ]
    },
    {
     "name": "stderr",
     "output_type": "stream",
     "text": [
      "SELFCAL - INFO : # Mask threshold set by Theoretical noise threshold #\n"
     ]
    },
    {
     "name": "stderr",
     "output_type": "stream",
     "text": [
      "SELFCAL - INFO : # Mask with threshold 0.003425 Jy/beam created #\n"
     ]
    },
    {
     "name": "stderr",
     "output_type": "stream",
     "text": [
      "SELFCAL - INFO : # Clean threshold at major/minor cycle 1/1 was set to 0.000685 Jy/beam #\n"
     ]
    },
    {
     "name": "stderr",
     "output_type": "stream",
     "text": [
      "SELFCAL - INFO : # Major/minor cycle 1/1 cleaning done #\n"
     ]
    },
    {
     "name": "stderr",
     "output_type": "stream",
     "text": [
      "SELFCAL - INFO : # Cleaned image for major/minor cycle 1/1 created #\n"
     ]
    },
    {
     "name": "stderr",
     "output_type": "stream",
     "text": [
      "SELFCAL - INFO : # Residual image for major/minor cycle 1/1 created #\n"
     ]
    },
    {
     "name": "stderr",
     "output_type": "stream",
     "text": [
      "SELFCAL - INFO : # Peak of the residual image is 0.00392585 Jy/beam #\n"
     ]
    },
    {
     "name": "stderr",
     "output_type": "stream",
     "text": [
      "SELFCAL - INFO : # RMS of the residual image is 0.000703221 Jy/beam #\n"
     ]
    },
    {
     "name": "stderr",
     "output_type": "stream",
     "text": [
      "SELFCAL - INFO : # Minor self-calibration cycle 1 for frequency chunk 05 finished #\n"
     ]
    },
    {
     "name": "stderr",
     "output_type": "stream",
     "text": [
      "SELFCAL - INFO : # Minor self-calibration cycle 2 for frequency chunk 05 started #\n"
     ]
    },
    {
     "name": "stderr",
     "output_type": "stream",
     "text": [
      "SELFCAL - INFO : # Mask threshold for major/minor cycle 1/2 set to 0.003425 Jy/beam #\n"
     ]
    },
    {
     "name": "stderr",
     "output_type": "stream",
     "text": [
      "SELFCAL - INFO : # Mask threshold set by Theoretical noise threshold #\n"
     ]
    },
    {
     "name": "stderr",
     "output_type": "stream",
     "text": [
      "SELFCAL - INFO : # Mask with threshold 0.003425 Jy/beam created #\n"
     ]
    },
    {
     "name": "stderr",
     "output_type": "stream",
     "text": [
      "SELFCAL - INFO : # Clean threshold at major/minor cycle 1/2 was set to 0.000685 Jy/beam #\n"
     ]
    },
    {
     "name": "stderr",
     "output_type": "stream",
     "text": [
      "SELFCAL - INFO : # Major/minor cycle 1/2 cleaning done #\n"
     ]
    },
    {
     "name": "stderr",
     "output_type": "stream",
     "text": [
      "SELFCAL - INFO : # Cleaned image for major/minor cycle 1/2 created #\n"
     ]
    },
    {
     "name": "stderr",
     "output_type": "stream",
     "text": [
      "SELFCAL - INFO : # Residual image for major/minor cycle 1/2 created #\n"
     ]
    },
    {
     "name": "stderr",
     "output_type": "stream",
     "text": [
      "SELFCAL - INFO : # Peak of the residual image is 0.00331725 Jy/beam #\n"
     ]
    },
    {
     "name": "stderr",
     "output_type": "stream",
     "text": [
      "SELFCAL - INFO : # RMS of the residual image is 0.000700823 Jy/beam #\n"
     ]
    },
    {
     "name": "stderr",
     "output_type": "stream",
     "text": [
      "SELFCAL - INFO : # Minor self-calibration cycle 2 for frequency chunk 05 finished #\n"
     ]
    },
    {
     "name": "stderr",
     "output_type": "stream",
     "text": [
      "SELFCAL - INFO : # Minor self-calibration cycle 3 for frequency chunk 05 started #\n"
     ]
    },
    {
     "name": "stderr",
     "output_type": "stream",
     "text": [
      "SELFCAL - INFO : # Mask threshold for major/minor cycle 1/3 set to 0.003425 Jy/beam #\n"
     ]
    },
    {
     "name": "stderr",
     "output_type": "stream",
     "text": [
      "SELFCAL - INFO : # Mask threshold set by Theoretical noise threshold #\n"
     ]
    },
    {
     "name": "stderr",
     "output_type": "stream",
     "text": [
      "SELFCAL - INFO : # Mask with threshold 0.003425 Jy/beam created #\n"
     ]
    },
    {
     "name": "stderr",
     "output_type": "stream",
     "text": [
      "SELFCAL - INFO : # Clean threshold at major/minor cycle 1/3 was set to 0.000685 Jy/beam #\n"
     ]
    },
    {
     "name": "stderr",
     "output_type": "stream",
     "text": [
      "SELFCAL - INFO : # Major/minor cycle 1/3 cleaning done #\n"
     ]
    },
    {
     "name": "stderr",
     "output_type": "stream",
     "text": [
      "SELFCAL - INFO : # Cleaned image for major/minor cycle 1/3 created #\n"
     ]
    },
    {
     "name": "stderr",
     "output_type": "stream",
     "text": [
      "SELFCAL - INFO : # Residual image for major/minor cycle 1/3 created #\n"
     ]
    },
    {
     "name": "stderr",
     "output_type": "stream",
     "text": [
      "SELFCAL - INFO : # Peak of the residual image is 0.00331552 Jy/beam #\n"
     ]
    },
    {
     "name": "stderr",
     "output_type": "stream",
     "text": [
      "SELFCAL - INFO : # RMS of the residual image is 0.000700532 Jy/beam #\n"
     ]
    },
    {
     "name": "stderr",
     "output_type": "stream",
     "text": [
      "SELFCAL - INFO : # Minor self-calibration cycle 3 for frequency chunk 05 finished #\n"
     ]
    },
    {
     "name": "stderr",
     "output_type": "stream",
     "text": [
      "SELFCAL - INFO : # Minor self-calibration cycle 4 for frequency chunk 05 started #\n"
     ]
    },
    {
     "name": "stderr",
     "output_type": "stream",
     "text": [
      "SELFCAL - INFO : # Mask threshold for major/minor cycle 1/4 set to 0.003425 Jy/beam #\n"
     ]
    },
    {
     "name": "stderr",
     "output_type": "stream",
     "text": [
      "SELFCAL - INFO : # Mask threshold set by Theoretical noise threshold #\n"
     ]
    },
    {
     "name": "stderr",
     "output_type": "stream",
     "text": [
      "SELFCAL - INFO : # Mask with threshold 0.003425 Jy/beam created #\n"
     ]
    },
    {
     "name": "stderr",
     "output_type": "stream",
     "text": [
      "SELFCAL - INFO : # Clean threshold at major/minor cycle 1/4 was set to 0.000685 Jy/beam #\n"
     ]
    },
    {
     "name": "stderr",
     "output_type": "stream",
     "text": [
      "SELFCAL - INFO : # Major/minor cycle 1/4 cleaning done #\n"
     ]
    },
    {
     "name": "stderr",
     "output_type": "stream",
     "text": [
      "SELFCAL - INFO : # Cleaned image for major/minor cycle 1/4 created #\n"
     ]
    },
    {
     "name": "stderr",
     "output_type": "stream",
     "text": [
      "SELFCAL - INFO : # Residual image for major/minor cycle 1/4 created #\n"
     ]
    },
    {
     "name": "stderr",
     "output_type": "stream",
     "text": [
      "SELFCAL - INFO : # Peak of the residual image is 0.0033209 Jy/beam #\n"
     ]
    },
    {
     "name": "stderr",
     "output_type": "stream",
     "text": [
      "SELFCAL - INFO : # RMS of the residual image is 0.000700455 Jy/beam #\n"
     ]
    },
    {
     "name": "stderr",
     "output_type": "stream",
     "text": [
      "SELFCAL - INFO : # Minor self-calibration cycle 4 for frequency chunk 05 finished #\n"
     ]
    },
    {
     "name": "stderr",
     "output_type": "stream",
     "text": [
      "SELFCAL - INFO : # Doing self-calibration with uvmin=0.0, uvmax=3000, solution interval=3 minutes for major cycle 01 #\n"
     ]
    },
    {
     "name": "stderr",
     "output_type": "stream",
     "text": [
      "SELFCAL - INFO : # Major self-calibration cycle 1 for frequency chunk 05 finished #\n"
     ]
    },
    {
     "name": "stderr",
     "output_type": "stream",
     "text": [
      "SELFCAL - INFO : # Major self-calibration cycle 2 for frequency chunk 05 started #\n"
     ]
    },
    {
     "name": "stderr",
     "output_type": "stream",
     "text": [
      "SELFCAL - INFO : # Creating directory /data/adebahr/apertif/7070708_M51/selfcal/05/02 #\n"
     ]
    },
    {
     "name": "stderr",
     "output_type": "stream",
     "text": [
      "SELFCAL - INFO : # The minor cycle dynamic range limits for major cycle 2 are [50.0, 53.125, 62.5, 78.125, 100.0] #\n"
     ]
    },
    {
     "name": "stderr",
     "output_type": "stream",
     "text": [
      "SELFCAL - INFO : # Minor self-calibration cycle 0 for frequency chunk 05 started #\n"
     ]
    },
    {
     "name": "stderr",
     "output_type": "stream",
     "text": [
      "SELFCAL - INFO : # Mask threshold for major/minor cycle 2/0 set to 0.003425 Jy/beam #\n"
     ]
    },
    {
     "name": "stderr",
     "output_type": "stream",
     "text": [
      "SELFCAL - INFO : # Mask threshold set by Theoretical noise threshold #\n"
     ]
    },
    {
     "name": "stderr",
     "output_type": "stream",
     "text": [
      "SELFCAL - INFO : # Mask from last minor iteration of last major cycle copied #\n"
     ]
    },
    {
     "name": "stderr",
     "output_type": "stream",
     "text": [
      "SELFCAL - INFO : # Clean threshold at major/minor cycle 2/0 was set to 0.000685 Jy/beam #\n"
     ]
    },
    {
     "name": "stderr",
     "output_type": "stream",
     "text": [
      "SELFCAL - INFO : # Major/minor cycle 2/0 cleaning done #\n"
     ]
    },
    {
     "name": "stderr",
     "output_type": "stream",
     "text": [
      "SELFCAL - INFO : # Cleaned image for major/minor cycle 2/0 created #\n"
     ]
    },
    {
     "name": "stderr",
     "output_type": "stream",
     "text": [
      "SELFCAL - INFO : # Residual image for major/minor cycle 2/0 created #\n"
     ]
    },
    {
     "name": "stderr",
     "output_type": "stream",
     "text": [
      "SELFCAL - INFO : # Peak of the residual image is 0.00308055 Jy/beam #\n"
     ]
    },
    {
     "name": "stderr",
     "output_type": "stream",
     "text": [
      "SELFCAL - INFO : # RMS of the residual image is 0.000650055 Jy/beam #\n"
     ]
    },
    {
     "name": "stderr",
     "output_type": "stream",
     "text": [
      "SELFCAL - INFO : # Minor self-calibration cycle 0 for frequency chunk 05 finished #\n"
     ]
    },
    {
     "name": "stderr",
     "output_type": "stream",
     "text": [
      "SELFCAL - INFO : # Minor self-calibration cycle 1 for frequency chunk 05 started #\n"
     ]
    },
    {
     "name": "stderr",
     "output_type": "stream",
     "text": [
      "SELFCAL - INFO : # Mask threshold for major/minor cycle 2/1 set to 0.003425 Jy/beam #\n"
     ]
    },
    {
     "name": "stderr",
     "output_type": "stream",
     "text": [
      "SELFCAL - INFO : # Mask threshold set by Theoretical noise threshold #\n"
     ]
    },
    {
     "name": "stderr",
     "output_type": "stream",
     "text": [
      "SELFCAL - INFO : # Mask with threshold 0.003425 Jy/beam created #\n"
     ]
    },
    {
     "name": "stderr",
     "output_type": "stream",
     "text": [
      "SELFCAL - INFO : # Clean threshold at major/minor cycle 2/1 was set to 0.000685 Jy/beam #\n"
     ]
    },
    {
     "name": "stderr",
     "output_type": "stream",
     "text": [
      "SELFCAL - INFO : # Major/minor cycle 2/1 cleaning done #\n"
     ]
    },
    {
     "name": "stderr",
     "output_type": "stream",
     "text": [
      "SELFCAL - INFO : # Cleaned image for major/minor cycle 2/1 created #\n"
     ]
    },
    {
     "name": "stderr",
     "output_type": "stream",
     "text": [
      "SELFCAL - INFO : # Residual image for major/minor cycle 2/1 created #\n"
     ]
    },
    {
     "name": "stderr",
     "output_type": "stream",
     "text": [
      "SELFCAL - INFO : # Peak of the residual image is 0.00303794 Jy/beam #\n"
     ]
    },
    {
     "name": "stderr",
     "output_type": "stream",
     "text": [
      "SELFCAL - INFO : # RMS of the residual image is 0.000650358 Jy/beam #\n"
     ]
    },
    {
     "name": "stderr",
     "output_type": "stream",
     "text": [
      "SELFCAL - INFO : # Minor self-calibration cycle 1 for frequency chunk 05 finished #\n"
     ]
    },
    {
     "name": "stderr",
     "output_type": "stream",
     "text": [
      "SELFCAL - INFO : # Minor self-calibration cycle 2 for frequency chunk 05 started #\n"
     ]
    },
    {
     "name": "stderr",
     "output_type": "stream",
     "text": [
      "SELFCAL - INFO : # Mask threshold for major/minor cycle 2/2 set to 0.003425 Jy/beam #\n"
     ]
    },
    {
     "name": "stderr",
     "output_type": "stream",
     "text": [
      "SELFCAL - INFO : # Mask threshold set by Theoretical noise threshold #\n"
     ]
    },
    {
     "name": "stderr",
     "output_type": "stream",
     "text": [
      "SELFCAL - INFO : # Mask with threshold 0.003425 Jy/beam created #\n"
     ]
    },
    {
     "name": "stderr",
     "output_type": "stream",
     "text": [
      "SELFCAL - INFO : # Clean threshold at major/minor cycle 2/2 was set to 0.000685 Jy/beam #\n"
     ]
    },
    {
     "name": "stderr",
     "output_type": "stream",
     "text": [
      "SELFCAL - INFO : # Major/minor cycle 2/2 cleaning done #\n"
     ]
    },
    {
     "name": "stderr",
     "output_type": "stream",
     "text": [
      "SELFCAL - INFO : # Cleaned image for major/minor cycle 2/2 created #\n"
     ]
    },
    {
     "name": "stderr",
     "output_type": "stream",
     "text": [
      "SELFCAL - INFO : # Residual image for major/minor cycle 2/2 created #\n"
     ]
    },
    {
     "name": "stderr",
     "output_type": "stream",
     "text": [
      "SELFCAL - INFO : # Peak of the residual image is 0.0030545 Jy/beam #\n"
     ]
    },
    {
     "name": "stderr",
     "output_type": "stream",
     "text": [
      "SELFCAL - INFO : # RMS of the residual image is 0.000650052 Jy/beam #\n"
     ]
    },
    {
     "name": "stderr",
     "output_type": "stream",
     "text": [
      "SELFCAL - INFO : # Minor self-calibration cycle 2 for frequency chunk 05 finished #\n"
     ]
    },
    {
     "name": "stderr",
     "output_type": "stream",
     "text": [
      "SELFCAL - INFO : # Minor self-calibration cycle 3 for frequency chunk 05 started #\n"
     ]
    },
    {
     "name": "stderr",
     "output_type": "stream",
     "text": [
      "SELFCAL - INFO : # Mask threshold for major/minor cycle 2/3 set to 0.003425 Jy/beam #\n"
     ]
    },
    {
     "name": "stderr",
     "output_type": "stream",
     "text": [
      "SELFCAL - INFO : # Mask threshold set by Theoretical noise threshold #\n"
     ]
    },
    {
     "name": "stderr",
     "output_type": "stream",
     "text": [
      "SELFCAL - INFO : # Mask with threshold 0.003425 Jy/beam created #\n"
     ]
    },
    {
     "name": "stderr",
     "output_type": "stream",
     "text": [
      "SELFCAL - INFO : # Clean threshold at major/minor cycle 2/3 was set to 0.000685 Jy/beam #\n"
     ]
    },
    {
     "name": "stderr",
     "output_type": "stream",
     "text": [
      "SELFCAL - INFO : # Major/minor cycle 2/3 cleaning done #\n"
     ]
    },
    {
     "name": "stderr",
     "output_type": "stream",
     "text": [
      "SELFCAL - INFO : # Cleaned image for major/minor cycle 2/3 created #\n"
     ]
    },
    {
     "name": "stderr",
     "output_type": "stream",
     "text": [
      "SELFCAL - INFO : # Residual image for major/minor cycle 2/3 created #\n"
     ]
    },
    {
     "name": "stderr",
     "output_type": "stream",
     "text": [
      "SELFCAL - INFO : # Peak of the residual image is 0.00303847 Jy/beam #\n"
     ]
    },
    {
     "name": "stderr",
     "output_type": "stream",
     "text": [
      "SELFCAL - INFO : # RMS of the residual image is 0.000649892 Jy/beam #\n"
     ]
    },
    {
     "name": "stderr",
     "output_type": "stream",
     "text": [
      "SELFCAL - INFO : # Minor self-calibration cycle 3 for frequency chunk 05 finished #\n"
     ]
    },
    {
     "name": "stderr",
     "output_type": "stream",
     "text": [
      "SELFCAL - INFO : # Minor self-calibration cycle 4 for frequency chunk 05 started #\n"
     ]
    },
    {
     "name": "stderr",
     "output_type": "stream",
     "text": [
      "SELFCAL - INFO : # Mask threshold for major/minor cycle 2/4 set to 0.003425 Jy/beam #\n"
     ]
    },
    {
     "name": "stderr",
     "output_type": "stream",
     "text": [
      "SELFCAL - INFO : # Mask threshold set by Theoretical noise threshold #\n"
     ]
    },
    {
     "name": "stderr",
     "output_type": "stream",
     "text": [
      "SELFCAL - INFO : # Mask with threshold 0.003425 Jy/beam created #\n"
     ]
    },
    {
     "name": "stderr",
     "output_type": "stream",
     "text": [
      "SELFCAL - INFO : # Clean threshold at major/minor cycle 2/4 was set to 0.000685 Jy/beam #\n"
     ]
    },
    {
     "name": "stderr",
     "output_type": "stream",
     "text": [
      "SELFCAL - INFO : # Major/minor cycle 2/4 cleaning done #\n"
     ]
    },
    {
     "name": "stderr",
     "output_type": "stream",
     "text": [
      "SELFCAL - INFO : # Cleaned image for major/minor cycle 2/4 created #\n"
     ]
    },
    {
     "name": "stderr",
     "output_type": "stream",
     "text": [
      "SELFCAL - INFO : # Residual image for major/minor cycle 2/4 created #\n"
     ]
    },
    {
     "name": "stderr",
     "output_type": "stream",
     "text": [
      "SELFCAL - INFO : # Peak of the residual image is 0.00301343 Jy/beam #\n"
     ]
    },
    {
     "name": "stderr",
     "output_type": "stream",
     "text": [
      "SELFCAL - INFO : # RMS of the residual image is 0.000649782 Jy/beam #\n"
     ]
    },
    {
     "name": "stderr",
     "output_type": "stream",
     "text": [
      "SELFCAL - INFO : # Minor self-calibration cycle 4 for frequency chunk 05 finished #\n"
     ]
    },
    {
     "name": "stderr",
     "output_type": "stream",
     "text": [
      "SELFCAL - INFO : # Doing self-calibration with uvmin=0.0, uvmax=3000, solution interval=0.5 minutes for major cycle 02 #\n"
     ]
    },
    {
     "name": "stderr",
     "output_type": "stream",
     "text": [
      "SELFCAL - INFO : # Major self-calibration cycle 2 for frequency chunk 05 finished #\n"
     ]
    },
    {
     "name": "stderr",
     "output_type": "stream",
     "text": [
      "SELFCAL - INFO : # Standard self-calibration routine for chunk 05 finished #\n"
     ]
    },
    {
     "name": "stderr",
     "output_type": "stream",
     "text": [
      "SELFCAL - INFO : # Starting standard self-calibration routine on frequency chunk 06 #\n"
     ]
    },
    {
     "name": "stderr",
     "output_type": "stream",
     "text": [
      "SELFCAL - INFO : # Moved to directory /data/adebahr/apertif/7070708_M51/selfcal/06 #\n"
     ]
    },
    {
     "name": "stderr",
     "output_type": "stream",
     "text": [
      "SELFCAL - INFO : # Theoretical noise for chunk 06 is 6.85e-05 Jy/beam #\n"
     ]
    },
    {
     "name": "stderr",
     "output_type": "stream",
     "text": [
      "SELFCAL - INFO : # Your theoretical noise threshold will be 50 times the theoretical noise corresponding to 0.003425 Jy/beam #\n"
     ]
    },
    {
     "name": "stderr",
     "output_type": "stream",
     "text": [
      "SELFCAL - INFO : # Your dynamic range limits are set to [25.0, 50.0, 100.0] for the major self-calibration cycles #\n"
     ]
    },
    {
     "name": "stderr",
     "output_type": "stream",
     "text": [
      "SELFCAL - INFO : # Major self-calibration cycle 0 for frequency chunk 06 started #\n"
     ]
    },
    {
     "name": "stderr",
     "output_type": "stream",
     "text": [
      "SELFCAL - INFO : # Creating directory /data/adebahr/apertif/7070708_M51/selfcal/06/00 #\n"
     ]
    },
    {
     "name": "stderr",
     "output_type": "stream",
     "text": [
      "SELFCAL - INFO : # The minor cycle dynamic range limits for major cycle 0 are [3.0, 1.5625, 6.25, 14.0625, 25.0] #\n"
     ]
    },
    {
     "name": "stderr",
     "output_type": "stream",
     "text": [
      "SELFCAL - INFO : # Minor self-calibration cycle 0 for frequency chunk 06 started #\n"
     ]
    },
    {
     "name": "stderr",
     "output_type": "stream",
     "text": [
      "SELFCAL - INFO : # Mask threshold for major/minor cycle 0/0 set to 0.0200556144118 Jy/beam #\n"
     ]
    },
    {
     "name": "stderr",
     "output_type": "stream",
     "text": [
      "SELFCAL - INFO : # Mask threshold set by Dynamic range threshold #\n"
     ]
    },
    {
     "name": "stderr",
     "output_type": "stream",
     "text": [
      "SELFCAL - INFO : # Mask with threshold 0.0200556144118 Jy/beam created #\n"
     ]
    },
    {
     "name": "stderr",
     "output_type": "stream",
     "text": [
      "SELFCAL - INFO : # Clean threshold at major/minor cycle 0/0 was set to 0.00401112288237 Jy/beam #\n"
     ]
    },
    {
     "name": "stderr",
     "output_type": "stream",
     "text": [
      "SELFCAL - INFO : # Major/minor cycle 0/0 cleaning done #\n"
     ]
    },
    {
     "name": "stderr",
     "output_type": "stream",
     "text": [
      "SELFCAL - INFO : # Cleaned image for major/minor cycle 0/0 created #\n"
     ]
    },
    {
     "name": "stderr",
     "output_type": "stream",
     "text": [
      "SELFCAL - INFO : # Residual image for major/minor cycle 0/0 created #\n"
     ]
    },
    {
     "name": "stderr",
     "output_type": "stream",
     "text": [
      "SELFCAL - INFO : # Peak of the residual image is 0.0197762 Jy/beam #\n"
     ]
    },
    {
     "name": "stderr",
     "output_type": "stream",
     "text": [
      "SELFCAL - INFO : # RMS of the residual image is 0.0012762 Jy/beam #\n"
     ]
    },
    {
     "name": "stderr",
     "output_type": "stream",
     "text": [
      "SELFCAL - INFO : # Minor self-calibration cycle 0 for frequency chunk 06 finished #\n"
     ]
    },
    {
     "name": "stderr",
     "output_type": "stream",
     "text": [
      "SELFCAL - INFO : # Minor self-calibration cycle 1 for frequency chunk 06 started #\n"
     ]
    },
    {
     "name": "stderr",
     "output_type": "stream",
     "text": [
      "SELFCAL - INFO : # Mask threshold for major/minor cycle 0/1 set to 0.0385067796707 Jy/beam #\n"
     ]
    },
    {
     "name": "stderr",
     "output_type": "stream",
     "text": [
      "SELFCAL - INFO : # Mask threshold set by Dynamic range threshold #\n"
     ]
    },
    {
     "name": "stderr",
     "output_type": "stream",
     "text": [
      "SELFCAL - INFO : # Mask with threshold 0.0385067796707 Jy/beam created #\n"
     ]
    },
    {
     "name": "stderr",
     "output_type": "stream",
     "text": [
      "SELFCAL - INFO : # Clean threshold at major/minor cycle 0/1 was set to 0.00770135593414 Jy/beam #\n"
     ]
    },
    {
     "name": "stderr",
     "output_type": "stream",
     "text": [
      "SELFCAL - INFO : # Major/minor cycle 0/1 cleaning done #\n"
     ]
    },
    {
     "name": "stderr",
     "output_type": "stream",
     "text": [
      "SELFCAL - INFO : # Cleaned image for major/minor cycle 0/1 created #\n"
     ]
    },
    {
     "name": "stderr",
     "output_type": "stream",
     "text": [
      "SELFCAL - INFO : # Residual image for major/minor cycle 0/1 created #\n"
     ]
    },
    {
     "name": "stderr",
     "output_type": "stream",
     "text": [
      "SELFCAL - INFO : # Peak of the residual image is 0.0206299 Jy/beam #\n"
     ]
    },
    {
     "name": "stderr",
     "output_type": "stream",
     "text": [
      "SELFCAL - INFO : # RMS of the residual image is 0.00139256 Jy/beam #\n"
     ]
    },
    {
     "name": "stderr",
     "output_type": "stream",
     "text": [
      "SELFCAL - INFO : # Minor self-calibration cycle 1 for frequency chunk 06 finished #\n"
     ]
    },
    {
     "name": "stderr",
     "output_type": "stream",
     "text": [
      "SELFCAL - INFO : # Minor self-calibration cycle 2 for frequency chunk 06 started #\n"
     ]
    },
    {
     "name": "stderr",
     "output_type": "stream",
     "text": [
      "SELFCAL - INFO : # Mask threshold for major/minor cycle 0/2 set to 0.00962669491768 Jy/beam #\n"
     ]
    },
    {
     "name": "stderr",
     "output_type": "stream",
     "text": [
      "SELFCAL - INFO : # Mask threshold set by Dynamic range threshold #\n"
     ]
    },
    {
     "name": "stderr",
     "output_type": "stream",
     "text": [
      "SELFCAL - INFO : # Mask with threshold 0.00962669491768 Jy/beam created #\n"
     ]
    },
    {
     "name": "stderr",
     "output_type": "stream",
     "text": [
      "SELFCAL - INFO : # Clean threshold at major/minor cycle 0/2 was set to 0.00192533898354 Jy/beam #\n"
     ]
    },
    {
     "name": "stderr",
     "output_type": "stream",
     "text": [
      "SELFCAL - INFO : # Major/minor cycle 0/2 cleaning done #\n"
     ]
    },
    {
     "name": "stderr",
     "output_type": "stream",
     "text": [
      "SELFCAL - INFO : # Cleaned image for major/minor cycle 0/2 created #\n"
     ]
    },
    {
     "name": "stderr",
     "output_type": "stream",
     "text": [
      "SELFCAL - INFO : # Residual image for major/minor cycle 0/2 created #\n"
     ]
    },
    {
     "name": "stderr",
     "output_type": "stream",
     "text": [
      "SELFCAL - INFO : # Peak of the residual image is 0.00937122 Jy/beam #\n"
     ]
    },
    {
     "name": "stderr",
     "output_type": "stream",
     "text": [
      "SELFCAL - INFO : # RMS of the residual image is 0.0010079 Jy/beam #\n"
     ]
    },
    {
     "name": "stderr",
     "output_type": "stream",
     "text": [
      "SELFCAL - INFO : # Minor self-calibration cycle 2 for frequency chunk 06 finished #\n"
     ]
    },
    {
     "name": "stderr",
     "output_type": "stream",
     "text": [
      "SELFCAL - INFO : # Minor self-calibration cycle 3 for frequency chunk 06 started #\n"
     ]
    },
    {
     "name": "stderr",
     "output_type": "stream",
     "text": [
      "SELFCAL - INFO : # Mask threshold for major/minor cycle 0/3 set to 0.00427853107452 Jy/beam #\n"
     ]
    },
    {
     "name": "stderr",
     "output_type": "stream",
     "text": [
      "SELFCAL - INFO : # Mask threshold set by Dynamic range threshold #\n"
     ]
    },
    {
     "name": "stderr",
     "output_type": "stream",
     "text": [
      "SELFCAL - INFO : # Mask with threshold 0.00427853107452 Jy/beam created #\n"
     ]
    },
    {
     "name": "stderr",
     "output_type": "stream",
     "text": [
      "SELFCAL - INFO : # Clean threshold at major/minor cycle 0/3 was set to 0.000855706214905 Jy/beam #\n"
     ]
    },
    {
     "name": "stderr",
     "output_type": "stream",
     "text": [
      "SELFCAL - INFO : # Major/minor cycle 0/3 cleaning done #\n"
     ]
    },
    {
     "name": "stderr",
     "output_type": "stream",
     "text": [
      "SELFCAL - INFO : # Cleaned image for major/minor cycle 0/3 created #\n"
     ]
    },
    {
     "name": "stderr",
     "output_type": "stream",
     "text": [
      "SELFCAL - INFO : # Residual image for major/minor cycle 0/3 created #\n"
     ]
    },
    {
     "name": "stderr",
     "output_type": "stream",
     "text": [
      "SELFCAL - INFO : # Peak of the residual image is 0.00476595 Jy/beam #\n"
     ]
    },
    {
     "name": "stderr",
     "output_type": "stream",
     "text": [
      "SELFCAL - INFO : # RMS of the residual image is 0.000785487 Jy/beam #\n"
     ]
    },
    {
     "name": "stderr",
     "output_type": "stream",
     "text": [
      "SELFCAL - INFO : # Minor self-calibration cycle 3 for frequency chunk 06 finished #\n"
     ]
    },
    {
     "name": "stderr",
     "output_type": "stream",
     "text": [
      "SELFCAL - INFO : # Minor self-calibration cycle 4 for frequency chunk 06 started #\n"
     ]
    },
    {
     "name": "stderr",
     "output_type": "stream",
     "text": [
      "SELFCAL - INFO : # Mask threshold for major/minor cycle 0/4 set to 0.003425 Jy/beam #\n"
     ]
    },
    {
     "name": "stderr",
     "output_type": "stream",
     "text": [
      "SELFCAL - INFO : # Mask threshold set by Theoretical noise threshold #\n"
     ]
    },
    {
     "name": "stderr",
     "output_type": "stream",
     "text": [
      "SELFCAL - INFO : # Mask with threshold 0.003425 Jy/beam created #\n"
     ]
    },
    {
     "name": "stderr",
     "output_type": "stream",
     "text": [
      "SELFCAL - INFO : # Clean threshold at major/minor cycle 0/4 was set to 0.000685 Jy/beam #\n"
     ]
    },
    {
     "name": "stderr",
     "output_type": "stream",
     "text": [
      "SELFCAL - INFO : # Major/minor cycle 0/4 cleaning done #\n"
     ]
    },
    {
     "name": "stderr",
     "output_type": "stream",
     "text": [
      "SELFCAL - INFO : # Cleaned image for major/minor cycle 0/4 created #\n"
     ]
    },
    {
     "name": "stderr",
     "output_type": "stream",
     "text": [
      "SELFCAL - INFO : # Residual image for major/minor cycle 0/4 created #\n"
     ]
    },
    {
     "name": "stderr",
     "output_type": "stream",
     "text": [
      "SELFCAL - INFO : # Peak of the residual image is 0.00369961 Jy/beam #\n"
     ]
    },
    {
     "name": "stderr",
     "output_type": "stream",
     "text": [
      "SELFCAL - INFO : # RMS of the residual image is 0.00075192 Jy/beam #\n"
     ]
    },
    {
     "name": "stderr",
     "output_type": "stream",
     "text": [
      "SELFCAL - INFO : # Minor self-calibration cycle 4 for frequency chunk 06 finished #\n"
     ]
    },
    {
     "name": "stderr",
     "output_type": "stream",
     "text": [
      "SELFCAL - INFO : # Doing self-calibration with uvmin=0.0, uvmax=3000, solution interval=5 minutes for major cycle 00 #\n"
     ]
    },
    {
     "name": "stderr",
     "output_type": "stream",
     "text": [
      "SELFCAL - INFO : # Major self-calibration cycle 0 for frequency chunk 06 finished #\n"
     ]
    },
    {
     "name": "stderr",
     "output_type": "stream",
     "text": [
      "SELFCAL - INFO : # Major self-calibration cycle 1 for frequency chunk 06 started #\n"
     ]
    },
    {
     "name": "stderr",
     "output_type": "stream",
     "text": [
      "SELFCAL - INFO : # Creating directory /data/adebahr/apertif/7070708_M51/selfcal/06/01 #\n"
     ]
    },
    {
     "name": "stderr",
     "output_type": "stream",
     "text": [
      "SELFCAL - INFO : # The minor cycle dynamic range limits for major cycle 1 are [25.0, 26.5625, 31.25, 39.0625, 50.0] #\n"
     ]
    },
    {
     "name": "stderr",
     "output_type": "stream",
     "text": [
      "SELFCAL - INFO : # Minor self-calibration cycle 0 for frequency chunk 06 started #\n"
     ]
    },
    {
     "name": "stderr",
     "output_type": "stream",
     "text": [
      "SELFCAL - INFO : # Mask threshold for major/minor cycle 1/0 set to 0.003425 Jy/beam #\n"
     ]
    },
    {
     "name": "stderr",
     "output_type": "stream",
     "text": [
      "SELFCAL - INFO : # Mask threshold set by Theoretical noise threshold #\n"
     ]
    },
    {
     "name": "stderr",
     "output_type": "stream",
     "text": [
      "SELFCAL - INFO : # Mask from last minor iteration of last major cycle copied #\n"
     ]
    },
    {
     "name": "stderr",
     "output_type": "stream",
     "text": [
      "SELFCAL - INFO : # Clean threshold at major/minor cycle 1/0 was set to 0.000685 Jy/beam #\n"
     ]
    },
    {
     "name": "stderr",
     "output_type": "stream",
     "text": [
      "SELFCAL - INFO : # Major/minor cycle 1/0 cleaning done #\n"
     ]
    },
    {
     "name": "stderr",
     "output_type": "stream",
     "text": [
      "SELFCAL - INFO : # Cleaned image for major/minor cycle 1/0 created #\n"
     ]
    },
    {
     "name": "stderr",
     "output_type": "stream",
     "text": [
      "SELFCAL - INFO : # Residual image for major/minor cycle 1/0 created #\n"
     ]
    },
    {
     "name": "stderr",
     "output_type": "stream",
     "text": [
      "SELFCAL - INFO : # Peak of the residual image is 0.00367351 Jy/beam #\n"
     ]
    },
    {
     "name": "stderr",
     "output_type": "stream",
     "text": [
      "SELFCAL - INFO : # RMS of the residual image is 0.000636421 Jy/beam #\n"
     ]
    },
    {
     "name": "stderr",
     "output_type": "stream",
     "text": [
      "SELFCAL - INFO : # Minor self-calibration cycle 0 for frequency chunk 06 finished #\n"
     ]
    },
    {
     "name": "stderr",
     "output_type": "stream",
     "text": [
      "SELFCAL - INFO : # Minor self-calibration cycle 1 for frequency chunk 06 started #\n"
     ]
    },
    {
     "name": "stderr",
     "output_type": "stream",
     "text": [
      "SELFCAL - INFO : # Mask threshold for major/minor cycle 1/1 set to 0.003425 Jy/beam #\n"
     ]
    },
    {
     "name": "stderr",
     "output_type": "stream",
     "text": [
      "SELFCAL - INFO : # Mask threshold set by Theoretical noise threshold #\n"
     ]
    },
    {
     "name": "stderr",
     "output_type": "stream",
     "text": [
      "SELFCAL - INFO : # Mask with threshold 0.003425 Jy/beam created #\n"
     ]
    },
    {
     "name": "stderr",
     "output_type": "stream",
     "text": [
      "SELFCAL - INFO : # Clean threshold at major/minor cycle 1/1 was set to 0.000685 Jy/beam #\n"
     ]
    },
    {
     "name": "stderr",
     "output_type": "stream",
     "text": [
      "SELFCAL - INFO : # Major/minor cycle 1/1 cleaning done #\n"
     ]
    },
    {
     "name": "stderr",
     "output_type": "stream",
     "text": [
      "SELFCAL - INFO : # Cleaned image for major/minor cycle 1/1 created #\n"
     ]
    },
    {
     "name": "stderr",
     "output_type": "stream",
     "text": [
      "SELFCAL - INFO : # Residual image for major/minor cycle 1/1 created #\n"
     ]
    },
    {
     "name": "stderr",
     "output_type": "stream",
     "text": [
      "SELFCAL - INFO : # Peak of the residual image is 0.00355934 Jy/beam #\n"
     ]
    },
    {
     "name": "stderr",
     "output_type": "stream",
     "text": [
      "SELFCAL - INFO : # RMS of the residual image is 0.000636013 Jy/beam #\n"
     ]
    },
    {
     "name": "stderr",
     "output_type": "stream",
     "text": [
      "SELFCAL - INFO : # Minor self-calibration cycle 1 for frequency chunk 06 finished #\n"
     ]
    },
    {
     "name": "stderr",
     "output_type": "stream",
     "text": [
      "SELFCAL - INFO : # Minor self-calibration cycle 2 for frequency chunk 06 started #\n"
     ]
    },
    {
     "name": "stderr",
     "output_type": "stream",
     "text": [
      "SELFCAL - INFO : # Mask threshold for major/minor cycle 1/2 set to 0.003425 Jy/beam #\n"
     ]
    },
    {
     "name": "stderr",
     "output_type": "stream",
     "text": [
      "SELFCAL - INFO : # Mask threshold set by Theoretical noise threshold #\n"
     ]
    },
    {
     "name": "stderr",
     "output_type": "stream",
     "text": [
      "SELFCAL - INFO : # Mask with threshold 0.003425 Jy/beam created #\n"
     ]
    },
    {
     "name": "stderr",
     "output_type": "stream",
     "text": [
      "SELFCAL - INFO : # Clean threshold at major/minor cycle 1/2 was set to 0.000685 Jy/beam #\n"
     ]
    },
    {
     "name": "stderr",
     "output_type": "stream",
     "text": [
      "SELFCAL - INFO : # Major/minor cycle 1/2 cleaning done #\n"
     ]
    },
    {
     "name": "stderr",
     "output_type": "stream",
     "text": [
      "SELFCAL - INFO : # Cleaned image for major/minor cycle 1/2 created #\n"
     ]
    },
    {
     "name": "stderr",
     "output_type": "stream",
     "text": [
      "SELFCAL - INFO : # Residual image for major/minor cycle 1/2 created #\n"
     ]
    },
    {
     "name": "stderr",
     "output_type": "stream",
     "text": [
      "SELFCAL - INFO : # Peak of the residual image is 0.00316688 Jy/beam #\n"
     ]
    },
    {
     "name": "stderr",
     "output_type": "stream",
     "text": [
      "SELFCAL - INFO : # RMS of the residual image is 0.000633646 Jy/beam #\n"
     ]
    },
    {
     "name": "stderr",
     "output_type": "stream",
     "text": [
      "SELFCAL - INFO : # Minor self-calibration cycle 2 for frequency chunk 06 finished #\n"
     ]
    },
    {
     "name": "stderr",
     "output_type": "stream",
     "text": [
      "SELFCAL - INFO : # Minor self-calibration cycle 3 for frequency chunk 06 started #\n"
     ]
    },
    {
     "name": "stderr",
     "output_type": "stream",
     "text": [
      "SELFCAL - INFO : # Mask threshold for major/minor cycle 1/3 set to 0.003425 Jy/beam #\n"
     ]
    },
    {
     "name": "stderr",
     "output_type": "stream",
     "text": [
      "SELFCAL - INFO : # Mask threshold set by Theoretical noise threshold #\n"
     ]
    },
    {
     "name": "stderr",
     "output_type": "stream",
     "text": [
      "SELFCAL - INFO : # Mask with threshold 0.003425 Jy/beam created #\n"
     ]
    },
    {
     "name": "stderr",
     "output_type": "stream",
     "text": [
      "SELFCAL - INFO : # Clean threshold at major/minor cycle 1/3 was set to 0.000685 Jy/beam #\n"
     ]
    },
    {
     "name": "stderr",
     "output_type": "stream",
     "text": [
      "SELFCAL - INFO : # Major/minor cycle 1/3 cleaning done #\n"
     ]
    },
    {
     "name": "stderr",
     "output_type": "stream",
     "text": [
      "SELFCAL - INFO : # Cleaned image for major/minor cycle 1/3 created #\n"
     ]
    },
    {
     "name": "stderr",
     "output_type": "stream",
     "text": [
      "SELFCAL - INFO : # Residual image for major/minor cycle 1/3 created #\n"
     ]
    },
    {
     "name": "stderr",
     "output_type": "stream",
     "text": [
      "SELFCAL - INFO : # Peak of the residual image is 0.00315745 Jy/beam #\n"
     ]
    },
    {
     "name": "stderr",
     "output_type": "stream",
     "text": [
      "SELFCAL - INFO : # RMS of the residual image is 0.000632916 Jy/beam #\n"
     ]
    },
    {
     "name": "stderr",
     "output_type": "stream",
     "text": [
      "SELFCAL - INFO : # Minor self-calibration cycle 3 for frequency chunk 06 finished #\n"
     ]
    },
    {
     "name": "stderr",
     "output_type": "stream",
     "text": [
      "SELFCAL - INFO : # Minor self-calibration cycle 4 for frequency chunk 06 started #\n"
     ]
    },
    {
     "name": "stderr",
     "output_type": "stream",
     "text": [
      "SELFCAL - INFO : # Mask threshold for major/minor cycle 1/4 set to 0.003425 Jy/beam #\n"
     ]
    },
    {
     "name": "stderr",
     "output_type": "stream",
     "text": [
      "SELFCAL - INFO : # Mask threshold set by Theoretical noise threshold #\n"
     ]
    },
    {
     "name": "stderr",
     "output_type": "stream",
     "text": [
      "SELFCAL - INFO : # Mask with threshold 0.003425 Jy/beam created #\n"
     ]
    },
    {
     "name": "stderr",
     "output_type": "stream",
     "text": [
      "SELFCAL - INFO : # Clean threshold at major/minor cycle 1/4 was set to 0.000685 Jy/beam #\n"
     ]
    },
    {
     "name": "stderr",
     "output_type": "stream",
     "text": [
      "SELFCAL - INFO : # Major/minor cycle 1/4 cleaning done #\n"
     ]
    },
    {
     "name": "stderr",
     "output_type": "stream",
     "text": [
      "SELFCAL - INFO : # Cleaned image for major/minor cycle 1/4 created #\n"
     ]
    },
    {
     "name": "stderr",
     "output_type": "stream",
     "text": [
      "SELFCAL - INFO : # Residual image for major/minor cycle 1/4 created #\n"
     ]
    },
    {
     "name": "stderr",
     "output_type": "stream",
     "text": [
      "SELFCAL - INFO : # Peak of the residual image is 0.00316705 Jy/beam #\n"
     ]
    },
    {
     "name": "stderr",
     "output_type": "stream",
     "text": [
      "SELFCAL - INFO : # RMS of the residual image is 0.000632535 Jy/beam #\n"
     ]
    },
    {
     "name": "stderr",
     "output_type": "stream",
     "text": [
      "SELFCAL - INFO : # Minor self-calibration cycle 4 for frequency chunk 06 finished #\n"
     ]
    },
    {
     "name": "stderr",
     "output_type": "stream",
     "text": [
      "SELFCAL - INFO : # Doing self-calibration with uvmin=0.0, uvmax=3000, solution interval=3 minutes for major cycle 01 #\n"
     ]
    },
    {
     "name": "stderr",
     "output_type": "stream",
     "text": [
      "SELFCAL - INFO : # Major self-calibration cycle 1 for frequency chunk 06 finished #\n"
     ]
    },
    {
     "name": "stderr",
     "output_type": "stream",
     "text": [
      "SELFCAL - INFO : # Major self-calibration cycle 2 for frequency chunk 06 started #\n"
     ]
    },
    {
     "name": "stderr",
     "output_type": "stream",
     "text": [
      "SELFCAL - INFO : # Creating directory /data/adebahr/apertif/7070708_M51/selfcal/06/02 #\n"
     ]
    },
    {
     "name": "stderr",
     "output_type": "stream",
     "text": [
      "SELFCAL - INFO : # The minor cycle dynamic range limits for major cycle 2 are [50.0, 53.125, 62.5, 78.125, 100.0] #\n"
     ]
    },
    {
     "name": "stderr",
     "output_type": "stream",
     "text": [
      "SELFCAL - INFO : # Minor self-calibration cycle 0 for frequency chunk 06 started #\n"
     ]
    },
    {
     "name": "stderr",
     "output_type": "stream",
     "text": [
      "SELFCAL - INFO : # Mask threshold for major/minor cycle 2/0 set to 0.003425 Jy/beam #\n"
     ]
    },
    {
     "name": "stderr",
     "output_type": "stream",
     "text": [
      "SELFCAL - INFO : # Mask threshold set by Theoretical noise threshold #\n"
     ]
    },
    {
     "name": "stderr",
     "output_type": "stream",
     "text": [
      "SELFCAL - INFO : # Mask from last minor iteration of last major cycle copied #\n"
     ]
    },
    {
     "name": "stderr",
     "output_type": "stream",
     "text": [
      "SELFCAL - INFO : # Clean threshold at major/minor cycle 2/0 was set to 0.000685 Jy/beam #\n"
     ]
    },
    {
     "name": "stderr",
     "output_type": "stream",
     "text": [
      "SELFCAL - INFO : # Major/minor cycle 2/0 cleaning done #\n"
     ]
    },
    {
     "name": "stderr",
     "output_type": "stream",
     "text": [
      "SELFCAL - INFO : # Cleaned image for major/minor cycle 2/0 created #\n"
     ]
    },
    {
     "name": "stderr",
     "output_type": "stream",
     "text": [
      "SELFCAL - INFO : # Residual image for major/minor cycle 2/0 created #\n"
     ]
    },
    {
     "name": "stderr",
     "output_type": "stream",
     "text": [
      "SELFCAL - INFO : # Peak of the residual image is 0.00354524 Jy/beam #\n"
     ]
    },
    {
     "name": "stderr",
     "output_type": "stream",
     "text": [
      "SELFCAL - INFO : # RMS of the residual image is 0.000597109 Jy/beam #\n"
     ]
    },
    {
     "name": "stderr",
     "output_type": "stream",
     "text": [
      "SELFCAL - INFO : # Minor self-calibration cycle 0 for frequency chunk 06 finished #\n"
     ]
    },
    {
     "name": "stderr",
     "output_type": "stream",
     "text": [
      "SELFCAL - INFO : # Minor self-calibration cycle 1 for frequency chunk 06 started #\n"
     ]
    },
    {
     "name": "stderr",
     "output_type": "stream",
     "text": [
      "SELFCAL - INFO : # Mask threshold for major/minor cycle 2/1 set to 0.003425 Jy/beam #\n"
     ]
    },
    {
     "name": "stderr",
     "output_type": "stream",
     "text": [
      "SELFCAL - INFO : # Mask threshold set by Theoretical noise threshold #\n"
     ]
    },
    {
     "name": "stderr",
     "output_type": "stream",
     "text": [
      "SELFCAL - INFO : # Mask with threshold 0.003425 Jy/beam created #\n"
     ]
    },
    {
     "name": "stderr",
     "output_type": "stream",
     "text": [
      "SELFCAL - INFO : # Clean threshold at major/minor cycle 2/1 was set to 0.000685 Jy/beam #\n"
     ]
    },
    {
     "name": "stderr",
     "output_type": "stream",
     "text": [
      "SELFCAL - INFO : # Major/minor cycle 2/1 cleaning done #\n"
     ]
    },
    {
     "name": "stderr",
     "output_type": "stream",
     "text": [
      "SELFCAL - INFO : # Cleaned image for major/minor cycle 2/1 created #\n"
     ]
    },
    {
     "name": "stderr",
     "output_type": "stream",
     "text": [
      "SELFCAL - INFO : # Residual image for major/minor cycle 2/1 created #\n"
     ]
    },
    {
     "name": "stderr",
     "output_type": "stream",
     "text": [
      "SELFCAL - INFO : # Peak of the residual image is 0.0029782 Jy/beam #\n"
     ]
    },
    {
     "name": "stderr",
     "output_type": "stream",
     "text": [
      "SELFCAL - INFO : # RMS of the residual image is 0.00059332 Jy/beam #\n"
     ]
    },
    {
     "name": "stderr",
     "output_type": "stream",
     "text": [
      "SELFCAL - INFO : # Minor self-calibration cycle 1 for frequency chunk 06 finished #\n"
     ]
    },
    {
     "name": "stderr",
     "output_type": "stream",
     "text": [
      "SELFCAL - INFO : # Minor self-calibration cycle 2 for frequency chunk 06 started #\n"
     ]
    },
    {
     "name": "stderr",
     "output_type": "stream",
     "text": [
      "SELFCAL - INFO : # Mask threshold for major/minor cycle 2/2 set to 0.003425 Jy/beam #\n"
     ]
    },
    {
     "name": "stderr",
     "output_type": "stream",
     "text": [
      "SELFCAL - INFO : # Mask threshold set by Theoretical noise threshold #\n"
     ]
    },
    {
     "name": "stderr",
     "output_type": "stream",
     "text": [
      "SELFCAL - INFO : # Mask with threshold 0.003425 Jy/beam created #\n"
     ]
    },
    {
     "name": "stderr",
     "output_type": "stream",
     "text": [
      "SELFCAL - INFO : # Clean threshold at major/minor cycle 2/2 was set to 0.000685 Jy/beam #\n"
     ]
    },
    {
     "name": "stderr",
     "output_type": "stream",
     "text": [
      "SELFCAL - INFO : # Major/minor cycle 2/2 cleaning done #\n"
     ]
    },
    {
     "name": "stderr",
     "output_type": "stream",
     "text": [
      "SELFCAL - INFO : # Cleaned image for major/minor cycle 2/2 created #\n"
     ]
    },
    {
     "name": "stderr",
     "output_type": "stream",
     "text": [
      "SELFCAL - INFO : # Residual image for major/minor cycle 2/2 created #\n"
     ]
    },
    {
     "name": "stderr",
     "output_type": "stream",
     "text": [
      "SELFCAL - INFO : # Peak of the residual image is 0.00297162 Jy/beam #\n"
     ]
    },
    {
     "name": "stderr",
     "output_type": "stream",
     "text": [
      "SELFCAL - INFO : # RMS of the residual image is 0.000592738 Jy/beam #\n"
     ]
    },
    {
     "name": "stderr",
     "output_type": "stream",
     "text": [
      "SELFCAL - INFO : # Minor self-calibration cycle 2 for frequency chunk 06 finished #\n"
     ]
    },
    {
     "name": "stderr",
     "output_type": "stream",
     "text": [
      "SELFCAL - INFO : # Minor self-calibration cycle 3 for frequency chunk 06 started #\n"
     ]
    },
    {
     "name": "stderr",
     "output_type": "stream",
     "text": [
      "SELFCAL - INFO : # Mask threshold for major/minor cycle 2/3 set to 0.003425 Jy/beam #\n"
     ]
    },
    {
     "name": "stderr",
     "output_type": "stream",
     "text": [
      "SELFCAL - INFO : # Mask threshold set by Theoretical noise threshold #\n"
     ]
    },
    {
     "name": "stderr",
     "output_type": "stream",
     "text": [
      "SELFCAL - INFO : # Mask with threshold 0.003425 Jy/beam created #\n"
     ]
    },
    {
     "name": "stderr",
     "output_type": "stream",
     "text": [
      "SELFCAL - INFO : # Clean threshold at major/minor cycle 2/3 was set to 0.000685 Jy/beam #\n"
     ]
    },
    {
     "name": "stderr",
     "output_type": "stream",
     "text": [
      "SELFCAL - INFO : # Major/minor cycle 2/3 cleaning done #\n"
     ]
    },
    {
     "name": "stderr",
     "output_type": "stream",
     "text": [
      "SELFCAL - INFO : # Cleaned image for major/minor cycle 2/3 created #\n"
     ]
    },
    {
     "name": "stderr",
     "output_type": "stream",
     "text": [
      "SELFCAL - INFO : # Residual image for major/minor cycle 2/3 created #\n"
     ]
    },
    {
     "name": "stderr",
     "output_type": "stream",
     "text": [
      "SELFCAL - INFO : # Peak of the residual image is 0.00297002 Jy/beam #\n"
     ]
    },
    {
     "name": "stderr",
     "output_type": "stream",
     "text": [
      "SELFCAL - INFO : # RMS of the residual image is 0.000592524 Jy/beam #\n"
     ]
    },
    {
     "name": "stderr",
     "output_type": "stream",
     "text": [
      "SELFCAL - INFO : # Minor self-calibration cycle 3 for frequency chunk 06 finished #\n"
     ]
    },
    {
     "name": "stderr",
     "output_type": "stream",
     "text": [
      "SELFCAL - INFO : # Minor self-calibration cycle 4 for frequency chunk 06 started #\n"
     ]
    },
    {
     "name": "stderr",
     "output_type": "stream",
     "text": [
      "SELFCAL - INFO : # Mask threshold for major/minor cycle 2/4 set to 0.003425 Jy/beam #\n"
     ]
    },
    {
     "name": "stderr",
     "output_type": "stream",
     "text": [
      "SELFCAL - INFO : # Mask threshold set by Theoretical noise threshold #\n"
     ]
    },
    {
     "name": "stderr",
     "output_type": "stream",
     "text": [
      "SELFCAL - INFO : # Mask with threshold 0.003425 Jy/beam created #\n"
     ]
    },
    {
     "name": "stderr",
     "output_type": "stream",
     "text": [
      "SELFCAL - INFO : # Clean threshold at major/minor cycle 2/4 was set to 0.000685 Jy/beam #\n"
     ]
    },
    {
     "name": "stderr",
     "output_type": "stream",
     "text": [
      "SELFCAL - INFO : # Major/minor cycle 2/4 cleaning done #\n"
     ]
    },
    {
     "name": "stderr",
     "output_type": "stream",
     "text": [
      "SELFCAL - INFO : # Cleaned image for major/minor cycle 2/4 created #\n"
     ]
    },
    {
     "name": "stderr",
     "output_type": "stream",
     "text": [
      "SELFCAL - INFO : # Residual image for major/minor cycle 2/4 created #\n"
     ]
    },
    {
     "name": "stderr",
     "output_type": "stream",
     "text": [
      "SELFCAL - INFO : # Peak of the residual image is 0.0029646 Jy/beam #\n"
     ]
    },
    {
     "name": "stderr",
     "output_type": "stream",
     "text": [
      "SELFCAL - INFO : # RMS of the residual image is 0.000592384 Jy/beam #\n"
     ]
    },
    {
     "name": "stderr",
     "output_type": "stream",
     "text": [
      "SELFCAL - INFO : # Minor self-calibration cycle 4 for frequency chunk 06 finished #\n"
     ]
    },
    {
     "name": "stderr",
     "output_type": "stream",
     "text": [
      "SELFCAL - INFO : # Doing self-calibration with uvmin=0.0, uvmax=3000, solution interval=0.5 minutes for major cycle 02 #\n"
     ]
    },
    {
     "name": "stderr",
     "output_type": "stream",
     "text": [
      "SELFCAL - INFO : # Major self-calibration cycle 2 for frequency chunk 06 finished #\n"
     ]
    },
    {
     "name": "stderr",
     "output_type": "stream",
     "text": [
      "SELFCAL - INFO : # Standard self-calibration routine for chunk 06 finished #\n"
     ]
    },
    {
     "name": "stderr",
     "output_type": "stream",
     "text": [
      "SELFCAL - INFO : # Starting standard self-calibration routine on frequency chunk 07 #\n"
     ]
    },
    {
     "name": "stderr",
     "output_type": "stream",
     "text": [
      "SELFCAL - INFO : # Moved to directory /data/adebahr/apertif/7070708_M51/selfcal/07 #\n"
     ]
    },
    {
     "name": "stderr",
     "output_type": "stream",
     "text": [
      "SELFCAL - INFO : # Theoretical noise for chunk 07 is 6.85e-05 Jy/beam #\n"
     ]
    },
    {
     "name": "stderr",
     "output_type": "stream",
     "text": [
      "SELFCAL - INFO : # Your theoretical noise threshold will be 50 times the theoretical noise corresponding to 0.003425 Jy/beam #\n"
     ]
    },
    {
     "name": "stderr",
     "output_type": "stream",
     "text": [
      "SELFCAL - INFO : # Your dynamic range limits are set to [25.0, 50.0, 100.0] for the major self-calibration cycles #\n"
     ]
    },
    {
     "name": "stderr",
     "output_type": "stream",
     "text": [
      "SELFCAL - INFO : # Major self-calibration cycle 0 for frequency chunk 07 started #\n"
     ]
    },
    {
     "name": "stderr",
     "output_type": "stream",
     "text": [
      "SELFCAL - INFO : # Creating directory /data/adebahr/apertif/7070708_M51/selfcal/07/00 #\n"
     ]
    },
    {
     "name": "stderr",
     "output_type": "stream",
     "text": [
      "SELFCAL - INFO : # The minor cycle dynamic range limits for major cycle 0 are [3.0, 1.5625, 6.25, 14.0625, 25.0] #\n"
     ]
    },
    {
     "name": "stderr",
     "output_type": "stream",
     "text": [
      "SELFCAL - INFO : # Minor self-calibration cycle 0 for frequency chunk 07 started #\n"
     ]
    },
    {
     "name": "stderr",
     "output_type": "stream",
     "text": [
      "SELFCAL - INFO : # Mask threshold for major/minor cycle 0/0 set to 0.0192062879602 Jy/beam #\n"
     ]
    },
    {
     "name": "stderr",
     "output_type": "stream",
     "text": [
      "SELFCAL - INFO : # Mask threshold set by Dynamic range threshold #\n"
     ]
    },
    {
     "name": "stderr",
     "output_type": "stream",
     "text": [
      "SELFCAL - INFO : # Mask with threshold 0.0192062879602 Jy/beam created #\n"
     ]
    },
    {
     "name": "stderr",
     "output_type": "stream",
     "text": [
      "SELFCAL - INFO : # Clean threshold at major/minor cycle 0/0 was set to 0.00384125759204 Jy/beam #\n"
     ]
    },
    {
     "name": "stderr",
     "output_type": "stream",
     "text": [
      "SELFCAL - INFO : # Major/minor cycle 0/0 cleaning done #\n"
     ]
    },
    {
     "name": "stderr",
     "output_type": "stream",
     "text": [
      "SELFCAL - INFO : # Cleaned image for major/minor cycle 0/0 created #\n"
     ]
    },
    {
     "name": "stderr",
     "output_type": "stream",
     "text": [
      "SELFCAL - INFO : # Residual image for major/minor cycle 0/0 created #\n"
     ]
    },
    {
     "name": "stderr",
     "output_type": "stream",
     "text": [
      "SELFCAL - INFO : # Peak of the residual image is 0.0194601 Jy/beam #\n"
     ]
    },
    {
     "name": "stderr",
     "output_type": "stream",
     "text": [
      "SELFCAL - INFO : # RMS of the residual image is 0.00116631 Jy/beam #\n"
     ]
    },
    {
     "name": "stderr",
     "output_type": "stream",
     "text": [
      "SELFCAL - INFO : # Minor self-calibration cycle 0 for frequency chunk 07 finished #\n"
     ]
    },
    {
     "name": "stderr",
     "output_type": "stream",
     "text": [
      "SELFCAL - INFO : # Minor self-calibration cycle 1 for frequency chunk 07 started #\n"
     ]
    },
    {
     "name": "stderr",
     "output_type": "stream",
     "text": [
      "SELFCAL - INFO : # Mask threshold for major/minor cycle 0/1 set to 0.0368760728836 Jy/beam #\n"
     ]
    },
    {
     "name": "stderr",
     "output_type": "stream",
     "text": [
      "SELFCAL - INFO : # Mask threshold set by Dynamic range threshold #\n"
     ]
    },
    {
     "name": "stderr",
     "output_type": "stream",
     "text": [
      "SELFCAL - INFO : # Mask with threshold 0.0368760728836 Jy/beam created #\n"
     ]
    },
    {
     "name": "stderr",
     "output_type": "stream",
     "text": [
      "SELFCAL - INFO : # Clean threshold at major/minor cycle 0/1 was set to 0.00737521457672 Jy/beam #\n"
     ]
    },
    {
     "name": "stderr",
     "output_type": "stream",
     "text": [
      "SELFCAL - INFO : # Major/minor cycle 0/1 cleaning done #\n"
     ]
    },
    {
     "name": "stderr",
     "output_type": "stream",
     "text": [
      "SELFCAL - INFO : # Cleaned image for major/minor cycle 0/1 created #\n"
     ]
    },
    {
     "name": "stderr",
     "output_type": "stream",
     "text": [
      "SELFCAL - INFO : # Residual image for major/minor cycle 0/1 created #\n"
     ]
    },
    {
     "name": "stderr",
     "output_type": "stream",
     "text": [
      "SELFCAL - INFO : # Peak of the residual image is 0.0224981 Jy/beam #\n"
     ]
    },
    {
     "name": "stderr",
     "output_type": "stream",
     "text": [
      "SELFCAL - INFO : # RMS of the residual image is 0.00133846 Jy/beam #\n"
     ]
    },
    {
     "name": "stderr",
     "output_type": "stream",
     "text": [
      "SELFCAL - INFO : # Minor self-calibration cycle 1 for frequency chunk 07 finished #\n"
     ]
    },
    {
     "name": "stderr",
     "output_type": "stream",
     "text": [
      "SELFCAL - INFO : # Minor self-calibration cycle 2 for frequency chunk 07 started #\n"
     ]
    },
    {
     "name": "stderr",
     "output_type": "stream",
     "text": [
      "SELFCAL - INFO : # Mask threshold for major/minor cycle 0/2 set to 0.0092190182209 Jy/beam #\n"
     ]
    },
    {
     "name": "stderr",
     "output_type": "stream",
     "text": [
      "SELFCAL - INFO : # Mask threshold set by Dynamic range threshold #\n"
     ]
    },
    {
     "name": "stderr",
     "output_type": "stream",
     "text": [
      "SELFCAL - INFO : # Mask with threshold 0.0092190182209 Jy/beam created #\n"
     ]
    },
    {
     "name": "stderr",
     "output_type": "stream",
     "text": [
      "SELFCAL - INFO : # Clean threshold at major/minor cycle 0/2 was set to 0.00184380364418 Jy/beam #\n"
     ]
    },
    {
     "name": "stderr",
     "output_type": "stream",
     "text": [
      "SELFCAL - INFO : # Major/minor cycle 0/2 cleaning done #\n"
     ]
    },
    {
     "name": "stderr",
     "output_type": "stream",
     "text": [
      "SELFCAL - INFO : # Cleaned image for major/minor cycle 0/2 created #\n"
     ]
    },
    {
     "name": "stderr",
     "output_type": "stream",
     "text": [
      "SELFCAL - INFO : # Residual image for major/minor cycle 0/2 created #\n"
     ]
    },
    {
     "name": "stderr",
     "output_type": "stream",
     "text": [
      "SELFCAL - INFO : # Peak of the residual image is 0.00933503 Jy/beam #\n"
     ]
    },
    {
     "name": "stderr",
     "output_type": "stream",
     "text": [
      "SELFCAL - INFO : # RMS of the residual image is 0.000954094 Jy/beam #\n"
     ]
    },
    {
     "name": "stderr",
     "output_type": "stream",
     "text": [
      "SELFCAL - INFO : # Minor self-calibration cycle 2 for frequency chunk 07 finished #\n"
     ]
    },
    {
     "name": "stderr",
     "output_type": "stream",
     "text": [
      "SELFCAL - INFO : # Minor self-calibration cycle 3 for frequency chunk 07 started #\n"
     ]
    },
    {
     "name": "stderr",
     "output_type": "stream",
     "text": [
      "SELFCAL - INFO : # Mask threshold for major/minor cycle 0/3 set to 0.00409734143151 Jy/beam #\n"
     ]
    },
    {
     "name": "stderr",
     "output_type": "stream",
     "text": [
      "SELFCAL - INFO : # Mask threshold set by Dynamic range threshold #\n"
     ]
    },
    {
     "name": "stderr",
     "output_type": "stream",
     "text": [
      "SELFCAL - INFO : # Mask with threshold 0.00409734143151 Jy/beam created #\n"
     ]
    },
    {
     "name": "stderr",
     "output_type": "stream",
     "text": [
      "SELFCAL - INFO : # Clean threshold at major/minor cycle 0/3 was set to 0.000819468286302 Jy/beam #\n"
     ]
    },
    {
     "name": "stderr",
     "output_type": "stream",
     "text": [
      "SELFCAL - INFO : # Major/minor cycle 0/3 cleaning done #\n"
     ]
    },
    {
     "name": "stderr",
     "output_type": "stream",
     "text": [
      "SELFCAL - INFO : # Cleaned image for major/minor cycle 0/3 created #\n"
     ]
    },
    {
     "name": "stderr",
     "output_type": "stream",
     "text": [
      "SELFCAL - INFO : # Residual image for major/minor cycle 0/3 created #\n"
     ]
    },
    {
     "name": "stderr",
     "output_type": "stream",
     "text": [
      "SELFCAL - INFO : # Peak of the residual image is 0.00429712 Jy/beam #\n"
     ]
    },
    {
     "name": "stderr",
     "output_type": "stream",
     "text": [
      "SELFCAL - INFO : # RMS of the residual image is 0.000732252 Jy/beam #\n"
     ]
    },
    {
     "name": "stderr",
     "output_type": "stream",
     "text": [
      "SELFCAL - INFO : # Minor self-calibration cycle 3 for frequency chunk 07 finished #\n"
     ]
    },
    {
     "name": "stderr",
     "output_type": "stream",
     "text": [
      "SELFCAL - INFO : # Minor self-calibration cycle 4 for frequency chunk 07 started #\n"
     ]
    },
    {
     "name": "stderr",
     "output_type": "stream",
     "text": [
      "SELFCAL - INFO : # Mask threshold for major/minor cycle 0/4 set to 0.003425 Jy/beam #\n"
     ]
    },
    {
     "name": "stderr",
     "output_type": "stream",
     "text": [
      "SELFCAL - INFO : # Mask threshold set by Theoretical noise threshold #\n"
     ]
    },
    {
     "name": "stderr",
     "output_type": "stream",
     "text": [
      "SELFCAL - INFO : # Mask with threshold 0.003425 Jy/beam created #\n"
     ]
    },
    {
     "name": "stderr",
     "output_type": "stream",
     "text": [
      "SELFCAL - INFO : # Clean threshold at major/minor cycle 0/4 was set to 0.000685 Jy/beam #\n"
     ]
    },
    {
     "name": "stderr",
     "output_type": "stream",
     "text": [
      "SELFCAL - INFO : # Major/minor cycle 0/4 cleaning done #\n"
     ]
    },
    {
     "name": "stderr",
     "output_type": "stream",
     "text": [
      "SELFCAL - INFO : # Cleaned image for major/minor cycle 0/4 created #\n"
     ]
    },
    {
     "name": "stderr",
     "output_type": "stream",
     "text": [
      "SELFCAL - INFO : # Residual image for major/minor cycle 0/4 created #\n"
     ]
    },
    {
     "name": "stderr",
     "output_type": "stream",
     "text": [
      "SELFCAL - INFO : # Peak of the residual image is 0.0038825 Jy/beam #\n"
     ]
    },
    {
     "name": "stderr",
     "output_type": "stream",
     "text": [
      "SELFCAL - INFO : # RMS of the residual image is 0.000719552 Jy/beam #\n"
     ]
    },
    {
     "name": "stderr",
     "output_type": "stream",
     "text": [
      "SELFCAL - INFO : # Minor self-calibration cycle 4 for frequency chunk 07 finished #\n"
     ]
    },
    {
     "name": "stderr",
     "output_type": "stream",
     "text": [
      "SELFCAL - INFO : # Doing self-calibration with uvmin=0.0, uvmax=3000, solution interval=5 minutes for major cycle 00 #\n"
     ]
    },
    {
     "name": "stderr",
     "output_type": "stream",
     "text": [
      "SELFCAL - INFO : # Major self-calibration cycle 0 for frequency chunk 07 finished #\n"
     ]
    },
    {
     "name": "stderr",
     "output_type": "stream",
     "text": [
      "SELFCAL - INFO : # Major self-calibration cycle 1 for frequency chunk 07 started #\n"
     ]
    },
    {
     "name": "stderr",
     "output_type": "stream",
     "text": [
      "SELFCAL - INFO : # Creating directory /data/adebahr/apertif/7070708_M51/selfcal/07/01 #\n"
     ]
    },
    {
     "name": "stderr",
     "output_type": "stream",
     "text": [
      "SELFCAL - INFO : # The minor cycle dynamic range limits for major cycle 1 are [25.0, 26.5625, 31.25, 39.0625, 50.0] #\n"
     ]
    },
    {
     "name": "stderr",
     "output_type": "stream",
     "text": [
      "SELFCAL - INFO : # Minor self-calibration cycle 0 for frequency chunk 07 started #\n"
     ]
    },
    {
     "name": "stderr",
     "output_type": "stream",
     "text": [
      "SELFCAL - INFO : # Mask threshold for major/minor cycle 1/0 set to 0.003425 Jy/beam #\n"
     ]
    },
    {
     "name": "stderr",
     "output_type": "stream",
     "text": [
      "SELFCAL - INFO : # Mask threshold set by Theoretical noise threshold #\n"
     ]
    },
    {
     "name": "stderr",
     "output_type": "stream",
     "text": [
      "SELFCAL - INFO : # Mask from last minor iteration of last major cycle copied #\n"
     ]
    },
    {
     "name": "stderr",
     "output_type": "stream",
     "text": [
      "SELFCAL - INFO : # Clean threshold at major/minor cycle 1/0 was set to 0.000685 Jy/beam #\n"
     ]
    },
    {
     "name": "stderr",
     "output_type": "stream",
     "text": [
      "SELFCAL - INFO : # Major/minor cycle 1/0 cleaning done #\n"
     ]
    },
    {
     "name": "stderr",
     "output_type": "stream",
     "text": [
      "SELFCAL - INFO : # Cleaned image for major/minor cycle 1/0 created #\n"
     ]
    },
    {
     "name": "stderr",
     "output_type": "stream",
     "text": [
      "SELFCAL - INFO : # Residual image for major/minor cycle 1/0 created #\n"
     ]
    },
    {
     "name": "stderr",
     "output_type": "stream",
     "text": [
      "SELFCAL - INFO : # Peak of the residual image is 0.0038105 Jy/beam #\n"
     ]
    },
    {
     "name": "stderr",
     "output_type": "stream",
     "text": [
      "SELFCAL - INFO : # RMS of the residual image is 0.000610497 Jy/beam #\n"
     ]
    },
    {
     "name": "stderr",
     "output_type": "stream",
     "text": [
      "SELFCAL - INFO : # Minor self-calibration cycle 0 for frequency chunk 07 finished #\n"
     ]
    },
    {
     "name": "stderr",
     "output_type": "stream",
     "text": [
      "SELFCAL - INFO : # Minor self-calibration cycle 1 for frequency chunk 07 started #\n"
     ]
    },
    {
     "name": "stderr",
     "output_type": "stream",
     "text": [
      "SELFCAL - INFO : # Mask threshold for major/minor cycle 1/1 set to 0.003425 Jy/beam #\n"
     ]
    },
    {
     "name": "stderr",
     "output_type": "stream",
     "text": [
      "SELFCAL - INFO : # Mask threshold set by Theoretical noise threshold #\n"
     ]
    },
    {
     "name": "stderr",
     "output_type": "stream",
     "text": [
      "SELFCAL - INFO : # Mask with threshold 0.003425 Jy/beam created #\n"
     ]
    },
    {
     "name": "stderr",
     "output_type": "stream",
     "text": [
      "SELFCAL - INFO : # Clean threshold at major/minor cycle 1/1 was set to 0.000685 Jy/beam #\n"
     ]
    },
    {
     "name": "stderr",
     "output_type": "stream",
     "text": [
      "SELFCAL - INFO : # Major/minor cycle 1/1 cleaning done #\n"
     ]
    },
    {
     "name": "stderr",
     "output_type": "stream",
     "text": [
      "SELFCAL - INFO : # Cleaned image for major/minor cycle 1/1 created #\n"
     ]
    },
    {
     "name": "stderr",
     "output_type": "stream",
     "text": [
      "SELFCAL - INFO : # Residual image for major/minor cycle 1/1 created #\n"
     ]
    },
    {
     "name": "stderr",
     "output_type": "stream",
     "text": [
      "SELFCAL - INFO : # Peak of the residual image is 0.00356306 Jy/beam #\n"
     ]
    },
    {
     "name": "stderr",
     "output_type": "stream",
     "text": [
      "SELFCAL - INFO : # RMS of the residual image is 0.000602489 Jy/beam #\n"
     ]
    },
    {
     "name": "stderr",
     "output_type": "stream",
     "text": [
      "SELFCAL - INFO : # Minor self-calibration cycle 1 for frequency chunk 07 finished #\n"
     ]
    },
    {
     "name": "stderr",
     "output_type": "stream",
     "text": [
      "SELFCAL - INFO : # Minor self-calibration cycle 2 for frequency chunk 07 started #\n"
     ]
    },
    {
     "name": "stderr",
     "output_type": "stream",
     "text": [
      "SELFCAL - INFO : # Mask threshold for major/minor cycle 1/2 set to 0.003425 Jy/beam #\n"
     ]
    },
    {
     "name": "stderr",
     "output_type": "stream",
     "text": [
      "SELFCAL - INFO : # Mask threshold set by Theoretical noise threshold #\n"
     ]
    },
    {
     "name": "stderr",
     "output_type": "stream",
     "text": [
      "SELFCAL - INFO : # Mask with threshold 0.003425 Jy/beam created #\n"
     ]
    },
    {
     "name": "stderr",
     "output_type": "stream",
     "text": [
      "SELFCAL - INFO : # Clean threshold at major/minor cycle 1/2 was set to 0.000685 Jy/beam #\n"
     ]
    },
    {
     "name": "stderr",
     "output_type": "stream",
     "text": [
      "SELFCAL - INFO : # Major/minor cycle 1/2 cleaning done #\n"
     ]
    },
    {
     "name": "stderr",
     "output_type": "stream",
     "text": [
      "SELFCAL - INFO : # Cleaned image for major/minor cycle 1/2 created #\n"
     ]
    },
    {
     "name": "stderr",
     "output_type": "stream",
     "text": [
      "SELFCAL - INFO : # Residual image for major/minor cycle 1/2 created #\n"
     ]
    },
    {
     "name": "stderr",
     "output_type": "stream",
     "text": [
      "SELFCAL - INFO : # Peak of the residual image is 0.00299221 Jy/beam #\n"
     ]
    },
    {
     "name": "stderr",
     "output_type": "stream",
     "text": [
      "SELFCAL - INFO : # RMS of the residual image is 0.00059519 Jy/beam #\n"
     ]
    },
    {
     "name": "stderr",
     "output_type": "stream",
     "text": [
      "SELFCAL - INFO : # Minor self-calibration cycle 2 for frequency chunk 07 finished #\n"
     ]
    },
    {
     "name": "stderr",
     "output_type": "stream",
     "text": [
      "SELFCAL - INFO : # Minor self-calibration cycle 3 for frequency chunk 07 started #\n"
     ]
    },
    {
     "name": "stderr",
     "output_type": "stream",
     "text": [
      "SELFCAL - INFO : # Mask threshold for major/minor cycle 1/3 set to 0.003425 Jy/beam #\n"
     ]
    },
    {
     "name": "stderr",
     "output_type": "stream",
     "text": [
      "SELFCAL - INFO : # Mask threshold set by Theoretical noise threshold #\n"
     ]
    },
    {
     "name": "stderr",
     "output_type": "stream",
     "text": [
      "SELFCAL - INFO : # Mask with threshold 0.003425 Jy/beam created #\n"
     ]
    },
    {
     "name": "stderr",
     "output_type": "stream",
     "text": [
      "SELFCAL - INFO : # Clean threshold at major/minor cycle 1/3 was set to 0.000685 Jy/beam #\n"
     ]
    },
    {
     "name": "stderr",
     "output_type": "stream",
     "text": [
      "SELFCAL - INFO : # Major/minor cycle 1/3 cleaning done #\n"
     ]
    },
    {
     "name": "stderr",
     "output_type": "stream",
     "text": [
      "SELFCAL - INFO : # Cleaned image for major/minor cycle 1/3 created #\n"
     ]
    },
    {
     "name": "stderr",
     "output_type": "stream",
     "text": [
      "SELFCAL - INFO : # Residual image for major/minor cycle 1/3 created #\n"
     ]
    },
    {
     "name": "stderr",
     "output_type": "stream",
     "text": [
      "SELFCAL - INFO : # Peak of the residual image is 0.00298411 Jy/beam #\n"
     ]
    },
    {
     "name": "stderr",
     "output_type": "stream",
     "text": [
      "SELFCAL - INFO : # RMS of the residual image is 0.00059427 Jy/beam #\n"
     ]
    },
    {
     "name": "stderr",
     "output_type": "stream",
     "text": [
      "SELFCAL - INFO : # Minor self-calibration cycle 3 for frequency chunk 07 finished #\n"
     ]
    },
    {
     "name": "stderr",
     "output_type": "stream",
     "text": [
      "SELFCAL - INFO : # Minor self-calibration cycle 4 for frequency chunk 07 started #\n"
     ]
    },
    {
     "name": "stderr",
     "output_type": "stream",
     "text": [
      "SELFCAL - INFO : # Mask threshold for major/minor cycle 1/4 set to 0.003425 Jy/beam #\n"
     ]
    },
    {
     "name": "stderr",
     "output_type": "stream",
     "text": [
      "SELFCAL - INFO : # Mask threshold set by Theoretical noise threshold #\n"
     ]
    },
    {
     "name": "stderr",
     "output_type": "stream",
     "text": [
      "SELFCAL - INFO : # Mask with threshold 0.003425 Jy/beam created #\n"
     ]
    },
    {
     "name": "stderr",
     "output_type": "stream",
     "text": [
      "SELFCAL - INFO : # Clean threshold at major/minor cycle 1/4 was set to 0.000685 Jy/beam #\n"
     ]
    },
    {
     "name": "stderr",
     "output_type": "stream",
     "text": [
      "SELFCAL - INFO : # Major/minor cycle 1/4 cleaning done #\n"
     ]
    },
    {
     "name": "stderr",
     "output_type": "stream",
     "text": [
      "SELFCAL - INFO : # Cleaned image for major/minor cycle 1/4 created #\n"
     ]
    },
    {
     "name": "stderr",
     "output_type": "stream",
     "text": [
      "SELFCAL - INFO : # Residual image for major/minor cycle 1/4 created #\n"
     ]
    },
    {
     "name": "stderr",
     "output_type": "stream",
     "text": [
      "SELFCAL - INFO : # Peak of the residual image is 0.00297381 Jy/beam #\n"
     ]
    },
    {
     "name": "stderr",
     "output_type": "stream",
     "text": [
      "SELFCAL - INFO : # RMS of the residual image is 0.000593696 Jy/beam #\n"
     ]
    },
    {
     "name": "stderr",
     "output_type": "stream",
     "text": [
      "SELFCAL - INFO : # Minor self-calibration cycle 4 for frequency chunk 07 finished #\n"
     ]
    },
    {
     "name": "stderr",
     "output_type": "stream",
     "text": [
      "SELFCAL - INFO : # Doing self-calibration with uvmin=0.0, uvmax=3000, solution interval=3 minutes for major cycle 01 #\n"
     ]
    },
    {
     "name": "stderr",
     "output_type": "stream",
     "text": [
      "SELFCAL - INFO : # Major self-calibration cycle 1 for frequency chunk 07 finished #\n"
     ]
    },
    {
     "name": "stderr",
     "output_type": "stream",
     "text": [
      "SELFCAL - INFO : # Major self-calibration cycle 2 for frequency chunk 07 started #\n"
     ]
    },
    {
     "name": "stderr",
     "output_type": "stream",
     "text": [
      "SELFCAL - INFO : # Creating directory /data/adebahr/apertif/7070708_M51/selfcal/07/02 #\n"
     ]
    },
    {
     "name": "stderr",
     "output_type": "stream",
     "text": [
      "SELFCAL - INFO : # The minor cycle dynamic range limits for major cycle 2 are [50.0, 53.125, 62.5, 78.125, 100.0] #\n"
     ]
    },
    {
     "name": "stderr",
     "output_type": "stream",
     "text": [
      "SELFCAL - INFO : # Minor self-calibration cycle 0 for frequency chunk 07 started #\n"
     ]
    },
    {
     "name": "stderr",
     "output_type": "stream",
     "text": [
      "SELFCAL - INFO : # Mask threshold for major/minor cycle 2/0 set to 0.003425 Jy/beam #\n"
     ]
    },
    {
     "name": "stderr",
     "output_type": "stream",
     "text": [
      "SELFCAL - INFO : # Mask threshold set by Theoretical noise threshold #\n"
     ]
    },
    {
     "name": "stderr",
     "output_type": "stream",
     "text": [
      "SELFCAL - INFO : # Mask from last minor iteration of last major cycle copied #\n"
     ]
    },
    {
     "name": "stderr",
     "output_type": "stream",
     "text": [
      "SELFCAL - INFO : # Clean threshold at major/minor cycle 2/0 was set to 0.000685 Jy/beam #\n"
     ]
    },
    {
     "name": "stderr",
     "output_type": "stream",
     "text": [
      "SELFCAL - INFO : # Major/minor cycle 2/0 cleaning done #\n"
     ]
    },
    {
     "name": "stderr",
     "output_type": "stream",
     "text": [
      "SELFCAL - INFO : # Cleaned image for major/minor cycle 2/0 created #\n"
     ]
    },
    {
     "name": "stderr",
     "output_type": "stream",
     "text": [
      "SELFCAL - INFO : # Residual image for major/minor cycle 2/0 created #\n"
     ]
    },
    {
     "name": "stderr",
     "output_type": "stream",
     "text": [
      "SELFCAL - INFO : # Peak of the residual image is 0.00304023 Jy/beam #\n"
     ]
    },
    {
     "name": "stderr",
     "output_type": "stream",
     "text": [
      "SELFCAL - INFO : # RMS of the residual image is 0.000564469 Jy/beam #\n"
     ]
    },
    {
     "name": "stderr",
     "output_type": "stream",
     "text": [
      "SELFCAL - INFO : # Minor self-calibration cycle 0 for frequency chunk 07 finished #\n"
     ]
    },
    {
     "name": "stderr",
     "output_type": "stream",
     "text": [
      "SELFCAL - INFO : # Minor self-calibration cycle 1 for frequency chunk 07 started #\n"
     ]
    },
    {
     "name": "stderr",
     "output_type": "stream",
     "text": [
      "SELFCAL - INFO : # Mask threshold for major/minor cycle 2/1 set to 0.003425 Jy/beam #\n"
     ]
    },
    {
     "name": "stderr",
     "output_type": "stream",
     "text": [
      "SELFCAL - INFO : # Mask threshold set by Theoretical noise threshold #\n"
     ]
    },
    {
     "name": "stderr",
     "output_type": "stream",
     "text": [
      "SELFCAL - INFO : # Mask with threshold 0.003425 Jy/beam created #\n"
     ]
    },
    {
     "name": "stderr",
     "output_type": "stream",
     "text": [
      "SELFCAL - INFO : # Clean threshold at major/minor cycle 2/1 was set to 0.000685 Jy/beam #\n"
     ]
    },
    {
     "name": "stderr",
     "output_type": "stream",
     "text": [
      "SELFCAL - INFO : # Major/minor cycle 2/1 cleaning done #\n"
     ]
    },
    {
     "name": "stderr",
     "output_type": "stream",
     "text": [
      "SELFCAL - INFO : # Cleaned image for major/minor cycle 2/1 created #\n"
     ]
    },
    {
     "name": "stderr",
     "output_type": "stream",
     "text": [
      "SELFCAL - INFO : # Residual image for major/minor cycle 2/1 created #\n"
     ]
    },
    {
     "name": "stderr",
     "output_type": "stream",
     "text": [
      "SELFCAL - INFO : # Peak of the residual image is 0.00301452 Jy/beam #\n"
     ]
    },
    {
     "name": "stderr",
     "output_type": "stream",
     "text": [
      "SELFCAL - INFO : # RMS of the residual image is 0.000563214 Jy/beam #\n"
     ]
    },
    {
     "name": "stderr",
     "output_type": "stream",
     "text": [
      "SELFCAL - INFO : # Minor self-calibration cycle 1 for frequency chunk 07 finished #\n"
     ]
    },
    {
     "name": "stderr",
     "output_type": "stream",
     "text": [
      "SELFCAL - INFO : # Minor self-calibration cycle 2 for frequency chunk 07 started #\n"
     ]
    },
    {
     "name": "stderr",
     "output_type": "stream",
     "text": [
      "SELFCAL - INFO : # Mask threshold for major/minor cycle 2/2 set to 0.003425 Jy/beam #\n"
     ]
    },
    {
     "name": "stderr",
     "output_type": "stream",
     "text": [
      "SELFCAL - INFO : # Mask threshold set by Theoretical noise threshold #\n"
     ]
    },
    {
     "name": "stderr",
     "output_type": "stream",
     "text": [
      "SELFCAL - INFO : # Mask with threshold 0.003425 Jy/beam created #\n"
     ]
    },
    {
     "name": "stderr",
     "output_type": "stream",
     "text": [
      "SELFCAL - INFO : # Clean threshold at major/minor cycle 2/2 was set to 0.000685 Jy/beam #\n"
     ]
    },
    {
     "name": "stderr",
     "output_type": "stream",
     "text": [
      "SELFCAL - INFO : # Major/minor cycle 2/2 cleaning done #\n"
     ]
    },
    {
     "name": "stderr",
     "output_type": "stream",
     "text": [
      "SELFCAL - INFO : # Cleaned image for major/minor cycle 2/2 created #\n"
     ]
    },
    {
     "name": "stderr",
     "output_type": "stream",
     "text": [
      "SELFCAL - INFO : # Residual image for major/minor cycle 2/2 created #\n"
     ]
    },
    {
     "name": "stderr",
     "output_type": "stream",
     "text": [
      "SELFCAL - INFO : # Peak of the residual image is 0.00302731 Jy/beam #\n"
     ]
    },
    {
     "name": "stderr",
     "output_type": "stream",
     "text": [
      "SELFCAL - INFO : # RMS of the residual image is 0.000562551 Jy/beam #\n"
     ]
    },
    {
     "name": "stderr",
     "output_type": "stream",
     "text": [
      "SELFCAL - INFO : # Minor self-calibration cycle 2 for frequency chunk 07 finished #\n"
     ]
    },
    {
     "name": "stderr",
     "output_type": "stream",
     "text": [
      "SELFCAL - INFO : # Minor self-calibration cycle 3 for frequency chunk 07 started #\n"
     ]
    },
    {
     "name": "stderr",
     "output_type": "stream",
     "text": [
      "SELFCAL - INFO : # Mask threshold for major/minor cycle 2/3 set to 0.003425 Jy/beam #\n"
     ]
    },
    {
     "name": "stderr",
     "output_type": "stream",
     "text": [
      "SELFCAL - INFO : # Mask threshold set by Theoretical noise threshold #\n"
     ]
    },
    {
     "name": "stderr",
     "output_type": "stream",
     "text": [
      "SELFCAL - INFO : # Mask with threshold 0.003425 Jy/beam created #\n"
     ]
    },
    {
     "name": "stderr",
     "output_type": "stream",
     "text": [
      "SELFCAL - INFO : # Clean threshold at major/minor cycle 2/3 was set to 0.000685 Jy/beam #\n"
     ]
    },
    {
     "name": "stderr",
     "output_type": "stream",
     "text": [
      "SELFCAL - INFO : # Major/minor cycle 2/3 cleaning done #\n"
     ]
    },
    {
     "name": "stderr",
     "output_type": "stream",
     "text": [
      "SELFCAL - INFO : # Cleaned image for major/minor cycle 2/3 created #\n"
     ]
    },
    {
     "name": "stderr",
     "output_type": "stream",
     "text": [
      "SELFCAL - INFO : # Residual image for major/minor cycle 2/3 created #\n"
     ]
    },
    {
     "name": "stderr",
     "output_type": "stream",
     "text": [
      "SELFCAL - INFO : # Peak of the residual image is 0.003017 Jy/beam #\n"
     ]
    },
    {
     "name": "stderr",
     "output_type": "stream",
     "text": [
      "SELFCAL - INFO : # RMS of the residual image is 0.000562242 Jy/beam #\n"
     ]
    },
    {
     "name": "stderr",
     "output_type": "stream",
     "text": [
      "SELFCAL - INFO : # Minor self-calibration cycle 3 for frequency chunk 07 finished #\n"
     ]
    },
    {
     "name": "stderr",
     "output_type": "stream",
     "text": [
      "SELFCAL - INFO : # Minor self-calibration cycle 4 for frequency chunk 07 started #\n"
     ]
    },
    {
     "name": "stderr",
     "output_type": "stream",
     "text": [
      "SELFCAL - INFO : # Mask threshold for major/minor cycle 2/4 set to 0.003425 Jy/beam #\n"
     ]
    },
    {
     "name": "stderr",
     "output_type": "stream",
     "text": [
      "SELFCAL - INFO : # Mask threshold set by Theoretical noise threshold #\n"
     ]
    },
    {
     "name": "stderr",
     "output_type": "stream",
     "text": [
      "SELFCAL - INFO : # Mask with threshold 0.003425 Jy/beam created #\n"
     ]
    },
    {
     "name": "stderr",
     "output_type": "stream",
     "text": [
      "SELFCAL - INFO : # Clean threshold at major/minor cycle 2/4 was set to 0.000685 Jy/beam #\n"
     ]
    },
    {
     "name": "stderr",
     "output_type": "stream",
     "text": [
      "SELFCAL - INFO : # Major/minor cycle 2/4 cleaning done #\n"
     ]
    },
    {
     "name": "stderr",
     "output_type": "stream",
     "text": [
      "SELFCAL - INFO : # Cleaned image for major/minor cycle 2/4 created #\n"
     ]
    },
    {
     "name": "stderr",
     "output_type": "stream",
     "text": [
      "SELFCAL - INFO : # Residual image for major/minor cycle 2/4 created #\n"
     ]
    },
    {
     "name": "stderr",
     "output_type": "stream",
     "text": [
      "SELFCAL - INFO : # Peak of the residual image is 0.00302637 Jy/beam #\n"
     ]
    },
    {
     "name": "stderr",
     "output_type": "stream",
     "text": [
      "SELFCAL - INFO : # RMS of the residual image is 0.000561985 Jy/beam #\n"
     ]
    },
    {
     "name": "stderr",
     "output_type": "stream",
     "text": [
      "SELFCAL - INFO : # Minor self-calibration cycle 4 for frequency chunk 07 finished #\n"
     ]
    },
    {
     "name": "stderr",
     "output_type": "stream",
     "text": [
      "SELFCAL - INFO : # Doing self-calibration with uvmin=0.0, uvmax=3000, solution interval=0.5 minutes for major cycle 02 #\n"
     ]
    },
    {
     "name": "stderr",
     "output_type": "stream",
     "text": [
      "SELFCAL - INFO : # Major self-calibration cycle 2 for frequency chunk 07 finished #\n"
     ]
    },
    {
     "name": "stderr",
     "output_type": "stream",
     "text": [
      "SELFCAL - INFO : # Standard self-calibration routine for chunk 07 finished #\n"
     ]
    },
    {
     "name": "stderr",
     "output_type": "stream",
     "text": [
      "SELFCAL - INFO : ### Standard self calibration routine finished ###\n"
     ]
    },
    {
     "name": "stderr",
     "output_type": "stream",
     "text": [
      "SELFCAL - INFO : ########## SELF CALIBRATION done ##########\n"
     ]
    }
   ],
   "source": [
    "scal.go()"
   ]
  },
  {
   "cell_type": "code",
   "execution_count": 13,
   "metadata": {},
   "outputs": [
    {
     "name": "stderr",
     "output_type": "stream",
     "text": [
      "FINAL - INFO : ### Configuration file /home/adebahr/apercal/ipython-notebooks/commissioning/APERTIF/M51.cfg successfully read! ###\n"
     ]
    }
   ],
   "source": [
    "final = apercal.final('/home/adebahr/apercal/ipython-notebooks/commissioning/APERTIF/M51.cfg')"
   ]
  },
  {
   "cell_type": "code",
   "execution_count": 14,
   "metadata": {},
   "outputs": [
    {
     "name": "stderr",
     "output_type": "stream",
     "text": [
      "FINAL - INFO : ########## Starting FINAL IMAGING ##########\n"
     ]
    },
    {
     "name": "stderr",
     "output_type": "stream",
     "text": [
      "FINAL - INFO : ### Starting deep continuum imaging of full dataset ###\n"
     ]
    },
    {
     "name": "stderr",
     "output_type": "stream",
     "text": [
      "FINAL - INFO : # Creating directory /data/adebahr/apertif/7070708_M51/final #\n"
     ]
    },
    {
     "name": "stderr",
     "output_type": "stream",
     "text": [
      "FINAL - INFO : # Moved to directory /data/adebahr/apertif/7070708_M51/final #\n"
     ]
    },
    {
     "name": "stderr",
     "output_type": "stream",
     "text": [
      "FINAL - INFO : # Creating directory /data/adebahr/apertif/7070708_M51/final/continuum #\n"
     ]
    },
    {
     "name": "stderr",
     "output_type": "stream",
     "text": [
      "FINAL - INFO : # Moved to directory /data/adebahr/apertif/7070708_M51/final/continuum #\n"
     ]
    },
    {
     "name": "stderr",
     "output_type": "stream",
     "text": [
      "FINAL - INFO : ### Creating individual deep images from frequency chunks ###\n"
     ]
    },
    {
     "name": "stderr",
     "output_type": "stream",
     "text": [
      "FINAL - INFO : # Creating directory /data/adebahr/apertif/7070708_M51/final/continuum/stack #\n"
     ]
    },
    {
     "name": "stderr",
     "output_type": "stream",
     "text": [
      "FINAL - INFO : # Moved to directory /data/adebahr/apertif/7070708_M51/final/continuum/stack #\n"
     ]
    },
    {
     "name": "stderr",
     "output_type": "stream",
     "text": [
      "FINAL - INFO : ### Final imaging for chunk 00 started ###\n"
     ]
    },
    {
     "name": "stderr",
     "output_type": "stream",
     "text": [
      "FINAL - INFO : # Last major self-calibration cycle seems to have been 3 #\n"
     ]
    },
    {
     "name": "stderr",
     "output_type": "stream",
     "text": [
      "FINAL - INFO : # Creating directory /data/adebahr/apertif/7070708_M51/final/continuum/stack/00 #\n"
     ]
    },
    {
     "name": "stderr",
     "output_type": "stream",
     "text": [
      "FINAL - INFO : # Moved to directory /data/adebahr/apertif/7070708_M51/final/continuum/stack/00 #\n"
     ]
    },
    {
     "name": "stderr",
     "output_type": "stream",
     "text": [
      "FINAL - INFO : # Theoretical noise for chunk 00 is 6.85e-05 Jy/beam #\n"
     ]
    },
    {
     "name": "stderr",
     "output_type": "stream",
     "text": [
      "FINAL - INFO : # Your theoretical noise threshold will be 30 times the theoretical noise corresponding to 0.002055 Jy/beam #\n"
     ]
    },
    {
     "name": "stderr",
     "output_type": "stream",
     "text": [
      "FINAL - INFO : # Dynamic range limits for the final minor iterations to clean are [100.0, 106.25, 125.0, 156.25, 200.0] #\n"
     ]
    },
    {
     "name": "stderr",
     "output_type": "stream",
     "text": [
      "FINAL - INFO : # Mask threshold for final minor cycle 0 set to 0.002055 Jy/beam #\n"
     ]
    },
    {
     "name": "stderr",
     "output_type": "stream",
     "text": [
      "FINAL - INFO : # Mask threshold set by Theoretical noise threshold #\n"
     ]
    },
    {
     "name": "stderr",
     "output_type": "stream",
     "text": [
      "FINAL - INFO : # Mask from last selfcal cycle copied and regridded to common grid #\n"
     ]
    },
    {
     "name": "stderr",
     "output_type": "stream",
     "text": [
      "FINAL - INFO : # Clean threshold for minor cycle 0 was set to 0.000411 Jy/beam #\n"
     ]
    },
    {
     "name": "stderr",
     "output_type": "stream",
     "text": [
      "FINAL - INFO : # Minor cycle 0 cleaning done #\n"
     ]
    },
    {
     "name": "stderr",
     "output_type": "stream",
     "text": [
      "FINAL - INFO : # Cleaned image for minor cycle 0 created #\n"
     ]
    },
    {
     "name": "stderr",
     "output_type": "stream",
     "text": [
      "FINAL - INFO : # Residual image for minor cycle 0 created #\n"
     ]
    },
    {
     "name": "stderr",
     "output_type": "stream",
     "text": [
      "FINAL - INFO : # Peak of the residual image is 0.00324846 Jy/beam #\n"
     ]
    },
    {
     "name": "stderr",
     "output_type": "stream",
     "text": [
      "FINAL - INFO : # RMS of the residual image is 0.000797156 Jy/beam #\n"
     ]
    },
    {
     "name": "stderr",
     "output_type": "stream",
     "text": [
      "FINAL - INFO : # Mask threshold for final imaging minor cycle 1 set to 0.002055 Jy/beam #\n"
     ]
    },
    {
     "name": "stderr",
     "output_type": "stream",
     "text": [
      "FINAL - INFO : # Mask threshold set by Theoretical noise threshold #\n"
     ]
    },
    {
     "name": "stderr",
     "output_type": "stream",
     "text": [
      "FINAL - INFO : # Mask with threshold 0.002055 Jy/beam created #\n"
     ]
    },
    {
     "name": "stderr",
     "output_type": "stream",
     "text": [
      "FINAL - INFO : # Clean threshold for minor cycle 1 was set to 0.000411 Jy/beam #\n"
     ]
    },
    {
     "name": "stderr",
     "output_type": "stream",
     "text": [
      "FINAL - INFO : # Minor cycle 1 cleaning done #\n"
     ]
    },
    {
     "name": "stderr",
     "output_type": "stream",
     "text": [
      "FINAL - INFO : # Cleaned image for minor cycle 1 created #\n"
     ]
    },
    {
     "name": "stderr",
     "output_type": "stream",
     "text": [
      "FINAL - INFO : # Residual image for minor cycle 1 created #\n"
     ]
    },
    {
     "name": "stderr",
     "output_type": "stream",
     "text": [
      "FINAL - INFO : # Peak of the residual image is 0.00225255 Jy/beam #\n"
     ]
    },
    {
     "name": "stderr",
     "output_type": "stream",
     "text": [
      "FINAL - INFO : # RMS of the residual image is 0.000534925 Jy/beam #\n"
     ]
    },
    {
     "name": "stderr",
     "output_type": "stream",
     "text": [
      "FINAL - INFO : # Mask threshold for final imaging minor cycle 2 set to 0.002055 Jy/beam #\n"
     ]
    },
    {
     "name": "stderr",
     "output_type": "stream",
     "text": [
      "FINAL - INFO : # Mask threshold set by Theoretical noise threshold #\n"
     ]
    },
    {
     "name": "stderr",
     "output_type": "stream",
     "text": [
      "FINAL - INFO : # Mask with threshold 0.002055 Jy/beam created #\n"
     ]
    },
    {
     "name": "stderr",
     "output_type": "stream",
     "text": [
      "FINAL - INFO : # Clean threshold for minor cycle 2 was set to 0.000411 Jy/beam #\n"
     ]
    },
    {
     "name": "stderr",
     "output_type": "stream",
     "text": [
      "FINAL - INFO : # Minor cycle 2 cleaning done #\n"
     ]
    },
    {
     "name": "stderr",
     "output_type": "stream",
     "text": [
      "FINAL - INFO : # Cleaned image for minor cycle 2 created #\n"
     ]
    },
    {
     "name": "stderr",
     "output_type": "stream",
     "text": [
      "FINAL - INFO : # Residual image for minor cycle 2 created #\n"
     ]
    },
    {
     "name": "stderr",
     "output_type": "stream",
     "text": [
      "FINAL - INFO : # Peak of the residual image is 0.00331878 Jy/beam #\n"
     ]
    },
    {
     "name": "stderr",
     "output_type": "stream",
     "text": [
      "FINAL - INFO : # RMS of the residual image is 0.000748967 Jy/beam #\n"
     ]
    },
    {
     "name": "stderr",
     "output_type": "stream",
     "text": [
      "FINAL - INFO : # Mask threshold for final imaging minor cycle 3 set to 0.002055 Jy/beam #\n"
     ]
    },
    {
     "name": "stderr",
     "output_type": "stream",
     "text": [
      "FINAL - INFO : # Mask threshold set by Theoretical noise threshold #\n"
     ]
    },
    {
     "name": "stderr",
     "output_type": "stream",
     "text": [
      "FINAL - INFO : # Mask with threshold 0.002055 Jy/beam created #\n"
     ]
    },
    {
     "name": "stderr",
     "output_type": "stream",
     "text": [
      "FINAL - INFO : # Clean threshold for minor cycle 3 was set to 0.000411 Jy/beam #\n"
     ]
    },
    {
     "name": "stderr",
     "output_type": "stream",
     "text": [
      "FINAL - INFO : # Minor cycle 3 cleaning done #\n"
     ]
    },
    {
     "name": "stderr",
     "output_type": "stream",
     "text": [
      "FINAL - INFO : # Cleaned image for minor cycle 3 created #\n"
     ]
    },
    {
     "name": "stderr",
     "output_type": "stream",
     "text": [
      "FINAL - INFO : # Residual image for minor cycle 3 created #\n"
     ]
    },
    {
     "name": "stderr",
     "output_type": "stream",
     "text": [
      "FINAL - INFO : # Peak of the residual image is 0.00268329 Jy/beam #\n"
     ]
    },
    {
     "name": "stderr",
     "output_type": "stream",
     "text": [
      "FINAL - INFO : # RMS of the residual image is 0.000538037 Jy/beam #\n"
     ]
    },
    {
     "name": "stderr",
     "output_type": "stream",
     "text": [
      "FINAL - INFO : # Mask threshold for final imaging minor cycle 4 set to 0.002055 Jy/beam #\n"
     ]
    },
    {
     "name": "stderr",
     "output_type": "stream",
     "text": [
      "FINAL - INFO : # Mask threshold set by Theoretical noise threshold #\n"
     ]
    },
    {
     "name": "stderr",
     "output_type": "stream",
     "text": [
      "FINAL - INFO : # Mask with threshold 0.002055 Jy/beam created #\n"
     ]
    },
    {
     "name": "stderr",
     "output_type": "stream",
     "text": [
      "FINAL - INFO : # Clean threshold for minor cycle 4 was set to 0.000411 Jy/beam #\n"
     ]
    },
    {
     "name": "stderr",
     "output_type": "stream",
     "text": [
      "FINAL - INFO : # Minor cycle 4 cleaning done #\n"
     ]
    },
    {
     "name": "stderr",
     "output_type": "stream",
     "text": [
      "FINAL - INFO : # Cleaned image for minor cycle 4 created #\n"
     ]
    },
    {
     "name": "stderr",
     "output_type": "stream",
     "text": [
      "FINAL - INFO : # Residual image for minor cycle 4 created #\n"
     ]
    },
    {
     "name": "stderr",
     "output_type": "stream",
     "text": [
      "FINAL - INFO : # Peak of the residual image is 0.00325795 Jy/beam #\n"
     ]
    },
    {
     "name": "stderr",
     "output_type": "stream",
     "text": [
      "FINAL - INFO : # RMS of the residual image is 0.000727582 Jy/beam #\n"
     ]
    },
    {
     "name": "stderr",
     "output_type": "stream",
     "text": [
      "FINAL - INFO : ### Final imaging for chunk 00 successful ###\n"
     ]
    },
    {
     "name": "stderr",
     "output_type": "stream",
     "text": [
      "FINAL - INFO : ### Final imaging for chunk 01 started ###\n"
     ]
    },
    {
     "name": "stderr",
     "output_type": "stream",
     "text": [
      "FINAL - INFO : # Last major self-calibration cycle seems to have been 3 #\n"
     ]
    },
    {
     "name": "stderr",
     "output_type": "stream",
     "text": [
      "FINAL - INFO : # Creating directory /data/adebahr/apertif/7070708_M51/final/continuum/stack/01 #\n"
     ]
    },
    {
     "name": "stderr",
     "output_type": "stream",
     "text": [
      "FINAL - INFO : # Moved to directory /data/adebahr/apertif/7070708_M51/final/continuum/stack/01 #\n"
     ]
    },
    {
     "name": "stderr",
     "output_type": "stream",
     "text": [
      "FINAL - INFO : # Theoretical noise for chunk 01 is 6.85e-05 Jy/beam #\n"
     ]
    },
    {
     "name": "stderr",
     "output_type": "stream",
     "text": [
      "FINAL - INFO : # Your theoretical noise threshold will be 30 times the theoretical noise corresponding to 0.002055 Jy/beam #\n"
     ]
    },
    {
     "name": "stderr",
     "output_type": "stream",
     "text": [
      "FINAL - INFO : # Dynamic range limits for the final minor iterations to clean are [100.0, 106.25, 125.0, 156.25, 200.0] #\n"
     ]
    },
    {
     "name": "stderr",
     "output_type": "stream",
     "text": [
      "FINAL - INFO : # Mask threshold for final minor cycle 0 set to 0.002055 Jy/beam #\n"
     ]
    },
    {
     "name": "stderr",
     "output_type": "stream",
     "text": [
      "FINAL - INFO : # Mask threshold set by Theoretical noise threshold #\n"
     ]
    },
    {
     "name": "stderr",
     "output_type": "stream",
     "text": [
      "FINAL - INFO : # Mask from last selfcal cycle copied and regridded to common grid #\n"
     ]
    },
    {
     "name": "stderr",
     "output_type": "stream",
     "text": [
      "FINAL - INFO : # Clean threshold for minor cycle 0 was set to 0.000411 Jy/beam #\n"
     ]
    },
    {
     "name": "stderr",
     "output_type": "stream",
     "text": [
      "FINAL - INFO : # Minor cycle 0 cleaning done #\n"
     ]
    },
    {
     "name": "stderr",
     "output_type": "stream",
     "text": [
      "FINAL - INFO : # Cleaned image for minor cycle 0 created #\n"
     ]
    },
    {
     "name": "stderr",
     "output_type": "stream",
     "text": [
      "FINAL - INFO : # Residual image for minor cycle 0 created #\n"
     ]
    },
    {
     "name": "stderr",
     "output_type": "stream",
     "text": [
      "FINAL - INFO : # Peak of the residual image is 0.00312171 Jy/beam #\n"
     ]
    },
    {
     "name": "stderr",
     "output_type": "stream",
     "text": [
      "FINAL - INFO : # RMS of the residual image is 0.000725279 Jy/beam #\n"
     ]
    },
    {
     "name": "stderr",
     "output_type": "stream",
     "text": [
      "FINAL - INFO : # Mask threshold for final imaging minor cycle 1 set to 0.002055 Jy/beam #\n"
     ]
    },
    {
     "name": "stderr",
     "output_type": "stream",
     "text": [
      "FINAL - INFO : # Mask threshold set by Theoretical noise threshold #\n"
     ]
    },
    {
     "name": "stderr",
     "output_type": "stream",
     "text": [
      "FINAL - INFO : # Mask with threshold 0.002055 Jy/beam created #\n"
     ]
    },
    {
     "name": "stderr",
     "output_type": "stream",
     "text": [
      "FINAL - INFO : # Clean threshold for minor cycle 1 was set to 0.000411 Jy/beam #\n"
     ]
    },
    {
     "name": "stderr",
     "output_type": "stream",
     "text": [
      "FINAL - INFO : # Minor cycle 1 cleaning done #\n"
     ]
    },
    {
     "name": "stderr",
     "output_type": "stream",
     "text": [
      "FINAL - INFO : # Cleaned image for minor cycle 1 created #\n"
     ]
    },
    {
     "name": "stderr",
     "output_type": "stream",
     "text": [
      "FINAL - INFO : # Residual image for minor cycle 1 created #\n"
     ]
    },
    {
     "name": "stderr",
     "output_type": "stream",
     "text": [
      "FINAL - INFO : # Peak of the residual image is 0.00229279 Jy/beam #\n"
     ]
    },
    {
     "name": "stderr",
     "output_type": "stream",
     "text": [
      "FINAL - INFO : # RMS of the residual image is 0.000549351 Jy/beam #\n"
     ]
    },
    {
     "name": "stderr",
     "output_type": "stream",
     "text": [
      "FINAL - INFO : # Mask threshold for final imaging minor cycle 2 set to 0.002055 Jy/beam #\n"
     ]
    },
    {
     "name": "stderr",
     "output_type": "stream",
     "text": [
      "FINAL - INFO : # Mask threshold set by Theoretical noise threshold #\n"
     ]
    },
    {
     "name": "stderr",
     "output_type": "stream",
     "text": [
      "FINAL - INFO : # Mask with threshold 0.002055 Jy/beam created #\n"
     ]
    },
    {
     "name": "stderr",
     "output_type": "stream",
     "text": [
      "FINAL - INFO : # Clean threshold for minor cycle 2 was set to 0.000411 Jy/beam #\n"
     ]
    },
    {
     "name": "stderr",
     "output_type": "stream",
     "text": [
      "FINAL - INFO : # Minor cycle 2 cleaning done #\n"
     ]
    },
    {
     "name": "stderr",
     "output_type": "stream",
     "text": [
      "FINAL - INFO : # Cleaned image for minor cycle 2 created #\n"
     ]
    },
    {
     "name": "stderr",
     "output_type": "stream",
     "text": [
      "FINAL - INFO : # Residual image for minor cycle 2 created #\n"
     ]
    },
    {
     "name": "stderr",
     "output_type": "stream",
     "text": [
      "FINAL - INFO : # Peak of the residual image is 0.00287875 Jy/beam #\n"
     ]
    },
    {
     "name": "stderr",
     "output_type": "stream",
     "text": [
      "FINAL - INFO : # RMS of the residual image is 0.00066684 Jy/beam #\n"
     ]
    },
    {
     "name": "stderr",
     "output_type": "stream",
     "text": [
      "FINAL - INFO : # Mask threshold for final imaging minor cycle 3 set to 0.002055 Jy/beam #\n"
     ]
    },
    {
     "name": "stderr",
     "output_type": "stream",
     "text": [
      "FINAL - INFO : # Mask threshold set by Theoretical noise threshold #\n"
     ]
    },
    {
     "name": "stderr",
     "output_type": "stream",
     "text": [
      "FINAL - INFO : # Mask with threshold 0.002055 Jy/beam created #\n"
     ]
    },
    {
     "name": "stderr",
     "output_type": "stream",
     "text": [
      "FINAL - INFO : # Clean threshold for minor cycle 3 was set to 0.000411 Jy/beam #\n"
     ]
    },
    {
     "name": "stderr",
     "output_type": "stream",
     "text": [
      "FINAL - INFO : # Minor cycle 3 cleaning done #\n"
     ]
    },
    {
     "name": "stderr",
     "output_type": "stream",
     "text": [
      "FINAL - INFO : # Cleaned image for minor cycle 3 created #\n"
     ]
    },
    {
     "name": "stderr",
     "output_type": "stream",
     "text": [
      "FINAL - INFO : # Residual image for minor cycle 3 created #\n"
     ]
    },
    {
     "name": "stderr",
     "output_type": "stream",
     "text": [
      "FINAL - INFO : # Peak of the residual image is 0.00248645 Jy/beam #\n"
     ]
    },
    {
     "name": "stderr",
     "output_type": "stream",
     "text": [
      "FINAL - INFO : # RMS of the residual image is 0.00056022 Jy/beam #\n"
     ]
    },
    {
     "name": "stderr",
     "output_type": "stream",
     "text": [
      "FINAL - INFO : # Mask threshold for final imaging minor cycle 4 set to 0.002055 Jy/beam #\n"
     ]
    },
    {
     "name": "stderr",
     "output_type": "stream",
     "text": [
      "FINAL - INFO : # Mask threshold set by Theoretical noise threshold #\n"
     ]
    },
    {
     "name": "stderr",
     "output_type": "stream",
     "text": [
      "FINAL - INFO : # Mask with threshold 0.002055 Jy/beam created #\n"
     ]
    },
    {
     "name": "stderr",
     "output_type": "stream",
     "text": [
      "FINAL - INFO : # Clean threshold for minor cycle 4 was set to 0.000411 Jy/beam #\n"
     ]
    },
    {
     "name": "stderr",
     "output_type": "stream",
     "text": [
      "FINAL - INFO : # Minor cycle 4 cleaning done #\n"
     ]
    },
    {
     "name": "stderr",
     "output_type": "stream",
     "text": [
      "FINAL - INFO : # Cleaned image for minor cycle 4 created #\n"
     ]
    },
    {
     "name": "stderr",
     "output_type": "stream",
     "text": [
      "FINAL - INFO : # Residual image for minor cycle 4 created #\n"
     ]
    },
    {
     "name": "stderr",
     "output_type": "stream",
     "text": [
      "FINAL - INFO : # Peak of the residual image is 0.00284288 Jy/beam #\n"
     ]
    },
    {
     "name": "stderr",
     "output_type": "stream",
     "text": [
      "FINAL - INFO : # RMS of the residual image is 0.000643831 Jy/beam #\n"
     ]
    },
    {
     "name": "stderr",
     "output_type": "stream",
     "text": [
      "FINAL - INFO : ### Final imaging for chunk 01 successful ###\n"
     ]
    },
    {
     "name": "stderr",
     "output_type": "stream",
     "text": [
      "FINAL - INFO : ### Final imaging for chunk 02 started ###\n"
     ]
    },
    {
     "name": "stderr",
     "output_type": "stream",
     "text": [
      "FINAL - INFO : # Last major self-calibration cycle seems to have been 3 #\n"
     ]
    },
    {
     "name": "stderr",
     "output_type": "stream",
     "text": [
      "FINAL - INFO : # Creating directory /data/adebahr/apertif/7070708_M51/final/continuum/stack/02 #\n"
     ]
    },
    {
     "name": "stderr",
     "output_type": "stream",
     "text": [
      "FINAL - INFO : # Moved to directory /data/adebahr/apertif/7070708_M51/final/continuum/stack/02 #\n"
     ]
    },
    {
     "name": "stderr",
     "output_type": "stream",
     "text": [
      "FINAL - INFO : # Theoretical noise for chunk 02 is 6.85e-05 Jy/beam #\n"
     ]
    },
    {
     "name": "stderr",
     "output_type": "stream",
     "text": [
      "FINAL - INFO : # Your theoretical noise threshold will be 30 times the theoretical noise corresponding to 0.002055 Jy/beam #\n"
     ]
    },
    {
     "name": "stderr",
     "output_type": "stream",
     "text": [
      "FINAL - INFO : # Dynamic range limits for the final minor iterations to clean are [100.0, 106.25, 125.0, 156.25, 200.0] #\n"
     ]
    },
    {
     "name": "stderr",
     "output_type": "stream",
     "text": [
      "FINAL - INFO : # Mask threshold for final minor cycle 0 set to 0.002055 Jy/beam #\n"
     ]
    },
    {
     "name": "stderr",
     "output_type": "stream",
     "text": [
      "FINAL - INFO : # Mask threshold set by Theoretical noise threshold #\n"
     ]
    },
    {
     "name": "stderr",
     "output_type": "stream",
     "text": [
      "FINAL - INFO : # Mask from last selfcal cycle copied and regridded to common grid #\n"
     ]
    },
    {
     "name": "stderr",
     "output_type": "stream",
     "text": [
      "FINAL - INFO : # Clean threshold for minor cycle 0 was set to 0.000411 Jy/beam #\n"
     ]
    },
    {
     "name": "stderr",
     "output_type": "stream",
     "text": [
      "FINAL - INFO : # Minor cycle 0 cleaning done #\n"
     ]
    },
    {
     "name": "stderr",
     "output_type": "stream",
     "text": [
      "FINAL - INFO : # Cleaned image for minor cycle 0 created #\n"
     ]
    },
    {
     "name": "stderr",
     "output_type": "stream",
     "text": [
      "FINAL - INFO : # Residual image for minor cycle 0 created #\n"
     ]
    },
    {
     "name": "stderr",
     "output_type": "stream",
     "text": [
      "FINAL - INFO : # Peak of the residual image is 0.00310865 Jy/beam #\n"
     ]
    },
    {
     "name": "stderr",
     "output_type": "stream",
     "text": [
      "FINAL - INFO : # RMS of the residual image is 0.000710422 Jy/beam #\n"
     ]
    },
    {
     "name": "stderr",
     "output_type": "stream",
     "text": [
      "FINAL - INFO : # Mask threshold for final imaging minor cycle 1 set to 0.002055 Jy/beam #\n"
     ]
    },
    {
     "name": "stderr",
     "output_type": "stream",
     "text": [
      "FINAL - INFO : # Mask threshold set by Theoretical noise threshold #\n"
     ]
    },
    {
     "name": "stderr",
     "output_type": "stream",
     "text": [
      "FINAL - INFO : # Mask with threshold 0.002055 Jy/beam created #\n"
     ]
    },
    {
     "name": "stderr",
     "output_type": "stream",
     "text": [
      "FINAL - INFO : # Clean threshold for minor cycle 1 was set to 0.000411 Jy/beam #\n"
     ]
    },
    {
     "name": "stderr",
     "output_type": "stream",
     "text": [
      "FINAL - INFO : # Minor cycle 1 cleaning done #\n"
     ]
    },
    {
     "name": "stderr",
     "output_type": "stream",
     "text": [
      "FINAL - INFO : # Cleaned image for minor cycle 1 created #\n"
     ]
    },
    {
     "name": "stderr",
     "output_type": "stream",
     "text": [
      "FINAL - INFO : # Residual image for minor cycle 1 created #\n"
     ]
    },
    {
     "name": "stderr",
     "output_type": "stream",
     "text": [
      "FINAL - INFO : # Peak of the residual image is 0.00229307 Jy/beam #\n"
     ]
    },
    {
     "name": "stderr",
     "output_type": "stream",
     "text": [
      "FINAL - INFO : # RMS of the residual image is 0.000537124 Jy/beam #\n"
     ]
    },
    {
     "name": "stderr",
     "output_type": "stream",
     "text": [
      "FINAL - INFO : # Mask threshold for final imaging minor cycle 2 set to 0.002055 Jy/beam #\n"
     ]
    },
    {
     "name": "stderr",
     "output_type": "stream",
     "text": [
      "FINAL - INFO : # Mask threshold set by Theoretical noise threshold #\n"
     ]
    },
    {
     "name": "stderr",
     "output_type": "stream",
     "text": [
      "FINAL - INFO : # Mask with threshold 0.002055 Jy/beam created #\n"
     ]
    },
    {
     "name": "stderr",
     "output_type": "stream",
     "text": [
      "FINAL - INFO : # Clean threshold for minor cycle 2 was set to 0.000411 Jy/beam #\n"
     ]
    },
    {
     "name": "stderr",
     "output_type": "stream",
     "text": [
      "FINAL - INFO : # Minor cycle 2 cleaning done #\n"
     ]
    },
    {
     "name": "stderr",
     "output_type": "stream",
     "text": [
      "FINAL - INFO : # Cleaned image for minor cycle 2 created #\n"
     ]
    },
    {
     "name": "stderr",
     "output_type": "stream",
     "text": [
      "FINAL - INFO : # Residual image for minor cycle 2 created #\n"
     ]
    },
    {
     "name": "stderr",
     "output_type": "stream",
     "text": [
      "FINAL - INFO : # Peak of the residual image is 0.00322345 Jy/beam #\n"
     ]
    },
    {
     "name": "stderr",
     "output_type": "stream",
     "text": [
      "FINAL - INFO : # RMS of the residual image is 0.000662427 Jy/beam #\n"
     ]
    },
    {
     "name": "stderr",
     "output_type": "stream",
     "text": [
      "FINAL - INFO : # Mask threshold for final imaging minor cycle 3 set to 0.002055 Jy/beam #\n"
     ]
    },
    {
     "name": "stderr",
     "output_type": "stream",
     "text": [
      "FINAL - INFO : # Mask threshold set by Theoretical noise threshold #\n"
     ]
    },
    {
     "name": "stderr",
     "output_type": "stream",
     "text": [
      "FINAL - INFO : # Mask with threshold 0.002055 Jy/beam created #\n"
     ]
    },
    {
     "name": "stderr",
     "output_type": "stream",
     "text": [
      "FINAL - INFO : # Clean threshold for minor cycle 3 was set to 0.000411 Jy/beam #\n"
     ]
    },
    {
     "name": "stderr",
     "output_type": "stream",
     "text": [
      "FINAL - INFO : # Minor cycle 3 cleaning done #\n"
     ]
    },
    {
     "name": "stderr",
     "output_type": "stream",
     "text": [
      "FINAL - INFO : # Cleaned image for minor cycle 3 created #\n"
     ]
    },
    {
     "name": "stderr",
     "output_type": "stream",
     "text": [
      "FINAL - INFO : # Residual image for minor cycle 3 created #\n"
     ]
    },
    {
     "name": "stderr",
     "output_type": "stream",
     "text": [
      "FINAL - INFO : # Peak of the residual image is 0.00229661 Jy/beam #\n"
     ]
    },
    {
     "name": "stderr",
     "output_type": "stream",
     "text": [
      "FINAL - INFO : # RMS of the residual image is 0.000547832 Jy/beam #\n"
     ]
    },
    {
     "name": "stderr",
     "output_type": "stream",
     "text": [
      "FINAL - INFO : # Mask threshold for final imaging minor cycle 4 set to 0.002055 Jy/beam #\n"
     ]
    },
    {
     "name": "stderr",
     "output_type": "stream",
     "text": [
      "FINAL - INFO : # Mask threshold set by Theoretical noise threshold #\n"
     ]
    },
    {
     "name": "stderr",
     "output_type": "stream",
     "text": [
      "FINAL - INFO : # Mask with threshold 0.002055 Jy/beam created #\n"
     ]
    },
    {
     "name": "stderr",
     "output_type": "stream",
     "text": [
      "FINAL - INFO : # Clean threshold for minor cycle 4 was set to 0.000411 Jy/beam #\n"
     ]
    },
    {
     "name": "stderr",
     "output_type": "stream",
     "text": [
      "FINAL - INFO : # Minor cycle 4 cleaning done #\n"
     ]
    },
    {
     "name": "stderr",
     "output_type": "stream",
     "text": [
      "FINAL - INFO : # Cleaned image for minor cycle 4 created #\n"
     ]
    },
    {
     "name": "stderr",
     "output_type": "stream",
     "text": [
      "FINAL - INFO : # Residual image for minor cycle 4 created #\n"
     ]
    },
    {
     "name": "stderr",
     "output_type": "stream",
     "text": [
      "FINAL - INFO : # Peak of the residual image is 0.00297995 Jy/beam #\n"
     ]
    },
    {
     "name": "stderr",
     "output_type": "stream",
     "text": [
      "FINAL - INFO : # RMS of the residual image is 0.000645719 Jy/beam #\n"
     ]
    },
    {
     "name": "stderr",
     "output_type": "stream",
     "text": [
      "FINAL - INFO : ### Final imaging for chunk 02 successful ###\n"
     ]
    },
    {
     "name": "stderr",
     "output_type": "stream",
     "text": [
      "FINAL - INFO : ### Final imaging for chunk 03 started ###\n"
     ]
    },
    {
     "name": "stderr",
     "output_type": "stream",
     "text": [
      "FINAL - INFO : # Last major self-calibration cycle seems to have been 3 #\n"
     ]
    },
    {
     "name": "stderr",
     "output_type": "stream",
     "text": [
      "FINAL - INFO : # Creating directory /data/adebahr/apertif/7070708_M51/final/continuum/stack/03 #\n"
     ]
    },
    {
     "name": "stderr",
     "output_type": "stream",
     "text": [
      "FINAL - INFO : # Moved to directory /data/adebahr/apertif/7070708_M51/final/continuum/stack/03 #\n"
     ]
    },
    {
     "name": "stderr",
     "output_type": "stream",
     "text": [
      "FINAL - INFO : # Theoretical noise for chunk 03 is 6.85e-05 Jy/beam #\n"
     ]
    },
    {
     "name": "stderr",
     "output_type": "stream",
     "text": [
      "FINAL - INFO : # Your theoretical noise threshold will be 30 times the theoretical noise corresponding to 0.002055 Jy/beam #\n"
     ]
    },
    {
     "name": "stderr",
     "output_type": "stream",
     "text": [
      "FINAL - INFO : # Dynamic range limits for the final minor iterations to clean are [100.0, 106.25, 125.0, 156.25, 200.0] #\n"
     ]
    },
    {
     "name": "stderr",
     "output_type": "stream",
     "text": [
      "FINAL - INFO : # Mask threshold for final minor cycle 0 set to 0.002055 Jy/beam #\n"
     ]
    },
    {
     "name": "stderr",
     "output_type": "stream",
     "text": [
      "FINAL - INFO : # Mask threshold set by Theoretical noise threshold #\n"
     ]
    },
    {
     "name": "stderr",
     "output_type": "stream",
     "text": [
      "FINAL - INFO : # Mask from last selfcal cycle copied and regridded to common grid #\n"
     ]
    },
    {
     "name": "stderr",
     "output_type": "stream",
     "text": [
      "FINAL - INFO : # Clean threshold for minor cycle 0 was set to 0.000411 Jy/beam #\n"
     ]
    },
    {
     "name": "stderr",
     "output_type": "stream",
     "text": [
      "FINAL - INFO : # Minor cycle 0 cleaning done #\n"
     ]
    },
    {
     "name": "stderr",
     "output_type": "stream",
     "text": [
      "FINAL - INFO : # Cleaned image for minor cycle 0 created #\n"
     ]
    },
    {
     "name": "stderr",
     "output_type": "stream",
     "text": [
      "FINAL - INFO : # Residual image for minor cycle 0 created #\n"
     ]
    },
    {
     "name": "stderr",
     "output_type": "stream",
     "text": [
      "FINAL - INFO : # Peak of the residual image is 0.00323216 Jy/beam #\n"
     ]
    },
    {
     "name": "stderr",
     "output_type": "stream",
     "text": [
      "FINAL - INFO : # RMS of the residual image is 0.000629763 Jy/beam #\n"
     ]
    },
    {
     "name": "stderr",
     "output_type": "stream",
     "text": [
      "FINAL - INFO : # Mask threshold for final imaging minor cycle 1 set to 0.002055 Jy/beam #\n"
     ]
    },
    {
     "name": "stderr",
     "output_type": "stream",
     "text": [
      "FINAL - INFO : # Mask threshold set by Theoretical noise threshold #\n"
     ]
    },
    {
     "name": "stderr",
     "output_type": "stream",
     "text": [
      "FINAL - INFO : # Mask with threshold 0.002055 Jy/beam created #\n"
     ]
    },
    {
     "name": "stderr",
     "output_type": "stream",
     "text": [
      "FINAL - INFO : # Clean threshold for minor cycle 1 was set to 0.000411 Jy/beam #\n"
     ]
    },
    {
     "name": "stderr",
     "output_type": "stream",
     "text": [
      "FINAL - INFO : # Minor cycle 1 cleaning done #\n"
     ]
    },
    {
     "name": "stderr",
     "output_type": "stream",
     "text": [
      "FINAL - INFO : # Cleaned image for minor cycle 1 created #\n"
     ]
    },
    {
     "name": "stderr",
     "output_type": "stream",
     "text": [
      "FINAL - INFO : # Residual image for minor cycle 1 created #\n"
     ]
    },
    {
     "name": "stderr",
     "output_type": "stream",
     "text": [
      "FINAL - INFO : # Peak of the residual image is 0.00224118 Jy/beam #\n"
     ]
    },
    {
     "name": "stderr",
     "output_type": "stream",
     "text": [
      "FINAL - INFO : # RMS of the residual image is 0.000550833 Jy/beam #\n"
     ]
    },
    {
     "name": "stderr",
     "output_type": "stream",
     "text": [
      "FINAL - INFO : # Mask threshold for final imaging minor cycle 2 set to 0.002055 Jy/beam #\n"
     ]
    },
    {
     "name": "stderr",
     "output_type": "stream",
     "text": [
      "FINAL - INFO : # Mask threshold set by Theoretical noise threshold #\n"
     ]
    },
    {
     "name": "stderr",
     "output_type": "stream",
     "text": [
      "FINAL - INFO : # Mask with threshold 0.002055 Jy/beam created #\n"
     ]
    },
    {
     "name": "stderr",
     "output_type": "stream",
     "text": [
      "FINAL - INFO : # Clean threshold for minor cycle 2 was set to 0.000411 Jy/beam #\n"
     ]
    },
    {
     "name": "stderr",
     "output_type": "stream",
     "text": [
      "FINAL - INFO : # Minor cycle 2 cleaning done #\n"
     ]
    },
    {
     "name": "stderr",
     "output_type": "stream",
     "text": [
      "FINAL - INFO : # Cleaned image for minor cycle 2 created #\n"
     ]
    },
    {
     "name": "stderr",
     "output_type": "stream",
     "text": [
      "FINAL - INFO : # Residual image for minor cycle 2 created #\n"
     ]
    },
    {
     "name": "stderr",
     "output_type": "stream",
     "text": [
      "FINAL - INFO : # Peak of the residual image is 0.00261248 Jy/beam #\n"
     ]
    },
    {
     "name": "stderr",
     "output_type": "stream",
     "text": [
      "FINAL - INFO : # RMS of the residual image is 0.000580067 Jy/beam #\n"
     ]
    },
    {
     "name": "stderr",
     "output_type": "stream",
     "text": [
      "FINAL - INFO : # Mask threshold for final imaging minor cycle 3 set to 0.002055 Jy/beam #\n"
     ]
    },
    {
     "name": "stderr",
     "output_type": "stream",
     "text": [
      "FINAL - INFO : # Mask threshold set by Theoretical noise threshold #\n"
     ]
    },
    {
     "name": "stderr",
     "output_type": "stream",
     "text": [
      "FINAL - INFO : # Mask with threshold 0.002055 Jy/beam created #\n"
     ]
    },
    {
     "name": "stderr",
     "output_type": "stream",
     "text": [
      "FINAL - INFO : # Clean threshold for minor cycle 3 was set to 0.000411 Jy/beam #\n"
     ]
    },
    {
     "name": "stderr",
     "output_type": "stream",
     "text": [
      "FINAL - INFO : # Minor cycle 3 cleaning done #\n"
     ]
    },
    {
     "name": "stderr",
     "output_type": "stream",
     "text": [
      "FINAL - INFO : # Cleaned image for minor cycle 3 created #\n"
     ]
    },
    {
     "name": "stderr",
     "output_type": "stream",
     "text": [
      "FINAL - INFO : # Residual image for minor cycle 3 created #\n"
     ]
    },
    {
     "name": "stderr",
     "output_type": "stream",
     "text": [
      "FINAL - INFO : # Peak of the residual image is 0.00236262 Jy/beam #\n"
     ]
    },
    {
     "name": "stderr",
     "output_type": "stream",
     "text": [
      "FINAL - INFO : # RMS of the residual image is 0.000554103 Jy/beam #\n"
     ]
    },
    {
     "name": "stderr",
     "output_type": "stream",
     "text": [
      "FINAL - INFO : # Mask threshold for final imaging minor cycle 4 set to 0.002055 Jy/beam #\n"
     ]
    },
    {
     "name": "stderr",
     "output_type": "stream",
     "text": [
      "FINAL - INFO : # Mask threshold set by Theoretical noise threshold #\n"
     ]
    },
    {
     "name": "stderr",
     "output_type": "stream",
     "text": [
      "FINAL - INFO : # Mask with threshold 0.002055 Jy/beam created #\n"
     ]
    },
    {
     "name": "stderr",
     "output_type": "stream",
     "text": [
      "FINAL - INFO : # Clean threshold for minor cycle 4 was set to 0.000411 Jy/beam #\n"
     ]
    },
    {
     "name": "stderr",
     "output_type": "stream",
     "text": [
      "FINAL - INFO : # Minor cycle 4 cleaning done #\n"
     ]
    },
    {
     "name": "stderr",
     "output_type": "stream",
     "text": [
      "FINAL - INFO : # Cleaned image for minor cycle 4 created #\n"
     ]
    },
    {
     "name": "stderr",
     "output_type": "stream",
     "text": [
      "FINAL - INFO : # Residual image for minor cycle 4 created #\n"
     ]
    },
    {
     "name": "stderr",
     "output_type": "stream",
     "text": [
      "FINAL - INFO : # Peak of the residual image is 0.00228013 Jy/beam #\n"
     ]
    },
    {
     "name": "stderr",
     "output_type": "stream",
     "text": [
      "FINAL - INFO : # RMS of the residual image is 0.000566176 Jy/beam #\n"
     ]
    },
    {
     "name": "stderr",
     "output_type": "stream",
     "text": [
      "FINAL - INFO : ### Final imaging for chunk 03 successful ###\n"
     ]
    },
    {
     "name": "stderr",
     "output_type": "stream",
     "text": [
      "FINAL - INFO : ### Final imaging for chunk 04 started ###\n"
     ]
    },
    {
     "name": "stderr",
     "output_type": "stream",
     "text": [
      "FINAL - INFO : # Last major self-calibration cycle seems to have been 3 #\n"
     ]
    },
    {
     "name": "stderr",
     "output_type": "stream",
     "text": [
      "FINAL - INFO : # Creating directory /data/adebahr/apertif/7070708_M51/final/continuum/stack/04 #\n"
     ]
    },
    {
     "name": "stderr",
     "output_type": "stream",
     "text": [
      "FINAL - INFO : # Moved to directory /data/adebahr/apertif/7070708_M51/final/continuum/stack/04 #\n"
     ]
    },
    {
     "name": "stderr",
     "output_type": "stream",
     "text": [
      "FINAL - INFO : # Theoretical noise for chunk 04 is 6.85e-05 Jy/beam #\n"
     ]
    },
    {
     "name": "stderr",
     "output_type": "stream",
     "text": [
      "FINAL - INFO : # Your theoretical noise threshold will be 30 times the theoretical noise corresponding to 0.002055 Jy/beam #\n"
     ]
    },
    {
     "name": "stderr",
     "output_type": "stream",
     "text": [
      "FINAL - INFO : # Dynamic range limits for the final minor iterations to clean are [100.0, 106.25, 125.0, 156.25, 200.0] #\n"
     ]
    },
    {
     "name": "stderr",
     "output_type": "stream",
     "text": [
      "FINAL - INFO : # Mask threshold for final minor cycle 0 set to 0.002055 Jy/beam #\n"
     ]
    },
    {
     "name": "stderr",
     "output_type": "stream",
     "text": [
      "FINAL - INFO : # Mask threshold set by Theoretical noise threshold #\n"
     ]
    },
    {
     "name": "stderr",
     "output_type": "stream",
     "text": [
      "FINAL - INFO : # Mask from last selfcal cycle copied and regridded to common grid #\n"
     ]
    },
    {
     "name": "stderr",
     "output_type": "stream",
     "text": [
      "FINAL - INFO : # Clean threshold for minor cycle 0 was set to 0.000411 Jy/beam #\n"
     ]
    },
    {
     "name": "stderr",
     "output_type": "stream",
     "text": [
      "FINAL - INFO : # Minor cycle 0 cleaning done #\n"
     ]
    },
    {
     "name": "stderr",
     "output_type": "stream",
     "text": [
      "FINAL - INFO : # Cleaned image for minor cycle 0 created #\n"
     ]
    },
    {
     "name": "stderr",
     "output_type": "stream",
     "text": [
      "FINAL - INFO : # Residual image for minor cycle 0 created #\n"
     ]
    },
    {
     "name": "stderr",
     "output_type": "stream",
     "text": [
      "FINAL - INFO : # Peak of the residual image is 0.00289555 Jy/beam #\n"
     ]
    },
    {
     "name": "stderr",
     "output_type": "stream",
     "text": [
      "FINAL - INFO : # RMS of the residual image is 0.000614418 Jy/beam #\n"
     ]
    },
    {
     "name": "stderr",
     "output_type": "stream",
     "text": [
      "FINAL - INFO : # Mask threshold for final imaging minor cycle 1 set to 0.002055 Jy/beam #\n"
     ]
    },
    {
     "name": "stderr",
     "output_type": "stream",
     "text": [
      "FINAL - INFO : # Mask threshold set by Theoretical noise threshold #\n"
     ]
    },
    {
     "name": "stderr",
     "output_type": "stream",
     "text": [
      "FINAL - INFO : # Mask with threshold 0.002055 Jy/beam created #\n"
     ]
    },
    {
     "name": "stderr",
     "output_type": "stream",
     "text": [
      "FINAL - INFO : # Clean threshold for minor cycle 1 was set to 0.000411 Jy/beam #\n"
     ]
    },
    {
     "name": "stderr",
     "output_type": "stream",
     "text": [
      "FINAL - INFO : # Minor cycle 1 cleaning done #\n"
     ]
    },
    {
     "name": "stderr",
     "output_type": "stream",
     "text": [
      "FINAL - INFO : # Cleaned image for minor cycle 1 created #\n"
     ]
    },
    {
     "name": "stderr",
     "output_type": "stream",
     "text": [
      "FINAL - INFO : # Residual image for minor cycle 1 created #\n"
     ]
    },
    {
     "name": "stderr",
     "output_type": "stream",
     "text": [
      "FINAL - INFO : # Peak of the residual image is 0.0022142 Jy/beam #\n"
     ]
    },
    {
     "name": "stderr",
     "output_type": "stream",
     "text": [
      "FINAL - INFO : # RMS of the residual image is 0.000538423 Jy/beam #\n"
     ]
    },
    {
     "name": "stderr",
     "output_type": "stream",
     "text": [
      "FINAL - INFO : # Mask threshold for final imaging minor cycle 2 set to 0.002055 Jy/beam #\n"
     ]
    },
    {
     "name": "stderr",
     "output_type": "stream",
     "text": [
      "FINAL - INFO : # Mask threshold set by Theoretical noise threshold #\n"
     ]
    },
    {
     "name": "stderr",
     "output_type": "stream",
     "text": [
      "FINAL - INFO : # Mask with threshold 0.002055 Jy/beam created #\n"
     ]
    },
    {
     "name": "stderr",
     "output_type": "stream",
     "text": [
      "FINAL - INFO : # Clean threshold for minor cycle 2 was set to 0.000411 Jy/beam #\n"
     ]
    },
    {
     "name": "stderr",
     "output_type": "stream",
     "text": [
      "FINAL - INFO : # Minor cycle 2 cleaning done #\n"
     ]
    },
    {
     "name": "stderr",
     "output_type": "stream",
     "text": [
      "FINAL - INFO : # Cleaned image for minor cycle 2 created #\n"
     ]
    },
    {
     "name": "stderr",
     "output_type": "stream",
     "text": [
      "FINAL - INFO : # Residual image for minor cycle 2 created #\n"
     ]
    },
    {
     "name": "stderr",
     "output_type": "stream",
     "text": [
      "FINAL - INFO : # Peak of the residual image is 0.0025732 Jy/beam #\n"
     ]
    },
    {
     "name": "stderr",
     "output_type": "stream",
     "text": [
      "FINAL - INFO : # RMS of the residual image is 0.000573295 Jy/beam #\n"
     ]
    },
    {
     "name": "stderr",
     "output_type": "stream",
     "text": [
      "FINAL - INFO : # Mask threshold for final imaging minor cycle 3 set to 0.002055 Jy/beam #\n"
     ]
    },
    {
     "name": "stderr",
     "output_type": "stream",
     "text": [
      "FINAL - INFO : # Mask threshold set by Theoretical noise threshold #\n"
     ]
    },
    {
     "name": "stderr",
     "output_type": "stream",
     "text": [
      "FINAL - INFO : # Mask with threshold 0.002055 Jy/beam created #\n"
     ]
    },
    {
     "name": "stderr",
     "output_type": "stream",
     "text": [
      "FINAL - INFO : # Clean threshold for minor cycle 3 was set to 0.000411 Jy/beam #\n"
     ]
    },
    {
     "name": "stderr",
     "output_type": "stream",
     "text": [
      "FINAL - INFO : # Minor cycle 3 cleaning done #\n"
     ]
    },
    {
     "name": "stderr",
     "output_type": "stream",
     "text": [
      "FINAL - INFO : # Cleaned image for minor cycle 3 created #\n"
     ]
    },
    {
     "name": "stderr",
     "output_type": "stream",
     "text": [
      "FINAL - INFO : # Residual image for minor cycle 3 created #\n"
     ]
    },
    {
     "name": "stderr",
     "output_type": "stream",
     "text": [
      "FINAL - INFO : # Peak of the residual image is 0.00233289 Jy/beam #\n"
     ]
    },
    {
     "name": "stderr",
     "output_type": "stream",
     "text": [
      "FINAL - INFO : # RMS of the residual image is 0.000546221 Jy/beam #\n"
     ]
    },
    {
     "name": "stderr",
     "output_type": "stream",
     "text": [
      "FINAL - INFO : # Mask threshold for final imaging minor cycle 4 set to 0.002055 Jy/beam #\n"
     ]
    },
    {
     "name": "stderr",
     "output_type": "stream",
     "text": [
      "FINAL - INFO : # Mask threshold set by Theoretical noise threshold #\n"
     ]
    },
    {
     "name": "stderr",
     "output_type": "stream",
     "text": [
      "FINAL - INFO : # Mask with threshold 0.002055 Jy/beam created #\n"
     ]
    },
    {
     "name": "stderr",
     "output_type": "stream",
     "text": [
      "FINAL - INFO : # Clean threshold for minor cycle 4 was set to 0.000411 Jy/beam #\n"
     ]
    },
    {
     "name": "stderr",
     "output_type": "stream",
     "text": [
      "FINAL - INFO : # Minor cycle 4 cleaning done #\n"
     ]
    },
    {
     "name": "stderr",
     "output_type": "stream",
     "text": [
      "FINAL - INFO : # Cleaned image for minor cycle 4 created #\n"
     ]
    },
    {
     "name": "stderr",
     "output_type": "stream",
     "text": [
      "FINAL - INFO : # Residual image for minor cycle 4 created #\n"
     ]
    },
    {
     "name": "stderr",
     "output_type": "stream",
     "text": [
      "FINAL - INFO : # Peak of the residual image is 0.00246789 Jy/beam #\n"
     ]
    },
    {
     "name": "stderr",
     "output_type": "stream",
     "text": [
      "FINAL - INFO : # RMS of the residual image is 0.000558275 Jy/beam #\n"
     ]
    },
    {
     "name": "stderr",
     "output_type": "stream",
     "text": [
      "FINAL - INFO : ### Final imaging for chunk 04 successful ###\n"
     ]
    },
    {
     "name": "stderr",
     "output_type": "stream",
     "text": [
      "FINAL - INFO : ### Final imaging for chunk 05 started ###\n"
     ]
    },
    {
     "name": "stderr",
     "output_type": "stream",
     "text": [
      "FINAL - INFO : # Last major self-calibration cycle seems to have been 3 #\n"
     ]
    },
    {
     "name": "stderr",
     "output_type": "stream",
     "text": [
      "FINAL - INFO : # Creating directory /data/adebahr/apertif/7070708_M51/final/continuum/stack/05 #\n"
     ]
    },
    {
     "name": "stderr",
     "output_type": "stream",
     "text": [
      "FINAL - INFO : # Moved to directory /data/adebahr/apertif/7070708_M51/final/continuum/stack/05 #\n"
     ]
    },
    {
     "name": "stderr",
     "output_type": "stream",
     "text": [
      "FINAL - INFO : # Theoretical noise for chunk 05 is 6.85e-05 Jy/beam #\n"
     ]
    },
    {
     "name": "stderr",
     "output_type": "stream",
     "text": [
      "FINAL - INFO : # Your theoretical noise threshold will be 30 times the theoretical noise corresponding to 0.002055 Jy/beam #\n"
     ]
    },
    {
     "name": "stderr",
     "output_type": "stream",
     "text": [
      "FINAL - INFO : # Dynamic range limits for the final minor iterations to clean are [100.0, 106.25, 125.0, 156.25, 200.0] #\n"
     ]
    },
    {
     "name": "stderr",
     "output_type": "stream",
     "text": [
      "FINAL - INFO : # Mask threshold for final minor cycle 0 set to 0.002055 Jy/beam #\n"
     ]
    },
    {
     "name": "stderr",
     "output_type": "stream",
     "text": [
      "FINAL - INFO : # Mask threshold set by Theoretical noise threshold #\n"
     ]
    },
    {
     "name": "stderr",
     "output_type": "stream",
     "text": [
      "FINAL - INFO : # Mask from last selfcal cycle copied and regridded to common grid #\n"
     ]
    },
    {
     "name": "stderr",
     "output_type": "stream",
     "text": [
      "FINAL - INFO : # Clean threshold for minor cycle 0 was set to 0.000411 Jy/beam #\n"
     ]
    },
    {
     "name": "stderr",
     "output_type": "stream",
     "text": [
      "FINAL - INFO : # Minor cycle 0 cleaning done #\n"
     ]
    },
    {
     "name": "stderr",
     "output_type": "stream",
     "text": [
      "FINAL - INFO : # Cleaned image for minor cycle 0 created #\n"
     ]
    },
    {
     "name": "stderr",
     "output_type": "stream",
     "text": [
      "FINAL - INFO : # Residual image for minor cycle 0 created #\n"
     ]
    },
    {
     "name": "stderr",
     "output_type": "stream",
     "text": [
      "FINAL - INFO : # Peak of the residual image is 0.00317347 Jy/beam #\n"
     ]
    },
    {
     "name": "stderr",
     "output_type": "stream",
     "text": [
      "FINAL - INFO : # RMS of the residual image is 0.000607044 Jy/beam #\n"
     ]
    },
    {
     "name": "stderr",
     "output_type": "stream",
     "text": [
      "FINAL - INFO : # Mask threshold for final imaging minor cycle 1 set to 0.002055 Jy/beam #\n"
     ]
    },
    {
     "name": "stderr",
     "output_type": "stream",
     "text": [
      "FINAL - INFO : # Mask threshold set by Theoretical noise threshold #\n"
     ]
    },
    {
     "name": "stderr",
     "output_type": "stream",
     "text": [
      "FINAL - INFO : # Mask with threshold 0.002055 Jy/beam created #\n"
     ]
    },
    {
     "name": "stderr",
     "output_type": "stream",
     "text": [
      "FINAL - INFO : # Clean threshold for minor cycle 1 was set to 0.000411 Jy/beam #\n"
     ]
    },
    {
     "name": "stderr",
     "output_type": "stream",
     "text": [
      "FINAL - INFO : # Minor cycle 1 cleaning done #\n"
     ]
    },
    {
     "name": "stderr",
     "output_type": "stream",
     "text": [
      "FINAL - INFO : # Cleaned image for minor cycle 1 created #\n"
     ]
    },
    {
     "name": "stderr",
     "output_type": "stream",
     "text": [
      "FINAL - INFO : # Residual image for minor cycle 1 created #\n"
     ]
    },
    {
     "name": "stderr",
     "output_type": "stream",
     "text": [
      "FINAL - INFO : # Peak of the residual image is 0.0022228 Jy/beam #\n"
     ]
    },
    {
     "name": "stderr",
     "output_type": "stream",
     "text": [
      "FINAL - INFO : # RMS of the residual image is 0.000546766 Jy/beam #\n"
     ]
    },
    {
     "name": "stderr",
     "output_type": "stream",
     "text": [
      "FINAL - INFO : # Mask threshold for final imaging minor cycle 2 set to 0.002055 Jy/beam #\n"
     ]
    },
    {
     "name": "stderr",
     "output_type": "stream",
     "text": [
      "FINAL - INFO : # Mask threshold set by Theoretical noise threshold #\n"
     ]
    },
    {
     "name": "stderr",
     "output_type": "stream",
     "text": [
      "FINAL - INFO : # Mask with threshold 0.002055 Jy/beam created #\n"
     ]
    },
    {
     "name": "stderr",
     "output_type": "stream",
     "text": [
      "FINAL - INFO : # Clean threshold for minor cycle 2 was set to 0.000411 Jy/beam #\n"
     ]
    },
    {
     "name": "stderr",
     "output_type": "stream",
     "text": [
      "FINAL - INFO : # Minor cycle 2 cleaning done #\n"
     ]
    },
    {
     "name": "stderr",
     "output_type": "stream",
     "text": [
      "FINAL - INFO : # Cleaned image for minor cycle 2 created #\n"
     ]
    },
    {
     "name": "stderr",
     "output_type": "stream",
     "text": [
      "FINAL - INFO : # Residual image for minor cycle 2 created #\n"
     ]
    },
    {
     "name": "stderr",
     "output_type": "stream",
     "text": [
      "FINAL - INFO : # Peak of the residual image is 0.00234017 Jy/beam #\n"
     ]
    },
    {
     "name": "stderr",
     "output_type": "stream",
     "text": [
      "FINAL - INFO : # RMS of the residual image is 0.000561877 Jy/beam #\n"
     ]
    },
    {
     "name": "stderr",
     "output_type": "stream",
     "text": [
      "FINAL - INFO : # Mask threshold for final imaging minor cycle 3 set to 0.002055 Jy/beam #\n"
     ]
    },
    {
     "name": "stderr",
     "output_type": "stream",
     "text": [
      "FINAL - INFO : # Mask threshold set by Theoretical noise threshold #\n"
     ]
    },
    {
     "name": "stderr",
     "output_type": "stream",
     "text": [
      "FINAL - INFO : # Mask with threshold 0.002055 Jy/beam created #\n"
     ]
    },
    {
     "name": "stderr",
     "output_type": "stream",
     "text": [
      "FINAL - INFO : # Clean threshold for minor cycle 3 was set to 0.000411 Jy/beam #\n"
     ]
    },
    {
     "name": "stderr",
     "output_type": "stream",
     "text": [
      "FINAL - INFO : # Minor cycle 3 cleaning done #\n"
     ]
    },
    {
     "name": "stderr",
     "output_type": "stream",
     "text": [
      "FINAL - INFO : # Cleaned image for minor cycle 3 created #\n"
     ]
    },
    {
     "name": "stderr",
     "output_type": "stream",
     "text": [
      "FINAL - INFO : # Residual image for minor cycle 3 created #\n"
     ]
    },
    {
     "name": "stderr",
     "output_type": "stream",
     "text": [
      "FINAL - INFO : # Peak of the residual image is 0.00236482 Jy/beam #\n"
     ]
    },
    {
     "name": "stderr",
     "output_type": "stream",
     "text": [
      "FINAL - INFO : # RMS of the residual image is 0.000548301 Jy/beam #\n"
     ]
    },
    {
     "name": "stderr",
     "output_type": "stream",
     "text": [
      "FINAL - INFO : # Mask threshold for final imaging minor cycle 4 set to 0.002055 Jy/beam #\n"
     ]
    },
    {
     "name": "stderr",
     "output_type": "stream",
     "text": [
      "FINAL - INFO : # Mask threshold set by Theoretical noise threshold #\n"
     ]
    },
    {
     "name": "stderr",
     "output_type": "stream",
     "text": [
      "FINAL - INFO : # Mask with threshold 0.002055 Jy/beam created #\n"
     ]
    },
    {
     "name": "stderr",
     "output_type": "stream",
     "text": [
      "FINAL - INFO : # Clean threshold for minor cycle 4 was set to 0.000411 Jy/beam #\n"
     ]
    },
    {
     "name": "stderr",
     "output_type": "stream",
     "text": [
      "FINAL - INFO : # Minor cycle 4 cleaning done #\n"
     ]
    },
    {
     "name": "stderr",
     "output_type": "stream",
     "text": [
      "FINAL - INFO : # Cleaned image for minor cycle 4 created #\n"
     ]
    },
    {
     "name": "stderr",
     "output_type": "stream",
     "text": [
      "FINAL - INFO : # Residual image for minor cycle 4 created #\n"
     ]
    },
    {
     "name": "stderr",
     "output_type": "stream",
     "text": [
      "FINAL - INFO : # Peak of the residual image is 0.0023475 Jy/beam #\n"
     ]
    },
    {
     "name": "stderr",
     "output_type": "stream",
     "text": [
      "FINAL - INFO : # RMS of the residual image is 0.000555336 Jy/beam #\n"
     ]
    },
    {
     "name": "stderr",
     "output_type": "stream",
     "text": [
      "FINAL - INFO : ### Final imaging for chunk 05 successful ###\n"
     ]
    },
    {
     "name": "stderr",
     "output_type": "stream",
     "text": [
      "FINAL - INFO : ### Final imaging for chunk 06 started ###\n"
     ]
    },
    {
     "name": "stderr",
     "output_type": "stream",
     "text": [
      "FINAL - INFO : # Last major self-calibration cycle seems to have been 3 #\n"
     ]
    },
    {
     "name": "stderr",
     "output_type": "stream",
     "text": [
      "FINAL - INFO : # Creating directory /data/adebahr/apertif/7070708_M51/final/continuum/stack/06 #\n"
     ]
    },
    {
     "name": "stderr",
     "output_type": "stream",
     "text": [
      "FINAL - INFO : # Moved to directory /data/adebahr/apertif/7070708_M51/final/continuum/stack/06 #\n"
     ]
    },
    {
     "name": "stderr",
     "output_type": "stream",
     "text": [
      "FINAL - INFO : # Theoretical noise for chunk 06 is 6.85e-05 Jy/beam #\n"
     ]
    },
    {
     "name": "stderr",
     "output_type": "stream",
     "text": [
      "FINAL - INFO : # Your theoretical noise threshold will be 30 times the theoretical noise corresponding to 0.002055 Jy/beam #\n"
     ]
    },
    {
     "name": "stderr",
     "output_type": "stream",
     "text": [
      "FINAL - INFO : # Dynamic range limits for the final minor iterations to clean are [100.0, 106.25, 125.0, 156.25, 200.0] #\n"
     ]
    },
    {
     "name": "stderr",
     "output_type": "stream",
     "text": [
      "FINAL - INFO : # Mask threshold for final minor cycle 0 set to 0.002055 Jy/beam #\n"
     ]
    },
    {
     "name": "stderr",
     "output_type": "stream",
     "text": [
      "FINAL - INFO : # Mask threshold set by Theoretical noise threshold #\n"
     ]
    },
    {
     "name": "stderr",
     "output_type": "stream",
     "text": [
      "FINAL - INFO : # Mask from last selfcal cycle copied and regridded to common grid #\n"
     ]
    },
    {
     "name": "stderr",
     "output_type": "stream",
     "text": [
      "FINAL - INFO : # Clean threshold for minor cycle 0 was set to 0.000411 Jy/beam #\n"
     ]
    },
    {
     "name": "stderr",
     "output_type": "stream",
     "text": [
      "FINAL - INFO : # Minor cycle 0 cleaning done #\n"
     ]
    },
    {
     "name": "stderr",
     "output_type": "stream",
     "text": [
      "FINAL - INFO : # Cleaned image for minor cycle 0 created #\n"
     ]
    },
    {
     "name": "stderr",
     "output_type": "stream",
     "text": [
      "FINAL - INFO : # Residual image for minor cycle 0 created #\n"
     ]
    },
    {
     "name": "stderr",
     "output_type": "stream",
     "text": [
      "FINAL - INFO : # Peak of the residual image is 0.00318716 Jy/beam #\n"
     ]
    },
    {
     "name": "stderr",
     "output_type": "stream",
     "text": [
      "FINAL - INFO : # RMS of the residual image is 0.000556484 Jy/beam #\n"
     ]
    },
    {
     "name": "stderr",
     "output_type": "stream",
     "text": [
      "FINAL - INFO : # Mask threshold for final imaging minor cycle 1 set to 0.002055 Jy/beam #\n"
     ]
    },
    {
     "name": "stderr",
     "output_type": "stream",
     "text": [
      "FINAL - INFO : # Mask threshold set by Theoretical noise threshold #\n"
     ]
    },
    {
     "name": "stderr",
     "output_type": "stream",
     "text": [
      "FINAL - INFO : # Mask with threshold 0.002055 Jy/beam created #\n"
     ]
    },
    {
     "name": "stderr",
     "output_type": "stream",
     "text": [
      "FINAL - INFO : # Clean threshold for minor cycle 1 was set to 0.000411 Jy/beam #\n"
     ]
    },
    {
     "name": "stderr",
     "output_type": "stream",
     "text": [
      "FINAL - INFO : # Minor cycle 1 cleaning done #\n"
     ]
    },
    {
     "name": "stderr",
     "output_type": "stream",
     "text": [
      "FINAL - INFO : # Cleaned image for minor cycle 1 created #\n"
     ]
    },
    {
     "name": "stderr",
     "output_type": "stream",
     "text": [
      "FINAL - INFO : # Residual image for minor cycle 1 created #\n"
     ]
    },
    {
     "name": "stderr",
     "output_type": "stream",
     "text": [
      "FINAL - INFO : # Peak of the residual image is 0.00206261 Jy/beam #\n"
     ]
    },
    {
     "name": "stderr",
     "output_type": "stream",
     "text": [
      "FINAL - INFO : # RMS of the residual image is 0.000500276 Jy/beam #\n"
     ]
    },
    {
     "name": "stderr",
     "output_type": "stream",
     "text": [
      "FINAL - INFO : # Mask threshold for final imaging minor cycle 2 set to 0.002055 Jy/beam #\n"
     ]
    },
    {
     "name": "stderr",
     "output_type": "stream",
     "text": [
      "FINAL - INFO : # Mask threshold set by Theoretical noise threshold #\n"
     ]
    },
    {
     "name": "stderr",
     "output_type": "stream",
     "text": [
      "FINAL - INFO : # Mask with threshold 0.002055 Jy/beam created #\n"
     ]
    },
    {
     "name": "stderr",
     "output_type": "stream",
     "text": [
      "FINAL - INFO : # Clean threshold for minor cycle 2 was set to 0.000411 Jy/beam #\n"
     ]
    },
    {
     "name": "stderr",
     "output_type": "stream",
     "text": [
      "FINAL - INFO : # Minor cycle 2 cleaning done #\n"
     ]
    },
    {
     "name": "stderr",
     "output_type": "stream",
     "text": [
      "FINAL - INFO : # Cleaned image for minor cycle 2 created #\n"
     ]
    },
    {
     "name": "stderr",
     "output_type": "stream",
     "text": [
      "FINAL - INFO : # Residual image for minor cycle 2 created #\n"
     ]
    },
    {
     "name": "stderr",
     "output_type": "stream",
     "text": [
      "FINAL - INFO : # Peak of the residual image is 0.00251716 Jy/beam #\n"
     ]
    },
    {
     "name": "stderr",
     "output_type": "stream",
     "text": [
      "FINAL - INFO : # RMS of the residual image is 0.000517581 Jy/beam #\n"
     ]
    },
    {
     "name": "stderr",
     "output_type": "stream",
     "text": [
      "FINAL - INFO : # Mask threshold for final imaging minor cycle 3 set to 0.002055 Jy/beam #\n"
     ]
    },
    {
     "name": "stderr",
     "output_type": "stream",
     "text": [
      "FINAL - INFO : # Mask threshold set by Theoretical noise threshold #\n"
     ]
    },
    {
     "name": "stderr",
     "output_type": "stream",
     "text": [
      "FINAL - INFO : # Mask with threshold 0.002055 Jy/beam created #\n"
     ]
    },
    {
     "name": "stderr",
     "output_type": "stream",
     "text": [
      "FINAL - INFO : # Clean threshold for minor cycle 3 was set to 0.000411 Jy/beam #\n"
     ]
    },
    {
     "name": "stderr",
     "output_type": "stream",
     "text": [
      "FINAL - INFO : # Minor cycle 3 cleaning done #\n"
     ]
    },
    {
     "name": "stderr",
     "output_type": "stream",
     "text": [
      "FINAL - INFO : # Cleaned image for minor cycle 3 created #\n"
     ]
    },
    {
     "name": "stderr",
     "output_type": "stream",
     "text": [
      "FINAL - INFO : # Residual image for minor cycle 3 created #\n"
     ]
    },
    {
     "name": "stderr",
     "output_type": "stream",
     "text": [
      "FINAL - INFO : # Peak of the residual image is 0.00214441 Jy/beam #\n"
     ]
    },
    {
     "name": "stderr",
     "output_type": "stream",
     "text": [
      "FINAL - INFO : # RMS of the residual image is 0.000503301 Jy/beam #\n"
     ]
    },
    {
     "name": "stderr",
     "output_type": "stream",
     "text": [
      "FINAL - INFO : # Mask threshold for final imaging minor cycle 4 set to 0.002055 Jy/beam #\n"
     ]
    },
    {
     "name": "stderr",
     "output_type": "stream",
     "text": [
      "FINAL - INFO : # Mask threshold set by Theoretical noise threshold #\n"
     ]
    },
    {
     "name": "stderr",
     "output_type": "stream",
     "text": [
      "FINAL - INFO : # Mask with threshold 0.002055 Jy/beam created #\n"
     ]
    },
    {
     "name": "stderr",
     "output_type": "stream",
     "text": [
      "FINAL - INFO : # Clean threshold for minor cycle 4 was set to 0.000411 Jy/beam #\n"
     ]
    },
    {
     "name": "stderr",
     "output_type": "stream",
     "text": [
      "FINAL - INFO : # Minor cycle 4 cleaning done #\n"
     ]
    },
    {
     "name": "stderr",
     "output_type": "stream",
     "text": [
      "FINAL - INFO : # Cleaned image for minor cycle 4 created #\n"
     ]
    },
    {
     "name": "stderr",
     "output_type": "stream",
     "text": [
      "FINAL - INFO : # Residual image for minor cycle 4 created #\n"
     ]
    },
    {
     "name": "stderr",
     "output_type": "stream",
     "text": [
      "FINAL - INFO : # Peak of the residual image is 0.0023267 Jy/beam #\n"
     ]
    },
    {
     "name": "stderr",
     "output_type": "stream",
     "text": [
      "FINAL - INFO : # RMS of the residual image is 0.000510289 Jy/beam #\n"
     ]
    },
    {
     "name": "stderr",
     "output_type": "stream",
     "text": [
      "FINAL - INFO : ### Final imaging for chunk 06 successful ###\n"
     ]
    },
    {
     "name": "stderr",
     "output_type": "stream",
     "text": [
      "FINAL - INFO : ### Final imaging for chunk 07 started ###\n"
     ]
    },
    {
     "name": "stderr",
     "output_type": "stream",
     "text": [
      "FINAL - INFO : # Last major self-calibration cycle seems to have been 3 #\n"
     ]
    },
    {
     "name": "stderr",
     "output_type": "stream",
     "text": [
      "FINAL - INFO : # Creating directory /data/adebahr/apertif/7070708_M51/final/continuum/stack/07 #\n"
     ]
    },
    {
     "name": "stderr",
     "output_type": "stream",
     "text": [
      "FINAL - INFO : # Moved to directory /data/adebahr/apertif/7070708_M51/final/continuum/stack/07 #\n"
     ]
    },
    {
     "name": "stderr",
     "output_type": "stream",
     "text": [
      "FINAL - INFO : # Theoretical noise for chunk 07 is 6.85e-05 Jy/beam #\n"
     ]
    },
    {
     "name": "stderr",
     "output_type": "stream",
     "text": [
      "FINAL - INFO : # Your theoretical noise threshold will be 30 times the theoretical noise corresponding to 0.002055 Jy/beam #\n"
     ]
    },
    {
     "name": "stderr",
     "output_type": "stream",
     "text": [
      "FINAL - INFO : # Dynamic range limits for the final minor iterations to clean are [100.0, 106.25, 125.0, 156.25, 200.0] #\n"
     ]
    },
    {
     "name": "stderr",
     "output_type": "stream",
     "text": [
      "FINAL - INFO : # Mask threshold for final minor cycle 0 set to 0.002055 Jy/beam #\n"
     ]
    },
    {
     "name": "stderr",
     "output_type": "stream",
     "text": [
      "FINAL - INFO : # Mask threshold set by Theoretical noise threshold #\n"
     ]
    },
    {
     "name": "stderr",
     "output_type": "stream",
     "text": [
      "FINAL - INFO : # Mask from last selfcal cycle copied and regridded to common grid #\n"
     ]
    },
    {
     "name": "stderr",
     "output_type": "stream",
     "text": [
      "FINAL - INFO : # Clean threshold for minor cycle 0 was set to 0.000411 Jy/beam #\n"
     ]
    },
    {
     "name": "stderr",
     "output_type": "stream",
     "text": [
      "FINAL - INFO : # Minor cycle 0 cleaning done #\n"
     ]
    },
    {
     "name": "stderr",
     "output_type": "stream",
     "text": [
      "FINAL - INFO : # Cleaned image for minor cycle 0 created #\n"
     ]
    },
    {
     "name": "stderr",
     "output_type": "stream",
     "text": [
      "FINAL - INFO : # Residual image for minor cycle 0 created #\n"
     ]
    },
    {
     "name": "stderr",
     "output_type": "stream",
     "text": [
      "FINAL - INFO : # Peak of the residual image is 0.002901 Jy/beam #\n"
     ]
    },
    {
     "name": "stderr",
     "output_type": "stream",
     "text": [
      "FINAL - INFO : # RMS of the residual image is 0.000527164 Jy/beam #\n"
     ]
    },
    {
     "name": "stderr",
     "output_type": "stream",
     "text": [
      "FINAL - INFO : # Mask threshold for final imaging minor cycle 1 set to 0.002055 Jy/beam #\n"
     ]
    },
    {
     "name": "stderr",
     "output_type": "stream",
     "text": [
      "FINAL - INFO : # Mask threshold set by Theoretical noise threshold #\n"
     ]
    },
    {
     "name": "stderr",
     "output_type": "stream",
     "text": [
      "FINAL - INFO : # Mask with threshold 0.002055 Jy/beam created #\n"
     ]
    },
    {
     "name": "stderr",
     "output_type": "stream",
     "text": [
      "FINAL - INFO : # Clean threshold for minor cycle 1 was set to 0.000411 Jy/beam #\n"
     ]
    },
    {
     "name": "stderr",
     "output_type": "stream",
     "text": [
      "FINAL - INFO : # Minor cycle 1 cleaning done #\n"
     ]
    },
    {
     "name": "stderr",
     "output_type": "stream",
     "text": [
      "FINAL - INFO : # Cleaned image for minor cycle 1 created #\n"
     ]
    },
    {
     "name": "stderr",
     "output_type": "stream",
     "text": [
      "FINAL - INFO : # Residual image for minor cycle 1 created #\n"
     ]
    },
    {
     "name": "stderr",
     "output_type": "stream",
     "text": [
      "FINAL - INFO : # Peak of the residual image is 0.00201118 Jy/beam #\n"
     ]
    },
    {
     "name": "stderr",
     "output_type": "stream",
     "text": [
      "FINAL - INFO : # RMS of the residual image is 0.000480614 Jy/beam #\n"
     ]
    },
    {
     "name": "stderr",
     "output_type": "stream",
     "text": [
      "FINAL - INFO : # Mask threshold for final imaging minor cycle 2 set to 0.002055 Jy/beam #\n"
     ]
    },
    {
     "name": "stderr",
     "output_type": "stream",
     "text": [
      "FINAL - INFO : # Mask threshold set by Theoretical noise threshold #\n"
     ]
    },
    {
     "name": "stderr",
     "output_type": "stream",
     "text": [
      "FINAL - INFO : # Mask with threshold 0.002055 Jy/beam created #\n"
     ]
    },
    {
     "name": "stderr",
     "output_type": "stream",
     "text": [
      "FINAL - INFO : # Clean threshold for minor cycle 2 was set to 0.000411 Jy/beam #\n"
     ]
    },
    {
     "name": "stderr",
     "output_type": "stream",
     "text": [
      "FINAL - INFO : # Minor cycle 2 cleaning done #\n"
     ]
    },
    {
     "name": "stderr",
     "output_type": "stream",
     "text": [
      "FINAL - INFO : # Cleaned image for minor cycle 2 created #\n"
     ]
    },
    {
     "name": "stderr",
     "output_type": "stream",
     "text": [
      "FINAL - INFO : # Residual image for minor cycle 2 created #\n"
     ]
    },
    {
     "name": "stderr",
     "output_type": "stream",
     "text": [
      "FINAL - INFO : # Peak of the residual image is 0.00224066 Jy/beam #\n"
     ]
    },
    {
     "name": "stderr",
     "output_type": "stream",
     "text": [
      "FINAL - INFO : # RMS of the residual image is 0.000489538 Jy/beam #\n"
     ]
    },
    {
     "name": "stderr",
     "output_type": "stream",
     "text": [
      "FINAL - INFO : # Mask threshold for final imaging minor cycle 3 set to 0.002055 Jy/beam #\n"
     ]
    },
    {
     "name": "stderr",
     "output_type": "stream",
     "text": [
      "FINAL - INFO : # Mask threshold set by Theoretical noise threshold #\n"
     ]
    },
    {
     "name": "stderr",
     "output_type": "stream",
     "text": [
      "FINAL - INFO : # Mask with threshold 0.002055 Jy/beam created #\n"
     ]
    },
    {
     "name": "stderr",
     "output_type": "stream",
     "text": [
      "FINAL - INFO : # Clean threshold for minor cycle 3 was set to 0.000411 Jy/beam #\n"
     ]
    },
    {
     "name": "stderr",
     "output_type": "stream",
     "text": [
      "FINAL - INFO : # Minor cycle 3 cleaning done #\n"
     ]
    },
    {
     "name": "stderr",
     "output_type": "stream",
     "text": [
      "FINAL - INFO : # Cleaned image for minor cycle 3 created #\n"
     ]
    },
    {
     "name": "stderr",
     "output_type": "stream",
     "text": [
      "FINAL - INFO : # Residual image for minor cycle 3 created #\n"
     ]
    },
    {
     "name": "stderr",
     "output_type": "stream",
     "text": [
      "FINAL - INFO : # Peak of the residual image is 0.00204397 Jy/beam #\n"
     ]
    },
    {
     "name": "stderr",
     "output_type": "stream",
     "text": [
      "FINAL - INFO : # RMS of the residual image is 0.000484002 Jy/beam #\n"
     ]
    },
    {
     "name": "stderr",
     "output_type": "stream",
     "text": [
      "FINAL - INFO : # Mask threshold for final imaging minor cycle 4 set to 0.002055 Jy/beam #\n"
     ]
    },
    {
     "name": "stderr",
     "output_type": "stream",
     "text": [
      "FINAL - INFO : # Mask threshold set by Theoretical noise threshold #\n"
     ]
    },
    {
     "name": "stderr",
     "output_type": "stream",
     "text": [
      "FINAL - INFO : # Mask with threshold 0.002055 Jy/beam created #\n"
     ]
    },
    {
     "name": "stderr",
     "output_type": "stream",
     "text": [
      "FINAL - INFO : # Clean threshold for minor cycle 4 was set to 0.000411 Jy/beam #\n"
     ]
    },
    {
     "name": "stderr",
     "output_type": "stream",
     "text": [
      "FINAL - INFO : # Minor cycle 4 cleaning done #\n"
     ]
    },
    {
     "name": "stderr",
     "output_type": "stream",
     "text": [
      "FINAL - INFO : # Cleaned image for minor cycle 4 created #\n"
     ]
    },
    {
     "name": "stderr",
     "output_type": "stream",
     "text": [
      "FINAL - INFO : # Residual image for minor cycle 4 created #\n"
     ]
    },
    {
     "name": "stderr",
     "output_type": "stream",
     "text": [
      "FINAL - INFO : # Peak of the residual image is 0.00214563 Jy/beam #\n"
     ]
    },
    {
     "name": "stderr",
     "output_type": "stream",
     "text": [
      "FINAL - INFO : # RMS of the residual image is 0.000485789 Jy/beam #\n"
     ]
    },
    {
     "name": "stderr",
     "output_type": "stream",
     "text": [
      "FINAL - INFO : ### Final imaging for chunk 07 successful ###\n"
     ]
    },
    {
     "name": "stderr",
     "output_type": "stream",
     "text": [
      "FINAL - INFO : ### Stacking images of individual frequency chunks ###\n"
     ]
    },
    {
     "name": "stderr",
     "output_type": "stream",
     "text": [
      "FINAL - INFO : # Moved to directory /data/adebahr/apertif/7070708_M51/final/continuum/stack #\n"
     ]
    },
    {
     "name": "stderr",
     "output_type": "stream",
     "text": [
      "FINAL - INFO : ### Final deep continuum image is /data/adebahr/apertif/7070708_M51/final/continuum/M51_stack ###\n"
     ]
    },
    {
     "name": "stderr",
     "output_type": "stream",
     "text": [
      "FINAL - INFO : ### Deep continuum imaging of full dataset done ###\n"
     ]
    },
    {
     "name": "stderr",
     "output_type": "stream",
     "text": [
      "FINAL - INFO : ########## FINAL IMAGING done ##########\n"
     ]
    }
   ],
   "source": [
    "final.go()"
   ]
  },
  {
   "cell_type": "code",
   "execution_count": 15,
   "metadata": {},
   "outputs": [
    {
     "name": "stderr",
     "output_type": "stream",
     "text": [
      "LINE - INFO : ### Configuration file /home/adebahr/apercal/ipython-notebooks/commissioning/APERTIF/M51.cfg successfully read! ###\n"
     ]
    }
   ],
   "source": [
    "line = apercal.line('/home/adebahr/apercal/ipython-notebooks/commissioning/APERTIF/M51.cfg')"
   ]
  },
  {
   "cell_type": "code",
   "execution_count": 16,
   "metadata": {},
   "outputs": [
    {
     "name": "stderr",
     "output_type": "stream",
     "text": [
      "LINE - INFO : ########## Starting CONTINUUM SUBTRACTION ##########\n"
     ]
    },
    {
     "name": "stderr",
     "output_type": "stream",
     "text": [
      "LINE - INFO : # Creating directory /data/adebahr/apertif/7070708_M51/line #\n"
     ]
    },
    {
     "name": "stderr",
     "output_type": "stream",
     "text": [
      "LINE - INFO : # Moved to directory /data/adebahr/apertif/7070708_M51/line #\n"
     ]
    },
    {
     "name": "stderr",
     "output_type": "stream",
     "text": [
      "LINE - INFO : ### Splitting of target data into individual frequency chunks started ###\n"
     ]
    },
    {
     "name": "stderr",
     "output_type": "stream",
     "text": [
      "LINE - INFO : # Applying calibrator solutions to target data before averaging #\n"
     ]
    },
    {
     "name": "stderr",
     "output_type": "stream",
     "text": [
      "LINE - INFO : # Calibrator solutions to target data applied #\n"
     ]
    },
    {
     "name": "stderr",
     "output_type": "stream",
     "text": [
      "LINE - INFO : # Found 1 subband(s) in target data #\n"
     ]
    },
    {
     "name": "stderr",
     "output_type": "stream",
     "text": [
      "LINE - INFO : # Started splitting of subband 0 #\n"
     ]
    },
    {
     "name": "stderr",
     "output_type": "stream",
     "text": [
      "LINE - INFO : # Adjusting chunk size to 0.016796875 GHz for regular gridding of the data chunks over frequency #\n"
     ]
    },
    {
     "name": "stderr",
     "output_type": "stream",
     "text": [
      "LINE - INFO : # Starting splitting of data chunk 0 for subband 0 #\n"
     ]
    },
    {
     "name": "stderr",
     "output_type": "stream",
     "text": [
      "LINE - INFO : # Using frequency binning of 1.2e-05 for all subbands #\n"
     ]
    },
    {
     "name": "stderr",
     "output_type": "stream",
     "text": [
      "LINE - INFO : # Creating directory /data/adebahr/apertif/7070708_M51/line/00 #\n"
     ]
    },
    {
     "name": "stderr",
     "output_type": "stream",
     "text": [
      "LINE - INFO : # Splitting of data chunk 0 for subband 0 done #\n"
     ]
    },
    {
     "name": "stderr",
     "output_type": "stream",
     "text": [
      "LINE - INFO : # Starting splitting of data chunk 1 for subband 0 #\n"
     ]
    },
    {
     "name": "stderr",
     "output_type": "stream",
     "text": [
      "LINE - INFO : # Using frequency binning of 1.2e-05 for all subbands #\n"
     ]
    },
    {
     "name": "stderr",
     "output_type": "stream",
     "text": [
      "LINE - INFO : # Creating directory /data/adebahr/apertif/7070708_M51/line/01 #\n"
     ]
    },
    {
     "name": "stderr",
     "output_type": "stream",
     "text": [
      "LINE - INFO : # Splitting of data chunk 1 for subband 0 done #\n"
     ]
    },
    {
     "name": "stderr",
     "output_type": "stream",
     "text": [
      "LINE - INFO : # Starting splitting of data chunk 2 for subband 0 #\n"
     ]
    },
    {
     "name": "stderr",
     "output_type": "stream",
     "text": [
      "LINE - INFO : # Using frequency binning of 1.2e-05 for all subbands #\n"
     ]
    },
    {
     "name": "stderr",
     "output_type": "stream",
     "text": [
      "LINE - INFO : # Creating directory /data/adebahr/apertif/7070708_M51/line/02 #\n"
     ]
    },
    {
     "name": "stderr",
     "output_type": "stream",
     "text": [
      "LINE - INFO : # Splitting of data chunk 2 for subband 0 done #\n"
     ]
    },
    {
     "name": "stderr",
     "output_type": "stream",
     "text": [
      "LINE - INFO : # Starting splitting of data chunk 3 for subband 0 #\n"
     ]
    },
    {
     "name": "stderr",
     "output_type": "stream",
     "text": [
      "LINE - INFO : # Using frequency binning of 1.2e-05 for all subbands #\n"
     ]
    },
    {
     "name": "stderr",
     "output_type": "stream",
     "text": [
      "LINE - INFO : # Creating directory /data/adebahr/apertif/7070708_M51/line/03 #\n"
     ]
    },
    {
     "name": "stderr",
     "output_type": "stream",
     "text": [
      "LINE - INFO : # Splitting of data chunk 3 for subband 0 done #\n"
     ]
    },
    {
     "name": "stderr",
     "output_type": "stream",
     "text": [
      "LINE - INFO : # Starting splitting of data chunk 4 for subband 0 #\n"
     ]
    },
    {
     "name": "stderr",
     "output_type": "stream",
     "text": [
      "LINE - INFO : # Using frequency binning of 1.2e-05 for all subbands #\n"
     ]
    },
    {
     "name": "stderr",
     "output_type": "stream",
     "text": [
      "LINE - INFO : # Creating directory /data/adebahr/apertif/7070708_M51/line/04 #\n"
     ]
    },
    {
     "name": "stderr",
     "output_type": "stream",
     "text": [
      "LINE - INFO : # Splitting of data chunk 4 for subband 0 done #\n"
     ]
    },
    {
     "name": "stderr",
     "output_type": "stream",
     "text": [
      "LINE - INFO : # Starting splitting of data chunk 5 for subband 0 #\n"
     ]
    },
    {
     "name": "stderr",
     "output_type": "stream",
     "text": [
      "LINE - INFO : # Using frequency binning of 1.2e-05 for all subbands #\n"
     ]
    },
    {
     "name": "stderr",
     "output_type": "stream",
     "text": [
      "LINE - INFO : # Creating directory /data/adebahr/apertif/7070708_M51/line/05 #\n"
     ]
    },
    {
     "name": "stderr",
     "output_type": "stream",
     "text": [
      "LINE - INFO : # Splitting of data chunk 5 for subband 0 done #\n"
     ]
    },
    {
     "name": "stderr",
     "output_type": "stream",
     "text": [
      "LINE - INFO : # Starting splitting of data chunk 6 for subband 0 #\n"
     ]
    },
    {
     "name": "stderr",
     "output_type": "stream",
     "text": [
      "LINE - INFO : # Using frequency binning of 1.2e-05 for all subbands #\n"
     ]
    },
    {
     "name": "stderr",
     "output_type": "stream",
     "text": [
      "LINE - INFO : # Creating directory /data/adebahr/apertif/7070708_M51/line/06 #\n"
     ]
    },
    {
     "name": "stderr",
     "output_type": "stream",
     "text": [
      "LINE - INFO : # Splitting of data chunk 6 for subband 0 done #\n"
     ]
    },
    {
     "name": "stderr",
     "output_type": "stream",
     "text": [
      "LINE - INFO : # Starting splitting of data chunk 7 for subband 0 #\n"
     ]
    },
    {
     "name": "stderr",
     "output_type": "stream",
     "text": [
      "LINE - INFO : # Using frequency binning of 1.2e-05 for all subbands #\n"
     ]
    },
    {
     "name": "stderr",
     "output_type": "stream",
     "text": [
      "LINE - INFO : # Creating directory /data/adebahr/apertif/7070708_M51/line/07 #\n"
     ]
    },
    {
     "name": "stderr",
     "output_type": "stream",
     "text": [
      "LINE - INFO : # Splitting of data chunk 7 for subband 0 done #\n"
     ]
    },
    {
     "name": "stderr",
     "output_type": "stream",
     "text": [
      "LINE - INFO : # Splitting of data for subband 0 done #\n"
     ]
    },
    {
     "name": "stderr",
     "output_type": "stream",
     "text": [
      "LINE - INFO : ### Splitting of target data into individual frequency chunks done ###\n"
     ]
    },
    {
     "name": "stderr",
     "output_type": "stream",
     "text": [
      "LINE - INFO : ### Copying gains from continuum to line data ###\n"
     ]
    },
    {
     "name": "stderr",
     "output_type": "stream",
     "text": [
      "LINE - INFO : # Copying gains from continuum to line data for chunk 00 #\n"
     ]
    },
    {
     "name": "stderr",
     "output_type": "stream",
     "text": [
      "LINE - INFO : # Copying gains from continuum to line data for chunk 01 #\n"
     ]
    },
    {
     "name": "stderr",
     "output_type": "stream",
     "text": [
      "LINE - INFO : # Copying gains from continuum to line data for chunk 02 #\n"
     ]
    },
    {
     "name": "stderr",
     "output_type": "stream",
     "text": [
      "LINE - INFO : # Copying gains from continuum to line data for chunk 03 #\n"
     ]
    },
    {
     "name": "stderr",
     "output_type": "stream",
     "text": [
      "LINE - INFO : # Copying gains from continuum to line data for chunk 04 #\n"
     ]
    },
    {
     "name": "stderr",
     "output_type": "stream",
     "text": [
      "LINE - INFO : # Copying gains from continuum to line data for chunk 05 #\n"
     ]
    },
    {
     "name": "stderr",
     "output_type": "stream",
     "text": [
      "LINE - INFO : # Copying gains from continuum to line data for chunk 06 #\n"
     ]
    },
    {
     "name": "stderr",
     "output_type": "stream",
     "text": [
      "LINE - INFO : # Copying gains from continuum to line data for chunk 07 #\n"
     ]
    },
    {
     "name": "stderr",
     "output_type": "stream",
     "text": [
      "LINE - INFO : ### Gains from continuum to line data copied ###\n"
     ]
    },
    {
     "name": "stderr",
     "output_type": "stream",
     "text": [
      "LINE - INFO : ### Starting continuum subtraction of individual chunks using uvmodel ###\n"
     ]
    },
    {
     "name": "stderr",
     "output_type": "stream",
     "text": [
      "LINE - INFO : # Moved to directory /data/adebahr/apertif/7070708_M51/line/00 #\n"
     ]
    },
    {
     "name": "stderr",
     "output_type": "stream",
     "text": [
      "LINE - INFO : # Applied gains to chunk 00 for subtraction of continuum model #\n"
     ]
    },
    {
     "name": "stderr",
     "output_type": "stream",
     "text": [
      "LINE - INFO : # Found model for subtraction in final continuum directory. No need to redo continuum imaging #\n"
     ]
    },
    {
     "name": "stderr",
     "output_type": "stream",
     "text": [
      "LINE - INFO : ### Continuum subtraction using uvmodel method for chunk 00 successful! ###\n"
     ]
    },
    {
     "name": "stderr",
     "output_type": "stream",
     "text": [
      "LINE - INFO : # Moved to directory /data/adebahr/apertif/7070708_M51/line/01 #\n"
     ]
    },
    {
     "name": "stderr",
     "output_type": "stream",
     "text": [
      "LINE - INFO : # Applied gains to chunk 01 for subtraction of continuum model #\n"
     ]
    },
    {
     "name": "stderr",
     "output_type": "stream",
     "text": [
      "LINE - INFO : # Found model for subtraction in final continuum directory. No need to redo continuum imaging #\n"
     ]
    },
    {
     "name": "stderr",
     "output_type": "stream",
     "text": [
      "LINE - INFO : ### Continuum subtraction using uvmodel method for chunk 01 successful! ###\n"
     ]
    },
    {
     "name": "stderr",
     "output_type": "stream",
     "text": [
      "LINE - INFO : # Moved to directory /data/adebahr/apertif/7070708_M51/line/02 #\n"
     ]
    },
    {
     "name": "stderr",
     "output_type": "stream",
     "text": [
      "LINE - INFO : # Applied gains to chunk 02 for subtraction of continuum model #\n"
     ]
    },
    {
     "name": "stderr",
     "output_type": "stream",
     "text": [
      "LINE - INFO : # Found model for subtraction in final continuum directory. No need to redo continuum imaging #\n"
     ]
    },
    {
     "name": "stderr",
     "output_type": "stream",
     "text": [
      "LINE - INFO : ### Continuum subtraction using uvmodel method for chunk 02 successful! ###\n"
     ]
    },
    {
     "name": "stderr",
     "output_type": "stream",
     "text": [
      "LINE - INFO : # Moved to directory /data/adebahr/apertif/7070708_M51/line/03 #\n"
     ]
    },
    {
     "name": "stderr",
     "output_type": "stream",
     "text": [
      "LINE - INFO : # Applied gains to chunk 03 for subtraction of continuum model #\n"
     ]
    },
    {
     "name": "stderr",
     "output_type": "stream",
     "text": [
      "LINE - INFO : # Found model for subtraction in final continuum directory. No need to redo continuum imaging #\n"
     ]
    },
    {
     "name": "stderr",
     "output_type": "stream",
     "text": [
      "LINE - INFO : ### Continuum subtraction using uvmodel method for chunk 03 successful! ###\n"
     ]
    },
    {
     "name": "stderr",
     "output_type": "stream",
     "text": [
      "LINE - INFO : # Moved to directory /data/adebahr/apertif/7070708_M51/line/04 #\n"
     ]
    },
    {
     "name": "stderr",
     "output_type": "stream",
     "text": [
      "LINE - INFO : # Applied gains to chunk 04 for subtraction of continuum model #\n"
     ]
    },
    {
     "name": "stderr",
     "output_type": "stream",
     "text": [
      "LINE - INFO : # Found model for subtraction in final continuum directory. No need to redo continuum imaging #\n"
     ]
    },
    {
     "name": "stderr",
     "output_type": "stream",
     "text": [
      "LINE - INFO : ### Continuum subtraction using uvmodel method for chunk 04 successful! ###\n"
     ]
    },
    {
     "name": "stderr",
     "output_type": "stream",
     "text": [
      "LINE - INFO : # Moved to directory /data/adebahr/apertif/7070708_M51/line/05 #\n"
     ]
    },
    {
     "name": "stderr",
     "output_type": "stream",
     "text": [
      "LINE - INFO : # Applied gains to chunk 05 for subtraction of continuum model #\n"
     ]
    },
    {
     "name": "stderr",
     "output_type": "stream",
     "text": [
      "LINE - INFO : # Found model for subtraction in final continuum directory. No need to redo continuum imaging #\n"
     ]
    },
    {
     "name": "stderr",
     "output_type": "stream",
     "text": [
      "LINE - INFO : ### Continuum subtraction using uvmodel method for chunk 05 successful! ###\n"
     ]
    },
    {
     "name": "stderr",
     "output_type": "stream",
     "text": [
      "LINE - INFO : # Moved to directory /data/adebahr/apertif/7070708_M51/line/06 #\n"
     ]
    },
    {
     "name": "stderr",
     "output_type": "stream",
     "text": [
      "LINE - INFO : # Applied gains to chunk 06 for subtraction of continuum model #\n"
     ]
    },
    {
     "name": "stderr",
     "output_type": "stream",
     "text": [
      "LINE - INFO : # Found model for subtraction in final continuum directory. No need to redo continuum imaging #\n"
     ]
    },
    {
     "name": "stderr",
     "output_type": "stream",
     "text": [
      "LINE - INFO : ### Continuum subtraction using uvmodel method for chunk 06 successful! ###\n"
     ]
    },
    {
     "name": "stderr",
     "output_type": "stream",
     "text": [
      "LINE - INFO : # Moved to directory /data/adebahr/apertif/7070708_M51/line/07 #\n"
     ]
    },
    {
     "name": "stderr",
     "output_type": "stream",
     "text": [
      "LINE - INFO : # Applied gains to chunk 07 for subtraction of continuum model #\n"
     ]
    },
    {
     "name": "stderr",
     "output_type": "stream",
     "text": [
      "LINE - INFO : # Found model for subtraction in final continuum directory. No need to redo continuum imaging #\n"
     ]
    },
    {
     "name": "stderr",
     "output_type": "stream",
     "text": [
      "LINE - INFO : ### Continuum subtraction using uvmodel method for chunk 07 successful! ###\n"
     ]
    },
    {
     "name": "stderr",
     "output_type": "stream",
     "text": [
      "LINE - INFO : ### Continuum subtraction using uvmodel done! ###\n"
     ]
    },
    {
     "name": "stderr",
     "output_type": "stream",
     "text": [
      "LINE - INFO : ########## CONTINUUM SUBTRACTION done ##########\n"
     ]
    }
   ],
   "source": [
    "line.go()"
   ]
  },
  {
   "cell_type": "code",
   "execution_count": 17,
   "metadata": {},
   "outputs": [
    {
     "name": "stderr",
     "output_type": "stream",
     "text": [
      "FINAL - INFO : ### Configuration file /home/adebahr/apercal/ipython-notebooks/commissioning/APERTIF/M51.cfg successfully read! ###\n"
     ]
    }
   ],
   "source": [
    "final = apercal.final('/home/adebahr/apercal/ipython-notebooks/commissioning/APERTIF/M51.cfg')"
   ]
  },
  {
   "cell_type": "code",
   "execution_count": 18,
   "metadata": {},
   "outputs": [
    {
     "name": "stdout",
     "output_type": "stream",
     "text": [
      "FINAL\n\tfinal_continuum = False\n\tfinal_continuum_image_imsize = 513\n\tfinal_continuum_image_cellsize = 10\n\tfinal_continuum_image_centre = \n\tfinal_continuum_image_restorbeam = \n\tfinal_continuum_image_convolbeam = \n\tfinal_continuum_mode = stack\n\tfinal_continuum_majorcycle_function = square\n\tfinal_continuum_minorcycle_function = square\n\tfinal_continuum_minorcycle0_dr = 3.0\n\tfinal_continuum_minorcycle = 5\n\tfinal_continuum_c0 = 10.0\n\tfinal_continuum_c1 = 5.0\n\tfinal_continuum_drinit = 25\n\tfinal_continuum_dr0 = 2.0\n\tfinal_continuum_nsigma = 30\n\tfinal_continuum_robust = \n\tfinal_line = True\n\tfinal_line_channels = 9200,10200\n\tfinal_line_image_imsize = 513\n\tfinal_line_image_cellsize = 10\n\tfinal_line_image_centre = \n\tfinal_line_image_robust = -2\n\tfinal_line_clean_ratio_limit = 1.2\n\tfinal_line_clean_c0 = 10.0\n\tfinal_line_clean_c1 = 5.0\n\tfinal_line_clean_nsigma = 30\n\tfinal_line_clean_minorcycle0_dr = 3.0\n\tfinal_line_clean_dr0 = 3.0\n\tfinal_line_image_restorbeam = \n\tfinal_line_image_convolbeam = 45,45,0.0\n\tfinal_polarisation = False\n\tfinal_polarisation_image_imsize = 513\n\tfinal_polarisation_image_cellsize = 10\n\tfinal_polarisation_image_centre = \n\tfinal_polarisation_image_beam = \n\tfinal_polarisation_makecube = True\n\tfinal_polarisation_rmsynth = True\n"
     ]
    }
   ],
   "source": [
    "final.final_continuum = False\n",
    "final.final_line = True\n",
    "final.show()"
   ]
  },
  {
   "cell_type": "code",
   "execution_count": 19,
   "metadata": {},
   "outputs": [
    {
     "name": "stderr",
     "output_type": "stream",
     "text": [
      "FINAL - INFO : ########## Starting FINAL IMAGING ##########\n"
     ]
    },
    {
     "name": "stderr",
     "output_type": "stream",
     "text": [
      "FINAL - INFO : ### Starting line imaging of full dataset ###\n"
     ]
    },
    {
     "name": "stderr",
     "output_type": "stream",
     "text": [
      "FINAL - INFO : # Moved to directory /data/adebahr/apertif/7070708_M51/final #\n"
     ]
    },
    {
     "name": "stderr",
     "output_type": "stream",
     "text": [
      "FINAL - INFO : # Creating directory /data/adebahr/apertif/7070708_M51/final/line #\n"
     ]
    },
    {
     "name": "stderr",
     "output_type": "stream",
     "text": [
      "FINAL - INFO : # Moved to directory /data/adebahr/apertif/7070708_M51/final/line #\n"
     ]
    },
    {
     "name": "stderr",
     "output_type": "stream",
     "text": [
      "FINAL - INFO : # Imaging each individual channel separately #\n"
     ]
    },
    {
     "name": "stderr",
     "output_type": "stream",
     "text": [
      "FINAL - INFO : # All channels of chunk 00 imaged #\n"
     ]
    },
    {
     "name": "stderr",
     "output_type": "stream",
     "text": [
      "FINAL - INFO : # Cleaned up the directory for chunk 00 #\n"
     ]
    },
    {
     "name": "stderr",
     "output_type": "stream",
     "text": [
      "FINAL - INFO : # All channels of chunk 01 imaged #\n"
     ]
    },
    {
     "name": "stderr",
     "output_type": "stream",
     "text": [
      "FINAL - INFO : # Cleaned up the directory for chunk 01 #\n"
     ]
    },
    {
     "name": "stderr",
     "output_type": "stream",
     "text": [
      "FINAL - INFO : # All channels of chunk 02 imaged #\n"
     ]
    },
    {
     "name": "stderr",
     "output_type": "stream",
     "text": [
      "FINAL - INFO : # Cleaned up the directory for chunk 02 #\n"
     ]
    },
    {
     "name": "stderr",
     "output_type": "stream",
     "text": [
      "FINAL - INFO : # All channels of chunk 03 imaged #\n"
     ]
    },
    {
     "name": "stderr",
     "output_type": "stream",
     "text": [
      "FINAL - INFO : # Cleaned up the directory for chunk 03 #\n"
     ]
    },
    {
     "name": "stderr",
     "output_type": "stream",
     "text": [
      "FINAL - INFO : # All channels of chunk 04 imaged #\n"
     ]
    },
    {
     "name": "stderr",
     "output_type": "stream",
     "text": [
      "FINAL - INFO : # Cleaned up the directory for chunk 04 #\n"
     ]
    },
    {
     "name": "stderr",
     "output_type": "stream",
     "text": [
      "FINAL - INFO : # All channels of chunk 05 imaged #\n"
     ]
    },
    {
     "name": "stderr",
     "output_type": "stream",
     "text": [
      "FINAL - INFO : # Cleaned up the directory for chunk 05 #\n"
     ]
    },
    {
     "name": "stderr",
     "output_type": "stream",
     "text": [
      "FINAL - INFO : # Finished processing channel 09201/11007. #\n"
     ]
    },
    {
     "name": "stderr",
     "output_type": "stream",
     "text": [
      "FINAL - INFO : # Finished processing channel 09202/11007. #\n"
     ]
    },
    {
     "name": "stderr",
     "output_type": "stream",
     "text": [
      "FINAL - INFO : # Finished processing channel 09203/11007. #\n"
     ]
    },
    {
     "name": "stderr",
     "output_type": "stream",
     "text": [
      "FINAL - INFO : # Finished processing channel 09204/11007. #\n"
     ]
    },
    {
     "name": "stderr",
     "output_type": "stream",
     "text": [
      "FINAL - INFO : # Finished processing channel 09205/11007. #\n"
     ]
    },
    {
     "name": "stderr",
     "output_type": "stream",
     "text": [
      "FINAL - INFO : # Finished processing channel 09206/11007. #\n"
     ]
    },
    {
     "name": "stderr",
     "output_type": "stream",
     "text": [
      "FINAL - INFO : # Finished processing channel 09207/11007. #\n"
     ]
    },
    {
     "name": "stderr",
     "output_type": "stream",
     "text": [
      "FINAL - INFO : # Finished processing channel 09208/11007. #\n"
     ]
    },
    {
     "name": "stderr",
     "output_type": "stream",
     "text": [
      "FINAL - INFO : # Finished processing channel 09209/11007. #\n"
     ]
    },
    {
     "name": "stderr",
     "output_type": "stream",
     "text": [
      "FINAL - INFO : # Finished processing channel 09210/11007. #\n"
     ]
    },
    {
     "name": "stderr",
     "output_type": "stream",
     "text": [
      "FINAL - INFO : # Finished processing channel 09211/11007. #\n"
     ]
    },
    {
     "name": "stderr",
     "output_type": "stream",
     "text": [
      "FINAL - INFO : # Finished processing channel 09212/11007. #\n"
     ]
    },
    {
     "name": "stderr",
     "output_type": "stream",
     "text": [
      "FINAL - INFO : # Finished processing channel 09213/11007. #\n"
     ]
    },
    {
     "name": "stderr",
     "output_type": "stream",
     "text": [
      "FINAL - INFO : # Finished processing channel 09214/11007. #\n"
     ]
    },
    {
     "name": "stderr",
     "output_type": "stream",
     "text": [
      "FINAL - INFO : # Finished processing channel 09218/11007. #\n"
     ]
    },
    {
     "name": "stderr",
     "output_type": "stream",
     "text": [
      "FINAL - INFO : # Finished processing channel 09219/11007. #\n"
     ]
    },
    {
     "name": "stderr",
     "output_type": "stream",
     "text": [
      "FINAL - INFO : # Finished processing channel 09220/11007. #\n"
     ]
    },
    {
     "name": "stderr",
     "output_type": "stream",
     "text": [
      "FINAL - INFO : # Finished processing channel 09221/11007. #\n"
     ]
    },
    {
     "name": "stderr",
     "output_type": "stream",
     "text": [
      "FINAL - INFO : # Finished processing channel 09222/11007. #\n"
     ]
    },
    {
     "name": "stderr",
     "output_type": "stream",
     "text": [
      "FINAL - INFO : # Finished processing channel 09223/11007. #\n"
     ]
    },
    {
     "name": "stderr",
     "output_type": "stream",
     "text": [
      "FINAL - INFO : # Finished processing channel 09224/11007. #\n"
     ]
    },
    {
     "name": "stderr",
     "output_type": "stream",
     "text": [
      "FINAL - INFO : # Finished processing channel 09225/11007. #\n"
     ]
    },
    {
     "name": "stderr",
     "output_type": "stream",
     "text": [
      "FINAL - INFO : # Emission found in channel 09226. Cleaning! #\n"
     ]
    },
    {
     "name": "stderr",
     "output_type": "stream",
     "text": [
      "FINAL - INFO : # Finished processing channel 09226/11007. #\n"
     ]
    },
    {
     "name": "stderr",
     "output_type": "stream",
     "text": [
      "FINAL - INFO : # Finished processing channel 09227/11007. #\n"
     ]
    },
    {
     "name": "stderr",
     "output_type": "stream",
     "text": [
      "FINAL - INFO : # Finished processing channel 09228/11007. #\n"
     ]
    },
    {
     "name": "stderr",
     "output_type": "stream",
     "text": [
      "FINAL - INFO : # Finished processing channel 09229/11007. #\n"
     ]
    },
    {
     "name": "stderr",
     "output_type": "stream",
     "text": [
      "FINAL - INFO : # Finished processing channel 09230/11007. #\n"
     ]
    },
    {
     "name": "stderr",
     "output_type": "stream",
     "text": [
      "FINAL - INFO : # Finished processing channel 09231/11007. #\n"
     ]
    },
    {
     "name": "stderr",
     "output_type": "stream",
     "text": [
      "FINAL - INFO : # Finished processing channel 09232/11007. #\n"
     ]
    },
    {
     "name": "stderr",
     "output_type": "stream",
     "text": [
      "FINAL - INFO : # Finished processing channel 09233/11007. #\n"
     ]
    },
    {
     "name": "stderr",
     "output_type": "stream",
     "text": [
      "FINAL - INFO : # Finished processing channel 09234/11007. #\n"
     ]
    },
    {
     "name": "stderr",
     "output_type": "stream",
     "text": [
      "FINAL - INFO : # Finished processing channel 09235/11007. #\n"
     ]
    },
    {
     "name": "stderr",
     "output_type": "stream",
     "text": [
      "FINAL - INFO : # Finished processing channel 09236/11007. #\n"
     ]
    },
    {
     "name": "stderr",
     "output_type": "stream",
     "text": [
      "FINAL - INFO : # Finished processing channel 09237/11007. #\n"
     ]
    },
    {
     "name": "stderr",
     "output_type": "stream",
     "text": [
      "FINAL - INFO : # Finished processing channel 09238/11007. #\n"
     ]
    },
    {
     "name": "stderr",
     "output_type": "stream",
     "text": [
      "FINAL - INFO : # Finished processing channel 09239/11007. #\n"
     ]
    },
    {
     "name": "stderr",
     "output_type": "stream",
     "text": [
      "FINAL - INFO : # Finished processing channel 09240/11007. #\n"
     ]
    },
    {
     "name": "stderr",
     "output_type": "stream",
     "text": [
      "FINAL - INFO : # Finished processing channel 09241/11007. #\n"
     ]
    },
    {
     "name": "stderr",
     "output_type": "stream",
     "text": [
      "FINAL - INFO : # Finished processing channel 09242/11007. #\n"
     ]
    },
    {
     "name": "stderr",
     "output_type": "stream",
     "text": [
      "FINAL - INFO : # Finished processing channel 09243/11007. #\n"
     ]
    },
    {
     "name": "stderr",
     "output_type": "stream",
     "text": [
      "FINAL - INFO : # Finished processing channel 09244/11007. #\n"
     ]
    },
    {
     "name": "stderr",
     "output_type": "stream",
     "text": [
      "FINAL - INFO : # Finished processing channel 09245/11007. #\n"
     ]
    },
    {
     "name": "stderr",
     "output_type": "stream",
     "text": [
      "FINAL - INFO : # Finished processing channel 09246/11007. #\n"
     ]
    },
    {
     "name": "stderr",
     "output_type": "stream",
     "text": [
      "FINAL - INFO : # Finished processing channel 09247/11007. #\n"
     ]
    },
    {
     "name": "stderr",
     "output_type": "stream",
     "text": [
      "FINAL - INFO : # Finished processing channel 09248/11007. #\n"
     ]
    },
    {
     "name": "stderr",
     "output_type": "stream",
     "text": [
      "FINAL - INFO : # Finished processing channel 09249/11007. #\n"
     ]
    },
    {
     "name": "stderr",
     "output_type": "stream",
     "text": [
      "FINAL - INFO : # Finished processing channel 09250/11007. #\n"
     ]
    },
    {
     "name": "stderr",
     "output_type": "stream",
     "text": [
      "FINAL - INFO : # Finished processing channel 09251/11007. #\n"
     ]
    },
    {
     "name": "stderr",
     "output_type": "stream",
     "text": [
      "FINAL - INFO : # Finished processing channel 09252/11007. #\n"
     ]
    },
    {
     "name": "stderr",
     "output_type": "stream",
     "text": [
      "FINAL - INFO : # Finished processing channel 09253/11007. #\n"
     ]
    },
    {
     "name": "stderr",
     "output_type": "stream",
     "text": [
      "FINAL - INFO : # Finished processing channel 09254/11007. #\n"
     ]
    },
    {
     "name": "stderr",
     "output_type": "stream",
     "text": [
      "FINAL - INFO : # Finished processing channel 09255/11007. #\n"
     ]
    },
    {
     "name": "stderr",
     "output_type": "stream",
     "text": [
      "FINAL - INFO : # Finished processing channel 09256/11007. #\n"
     ]
    },
    {
     "name": "stderr",
     "output_type": "stream",
     "text": [
      "FINAL - INFO : # Finished processing channel 09257/11007. #\n"
     ]
    },
    {
     "name": "stderr",
     "output_type": "stream",
     "text": [
      "FINAL - INFO : # Finished processing channel 09258/11007. #\n"
     ]
    },
    {
     "name": "stderr",
     "output_type": "stream",
     "text": [
      "FINAL - INFO : # Finished processing channel 09259/11007. #\n"
     ]
    },
    {
     "name": "stderr",
     "output_type": "stream",
     "text": [
      "FINAL - INFO : # Emission found in channel 09260. Cleaning! #\n"
     ]
    },
    {
     "name": "stderr",
     "output_type": "stream",
     "text": [
      "FINAL - INFO : # Finished processing channel 09260/11007. #\n"
     ]
    },
    {
     "name": "stderr",
     "output_type": "stream",
     "text": [
      "FINAL - INFO : # Finished processing channel 09261/11007. #\n"
     ]
    },
    {
     "name": "stderr",
     "output_type": "stream",
     "text": [
      "FINAL - INFO : # Finished processing channel 09262/11007. #\n"
     ]
    },
    {
     "name": "stderr",
     "output_type": "stream",
     "text": [
      "FINAL - INFO : # Finished processing channel 09263/11007. #\n"
     ]
    },
    {
     "name": "stderr",
     "output_type": "stream",
     "text": [
      "FINAL - INFO : # Finished processing channel 09266/11007. #\n"
     ]
    },
    {
     "name": "stderr",
     "output_type": "stream",
     "text": [
      "FINAL - INFO : # Finished processing channel 09267/11007. #\n"
     ]
    },
    {
     "name": "stderr",
     "output_type": "stream",
     "text": [
      "FINAL - INFO : # Finished processing channel 09268/11007. #\n"
     ]
    },
    {
     "name": "stderr",
     "output_type": "stream",
     "text": [
      "FINAL - INFO : # Finished processing channel 09269/11007. #\n"
     ]
    },
    {
     "name": "stderr",
     "output_type": "stream",
     "text": [
      "FINAL - INFO : # Finished processing channel 09270/11007. #\n"
     ]
    },
    {
     "name": "stderr",
     "output_type": "stream",
     "text": [
      "FINAL - INFO : # Finished processing channel 09271/11007. #\n"
     ]
    },
    {
     "name": "stderr",
     "output_type": "stream",
     "text": [
      "FINAL - INFO : # Finished processing channel 09272/11007. #\n"
     ]
    },
    {
     "name": "stderr",
     "output_type": "stream",
     "text": [
      "FINAL - INFO : # Finished processing channel 09273/11007. #\n"
     ]
    },
    {
     "name": "stderr",
     "output_type": "stream",
     "text": [
      "FINAL - INFO : # Finished processing channel 09274/11007. #\n"
     ]
    },
    {
     "name": "stderr",
     "output_type": "stream",
     "text": [
      "FINAL - INFO : # Finished processing channel 09275/11007. #\n"
     ]
    },
    {
     "name": "stderr",
     "output_type": "stream",
     "text": [
      "FINAL - INFO : # Finished processing channel 09276/11007. #\n"
     ]
    },
    {
     "name": "stderr",
     "output_type": "stream",
     "text": [
      "FINAL - INFO : # Finished processing channel 09277/11007. #\n"
     ]
    },
    {
     "name": "stderr",
     "output_type": "stream",
     "text": [
      "FINAL - INFO : # Finished processing channel 09278/11007. #\n"
     ]
    },
    {
     "name": "stderr",
     "output_type": "stream",
     "text": [
      "FINAL - INFO : # Finished processing channel 09282/11007. #\n"
     ]
    },
    {
     "name": "stderr",
     "output_type": "stream",
     "text": [
      "FINAL - INFO : # Finished processing channel 09283/11007. #\n"
     ]
    },
    {
     "name": "stderr",
     "output_type": "stream",
     "text": [
      "FINAL - INFO : # Finished processing channel 09284/11007. #\n"
     ]
    },
    {
     "name": "stderr",
     "output_type": "stream",
     "text": [
      "FINAL - INFO : # Finished processing channel 09285/11007. #\n"
     ]
    },
    {
     "name": "stderr",
     "output_type": "stream",
     "text": [
      "FINAL - INFO : # Finished processing channel 09286/11007. #\n"
     ]
    },
    {
     "name": "stderr",
     "output_type": "stream",
     "text": [
      "FINAL - INFO : # Finished processing channel 09287/11007. #\n"
     ]
    },
    {
     "name": "stderr",
     "output_type": "stream",
     "text": [
      "FINAL - INFO : # Finished processing channel 09288/11007. #\n"
     ]
    },
    {
     "name": "stderr",
     "output_type": "stream",
     "text": [
      "FINAL - INFO : # Finished processing channel 09289/11007. #\n"
     ]
    },
    {
     "name": "stderr",
     "output_type": "stream",
     "text": [
      "FINAL - INFO : # Finished processing channel 09290/11007. #\n"
     ]
    },
    {
     "name": "stderr",
     "output_type": "stream",
     "text": [
      "FINAL - INFO : # Finished processing channel 09291/11007. #\n"
     ]
    },
    {
     "name": "stderr",
     "output_type": "stream",
     "text": [
      "FINAL - INFO : # Finished processing channel 09292/11007. #\n"
     ]
    },
    {
     "name": "stderr",
     "output_type": "stream",
     "text": [
      "FINAL - INFO : # Finished processing channel 09293/11007. #\n"
     ]
    },
    {
     "name": "stderr",
     "output_type": "stream",
     "text": [
      "FINAL - INFO : # Finished processing channel 09294/11007. #\n"
     ]
    },
    {
     "name": "stderr",
     "output_type": "stream",
     "text": [
      "FINAL - INFO : # Finished processing channel 09295/11007. #\n"
     ]
    },
    {
     "name": "stderr",
     "output_type": "stream",
     "text": [
      "FINAL - INFO : # Finished processing channel 09296/11007. #\n"
     ]
    },
    {
     "name": "stderr",
     "output_type": "stream",
     "text": [
      "FINAL - INFO : # Finished processing channel 09297/11007. #\n"
     ]
    },
    {
     "name": "stderr",
     "output_type": "stream",
     "text": [
      "FINAL - INFO : # Finished processing channel 09298/11007. #\n"
     ]
    },
    {
     "name": "stderr",
     "output_type": "stream",
     "text": [
      "FINAL - INFO : # Finished processing channel 09299/11007. #\n"
     ]
    },
    {
     "name": "stderr",
     "output_type": "stream",
     "text": [
      "FINAL - INFO : # Finished processing channel 09300/11007. #\n"
     ]
    },
    {
     "name": "stderr",
     "output_type": "stream",
     "text": [
      "FINAL - INFO : # Finished processing channel 09301/11007. #\n"
     ]
    },
    {
     "name": "stderr",
     "output_type": "stream",
     "text": [
      "FINAL - INFO : # Finished processing channel 09302/11007. #\n"
     ]
    },
    {
     "name": "stderr",
     "output_type": "stream",
     "text": [
      "FINAL - INFO : # Finished processing channel 09303/11007. #\n"
     ]
    },
    {
     "name": "stderr",
     "output_type": "stream",
     "text": [
      "FINAL - INFO : # Finished processing channel 09304/11007. #\n"
     ]
    },
    {
     "name": "stderr",
     "output_type": "stream",
     "text": [
      "FINAL - INFO : # Finished processing channel 09305/11007. #\n"
     ]
    },
    {
     "name": "stderr",
     "output_type": "stream",
     "text": [
      "FINAL - INFO : # Finished processing channel 09306/11007. #\n"
     ]
    },
    {
     "name": "stderr",
     "output_type": "stream",
     "text": [
      "FINAL - INFO : # Finished processing channel 09307/11007. #\n"
     ]
    },
    {
     "name": "stderr",
     "output_type": "stream",
     "text": [
      "FINAL - INFO : # Finished processing channel 09308/11007. #\n"
     ]
    },
    {
     "name": "stderr",
     "output_type": "stream",
     "text": [
      "FINAL - INFO : # Finished processing channel 09309/11007. #\n"
     ]
    },
    {
     "name": "stderr",
     "output_type": "stream",
     "text": [
      "FINAL - INFO : # Finished processing channel 09310/11007. #\n"
     ]
    },
    {
     "name": "stderr",
     "output_type": "stream",
     "text": [
      "FINAL - INFO : # Finished processing channel 09311/11007. #\n"
     ]
    },
    {
     "name": "stderr",
     "output_type": "stream",
     "text": [
      "FINAL - INFO : # Finished processing channel 09312/11007. #\n"
     ]
    },
    {
     "name": "stderr",
     "output_type": "stream",
     "text": [
      "FINAL - INFO : # Finished processing channel 09313/11007. #\n"
     ]
    },
    {
     "name": "stderr",
     "output_type": "stream",
     "text": [
      "FINAL - INFO : # Finished processing channel 09314/11007. #\n"
     ]
    },
    {
     "name": "stderr",
     "output_type": "stream",
     "text": [
      "FINAL - INFO : # Finished processing channel 09315/11007. #\n"
     ]
    },
    {
     "name": "stderr",
     "output_type": "stream",
     "text": [
      "FINAL - INFO : # Finished processing channel 09316/11007. #\n"
     ]
    },
    {
     "name": "stderr",
     "output_type": "stream",
     "text": [
      "FINAL - INFO : # Finished processing channel 09317/11007. #\n"
     ]
    },
    {
     "name": "stderr",
     "output_type": "stream",
     "text": [
      "FINAL - INFO : # Finished processing channel 09318/11007. #\n"
     ]
    },
    {
     "name": "stderr",
     "output_type": "stream",
     "text": [
      "FINAL - INFO : # Finished processing channel 09319/11007. #\n"
     ]
    },
    {
     "name": "stderr",
     "output_type": "stream",
     "text": [
      "FINAL - INFO : # Finished processing channel 09320/11007. #\n"
     ]
    },
    {
     "name": "stderr",
     "output_type": "stream",
     "text": [
      "FINAL - INFO : # Finished processing channel 09321/11007. #\n"
     ]
    },
    {
     "name": "stderr",
     "output_type": "stream",
     "text": [
      "FINAL - INFO : # Finished processing channel 09322/11007. #\n"
     ]
    },
    {
     "name": "stderr",
     "output_type": "stream",
     "text": [
      "FINAL - INFO : # Finished processing channel 09323/11007. #\n"
     ]
    },
    {
     "name": "stderr",
     "output_type": "stream",
     "text": [
      "FINAL - INFO : # Finished processing channel 09324/11007. #\n"
     ]
    },
    {
     "name": "stderr",
     "output_type": "stream",
     "text": [
      "FINAL - INFO : # Finished processing channel 09325/11007. #\n"
     ]
    },
    {
     "name": "stderr",
     "output_type": "stream",
     "text": [
      "FINAL - INFO : # Finished processing channel 09326/11007. #\n"
     ]
    },
    {
     "name": "stderr",
     "output_type": "stream",
     "text": [
      "FINAL - INFO : # Finished processing channel 09327/11007. #\n"
     ]
    },
    {
     "name": "stderr",
     "output_type": "stream",
     "text": [
      "FINAL - INFO : # Finished processing channel 09330/11007. #\n"
     ]
    },
    {
     "name": "stderr",
     "output_type": "stream",
     "text": [
      "FINAL - INFO : # Finished processing channel 09331/11007. #\n"
     ]
    },
    {
     "name": "stderr",
     "output_type": "stream",
     "text": [
      "FINAL - INFO : # Finished processing channel 09332/11007. #\n"
     ]
    },
    {
     "name": "stderr",
     "output_type": "stream",
     "text": [
      "FINAL - INFO : # Finished processing channel 09333/11007. #\n"
     ]
    },
    {
     "name": "stderr",
     "output_type": "stream",
     "text": [
      "FINAL - INFO : # Finished processing channel 09334/11007. #\n"
     ]
    },
    {
     "name": "stderr",
     "output_type": "stream",
     "text": [
      "FINAL - INFO : # Finished processing channel 09335/11007. #\n"
     ]
    },
    {
     "name": "stderr",
     "output_type": "stream",
     "text": [
      "FINAL - INFO : # Finished processing channel 09336/11007. #\n"
     ]
    },
    {
     "name": "stderr",
     "output_type": "stream",
     "text": [
      "FINAL - INFO : # Finished processing channel 09337/11007. #\n"
     ]
    },
    {
     "name": "stderr",
     "output_type": "stream",
     "text": [
      "FINAL - INFO : # Finished processing channel 09338/11007. #\n"
     ]
    },
    {
     "name": "stderr",
     "output_type": "stream",
     "text": [
      "FINAL - INFO : # Finished processing channel 09339/11007. #\n"
     ]
    },
    {
     "name": "stderr",
     "output_type": "stream",
     "text": [
      "FINAL - INFO : # Finished processing channel 09340/11007. #\n"
     ]
    },
    {
     "name": "stderr",
     "output_type": "stream",
     "text": [
      "FINAL - INFO : # Finished processing channel 09341/11007. #\n"
     ]
    },
    {
     "name": "stderr",
     "output_type": "stream",
     "text": [
      "FINAL - INFO : # Finished processing channel 09342/11007. #\n"
     ]
    },
    {
     "name": "stderr",
     "output_type": "stream",
     "text": [
      "FINAL - INFO : # Finished processing channel 09346/11007. #\n"
     ]
    },
    {
     "name": "stderr",
     "output_type": "stream",
     "text": [
      "FINAL - INFO : # Finished processing channel 09347/11007. #\n"
     ]
    },
    {
     "name": "stderr",
     "output_type": "stream",
     "text": [
      "FINAL - INFO : # Finished processing channel 09348/11007. #\n"
     ]
    },
    {
     "name": "stderr",
     "output_type": "stream",
     "text": [
      "FINAL - INFO : # Finished processing channel 09349/11007. #\n"
     ]
    },
    {
     "name": "stderr",
     "output_type": "stream",
     "text": [
      "FINAL - INFO : # Finished processing channel 09350/11007. #\n"
     ]
    },
    {
     "name": "stderr",
     "output_type": "stream",
     "text": [
      "FINAL - INFO : # Finished processing channel 09351/11007. #\n"
     ]
    },
    {
     "name": "stderr",
     "output_type": "stream",
     "text": [
      "FINAL - INFO : # Finished processing channel 09352/11007. #\n"
     ]
    },
    {
     "name": "stderr",
     "output_type": "stream",
     "text": [
      "FINAL - INFO : # Finished processing channel 09353/11007. #\n"
     ]
    },
    {
     "name": "stderr",
     "output_type": "stream",
     "text": [
      "FINAL - INFO : # Finished processing channel 09354/11007. #\n"
     ]
    },
    {
     "name": "stderr",
     "output_type": "stream",
     "text": [
      "FINAL - INFO : # Finished processing channel 09355/11007. #\n"
     ]
    },
    {
     "name": "stderr",
     "output_type": "stream",
     "text": [
      "FINAL - INFO : # Finished processing channel 09356/11007. #\n"
     ]
    },
    {
     "name": "stderr",
     "output_type": "stream",
     "text": [
      "FINAL - INFO : # Finished processing channel 09357/11007. #\n"
     ]
    },
    {
     "name": "stderr",
     "output_type": "stream",
     "text": [
      "FINAL - INFO : # Finished processing channel 09358/11007. #\n"
     ]
    },
    {
     "name": "stderr",
     "output_type": "stream",
     "text": [
      "FINAL - INFO : # Finished processing channel 09359/11007. #\n"
     ]
    },
    {
     "name": "stderr",
     "output_type": "stream",
     "text": [
      "FINAL - INFO : # Finished processing channel 09360/11007. #\n"
     ]
    },
    {
     "name": "stderr",
     "output_type": "stream",
     "text": [
      "FINAL - INFO : # Finished processing channel 09361/11007. #\n"
     ]
    },
    {
     "name": "stderr",
     "output_type": "stream",
     "text": [
      "FINAL - INFO : # Finished processing channel 09362/11007. #\n"
     ]
    },
    {
     "name": "stderr",
     "output_type": "stream",
     "text": [
      "FINAL - INFO : # Finished processing channel 09363/11007. #\n"
     ]
    },
    {
     "name": "stderr",
     "output_type": "stream",
     "text": [
      "FINAL - INFO : # Finished processing channel 09364/11007. #\n"
     ]
    },
    {
     "name": "stderr",
     "output_type": "stream",
     "text": [
      "FINAL - INFO : # Finished processing channel 09365/11007. #\n"
     ]
    },
    {
     "name": "stderr",
     "output_type": "stream",
     "text": [
      "FINAL - INFO : # Finished processing channel 09366/11007. #\n"
     ]
    },
    {
     "name": "stderr",
     "output_type": "stream",
     "text": [
      "FINAL - INFO : # Finished processing channel 09367/11007. #\n"
     ]
    },
    {
     "name": "stderr",
     "output_type": "stream",
     "text": [
      "FINAL - INFO : # Finished processing channel 09368/11007. #\n"
     ]
    },
    {
     "name": "stderr",
     "output_type": "stream",
     "text": [
      "FINAL - INFO : # Finished processing channel 09369/11007. #\n"
     ]
    },
    {
     "name": "stderr",
     "output_type": "stream",
     "text": [
      "FINAL - INFO : # Finished processing channel 09370/11007. #\n"
     ]
    },
    {
     "name": "stderr",
     "output_type": "stream",
     "text": [
      "FINAL - INFO : # Finished processing channel 09371/11007. #\n"
     ]
    },
    {
     "name": "stderr",
     "output_type": "stream",
     "text": [
      "FINAL - INFO : # Emission found in channel 09372. Cleaning! #\n"
     ]
    },
    {
     "name": "stderr",
     "output_type": "stream",
     "text": [
      "FINAL - INFO : # Finished processing channel 09372/11007. #\n"
     ]
    },
    {
     "name": "stderr",
     "output_type": "stream",
     "text": [
      "FINAL - INFO : # Finished processing channel 09373/11007. #\n"
     ]
    },
    {
     "name": "stderr",
     "output_type": "stream",
     "text": [
      "FINAL - INFO : # Finished processing channel 09374/11007. #\n"
     ]
    },
    {
     "name": "stderr",
     "output_type": "stream",
     "text": [
      "FINAL - INFO : # Finished processing channel 09375/11007. #\n"
     ]
    },
    {
     "name": "stderr",
     "output_type": "stream",
     "text": [
      "FINAL - INFO : # Finished processing channel 09376/11007. #\n"
     ]
    },
    {
     "name": "stderr",
     "output_type": "stream",
     "text": [
      "FINAL - INFO : # Finished processing channel 09377/11007. #\n"
     ]
    },
    {
     "name": "stderr",
     "output_type": "stream",
     "text": [
      "FINAL - INFO : # Finished processing channel 09378/11007. #\n"
     ]
    },
    {
     "name": "stderr",
     "output_type": "stream",
     "text": [
      "FINAL - INFO : # Finished processing channel 09379/11007. #\n"
     ]
    },
    {
     "name": "stderr",
     "output_type": "stream",
     "text": [
      "FINAL - INFO : # Finished processing channel 09380/11007. #\n"
     ]
    },
    {
     "name": "stderr",
     "output_type": "stream",
     "text": [
      "FINAL - INFO : # Finished processing channel 09381/11007. #\n"
     ]
    },
    {
     "name": "stderr",
     "output_type": "stream",
     "text": [
      "FINAL - INFO : # Finished processing channel 09382/11007. #\n"
     ]
    },
    {
     "name": "stderr",
     "output_type": "stream",
     "text": [
      "FINAL - INFO : # Finished processing channel 09383/11007. #\n"
     ]
    },
    {
     "name": "stderr",
     "output_type": "stream",
     "text": [
      "FINAL - INFO : # Finished processing channel 09384/11007. #\n"
     ]
    },
    {
     "name": "stderr",
     "output_type": "stream",
     "text": [
      "FINAL - INFO : # Finished processing channel 09385/11007. #\n"
     ]
    },
    {
     "name": "stderr",
     "output_type": "stream",
     "text": [
      "FINAL - INFO : # Finished processing channel 09386/11007. #\n"
     ]
    },
    {
     "name": "stderr",
     "output_type": "stream",
     "text": [
      "FINAL - INFO : # Finished processing channel 09387/11007. #\n"
     ]
    },
    {
     "name": "stderr",
     "output_type": "stream",
     "text": [
      "FINAL - INFO : # Finished processing channel 09388/11007. #\n"
     ]
    },
    {
     "name": "stderr",
     "output_type": "stream",
     "text": [
      "FINAL - INFO : # Finished processing channel 09389/11007. #\n"
     ]
    },
    {
     "name": "stderr",
     "output_type": "stream",
     "text": [
      "FINAL - INFO : # Finished processing channel 09390/11007. #\n"
     ]
    },
    {
     "name": "stderr",
     "output_type": "stream",
     "text": [
      "FINAL - INFO : # Finished processing channel 09391/11007. #\n"
     ]
    },
    {
     "name": "stderr",
     "output_type": "stream",
     "text": [
      "FINAL - INFO : # Finished processing channel 09394/11007. #\n"
     ]
    },
    {
     "name": "stderr",
     "output_type": "stream",
     "text": [
      "FINAL - INFO : # Finished processing channel 09395/11007. #\n"
     ]
    },
    {
     "name": "stderr",
     "output_type": "stream",
     "text": [
      "FINAL - INFO : # Finished processing channel 09396/11007. #\n"
     ]
    },
    {
     "name": "stderr",
     "output_type": "stream",
     "text": [
      "FINAL - INFO : # Finished processing channel 09397/11007. #\n"
     ]
    },
    {
     "name": "stderr",
     "output_type": "stream",
     "text": [
      "FINAL - INFO : # Finished processing channel 09398/11007. #\n"
     ]
    },
    {
     "name": "stderr",
     "output_type": "stream",
     "text": [
      "FINAL - INFO : # Finished processing channel 09399/11007. #\n"
     ]
    },
    {
     "name": "stderr",
     "output_type": "stream",
     "text": [
      "FINAL - INFO : # Finished processing channel 09400/11007. #\n"
     ]
    },
    {
     "name": "stderr",
     "output_type": "stream",
     "text": [
      "FINAL - INFO : # Finished processing channel 09401/11007. #\n"
     ]
    },
    {
     "name": "stderr",
     "output_type": "stream",
     "text": [
      "FINAL - INFO : # Finished processing channel 09402/11007. #\n"
     ]
    },
    {
     "name": "stderr",
     "output_type": "stream",
     "text": [
      "FINAL - INFO : # Finished processing channel 09403/11007. #\n"
     ]
    },
    {
     "name": "stderr",
     "output_type": "stream",
     "text": [
      "FINAL - INFO : # Finished processing channel 09404/11007. #\n"
     ]
    },
    {
     "name": "stderr",
     "output_type": "stream",
     "text": [
      "FINAL - INFO : # Finished processing channel 09405/11007. #\n"
     ]
    },
    {
     "name": "stderr",
     "output_type": "stream",
     "text": [
      "FINAL - INFO : # Finished processing channel 09406/11007. #\n"
     ]
    },
    {
     "name": "stderr",
     "output_type": "stream",
     "text": [
      "FINAL - INFO : # Finished processing channel 09410/11007. #\n"
     ]
    },
    {
     "name": "stderr",
     "output_type": "stream",
     "text": [
      "FINAL - INFO : # Finished processing channel 09411/11007. #\n"
     ]
    },
    {
     "name": "stderr",
     "output_type": "stream",
     "text": [
      "FINAL - INFO : # Finished processing channel 09412/11007. #\n"
     ]
    },
    {
     "name": "stderr",
     "output_type": "stream",
     "text": [
      "FINAL - INFO : # Finished processing channel 09413/11007. #\n"
     ]
    },
    {
     "name": "stderr",
     "output_type": "stream",
     "text": [
      "FINAL - INFO : # Finished processing channel 09414/11007. #\n"
     ]
    },
    {
     "name": "stderr",
     "output_type": "stream",
     "text": [
      "FINAL - INFO : # Finished processing channel 09415/11007. #\n"
     ]
    },
    {
     "name": "stderr",
     "output_type": "stream",
     "text": [
      "FINAL - INFO : # Finished processing channel 09416/11007. #\n"
     ]
    },
    {
     "name": "stderr",
     "output_type": "stream",
     "text": [
      "FINAL - INFO : # Finished processing channel 09417/11007. #\n"
     ]
    },
    {
     "name": "stderr",
     "output_type": "stream",
     "text": [
      "FINAL - INFO : # Finished processing channel 09418/11007. #\n"
     ]
    },
    {
     "name": "stderr",
     "output_type": "stream",
     "text": [
      "FINAL - INFO : # Finished processing channel 09419/11007. #\n"
     ]
    },
    {
     "name": "stderr",
     "output_type": "stream",
     "text": [
      "FINAL - INFO : # Finished processing channel 09420/11007. #\n"
     ]
    },
    {
     "name": "stderr",
     "output_type": "stream",
     "text": [
      "FINAL - INFO : # Finished processing channel 09421/11007. #\n"
     ]
    },
    {
     "name": "stderr",
     "output_type": "stream",
     "text": [
      "FINAL - INFO : # Finished processing channel 09422/11007. #\n"
     ]
    },
    {
     "name": "stderr",
     "output_type": "stream",
     "text": [
      "FINAL - INFO : # Finished processing channel 09423/11007. #\n"
     ]
    },
    {
     "name": "stderr",
     "output_type": "stream",
     "text": [
      "FINAL - INFO : # Finished processing channel 09424/11007. #\n"
     ]
    },
    {
     "name": "stderr",
     "output_type": "stream",
     "text": [
      "FINAL - INFO : # Finished processing channel 09425/11007. #\n"
     ]
    },
    {
     "name": "stderr",
     "output_type": "stream",
     "text": [
      "FINAL - INFO : # Finished processing channel 09426/11007. #\n"
     ]
    },
    {
     "name": "stderr",
     "output_type": "stream",
     "text": [
      "FINAL - INFO : # Finished processing channel 09427/11007. #\n"
     ]
    },
    {
     "name": "stderr",
     "output_type": "stream",
     "text": [
      "FINAL - INFO : # Finished processing channel 09428/11007. #\n"
     ]
    },
    {
     "name": "stderr",
     "output_type": "stream",
     "text": [
      "FINAL - INFO : # Finished processing channel 09429/11007. #\n"
     ]
    },
    {
     "name": "stderr",
     "output_type": "stream",
     "text": [
      "FINAL - INFO : # Finished processing channel 09430/11007. #\n"
     ]
    },
    {
     "name": "stderr",
     "output_type": "stream",
     "text": [
      "FINAL - INFO : # Finished processing channel 09431/11007. #\n"
     ]
    },
    {
     "name": "stderr",
     "output_type": "stream",
     "text": [
      "FINAL - INFO : # Finished processing channel 09432/11007. #\n"
     ]
    },
    {
     "name": "stderr",
     "output_type": "stream",
     "text": [
      "FINAL - INFO : # Finished processing channel 09433/11007. #\n"
     ]
    },
    {
     "name": "stderr",
     "output_type": "stream",
     "text": [
      "FINAL - INFO : # Finished processing channel 09434/11007. #\n"
     ]
    },
    {
     "name": "stderr",
     "output_type": "stream",
     "text": [
      "FINAL - INFO : # Finished processing channel 09435/11007. #\n"
     ]
    },
    {
     "name": "stderr",
     "output_type": "stream",
     "text": [
      "FINAL - INFO : # Finished processing channel 09436/11007. #\n"
     ]
    },
    {
     "name": "stderr",
     "output_type": "stream",
     "text": [
      "FINAL - INFO : # Finished processing channel 09437/11007. #\n"
     ]
    },
    {
     "name": "stderr",
     "output_type": "stream",
     "text": [
      "FINAL - INFO : # Finished processing channel 09438/11007. #\n"
     ]
    },
    {
     "name": "stderr",
     "output_type": "stream",
     "text": [
      "FINAL - INFO : # Finished processing channel 09439/11007. #\n"
     ]
    },
    {
     "name": "stderr",
     "output_type": "stream",
     "text": [
      "FINAL - INFO : # Finished processing channel 09440/11007. #\n"
     ]
    },
    {
     "name": "stderr",
     "output_type": "stream",
     "text": [
      "FINAL - INFO : # Finished processing channel 09441/11007. #\n"
     ]
    },
    {
     "name": "stderr",
     "output_type": "stream",
     "text": [
      "FINAL - INFO : # Finished processing channel 09442/11007. #\n"
     ]
    },
    {
     "name": "stderr",
     "output_type": "stream",
     "text": [
      "FINAL - INFO : # Finished processing channel 09443/11007. #\n"
     ]
    },
    {
     "name": "stderr",
     "output_type": "stream",
     "text": [
      "FINAL - INFO : # Finished processing channel 09444/11007. #\n"
     ]
    },
    {
     "name": "stderr",
     "output_type": "stream",
     "text": [
      "FINAL - INFO : # Finished processing channel 09445/11007. #\n"
     ]
    },
    {
     "name": "stderr",
     "output_type": "stream",
     "text": [
      "FINAL - INFO : # Finished processing channel 09446/11007. #\n"
     ]
    },
    {
     "name": "stderr",
     "output_type": "stream",
     "text": [
      "FINAL - INFO : # Finished processing channel 09447/11007. #\n"
     ]
    },
    {
     "name": "stderr",
     "output_type": "stream",
     "text": [
      "FINAL - INFO : # Finished processing channel 09448/11007. #\n"
     ]
    },
    {
     "name": "stderr",
     "output_type": "stream",
     "text": [
      "FINAL - INFO : # Finished processing channel 09449/11007. #\n"
     ]
    },
    {
     "name": "stderr",
     "output_type": "stream",
     "text": [
      "FINAL - INFO : # Finished processing channel 09450/11007. #\n"
     ]
    },
    {
     "name": "stderr",
     "output_type": "stream",
     "text": [
      "FINAL - INFO : # Finished processing channel 09451/11007. #\n"
     ]
    },
    {
     "name": "stderr",
     "output_type": "stream",
     "text": [
      "FINAL - INFO : # Finished processing channel 09452/11007. #\n"
     ]
    },
    {
     "name": "stderr",
     "output_type": "stream",
     "text": [
      "FINAL - INFO : # Finished processing channel 09453/11007. #\n"
     ]
    },
    {
     "name": "stderr",
     "output_type": "stream",
     "text": [
      "FINAL - INFO : # Finished processing channel 09454/11007. #\n"
     ]
    },
    {
     "name": "stderr",
     "output_type": "stream",
     "text": [
      "FINAL - INFO : # Finished processing channel 09455/11007. #\n"
     ]
    },
    {
     "name": "stderr",
     "output_type": "stream",
     "text": [
      "FINAL - INFO : # Finished processing channel 09458/11007. #\n"
     ]
    },
    {
     "name": "stderr",
     "output_type": "stream",
     "text": [
      "FINAL - INFO : # Finished processing channel 09459/11007. #\n"
     ]
    },
    {
     "name": "stderr",
     "output_type": "stream",
     "text": [
      "FINAL - INFO : # Finished processing channel 09460/11007. #\n"
     ]
    },
    {
     "name": "stderr",
     "output_type": "stream",
     "text": [
      "FINAL - INFO : # Finished processing channel 09461/11007. #\n"
     ]
    },
    {
     "name": "stderr",
     "output_type": "stream",
     "text": [
      "FINAL - INFO : # Finished processing channel 09462/11007. #\n"
     ]
    },
    {
     "name": "stderr",
     "output_type": "stream",
     "text": [
      "FINAL - INFO : # Finished processing channel 09463/11007. #\n"
     ]
    },
    {
     "name": "stderr",
     "output_type": "stream",
     "text": [
      "FINAL - INFO : # Finished processing channel 09464/11007. #\n"
     ]
    },
    {
     "name": "stderr",
     "output_type": "stream",
     "text": [
      "FINAL - INFO : # Finished processing channel 09465/11007. #\n"
     ]
    },
    {
     "name": "stderr",
     "output_type": "stream",
     "text": [
      "FINAL - INFO : # Finished processing channel 09466/11007. #\n"
     ]
    },
    {
     "name": "stderr",
     "output_type": "stream",
     "text": [
      "FINAL - INFO : # Finished processing channel 09467/11007. #\n"
     ]
    },
    {
     "name": "stderr",
     "output_type": "stream",
     "text": [
      "FINAL - INFO : # Finished processing channel 09468/11007. #\n"
     ]
    },
    {
     "name": "stderr",
     "output_type": "stream",
     "text": [
      "FINAL - INFO : # Finished processing channel 09469/11007. #\n"
     ]
    },
    {
     "name": "stderr",
     "output_type": "stream",
     "text": [
      "FINAL - INFO : # Finished processing channel 09470/11007. #\n"
     ]
    },
    {
     "name": "stderr",
     "output_type": "stream",
     "text": [
      "FINAL - INFO : # Finished processing channel 09474/11007. #\n"
     ]
    },
    {
     "name": "stderr",
     "output_type": "stream",
     "text": [
      "FINAL - INFO : # Finished processing channel 09475/11007. #\n"
     ]
    },
    {
     "name": "stderr",
     "output_type": "stream",
     "text": [
      "FINAL - INFO : # Finished processing channel 09476/11007. #\n"
     ]
    },
    {
     "name": "stderr",
     "output_type": "stream",
     "text": [
      "FINAL - INFO : # Finished processing channel 09477/11007. #\n"
     ]
    },
    {
     "name": "stderr",
     "output_type": "stream",
     "text": [
      "FINAL - INFO : # Finished processing channel 09478/11007. #\n"
     ]
    },
    {
     "name": "stderr",
     "output_type": "stream",
     "text": [
      "FINAL - INFO : # Finished processing channel 09479/11007. #\n"
     ]
    },
    {
     "name": "stderr",
     "output_type": "stream",
     "text": [
      "FINAL - INFO : # Finished processing channel 09480/11007. #\n"
     ]
    },
    {
     "name": "stderr",
     "output_type": "stream",
     "text": [
      "FINAL - INFO : # Finished processing channel 09481/11007. #\n"
     ]
    },
    {
     "name": "stderr",
     "output_type": "stream",
     "text": [
      "FINAL - INFO : # Finished processing channel 09482/11007. #\n"
     ]
    },
    {
     "name": "stderr",
     "output_type": "stream",
     "text": [
      "FINAL - INFO : # Finished processing channel 09483/11007. #\n"
     ]
    },
    {
     "name": "stderr",
     "output_type": "stream",
     "text": [
      "FINAL - INFO : # Finished processing channel 09484/11007. #\n"
     ]
    },
    {
     "name": "stderr",
     "output_type": "stream",
     "text": [
      "FINAL - INFO : # Finished processing channel 09485/11007. #\n"
     ]
    },
    {
     "name": "stderr",
     "output_type": "stream",
     "text": [
      "FINAL - INFO : # Finished processing channel 09486/11007. #\n"
     ]
    },
    {
     "name": "stderr",
     "output_type": "stream",
     "text": [
      "FINAL - INFO : # Finished processing channel 09487/11007. #\n"
     ]
    },
    {
     "name": "stderr",
     "output_type": "stream",
     "text": [
      "FINAL - INFO : # Finished processing channel 09488/11007. #\n"
     ]
    },
    {
     "name": "stderr",
     "output_type": "stream",
     "text": [
      "FINAL - INFO : # Finished processing channel 09489/11007. #\n"
     ]
    },
    {
     "name": "stderr",
     "output_type": "stream",
     "text": [
      "FINAL - INFO : # Finished processing channel 09490/11007. #\n"
     ]
    },
    {
     "name": "stderr",
     "output_type": "stream",
     "text": [
      "FINAL - INFO : # Finished processing channel 09491/11007. #\n"
     ]
    },
    {
     "name": "stderr",
     "output_type": "stream",
     "text": [
      "FINAL - INFO : # Finished processing channel 09492/11007. #\n"
     ]
    },
    {
     "name": "stderr",
     "output_type": "stream",
     "text": [
      "FINAL - INFO : # Finished processing channel 09493/11007. #\n"
     ]
    },
    {
     "name": "stderr",
     "output_type": "stream",
     "text": [
      "FINAL - INFO : # Finished processing channel 09494/11007. #\n"
     ]
    },
    {
     "name": "stderr",
     "output_type": "stream",
     "text": [
      "FINAL - INFO : # Finished processing channel 09495/11007. #\n"
     ]
    },
    {
     "name": "stderr",
     "output_type": "stream",
     "text": [
      "FINAL - INFO : # Finished processing channel 09496/11007. #\n"
     ]
    },
    {
     "name": "stderr",
     "output_type": "stream",
     "text": [
      "FINAL - INFO : # Finished processing channel 09497/11007. #\n"
     ]
    },
    {
     "name": "stderr",
     "output_type": "stream",
     "text": [
      "FINAL - INFO : # Finished processing channel 09498/11007. #\n"
     ]
    },
    {
     "name": "stderr",
     "output_type": "stream",
     "text": [
      "FINAL - INFO : # Finished processing channel 09499/11007. #\n"
     ]
    },
    {
     "name": "stderr",
     "output_type": "stream",
     "text": [
      "FINAL - INFO : # Finished processing channel 09500/11007. #\n"
     ]
    },
    {
     "name": "stderr",
     "output_type": "stream",
     "text": [
      "FINAL - INFO : # Finished processing channel 09501/11007. #\n"
     ]
    },
    {
     "name": "stderr",
     "output_type": "stream",
     "text": [
      "FINAL - INFO : # Finished processing channel 09502/11007. #\n"
     ]
    },
    {
     "name": "stderr",
     "output_type": "stream",
     "text": [
      "FINAL - INFO : # Finished processing channel 09503/11007. #\n"
     ]
    },
    {
     "name": "stderr",
     "output_type": "stream",
     "text": [
      "FINAL - INFO : # Finished processing channel 09504/11007. #\n"
     ]
    },
    {
     "name": "stderr",
     "output_type": "stream",
     "text": [
      "FINAL - INFO : # Finished processing channel 09505/11007. #\n"
     ]
    },
    {
     "name": "stderr",
     "output_type": "stream",
     "text": [
      "FINAL - INFO : # Finished processing channel 09506/11007. #\n"
     ]
    },
    {
     "name": "stderr",
     "output_type": "stream",
     "text": [
      "FINAL - INFO : # Finished processing channel 09507/11007. #\n"
     ]
    },
    {
     "name": "stderr",
     "output_type": "stream",
     "text": [
      "FINAL - INFO : # Finished processing channel 09508/11007. #\n"
     ]
    },
    {
     "name": "stderr",
     "output_type": "stream",
     "text": [
      "FINAL - INFO : # Finished processing channel 09509/11007. #\n"
     ]
    },
    {
     "name": "stderr",
     "output_type": "stream",
     "text": [
      "FINAL - INFO : # Finished processing channel 09510/11007. #\n"
     ]
    },
    {
     "name": "stderr",
     "output_type": "stream",
     "text": [
      "FINAL - INFO : # Finished processing channel 09511/11007. #\n"
     ]
    },
    {
     "name": "stderr",
     "output_type": "stream",
     "text": [
      "FINAL - INFO : # Finished processing channel 09512/11007. #\n"
     ]
    },
    {
     "name": "stderr",
     "output_type": "stream",
     "text": [
      "FINAL - INFO : # Finished processing channel 09513/11007. #\n"
     ]
    },
    {
     "name": "stderr",
     "output_type": "stream",
     "text": [
      "FINAL - INFO : # Finished processing channel 09514/11007. #\n"
     ]
    },
    {
     "name": "stderr",
     "output_type": "stream",
     "text": [
      "FINAL - INFO : # Finished processing channel 09515/11007. #\n"
     ]
    },
    {
     "name": "stderr",
     "output_type": "stream",
     "text": [
      "FINAL - INFO : # Finished processing channel 09516/11007. #\n"
     ]
    },
    {
     "name": "stderr",
     "output_type": "stream",
     "text": [
      "FINAL - INFO : # Finished processing channel 09517/11007. #\n"
     ]
    },
    {
     "name": "stderr",
     "output_type": "stream",
     "text": [
      "FINAL - INFO : # Finished processing channel 09518/11007. #\n"
     ]
    },
    {
     "name": "stderr",
     "output_type": "stream",
     "text": [
      "FINAL - INFO : # Finished processing channel 09519/11007. #\n"
     ]
    },
    {
     "name": "stderr",
     "output_type": "stream",
     "text": [
      "FINAL - INFO : # Finished processing channel 09522/11007. #\n"
     ]
    },
    {
     "name": "stderr",
     "output_type": "stream",
     "text": [
      "FINAL - INFO : # Finished processing channel 09523/11007. #\n"
     ]
    },
    {
     "name": "stderr",
     "output_type": "stream",
     "text": [
      "FINAL - INFO : # Finished processing channel 09524/11007. #\n"
     ]
    },
    {
     "name": "stderr",
     "output_type": "stream",
     "text": [
      "FINAL - INFO : # Finished processing channel 09525/11007. #\n"
     ]
    },
    {
     "name": "stderr",
     "output_type": "stream",
     "text": [
      "FINAL - INFO : # Finished processing channel 09526/11007. #\n"
     ]
    },
    {
     "name": "stderr",
     "output_type": "stream",
     "text": [
      "FINAL - INFO : # Finished processing channel 09527/11007. #\n"
     ]
    },
    {
     "name": "stderr",
     "output_type": "stream",
     "text": [
      "FINAL - INFO : # Finished processing channel 09528/11007. #\n"
     ]
    },
    {
     "name": "stderr",
     "output_type": "stream",
     "text": [
      "FINAL - INFO : # Finished processing channel 09529/11007. #\n"
     ]
    },
    {
     "name": "stderr",
     "output_type": "stream",
     "text": [
      "FINAL - INFO : # Finished processing channel 09530/11007. #\n"
     ]
    },
    {
     "name": "stderr",
     "output_type": "stream",
     "text": [
      "FINAL - INFO : # Finished processing channel 09531/11007. #\n"
     ]
    },
    {
     "name": "stderr",
     "output_type": "stream",
     "text": [
      "FINAL - INFO : # Finished processing channel 09532/11007. #\n"
     ]
    },
    {
     "name": "stderr",
     "output_type": "stream",
     "text": [
      "FINAL - INFO : # Finished processing channel 09533/11007. #\n"
     ]
    },
    {
     "name": "stderr",
     "output_type": "stream",
     "text": [
      "FINAL - INFO : # Finished processing channel 09534/11007. #\n"
     ]
    },
    {
     "name": "stderr",
     "output_type": "stream",
     "text": [
      "FINAL - INFO : # Finished processing channel 09538/11007. #\n"
     ]
    },
    {
     "name": "stderr",
     "output_type": "stream",
     "text": [
      "FINAL - INFO : # Finished processing channel 09539/11007. #\n"
     ]
    },
    {
     "name": "stderr",
     "output_type": "stream",
     "text": [
      "FINAL - INFO : # Finished processing channel 09540/11007. #\n"
     ]
    },
    {
     "name": "stderr",
     "output_type": "stream",
     "text": [
      "FINAL - INFO : # Finished processing channel 09541/11007. #\n"
     ]
    },
    {
     "name": "stderr",
     "output_type": "stream",
     "text": [
      "FINAL - INFO : # Finished processing channel 09542/11007. #\n"
     ]
    },
    {
     "name": "stderr",
     "output_type": "stream",
     "text": [
      "FINAL - INFO : # Finished processing channel 09543/11007. #\n"
     ]
    },
    {
     "name": "stderr",
     "output_type": "stream",
     "text": [
      "FINAL - INFO : # Finished processing channel 09544/11007. #\n"
     ]
    },
    {
     "name": "stderr",
     "output_type": "stream",
     "text": [
      "FINAL - INFO : # Finished processing channel 09545/11007. #\n"
     ]
    },
    {
     "name": "stderr",
     "output_type": "stream",
     "text": [
      "FINAL - INFO : # Finished processing channel 09546/11007. #\n"
     ]
    },
    {
     "name": "stderr",
     "output_type": "stream",
     "text": [
      "FINAL - INFO : # Finished processing channel 09547/11007. #\n"
     ]
    },
    {
     "name": "stderr",
     "output_type": "stream",
     "text": [
      "FINAL - INFO : # Finished processing channel 09548/11007. #\n"
     ]
    },
    {
     "name": "stderr",
     "output_type": "stream",
     "text": [
      "FINAL - INFO : # Finished processing channel 09549/11007. #\n"
     ]
    },
    {
     "name": "stderr",
     "output_type": "stream",
     "text": [
      "FINAL - INFO : # Finished processing channel 09550/11007. #\n"
     ]
    },
    {
     "name": "stderr",
     "output_type": "stream",
     "text": [
      "FINAL - INFO : # Finished processing channel 09551/11007. #\n"
     ]
    },
    {
     "name": "stderr",
     "output_type": "stream",
     "text": [
      "FINAL - INFO : # Finished processing channel 09552/11007. #\n"
     ]
    },
    {
     "name": "stderr",
     "output_type": "stream",
     "text": [
      "FINAL - INFO : # Finished processing channel 09553/11007. #\n"
     ]
    },
    {
     "name": "stderr",
     "output_type": "stream",
     "text": [
      "FINAL - INFO : # Finished processing channel 09554/11007. #\n"
     ]
    },
    {
     "name": "stderr",
     "output_type": "stream",
     "text": [
      "FINAL - INFO : # Finished processing channel 09555/11007. #\n"
     ]
    },
    {
     "name": "stderr",
     "output_type": "stream",
     "text": [
      "FINAL - INFO : # Finished processing channel 09556/11007. #\n"
     ]
    },
    {
     "name": "stderr",
     "output_type": "stream",
     "text": [
      "FINAL - INFO : # Finished processing channel 09557/11007. #\n"
     ]
    },
    {
     "name": "stderr",
     "output_type": "stream",
     "text": [
      "FINAL - INFO : # Finished processing channel 09558/11007. #\n"
     ]
    },
    {
     "name": "stderr",
     "output_type": "stream",
     "text": [
      "FINAL - INFO : # Finished processing channel 09559/11007. #\n"
     ]
    },
    {
     "name": "stderr",
     "output_type": "stream",
     "text": [
      "FINAL - INFO : # Finished processing channel 09560/11007. #\n"
     ]
    },
    {
     "name": "stderr",
     "output_type": "stream",
     "text": [
      "FINAL - INFO : # Finished processing channel 09561/11007. #\n"
     ]
    },
    {
     "name": "stderr",
     "output_type": "stream",
     "text": [
      "FINAL - INFO : # Finished processing channel 09562/11007. #\n"
     ]
    },
    {
     "name": "stderr",
     "output_type": "stream",
     "text": [
      "FINAL - INFO : # Finished processing channel 09563/11007. #\n"
     ]
    },
    {
     "name": "stderr",
     "output_type": "stream",
     "text": [
      "FINAL - INFO : # Finished processing channel 09564/11007. #\n"
     ]
    },
    {
     "name": "stderr",
     "output_type": "stream",
     "text": [
      "FINAL - INFO : # Finished processing channel 09565/11007. #\n"
     ]
    },
    {
     "name": "stderr",
     "output_type": "stream",
     "text": [
      "FINAL - INFO : # Finished processing channel 09566/11007. #\n"
     ]
    },
    {
     "name": "stderr",
     "output_type": "stream",
     "text": [
      "FINAL - INFO : # Finished processing channel 09567/11007. #\n"
     ]
    },
    {
     "name": "stderr",
     "output_type": "stream",
     "text": [
      "FINAL - INFO : # Finished processing channel 09568/11007. #\n"
     ]
    },
    {
     "name": "stderr",
     "output_type": "stream",
     "text": [
      "FINAL - INFO : # Finished processing channel 09569/11007. #\n"
     ]
    },
    {
     "name": "stderr",
     "output_type": "stream",
     "text": [
      "FINAL - INFO : # Finished processing channel 09570/11007. #\n"
     ]
    },
    {
     "name": "stderr",
     "output_type": "stream",
     "text": [
      "FINAL - INFO : # Finished processing channel 09571/11007. #\n"
     ]
    },
    {
     "name": "stderr",
     "output_type": "stream",
     "text": [
      "FINAL - INFO : # Finished processing channel 09572/11007. #\n"
     ]
    },
    {
     "name": "stderr",
     "output_type": "stream",
     "text": [
      "FINAL - INFO : # Finished processing channel 09573/11007. #\n"
     ]
    },
    {
     "name": "stderr",
     "output_type": "stream",
     "text": [
      "FINAL - INFO : # Finished processing channel 09574/11007. #\n"
     ]
    },
    {
     "name": "stderr",
     "output_type": "stream",
     "text": [
      "FINAL - INFO : # Finished processing channel 09575/11007. #\n"
     ]
    },
    {
     "name": "stderr",
     "output_type": "stream",
     "text": [
      "FINAL - INFO : # Finished processing channel 09576/11007. #\n"
     ]
    },
    {
     "name": "stderr",
     "output_type": "stream",
     "text": [
      "FINAL - INFO : # Finished processing channel 09577/11007. #\n"
     ]
    },
    {
     "name": "stderr",
     "output_type": "stream",
     "text": [
      "FINAL - INFO : # Finished processing channel 09578/11007. #\n"
     ]
    },
    {
     "name": "stderr",
     "output_type": "stream",
     "text": [
      "FINAL - INFO : # Finished processing channel 09579/11007. #\n"
     ]
    },
    {
     "name": "stderr",
     "output_type": "stream",
     "text": [
      "FINAL - INFO : # Finished processing channel 09580/11007. #\n"
     ]
    },
    {
     "name": "stderr",
     "output_type": "stream",
     "text": [
      "FINAL - INFO : # Finished processing channel 09581/11007. #\n"
     ]
    },
    {
     "name": "stderr",
     "output_type": "stream",
     "text": [
      "FINAL - INFO : # Finished processing channel 09582/11007. #\n"
     ]
    },
    {
     "name": "stderr",
     "output_type": "stream",
     "text": [
      "FINAL - INFO : # Finished processing channel 09583/11007. #\n"
     ]
    },
    {
     "name": "stderr",
     "output_type": "stream",
     "text": [
      "FINAL - INFO : # Finished processing channel 09585/11007. #\n"
     ]
    },
    {
     "name": "stderr",
     "output_type": "stream",
     "text": [
      "FINAL - INFO : # Finished processing channel 09586/11007. #\n"
     ]
    },
    {
     "name": "stderr",
     "output_type": "stream",
     "text": [
      "FINAL - INFO : # Finished processing channel 09587/11007. #\n"
     ]
    },
    {
     "name": "stderr",
     "output_type": "stream",
     "text": [
      "FINAL - INFO : # Finished processing channel 09588/11007. #\n"
     ]
    },
    {
     "name": "stderr",
     "output_type": "stream",
     "text": [
      "FINAL - INFO : # Finished processing channel 09589/11007. #\n"
     ]
    },
    {
     "name": "stderr",
     "output_type": "stream",
     "text": [
      "FINAL - INFO : # Finished processing channel 09590/11007. #\n"
     ]
    },
    {
     "name": "stderr",
     "output_type": "stream",
     "text": [
      "FINAL - INFO : # Finished processing channel 09591/11007. #\n"
     ]
    },
    {
     "name": "stderr",
     "output_type": "stream",
     "text": [
      "FINAL - INFO : # Finished processing channel 09592/11007. #\n"
     ]
    },
    {
     "name": "stderr",
     "output_type": "stream",
     "text": [
      "FINAL - INFO : # Finished processing channel 09593/11007. #\n"
     ]
    },
    {
     "name": "stderr",
     "output_type": "stream",
     "text": [
      "FINAL - INFO : # Finished processing channel 09594/11007. #\n"
     ]
    },
    {
     "name": "stderr",
     "output_type": "stream",
     "text": [
      "FINAL - INFO : # Finished processing channel 09595/11007. #\n"
     ]
    },
    {
     "name": "stderr",
     "output_type": "stream",
     "text": [
      "FINAL - INFO : # Finished processing channel 09596/11007. #\n"
     ]
    },
    {
     "name": "stderr",
     "output_type": "stream",
     "text": [
      "FINAL - INFO : # Finished processing channel 09597/11007. #\n"
     ]
    },
    {
     "name": "stderr",
     "output_type": "stream",
     "text": [
      "FINAL - INFO : # Finished processing channel 09598/11007. #\n"
     ]
    },
    {
     "name": "stderr",
     "output_type": "stream",
     "text": [
      "FINAL - INFO : # Finished processing channel 09602/11007. #\n"
     ]
    },
    {
     "name": "stderr",
     "output_type": "stream",
     "text": [
      "FINAL - INFO : # Finished processing channel 09603/11007. #\n"
     ]
    },
    {
     "name": "stderr",
     "output_type": "stream",
     "text": [
      "FINAL - INFO : # Finished processing channel 09604/11007. #\n"
     ]
    },
    {
     "name": "stderr",
     "output_type": "stream",
     "text": [
      "FINAL - INFO : # Finished processing channel 09605/11007. #\n"
     ]
    },
    {
     "name": "stderr",
     "output_type": "stream",
     "text": [
      "FINAL - INFO : # Finished processing channel 09606/11007. #\n"
     ]
    },
    {
     "name": "stderr",
     "output_type": "stream",
     "text": [
      "FINAL - INFO : # Finished processing channel 09607/11007. #\n"
     ]
    },
    {
     "name": "stderr",
     "output_type": "stream",
     "text": [
      "FINAL - INFO : # Finished processing channel 09608/11007. #\n"
     ]
    },
    {
     "name": "stderr",
     "output_type": "stream",
     "text": [
      "FINAL - INFO : # Emission found in channel 09609. Cleaning! #\n"
     ]
    },
    {
     "name": "stderr",
     "output_type": "stream",
     "text": [
      "FINAL - INFO : # Finished processing channel 09609/11007. #\n"
     ]
    },
    {
     "name": "stderr",
     "output_type": "stream",
     "text": [
      "FINAL - INFO : # Finished processing channel 09610/11007. #\n"
     ]
    },
    {
     "name": "stderr",
     "output_type": "stream",
     "text": [
      "FINAL - INFO : # Finished processing channel 09611/11007. #\n"
     ]
    },
    {
     "name": "stderr",
     "output_type": "stream",
     "text": [
      "FINAL - INFO : # Finished processing channel 09612/11007. #\n"
     ]
    },
    {
     "name": "stderr",
     "output_type": "stream",
     "text": [
      "FINAL - INFO : # Finished processing channel 09613/11007. #\n"
     ]
    },
    {
     "name": "stderr",
     "output_type": "stream",
     "text": [
      "FINAL - INFO : # Finished processing channel 09614/11007. #\n"
     ]
    },
    {
     "name": "stderr",
     "output_type": "stream",
     "text": [
      "FINAL - INFO : # Finished processing channel 09615/11007. #\n"
     ]
    },
    {
     "name": "stderr",
     "output_type": "stream",
     "text": [
      "FINAL - INFO : # Finished processing channel 09616/11007. #\n"
     ]
    },
    {
     "name": "stderr",
     "output_type": "stream",
     "text": [
      "FINAL - INFO : # Finished processing channel 09617/11007. #\n"
     ]
    },
    {
     "name": "stderr",
     "output_type": "stream",
     "text": [
      "FINAL - INFO : # Finished processing channel 09618/11007. #\n"
     ]
    },
    {
     "name": "stderr",
     "output_type": "stream",
     "text": [
      "FINAL - INFO : # Finished processing channel 09619/11007. #\n"
     ]
    },
    {
     "name": "stderr",
     "output_type": "stream",
     "text": [
      "FINAL - INFO : # Finished processing channel 09620/11007. #\n"
     ]
    },
    {
     "name": "stderr",
     "output_type": "stream",
     "text": [
      "FINAL - INFO : # Finished processing channel 09621/11007. #\n"
     ]
    },
    {
     "name": "stderr",
     "output_type": "stream",
     "text": [
      "FINAL - INFO : # Finished processing channel 09622/11007. #\n"
     ]
    },
    {
     "name": "stderr",
     "output_type": "stream",
     "text": [
      "FINAL - INFO : # Finished processing channel 09623/11007. #\n"
     ]
    },
    {
     "name": "stderr",
     "output_type": "stream",
     "text": [
      "FINAL - INFO : # Finished processing channel 09624/11007. #\n"
     ]
    },
    {
     "name": "stderr",
     "output_type": "stream",
     "text": [
      "FINAL - INFO : # Finished processing channel 09625/11007. #\n"
     ]
    },
    {
     "name": "stderr",
     "output_type": "stream",
     "text": [
      "FINAL - INFO : # Emission found in channel 09626. Cleaning! #\n"
     ]
    },
    {
     "name": "stderr",
     "output_type": "stream",
     "text": [
      "FINAL - INFO : # Finished processing channel 09626/11007. #\n"
     ]
    },
    {
     "name": "stderr",
     "output_type": "stream",
     "text": [
      "FINAL - INFO : # Finished processing channel 09627/11007. #\n"
     ]
    },
    {
     "name": "stderr",
     "output_type": "stream",
     "text": [
      "FINAL - INFO : # Finished processing channel 09628/11007. #\n"
     ]
    },
    {
     "name": "stderr",
     "output_type": "stream",
     "text": [
      "FINAL - INFO : # Finished processing channel 09629/11007. #\n"
     ]
    },
    {
     "name": "stderr",
     "output_type": "stream",
     "text": [
      "FINAL - INFO : # Finished processing channel 09630/11007. #\n"
     ]
    },
    {
     "name": "stderr",
     "output_type": "stream",
     "text": [
      "FINAL - INFO : # Finished processing channel 09631/11007. #\n"
     ]
    },
    {
     "name": "stderr",
     "output_type": "stream",
     "text": [
      "FINAL - INFO : # All channels of chunk 06 imaged #\n"
     ]
    },
    {
     "name": "stderr",
     "output_type": "stream",
     "text": [
      "FINAL - INFO : # Cleaned up the directory for chunk 06 #\n"
     ]
    },
    {
     "name": "stderr",
     "output_type": "stream",
     "text": [
      "FINAL - INFO : # Finished processing channel 09632/11007. #\n"
     ]
    },
    {
     "name": "stderr",
     "output_type": "stream",
     "text": [
      "FINAL - INFO : # Finished processing channel 09633/11007. #\n"
     ]
    },
    {
     "name": "stderr",
     "output_type": "stream",
     "text": [
      "FINAL - INFO : # Finished processing channel 09634/11007. #\n"
     ]
    },
    {
     "name": "stderr",
     "output_type": "stream",
     "text": [
      "FINAL - INFO : # Finished processing channel 09635/11007. #\n"
     ]
    },
    {
     "name": "stderr",
     "output_type": "stream",
     "text": [
      "FINAL - INFO : # Finished processing channel 09636/11007. #\n"
     ]
    },
    {
     "name": "stderr",
     "output_type": "stream",
     "text": [
      "FINAL - INFO : # Finished processing channel 09637/11007. #\n"
     ]
    },
    {
     "name": "stderr",
     "output_type": "stream",
     "text": [
      "FINAL - INFO : # Finished processing channel 09638/11007. #\n"
     ]
    },
    {
     "name": "stderr",
     "output_type": "stream",
     "text": [
      "FINAL - INFO : # Finished processing channel 09639/11007. #\n"
     ]
    },
    {
     "name": "stderr",
     "output_type": "stream",
     "text": [
      "FINAL - INFO : # Finished processing channel 09640/11007. #\n"
     ]
    },
    {
     "name": "stderr",
     "output_type": "stream",
     "text": [
      "FINAL - INFO : # Finished processing channel 09641/11007. #\n"
     ]
    },
    {
     "name": "stderr",
     "output_type": "stream",
     "text": [
      "FINAL - INFO : # Finished processing channel 09642/11007. #\n"
     ]
    },
    {
     "name": "stderr",
     "output_type": "stream",
     "text": [
      "FINAL - INFO : # Finished processing channel 09643/11007. #\n"
     ]
    },
    {
     "name": "stderr",
     "output_type": "stream",
     "text": [
      "FINAL - INFO : # Finished processing channel 09644/11007. #\n"
     ]
    },
    {
     "name": "stderr",
     "output_type": "stream",
     "text": [
      "FINAL - INFO : # Finished processing channel 09645/11007. #\n"
     ]
    },
    {
     "name": "stderr",
     "output_type": "stream",
     "text": [
      "FINAL - INFO : # Finished processing channel 09646/11007. #\n"
     ]
    },
    {
     "name": "stderr",
     "output_type": "stream",
     "text": [
      "FINAL - INFO : # Finished processing channel 09647/11007. #\n"
     ]
    },
    {
     "name": "stderr",
     "output_type": "stream",
     "text": [
      "FINAL - INFO : # Finished processing channel 09649/11007. #\n"
     ]
    },
    {
     "name": "stderr",
     "output_type": "stream",
     "text": [
      "FINAL - INFO : # Finished processing channel 09650/11007. #\n"
     ]
    },
    {
     "name": "stderr",
     "output_type": "stream",
     "text": [
      "FINAL - INFO : # Finished processing channel 09651/11007. #\n"
     ]
    },
    {
     "name": "stderr",
     "output_type": "stream",
     "text": [
      "FINAL - INFO : # Finished processing channel 09652/11007. #\n"
     ]
    },
    {
     "name": "stderr",
     "output_type": "stream",
     "text": [
      "FINAL - INFO : # Finished processing channel 09653/11007. #\n"
     ]
    },
    {
     "name": "stderr",
     "output_type": "stream",
     "text": [
      "FINAL - INFO : # Finished processing channel 09654/11007. #\n"
     ]
    },
    {
     "name": "stderr",
     "output_type": "stream",
     "text": [
      "FINAL - INFO : # Finished processing channel 09655/11007. #\n"
     ]
    },
    {
     "name": "stderr",
     "output_type": "stream",
     "text": [
      "FINAL - INFO : # Finished processing channel 09656/11007. #\n"
     ]
    },
    {
     "name": "stderr",
     "output_type": "stream",
     "text": [
      "FINAL - INFO : # Finished processing channel 09657/11007. #\n"
     ]
    },
    {
     "name": "stderr",
     "output_type": "stream",
     "text": [
      "FINAL - INFO : # Finished processing channel 09658/11007. #\n"
     ]
    },
    {
     "name": "stderr",
     "output_type": "stream",
     "text": [
      "FINAL - INFO : # Finished processing channel 09659/11007. #\n"
     ]
    },
    {
     "name": "stderr",
     "output_type": "stream",
     "text": [
      "FINAL - INFO : # Finished processing channel 09660/11007. #\n"
     ]
    },
    {
     "name": "stderr",
     "output_type": "stream",
     "text": [
      "FINAL - INFO : # Finished processing channel 09661/11007. #\n"
     ]
    },
    {
     "name": "stderr",
     "output_type": "stream",
     "text": [
      "FINAL - INFO : # Finished processing channel 09662/11007. #\n"
     ]
    },
    {
     "name": "stderr",
     "output_type": "stream",
     "text": [
      "FINAL - INFO : # Finished processing channel 09666/11007. #\n"
     ]
    },
    {
     "name": "stderr",
     "output_type": "stream",
     "text": [
      "FINAL - INFO : # Finished processing channel 09667/11007. #\n"
     ]
    },
    {
     "name": "stderr",
     "output_type": "stream",
     "text": [
      "FINAL - INFO : # Finished processing channel 09668/11007. #\n"
     ]
    },
    {
     "name": "stderr",
     "output_type": "stream",
     "text": [
      "FINAL - INFO : # Finished processing channel 09669/11007. #\n"
     ]
    },
    {
     "name": "stderr",
     "output_type": "stream",
     "text": [
      "FINAL - INFO : # Finished processing channel 09670/11007. #\n"
     ]
    },
    {
     "name": "stderr",
     "output_type": "stream",
     "text": [
      "FINAL - INFO : # Finished processing channel 09671/11007. #\n"
     ]
    },
    {
     "name": "stderr",
     "output_type": "stream",
     "text": [
      "FINAL - INFO : # Finished processing channel 09672/11007. #\n"
     ]
    },
    {
     "name": "stderr",
     "output_type": "stream",
     "text": [
      "FINAL - INFO : # Finished processing channel 09673/11007. #\n"
     ]
    },
    {
     "name": "stderr",
     "output_type": "stream",
     "text": [
      "FINAL - INFO : # Finished processing channel 09674/11007. #\n"
     ]
    },
    {
     "name": "stderr",
     "output_type": "stream",
     "text": [
      "FINAL - INFO : # Finished processing channel 09675/11007. #\n"
     ]
    },
    {
     "name": "stderr",
     "output_type": "stream",
     "text": [
      "FINAL - INFO : # Finished processing channel 09676/11007. #\n"
     ]
    },
    {
     "name": "stderr",
     "output_type": "stream",
     "text": [
      "FINAL - INFO : # Finished processing channel 09677/11007. #\n"
     ]
    },
    {
     "name": "stderr",
     "output_type": "stream",
     "text": [
      "FINAL - INFO : # Finished processing channel 09678/11007. #\n"
     ]
    },
    {
     "name": "stderr",
     "output_type": "stream",
     "text": [
      "FINAL - INFO : # Finished processing channel 09679/11007. #\n"
     ]
    },
    {
     "name": "stderr",
     "output_type": "stream",
     "text": [
      "FINAL - INFO : # Finished processing channel 09680/11007. #\n"
     ]
    },
    {
     "name": "stderr",
     "output_type": "stream",
     "text": [
      "FINAL - INFO : # Emission found in channel 09681. Cleaning! #\n"
     ]
    },
    {
     "name": "stderr",
     "output_type": "stream",
     "text": [
      "FINAL - INFO : # Finished processing channel 09681/11007. #\n"
     ]
    },
    {
     "name": "stderr",
     "output_type": "stream",
     "text": [
      "FINAL - INFO : # Finished processing channel 09682/11007. #\n"
     ]
    },
    {
     "name": "stderr",
     "output_type": "stream",
     "text": [
      "FINAL - INFO : # Finished processing channel 09683/11007. #\n"
     ]
    },
    {
     "name": "stderr",
     "output_type": "stream",
     "text": [
      "FINAL - INFO : # Finished processing channel 09684/11007. #\n"
     ]
    },
    {
     "name": "stderr",
     "output_type": "stream",
     "text": [
      "FINAL - INFO : # Emission found in channel 09685. Cleaning! #\n"
     ]
    },
    {
     "name": "stderr",
     "output_type": "stream",
     "text": [
      "FINAL - INFO : # Finished processing channel 09685/11007. #\n"
     ]
    },
    {
     "name": "stderr",
     "output_type": "stream",
     "text": [
      "FINAL - INFO : # Finished processing channel 09686/11007. #\n"
     ]
    },
    {
     "name": "stderr",
     "output_type": "stream",
     "text": [
      "FINAL - INFO : # Finished processing channel 09687/11007. #\n"
     ]
    },
    {
     "name": "stderr",
     "output_type": "stream",
     "text": [
      "FINAL - INFO : # Finished processing channel 09688/11007. #\n"
     ]
    },
    {
     "name": "stderr",
     "output_type": "stream",
     "text": [
      "FINAL - INFO : # Finished processing channel 09689/11007. #\n"
     ]
    },
    {
     "name": "stderr",
     "output_type": "stream",
     "text": [
      "FINAL - INFO : # Finished processing channel 09690/11007. #\n"
     ]
    },
    {
     "name": "stderr",
     "output_type": "stream",
     "text": [
      "FINAL - INFO : # Finished processing channel 09691/11007. #\n"
     ]
    },
    {
     "name": "stderr",
     "output_type": "stream",
     "text": [
      "FINAL - INFO : # Finished processing channel 09692/11007. #\n"
     ]
    },
    {
     "name": "stderr",
     "output_type": "stream",
     "text": [
      "FINAL - INFO : # Finished processing channel 09693/11007. #\n"
     ]
    },
    {
     "name": "stderr",
     "output_type": "stream",
     "text": [
      "FINAL - INFO : # Finished processing channel 09694/11007. #\n"
     ]
    },
    {
     "name": "stderr",
     "output_type": "stream",
     "text": [
      "FINAL - INFO : # Finished processing channel 09695/11007. #\n"
     ]
    },
    {
     "name": "stderr",
     "output_type": "stream",
     "text": [
      "FINAL - INFO : # Finished processing channel 09696/11007. #\n"
     ]
    },
    {
     "name": "stderr",
     "output_type": "stream",
     "text": [
      "FINAL - INFO : # Finished processing channel 09697/11007. #\n"
     ]
    },
    {
     "name": "stderr",
     "output_type": "stream",
     "text": [
      "FINAL - INFO : # Finished processing channel 09698/11007. #\n"
     ]
    },
    {
     "name": "stderr",
     "output_type": "stream",
     "text": [
      "FINAL - INFO : # Finished processing channel 09699/11007. #\n"
     ]
    },
    {
     "name": "stderr",
     "output_type": "stream",
     "text": [
      "FINAL - INFO : # Finished processing channel 09700/11007. #\n"
     ]
    },
    {
     "name": "stderr",
     "output_type": "stream",
     "text": [
      "FINAL - INFO : # Emission found in channel 09701. Cleaning! #\n"
     ]
    },
    {
     "name": "stderr",
     "output_type": "stream",
     "text": [
      "FINAL - INFO : # Finished processing channel 09701/11007. #\n"
     ]
    },
    {
     "name": "stderr",
     "output_type": "stream",
     "text": [
      "FINAL - INFO : # Finished processing channel 09702/11007. #\n"
     ]
    },
    {
     "name": "stderr",
     "output_type": "stream",
     "text": [
      "FINAL - INFO : # Finished processing channel 09703/11007. #\n"
     ]
    },
    {
     "name": "stderr",
     "output_type": "stream",
     "text": [
      "FINAL - INFO : # Finished processing channel 09704/11007. #\n"
     ]
    },
    {
     "name": "stderr",
     "output_type": "stream",
     "text": [
      "FINAL - INFO : # Finished processing channel 09705/11007. #\n"
     ]
    },
    {
     "name": "stderr",
     "output_type": "stream",
     "text": [
      "FINAL - INFO : # Finished processing channel 09706/11007. #\n"
     ]
    },
    {
     "name": "stderr",
     "output_type": "stream",
     "text": [
      "FINAL - INFO : # Finished processing channel 09707/11007. #\n"
     ]
    },
    {
     "name": "stderr",
     "output_type": "stream",
     "text": [
      "FINAL - INFO : # Finished processing channel 09708/11007. #\n"
     ]
    },
    {
     "name": "stderr",
     "output_type": "stream",
     "text": [
      "FINAL - INFO : # Finished processing channel 09709/11007. #\n"
     ]
    },
    {
     "name": "stderr",
     "output_type": "stream",
     "text": [
      "FINAL - INFO : # Finished processing channel 09710/11007. #\n"
     ]
    },
    {
     "name": "stderr",
     "output_type": "stream",
     "text": [
      "FINAL - INFO : # Finished processing channel 09711/11007. #\n"
     ]
    },
    {
     "name": "stderr",
     "output_type": "stream",
     "text": [
      "FINAL - INFO : # Finished processing channel 09713/11007. #\n"
     ]
    },
    {
     "name": "stderr",
     "output_type": "stream",
     "text": [
      "FINAL - INFO : # Finished processing channel 09714/11007. #\n"
     ]
    },
    {
     "name": "stderr",
     "output_type": "stream",
     "text": [
      "FINAL - INFO : # Finished processing channel 09715/11007. #\n"
     ]
    },
    {
     "name": "stderr",
     "output_type": "stream",
     "text": [
      "FINAL - INFO : # Finished processing channel 09716/11007. #\n"
     ]
    },
    {
     "name": "stderr",
     "output_type": "stream",
     "text": [
      "FINAL - INFO : # Finished processing channel 09717/11007. #\n"
     ]
    },
    {
     "name": "stderr",
     "output_type": "stream",
     "text": [
      "FINAL - INFO : # Finished processing channel 09718/11007. #\n"
     ]
    },
    {
     "name": "stderr",
     "output_type": "stream",
     "text": [
      "FINAL - INFO : # Finished processing channel 09719/11007. #\n"
     ]
    },
    {
     "name": "stderr",
     "output_type": "stream",
     "text": [
      "FINAL - INFO : # Finished processing channel 09720/11007. #\n"
     ]
    },
    {
     "name": "stderr",
     "output_type": "stream",
     "text": [
      "FINAL - INFO : # Emission found in channel 09721. Cleaning! #\n"
     ]
    },
    {
     "name": "stderr",
     "output_type": "stream",
     "text": [
      "FINAL - INFO : # Finished processing channel 09721/11007. #\n"
     ]
    },
    {
     "name": "stderr",
     "output_type": "stream",
     "text": [
      "FINAL - INFO : # Finished processing channel 09722/11007. #\n"
     ]
    },
    {
     "name": "stderr",
     "output_type": "stream",
     "text": [
      "FINAL - INFO : # Finished processing channel 09723/11007. #\n"
     ]
    },
    {
     "name": "stderr",
     "output_type": "stream",
     "text": [
      "FINAL - INFO : # Finished processing channel 09724/11007. #\n"
     ]
    },
    {
     "name": "stderr",
     "output_type": "stream",
     "text": [
      "FINAL - INFO : # Finished processing channel 09725/11007. #\n"
     ]
    },
    {
     "name": "stderr",
     "output_type": "stream",
     "text": [
      "FINAL - INFO : # Finished processing channel 09732/11007. #\n"
     ]
    },
    {
     "name": "stderr",
     "output_type": "stream",
     "text": [
      "FINAL - INFO : # Finished processing channel 09733/11007. #\n"
     ]
    },
    {
     "name": "stderr",
     "output_type": "stream",
     "text": [
      "FINAL - INFO : # Finished processing channel 09734/11007. #\n"
     ]
    },
    {
     "name": "stderr",
     "output_type": "stream",
     "text": [
      "FINAL - INFO : # Finished processing channel 09735/11007. #\n"
     ]
    },
    {
     "name": "stderr",
     "output_type": "stream",
     "text": [
      "FINAL - INFO : # Finished processing channel 09736/11007. #\n"
     ]
    },
    {
     "name": "stderr",
     "output_type": "stream",
     "text": [
      "FINAL - INFO : # Finished processing channel 09737/11007. #\n"
     ]
    },
    {
     "name": "stderr",
     "output_type": "stream",
     "text": [
      "FINAL - INFO : # Finished processing channel 09738/11007. #\n"
     ]
    },
    {
     "name": "stderr",
     "output_type": "stream",
     "text": [
      "FINAL - INFO : # Finished processing channel 09739/11007. #\n"
     ]
    },
    {
     "name": "stderr",
     "output_type": "stream",
     "text": [
      "FINAL - INFO : # Finished processing channel 09740/11007. #\n"
     ]
    },
    {
     "name": "stderr",
     "output_type": "stream",
     "text": [
      "FINAL - INFO : # Finished processing channel 09741/11007. #\n"
     ]
    },
    {
     "name": "stderr",
     "output_type": "stream",
     "text": [
      "FINAL - INFO : # Finished processing channel 09742/11007. #\n"
     ]
    },
    {
     "name": "stderr",
     "output_type": "stream",
     "text": [
      "FINAL - INFO : # Finished processing channel 09743/11007. #\n"
     ]
    },
    {
     "name": "stderr",
     "output_type": "stream",
     "text": [
      "FINAL - INFO : # Finished processing channel 09744/11007. #\n"
     ]
    },
    {
     "name": "stderr",
     "output_type": "stream",
     "text": [
      "FINAL - INFO : # Finished processing channel 09745/11007. #\n"
     ]
    },
    {
     "name": "stderr",
     "output_type": "stream",
     "text": [
      "FINAL - INFO : # Finished processing channel 09746/11007. #\n"
     ]
    },
    {
     "name": "stderr",
     "output_type": "stream",
     "text": [
      "FINAL - INFO : # Finished processing channel 09747/11007. #\n"
     ]
    },
    {
     "name": "stderr",
     "output_type": "stream",
     "text": [
      "FINAL - INFO : # Finished processing channel 09748/11007. #\n"
     ]
    },
    {
     "name": "stderr",
     "output_type": "stream",
     "text": [
      "FINAL - INFO : # Finished processing channel 09749/11007. #\n"
     ]
    },
    {
     "name": "stderr",
     "output_type": "stream",
     "text": [
      "FINAL - INFO : # Finished processing channel 09750/11007. #\n"
     ]
    },
    {
     "name": "stderr",
     "output_type": "stream",
     "text": [
      "FINAL - INFO : # Finished processing channel 09751/11007. #\n"
     ]
    },
    {
     "name": "stderr",
     "output_type": "stream",
     "text": [
      "FINAL - INFO : # Finished processing channel 09752/11007. #\n"
     ]
    },
    {
     "name": "stderr",
     "output_type": "stream",
     "text": [
      "FINAL - INFO : # Finished processing channel 09753/11007. #\n"
     ]
    },
    {
     "name": "stderr",
     "output_type": "stream",
     "text": [
      "FINAL - INFO : # Finished processing channel 09754/11007. #\n"
     ]
    },
    {
     "name": "stderr",
     "output_type": "stream",
     "text": [
      "FINAL - INFO : # Finished processing channel 09755/11007. #\n"
     ]
    },
    {
     "name": "stderr",
     "output_type": "stream",
     "text": [
      "FINAL - INFO : # Finished processing channel 09756/11007. #\n"
     ]
    },
    {
     "name": "stderr",
     "output_type": "stream",
     "text": [
      "FINAL - INFO : # Finished processing channel 09757/11007. #\n"
     ]
    },
    {
     "name": "stderr",
     "output_type": "stream",
     "text": [
      "FINAL - INFO : # Finished processing channel 09758/11007. #\n"
     ]
    },
    {
     "name": "stderr",
     "output_type": "stream",
     "text": [
      "FINAL - INFO : # Finished processing channel 09759/11007. #\n"
     ]
    },
    {
     "name": "stderr",
     "output_type": "stream",
     "text": [
      "FINAL - INFO : # Finished processing channel 09760/11007. #\n"
     ]
    },
    {
     "name": "stderr",
     "output_type": "stream",
     "text": [
      "FINAL - INFO : # Finished processing channel 09761/11007. #\n"
     ]
    },
    {
     "name": "stderr",
     "output_type": "stream",
     "text": [
      "FINAL - INFO : # Finished processing channel 09762/11007. #\n"
     ]
    },
    {
     "name": "stderr",
     "output_type": "stream",
     "text": [
      "FINAL - INFO : # Finished processing channel 09763/11007. #\n"
     ]
    },
    {
     "name": "stderr",
     "output_type": "stream",
     "text": [
      "FINAL - INFO : # Finished processing channel 09764/11007. #\n"
     ]
    },
    {
     "name": "stderr",
     "output_type": "stream",
     "text": [
      "FINAL - INFO : # Finished processing channel 09765/11007. #\n"
     ]
    },
    {
     "name": "stderr",
     "output_type": "stream",
     "text": [
      "FINAL - INFO : # Finished processing channel 09766/11007. #\n"
     ]
    },
    {
     "name": "stderr",
     "output_type": "stream",
     "text": [
      "FINAL - INFO : # Finished processing channel 09767/11007. #\n"
     ]
    },
    {
     "name": "stderr",
     "output_type": "stream",
     "text": [
      "FINAL - INFO : # Finished processing channel 09768/11007. #\n"
     ]
    },
    {
     "name": "stderr",
     "output_type": "stream",
     "text": [
      "FINAL - INFO : # Finished processing channel 09769/11007. #\n"
     ]
    },
    {
     "name": "stderr",
     "output_type": "stream",
     "text": [
      "FINAL - INFO : # Finished processing channel 09770/11007. #\n"
     ]
    },
    {
     "name": "stderr",
     "output_type": "stream",
     "text": [
      "FINAL - INFO : # Finished processing channel 09771/11007. #\n"
     ]
    },
    {
     "name": "stderr",
     "output_type": "stream",
     "text": [
      "FINAL - INFO : # Finished processing channel 09772/11007. #\n"
     ]
    },
    {
     "name": "stderr",
     "output_type": "stream",
     "text": [
      "FINAL - INFO : # Finished processing channel 09773/11007. #\n"
     ]
    },
    {
     "name": "stderr",
     "output_type": "stream",
     "text": [
      "FINAL - INFO : # Finished processing channel 09774/11007. #\n"
     ]
    },
    {
     "name": "stderr",
     "output_type": "stream",
     "text": [
      "FINAL - INFO : # Finished processing channel 09775/11007. #\n"
     ]
    },
    {
     "name": "stderr",
     "output_type": "stream",
     "text": [
      "FINAL - INFO : # Finished processing channel 09777/11007. #\n"
     ]
    },
    {
     "name": "stderr",
     "output_type": "stream",
     "text": [
      "FINAL - INFO : # Finished processing channel 09778/11007. #\n"
     ]
    },
    {
     "name": "stderr",
     "output_type": "stream",
     "text": [
      "FINAL - INFO : # Finished processing channel 09779/11007. #\n"
     ]
    },
    {
     "name": "stderr",
     "output_type": "stream",
     "text": [
      "FINAL - INFO : # Finished processing channel 09780/11007. #\n"
     ]
    },
    {
     "name": "stderr",
     "output_type": "stream",
     "text": [
      "FINAL - INFO : # Finished processing channel 09781/11007. #\n"
     ]
    },
    {
     "name": "stderr",
     "output_type": "stream",
     "text": [
      "FINAL - INFO : # Finished processing channel 09782/11007. #\n"
     ]
    },
    {
     "name": "stderr",
     "output_type": "stream",
     "text": [
      "FINAL - INFO : # Finished processing channel 09783/11007. #\n"
     ]
    },
    {
     "name": "stderr",
     "output_type": "stream",
     "text": [
      "FINAL - INFO : # Finished processing channel 09784/11007. #\n"
     ]
    },
    {
     "name": "stderr",
     "output_type": "stream",
     "text": [
      "FINAL - INFO : # Finished processing channel 09785/11007. #\n"
     ]
    },
    {
     "name": "stderr",
     "output_type": "stream",
     "text": [
      "FINAL - INFO : # Finished processing channel 09786/11007. #\n"
     ]
    },
    {
     "name": "stderr",
     "output_type": "stream",
     "text": [
      "FINAL - INFO : # Finished processing channel 09787/11007. #\n"
     ]
    },
    {
     "name": "stderr",
     "output_type": "stream",
     "text": [
      "FINAL - INFO : # Finished processing channel 09788/11007. #\n"
     ]
    },
    {
     "name": "stderr",
     "output_type": "stream",
     "text": [
      "FINAL - INFO : # Finished processing channel 09789/11007. #\n"
     ]
    },
    {
     "name": "stderr",
     "output_type": "stream",
     "text": [
      "FINAL - INFO : # Finished processing channel 09790/11007. #\n"
     ]
    },
    {
     "name": "stderr",
     "output_type": "stream",
     "text": [
      "FINAL - INFO : # Finished processing channel 09794/11007. #\n"
     ]
    },
    {
     "name": "stderr",
     "output_type": "stream",
     "text": [
      "FINAL - INFO : # Finished processing channel 09795/11007. #\n"
     ]
    },
    {
     "name": "stderr",
     "output_type": "stream",
     "text": [
      "FINAL - INFO : # Finished processing channel 09796/11007. #\n"
     ]
    },
    {
     "name": "stderr",
     "output_type": "stream",
     "text": [
      "FINAL - INFO : # Finished processing channel 09797/11007. #\n"
     ]
    },
    {
     "name": "stderr",
     "output_type": "stream",
     "text": [
      "FINAL - INFO : # Finished processing channel 09798/11007. #\n"
     ]
    },
    {
     "name": "stderr",
     "output_type": "stream",
     "text": [
      "FINAL - INFO : # Finished processing channel 09799/11007. #\n"
     ]
    },
    {
     "name": "stderr",
     "output_type": "stream",
     "text": [
      "FINAL - INFO : # Finished processing channel 09800/11007. #\n"
     ]
    },
    {
     "name": "stderr",
     "output_type": "stream",
     "text": [
      "FINAL - INFO : # Finished processing channel 09801/11007. #\n"
     ]
    },
    {
     "name": "stderr",
     "output_type": "stream",
     "text": [
      "FINAL - INFO : # Finished processing channel 09802/11007. #\n"
     ]
    },
    {
     "name": "stderr",
     "output_type": "stream",
     "text": [
      "FINAL - INFO : # Finished processing channel 09803/11007. #\n"
     ]
    },
    {
     "name": "stderr",
     "output_type": "stream",
     "text": [
      "FINAL - INFO : # Finished processing channel 09804/11007. #\n"
     ]
    },
    {
     "name": "stderr",
     "output_type": "stream",
     "text": [
      "FINAL - INFO : # Finished processing channel 09805/11007. #\n"
     ]
    },
    {
     "name": "stderr",
     "output_type": "stream",
     "text": [
      "FINAL - INFO : # Finished processing channel 09806/11007. #\n"
     ]
    },
    {
     "name": "stderr",
     "output_type": "stream",
     "text": [
      "FINAL - INFO : # Finished processing channel 09807/11007. #\n"
     ]
    },
    {
     "name": "stderr",
     "output_type": "stream",
     "text": [
      "FINAL - INFO : # Finished processing channel 09808/11007. #\n"
     ]
    },
    {
     "name": "stderr",
     "output_type": "stream",
     "text": [
      "FINAL - INFO : # Finished processing channel 09809/11007. #\n"
     ]
    },
    {
     "name": "stderr",
     "output_type": "stream",
     "text": [
      "FINAL - INFO : # Finished processing channel 09810/11007. #\n"
     ]
    },
    {
     "name": "stderr",
     "output_type": "stream",
     "text": [
      "FINAL - INFO : # Finished processing channel 09811/11007. #\n"
     ]
    },
    {
     "name": "stderr",
     "output_type": "stream",
     "text": [
      "FINAL - INFO : # Finished processing channel 09812/11007. #\n"
     ]
    },
    {
     "name": "stderr",
     "output_type": "stream",
     "text": [
      "FINAL - INFO : # Finished processing channel 09813/11007. #\n"
     ]
    },
    {
     "name": "stderr",
     "output_type": "stream",
     "text": [
      "FINAL - INFO : # Finished processing channel 09814/11007. #\n"
     ]
    },
    {
     "name": "stderr",
     "output_type": "stream",
     "text": [
      "FINAL - INFO : # Finished processing channel 09815/11007. #\n"
     ]
    },
    {
     "name": "stderr",
     "output_type": "stream",
     "text": [
      "FINAL - INFO : # Emission found in channel 09816. Cleaning! #\n"
     ]
    },
    {
     "name": "stderr",
     "output_type": "stream",
     "text": [
      "FINAL - INFO : # Finished processing channel 09816/11007. #\n"
     ]
    },
    {
     "name": "stderr",
     "output_type": "stream",
     "text": [
      "FINAL - INFO : # Finished processing channel 09817/11007. #\n"
     ]
    },
    {
     "name": "stderr",
     "output_type": "stream",
     "text": [
      "FINAL - INFO : # Finished processing channel 09818/11007. #\n"
     ]
    },
    {
     "name": "stderr",
     "output_type": "stream",
     "text": [
      "FINAL - INFO : # Finished processing channel 09819/11007. #\n"
     ]
    },
    {
     "name": "stderr",
     "output_type": "stream",
     "text": [
      "FINAL - INFO : # Finished processing channel 09820/11007. #\n"
     ]
    },
    {
     "name": "stderr",
     "output_type": "stream",
     "text": [
      "FINAL - INFO : # Finished processing channel 09821/11007. #\n"
     ]
    },
    {
     "name": "stderr",
     "output_type": "stream",
     "text": [
      "FINAL - INFO : # Finished processing channel 09822/11007. #\n"
     ]
    },
    {
     "name": "stderr",
     "output_type": "stream",
     "text": [
      "FINAL - INFO : # Finished processing channel 09823/11007. #\n"
     ]
    },
    {
     "name": "stderr",
     "output_type": "stream",
     "text": [
      "FINAL - INFO : # Finished processing channel 09824/11007. #\n"
     ]
    },
    {
     "name": "stderr",
     "output_type": "stream",
     "text": [
      "FINAL - INFO : # Finished processing channel 09825/11007. #\n"
     ]
    },
    {
     "name": "stderr",
     "output_type": "stream",
     "text": [
      "FINAL - INFO : # Finished processing channel 09826/11007. #\n"
     ]
    },
    {
     "name": "stderr",
     "output_type": "stream",
     "text": [
      "FINAL - INFO : # Finished processing channel 09827/11007. #\n"
     ]
    },
    {
     "name": "stderr",
     "output_type": "stream",
     "text": [
      "FINAL - INFO : # Finished processing channel 09828/11007. #\n"
     ]
    },
    {
     "name": "stderr",
     "output_type": "stream",
     "text": [
      "FINAL - INFO : # Finished processing channel 09829/11007. #\n"
     ]
    },
    {
     "name": "stderr",
     "output_type": "stream",
     "text": [
      "FINAL - INFO : # Finished processing channel 09830/11007. #\n"
     ]
    },
    {
     "name": "stderr",
     "output_type": "stream",
     "text": [
      "FINAL - INFO : # Finished processing channel 09831/11007. #\n"
     ]
    },
    {
     "name": "stderr",
     "output_type": "stream",
     "text": [
      "FINAL - INFO : # Finished processing channel 09832/11007. #\n"
     ]
    },
    {
     "name": "stderr",
     "output_type": "stream",
     "text": [
      "FINAL - INFO : # Finished processing channel 09833/11007. #\n"
     ]
    },
    {
     "name": "stderr",
     "output_type": "stream",
     "text": [
      "FINAL - INFO : # Finished processing channel 09834/11007. #\n"
     ]
    },
    {
     "name": "stderr",
     "output_type": "stream",
     "text": [
      "FINAL - INFO : # Finished processing channel 09835/11007. #\n"
     ]
    },
    {
     "name": "stderr",
     "output_type": "stream",
     "text": [
      "FINAL - INFO : # Finished processing channel 09836/11007. #\n"
     ]
    },
    {
     "name": "stderr",
     "output_type": "stream",
     "text": [
      "FINAL - INFO : # Finished processing channel 09837/11007. #\n"
     ]
    },
    {
     "name": "stderr",
     "output_type": "stream",
     "text": [
      "FINAL - INFO : # Finished processing channel 09838/11007. #\n"
     ]
    },
    {
     "name": "stderr",
     "output_type": "stream",
     "text": [
      "FINAL - INFO : # Finished processing channel 09839/11007. #\n"
     ]
    },
    {
     "name": "stderr",
     "output_type": "stream",
     "text": [
      "FINAL - INFO : # Finished processing channel 09842/11007. #\n"
     ]
    },
    {
     "name": "stderr",
     "output_type": "stream",
     "text": [
      "FINAL - INFO : # Finished processing channel 09843/11007. #\n"
     ]
    },
    {
     "name": "stderr",
     "output_type": "stream",
     "text": [
      "FINAL - INFO : # Finished processing channel 09844/11007. #\n"
     ]
    },
    {
     "name": "stderr",
     "output_type": "stream",
     "text": [
      "FINAL - INFO : # Finished processing channel 09845/11007. #\n"
     ]
    },
    {
     "name": "stderr",
     "output_type": "stream",
     "text": [
      "FINAL - INFO : # Emission found in channel 09846. Cleaning! #\n"
     ]
    },
    {
     "name": "stderr",
     "output_type": "stream",
     "text": [
      "FINAL - INFO : # Finished processing channel 09846/11007. #\n"
     ]
    },
    {
     "name": "stderr",
     "output_type": "stream",
     "text": [
      "FINAL - INFO : # Finished processing channel 09847/11007. #\n"
     ]
    },
    {
     "name": "stderr",
     "output_type": "stream",
     "text": [
      "FINAL - INFO : # Finished processing channel 09848/11007. #\n"
     ]
    },
    {
     "name": "stderr",
     "output_type": "stream",
     "text": [
      "FINAL - INFO : # Finished processing channel 09849/11007. #\n"
     ]
    },
    {
     "name": "stderr",
     "output_type": "stream",
     "text": [
      "FINAL - INFO : # Finished processing channel 09850/11007. #\n"
     ]
    },
    {
     "name": "stderr",
     "output_type": "stream",
     "text": [
      "FINAL - INFO : # Finished processing channel 09851/11007. #\n"
     ]
    },
    {
     "name": "stderr",
     "output_type": "stream",
     "text": [
      "FINAL - INFO : # Finished processing channel 09852/11007. #\n"
     ]
    },
    {
     "name": "stderr",
     "output_type": "stream",
     "text": [
      "FINAL - INFO : # Finished processing channel 09853/11007. #\n"
     ]
    },
    {
     "name": "stderr",
     "output_type": "stream",
     "text": [
      "FINAL - INFO : # Finished processing channel 09860/11007. #\n"
     ]
    },
    {
     "name": "stderr",
     "output_type": "stream",
     "text": [
      "FINAL - INFO : # Finished processing channel 09861/11007. #\n"
     ]
    },
    {
     "name": "stderr",
     "output_type": "stream",
     "text": [
      "FINAL - INFO : # Finished processing channel 09862/11007. #\n"
     ]
    },
    {
     "name": "stderr",
     "output_type": "stream",
     "text": [
      "FINAL - INFO : # Finished processing channel 09863/11007. #\n"
     ]
    },
    {
     "name": "stderr",
     "output_type": "stream",
     "text": [
      "FINAL - INFO : # Finished processing channel 09864/11007. #\n"
     ]
    },
    {
     "name": "stderr",
     "output_type": "stream",
     "text": [
      "FINAL - INFO : # Finished processing channel 09865/11007. #\n"
     ]
    },
    {
     "name": "stderr",
     "output_type": "stream",
     "text": [
      "FINAL - INFO : # Finished processing channel 09866/11007. #\n"
     ]
    },
    {
     "name": "stderr",
     "output_type": "stream",
     "text": [
      "FINAL - INFO : # Finished processing channel 09867/11007. #\n"
     ]
    },
    {
     "name": "stderr",
     "output_type": "stream",
     "text": [
      "FINAL - INFO : # Finished processing channel 09868/11007. #\n"
     ]
    },
    {
     "name": "stderr",
     "output_type": "stream",
     "text": [
      "FINAL - INFO : # Finished processing channel 09869/11007. #\n"
     ]
    },
    {
     "name": "stderr",
     "output_type": "stream",
     "text": [
      "FINAL - INFO : # Finished processing channel 09870/11007. #\n"
     ]
    },
    {
     "name": "stderr",
     "output_type": "stream",
     "text": [
      "FINAL - INFO : # Finished processing channel 09871/11007. #\n"
     ]
    },
    {
     "name": "stderr",
     "output_type": "stream",
     "text": [
      "FINAL - INFO : # Finished processing channel 09872/11007. #\n"
     ]
    },
    {
     "name": "stderr",
     "output_type": "stream",
     "text": [
      "FINAL - INFO : # Finished processing channel 09873/11007. #\n"
     ]
    },
    {
     "name": "stderr",
     "output_type": "stream",
     "text": [
      "FINAL - INFO : # Finished processing channel 09874/11007. #\n"
     ]
    },
    {
     "name": "stderr",
     "output_type": "stream",
     "text": [
      "FINAL - INFO : # Finished processing channel 09875/11007. #\n"
     ]
    },
    {
     "name": "stderr",
     "output_type": "stream",
     "text": [
      "FINAL - INFO : # Finished processing channel 09876/11007. #\n"
     ]
    },
    {
     "name": "stderr",
     "output_type": "stream",
     "text": [
      "FINAL - INFO : # Finished processing channel 09877/11007. #\n"
     ]
    },
    {
     "name": "stderr",
     "output_type": "stream",
     "text": [
      "FINAL - INFO : # Finished processing channel 09878/11007. #\n"
     ]
    },
    {
     "name": "stderr",
     "output_type": "stream",
     "text": [
      "FINAL - INFO : # Finished processing channel 09879/11007. #\n"
     ]
    },
    {
     "name": "stderr",
     "output_type": "stream",
     "text": [
      "FINAL - INFO : # Finished processing channel 09880/11007. #\n"
     ]
    },
    {
     "name": "stderr",
     "output_type": "stream",
     "text": [
      "FINAL - INFO : # Finished processing channel 09881/11007. #\n"
     ]
    },
    {
     "name": "stderr",
     "output_type": "stream",
     "text": [
      "FINAL - INFO : # Finished processing channel 09882/11007. #\n"
     ]
    },
    {
     "name": "stderr",
     "output_type": "stream",
     "text": [
      "FINAL - INFO : # Finished processing channel 09883/11007. #\n"
     ]
    },
    {
     "name": "stderr",
     "output_type": "stream",
     "text": [
      "FINAL - INFO : # Finished processing channel 09884/11007. #\n"
     ]
    },
    {
     "name": "stderr",
     "output_type": "stream",
     "text": [
      "FINAL - INFO : # Finished processing channel 09885/11007. #\n"
     ]
    },
    {
     "name": "stderr",
     "output_type": "stream",
     "text": [
      "FINAL - INFO : # Finished processing channel 09886/11007. #\n"
     ]
    },
    {
     "name": "stderr",
     "output_type": "stream",
     "text": [
      "FINAL - INFO : # Finished processing channel 09887/11007. #\n"
     ]
    },
    {
     "name": "stderr",
     "output_type": "stream",
     "text": [
      "FINAL - INFO : # Finished processing channel 09888/11007. #\n"
     ]
    },
    {
     "name": "stderr",
     "output_type": "stream",
     "text": [
      "FINAL - INFO : # Finished processing channel 09889/11007. #\n"
     ]
    },
    {
     "name": "stderr",
     "output_type": "stream",
     "text": [
      "FINAL - INFO : # Finished processing channel 09890/11007. #\n"
     ]
    },
    {
     "name": "stderr",
     "output_type": "stream",
     "text": [
      "FINAL - INFO : # Finished processing channel 09891/11007. #\n"
     ]
    },
    {
     "name": "stderr",
     "output_type": "stream",
     "text": [
      "FINAL - INFO : # Finished processing channel 09892/11007. #\n"
     ]
    },
    {
     "name": "stderr",
     "output_type": "stream",
     "text": [
      "FINAL - INFO : # Finished processing channel 09893/11007. #\n"
     ]
    },
    {
     "name": "stderr",
     "output_type": "stream",
     "text": [
      "FINAL - INFO : # Finished processing channel 09894/11007. #\n"
     ]
    },
    {
     "name": "stderr",
     "output_type": "stream",
     "text": [
      "FINAL - INFO : # Finished processing channel 09895/11007. #\n"
     ]
    },
    {
     "name": "stderr",
     "output_type": "stream",
     "text": [
      "FINAL - INFO : # Finished processing channel 09896/11007. #\n"
     ]
    },
    {
     "name": "stderr",
     "output_type": "stream",
     "text": [
      "FINAL - INFO : # Finished processing channel 09897/11007. #\n"
     ]
    },
    {
     "name": "stderr",
     "output_type": "stream",
     "text": [
      "FINAL - INFO : # Finished processing channel 09898/11007. #\n"
     ]
    },
    {
     "name": "stderr",
     "output_type": "stream",
     "text": [
      "FINAL - INFO : # Finished processing channel 09899/11007. #\n"
     ]
    },
    {
     "name": "stderr",
     "output_type": "stream",
     "text": [
      "FINAL - INFO : # Finished processing channel 09900/11007. #\n"
     ]
    },
    {
     "name": "stderr",
     "output_type": "stream",
     "text": [
      "FINAL - INFO : # Finished processing channel 09901/11007. #\n"
     ]
    },
    {
     "name": "stderr",
     "output_type": "stream",
     "text": [
      "FINAL - INFO : # Finished processing channel 09902/11007. #\n"
     ]
    },
    {
     "name": "stderr",
     "output_type": "stream",
     "text": [
      "FINAL - INFO : # Finished processing channel 09903/11007. #\n"
     ]
    },
    {
     "name": "stderr",
     "output_type": "stream",
     "text": [
      "FINAL - INFO : # Finished processing channel 09906/11007. #\n"
     ]
    },
    {
     "name": "stderr",
     "output_type": "stream",
     "text": [
      "FINAL - INFO : # Finished processing channel 09907/11007. #\n"
     ]
    },
    {
     "name": "stderr",
     "output_type": "stream",
     "text": [
      "FINAL - INFO : # Finished processing channel 09908/11007. #\n"
     ]
    },
    {
     "name": "stderr",
     "output_type": "stream",
     "text": [
      "FINAL - INFO : # Finished processing channel 09909/11007. #\n"
     ]
    },
    {
     "name": "stderr",
     "output_type": "stream",
     "text": [
      "FINAL - INFO : # Finished processing channel 09910/11007. #\n"
     ]
    },
    {
     "name": "stderr",
     "output_type": "stream",
     "text": [
      "FINAL - INFO : # Finished processing channel 09911/11007. #\n"
     ]
    },
    {
     "name": "stderr",
     "output_type": "stream",
     "text": [
      "FINAL - INFO : # Finished processing channel 09912/11007. #\n"
     ]
    },
    {
     "name": "stderr",
     "output_type": "stream",
     "text": [
      "FINAL - INFO : # Finished processing channel 09913/11007. #\n"
     ]
    },
    {
     "name": "stderr",
     "output_type": "stream",
     "text": [
      "FINAL - INFO : # Finished processing channel 09914/11007. #\n"
     ]
    },
    {
     "name": "stderr",
     "output_type": "stream",
     "text": [
      "FINAL - INFO : # Finished processing channel 09915/11007. #\n"
     ]
    },
    {
     "name": "stderr",
     "output_type": "stream",
     "text": [
      "FINAL - INFO : # Finished processing channel 09916/11007. #\n"
     ]
    },
    {
     "name": "stderr",
     "output_type": "stream",
     "text": [
      "FINAL - INFO : # Finished processing channel 09917/11007. #\n"
     ]
    },
    {
     "name": "stderr",
     "output_type": "stream",
     "text": [
      "FINAL - INFO : # Finished processing channel 09924/11007. #\n"
     ]
    },
    {
     "name": "stderr",
     "output_type": "stream",
     "text": [
      "FINAL - INFO : # Finished processing channel 09925/11007. #\n"
     ]
    },
    {
     "name": "stderr",
     "output_type": "stream",
     "text": [
      "FINAL - INFO : # Finished processing channel 09926/11007. #\n"
     ]
    },
    {
     "name": "stderr",
     "output_type": "stream",
     "text": [
      "FINAL - INFO : # Finished processing channel 09927/11007. #\n"
     ]
    },
    {
     "name": "stderr",
     "output_type": "stream",
     "text": [
      "FINAL - INFO : # Finished processing channel 09928/11007. #\n"
     ]
    },
    {
     "name": "stderr",
     "output_type": "stream",
     "text": [
      "FINAL - INFO : # Emission found in channel 09929. Cleaning! #\n"
     ]
    },
    {
     "name": "stderr",
     "output_type": "stream",
     "text": [
      "FINAL - INFO : # Finished processing channel 09929/11007. #\n"
     ]
    },
    {
     "name": "stderr",
     "output_type": "stream",
     "text": [
      "FINAL - INFO : # Emission found in channel 09930. Cleaning! #\n"
     ]
    },
    {
     "name": "stderr",
     "output_type": "stream",
     "text": [
      "FINAL - INFO : # Finished processing channel 09930/11007. #\n"
     ]
    },
    {
     "name": "stderr",
     "output_type": "stream",
     "text": [
      "FINAL - INFO : # Finished processing channel 09931/11007. #\n"
     ]
    },
    {
     "name": "stderr",
     "output_type": "stream",
     "text": [
      "FINAL - INFO : # Finished processing channel 09932/11007. #\n"
     ]
    },
    {
     "name": "stderr",
     "output_type": "stream",
     "text": [
      "FINAL - INFO : # Finished processing channel 09933/11007. #\n"
     ]
    },
    {
     "name": "stderr",
     "output_type": "stream",
     "text": [
      "FINAL - INFO : # Finished processing channel 09934/11007. #\n"
     ]
    },
    {
     "name": "stderr",
     "output_type": "stream",
     "text": [
      "FINAL - INFO : # Finished processing channel 09935/11007. #\n"
     ]
    },
    {
     "name": "stderr",
     "output_type": "stream",
     "text": [
      "FINAL - INFO : # Finished processing channel 09936/11007. #\n"
     ]
    },
    {
     "name": "stderr",
     "output_type": "stream",
     "text": [
      "FINAL - INFO : # Finished processing channel 09937/11007. #\n"
     ]
    },
    {
     "name": "stderr",
     "output_type": "stream",
     "text": [
      "FINAL - INFO : # Finished processing channel 09938/11007. #\n"
     ]
    },
    {
     "name": "stderr",
     "output_type": "stream",
     "text": [
      "FINAL - INFO : # Finished processing channel 09939/11007. #\n"
     ]
    },
    {
     "name": "stderr",
     "output_type": "stream",
     "text": [
      "FINAL - INFO : # Finished processing channel 09940/11007. #\n"
     ]
    },
    {
     "name": "stderr",
     "output_type": "stream",
     "text": [
      "FINAL - INFO : # Finished processing channel 09941/11007. #\n"
     ]
    },
    {
     "name": "stderr",
     "output_type": "stream",
     "text": [
      "FINAL - INFO : # Finished processing channel 09942/11007. #\n"
     ]
    },
    {
     "name": "stderr",
     "output_type": "stream",
     "text": [
      "FINAL - INFO : # Finished processing channel 09943/11007. #\n"
     ]
    },
    {
     "name": "stderr",
     "output_type": "stream",
     "text": [
      "FINAL - INFO : # Finished processing channel 09944/11007. #\n"
     ]
    },
    {
     "name": "stderr",
     "output_type": "stream",
     "text": [
      "FINAL - INFO : # Finished processing channel 09945/11007. #\n"
     ]
    },
    {
     "name": "stderr",
     "output_type": "stream",
     "text": [
      "FINAL - INFO : # Finished processing channel 09946/11007. #\n"
     ]
    },
    {
     "name": "stderr",
     "output_type": "stream",
     "text": [
      "FINAL - INFO : # Finished processing channel 09947/11007. #\n"
     ]
    },
    {
     "name": "stderr",
     "output_type": "stream",
     "text": [
      "FINAL - INFO : # Finished processing channel 09948/11007. #\n"
     ]
    },
    {
     "name": "stderr",
     "output_type": "stream",
     "text": [
      "FINAL - INFO : # Finished processing channel 09949/11007. #\n"
     ]
    },
    {
     "name": "stderr",
     "output_type": "stream",
     "text": [
      "FINAL - INFO : # Finished processing channel 09950/11007. #\n"
     ]
    },
    {
     "name": "stderr",
     "output_type": "stream",
     "text": [
      "FINAL - INFO : # Finished processing channel 09951/11007. #\n"
     ]
    },
    {
     "name": "stderr",
     "output_type": "stream",
     "text": [
      "FINAL - INFO : # Finished processing channel 09952/11007. #\n"
     ]
    },
    {
     "name": "stderr",
     "output_type": "stream",
     "text": [
      "FINAL - INFO : # Finished processing channel 09953/11007. #\n"
     ]
    },
    {
     "name": "stderr",
     "output_type": "stream",
     "text": [
      "FINAL - INFO : # Finished processing channel 09954/11007. #\n"
     ]
    },
    {
     "name": "stderr",
     "output_type": "stream",
     "text": [
      "FINAL - INFO : # Finished processing channel 09955/11007. #\n"
     ]
    },
    {
     "name": "stderr",
     "output_type": "stream",
     "text": [
      "FINAL - INFO : # Finished processing channel 09956/11007. #\n"
     ]
    },
    {
     "name": "stderr",
     "output_type": "stream",
     "text": [
      "FINAL - INFO : # Finished processing channel 09957/11007. #\n"
     ]
    },
    {
     "name": "stderr",
     "output_type": "stream",
     "text": [
      "FINAL - INFO : # Finished processing channel 09958/11007. #\n"
     ]
    },
    {
     "name": "stderr",
     "output_type": "stream",
     "text": [
      "FINAL - INFO : # Finished processing channel 09959/11007. #\n"
     ]
    },
    {
     "name": "stderr",
     "output_type": "stream",
     "text": [
      "FINAL - INFO : # Finished processing channel 09960/11007. #\n"
     ]
    },
    {
     "name": "stderr",
     "output_type": "stream",
     "text": [
      "FINAL - INFO : # Finished processing channel 09961/11007. #\n"
     ]
    },
    {
     "name": "stderr",
     "output_type": "stream",
     "text": [
      "FINAL - INFO : # Finished processing channel 09962/11007. #\n"
     ]
    },
    {
     "name": "stderr",
     "output_type": "stream",
     "text": [
      "FINAL - INFO : # Finished processing channel 09963/11007. #\n"
     ]
    },
    {
     "name": "stderr",
     "output_type": "stream",
     "text": [
      "FINAL - INFO : # Finished processing channel 09964/11007. #\n"
     ]
    },
    {
     "name": "stderr",
     "output_type": "stream",
     "text": [
      "FINAL - INFO : # Finished processing channel 09965/11007. #\n"
     ]
    },
    {
     "name": "stderr",
     "output_type": "stream",
     "text": [
      "FINAL - INFO : # Finished processing channel 09966/11007. #\n"
     ]
    },
    {
     "name": "stderr",
     "output_type": "stream",
     "text": [
      "FINAL - INFO : # Finished processing channel 09967/11007. #\n"
     ]
    },
    {
     "name": "stderr",
     "output_type": "stream",
     "text": [
      "FINAL - INFO : # Finished processing channel 09969/11007. #\n"
     ]
    },
    {
     "name": "stderr",
     "output_type": "stream",
     "text": [
      "FINAL - INFO : # Finished processing channel 09970/11007. #\n"
     ]
    },
    {
     "name": "stderr",
     "output_type": "stream",
     "text": [
      "FINAL - INFO : # Finished processing channel 09971/11007. #\n"
     ]
    },
    {
     "name": "stderr",
     "output_type": "stream",
     "text": [
      "FINAL - INFO : # Finished processing channel 09972/11007. #\n"
     ]
    },
    {
     "name": "stderr",
     "output_type": "stream",
     "text": [
      "FINAL - INFO : # Finished processing channel 09973/11007. #\n"
     ]
    },
    {
     "name": "stderr",
     "output_type": "stream",
     "text": [
      "FINAL - INFO : # Finished processing channel 09974/11007. #\n"
     ]
    },
    {
     "name": "stderr",
     "output_type": "stream",
     "text": [
      "FINAL - INFO : # Finished processing channel 09975/11007. #\n"
     ]
    },
    {
     "name": "stderr",
     "output_type": "stream",
     "text": [
      "FINAL - INFO : # Finished processing channel 09976/11007. #\n"
     ]
    },
    {
     "name": "stderr",
     "output_type": "stream",
     "text": [
      "FINAL - INFO : # Finished processing channel 09977/11007. #\n"
     ]
    },
    {
     "name": "stderr",
     "output_type": "stream",
     "text": [
      "FINAL - INFO : # Finished processing channel 09978/11007. #\n"
     ]
    },
    {
     "name": "stderr",
     "output_type": "stream",
     "text": [
      "FINAL - INFO : # Finished processing channel 09979/11007. #\n"
     ]
    },
    {
     "name": "stderr",
     "output_type": "stream",
     "text": [
      "FINAL - INFO : # Finished processing channel 09980/11007. #\n"
     ]
    },
    {
     "name": "stderr",
     "output_type": "stream",
     "text": [
      "FINAL - INFO : # Finished processing channel 09981/11007. #\n"
     ]
    },
    {
     "name": "stderr",
     "output_type": "stream",
     "text": [
      "FINAL - INFO : # Finished processing channel 09988/11007. #\n"
     ]
    },
    {
     "name": "stderr",
     "output_type": "stream",
     "text": [
      "FINAL - INFO : # Finished processing channel 09989/11007. #\n"
     ]
    },
    {
     "name": "stderr",
     "output_type": "stream",
     "text": [
      "FINAL - INFO : # Finished processing channel 09990/11007. #\n"
     ]
    },
    {
     "name": "stderr",
     "output_type": "stream",
     "text": [
      "FINAL - INFO : # Finished processing channel 09991/11007. #\n"
     ]
    },
    {
     "name": "stderr",
     "output_type": "stream",
     "text": [
      "FINAL - INFO : # Finished processing channel 09992/11007. #\n"
     ]
    },
    {
     "name": "stderr",
     "output_type": "stream",
     "text": [
      "FINAL - INFO : # Finished processing channel 09993/11007. #\n"
     ]
    },
    {
     "name": "stderr",
     "output_type": "stream",
     "text": [
      "FINAL - INFO : # Finished processing channel 09994/11007. #\n"
     ]
    },
    {
     "name": "stderr",
     "output_type": "stream",
     "text": [
      "FINAL - INFO : # Finished processing channel 09995/11007. #\n"
     ]
    },
    {
     "name": "stderr",
     "output_type": "stream",
     "text": [
      "FINAL - INFO : # Finished processing channel 09996/11007. #\n"
     ]
    },
    {
     "name": "stderr",
     "output_type": "stream",
     "text": [
      "FINAL - INFO : # Finished processing channel 09997/11007. #\n"
     ]
    },
    {
     "name": "stderr",
     "output_type": "stream",
     "text": [
      "FINAL - INFO : # Finished processing channel 09998/11007. #\n"
     ]
    },
    {
     "name": "stderr",
     "output_type": "stream",
     "text": [
      "FINAL - INFO : # Finished processing channel 09999/11007. #\n"
     ]
    },
    {
     "name": "stderr",
     "output_type": "stream",
     "text": [
      "FINAL - INFO : # Finished processing channel 10000/11007. #\n"
     ]
    },
    {
     "name": "stderr",
     "output_type": "stream",
     "text": [
      "FINAL - INFO : # Finished processing channel 10001/11007. #\n"
     ]
    },
    {
     "name": "stderr",
     "output_type": "stream",
     "text": [
      "FINAL - INFO : # Finished processing channel 10002/11007. #\n"
     ]
    },
    {
     "name": "stderr",
     "output_type": "stream",
     "text": [
      "FINAL - INFO : # Finished processing channel 10003/11007. #\n"
     ]
    },
    {
     "name": "stderr",
     "output_type": "stream",
     "text": [
      "FINAL - INFO : # Finished processing channel 10004/11007. #\n"
     ]
    },
    {
     "name": "stderr",
     "output_type": "stream",
     "text": [
      "FINAL - INFO : # Finished processing channel 10005/11007. #\n"
     ]
    },
    {
     "name": "stderr",
     "output_type": "stream",
     "text": [
      "FINAL - INFO : # Finished processing channel 10006/11007. #\n"
     ]
    },
    {
     "name": "stderr",
     "output_type": "stream",
     "text": [
      "FINAL - INFO : # Finished processing channel 10007/11007. #\n"
     ]
    },
    {
     "name": "stderr",
     "output_type": "stream",
     "text": [
      "FINAL - INFO : # Finished processing channel 10008/11007. #\n"
     ]
    },
    {
     "name": "stderr",
     "output_type": "stream",
     "text": [
      "FINAL - INFO : # Finished processing channel 10009/11007. #\n"
     ]
    },
    {
     "name": "stderr",
     "output_type": "stream",
     "text": [
      "FINAL - INFO : # Finished processing channel 10010/11007. #\n"
     ]
    },
    {
     "name": "stderr",
     "output_type": "stream",
     "text": [
      "FINAL - INFO : # Finished processing channel 10011/11007. #\n"
     ]
    },
    {
     "name": "stderr",
     "output_type": "stream",
     "text": [
      "FINAL - INFO : # Finished processing channel 10012/11007. #\n"
     ]
    },
    {
     "name": "stderr",
     "output_type": "stream",
     "text": [
      "FINAL - INFO : # Finished processing channel 10013/11007. #\n"
     ]
    },
    {
     "name": "stderr",
     "output_type": "stream",
     "text": [
      "FINAL - INFO : # Finished processing channel 10014/11007. #\n"
     ]
    },
    {
     "name": "stderr",
     "output_type": "stream",
     "text": [
      "FINAL - INFO : # Finished processing channel 10015/11007. #\n"
     ]
    },
    {
     "name": "stderr",
     "output_type": "stream",
     "text": [
      "FINAL - INFO : # Finished processing channel 10016/11007. #\n"
     ]
    },
    {
     "name": "stderr",
     "output_type": "stream",
     "text": [
      "FINAL - INFO : # Finished processing channel 10017/11007. #\n"
     ]
    },
    {
     "name": "stderr",
     "output_type": "stream",
     "text": [
      "FINAL - INFO : # Finished processing channel 10018/11007. #\n"
     ]
    },
    {
     "name": "stderr",
     "output_type": "stream",
     "text": [
      "FINAL - INFO : # Finished processing channel 10019/11007. #\n"
     ]
    },
    {
     "name": "stderr",
     "output_type": "stream",
     "text": [
      "FINAL - INFO : # Finished processing channel 10020/11007. #\n"
     ]
    },
    {
     "name": "stderr",
     "output_type": "stream",
     "text": [
      "FINAL - INFO : # Finished processing channel 10021/11007. #\n"
     ]
    },
    {
     "name": "stderr",
     "output_type": "stream",
     "text": [
      "FINAL - INFO : # Finished processing channel 10022/11007. #\n"
     ]
    },
    {
     "name": "stderr",
     "output_type": "stream",
     "text": [
      "FINAL - INFO : # Finished processing channel 10023/11007. #\n"
     ]
    },
    {
     "name": "stderr",
     "output_type": "stream",
     "text": [
      "FINAL - INFO : # Finished processing channel 10024/11007. #\n"
     ]
    },
    {
     "name": "stderr",
     "output_type": "stream",
     "text": [
      "FINAL - INFO : # Finished processing channel 10025/11007. #\n"
     ]
    },
    {
     "name": "stderr",
     "output_type": "stream",
     "text": [
      "FINAL - INFO : # Finished processing channel 10026/11007. #\n"
     ]
    },
    {
     "name": "stderr",
     "output_type": "stream",
     "text": [
      "FINAL - INFO : # Finished processing channel 10027/11007. #\n"
     ]
    },
    {
     "name": "stderr",
     "output_type": "stream",
     "text": [
      "FINAL - INFO : # Finished processing channel 10028/11007. #\n"
     ]
    },
    {
     "name": "stderr",
     "output_type": "stream",
     "text": [
      "FINAL - INFO : # Finished processing channel 10029/11007. #\n"
     ]
    },
    {
     "name": "stderr",
     "output_type": "stream",
     "text": [
      "FINAL - INFO : # Finished processing channel 10030/11007. #\n"
     ]
    },
    {
     "name": "stderr",
     "output_type": "stream",
     "text": [
      "FINAL - INFO : # Finished processing channel 10031/11007. #\n"
     ]
    },
    {
     "name": "stderr",
     "output_type": "stream",
     "text": [
      "FINAL - INFO : # Finished processing channel 10033/11007. #\n"
     ]
    },
    {
     "name": "stderr",
     "output_type": "stream",
     "text": [
      "FINAL - INFO : # Finished processing channel 10034/11007. #\n"
     ]
    },
    {
     "name": "stderr",
     "output_type": "stream",
     "text": [
      "FINAL - INFO : # Finished processing channel 10035/11007. #\n"
     ]
    },
    {
     "name": "stderr",
     "output_type": "stream",
     "text": [
      "FINAL - INFO : # Finished processing channel 10036/11007. #\n"
     ]
    },
    {
     "name": "stderr",
     "output_type": "stream",
     "text": [
      "FINAL - INFO : # Finished processing channel 10037/11007. #\n"
     ]
    },
    {
     "name": "stderr",
     "output_type": "stream",
     "text": [
      "FINAL - INFO : # Finished processing channel 10038/11007. #\n"
     ]
    },
    {
     "name": "stderr",
     "output_type": "stream",
     "text": [
      "FINAL - INFO : # Finished processing channel 10039/11007. #\n"
     ]
    },
    {
     "name": "stderr",
     "output_type": "stream",
     "text": [
      "FINAL - INFO : # Finished processing channel 10040/11007. #\n"
     ]
    },
    {
     "name": "stderr",
     "output_type": "stream",
     "text": [
      "FINAL - INFO : # Finished processing channel 10041/11007. #\n"
     ]
    },
    {
     "name": "stderr",
     "output_type": "stream",
     "text": [
      "FINAL - INFO : # Finished processing channel 10042/11007. #\n"
     ]
    },
    {
     "name": "stderr",
     "output_type": "stream",
     "text": [
      "FINAL - INFO : # Finished processing channel 10043/11007. #\n"
     ]
    },
    {
     "name": "stderr",
     "output_type": "stream",
     "text": [
      "FINAL - INFO : # Finished processing channel 10044/11007. #\n"
     ]
    },
    {
     "name": "stderr",
     "output_type": "stream",
     "text": [
      "FINAL - INFO : # Finished processing channel 10045/11007. #\n"
     ]
    },
    {
     "name": "stderr",
     "output_type": "stream",
     "text": [
      "FINAL - INFO : # Finished processing channel 10052/11007. #\n"
     ]
    },
    {
     "name": "stderr",
     "output_type": "stream",
     "text": [
      "FINAL - INFO : # Finished processing channel 10053/11007. #\n"
     ]
    },
    {
     "name": "stderr",
     "output_type": "stream",
     "text": [
      "FINAL - INFO : # Finished processing channel 10054/11007. #\n"
     ]
    },
    {
     "name": "stderr",
     "output_type": "stream",
     "text": [
      "FINAL - INFO : # Finished processing channel 10055/11007. #\n"
     ]
    },
    {
     "name": "stderr",
     "output_type": "stream",
     "text": [
      "FINAL - INFO : # Finished processing channel 10056/11007. #\n"
     ]
    },
    {
     "name": "stderr",
     "output_type": "stream",
     "text": [
      "FINAL - INFO : # Finished processing channel 10057/11007. #\n"
     ]
    },
    {
     "name": "stderr",
     "output_type": "stream",
     "text": [
      "FINAL - INFO : # Finished processing channel 10058/11007. #\n"
     ]
    },
    {
     "name": "stderr",
     "output_type": "stream",
     "text": [
      "FINAL - INFO : # Finished processing channel 10059/11007. #\n"
     ]
    },
    {
     "name": "stderr",
     "output_type": "stream",
     "text": [
      "FINAL - INFO : # Finished processing channel 10060/11007. #\n"
     ]
    },
    {
     "name": "stderr",
     "output_type": "stream",
     "text": [
      "FINAL - INFO : # Finished processing channel 10061/11007. #\n"
     ]
    },
    {
     "name": "stderr",
     "output_type": "stream",
     "text": [
      "FINAL - INFO : # Finished processing channel 10062/11007. #\n"
     ]
    },
    {
     "name": "stderr",
     "output_type": "stream",
     "text": [
      "FINAL - INFO : # Finished processing channel 10063/11007. #\n"
     ]
    },
    {
     "name": "stderr",
     "output_type": "stream",
     "text": [
      "FINAL - INFO : # Finished processing channel 10064/11007. #\n"
     ]
    },
    {
     "name": "stderr",
     "output_type": "stream",
     "text": [
      "FINAL - INFO : # Finished processing channel 10065/11007. #\n"
     ]
    },
    {
     "name": "stderr",
     "output_type": "stream",
     "text": [
      "FINAL - INFO : # Finished processing channel 10066/11007. #\n"
     ]
    },
    {
     "name": "stderr",
     "output_type": "stream",
     "text": [
      "FINAL - INFO : # Finished processing channel 10067/11007. #\n"
     ]
    },
    {
     "name": "stderr",
     "output_type": "stream",
     "text": [
      "FINAL - INFO : # Finished processing channel 10068/11007. #\n"
     ]
    },
    {
     "name": "stderr",
     "output_type": "stream",
     "text": [
      "FINAL - INFO : # Finished processing channel 10069/11007. #\n"
     ]
    },
    {
     "name": "stderr",
     "output_type": "stream",
     "text": [
      "FINAL - INFO : # Finished processing channel 10070/11007. #\n"
     ]
    },
    {
     "name": "stderr",
     "output_type": "stream",
     "text": [
      "FINAL - INFO : # Finished processing channel 10071/11007. #\n"
     ]
    },
    {
     "name": "stderr",
     "output_type": "stream",
     "text": [
      "FINAL - INFO : # Finished processing channel 10072/11007. #\n"
     ]
    },
    {
     "name": "stderr",
     "output_type": "stream",
     "text": [
      "FINAL - INFO : # Finished processing channel 10073/11007. #\n"
     ]
    },
    {
     "name": "stderr",
     "output_type": "stream",
     "text": [
      "FINAL - INFO : # Finished processing channel 10074/11007. #\n"
     ]
    },
    {
     "name": "stderr",
     "output_type": "stream",
     "text": [
      "FINAL - INFO : # Finished processing channel 10075/11007. #\n"
     ]
    },
    {
     "name": "stderr",
     "output_type": "stream",
     "text": [
      "FINAL - INFO : # Finished processing channel 10076/11007. #\n"
     ]
    },
    {
     "name": "stderr",
     "output_type": "stream",
     "text": [
      "FINAL - INFO : # Finished processing channel 10077/11007. #\n"
     ]
    },
    {
     "name": "stderr",
     "output_type": "stream",
     "text": [
      "FINAL - INFO : # Finished processing channel 10078/11007. #\n"
     ]
    },
    {
     "name": "stderr",
     "output_type": "stream",
     "text": [
      "FINAL - INFO : # Finished processing channel 10079/11007. #\n"
     ]
    },
    {
     "name": "stderr",
     "output_type": "stream",
     "text": [
      "FINAL - INFO : # Finished processing channel 10080/11007. #\n"
     ]
    },
    {
     "name": "stderr",
     "output_type": "stream",
     "text": [
      "FINAL - INFO : # Finished processing channel 10081/11007. #\n"
     ]
    },
    {
     "name": "stderr",
     "output_type": "stream",
     "text": [
      "FINAL - INFO : # Finished processing channel 10082/11007. #\n"
     ]
    },
    {
     "name": "stderr",
     "output_type": "stream",
     "text": [
      "FINAL - INFO : # Finished processing channel 10083/11007. #\n"
     ]
    },
    {
     "name": "stderr",
     "output_type": "stream",
     "text": [
      "FINAL - INFO : # Finished processing channel 10084/11007. #\n"
     ]
    },
    {
     "name": "stderr",
     "output_type": "stream",
     "text": [
      "FINAL - INFO : # Finished processing channel 10085/11007. #\n"
     ]
    },
    {
     "name": "stderr",
     "output_type": "stream",
     "text": [
      "FINAL - INFO : # Finished processing channel 10086/11007. #\n"
     ]
    },
    {
     "name": "stderr",
     "output_type": "stream",
     "text": [
      "FINAL - INFO : # Finished processing channel 10087/11007. #\n"
     ]
    },
    {
     "name": "stderr",
     "output_type": "stream",
     "text": [
      "FINAL - INFO : # Finished processing channel 10088/11007. #\n"
     ]
    },
    {
     "name": "stderr",
     "output_type": "stream",
     "text": [
      "FINAL - INFO : # Finished processing channel 10089/11007. #\n"
     ]
    },
    {
     "name": "stderr",
     "output_type": "stream",
     "text": [
      "FINAL - INFO : # Finished processing channel 10090/11007. #\n"
     ]
    },
    {
     "name": "stderr",
     "output_type": "stream",
     "text": [
      "FINAL - INFO : # Finished processing channel 10091/11007. #\n"
     ]
    },
    {
     "name": "stderr",
     "output_type": "stream",
     "text": [
      "FINAL - INFO : # Finished processing channel 10092/11007. #\n"
     ]
    },
    {
     "name": "stderr",
     "output_type": "stream",
     "text": [
      "FINAL - INFO : # Finished processing channel 10093/11007. #\n"
     ]
    },
    {
     "name": "stderr",
     "output_type": "stream",
     "text": [
      "FINAL - INFO : # Finished processing channel 10094/11007. #\n"
     ]
    },
    {
     "name": "stderr",
     "output_type": "stream",
     "text": [
      "FINAL - INFO : # Finished processing channel 10095/11007. #\n"
     ]
    },
    {
     "name": "stderr",
     "output_type": "stream",
     "text": [
      "FINAL - INFO : # Finished processing channel 10098/11007. #\n"
     ]
    },
    {
     "name": "stderr",
     "output_type": "stream",
     "text": [
      "FINAL - INFO : # Finished processing channel 10099/11007. #\n"
     ]
    },
    {
     "name": "stderr",
     "output_type": "stream",
     "text": [
      "FINAL - INFO : # Finished processing channel 10100/11007. #\n"
     ]
    },
    {
     "name": "stderr",
     "output_type": "stream",
     "text": [
      "FINAL - INFO : # Finished processing channel 10101/11007. #\n"
     ]
    },
    {
     "name": "stderr",
     "output_type": "stream",
     "text": [
      "FINAL - INFO : # Finished processing channel 10102/11007. #\n"
     ]
    },
    {
     "name": "stderr",
     "output_type": "stream",
     "text": [
      "FINAL - INFO : # Finished processing channel 10103/11007. #\n"
     ]
    },
    {
     "name": "stderr",
     "output_type": "stream",
     "text": [
      "FINAL - INFO : # Finished processing channel 10104/11007. #\n"
     ]
    },
    {
     "name": "stderr",
     "output_type": "stream",
     "text": [
      "FINAL - INFO : # Finished processing channel 10105/11007. #\n"
     ]
    },
    {
     "name": "stderr",
     "output_type": "stream",
     "text": [
      "FINAL - INFO : # Finished processing channel 10106/11007. #\n"
     ]
    },
    {
     "name": "stderr",
     "output_type": "stream",
     "text": [
      "FINAL - INFO : # Finished processing channel 10107/11007. #\n"
     ]
    },
    {
     "name": "stderr",
     "output_type": "stream",
     "text": [
      "FINAL - INFO : # Finished processing channel 10108/11007. #\n"
     ]
    },
    {
     "name": "stderr",
     "output_type": "stream",
     "text": [
      "FINAL - INFO : # Finished processing channel 10109/11007. #\n"
     ]
    },
    {
     "name": "stderr",
     "output_type": "stream",
     "text": [
      "FINAL - INFO : # Finished processing channel 10110/11007. #\n"
     ]
    },
    {
     "name": "stderr",
     "output_type": "stream",
     "text": [
      "FINAL - INFO : # Finished processing channel 10114/11007. #\n"
     ]
    },
    {
     "name": "stderr",
     "output_type": "stream",
     "text": [
      "FINAL - INFO : # Finished processing channel 10115/11007. #\n"
     ]
    },
    {
     "name": "stderr",
     "output_type": "stream",
     "text": [
      "FINAL - INFO : # Finished processing channel 10116/11007. #\n"
     ]
    },
    {
     "name": "stderr",
     "output_type": "stream",
     "text": [
      "FINAL - INFO : # Finished processing channel 10117/11007. #\n"
     ]
    },
    {
     "name": "stderr",
     "output_type": "stream",
     "text": [
      "FINAL - INFO : # Finished processing channel 10118/11007. #\n"
     ]
    },
    {
     "name": "stderr",
     "output_type": "stream",
     "text": [
      "FINAL - INFO : # Finished processing channel 10119/11007. #\n"
     ]
    },
    {
     "name": "stderr",
     "output_type": "stream",
     "text": [
      "FINAL - INFO : # Finished processing channel 10120/11007. #\n"
     ]
    },
    {
     "name": "stderr",
     "output_type": "stream",
     "text": [
      "FINAL - INFO : # Finished processing channel 10121/11007. #\n"
     ]
    },
    {
     "name": "stderr",
     "output_type": "stream",
     "text": [
      "FINAL - INFO : # Finished processing channel 10122/11007. #\n"
     ]
    },
    {
     "name": "stderr",
     "output_type": "stream",
     "text": [
      "FINAL - INFO : # Finished processing channel 10123/11007. #\n"
     ]
    },
    {
     "name": "stderr",
     "output_type": "stream",
     "text": [
      "FINAL - INFO : # Finished processing channel 10124/11007. #\n"
     ]
    },
    {
     "name": "stderr",
     "output_type": "stream",
     "text": [
      "FINAL - INFO : # Finished processing channel 10125/11007. #\n"
     ]
    },
    {
     "name": "stderr",
     "output_type": "stream",
     "text": [
      "FINAL - INFO : # Finished processing channel 10126/11007. #\n"
     ]
    },
    {
     "name": "stderr",
     "output_type": "stream",
     "text": [
      "FINAL - INFO : # Finished processing channel 10127/11007. #\n"
     ]
    },
    {
     "name": "stderr",
     "output_type": "stream",
     "text": [
      "FINAL - INFO : # Finished processing channel 10128/11007. #\n"
     ]
    },
    {
     "name": "stderr",
     "output_type": "stream",
     "text": [
      "FINAL - INFO : # Finished processing channel 10129/11007. #\n"
     ]
    },
    {
     "name": "stderr",
     "output_type": "stream",
     "text": [
      "FINAL - INFO : # Finished processing channel 10130/11007. #\n"
     ]
    },
    {
     "name": "stderr",
     "output_type": "stream",
     "text": [
      "FINAL - INFO : # Finished processing channel 10131/11007. #\n"
     ]
    },
    {
     "name": "stderr",
     "output_type": "stream",
     "text": [
      "FINAL - INFO : # Finished processing channel 10132/11007. #\n"
     ]
    },
    {
     "name": "stderr",
     "output_type": "stream",
     "text": [
      "FINAL - INFO : # Finished processing channel 10133/11007. #\n"
     ]
    },
    {
     "name": "stderr",
     "output_type": "stream",
     "text": [
      "FINAL - INFO : # Finished processing channel 10134/11007. #\n"
     ]
    },
    {
     "name": "stderr",
     "output_type": "stream",
     "text": [
      "FINAL - INFO : # Finished processing channel 10135/11007. #\n"
     ]
    },
    {
     "name": "stderr",
     "output_type": "stream",
     "text": [
      "FINAL - INFO : # Finished processing channel 10136/11007. #\n"
     ]
    },
    {
     "name": "stderr",
     "output_type": "stream",
     "text": [
      "FINAL - INFO : # Finished processing channel 10137/11007. #\n"
     ]
    },
    {
     "name": "stderr",
     "output_type": "stream",
     "text": [
      "FINAL - INFO : # Finished processing channel 10138/11007. #\n"
     ]
    },
    {
     "name": "stderr",
     "output_type": "stream",
     "text": [
      "FINAL - INFO : # Finished processing channel 10139/11007. #\n"
     ]
    },
    {
     "name": "stderr",
     "output_type": "stream",
     "text": [
      "FINAL - INFO : # Finished processing channel 10140/11007. #\n"
     ]
    },
    {
     "name": "stderr",
     "output_type": "stream",
     "text": [
      "FINAL - INFO : # Finished processing channel 10141/11007. #\n"
     ]
    },
    {
     "name": "stderr",
     "output_type": "stream",
     "text": [
      "FINAL - INFO : # Finished processing channel 10142/11007. #\n"
     ]
    },
    {
     "name": "stderr",
     "output_type": "stream",
     "text": [
      "FINAL - INFO : # Finished processing channel 10143/11007. #\n"
     ]
    },
    {
     "name": "stderr",
     "output_type": "stream",
     "text": [
      "FINAL - INFO : # Finished processing channel 10144/11007. #\n"
     ]
    },
    {
     "name": "stderr",
     "output_type": "stream",
     "text": [
      "FINAL - INFO : # Finished processing channel 10145/11007. #\n"
     ]
    },
    {
     "name": "stderr",
     "output_type": "stream",
     "text": [
      "FINAL - INFO : # Finished processing channel 10146/11007. #\n"
     ]
    },
    {
     "name": "stderr",
     "output_type": "stream",
     "text": [
      "FINAL - INFO : # Finished processing channel 10147/11007. #\n"
     ]
    },
    {
     "name": "stderr",
     "output_type": "stream",
     "text": [
      "FINAL - INFO : # Finished processing channel 10148/11007. #\n"
     ]
    },
    {
     "name": "stderr",
     "output_type": "stream",
     "text": [
      "FINAL - INFO : # Finished processing channel 10149/11007. #\n"
     ]
    },
    {
     "name": "stderr",
     "output_type": "stream",
     "text": [
      "FINAL - INFO : # Finished processing channel 10150/11007. #\n"
     ]
    },
    {
     "name": "stderr",
     "output_type": "stream",
     "text": [
      "FINAL - INFO : # Emission found in channel 10151. Cleaning! #\n"
     ]
    },
    {
     "name": "stderr",
     "output_type": "stream",
     "text": [
      "FINAL - INFO : # Finished processing channel 10151/11007. #\n"
     ]
    },
    {
     "name": "stderr",
     "output_type": "stream",
     "text": [
      "FINAL - INFO : # Finished processing channel 10152/11007. #\n"
     ]
    },
    {
     "name": "stderr",
     "output_type": "stream",
     "text": [
      "FINAL - INFO : # Finished processing channel 10153/11007. #\n"
     ]
    },
    {
     "name": "stderr",
     "output_type": "stream",
     "text": [
      "FINAL - INFO : # Finished processing channel 10154/11007. #\n"
     ]
    },
    {
     "name": "stderr",
     "output_type": "stream",
     "text": [
      "FINAL - INFO : # Finished processing channel 10155/11007. #\n"
     ]
    },
    {
     "name": "stderr",
     "output_type": "stream",
     "text": [
      "FINAL - INFO : # Finished processing channel 10156/11007. #\n"
     ]
    },
    {
     "name": "stderr",
     "output_type": "stream",
     "text": [
      "FINAL - INFO : # Finished processing channel 10157/11007. #\n"
     ]
    },
    {
     "name": "stderr",
     "output_type": "stream",
     "text": [
      "FINAL - INFO : # Finished processing channel 10158/11007. #\n"
     ]
    },
    {
     "name": "stderr",
     "output_type": "stream",
     "text": [
      "FINAL - INFO : # Finished processing channel 10159/11007. #\n"
     ]
    },
    {
     "name": "stderr",
     "output_type": "stream",
     "text": [
      "FINAL - INFO : # Finished processing channel 10161/11007. #\n"
     ]
    },
    {
     "name": "stderr",
     "output_type": "stream",
     "text": [
      "FINAL - INFO : # Finished processing channel 10162/11007. #\n"
     ]
    },
    {
     "name": "stderr",
     "output_type": "stream",
     "text": [
      "FINAL - INFO : # Finished processing channel 10163/11007. #\n"
     ]
    },
    {
     "name": "stderr",
     "output_type": "stream",
     "text": [
      "FINAL - INFO : # Finished processing channel 10164/11007. #\n"
     ]
    },
    {
     "name": "stderr",
     "output_type": "stream",
     "text": [
      "FINAL - INFO : # Finished processing channel 10165/11007. #\n"
     ]
    },
    {
     "name": "stderr",
     "output_type": "stream",
     "text": [
      "FINAL - INFO : # Finished processing channel 10166/11007. #\n"
     ]
    },
    {
     "name": "stderr",
     "output_type": "stream",
     "text": [
      "FINAL - INFO : # Finished processing channel 10167/11007. #\n"
     ]
    },
    {
     "name": "stderr",
     "output_type": "stream",
     "text": [
      "FINAL - INFO : # Finished processing channel 10168/11007. #\n"
     ]
    },
    {
     "name": "stderr",
     "output_type": "stream",
     "text": [
      "FINAL - INFO : # Finished processing channel 10169/11007. #\n"
     ]
    },
    {
     "name": "stderr",
     "output_type": "stream",
     "text": [
      "FINAL - INFO : # Finished processing channel 10170/11007. #\n"
     ]
    },
    {
     "name": "stderr",
     "output_type": "stream",
     "text": [
      "FINAL - INFO : # Finished processing channel 10171/11007. #\n"
     ]
    },
    {
     "name": "stderr",
     "output_type": "stream",
     "text": [
      "FINAL - INFO : # Finished processing channel 10172/11007. #\n"
     ]
    },
    {
     "name": "stderr",
     "output_type": "stream",
     "text": [
      "FINAL - INFO : # Finished processing channel 10173/11007. #\n"
     ]
    },
    {
     "name": "stderr",
     "output_type": "stream",
     "text": [
      "FINAL - INFO : # Finished processing channel 10174/11007. #\n"
     ]
    },
    {
     "name": "stderr",
     "output_type": "stream",
     "text": [
      "FINAL - INFO : # Finished processing channel 10178/11007. #\n"
     ]
    },
    {
     "name": "stderr",
     "output_type": "stream",
     "text": [
      "FINAL - INFO : # Finished processing channel 10179/11007. #\n"
     ]
    },
    {
     "name": "stderr",
     "output_type": "stream",
     "text": [
      "FINAL - INFO : # Finished processing channel 10180/11007. #\n"
     ]
    },
    {
     "name": "stderr",
     "output_type": "stream",
     "text": [
      "FINAL - INFO : # Finished processing channel 10181/11007. #\n"
     ]
    },
    {
     "name": "stderr",
     "output_type": "stream",
     "text": [
      "FINAL - INFO : # Finished processing channel 10182/11007. #\n"
     ]
    },
    {
     "name": "stderr",
     "output_type": "stream",
     "text": [
      "FINAL - INFO : # Finished processing channel 10183/11007. #\n"
     ]
    },
    {
     "name": "stderr",
     "output_type": "stream",
     "text": [
      "FINAL - INFO : # Finished processing channel 10184/11007. #\n"
     ]
    },
    {
     "name": "stderr",
     "output_type": "stream",
     "text": [
      "FINAL - INFO : # Finished processing channel 10185/11007. #\n"
     ]
    },
    {
     "name": "stderr",
     "output_type": "stream",
     "text": [
      "FINAL - INFO : # Emission found in channel 10186. Cleaning! #\n"
     ]
    },
    {
     "name": "stderr",
     "output_type": "stream",
     "text": [
      "FINAL - INFO : # Finished processing channel 10186/11007. #\n"
     ]
    },
    {
     "name": "stderr",
     "output_type": "stream",
     "text": [
      "FINAL - INFO : # Finished processing channel 10187/11007. #\n"
     ]
    },
    {
     "name": "stderr",
     "output_type": "stream",
     "text": [
      "FINAL - INFO : # Finished processing channel 10188/11007. #\n"
     ]
    },
    {
     "name": "stderr",
     "output_type": "stream",
     "text": [
      "FINAL - INFO : # Finished processing channel 10189/11007. #\n"
     ]
    },
    {
     "name": "stderr",
     "output_type": "stream",
     "text": [
      "FINAL - INFO : # Finished processing channel 10190/11007. #\n"
     ]
    },
    {
     "name": "stderr",
     "output_type": "stream",
     "text": [
      "FINAL - INFO : # Finished processing channel 10191/11007. #\n"
     ]
    },
    {
     "name": "stderr",
     "output_type": "stream",
     "text": [
      "FINAL - INFO : # Finished processing channel 10192/11007. #\n"
     ]
    },
    {
     "name": "stderr",
     "output_type": "stream",
     "text": [
      "FINAL - INFO : # Finished processing channel 10193/11007. #\n"
     ]
    },
    {
     "name": "stderr",
     "output_type": "stream",
     "text": [
      "FINAL - INFO : # Finished processing channel 10194/11007. #\n"
     ]
    },
    {
     "name": "stderr",
     "output_type": "stream",
     "text": [
      "FINAL - INFO : # Finished processing channel 10195/11007. #\n"
     ]
    },
    {
     "name": "stderr",
     "output_type": "stream",
     "text": [
      "FINAL - INFO : # Finished processing channel 10196/11007. #\n"
     ]
    },
    {
     "name": "stderr",
     "output_type": "stream",
     "text": [
      "FINAL - INFO : # Finished processing channel 10197/11007. #\n"
     ]
    },
    {
     "name": "stderr",
     "output_type": "stream",
     "text": [
      "FINAL - INFO : # Finished processing channel 10198/11007. #\n"
     ]
    },
    {
     "name": "stderr",
     "output_type": "stream",
     "text": [
      "FINAL - INFO : # Finished processing channel 10199/11007. #\n"
     ]
    },
    {
     "name": "stderr",
     "output_type": "stream",
     "text": [
      "FINAL - INFO : # All channels of chunk 07 imaged #\n"
     ]
    },
    {
     "name": "stderr",
     "output_type": "stream",
     "text": [
      "FINAL - INFO : # Cleaned up the directory for chunk 07 #\n"
     ]
    },
    {
     "name": "stderr",
     "output_type": "stream",
     "text": [
      "FINAL - INFO : # Combining images to line cube #\n"
     ]
    },
    {
     "name": "stderr",
     "output_type": "stream",
     "text": [
      "FINAL - INFO : # Created HI-image cube #\n"
     ]
    },
    {
     "name": "stderr",
     "output_type": "stream",
     "text": [
      "FINAL - INFO : # Created HI-beam cube #\n"
     ]
    },
    {
     "name": "stderr",
     "output_type": "stream",
     "text": [
      "FINAL - INFO : ########## FINAL IMAGING done ##########\n"
     ]
    }
   ],
   "source": [
    "final.go()"
   ]
  },
  {
   "cell_type": "code",
   "execution_count": null,
   "metadata": {},
   "outputs": [],
   "source": [
    ""
   ]
  }
 ],
 "metadata": {
  "kernelspec": {
   "display_name": "Python 2",
   "language": "python",
   "name": "python2"
  },
  "language_info": {
   "codemirror_mode": {
    "name": "ipython",
    "version": 2.0
   },
   "file_extension": ".py",
   "mimetype": "text/x-python",
   "name": "python",
   "nbconvert_exporter": "python",
   "pygments_lexer": "ipython2",
   "version": "2.7.6"
  }
 },
 "nbformat": 4,
 "nbformat_minor": 0
}