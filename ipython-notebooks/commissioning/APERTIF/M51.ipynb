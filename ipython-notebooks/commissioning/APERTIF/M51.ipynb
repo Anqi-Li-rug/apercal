{
 "cells": [
  {
   "cell_type": "code",
   "execution_count": 1,
   "metadata": {
    "collapsed": false
   },
   "outputs": [
    {
     "name": "stderr",
     "output_type": "stream",
     "text": [
      "root - INFO : Logging started!\n"
     ]
    },
    {
     "name": "stderr",
     "output_type": "stream",
     "text": [
      "root - INFO : To see the log in a bash window use the following command:\n"
     ]
    },
    {
     "name": "stderr",
     "output_type": "stream",
     "text": [
      "root - INFO : tail -n +1 -f /home/adebahr/apercal/ipython-notebooks/commissioning/APERTIF/M51.log\n"
     ]
    },
    {
     "name": "stdout",
     "output_type": "stream",
     "text": [
      "Setup logger with lib.setup_logger()\n"
     ]
    }
   ],
   "source": [
    "%config IPCompleter.greedy=True\n",
    "%matplotlib notebook\n",
    "import lib\n",
    "lib.setup_logger('info', logfile='/home/adebahr/apercal/ipython-notebooks/commissioning/APERTIF/M51.log')\n",
    "import apercal"
   ]
  },
  {
   "cell_type": "code",
   "execution_count": 2,
   "metadata": {},
   "outputs": [
    {
     "name": "stderr",
     "output_type": "stream",
     "text": [
      "PREFLAG - INFO : ### Configuration file /home/adebahr/apercal/ipython-notebooks/commissioning/APERTIF/M51.cfg successfully read! ###\n"
     ]
    }
   ],
   "source": [
    "preflag = apercal.preflag('/home/adebahr/apercal/ipython-notebooks/commissioning/APERTIF/M51.cfg')"
   ]
  },
  {
   "cell_type": "code",
   "execution_count": null,
   "metadata": {},
   "outputs": [],
   "source": [
    "preflag.go()"
   ]
  },
  {
   "cell_type": "code",
   "execution_count": null,
   "metadata": {},
   "outputs": [],
   "source": [
    "convert = apercal.convert('/home/adebahr/apercal/ipython-notebooks/commissioning/APERTIF/M51.cfg')"
   ]
  },
  {
   "cell_type": "code",
   "execution_count": null,
   "metadata": {},
   "outputs": [],
   "source": [
    "convert.go()"
   ]
  },
  {
   "cell_type": "code",
   "execution_count": null,
   "metadata": {},
   "outputs": [],
   "source": [
    "# Recompute the uv coordinates by changing the pointing centre by 0.00001s to force uvedit to recompute them\n",
    "\n",
    "import os\n",
    "\n",
    "uvedit = lib.miriad('uvedit')\n",
    "\n",
    "uvedit.vis = convert.crosscaldir + '/' + convert.fluxcal.rstrip('MS') + 'mir'\n",
    "uvedit.ra = 0.00001\n",
    "uvedit.out = convert.crosscaldir + '/' + convert.fluxcal.rstrip('.MS') + '_uvedit.mir'\n",
    "uvedit.go()\n",
    "\n",
    "uvedit.vis = convert.crosscaldir + '/' + convert.target.rstrip('MS') + 'mir'\n",
    "uvedit.ra = 0.00001\n",
    "uvedit.out = convert.crosscaldir + '/' + convert.target.rstrip('.MS') + '_uvedit.mir'\n",
    "uvedit.go()\n",
    "\n",
    "os.system('rm -rf ' + convert.crosscaldir + '/' + convert.fluxcal.rstrip('MS') + 'mir')\n",
    "os.system('rm -rf ' + convert.crosscaldir + '/' + convert.target.rstrip('MS') + 'mir')\n",
    "os.system('mv ' + convert.crosscaldir + '/' + convert.fluxcal.rstrip('.MS') + '_uvedit.mir ' + convert.crosscaldir + '/' + convert.fluxcal.rstrip('.MS') + '.mir')\n",
    "os.system('mv ' + convert.crosscaldir + '/' + convert.target.rstrip('.MS') + '_uvedit.mir ' + convert.crosscaldir + '/' + convert.target.rstrip('.MS') + '.mir')"
   ]
  },
  {
   "cell_type": "code",
   "execution_count": null,
   "metadata": {},
   "outputs": [],
   "source": [
    "# Flip the phases by using uvrot\n",
    "\n",
    "import os\n",
    "\n",
    "uvrot = lib.miriad('uvrot')\n",
    "\n",
    "uvrot.vis = convert.crosscaldir + '/' + convert.fluxcal.rstrip('.MS') + '.mir'\n",
    "uvrot.angle = 180\n",
    "uvrot.out = convert.crosscaldir + '/' + convert.fluxcal.rstrip('.MS') + '_uvrot.mir'\n",
    "uvrot.go()\n",
    "\n",
    "uvrot.vis = convert.crosscaldir + '/' + convert.target.rstrip('.MS') + '.mir'\n",
    "uvrot.angle = 180\n",
    "uvrot.out = convert.crosscaldir + '/' + convert.target.rstrip('.MS') + '_uvrot.mir'\n",
    "uvrot.go()\n",
    "\n",
    "os.system('rm -rf ' + convert.crosscaldir + '/' + convert.fluxcal.rstrip('MS') + 'mir')\n",
    "os.system('rm -rf ' + convert.crosscaldir + '/' + convert.target.rstrip('MS') + 'mir')\n",
    "os.system('mv ' + convert.crosscaldir + '/' + convert.fluxcal.rstrip('.MS') + '_uvrot.mir ' + convert.crosscaldir + '/' + convert.fluxcal.rstrip('.MS') + '.mir')\n",
    "os.system('mv ' + convert.crosscaldir + '/' + convert.target.rstrip('.MS') + '_uvrot.mir ' + convert.crosscaldir + '/' + convert.target.rstrip('.MS') + '.mir')"
   ]
  },
  {
   "cell_type": "code",
   "execution_count": null,
   "metadata": {},
   "outputs": [],
   "source": [
    "ccal = apercal.ccal('/home/adebahr/apercal/ipython-notebooks/commissioning/APERTIF/M51.cfg')"
   ]
  },
  {
   "cell_type": "code",
   "execution_count": null,
   "metadata": {},
   "outputs": [],
   "source": [
    "ccal.go()"
   ]
  },
  {
   "cell_type": "code",
   "execution_count": null,
   "metadata": {},
   "outputs": [],
   "source": [
    "scal = apercal.scal('/home/adebahr/apercal/ipython-notebooks/commissioning/APERTIF/M51.cfg')"
   ]
  },
  {
   "cell_type": "code",
   "execution_count": null,
   "metadata": {},
   "outputs": [],
   "source": [
    "scal.go()"
   ]
  },
  {
   "cell_type": "code",
   "execution_count": 2,
   "metadata": {},
   "outputs": [
    {
     "name": "stderr",
     "output_type": "stream",
     "text": [
      "FINAL - INFO : ### Configuration file /home/adebahr/apercal/ipython-notebooks/commissioning/APERTIF/M51.cfg successfully read! ###\n"
     ]
    }
   ],
   "source": [
    "final = apercal.final('/home/adebahr/apercal/ipython-notebooks/commissioning/APERTIF/M51.cfg')"
   ]
  },
  {
   "cell_type": "code",
   "execution_count": 3,
   "metadata": {},
   "outputs": [
    {
     "name": "stderr",
     "output_type": "stream",
     "text": [
      "FINAL - INFO : ########## Starting FINAL IMAGING ##########\n"
     ]
    },
    {
     "name": "stderr",
     "output_type": "stream",
     "text": [
      "FINAL - INFO : ### Starting deep continuum imaging of full dataset ###\n"
     ]
    },
    {
     "name": "stderr",
     "output_type": "stream",
     "text": [
      "FINAL - INFO : # Creating directory /data/adebahr/apertif/7070708_M51/final #\n"
     ]
    },
    {
     "name": "stderr",
     "output_type": "stream",
     "text": [
      "FINAL - INFO : # Moved to directory /data/adebahr/apertif/7070708_M51/final #\n"
     ]
    },
    {
     "name": "stderr",
     "output_type": "stream",
     "text": [
      "FINAL - INFO : # Creating directory /data/adebahr/apertif/7070708_M51/final/continuum #\n"
     ]
    },
    {
     "name": "stderr",
     "output_type": "stream",
     "text": [
      "FINAL - INFO : # Moved to directory /data/adebahr/apertif/7070708_M51/final/continuum #\n"
     ]
    },
    {
     "name": "stderr",
     "output_type": "stream",
     "text": [
      "FINAL - INFO : ### Creating individual deep images from frequency chunks ###\n"
     ]
    },
    {
     "name": "stderr",
     "output_type": "stream",
     "text": [
      "FINAL - INFO : # Creating directory /data/adebahr/apertif/7070708_M51/final/continuum/stack #\n"
     ]
    },
    {
     "name": "stderr",
     "output_type": "stream",
     "text": [
      "FINAL - INFO : # Moved to directory /data/adebahr/apertif/7070708_M51/final/continuum/stack #\n"
     ]
    },
    {
     "name": "stderr",
     "output_type": "stream",
     "text": [
      "FINAL - INFO : ### Final imaging for chunk 00 started ###\n"
     ]
    },
    {
     "name": "stderr",
     "output_type": "stream",
     "text": [
      "FINAL - INFO : # Last major self-calibration cycle seems to have been 3 #\n"
     ]
    },
    {
     "name": "stderr",
     "output_type": "stream",
     "text": [
      "FINAL - INFO : # Creating directory /data/adebahr/apertif/7070708_M51/final/continuum/stack/00 #\n"
     ]
    },
    {
     "name": "stderr",
     "output_type": "stream",
     "text": [
      "FINAL - INFO : # Moved to directory /data/adebahr/apertif/7070708_M51/final/continuum/stack/00 #\n"
     ]
    },
    {
     "name": "stderr",
     "output_type": "stream",
     "text": [
      "FINAL - INFO : # Theoretical noise for chunk 00 is 6.85e-05 Jy/beam #\n"
     ]
    },
    {
     "name": "stderr",
     "output_type": "stream",
     "text": [
      "FINAL - INFO : # Your theoretical noise threshold will be 25 times the theoretical noise corresponding to 0.0017125 Jy/beam #\n"
     ]
    },
    {
     "name": "stderr",
     "output_type": "stream",
     "text": [
      "FINAL - INFO : # Dynamic range limits for the final minor iterations to clean are [400.0, 600.0, 800.0] #\n"
     ]
    },
    {
     "name": "stderr",
     "output_type": "stream",
     "text": [
      "FINAL - INFO : # Mask threshold for final minor cycle 0 set to 0.0017125 Jy/beam #\n"
     ]
    },
    {
     "name": "stderr",
     "output_type": "stream",
     "text": [
      "FINAL - INFO : # Mask threshold set by Theoretical noise threshold #\n"
     ]
    },
    {
     "name": "stderr",
     "output_type": "stream",
     "text": [
      "FINAL - INFO : # Mask from last selfcal cycle copied and regridded to common grid #\n"
     ]
    },
    {
     "name": "stderr",
     "output_type": "stream",
     "text": [
      "FINAL - INFO : # Clean threshold for minor cycle 0 was set to 0.0003425 Jy/beam #\n"
     ]
    },
    {
     "name": "stderr",
     "output_type": "stream",
     "text": [
      "FINAL - INFO : # Minor cycle 0 cleaning done #\n"
     ]
    },
    {
     "name": "stderr",
     "output_type": "stream",
     "text": [
      "FINAL - INFO : # Cleaned image for minor cycle 0 created #\n"
     ]
    },
    {
     "name": "stderr",
     "output_type": "stream",
     "text": [
      "FINAL - INFO : # Residual image for minor cycle 0 created #\n"
     ]
    },
    {
     "name": "stderr",
     "output_type": "stream",
     "text": [
      "FINAL - INFO : # Peak of the residual image is 0.00333484 Jy/beam #\n"
     ]
    },
    {
     "name": "stderr",
     "output_type": "stream",
     "text": [
      "FINAL - INFO : # RMS of the residual image is 0.000789078 Jy/beam #\n"
     ]
    },
    {
     "name": "stderr",
     "output_type": "stream",
     "text": [
      "FINAL - INFO : # Mask threshold for final imaging minor cycle 1 set to 0.0017125 Jy/beam #\n"
     ]
    },
    {
     "name": "stderr",
     "output_type": "stream",
     "text": [
      "FINAL - INFO : # Mask threshold set by Theoretical noise threshold #\n"
     ]
    },
    {
     "name": "stderr",
     "output_type": "stream",
     "text": [
      "FINAL - INFO : # Mask with threshold 0.0017125 Jy/beam created #\n"
     ]
    },
    {
     "name": "stderr",
     "output_type": "stream",
     "text": [
      "FINAL - INFO : # Clean threshold for minor cycle 1 was set to 0.0003425 Jy/beam #\n"
     ]
    },
    {
     "name": "stderr",
     "output_type": "stream",
     "text": [
      "FINAL - INFO : # Minor cycle 1 cleaning done #\n"
     ]
    },
    {
     "name": "stderr",
     "output_type": "stream",
     "text": [
      "FINAL - INFO : # Cleaned image for minor cycle 1 created #\n"
     ]
    },
    {
     "name": "stderr",
     "output_type": "stream",
     "text": [
      "FINAL - INFO : # Residual image for minor cycle 1 created #\n"
     ]
    },
    {
     "name": "stderr",
     "output_type": "stream",
     "text": [
      "FINAL - INFO : # Peak of the residual image is 0.00196615 Jy/beam #\n"
     ]
    },
    {
     "name": "stderr",
     "output_type": "stream",
     "text": [
      "FINAL - INFO : # RMS of the residual image is 0.000385939 Jy/beam #\n"
     ]
    },
    {
     "name": "stderr",
     "output_type": "stream",
     "text": [
      "FINAL - INFO : # Mask threshold for final imaging minor cycle 2 set to 0.0017125 Jy/beam #\n"
     ]
    },
    {
     "name": "stderr",
     "output_type": "stream",
     "text": [
      "FINAL - INFO : # Mask threshold set by Theoretical noise threshold #\n"
     ]
    },
    {
     "name": "stderr",
     "output_type": "stream",
     "text": [
      "FINAL - INFO : # Mask with threshold 0.0017125 Jy/beam created #\n"
     ]
    },
    {
     "name": "stderr",
     "output_type": "stream",
     "text": [
      "FINAL - INFO : # Clean threshold for minor cycle 2 was set to 0.0003425 Jy/beam #\n"
     ]
    },
    {
     "name": "stderr",
     "output_type": "stream",
     "text": [
      "FINAL - INFO : # Minor cycle 2 cleaning done #\n"
     ]
    },
    {
     "name": "stderr",
     "output_type": "stream",
     "text": [
      "FINAL - INFO : # Cleaned image for minor cycle 2 created #\n"
     ]
    },
    {
     "name": "stderr",
     "output_type": "stream",
     "text": [
      "FINAL - INFO : # Residual image for minor cycle 2 created #\n"
     ]
    },
    {
     "name": "stderr",
     "output_type": "stream",
     "text": [
      "FINAL - INFO : # Peak of the residual image is 0.00302208 Jy/beam #\n"
     ]
    },
    {
     "name": "stderr",
     "output_type": "stream",
     "text": [
      "FINAL - INFO : # RMS of the residual image is 0.00072066 Jy/beam #\n"
     ]
    },
    {
     "name": "stderr",
     "output_type": "stream",
     "text": [
      "FINAL - INFO : ### Final imaging for chunk 00 successful ###\n"
     ]
    },
    {
     "name": "stderr",
     "output_type": "stream",
     "text": [
      "FINAL - INFO : ### Final imaging for chunk 01 started ###\n"
     ]
    },
    {
     "name": "stderr",
     "output_type": "stream",
     "text": [
      "FINAL - INFO : # Last major self-calibration cycle seems to have been 3 #\n"
     ]
    },
    {
     "name": "stderr",
     "output_type": "stream",
     "text": [
      "FINAL - INFO : # Creating directory /data/adebahr/apertif/7070708_M51/final/continuum/stack/01 #\n"
     ]
    },
    {
     "name": "stderr",
     "output_type": "stream",
     "text": [
      "FINAL - INFO : # Moved to directory /data/adebahr/apertif/7070708_M51/final/continuum/stack/01 #\n"
     ]
    },
    {
     "name": "stderr",
     "output_type": "stream",
     "text": [
      "FINAL - INFO : # Theoretical noise for chunk 01 is 6.85e-05 Jy/beam #\n"
     ]
    },
    {
     "name": "stderr",
     "output_type": "stream",
     "text": [
      "FINAL - INFO : # Your theoretical noise threshold will be 25 times the theoretical noise corresponding to 0.0017125 Jy/beam #\n"
     ]
    },
    {
     "name": "stderr",
     "output_type": "stream",
     "text": [
      "FINAL - INFO : # Dynamic range limits for the final minor iterations to clean are [400.0, 600.0, 800.0] #\n"
     ]
    },
    {
     "name": "stderr",
     "output_type": "stream",
     "text": [
      "FINAL - INFO : # Mask threshold for final minor cycle 0 set to 0.0017125 Jy/beam #\n"
     ]
    },
    {
     "name": "stderr",
     "output_type": "stream",
     "text": [
      "FINAL - INFO : # Mask threshold set by Theoretical noise threshold #\n"
     ]
    },
    {
     "name": "stderr",
     "output_type": "stream",
     "text": [
      "FINAL - INFO : # Mask from last selfcal cycle copied and regridded to common grid #\n"
     ]
    },
    {
     "name": "stderr",
     "output_type": "stream",
     "text": [
      "FINAL - INFO : # Clean threshold for minor cycle 0 was set to 0.0003425 Jy/beam #\n"
     ]
    },
    {
     "name": "stderr",
     "output_type": "stream",
     "text": [
      "FINAL - INFO : # Minor cycle 0 cleaning done #\n"
     ]
    },
    {
     "name": "stderr",
     "output_type": "stream",
     "text": [
      "FINAL - INFO : # Cleaned image for minor cycle 0 created #\n"
     ]
    },
    {
     "name": "stderr",
     "output_type": "stream",
     "text": [
      "FINAL - INFO : # Residual image for minor cycle 0 created #\n"
     ]
    },
    {
     "name": "stderr",
     "output_type": "stream",
     "text": [
      "FINAL - INFO : # Peak of the residual image is 0.00324911 Jy/beam #\n"
     ]
    },
    {
     "name": "stderr",
     "output_type": "stream",
     "text": [
      "FINAL - INFO : # RMS of the residual image is 0.000735147 Jy/beam #\n"
     ]
    },
    {
     "name": "stderr",
     "output_type": "stream",
     "text": [
      "FINAL - INFO : # Mask threshold for final imaging minor cycle 1 set to 0.0017125 Jy/beam #\n"
     ]
    },
    {
     "name": "stderr",
     "output_type": "stream",
     "text": [
      "FINAL - INFO : # Mask threshold set by Theoretical noise threshold #\n"
     ]
    },
    {
     "name": "stderr",
     "output_type": "stream",
     "text": [
      "FINAL - INFO : # Mask with threshold 0.0017125 Jy/beam created #\n"
     ]
    },
    {
     "name": "stderr",
     "output_type": "stream",
     "text": [
      "FINAL - INFO : # Clean threshold for minor cycle 1 was set to 0.0003425 Jy/beam #\n"
     ]
    },
    {
     "name": "stderr",
     "output_type": "stream",
     "text": [
      "FINAL - INFO : # Minor cycle 1 cleaning done #\n"
     ]
    },
    {
     "name": "stderr",
     "output_type": "stream",
     "text": [
      "FINAL - INFO : # Cleaned image for minor cycle 1 created #\n"
     ]
    },
    {
     "name": "stderr",
     "output_type": "stream",
     "text": [
      "FINAL - INFO : # Residual image for minor cycle 1 created #\n"
     ]
    },
    {
     "name": "stderr",
     "output_type": "stream",
     "text": [
      "FINAL - INFO : # Peak of the residual image is 0.00205612 Jy/beam #\n"
     ]
    },
    {
     "name": "stderr",
     "output_type": "stream",
     "text": [
      "FINAL - INFO : # RMS of the residual image is 0.000419786 Jy/beam #\n"
     ]
    },
    {
     "name": "stderr",
     "output_type": "stream",
     "text": [
      "FINAL - INFO : # Mask threshold for final imaging minor cycle 2 set to 0.0017125 Jy/beam #\n"
     ]
    },
    {
     "name": "stderr",
     "output_type": "stream",
     "text": [
      "FINAL - INFO : # Mask threshold set by Theoretical noise threshold #\n"
     ]
    },
    {
     "name": "stderr",
     "output_type": "stream",
     "text": [
      "FINAL - INFO : # Mask with threshold 0.0017125 Jy/beam created #\n"
     ]
    },
    {
     "name": "stderr",
     "output_type": "stream",
     "text": [
      "FINAL - INFO : # Clean threshold for minor cycle 2 was set to 0.0003425 Jy/beam #\n"
     ]
    },
    {
     "name": "stderr",
     "output_type": "stream",
     "text": [
      "FINAL - INFO : # Minor cycle 2 cleaning done #\n"
     ]
    },
    {
     "name": "stderr",
     "output_type": "stream",
     "text": [
      "FINAL - INFO : # Cleaned image for minor cycle 2 created #\n"
     ]
    },
    {
     "name": "stderr",
     "output_type": "stream",
     "text": [
      "FINAL - INFO : # Residual image for minor cycle 2 created #\n"
     ]
    },
    {
     "name": "stderr",
     "output_type": "stream",
     "text": [
      "FINAL - INFO : # Peak of the residual image is 0.00316597 Jy/beam #\n"
     ]
    },
    {
     "name": "stderr",
     "output_type": "stream",
     "text": [
      "FINAL - INFO : # RMS of the residual image is 0.00068395 Jy/beam #\n"
     ]
    },
    {
     "name": "stderr",
     "output_type": "stream",
     "text": [
      "FINAL - INFO : ### Final imaging for chunk 01 successful ###\n"
     ]
    },
    {
     "name": "stderr",
     "output_type": "stream",
     "text": [
      "FINAL - INFO : ### Final imaging for chunk 02 started ###\n"
     ]
    },
    {
     "name": "stderr",
     "output_type": "stream",
     "text": [
      "FINAL - INFO : # Last major self-calibration cycle seems to have been 3 #\n"
     ]
    },
    {
     "name": "stderr",
     "output_type": "stream",
     "text": [
      "FINAL - INFO : # Creating directory /data/adebahr/apertif/7070708_M51/final/continuum/stack/02 #\n"
     ]
    },
    {
     "name": "stderr",
     "output_type": "stream",
     "text": [
      "FINAL - INFO : # Moved to directory /data/adebahr/apertif/7070708_M51/final/continuum/stack/02 #\n"
     ]
    },
    {
     "name": "stderr",
     "output_type": "stream",
     "text": [
      "FINAL - INFO : # Theoretical noise for chunk 02 is 6.85e-05 Jy/beam #\n"
     ]
    },
    {
     "name": "stderr",
     "output_type": "stream",
     "text": [
      "FINAL - INFO : # Your theoretical noise threshold will be 25 times the theoretical noise corresponding to 0.0017125 Jy/beam #\n"
     ]
    },
    {
     "name": "stderr",
     "output_type": "stream",
     "text": [
      "FINAL - INFO : # Dynamic range limits for the final minor iterations to clean are [400.0, 600.0, 800.0] #\n"
     ]
    },
    {
     "name": "stderr",
     "output_type": "stream",
     "text": [
      "FINAL - INFO : # Mask threshold for final minor cycle 0 set to 0.0017125 Jy/beam #\n"
     ]
    },
    {
     "name": "stderr",
     "output_type": "stream",
     "text": [
      "FINAL - INFO : # Mask threshold set by Theoretical noise threshold #\n"
     ]
    },
    {
     "name": "stderr",
     "output_type": "stream",
     "text": [
      "FINAL - INFO : # Mask from last selfcal cycle copied and regridded to common grid #\n"
     ]
    },
    {
     "name": "stderr",
     "output_type": "stream",
     "text": [
      "FINAL - INFO : # Clean threshold for minor cycle 0 was set to 0.0003425 Jy/beam #\n"
     ]
    },
    {
     "name": "stderr",
     "output_type": "stream",
     "text": [
      "FINAL - INFO : # Minor cycle 0 cleaning done #\n"
     ]
    },
    {
     "name": "stderr",
     "output_type": "stream",
     "text": [
      "FINAL - INFO : # Cleaned image for minor cycle 0 created #\n"
     ]
    },
    {
     "name": "stderr",
     "output_type": "stream",
     "text": [
      "FINAL - INFO : # Residual image for minor cycle 0 created #\n"
     ]
    },
    {
     "name": "stderr",
     "output_type": "stream",
     "text": [
      "FINAL - INFO : # Peak of the residual image is 0.00313707 Jy/beam #\n"
     ]
    },
    {
     "name": "stderr",
     "output_type": "stream",
     "text": [
      "FINAL - INFO : # RMS of the residual image is 0.000709355 Jy/beam #\n"
     ]
    },
    {
     "name": "stderr",
     "output_type": "stream",
     "text": [
      "FINAL - INFO : # Mask threshold for final imaging minor cycle 1 set to 0.0017125 Jy/beam #\n"
     ]
    },
    {
     "name": "stderr",
     "output_type": "stream",
     "text": [
      "FINAL - INFO : # Mask threshold set by Theoretical noise threshold #\n"
     ]
    },
    {
     "name": "stderr",
     "output_type": "stream",
     "text": [
      "FINAL - INFO : # Mask with threshold 0.0017125 Jy/beam created #\n"
     ]
    },
    {
     "name": "stderr",
     "output_type": "stream",
     "text": [
      "FINAL - INFO : # Clean threshold for minor cycle 1 was set to 0.0003425 Jy/beam #\n"
     ]
    },
    {
     "name": "stderr",
     "output_type": "stream",
     "text": [
      "FINAL - INFO : # Minor cycle 1 cleaning done #\n"
     ]
    },
    {
     "name": "stderr",
     "output_type": "stream",
     "text": [
      "FINAL - INFO : # Cleaned image for minor cycle 1 created #\n"
     ]
    },
    {
     "name": "stderr",
     "output_type": "stream",
     "text": [
      "FINAL - INFO : # Residual image for minor cycle 1 created #\n"
     ]
    },
    {
     "name": "stderr",
     "output_type": "stream",
     "text": [
      "FINAL - INFO : # Peak of the residual image is 0.00179442 Jy/beam #\n"
     ]
    },
    {
     "name": "stderr",
     "output_type": "stream",
     "text": [
      "FINAL - INFO : # RMS of the residual image is 0.000410487 Jy/beam #\n"
     ]
    },
    {
     "name": "stderr",
     "output_type": "stream",
     "text": [
      "FINAL - INFO : # Mask threshold for final imaging minor cycle 2 set to 0.0017125 Jy/beam #\n"
     ]
    },
    {
     "name": "stderr",
     "output_type": "stream",
     "text": [
      "FINAL - INFO : # Mask threshold set by Theoretical noise threshold #\n"
     ]
    },
    {
     "name": "stderr",
     "output_type": "stream",
     "text": [
      "FINAL - INFO : # Mask with threshold 0.0017125 Jy/beam created #\n"
     ]
    },
    {
     "name": "stderr",
     "output_type": "stream",
     "text": [
      "FINAL - INFO : # Clean threshold for minor cycle 2 was set to 0.0003425 Jy/beam #\n"
     ]
    },
    {
     "name": "stderr",
     "output_type": "stream",
     "text": [
      "FINAL - INFO : # Minor cycle 2 cleaning done #\n"
     ]
    },
    {
     "name": "stderr",
     "output_type": "stream",
     "text": [
      "FINAL - INFO : # Cleaned image for minor cycle 2 created #\n"
     ]
    },
    {
     "name": "stderr",
     "output_type": "stream",
     "text": [
      "FINAL - INFO : # Residual image for minor cycle 2 created #\n"
     ]
    },
    {
     "name": "stderr",
     "output_type": "stream",
     "text": [
      "FINAL - INFO : # Peak of the residual image is 0.00347622 Jy/beam #\n"
     ]
    },
    {
     "name": "stderr",
     "output_type": "stream",
     "text": [
      "FINAL - INFO : # RMS of the residual image is 0.000665663 Jy/beam #\n"
     ]
    },
    {
     "name": "stderr",
     "output_type": "stream",
     "text": [
      "FINAL - INFO : ### Final imaging for chunk 02 successful ###\n"
     ]
    },
    {
     "name": "stderr",
     "output_type": "stream",
     "text": [
      "FINAL - INFO : ### Final imaging for chunk 03 started ###\n"
     ]
    },
    {
     "name": "stderr",
     "output_type": "stream",
     "text": [
      "FINAL - INFO : # Last major self-calibration cycle seems to have been 3 #\n"
     ]
    },
    {
     "name": "stderr",
     "output_type": "stream",
     "text": [
      "FINAL - INFO : # Creating directory /data/adebahr/apertif/7070708_M51/final/continuum/stack/03 #\n"
     ]
    },
    {
     "name": "stderr",
     "output_type": "stream",
     "text": [
      "FINAL - INFO : # Moved to directory /data/adebahr/apertif/7070708_M51/final/continuum/stack/03 #\n"
     ]
    },
    {
     "name": "stderr",
     "output_type": "stream",
     "text": [
      "FINAL - INFO : # Theoretical noise for chunk 03 is 6.85e-05 Jy/beam #\n"
     ]
    },
    {
     "name": "stderr",
     "output_type": "stream",
     "text": [
      "FINAL - INFO : # Your theoretical noise threshold will be 25 times the theoretical noise corresponding to 0.0017125 Jy/beam #\n"
     ]
    },
    {
     "name": "stderr",
     "output_type": "stream",
     "text": [
      "FINAL - INFO : # Dynamic range limits for the final minor iterations to clean are [400.0, 600.0, 800.0] #\n"
     ]
    },
    {
     "name": "stderr",
     "output_type": "stream",
     "text": [
      "FINAL - INFO : # Mask threshold for final minor cycle 0 set to 0.0017125 Jy/beam #\n"
     ]
    },
    {
     "name": "stderr",
     "output_type": "stream",
     "text": [
      "FINAL - INFO : # Mask threshold set by Theoretical noise threshold #\n"
     ]
    },
    {
     "name": "stderr",
     "output_type": "stream",
     "text": [
      "FINAL - INFO : # Mask from last selfcal cycle copied and regridded to common grid #\n"
     ]
    },
    {
     "name": "stderr",
     "output_type": "stream",
     "text": [
      "FINAL - INFO : # Clean threshold for minor cycle 0 was set to 0.0003425 Jy/beam #\n"
     ]
    },
    {
     "name": "stderr",
     "output_type": "stream",
     "text": [
      "FINAL - INFO : # Minor cycle 0 cleaning done #\n"
     ]
    },
    {
     "name": "stderr",
     "output_type": "stream",
     "text": [
      "FINAL - INFO : # Cleaned image for minor cycle 0 created #\n"
     ]
    },
    {
     "name": "stderr",
     "output_type": "stream",
     "text": [
      "FINAL - INFO : # Residual image for minor cycle 0 created #\n"
     ]
    },
    {
     "name": "stderr",
     "output_type": "stream",
     "text": [
      "FINAL - INFO : # Peak of the residual image is 0.00346235 Jy/beam #\n"
     ]
    },
    {
     "name": "stderr",
     "output_type": "stream",
     "text": [
      "FINAL - INFO : # RMS of the residual image is 0.000623073 Jy/beam #\n"
     ]
    },
    {
     "name": "stderr",
     "output_type": "stream",
     "text": [
      "FINAL - INFO : # Mask threshold for final imaging minor cycle 1 set to 0.0017125 Jy/beam #\n"
     ]
    },
    {
     "name": "stderr",
     "output_type": "stream",
     "text": [
      "FINAL - INFO : # Mask threshold set by Theoretical noise threshold #\n"
     ]
    },
    {
     "name": "stderr",
     "output_type": "stream",
     "text": [
      "FINAL - INFO : # Mask with threshold 0.0017125 Jy/beam created #\n"
     ]
    },
    {
     "name": "stderr",
     "output_type": "stream",
     "text": [
      "FINAL - INFO : # Clean threshold for minor cycle 1 was set to 0.0003425 Jy/beam #\n"
     ]
    },
    {
     "name": "stderr",
     "output_type": "stream",
     "text": [
      "FINAL - INFO : # Minor cycle 1 cleaning done #\n"
     ]
    },
    {
     "name": "stderr",
     "output_type": "stream",
     "text": [
      "FINAL - INFO : # Cleaned image for minor cycle 1 created #\n"
     ]
    },
    {
     "name": "stderr",
     "output_type": "stream",
     "text": [
      "FINAL - INFO : # Residual image for minor cycle 1 created #\n"
     ]
    },
    {
     "name": "stderr",
     "output_type": "stream",
     "text": [
      "FINAL - INFO : # Peak of the residual image is 0.00188779 Jy/beam #\n"
     ]
    },
    {
     "name": "stderr",
     "output_type": "stream",
     "text": [
      "FINAL - INFO : # RMS of the residual image is 0.000451461 Jy/beam #\n"
     ]
    },
    {
     "name": "stderr",
     "output_type": "stream",
     "text": [
      "FINAL - INFO : # Mask threshold for final imaging minor cycle 2 set to 0.0017125 Jy/beam #\n"
     ]
    },
    {
     "name": "stderr",
     "output_type": "stream",
     "text": [
      "FINAL - INFO : # Mask threshold set by Theoretical noise threshold #\n"
     ]
    },
    {
     "name": "stderr",
     "output_type": "stream",
     "text": [
      "FINAL - INFO : # Mask with threshold 0.0017125 Jy/beam created #\n"
     ]
    },
    {
     "name": "stderr",
     "output_type": "stream",
     "text": [
      "FINAL - INFO : # Clean threshold for minor cycle 2 was set to 0.0003425 Jy/beam #\n"
     ]
    },
    {
     "name": "stderr",
     "output_type": "stream",
     "text": [
      "FINAL - INFO : # Minor cycle 2 cleaning done #\n"
     ]
    },
    {
     "name": "stderr",
     "output_type": "stream",
     "text": [
      "FINAL - INFO : # Cleaned image for minor cycle 2 created #\n"
     ]
    },
    {
     "name": "stderr",
     "output_type": "stream",
     "text": [
      "FINAL - INFO : # Residual image for minor cycle 2 created #\n"
     ]
    },
    {
     "name": "stderr",
     "output_type": "stream",
     "text": [
      "FINAL - INFO : # Peak of the residual image is 0.00259107 Jy/beam #\n"
     ]
    },
    {
     "name": "stderr",
     "output_type": "stream",
     "text": [
      "FINAL - INFO : # RMS of the residual image is 0.000575335 Jy/beam #\n"
     ]
    },
    {
     "name": "stderr",
     "output_type": "stream",
     "text": [
      "FINAL - INFO : ### Final imaging for chunk 03 successful ###\n"
     ]
    },
    {
     "name": "stderr",
     "output_type": "stream",
     "text": [
      "FINAL - INFO : ### Final imaging for chunk 04 started ###\n"
     ]
    },
    {
     "name": "stderr",
     "output_type": "stream",
     "text": [
      "FINAL - INFO : # Last major self-calibration cycle seems to have been 3 #\n"
     ]
    },
    {
     "name": "stderr",
     "output_type": "stream",
     "text": [
      "FINAL - INFO : # Creating directory /data/adebahr/apertif/7070708_M51/final/continuum/stack/04 #\n"
     ]
    },
    {
     "name": "stderr",
     "output_type": "stream",
     "text": [
      "FINAL - INFO : # Moved to directory /data/adebahr/apertif/7070708_M51/final/continuum/stack/04 #\n"
     ]
    },
    {
     "name": "stderr",
     "output_type": "stream",
     "text": [
      "FINAL - INFO : # Theoretical noise for chunk 04 is 6.85e-05 Jy/beam #\n"
     ]
    },
    {
     "name": "stderr",
     "output_type": "stream",
     "text": [
      "FINAL - INFO : # Your theoretical noise threshold will be 25 times the theoretical noise corresponding to 0.0017125 Jy/beam #\n"
     ]
    },
    {
     "name": "stderr",
     "output_type": "stream",
     "text": [
      "FINAL - INFO : # Dynamic range limits for the final minor iterations to clean are [400.0, 600.0, 800.0] #\n"
     ]
    },
    {
     "name": "stderr",
     "output_type": "stream",
     "text": [
      "FINAL - INFO : # Mask threshold for final minor cycle 0 set to 0.0017125 Jy/beam #\n"
     ]
    },
    {
     "name": "stderr",
     "output_type": "stream",
     "text": [
      "FINAL - INFO : # Mask threshold set by Theoretical noise threshold #\n"
     ]
    },
    {
     "name": "stderr",
     "output_type": "stream",
     "text": [
      "FINAL - INFO : # Mask from last selfcal cycle copied and regridded to common grid #\n"
     ]
    },
    {
     "name": "stderr",
     "output_type": "stream",
     "text": [
      "FINAL - INFO : # Clean threshold for minor cycle 0 was set to 0.0003425 Jy/beam #\n"
     ]
    },
    {
     "name": "stderr",
     "output_type": "stream",
     "text": [
      "FINAL - INFO : # Minor cycle 0 cleaning done #\n"
     ]
    },
    {
     "name": "stderr",
     "output_type": "stream",
     "text": [
      "FINAL - INFO : # Cleaned image for minor cycle 0 created #\n"
     ]
    },
    {
     "name": "stderr",
     "output_type": "stream",
     "text": [
      "FINAL - INFO : # Residual image for minor cycle 0 created #\n"
     ]
    },
    {
     "name": "stderr",
     "output_type": "stream",
     "text": [
      "FINAL - INFO : # Peak of the residual image is 0.00341892 Jy/beam #\n"
     ]
    },
    {
     "name": "stderr",
     "output_type": "stream",
     "text": [
      "FINAL - INFO : # RMS of the residual image is 0.00061652 Jy/beam #\n"
     ]
    },
    {
     "name": "stderr",
     "output_type": "stream",
     "text": [
      "FINAL - INFO : # Mask threshold for final imaging minor cycle 1 set to 0.0017125 Jy/beam #\n"
     ]
    },
    {
     "name": "stderr",
     "output_type": "stream",
     "text": [
      "FINAL - INFO : # Mask threshold set by Theoretical noise threshold #\n"
     ]
    },
    {
     "name": "stderr",
     "output_type": "stream",
     "text": [
      "FINAL - INFO : # Mask with threshold 0.0017125 Jy/beam created #\n"
     ]
    },
    {
     "name": "stderr",
     "output_type": "stream",
     "text": [
      "FINAL - INFO : # Clean threshold for minor cycle 1 was set to 0.0003425 Jy/beam #\n"
     ]
    },
    {
     "name": "stderr",
     "output_type": "stream",
     "text": [
      "FINAL - INFO : # Minor cycle 1 cleaning done #\n"
     ]
    },
    {
     "name": "stderr",
     "output_type": "stream",
     "text": [
      "FINAL - INFO : # Cleaned image for minor cycle 1 created #\n"
     ]
    },
    {
     "name": "stderr",
     "output_type": "stream",
     "text": [
      "FINAL - INFO : # Residual image for minor cycle 1 created #\n"
     ]
    },
    {
     "name": "stderr",
     "output_type": "stream",
     "text": [
      "FINAL - INFO : # Peak of the residual image is 0.00186068 Jy/beam #\n"
     ]
    },
    {
     "name": "stderr",
     "output_type": "stream",
     "text": [
      "FINAL - INFO : # RMS of the residual image is 0.000427256 Jy/beam #\n"
     ]
    },
    {
     "name": "stderr",
     "output_type": "stream",
     "text": [
      "FINAL - INFO : # Mask threshold for final imaging minor cycle 2 set to 0.0017125 Jy/beam #\n"
     ]
    },
    {
     "name": "stderr",
     "output_type": "stream",
     "text": [
      "FINAL - INFO : # Mask threshold set by Theoretical noise threshold #\n"
     ]
    },
    {
     "name": "stderr",
     "output_type": "stream",
     "text": [
      "FINAL - INFO : # Mask with threshold 0.0017125 Jy/beam created #\n"
     ]
    },
    {
     "name": "stderr",
     "output_type": "stream",
     "text": [
      "FINAL - INFO : # Clean threshold for minor cycle 2 was set to 0.0003425 Jy/beam #\n"
     ]
    },
    {
     "name": "stderr",
     "output_type": "stream",
     "text": [
      "FINAL - INFO : # Minor cycle 2 cleaning done #\n"
     ]
    },
    {
     "name": "stderr",
     "output_type": "stream",
     "text": [
      "FINAL - INFO : # Cleaned image for minor cycle 2 created #\n"
     ]
    },
    {
     "name": "stderr",
     "output_type": "stream",
     "text": [
      "FINAL - INFO : # Residual image for minor cycle 2 created #\n"
     ]
    },
    {
     "name": "stderr",
     "output_type": "stream",
     "text": [
      "FINAL - INFO : # Peak of the residual image is 0.00247928 Jy/beam #\n"
     ]
    },
    {
     "name": "stderr",
     "output_type": "stream",
     "text": [
      "FINAL - INFO : # RMS of the residual image is 0.000571625 Jy/beam #\n"
     ]
    },
    {
     "name": "stderr",
     "output_type": "stream",
     "text": [
      "FINAL - INFO : ### Final imaging for chunk 04 successful ###\n"
     ]
    },
    {
     "name": "stderr",
     "output_type": "stream",
     "text": [
      "FINAL - INFO : ### Final imaging for chunk 05 started ###\n"
     ]
    },
    {
     "name": "stderr",
     "output_type": "stream",
     "text": [
      "FINAL - INFO : # Last major self-calibration cycle seems to have been 3 #\n"
     ]
    },
    {
     "name": "stderr",
     "output_type": "stream",
     "text": [
      "FINAL - INFO : # Creating directory /data/adebahr/apertif/7070708_M51/final/continuum/stack/05 #\n"
     ]
    },
    {
     "name": "stderr",
     "output_type": "stream",
     "text": [
      "FINAL - INFO : # Moved to directory /data/adebahr/apertif/7070708_M51/final/continuum/stack/05 #\n"
     ]
    },
    {
     "name": "stderr",
     "output_type": "stream",
     "text": [
      "FINAL - INFO : # Theoretical noise for chunk 05 is 6.85e-05 Jy/beam #\n"
     ]
    },
    {
     "name": "stderr",
     "output_type": "stream",
     "text": [
      "FINAL - INFO : # Your theoretical noise threshold will be 25 times the theoretical noise corresponding to 0.0017125 Jy/beam #\n"
     ]
    },
    {
     "name": "stderr",
     "output_type": "stream",
     "text": [
      "FINAL - INFO : # Dynamic range limits for the final minor iterations to clean are [400.0, 600.0, 800.0] #\n"
     ]
    },
    {
     "name": "stderr",
     "output_type": "stream",
     "text": [
      "FINAL - INFO : # Mask threshold for final minor cycle 0 set to 0.0017125 Jy/beam #\n"
     ]
    },
    {
     "name": "stderr",
     "output_type": "stream",
     "text": [
      "FINAL - INFO : # Mask threshold set by Theoretical noise threshold #\n"
     ]
    },
    {
     "name": "stderr",
     "output_type": "stream",
     "text": [
      "FINAL - INFO : # Mask from last selfcal cycle copied and regridded to common grid #\n"
     ]
    },
    {
     "name": "stderr",
     "output_type": "stream",
     "text": [
      "FINAL - INFO : # Clean threshold for minor cycle 0 was set to 0.0003425 Jy/beam #\n"
     ]
    },
    {
     "name": "stderr",
     "output_type": "stream",
     "text": [
      "FINAL - INFO : # Minor cycle 0 cleaning done #\n"
     ]
    },
    {
     "name": "stderr",
     "output_type": "stream",
     "text": [
      "FINAL - INFO : # Cleaned image for minor cycle 0 created #\n"
     ]
    },
    {
     "name": "stderr",
     "output_type": "stream",
     "text": [
      "FINAL - INFO : # Residual image for minor cycle 0 created #\n"
     ]
    },
    {
     "name": "stderr",
     "output_type": "stream",
     "text": [
      "FINAL - INFO : # Peak of the residual image is 0.00337542 Jy/beam #\n"
     ]
    },
    {
     "name": "stderr",
     "output_type": "stream",
     "text": [
      "FINAL - INFO : # RMS of the residual image is 0.000695095 Jy/beam #\n"
     ]
    },
    {
     "name": "stderr",
     "output_type": "stream",
     "text": [
      "FINAL - INFO : # Mask threshold for final imaging minor cycle 1 set to 0.0017125 Jy/beam #\n"
     ]
    },
    {
     "name": "stderr",
     "output_type": "stream",
     "text": [
      "FINAL - INFO : # Mask threshold set by Theoretical noise threshold #\n"
     ]
    },
    {
     "name": "stderr",
     "output_type": "stream",
     "text": [
      "FINAL - INFO : # Mask with threshold 0.0017125 Jy/beam created #\n"
     ]
    },
    {
     "name": "stderr",
     "output_type": "stream",
     "text": [
      "FINAL - INFO : # Clean threshold for minor cycle 1 was set to 0.0003425 Jy/beam #\n"
     ]
    },
    {
     "name": "stderr",
     "output_type": "stream",
     "text": [
      "FINAL - INFO : # Minor cycle 1 cleaning done #\n"
     ]
    },
    {
     "name": "stderr",
     "output_type": "stream",
     "text": [
      "FINAL - INFO : # Cleaned image for minor cycle 1 created #\n"
     ]
    },
    {
     "name": "stderr",
     "output_type": "stream",
     "text": [
      "FINAL - INFO : # Residual image for minor cycle 1 created #\n"
     ]
    },
    {
     "name": "stderr",
     "output_type": "stream",
     "text": [
      "FINAL - INFO : # Peak of the residual image is 0.00203831 Jy/beam #\n"
     ]
    },
    {
     "name": "stderr",
     "output_type": "stream",
     "text": [
      "FINAL - INFO : # RMS of the residual image is 0.000421388 Jy/beam #\n"
     ]
    },
    {
     "name": "stderr",
     "output_type": "stream",
     "text": [
      "FINAL - INFO : # Mask threshold for final imaging minor cycle 2 set to 0.0017125 Jy/beam #\n"
     ]
    },
    {
     "name": "stderr",
     "output_type": "stream",
     "text": [
      "FINAL - INFO : # Mask threshold set by Theoretical noise threshold #\n"
     ]
    },
    {
     "name": "stderr",
     "output_type": "stream",
     "text": [
      "FINAL - INFO : # Mask with threshold 0.0017125 Jy/beam created #\n"
     ]
    },
    {
     "name": "stderr",
     "output_type": "stream",
     "text": [
      "FINAL - INFO : # Clean threshold for minor cycle 2 was set to 0.0003425 Jy/beam #\n"
     ]
    },
    {
     "name": "stderr",
     "output_type": "stream",
     "text": [
      "FINAL - INFO : # Minor cycle 2 cleaning done #\n"
     ]
    },
    {
     "name": "stderr",
     "output_type": "stream",
     "text": [
      "FINAL - INFO : # Cleaned image for minor cycle 2 created #\n"
     ]
    },
    {
     "name": "stderr",
     "output_type": "stream",
     "text": [
      "FINAL - INFO : # Residual image for minor cycle 2 created #\n"
     ]
    },
    {
     "name": "stderr",
     "output_type": "stream",
     "text": [
      "FINAL - INFO : # Peak of the residual image is 0.00296686 Jy/beam #\n"
     ]
    },
    {
     "name": "stderr",
     "output_type": "stream",
     "text": [
      "FINAL - INFO : # RMS of the residual image is 0.00064957 Jy/beam #\n"
     ]
    },
    {
     "name": "stderr",
     "output_type": "stream",
     "text": [
      "FINAL - INFO : ### Final imaging for chunk 05 successful ###\n"
     ]
    },
    {
     "name": "stderr",
     "output_type": "stream",
     "text": [
      "FINAL - INFO : ### Final imaging for chunk 06 started ###\n"
     ]
    },
    {
     "name": "stderr",
     "output_type": "stream",
     "text": [
      "FINAL - INFO : # Last major self-calibration cycle seems to have been 3 #\n"
     ]
    },
    {
     "name": "stderr",
     "output_type": "stream",
     "text": [
      "FINAL - INFO : # Creating directory /data/adebahr/apertif/7070708_M51/final/continuum/stack/06 #\n"
     ]
    },
    {
     "name": "stderr",
     "output_type": "stream",
     "text": [
      "FINAL - INFO : # Moved to directory /data/adebahr/apertif/7070708_M51/final/continuum/stack/06 #\n"
     ]
    },
    {
     "name": "stderr",
     "output_type": "stream",
     "text": [
      "FINAL - INFO : # Theoretical noise for chunk 06 is 6.85e-05 Jy/beam #\n"
     ]
    },
    {
     "name": "stderr",
     "output_type": "stream",
     "text": [
      "FINAL - INFO : # Your theoretical noise threshold will be 25 times the theoretical noise corresponding to 0.0017125 Jy/beam #\n"
     ]
    },
    {
     "name": "stderr",
     "output_type": "stream",
     "text": [
      "FINAL - INFO : # Dynamic range limits for the final minor iterations to clean are [400.0, 600.0, 800.0] #\n"
     ]
    },
    {
     "name": "stderr",
     "output_type": "stream",
     "text": [
      "FINAL - INFO : # Mask threshold for final minor cycle 0 set to 0.0017125 Jy/beam #\n"
     ]
    },
    {
     "name": "stderr",
     "output_type": "stream",
     "text": [
      "FINAL - INFO : # Mask threshold set by Theoretical noise threshold #\n"
     ]
    },
    {
     "name": "stderr",
     "output_type": "stream",
     "text": [
      "FINAL - INFO : # Mask from last selfcal cycle copied and regridded to common grid #\n"
     ]
    },
    {
     "name": "stderr",
     "output_type": "stream",
     "text": [
      "FINAL - INFO : # Clean threshold for minor cycle 0 was set to 0.0003425 Jy/beam #\n"
     ]
    },
    {
     "name": "stderr",
     "output_type": "stream",
     "text": [
      "FINAL - INFO : # Minor cycle 0 cleaning done #\n"
     ]
    },
    {
     "name": "stderr",
     "output_type": "stream",
     "text": [
      "FINAL - INFO : # Cleaned image for minor cycle 0 created #\n"
     ]
    },
    {
     "name": "stderr",
     "output_type": "stream",
     "text": [
      "FINAL - INFO : # Residual image for minor cycle 0 created #\n"
     ]
    },
    {
     "name": "stderr",
     "output_type": "stream",
     "text": [
      "FINAL - INFO : # Peak of the residual image is 0.00379164 Jy/beam #\n"
     ]
    },
    {
     "name": "stderr",
     "output_type": "stream",
     "text": [
      "FINAL - INFO : # RMS of the residual image is 0.000862336 Jy/beam #\n"
     ]
    },
    {
     "name": "stderr",
     "output_type": "stream",
     "text": [
      "FINAL - INFO : # Mask threshold for final imaging minor cycle 1 set to 0.0017125 Jy/beam #\n"
     ]
    },
    {
     "name": "stderr",
     "output_type": "stream",
     "text": [
      "FINAL - INFO : # Mask threshold set by Theoretical noise threshold #\n"
     ]
    },
    {
     "name": "stderr",
     "output_type": "stream",
     "text": [
      "FINAL - INFO : # Mask with threshold 0.0017125 Jy/beam created #\n"
     ]
    },
    {
     "name": "stderr",
     "output_type": "stream",
     "text": [
      "FINAL - INFO : # Clean threshold for minor cycle 1 was set to 0.0003425 Jy/beam #\n"
     ]
    },
    {
     "name": "stderr",
     "output_type": "stream",
     "text": [
      "FINAL - INFO : # Minor cycle 1 cleaning done #\n"
     ]
    },
    {
     "name": "stderr",
     "output_type": "stream",
     "text": [
      "FINAL - INFO : # Cleaned image for minor cycle 1 created #\n"
     ]
    },
    {
     "name": "stderr",
     "output_type": "stream",
     "text": [
      "FINAL - INFO : # Residual image for minor cycle 1 created #\n"
     ]
    },
    {
     "name": "stderr",
     "output_type": "stream",
     "text": [
      "FINAL - INFO : # Peak of the residual image is 0.00170221 Jy/beam #\n"
     ]
    },
    {
     "name": "stderr",
     "output_type": "stream",
     "text": [
      "FINAL - INFO : # RMS of the residual image is 0.000341675 Jy/beam #\n"
     ]
    },
    {
     "name": "stderr",
     "output_type": "stream",
     "text": [
      "FINAL - INFO : # Mask threshold for final imaging minor cycle 2 set to 0.0017125 Jy/beam #\n"
     ]
    },
    {
     "name": "stderr",
     "output_type": "stream",
     "text": [
      "FINAL - INFO : # Mask threshold set by Theoretical noise threshold #\n"
     ]
    },
    {
     "name": "stderr",
     "output_type": "stream",
     "text": [
      "FINAL - INFO : # Mask with threshold 0.0017125 Jy/beam created #\n"
     ]
    },
    {
     "name": "stderr",
     "output_type": "stream",
     "text": [
      "FINAL - INFO : # Clean threshold for minor cycle 2 was set to 0.0003425 Jy/beam #\n"
     ]
    },
    {
     "name": "stderr",
     "output_type": "stream",
     "text": [
      "FINAL - INFO : # Minor cycle 2 cleaning done #\n"
     ]
    },
    {
     "name": "stderr",
     "output_type": "stream",
     "text": [
      "FINAL - INFO : # Cleaned image for minor cycle 2 created #\n"
     ]
    },
    {
     "name": "stderr",
     "output_type": "stream",
     "text": [
      "FINAL - INFO : # Residual image for minor cycle 2 created #\n"
     ]
    },
    {
     "name": "stderr",
     "output_type": "stream",
     "text": [
      "FINAL - INFO : # Peak of the residual image is 0.00372456 Jy/beam #\n"
     ]
    },
    {
     "name": "stderr",
     "output_type": "stream",
     "text": [
      "FINAL - INFO : # RMS of the residual image is 0.000765762 Jy/beam #\n"
     ]
    },
    {
     "name": "stderr",
     "output_type": "stream",
     "text": [
      "FINAL - INFO : ### Final imaging for chunk 06 successful ###\n"
     ]
    },
    {
     "name": "stderr",
     "output_type": "stream",
     "text": [
      "FINAL - INFO : ### Final imaging for chunk 07 started ###\n"
     ]
    },
    {
     "name": "stderr",
     "output_type": "stream",
     "text": [
      "FINAL - INFO : # Last major self-calibration cycle seems to have been 3 #\n"
     ]
    },
    {
     "name": "stderr",
     "output_type": "stream",
     "text": [
      "FINAL - INFO : # Creating directory /data/adebahr/apertif/7070708_M51/final/continuum/stack/07 #\n"
     ]
    },
    {
     "name": "stderr",
     "output_type": "stream",
     "text": [
      "FINAL - INFO : # Moved to directory /data/adebahr/apertif/7070708_M51/final/continuum/stack/07 #\n"
     ]
    },
    {
     "name": "stderr",
     "output_type": "stream",
     "text": [
      "FINAL - INFO : # Theoretical noise for chunk 07 is 6.85e-05 Jy/beam #\n"
     ]
    },
    {
     "name": "stderr",
     "output_type": "stream",
     "text": [
      "FINAL - INFO : # Your theoretical noise threshold will be 25 times the theoretical noise corresponding to 0.0017125 Jy/beam #\n"
     ]
    },
    {
     "name": "stderr",
     "output_type": "stream",
     "text": [
      "FINAL - INFO : # Dynamic range limits for the final minor iterations to clean are [400.0, 600.0, 800.0] #\n"
     ]
    },
    {
     "name": "stderr",
     "output_type": "stream",
     "text": [
      "FINAL - INFO : # Mask threshold for final minor cycle 0 set to 0.0017125 Jy/beam #\n"
     ]
    },
    {
     "name": "stderr",
     "output_type": "stream",
     "text": [
      "FINAL - INFO : # Mask threshold set by Theoretical noise threshold #\n"
     ]
    },
    {
     "name": "stderr",
     "output_type": "stream",
     "text": [
      "FINAL - INFO : # Mask from last selfcal cycle copied and regridded to common grid #\n"
     ]
    },
    {
     "name": "stderr",
     "output_type": "stream",
     "text": [
      "FINAL - INFO : # Clean threshold for minor cycle 0 was set to 0.0003425 Jy/beam #\n"
     ]
    },
    {
     "name": "stderr",
     "output_type": "stream",
     "text": [
      "FINAL - INFO : # Minor cycle 0 cleaning done #\n"
     ]
    },
    {
     "name": "stderr",
     "output_type": "stream",
     "text": [
      "FINAL - INFO : # Cleaned image for minor cycle 0 created #\n"
     ]
    },
    {
     "name": "stderr",
     "output_type": "stream",
     "text": [
      "FINAL - INFO : # Residual image for minor cycle 0 created #\n"
     ]
    },
    {
     "name": "stderr",
     "output_type": "stream",
     "text": [
      "FINAL - INFO : # Peak of the residual image is 0.0029917 Jy/beam #\n"
     ]
    },
    {
     "name": "stderr",
     "output_type": "stream",
     "text": [
      "FINAL - INFO : # RMS of the residual image is 0.000547213 Jy/beam #\n"
     ]
    },
    {
     "name": "stderr",
     "output_type": "stream",
     "text": [
      "FINAL - INFO : # Mask threshold for final imaging minor cycle 1 set to 0.0017125 Jy/beam #\n"
     ]
    },
    {
     "name": "stderr",
     "output_type": "stream",
     "text": [
      "FINAL - INFO : # Mask threshold set by Theoretical noise threshold #\n"
     ]
    },
    {
     "name": "stderr",
     "output_type": "stream",
     "text": [
      "FINAL - INFO : # Mask with threshold 0.0017125 Jy/beam created #\n"
     ]
    },
    {
     "name": "stderr",
     "output_type": "stream",
     "text": [
      "FINAL - INFO : # Clean threshold for minor cycle 1 was set to 0.0003425 Jy/beam #\n"
     ]
    },
    {
     "name": "stderr",
     "output_type": "stream",
     "text": [
      "FINAL - INFO : # Minor cycle 1 cleaning done #\n"
     ]
    },
    {
     "name": "stderr",
     "output_type": "stream",
     "text": [
      "FINAL - INFO : # Cleaned image for minor cycle 1 created #\n"
     ]
    },
    {
     "name": "stderr",
     "output_type": "stream",
     "text": [
      "FINAL - INFO : # Residual image for minor cycle 1 created #\n"
     ]
    },
    {
     "name": "stderr",
     "output_type": "stream",
     "text": [
      "FINAL - INFO : # Peak of the residual image is 0.00187325 Jy/beam #\n"
     ]
    },
    {
     "name": "stderr",
     "output_type": "stream",
     "text": [
      "FINAL - INFO : # RMS of the residual image is 0.000424601 Jy/beam #\n"
     ]
    },
    {
     "name": "stderr",
     "output_type": "stream",
     "text": [
      "FINAL - INFO : # Mask threshold for final imaging minor cycle 2 set to 0.0017125 Jy/beam #\n"
     ]
    },
    {
     "name": "stderr",
     "output_type": "stream",
     "text": [
      "FINAL - INFO : # Mask threshold set by Theoretical noise threshold #\n"
     ]
    },
    {
     "name": "stderr",
     "output_type": "stream",
     "text": [
      "FINAL - INFO : # Mask with threshold 0.0017125 Jy/beam created #\n"
     ]
    },
    {
     "name": "stderr",
     "output_type": "stream",
     "text": [
      "FINAL - INFO : # Clean threshold for minor cycle 2 was set to 0.0003425 Jy/beam #\n"
     ]
    },
    {
     "name": "stderr",
     "output_type": "stream",
     "text": [
      "FINAL - INFO : # Minor cycle 2 cleaning done #\n"
     ]
    },
    {
     "name": "stderr",
     "output_type": "stream",
     "text": [
      "FINAL - INFO : # Cleaned image for minor cycle 2 created #\n"
     ]
    },
    {
     "name": "stderr",
     "output_type": "stream",
     "text": [
      "FINAL - INFO : # Residual image for minor cycle 2 created #\n"
     ]
    },
    {
     "name": "stderr",
     "output_type": "stream",
     "text": [
      "FINAL - INFO : # Peak of the residual image is 0.00217783 Jy/beam #\n"
     ]
    },
    {
     "name": "stderr",
     "output_type": "stream",
     "text": [
      "FINAL - INFO : # RMS of the residual image is 0.00050327 Jy/beam #\n"
     ]
    },
    {
     "name": "stderr",
     "output_type": "stream",
     "text": [
      "FINAL - INFO : ### Final imaging for chunk 07 successful ###\n"
     ]
    },
    {
     "name": "stderr",
     "output_type": "stream",
     "text": [
      "FINAL - INFO : ### Stacking images of individual frequency chunks ###\n"
     ]
    },
    {
     "name": "stderr",
     "output_type": "stream",
     "text": [
      "FINAL - INFO : # Moved to directory /data/adebahr/apertif/7070708_M51/final/continuum/stack #\n"
     ]
    },
    {
     "name": "stderr",
     "output_type": "stream",
     "text": [
      "FINAL - INFO : # Convolving final continuum images to major/minor fwhm 45,45and angle 0.0\n"
     ]
    },
    {
     "name": "stderr",
     "output_type": "stream",
     "text": [
      "FINAL - INFO : ### Final deep continuum image is /data/adebahr/apertif/7070708_M51/final/continuum/M51_stack ###\n"
     ]
    },
    {
     "name": "stderr",
     "output_type": "stream",
     "text": [
      "FINAL - INFO : ### Deep continuum imaging of full dataset done ###\n"
     ]
    },
    {
     "name": "stderr",
     "output_type": "stream",
     "text": [
      "FINAL - INFO : ########## FINAL IMAGING done ##########\n"
     ]
    }
   ],
   "source": [
    "final.go()"
   ]
  },
  {
   "cell_type": "code",
   "execution_count": 4,
   "metadata": {},
   "outputs": [
    {
     "name": "stderr",
     "output_type": "stream",
     "text": [
      "LINE - INFO : ### Configuration file /home/adebahr/apercal/ipython-notebooks/commissioning/APERTIF/M51.cfg successfully read! ###\n"
     ]
    }
   ],
   "source": [
    "line = apercal.line('/home/adebahr/apercal/ipython-notebooks/commissioning/APERTIF/M51.cfg')"
   ]
  },
  {
   "cell_type": "code",
   "execution_count": 5,
   "metadata": {},
   "outputs": [
    {
     "name": "stderr",
     "output_type": "stream",
     "text": [
      "LINE - INFO : ########## Starting CONTINUUM SUBTRACTION ##########\n"
     ]
    },
    {
     "name": "stderr",
     "output_type": "stream",
     "text": [
      "LINE - INFO : # Creating directory /data/adebahr/apertif/7070708_M51/line #\n"
     ]
    },
    {
     "name": "stderr",
     "output_type": "stream",
     "text": [
      "LINE - INFO : # Moved to directory /data/adebahr/apertif/7070708_M51/line #\n"
     ]
    },
    {
     "name": "stderr",
     "output_type": "stream",
     "text": [
      "LINE - INFO : ### Splitting of target data into individual frequency chunks started ###\n"
     ]
    },
    {
     "name": "stderr",
     "output_type": "stream",
     "text": [
      "LINE - INFO : # Applying calibrator solutions to target data before averaging #\n"
     ]
    },
    {
     "name": "stderr",
     "output_type": "stream",
     "text": [
      "LINE - INFO : # Calibrator solutions to target data applied #\n"
     ]
    },
    {
     "name": "stderr",
     "output_type": "stream",
     "text": [
      "LINE - INFO : # Found 1 subband(s) in target data #\n"
     ]
    },
    {
     "name": "stderr",
     "output_type": "stream",
     "text": [
      "LINE - INFO : # Started splitting of subband 0 #\n"
     ]
    },
    {
     "name": "stderr",
     "output_type": "stream",
     "text": [
      "LINE - INFO : # Adjusting chunk size to 0.016796875 GHz for regular gridding of the data chunks over frequency #\n"
     ]
    },
    {
     "name": "stderr",
     "output_type": "stream",
     "text": [
      "LINE - INFO : # Starting splitting of data chunk 0 for subband 0 #\n"
     ]
    },
    {
     "name": "stderr",
     "output_type": "stream",
     "text": [
      "LINE - INFO : # Using frequency binning of 1.2e-05 for all subbands #\n"
     ]
    },
    {
     "name": "stderr",
     "output_type": "stream",
     "text": [
      "LINE - INFO : # Creating directory /data/adebahr/apertif/7070708_M51/line/00 #\n"
     ]
    },
    {
     "name": "stderr",
     "output_type": "stream",
     "text": [
      "LINE - INFO : # Splitting of data chunk 0 for subband 0 done #\n"
     ]
    },
    {
     "name": "stderr",
     "output_type": "stream",
     "text": [
      "LINE - INFO : # Starting splitting of data chunk 1 for subband 0 #\n"
     ]
    },
    {
     "name": "stderr",
     "output_type": "stream",
     "text": [
      "LINE - INFO : # Using frequency binning of 1.2e-05 for all subbands #\n"
     ]
    },
    {
     "name": "stderr",
     "output_type": "stream",
     "text": [
      "LINE - INFO : # Creating directory /data/adebahr/apertif/7070708_M51/line/01 #\n"
     ]
    },
    {
     "name": "stderr",
     "output_type": "stream",
     "text": [
      "LINE - INFO : # Splitting of data chunk 1 for subband 0 done #\n"
     ]
    },
    {
     "name": "stderr",
     "output_type": "stream",
     "text": [
      "LINE - INFO : # Starting splitting of data chunk 2 for subband 0 #\n"
     ]
    },
    {
     "name": "stderr",
     "output_type": "stream",
     "text": [
      "LINE - INFO : # Using frequency binning of 1.2e-05 for all subbands #\n"
     ]
    },
    {
     "name": "stderr",
     "output_type": "stream",
     "text": [
      "LINE - INFO : # Creating directory /data/adebahr/apertif/7070708_M51/line/02 #\n"
     ]
    },
    {
     "name": "stderr",
     "output_type": "stream",
     "text": [
      "LINE - INFO : # Splitting of data chunk 2 for subband 0 done #\n"
     ]
    },
    {
     "name": "stderr",
     "output_type": "stream",
     "text": [
      "LINE - INFO : # Starting splitting of data chunk 3 for subband 0 #\n"
     ]
    },
    {
     "name": "stderr",
     "output_type": "stream",
     "text": [
      "LINE - INFO : # Using frequency binning of 1.2e-05 for all subbands #\n"
     ]
    },
    {
     "name": "stderr",
     "output_type": "stream",
     "text": [
      "LINE - INFO : # Creating directory /data/adebahr/apertif/7070708_M51/line/03 #\n"
     ]
    },
    {
     "name": "stderr",
     "output_type": "stream",
     "text": [
      "LINE - INFO : # Splitting of data chunk 3 for subband 0 done #\n"
     ]
    },
    {
     "name": "stderr",
     "output_type": "stream",
     "text": [
      "LINE - INFO : # Starting splitting of data chunk 4 for subband 0 #\n"
     ]
    },
    {
     "name": "stderr",
     "output_type": "stream",
     "text": [
      "LINE - INFO : # Using frequency binning of 1.2e-05 for all subbands #\n"
     ]
    },
    {
     "name": "stderr",
     "output_type": "stream",
     "text": [
      "LINE - INFO : # Creating directory /data/adebahr/apertif/7070708_M51/line/04 #\n"
     ]
    },
    {
     "name": "stderr",
     "output_type": "stream",
     "text": [
      "LINE - INFO : # Splitting of data chunk 4 for subband 0 done #\n"
     ]
    },
    {
     "name": "stderr",
     "output_type": "stream",
     "text": [
      "LINE - INFO : # Starting splitting of data chunk 5 for subband 0 #\n"
     ]
    },
    {
     "name": "stderr",
     "output_type": "stream",
     "text": [
      "LINE - INFO : # Using frequency binning of 1.2e-05 for all subbands #\n"
     ]
    },
    {
     "name": "stderr",
     "output_type": "stream",
     "text": [
      "LINE - INFO : # Creating directory /data/adebahr/apertif/7070708_M51/line/05 #\n"
     ]
    },
    {
     "name": "stderr",
     "output_type": "stream",
     "text": [
      "LINE - INFO : # Splitting of data chunk 5 for subband 0 done #\n"
     ]
    },
    {
     "name": "stderr",
     "output_type": "stream",
     "text": [
      "LINE - INFO : # Starting splitting of data chunk 6 for subband 0 #\n"
     ]
    },
    {
     "name": "stderr",
     "output_type": "stream",
     "text": [
      "LINE - INFO : # Using frequency binning of 1.2e-05 for all subbands #\n"
     ]
    },
    {
     "name": "stderr",
     "output_type": "stream",
     "text": [
      "LINE - INFO : # Creating directory /data/adebahr/apertif/7070708_M51/line/06 #\n"
     ]
    },
    {
     "name": "stderr",
     "output_type": "stream",
     "text": [
      "LINE - INFO : # Splitting of data chunk 6 for subband 0 done #\n"
     ]
    },
    {
     "name": "stderr",
     "output_type": "stream",
     "text": [
      "LINE - INFO : # Starting splitting of data chunk 7 for subband 0 #\n"
     ]
    },
    {
     "name": "stderr",
     "output_type": "stream",
     "text": [
      "LINE - INFO : # Using frequency binning of 1.2e-05 for all subbands #\n"
     ]
    },
    {
     "name": "stderr",
     "output_type": "stream",
     "text": [
      "LINE - INFO : # Creating directory /data/adebahr/apertif/7070708_M51/line/07 #\n"
     ]
    },
    {
     "name": "stderr",
     "output_type": "stream",
     "text": [
      "LINE - INFO : # Splitting of data chunk 7 for subband 0 done #\n"
     ]
    },
    {
     "name": "stderr",
     "output_type": "stream",
     "text": [
      "LINE - INFO : # Splitting of data for subband 0 done #\n"
     ]
    },
    {
     "name": "stderr",
     "output_type": "stream",
     "text": [
      "LINE - INFO : ### Splitting of target data into individual frequency chunks done ###\n"
     ]
    },
    {
     "name": "stderr",
     "output_type": "stream",
     "text": [
      "LINE - INFO : ### Copying gains from continuum to line data ###\n"
     ]
    },
    {
     "name": "stderr",
     "output_type": "stream",
     "text": [
      "LINE - INFO : # Copying gains from continuum to line data for chunk 00 #\n"
     ]
    },
    {
     "name": "stderr",
     "output_type": "stream",
     "text": [
      "LINE - INFO : # Copying gains from continuum to line data for chunk 01 #\n"
     ]
    },
    {
     "name": "stderr",
     "output_type": "stream",
     "text": [
      "LINE - INFO : # Copying gains from continuum to line data for chunk 02 #\n"
     ]
    },
    {
     "name": "stderr",
     "output_type": "stream",
     "text": [
      "LINE - INFO : # Copying gains from continuum to line data for chunk 03 #\n"
     ]
    },
    {
     "name": "stderr",
     "output_type": "stream",
     "text": [
      "LINE - INFO : # Copying gains from continuum to line data for chunk 04 #\n"
     ]
    },
    {
     "name": "stderr",
     "output_type": "stream",
     "text": [
      "LINE - INFO : # Copying gains from continuum to line data for chunk 05 #\n"
     ]
    },
    {
     "name": "stderr",
     "output_type": "stream",
     "text": [
      "LINE - INFO : # Copying gains from continuum to line data for chunk 06 #\n"
     ]
    },
    {
     "name": "stderr",
     "output_type": "stream",
     "text": [
      "LINE - INFO : # Copying gains from continuum to line data for chunk 07 #\n"
     ]
    },
    {
     "name": "stderr",
     "output_type": "stream",
     "text": [
      "LINE - INFO : ### Gains from continuum to line data copied ###\n"
     ]
    },
    {
     "name": "stderr",
     "output_type": "stream",
     "text": [
      "LINE - INFO : ### Starting continuum subtraction of individual chunks using uvmodel ###\n"
     ]
    },
    {
     "name": "stderr",
     "output_type": "stream",
     "text": [
      "LINE - INFO : # Moved to directory /data/adebahr/apertif/7070708_M51/line/00 #\n"
     ]
    },
    {
     "name": "stderr",
     "output_type": "stream",
     "text": [
      "LINE - INFO : # Applied gains to chunk 00 for subtraction of continuum model #\n"
     ]
    },
    {
     "name": "stderr",
     "output_type": "stream",
     "text": [
      "LINE - INFO : # Found model for subtraction in final continuum directory. No need to redo continuum imaging #\n"
     ]
    },
    {
     "name": "stderr",
     "output_type": "stream",
     "text": [
      "LINE - INFO : ### Continuum subtraction using uvmodel method for chunk 00 successful! ###\n"
     ]
    },
    {
     "name": "stderr",
     "output_type": "stream",
     "text": [
      "LINE - INFO : # Moved to directory /data/adebahr/apertif/7070708_M51/line/01 #\n"
     ]
    },
    {
     "name": "stderr",
     "output_type": "stream",
     "text": [
      "LINE - INFO : # Applied gains to chunk 01 for subtraction of continuum model #\n"
     ]
    },
    {
     "name": "stderr",
     "output_type": "stream",
     "text": [
      "LINE - INFO : # Found model for subtraction in final continuum directory. No need to redo continuum imaging #\n"
     ]
    },
    {
     "name": "stderr",
     "output_type": "stream",
     "text": [
      "LINE - INFO : ### Continuum subtraction using uvmodel method for chunk 01 successful! ###\n"
     ]
    },
    {
     "name": "stderr",
     "output_type": "stream",
     "text": [
      "LINE - INFO : # Moved to directory /data/adebahr/apertif/7070708_M51/line/02 #\n"
     ]
    },
    {
     "name": "stderr",
     "output_type": "stream",
     "text": [
      "LINE - INFO : # Applied gains to chunk 02 for subtraction of continuum model #\n"
     ]
    },
    {
     "name": "stderr",
     "output_type": "stream",
     "text": [
      "LINE - INFO : # Found model for subtraction in final continuum directory. No need to redo continuum imaging #\n"
     ]
    },
    {
     "name": "stderr",
     "output_type": "stream",
     "text": [
      "LINE - INFO : ### Continuum subtraction using uvmodel method for chunk 02 successful! ###\n"
     ]
    },
    {
     "name": "stderr",
     "output_type": "stream",
     "text": [
      "LINE - INFO : # Moved to directory /data/adebahr/apertif/7070708_M51/line/03 #\n"
     ]
    },
    {
     "name": "stderr",
     "output_type": "stream",
     "text": [
      "LINE - INFO : # Applied gains to chunk 03 for subtraction of continuum model #\n"
     ]
    },
    {
     "name": "stderr",
     "output_type": "stream",
     "text": [
      "LINE - INFO : # Found model for subtraction in final continuum directory. No need to redo continuum imaging #\n"
     ]
    },
    {
     "name": "stderr",
     "output_type": "stream",
     "text": [
      "LINE - INFO : ### Continuum subtraction using uvmodel method for chunk 03 successful! ###\n"
     ]
    },
    {
     "name": "stderr",
     "output_type": "stream",
     "text": [
      "LINE - INFO : # Moved to directory /data/adebahr/apertif/7070708_M51/line/04 #\n"
     ]
    },
    {
     "name": "stderr",
     "output_type": "stream",
     "text": [
      "LINE - INFO : # Applied gains to chunk 04 for subtraction of continuum model #\n"
     ]
    },
    {
     "name": "stderr",
     "output_type": "stream",
     "text": [
      "LINE - INFO : # Found model for subtraction in final continuum directory. No need to redo continuum imaging #\n"
     ]
    },
    {
     "name": "stderr",
     "output_type": "stream",
     "text": [
      "LINE - INFO : ### Continuum subtraction using uvmodel method for chunk 04 successful! ###\n"
     ]
    },
    {
     "name": "stderr",
     "output_type": "stream",
     "text": [
      "LINE - INFO : # Moved to directory /data/adebahr/apertif/7070708_M51/line/05 #\n"
     ]
    },
    {
     "name": "stderr",
     "output_type": "stream",
     "text": [
      "LINE - INFO : # Applied gains to chunk 05 for subtraction of continuum model #\n"
     ]
    },
    {
     "name": "stderr",
     "output_type": "stream",
     "text": [
      "LINE - INFO : # Found model for subtraction in final continuum directory. No need to redo continuum imaging #\n"
     ]
    },
    {
     "name": "stderr",
     "output_type": "stream",
     "text": [
      "LINE - INFO : ### Continuum subtraction using uvmodel method for chunk 05 successful! ###\n"
     ]
    },
    {
     "name": "stderr",
     "output_type": "stream",
     "text": [
      "LINE - INFO : # Moved to directory /data/adebahr/apertif/7070708_M51/line/06 #\n"
     ]
    },
    {
     "name": "stderr",
     "output_type": "stream",
     "text": [
      "LINE - INFO : # Applied gains to chunk 06 for subtraction of continuum model #\n"
     ]
    },
    {
     "name": "stderr",
     "output_type": "stream",
     "text": [
      "LINE - INFO : # Found model for subtraction in final continuum directory. No need to redo continuum imaging #\n"
     ]
    },
    {
     "name": "stderr",
     "output_type": "stream",
     "text": [
      "LINE - INFO : ### Continuum subtraction using uvmodel method for chunk 06 successful! ###\n"
     ]
    },
    {
     "name": "stderr",
     "output_type": "stream",
     "text": [
      "LINE - INFO : # Moved to directory /data/adebahr/apertif/7070708_M51/line/07 #\n"
     ]
    },
    {
     "name": "stderr",
     "output_type": "stream",
     "text": [
      "LINE - INFO : # Applied gains to chunk 07 for subtraction of continuum model #\n"
     ]
    },
    {
     "name": "stderr",
     "output_type": "stream",
     "text": [
      "LINE - INFO : # Found model for subtraction in final continuum directory. No need to redo continuum imaging #\n"
     ]
    },
    {
     "name": "stderr",
     "output_type": "stream",
     "text": [
      "LINE - INFO : ### Continuum subtraction using uvmodel method for chunk 07 successful! ###\n"
     ]
    },
    {
     "name": "stderr",
     "output_type": "stream",
     "text": [
      "LINE - INFO : ### Continuum subtraction using uvmodel done! ###\n"
     ]
    },
    {
     "name": "stderr",
     "output_type": "stream",
     "text": [
      "LINE - INFO : ########## CONTINUUM SUBTRACTION done ##########\n"
     ]
    }
   ],
   "source": [
    "line.go()"
   ]
  },
  {
   "cell_type": "code",
   "execution_count": 2,
   "metadata": {},
   "outputs": [
    {
     "name": "stderr",
     "output_type": "stream",
     "text": [
      "FINAL - INFO : ### Configuration file /home/adebahr/apercal/ipython-notebooks/commissioning/APERTIF/M51.cfg successfully read! ###\n"
     ]
    }
   ],
   "source": [
    "final = apercal.final('/home/adebahr/apercal/ipython-notebooks/commissioning/APERTIF/M51.cfg')"
   ]
  },
  {
   "cell_type": "code",
   "execution_count": 3,
   "metadata": {},
   "outputs": [
    {
     "name": "stdout",
     "output_type": "stream",
     "text": [
      "FINAL\n\tfinal_continuum = False\n\tfinal_continuum_image_imsize = 513\n\tfinal_continuum_image_cellsize = 10\n\tfinal_continuum_image_centre = \n\tfinal_continuum_image_restorbeam = \n\tfinal_continuum_image_convolbeam = 45,45,0.0\n\tfinal_continuum_mode = stack\n\tfinal_continuum_majorcycle_function = square\n\tfinal_continuum_minorcycle_function = linear\n\tfinal_continuum_minorcycle0_dr = 3.0\n\tfinal_continuum_minorcycle = 3\n\tfinal_continuum_c0 = 10.0\n\tfinal_continuum_c1 = 5.0\n\tfinal_continuum_drinit = 100\n\tfinal_continuum_dr0 = 2.0\n\tfinal_continuum_nsigma = 25\n\tfinal_continuum_robust = -2\n\tfinal_line = True\n\tfinal_line_image_imsize = 513\n\tfinal_line_image_cellsize = 10\n\tfinal_line_image_centre = \n\tfinal_line_image_robust = -2\n\tfinal_line_clean_ratio_limit = 1.2\n\tfinal_line_clean_c0 = 10.0\n\tfinal_line_clean_c1 = 5.0\n\tfinal_line_clean_nsigma = 30\n\tfinal_line_clean_minorcycle0_dr = 3.0\n\tfinal_line_clean_dr0 = 3.0\n\tfinal_line_image_restorbeam = \n\tfinal_line_image_convolbeam = 45,45,0.0\n\tfinal_polarisation = False\n\tfinal_polarisation_image_imsize = 513\n\tfinal_polarisation_image_cellsize = 10\n\tfinal_polarisation_image_centre = \n\tfinal_polarisation_image_beam = \n\tfinal_polarisation_makecube = True\n\tfinal_polarisation_rmsynth = True\n"
     ]
    }
   ],
   "source": [
    "final.final_continuum = False\n",
    "final.final_line = True\n",
    "final.show()"
   ]
  },
  {
   "cell_type": "code",
   "execution_count": 4,
   "metadata": {},
   "outputs": [
    {
     "name": "stderr",
     "output_type": "stream",
     "text": [
      "FINAL - INFO : ########## Starting FINAL IMAGING ##########\n"
     ]
    },
    {
     "name": "stderr",
     "output_type": "stream",
     "text": [
      "FINAL - INFO : ### Starting line imaging of full dataset ###\n"
     ]
    },
    {
     "name": "stderr",
     "output_type": "stream",
     "text": [
      "FINAL - INFO : # Moved to directory /data/adebahr/apertif/7070708_M51/final #\n"
     ]
    },
    {
     "name": "stderr",
     "output_type": "stream",
     "text": [
      "FINAL - INFO : # Creating directory /data/adebahr/apertif/7070708_M51/final/line #\n"
     ]
    },
    {
     "name": "stderr",
     "output_type": "stream",
     "text": [
      "FINAL - INFO : # Moved to directory /data/adebahr/apertif/7070708_M51/final/line #\n"
     ]
    },
    {
     "name": "stderr",
     "output_type": "stream",
     "text": [
      "FINAL - INFO : # Imaging each individual channel separately #\n"
     ]
    },
    {
     "name": "stderr",
     "output_type": "stream",
     "text": [
      "FINAL - INFO : # Emission found in channel 00000. Cleaning! #\n"
     ]
    },
    {
     "name": "stderr",
     "output_type": "stream",
     "text": [
      "FINAL - INFO : # Finished processing channel 00000/11007. #\n"
     ]
    },
    {
     "name": "stderr",
     "output_type": "stream",
     "text": [
      "FINAL - INFO : # Finished processing channel 00001/11007. #\n"
     ]
    },
    {
     "name": "stderr",
     "output_type": "stream",
     "text": [
      "FINAL - INFO : # Finished processing channel 00002/11007. #\n"
     ]
    },
    {
     "name": "stderr",
     "output_type": "stream",
     "text": [
      "FINAL - INFO : # Finished processing channel 00003/11007. #\n"
     ]
    },
    {
     "name": "stderr",
     "output_type": "stream",
     "text": [
      "FINAL - INFO : # Finished processing channel 00004/11007. #\n"
     ]
    },
    {
     "name": "stderr",
     "output_type": "stream",
     "text": [
      "FINAL - INFO : # Finished processing channel 00005/11007. #\n"
     ]
    },
    {
     "name": "stderr",
     "output_type": "stream",
     "text": [
      "FINAL - INFO : # Finished processing channel 00006/11007. #\n"
     ]
    },
    {
     "name": "stderr",
     "output_type": "stream",
     "text": [
      "FINAL - INFO : # Finished processing channel 00007/11007. #\n"
     ]
    },
    {
     "name": "stderr",
     "output_type": "stream",
     "text": [
      "FINAL - INFO : # Finished processing channel 00008/11007. #\n"
     ]
    },
    {
     "name": "stderr",
     "output_type": "stream",
     "text": [
      "FINAL - INFO : # Finished processing channel 00009/11007. #\n"
     ]
    },
    {
     "name": "stderr",
     "output_type": "stream",
     "text": [
      "FINAL - INFO : # Finished processing channel 00010/11007. #\n"
     ]
    },
    {
     "name": "stderr",
     "output_type": "stream",
     "text": [
      "FINAL - INFO : # Finished processing channel 00011/11007. #\n"
     ]
    },
    {
     "name": "stderr",
     "output_type": "stream",
     "text": [
      "FINAL - INFO : # Finished processing channel 00012/11007. #\n"
     ]
    },
    {
     "name": "stderr",
     "output_type": "stream",
     "text": [
      "FINAL - INFO : # Finished processing channel 00013/11007. #\n"
     ]
    },
    {
     "name": "stderr",
     "output_type": "stream",
     "text": [
      "FINAL - INFO : # Finished processing channel 00014/11007. #\n"
     ]
    },
    {
     "name": "stderr",
     "output_type": "stream",
     "text": [
      "FINAL - INFO : # Finished processing channel 00015/11007. #\n"
     ]
    },
    {
     "name": "stderr",
     "output_type": "stream",
     "text": [
      "FINAL - INFO : # Finished processing channel 00016/11007. #\n"
     ]
    },
    {
     "name": "stderr",
     "output_type": "stream",
     "text": [
      "FINAL - INFO : # Finished processing channel 00017/11007. #\n"
     ]
    },
    {
     "name": "stderr",
     "output_type": "stream",
     "text": [
      "FINAL - INFO : # Finished processing channel 00018/11007. #\n"
     ]
    },
    {
     "name": "stderr",
     "output_type": "stream",
     "text": [
      "FINAL - INFO : # Finished processing channel 00019/11007. #\n"
     ]
    },
    {
     "ename": "KeyboardInterrupt",
     "evalue": "",
     "traceback": [
      "\u001b[0;31m\u001b[0m",
      "\u001b[0;31mKeyboardInterrupt\u001b[0mTraceback (most recent call last)",
      "\u001b[0;32m<ipython-input-4-1463d2ba05f9>\u001b[0m in \u001b[0;36m<module>\u001b[0;34m()\u001b[0m\n\u001b[0;32m----> 1\u001b[0;31m \u001b[0mfinal\u001b[0m\u001b[0;34m.\u001b[0m\u001b[0mgo\u001b[0m\u001b[0;34m(\u001b[0m\u001b[0;34m)\u001b[0m\u001b[0;34m\u001b[0m\u001b[0m\n\u001b[0m",
      "\u001b[0;32m/home/adebahr/apercal/final.py\u001b[0m in \u001b[0;36mgo\u001b[0;34m(self)\u001b[0m\n\u001b[1;32m     57\u001b[0m         \u001b[0mself\u001b[0m\u001b[0;34m.\u001b[0m\u001b[0mlogger\u001b[0m\u001b[0;34m.\u001b[0m\u001b[0minfo\u001b[0m\u001b[0;34m(\u001b[0m\u001b[0;34m\"########## Starting FINAL IMAGING ##########\"\u001b[0m\u001b[0;34m)\u001b[0m\u001b[0;34m\u001b[0m\u001b[0m\n\u001b[1;32m     58\u001b[0m         \u001b[0mself\u001b[0m\u001b[0;34m.\u001b[0m\u001b[0mcontinuum\u001b[0m\u001b[0;34m(\u001b[0m\u001b[0;34m)\u001b[0m\u001b[0;34m\u001b[0m\u001b[0m\n\u001b[0;32m---> 59\u001b[0;31m         \u001b[0mself\u001b[0m\u001b[0;34m.\u001b[0m\u001b[0mline\u001b[0m\u001b[0;34m(\u001b[0m\u001b[0;34m)\u001b[0m\u001b[0;34m\u001b[0m\u001b[0m\n\u001b[0m\u001b[1;32m     60\u001b[0m         \u001b[0mself\u001b[0m\u001b[0;34m.\u001b[0m\u001b[0mpolarisation\u001b[0m\u001b[0;34m(\u001b[0m\u001b[0;34m)\u001b[0m\u001b[0;34m\u001b[0m\u001b[0m\n\u001b[1;32m     61\u001b[0m         \u001b[0mself\u001b[0m\u001b[0;34m.\u001b[0m\u001b[0mlogger\u001b[0m\u001b[0;34m.\u001b[0m\u001b[0minfo\u001b[0m\u001b[0;34m(\u001b[0m\u001b[0;34m\"########## FINAL IMAGING done ##########\"\u001b[0m\u001b[0;34m)\u001b[0m\u001b[0;34m\u001b[0m\u001b[0m\n",
      "\u001b[0;32m/home/adebahr/apercal/final.py\u001b[0m in \u001b[0;36mline\u001b[0;34m(self)\u001b[0m\n\u001b[1;32m    297\u001b[0m                         \u001b[0;32melse\u001b[0m\u001b[0;34m:\u001b[0m\u001b[0;34m\u001b[0m\u001b[0m\n\u001b[1;32m    298\u001b[0m                             \u001b[0minvert\u001b[0m\u001b[0;34m.\u001b[0m\u001b[0moptions\u001b[0m \u001b[0;34m=\u001b[0m \u001b[0;34m'mfs,double,sdb'\u001b[0m\u001b[0;34m\u001b[0m\u001b[0m\n\u001b[0;32m--> 299\u001b[0;31m                         \u001b[0minvertcmd\u001b[0m \u001b[0;34m=\u001b[0m \u001b[0minvert\u001b[0m\u001b[0;34m.\u001b[0m\u001b[0mgo\u001b[0m\u001b[0;34m(\u001b[0m\u001b[0;34m)\u001b[0m\u001b[0;34m\u001b[0m\u001b[0m\n\u001b[0m\u001b[1;32m    300\u001b[0m                         \u001b[0;32mtry\u001b[0m\u001b[0;34m:\u001b[0m\u001b[0;34m\u001b[0m\u001b[0m\n\u001b[1;32m    301\u001b[0m                             \u001b[0mtheoretical_noise\u001b[0m \u001b[0;34m=\u001b[0m \u001b[0minvertcmd\u001b[0m\u001b[0;34m[\u001b[0m\u001b[0;36m11\u001b[0m\u001b[0;34m]\u001b[0m\u001b[0;34m.\u001b[0m\u001b[0msplit\u001b[0m\u001b[0;34m(\u001b[0m\u001b[0;34m' '\u001b[0m\u001b[0;34m)\u001b[0m\u001b[0;34m[\u001b[0m\u001b[0;36m3\u001b[0m\u001b[0;34m]\u001b[0m\u001b[0;34m\u001b[0m\u001b[0m\n",
      "\u001b[0;32m/home/adebahr/apercal/lib.pyc\u001b[0m in \u001b[0;36mgo\u001b[0;34m(self, rmfiles)\u001b[0m\n\u001b[1;32m    337\u001b[0m         \u001b[0;32mif\u001b[0m \u001b[0mrmfiles\u001b[0m\u001b[0;34m:\u001b[0m\u001b[0;34m\u001b[0m\u001b[0m\n\u001b[1;32m    338\u001b[0m             \u001b[0mself\u001b[0m\u001b[0;34m.\u001b[0m\u001b[0mrmfiles\u001b[0m\u001b[0;34m(\u001b[0m\u001b[0;34m)\u001b[0m\u001b[0;34m\u001b[0m\u001b[0m\n\u001b[0;32m--> 339\u001b[0;31m         \u001b[0moutput\u001b[0m \u001b[0;34m=\u001b[0m \u001b[0mmasher\u001b[0m\u001b[0;34m(\u001b[0m\u001b[0;34m**\u001b[0m\u001b[0mself\u001b[0m\u001b[0;34m.\u001b[0m\u001b[0m__dict__\u001b[0m\u001b[0;34m)\u001b[0m\u001b[0;34m\u001b[0m\u001b[0m\n\u001b[0m\u001b[1;32m    340\u001b[0m \u001b[0;31m#        logger.info('Completed.')\u001b[0m\u001b[0;34m\u001b[0m\u001b[0;34m\u001b[0m\u001b[0m\n\u001b[1;32m    341\u001b[0m         \u001b[0;32mreturn\u001b[0m \u001b[0moutput\u001b[0m\u001b[0;34m\u001b[0m\u001b[0m\n",
      "\u001b[0;32m/home/adebahr/apercal/lib.pyc\u001b[0m in \u001b[0;36mmasher\u001b[0;34m(task, **kwargs)\u001b[0m\n\u001b[1;32m    186\u001b[0m             \u001b[0mout\u001b[0m \u001b[0;34m=\u001b[0m \u001b[0mbasher\u001b[0m\u001b[0;34m(\u001b[0m\u001b[0mcmd\u001b[0m\u001b[0;34m,\u001b[0m \u001b[0mshowasinfo\u001b[0m\u001b[0;34m=\u001b[0m\u001b[0mTrue\u001b[0m\u001b[0;34m)\u001b[0m\u001b[0;34m\u001b[0m\u001b[0m\n\u001b[1;32m    187\u001b[0m         \u001b[0;32melse\u001b[0m\u001b[0;34m:\u001b[0m\u001b[0;34m\u001b[0m\u001b[0m\n\u001b[0;32m--> 188\u001b[0;31m             \u001b[0mout\u001b[0m \u001b[0;34m=\u001b[0m \u001b[0mbasher\u001b[0m\u001b[0;34m(\u001b[0m\u001b[0mcmd\u001b[0m\u001b[0;34m,\u001b[0m \u001b[0mshowasinfo\u001b[0m\u001b[0;34m=\u001b[0m\u001b[0mFalse\u001b[0m\u001b[0;34m)\u001b[0m\u001b[0;34m\u001b[0m\u001b[0m\n\u001b[0m\u001b[1;32m    189\u001b[0m         \u001b[0;32mreturn\u001b[0m \u001b[0mout\u001b[0m\u001b[0;34m\u001b[0m\u001b[0m\n\u001b[1;32m    190\u001b[0m     \u001b[0;32melse\u001b[0m\u001b[0;34m:\u001b[0m\u001b[0;34m\u001b[0m\u001b[0m\n",
      "\u001b[0;32m/home/adebahr/apercal/lib.pyc\u001b[0m in \u001b[0;36mbasher\u001b[0;34m(cmd, showasinfo)\u001b[0m\n\u001b[1;32m    215\u001b[0m         \u001b[0mcmd\u001b[0m \u001b[0;34m=\u001b[0m \u001b[0mcmd\u001b[0m\u001b[0;34m.\u001b[0m\u001b[0mreplace\u001b[0m\u001b[0;34m(\u001b[0m\u001b[0;34m\")\"\u001b[0m\u001b[0;34m,\u001b[0m \u001b[0;34m\"\\)\"\u001b[0m\u001b[0;34m)\u001b[0m\u001b[0;34m\u001b[0m\u001b[0m\n\u001b[1;32m    216\u001b[0m     proc = subprocess.Popen(cmd, stdout=subprocess.PIPE,\n\u001b[0;32m--> 217\u001b[0;31m             stderr = subprocess.PIPE, shell=True)\n\u001b[0m\u001b[1;32m    218\u001b[0m     \u001b[0mout\u001b[0m\u001b[0;34m,\u001b[0m \u001b[0merr\u001b[0m \u001b[0;34m=\u001b[0m \u001b[0mproc\u001b[0m\u001b[0;34m.\u001b[0m\u001b[0mcommunicate\u001b[0m\u001b[0;34m(\u001b[0m\u001b[0;34m)\u001b[0m\u001b[0;34m\u001b[0m\u001b[0m\n\u001b[1;32m    219\u001b[0m \u001b[0;34m\u001b[0m\u001b[0m\n",
      "\u001b[0;32m/usr/lib/python2.7/subprocess.pyc\u001b[0m in \u001b[0;36m__init__\u001b[0;34m(self, args, bufsize, executable, stdin, stdout, stderr, preexec_fn, close_fds, shell, cwd, env, universal_newlines, startupinfo, creationflags)\u001b[0m\n\u001b[1;32m    709\u001b[0m                                 \u001b[0mp2cread\u001b[0m\u001b[0;34m,\u001b[0m \u001b[0mp2cwrite\u001b[0m\u001b[0;34m,\u001b[0m\u001b[0;34m\u001b[0m\u001b[0m\n\u001b[1;32m    710\u001b[0m                                 \u001b[0mc2pread\u001b[0m\u001b[0;34m,\u001b[0m \u001b[0mc2pwrite\u001b[0m\u001b[0;34m,\u001b[0m\u001b[0;34m\u001b[0m\u001b[0m\n\u001b[0;32m--> 711\u001b[0;31m                                 errread, errwrite)\n\u001b[0m\u001b[1;32m    712\u001b[0m         \u001b[0;32mexcept\u001b[0m \u001b[0mException\u001b[0m\u001b[0;34m:\u001b[0m\u001b[0;34m\u001b[0m\u001b[0m\n\u001b[1;32m    713\u001b[0m             \u001b[0;31m# Preserve original exception in case os.close raises.\u001b[0m\u001b[0;34m\u001b[0m\u001b[0;34m\u001b[0m\u001b[0m\n",
      "\u001b[0;32m/usr/lib/python2.7/subprocess.pyc\u001b[0m in \u001b[0;36m_execute_child\u001b[0;34m(self, args, executable, preexec_fn, close_fds, cwd, env, universal_newlines, startupinfo, creationflags, shell, to_close, p2cread, p2cwrite, c2pread, c2pwrite, errread, errwrite)\u001b[0m\n\u001b[1;32m   1233\u001b[0m                     \u001b[0mgc\u001b[0m\u001b[0;34m.\u001b[0m\u001b[0mdisable\u001b[0m\u001b[0;34m(\u001b[0m\u001b[0;34m)\u001b[0m\u001b[0;34m\u001b[0m\u001b[0m\n\u001b[1;32m   1234\u001b[0m                     \u001b[0;32mtry\u001b[0m\u001b[0;34m:\u001b[0m\u001b[0;34m\u001b[0m\u001b[0m\n\u001b[0;32m-> 1235\u001b[0;31m                         \u001b[0mself\u001b[0m\u001b[0;34m.\u001b[0m\u001b[0mpid\u001b[0m \u001b[0;34m=\u001b[0m \u001b[0mos\u001b[0m\u001b[0;34m.\u001b[0m\u001b[0mfork\u001b[0m\u001b[0;34m(\u001b[0m\u001b[0;34m)\u001b[0m\u001b[0;34m\u001b[0m\u001b[0m\n\u001b[0m\u001b[1;32m   1236\u001b[0m                     \u001b[0;32mexcept\u001b[0m\u001b[0;34m:\u001b[0m\u001b[0;34m\u001b[0m\u001b[0m\n\u001b[1;32m   1237\u001b[0m                         \u001b[0;32mif\u001b[0m \u001b[0mgc_was_enabled\u001b[0m\u001b[0;34m:\u001b[0m\u001b[0;34m\u001b[0m\u001b[0m\n",
      "\u001b[0;31mKeyboardInterrupt\u001b[0m: "
     ],
     "output_type": "error"
    }
   ],
   "source": [
    "final.go()"
   ]
  },
  {
   "cell_type": "code",
   "execution_count": null,
   "metadata": {},
   "outputs": [],
   "source": [
    ""
   ]
  }
 ],
 "metadata": {
  "kernelspec": {
   "display_name": "Python 2",
   "language": "python",
   "name": "python2"
  },
  "language_info": {
   "codemirror_mode": {
    "name": "ipython",
    "version": 2.0
   },
   "file_extension": ".py",
   "mimetype": "text/x-python",
   "name": "python",
   "nbconvert_exporter": "python",
   "pygments_lexer": "ipython2",
   "version": "2.7.6"
  }
 },
 "nbformat": 4,
 "nbformat_minor": 0
}