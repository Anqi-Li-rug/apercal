{
 "cells": [
  {
   "cell_type": "code",
   "execution_count": 1,
   "metadata": {
    "collapsed": true
   },
   "outputs": [
    {
     "name": "stderr",
     "output_type": "stream",
     "text": [
      "root - INFO : Logging started!\n"
     ]
    },
    {
     "name": "stderr",
     "output_type": "stream",
     "text": [
      "root - INFO : To see the log in a bash window use the following command:\n"
     ]
    },
    {
     "name": "stderr",
     "output_type": "stream",
     "text": [
      "root - INFO : tail -n +1 -f /home/adebahr/apercal/ipython-notebooks/commissioning/APERTIF/Bandpass_stability.log\n"
     ]
    },
    {
     "name": "stdout",
     "output_type": "stream",
     "text": [
      "Setup logger with lib.setup_logger()\n"
     ]
    }
   ],
   "source": [
    "%config IPCompleter.greedy=True\n",
    "%matplotlib notebook\n",
    "import lib\n",
    "lib.setup_logger('info', logfile='/home/adebahr/apercal/ipython-notebooks/commissioning/APERTIF/Bandpass_stability.log')\n",
    "import apercal"
   ]
  },
  {
   "cell_type": "code",
   "execution_count": 2,
   "metadata": {},
   "outputs": [
    {
     "name": "stderr",
     "output_type": "stream",
     "text": [
      "PREFLAG - INFO : ### Configuration file /home/adebahr/apercal/ipython-notebooks/commissioning/APERTIF/Bandpass_stability.cfg successfully read! ###\n"
     ]
    }
   ],
   "source": [
    "preflag = apercal.preflag('/home/adebahr/apercal/ipython-notebooks/commissioning/APERTIF/Bandpass_stability.cfg')"
   ]
  },
  {
   "cell_type": "code",
   "execution_count": 3,
   "metadata": {},
   "outputs": [
    {
     "name": "stderr",
     "output_type": "stream",
     "text": [
      "PREFLAG - INFO : ### Starting pre-flagging of known flags ###\n"
     ]
    },
    {
     "name": "stderr",
     "output_type": "stream",
     "text": [
      "PREFLAG - INFO : # Moved to directory /data/adebahr/apertif/090808_3C286/raw #\n"
     ]
    },
    {
     "name": "stderr",
     "output_type": "stream",
     "text": [
      "PREFLAG - INFO : # Flagging auto-correlations for flux calibrator data #\n"
     ]
    },
    {
     "name": "stderr",
     "output_type": "stream",
     "text": [
      "PREFLAG - INFO : # Auto-correlation flagging for flux calibrator data done #\n"
     ]
    },
    {
     "name": "stderr",
     "output_type": "stream",
     "text": [
      "PREFLAG - INFO : # Flagging shadowed antennas for flux calibrator data #\n"
     ]
    },
    {
     "name": "stderr",
     "output_type": "stream",
     "text": [
      "PREFLAG - INFO : # Flagging of shadowed antennas for flux calibrator data done #\n"
     ]
    },
    {
     "name": "stderr",
     "output_type": "stream",
     "text": [
      "PREFLAG - INFO : # Flagging timerange 19:45:0~21:00:0 for flux calibrator data #\n"
     ]
    },
    {
     "name": "stderr",
     "output_type": "stream",
     "text": [
      "PREFLAG - INFO : # Flagging of timerange 19:45:0~21:00:0 for flux calibrator data done #\n"
     ]
    },
    {
     "name": "stderr",
     "output_type": "stream",
     "text": [
      "PREFLAG - INFO : ### Pre-flagging of known flags done ###\n"
     ]
    },
    {
     "name": "stderr",
     "output_type": "stream",
     "text": [
      "PREFLAG - INFO : ### Doing pre-flagging with AOFlagger ###\n"
     ]
    },
    {
     "ename": "TypeError",
     "evalue": "a float is required",
     "traceback": [
      "\u001b[0;31m\u001b[0m",
      "\u001b[0;31mTypeError\u001b[0mTraceback (most recent call last)",
      "\u001b[0;31mTypeError\u001b[0m: a float is required"
     ],
     "output_type": "error"
    }
   ],
   "source": [
    "# This step gives an error in the end, but runs as intended. Have to fix this later\n",
    "preflag.go()"
   ]
  },
  {
   "cell_type": "code",
   "execution_count": 4,
   "metadata": {},
   "outputs": [
    {
     "name": "stderr",
     "output_type": "stream",
     "text": [
      "CONVERT - INFO : ### Configuration file /home/adebahr/apercal/ipython-notebooks/commissioning/APERTIF/Bandpass_stability.cfg successfully read! ###\n"
     ]
    }
   ],
   "source": [
    "convert = apercal.convert('/home/adebahr/apercal/ipython-notebooks/commissioning/APERTIF/Bandpass_stability.cfg')"
   ]
  },
  {
   "cell_type": "code",
   "execution_count": 5,
   "metadata": {},
   "outputs": [
    {
     "name": "stderr",
     "output_type": "stream",
     "text": [
      "CONVERT - INFO : ########## FILE CONVERSION started ##########\n"
     ]
    },
    {
     "name": "stderr",
     "output_type": "stream",
     "text": [
      "CONVERT - INFO : ### Starting conversion from MS to UVFITS format ###\n"
     ]
    },
    {
     "name": "stderr",
     "output_type": "stream",
     "text": [
      "CONVERT - INFO : # Creating directory /data/adebahr/apertif/090808_3C286/crosscal #\n"
     ]
    },
    {
     "name": "stderr",
     "output_type": "stream",
     "text": [
      "CONVERT - INFO : # Moved to directory /data/adebahr/apertif/090808_3C286/crosscal #\n"
     ]
    },
    {
     "name": "stderr",
     "output_type": "stream",
     "text": [
      "CONVERT - INFO : ### Using CASA toolkit to convert from MS to UVFITS format! ###\n"
     ]
    },
    {
     "name": "stderr",
     "output_type": "stream",
     "text": [
      "CONVERT - INFO : ### Converted MS file 3C286.MS to UVFITS using CASA toolkit! ###\n"
     ]
    },
    {
     "name": "stderr",
     "output_type": "stream",
     "text": [
      "CONVERT - INFO : ### Conversion from MS to UVFITS format done! ###\n"
     ]
    },
    {
     "name": "stderr",
     "output_type": "stream",
     "text": [
      "CONVERT - INFO : ### Starting conversion from UVFITS to MIRIAD format ###\n"
     ]
    },
    {
     "name": "stderr",
     "output_type": "stream",
     "text": [
      "CONVERT - INFO : ### Using MIRIAD fits task to convert data from UVFITS to MIRIAD format ###\n"
     ]
    },
    {
     "name": "stderr",
     "output_type": "stream",
     "text": [
      "CONVERT - INFO : ### Converted UVFITS file 3C286.MS to MIRIAD format using MIRIAD task fits! ###\n"
     ]
    },
    {
     "name": "stderr",
     "output_type": "stream",
     "text": [
      "CONVERT - INFO : ### Conversion from UVFITS to MIRIAD format done! ###\n"
     ]
    },
    {
     "name": "stderr",
     "output_type": "stream",
     "text": [
      "CONVERT - INFO : ########## FILE CONVERSION done ##########\n"
     ]
    }
   ],
   "source": [
    "convert.go()"
   ]
  },
  {
   "cell_type": "code",
   "execution_count": 6,
   "metadata": {},
   "outputs": [
    {
     "name": "stderr",
     "output_type": "stream",
     "text": [
      "CROSSCAL - INFO : ### Configuration file /home/adebahr/apercal/ipython-notebooks/commissioning/APERTIF/Bandpass_stability.cfg successfully read! ###\n"
     ]
    }
   ],
   "source": [
    "# Calibrate the flux calibrator now\n",
    "# Initialise the crosscal module\n",
    "ccal = apercal.ccal('/home/adebahr/apercal/ipython-notebooks/commissioning/APERTIF/Bandpass_stability.cfg')"
   ]
  },
  {
   "cell_type": "code",
   "execution_count": 7,
   "metadata": {},
   "outputs": [
    {
     "data": {
      "text/plain": [
       "['MfCal: $Revision: 1.20 $, $Date: 2017/05/08 02:31:10 $',\n 'Reading the data ...',\n 'Number correlations accepted: 11433931',\n 'Number of frequency bands/settings: 1',\n 'Number of polarisations selected: 1',\n 'Number of solution intervals: 11',\n 'Number of passband solution intervals: 11',\n 'Initialising ...',\n 'Using known frequency variation of 3c286',\n 'Generating initial solution estimate ...',\n 'Doing solution refinement ...',\n 'Iter= 1, Solution Error:  1.314',\n 'Iter= 2, Solution Error:  0.004',\n 'Iter= 3, Solution Error:  0.003',\n 'Iter= 4, Solution Error:  0.002',\n 'Iter= 5, Solution Error:  0.001',\n 'Iter= 6, Solution Error:  0.001',\n 'Saving solution ...']"
      ]
     },
     "execution_count": 7,
     "metadata": {},
     "output_type": "execute_result"
    }
   ],
   "source": [
    "# Set the parameters for the bandpass calibration\n",
    "gainint = '60'\n",
    "gapint = '60'\n",
    "bpint = '60'\n",
    "\n",
    "# Execute the bandpass calibration\n",
    "mfcal = lib.miriad('mfcal')\n",
    "mfcal.vis = ccal.fluxcal\n",
    "# Uncomment the next line if you additionally want to solve for delays\n",
    "# mfcal.options = 'delay'\n",
    "mfcal.stokes = 'XX'\n",
    "mfcal.interval = gainint + ',' + gapint + ',' + bpint\n",
    "mfcal.go()"
   ]
  },
  {
   "cell_type": "code",
   "execution_count": 8,
   "metadata": {},
   "outputs": [],
   "source": [
    "import sub_readmirlog\n",
    "values, freqs = sub_readmirlog.get_bp(ccal.fluxcal)"
   ]
  },
  {
   "cell_type": "code",
   "execution_count": 9,
   "metadata": {},
   "outputs": [
    {
     "name": "stdout",
     "output_type": "stream",
     "text": [
      "[[[ 0.61656  0.62122  0.61325 ...,  0.61607  0.6226   0.62194]\n  [ 0.6349   0.63871  0.63726 ...,  0.63262  0.63669  0.64024]\n  [ 0.70044  0.70101  0.68672 ...,  0.68706  0.7016   0.68585]\n  ..., \n  [ 1.19099  1.18999  1.19587 ...,  1.18902  1.1781   1.17507]\n  [ 1.08435  1.08751  1.08263 ...,  1.07953  1.08486  1.07575]\n  [ 0.98957  0.98351  0.99244 ...,  0.9833   0.98545  0.99069]]\n\n [[ 0.6409   0.6394   0.64033 ...,  0.63669  0.64161  0.64021]\n  [ 0.68173  0.68058  0.684   ...,  0.68665  0.6773   0.68561]\n  [ 0.72599  0.72731  0.7384  ...,  0.73847  0.72294  0.74117]\n  ..., \n  [ 1.10697  1.11135  1.11267 ...,  1.10588  1.10984  1.1073 ]\n  [ 1.00618  1.02285  1.00765 ...,  1.00554  1.01064  1.01144]\n  [ 0.93458  0.93082  0.92706 ...,  0.92222  0.92947  0.9275 ]]\n\n [[ 0.68074  0.66295  0.66088 ...,  0.63941  0.65699  0.67018]\n  [ 0.68722  0.67871  0.66358 ...,  0.64268  0.66168  0.68146]\n  [ 0.74471  0.73106  0.73689 ...,  0.70295  0.72822  0.74681]\n  ..., \n  [ 1.12101  1.13198  1.12013 ...,  1.14432  1.14865  1.1437 ]\n  [ 1.02047  1.01938  1.0202  ...,  1.06257  1.04249  1.0415 ]\n  [ 0.92395  0.93411  0.93761 ...,  0.96109  0.95687  0.94591]]\n\n [[ 0.       0.64977  0.65564 ...,  0.6568   0.64295  0.65142]\n  [ 0.       0.6606   0.65203 ...,  0.65274  0.65921  0.65358]\n  [ 0.       0.72772  0.7227  ...,  0.72677  0.71343  0.72837]\n  ..., \n  [ 0.       1.15388  1.14547 ...,  1.14185  1.14889  1.13761]\n  [ 0.       1.04385  1.03873 ...,  1.04345  1.04971  1.04183]\n  [ 0.       0.96195  0.96169 ...,  0.95849  0.95371  0.95349]]\n\n [[ 0.55776  0.57289  0.56874 ...,  0.64017  0.       0.     ]\n  [ 0.64116  0.64655  0.63382 ...,  0.66094  0.       0.     ]\n  [ 0.69368  0.69677  0.69074 ...,  0.70162  0.       0.     ]\n  ..., \n  [ 1.15858  1.14395  1.14357 ...,  1.14766  0.       0.     ]\n  [ 1.05154  1.03926  1.045   ...,  1.02602  0.       0.     ]\n  [ 0.974    0.9568   0.96013 ...,  1.00517  0.       0.     ]]]\n"
     ]
    }
   ],
   "source": [
    "# The bandpass results are ordered in a 3D numpy array now in the following order (antenna, frequency, solution interval)\n",
    "print(values)"
   ]
  },
  {
   "cell_type": "code",
   "execution_count": 10,
   "metadata": {},
   "outputs": [
    {
     "name": "stdout",
     "output_type": "stream",
     "text": [
      "[ 1.307019   1.3070313  1.3070434 ...,  1.4413574  1.4413697  1.4413818]\n"
     ]
    }
   ],
   "source": [
    "# In addition it gives the a 1D-array of the frequency axis\n",
    "print(freqs)"
   ]
  },
  {
   "cell_type": "code",
   "execution_count": 11,
   "metadata": {},
   "outputs": [
    {
     "data": {
      "text/plain": [
       "<IPython.core.display.Javascript object>"
      ]
     },
     "execution_count": 0,
     "metadata": {},
     "output_type": "execute_result"
    },
    {
     "data": {
      "text/html": [
       "<div id='e4bd384b-8c9e-45c7-8874-d563a040e4b4'></div>"
      ],
      "text/plain": [
       "<div id='e4bd384b-8c9e-45c7-8874-d563a040e4b4'></div>"
      ]
     },
     "execution_count": 0,
     "metadata": {},
     "output_type": "execute_result"
    }
   ],
   "source": [
    "# You can now easily slice and plot parts of the array in the usual manner\n",
    "# If you want to plot the solutions for all timestamps of the first antenna\n",
    "from matplotlib import pyplot as plt\n",
    "plt.figure()\n",
    "plt.plot(values[0,:,:])\n",
    "plt.show()"
   ]
  },
  {
   "cell_type": "code",
   "execution_count": 12,
   "metadata": {},
   "outputs": [
    {
     "data": {
      "text/plain": [
       "<IPython.core.display.Javascript object>"
      ]
     },
     "execution_count": 0,
     "metadata": {},
     "output_type": "execute_result"
    },
    {
     "data": {
      "text/html": [
       "<div id='cd7b8d18-d703-4c9f-8371-fb247c2ff98d'></div>"
      ],
      "text/plain": [
       "<div id='cd7b8d18-d703-4c9f-8371-fb247c2ff98d'></div>"
      ]
     },
     "execution_count": 0,
     "metadata": {},
     "output_type": "execute_result"
    }
   ],
   "source": [
    "# Or only for the first solution interval\n",
    "from matplotlib import pyplot as plt\n",
    "plt.figure()\n",
    "plt.plot(values[0,:,0])\n",
    "plt.show()"
   ]
  },
  {
   "cell_type": "code",
   "execution_count": null,
   "metadata": {},
   "outputs": [],
   "source": [
    ""
   ]
  }
 ],
 "metadata": {
  "kernelspec": {
   "display_name": "Python 2",
   "language": "python",
   "name": "python2"
  },
  "language_info": {
   "codemirror_mode": {
    "name": "ipython",
    "version": 2.0
   },
   "file_extension": ".py",
   "mimetype": "text/x-python",
   "name": "python",
   "nbconvert_exporter": "python",
   "pygments_lexer": "ipython2",
   "version": "2.7.6"
  }
 },
 "nbformat": 4,
 "nbformat_minor": 0
}