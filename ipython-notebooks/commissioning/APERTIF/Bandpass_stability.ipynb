{
 "cells": [
  {
   "cell_type": "code",
   "execution_count": 1,
   "metadata": {
    "collapsed": true
   },
   "outputs": [
    {
     "name": "stderr",
     "output_type": "stream",
     "text": [
      "root - INFO : Logging started!\n"
     ]
    },
    {
     "name": "stderr",
     "output_type": "stream",
     "text": [
      "root - INFO : To see the log in a bash window use the following command:\n"
     ]
    },
    {
     "name": "stderr",
     "output_type": "stream",
     "text": [
      "root - INFO : tail -n +1 -f /home/adebahr/apercal/ipython-notebooks/commissioning/APERTIF/Bandpass_stability.log\n"
     ]
    },
    {
     "name": "stdout",
     "output_type": "stream",
     "text": [
      "Setup logger with lib.setup_logger()\n"
     ]
    }
   ],
   "source": [
    "%config IPCompleter.greedy=True\n",
    "%matplotlib notebook\n",
    "import lib\n",
    "lib.setup_logger('info', logfile='/home/adebahr/apercal/ipython-notebooks/commissioning/APERTIF/Bandpass_stability.log')\n",
    "import apercal"
   ]
  },
  {
   "cell_type": "code",
   "execution_count": 2,
   "metadata": {},
   "outputs": [
    {
     "name": "stderr",
     "output_type": "stream",
     "text": [
      "PREFLAG - INFO : ### Configuration file /home/adebahr/apercal/ipython-notebooks/commissioning/APERTIF/Bandpass_stability.cfg successfully read! ###\n"
     ]
    }
   ],
   "source": [
    "preflag = apercal.preflag('/home/adebahr/apercal/ipython-notebooks/commissioning/APERTIF/Bandpass_stability.cfg')"
   ]
  },
  {
   "cell_type": "code",
   "execution_count": 3,
   "metadata": {},
   "outputs": [
    {
     "name": "stderr",
     "output_type": "stream",
     "text": [
      "PREFLAG - INFO : ### Starting pre-flagging of known flags ###\n"
     ]
    },
    {
     "name": "stderr",
     "output_type": "stream",
     "text": [
      "PREFLAG - INFO : # Moved to directory /data/adebahr/apertif/100608_3C48/raw #\n"
     ]
    },
    {
     "name": "stderr",
     "output_type": "stream",
     "text": [
      "PREFLAG - INFO : # Flagging auto-correlations for flux calibrator data #\n"
     ]
    },
    {
     "name": "stderr",
     "output_type": "stream",
     "text": [
      "PREFLAG - INFO : # Auto-correlation flagging for flux calibrator data done #\n"
     ]
    },
    {
     "name": "stderr",
     "output_type": "stream",
     "text": [
      "PREFLAG - INFO : # Flagging shadowed antennas for flux calibrator data #\n"
     ]
    },
    {
     "name": "stderr",
     "output_type": "stream",
     "text": [
      "PREFLAG - INFO : # Flagging of shadowed antennas for flux calibrator data done #\n"
     ]
    },
    {
     "name": "stderr",
     "output_type": "stream",
     "text": [
      "PREFLAG - INFO : ### Pre-flagging of known flags done ###\n"
     ]
    },
    {
     "name": "stderr",
     "output_type": "stream",
     "text": [
      "PREFLAG - INFO : ### Doing pre-flagging with AOFlagger ###\n"
     ]
    },
    {
     "ename": "TypeError",
     "evalue": "a float is required",
     "traceback": [
      "\u001b[0;31m\u001b[0m",
      "\u001b[0;31mTypeError\u001b[0mTraceback (most recent call last)",
      "\u001b[0;31mTypeError\u001b[0m: a float is required"
     ],
     "output_type": "error"
    }
   ],
   "source": [
    "# This step gives an error in the end, but runs as intended. Have to fix this later\n",
    "preflag.go()"
   ]
  },
  {
   "cell_type": "code",
   "execution_count": 4,
   "metadata": {},
   "outputs": [
    {
     "name": "stderr",
     "output_type": "stream",
     "text": [
      "CONVERT - INFO : ### Configuration file /home/adebahr/apercal/ipython-notebooks/commissioning/APERTIF/Bandpass_stability.cfg successfully read! ###\n"
     ]
    }
   ],
   "source": [
    "convert = apercal.convert('/home/adebahr/apercal/ipython-notebooks/commissioning/APERTIF/Bandpass_stability.cfg')"
   ]
  },
  {
   "cell_type": "code",
   "execution_count": 5,
   "metadata": {},
   "outputs": [
    {
     "name": "stderr",
     "output_type": "stream",
     "text": [
      "CONVERT - INFO : ########## FILE CONVERSION started ##########\n"
     ]
    },
    {
     "name": "stderr",
     "output_type": "stream",
     "text": [
      "CONVERT - INFO : ### Starting conversion from MS to UVFITS format ###\n"
     ]
    },
    {
     "name": "stderr",
     "output_type": "stream",
     "text": [
      "CONVERT - INFO : # Creating directory /data/adebahr/apertif/100608_3C48/crosscal #\n"
     ]
    },
    {
     "name": "stderr",
     "output_type": "stream",
     "text": [
      "CONVERT - INFO : # Moved to directory /data/adebahr/apertif/100608_3C48/crosscal #\n"
     ]
    },
    {
     "name": "stderr",
     "output_type": "stream",
     "text": [
      "CONVERT - INFO : ### Using CASA toolkit to convert from MS to UVFITS format! ###\n"
     ]
    },
    {
     "name": "stderr",
     "output_type": "stream",
     "text": [
      "CONVERT - INFO : ### Converted MS file 3C48.MS to UVFITS using CASA toolkit! ###\n"
     ]
    },
    {
     "name": "stderr",
     "output_type": "stream",
     "text": [
      "CONVERT - INFO : ### Conversion from MS to UVFITS format done! ###\n"
     ]
    },
    {
     "name": "stderr",
     "output_type": "stream",
     "text": [
      "CONVERT - INFO : ### Starting conversion from UVFITS to MIRIAD format ###\n"
     ]
    },
    {
     "name": "stderr",
     "output_type": "stream",
     "text": [
      "CONVERT - INFO : ### Using MIRIAD fits task to convert data from UVFITS to MIRIAD format ###\n"
     ]
    },
    {
     "name": "stderr",
     "output_type": "stream",
     "text": [
      "CONVERT - INFO : ### Converted UVFITS file 3C48.MS to MIRIAD format using MIRIAD task fits! ###\n"
     ]
    },
    {
     "name": "stderr",
     "output_type": "stream",
     "text": [
      "CONVERT - INFO : ### Conversion from UVFITS to MIRIAD format done! ###\n"
     ]
    },
    {
     "name": "stderr",
     "output_type": "stream",
     "text": [
      "CONVERT - INFO : ########## FILE CONVERSION done ##########\n"
     ]
    }
   ],
   "source": [
    "convert.go()"
   ]
  },
  {
   "cell_type": "code",
   "execution_count": 2,
   "metadata": {},
   "outputs": [
    {
     "name": "stderr",
     "output_type": "stream",
     "text": [
      "CROSSCAL - INFO : ### Configuration file /home/adebahr/apercal/ipython-notebooks/commissioning/APERTIF/Bandpass_stability.cfg successfully read! ###\n"
     ]
    }
   ],
   "source": [
    "# Calibrate the flux calibrator now\n",
    "# Initialise the crosscal module\n",
    "ccal = apercal.ccal('/home/adebahr/apercal/ipython-notebooks/commissioning/APERTIF/Bandpass_stability.cfg')"
   ]
  },
  {
   "cell_type": "code",
   "execution_count": 3,
   "metadata": {},
   "outputs": [
    {
     "data": {
      "text/plain": [
       "['MfCal: $Revision: 1.20 $, $Date: 2017/05/08 02:31:10 $']"
      ]
     },
     "execution_count": 3,
     "metadata": {},
     "output_type": "execute_result"
    }
   ],
   "source": [
    "# Set the parameters for the bandpass calibration\n",
    "gainint = '60' # Solution interval for calibrator gains\n",
    "gapint = '60' # Maximum time gap in data until a new solution interval starts\n",
    "bpint = '60' # Solution interval for the bandpass\n",
    "\n",
    "# Execute the bandpass calibration\n",
    "mfcal = lib.miriad('mfcal')\n",
    "mfcal.vis = ccal.fluxcal\n",
    "# Comment the next line out if you don't want to solve for delays\n",
    "mfcal.options = 'delay'\n",
    "mfcal.stokes = 'XX'\n",
    "mfcal.interval = gainint + ',' + gapint + ',' + bpint\n",
    "mfcal.go()"
   ]
  },
  {
   "cell_type": "code",
   "execution_count": 3,
   "metadata": {},
   "outputs": [
    {
     "name": "stdout",
     "output_type": "stream",
     "text": [
      "### Cleaning temporary directory! ###\n"
     ]
    }
   ],
   "source": [
    "import sub_readmirlog\n",
    "values, freqs = sub_readmirlog.get_bp(ccal.crosscaldir + '/' + ccal.fluxcal)"
   ]
  },
  {
   "cell_type": "code",
   "execution_count": 4,
   "metadata": {},
   "outputs": [
    {
     "name": "stdout",
     "output_type": "stream",
     "text": [
      "[[[ 0.64928  0.65051  0.64772  0.64697]\n  [ 0.66708  0.66579  0.66592  0.67001]\n  [ 0.72471  0.72529  0.73084  0.72099]\n  ..., \n  [ 1.13299  1.12879  1.12593  1.12938]\n  [ 1.03272  1.02164  1.02981  1.0309 ]\n  [ 0.94377  0.94623  0.94056  0.94029]]\n\n [[ 0.62129  0.62196  0.6233   0.62231]\n  [ 0.63477  0.63682  0.63808  0.63951]\n  [ 0.69376  0.69308  0.69016  0.68572]\n  ..., \n  [ 1.18436  1.19134  1.18702  1.19413]\n  [ 1.0835   1.08269  1.08303  1.07907]\n  [ 0.99131  0.99141  0.98972  0.99139]]\n\n [[ 0.59213  0.59156  0.58927  0.59291]\n  [ 0.63948  0.6415   0.64477  0.63875]\n  [ 0.7066   0.70255  0.70325  0.70965]\n  ..., \n  [ 1.14649  1.14722  1.14954  1.14787]\n  [ 1.04827  1.04332  1.04802  1.04118]\n  [ 0.95244  0.95371  0.95898  0.95526]]\n\n ..., \n [[ 0.64707  0.64488  0.64533  0.64753]\n  [ 0.66737  0.66121  0.66411  0.66286]\n  [ 0.72086  0.72417  0.72091  0.72486]\n  ..., \n  [ 1.14155  1.13868  1.14469  1.14545]\n  [ 1.04429  1.04461  1.04328  1.04418]\n  [ 0.95676  0.95479  0.9563   0.95447]]\n\n [[ 0.40183  0.39658  0.       0.     ]\n  [ 0.48085  0.4913   0.       0.     ]\n  [ 0.59686  0.59924  0.       0.     ]\n  ..., \n  [ 1.17323  1.16815  0.       0.     ]\n  [ 1.01914  1.02606  0.       0.     ]\n  [ 0.87344  0.87842  0.       0.     ]]\n\n [[ 0.62245  0.62364  0.61912  0.62229]\n  [ 0.63729  0.63857  0.63803  0.64038]\n  [ 0.70124  0.70307  0.70096  0.70068]\n  ..., \n  [ 1.10309  1.09991  1.09906  1.09837]\n  [ 0.99647  0.99854  0.99987  0.99958]\n  [ 0.90766  0.90806  0.91171  0.91068]]]\n"
     ]
    }
   ],
   "source": [
    "# The bandpass results are ordered in a 3D numpy array now in the following order (antenna, frequency, solution interval)\n",
    "print(values)"
   ]
  },
  {
   "cell_type": "code",
   "execution_count": 5,
   "metadata": {},
   "outputs": [
    {
     "name": "stdout",
     "output_type": "stream",
     "text": [
      "[ 1.307019   1.3070313  1.3070434 ...,  1.4413574  1.4413697  1.4413818]\n"
     ]
    }
   ],
   "source": [
    "# In addition it gives the 1D-array of the frequency axis. The unit is GHz.\n",
    "print(freqs)"
   ]
  },
  {
   "cell_type": "code",
   "execution_count": 6,
   "metadata": {},
   "outputs": [
    {
     "data": {
      "text/plain": [
       "<IPython.core.display.Javascript object>"
      ]
     },
     "execution_count": 0,
     "metadata": {},
     "output_type": "execute_result"
    },
    {
     "data": {
      "text/html": [
       "<div id='a5daa2cc-bd0b-4ecb-9845-4fb44d05dab9'></div>"
      ],
      "text/plain": [
       "<div id='a5daa2cc-bd0b-4ecb-9845-4fb44d05dab9'></div>"
      ]
     },
     "execution_count": 0,
     "metadata": {},
     "output_type": "execute_result"
    }
   ],
   "source": [
    "# You can now easily slice and plot parts of the array in the usual manner\n",
    "# If you want to plot the solutions for all timestamps of the first antenna\n",
    "from matplotlib import pyplot as plt\n",
    "plt.figure()\n",
    "plt.plot(values[0,:,:])\n",
    "plt.show()"
   ]
  },
  {
   "cell_type": "code",
   "execution_count": 7,
   "metadata": {},
   "outputs": [
    {
     "data": {
      "text/plain": [
       "<IPython.core.display.Javascript object>"
      ]
     },
     "execution_count": 0,
     "metadata": {},
     "output_type": "execute_result"
    },
    {
     "data": {
      "text/html": [
       "<div id='997e9b02-5bc5-4cce-9c8e-57ddaf02e5ac'></div>"
      ],
      "text/plain": [
       "<div id='997e9b02-5bc5-4cce-9c8e-57ddaf02e5ac'></div>"
      ]
     },
     "execution_count": 0,
     "metadata": {},
     "output_type": "execute_result"
    }
   ],
   "source": [
    "# Or only for the first solution interval\n",
    "from matplotlib import pyplot as plt\n",
    "plt.figure()\n",
    "plt.plot(values[0,:,0])\n",
    "plt.show()"
   ]
  },
  {
   "cell_type": "code",
   "execution_count": 8,
   "metadata": {},
   "outputs": [
    {
     "name": "stdout",
     "output_type": "stream",
     "text": [
      "[[[   0.189   92.268]\n  [   0.189   89.42 ]\n  [   0.189   86.608]\n  [   0.19    82.02 ]]\n\n [[   0.195 -112.632]\n  [   0.195 -114.651]\n  [   0.195 -115.651]\n  [   0.195 -118.458]]\n\n [[   0.208    0.   ]\n  [   0.208   -0.   ]\n  [   0.208   -0.   ]\n  [   0.208    0.   ]]\n\n [[   0.226  142.283]\n  [   0.226  142.85 ]\n  [   0.226  143.228]\n  [   0.226  142.5  ]]\n\n [[   0.222  -62.295]\n  [   0.222  -61.648]\n  [   0.223  -61.797]\n  [   0.223  -62.04 ]]\n\n [[   0.206 -158.081]\n  [   0.206 -156.421]\n  [   0.206 -154.005]\n  [   0.206 -150.745]]\n\n [[   0.505   -0.198]\n  [   0.505    1.413]\n  [   0.       0.   ]\n  [   0.       0.   ]]\n\n [[   0.221 -111.067]\n  [   0.222 -106.703]\n  [   0.222 -104.205]\n  [   0.223  -96.641]]]\n"
     ]
    }
   ],
   "source": [
    "# You can also convert the gains(amplitude, phase) and the delays to a numpy array\n",
    "# Amplitude, phase:\n",
    "gains, times = sub_readmirlog.get_gains(ccal.crosscaldir + '/' + ccal.fluxcal)\n",
    "# The values are ordered in (antenna, solution interval, amplitude[0] or phase[1]) order\n",
    "print(gains)"
   ]
  },
  {
   "cell_type": "code",
   "execution_count": 9,
   "metadata": {},
   "outputs": [
    {
     "data": {
      "text/plain": [
       "<IPython.core.display.Javascript object>"
      ]
     },
     "execution_count": 0,
     "metadata": {},
     "output_type": "execute_result"
    },
    {
     "data": {
      "text/html": [
       "<div id='828a6b46-dc65-48cd-8ca7-0c44a7fac21d'></div>"
      ],
      "text/plain": [
       "<div id='828a6b46-dc65-48cd-8ca7-0c44a7fac21d'></div>"
      ]
     },
     "execution_count": 0,
     "metadata": {},
     "output_type": "execute_result"
    }
   ],
   "source": [
    "# times is a datetime instance with the actual timestamps of the solution interval\n",
    "# matplotlib can use them\n",
    "# Let's plot the phase gains of the first antenna\n",
    "from matplotlib import pyplot as plt\n",
    "plt.figure()\n",
    "plt.plot(gains[0,:,1])\n",
    "plt.show()"
   ]
  },
  {
   "cell_type": "code",
   "execution_count": 10,
   "metadata": {},
   "outputs": [],
   "source": [
    "# If you solved for delays above you can also load them as a numpy array\n",
    "delays, times = sub_readmirlog.get_delays(ccal.crosscaldir + '/' + ccal.fluxcal)\n",
    "# The values are ordered in (antenna, solution interval) order. The unit is nanoseceonds."
   ]
  },
  {
   "cell_type": "code",
   "execution_count": null,
   "metadata": {},
   "outputs": [],
   "source": [
    ""
   ]
  }
 ],
 "metadata": {
  "kernelspec": {
   "display_name": "Python 2",
   "language": "python",
   "name": "python2"
  },
  "language_info": {
   "codemirror_mode": {
    "name": "ipython",
    "version": 2.0
   },
   "file_extension": ".py",
   "mimetype": "text/x-python",
   "name": "python",
   "nbconvert_exporter": "python",
   "pygments_lexer": "ipython2",
   "version": "2.7.6"
  }
 },
 "nbformat": 4,
 "nbformat_minor": 0
}