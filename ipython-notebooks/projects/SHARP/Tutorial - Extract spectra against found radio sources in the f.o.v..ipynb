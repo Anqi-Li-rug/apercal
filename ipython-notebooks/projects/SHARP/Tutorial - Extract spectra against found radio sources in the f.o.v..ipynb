{
 "cells": [
  {
   "cell_type": "code",
   "execution_count": 1,
   "metadata": {
    "scrolled": true
   },
   "outputs": [
    {
     "name": "stderr",
     "output_type": "stream",
     "text": [
      "root - INFO : Logging started!\n",
      "root - INFO : To see the log in a bash window use the following command:\n",
      "root - INFO : tail -n +1 -f /Users/maccagni/notebooks/apercal/ipython-notebooks_new/tutorials/logs/abs_ex.log\n"
     ]
    },
    {
     "name": "stdout",
     "output_type": "stream",
     "text": [
      "Setup logger with lib.setup_logger()\n",
      "\t*******\n",
      "\tmodules imported\n",
      "\t*******\n"
     ]
    }
   ],
   "source": [
    "# Now we want to actually use the pipeline to extract spectra from an APERTIF observation\n",
    "# Let's start the pipeline again as we did in the last tutorials\n",
    "# Remember to change all the directory paths to your own ones\n",
    "%config IPCompleter.greedy=True\n",
    "%matplotlib notebook\n",
    "import libs.lib as lib\n",
    "lib.setup_logger('info', logfile='/home/maccagni/apercal/ipython-notebooks/projects/SHARP/Tutorial_abs_ex.log')\n",
    "\n",
    "from third_party.abs_ex import abs_ex as abs_ex\n",
    "print '\\t*******\\n\\tmodules imported\\n\\t*******'"
   ]
  },
  {
   "cell_type": "code",
   "execution_count": 2,
   "metadata": {
    "scrolled": false
   },
   "outputs": [
    {
     "name": "stdout",
     "output_type": "stream",
     "text": [
      "Help on class abs_ex in module third_party.abs_ex:\n",
      "\n",
      "class abs_ex\n",
      " |  Class for spectral studies (find continuum sources, extract spectra, analyze spectra)\n",
      " |  \n",
      " |  Methods defined here:\n",
      " |  \n",
      " |  __init__(self, file=None, **kwargs)\n",
      " |      Set logger for spectrum extraction\n",
      " |      Find config file\n",
      " |      If not specified by user load default.cfga\n",
      " |  \n",
      " |  coord_to_pix(self)\n",
      " |      Module called by spec_ex\n",
      " |      Converts ra,dec of sources found loaded by load_src_csv\n",
      " |      into pixel coordinates of the datacube\n",
      " |  \n",
      " |  dec2deg(self, dec_dms)\n",
      " |      Converts DEC from DD:MM:SS to degrees\n",
      " |  \n",
      " |  find_src_imsad(self)\n",
      " |      Finds sources in continuum image above a threshold in flux specified by the user\n",
      " |      IN\n",
      " |          Continuum image: located in contdir\n",
      " |      IN cfga\n",
      " |          abs_ex_imsad_clip:   sets flux threshold in Jy\n",
      " |          abs_ex_imsad_region: xmin,xmax,ymin,ymax \n",
      " |                               defines regions where to search for sources\n",
      " |      OUT\n",
      " |          cont_src_imsad.txt:  table with found sources\n",
      " |                               stored in contdir\n",
      " |  \n",
      " |  go(self)\n",
      " |      Executes the whole spectrum extraction process as follows:\n",
      " |      1: set_dirs\n",
      " |      2: find_src_imsad\n",
      " |      3: load_src_csv\n",
      " |      4: spec_ex\n",
      " |      5: plot_spec\n",
      " |  \n",
      " |  load_src_csv(self)\n",
      " |      Loads .csv table, output of find_src_imsad\n",
      " |      Coordinates and flux of each source are stored in memory.\n",
      " |  \n",
      " |  optical_depth(self, flux, peak_flux)\n",
      " |      Module called by spec_ex\n",
      " |      Finds optical depth of an absorption line\n",
      " |      IN\n",
      " |          flux: absorbed flux of the line in Jy\n",
      " |          peak_flux: flux of the continuum source in Jy\n",
      " |  \n",
      " |  plot_spec(self)\n",
      " |      Plots spectra of all radio sources found by find_src_imsad \n",
      " |      saved in basedir/beam/abs/spec.\n",
      " |      Plots are stored in basedir/beam/abs/plot\n",
      " |      \n",
      " |      IN\n",
      " |          Spectra extracted by spec_ex\n",
      " |      \n",
      " |      IN cfga\n",
      " |          abs_ex_plot_xaxis= ' '      #: X-axis units ['velocity','frequency'] \n",
      " |          abs_ex_plot_yaxis= ' '      #: Y axis units ['flux','optical depth']\n",
      " |          abs_ex_plot_redsrc= True    #: plots line at redshift of source in spectrum\n",
      " |                                         redshift must be stored in table of load_src_csv\n",
      " |          abs_ex_plot_title= True     #: plot title: J2000 name of radio source\n",
      " |          abs_ex_plot_format= ' '     #: format of plot ['.pdf','.jpeg','.png']\n",
      " |      \n",
      " |      OUT\n",
      " |          For each source outputs have the following name:\n",
      " |          J2000_xaxis-unit_yaxis-unit.plot_format = J220919.87+180920.17_vel_flux.pdf\n",
      " |  \n",
      " |  ra2deg(self, ra_hms)\n",
      " |      Converts RA from HH:MM:SS to degrees\n",
      " |  \n",
      " |  reset(self)\n",
      " |      Resets the current step and remove all generated data. \n",
      " |      Be careful! Deletes all data generated in this step!\n",
      " |  \n",
      " |  set_dirs(self)\n",
      " |      Sets directory strucure and filenames\n",
      " |      Creates directory abs/ in basedir+beam and subdirectories spec/ and plot/\n",
      " |  \n",
      " |  show(self, showall=False)\n",
      " |      show: Prints the current settings of the pipeline. \n",
      " |            Only shows keywords, which are in the default analysis config file apercal/third_party/default.cfga\n",
      " |      \n",
      " |      showall=True : see all current settings of default.cfga instead of only the ones from the current class\n",
      " |  \n",
      " |  spec_ex(self)\n",
      " |      Extract spectrum at the coordinates of each source found by find_src_imsad\n",
      " |      IN\n",
      " |      Arrays stored in memory by load_src_csv\n",
      " |      IN cfga\n",
      " |      abs_ex_spec_format: .csv or .fits\n",
      " |      OUT\n",
      " |      Spectrum in .csv or .fits file format stored in abs/spec/ folder\n",
      " |      New line in abs_table.txt. Each line has the following information:\n",
      " |      \n",
      " |      Obs_ID, Beam, Source_ID, Ra, Dec, Peak Flux [Jy], r.m.s. spectrum\n",
      " |  \n",
      " |  write_spec_csv(self, tot, out_spec)\n",
      " |      Module called by spec_ex\n",
      " |      Writes extracted spectra in .csv format. \n",
      " |          Spectra are in flux and optical depth (tau).\n",
      " |          Noise is measured in the datacube for each channel, away from the radio source \n",
      " |      \n",
      " |      Spectra have the following columns[units]\n",
      " |      \n",
      " |          frequency[Hz], velocity[km/s], flux[Jy/beam], rms_flux[Jy/beam], tau,  rms_tau\n",
      " |  \n",
      " |  write_spec_fitstab(self, tot, out_spec)\n",
      " |      Module called by spec_ex\n",
      " |      Writes extracted spectra in .fits format. \n",
      " |          Spectra are in flux and optical depth (tau).\n",
      " |          Noise is measured in the datacube for each channel, away from the radio source \n",
      " |      \n",
      " |      Spectra have the following columns[units]\n",
      " |      \n",
      " |          frequency[Hz] velocity[km/s] flux[Jy/beam] rms_flux[Jy/beam] tau  rms_tau\n",
      " |  \n",
      " |  write_src_csv(self, tot)\n",
      " |      Module called by find_src_imsad\n",
      " |      Writes output of Miriad imsad in .csv file\n",
      " |      The table has the following columns\n",
      " |      \n",
      " |      Obs_ID, Beam, Source_ID, J2000, Ra, Dec, Pix_x(continuum), Pix_y(continuum), Flux_peak[Jy/beam]\n",
      "\n"
     ]
    }
   ],
   "source": [
    "# How does abs_ex work? let's read the documentation\n",
    "help(abs_ex)"
   ]
  },
  {
   "cell_type": "code",
   "execution_count": 3,
   "metadata": {},
   "outputs": [
    {
     "name": "stderr",
     "output_type": "stream",
     "text": [
      "ABS - INFO : ### Configuration file /Users/maccagni/notebooks/apercal/ipython-notebooks_new/tutorials/cfga/abs.cfga successfully read! ###\n"
     ]
    },
    {
     "name": "stdout",
     "output_type": "stream",
     "text": [
      "INITIAL\n",
      "\tapercaldir = /Users/maccagni/notebooks/apercal\n",
      "\tfluxcal = \n",
      "\tpolcal = \n",
      "\ttarget = Obj5\n",
      "\tbasedir = /Users/maccagni/Projects/ApertiF/SHARP/data/Obj5/\n",
      "\tbeam = beam_num\n",
      "\tlinesubdir = line\n",
      "\tcontsubdir = continuum\n",
      "RFI\n",
      "\taperfi_pol = xx\n",
      "\taperfi_uvaver = True\n",
      "\taperfi_uvaver_line = channel,3669,2,3,3\n",
      "\taperfi_badant = False\n",
      "\taperfi_bant = \n",
      "\taperfi_rmsclip = 5\n",
      "\taperfi_noise = rfi\n",
      "\taperfi_rfifree_min = 1300\n",
      "\taperfi_rfifree_max = 1380\n",
      "\taperfi_long_short = False\n",
      "\taperfi_plot_format = .jpg\n",
      "ABS\n",
      "\tabs_spec_ex = True\n",
      "\tabs_ex_convert_radec = True\n",
      "\tabs_ex_chrom_aber = True\n",
      "\tabs_ex_cube_zunit = velocity\n",
      "\tabs_ex_imsad_region = 775,775,1900,1900\n",
      "\tabs_ex_imsad_options =  \n",
      "\tabs_ex_imsad_clip = 0.005\n",
      "\tabs_ex_spec_ex = True\n",
      "\tabs_ex_spec_format = .fits\n",
      "\tabs_ex_plot_xaxis = frequency\n",
      "\tabs_ex_plot_yaxis = flux\n",
      "\tabs_ex_plot_redsrc = False\n",
      "\tabs_ex_plot_title = True\n",
      "\tabs_ex_plot_format = .png\n",
      "STACK\n",
      "\tabstack_dir = /Users/maccagni/data/Safari/detections/\n",
      "\tabstack_sample = safari_highpower\n",
      "\tabstack_srctab = safari_stacking_detections.fits\n",
      "\tabstack_filter_name = ['all']\n",
      "\tabstack_filter_switch = ['=']\n",
      "\tabstack_filter = [1]\n",
      "\tabstack_velrange = 4000\n",
      "\tabstack_plot_title = WSRT Survey - High radio power\n",
      "\tabstack_plot_linestyle = step\n"
     ]
    }
   ],
   "source": [
    "# Load the config file for the tutorial and look at it\n",
    "abs_ex = abs_ex('/home/maccagni/apercal/ipython-notebooks/projects/SHARP/Tutorial_abs_ex.cfga')\n",
    "abs_ex.show(showall=True)"
   ]
  },
  {
   "cell_type": "code",
   "execution_count": 6,
   "metadata": {
    "scrolled": false
   },
   "outputs": [
    {
     "name": "stderr",
     "output_type": "stream",
     "text": [
      "ABS - INFO : ########## STARTING ABSORPTION analysis ##########\n",
      "ABS - INFO : ### Find continuum sources ###\n",
      "ABS - INFO : # Continuum sources found. #\n",
      "ABS - INFO : # List of continuum sources saved on file. #\n",
      "ABS - INFO : ### Continuum sources found ###\n",
      "ABS - INFO : ### Extract spectra from the position of the peak of each continuum source ###\n",
      "ABS - WARNING : # Source #1 lies outside the fov of the data cube #\n"
     ]
    },
    {
     "name": "stdout",
     "output_type": "stream",
     "text": [
      "\t*****\n",
      "\tAbs_Ex INPUTS\n",
      "\t*****\n",
      "\n",
      "\tCube     \t: cube_han.fits\n",
      "\tContinuum\t: cont_im.fits\n",
      "/Users/maccagni/Projects/ApertiF/SHARP/data/Obj5/beam_num/line\n"
     ]
    },
    {
     "name": "stderr",
     "output_type": "stream",
     "text": [
      "ABS - INFO : # Extracted spectrum of source 2 084317+45081 #\n",
      "ABS - INFO : # Spectrum of source saved on file. #\n",
      "ABS - INFO : # Extracted spectrum of source 3 084213+451230 #\n",
      "ABS - INFO : # Spectrum of source saved on file. #\n",
      "ABS - INFO : # Extracted spectrum of source 4 084119+451630 #\n",
      "ABS - INFO : # Spectrum of source saved on file. #\n",
      "ABS - INFO : # Extracted spectrum of source 5 084413+45242 #\n",
      "ABS - INFO : # Spectrum of source saved on file. #\n",
      "ABS - INFO : # Extracted spectrum of source 6 084328+452337 #\n",
      "ABS - INFO : # Spectrum of source saved on file. #\n",
      "ABS - INFO : # Extracted spectrum of source 7 084215+452543 #\n",
      "ABS - INFO : # Spectrum of source saved on file. #\n",
      "ABS - INFO : # Extracted spectrum of source 8 084358+452714 #\n",
      "ABS - INFO : # Spectrum of source saved on file. #\n",
      "ABS - INFO : # Extracted spectrum of source 9 084337+452910 #\n",
      "ABS - INFO : # Spectrum of source saved on file. #\n",
      "ABS - INFO : # Extracted spectrum of source 10 084219+453056 #\n",
      "ABS - INFO : # Spectrum of source saved on file. #\n",
      "ABS - INFO : # Extracted spectrum of source 11 084241+453314 #\n",
      "ABS - INFO : # Spectrum of source saved on file. #\n",
      "ABS - INFO : # Extracted spectrum of source 12 084301+453426 #\n",
      "ABS - INFO : # Spectrum of source saved on file. #\n",
      "ABS - INFO : # Extracted spectrum of source 13 084307+453742 #\n",
      "ABS - INFO : # Spectrum of source saved on file. #\n",
      "ABS - INFO : # Extracted spectrum of source 14 084053+45381 #\n",
      "ABS - INFO : # Spectrum of source saved on file. #\n",
      "ABS - INFO : # Extracted spectrum of source 15 084360+454226 #\n",
      "ABS - INFO : # Spectrum of source saved on file. #\n",
      "ABS - INFO : # Extracted spectrum of source 16 084209+454628 #\n",
      "ABS - INFO : # Spectrum of source saved on file. #\n",
      "ABS - INFO : # Extracted spectrum of source 17 084116+454711 #\n",
      "ABS - INFO : # Spectrum of source saved on file. #\n",
      "ABS - INFO : # Extracted spectrum of source 18 084244+455130 #\n",
      "ABS - INFO : # Spectrum of source saved on file. #\n",
      "ABS - INFO : # Extracted spectrum of source 19 084434+455425 #\n",
      "ABS - INFO : # Spectrum of source saved on file. #\n",
      "ABS - INFO : # Extracted spectrum of source 20 084247+455723 #\n",
      "ABS - INFO : # Spectrum of source saved on file. #\n",
      "ABS - INFO : ### End of spectrum extraction ###\n",
      "ABS - WARNING : # Missing spectrum of source 1 083753+445113. #\n",
      "ABS - INFO : # Plotted spectrum of source 2 084317+45081. #\n",
      "ABS - INFO : # Plotted spectrum of source 3 084213+451230. #\n",
      "ABS - INFO : # Plotted spectrum of source 4 084119+451630. #\n",
      "ABS - INFO : # Plotted spectrum of source 5 084413+45242. #\n",
      "ABS - INFO : # Plotted spectrum of source 6 084328+452337. #\n",
      "ABS - INFO : # Plotted spectrum of source 7 084215+452543. #\n",
      "ABS - INFO : # Plotted spectrum of source 8 084358+452714. #\n",
      "ABS - INFO : # Plotted spectrum of source 9 084337+452910. #\n",
      "ABS - INFO : # Plotted spectrum of source 10 084219+453056. #\n",
      "ABS - INFO : # Plotted spectrum of source 11 084241+453314. #\n",
      "ABS - INFO : # Plotted spectrum of source 12 084301+453426. #\n",
      "ABS - INFO : # Plotted spectrum of source 13 084307+453742. #\n",
      "ABS - INFO : # Plotted spectrum of source 14 084053+45381. #\n",
      "ABS - INFO : # Plotted spectrum of source 15 084360+454226. #\n",
      "ABS - INFO : # Plotted spectrum of source 16 084209+454628. #\n",
      "ABS - INFO : # Plotted spectrum of source 17 084116+454711. #\n",
      "ABS - INFO : # Plotted spectrum of source 18 084244+455130. #\n",
      "ABS - INFO : # Plotted spectrum of source 19 084434+455425. #\n",
      "ABS - INFO : # Plotted spectrum of source 20 084247+455723. #\n",
      "ABS - INFO : ########## END ABSORPTION ANALYSIS ##########\n"
     ]
    },
    {
     "name": "stdout",
     "output_type": "stream",
     "text": [
      "\t*******\n",
      "\tAbs_ex done!!!!\n",
      "\t*******\n"
     ]
    }
   ],
   "source": [
    "# As all apercal routines the abs_ex.go() command executes the class automatically\n",
    "abs_ex.go()\n",
    "\n",
    "print '\\t*******\\n\\tAbs_ex done!!!!\\n\\t*******'"
   ]
  },
  {
   "cell_type": "code",
   "execution_count": 4,
   "metadata": {},
   "outputs": [
    {
     "name": "stdout",
     "output_type": "stream",
     "text": [
      "Help on method set_dirs in module third_party.abs_ex:\n",
      "\n",
      "set_dirs(self) method of third_party.abs_ex.abs_ex instance\n",
      "    Sets directory strucure and filenames\n",
      "    Creates directory abs/ in basedir+beam and subdirectories spec/ and plot/\n",
      "\n"
     ]
    }
   ],
   "source": [
    "# We run abs_ex modules one by one to understand what they do\n",
    "# 1st: set_names\n",
    "help(abs_ex.set_dirs)"
   ]
  },
  {
   "cell_type": "code",
   "execution_count": 5,
   "metadata": {},
   "outputs": [
    {
     "name": "stdout",
     "output_type": "stream",
     "text": [
      "\t*****\n",
      "\tAbs_Ex INPUTS\n",
      "\t*****\n",
      "\n",
      "\tCube     \t: c_han.fits\n",
      "\tContinuum\t: cont_im.fits\n"
     ]
    }
   ],
   "source": [
    "#Create directories for spectral analysis\n",
    "abs_ex.set_dirs()"
   ]
  },
  {
   "cell_type": "code",
   "execution_count": 6,
   "metadata": {},
   "outputs": [
    {
     "name": "stdout",
     "output_type": "stream",
     "text": [
      "Help on method find_src_imsad in module third_party.abs_ex:\n",
      "\n",
      "find_src_imsad(self) method of third_party.abs_ex.abs_ex instance\n",
      "    Finds sources in continuum image above a threshold in flux specified by the user\n",
      "    IN\n",
      "        Continuum image: located in contdir\n",
      "    IN cfga\n",
      "        abs_ex_imsad_clip:   sets flux threshold in Jy\n",
      "        abs_ex_imsad_region: xmin,xmax,ymin,ymax \n",
      "                             defines regions where to search for sources\n",
      "    OUT\n",
      "        cont_src_imsad.txt:  table with found sources\n",
      "                             stored in contdir\n",
      "\n"
     ]
    }
   ],
   "source": [
    "#2nd: find_src_imsad\n",
    "help(abs_ex.find_src_imsad)"
   ]
  },
  {
   "cell_type": "code",
   "execution_count": 6,
   "metadata": {},
   "outputs": [
    {
     "name": "stderr",
     "output_type": "stream",
     "text": [
      "ABS - INFO : ### Find continuum sources ###\n",
      "ABS - INFO : # Continuum sources found. #\n",
      "ABS - INFO : # List of continuum sources saved on file. #\n",
      "ABS - INFO : ### Continuum sources found ###\n"
     ]
    },
    {
     "name": "stdout",
     "output_type": "stream",
     "text": [
      "aaaa\n",
      "[['1' '084307+453742' '08:43:07.18' '+45:37:42' '511.0' '511.0'\n",
      "  '2.625E-01']]\n"
     ]
    },
    {
     "data": {
      "text/plain": [
       "0"
      ]
     },
     "execution_count": 6,
     "metadata": {},
     "output_type": "execute_result"
    }
   ],
   "source": [
    "# 2nd: RUN\n",
    "abs_ex.find_src_imsad()"
   ]
  },
  {
   "cell_type": "code",
   "execution_count": 7,
   "metadata": {},
   "outputs": [
    {
     "name": "stdout",
     "output_type": "stream",
     "text": [
      "Help on method load_src_csv in module third_party.abs_ex:\n",
      "\n",
      "load_src_csv(self) method of third_party.abs_ex.abs_ex instance\n",
      "    Loads .csv table, output of find_src_imsad\n",
      "    Coordinates and flux of each source are stored in memory.\n",
      "\n"
     ]
    }
   ],
   "source": [
    "# 3rd: load_src_csv\n",
    "help(abs_ex.load_src_csv)"
   ]
  },
  {
   "cell_type": "code",
   "execution_count": 6,
   "metadata": {},
   "outputs": [
    {
     "name": "stdout",
     "output_type": "stream",
     "text": [
      "[0.2625]\n"
     ]
    },
    {
     "data": {
      "text/plain": [
       "0"
      ]
     },
     "execution_count": 6,
     "metadata": {},
     "output_type": "execute_result"
    }
   ],
   "source": [
    "# 3rd: RUN\n",
    "abs_ex.load_src_csv()"
   ]
  },
  {
   "cell_type": "code",
   "execution_count": 7,
   "metadata": {},
   "outputs": [
    {
     "name": "stdout",
     "output_type": "stream",
     "text": [
      "Help on method spec_ex in module third_party.abs_ex:\n",
      "\n",
      "spec_ex(self) method of third_party.abs_ex.abs_ex instance\n",
      "    Extract spectrum at the coordinates of each source found by find_src_imsad\n",
      "    IN\n",
      "    Arrays stored in memory by load_src_csv\n",
      "    IN cfga\n",
      "    abs_ex_spec_format: .csv or .fits\n",
      "    OUT\n",
      "    Spectrum in .csv or .fits file format stored in abs/spec/ folder\n",
      "    New line in abs_table.txt. Each line has the following information:\n",
      "    \n",
      "    Obs_ID, Beam, Source_ID, Ra, Dec, Peak Flux [Jy], r.m.s. spectrum\n",
      "\n"
     ]
    }
   ],
   "source": [
    "# 4th: spec_ex \n",
    "help(abs_ex.spec_ex)"
   ]
  },
  {
   "cell_type": "code",
   "execution_count": 8,
   "metadata": {},
   "outputs": [
    {
     "name": "stderr",
     "output_type": "stream",
     "text": [
      "ABS - INFO : ### Extract spectra from the position of the peak of each continuum source ###\n",
      "/Users/maccagni/programs/anaconda2/lib/python2.7/site-packages/numpy/core/fromnumeric.py:2957: RuntimeWarning: Mean of empty slice.\n",
      "  out=out, **kwargs)\n",
      "/Users/maccagni/programs/anaconda2/lib/python2.7/site-packages/numpy/core/_methods.py:80: RuntimeWarning: invalid value encountered in true_divide\n",
      "  ret = ret.dtype.type(ret / rcount)\n",
      "/Users/maccagni/programs/anaconda2/lib/python2.7/site-packages/numpy/lib/function_base.py:4033: RuntimeWarning: Invalid value encountered in median\n",
      "  r = func(a, **kwargs)\n",
      "ABS - INFO : # Extracted spectrum of source 1 084307+453742 #\n",
      "ABS - INFO : # Spectrum of source saved on file. #\n",
      "ABS - INFO : ### End of spectrum extraction ###\n"
     ]
    },
    {
     "name": "stdout",
     "output_type": "stream",
     "text": [
      "/Users/maccagni/Projects/ApertiF/SHARP/data/Obj5/beam_num/line\n",
      "1 084307+453742 256 256 256 256\n"
     ]
    },
    {
     "data": {
      "text/plain": [
       "0"
      ]
     },
     "execution_count": 8,
     "metadata": {},
     "output_type": "execute_result"
    }
   ],
   "source": [
    "# 4th: RUN\n",
    "abs_ex.spec_ex()"
   ]
  },
  {
   "cell_type": "code",
   "execution_count": 4,
   "metadata": {},
   "outputs": [
    {
     "name": "stdout",
     "output_type": "stream",
     "text": [
      "Help on method plot_spec in module third_party.abs_ex:\n",
      "\n",
      "plot_spec(self) method of third_party.abs_ex.abs_ex instance\n",
      "    Plots spectra of all radio sources found by find_src_imsad \n",
      "    saved in basedir/beam/abs/spec.\n",
      "    Plots are stored in basedir/beam/abs/plot\n",
      "    \n",
      "    IN\n",
      "        Spectra extracted by spec_ex\n",
      "    \n",
      "    IN cfga\n",
      "        abs_ex_plot_xaxis= ' '      #: X-axis units ['velocity','frequency'] \n",
      "        abs_ex_plot_yaxis= ' '      #: Y axis units ['flux','optical depth']\n",
      "        abs_ex_plot_redsrc= True    #: plots line at redshift of source in spectrum\n",
      "                                       redshift must be stored in table of load_src_csv\n",
      "        abs_ex_plot_title= True     #: plot title: J2000 name of radio source\n",
      "        abs_ex_plot_format= ' '     #: format of plot ['.pdf','.jpeg','.png']\n",
      "    \n",
      "    OUT\n",
      "        For each source outputs have the following name:\n",
      "        J2000_xaxis-unit_yaxis-unit.plot_format = J220919.87+180920.17_vel_flux.pdf\n",
      "\n"
     ]
    }
   ],
   "source": [
    "# 5th: plot_spec\n",
    "help(abs_ex.plot_spec)"
   ]
  },
  {
   "cell_type": "code",
   "execution_count": 5,
   "metadata": {},
   "outputs": [
    {
     "name": "stderr",
     "output_type": "stream",
     "text": [
      "ABS - INFO : # Plotted spectrum of source 1 084307+453742. #\n"
     ]
    }
   ],
   "source": [
    "# 5th: RUN\n",
    "abs_ex.plot_spec()"
   ]
  },
  {
   "cell_type": "code",
   "execution_count": null,
   "metadata": {
    "collapsed": true
   },
   "outputs": [],
   "source": []
  }
 ],
 "metadata": {
  "anaconda-cloud": {},
  "kernelspec": {
   "display_name": "Python 2",
   "language": "python",
   "name": "python2"
  },
  "language_info": {
   "codemirror_mode": {
    "name": "ipython",
    "version": 2
   },
   "file_extension": ".py",
   "mimetype": "text/x-python",
   "name": "python",
   "nbconvert_exporter": "python",
   "pygments_lexer": "ipython2",
   "version": "2.7.12"
  }
 },
 "nbformat": 4,
 "nbformat_minor": 1
}
