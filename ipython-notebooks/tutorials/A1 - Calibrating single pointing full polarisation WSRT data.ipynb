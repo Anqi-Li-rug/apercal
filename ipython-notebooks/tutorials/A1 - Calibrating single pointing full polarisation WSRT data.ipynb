{
 "cells": [
  {
   "cell_type": "code",
   "execution_count": 1,
   "metadata": {
    "collapsed": true
   },
   "outputs": [
    {
     "name": "stderr",
     "output_type": "stream",
     "text": [
      "root - INFO : Logging started!\n"
     ]
    },
    {
     "name": "stderr",
     "output_type": "stream",
     "text": [
      "root - INFO : To see the log in a bash window use the following command:\n"
     ]
    },
    {
     "name": "stderr",
     "output_type": "stream",
     "text": [
      "root - INFO : tail -n +1 -f /home/adebahr/apercal/ipython-notebooks/tutorials/logs/A1.log\n"
     ]
    },
    {
     "name": "stdout",
     "output_type": "stream",
     "text": [
      "Setup logger with lib.setup_logger()\n"
     ]
    }
   ],
   "source": [
    "# Header Block. You should NOT rerun this block if you have not restarted the kernel.\n",
    "%config IPCompleter.greedy=True\n",
    "import lib\n",
    "lib.setup_logger('info', logfile='/home/adebahr/apercal/ipython-notebooks/tutorials/logs/A1.log')\n",
    "import apercal"
   ]
  },
  {
   "cell_type": "code",
   "execution_count": 2,
   "metadata": {},
   "outputs": [
    {
     "name": "stderr",
     "output_type": "stream",
     "text": [
      "LINE - INFO : ### Configuration file /home/adebahr/apercal/ipython-notebooks/tutorials/cfg/A1.cfg successfully read! ###\n"
     ]
    }
   ],
   "source": [
    "line = apercal.line('/home/adebahr/apercal/ipython-notebooks/tutorials/cfg/A1.cfg')"
   ]
  },
  {
   "cell_type": "code",
   "execution_count": 3,
   "metadata": {},
   "outputs": [
    {
     "name": "stderr",
     "output_type": "stream",
     "text": [
      "LINE - INFO : # Creating directory /data/adebahr/apertif/tutorial/A1/line #\n"
     ]
    },
    {
     "name": "stderr",
     "output_type": "stream",
     "text": [
      "LINE - INFO : # Moved to directory /data/adebahr/apertif/tutorial/A1/line #\n"
     ]
    },
    {
     "name": "stderr",
     "output_type": "stream",
     "text": [
      "LINE - INFO : ### Splitting of target data into individual freqeuncy chunks for continuum subtraction started ###\n"
     ]
    },
    {
     "name": "stderr",
     "output_type": "stream",
     "text": [
      "LINE - INFO : # Found 4 subband(s) in target data #\n"
     ]
    },
    {
     "name": "stderr",
     "output_type": "stream",
     "text": [
      "LINE - INFO : # Started splitting of subband 0 #\n"
     ]
    },
    {
     "name": "stderr",
     "output_type": "stream",
     "text": [
      "LINE - INFO : # Adjusting chunk size to 0.019999999553 GHz for regular gridding of the data chunks over frequency #\n"
     ]
    },
    {
     "name": "stderr",
     "output_type": "stream",
     "text": [
      "LINE - INFO : # Starting splitting of data chunk 0 for subband 0 #\n"
     ]
    },
    {
     "name": "stderr",
     "output_type": "stream",
     "text": [
      "LINE - INFO : # Using frequency binning of 0.0002 for all subbands #\n"
     ]
    },
    {
     "name": "stderr",
     "output_type": "stream",
     "text": [
      "LINE - INFO : # Creating directory /data/adebahr/apertif/tutorial/A1/line/00 #\n"
     ]
    },
    {
     "name": "stderr",
     "output_type": "stream",
     "text": [
      "LINE - INFO : # Splitting of data chunk 0 for subband 0 done #\n"
     ]
    },
    {
     "name": "stderr",
     "output_type": "stream",
     "text": [
      "LINE - INFO : # Splitting of data for subband 0 done #\n"
     ]
    },
    {
     "name": "stderr",
     "output_type": "stream",
     "text": [
      "LINE - INFO : # Started splitting of subband 1 #\n"
     ]
    },
    {
     "name": "stderr",
     "output_type": "stream",
     "text": [
      "LINE - INFO : # Adjusting chunk size to 0.019999999553 GHz for regular gridding of the data chunks over frequency #\n"
     ]
    },
    {
     "name": "stderr",
     "output_type": "stream",
     "text": [
      "LINE - INFO : # Starting splitting of data chunk 0 for subband 1 #\n"
     ]
    },
    {
     "name": "stderr",
     "output_type": "stream",
     "text": [
      "LINE - INFO : # Using frequency binning of 0.0002 for all subbands #\n"
     ]
    },
    {
     "name": "stderr",
     "output_type": "stream",
     "text": [
      "LINE - INFO : # Creating directory /data/adebahr/apertif/tutorial/A1/line/01 #\n"
     ]
    },
    {
     "name": "stderr",
     "output_type": "stream",
     "text": [
      "LINE - INFO : # Splitting of data chunk 0 for subband 1 done #\n"
     ]
    },
    {
     "name": "stderr",
     "output_type": "stream",
     "text": [
      "LINE - INFO : # Splitting of data for subband 1 done #\n"
     ]
    },
    {
     "name": "stderr",
     "output_type": "stream",
     "text": [
      "LINE - INFO : # Started splitting of subband 2 #\n"
     ]
    },
    {
     "name": "stderr",
     "output_type": "stream",
     "text": [
      "LINE - INFO : # Adjusting chunk size to 0.019999999553 GHz for regular gridding of the data chunks over frequency #\n"
     ]
    },
    {
     "name": "stderr",
     "output_type": "stream",
     "text": [
      "LINE - INFO : # Starting splitting of data chunk 0 for subband 2 #\n"
     ]
    },
    {
     "name": "stderr",
     "output_type": "stream",
     "text": [
      "LINE - INFO : # Using frequency binning of 0.0002 for all subbands #\n"
     ]
    },
    {
     "name": "stderr",
     "output_type": "stream",
     "text": [
      "LINE - INFO : # Creating directory /data/adebahr/apertif/tutorial/A1/line/02 #\n"
     ]
    },
    {
     "name": "stderr",
     "output_type": "stream",
     "text": [
      "LINE - INFO : # Splitting of data chunk 0 for subband 2 done #\n"
     ]
    },
    {
     "name": "stderr",
     "output_type": "stream",
     "text": [
      "LINE - INFO : # Splitting of data for subband 2 done #\n"
     ]
    },
    {
     "name": "stderr",
     "output_type": "stream",
     "text": [
      "LINE - INFO : # Started splitting of subband 3 #\n"
     ]
    },
    {
     "name": "stderr",
     "output_type": "stream",
     "text": [
      "LINE - INFO : # Adjusting chunk size to 0.019999999553 GHz for regular gridding of the data chunks over frequency #\n"
     ]
    },
    {
     "name": "stderr",
     "output_type": "stream",
     "text": [
      "LINE - INFO : # Starting splitting of data chunk 0 for subband 3 #\n"
     ]
    },
    {
     "name": "stderr",
     "output_type": "stream",
     "text": [
      "LINE - INFO : # Using frequency binning of 0.0002 for all subbands #\n"
     ]
    },
    {
     "name": "stderr",
     "output_type": "stream",
     "text": [
      "LINE - INFO : # Creating directory /data/adebahr/apertif/tutorial/A1/line/03 #\n"
     ]
    },
    {
     "name": "stderr",
     "output_type": "stream",
     "text": [
      "LINE - INFO : # Splitting of data chunk 0 for subband 3 done #\n"
     ]
    },
    {
     "name": "stderr",
     "output_type": "stream",
     "text": [
      "LINE - INFO : # Splitting of data for subband 3 done #\n"
     ]
    },
    {
     "name": "stderr",
     "output_type": "stream",
     "text": [
      "LINE - INFO : ### Splitting of target data into individual frequency chunks done ###\n"
     ]
    }
   ],
   "source": [
    "line.splitdata()"
   ]
  },
  {
   "cell_type": "code",
   "execution_count": 3,
   "metadata": {},
   "outputs": [
    {
     "name": "stderr",
     "output_type": "stream",
     "text": [
      "LINE - INFO : ### Copying gains from continuum to line data ###\n"
     ]
    },
    {
     "name": "stderr",
     "output_type": "stream",
     "text": [
      "LINE - INFO : ### Gains from continuum to line data copied ###\n"
     ]
    }
   ],
   "source": [
    "line.transfergains()"
   ]
  },
  {
   "cell_type": "code",
   "execution_count": 3,
   "metadata": {},
   "outputs": [
    {
     "name": "stderr",
     "output_type": "stream",
     "text": [
      "LINE - INFO : # Moved to directory /data/adebahr/apertif/tutorial/A1/line #\n"
     ]
    },
    {
     "name": "stderr",
     "output_type": "stream",
     "text": [
      "LINE - INFO : ### Starting continuum subtraction of individual chunks using uvmodel ###\n"
     ]
    },
    {
     "name": "stderr",
     "output_type": "stream",
     "text": [
      "LINE - INFO : # Applied gains to chunk 00 for subtraction of continuum model #\n"
     ]
    },
    {
     "name": "stderr",
     "output_type": "stream",
     "text": [
      "LINE - INFO : # Found most complete model for chunk 00 in /data/adebahr/apertif/tutorial/A1/selfcal/00/04/model_01 #\n"
     ]
    },
    {
     "name": "stdout",
     "output_type": "stream",
     "text": [
      "5\n2\n"
     ]
    },
    {
     "name": "stderr",
     "output_type": "stream",
     "text": [
      "LINE - INFO : # Continuum subtraction using uvmodel method for chunk 00 done #\n"
     ]
    },
    {
     "name": "stderr",
     "output_type": "stream",
     "text": [
      "LINE - INFO : # Applied gains to chunk 01 for subtraction of continuum model #\n"
     ]
    },
    {
     "name": "stderr",
     "output_type": "stream",
     "text": [
      "LINE - INFO : # Found most complete model for chunk 01 in /data/adebahr/apertif/tutorial/A1/selfcal/01/04/model_01 #\n"
     ]
    },
    {
     "name": "stdout",
     "output_type": "stream",
     "text": [
      "5\n2\n"
     ]
    },
    {
     "name": "stderr",
     "output_type": "stream",
     "text": [
      "LINE - INFO : # Continuum subtraction using uvmodel method for chunk 01 done #\n"
     ]
    },
    {
     "name": "stderr",
     "output_type": "stream",
     "text": [
      "LINE - INFO : # Applied gains to chunk 02 for subtraction of continuum model #\n"
     ]
    },
    {
     "name": "stderr",
     "output_type": "stream",
     "text": [
      "LINE - INFO : # Found most complete model for chunk 02 in /data/adebahr/apertif/tutorial/A1/selfcal/02/04/model_01 #\n"
     ]
    },
    {
     "name": "stdout",
     "output_type": "stream",
     "text": [
      "5\n2\n"
     ]
    },
    {
     "name": "stderr",
     "output_type": "stream",
     "text": [
      "LINE - INFO : # Continuum subtraction using uvmodel method for chunk 02 done #\n"
     ]
    },
    {
     "name": "stderr",
     "output_type": "stream",
     "text": [
      "LINE - INFO : # Applied gains to chunk 03 for subtraction of continuum model #\n"
     ]
    },
    {
     "name": "stderr",
     "output_type": "stream",
     "text": [
      "LINE - INFO : # Found most complete model for chunk 03 in /data/adebahr/apertif/tutorial/A1/selfcal/03/04/model_01 #\n"
     ]
    },
    {
     "name": "stdout",
     "output_type": "stream",
     "text": [
      "5\n2\n"
     ]
    },
    {
     "name": "stderr",
     "output_type": "stream",
     "text": [
      "LINE - INFO : # Continuum subtraction using uvmodel method for chunk 03 done #\n"
     ]
    }
   ],
   "source": [
    "line.subtract()"
   ]
  },
  {
   "cell_type": "code",
   "execution_count": null,
   "metadata": {},
   "outputs": [],
   "source": [
    ""
   ]
  }
 ],
 "metadata": {
  "kernelspec": {
   "display_name": "Python 2",
   "language": "python",
   "name": "python2"
  },
  "language_info": {
   "codemirror_mode": {
    "name": "ipython",
    "version": 2.0
   },
   "file_extension": ".py",
   "mimetype": "text/x-python",
   "name": "python",
   "nbconvert_exporter": "python",
   "pygments_lexer": "ipython2",
   "version": "2.7.6"
  }
 },
 "nbformat": 4,
 "nbformat_minor": 0
}