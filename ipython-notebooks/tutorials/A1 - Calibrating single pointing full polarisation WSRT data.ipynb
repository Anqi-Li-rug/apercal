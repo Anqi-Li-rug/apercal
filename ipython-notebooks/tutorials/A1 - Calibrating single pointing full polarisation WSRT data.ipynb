{
 "cells": [
  {
   "cell_type": "code",
   "execution_count": 1,
   "metadata": {
    "collapsed": true
   },
   "outputs": [
    {
     "name": "stderr",
     "output_type": "stream",
     "text": [
      "root - INFO : Logging started!\n"
     ]
    },
    {
     "name": "stderr",
     "output_type": "stream",
     "text": [
      "root - INFO : To see the log in a bash window use the following command:\n"
     ]
    },
    {
     "name": "stderr",
     "output_type": "stream",
     "text": [
      "root - INFO : tail -n +1 -f /home/adebahr/apercal/ipython-notebooks/tutorials/logs/A1.log\n"
     ]
    },
    {
     "name": "stdout",
     "output_type": "stream",
     "text": [
      "Setup logger with lib.setup_logger()\n"
     ]
    }
   ],
   "source": [
    "# Header Block. You should NOT rerun this block if you have not restarted the kernel.\n",
    "%config IPCompleter.greedy=True\n",
    "import lib\n",
    "lib.setup_logger('info', logfile='/home/adebahr/apercal/ipython-notebooks/tutorials/logs/A1.log')\n",
    "import apercal"
   ]
  },
  {
   "cell_type": "code",
   "execution_count": 2,
   "metadata": {},
   "outputs": [
    {
     "name": "stderr",
     "output_type": "stream",
     "text": [
      "PREFLAG - INFO : ### Configuration file /home/adebahr/apercal/ipython-notebooks/tutorials/cfg/A1.cfg successfully read! ###\n"
     ]
    }
   ],
   "source": [
    "preflag = apercal.preflag('/home/adebahr/apercal/ipython-notebooks/tutorials/cfg/A1.cfg')"
   ]
  },
  {
   "cell_type": "code",
   "execution_count": 3,
   "metadata": {},
   "outputs": [
    {
     "name": "stderr",
     "output_type": "stream",
     "text": [
      "PREFLAG - INFO : ########## PRE-FLAGGING started ##########\n"
     ]
    },
    {
     "name": "stderr",
     "output_type": "stream",
     "text": [
      "PREFLAG - INFO : # Moved to directory /data/adebahr/apertif/tutorial/A1/raw #\n"
     ]
    },
    {
     "name": "stderr",
     "output_type": "stream",
     "text": [
      "PREFLAG - INFO : ### Doing pre-flagging with AOFlagger ###\n"
     ]
    },
    {
     "name": "stderr",
     "output_type": "stream",
     "text": [
      "PREFLAG - INFO : ### Flagging of 3C147.MS using fluxcal.rfis done ###\n"
     ]
    },
    {
     "name": "stderr",
     "output_type": "stream",
     "text": [
      "PREFLAG - INFO : ### Flagging of 3C138.MS using polcal.rfis done ###\n"
     ]
    },
    {
     "name": "stderr",
     "output_type": "stream",
     "text": [
      "PREFLAG - INFO : ### Flagging of NGC4062.MS using target.rfis done ###\n"
     ]
    },
    {
     "name": "stderr",
     "output_type": "stream",
     "text": [
      "PREFLAG - INFO : ### Starting pre-flagging of known flags ###\n"
     ]
    },
    {
     "name": "stderr",
     "output_type": "stream",
     "text": [
      "PREFLAG - INFO : # Flagging auto-correlations for flux calibrator data #\n"
     ]
    },
    {
     "name": "stderr",
     "output_type": "stream",
     "text": [
      "PREFLAG - INFO : # Auto-correlation flagging for flux calibrator data done #\n"
     ]
    },
    {
     "name": "stderr",
     "output_type": "stream",
     "text": [
      "PREFLAG - INFO : # Flagging auto-correlations for polarisation calibrator data #\n"
     ]
    },
    {
     "name": "stderr",
     "output_type": "stream",
     "text": [
      "PREFLAG - INFO : # Auto-correlation flagging for polarisation calibrator data done #\n"
     ]
    },
    {
     "name": "stderr",
     "output_type": "stream",
     "text": [
      "PREFLAG - INFO : # Flagging auto-correlations for target data #\n"
     ]
    },
    {
     "name": "stderr",
     "output_type": "stream",
     "text": [
      "PREFLAG - INFO : # Auto-correlation flagging for target data done #\n"
     ]
    },
    {
     "name": "stderr",
     "output_type": "stream",
     "text": [
      "PREFLAG - INFO : # Flagging antenna(s) RT5 for flux calibrator data #\n"
     ]
    },
    {
     "name": "stderr",
     "output_type": "stream",
     "text": [
      "PREFLAG - INFO : # Flagging of antenna(s) RT5 for flux calibrator data done #\n"
     ]
    },
    {
     "name": "stderr",
     "output_type": "stream",
     "text": [
      "PREFLAG - INFO : # Flagging antenna(s) RT5 for polarised calibrator data #\n"
     ]
    },
    {
     "name": "stderr",
     "output_type": "stream",
     "text": [
      "PREFLAG - INFO : # Flagging of antenna(s) RT5 for polariased calibrator data done #\n"
     ]
    },
    {
     "name": "stderr",
     "output_type": "stream",
     "text": [
      "PREFLAG - INFO : # Flagging antenna(s) RT5 for target data #\n"
     ]
    },
    {
     "name": "stderr",
     "output_type": "stream",
     "text": [
      "PREFLAG - INFO : # Flagging of antenna(s) RT5 for target data done #\n"
     ]
    },
    {
     "name": "stderr",
     "output_type": "stream",
     "text": [
      "PREFLAG - INFO : # Flagging shadowed antennas for flux calibrator data #\n"
     ]
    },
    {
     "name": "stderr",
     "output_type": "stream",
     "text": [
      "PREFLAG - INFO : # Flagging of shadowed antennas for flux calibrator data done #\n"
     ]
    },
    {
     "name": "stderr",
     "output_type": "stream",
     "text": [
      "PREFLAG - INFO : # Flagging shadowed antennas for polarised calibrator data #\n"
     ]
    },
    {
     "name": "stderr",
     "output_type": "stream",
     "text": [
      "PREFLAG - INFO : # Flagging of shadowed antennas for polarised calibrator data done #\n"
     ]
    },
    {
     "name": "stderr",
     "output_type": "stream",
     "text": [
      "PREFLAG - INFO : # Flagging of shadowed antennas for target data #\n"
     ]
    },
    {
     "name": "stderr",
     "output_type": "stream",
     "text": [
      "PREFLAG - INFO : # Flagging of shadowed antennas for target data done #\n"
     ]
    },
    {
     "name": "stderr",
     "output_type": "stream",
     "text": [
      "PREFLAG - INFO : ### Pre-flagging of known flags done ###\n"
     ]
    },
    {
     "name": "stderr",
     "output_type": "stream",
     "text": [
      "PREFLAG - INFO : ########## PRE-FLAGGING done ##########\n"
     ]
    }
   ],
   "source": [
    "preflag.go()"
   ]
  },
  {
   "cell_type": "code",
   "execution_count": 4,
   "metadata": {},
   "outputs": [
    {
     "name": "stderr",
     "output_type": "stream",
     "text": [
      "CONVERT - INFO : ### Configuration file /home/adebahr/apercal/ipython-notebooks/tutorials/cfg/A1.cfg successfully read! ###\n"
     ]
    }
   ],
   "source": [
    "convert = apercal.convert('/home/adebahr/apercal/ipython-notebooks/tutorials/cfg/A1.cfg')"
   ]
  },
  {
   "cell_type": "code",
   "execution_count": 5,
   "metadata": {},
   "outputs": [
    {
     "name": "stderr",
     "output_type": "stream",
     "text": [
      "CONVERT - INFO : ########## FILE CONVERSION started ##########\n"
     ]
    },
    {
     "name": "stderr",
     "output_type": "stream",
     "text": [
      "CONVERT - INFO : ### Starting conversion from MS to UVFITS format ###\n"
     ]
    },
    {
     "name": "stderr",
     "output_type": "stream",
     "text": [
      "CONVERT - INFO : # Creating directory /data/adebahr/apertif/tutorial/A1/crosscal #\n"
     ]
    },
    {
     "name": "stderr",
     "output_type": "stream",
     "text": [
      "CONVERT - INFO : # Moved to directory /data/adebahr/apertif/tutorial/A1/crosscal #\n"
     ]
    },
    {
     "name": "stderr",
     "output_type": "stream",
     "text": [
      "CONVERT - INFO : ### Using CASA toolkit to convert from MS to UVFITS format! ###\n"
     ]
    },
    {
     "name": "stderr",
     "output_type": "stream",
     "text": [
      "CONVERT - INFO : ### Converted MS file 3C147.MS to UVFITS using CASA toolkit! ###\n"
     ]
    },
    {
     "name": "stderr",
     "output_type": "stream",
     "text": [
      "CONVERT - INFO : ### Converted MS file 3C138.MS to UVFITS using CASA toolkit! ###\n"
     ]
    },
    {
     "name": "stderr",
     "output_type": "stream",
     "text": [
      "CONVERT - INFO : ### Converted MS file NGC4062.MS to UVFITS using CASA toolkit! ###\n"
     ]
    },
    {
     "name": "stderr",
     "output_type": "stream",
     "text": [
      "CONVERT - INFO : ### Conversion from MS to UVFITS format done! ###\n"
     ]
    },
    {
     "name": "stderr",
     "output_type": "stream",
     "text": [
      "CONVERT - INFO : ### Starting conversion from UVFITS to MIRIAD format ###\n"
     ]
    },
    {
     "name": "stderr",
     "output_type": "stream",
     "text": [
      "CONVERT - INFO : ### Using MIRIAD wsrtfits task to convert data from UVFITS to MIRIAD format ###\n"
     ]
    },
    {
     "name": "stderr",
     "output_type": "stream",
     "text": [
      "CONVERT - INFO : ### Converted UVFITS file 3C147.MS to MIRIAD format using MIRIAD task wsrtfits! ###\n"
     ]
    },
    {
     "name": "stderr",
     "output_type": "stream",
     "text": [
      "CONVERT - INFO : ### Converted UVFITS file 3C138.MS to MIRIAD format using MIRIAD task wsrtfits! ###\n"
     ]
    },
    {
     "name": "stderr",
     "output_type": "stream",
     "text": [
      "CONVERT - INFO : ### Converted UVFITS file NGC4062.MS to MIRIAD format using MIRIAD task wsrtfits! ###\n"
     ]
    },
    {
     "name": "stderr",
     "output_type": "stream",
     "text": [
      "CONVERT - INFO : ### Conversion from UVFITS to MIRIAD format done! ###\n"
     ]
    },
    {
     "name": "stderr",
     "output_type": "stream",
     "text": [
      "CONVERT - INFO : ########## FILE CONVERSION done ##########\n"
     ]
    }
   ],
   "source": [
    "convert.go()"
   ]
  },
  {
   "cell_type": "code",
   "execution_count": 6,
   "metadata": {},
   "outputs": [
    {
     "name": "stderr",
     "output_type": "stream",
     "text": [
      "CROSSCAL - INFO : ### Configuration file /home/adebahr/apercal/ipython-notebooks/tutorials/cfg/A1.cfg successfully read! ###\n"
     ]
    }
   ],
   "source": [
    "ccal = apercal.ccal('/home/adebahr/apercal/ipython-notebooks/tutorials/cfg/A1.cfg')"
   ]
  },
  {
   "cell_type": "code",
   "execution_count": 7,
   "metadata": {},
   "outputs": [
    {
     "name": "stderr",
     "output_type": "stream",
     "text": [
      "CROSSCAL - INFO : ### Bandpass calibration on the flux calibrator data started ###\n"
     ]
    },
    {
     "name": "stderr",
     "output_type": "stream",
     "text": [
      "CROSSCAL - INFO : ### Bandpass calibration on the flux calibrator data done ###\n"
     ]
    }
   ],
   "source": [
    "ccal.bandpass()"
   ]
  },
  {
   "cell_type": "code",
   "execution_count": 8,
   "metadata": {},
   "outputs": [
    {
     "name": "stderr",
     "output_type": "stream",
     "text": [
      "CROSSCAL - INFO : ### Polarisation calibration on the polarised calibrator data started ###\n"
     ]
    },
    {
     "name": "stderr",
     "output_type": "stream",
     "text": [
      "CROSSCAL - INFO : # Bandpass solutions in flux calibrator data found. Using them! #\n"
     ]
    },
    {
     "name": "stderr",
     "output_type": "stream",
     "text": [
      "CROSSCAL - INFO : # Bandpass from flux calibrator data copied to polarised calibrator data #\n"
     ]
    },
    {
     "name": "stderr",
     "output_type": "stream",
     "text": [
      "CROSSCAL - INFO : # Solved for polarisation leakage and angle on polarised calibrator #\n"
     ]
    },
    {
     "name": "stderr",
     "output_type": "stream",
     "text": [
      "CROSSCAL - INFO : ### Polarisation calibration on the polarised calibrator data done ###\n"
     ]
    }
   ],
   "source": [
    "ccal.polarisation()"
   ]
  },
  {
   "cell_type": "code",
   "execution_count": 9,
   "metadata": {},
   "outputs": [
    {
     "name": "stderr",
     "output_type": "stream",
     "text": [
      "CROSSCAL - INFO : ### Copying calibrator solutions to target dataset ###\n"
     ]
    },
    {
     "name": "stderr",
     "output_type": "stream",
     "text": [
      "CROSSCAL - INFO : # Copying calibrator solutions (bandpass, gains, leakage, angle) from polarised calibrator #\n"
     ]
    },
    {
     "name": "stderr",
     "output_type": "stream",
     "text": [
      "CROSSCAL - INFO : ### All solutions copied to target data ###\n"
     ]
    }
   ],
   "source": [
    "ccal.transfer_to_target()"
   ]
  },
  {
   "cell_type": "code",
   "execution_count": 2,
   "metadata": {},
   "outputs": [
    {
     "name": "stderr",
     "output_type": "stream",
     "text": [
      "SELFCAL - INFO : ### Configuration file /home/adebahr/apercal/ipython-notebooks/tutorials/cfg/A1.cfg successfully read! ###\n"
     ]
    }
   ],
   "source": [
    "scal = apercal.scal('/home/adebahr/apercal/ipython-notebooks/tutorials/cfg/A1.cfg')"
   ]
  },
  {
   "cell_type": "code",
   "execution_count": 3,
   "metadata": {},
   "outputs": [
    {
     "name": "stderr",
     "output_type": "stream",
     "text": [
      "SELFCAL - INFO : # Moved to directory /data/adebahr/apertif/tutorial/A1/selfcal #\n"
     ]
    },
    {
     "name": "stderr",
     "output_type": "stream",
     "text": [
      "SELFCAL - INFO : ### Splitting of target data into individual freqeuncy chunks started ###\n"
     ]
    },
    {
     "name": "stderr",
     "output_type": "stream",
     "text": [
      "SELFCAL - INFO : # Applying calibrator solutions to target data before averaging #\n"
     ]
    },
    {
     "name": "stderr",
     "output_type": "stream",
     "text": [
      "SELFCAL - INFO : # Calibrator solutions to target data applied #\n"
     ]
    },
    {
     "name": "stderr",
     "output_type": "stream",
     "text": [
      "SELFCAL - INFO : # Found 4 subband(s) in target data #\n"
     ]
    },
    {
     "name": "stderr",
     "output_type": "stream",
     "text": [
      "SELFCAL - INFO : # Started splitting of subband 0 #\n"
     ]
    },
    {
     "name": "stderr",
     "output_type": "stream",
     "text": [
      "SELFCAL - INFO : # Adjusting chunk size to 0.0 for regular gridding of the data chunks over frequency #\n"
     ]
    },
    {
     "name": "stderr",
     "output_type": "stream",
     "text": [
      "SELFCAL - INFO : # Starting splitting of data chunk 0 for subband 0 #\n"
     ]
    },
    {
     "name": "stderr",
     "output_type": "stream",
     "text": [
      "SELFCAL - INFO : # Increasing frequency bin of data chunk 0 to keep bandwidth of chunks equal over the whole bandwidth #\n"
     ]
    },
    {
     "name": "stderr",
     "output_type": "stream",
     "text": [
      "SELFCAL - INFO : # New frequency bin is 0.001 GHz #\n"
     ]
    },
    {
     "name": "stderr",
     "output_type": "stream",
     "text": [
      "SELFCAL - INFO : # Splitting of data chunk 0 for subband 0 done #\n"
     ]
    },
    {
     "name": "stderr",
     "output_type": "stream",
     "text": [
      "SELFCAL - INFO : # Starting splitting of data chunk 1 for subband 0 #\n"
     ]
    },
    {
     "name": "stderr",
     "output_type": "stream",
     "text": [
      "SELFCAL - INFO : # Increasing frequency bin of data chunk 1 to keep bandwidth of chunks equal over the whole bandwidth #\n"
     ]
    },
    {
     "name": "stderr",
     "output_type": "stream",
     "text": [
      "SELFCAL - INFO : # New frequency bin is 0.001 GHz #\n"
     ]
    },
    {
     "name": "stderr",
     "output_type": "stream",
     "text": [
      "SELFCAL - INFO : # Splitting of data chunk 1 for subband 0 done #\n"
     ]
    },
    {
     "name": "stderr",
     "output_type": "stream",
     "text": [
      "SELFCAL - INFO : # Splitting of data for subband 0 done #\n"
     ]
    },
    {
     "name": "stderr",
     "output_type": "stream",
     "text": [
      "SELFCAL - INFO : # Started splitting of subband 1 #\n"
     ]
    },
    {
     "name": "stderr",
     "output_type": "stream",
     "text": [
      "SELFCAL - INFO : # Adjusting chunk size to 0.0 for regular gridding of the data chunks over frequency #\n"
     ]
    },
    {
     "name": "stderr",
     "output_type": "stream",
     "text": [
      "SELFCAL - INFO : # Starting splitting of data chunk 0 for subband 1 #\n"
     ]
    },
    {
     "name": "stderr",
     "output_type": "stream",
     "text": [
      "SELFCAL - INFO : # Increasing frequency bin of data chunk 0 to keep bandwidth of chunks equal over the whole bandwidth #\n"
     ]
    },
    {
     "name": "stderr",
     "output_type": "stream",
     "text": [
      "SELFCAL - INFO : # New frequency bin is 0.001 GHz #\n"
     ]
    },
    {
     "name": "stderr",
     "output_type": "stream",
     "text": [
      "SELFCAL - INFO : # Splitting of data chunk 0 for subband 1 done #\n"
     ]
    },
    {
     "name": "stderr",
     "output_type": "stream",
     "text": [
      "SELFCAL - INFO : # Starting splitting of data chunk 1 for subband 1 #\n"
     ]
    },
    {
     "name": "stderr",
     "output_type": "stream",
     "text": [
      "SELFCAL - INFO : # Increasing frequency bin of data chunk 1 to keep bandwidth of chunks equal over the whole bandwidth #\n"
     ]
    },
    {
     "name": "stderr",
     "output_type": "stream",
     "text": [
      "SELFCAL - INFO : # New frequency bin is 0.001 GHz #\n"
     ]
    },
    {
     "name": "stderr",
     "output_type": "stream",
     "text": [
      "SELFCAL - INFO : # Splitting of data chunk 1 for subband 1 done #\n"
     ]
    },
    {
     "name": "stderr",
     "output_type": "stream",
     "text": [
      "SELFCAL - INFO : # Splitting of data for subband 1 done #\n"
     ]
    },
    {
     "name": "stderr",
     "output_type": "stream",
     "text": [
      "SELFCAL - INFO : # Started splitting of subband 2 #\n"
     ]
    },
    {
     "name": "stderr",
     "output_type": "stream",
     "text": [
      "SELFCAL - INFO : # Adjusting chunk size to 0.0 for regular gridding of the data chunks over frequency #\n"
     ]
    },
    {
     "name": "stderr",
     "output_type": "stream",
     "text": [
      "SELFCAL - INFO : # Starting splitting of data chunk 0 for subband 2 #\n"
     ]
    },
    {
     "name": "stderr",
     "output_type": "stream",
     "text": [
      "SELFCAL - INFO : # Increasing frequency bin of data chunk 0 to keep bandwidth of chunks equal over the whole bandwidth #\n"
     ]
    },
    {
     "name": "stderr",
     "output_type": "stream",
     "text": [
      "SELFCAL - INFO : # New frequency bin is 0.001 GHz #\n"
     ]
    },
    {
     "name": "stdout",
     "output_type": "stream",
     "text": [
      "64\n0.000312499993015\n0.019999999553\n2.0\n2\n2\n0\n'channel,8,1,4,4'\n0\n'channel,8,33,4,4'\n64\n0.000312499993015\n0.019999999553\n2.0\n2\n2\n1\n'channel,8,1,4,4'\n1\n'channel,8,33,4,4'\n64\n0.000312499993015\n0.019999999553\n2.0\n2\n2\n2\n"
     ]
    },
    {
     "name": "stderr",
     "output_type": "stream",
     "text": [
      "SELFCAL - INFO : # Splitting of data chunk 0 for subband 2 done #\n"
     ]
    },
    {
     "name": "stderr",
     "output_type": "stream",
     "text": [
      "SELFCAL - INFO : # Starting splitting of data chunk 1 for subband 2 #\n"
     ]
    },
    {
     "name": "stderr",
     "output_type": "stream",
     "text": [
      "SELFCAL - INFO : # Increasing frequency bin of data chunk 1 to keep bandwidth of chunks equal over the whole bandwidth #\n"
     ]
    },
    {
     "name": "stderr",
     "output_type": "stream",
     "text": [
      "SELFCAL - INFO : # New frequency bin is 0.001 GHz #\n"
     ]
    },
    {
     "name": "stderr",
     "output_type": "stream",
     "text": [
      "SELFCAL - INFO : # Splitting of data chunk 1 for subband 2 done #\n"
     ]
    },
    {
     "name": "stderr",
     "output_type": "stream",
     "text": [
      "SELFCAL - INFO : # Splitting of data for subband 2 done #\n"
     ]
    },
    {
     "name": "stderr",
     "output_type": "stream",
     "text": [
      "SELFCAL - INFO : # Started splitting of subband 3 #\n"
     ]
    },
    {
     "name": "stderr",
     "output_type": "stream",
     "text": [
      "SELFCAL - INFO : # Adjusting chunk size to 0.0 for regular gridding of the data chunks over frequency #\n"
     ]
    },
    {
     "name": "stderr",
     "output_type": "stream",
     "text": [
      "SELFCAL - INFO : # Starting splitting of data chunk 0 for subband 3 #\n"
     ]
    },
    {
     "name": "stderr",
     "output_type": "stream",
     "text": [
      "SELFCAL - INFO : # Increasing frequency bin of data chunk 0 to keep bandwidth of chunks equal over the whole bandwidth #\n"
     ]
    },
    {
     "name": "stderr",
     "output_type": "stream",
     "text": [
      "SELFCAL - INFO : # New frequency bin is 0.001 GHz #\n"
     ]
    },
    {
     "name": "stderr",
     "output_type": "stream",
     "text": [
      "SELFCAL - INFO : # Splitting of data chunk 0 for subband 3 done #\n"
     ]
    },
    {
     "name": "stderr",
     "output_type": "stream",
     "text": [
      "SELFCAL - INFO : # Starting splitting of data chunk 1 for subband 3 #\n"
     ]
    },
    {
     "name": "stderr",
     "output_type": "stream",
     "text": [
      "SELFCAL - INFO : # Increasing frequency bin of data chunk 1 to keep bandwidth of chunks equal over the whole bandwidth #\n"
     ]
    },
    {
     "name": "stderr",
     "output_type": "stream",
     "text": [
      "SELFCAL - INFO : # New frequency bin is 0.001 GHz #\n"
     ]
    },
    {
     "name": "stderr",
     "output_type": "stream",
     "text": [
      "SELFCAL - INFO : # Splitting of data chunk 1 for subband 3 done #\n"
     ]
    },
    {
     "name": "stderr",
     "output_type": "stream",
     "text": [
      "SELFCAL - INFO : # Splitting of data for subband 3 done #\n"
     ]
    },
    {
     "name": "stderr",
     "output_type": "stream",
     "text": [
      "SELFCAL - INFO : ### Splitting of target data into individual frequency chunks done ###\n"
     ]
    },
    {
     "name": "stdout",
     "output_type": "stream",
     "text": [
      "'channel,8,1,4,4'\n2\n'channel,8,33,4,4'\n64\n0.000312499993015\n0.019999999553\n2.0\n2\n2\n3\n'channel,8,1,4,4'\n3\n'channel,8,33,4,4'\n"
     ]
    }
   ],
   "source": [
    "scal.splitdata()"
   ]
  },
  {
   "cell_type": "code",
   "execution_count": null,
   "metadata": {},
   "outputs": [],
   "source": [
    ""
   ]
  }
 ],
 "metadata": {
  "kernelspec": {
   "display_name": "Python 2",
   "language": "python",
   "name": "python2"
  },
  "language_info": {
   "codemirror_mode": {
    "name": "ipython",
    "version": 2.0
   },
   "file_extension": ".py",
   "mimetype": "text/x-python",
   "name": "python",
   "nbconvert_exporter": "python",
   "pygments_lexer": "ipython2",
   "version": "2.7.6"
  }
 },
 "nbformat": 4,
 "nbformat_minor": 0
}