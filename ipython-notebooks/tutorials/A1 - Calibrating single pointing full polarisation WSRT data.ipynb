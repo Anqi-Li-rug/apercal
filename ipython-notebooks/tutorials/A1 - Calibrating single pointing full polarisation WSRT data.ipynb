{
 "cells": [
  {
   "cell_type": "code",
   "execution_count": 1,
   "metadata": {
    "collapsed": true
   },
   "outputs": [
    {
     "name": "stderr",
     "output_type": "stream",
     "text": [
      "root - INFO : Logging started!\n"
     ]
    },
    {
     "name": "stderr",
     "output_type": "stream",
     "text": [
      "root - INFO : To see the log in a bash window use the following command:\n"
     ]
    },
    {
     "name": "stderr",
     "output_type": "stream",
     "text": [
      "root - INFO : tail -n +1 -f /home/adebahr/apercal/ipython-notebooks/tutorials/logs/A1.log\n"
     ]
    },
    {
     "name": "stdout",
     "output_type": "stream",
     "text": [
      "Setup logger with lib.setup_logger()\n"
     ]
    }
   ],
   "source": [
    "# Header Block. You should NOT rerun this block if you have not restarted the kernel.\n",
    "%config IPCompleter.greedy=True\n",
    "import lib\n",
    "lib.setup_logger('info', logfile='/home/adebahr/apercal/ipython-notebooks/tutorials/logs/A1.log')\n",
    "import apercal"
   ]
  },
  {
   "cell_type": "code",
   "execution_count": 2,
   "metadata": {},
   "outputs": [
    {
     "name": "stderr",
     "output_type": "stream",
     "text": [
      "PREFLAG - INFO : ### Configuration file /home/adebahr/apercal/ipython-notebooks/tutorials/cfg/A1.cfg successfully read! ###\n"
     ]
    }
   ],
   "source": [
    "preflag = apercal.preflag('/home/adebahr/apercal/ipython-notebooks/tutorials/cfg/A1.cfg')"
   ]
  },
  {
   "cell_type": "code",
   "execution_count": 3,
   "metadata": {},
   "outputs": [
    {
     "name": "stderr",
     "output_type": "stream",
     "text": [
      "PREFLAG - INFO : ########## PRE-FLAGGING started ##########\n"
     ]
    },
    {
     "name": "stderr",
     "output_type": "stream",
     "text": [
      "PREFLAG - INFO : # Moved to directory /data/adebahr/apertif/tutorial/A1/raw #\n"
     ]
    },
    {
     "name": "stderr",
     "output_type": "stream",
     "text": [
      "PREFLAG - INFO : ### Doing pre-flagging with AOFlagger ###\n"
     ]
    },
    {
     "name": "stderr",
     "output_type": "stream",
     "text": [
      "PREFLAG - INFO : ### Flagging of 3C147.MS using fluxcal.rfis done ###\n"
     ]
    },
    {
     "name": "stderr",
     "output_type": "stream",
     "text": [
      "PREFLAG - INFO : ### Flagging of 3C138.MS using polcal.rfis done ###\n"
     ]
    },
    {
     "name": "stderr",
     "output_type": "stream",
     "text": [
      "PREFLAG - INFO : ### Flagging of NGC4062.MS using target.rfis done ###\n"
     ]
    },
    {
     "name": "stderr",
     "output_type": "stream",
     "text": [
      "PREFLAG - INFO : ### Starting pre-flagging of known flags ###\n"
     ]
    },
    {
     "name": "stderr",
     "output_type": "stream",
     "text": [
      "PREFLAG - INFO : # Flagging auto-correlations for flux calibrator data #\n"
     ]
    },
    {
     "name": "stderr",
     "output_type": "stream",
     "text": [
      "PREFLAG - INFO : # Auto-correlation flagging for flux calibrator data done #\n"
     ]
    },
    {
     "name": "stderr",
     "output_type": "stream",
     "text": [
      "PREFLAG - INFO : # Flagging auto-correlations for polarisation calibrator data #\n"
     ]
    },
    {
     "name": "stderr",
     "output_type": "stream",
     "text": [
      "PREFLAG - INFO : # Auto-correlation flagging for polarisation calibrator data done #\n"
     ]
    },
    {
     "name": "stderr",
     "output_type": "stream",
     "text": [
      "PREFLAG - INFO : # Flagging auto-correlations for target data #\n"
     ]
    },
    {
     "name": "stderr",
     "output_type": "stream",
     "text": [
      "PREFLAG - INFO : # Auto-correlation flagging for target data done #\n"
     ]
    },
    {
     "name": "stderr",
     "output_type": "stream",
     "text": [
      "PREFLAG - INFO : # Flagging antenna(s) RT5 for flux calibrator data #\n"
     ]
    },
    {
     "name": "stderr",
     "output_type": "stream",
     "text": [
      "PREFLAG - INFO : # Flagging of antenna(s) RT5 for flux calibrator data done #\n"
     ]
    },
    {
     "name": "stderr",
     "output_type": "stream",
     "text": [
      "PREFLAG - INFO : # Flagging antenna(s) RT5 for polarised calibrator data #\n"
     ]
    },
    {
     "name": "stderr",
     "output_type": "stream",
     "text": [
      "PREFLAG - INFO : # Flagging of antenna(s) RT5 for polariased calibrator data done #\n"
     ]
    },
    {
     "name": "stderr",
     "output_type": "stream",
     "text": [
      "PREFLAG - INFO : # Flagging antenna(s) RT5 for target data #\n"
     ]
    },
    {
     "name": "stderr",
     "output_type": "stream",
     "text": [
      "PREFLAG - INFO : # Flagging of antenna(s) RT5 for target data done #\n"
     ]
    },
    {
     "name": "stderr",
     "output_type": "stream",
     "text": [
      "PREFLAG - INFO : # Flagging shadowed antennas for flux calibrator data #\n"
     ]
    },
    {
     "name": "stderr",
     "output_type": "stream",
     "text": [
      "PREFLAG - INFO : # Flagging of shadowed antennas for flux calibrator data done #\n"
     ]
    },
    {
     "name": "stderr",
     "output_type": "stream",
     "text": [
      "PREFLAG - INFO : # Flagging shadowed antennas for polarised calibrator data #\n"
     ]
    },
    {
     "name": "stderr",
     "output_type": "stream",
     "text": [
      "PREFLAG - INFO : # Flagging of shadowed antennas for polarised calibrator data done #\n"
     ]
    },
    {
     "name": "stderr",
     "output_type": "stream",
     "text": [
      "PREFLAG - INFO : # Flagging of shadowed antennas for target data #\n"
     ]
    },
    {
     "name": "stderr",
     "output_type": "stream",
     "text": [
      "PREFLAG - INFO : # Flagging of shadowed antennas for target data done #\n"
     ]
    },
    {
     "name": "stderr",
     "output_type": "stream",
     "text": [
      "PREFLAG - INFO : ### Pre-flagging of known flags done ###\n"
     ]
    },
    {
     "name": "stderr",
     "output_type": "stream",
     "text": [
      "PREFLAG - INFO : ########## PRE-FLAGGING done ##########\n"
     ]
    }
   ],
   "source": [
    "preflag.go()"
   ]
  },
  {
   "cell_type": "code",
   "execution_count": 2,
   "metadata": {},
   "outputs": [
    {
     "name": "stderr",
     "output_type": "stream",
     "text": [
      "CONVERT - INFO : ### Configuration file /home/adebahr/apercal/ipython-notebooks/tutorials/cfg/A1.cfg successfully read! ###\n"
     ]
    }
   ],
   "source": [
    "convert = apercal.convert('/home/adebahr/apercal/ipython-notebooks/tutorials/cfg/A1.cfg')"
   ]
  },
  {
   "cell_type": "code",
   "execution_count": 3,
   "metadata": {},
   "outputs": [
    {
     "name": "stderr",
     "output_type": "stream",
     "text": [
      "CONVERT - INFO : ########## FILE CONVERSION started ##########\n"
     ]
    },
    {
     "name": "stderr",
     "output_type": "stream",
     "text": [
      "CONVERT - INFO : ### Starting conversion from MS to UVFITS format ###\n"
     ]
    },
    {
     "name": "stderr",
     "output_type": "stream",
     "text": [
      "CONVERT - INFO : # Creating directory /data/adebahr/apertif/tutorial/A1/crosscal #\n"
     ]
    },
    {
     "name": "stderr",
     "output_type": "stream",
     "text": [
      "CONVERT - INFO : # Moved to directory /data/adebahr/apertif/tutorial/A1/crosscal #\n"
     ]
    },
    {
     "name": "stderr",
     "output_type": "stream",
     "text": [
      "CONVERT - INFO : ### Using CASA toolkit to convert from MS to UVFITS format! ###\n"
     ]
    },
    {
     "name": "stderr",
     "output_type": "stream",
     "text": [
      "CONVERT - INFO : ### Converted MS file 3C138.MS to UVFITS using CASA toolkit! ###\n"
     ]
    },
    {
     "name": "stderr",
     "output_type": "stream",
     "text": [
      "CONVERT - INFO : ### Converted MS file NGC4062.MS to UVFITS using CASA toolkit! ###\n"
     ]
    },
    {
     "name": "stderr",
     "output_type": "stream",
     "text": [
      "CONVERT - INFO : ### Conversion from MS to UVFITS format done! ###\n"
     ]
    },
    {
     "name": "stderr",
     "output_type": "stream",
     "text": [
      "CONVERT - INFO : ### Starting conversion from UVFITS to MIRIAD format ###\n"
     ]
    },
    {
     "name": "stderr",
     "output_type": "stream",
     "text": [
      "CONVERT - INFO : ### Using MIRIAD wsrtfits task to convert data from UVFITS to MIRIAD format ###\n"
     ]
    },
    {
     "name": "stderr",
     "output_type": "stream",
     "text": [
      "CONVERT - INFO : ### Converted UVFITS file 3C138.MS to MIRIAD format using MIRIAD task wsrtfits! ###\n"
     ]
    },
    {
     "name": "stderr",
     "output_type": "stream",
     "text": [
      "CONVERT - INFO : ### Converted UVFITS file NGC4062.MS to MIRIAD format using MIRIAD task wsrtfits! ###\n"
     ]
    },
    {
     "name": "stderr",
     "output_type": "stream",
     "text": [
      "CONVERT - INFO : ### Conversion from UVFITS to MIRIAD format done! ###\n"
     ]
    },
    {
     "name": "stderr",
     "output_type": "stream",
     "text": [
      "CONVERT - INFO : ########## FILE CONVERSION done ##########\n"
     ]
    }
   ],
   "source": [
    "convert.go()"
   ]
  },
  {
   "cell_type": "code",
   "execution_count": 4,
   "metadata": {},
   "outputs": [
    {
     "name": "stderr",
     "output_type": "stream",
     "text": [
      "CROSSCAL - INFO : ### Configuration file /home/adebahr/apercal/ipython-notebooks/tutorials/cfg/A1.cfg successfully read! ###\n"
     ]
    }
   ],
   "source": [
    "ccal = apercal.ccal('/home/adebahr/apercal/ipython-notebooks/tutorials/cfg/A1.cfg')"
   ]
  },
  {
   "cell_type": "code",
   "execution_count": 5,
   "metadata": {},
   "outputs": [
    {
     "name": "stderr",
     "output_type": "stream",
     "text": [
      "CROSSCAL - INFO : ########## Starting CROSS CALIBRATION ##########\n"
     ]
    },
    {
     "name": "stderr",
     "output_type": "stream",
     "text": [
      "CROSSCAL - INFO : ### WSRT data set. Fringe stopping was done online! ###\n"
     ]
    },
    {
     "name": "stderr",
     "output_type": "stream",
     "text": [
      "CROSSCAL - INFO : ### Bandpass calibration on the flux calibrator data started ###\n"
     ]
    },
    {
     "name": "stderr",
     "output_type": "stream",
     "text": [
      "CROSSCAL - INFO : ### Bandpass calibration on the flux calibrator data done ###\n"
     ]
    },
    {
     "name": "stderr",
     "output_type": "stream",
     "text": [
      "CROSSCAL - INFO : ### Polarisation calibration on the polarised calibrator data started ###\n"
     ]
    },
    {
     "name": "stderr",
     "output_type": "stream",
     "text": [
      "CROSSCAL - INFO : # Bandpass solutions from flux calibrator not found #\n"
     ]
    },
    {
     "name": "stderr",
     "output_type": "stream",
     "text": [
      "CROSSCAL - INFO : # Deriving bandpass from polarised calibrator using mfcal #\n"
     ]
    },
    {
     "name": "stderr",
     "output_type": "stream",
     "text": [
      "CROSSCAL - INFO : # Bandpass solutions from polarised calibrator derived #\n"
     ]
    },
    {
     "name": "stderr",
     "output_type": "stream",
     "text": [
      "CROSSCAL - INFO : # Continuing with polarisation calibration (leakage, angle) from polarised calibrator data #\n"
     ]
    },
    {
     "name": "stderr",
     "output_type": "stream",
     "text": [
      "CROSSCAL - INFO : # Solved for polarisation leakage and angle on polarised calibrator #\n"
     ]
    },
    {
     "name": "stderr",
     "output_type": "stream",
     "text": [
      "CROSSCAL - INFO : ### Polarisation calibration on the polarised calibrator data done ###\n"
     ]
    },
    {
     "name": "stderr",
     "output_type": "stream",
     "text": [
      "CROSSCAL - INFO : ### Copying calibrator solutions to target dataset ###\n"
     ]
    },
    {
     "name": "stderr",
     "output_type": "stream",
     "text": [
      "CROSSCAL - INFO : # Copying calibrator solutions (bandpass, gains, leakage, angle) from polarised calibrator #\n"
     ]
    },
    {
     "name": "stderr",
     "output_type": "stream",
     "text": [
      "CROSSCAL - INFO : ### All solutions copied to target data ###\n"
     ]
    },
    {
     "name": "stderr",
     "output_type": "stream",
     "text": [
      "CROSSCAL - INFO : ########## CROSS CALIBRATION done ##########\n"
     ]
    }
   ],
   "source": [
    "ccal.go()"
   ]
  },
  {
   "cell_type": "code",
   "execution_count": 2,
   "metadata": {},
   "outputs": [
    {
     "name": "stderr",
     "output_type": "stream",
     "text": [
      "SELFCAL - INFO : ### Configuration file /home/adebahr/apercal/ipython-notebooks/tutorials/cfg/A1.cfg successfully read! ###\n"
     ]
    }
   ],
   "source": [
    "scal = apercal.scal('/home/adebahr/apercal/ipython-notebooks/tutorials/cfg/A1.cfg')"
   ]
  },
  {
   "cell_type": "code",
   "execution_count": 3,
   "metadata": {},
   "outputs": [
    {
     "name": "stderr",
     "output_type": "stream",
     "text": [
      "SELFCAL - INFO : # Moved to directory /data/adebahr/apertif/tutorial/A1/selfcal #\n"
     ]
    },
    {
     "name": "stderr",
     "output_type": "stream",
     "text": [
      "SELFCAL - INFO : ### Splitting of target data into individual freqeuncy chunks started ###\n"
     ]
    },
    {
     "name": "stderr",
     "output_type": "stream",
     "text": [
      "SELFCAL - INFO : # Applying calibrator solutions to target data before averaging #\n"
     ]
    },
    {
     "name": "stderr",
     "output_type": "stream",
     "text": [
      "SELFCAL - INFO : # Calibrator solutions to target data applied #\n"
     ]
    },
    {
     "name": "stderr",
     "output_type": "stream",
     "text": [
      "SELFCAL - INFO : # Found 4 subband(s) in target data #\n"
     ]
    },
    {
     "name": "stderr",
     "output_type": "stream",
     "text": [
      "SELFCAL - INFO : # Started splitting of subband 0 #\n"
     ]
    },
    {
     "name": "stderr",
     "output_type": "stream",
     "text": [
      "SELFCAL - INFO : # Adjusting chunk size to 0.019999999553 GHz for regular gridding of the data chunks over frequency #\n"
     ]
    },
    {
     "name": "stderr",
     "output_type": "stream",
     "text": [
      "SELFCAL - INFO : # Starting splitting of data chunk 0 for subband 0 #\n"
     ]
    },
    {
     "name": "stderr",
     "output_type": "stream",
     "text": [
      "SELFCAL - INFO : # Increasing frequency bin of data chunk 0 to keep bandwidth of chunks equal over the whole bandwidth #\n"
     ]
    },
    {
     "name": "stderr",
     "output_type": "stream",
     "text": [
      "SELFCAL - INFO : # New frequency bin is 0.00124999997206 GHz #\n"
     ]
    },
    {
     "name": "stderr",
     "output_type": "stream",
     "text": [
      "SELFCAL - INFO : # Creating directory /data/adebahr/apertif/tutorial/A1/selfcal/00 #\n"
     ]
    },
    {
     "name": "stderr",
     "output_type": "stream",
     "text": [
      "SELFCAL - INFO : # Splitting of data chunk 0 for subband 0 done #\n"
     ]
    },
    {
     "name": "stderr",
     "output_type": "stream",
     "text": [
      "SELFCAL - INFO : # Splitting of data for subband 0 done #\n"
     ]
    },
    {
     "name": "stderr",
     "output_type": "stream",
     "text": [
      "SELFCAL - INFO : # Started splitting of subband 1 #\n"
     ]
    },
    {
     "name": "stderr",
     "output_type": "stream",
     "text": [
      "SELFCAL - INFO : # Adjusting chunk size to 0.019999999553 GHz for regular gridding of the data chunks over frequency #\n"
     ]
    },
    {
     "name": "stderr",
     "output_type": "stream",
     "text": [
      "SELFCAL - INFO : # Starting splitting of data chunk 0 for subband 1 #\n"
     ]
    },
    {
     "name": "stderr",
     "output_type": "stream",
     "text": [
      "SELFCAL - INFO : # Increasing frequency bin of data chunk 0 to keep bandwidth of chunks equal over the whole bandwidth #\n"
     ]
    },
    {
     "name": "stderr",
     "output_type": "stream",
     "text": [
      "SELFCAL - INFO : # New frequency bin is 0.00124999997206 GHz #\n"
     ]
    },
    {
     "name": "stderr",
     "output_type": "stream",
     "text": [
      "SELFCAL - INFO : # Creating directory /data/adebahr/apertif/tutorial/A1/selfcal/01 #\n"
     ]
    },
    {
     "name": "stderr",
     "output_type": "stream",
     "text": [
      "SELFCAL - INFO : # Splitting of data chunk 0 for subband 1 done #\n"
     ]
    },
    {
     "name": "stderr",
     "output_type": "stream",
     "text": [
      "SELFCAL - INFO : # Splitting of data for subband 1 done #\n"
     ]
    },
    {
     "name": "stderr",
     "output_type": "stream",
     "text": [
      "SELFCAL - INFO : # Started splitting of subband 2 #\n"
     ]
    },
    {
     "name": "stderr",
     "output_type": "stream",
     "text": [
      "SELFCAL - INFO : # Adjusting chunk size to 0.019999999553 GHz for regular gridding of the data chunks over frequency #\n"
     ]
    },
    {
     "name": "stderr",
     "output_type": "stream",
     "text": [
      "SELFCAL - INFO : # Starting splitting of data chunk 0 for subband 2 #\n"
     ]
    },
    {
     "name": "stderr",
     "output_type": "stream",
     "text": [
      "SELFCAL - INFO : # Increasing frequency bin of data chunk 0 to keep bandwidth of chunks equal over the whole bandwidth #\n"
     ]
    },
    {
     "name": "stderr",
     "output_type": "stream",
     "text": [
      "SELFCAL - INFO : # New frequency bin is 0.00124999997206 GHz #\n"
     ]
    },
    {
     "name": "stderr",
     "output_type": "stream",
     "text": [
      "SELFCAL - INFO : # Creating directory /data/adebahr/apertif/tutorial/A1/selfcal/02 #\n"
     ]
    },
    {
     "name": "stderr",
     "output_type": "stream",
     "text": [
      "SELFCAL - INFO : # Splitting of data chunk 0 for subband 2 done #\n"
     ]
    },
    {
     "name": "stderr",
     "output_type": "stream",
     "text": [
      "SELFCAL - INFO : # Splitting of data for subband 2 done #\n"
     ]
    },
    {
     "name": "stderr",
     "output_type": "stream",
     "text": [
      "SELFCAL - INFO : # Started splitting of subband 3 #\n"
     ]
    },
    {
     "name": "stderr",
     "output_type": "stream",
     "text": [
      "SELFCAL - INFO : # Adjusting chunk size to 0.019999999553 GHz for regular gridding of the data chunks over frequency #\n"
     ]
    },
    {
     "name": "stderr",
     "output_type": "stream",
     "text": [
      "SELFCAL - INFO : # Starting splitting of data chunk 0 for subband 3 #\n"
     ]
    },
    {
     "name": "stderr",
     "output_type": "stream",
     "text": [
      "SELFCAL - INFO : # Increasing frequency bin of data chunk 0 to keep bandwidth of chunks equal over the whole bandwidth #\n"
     ]
    },
    {
     "name": "stderr",
     "output_type": "stream",
     "text": [
      "SELFCAL - INFO : # New frequency bin is 0.00124999997206 GHz #\n"
     ]
    },
    {
     "name": "stderr",
     "output_type": "stream",
     "text": [
      "SELFCAL - INFO : # Creating directory /data/adebahr/apertif/tutorial/A1/selfcal/03 #\n"
     ]
    },
    {
     "name": "stderr",
     "output_type": "stream",
     "text": [
      "SELFCAL - INFO : # Splitting of data chunk 0 for subband 3 done #\n"
     ]
    },
    {
     "name": "stderr",
     "output_type": "stream",
     "text": [
      "SELFCAL - INFO : # Splitting of data for subband 3 done #\n"
     ]
    },
    {
     "name": "stderr",
     "output_type": "stream",
     "text": [
      "SELFCAL - INFO : ### Splitting of target data into individual frequency chunks done ###\n"
     ]
    }
   ],
   "source": [
    "scal.splitdata()"
   ]
  },
  {
   "cell_type": "code",
   "execution_count": 4,
   "metadata": {},
   "outputs": [
    {
     "name": "stderr",
     "output_type": "stream",
     "text": [
      "SELFCAL - INFO : ### Doing parametric self calibration ###\n"
     ]
    },
    {
     "name": "stderr",
     "output_type": "stream",
     "text": [
      "SELFCAL - INFO : # Starting parametric self calibration routine on chunk 00 #\n"
     ]
    },
    {
     "name": "stderr",
     "output_type": "stream",
     "text": [
      "SELFCAL - INFO : # Moved to directory /data/adebahr/apertif/tutorial/A1/selfcal/00 #\n"
     ]
    },
    {
     "name": "stderr",
     "output_type": "stream",
     "text": [
      "SELFCAL - INFO : # Creating directory /data/adebahr/apertif/tutorial/A1/selfcal/00/pm #\n"
     ]
    },
    {
     "name": "stderr",
     "output_type": "stream",
     "text": [
      "WARNING: AstropyDeprecationWarning: Passing a frame as a positional argument is now deprecated, use the frame= keyword argument instead. [astropy.coordinates.sky_coordinate]\nWARNING: Couldn't write lextab module u'angle_lextab'. [Errno 13] Permission denied: u'/home/apercal/pipeline/local/lib/python2.7/site-packages/astropy/coordinates/angle_lextab.py'\nWARNING: Couldn't create u'angle_parsetab'. [Errno 13] Permission denied: u'/home/apercal/pipeline/local/lib/python2.7/site-packages/astropy/coordinates/angle_parsetab.py'\n"
     ]
    },
    {
     "name": "stderr",
     "output_type": "stream",
     "text": [
      "WARNING: Couldn't create u'cds_parsetab'. [Errno 13] Permission denied: u'/home/apercal/pipeline/local/lib/python2.7/site-packages/astropy/units/format/cds_parsetab.py'\nWARNING: Couldn't write lextab module u'cds_lextab'. [Errno 13] Permission denied: u'/home/apercal/pipeline/local/lib/python2.7/site-packages/astropy/units/format/cds_lextab.py'\n"
     ]
    },
    {
     "name": "stderr",
     "output_type": "stream",
     "text": [
      "root - INFO : ### Found 49 source(s) with no counterparts. Setting their spectral index to -0.7 ###\n"
     ]
    },
    {
     "name": "stderr",
     "output_type": "stream",
     "text": [
      "root - INFO : ### Found 13 source(s) with 1 counterpart(s) ###\n"
     ]
    },
    {
     "name": "stderr",
     "output_type": "stream",
     "text": [
      "root - INFO : ### Found 8 source(s) with 2 counterpart(s) ###\n"
     ]
    },
    {
     "name": "stderr",
     "output_type": "stream",
     "text": [
      "root - INFO : ### Found 1 source(s) with 3 counterpart(s) ###\n"
     ]
    },
    {
     "name": "stderr",
     "output_type": "stream",
     "text": [
      "root - INFO : ### Found 1 source(s) with 4 counterpart(s) ###\n"
     ]
    },
    {
     "name": "stderr",
     "output_type": "stream",
     "text": [
      "root - INFO : ### Using standard WSRT beam for calculating apparent fluxes! ###\n"
     ]
    },
    {
     "name": "stderr",
     "output_type": "stream",
     "text": [
      "root - INFO : ### Field seems to have a flux of 0.31034251766 Jy ###\n"
     ]
    },
    {
     "name": "stderr",
     "output_type": "stream",
     "text": [
      "root - INFO : ### Found 25 source(s) in the model at a cutoff of 80.0 percent with a total flux of 0.24993615569 Jy ###\n"
     ]
    },
    {
     "name": "stderr",
     "output_type": "stream",
     "text": [
      "root - INFO : ### Wrote source textfile to /data/adebahr/apertif/tutorial/A1/selfcal/00/pm/model.txt! ###\n"
     ]
    },
    {
     "name": "stderr",
     "output_type": "stream",
     "text": [
      "SELFCAL - INFO : # Creating model from textfile model.txt for chunk 00 #\n"
     ]
    },
    {
     "name": "stderr",
     "output_type": "stream",
     "text": [
      "SELFCAL - INFO : # Doing parametric self-calibration on 00 with solution interval 20 min and uvrange limits of 0.5~1000 klambda #\n"
     ]
    },
    {
     "name": "stderr",
     "output_type": "stream",
     "text": [
      "SELFCAL - INFO : # Parametric self calibration routine on chunk 00 done! #\n"
     ]
    },
    {
     "name": "stderr",
     "output_type": "stream",
     "text": [
      "SELFCAL - INFO : # Starting parametric self calibration routine on chunk 01 #\n"
     ]
    },
    {
     "name": "stderr",
     "output_type": "stream",
     "text": [
      "SELFCAL - INFO : # Moved to directory /data/adebahr/apertif/tutorial/A1/selfcal/01 #\n"
     ]
    },
    {
     "name": "stderr",
     "output_type": "stream",
     "text": [
      "SELFCAL - INFO : # Creating directory /data/adebahr/apertif/tutorial/A1/selfcal/01/pm #\n"
     ]
    },
    {
     "name": "stderr",
     "output_type": "stream",
     "text": [
      "root - INFO : ### Found 49 source(s) with no counterparts. Setting their spectral index to -0.7 ###\n"
     ]
    },
    {
     "name": "stderr",
     "output_type": "stream",
     "text": [
      "root - INFO : ### Found 13 source(s) with 1 counterpart(s) ###\n"
     ]
    },
    {
     "name": "stderr",
     "output_type": "stream",
     "text": [
      "root - INFO : ### Found 8 source(s) with 2 counterpart(s) ###\n"
     ]
    },
    {
     "name": "stderr",
     "output_type": "stream",
     "text": [
      "root - INFO : ### Found 1 source(s) with 3 counterpart(s) ###\n"
     ]
    },
    {
     "name": "stderr",
     "output_type": "stream",
     "text": [
      "root - INFO : ### Found 1 source(s) with 4 counterpart(s) ###\n"
     ]
    },
    {
     "name": "stderr",
     "output_type": "stream",
     "text": [
      "root - INFO : ### Using standard WSRT beam for calculating apparent fluxes! ###\n"
     ]
    },
    {
     "name": "stderr",
     "output_type": "stream",
     "text": [
      "root - INFO : ### Field seems to have a flux of 0.317046021764 Jy ###\n"
     ]
    },
    {
     "name": "stderr",
     "output_type": "stream",
     "text": [
      "root - INFO : ### Found 25 source(s) in the model at a cutoff of 80.0 percent with a total flux of 0.254778796428 Jy ###\n"
     ]
    },
    {
     "name": "stderr",
     "output_type": "stream",
     "text": [
      "root - INFO : ### Wrote source textfile to /data/adebahr/apertif/tutorial/A1/selfcal/01/pm/model.txt! ###\n"
     ]
    },
    {
     "name": "stderr",
     "output_type": "stream",
     "text": [
      "SELFCAL - INFO : # Creating model from textfile model.txt for chunk 01 #\n"
     ]
    },
    {
     "name": "stderr",
     "output_type": "stream",
     "text": [
      "SELFCAL - INFO : # Doing parametric self-calibration on 01 with solution interval 20 min and uvrange limits of 0.5~1000 klambda #\n"
     ]
    },
    {
     "name": "stderr",
     "output_type": "stream",
     "text": [
      "SELFCAL - INFO : # Parametric self calibration routine on chunk 01 done! #\n"
     ]
    },
    {
     "name": "stderr",
     "output_type": "stream",
     "text": [
      "SELFCAL - INFO : # Starting parametric self calibration routine on chunk 02 #\n"
     ]
    },
    {
     "name": "stderr",
     "output_type": "stream",
     "text": [
      "SELFCAL - INFO : # Moved to directory /data/adebahr/apertif/tutorial/A1/selfcal/02 #\n"
     ]
    },
    {
     "name": "stderr",
     "output_type": "stream",
     "text": [
      "SELFCAL - INFO : # Creating directory /data/adebahr/apertif/tutorial/A1/selfcal/02/pm #\n"
     ]
    },
    {
     "name": "stderr",
     "output_type": "stream",
     "text": [
      "root - INFO : ### Found 49 source(s) with no counterparts. Setting their spectral index to -0.7 ###\n"
     ]
    },
    {
     "name": "stderr",
     "output_type": "stream",
     "text": [
      "root - INFO : ### Found 13 source(s) with 1 counterpart(s) ###\n"
     ]
    },
    {
     "name": "stderr",
     "output_type": "stream",
     "text": [
      "root - INFO : ### Found 8 source(s) with 2 counterpart(s) ###\n"
     ]
    },
    {
     "name": "stderr",
     "output_type": "stream",
     "text": [
      "root - INFO : ### Found 1 source(s) with 3 counterpart(s) ###\n"
     ]
    },
    {
     "name": "stderr",
     "output_type": "stream",
     "text": [
      "root - INFO : ### Found 1 source(s) with 4 counterpart(s) ###\n"
     ]
    },
    {
     "name": "stderr",
     "output_type": "stream",
     "text": [
      "root - INFO : ### Using standard WSRT beam for calculating apparent fluxes! ###\n"
     ]
    },
    {
     "name": "stderr",
     "output_type": "stream",
     "text": [
      "root - INFO : ### Field seems to have a flux of 0.32382363906 Jy ###\n"
     ]
    },
    {
     "name": "stderr",
     "output_type": "stream",
     "text": [
      "root - INFO : ### Found 25 source(s) in the model at a cutoff of 80.0 percent with a total flux of 0.259652618707 Jy ###\n"
     ]
    },
    {
     "name": "stderr",
     "output_type": "stream",
     "text": [
      "root - INFO : ### Wrote source textfile to /data/adebahr/apertif/tutorial/A1/selfcal/02/pm/model.txt! ###\n"
     ]
    },
    {
     "name": "stderr",
     "output_type": "stream",
     "text": [
      "SELFCAL - INFO : # Creating model from textfile model.txt for chunk 02 #\n"
     ]
    },
    {
     "name": "stderr",
     "output_type": "stream",
     "text": [
      "SELFCAL - INFO : # Doing parametric self-calibration on 02 with solution interval 20 min and uvrange limits of 0.5~1000 klambda #\n"
     ]
    },
    {
     "name": "stderr",
     "output_type": "stream",
     "text": [
      "SELFCAL - INFO : # Parametric self calibration routine on chunk 02 done! #\n"
     ]
    },
    {
     "name": "stderr",
     "output_type": "stream",
     "text": [
      "SELFCAL - INFO : # Starting parametric self calibration routine on chunk 03 #\n"
     ]
    },
    {
     "name": "stderr",
     "output_type": "stream",
     "text": [
      "SELFCAL - INFO : # Moved to directory /data/adebahr/apertif/tutorial/A1/selfcal/03 #\n"
     ]
    },
    {
     "name": "stderr",
     "output_type": "stream",
     "text": [
      "SELFCAL - INFO : # Creating directory /data/adebahr/apertif/tutorial/A1/selfcal/03/pm #\n"
     ]
    },
    {
     "name": "stderr",
     "output_type": "stream",
     "text": [
      "root - INFO : ### Found 49 source(s) with no counterparts. Setting their spectral index to -0.7 ###\n"
     ]
    },
    {
     "name": "stderr",
     "output_type": "stream",
     "text": [
      "root - INFO : ### Found 13 source(s) with 1 counterpart(s) ###\n"
     ]
    },
    {
     "name": "stderr",
     "output_type": "stream",
     "text": [
      "root - INFO : ### Found 8 source(s) with 2 counterpart(s) ###\n"
     ]
    },
    {
     "name": "stderr",
     "output_type": "stream",
     "text": [
      "root - INFO : ### Found 1 source(s) with 3 counterpart(s) ###\n"
     ]
    },
    {
     "name": "stderr",
     "output_type": "stream",
     "text": [
      "root - INFO : ### Found 1 source(s) with 4 counterpart(s) ###\n"
     ]
    },
    {
     "name": "stderr",
     "output_type": "stream",
     "text": [
      "root - INFO : ### Using standard WSRT beam for calculating apparent fluxes! ###\n"
     ]
    },
    {
     "name": "stderr",
     "output_type": "stream",
     "text": [
      "root - INFO : ### Field seems to have a flux of 0.297168416831 Jy ###\n"
     ]
    },
    {
     "name": "stderr",
     "output_type": "stream",
     "text": [
      "root - INFO : ### Found 25 source(s) in the model at a cutoff of 80.0 percent with a total flux of 0.240560647049 Jy ###\n"
     ]
    },
    {
     "name": "stderr",
     "output_type": "stream",
     "text": [
      "root - INFO : ### Wrote source textfile to /data/adebahr/apertif/tutorial/A1/selfcal/03/pm/model.txt! ###\n"
     ]
    },
    {
     "name": "stderr",
     "output_type": "stream",
     "text": [
      "SELFCAL - INFO : # Creating model from textfile model.txt for chunk 03 #\n"
     ]
    },
    {
     "name": "stderr",
     "output_type": "stream",
     "text": [
      "SELFCAL - INFO : # Doing parametric self-calibration on 03 with solution interval 20 min and uvrange limits of 0.5~1000 klambda #\n"
     ]
    },
    {
     "name": "stderr",
     "output_type": "stream",
     "text": [
      "SELFCAL - INFO : # Parametric self calibration routine on chunk 03 done! #\n"
     ]
    },
    {
     "name": "stderr",
     "output_type": "stream",
     "text": [
      "SELFCAL - INFO : ### Parametric self calibration done ###\n"
     ]
    }
   ],
   "source": [
    "scal.parametric()"
   ]
  },
  {
   "cell_type": "code",
   "execution_count": null,
   "metadata": {},
   "outputs": [],
   "source": [
    ""
   ]
  }
 ],
 "metadata": {
  "kernelspec": {
   "display_name": "Python 2",
   "language": "python",
   "name": "python2"
  },
  "language_info": {
   "codemirror_mode": {
    "name": "ipython",
    "version": 2.0
   },
   "file_extension": ".py",
   "mimetype": "text/x-python",
   "name": "python",
   "nbconvert_exporter": "python",
   "pygments_lexer": "ipython2",
   "version": "2.7.6"
  }
 },
 "nbformat": 4,
 "nbformat_minor": 0
}