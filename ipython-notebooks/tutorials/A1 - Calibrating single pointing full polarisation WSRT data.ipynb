{
 "cells": [
  {
   "cell_type": "code",
   "execution_count": 1,
   "metadata": {
    "collapsed": true
   },
   "outputs": [
    {
     "name": "stderr",
     "output_type": "stream",
     "text": [
      "root - INFO : Logging started!\n"
     ]
    },
    {
     "name": "stderr",
     "output_type": "stream",
     "text": [
      "root - INFO : To see the log in a bash window use the following command:\n"
     ]
    },
    {
     "name": "stderr",
     "output_type": "stream",
     "text": [
      "root - INFO : tail -n +1 -f /home/adebahr/apercal/ipython-notebooks/tutorials/logs/A1.log\n"
     ]
    },
    {
     "name": "stdout",
     "output_type": "stream",
     "text": [
      "Setup logger with lib.setup_logger()\n"
     ]
    }
   ],
   "source": [
    "# Header Block. You should NOT rerun this block if you have not restarted the kernel.\n",
    "%config IPCompleter.greedy=True\n",
    "import lib\n",
    "lib.setup_logger('info', logfile='/home/adebahr/apercal/ipython-notebooks/tutorials/logs/A1.log')\n",
    "import apercal"
   ]
  },
  {
   "cell_type": "code",
   "execution_count": 2,
   "metadata": {},
   "outputs": [
    {
     "name": "stderr",
     "output_type": "stream",
     "text": [
      "FINAL - INFO : ### Configuration file /home/adebahr/apercal/ipython-notebooks/tutorials/cfg/A1.cfg successfully read! ###\n"
     ]
    }
   ],
   "source": [
    "final = apercal.final('/home/adebahr/apercal/ipython-notebooks/tutorials/cfg/A1.cfg')"
   ]
  },
  {
   "cell_type": "code",
   "execution_count": 4,
   "metadata": {},
   "outputs": [
    {
     "data": {
      "text/plain": [
       "'\\n        Produces a line cube by imaging the individual frequency chunks (options chunk) or each individual channel (option channel)\\n        '"
      ]
     },
     "execution_count": 4,
     "metadata": {},
     "output_type": "execute_result"
    }
   ],
   "source": [
    "final.line.__doc__"
   ]
  },
  {
   "cell_type": "code",
   "execution_count": 3,
   "metadata": {},
   "outputs": [
    {
     "name": "stderr",
     "output_type": "stream",
     "text": [
      "FINAL - INFO : ### Starting line imaging of full dataset ###\n"
     ]
    },
    {
     "name": "stderr",
     "output_type": "stream",
     "text": [
      "FINAL - INFO : # Moved to directory /data/adebahr/apertif/tutorial/A1/final #\n"
     ]
    },
    {
     "name": "stderr",
     "output_type": "stream",
     "text": [
      "FINAL - INFO : # Moved to directory /data/adebahr/apertif/tutorial/A1/final/line #\n"
     ]
    },
    {
     "name": "stderr",
     "output_type": "stream",
     "text": [
      "FINAL - INFO : # Imaging each individual channel seperately #\n"
     ]
    },
    {
     "name": "stderr",
     "output_type": "stream",
     "text": [
      "FINAL - INFO : # All channels of chunk 00 imaged #\n"
     ]
    },
    {
     "name": "stderr",
     "output_type": "stream",
     "text": [
      "FINAL - INFO : # All channels of chunk 01 imaged #\n"
     ]
    },
    {
     "name": "stderr",
     "output_type": "stream",
     "text": [
      "FINAL - INFO : # All channels of chunk 02 imaged #\n"
     ]
    },
    {
     "name": "stderr",
     "output_type": "stream",
     "text": [
      "FINAL - INFO : # All channels of chunk 03 imaged #\n"
     ]
    },
    {
     "name": "stderr",
     "output_type": "stream",
     "text": [
      "FINAL - INFO : # Combining images to line cube and writing frequency file #\n"
     ]
    },
    {
     "name": "stdout",
     "output_type": "stream",
     "text": [
      "(1, 1, 1537, 1537)\n"
     ]
    }
   ],
   "source": [
    "final.line()"
   ]
  },
  {
   "cell_type": "code",
   "execution_count": null,
   "metadata": {},
   "outputs": [],
   "source": [
    ""
   ]
  },
  {
   "cell_type": "code",
   "execution_count": null,
   "metadata": {},
   "outputs": [],
   "source": [
    ""
   ]
  }
 ],
 "metadata": {
  "kernelspec": {
   "display_name": "Python 2",
   "language": "python",
   "name": "python2"
  },
  "language_info": {
   "codemirror_mode": {
    "name": "ipython",
    "version": 2.0
   },
   "file_extension": ".py",
   "mimetype": "text/x-python",
   "name": "python",
   "nbconvert_exporter": "python",
   "pygments_lexer": "ipython2",
   "version": "2.7.6"
  }
 },
 "nbformat": 4,
 "nbformat_minor": 0
}