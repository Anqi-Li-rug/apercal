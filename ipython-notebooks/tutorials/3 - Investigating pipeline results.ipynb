{
 "cells": [
  {
   "cell_type": "markdown",
   "metadata": {},
   "source": [
    "# Apercal tutorial 3: Investigating pipeline results"
   ]
  },
  {
   "cell_type": "markdown",
   "metadata": {},
   "source": [
    "In this tutorial we want to investigate the data reduction of the 2nd tutorial."
   ]
  },
  {
   "cell_type": "code",
   "execution_count": null,
   "metadata": {},
   "outputs": [],
   "source": [
    "import os;\n",
    "myusername = os.environ['USER']\n",
    "if not ('PYTHONPATH' in os.environ and\n",
    "        '/home/' + myusername + '/apercal' in os.environ['PYTHONPATH']):\n",
    "      print(\"WARNING: your apercal directory should be in the $PYTHONPATH\")\n",
    "\n",
    "%config IPCompleter.greedy=True\n",
    "%matplotlib notebook\n",
    "import libs.lib as lib\n",
    "lib.setup_logger('info', logfile='/home/{}/apercal/ipython-notebooks/tutorials/logs/3.log'.format(myusername))\n",
    "\n",
    "import apercal"
   ]
  },
  {
   "cell_type": "markdown",
   "metadata": {},
   "source": [
    "The mosaic module gave us some warnings during its run. Let's have a look at the summary of the stacked continuum mosaic. The last two lines are just for generating a table with an improved format. The summary also works without them."
   ]
  },
  {
   "cell_type": "code",
   "execution_count": null,
   "metadata": {},
   "outputs": [],
   "source": [
    "mosaic = apercal.mosaic('/home/{}/apercal/ipython-notebooks/tutorials/cfg/3.cfg'.format(myusername))"
   ]
  },
  {
   "cell_type": "code",
   "execution_count": null,
   "metadata": {},
   "outputs": [],
   "source": [
    "s = mosaic.summary_continuumstacked()\n",
    "s.style\n",
    "\n",
    "d = dict(selector=\"th\", props=[('text-align', 'center')])\n",
    "s.style.set_properties(**{'text-align':'center'})"
   ]
  },
  {
   "cell_type": "markdown",
   "metadata": {},
   "source": [
    "This general summary gives us an overview of the created mosaic. Which beams were accepted, their weights in the mosaic, and a reason if a beam was not accepted."
   ]
  },
  {
   "cell_type": "markdown",
   "metadata": {},
   "source": [
    "# Warning"
   ]
  },
  {
   "cell_type": "markdown",
   "metadata": {},
   "source": [
    "The summary functions as well as the actual reduction routines are using the parameter file `param.npy` located in your `basedir`. In case you want to redo calibration steps use the appropriate `reset` function from now on and don't remove any files by hand unless you know what you are doing. Otherwise the pipeline will get confused and you might need to redo the reduction for several steps."
   ]
  },
  {
   "cell_type": "markdown",
   "metadata": {},
   "source": [
    "Looks like Beam 15 was not included in the mosaic. Let's have a more detailed look what exactly happened."
   ]
  },
  {
   "cell_type": "code",
   "execution_count": null,
   "metadata": {},
   "outputs": [],
   "source": [
    "ds = mosaic.detailed_summary_continuumstacked()\n",
    "ds.style\n",
    "\n",
    "d = dict(selector=\"th\", props=[('text-align', 'center')])\n",
    "ds.style.set_properties(**{'text-align':'center'})"
   ]
  },
  {
   "cell_type": "markdown",
   "metadata": {},
   "source": [
    "The same summary can be used for the mosaic of the 20 MHz chunk images."
   ]
  },
  {
   "cell_type": "code",
   "execution_count": null,
   "metadata": {},
   "outputs": [],
   "source": [
    "sc = mosaic.summary_continuumchunks()\n",
    "sc.style\n",
    "\n",
    "d = dict(selector=\"th\", props=[('text-align', 'center')])\n",
    "sc.style.set_properties(**{'text-align':'center'})"
   ]
  },
  {
   "cell_type": "markdown",
   "metadata": {},
   "source": [
    "A detailed summary is also available, which gives you chunk x beam number of rows leading to a very long table."
   ]
  },
  {
   "cell_type": "code",
   "execution_count": null,
   "metadata": {},
   "outputs": [],
   "source": [
    "dsc = mosaic.detailed_summary_continuumchunks()\n",
    "dsc.style\n",
    "\n",
    "d = dict(selector=\"th\", props=[('text-align', 'center')])\n",
    "dsc.style.set_properties(**{'text-align':'center'})"
   ]
  },
  {
   "cell_type": "markdown",
   "metadata": {},
   "source": [
    "You can give an number to this function to only look at one chunk."
   ]
  },
  {
   "cell_type": "code",
   "execution_count": null,
   "metadata": {},
   "outputs": [],
   "source": [
    "dsc = mosaic.detailed_summary_continuumchunks(7)\n",
    "dsc.style\n",
    "\n",
    "d = dict(selector=\"th\", props=[('text-align', 'center')])\n",
    "dsc.style.set_properties(**{'text-align':'center'})"
   ]
  },
  {
   "cell_type": "markdown",
   "metadata": {},
   "source": [
    "Tracing back the failed beam 15 to the continuum imaging, we can also get a summary for this using the continuum module."
   ]
  },
  {
   "cell_type": "code",
   "execution_count": null,
   "metadata": {},
   "outputs": [],
   "source": [
    "continuum = apercal.continuum('/home/{}/apercal/ipython-notebooks/tutorials/cfg/3.cfg'.format(myusername))\n",
    "continuum.beam = '15'"
   ]
  },
  {
   "cell_type": "markdown",
   "metadata": {},
   "source": [
    "Summaries for the `continuum` module are always only for single beams, so that you have to set the beam parameter beforehand. Otherwise it will use the one given in the config file."
   ]
  },
  {
   "cell_type": "code",
   "execution_count": null,
   "metadata": {},
   "outputs": [],
   "source": [
    "cs = contnuum.summary()\n",
    "cs.style\n",
    "\n",
    "d = dict(selector=\"th\", props=[('text-align', 'center')])\n",
    "cs.style.set_properties(**{'text-align':'center'})"
   ]
  },
  {
   "cell_type": "markdown",
   "metadata": {},
   "source": [
    "A detailed summary is available here as well."
   ]
  },
  {
   "cell_type": "code",
   "execution_count": null,
   "metadata": {},
   "outputs": [],
   "source": [
    "dcs = contnuum.detailed_summary()\n",
    "dcs.style\n",
    "\n",
    "d = dict(selector=\"th\", props=[('text-align', 'center')])\n",
    "dcs.style.set_properties(**{'text-align':'center'})"
   ]
  },
  {
   "cell_type": "markdown",
   "metadata": {},
   "source": [
    "These kind of summaries will soon be available for all modules as well as the plotting of gains, bandpasses, images etc. Please let me know what would be the most useful things to automatically show and which parameters solve failed redcution steps."
   ]
  }
 ],
 "metadata": {
  "kernelspec": {
   "display_name": "Python 2",
   "language": "python",
   "name": "python2"
  },
  "language_info": {
   "codemirror_mode": {
    "name": "ipython",
    "version": 2
   },
   "file_extension": ".py",
   "mimetype": "text/x-python",
   "name": "python",
   "nbconvert_exporter": "python",
   "pygments_lexer": "ipython2",
   "version": "2.7.12"
  }
 },
 "nbformat": 4,
 "nbformat_minor": 2
}
