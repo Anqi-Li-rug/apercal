{
 "cells": [
  {
   "cell_type": "code",
   "execution_count": null,
   "metadata": {},
   "outputs": [],
   "source": [
    ""
   ]
  },
  {
   "cell_type": "code",
   "execution_count": null,
   "metadata": {},
   "outputs": [],
   "source": [
    ""
   ]
  },
  {
   "cell_type": "code",
   "execution_count": 1,
   "metadata": {
    "collapsed": true
   },
   "outputs": [
    {
     "name": "stderr",
     "output_type": "stream",
     "text": [
      "root - INFO : Logging started!\n"
     ]
    },
    {
     "name": "stderr",
     "output_type": "stream",
     "text": [
      "root - INFO : To see the log in a bash window use the following command:\n"
     ]
    },
    {
     "name": "stderr",
     "output_type": "stream",
     "text": [
      "root - INFO : tail -n +1 -f /home/adebahr/apercal/ipython-notebooks/tutorials/logs/0.log\n"
     ]
    },
    {
     "name": "stdout",
     "output_type": "stream",
     "text": [
      "Setup logger with lib.setup_logger()\n"
     ]
    }
   ],
   "source": [
    "# The first step is to initialise APERCAL. You need your APERCAL directory added to your $PYTHONPATH before you can use it.\n",
    "\n",
    "# To enable auto-completion in the notebook we need to configure the IPCompleter. The different available functions in the classes and their attributes should now appear while typing commands.\n",
    "%config IPCompleter.greedy=True\n",
    "\n",
    "# Before we initialise APERCAL we need to import the lib module to eanble the logger.\n",
    "import lib\n",
    "# The log file should point to the directory you are reducing the data in. So change this path to your apercal distribution.\n",
    "lib.setup_logger('info', logfile='/home/adebahr/apercal/ipython-notebooks/tutorials/logs/0.log')\n",
    "\n",
    "# Now we start APERCAL. If you start the notebook a popup window will come up where you can define the IP-adress the server runs on.\n",
    "# Default should be ok, but be sure to disable the token security or copy the token over from the notebook server you started.\n",
    "import apercal"
   ]
  },
  {
   "cell_type": "code",
   "execution_count": 2,
   "metadata": {},
   "outputs": [
    {
     "name": "stderr",
     "output_type": "stream",
     "text": [
      "PREFLAG - INFO : ### Configuration file /home/adebahr/apercal/ipython-notebooks/tutorials/cfg/0.cfg successfully read! ###\n"
     ]
    }
   ],
   "source": [
    "# In the normal mode APERCAL runs through a defined number of reduction steps with parameters given in a config file.\n",
    "# Reduction steps are always executed in the order PREFLAG, CONVERT, CROSSCAL, SELFCAL, LINE, FINAL no matter what order these steps have in the configuration file.\n",
    "# If you want to execute a step you need to initialise the class in combination with the config-file.\n",
    "preflag = apercal.preflag('/home/adebahr/apercal/ipython-notebooks/tutorials/cfg/0.cfg')"
   ]
  },
  {
   "cell_type": "code",
   "execution_count": 3,
   "metadata": {},
   "outputs": [
    {
     "name": "stderr",
     "output_type": "stream",
     "text": [
      "PREFLAG - INFO : ### No configuration file given or file not found! Using default values! ###\n"
     ]
    }
   ],
   "source": [
    "# In case you do not give a configuration file the default.cfg is used from the main APERCAL directory.\n",
    "preflag = apercal.preflag()\n",
    "# These values should also be the ones for which the standard APERTIF data reduction works!"
   ]
  },
  {
   "cell_type": "code",
   "execution_count": 4,
   "metadata": {},
   "outputs": [
    {
     "name": "stdout",
     "output_type": "stream",
     "text": [
      "PREFLAG\n\tpreflag_aoflagger = True\n\tpreflag_aoflagger_fluxcal = True\n\tpreflag_aoflagger_polcal = True\n\tpreflag_aoflagger_target = True\n\tpreflag_aoflagger_fluxcalstrat = fluxcal.rfis\n\tpreflag_aoflagger_polcalstrat = polcal.rfis\n\tpreflag_aoflagger_targetstrat = target.rfis\n\tpreflag_manualflag = True\n\tpreflag_manualflag_fluxcal = True\n\tpreflag_manualflag_polcal = True\n\tpreflag_manualflag_target = True\n\tpreflag_manualflag_auto = True\n\tpreflag_manualflag_antenna = RT5\n\tpreflag_manualflag_corr = \n\tpreflag_manualflag_shadow = True\n\tpreflag_manualflag_baseline = \n"
     ]
    }
   ],
   "source": [
    "# You can look at the parameters of the single step again.\n",
    "preflag.show()"
   ]
  },
  {
   "cell_type": "code",
   "execution_count": 5,
   "metadata": {},
   "outputs": [
    {
     "name": "stdout",
     "output_type": "stream",
     "text": [
      "INITIAL\n\tapercaldir = /home/adebahr/apercal\n\tfluxcal = 3C147.MS\n\tpolcal = 3C138.MS\n\ttarget = NGC4062.MS\n\tbasedir = /data/adebahr/apertif/tutorial/0/\n\trawsubdir = raw\n\tcrosscalsubdir = crosscal\n\tselfcalsubdir = selfcal\n\tlinesubdir = line\n\tfinalsubdir = final\nPREFLAG\n\tpreflag_aoflagger = True\n\tpreflag_aoflagger_fluxcal = True\n\tpreflag_aoflagger_polcal = True\n\tpreflag_aoflagger_target = True\n\tpreflag_aoflagger_fluxcalstrat = fluxcal.rfis\n\tpreflag_aoflagger_polcalstrat = polcal.rfis\n\tpreflag_aoflagger_targetstrat = target.rfis\n\tpreflag_manualflag = True\n\tpreflag_manualflag_fluxcal = True\n\tpreflag_manualflag_polcal = True\n\tpreflag_manualflag_target = True\n\tpreflag_manualflag_auto = True\n\tpreflag_manualflag_antenna = RT5\n\tpreflag_manualflag_corr = \n\tpreflag_manualflag_shadow = True\n\tpreflag_manualflag_baseline = \nCONVERT\n\tconvert_ms2uvfits = True\n\tconvert_ms2uvfits_tool = casa\n\tconvert_ms2uvfits_tool_casa_autocorr = False\n\tconvert_uvfits2mir = True\n\tconvert_uvfits2mir_tool = wsrtfits\n\tconvert_fluxcal = False\n\tconvert_polcal = True\n\tconvert_target = True\nCROSSCAL\n\tcrosscal_mode = WSRT\n\tcrosscal_fringestop = False\n\tcrosscal_fringestop_mode = direct\n\tcrosscal_applysys = False\n\tcrosscal_bandpass = True\n\tcrosscal_polarisation = True\n\tcrosscal_transfer_to_target = True\nSELFCAL\n\tselfcal_image_imsize = 1537\n\tselfcal_image_cellsize = 4\n\tselfcal_splitdata = True\n\tselfcal_splitdata_chunkbandwidth = 0.02\n\tselfcal_splitdata_channelbandwidth = 0.001\n\tselfcal_flagline = True\n\tselfcal_flagline_sigma = 1\n\tselfcal_parametric = True\n\tselfcal_parametric_skymodel_radius = 0.5\n\tselfcal_parametric_skymodel_cutoff = 0.8\n\tselfcal_parametric_skymodel_distance = 30\n\tselfcal_parametric_solint = 10\n\tselfcal_parametric_uvmin = 0.5\n\tselfcal_parametric_uvmax = 1000\n\tselfcal_mode = standard\n\tselfcal_mode_standard_majorcycle = 5\n\tselfcal_mode_standard_minorcycle = 3\n\tselfcal_mode_standard_c0 = 1.1\n\tselfcal_mode_standard_c1 = 1.5\n\tselfcal_mode_standard_drinit = 100\n\tselfcal_mode_standard_dr0 = 2.0\n\tselfcal_mode_standard_nsigma = 8\n\tselfcal_mode_standard_uvmin = [0.5, 0.3, 0.1, 0.0, 0.0]\n\tselfcal_mode_standard_uvmax = [3000, 3000, 3000, 3000, 3000]\n\tselfcal_mode_standard_solint = [10, 5, 3, 2, 1]\nLINE\n\tline_splitdata = True\n\tline_splitdata_chunkbandwidth = 0.02\n\tline_splitdata_channelbandwidth = 0.0002\n\tline_transfergains = True\n\tline_subtract = True\n\tline_subtract_mode = uvmodel\nFINAL\n\tfinal_continuum = True\n\tfinal_continuum_image_imsize = 1537\n\tfinal_continuum_image_cellsize = 4\n\tfinal_continuum_mode = mf\n\tfinal_continuum_minorcycle = 3\n\tfinal_continuum_c0 = 3\n\tfinal_continuum_c1 = 3\n\tfinal_continuum_nsigma = 5\n\tfinal_continuum_extraiterations = 5000\n\tfinal_line = True\n\tfinal_line_image_imsize = 1537\n\tfinal_line_image_cellsize = 4\n\tfinal_line_image_mode = channel\n\tfinal_polarisation = True\n\tfinal_polarisation_image_imsize = 1537\n\tfinal_polarisation_image_cellsize = 4\n\tfinal_polarisation_makecube = True\n\tfinal_polarisation_rmsynth = True\n"
     ]
    }
   ],
   "source": [
    "# Or look at all current parameters at once using the showall=True option.\n",
    "preflag.show(showall=True)\n",
    "# The explanation of all parameters can be found in the /docs subfolder of the APERCAL distribution."
   ]
  },
  {
   "cell_type": "code",
   "execution_count": 6,
   "metadata": {},
   "outputs": [
    {
     "name": "stderr",
     "output_type": "stream",
     "text": [
      "PREFLAG - INFO : ### Configuration file /home/adebahr/apercal/ipython-notebooks/tutorials/cfg/0.cfg successfully read! ###\n"
     ]
    }
   ],
   "source": [
    "# Each step corresponds to a python module in the APERCAL directory (mostly with the same name), which has all the neccessary functions to execute a step.\n",
    "# You might have noticed that there is no initial.py in the directory. This is because this is setting the environment and the location of the data for the reduction. The parameters in this step are therefore universal for the whole reduction.\n",
    "# To run the tutorial on your data you need to modify the config textfile's initial parameters to work in your directory. Do that now! Then reload the config file from your directory by changing the following line.\n",
    "preflag = apercal.preflag('/home/adebahr/apercal/ipython-notebooks/tutorials/cfg/0.cfg')"
   ]
  },
  {
   "cell_type": "code",
   "execution_count": 7,
   "metadata": {},
   "outputs": [
    {
     "name": "stderr",
     "output_type": "stream",
     "text": [
      "PREFLAG - INFO : ########## PRE-FLAGGING started ##########\n"
     ]
    },
    {
     "name": "stderr",
     "output_type": "stream",
     "text": [
      "PREFLAG - INFO : # Moved to directory /data/adebahr/apertif/tutorial/0/raw #\n"
     ]
    },
    {
     "name": "stderr",
     "output_type": "stream",
     "text": [
      "PREFLAG - INFO : ### Doing pre-flagging with AOFlagger ###\n"
     ]
    },
    {
     "name": "stderr",
     "output_type": "stream",
     "text": [
      "PREFLAG - INFO : ### Flagging of 3C147.MS using fluxcal.rfis done ###\n"
     ]
    },
    {
     "name": "stderr",
     "output_type": "stream",
     "text": [
      "PREFLAG - INFO : ### Flagging of 3C138.MS using polcal.rfis done ###\n"
     ]
    },
    {
     "name": "stderr",
     "output_type": "stream",
     "text": [
      "PREFLAG - INFO : ### Flagging of NGC4062.MS using target.rfis done ###\n"
     ]
    },
    {
     "name": "stderr",
     "output_type": "stream",
     "text": [
      "PREFLAG - INFO : ### Starting pre-flagging of known flags ###\n"
     ]
    },
    {
     "name": "stderr",
     "output_type": "stream",
     "text": [
      "PREFLAG - INFO : # Flagging auto-correlations for flux calibrator data #\n"
     ]
    },
    {
     "name": "stderr",
     "output_type": "stream",
     "text": [
      "PREFLAG - INFO : # Auto-correlation flagging for flux calibrator data done #\n"
     ]
    },
    {
     "name": "stderr",
     "output_type": "stream",
     "text": [
      "PREFLAG - INFO : # Flagging auto-correlations for polarisation calibrator data #\n"
     ]
    },
    {
     "name": "stderr",
     "output_type": "stream",
     "text": [
      "PREFLAG - INFO : # Auto-correlation flagging for polarisation calibrator data done #\n"
     ]
    },
    {
     "name": "stderr",
     "output_type": "stream",
     "text": [
      "PREFLAG - INFO : # Flagging auto-correlations for target data #\n"
     ]
    },
    {
     "name": "stderr",
     "output_type": "stream",
     "text": [
      "PREFLAG - INFO : # Auto-correlation flagging for target data done #\n"
     ]
    },
    {
     "name": "stderr",
     "output_type": "stream",
     "text": [
      "PREFLAG - INFO : # Flagging antenna(s) RT5 for flux calibrator data #\n"
     ]
    },
    {
     "name": "stderr",
     "output_type": "stream",
     "text": [
      "PREFLAG - INFO : # Flagging of antenna(s) RT5 for flux calibrator data done #\n"
     ]
    },
    {
     "name": "stderr",
     "output_type": "stream",
     "text": [
      "PREFLAG - INFO : # Flagging antenna(s) RT5 for polarised calibrator data #\n"
     ]
    },
    {
     "name": "stderr",
     "output_type": "stream",
     "text": [
      "PREFLAG - INFO : # Flagging of antenna(s) RT5 for polariased calibrator data done #\n"
     ]
    },
    {
     "name": "stderr",
     "output_type": "stream",
     "text": [
      "PREFLAG - INFO : # Flagging antenna(s) RT5 for target data #\n"
     ]
    },
    {
     "name": "stderr",
     "output_type": "stream",
     "text": [
      "PREFLAG - INFO : # Flagging of antenna(s) RT5 for target data done #\n"
     ]
    },
    {
     "name": "stderr",
     "output_type": "stream",
     "text": [
      "PREFLAG - INFO : # Flagging shadowed antennas for flux calibrator data #\n"
     ]
    },
    {
     "name": "stderr",
     "output_type": "stream",
     "text": [
      "PREFLAG - INFO : # Flagging of shadowed antennas for flux calibrator data done #\n"
     ]
    },
    {
     "name": "stderr",
     "output_type": "stream",
     "text": [
      "PREFLAG - INFO : # Flagging shadowed antennas for polarised calibrator data #\n"
     ]
    },
    {
     "name": "stderr",
     "output_type": "stream",
     "text": [
      "PREFLAG - INFO : # Flagging of shadowed antennas for polarised calibrator data done #\n"
     ]
    },
    {
     "name": "stderr",
     "output_type": "stream",
     "text": [
      "PREFLAG - INFO : # Flagging of shadowed antennas for target data #\n"
     ]
    },
    {
     "name": "stderr",
     "output_type": "stream",
     "text": [
      "PREFLAG - INFO : # Flagging of shadowed antennas for target data done #\n"
     ]
    },
    {
     "name": "stderr",
     "output_type": "stream",
     "text": [
      "PREFLAG - INFO : ### Pre-flagging of known flags done ###\n"
     ]
    },
    {
     "name": "stderr",
     "output_type": "stream",
     "text": [
      "PREFLAG - INFO : ########## PRE-FLAGGING done ##########\n"
     ]
    }
   ],
   "source": [
    "# For uncalibrated data this has to be located in the raw subdirectory given in the initial step. The reduction then starts with the pre-flagging.\n",
    "# To execute a single step you can just give it a go.\n",
    "preflag.go()"
   ]
  },
  {
   "cell_type": "code",
   "execution_count": 8,
   "metadata": {},
   "outputs": [
    {
     "name": "stderr",
     "output_type": "stream",
     "text": [
      "CONVERT - INFO : ### Configuration file /home/adebahr/apercal/ipython-notebooks/tutorials/cfg/0.cfg successfully read! ###\n"
     ]
    }
   ],
   "source": [
    "# Now lets load the convert module and see what it can do. Again exchange the location of the config file with your modified one.\n",
    "convert = apercal.convert('/home/adebahr/apercal/ipython-notebooks/tutorials/cfg/0.cfg')"
   ]
  },
  {
   "cell_type": "code",
   "execution_count": 9,
   "metadata": {},
   "outputs": [
    {
     "name": "stdout",
     "output_type": "stream",
     "text": [
      "Help on instance of convert in module convert:\n\nclass convert\n |  Methods defined here:\n |  \n |  __init__(self, file=None, **kwargs)\n |  \n |  director(self, option, dest, file=None, verbose=True)\n |      director: Function to move, remove, and copy files and directories\n |      option: 'mk', 'ch', 'mv', 'rm', and 'cp' are supported\n |      dest: Destination of a file or directory to move to\n |      file: Which file to move or copy, otherwise None\n |  \n |  go(self)\n |      Executes the whole conversion from MS format to MIRIAD format of the flux calibrator, polarisation calibrator, and target dataset in the following order:\n |      ms2uvfits\n |      uvfits2miriad\n |  \n |  ms2uvfits(self)\n |      Executes the CASA exportuvfits or the command line utility ms2uvfits to convert the data from MS to UVFITS format. Does it for the flux calibrator, polarisation calibrator, and target field independently.\n |  \n |  reset(self)\n |      Function to reset the current step and remove all generated data. Be careful! Deletes all data generated in this step!\n |  \n |  show(self, showall=False)\n |      show: Prints the current settings of the pipeline. Only shows keywords, which are in the default config file default.cfg\n |      showall: Set to true if you want to see all current settings instead of only the ones from the current step\n |  \n |  uvfits2miriad(self)\n |      Executes the selected miriad task (fits or wsrtfits) to convert the data from UVFITS to MIRIAD format. Does it for the flux calibrator, polarisation calibrator, and target field independently.\n\n"
     ]
    }
   ],
   "source": [
    "# You can get a basic explanation and list of methods by using the usual python help function. This basically gives you the comments in the code.\n",
    "help(convert)\n",
    "# If you look at the go method you can check in which order the different methods (substeps) are executed.\n",
    "# The go method is a fast way to execute a whole step with the current settings. director, reset, and show are available in all modules and implemented in the same way."
   ]
  },
  {
   "cell_type": "code",
   "execution_count": 10,
   "metadata": {},
   "outputs": [
    {
     "name": "stderr",
     "output_type": "stream",
     "text": [
      "CONVERT - INFO : ########## FILE CONVERSION started ##########\n"
     ]
    },
    {
     "name": "stderr",
     "output_type": "stream",
     "text": [
      "CONVERT - INFO : ### Starting conversion from MS to UVFITS format ###\n"
     ]
    },
    {
     "name": "stderr",
     "output_type": "stream",
     "text": [
      "CONVERT - INFO : # Creating directory /data/adebahr/apertif/tutorial/0/crosscal #\n"
     ]
    },
    {
     "name": "stderr",
     "output_type": "stream",
     "text": [
      "CONVERT - INFO : # Moved to directory /data/adebahr/apertif/tutorial/0/crosscal #\n"
     ]
    },
    {
     "name": "stderr",
     "output_type": "stream",
     "text": [
      "CONVERT - INFO : ### Using CASA toolkit to convert from MS to UVFITS format! ###\n"
     ]
    },
    {
     "name": "stderr",
     "output_type": "stream",
     "text": [
      "CONVERT - INFO : ### Converted MS file 3C138.MS to UVFITS using CASA toolkit! ###\n"
     ]
    },
    {
     "name": "stderr",
     "output_type": "stream",
     "text": [
      "CONVERT - INFO : ### Converted MS file NGC4062.MS to UVFITS using CASA toolkit! ###\n"
     ]
    },
    {
     "name": "stderr",
     "output_type": "stream",
     "text": [
      "CONVERT - INFO : ### Conversion from MS to UVFITS format done! ###\n"
     ]
    },
    {
     "name": "stderr",
     "output_type": "stream",
     "text": [
      "CONVERT - INFO : ### Starting conversion from UVFITS to MIRIAD format ###\n"
     ]
    },
    {
     "name": "stderr",
     "output_type": "stream",
     "text": [
      "CONVERT - INFO : ### Using MIRIAD wsrtfits task to convert data from UVFITS to MIRIAD format ###\n"
     ]
    },
    {
     "name": "stderr",
     "output_type": "stream",
     "text": [
      "CONVERT - INFO : ### Converted UVFITS file 3C138.MS to MIRIAD format using MIRIAD task wsrtfits! ###\n"
     ]
    },
    {
     "name": "stderr",
     "output_type": "stream",
     "text": [
      "CONVERT - INFO : ### Converted UVFITS file NGC4062.MS to MIRIAD format using MIRIAD task wsrtfits! ###\n"
     ]
    },
    {
     "name": "stderr",
     "output_type": "stream",
     "text": [
      "CONVERT - INFO : ### Conversion from UVFITS to MIRIAD format done! ###\n"
     ]
    },
    {
     "name": "stderr",
     "output_type": "stream",
     "text": [
      "CONVERT - INFO : ########## FILE CONVERSION done ##########\n"
     ]
    }
   ],
   "source": [
    "# It does not mean that a certain task is executed when a certain function is executed. The switch for executing a task is in the function itself to give the code a better structure.\n",
    "# To illustrate this lets convert the data first\n",
    "convert.go()"
   ]
  },
  {
   "cell_type": "code",
   "execution_count": 11,
   "metadata": {},
   "outputs": [
    {
     "name": "stdout",
     "output_type": "stream",
     "text": [
      "CONVERT\n\tconvert_ms2uvfits = True\n\tconvert_ms2uvfits_tool = casa\n\tconvert_ms2uvfits_tool_casa_autocorr = False\n\tconvert_uvfits2mir = True\n\tconvert_uvfits2mir_tool = wsrtfits\n\tconvert_fluxcal = False\n\tconvert_polcal = True\n\tconvert_target = True\n"
     ]
    }
   ],
   "source": [
    "# If you look at the convert step of the config file you see that the parameters convert_ms2uvfits and convert_uvfits2mir are both set to true.\n",
    "convert.show()"
   ]
  },
  {
   "cell_type": "code",
   "execution_count": 12,
   "metadata": {},
   "outputs": [
    {
     "name": "stderr",
     "output_type": "stream",
     "text": [
      "CONVERT - WARNING : ### Deleting all converted data. ###\n"
     ]
    }
   ],
   "source": [
    "# Now lets execute the individual substeps of this function individually. First reset the pipeline to the state before the conversion by using the reset method:\n",
    "convert.reset()\n",
    "# This deletes all converted files in the crosscal directory. Be careful with this command. You might need to execute previous steps of the pipeline again before you can redo things."
   ]
  },
  {
   "cell_type": "code",
   "execution_count": 13,
   "metadata": {},
   "outputs": [
    {
     "name": "stderr",
     "output_type": "stream",
     "text": [
      "CONVERT - INFO : ### Starting conversion from MS to UVFITS format ###\n"
     ]
    },
    {
     "name": "stderr",
     "output_type": "stream",
     "text": [
      "CONVERT - INFO : ### Using CASA toolkit to convert from MS to UVFITS format! ###\n"
     ]
    },
    {
     "name": "stderr",
     "output_type": "stream",
     "text": [
      "CONVERT - INFO : ### Converted MS file 3C138.MS to UVFITS using CASA toolkit! ###\n"
     ]
    },
    {
     "name": "stderr",
     "output_type": "stream",
     "text": [
      "CONVERT - INFO : ### Converted MS file NGC4062.MS to UVFITS using CASA toolkit! ###\n"
     ]
    },
    {
     "name": "stderr",
     "output_type": "stream",
     "text": [
      "CONVERT - INFO : ### Conversion from MS to UVFITS format done! ###\n"
     ]
    }
   ],
   "source": [
    "# The first substep of the go method is ms2uvfits. So lets execute only this step:\n",
    "convert.ms2uvfits()\n",
    "# Usually the naming of the individual steps and their corresponding functions is the same."
   ]
  },
  {
   "cell_type": "code",
   "execution_count": 14,
   "metadata": {},
   "outputs": [
    {
     "name": "stdout",
     "output_type": "stream",
     "text": [
      "CONVERT\n\tconvert_ms2uvfits = True\n\tconvert_ms2uvfits_tool = casa\n\tconvert_ms2uvfits_tool_casa_autocorr = False\n\tconvert_uvfits2mir = True\n\tconvert_uvfits2mir_tool = wsrtfits\n\tconvert_fluxcal = False\n\tconvert_polcal = False\n\tconvert_target = True\n"
     ]
    }
   ],
   "source": [
    "# The data is now converted to UVFITS format. Now lets convert only the target data to MIRIAD format. For this we need to change the convert_polcal parameter to false.\n",
    "convert.convert_polcal = False\n",
    "# You can always change parameters while executing the pipeline. These parameters are only temporarily changed and overwritten as soon as you load a new config-file or restart apercal.\n",
    "convert.show()"
   ]
  },
  {
   "cell_type": "code",
   "execution_count": 15,
   "metadata": {},
   "outputs": [
    {
     "name": "stderr",
     "output_type": "stream",
     "text": [
      "CONVERT - INFO : ### Starting conversion from UVFITS to MIRIAD format ###\n"
     ]
    },
    {
     "name": "stderr",
     "output_type": "stream",
     "text": [
      "CONVERT - INFO : ### Using MIRIAD wsrtfits task to convert data from UVFITS to MIRIAD format ###\n"
     ]
    },
    {
     "name": "stderr",
     "output_type": "stream",
     "text": [
      "CONVERT - INFO : ### Converted UVFITS file NGC4062.MS to MIRIAD format using MIRIAD task wsrtfits! ###\n"
     ]
    },
    {
     "name": "stderr",
     "output_type": "stream",
     "text": [
      "CONVERT - INFO : ### Conversion from UVFITS to MIRIAD format done! ###\n"
     ]
    }
   ],
   "source": [
    "# And now execute the conversion from UVFITS to MIRIAD format.\n",
    "convert.uvfits2miriad()"
   ]
  },
  {
   "cell_type": "code",
   "execution_count": 16,
   "metadata": {},
   "outputs": [
    {
     "name": "stderr",
     "output_type": "stream",
     "text": [
      "CONVERT - WARNING : ### Deleting all converted data. ###\n"
     ]
    }
   ],
   "source": [
    "# The naming of the data files is always dependent on the input MS-file. The renamiing in the different steps is automatically handled by the pipeline.\n",
    "# Even if you start with a already cross-calibrated dataset, use <filename>.MS for the initial step, while your actual cross-calibrated MIRIAD file is located in the crosscal subdirectory and named <filename>.mir\n",
    "# The full directory structure is fixed and documented in 2 - Directory structure in the /docs subfolder of the APERCAL pipeline directory\n",
    "# Let's reset the convert step again\n",
    "convert.reset()"
   ]
  },
  {
   "cell_type": "code",
   "execution_count": 17,
   "metadata": {},
   "outputs": [
    {
     "name": "stdout",
     "output_type": "stream",
     "text": [
      "CONVERT\n\tconvert_ms2uvfits = True\n\tconvert_ms2uvfits_tool = casa\n\tconvert_ms2uvfits_tool_casa_autocorr = False\n\tconvert_uvfits2mir = False\n\tconvert_uvfits2mir_tool = wsrtfits\n\tconvert_fluxcal = False\n\tconvert_polcal = False\n\tconvert_target = True\n"
     ]
    }
   ],
   "source": [
    "# We can also skip the second step (uvfits2miriad) by setting the parameter to false\n",
    "convert.convert_uvfits2mir = False\n",
    "convert.show()"
   ]
  },
  {
   "cell_type": "code",
   "execution_count": 18,
   "metadata": {},
   "outputs": [
    {
     "name": "stderr",
     "output_type": "stream",
     "text": [
      "CONVERT - INFO : ########## FILE CONVERSION started ##########\n"
     ]
    },
    {
     "name": "stderr",
     "output_type": "stream",
     "text": [
      "CONVERT - INFO : ### Starting conversion from MS to UVFITS format ###\n"
     ]
    },
    {
     "name": "stderr",
     "output_type": "stream",
     "text": [
      "CONVERT - INFO : ### Using CASA toolkit to convert from MS to UVFITS format! ###\n"
     ]
    },
    {
     "name": "stderr",
     "output_type": "stream",
     "text": [
      "CONVERT - INFO : ### Converted MS file NGC4062.MS to UVFITS using CASA toolkit! ###\n"
     ]
    },
    {
     "name": "stderr",
     "output_type": "stream",
     "text": [
      "CONVERT - INFO : ### Conversion from MS to UVFITS format done! ###\n"
     ]
    },
    {
     "name": "stderr",
     "output_type": "stream",
     "text": [
      "CONVERT - INFO : ########## FILE CONVERSION done ##########\n"
     ]
    }
   ],
   "source": [
    "# Now execute with go\n",
    "convert.go()\n",
    "# Now only the target data was converted and only from MS to UVFITS since the switch for converting from UVFITS to MIRIAD (convert_uvfits2mir) is located inside the function itself."
   ]
  },
  {
   "cell_type": "code",
   "execution_count": 19,
   "metadata": {},
   "outputs": [
    {
     "name": "stderr",
     "output_type": "stream",
     "text": [
      "CONFIG - INFO : ### Configuration file /home/adebahr/apercal/default.cfg successfully read! ###\n"
     ]
    }
   ],
   "source": [
    "# An easy tool to manage config files is the config module. Change the location of the default.cfg to the one in your apercal distribution.\n",
    "config = apercal.config('/home/adebahr/apercal/default.cfg')"
   ]
  },
  {
   "cell_type": "code",
   "execution_count": 20,
   "metadata": {},
   "outputs": [
    {
     "name": "stdout",
     "output_type": "stream",
     "text": [
      "PREFLAG\n\tpreflag_aoflagger = True\n\tpreflag_aoflagger_fluxcal = True\n\tpreflag_aoflagger_polcal = True\n\tpreflag_aoflagger_target = True\n\tpreflag_aoflagger_fluxcalstrat = 'fluxcal.rfis'\n\tpreflag_aoflagger_polcalstrat = 'polcal.rfis'\n\tpreflag_aoflagger_targetstrat = 'target.rfis'\n\tpreflag_manualflag = True\n\tpreflag_manualflag_fluxcal = True\n\tpreflag_manualflag_polcal = True\n\tpreflag_manualflag_target = True\n\tpreflag_manualflag_auto = True\n\tpreflag_manualflag_antenna = 'RT5'\n\tpreflag_manualflag_corr = ''\n\tpreflag_manualflag_shadow = True\n\tpreflag_manualflag_baseline = ''\n"
     ]
    }
   ],
   "source": [
    "# It works very similar to the other modules. You can display individual steps as well as the whole config file.\n",
    "config.show(step='PREFLAG')"
   ]
  },
  {
   "cell_type": "code",
   "execution_count": 21,
   "metadata": {},
   "outputs": [
    {
     "name": "stdout",
     "output_type": "stream",
     "text": [
      "Help on instance of config in module config:\n\nclass config\n |  Class to manage configuration files.\n |  \n |  Methods defined here:\n |  \n |  __init__(self, file=None, **kwargs)\n |  \n |  add_option(self, step, option, value)\n |      Add an option to a step in the configuration file\n |      step (string): The name opf the step to add the option to\n |      option (string): The name of the option to add\n |      value (): The value of the option to add\n |      :return:\n |  \n |  add_step(self, step)\n |      Add a step to the configuration file\n |      step (string): Name of the step to add\n |  \n |  default(self)\n |      Loads the default configuration file. Resets all parameters to the default values.\n |  \n |  load(self, file)\n |      Load a configuration file\n |      file (string): The name and absolute path of the configuration file to load\n |  \n |  rm_options(self, step, option)\n |      Remove an option from a configuration file\n |      step (string): The name of the step to remove the option from\n |      option (string): The name of the option to remove\n |  \n |  rm_step(self, step)\n |      Remove a step from a configuration file\n |      step (string): Name of the step to remove\n |  \n |  save(self, file)\n |      Save a configuration file\n |      file (string): The name and absolute path of the configuration file to save\n |  \n |  show(self, step=None)\n |      Shows the current configuration file.\n |      step (string): Step name to show. If left blank all steps and parameters are shown.\n\n"
     ]
    }
   ],
   "source": [
    "help(config)\n",
    "# You can add steps and options or remove them. It tells you if steps and soonish options are available and you put the parameters in the right format."
   ]
  },
  {
   "cell_type": "code",
   "execution_count": 22,
   "metadata": {},
   "outputs": [
    {
     "name": "stdout",
     "output_type": "stream",
     "text": [
      "Calibration step not allowed! Only INITIAL, PREFLAG, CONVERT, CROSSCAL, SELFCAL, LINE, and FINAL are allowed!\n"
     ]
    }
   ],
   "source": [
    "config.add_step('PREFALG')\n",
    "# You can also load and save configuration files easily using the load and save functions."
   ]
  },
  {
   "cell_type": "code",
   "execution_count": null,
   "metadata": {},
   "outputs": [],
   "source": [
    "# You can execute single MIRIAD tasks within the notebook. First you have to initialise the task using the lib module:\n",
    "# Let's convert the NGC4062 data from UVFITS to MIRIAD 'by hand'. You need to change the directory paths to your directories.\n",
    "fits = lib.miriad('fits')\n",
    "fits.in_ = '/data/adebahr/apertif/tutorial/0/crosscal/NGC4062.UVFITS'\n",
    "# The MIRIAD in keyword needs an additional underscore at the end since python has a predefined global function in.\n",
    "fits.op = 'uvin'\n",
    "fits.out = '/data/adebahr/apertif/tutorial/0/crosscal/NGC4062.mir'\n",
    "fits.go()"
   ]
  }
 ],
 "metadata": {
  "kernelspec": {
   "display_name": "Python 2",
   "language": "python",
   "name": "python2"
  },
  "language_info": {
   "codemirror_mode": {
    "name": "ipython",
    "version": 2.0
   },
   "file_extension": ".py",
   "mimetype": "text/x-python",
   "name": "python",
   "nbconvert_exporter": "python",
   "pygments_lexer": "ipython2",
   "version": "2.7.6"
  }
 },
 "nbformat": 4,
 "nbformat_minor": 0
}