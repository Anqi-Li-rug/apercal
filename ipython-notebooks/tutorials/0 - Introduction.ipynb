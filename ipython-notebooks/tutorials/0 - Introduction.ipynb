{
 "cells": [
  {
   "cell_type": "code",
   "execution_count": 1,
   "metadata": {
    "collapsed": true
   },
   "outputs": [
    {
     "name": "stderr",
     "output_type": "stream",
     "text": [
      "root - INFO : Logging started!\n"
     ]
    },
    {
     "name": "stderr",
     "output_type": "stream",
     "text": [
      "root - INFO : To see the log in a bash window use the following command:\n"
     ]
    },
    {
     "name": "stderr",
     "output_type": "stream",
     "text": [
      "root - INFO : tail -n +1 -f /home/adebahr/apercal/ipython-notebooks/tutorials/logs/0.log\n"
     ]
    },
    {
     "name": "stdout",
     "output_type": "stream",
     "text": [
      "Setup logger with lib.setup_logger()\n"
     ]
    },
    {
     "name": "stdout",
     "output_type": "stream",
     "text": [
      "Setup logger with lib.setup_logger()\n"
     ]
    }
   ],
   "source": [
    "# The first step is to initialise APERCAL. You need your APERCAL directory added to your $PYTHONPATH before you can use it.\n",
    "\n",
    "# To enable auto-completion in the notebook we need to configure the IPCompleter. The different available functions in the classes and their attributes should now appear while typing commands.\n",
    "%config IPCompleter.greedy=True\n",
    "\n",
    "# Before we initialise APERCAL we need to import the lib module to enable the logger.\n",
    "import lib\n",
    "# The log file should point to the directory you are reducing the data in. So change this path to your apercal distribution.\n",
    "lib.setup_logger('info', logfile='/home/adebahr/apercal/ipython-notebooks/tutorials/logs/0.log')\n",
    "\n",
    "# Now we start APERCAL. If you start the notebook a popup window will come up where you can define the IP-adress the server runs on.\n",
    "# Default should be ok, but be sure to disable the token security or copy the token over from the notebook server you started.\n",
    "import apercal"
   ]
  },
  {
   "cell_type": "code",
   "execution_count": 2,
   "metadata": {},
   "outputs": [
    {
     "name": "stderr",
     "output_type": "stream",
     "text": [
      "INFO:PREPARE:### Configuration file /home/adebahr/apercal/ipython-notebooks/tutorials/cfg/0.cfg successfully read! ###\n"
     ]
    }
   ],
   "source": [
    "# In the normal mode APERCAL runs through a defined number of reduction steps with parameters given in a config file.\n",
    "# Reduction steps are usually executed in the following order: PREPARE, PREFLAG, CONVERT, CROSSCAL, SELFCAL, CONTINUUM, LINE, POLARISATION, MOSAIC\n",
    "# If you want to execute a step you need to initialise the class in combination with the config-file.\n",
    "prepare = apercal.prepare('/home/adebahr/apercal/ipython-notebooks/tutorials/cfg/0.cfg')"
   ]
  },
  {
   "cell_type": "code",
   "execution_count": 3,
   "metadata": {},
   "outputs": [
    {
     "name": "stdout",
     "output_type": "stream",
     "text": [
      "PREPARE\n\tprepare_obsdir_fluxcal = /data/apertif/7070707_3C147/\n\tprepare_obsdir_polcal = \n\tprepare_obsdir_target = /data/apertif/7070708_M51/\n\tprepare_obsmode = single_element\n"
     ]
    }
   ],
   "source": [
    "# You can look at the current parameters for this step using the show function:\n",
    "prepare.show()"
   ]
  },
  {
   "cell_type": "code",
   "execution_count": 4,
   "metadata": {},
   "outputs": [
    {
     "name": "stderr",
     "output_type": "stream",
     "text": [
      "INFO:PREPARE:### No configuration file given or file not found! Using default values! ###\n"
     ]
    }
   ],
   "source": [
    "# In case you do not give a configuration file the default.cfg is used from the main APERCAL directory.\n",
    "prepare = apercal.prepare()\n",
    "# These values should also be the ones for which the standard APERTIF data reduction works!"
   ]
  },
  {
   "cell_type": "code",
   "execution_count": 5,
   "metadata": {},
   "outputs": [
    {
     "name": "stdout",
     "output_type": "stream",
     "text": [
      "PREPARE\n\tprepare_obsdir_fluxcal = \n\tprepare_obsdir_polcal = \n\tprepare_obsdir_target = \n\tprepare_obsmode = single_element\n"
     ]
    }
   ],
   "source": [
    "# You can look at the parameters of the single step again.\n",
    "prepare.show()\n",
    "# The variables pointing to the directories for the location of the original datasets are empty now since they will be different for each individual observation."
   ]
  },
  {
   "cell_type": "code",
   "execution_count": 6,
   "metadata": {},
   "outputs": [
    {
     "name": "stdout",
     "output_type": "stream",
     "text": [
      "INITIAL\n\tapercaldir = /home/adebahr/apercal\n\tfluxcal = \n\tpolcal = \n\ttarget = \n\tbasedir = \n\tbeam = \n\trawsubdir = raw\n\tcrosscalsubdir = crosscal\n\tselfcalsubdir = selfcal\n\tlinesubdir = line\n\tcontsubdir = continuum\n\tpolsubdir = polarisation\nPREPARE\n\tprepare_obsdir_fluxcal = \n\tprepare_obsdir_polcal = \n\tprepare_obsdir_target = \n\tprepare_obsmode = single_element\nPREFLAG\n\tpreflag_manualflag = True\n\tpreflag_manualflag_fluxcal = True\n\tpreflag_manualflag_polcal = False\n\tpreflag_manualflag_target = True\n\tpreflag_manualflag_auto = True\n\tpreflag_manualflag_antenna = \n\tpreflag_manualflag_corr = \n\tpreflag_manualflag_shadow = True\n\tpreflag_manualflag_baseline = \n\tpreflag_manualflag_channel = \n\tpreflag_manualflag_time = \n\tpreflag_aoflagger = True\n\tpreflag_aoflagger_bandpass = True\n\tpreflag_aoflagger_fluxcal = True\n\tpreflag_aoflagger_polcal = False\n\tpreflag_aoflagger_target = True\n\tpreflag_aoflagger_fluxcalstrat = fluxcal.rfis\n\tpreflag_aoflagger_polcalstrat = \n\tpreflag_aoflagger_targetstrat = target.rfis\nCONVERT\n\tconvert_ms2uvfits = True\n\tconvert_ms2uvfits_tool_casa_autocorr = False\n\tconvert_uvfits2mir = True\n\tconvert_fluxcal = True\n\tconvert_polcal = False\n\tconvert_target = True\nCROSSCAL\n\tcrosscal_bandpass = True\n\tcrosscal_delay = True\n\tcrosscal_polarisation = False\n\tcrosscal_transfer_to_target = True\nSELFCAL\n\tselfcal_image_imsize = 1025\n\tselfcal_image_cellsize = 8\n\tselfcal_splitdata = True\n\tselfcal_splitdata_chunkbandwidth = 0.02\n\tselfcal_splitdata_channelbandwidth = 0.001\n\tselfcal_flagantenna = \n\tselfcal_flagline = True\n\tselfcal_flagline_sigma = 0.5\n\tselfcal_parametric = False\n\tselfcal_parametric_skymodel_radius = 0.5\n\tselfcal_parametric_skymodel_cutoff = 0.8\n\tselfcal_parametric_skymodel_distance = 30\n\tselfcal_parametric_solint = 10\n\tselfcal_parametric_uvmin = 0.5\n\tselfcal_parametric_uvmax = 1000\n\tselfcal_parametric_amp = False\n\tselfcal_standard_majorcycle = 3\n\tselfcal_standard_majorcycle_function = square\n\tselfcal_standard_minorcycle = 5\n\tselfcal_standard_minorcycle_function = square\n\tselfcal_standard_c0 = 10.0\n\tselfcal_standard_c1 = 5.0\n\tselfcal_standard_minorcycle0_dr = 3.0\n\tselfcal_standard_drinit = 25\n\tselfcal_standard_dr0 = 2.0\n\tselfcal_standard_nsigma = 50\n\tselfcal_standard_uvmin = [0.0, 0.0, 0.0, 0.0]\n\tselfcal_standard_uvmax = [3000, 3000, 3000]\n\tselfcal_standard_solint = [5, 3, 0.5]\n\tselfcal_standard_amp = False\n\tselfcal_standard_amp_auto_limit = 1.0\n\tselfcal_standard_nfbin = 1\nCONTINUUM\n\tcontinuum_image_imsize = 1025\n\tcontinuum_image_cellsize = 8\n\tcontinuum_image_centre = \n\tcontinuum_image_restorbeam = \n\tcontinuum_image_convolbeam = \n\tcontinuum_mode = stack\n\tcontinuum_majorcycle_function = square\n\tcontinuum_minorcycle_function = square\n\tcontinuum_minorcycle0_dr = 3.0\n\tcontinuum_minorcycle = 5\n\tcontinuum_c0 = 10.0\n\tcontinuum_c1 = 5.0\n\tcontinuum_drinit = 25\n\tcontinuum_dr0 = 2.0\n\tcontinuum_nsigma = 30\n\tcontinuum_robust = \nLINE\n\tline_splitdata = False\n\tline_splitdata_chunkbandwidth = 0.02\n\tline_splitdata_channelbandwidth = 1.2e-05\n\tline_transfergains = False\n\tline_subtract = False\n\tline_subtract_mode = uvmodel\n\tline_subtract_mode_uvmodel_majorcycle_function = square\n\tline_subtract_mode_uvmodel_minorcycle_function = square\n\tline_subtract_mode_uvmodel_minorcycle = 5\n\tline_subtract_mode_uvmodel_c0 = 10.0\n\tline_subtract_mode_uvmodel_c1 = 5.0\n\tline_subtract_mode_uvmodel_drinit = 25\n\tline_subtract_mode_uvmodel_dr0 = 2.0\n\tline_subtract_mode_uvmodel_nsigma = 30\n\tline_subtract_mode_uvmodel_imsize = 513\n\tline_subtract_mode_uvmodel_cellsize = 10\n\tline_subtract_mode_uvmodel_minorcycle0_dr = 3.0\n\tline_image = True\n\tline_image_channels = 9650,9800\n\tline_image_imsize = 1025\n\tline_image_cellsize = 8\n\tline_image_centre = \n\tline_image_robust = -2\n\tline_image_ratio_limit = 1.03\n\tline_image_c0 = 10.0\n\tline_image_c1 = 5.0\n\tline_image_nsigma = 20\n\tline_image_minorcycle0_dr = 3.0\n\tline_image_dr0 = 2.0\n\tline_image_restorbeam = \n\tline_image_convolbeam = 30,30,0.0\n"
     ]
    }
   ],
   "source": [
    "# Or look at all current parameters at once using the showall=True option.\n",
    "prepare.show(showall=True)\n",
    "# The explanation of all parameters can be found in the /docs subfolder of the APERCAL distribution."
   ]
  },
  {
   "cell_type": "code",
   "execution_count": 7,
   "metadata": {},
   "outputs": [
    {
     "name": "stderr",
     "output_type": "stream",
     "text": [
      "INFO:PREPARE:### Configuration file /home/adebahr/apercal/ipython-notebooks/tutorials/cfg/0.cfg successfully read! ###\n"
     ]
    }
   ],
   "source": [
    "# Each step corresponds to a python module in the APERCAL subdirectory modules (mostly with the same name), which has all the neccessary functions to execute a step.\n",
    "# You might have noticed that there is no initial.py in the directory. This is because this is setting the environment and the location of the data for the reduction. The parameters in this step are therefore universal for the whole reduction.\n",
    "# To run the tutorial on your data you need to modify the config textfile's initial parameters to work in your directory. Do that now! Then reload the config file from your directory by changing the following line.\n",
    "prepare = apercal.prepare('/home/adebahr/apercal/ipython-notebooks/tutorials/cfg/0.cfg')"
   ]
  },
  {
   "cell_type": "code",
   "execution_count": 8,
   "metadata": {},
   "outputs": [
    {
     "name": "stderr",
     "output_type": "stream",
     "text": [
      "INFO:PREPARE:########## Preparing data for calibration ##########\n"
     ]
    },
    {
     "name": "stderr",
     "output_type": "stream",
     "text": [
      "INFO:PREPARE:### Flux calibrator dataset found. Copying beam 00 to working directory. ###\n"
     ]
    },
    {
     "name": "stderr",
     "output_type": "stream",
     "text": [
      "WARNING:PREPARE:### No polarisation calibrator dataset specified. The next steps might not work! ###\n"
     ]
    },
    {
     "name": "stderr",
     "output_type": "stream",
     "text": [
      "INFO:PREPARE:### 1 different beams for target field found. ###\n"
     ]
    },
    {
     "name": "stderr",
     "output_type": "stream",
     "text": [
      "INFO:PREPARE:### Copying central element beam to working directory. ###\n"
     ]
    },
    {
     "name": "stderr",
     "output_type": "stream",
     "text": [
      "INFO:PREPARE:### Target dataset(s) copied to working directories! ###\n"
     ]
    },
    {
     "name": "stderr",
     "output_type": "stream",
     "text": [
      "INFO:PREPARE:########## Data prepared for calibration ##########\n"
     ]
    }
   ],
   "source": [
    "# The PREPARE step creates the neccessary directories to start the reduction and copies over the datasets from the original directories to the basedir you give.\n",
    "# It has three options single_element, multi_element, and multi_element_90. This defines what kind of dataset you have (or want to reduce)\n",
    "# single_element will only copy the central beam with full bandwidth, multi_element will look for all 37 beams, and multi_element_90 splits the recoreded 90 MHz band of the old limited 90 MHz observations\n",
    "# To execute a single step with the set parameters you can just give it a go.\n",
    "prepare.go()"
   ]
  },
  {
   "cell_type": "code",
   "execution_count": 2,
   "metadata": {},
   "outputs": [
    {
     "name": "stderr",
     "output_type": "stream",
     "text": [
      "INFO:CONVERT:### Configuration file /home/adebahr/apercal/ipython-notebooks/tutorials/cfg/0.cfg successfully read! ###\n"
     ]
    }
   ],
   "source": [
    "# Now lets load the convert module and see what it can do. Again exchange the location of the config file with your modified one. (We are skipping the PREFLAG step here)\n",
    "convert = apercal.convert('/home/adebahr/apercal/ipython-notebooks/tutorials/cfg/0.cfg')"
   ]
  },
  {
   "cell_type": "code",
   "execution_count": 3,
   "metadata": {},
   "outputs": [
    {
     "name": "stdout",
     "output_type": "stream",
     "text": [
      "Help on instance of convert in module modules.convert:\n\nclass convert\n |  Class to convert data from MS-format into UVFITS, and from UVFITS into MIRIAD format. Resulting datasets will have the endings .MS, .UVFITS, and .mir.\n |  \n |  Methods defined here:\n |  \n |  __init__(self, file=None, **kwargs)\n |  \n |  director(self, option, dest, file=None, verbose=True)\n |      director: Function to move, remove, and copy files and directories\n |      option: 'mk', 'ch', 'mv', 'rm', and 'cp' are supported\n |      dest: Destination of a file or directory to move to\n |      file: Which file to move or copy, otherwise None\n |  \n |  go(self)\n |      Executes the whole conversion from MS format to MIRIAD format of the flux calibrator, polarisation calibrator, and target dataset in the following order:\n |      ms2uvfits\n |      uvfits2miriad\n |  \n |  ms2uvfits(self)\n |      Converts the data from MS to UVFITS format using the CASA toolkit. Does it for the flux calibrator, polarisation calibrator, and target field independently.\n |  \n |  reset(self)\n |      Function to reset the current step and remove all generated data. Be careful! Deletes all data generated in this step!\n |  \n |  show(self, showall=False)\n |      show: Prints the current settings of the pipeline. Only shows keywords, which are in the default config file default.cfg\n |      showall: Set to true if you want to see all current settings instead of only the ones from the current step\n |  \n |  uvfits2miriad(self)\n |      Converts the data from UVFITS to MIRIAD format. Does it for the flux calibrator, polarisation calibrator, and target field independently.\n\n"
     ]
    }
   ],
   "source": [
    "# You can get a basic explanation and list of methods by using the usual python help function. This basically gives you the comments in the code.\n",
    "help(convert)\n",
    "# If you look at the go method you can check in which order the different methods (substeps) are executed.\n",
    "# The go method is a fast way to execute a whole step with the current settings. director, reset, and show are available in all modules and implemented in the same way."
   ]
  },
  {
   "cell_type": "code",
   "execution_count": 11,
   "metadata": {},
   "outputs": [
    {
     "name": "stderr",
     "output_type": "stream",
     "text": [
      "INFO:CONVERT:########## FILE CONVERSION started ##########\n"
     ]
    },
    {
     "name": "stderr",
     "output_type": "stream",
     "text": [
      "INFO:CONVERT:### Starting conversion from MS to UVFITS format ###\n"
     ]
    },
    {
     "name": "stderr",
     "output_type": "stream",
     "text": [
      "INFO:CONVERT:### Converted MS file 3C147.MS to UVFITS format! ###\n"
     ]
    },
    {
     "name": "stderr",
     "output_type": "stream",
     "text": [
      "INFO:CONVERT:### Converted MS file /data/adebahr/apertif/tutorials/T0/00/raw/M51.MS to UVFITS format! ###\n"
     ]
    },
    {
     "name": "stderr",
     "output_type": "stream",
     "text": [
      "INFO:CONVERT:### Conversion from MS to UVFITS format done! ###\n"
     ]
    },
    {
     "name": "stderr",
     "output_type": "stream",
     "text": [
      "INFO:CONVERT:### Starting conversion from UVFITS to MIRIAD format ###\n"
     ]
    },
    {
     "name": "stderr",
     "output_type": "stream",
     "text": [
      "INFO:CONVERT:### Converted UVFITS file 3C147.MS to MIRIAD format! ###\n"
     ]
    },
    {
     "name": "stderr",
     "output_type": "stream",
     "text": [
      "INFO:CONVERT:### Converted UVFITS file /data/adebahr/apertif/tutorials/T0/00/crosscal/M51.UVFITS to MIRIAD format! ###\n"
     ]
    },
    {
     "name": "stderr",
     "output_type": "stream",
     "text": [
      "INFO:CONVERT:### Conversion from UVFITS to MIRIAD format done! ###\n"
     ]
    },
    {
     "name": "stderr",
     "output_type": "stream",
     "text": [
      "INFO:CONVERT:########## FILE CONVERSION done ##########\n"
     ]
    }
   ],
   "source": [
    "# It does not mean that a certain task is executed when a certain function is executed. The switch for executing a task is in the function itself to give the code a better structure.\n",
    "# To illustrate this lets convert the data first\n",
    "convert.go()"
   ]
  },
  {
   "cell_type": "code",
   "execution_count": 4,
   "metadata": {},
   "outputs": [
    {
     "name": "stdout",
     "output_type": "stream",
     "text": [
      "CONVERT\n\tconvert_ms2uvfits = True\n\tconvert_ms2uvfits_tool_casa_autocorr = False\n\tconvert_uvfits2mir = True\n\tconvert_fluxcal = True\n\tconvert_polcal = False\n\tconvert_target = True\n"
     ]
    }
   ],
   "source": [
    "# If you look at the convert step of the config file you see that the parameters convert_ms2uvfits and convert_uvfits2mir are both set to true.\n",
    "convert.show()"
   ]
  },
  {
   "cell_type": "code",
   "execution_count": 5,
   "metadata": {},
   "outputs": [
    {
     "name": "stderr",
     "output_type": "stream",
     "text": [
      "WARNING:CONVERT:### Deleting all converted data. ###\n"
     ]
    },
    {
     "name": "stderr",
     "output_type": "stream",
     "text": [
      "INFO:CONVERT:# Moved to directory /data/adebahr/apertif/tutorials/T0/00/crosscal #\n"
     ]
    }
   ],
   "source": [
    "# Now lets execute the individual substeps of this function individually. First reset the pipeline to the state before the conversion by using the reset method:\n",
    "# This will delete all converted files in the crosscal directory. Be careful with this command. You might need to execute previous steps of the pipeline again before you can redo things.\n",
    "convert.reset()"
   ]
  },
  {
   "cell_type": "code",
   "execution_count": 6,
   "metadata": {},
   "outputs": [
    {
     "name": "stderr",
     "output_type": "stream",
     "text": [
      "INFO:CONVERT:### Starting conversion from MS to UVFITS format ###\n"
     ]
    },
    {
     "name": "stderr",
     "output_type": "stream",
     "text": [
      "INFO:CONVERT:### Converted MS file 3C147.MS to UVFITS format! ###\n"
     ]
    },
    {
     "name": "stderr",
     "output_type": "stream",
     "text": [
      "INFO:CONVERT:### Converted MS file /data/adebahr/apertif/tutorials/T0/00/raw/M51.MS to UVFITS format! ###\n"
     ]
    },
    {
     "name": "stderr",
     "output_type": "stream",
     "text": [
      "INFO:CONVERT:### Conversion from MS to UVFITS format done! ###\n"
     ]
    }
   ],
   "source": [
    "# The first substep of the go method is ms2uvfits. So lets execute only this step.\n",
    "# Usually the naming of the individual steps and their corresponding functions is the same.\n",
    "convert.ms2uvfits()"
   ]
  },
  {
   "cell_type": "code",
   "execution_count": 7,
   "metadata": {},
   "outputs": [
    {
     "name": "stdout",
     "output_type": "stream",
     "text": [
      "CONVERT\n\tconvert_ms2uvfits = True\n\tconvert_ms2uvfits_tool_casa_autocorr = False\n\tconvert_uvfits2mir = True\n\tconvert_fluxcal = False\n\tconvert_polcal = False\n\tconvert_target = True\n"
     ]
    }
   ],
   "source": [
    "# The data is now converted to UVFITS format. Now lets convert only the target data to MIRIAD format. For this we need to change the convert_fluxcal parameter to false.\n",
    "convert.convert_fluxcal = False\n",
    "# You can always change parameters while executing the pipeline. These parameters are only temporarily changed and overwritten as soon as you load a new config-file or restart apercal.\n",
    "convert.show()"
   ]
  },
  {
   "cell_type": "code",
   "execution_count": 8,
   "metadata": {},
   "outputs": [
    {
     "name": "stderr",
     "output_type": "stream",
     "text": [
      "INFO:CONVERT:### Starting conversion from UVFITS to MIRIAD format ###\n"
     ]
    },
    {
     "name": "stderr",
     "output_type": "stream",
     "text": [
      "INFO:CONVERT:### Converted UVFITS file /data/adebahr/apertif/tutorials/T0/00/crosscal/M51.UVFITS to MIRIAD format! ###\n"
     ]
    },
    {
     "name": "stderr",
     "output_type": "stream",
     "text": [
      "INFO:CONVERT:### Conversion from UVFITS to MIRIAD format done! ###\n"
     ]
    }
   ],
   "source": [
    "# And now execute the conversion from UVFITS to MIRIAD format (only for the target data).\n",
    "convert.uvfits2miriad()"
   ]
  },
  {
   "cell_type": "code",
   "execution_count": 9,
   "metadata": {},
   "outputs": [
    {
     "name": "stderr",
     "output_type": "stream",
     "text": [
      "WARNING:CONVERT:### Deleting all converted data. ###\n"
     ]
    }
   ],
   "source": [
    "# The naming of the data files is always dependent on the input MS-file. The renamiing in the different steps is automatically handled by the pipeline.\n",
    "# Even if you start with a already cross-calibrated dataset, use <filename>.MS for the initial step, while your actual cross-calibrated MIRIAD file is located in the crosscal subdirectory and named <filename>.mir\n",
    "# The full directory structure is fixed and documented in 2 - Directory structure in the /docs subfolder of the APERCAL pipeline directory\n",
    "# Let's reset the convert step again\n",
    "convert.reset()"
   ]
  },
  {
   "cell_type": "code",
   "execution_count": 10,
   "metadata": {},
   "outputs": [
    {
     "name": "stdout",
     "output_type": "stream",
     "text": [
      "CONVERT\n\tconvert_ms2uvfits = True\n\tconvert_ms2uvfits_tool_casa_autocorr = False\n\tconvert_uvfits2mir = False\n\tconvert_fluxcal = False\n\tconvert_polcal = False\n\tconvert_target = True\n"
     ]
    }
   ],
   "source": [
    "# We can also skip the second step (uvfits2miriad) by setting the parameter to false\n",
    "convert.convert_uvfits2mir = False\n",
    "convert.show()"
   ]
  },
  {
   "cell_type": "code",
   "execution_count": 11,
   "metadata": {},
   "outputs": [
    {
     "name": "stderr",
     "output_type": "stream",
     "text": [
      "INFO:CONVERT:########## FILE CONVERSION started ##########\n"
     ]
    },
    {
     "name": "stderr",
     "output_type": "stream",
     "text": [
      "INFO:CONVERT:### Starting conversion from MS to UVFITS format ###\n"
     ]
    },
    {
     "name": "stderr",
     "output_type": "stream",
     "text": [
      "INFO:CONVERT:### Converted MS file /data/adebahr/apertif/tutorials/T0/00/raw/M51.MS to UVFITS format! ###\n"
     ]
    },
    {
     "name": "stderr",
     "output_type": "stream",
     "text": [
      "INFO:CONVERT:### Conversion from MS to UVFITS format done! ###\n"
     ]
    },
    {
     "name": "stderr",
     "output_type": "stream",
     "text": [
      "INFO:CONVERT:########## FILE CONVERSION done ##########\n"
     ]
    }
   ],
   "source": [
    "# Now execute with go\n",
    "convert.go()\n",
    "# Now only the target data was converted and only from MS to UVFITS since the switch for converting from UVFITS to MIRIAD (convert_uvfits2mir) is located inside the function itself."
   ]
  },
  {
   "cell_type": "code",
   "execution_count": 12,
   "metadata": {},
   "outputs": [
    {
     "data": {
      "text/plain": [
       "['',\n 'fits: Revision 1.32, 2014/09/15 04:39:01 UTC',\n '',\n 'Determining various defaults ...',\n '  Assuming systemp=30',\n '  Assuming jyperk=8',\n '',\n 'Analysing the extension tables ...',\n '  Using antenna table information',\n '  Using frequency table information',\n '  Using source table information',\n '',\n 'Handling the visibility data',\n '  Data are linearly polarized',\n '  Reading the correlation data',\n '  The estimated integration time of a sample is 31 seconds',\n '  Number of antennas: 6',\n '  Number of antenna configurations: 1']"
      ]
     },
     "execution_count": 12,
     "metadata": {},
     "output_type": "execute_result"
    }
   ],
   "source": [
    "# You can execute single MIRIAD tasks within the notebook. First you have to initialise the task using the lib module:\n",
    "# Let's convert the NGC4062 data from UVFITS to MIRIAD 'by hand'. You need to change the directory paths to your directories.\n",
    "fits = lib.miriad('fits')\n",
    "fits.in_ = '/data/adebahr/apertif/tutorials/T0/00/crosscal/M51.UVFITS'\n",
    "# The MIRIAD in keyword needs an additional underscore at the end since python has a predefined global function in.\n",
    "fits.op = 'uvin'\n",
    "fits.out = '/data/adebahr/apertif/tutorials/T0/00/crosscal/M51.mir'\n",
    "fits.go()"
   ]
  },
  {
   "cell_type": "code",
   "execution_count": null,
   "metadata": {},
   "outputs": [],
   "source": [
    ""
   ]
  }
 ],
 "metadata": {
  "kernelspec": {
   "display_name": "Python 2",
   "language": "python",
   "name": "python2"
  },
  "language_info": {
   "codemirror_mode": {
    "name": "ipython",
    "version": 2.0
   },
   "file_extension": ".py",
   "mimetype": "text/x-python",
   "name": "python",
   "nbconvert_exporter": "python",
   "pygments_lexer": "ipython2",
   "version": "2.7.6"
  }
 },
 "nbformat": 4,
 "nbformat_minor": 0
}