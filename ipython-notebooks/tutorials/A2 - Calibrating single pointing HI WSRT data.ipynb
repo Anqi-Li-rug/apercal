{
 "cells": [
  {
   "cell_type": "code",
   "execution_count": 1,
   "metadata": {
    "collapsed": true
   },
   "outputs": [
    {
     "name": "stderr",
     "output_type": "stream",
     "text": [
      "root - INFO : Logging started!\n"
     ]
    },
    {
     "name": "stderr",
     "output_type": "stream",
     "text": [
      "root - INFO : To see the log in a bash window use the following command:\n"
     ]
    },
    {
     "name": "stderr",
     "output_type": "stream",
     "text": [
      "root - INFO : tail -n +1 -f /home/adebahr/apercal/ipython-notebooks/tutorials/logs/A2.log\n"
     ]
    },
    {
     "name": "stdout",
     "output_type": "stream",
     "text": [
      "Setup logger with lib.setup_logger()\n"
     ]
    }
   ],
   "source": [
    "# Header Block. You should NOT rerun this block if you have not restarted the kernel.\n",
    "%config IPCompleter.greedy=True\n",
    "import lib\n",
    "lib.setup_logger('info', logfile='/home/adebahr/apercal/ipython-notebooks/tutorials/logs/A2.log')\n",
    "import apercal"
   ]
  },
  {
   "cell_type": "code",
   "execution_count": 2,
   "metadata": {},
   "outputs": [
    {
     "name": "stderr",
     "output_type": "stream",
     "text": [
      "PREFLAG - INFO : ### Configuration file /home/adebahr/apercal/ipython-notebooks/tutorials/cfg/A2.cfg successfully read! ###\n"
     ]
    }
   ],
   "source": [
    "preflag = apercal.preflag('/home/adebahr/apercal/ipython-notebooks/tutorials/cfg/A2.cfg')"
   ]
  },
  {
   "cell_type": "code",
   "execution_count": 3,
   "metadata": {},
   "outputs": [
    {
     "name": "stderr",
     "output_type": "stream",
     "text": [
      "PREFLAG - INFO : ########## PRE-FLAGGING started ##########\n"
     ]
    },
    {
     "name": "stderr",
     "output_type": "stream",
     "text": [
      "PREFLAG - INFO : # Moved to directory /data/adebahr/apertif/tutorial/A2/raw #\n"
     ]
    },
    {
     "name": "stderr",
     "output_type": "stream",
     "text": [
      "PREFLAG - INFO : ### Doing pre-flagging with AOFlagger ###\n"
     ]
    },
    {
     "name": "stderr",
     "output_type": "stream",
     "text": [
      "PREFLAG - INFO : ### Flagging of 3C147.MS using fluxcal.rfis done ###\n"
     ]
    },
    {
     "name": "stderr",
     "output_type": "stream",
     "text": [
      "PREFLAG - INFO : ### Flagging of NGC4062.MS using target.rfis done ###\n"
     ]
    },
    {
     "name": "stderr",
     "output_type": "stream",
     "text": [
      "PREFLAG - INFO : ### Starting pre-flagging of known flags ###\n"
     ]
    },
    {
     "name": "stderr",
     "output_type": "stream",
     "text": [
      "PREFLAG - INFO : # Flagging auto-correlations for flux calibrator data #\n"
     ]
    },
    {
     "name": "stderr",
     "output_type": "stream",
     "text": [
      "PREFLAG - INFO : # Auto-correlation flagging for flux calibrator data done #\n"
     ]
    },
    {
     "name": "stderr",
     "output_type": "stream",
     "text": [
      "PREFLAG - INFO : # Flagging auto-correlations for target data #\n"
     ]
    },
    {
     "name": "stderr",
     "output_type": "stream",
     "text": [
      "PREFLAG - INFO : # Auto-correlation flagging for target data done #\n"
     ]
    },
    {
     "name": "stderr",
     "output_type": "stream",
     "text": [
      "PREFLAG - INFO : # Flagging antenna(s) RT5 for flux calibrator data #\n"
     ]
    },
    {
     "name": "stderr",
     "output_type": "stream",
     "text": [
      "PREFLAG - INFO : # Flagging of antenna(s) RT5 for flux calibrator data done #\n"
     ]
    },
    {
     "name": "stderr",
     "output_type": "stream",
     "text": [
      "PREFLAG - INFO : # Flagging antenna(s) RT5 for target data #\n"
     ]
    },
    {
     "name": "stderr",
     "output_type": "stream",
     "text": [
      "PREFLAG - INFO : # Flagging of antenna(s) RT5 for target data done #\n"
     ]
    },
    {
     "name": "stderr",
     "output_type": "stream",
     "text": [
      "PREFLAG - INFO : # Flagging shadowed antennas for flux calibrator data #\n"
     ]
    },
    {
     "name": "stderr",
     "output_type": "stream",
     "text": [
      "PREFLAG - INFO : # Flagging of shadowed antennas for flux calibrator data done #\n"
     ]
    },
    {
     "name": "stderr",
     "output_type": "stream",
     "text": [
      "PREFLAG - INFO : # Flagging of shadowed antennas for target data #\n"
     ]
    },
    {
     "name": "stderr",
     "output_type": "stream",
     "text": [
      "PREFLAG - INFO : # Flagging of shadowed antennas for target data done #\n"
     ]
    },
    {
     "name": "stderr",
     "output_type": "stream",
     "text": [
      "PREFLAG - INFO : ### Pre-flagging of known flags done ###\n"
     ]
    },
    {
     "name": "stderr",
     "output_type": "stream",
     "text": [
      "PREFLAG - INFO : ########## PRE-FLAGGING done ##########\n"
     ]
    }
   ],
   "source": [
    "preflag.go()"
   ]
  },
  {
   "cell_type": "code",
   "execution_count": 4,
   "metadata": {},
   "outputs": [
    {
     "name": "stderr",
     "output_type": "stream",
     "text": [
      "CONVERT - INFO : ### Configuration file /home/adebahr/apercal/ipython-notebooks/tutorials/cfg/A2.cfg successfully read! ###\n"
     ]
    }
   ],
   "source": [
    "convert = apercal.convert('/home/adebahr/apercal/ipython-notebooks/tutorials/cfg/A2.cfg')"
   ]
  },
  {
   "cell_type": "code",
   "execution_count": 5,
   "metadata": {},
   "outputs": [
    {
     "name": "stderr",
     "output_type": "stream",
     "text": [
      "CONVERT - INFO : ########## FILE CONVERSION started ##########\n"
     ]
    },
    {
     "name": "stderr",
     "output_type": "stream",
     "text": [
      "CONVERT - INFO : ### Starting conversion from MS to UVFITS format ###\n"
     ]
    },
    {
     "name": "stderr",
     "output_type": "stream",
     "text": [
      "CONVERT - INFO : # Creating directory /data/adebahr/apertif/tutorial/A2/crosscal #\n"
     ]
    },
    {
     "name": "stderr",
     "output_type": "stream",
     "text": [
      "CONVERT - INFO : # Moved to directory /data/adebahr/apertif/tutorial/A2/crosscal #\n"
     ]
    },
    {
     "name": "stderr",
     "output_type": "stream",
     "text": [
      "CONVERT - INFO : ### Using CASA toolkit to convert from MS to UVFITS format! ###\n"
     ]
    },
    {
     "name": "stderr",
     "output_type": "stream",
     "text": [
      "CONVERT - INFO : ### Converted MS file 3C147.MS to UVFITS using CASA toolkit! ###\n"
     ]
    },
    {
     "name": "stderr",
     "output_type": "stream",
     "text": [
      "CONVERT - INFO : ### Converted MS file NGC4062.MS to UVFITS using CASA toolkit! ###\n"
     ]
    },
    {
     "name": "stderr",
     "output_type": "stream",
     "text": [
      "CONVERT - INFO : ### Conversion from MS to UVFITS format done! ###\n"
     ]
    },
    {
     "name": "stderr",
     "output_type": "stream",
     "text": [
      "CONVERT - INFO : ### Starting conversion from UVFITS to MIRIAD format ###\n"
     ]
    },
    {
     "name": "stderr",
     "output_type": "stream",
     "text": [
      "CONVERT - INFO : ### Using MIRIAD wsrtfits task to convert data from UVFITS to MIRIAD format ###\n"
     ]
    },
    {
     "name": "stderr",
     "output_type": "stream",
     "text": [
      "CONVERT - INFO : ### Converted UVFITS file 3C147.MS to MIRIAD format using MIRIAD task wsrtfits! ###\n"
     ]
    },
    {
     "name": "stderr",
     "output_type": "stream",
     "text": [
      "CONVERT - INFO : ### Converted UVFITS file NGC4062.MS to MIRIAD format using MIRIAD task wsrtfits! ###\n"
     ]
    },
    {
     "name": "stderr",
     "output_type": "stream",
     "text": [
      "CONVERT - INFO : ### Conversion from UVFITS to MIRIAD format done! ###\n"
     ]
    },
    {
     "name": "stderr",
     "output_type": "stream",
     "text": [
      "CONVERT - INFO : ########## FILE CONVERSION done ##########\n"
     ]
    }
   ],
   "source": [
    "convert.go()"
   ]
  },
  {
   "cell_type": "code",
   "execution_count": 6,
   "metadata": {},
   "outputs": [
    {
     "name": "stderr",
     "output_type": "stream",
     "text": [
      "CROSSCAL - INFO : ### Configuration file /home/adebahr/apercal/ipython-notebooks/tutorials/cfg/A2.cfg successfully read! ###\n"
     ]
    }
   ],
   "source": [
    "ccal = apercal.ccal('/home/adebahr/apercal/ipython-notebooks/tutorials/cfg/A2.cfg')"
   ]
  },
  {
   "cell_type": "code",
   "execution_count": 7,
   "metadata": {},
   "outputs": [
    {
     "name": "stderr",
     "output_type": "stream",
     "text": [
      "CROSSCAL - INFO : ########## Starting CROSS CALIBRATION ##########\n"
     ]
    },
    {
     "name": "stderr",
     "output_type": "stream",
     "text": [
      "CROSSCAL - INFO : ### WSRT data set. Fringe stopping was done online! ###\n"
     ]
    },
    {
     "name": "stderr",
     "output_type": "stream",
     "text": [
      "CROSSCAL - INFO : ### Applying system temperatures corrections ###\n"
     ]
    },
    {
     "name": "stderr",
     "output_type": "stream",
     "text": [
      "CROSSCAL - INFO : # Applying system temperature corrections to flux calibrator data #\n"
     ]
    },
    {
     "name": "stderr",
     "output_type": "stream",
     "text": [
      "CROSSCAL - INFO : # System temperatures corrections to flux calibrator data applied #\n"
     ]
    },
    {
     "name": "stderr",
     "output_type": "stream",
     "text": [
      "CROSSCAL - INFO : # Applying system temperature corrections to target data #\n"
     ]
    },
    {
     "name": "stderr",
     "output_type": "stream",
     "text": [
      "CROSSCAL - INFO : # System temperatures corrections to target data applied #\n"
     ]
    },
    {
     "name": "stderr",
     "output_type": "stream",
     "text": [
      "CROSSCAL - INFO : ### System temperatures corrections applied ###\n"
     ]
    },
    {
     "name": "stderr",
     "output_type": "stream",
     "text": [
      "CROSSCAL - INFO : ### Bandpass calibration on the flux calibrator data started ###\n"
     ]
    },
    {
     "name": "stderr",
     "output_type": "stream",
     "text": [
      "CROSSCAL - INFO : ### Bandpass calibration on the flux calibrator data done ###\n"
     ]
    },
    {
     "name": "stderr",
     "output_type": "stream",
     "text": [
      "CROSSCAL - INFO : ### No polarisation calibration done! ###\n"
     ]
    },
    {
     "name": "stderr",
     "output_type": "stream",
     "text": [
      "CROSSCAL - INFO : ### Copying calibrator solutions to target dataset ###\n"
     ]
    },
    {
     "name": "stderr",
     "output_type": "stream",
     "text": [
      "CROSSCAL - INFO : # Copying calibrator solutions (bandpass, gains) from flux calibrator #\n"
     ]
    },
    {
     "name": "stderr",
     "output_type": "stream",
     "text": [
      "CROSSCAL - INFO : # Polarisation calibration solutions (leakage, angle) not found #\n"
     ]
    },
    {
     "name": "stderr",
     "output_type": "stream",
     "text": [
      "CROSSCAL - INFO : ### All solutions copied to target data ###\n"
     ]
    },
    {
     "name": "stderr",
     "output_type": "stream",
     "text": [
      "CROSSCAL - INFO : ########## CROSS CALIBRATION done ##########\n"
     ]
    }
   ],
   "source": [
    "ccal.go()"
   ]
  },
  {
   "cell_type": "code",
   "execution_count": 2,
   "metadata": {},
   "outputs": [
    {
     "name": "stderr",
     "output_type": "stream",
     "text": [
      "SELFCAL - INFO : ### Configuration file /home/adebahr/apercal/ipython-notebooks/tutorials/cfg/A2.cfg successfully read! ###\n"
     ]
    }
   ],
   "source": [
    "scal = apercal.scal('/home/adebahr/apercal/ipython-notebooks/tutorials/cfg/A2.cfg')"
   ]
  },
  {
   "cell_type": "code",
   "execution_count": 4,
   "metadata": {},
   "outputs": [
    {
     "name": "stderr",
     "output_type": "stream",
     "text": [
      "SELFCAL - INFO : # Creating directory /data/adebahr/apertif/tutorial/A2/selfcal #\n"
     ]
    },
    {
     "name": "stderr",
     "output_type": "stream",
     "text": [
      "SELFCAL - INFO : # Moved to directory /data/adebahr/apertif/tutorial/A2/selfcal #\n"
     ]
    },
    {
     "name": "stdout",
     "output_type": "stream",
     "text": [
      "9.76562478172e-06\n"
     ]
    }
   ],
   "source": [
    "scal.splitdata()"
   ]
  },
  {
   "cell_type": "code",
   "execution_count": null,
   "metadata": {},
   "outputs": [],
   "source": [
    ""
   ]
  }
 ],
 "metadata": {
  "kernelspec": {
   "display_name": "Python 2",
   "language": "python",
   "name": "python2"
  },
  "language_info": {
   "codemirror_mode": {
    "name": "ipython",
    "version": 2.0
   },
   "file_extension": ".py",
   "mimetype": "text/x-python",
   "name": "python",
   "nbconvert_exporter": "python",
   "pygments_lexer": "ipython2",
   "version": "2.7.6"
  }
 },
 "nbformat": 4,
 "nbformat_minor": 0
}