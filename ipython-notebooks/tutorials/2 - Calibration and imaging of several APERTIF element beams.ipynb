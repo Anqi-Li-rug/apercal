{
 "cells": [
  {
   "cell_type": "code",
   "execution_count": 1,
   "metadata": {
    "collapsed": true
   },
   "outputs": [
    {
     "name": "stderr",
     "output_type": "stream",
     "text": [
      "root - INFO : Logging started!\n"
     ]
    },
    {
     "name": "stderr",
     "output_type": "stream",
     "text": [
      "root - INFO : To see the log in a bash window use the following command:\n"
     ]
    },
    {
     "name": "stderr",
     "output_type": "stream",
     "text": [
      "root - INFO : tail -n +1 -f /home/adebahr/apercal/ipython-notebooks/tutorials/logs/2.log\n"
     ]
    },
    {
     "name": "stdout",
     "output_type": "stream",
     "text": [
      "Setup logger with lib.setup_logger()\n"
     ]
    },
    {
     "name": "stdout",
     "output_type": "stream",
     "text": [
      "Setup logger with lib.setup_logger()\n"
     ]
    }
   ],
   "source": [
    "# After we have successfully calibrated the central element beam of an APERTIF observation we now also want to calibrate and image several beams\n",
    "# Let's start the pipeline again as we did in the last tutorial\n",
    "# Remember to change all the directory paths to your own ones\n",
    "%config IPCompleter.greedy=True\n",
    "%matplotlib notebook\n",
    "import lib\n",
    "lib.setup_logger('info', logfile='/home/adebahr/apercal/ipython-notebooks/tutorials/logs/2.log')\n",
    "import apercal"
   ]
  },
  {
   "cell_type": "code",
   "execution_count": 2,
   "metadata": {},
   "outputs": [
    {
     "name": "stderr",
     "output_type": "stream",
     "text": [
      "INFO:PREPARE:### Configuration file /home/adebahr/apercal/ipython-notebooks/tutorials/cfg/2.cfg successfully read! ###\n"
     ]
    },
    {
     "name": "stdout",
     "output_type": "stream",
     "text": [
      "INITIAL\n\tapercaldir = /home/adebahr/apercal\n\tfluxcal = 3C286.MS\n\tpolcal = \n\ttarget = J1819+3845.MS\n\tbasedir = /data/adebahr/apertif/tutorials/T2/\n\tbeam = 00\n\trawsubdir = raw\n\tcrosscalsubdir = crosscal\n\tselfcalsubdir = selfcal\n\tlinesubdir = line\n\tcontsubdir = continuum\n\tpolsubdir = polarisation\nPREPARE\n\tprepare_obsdir_fluxcal = /data2/apertif/17122114_3C286/\n\tprepare_obsdir_polcal = \n\tprepare_obsdir_target = /data2/apertif/17122115_J1819+3845/\n\tprepare_obsmode = multi_element\nPREFLAG\n\tpreflag_manualflag = True\n\tpreflag_manualflag_fluxcal = True\n\tpreflag_manualflag_polcal = False\n\tpreflag_manualflag_target = True\n\tpreflag_manualflag_auto = True\n\tpreflag_manualflag_antenna = \n\tpreflag_manualflag_corr = \n\tpreflag_manualflag_shadow = True\n\tpreflag_manualflag_baseline = \n\tpreflag_manualflag_channel = \n\tpreflag_manualflag_time = 17:40:00~20:00:00\n\tpreflag_aoflagger = True\n\tpreflag_aoflagger_bandpass = True\n\tpreflag_aoflagger_fluxcal = True\n\tpreflag_aoflagger_polcal = False\n\tpreflag_aoflagger_target = True\n\tpreflag_aoflagger_fluxcalstrat = fluxcal.rfis\n\tpreflag_aoflagger_polcalstrat = \n\tpreflag_aoflagger_targetstrat = target.rfis\nCONVERT\n\tconvert_ms2uvfits = True\n\tconvert_ms2uvfits_tool_casa_autocorr = False\n\tconvert_uvfits2mir = True\n\tconvert_fluxcal = True\n\tconvert_polcal = False\n\tconvert_target = True\nCROSSCAL\n\tcrosscal_bandpass = True\n\tcrosscal_delay = True\n\tcrosscal_polarisation = False\n\tcrosscal_transfer_to_target = True\nSELFCAL\n\tselfcal_image_imsize = 1025\n\tselfcal_image_cellsize = 8\n\tselfcal_splitdata = True\n\tselfcal_splitdata_chunkbandwidth = 0.02\n\tselfcal_splitdata_channelbandwidth = 0.001\n\tselfcal_flagantenna = \n\tselfcal_flagline = True\n\tselfcal_flagline_sigma = 0.5\n\tselfcal_parametric = False\n\tselfcal_parametric_skymodel_radius = 0.5\n\tselfcal_parametric_skymodel_cutoff = 0.8\n\tselfcal_parametric_skymodel_distance = 30\n\tselfcal_parametric_solint = 10\n\tselfcal_parametric_uvmin = 0.5\n\tselfcal_parametric_uvmax = 1000\n\tselfcal_parametric_amp = False\n\tselfcal_standard_majorcycle = 3\n\tselfcal_standard_majorcycle_function = square\n\tselfcal_standard_minorcycle = 5\n\tselfcal_standard_minorcycle_function = square\n\tselfcal_standard_c0 = 10.0\n\tselfcal_standard_c1 = 5.0\n\tselfcal_standard_minorcycle0_dr = 3.0\n\tselfcal_standard_drinit = 25\n\tselfcal_standard_dr0 = 2.0\n\tselfcal_standard_nsigma = 50\n\tselfcal_standard_uvmin = [0.0, 0.0, 0.0]\n\tselfcal_standard_uvmax = [3000, 3000, 3000]\n\tselfcal_standard_solint = [5, 3, 0.5]\n\tselfcal_standard_amp = False\n\tselfcal_standard_amp_auto_limit = 1.0\n\tselfcal_standard_nfbin = 1\nCONTINUUM\n\tcontinuum_image_imsize = 1025\n\tcontinuum_image_cellsize = 8\n\tcontinuum_image_centre = \n\tcontinuum_image_restorbeam = \n\tcontinuum_image_convolbeam = 45,45,0.0\n\tcontinuum_mode = stack\n\tcontinuum_majorcycle_function = square\n\tcontinuum_minorcycle_function = square\n\tcontinuum_minorcycle0_dr = 3.0\n\tcontinuum_minorcycle = 5\n\tcontinuum_c0 = 10.0\n\tcontinuum_c1 = 5.0\n\tcontinuum_drinit = 25\n\tcontinuum_dr0 = 2.0\n\tcontinuum_nsigma = 30\n\tcontinuum_robust = \nLINE\n\tline_splitdata = True\n\tline_splitdata_chunkbandwidth = 0.02\n\tline_splitdata_channelbandwidth = 1.2e-05\n\tline_transfergains = True\n\tline_subtract = True\n\tline_subtract_mode = uvmodel\n\tline_subtract_mode_uvmodel_majorcycle_function = square\n\tline_subtract_mode_uvmodel_minorcycle_function = square\n\tline_subtract_mode_uvmodel_minorcycle = 5\n\tline_subtract_mode_uvmodel_c0 = 10.0\n\tline_subtract_mode_uvmodel_c1 = 5.0\n\tline_subtract_mode_uvmodel_drinit = 25\n\tline_subtract_mode_uvmodel_dr0 = 2.0\n\tline_subtract_mode_uvmodel_nsigma = 30\n\tline_subtract_mode_uvmodel_imsize = 1025\n\tline_subtract_mode_uvmodel_cellsize = 8\n\tline_subtract_mode_uvmodel_minorcycle0_dr = 3.0\n\tline_image = True\n\tline_image_channels = 9650,9800\n\tline_image_imsize = 1025\n\tline_image_cellsize = 8\n\tline_image_centre = \n\tline_image_robust = -2\n\tline_image_ratio_limit = 1.05\n\tline_image_c0 = 10.0\n\tline_image_c1 = 5.0\n\tline_image_nsigma = 20\n\tline_image_minorcycle0_dr = 3.0\n\tline_image_dr0 = 2.0\n\tline_image_restorbeam = \n\tline_image_convolbeam = 45,45,0.0\n"
     ]
    }
   ],
   "source": [
    "# Load the config file for the tutorial and look at it\n",
    "prepare = apercal.prepare('/home/adebahr/apercal/ipython-notebooks/tutorials/cfg/2.cfg')\n",
    "prepare.show(showall=True)"
   ]
  },
  {
   "cell_type": "code",
   "execution_count": 3,
   "metadata": {},
   "outputs": [
    {
     "name": "stderr",
     "output_type": "stream",
     "text": [
      "INFO:PREPARE:########## Preparing data for calibration ##########\n"
     ]
    },
    {
     "name": "stderr",
     "output_type": "stream",
     "text": [
      "INFO:PREPARE:### Flux calibrator dataset found. Copying beam 00 to working directory. ###\n"
     ]
    },
    {
     "name": "stderr",
     "output_type": "stream",
     "text": [
      "WARNING:PREPARE:### No polarisation calibrator dataset specified. The next steps might not work! ###\n"
     ]
    },
    {
     "name": "stderr",
     "output_type": "stream",
     "text": [
      "INFO:PREPARE:### 37 different beams for target field found. ###\n"
     ]
    },
    {
     "name": "stderr",
     "output_type": "stream",
     "text": [
      "INFO:PREPARE:### Copying all target datasets to their working directories. ###\n"
     ]
    },
    {
     "ename": "KeyboardInterrupt",
     "evalue": "",
     "traceback": [
      "\u001b[0;31m\u001b[0m",
      "\u001b[0;31mKeyboardInterrupt\u001b[0mTraceback (most recent call last)",
      "\u001b[0;32m<ipython-input-3-2fc27a2e3764>\u001b[0m in \u001b[0;36m<module>\u001b[0;34m()\u001b[0m\n\u001b[1;32m      4\u001b[0m \u001b[0;31m# The full processing of all beams would need around a day. The pipeline will still work with fewer copied beams.\u001b[0m\u001b[0;34m\u001b[0m\u001b[0;34m\u001b[0m\u001b[0m\n\u001b[1;32m      5\u001b[0m \u001b[0;31m# Just make sure that all datasets in your directory are correct and not corrupted (most likely you will have to remove the last copied dataset manually since it wasn't copied completely)\u001b[0m\u001b[0;34m\u001b[0m\u001b[0;34m\u001b[0m\u001b[0m\n\u001b[0;32m----> 6\u001b[0;31m \u001b[0mprepare\u001b[0m\u001b[0;34m.\u001b[0m\u001b[0mgo\u001b[0m\u001b[0;34m(\u001b[0m\u001b[0;34m)\u001b[0m\u001b[0;34m\u001b[0m\u001b[0m\n\u001b[0m",
      "\u001b[0;32m/home/adebahr/apercal/modules/prepare.pyc\u001b[0m in \u001b[0;36mgo\u001b[0;34m(self)\u001b[0m\n\u001b[1;32m    110\u001b[0m         '''\n\u001b[1;32m    111\u001b[0m         \u001b[0mself\u001b[0m\u001b[0;34m.\u001b[0m\u001b[0mlogger\u001b[0m\u001b[0;34m.\u001b[0m\u001b[0minfo\u001b[0m\u001b[0;34m(\u001b[0m\u001b[0;34m'########## Preparing data for calibration ##########'\u001b[0m\u001b[0;34m)\u001b[0m\u001b[0;34m\u001b[0m\u001b[0m\n\u001b[0;32m--> 112\u001b[0;31m         \u001b[0mself\u001b[0m\u001b[0;34m.\u001b[0m\u001b[0mcopyobs\u001b[0m\u001b[0;34m(\u001b[0m\u001b[0;34m)\u001b[0m\u001b[0;34m\u001b[0m\u001b[0m\n\u001b[0m\u001b[1;32m    113\u001b[0m         \u001b[0mself\u001b[0m\u001b[0;34m.\u001b[0m\u001b[0mlogger\u001b[0m\u001b[0;34m.\u001b[0m\u001b[0minfo\u001b[0m\u001b[0;34m(\u001b[0m\u001b[0;34m'########## Data prepared for calibration ##########'\u001b[0m\u001b[0;34m)\u001b[0m\u001b[0;34m\u001b[0m\u001b[0m\n\u001b[1;32m    114\u001b[0m \u001b[0;34m\u001b[0m\u001b[0m\n",
      "\u001b[0;32m/home/adebahr/apercal/modules/prepare.pyc\u001b[0m in \u001b[0;36mcopyobs\u001b[0;34m(self)\u001b[0m\n\u001b[1;32m     90\u001b[0m                     \u001b[0;32mfor\u001b[0m \u001b[0mb\u001b[0m\u001b[0;34m,\u001b[0m \u001b[0mds\u001b[0m \u001b[0;32min\u001b[0m \u001b[0menumerate\u001b[0m\u001b[0;34m(\u001b[0m\u001b[0mtargetsets\u001b[0m\u001b[0;34m)\u001b[0m\u001b[0;34m:\u001b[0m\u001b[0;34m\u001b[0m\u001b[0m\n\u001b[1;32m     91\u001b[0m                         \u001b[0mself\u001b[0m\u001b[0;34m.\u001b[0m\u001b[0mdirector\u001b[0m\u001b[0;34m(\u001b[0m\u001b[0;34m'mk'\u001b[0m\u001b[0;34m,\u001b[0m \u001b[0mself\u001b[0m\u001b[0;34m.\u001b[0m\u001b[0mbasedir\u001b[0m \u001b[0;34m+\u001b[0m \u001b[0mstr\u001b[0m\u001b[0;34m(\u001b[0m\u001b[0mb\u001b[0m\u001b[0;34m)\u001b[0m\u001b[0;34m.\u001b[0m\u001b[0mzfill\u001b[0m\u001b[0;34m(\u001b[0m\u001b[0;36m2\u001b[0m\u001b[0;34m)\u001b[0m \u001b[0;34m+\u001b[0m \u001b[0;34m'/'\u001b[0m \u001b[0;34m+\u001b[0m \u001b[0mself\u001b[0m\u001b[0;34m.\u001b[0m\u001b[0mrawsubdir\u001b[0m\u001b[0;34m,\u001b[0m \u001b[0mverbose\u001b[0m\u001b[0;34m=\u001b[0m\u001b[0mFalse\u001b[0m\u001b[0;34m)\u001b[0m\u001b[0;34m\u001b[0m\u001b[0m\n\u001b[0;32m---> 92\u001b[0;31m                         \u001b[0mself\u001b[0m\u001b[0;34m.\u001b[0m\u001b[0mdirector\u001b[0m\u001b[0;34m(\u001b[0m\u001b[0;34m'cp'\u001b[0m\u001b[0;34m,\u001b[0m \u001b[0mself\u001b[0m\u001b[0;34m.\u001b[0m\u001b[0mbasedir\u001b[0m \u001b[0;34m+\u001b[0m \u001b[0mstr\u001b[0m\u001b[0;34m(\u001b[0m\u001b[0mb\u001b[0m\u001b[0;34m)\u001b[0m\u001b[0;34m.\u001b[0m\u001b[0mzfill\u001b[0m\u001b[0;34m(\u001b[0m\u001b[0;36m2\u001b[0m\u001b[0;34m)\u001b[0m \u001b[0;34m+\u001b[0m \u001b[0;34m'/'\u001b[0m \u001b[0;34m+\u001b[0m \u001b[0mself\u001b[0m\u001b[0;34m.\u001b[0m\u001b[0mrawsubdir\u001b[0m \u001b[0;34m+\u001b[0m \u001b[0;34m'/'\u001b[0m \u001b[0;34m+\u001b[0m \u001b[0mself\u001b[0m\u001b[0;34m.\u001b[0m\u001b[0mtarget\u001b[0m\u001b[0;34m,\u001b[0m \u001b[0mfile\u001b[0m\u001b[0;34m=\u001b[0m\u001b[0mds\u001b[0m\u001b[0;34m,\u001b[0m \u001b[0mverbose\u001b[0m\u001b[0;34m=\u001b[0m\u001b[0mFalse\u001b[0m\u001b[0;34m)\u001b[0m\u001b[0;34m\u001b[0m\u001b[0m\n\u001b[0m\u001b[1;32m     93\u001b[0m                 \u001b[0;32melif\u001b[0m \u001b[0mself\u001b[0m\u001b[0;34m.\u001b[0m\u001b[0mprepare_obsmode\u001b[0m \u001b[0;34m==\u001b[0m \u001b[0;34m'multi_element_90'\u001b[0m\u001b[0;34m:\u001b[0m\u001b[0;34m\u001b[0m\u001b[0m\n\u001b[1;32m     94\u001b[0m                     \u001b[0mself\u001b[0m\u001b[0;34m.\u001b[0m\u001b[0mlogger\u001b[0m\u001b[0;34m.\u001b[0m\u001b[0minfo\u001b[0m\u001b[0;34m(\u001b[0m\u001b[0;34m'### Copying all target datasets to their working directories. ###'\u001b[0m\u001b[0;34m)\u001b[0m\u001b[0;34m\u001b[0m\u001b[0m\n",
      "\u001b[0;32m/home/adebahr/apercal/modules/prepare.pyc\u001b[0m in \u001b[0;36mdirector\u001b[0;34m(self, option, dest, file, verbose)\u001b[0m\n\u001b[1;32m    185\u001b[0m             \u001b[0mlib\u001b[0m\u001b[0;34m.\u001b[0m\u001b[0mbasher\u001b[0m\u001b[0;34m(\u001b[0m\u001b[0;34m\"mv \"\u001b[0m \u001b[0;34m+\u001b[0m \u001b[0mstr\u001b[0m\u001b[0;34m(\u001b[0m\u001b[0mfile\u001b[0m\u001b[0;34m)\u001b[0m \u001b[0;34m+\u001b[0m \u001b[0;34m\" \"\u001b[0m \u001b[0;34m+\u001b[0m \u001b[0mstr\u001b[0m\u001b[0;34m(\u001b[0m\u001b[0mdest\u001b[0m\u001b[0;34m)\u001b[0m\u001b[0;34m)\u001b[0m\u001b[0;34m\u001b[0m\u001b[0m\n\u001b[1;32m    186\u001b[0m         \u001b[0;32melif\u001b[0m \u001b[0moption\u001b[0m \u001b[0;34m==\u001b[0m \u001b[0;34m'cp'\u001b[0m\u001b[0;34m:\u001b[0m  \u001b[0;31m# Copy\u001b[0m\u001b[0;34m\u001b[0m\u001b[0m\n\u001b[0;32m--> 187\u001b[0;31m             \u001b[0mlib\u001b[0m\u001b[0;34m.\u001b[0m\u001b[0mbasher\u001b[0m\u001b[0;34m(\u001b[0m\u001b[0;34m\"cp -r \"\u001b[0m \u001b[0;34m+\u001b[0m \u001b[0mstr\u001b[0m\u001b[0;34m(\u001b[0m\u001b[0mfile\u001b[0m\u001b[0;34m)\u001b[0m \u001b[0;34m+\u001b[0m \u001b[0;34m\" \"\u001b[0m \u001b[0;34m+\u001b[0m \u001b[0mstr\u001b[0m\u001b[0;34m(\u001b[0m\u001b[0mdest\u001b[0m\u001b[0;34m)\u001b[0m\u001b[0;34m)\u001b[0m\u001b[0;34m\u001b[0m\u001b[0m\n\u001b[0m\u001b[1;32m    188\u001b[0m         \u001b[0;32melif\u001b[0m \u001b[0moption\u001b[0m \u001b[0;34m==\u001b[0m \u001b[0;34m'rm'\u001b[0m\u001b[0;34m:\u001b[0m  \u001b[0;31m# Remove\u001b[0m\u001b[0;34m\u001b[0m\u001b[0m\n\u001b[1;32m    189\u001b[0m             \u001b[0mlib\u001b[0m\u001b[0;34m.\u001b[0m\u001b[0mbasher\u001b[0m\u001b[0;34m(\u001b[0m\u001b[0;34m\"rm -r \"\u001b[0m \u001b[0;34m+\u001b[0m \u001b[0mstr\u001b[0m\u001b[0;34m(\u001b[0m\u001b[0mdest\u001b[0m\u001b[0;34m)\u001b[0m\u001b[0;34m)\u001b[0m\u001b[0;34m\u001b[0m\u001b[0m\n",
      "\u001b[0;32m/home/adebahr/apercal/libs/lib.pyc\u001b[0m in \u001b[0;36mbasher\u001b[0;34m(cmd, showasinfo)\u001b[0m\n\u001b[1;32m    216\u001b[0m     proc = subprocess.Popen(cmd, stdout=subprocess.PIPE,\n\u001b[1;32m    217\u001b[0m             stderr = subprocess.PIPE, shell=True)\n\u001b[0;32m--> 218\u001b[0;31m     \u001b[0mout\u001b[0m\u001b[0;34m,\u001b[0m \u001b[0merr\u001b[0m \u001b[0;34m=\u001b[0m \u001b[0mproc\u001b[0m\u001b[0;34m.\u001b[0m\u001b[0mcommunicate\u001b[0m\u001b[0;34m(\u001b[0m\u001b[0;34m)\u001b[0m\u001b[0;34m\u001b[0m\u001b[0m\n\u001b[0m\u001b[1;32m    219\u001b[0m \u001b[0;34m\u001b[0m\u001b[0m\n\u001b[1;32m    220\u001b[0m     \u001b[0;32mif\u001b[0m \u001b[0mlen\u001b[0m\u001b[0;34m(\u001b[0m\u001b[0mout\u001b[0m\u001b[0;34m)\u001b[0m\u001b[0;34m>\u001b[0m\u001b[0;36m0\u001b[0m\u001b[0;34m:\u001b[0m\u001b[0;34m\u001b[0m\u001b[0m\n",
      "\u001b[0;32m/usr/lib/python2.7/subprocess.pyc\u001b[0m in \u001b[0;36mcommunicate\u001b[0;34m(self, input)\u001b[0m\n\u001b[1;32m    798\u001b[0m             \u001b[0;32mreturn\u001b[0m \u001b[0;34m(\u001b[0m\u001b[0mstdout\u001b[0m\u001b[0;34m,\u001b[0m \u001b[0mstderr\u001b[0m\u001b[0;34m)\u001b[0m\u001b[0;34m\u001b[0m\u001b[0m\n\u001b[1;32m    799\u001b[0m \u001b[0;34m\u001b[0m\u001b[0m\n\u001b[0;32m--> 800\u001b[0;31m         \u001b[0;32mreturn\u001b[0m \u001b[0mself\u001b[0m\u001b[0;34m.\u001b[0m\u001b[0m_communicate\u001b[0m\u001b[0;34m(\u001b[0m\u001b[0minput\u001b[0m\u001b[0;34m)\u001b[0m\u001b[0;34m\u001b[0m\u001b[0m\n\u001b[0m\u001b[1;32m    801\u001b[0m \u001b[0;34m\u001b[0m\u001b[0m\n\u001b[1;32m    802\u001b[0m \u001b[0;34m\u001b[0m\u001b[0m\n",
      "\u001b[0;32m/usr/lib/python2.7/subprocess.pyc\u001b[0m in \u001b[0;36m_communicate\u001b[0;34m(self, input)\u001b[0m\n\u001b[1;32m   1415\u001b[0m \u001b[0;34m\u001b[0m\u001b[0m\n\u001b[1;32m   1416\u001b[0m             \u001b[0;32mif\u001b[0m \u001b[0m_has_poll\u001b[0m\u001b[0;34m:\u001b[0m\u001b[0;34m\u001b[0m\u001b[0m\n\u001b[0;32m-> 1417\u001b[0;31m                 \u001b[0mstdout\u001b[0m\u001b[0;34m,\u001b[0m \u001b[0mstderr\u001b[0m \u001b[0;34m=\u001b[0m \u001b[0mself\u001b[0m\u001b[0;34m.\u001b[0m\u001b[0m_communicate_with_poll\u001b[0m\u001b[0;34m(\u001b[0m\u001b[0minput\u001b[0m\u001b[0;34m)\u001b[0m\u001b[0;34m\u001b[0m\u001b[0m\n\u001b[0m\u001b[1;32m   1418\u001b[0m             \u001b[0;32melse\u001b[0m\u001b[0;34m:\u001b[0m\u001b[0;34m\u001b[0m\u001b[0m\n\u001b[1;32m   1419\u001b[0m                 \u001b[0mstdout\u001b[0m\u001b[0;34m,\u001b[0m \u001b[0mstderr\u001b[0m \u001b[0;34m=\u001b[0m \u001b[0mself\u001b[0m\u001b[0;34m.\u001b[0m\u001b[0m_communicate_with_select\u001b[0m\u001b[0;34m(\u001b[0m\u001b[0minput\u001b[0m\u001b[0;34m)\u001b[0m\u001b[0;34m\u001b[0m\u001b[0m\n",
      "\u001b[0;32m/usr/lib/python2.7/subprocess.pyc\u001b[0m in \u001b[0;36m_communicate_with_poll\u001b[0;34m(self, input)\u001b[0m\n\u001b[1;32m   1469\u001b[0m             \u001b[0;32mwhile\u001b[0m \u001b[0mfd2file\u001b[0m\u001b[0;34m:\u001b[0m\u001b[0;34m\u001b[0m\u001b[0m\n\u001b[1;32m   1470\u001b[0m                 \u001b[0;32mtry\u001b[0m\u001b[0;34m:\u001b[0m\u001b[0;34m\u001b[0m\u001b[0m\n\u001b[0;32m-> 1471\u001b[0;31m                     \u001b[0mready\u001b[0m \u001b[0;34m=\u001b[0m \u001b[0mpoller\u001b[0m\u001b[0;34m.\u001b[0m\u001b[0mpoll\u001b[0m\u001b[0;34m(\u001b[0m\u001b[0;34m)\u001b[0m\u001b[0;34m\u001b[0m\u001b[0m\n\u001b[0m\u001b[1;32m   1472\u001b[0m                 \u001b[0;32mexcept\u001b[0m \u001b[0mselect\u001b[0m\u001b[0;34m.\u001b[0m\u001b[0merror\u001b[0m\u001b[0;34m,\u001b[0m \u001b[0me\u001b[0m\u001b[0;34m:\u001b[0m\u001b[0;34m\u001b[0m\u001b[0m\n\u001b[1;32m   1473\u001b[0m                     \u001b[0;32mif\u001b[0m \u001b[0me\u001b[0m\u001b[0;34m.\u001b[0m\u001b[0margs\u001b[0m\u001b[0;34m[\u001b[0m\u001b[0;36m0\u001b[0m\u001b[0;34m]\u001b[0m \u001b[0;34m==\u001b[0m \u001b[0merrno\u001b[0m\u001b[0;34m.\u001b[0m\u001b[0mEINTR\u001b[0m\u001b[0;34m:\u001b[0m\u001b[0;34m\u001b[0m\u001b[0m\n",
      "\u001b[0;31mKeyboardInterrupt\u001b[0m: "
     ],
     "output_type": "error"
    }
   ],
   "source": [
    "# We are trying to reduce the full FOV of Ger's twinkling quasar (J1819+3845).\n",
    "# Unfortunately the RA-coordinates for the off-centre beams are still mirrored and the calibration does not work as intended. Anyhow, this notebook can be used as a template as soon as this is fixed.\n",
    "# We have to set prepare_obsmode = multi_element since these observations were carried out with the full bandwidth in multi-element mode\n",
    "# The prepare step will copy all 37 beams. You might want to stop the step after the third or fourth copied target dataset.\n",
    "# The full processing of all beams would need around a day. The pipeline will still work with fewer copied beams.\n",
    "# Just make sure that all datasets in your directory are correct and not corrupted (most likely you will have to remove the last copied dataset manually since it wasn't copied completely)\n",
    "prepare.go()"
   ]
  },
  {
   "cell_type": "code",
   "execution_count": 2,
   "metadata": {},
   "outputs": [
    {
     "name": "stdout",
     "output_type": "stream",
     "text": [
      "PREFLAG\n\tpreflag_manualflag = True\n\tpreflag_manualflag_fluxcal = True\n\tpreflag_manualflag_polcal = False\n\tpreflag_manualflag_target = True\n\tpreflag_manualflag_auto = True\n\tpreflag_manualflag_antenna = \n\tpreflag_manualflag_corr = \n\tpreflag_manualflag_shadow = True\n\tpreflag_manualflag_baseline = \n\tpreflag_manualflag_channel = 0;64;128;192;256;320;384;448;512;576;640;704;768;832;896;960;1024;1088;1152;1216;1280;1344;1408;1472;1536;1600;1664;1728;1792;1856;1920;1984;2048;2112;2176;2240;2304;2368;2432;2496;2560;2624;2688;2752;2816;2880;2944;3008;3072;3136;3200;3264;3328;3392;3456;3520;3584;3648;3712;3776;3840;3904;3968;4032;4096;4160;4224;4288;4352;4416;4480;4544;4608;4672;4736;4800;4864;4928;4992;5056;5120;5184;5248;5312;5376;5440;5504;5568;5632;5696;5760;5824;5888;5952;6016;6080;6144;6208;6272;6336;6400;6464;6528;6592;6656;6720;6784;6848;6912;6976;7040;7104;7168;7232;7296;7360;7424;7488;7552;7616;7680;7744;7808;7872;7936;8000;8064;8128;8192;8256;8320;8384;8448;8512;8576;8640;8704;8768;8832;8896;8960;9024;9088;9152;9216;9280;9344;9408;9472;9536;9600;9664;9728;9792;9856;9920;9984;10048;10112;10176;10240;10304;10368;10432;10496;10560;10624;10688;10752;10816;10880;10944;1;65;129;193;257;321;385;449;513;577;641;705;769;833;897;961;1025;1089;1153;1217;1281;1345;1409;1473;1537;1601;1665;1729;1793;1857;1921;1985;2049;2113;2177;2241;2305;2369;2433;2497;2561;2625;2689;2753;2817;2881;2945;3009;3073;3137;3201;3265;3329;3393;3457;3521;3585;3649;3713;3777;3841;3905;3969;4033;4097;4161;4225;4289;4353;4417;4481;4545;4609;4673;4737;4801;4865;4929;4993;5057;5121;5185;5249;5313;5377;5441;5505;5569;5633;5697;5761;5825;5889;5953;6017;6081;6145;6209;6273;6337;6401;6465;6529;6593;6657;6721;6785;6849;6913;6977;7041;7105;7169;7233;7297;7361;7425;7489;7553;7617;7681;7745;7809;7873;7937;8001;8065;8129;8193;8257;8321;8385;8449;8513;8577;8641;8705;8769;8833;8897;8961;9025;9089;9153;9217;9281;9345;9409;9473;9537;9601;9665;9729;9793;9857;9921;9985;10049;10113;10177;10241;10305;10369;10433;10497;10561;10625;10689;10753;10817;10881;10945;63;127;191;255;319;383;447;511;575;639;703;767;831;895;959;1023;1087;1151;1215;1279;1343;1407;1471;1535;1599;1663;1727;1791;1855;1919;1983;2047;2111;2175;2239;2303;2367;2431;2495;2559;2623;2687;2751;2815;2879;2943;3007;3071;3135;3199;3263;3327;3391;3455;3519;3583;3647;3711;3775;3839;3903;3967;4031;4095;4159;4223;4287;4351;4415;4479;4543;4607;4671;4735;4799;4863;4927;4991;5055;5119;5183;5247;5311;5375;5439;5503;5567;5631;5695;5759;5823;5887;5951;6015;6079;6143;6207;6271;6335;6399;6463;6527;6591;6655;6719;6783;6847;6911;6975;7039;7103;7167;7231;7295;7359;7423;7487;7551;7615;7679;7743;7807;7871;7935;7999;8063;8127;8191;8255;8319;8383;8447;8511;8575;8639;8703;8767;8831;8895;8959;9023;9087;9151;9215;9279;9343;9407;9471;9535;9599;9663;9727;9791;9855;9919;9983;10047;10111;10175;10239;10303;10367;10431;10495;10559;10623;10687;10751;10815;10879;10943;11007;16;80;144;208;272;336;400;464;528;592;656;720;784;848;912;976;1040;1104;1168;1232;1296;1360;1424;1488;1552;1616;1680;1744;1808;1872;1936;2000;2064;2128;2192;2256;2320;2384;2448;2512;2576;2640;2704;2768;2832;2896;2960;3024;3088;3152;3216;3280;3344;3408;3472;3536;3600;3664;3728;3792;3856;3920;3984;4048;4112;4176;4240;4304;4368;4432;4496;4560;4624;4688;4752;4816;4880;4944;5008;5072;5136;5200;5264;5328;5392;5456;5520;5584;5648;5712;5776;5840;5904;5968;6032;6096;6160;6224;6288;6352;6416;6480;6544;6608;6672;6736;6800;6864;6928;6992;7056;7120;7184;7248;7312;7376;7440;7504;7568;7632;7696;7760;7824;7888;7952;8016;8080;8144;8208;8272;8336;8400;8464;8528;8592;8656;8720;8784;8848;8912;8976;9040;9104;9168;9232;9296;9360;9424;9488;9552;9616;9680;9744;9808;9872;9936;10000;10064;10128;10192;10256;10320;10384;10448;10512;10576;10640;10704;10768;10832;10896;10960;48;112;176;240;304;368;432;496;560;624;688;752;816;880;944;1008;1072;1136;1200;1264;1328;1392;1456;1520;1584;1648;1712;1776;1840;1904;1968;2032;2096;2160;2224;2288;2352;2416;2480;2544;2608;2672;2736;2800;2864;2928;2992;3056;3120;3184;3248;3312;3376;3440;3504;3568;3632;3696;3760;3824;3888;3952;4016;4080;4144;4208;4272;4336;4400;4464;4528;4592;4656;4720;4784;4848;4912;4976;5040;5104;5168;5232;5296;5360;5424;5488;5552;5616;5680;5744;5808;5872;5936;6000;6064;6128;6192;6256;6320;6384;6448;6512;6576;6640;6704;6768;6832;6896;6960;7024;7088;7152;7216;7280;7344;7408;7472;7536;7600;7664;7728;7792;7856;7920;7984;8048;8112;8176;8240;8304;8368;8432;8496;8560;8624;8688;8752;8816;8880;8944;9008;9072;9136;9200;9264;9328;9392;9456;9520;9584;9648;9712;9776;9840;9904;9968;10032;10096;10160;10224;10288;10352;10416;10480;10544;10608;10672;10736;10800;10864;10928;10992\n\tpreflag_manualflag_time = 17:40:00~20:00:00\n\tpreflag_aoflagger = True\n\tpreflag_aoflagger_bandpass = True\n\tpreflag_aoflagger_fluxcal = True\n\tpreflag_aoflagger_polcal = False\n\tpreflag_aoflagger_target = True\n\tpreflag_aoflagger_fluxcalstrat = fluxcal.rfis\n\tpreflag_aoflagger_polcalstrat = \n\tpreflag_aoflagger_targetstrat = target.rfis\n"
     ]
    }
   ],
   "source": [
    "# As before we have to execute the individual preflag substeps manually\n",
    "preflag = apercal.preflag('/home/adebahr/apercal/ipython-notebooks/tutorials/cfg/2.cfg')\n",
    "\n",
    "# Add the list of channels to be flagged as in the last tutorial\n",
    "# Total number of channels\n",
    "nchannel = 11008\n",
    "\n",
    "# Make lists of the channels which are affected\n",
    "a = range(0, nchannel, 64) # the subband edges\n",
    "b = range(1, nchannel, 64)\n",
    "c = range(63, nchannel, 64)\n",
    "d = range(16, nchannel, 64) # the two ghosts\n",
    "e = range(48, nchannel, 64)\n",
    "# Combine the channel list into one list and convert to a string\n",
    "l = a + b + c + d + e\n",
    "preflag.preflag_manualflag_channel = ';'.join(str(ch) for ch in l)\n",
    "\n",
    "preflag.show()"
   ]
  },
  {
   "cell_type": "code",
   "execution_count": 3,
   "metadata": {},
   "outputs": [],
   "source": [
    "# We want to flag auto-correlations and shadowed antennas.\n",
    "# The preflag step automatically recognises the other beams and flags them as well using the same pattern.\n",
    "preflag.manualflag()"
   ]
  },
  {
   "cell_type": "code",
   "execution_count": 4,
   "metadata": {},
   "outputs": [
    {
     "ename": "TypeError",
     "evalue": "a float is required",
     "traceback": [
      "\u001b[0;31m\u001b[0m",
      "\u001b[0;31mTypeError\u001b[0mTraceback (most recent call last)",
      "\u001b[0;32m<ipython-input-4-6fa6a7e9ef73>\u001b[0m in \u001b[0;36m<module>\u001b[0;34m()\u001b[0m\n\u001b[1;32m      1\u001b[0m \u001b[0;31m# First derive the bandpass for the flagging. This is automatically applied to all target element beams.\u001b[0m\u001b[0;34m\u001b[0m\u001b[0;34m\u001b[0m\u001b[0m\n\u001b[0;32m----> 2\u001b[0;31m \u001b[0mpreflag\u001b[0m\u001b[0;34m.\u001b[0m\u001b[0maoflagger_bandpass\u001b[0m\u001b[0;34m(\u001b[0m\u001b[0;34m)\u001b[0m\u001b[0;34m\u001b[0m\u001b[0m\n\u001b[0m",
      "\u001b[0;32m/home/adebahr/apercal/modules/preflag.pyc\u001b[0m in \u001b[0;36maoflagger_bandpass\u001b[0;34m(self)\u001b[0m\n\u001b[1;32m    392\u001b[0m             \u001b[0;32mif\u001b[0m \u001b[0mself\u001b[0m\u001b[0;34m.\u001b[0m\u001b[0mpreflag_aoflagger_target\u001b[0m\u001b[0;34m:\u001b[0m\u001b[0;34m\u001b[0m\u001b[0m\n\u001b[1;32m    393\u001b[0m                 \u001b[0mmslist\u001b[0m \u001b[0;34m=\u001b[0m \u001b[0mglob\u001b[0m\u001b[0;34m.\u001b[0m\u001b[0mglob\u001b[0m\u001b[0;34m(\u001b[0m\u001b[0mself\u001b[0m\u001b[0;34m.\u001b[0m\u001b[0mbasedir\u001b[0m \u001b[0;34m+\u001b[0m \u001b[0;34m'*/'\u001b[0m \u001b[0;34m+\u001b[0m \u001b[0mself\u001b[0m\u001b[0;34m.\u001b[0m\u001b[0mrawsubdir\u001b[0m \u001b[0;34m+\u001b[0m \u001b[0;34m'/'\u001b[0m \u001b[0;34m+\u001b[0m \u001b[0mself\u001b[0m\u001b[0;34m.\u001b[0m\u001b[0mtarget\u001b[0m\u001b[0;34m)\u001b[0m\u001b[0;34m\u001b[0m\u001b[0m\n\u001b[0;32m--> 394\u001b[0;31m                 \u001b[0;32mfor\u001b[0m \u001b[0mdataset\u001b[0m \u001b[0;32min\u001b[0m \u001b[0mmslist\u001b[0m\u001b[0;34m:\u001b[0m\u001b[0;34m\u001b[0m\u001b[0m\n\u001b[0m\u001b[1;32m    395\u001b[0m                     \u001b[0;31m# if os.path.isdir(ms):\u001b[0m\u001b[0;34m\u001b[0m\u001b[0;34m\u001b[0m\u001b[0m\n\u001b[1;32m    396\u001b[0m                     \u001b[0mcb\u001b[0m \u001b[0;34m=\u001b[0m \u001b[0mcasac\u001b[0m\u001b[0;34m.\u001b[0m\u001b[0mcasac\u001b[0m\u001b[0;34m.\u001b[0m\u001b[0mcalibrater\u001b[0m\u001b[0;34m(\u001b[0m\u001b[0;34m)\u001b[0m\u001b[0;34m\u001b[0m\u001b[0m\n",
      "\u001b[0;31mTypeError\u001b[0m: a float is required"
     ],
     "output_type": "error"
    }
   ],
   "source": [
    "# First derive the bandpass for the flagging. This is automatically applied to all target element beams.\n",
    "preflag.aoflagger_bandpass()"
   ]
  },
  {
   "cell_type": "code",
   "execution_count": 5,
   "metadata": {},
   "outputs": [],
   "source": [
    "# Now start aoflagger to flag all the datasets automatically.\n",
    "preflag.aoflagger_flag()"
   ]
  },
  {
   "cell_type": "code",
   "execution_count": 6,
   "metadata": {},
   "outputs": [
    {
     "name": "stderr",
     "output_type": "stream",
     "text": [
      "INFO:CONVERT:### Configuration file /home/adebahr/apercal/ipython-notebooks/tutorials/cfg/2.cfg successfully read! ###\n"
     ]
    },
    {
     "name": "stderr",
     "output_type": "stream",
     "text": [
      "INFO:CONVERT:########## FILE CONVERSION started ##########\n"
     ]
    },
    {
     "name": "stderr",
     "output_type": "stream",
     "text": [
      "INFO:CONVERT:### Starting conversion from MS to UVFITS format ###\n"
     ]
    },
    {
     "name": "stdout",
     "output_type": "stream",
     "text": [
      "CONVERT\n\tconvert_ms2uvfits = True\n\tconvert_ms2uvfits_tool_casa_autocorr = False\n\tconvert_uvfits2mir = True\n\tconvert_fluxcal = True\n\tconvert_polcal = False\n\tconvert_target = True\n"
     ]
    },
    {
     "name": "stderr",
     "output_type": "stream",
     "text": [
      "INFO:CONVERT:### Converted MS file 3C286.MS to UVFITS format! ###\n"
     ]
    },
    {
     "name": "stderr",
     "output_type": "stream",
     "text": [
      "INFO:CONVERT:### Converted MS file /data/adebahr/apertif/tutorials/T2/00/raw/J1819+3845.MS to UVFITS format! ###\n"
     ]
    },
    {
     "name": "stderr",
     "output_type": "stream",
     "text": [
      "INFO:CONVERT:# Creating directory /data/adebahr/apertif/tutorials/T2/01/crosscal #\n"
     ]
    },
    {
     "name": "stderr",
     "output_type": "stream",
     "text": [
      "INFO:CONVERT:### Converted MS file /data/adebahr/apertif/tutorials/T2/01/raw/J1819+3845.MS to UVFITS format! ###\n"
     ]
    },
    {
     "name": "stderr",
     "output_type": "stream",
     "text": [
      "INFO:CONVERT:# Creating directory /data/adebahr/apertif/tutorials/T2/02/crosscal #\n"
     ]
    },
    {
     "name": "stderr",
     "output_type": "stream",
     "text": [
      "INFO:CONVERT:### Converted MS file /data/adebahr/apertif/tutorials/T2/02/raw/J1819+3845.MS to UVFITS format! ###\n"
     ]
    },
    {
     "name": "stderr",
     "output_type": "stream",
     "text": [
      "INFO:CONVERT:### Conversion from MS to UVFITS format done! ###\n"
     ]
    },
    {
     "name": "stderr",
     "output_type": "stream",
     "text": [
      "INFO:CONVERT:### Starting conversion from UVFITS to MIRIAD format ###\n"
     ]
    },
    {
     "name": "stderr",
     "output_type": "stream",
     "text": [
      "INFO:CONVERT:### Converted UVFITS file 3C286.MS to MIRIAD format! ###\n"
     ]
    },
    {
     "name": "stderr",
     "output_type": "stream",
     "text": [
      "INFO:CONVERT:### Converted UVFITS file /data/adebahr/apertif/tutorials/T2/00/crosscal/J1819+3845.UVFITS to MIRIAD format! ###\n"
     ]
    },
    {
     "name": "stderr",
     "output_type": "stream",
     "text": [
      "INFO:CONVERT:### Converted UVFITS file /data/adebahr/apertif/tutorials/T2/01/crosscal/J1819+3845.UVFITS to MIRIAD format! ###\n"
     ]
    },
    {
     "name": "stderr",
     "output_type": "stream",
     "text": [
      "INFO:CONVERT:### Converted UVFITS file /data/adebahr/apertif/tutorials/T2/02/crosscal/J1819+3845.UVFITS to MIRIAD format! ###\n"
     ]
    },
    {
     "name": "stderr",
     "output_type": "stream",
     "text": [
      "INFO:CONVERT:### Conversion from UVFITS to MIRIAD format done! ###\n"
     ]
    },
    {
     "name": "stderr",
     "output_type": "stream",
     "text": [
      "INFO:CONVERT:########## FILE CONVERSION done ##########\n"
     ]
    }
   ],
   "source": [
    "# Now convert the data to MIRIAD format. Also the CONVERT step takes care of all the different element beams automatically.\n",
    "convert = apercal.convert('/home/adebahr/apercal/ipython-notebooks/tutorials/cfg/2.cfg')\n",
    "convert.show()\n",
    "convert.go()"
   ]
  },
  {
   "cell_type": "code",
   "execution_count": 7,
   "metadata": {},
   "outputs": [
    {
     "name": "stderr",
     "output_type": "stream",
     "text": [
      "INFO:CROSSCAL:### Configuration file /home/adebahr/apercal/ipython-notebooks/tutorials/cfg/2.cfg successfully read! ###\n"
     ]
    },
    {
     "name": "stderr",
     "output_type": "stream",
     "text": [
      "INFO:CROSSCAL:########## Starting CROSS CALIBRATION ##########\n"
     ]
    },
    {
     "name": "stderr",
     "output_type": "stream",
     "text": [
      "INFO:CROSSCAL:### Bandpass calibration on the flux calibrator data started ###\n"
     ]
    },
    {
     "name": "stdout",
     "output_type": "stream",
     "text": [
      "CROSSCAL\n\tcrosscal_bandpass = True\n\tcrosscal_delay = True\n\tcrosscal_polarisation = False\n\tcrosscal_transfer_to_target = True\n"
     ]
    },
    {
     "name": "stderr",
     "output_type": "stream",
     "text": [
      "INFO:CROSSCAL:### Bandpass calibration on the flux calibrator data done ###\n"
     ]
    },
    {
     "name": "stderr",
     "output_type": "stream",
     "text": [
      "INFO:CROSSCAL:### No polarisation calibration done! ###\n"
     ]
    },
    {
     "name": "stderr",
     "output_type": "stream",
     "text": [
      "INFO:CROSSCAL:### Copying calibrator solutions to target dataset ###\n"
     ]
    },
    {
     "name": "stderr",
     "output_type": "stream",
     "text": [
      "INFO:CROSSCAL:# Copying calibrator solutions (bandpass, gains) from flux calibrator #\n"
     ]
    },
    {
     "name": "stderr",
     "output_type": "stream",
     "text": [
      "INFO:CROSSCAL:# Polarisation calibration solutions (leakage, angle) not found #\n"
     ]
    },
    {
     "name": "stderr",
     "output_type": "stream",
     "text": [
      "INFO:CROSSCAL:# Copying calibrator solutions to 3 beams! #\n"
     ]
    },
    {
     "name": "stderr",
     "output_type": "stream",
     "text": [
      "INFO:CROSSCAL:# Calibrator solutions copied to beam 00! #\n"
     ]
    },
    {
     "name": "stderr",
     "output_type": "stream",
     "text": [
      "INFO:CROSSCAL:# Calibrator solutions copied to beam 01! #\n"
     ]
    },
    {
     "name": "stderr",
     "output_type": "stream",
     "text": [
      "INFO:CROSSCAL:# Calibrator solutions copied to beam 02! #\n"
     ]
    },
    {
     "name": "stderr",
     "output_type": "stream",
     "text": [
      "INFO:CROSSCAL:### All solutions copied to target data set(s) ###\n"
     ]
    },
    {
     "name": "stderr",
     "output_type": "stream",
     "text": [
      "INFO:CROSSCAL:########## CROSS CALIBRATION done ##########\n"
     ]
    }
   ],
   "source": [
    "# We will do the cross calibration now. \n",
    "# The pipeline automatically copies the calibrator solutions over to all element beams (crosscal_transfer_to_target = True).\n",
    "# Even though the cable delay is in place, we still need to solve for delays due to the 5ns sampling (crosscal_delay = True).\n",
    "ccal = apercal.ccal('/home/adebahr/apercal/ipython-notebooks/tutorials/cfg/2.cfg')\n",
    "ccal.show()\n",
    "ccal.go()"
   ]
  },
  {
   "cell_type": "code",
   "execution_count": 2,
   "metadata": {},
   "outputs": [
    {
     "name": "stderr",
     "output_type": "stream",
     "text": [
      "INFO:SELFCAL:### Configuration file /home/adebahr/apercal/ipython-notebooks/tutorials/cfg/2.cfg successfully read! ###\n"
     ]
    },
    {
     "name": "stdout",
     "output_type": "stream",
     "text": [
      "SELFCAL\n\tselfcal_image_imsize = 1025\n\tselfcal_image_cellsize = 6\n\tselfcal_splitdata = True\n\tselfcal_splitdata_chunkbandwidth = 0.02\n\tselfcal_splitdata_channelbandwidth = 0.001\n\tselfcal_flagantenna = \n\tselfcal_flagline = True\n\tselfcal_flagline_sigma = 0.5\n\tselfcal_parametric = True\n\tselfcal_parametric_skymodel_radius = 0.5\n\tselfcal_parametric_skymodel_cutoff = 0.8\n\tselfcal_parametric_skymodel_distance = 30\n\tselfcal_parametric_solint = 5\n\tselfcal_parametric_uvmin = 0.5\n\tselfcal_parametric_uvmax = 1000\n\tselfcal_parametric_amp = False\n\tselfcal_standard_majorcycle = 3\n\tselfcal_standard_majorcycle_function = square\n\tselfcal_standard_minorcycle = 5\n\tselfcal_standard_minorcycle_function = square\n\tselfcal_standard_c0 = 10.0\n\tselfcal_standard_c1 = 5.0\n\tselfcal_standard_minorcycle0_dr = 3.0\n\tselfcal_standard_drinit = 25\n\tselfcal_standard_dr0 = 2.0\n\tselfcal_standard_nsigma = 50\n\tselfcal_standard_uvmin = [0.0, 0.0, 0.0]\n\tselfcal_standard_uvmax = [3000, 3000, 3000]\n\tselfcal_standard_solint = [5, 3, 0.5]\n\tselfcal_standard_amp = False\n\tselfcal_standard_amp_auto_limit = 1.0\n\tselfcal_standard_nfbin = 1\n"
     ]
    }
   ],
   "source": [
    "# The paramaters for the SELFCAL module are simplified.  I only left the standard reduction in and removed the manual and adaptive ones.\n",
    "scal = apercal.scal('/home/adebahr/apercal/ipython-notebooks/tutorials/cfg/2.cfg')\n",
    "scal.show()"
   ]
  },
  {
   "cell_type": "code",
   "execution_count": 3,
   "metadata": {},
   "outputs": [
    {
     "name": "stderr",
     "output_type": "stream",
     "text": [
      "INFO:SELFCAL:# Moved to directory /data/adebahr/apertif/tutorials/T2/ #\n"
     ]
    },
    {
     "name": "stdout",
     "output_type": "stream",
     "text": [
      "['00', '01', '05', '17']\n"
     ]
    }
   ],
   "source": [
    "# First you might want to reduce all the beams with the same paramaters. You can easily make a list of the available beams for your dataset:\n",
    "import glob\n",
    "from subs import managefiles\n",
    "# Move to the base directory of the data reduction\n",
    "managefiles.director(scal,'ch', scal.basedir)\n",
    "# Get a list of the available beams\n",
    "beams = glob.glob('*')\n",
    "\n",
    "print(beams)"
   ]
  },
  {
   "cell_type": "code",
   "execution_count": 4,
   "metadata": {},
   "outputs": [
    {
     "name": "stderr",
     "output_type": "stream",
     "text": [
      "INFO:SELFCAL:########## Starting SELF CALIBRATION ##########\n"
     ]
    },
    {
     "name": "stderr",
     "output_type": "stream",
     "text": [
      "INFO:SELFCAL:# Moved to directory /data/adebahr/apertif/tutorials/T2/00/selfcal #\n"
     ]
    },
    {
     "name": "stderr",
     "output_type": "stream",
     "text": [
      "INFO:SELFCAL:### Splitting of target data into individual frequency chunks started ###\n"
     ]
    },
    {
     "name": "stderr",
     "output_type": "stream",
     "text": [
      "INFO:SELFCAL:# Applying calibrator solutions to target data before averaging #\n"
     ]
    },
    {
     "name": "stderr",
     "output_type": "stream",
     "text": [
      "INFO:SELFCAL:# Calibrator solutions to target data applied #\n"
     ]
    },
    {
     "name": "stderr",
     "output_type": "stream",
     "text": [
      "ERROR:SELFCAL:### No data in your crosscal directory! Exiting pipeline! ###\n"
     ]
    },
    {
     "ename": "SystemExit",
     "evalue": "1",
     "traceback": [
      "An exception has occurred, use %tb to see the full traceback.\n",
      "\u001b[0;31mSystemExit\u001b[0m\u001b[0;31m:\u001b[0m 1\n"
     ],
     "output_type": "error"
    },
    {
     "name": "stderr",
     "output_type": "stream",
     "text": [
      "/home/apercal/pipeline/local/lib/python2.7/site-packages/IPython/core/interactiveshell.py:2889: UserWarning: To exit: use 'exit', 'quit', or Ctrl-D.\n  warn(\"To exit: use 'exit', 'quit', or Ctrl-D.\", stacklevel=1)\n"
     ]
    }
   ],
   "source": [
    "# Now iterate over the list of beams and execute the self calibration\n",
    "for beam in beams:\n",
    "    scal.beam = beam\n",
    "    scal.go()"
   ]
  },
  {
   "cell_type": "code",
   "execution_count": null,
   "metadata": {},
   "outputs": [],
   "source": [
    "# You might want to change the paramaters and redo the calibration for one of the beams individually\n",
    "\n",
    "# First set the beam you want to redo. For instance 01\n",
    "scal.beam = '01'\n",
    "# Then remove the selfcal directory for this beam\n",
    "scal.reset()\n",
    "# Then change the paramaters according to your needs\n",
    "scal.... = ...\n",
    "# and redo the selfcal without the for loop above. You just want to recalibrate this beam.\n",
    "scal.go()"
   ]
  },
  {
   "cell_type": "code",
   "execution_count": 5,
   "metadata": {},
   "outputs": [
    {
     "name": "stderr",
     "output_type": "stream",
     "text": [
      "INFO:CONTINUUM:### Configuration file /home/adebahr/apercal/ipython-notebooks/tutorials/cfg/2.cfg successfully read! ###\n"
     ]
    },
    {
     "name": "stdout",
     "output_type": "stream",
     "text": [
      "CONTINUUM\n\tcontinuum_image_imsize = 1025\n\tcontinuum_image_cellsize = 6\n\tcontinuum_image_centre = \n\tcontinuum_image_restorbeam = \n\tcontinuum_image_convolbeam = 45,45,0.0\n\tcontinuum_mode = stack\n\tcontinuum_majorcycle_function = square\n\tcontinuum_minorcycle_function = square\n\tcontinuum_minorcycle0_dr = 3.0\n\tcontinuum_minorcycle = 5\n\tcontinuum_c0 = 10.0\n\tcontinuum_c1 = 5.0\n\tcontinuum_drinit = 25\n\tcontinuum_dr0 = 2.0\n\tcontinuum_nsigma = 30\n\tcontinuum_robust = \n"
     ]
    }
   ],
   "source": [
    "# If you are satisfied with the self-calibration of all your beams, we can do the same for the continuum imaging\n",
    "continuum = apercal.continuum('/home/adebahr/apercal/ipython-notebooks/tutorials/cfg/2.cfg')\n",
    "continuum.show()"
   ]
  },
  {
   "cell_type": "code",
   "execution_count": null,
   "metadata": {},
   "outputs": [],
   "source": [
    "# Do continuum imaging for all beams by iterating with the same loop this time over the CONTINUUM module\n",
    "\n",
    "import glob\n",
    "from subs import managefiles\n",
    "# Move to the base directory of the data reduction\n",
    "managefiles.director(continuum,'ch', continuum.basedir)\n",
    "\n",
    "beams = glob.glob('*')\n",
    "\n",
    "for beam in beams:\n",
    "    continuum.beam = beam\n",
    "    continuum.go()\n",
    "    \n",
    "# You can redo the continuum imaging for individual beams in the same way as for the selfcal module above.\n",
    "# This holds for all modules working on multiple beams"
   ]
  },
  {
   "cell_type": "code",
   "execution_count": 6,
   "metadata": {},
   "outputs": [
    {
     "name": "stderr",
     "output_type": "stream",
     "text": [
      "INFO:LINE:### Configuration file /home/adebahr/apercal/ipython-notebooks/commissioning/APERTIF/Lockman_Hole.cfg successfully read! ###\n"
     ]
    },
    {
     "name": "stdout",
     "output_type": "stream",
     "text": [
      "LINE\n\tline_splitdata = True\n\tline_splitdata_chunkbandwidth = 0.02\n\tline_splitdata_channelbandwidth = 1.2e-05\n\tline_transfergains = True\n\tline_subtract = True\n\tline_subtract_mode = uvmodel\n\tline_subtract_mode_uvmodel_majorcycle_function = square\n\tline_subtract_mode_uvmodel_minorcycle_function = square\n\tline_subtract_mode_uvmodel_minorcycle = 5\n\tline_subtract_mode_uvmodel_c0 = 10.0\n\tline_subtract_mode_uvmodel_c1 = 5.0\n\tline_subtract_mode_uvmodel_drinit = 50\n\tline_subtract_mode_uvmodel_dr0 = 3.0\n\tline_subtract_mode_uvmodel_nsigma = 30\n\tline_subtract_mode_uvmodel_imsize = 1025\n\tline_subtract_mode_uvmodel_cellsize = 6\n\tline_subtract_mode_uvmodel_minorcycle0_dr = 3.0\n\tline_image = True\n\tline_image_channels = \n\tline_image_imsize = 1025\n\tline_image_cellsize = 6\n\tline_image_centre = \n\tline_image_robust = -2\n\tline_image_ratio_limit = 1.2\n\tline_image_c0 = 10.0\n\tline_image_c1 = 5.0\n\tline_image_nsigma = 25\n\tline_image_minorcycle0_dr = 3.0\n\tline_image_dr0 = 3.0\n\tline_image_restorbeam = \n\tline_image_convolbeam = 45,45,0.0\n"
     ]
    }
   ],
   "source": [
    "# Next line imaging. The same as before.\n",
    "\n",
    "line = apercal.line('/home/adebahr/apercal/ipython-notebooks/commissioning/APERTIF/Lockman_Hole.cfg')\n",
    "line.show()"
   ]
  },
  {
   "cell_type": "code",
   "execution_count": null,
   "metadata": {},
   "outputs": [],
   "source": [
    "# And the loop over all the beams\n",
    "\n",
    "import glob\n",
    "from subs import managefiles\n",
    "# Move to the base directory of the data reduction\n",
    "managefiles.director(line,'ch', line.basedir)\n",
    "\n",
    "beams = glob.glob('*')\n",
    "\n",
    "for beam in beams:\n",
    "    line.beam = beam\n",
    "    line.go()"
   ]
  }
 ],
 "metadata": {
  "kernelspec": {
   "display_name": "Python 2",
   "language": "python",
   "name": "python2"
  },
  "language_info": {
   "codemirror_mode": {
    "name": "ipython",
    "version": 2.0
   },
   "file_extension": ".py",
   "mimetype": "text/x-python",
   "name": "python",
   "nbconvert_exporter": "python",
   "pygments_lexer": "ipython2",
   "version": "2.7.6"
  }
 },
 "nbformat": 4,
 "nbformat_minor": 0
}