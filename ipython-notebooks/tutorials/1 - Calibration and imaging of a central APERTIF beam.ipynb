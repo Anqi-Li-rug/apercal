{
 "cells": [
  {
   "cell_type": "code",
   "execution_count": null,
   "metadata": {
    "collapsed": false
   },
   "outputs": [
    {
     "name": "stderr",
     "output_type": "stream",
     "text": [
      "root - INFO : Logging started!\n"
     ]
    },
    {
     "name": "stderr",
     "output_type": "stream",
     "text": [
      "root - INFO : To see the log in a bash window use the following command:\n"
     ]
    },
    {
     "name": "stderr",
     "output_type": "stream",
     "text": [
      "root - INFO : tail -n +1 -f /home/adebahr/apercal/ipython-notebooks/tutorials/logs/1.log\n"
     ]
    },
    {
     "name": "stdout",
     "output_type": "stream",
     "text": [
      "Setup logger with lib.setup_logger()\n"
     ]
    },
    {
     "name": "stdout",
     "output_type": "stream",
     "text": [
      "Setup logger with lib.setup_logger()\n"
     ]
    }
   ],
   "source": [
    "# Now we want to actually use the pipeline to calibrate an APERTIF observation\n",
    "# Let's start the pipeline again as we did in the last tutorial\n",
    "# Remember to change all the directory paths to your own ones\n",
    "%config IPCompleter.greedy=True\n",
    "%matplotlib notebook\n",
    "import lib\n",
    "lib.setup_logger('info', logfile='/home/adebahr/apercal/ipython-notebooks/tutorials/logs/1.log')\n",
    "import apercal"
   ]
  },
  {
   "cell_type": "code",
   "execution_count": 2,
   "metadata": {},
   "outputs": [
    {
     "name": "stderr",
     "output_type": "stream",
     "text": [
      "INFO:PREPARE:### Configuration file /home/adebahr/apercal/ipython-notebooks/tutorials/cfg/1.cfg successfully read! ###\n"
     ]
    },
    {
     "name": "stdout",
     "output_type": "stream",
     "text": [
      "INITIAL\n\tapercaldir = /home/adebahr/apercal\n\tfluxcal = 3C147.MS\n\tpolcal = \n\ttarget = M51.MS\n\tbasedir = /data/adebahr/apertif/tutorials/T1/\n\tbeam = 00\n\trawsubdir = raw\n\tcrosscalsubdir = crosscal\n\tselfcalsubdir = selfcal\n\tlinesubdir = line\n\tcontsubdir = continuum\n\tpolsubdir = polarisation\nPREPARE\n\tprepare_obsdir_fluxcal = /data/apertif/7070707_3C147/\n\tprepare_obsdir_polcal = \n\tprepare_obsdir_target = /data/apertif/7070708_M51/\n\tprepare_obsmode = single_element\nPREFLAG\n\tpreflag_manualflag = True\n\tpreflag_manualflag_fluxcal = True\n\tpreflag_manualflag_polcal = False\n\tpreflag_manualflag_target = True\n\tpreflag_manualflag_auto = True\n\tpreflag_manualflag_antenna = \n\tpreflag_manualflag_corr = \n\tpreflag_manualflag_shadow = True\n\tpreflag_manualflag_baseline = \n\tpreflag_manualflag_channel = \n\tpreflag_manualflag_time = \n\tpreflag_aoflagger = True\n\tpreflag_aoflagger_bandpass = True\n\tpreflag_aoflagger_fluxcal = True\n\tpreflag_aoflagger_polcal = False\n\tpreflag_aoflagger_target = True\n\tpreflag_aoflagger_fluxcalstrat = fluxcal.rfis\n\tpreflag_aoflagger_polcalstrat = \n\tpreflag_aoflagger_targetstrat = target.rfis\nCONVERT\n\tconvert_ms2uvfits = True\n\tconvert_ms2uvfits_tool_casa_autocorr = False\n\tconvert_uvfits2mir = True\n\tconvert_fluxcal = True\n\tconvert_polcal = False\n\tconvert_target = True\nCROSSCAL\n\tcrosscal_bandpass = True\n\tcrosscal_delay = True\n\tcrosscal_polarisation = False\n\tcrosscal_transfer_to_target = True\nSELFCAL\n\tselfcal_image_imsize = 1025\n\tselfcal_image_cellsize = 8\n\tselfcal_splitdata = True\n\tselfcal_splitdata_chunkbandwidth = 0.02\n\tselfcal_splitdata_channelbandwidth = 0.001\n\tselfcal_flagantenna = \n\tselfcal_flagline = True\n\tselfcal_flagline_sigma = 0.5\n\tselfcal_parametric = False\n\tselfcal_parametric_skymodel_radius = 0.5\n\tselfcal_parametric_skymodel_cutoff = 0.8\n\tselfcal_parametric_skymodel_distance = 30\n\tselfcal_parametric_solint = 10\n\tselfcal_parametric_uvmin = 0.5\n\tselfcal_parametric_uvmax = 1000\n\tselfcal_parametric_amp = False\n\tselfcal_standard_majorcycle = 3\n\tselfcal_standard_majorcycle_function = square\n\tselfcal_standard_minorcycle = 5\n\tselfcal_standard_minorcycle_function = square\n\tselfcal_standard_c0 = 10.0\n\tselfcal_standard_c1 = 5.0\n\tselfcal_standard_minorcycle0_dr = 3.0\n\tselfcal_standard_drinit = 25\n\tselfcal_standard_dr0 = 2.0\n\tselfcal_standard_nsigma = 50\n\tselfcal_standard_uvmin = [0.0, 0.0, 0.0, 0.0]\n\tselfcal_standard_uvmax = [3000, 3000, 3000]\n\tselfcal_standard_solint = [5, 3, 0.5]\n\tselfcal_standard_amp = False\n\tselfcal_standard_amp_auto_limit = 1.0\n\tselfcal_standard_nfbin = 1\nCONTINUUM\n\tcontinuum_image_imsize = 1025\n\tcontinuum_image_cellsize = 8\n\tcontinuum_image_centre = \n\tcontinuum_image_restorbeam = \n\tcontinuum_image_convolbeam = \n\tcontinuum_mode = stack\n\tcontinuum_majorcycle_function = square\n\tcontinuum_minorcycle_function = square\n\tcontinuum_minorcycle0_dr = 3.0\n\tcontinuum_minorcycle = 5\n\tcontinuum_c0 = 10.0\n\tcontinuum_c1 = 5.0\n\tcontinuum_drinit = 25\n\tcontinuum_dr0 = 2.0\n\tcontinuum_nsigma = 30\n\tcontinuum_robust = \nLINE\n\tline_splitdata = False\n\tline_splitdata_chunkbandwidth = 0.02\n\tline_splitdata_channelbandwidth = 1.2e-05\n\tline_transfergains = False\n\tline_subtract = False\n\tline_subtract_mode = uvmodel\n\tline_subtract_mode_uvmodel_majorcycle_function = square\n\tline_subtract_mode_uvmodel_minorcycle_function = square\n\tline_subtract_mode_uvmodel_minorcycle = 5\n\tline_subtract_mode_uvmodel_c0 = 10.0\n\tline_subtract_mode_uvmodel_c1 = 5.0\n\tline_subtract_mode_uvmodel_drinit = 25\n\tline_subtract_mode_uvmodel_dr0 = 2.0\n\tline_subtract_mode_uvmodel_nsigma = 30\n\tline_subtract_mode_uvmodel_imsize = 513\n\tline_subtract_mode_uvmodel_cellsize = 10\n\tline_subtract_mode_uvmodel_minorcycle0_dr = 3.0\n\tline_image = True\n\tline_image_channels = 9650,9800\n\tline_image_imsize = 1025\n\tline_image_cellsize = 8\n\tline_image_centre = \n\tline_image_robust = -2\n\tline_image_ratio_limit = 1.03\n\tline_image_c0 = 10.0\n\tline_image_c1 = 5.0\n\tline_image_nsigma = 20\n\tline_image_minorcycle0_dr = 3.0\n\tline_image_dr0 = 2.0\n\tline_image_restorbeam = \n\tline_image_convolbeam = 30,30,0.0\n"
     ]
    }
   ],
   "source": [
    "# Load the config file for the tutorial and look at it\n",
    "prepare = apercal.prepare('/home/adebahr/apercal/ipython-notebooks/tutorials/cfg/1.cfg')\n",
    "prepare.show(showall=True)"
   ]
  },
  {
   "cell_type": "code",
   "execution_count": 3,
   "metadata": {},
   "outputs": [
    {
     "name": "stderr",
     "output_type": "stream",
     "text": [
      "INFO:PREPARE:########## Preparing data for calibration ##########\n"
     ]
    },
    {
     "name": "stderr",
     "output_type": "stream",
     "text": [
      "INFO:PREPARE:### Flux calibrator dataset found. Copying beam 00 to working directory. ###\n"
     ]
    },
    {
     "name": "stderr",
     "output_type": "stream",
     "text": [
      "WARNING:PREPARE:### No polarisation calibrator dataset specified. The next steps might not work! ###\n"
     ]
    },
    {
     "name": "stderr",
     "output_type": "stream",
     "text": [
      "INFO:PREPARE:### 1 different beams for target field found. ###\n"
     ]
    },
    {
     "name": "stderr",
     "output_type": "stream",
     "text": [
      "INFO:PREPARE:### Copying central element beam to working directory. ###\n"
     ]
    },
    {
     "name": "stderr",
     "output_type": "stream",
     "text": [
      "INFO:PREPARE:### Target dataset(s) copied to working directories! ###\n"
     ]
    },
    {
     "name": "stderr",
     "output_type": "stream",
     "text": [
      "INFO:PREPARE:########## Data prepared for calibration ##########\n"
     ]
    }
   ],
   "source": [
    "# As you might guess from the name of the dataset we will be working on an M51 dataset, which was observed a while ago.\n",
    "# This observation used the APERTIF system with 135 MHz of bandwidth in single element mode\n",
    "# The parameter prepare_obsmode=single_element only copies the central element beam over and does not care about any other beams\n",
    "# This also means that you can use this parameter to reduce only the central element of a multi-element observation (in case you are not interested in the rest of the field)\n",
    "# Let the pipeline now create the needed directory structure in the given directory (parameter basedir) and copy over the datasets from the original directories (parameters prepare_obsdir_fluxcal/polcal/target)\n",
    "prepare.go()"
   ]
  },
  {
   "cell_type": "code",
   "execution_count": 6,
   "metadata": {},
   "outputs": [
    {
     "data": {
      "text/plain": [
       "['3C147.MS', 'M51.MS']"
      ]
     },
     "execution_count": 6,
     "metadata": {},
     "output_type": "execute_result"
    }
   ],
   "source": [
    "# You should now have a subdirectory in your basedir + 00 (the number of the beam) + raw (the subdirectory for the raw datasets)\n",
    "# To execute system tasks within the pipeline you can always import any python module you want and execute functions from them\n",
    "# Let's look at the contents of the directory using the listdir function of the os module\n",
    "# You can always access the current initial parameters by using the module name + .[parameter] (We will need that later to fix some issues with the dataset) \n",
    "import os\n",
    "os.listdir(prepare.basedir + prepare.beam + '/' + prepare.rawsubdir)"
   ]
  },
  {
   "cell_type": "code",
   "execution_count": 7,
   "metadata": {},
   "outputs": [
    {
     "name": "stdout",
     "output_type": "stream",
     "text": [
      "PREFLAG\n\tpreflag_manualflag = True\n\tpreflag_manualflag_fluxcal = True\n\tpreflag_manualflag_polcal = False\n\tpreflag_manualflag_target = True\n\tpreflag_manualflag_auto = True\n\tpreflag_manualflag_antenna = \n\tpreflag_manualflag_corr = \n\tpreflag_manualflag_shadow = True\n\tpreflag_manualflag_baseline = \n\tpreflag_manualflag_channel = \n\tpreflag_manualflag_time = \n\tpreflag_aoflagger = True\n\tpreflag_aoflagger_bandpass = True\n\tpreflag_aoflagger_fluxcal = True\n\tpreflag_aoflagger_polcal = False\n\tpreflag_aoflagger_target = True\n\tpreflag_aoflagger_fluxcalstrat = fluxcal.rfis\n\tpreflag_aoflagger_polcalstrat = \n\tpreflag_aoflagger_targetstrat = target.rfis\n"
     ]
    }
   ],
   "source": [
    "# We now have two datasets in this subdirectory 3C147.MS (calibrator) and M51.MS (target)\n",
    "# Let's continue with the flagging step\n",
    "preflag = apercal.preflag('/home/adebahr/apercal/ipython-notebooks/tutorials/cfg/1.cfg')\n",
    "preflag.show()"
   ]
  },
  {
   "cell_type": "code",
   "execution_count": 8,
   "metadata": {},
   "outputs": [
    {
     "name": "stdout",
     "output_type": "stream",
     "text": [
      "PREFLAG\n\tpreflag_manualflag = True\n\tpreflag_manualflag_fluxcal = True\n\tpreflag_manualflag_polcal = False\n\tpreflag_manualflag_target = True\n\tpreflag_manualflag_auto = True\n\tpreflag_manualflag_antenna = \n\tpreflag_manualflag_corr = \n\tpreflag_manualflag_shadow = True\n\tpreflag_manualflag_baseline = \n\tpreflag_manualflag_channel = 0;64;128;192;256;320;384;448;512;576;640;704;768;832;896;960;1024;1088;1152;1216;1280;1344;1408;1472;1536;1600;1664;1728;1792;1856;1920;1984;2048;2112;2176;2240;2304;2368;2432;2496;2560;2624;2688;2752;2816;2880;2944;3008;3072;3136;3200;3264;3328;3392;3456;3520;3584;3648;3712;3776;3840;3904;3968;4032;4096;4160;4224;4288;4352;4416;4480;4544;4608;4672;4736;4800;4864;4928;4992;5056;5120;5184;5248;5312;5376;5440;5504;5568;5632;5696;5760;5824;5888;5952;6016;6080;6144;6208;6272;6336;6400;6464;6528;6592;6656;6720;6784;6848;6912;6976;7040;7104;7168;7232;7296;7360;7424;7488;7552;7616;7680;7744;7808;7872;7936;8000;8064;8128;8192;8256;8320;8384;8448;8512;8576;8640;8704;8768;8832;8896;8960;9024;9088;9152;9216;9280;9344;9408;9472;9536;9600;9664;9728;9792;9856;9920;9984;10048;10112;10176;10240;10304;10368;10432;10496;10560;10624;10688;10752;10816;10880;10944;1;65;129;193;257;321;385;449;513;577;641;705;769;833;897;961;1025;1089;1153;1217;1281;1345;1409;1473;1537;1601;1665;1729;1793;1857;1921;1985;2049;2113;2177;2241;2305;2369;2433;2497;2561;2625;2689;2753;2817;2881;2945;3009;3073;3137;3201;3265;3329;3393;3457;3521;3585;3649;3713;3777;3841;3905;3969;4033;4097;4161;4225;4289;4353;4417;4481;4545;4609;4673;4737;4801;4865;4929;4993;5057;5121;5185;5249;5313;5377;5441;5505;5569;5633;5697;5761;5825;5889;5953;6017;6081;6145;6209;6273;6337;6401;6465;6529;6593;6657;6721;6785;6849;6913;6977;7041;7105;7169;7233;7297;7361;7425;7489;7553;7617;7681;7745;7809;7873;7937;8001;8065;8129;8193;8257;8321;8385;8449;8513;8577;8641;8705;8769;8833;8897;8961;9025;9089;9153;9217;9281;9345;9409;9473;9537;9601;9665;9729;9793;9857;9921;9985;10049;10113;10177;10241;10305;10369;10433;10497;10561;10625;10689;10753;10817;10881;10945;63;127;191;255;319;383;447;511;575;639;703;767;831;895;959;1023;1087;1151;1215;1279;1343;1407;1471;1535;1599;1663;1727;1791;1855;1919;1983;2047;2111;2175;2239;2303;2367;2431;2495;2559;2623;2687;2751;2815;2879;2943;3007;3071;3135;3199;3263;3327;3391;3455;3519;3583;3647;3711;3775;3839;3903;3967;4031;4095;4159;4223;4287;4351;4415;4479;4543;4607;4671;4735;4799;4863;4927;4991;5055;5119;5183;5247;5311;5375;5439;5503;5567;5631;5695;5759;5823;5887;5951;6015;6079;6143;6207;6271;6335;6399;6463;6527;6591;6655;6719;6783;6847;6911;6975;7039;7103;7167;7231;7295;7359;7423;7487;7551;7615;7679;7743;7807;7871;7935;7999;8063;8127;8191;8255;8319;8383;8447;8511;8575;8639;8703;8767;8831;8895;8959;9023;9087;9151;9215;9279;9343;9407;9471;9535;9599;9663;9727;9791;9855;9919;9983;10047;10111;10175;10239;10303;10367;10431;10495;10559;10623;10687;10751;10815;10879;10943;11007;16;80;144;208;272;336;400;464;528;592;656;720;784;848;912;976;1040;1104;1168;1232;1296;1360;1424;1488;1552;1616;1680;1744;1808;1872;1936;2000;2064;2128;2192;2256;2320;2384;2448;2512;2576;2640;2704;2768;2832;2896;2960;3024;3088;3152;3216;3280;3344;3408;3472;3536;3600;3664;3728;3792;3856;3920;3984;4048;4112;4176;4240;4304;4368;4432;4496;4560;4624;4688;4752;4816;4880;4944;5008;5072;5136;5200;5264;5328;5392;5456;5520;5584;5648;5712;5776;5840;5904;5968;6032;6096;6160;6224;6288;6352;6416;6480;6544;6608;6672;6736;6800;6864;6928;6992;7056;7120;7184;7248;7312;7376;7440;7504;7568;7632;7696;7760;7824;7888;7952;8016;8080;8144;8208;8272;8336;8400;8464;8528;8592;8656;8720;8784;8848;8912;8976;9040;9104;9168;9232;9296;9360;9424;9488;9552;9616;9680;9744;9808;9872;9936;10000;10064;10128;10192;10256;10320;10384;10448;10512;10576;10640;10704;10768;10832;10896;10960;48;112;176;240;304;368;432;496;560;624;688;752;816;880;944;1008;1072;1136;1200;1264;1328;1392;1456;1520;1584;1648;1712;1776;1840;1904;1968;2032;2096;2160;2224;2288;2352;2416;2480;2544;2608;2672;2736;2800;2864;2928;2992;3056;3120;3184;3248;3312;3376;3440;3504;3568;3632;3696;3760;3824;3888;3952;4016;4080;4144;4208;4272;4336;4400;4464;4528;4592;4656;4720;4784;4848;4912;4976;5040;5104;5168;5232;5296;5360;5424;5488;5552;5616;5680;5744;5808;5872;5936;6000;6064;6128;6192;6256;6320;6384;6448;6512;6576;6640;6704;6768;6832;6896;6960;7024;7088;7152;7216;7280;7344;7408;7472;7536;7600;7664;7728;7792;7856;7920;7984;8048;8112;8176;8240;8304;8368;8432;8496;8560;8624;8688;8752;8816;8880;8944;9008;9072;9136;9200;9264;9328;9392;9456;9520;9584;9648;9712;9776;9840;9904;9968;10032;10096;10160;10224;10288;10352;10416;10480;10544;10608;10672;10736;10800;10864;10928;10992\n\tpreflag_manualflag_time = \n\tpreflag_aoflagger = True\n\tpreflag_aoflagger_bandpass = True\n\tpreflag_aoflagger_fluxcal = True\n\tpreflag_aoflagger_polcal = False\n\tpreflag_aoflagger_target = True\n\tpreflag_aoflagger_fluxcalstrat = fluxcal.rfis\n\tpreflag_aoflagger_polcalstrat = \n\tpreflag_aoflagger_targetstrat = target.rfis\n"
     ]
    }
   ],
   "source": [
    "# We will do manual flagging and after that use the aoflagger to automatically find RFI (parameters preflag_manualflag=True and preflag_aoflagger=True)\n",
    "# Unfortunately, since we are using some CASA routines, it meses up the logger and crashes the pipeline, if we execute the whole module at once with preflag.go()\n",
    "# To circumvent this we will execute the individual substeps one by one\n",
    "# For the manual flagging we will flag the auto-correlations (preflag_manualflag_auto = True) and flag for shadowing (preflag_manualflag_shadow = True)\n",
    "# In addition we need to create a list of channels to flag the subband edges and the two channels affected by ghosts, which we then insert into the preflag_manualflag_channel parameter\n",
    "\n",
    "# Total number of channels\n",
    "nchannel = 11008\n",
    "\n",
    "# Make lists of the channels which are affected\n",
    "a = range(0, nchannel, 64) # the subband edges\n",
    "b = range(1, nchannel, 64)\n",
    "c = range(63, nchannel, 64)\n",
    "d = range(16, nchannel, 64) # the two ghosts\n",
    "e = range(48, nchannel, 64)\n",
    "# Combine the channel list into one list and convert to a string\n",
    "l = a + b + c + d + e\n",
    "preflag.preflag_manualflag_channel = ';'.join(str(ch) for ch in l)\n",
    "\n",
    "preflag.show()"
   ]
  },
  {
   "cell_type": "code",
   "execution_count": 9,
   "metadata": {},
   "outputs": [],
   "source": [
    "# Now execute the manualflag substep\n",
    "preflag.manualflag()"
   ]
  },
  {
   "cell_type": "code",
   "execution_count": null,
   "metadata": {},
   "outputs": [
    {
     "ename": "TypeError",
     "evalue": "a float is required",
     "traceback": [
      "\u001b[0;31m\u001b[0m",
      "\u001b[0;31mTypeError\u001b[0mTraceback (most recent call last)",
      "\u001b[0;32m<ipython-input-10-1d47d0f1e794>\u001b[0m in \u001b[0;36m<module>\u001b[0;34m()\u001b[0m\n\u001b[1;32m      2\u001b[0m \u001b[0;31m# This bandpass will not be used in later stages of the calibration process and helps aoflagger to distinguish between bandpass effects and real RFI better\u001b[0m\u001b[0;34m\u001b[0m\u001b[0;34m\u001b[0m\u001b[0m\n\u001b[1;32m      3\u001b[0m \u001b[0;31m# Execute the aoflagger substep now\u001b[0m\u001b[0;34m\u001b[0m\u001b[0;34m\u001b[0m\u001b[0m\n\u001b[0;32m----> 4\u001b[0;31m \u001b[0mpreflag\u001b[0m\u001b[0;34m.\u001b[0m\u001b[0maoflagger\u001b[0m\u001b[0;34m(\u001b[0m\u001b[0;34m)\u001b[0m\u001b[0;34m\u001b[0m\u001b[0m\n\u001b[0m",
      "\u001b[0;32m/home/adebahr/apercal/modules/preflag.pyc\u001b[0m in \u001b[0;36maoflagger\u001b[0;34m(self)\u001b[0m\n\u001b[1;32m     53\u001b[0m             \u001b[0msubs\u001b[0m\u001b[0;34m.\u001b[0m\u001b[0msetinit\u001b[0m\u001b[0;34m.\u001b[0m\u001b[0msetinitdirs\u001b[0m\u001b[0;34m(\u001b[0m\u001b[0mself\u001b[0m\u001b[0;34m)\u001b[0m\u001b[0;34m\u001b[0m\u001b[0m\n\u001b[1;32m     54\u001b[0m             \u001b[0;31m# self.logger.info('### Doing pre-flagging with AOFlagger ###')\u001b[0m\u001b[0;34m\u001b[0m\u001b[0;34m\u001b[0m\u001b[0m\n\u001b[0;32m---> 55\u001b[0;31m             \u001b[0mself\u001b[0m\u001b[0;34m.\u001b[0m\u001b[0maoflagger_bandpass\u001b[0m\u001b[0;34m(\u001b[0m\u001b[0;34m)\u001b[0m\u001b[0;34m\u001b[0m\u001b[0m\n\u001b[0m\u001b[1;32m     56\u001b[0m             \u001b[0mself\u001b[0m\u001b[0;34m.\u001b[0m\u001b[0maoflagger_flag\u001b[0m\u001b[0;34m(\u001b[0m\u001b[0;34m)\u001b[0m\u001b[0;34m\u001b[0m\u001b[0m\n\u001b[1;32m     57\u001b[0m             \u001b[0;31m# self.logger.info('### Pre-flagging with AOFlagger done! ###')\u001b[0m\u001b[0;34m\u001b[0m\u001b[0;34m\u001b[0m\u001b[0m\n",
      "\u001b[0;32m/home/adebahr/apercal/modules/preflag.pyc\u001b[0m in \u001b[0;36maoflagger_bandpass\u001b[0;34m(self)\u001b[0m\n\u001b[1;32m    392\u001b[0m             \u001b[0;32mif\u001b[0m \u001b[0mself\u001b[0m\u001b[0;34m.\u001b[0m\u001b[0mpreflag_aoflagger_target\u001b[0m\u001b[0;34m:\u001b[0m\u001b[0;34m\u001b[0m\u001b[0m\n\u001b[1;32m    393\u001b[0m                 \u001b[0mmslist\u001b[0m \u001b[0;34m=\u001b[0m \u001b[0mglob\u001b[0m\u001b[0;34m.\u001b[0m\u001b[0mglob\u001b[0m\u001b[0;34m(\u001b[0m\u001b[0mself\u001b[0m\u001b[0;34m.\u001b[0m\u001b[0mbasedir\u001b[0m \u001b[0;34m+\u001b[0m \u001b[0;34m'*/'\u001b[0m \u001b[0;34m+\u001b[0m \u001b[0mself\u001b[0m\u001b[0;34m.\u001b[0m\u001b[0mrawsubdir\u001b[0m \u001b[0;34m+\u001b[0m \u001b[0;34m'/'\u001b[0m \u001b[0;34m+\u001b[0m \u001b[0mself\u001b[0m\u001b[0;34m.\u001b[0m\u001b[0mtarget\u001b[0m\u001b[0;34m)\u001b[0m\u001b[0;34m\u001b[0m\u001b[0m\n\u001b[0;32m--> 394\u001b[0;31m                 \u001b[0;32mfor\u001b[0m \u001b[0mdataset\u001b[0m \u001b[0;32min\u001b[0m \u001b[0mmslist\u001b[0m\u001b[0;34m:\u001b[0m\u001b[0;34m\u001b[0m\u001b[0m\n\u001b[0m\u001b[1;32m    395\u001b[0m                     \u001b[0;31m# if os.path.isdir(ms):\u001b[0m\u001b[0;34m\u001b[0m\u001b[0;34m\u001b[0m\u001b[0m\n\u001b[1;32m    396\u001b[0m                     \u001b[0mcb\u001b[0m \u001b[0;34m=\u001b[0m \u001b[0mcasac\u001b[0m\u001b[0;34m.\u001b[0m\u001b[0mcasac\u001b[0m\u001b[0;34m.\u001b[0m\u001b[0mcalibrater\u001b[0m\u001b[0;34m(\u001b[0m\u001b[0;34m)\u001b[0m\u001b[0;34m\u001b[0m\u001b[0m\n",
      "\u001b[0;31mTypeError\u001b[0m: a float is required"
     ],
     "output_type": "error"
    }
   ],
   "source": [
    "# We want to derive a bandpass and apply it to the data before we use aoflagger (parameter preflag_aoflagger_bandpass = True)\n",
    "# This bandpass will not be used in later stages of the calibration process and helps aoflagger to distinguish between bandpass effects and real RFI better\n",
    "preflag.aoflagger_bandpass()"
   ]
  },
  {
   "cell_type": "code",
   "execution_count": 11,
   "metadata": {},
   "outputs": [],
   "source": [
    "# Execute the aoflagger substep now\n",
    "# There will be an error message at the end of the step which you can ignore\n",
    "preflag.aoflagger_flag()"
   ]
  },
  {
   "cell_type": "code",
   "execution_count": 12,
   "metadata": {},
   "outputs": [
    {
     "name": "stderr",
     "output_type": "stream",
     "text": [
      "INFO:CONVERT:### Configuration file /home/adebahr/apercal/ipython-notebooks/tutorials/cfg/1.cfg successfully read! ###\n"
     ]
    },
    {
     "name": "stdout",
     "output_type": "stream",
     "text": [
      "CONVERT\n\tconvert_ms2uvfits = True\n\tconvert_ms2uvfits_tool_casa_autocorr = False\n\tconvert_uvfits2mir = True\n\tconvert_fluxcal = True\n\tconvert_polcal = False\n\tconvert_target = True\n"
     ]
    }
   ],
   "source": [
    "convert = apercal.convert('/home/adebahr/apercal/ipython-notebooks/tutorials/cfg/1.cfg')\n",
    "convert.show()"
   ]
  },
  {
   "cell_type": "code",
   "execution_count": 13,
   "metadata": {},
   "outputs": [
    {
     "name": "stderr",
     "output_type": "stream",
     "text": [
      "INFO:CONVERT:########## FILE CONVERSION started ##########\n"
     ]
    },
    {
     "name": "stderr",
     "output_type": "stream",
     "text": [
      "INFO:CONVERT:### Starting conversion from MS to UVFITS format ###\n"
     ]
    },
    {
     "name": "stderr",
     "output_type": "stream",
     "text": [
      "INFO:CONVERT:### Converted MS file 3C147.MS to UVFITS format! ###\n"
     ]
    },
    {
     "name": "stderr",
     "output_type": "stream",
     "text": [
      "INFO:CONVERT:### Converted MS file /data/adebahr/apertif/tutorials/T1/00/raw/M51.MS to UVFITS format! ###\n"
     ]
    },
    {
     "name": "stderr",
     "output_type": "stream",
     "text": [
      "INFO:CONVERT:### Conversion from MS to UVFITS format done! ###\n"
     ]
    },
    {
     "name": "stderr",
     "output_type": "stream",
     "text": [
      "INFO:CONVERT:### Starting conversion from UVFITS to MIRIAD format ###\n"
     ]
    },
    {
     "name": "stderr",
     "output_type": "stream",
     "text": [
      "INFO:CONVERT:### Converted UVFITS file 3C147.MS to MIRIAD format! ###\n"
     ]
    },
    {
     "name": "stderr",
     "output_type": "stream",
     "text": [
      "INFO:CONVERT:### Converted UVFITS file /data/adebahr/apertif/tutorials/T1/00/crosscal/M51.UVFITS to MIRIAD format! ###\n"
     ]
    },
    {
     "name": "stderr",
     "output_type": "stream",
     "text": [
      "INFO:CONVERT:### Conversion from UVFITS to MIRIAD format done! ###\n"
     ]
    },
    {
     "name": "stderr",
     "output_type": "stream",
     "text": [
      "INFO:CONVERT:########## FILE CONVERSION done ##########\n"
     ]
    }
   ],
   "source": [
    "# The convert step coverts the datasets from MS to UVFITS (convert_ms2uvfits = True) and then to MIRIAD format (convert_uvfits2mir = True)\n",
    "# We do not want to carry the auto-correlations over (convert_ms2uvfits_tool_casa_autocorr = False)\n",
    "# The converted datasets are saved in the crosscal subdirectory\n",
    "convert.go()"
   ]
  },
  {
   "cell_type": "code",
   "execution_count": 14,
   "metadata": {},
   "outputs": [
    {
     "data": {
      "text/plain": [
       "0"
      ]
     },
     "execution_count": 14,
     "metadata": {},
     "output_type": "execute_result"
    }
   ],
   "source": [
    "# Since this is an old dataset (anything after 21.12.17 should be fine), we need to recompute the uv-coordinates\n",
    "# This can be done manually using the task uvedit in MIRIAD\n",
    "# We change the pointing centre by an infinitesimal amount (0.00001s) to force uvedit to recompute them\n",
    "\n",
    "import os\n",
    "\n",
    "# Initialise the task\n",
    "uvedit = lib.miriad('uvedit')\n",
    "\n",
    "# Execute the task for the calibrator\n",
    "uvedit.vis = convert.crosscaldir + '/' + convert.fluxcal.rstrip('MS') + 'mir'\n",
    "uvedit.ra = 0.00001\n",
    "uvedit.out = convert.crosscaldir + '/' + convert.fluxcal.rstrip('.MS') + '_uvedit.mir'\n",
    "uvedit.go()\n",
    "\n",
    "# Execute the task for the target\n",
    "uvedit.vis = convert.crosscaldir + '/' + convert.target.rstrip('MS') + 'mir'\n",
    "uvedit.ra = 0.00001\n",
    "uvedit.out = convert.crosscaldir + '/' + convert.target.rstrip('.MS') + '_uvedit.mir'\n",
    "uvedit.go()\n",
    "\n",
    "# Remove the obsolete files from the directories\n",
    "os.system('rm -rf ' + convert.crosscaldir + '/' + convert.fluxcal.rstrip('MS') + 'mir')\n",
    "os.system('rm -rf ' + convert.crosscaldir + '/' + convert.target.rstrip('MS') + 'mir')\n",
    "os.system('mv ' + convert.crosscaldir + '/' + convert.fluxcal.rstrip('.MS') + '_uvedit.mir ' + convert.crosscaldir + '/' + convert.fluxcal.rstrip('.MS') + '.mir')\n",
    "os.system('mv ' + convert.crosscaldir + '/' + convert.target.rstrip('.MS') + '_uvedit.mir ' + convert.crosscaldir + '/' + convert.target.rstrip('.MS') + '.mir')"
   ]
  },
  {
   "cell_type": "code",
   "execution_count": 15,
   "metadata": {},
   "outputs": [
    {
     "data": {
      "text/plain": [
       "0"
      ]
     },
     "execution_count": 15,
     "metadata": {},
     "output_type": "execute_result"
    }
   ],
   "source": [
    "# Since this is an old dataset (anything after 21.12.17 should be fine), we need to flip the phases\n",
    "# This can be done manually using the task uvrot in MIRIAD\n",
    "\n",
    "import os\n",
    "\n",
    "# Initialise the task\n",
    "uvrot = lib.miriad('uvrot')\n",
    "\n",
    "# Execute the task for the calibrator\n",
    "uvrot.vis = convert.crosscaldir + '/' + convert.fluxcal.rstrip('.MS') + '.mir'\n",
    "uvrot.angle = 180\n",
    "uvrot.out = convert.crosscaldir + '/' + convert.fluxcal.rstrip('.MS') + '_uvrot.mir'\n",
    "uvrot.go()\n",
    "\n",
    "# Execute the task for the target\n",
    "uvrot.vis = convert.crosscaldir + '/' + convert.target.rstrip('.MS') + '.mir'\n",
    "uvrot.angle = 180\n",
    "uvrot.out = convert.crosscaldir + '/' + convert.target.rstrip('.MS') + '_uvrot.mir'\n",
    "uvrot.go()\n",
    "\n",
    "# Remove the obsolete files from the directories\n",
    "os.system('rm -rf ' + convert.crosscaldir + '/' + convert.fluxcal.rstrip('MS') + 'mir')\n",
    "os.system('rm -rf ' + convert.crosscaldir + '/' + convert.target.rstrip('MS') + 'mir')\n",
    "os.system('mv ' + convert.crosscaldir + '/' + convert.fluxcal.rstrip('.MS') + '_uvrot.mir ' + convert.crosscaldir + '/' + convert.fluxcal.rstrip('.MS') + '.mir')\n",
    "os.system('mv ' + convert.crosscaldir + '/' + convert.target.rstrip('.MS') + '_uvrot.mir ' + convert.crosscaldir + '/' + convert.target.rstrip('.MS') + '.mir')"
   ]
  },
  {
   "cell_type": "code",
   "execution_count": 16,
   "metadata": {},
   "outputs": [
    {
     "name": "stderr",
     "output_type": "stream",
     "text": [
      "INFO:CROSSCAL:### Configuration file /home/adebahr/apercal/ipython-notebooks/tutorials/cfg/1.cfg successfully read! ###\n"
     ]
    },
    {
     "name": "stdout",
     "output_type": "stream",
     "text": [
      "CROSSCAL\n\tcrosscal_bandpass = True\n\tcrosscal_delay = True\n\tcrosscal_polarisation = False\n\tcrosscal_transfer_to_target = True\n"
     ]
    }
   ],
   "source": [
    "ccal = apercal.ccal('/home/adebahr/apercal/ipython-notebooks/tutorials/cfg/1.cfg')\n",
    "ccal.show()"
   ]
  },
  {
   "cell_type": "code",
   "execution_count": 17,
   "metadata": {},
   "outputs": [
    {
     "name": "stderr",
     "output_type": "stream",
     "text": [
      "INFO:CROSSCAL:########## Starting CROSS CALIBRATION ##########\n"
     ]
    },
    {
     "name": "stderr",
     "output_type": "stream",
     "text": [
      "INFO:CROSSCAL:### Bandpass calibration on the flux calibrator data started ###\n"
     ]
    },
    {
     "name": "stderr",
     "output_type": "stream",
     "text": [
      "INFO:CROSSCAL:### Bandpass calibration on the flux calibrator data done ###\n"
     ]
    },
    {
     "name": "stderr",
     "output_type": "stream",
     "text": [
      "INFO:CROSSCAL:### No polarisation calibration done! ###\n"
     ]
    },
    {
     "name": "stderr",
     "output_type": "stream",
     "text": [
      "INFO:CROSSCAL:### Copying calibrator solutions to target dataset ###\n"
     ]
    },
    {
     "name": "stderr",
     "output_type": "stream",
     "text": [
      "INFO:CROSSCAL:# Copying calibrator solutions (bandpass, gains) from flux calibrator #\n"
     ]
    },
    {
     "name": "stderr",
     "output_type": "stream",
     "text": [
      "INFO:CROSSCAL:# Polarisation calibration solutions (leakage, angle) not found #\n"
     ]
    },
    {
     "name": "stderr",
     "output_type": "stream",
     "text": [
      "INFO:CROSSCAL:# Copying calibrator solutions to 1 beams! #\n"
     ]
    },
    {
     "name": "stderr",
     "output_type": "stream",
     "text": [
      "INFO:CROSSCAL:# Calibrator solutions copied to beam 00! #\n"
     ]
    },
    {
     "name": "stderr",
     "output_type": "stream",
     "text": [
      "INFO:CROSSCAL:### All solutions copied to target data set(s) ###\n"
     ]
    },
    {
     "name": "stderr",
     "output_type": "stream",
     "text": [
      "INFO:CROSSCAL:########## CROSS CALIBRATION done ##########\n"
     ]
    }
   ],
   "source": [
    "# Crosscal derives the gains and bandpass (crosscal_bandpass = True) from the calibrator and applies them to the target field (crosscal_transfer_to_target = True)\n",
    "# We also want to solve for the delays. This will work better for recent datasets (since we have the cable delay compensation in place), but still might need to be done (the delay compensation can only be sampled in increments of 5ns)\n",
    "ccal.go()"
   ]
  },
  {
   "cell_type": "code",
   "execution_count": 19,
   "metadata": {},
   "outputs": [
    {
     "name": "stderr",
     "output_type": "stream",
     "text": [
      "INFO:SELFCAL:### Configuration file /home/adebahr/apercal/ipython-notebooks/tutorials/cfg/1.cfg successfully read! ###\n"
     ]
    },
    {
     "name": "stdout",
     "output_type": "stream",
     "text": [
      "SELFCAL\n\tselfcal_image_imsize = 1025\n\tselfcal_image_cellsize = 8\n\tselfcal_splitdata = True\n\tselfcal_splitdata_chunkbandwidth = 0.02\n\tselfcal_splitdata_channelbandwidth = 0.001\n\tselfcal_flagantenna = \n\tselfcal_flagline = True\n\tselfcal_flagline_sigma = 0.5\n\tselfcal_parametric = False\n\tselfcal_parametric_skymodel_radius = 0.5\n\tselfcal_parametric_skymodel_cutoff = 0.8\n\tselfcal_parametric_skymodel_distance = 30\n\tselfcal_parametric_solint = 10\n\tselfcal_parametric_uvmin = 0.5\n\tselfcal_parametric_uvmax = 1000\n\tselfcal_parametric_amp = False\n\tselfcal_standard_majorcycle = 3\n\tselfcal_standard_majorcycle_function = square\n\tselfcal_standard_minorcycle = 5\n\tselfcal_standard_minorcycle_function = square\n\tselfcal_standard_c0 = 10.0\n\tselfcal_standard_c1 = 5.0\n\tselfcal_standard_minorcycle0_dr = 3.0\n\tselfcal_standard_drinit = 25\n\tselfcal_standard_dr0 = 2.0\n\tselfcal_standard_nsigma = 50\n\tselfcal_standard_uvmin = [0.0, 0.0, 0.0]\n\tselfcal_standard_uvmax = [3000, 3000, 3000]\n\tselfcal_standard_solint = [5, 3, 0.5]\n\tselfcal_standard_amp = False\n\tselfcal_standard_amp_auto_limit = 1.0\n\tselfcal_standard_nfbin = 1\n"
     ]
    }
   ],
   "source": [
    "scal = apercal.scal('/home/adebahr/apercal/ipython-notebooks/tutorials/cfg/1.cfg')\n",
    "scal.show()"
   ]
  },
  {
   "cell_type": "code",
   "execution_count": 20,
   "metadata": {},
   "outputs": [
    {
     "name": "stderr",
     "output_type": "stream",
     "text": [
      "INFO:SELFCAL:########## Starting SELF CALIBRATION ##########\n"
     ]
    },
    {
     "name": "stderr",
     "output_type": "stream",
     "text": [
      "INFO:SELFCAL:# Creating directory /data/adebahr/apertif/tutorials/T1/00/selfcal #\n"
     ]
    },
    {
     "name": "stderr",
     "output_type": "stream",
     "text": [
      "INFO:SELFCAL:# Moved to directory /data/adebahr/apertif/tutorials/T1/00/selfcal #\n"
     ]
    },
    {
     "name": "stderr",
     "output_type": "stream",
     "text": [
      "INFO:SELFCAL:### Splitting of target data into individual frequency chunks started ###\n"
     ]
    },
    {
     "name": "stderr",
     "output_type": "stream",
     "text": [
      "INFO:SELFCAL:# Applying calibrator solutions to target data before averaging #\n"
     ]
    },
    {
     "name": "stderr",
     "output_type": "stream",
     "text": [
      "INFO:SELFCAL:# Calibrator solutions to target data applied #\n"
     ]
    },
    {
     "name": "stderr",
     "output_type": "stream",
     "text": [
      "INFO:SELFCAL:# Found 1 subband(s) in target data #\n"
     ]
    },
    {
     "name": "stderr",
     "output_type": "stream",
     "text": [
      "INFO:SELFCAL:# Started splitting of subband 0 #\n"
     ]
    },
    {
     "name": "stderr",
     "output_type": "stream",
     "text": [
      "INFO:SELFCAL:# Adjusting chunk size to 0.016796875 GHz for regular gridding of the data chunks over frequency #\n"
     ]
    },
    {
     "name": "stderr",
     "output_type": "stream",
     "text": [
      "INFO:SELFCAL:# Starting splitting of data chunk 0 for subband 0 #\n"
     ]
    },
    {
     "name": "stderr",
     "output_type": "stream",
     "text": [
      "INFO:SELFCAL:# Increasing frequency bin of data chunk 0 to keep bandwidth of chunks equal over the whole bandwidth #\n"
     ]
    },
    {
     "name": "stderr",
     "output_type": "stream",
     "text": [
      "INFO:SELFCAL:# New frequency bin is 0.0010498046875 GHz #\n"
     ]
    },
    {
     "name": "stderr",
     "output_type": "stream",
     "text": [
      "INFO:SELFCAL:# Creating directory /data/adebahr/apertif/tutorials/T1/00/selfcal/00 #\n"
     ]
    },
    {
     "name": "stderr",
     "output_type": "stream",
     "text": [
      "INFO:SELFCAL:# Splitting of data chunk 0 for subband 0 done #\n"
     ]
    },
    {
     "name": "stderr",
     "output_type": "stream",
     "text": [
      "INFO:SELFCAL:# Starting splitting of data chunk 1 for subband 0 #\n"
     ]
    },
    {
     "name": "stderr",
     "output_type": "stream",
     "text": [
      "INFO:SELFCAL:# Increasing frequency bin of data chunk 1 to keep bandwidth of chunks equal over the whole bandwidth #\n"
     ]
    },
    {
     "name": "stderr",
     "output_type": "stream",
     "text": [
      "INFO:SELFCAL:# New frequency bin is 0.0010498046875 GHz #\n"
     ]
    },
    {
     "name": "stderr",
     "output_type": "stream",
     "text": [
      "INFO:SELFCAL:# Creating directory /data/adebahr/apertif/tutorials/T1/00/selfcal/01 #\n"
     ]
    },
    {
     "name": "stderr",
     "output_type": "stream",
     "text": [
      "INFO:SELFCAL:# Splitting of data chunk 1 for subband 0 done #\n"
     ]
    },
    {
     "name": "stderr",
     "output_type": "stream",
     "text": [
      "INFO:SELFCAL:# Starting splitting of data chunk 2 for subband 0 #\n"
     ]
    },
    {
     "name": "stderr",
     "output_type": "stream",
     "text": [
      "INFO:SELFCAL:# Increasing frequency bin of data chunk 2 to keep bandwidth of chunks equal over the whole bandwidth #\n"
     ]
    },
    {
     "name": "stderr",
     "output_type": "stream",
     "text": [
      "INFO:SELFCAL:# New frequency bin is 0.0010498046875 GHz #\n"
     ]
    },
    {
     "name": "stderr",
     "output_type": "stream",
     "text": [
      "INFO:SELFCAL:# Creating directory /data/adebahr/apertif/tutorials/T1/00/selfcal/02 #\n"
     ]
    },
    {
     "name": "stderr",
     "output_type": "stream",
     "text": [
      "INFO:SELFCAL:# Splitting of data chunk 2 for subband 0 done #\n"
     ]
    },
    {
     "name": "stderr",
     "output_type": "stream",
     "text": [
      "INFO:SELFCAL:# Starting splitting of data chunk 3 for subband 0 #\n"
     ]
    },
    {
     "name": "stderr",
     "output_type": "stream",
     "text": [
      "INFO:SELFCAL:# Increasing frequency bin of data chunk 3 to keep bandwidth of chunks equal over the whole bandwidth #\n"
     ]
    },
    {
     "name": "stderr",
     "output_type": "stream",
     "text": [
      "INFO:SELFCAL:# New frequency bin is 0.0010498046875 GHz #\n"
     ]
    },
    {
     "name": "stderr",
     "output_type": "stream",
     "text": [
      "INFO:SELFCAL:# Creating directory /data/adebahr/apertif/tutorials/T1/00/selfcal/03 #\n"
     ]
    },
    {
     "name": "stderr",
     "output_type": "stream",
     "text": [
      "INFO:SELFCAL:# Splitting of data chunk 3 for subband 0 done #\n"
     ]
    },
    {
     "name": "stderr",
     "output_type": "stream",
     "text": [
      "INFO:SELFCAL:# Starting splitting of data chunk 4 for subband 0 #\n"
     ]
    },
    {
     "name": "stderr",
     "output_type": "stream",
     "text": [
      "INFO:SELFCAL:# Increasing frequency bin of data chunk 4 to keep bandwidth of chunks equal over the whole bandwidth #\n"
     ]
    },
    {
     "name": "stderr",
     "output_type": "stream",
     "text": [
      "INFO:SELFCAL:# New frequency bin is 0.0010498046875 GHz #\n"
     ]
    },
    {
     "name": "stderr",
     "output_type": "stream",
     "text": [
      "INFO:SELFCAL:# Creating directory /data/adebahr/apertif/tutorials/T1/00/selfcal/04 #\n"
     ]
    },
    {
     "name": "stderr",
     "output_type": "stream",
     "text": [
      "INFO:SELFCAL:# Splitting of data chunk 4 for subband 0 done #\n"
     ]
    },
    {
     "name": "stderr",
     "output_type": "stream",
     "text": [
      "INFO:SELFCAL:# Starting splitting of data chunk 5 for subband 0 #\n"
     ]
    },
    {
     "name": "stderr",
     "output_type": "stream",
     "text": [
      "INFO:SELFCAL:# Increasing frequency bin of data chunk 5 to keep bandwidth of chunks equal over the whole bandwidth #\n"
     ]
    },
    {
     "name": "stderr",
     "output_type": "stream",
     "text": [
      "INFO:SELFCAL:# New frequency bin is 0.0010498046875 GHz #\n"
     ]
    },
    {
     "name": "stderr",
     "output_type": "stream",
     "text": [
      "INFO:SELFCAL:# Creating directory /data/adebahr/apertif/tutorials/T1/00/selfcal/05 #\n"
     ]
    },
    {
     "name": "stderr",
     "output_type": "stream",
     "text": [
      "INFO:SELFCAL:# Splitting of data chunk 5 for subband 0 done #\n"
     ]
    },
    {
     "name": "stderr",
     "output_type": "stream",
     "text": [
      "INFO:SELFCAL:# Starting splitting of data chunk 6 for subband 0 #\n"
     ]
    },
    {
     "name": "stderr",
     "output_type": "stream",
     "text": [
      "INFO:SELFCAL:# Increasing frequency bin of data chunk 6 to keep bandwidth of chunks equal over the whole bandwidth #\n"
     ]
    },
    {
     "name": "stderr",
     "output_type": "stream",
     "text": [
      "INFO:SELFCAL:# New frequency bin is 0.0010498046875 GHz #\n"
     ]
    },
    {
     "name": "stderr",
     "output_type": "stream",
     "text": [
      "INFO:SELFCAL:# Creating directory /data/adebahr/apertif/tutorials/T1/00/selfcal/06 #\n"
     ]
    },
    {
     "name": "stderr",
     "output_type": "stream",
     "text": [
      "INFO:SELFCAL:# Splitting of data chunk 6 for subband 0 done #\n"
     ]
    },
    {
     "name": "stderr",
     "output_type": "stream",
     "text": [
      "INFO:SELFCAL:# Starting splitting of data chunk 7 for subband 0 #\n"
     ]
    },
    {
     "name": "stderr",
     "output_type": "stream",
     "text": [
      "INFO:SELFCAL:# Increasing frequency bin of data chunk 7 to keep bandwidth of chunks equal over the whole bandwidth #\n"
     ]
    },
    {
     "name": "stderr",
     "output_type": "stream",
     "text": [
      "INFO:SELFCAL:# New frequency bin is 0.0010498046875 GHz #\n"
     ]
    },
    {
     "name": "stderr",
     "output_type": "stream",
     "text": [
      "INFO:SELFCAL:# Creating directory /data/adebahr/apertif/tutorials/T1/00/selfcal/07 #\n"
     ]
    },
    {
     "name": "stderr",
     "output_type": "stream",
     "text": [
      "INFO:SELFCAL:# Splitting of data chunk 7 for subband 0 done #\n"
     ]
    },
    {
     "name": "stderr",
     "output_type": "stream",
     "text": [
      "INFO:SELFCAL:# Splitting of data for subband 0 done #\n"
     ]
    },
    {
     "name": "stderr",
     "output_type": "stream",
     "text": [
      "INFO:SELFCAL:### Splitting of target data into individual frequency chunks done ###\n"
     ]
    },
    {
     "name": "stderr",
     "output_type": "stream",
     "text": [
      "INFO:SELFCAL:### Automatic flagging of HI-line/RFI started ###\n"
     ]
    },
    {
     "name": "stderr",
     "output_type": "stream",
     "text": [
      "INFO:SELFCAL:# Moved to directory /data/adebahr/apertif/tutorials/T1/00/selfcal/00 #\n"
     ]
    },
    {
     "name": "stderr",
     "output_type": "stream",
     "text": [
      "INFO:SELFCAL:# Looking through data chunk 00 #\n"
     ]
    },
    {
     "name": "stderr",
     "output_type": "stream",
     "text": [
      "INFO:SELFCAL:# Found high noise in channel(s) 13 #\n"
     ]
    },
    {
     "name": "stderr",
     "output_type": "stream",
     "text": [
      "INFO:SELFCAL:# Flagged channel(s) 13 in data chunk 00 #\n"
     ]
    },
    {
     "name": "stderr",
     "output_type": "stream",
     "text": [
      "INFO:SELFCAL:# Moved to directory /data/adebahr/apertif/tutorials/T1/00/selfcal/01 #\n"
     ]
    },
    {
     "name": "stderr",
     "output_type": "stream",
     "text": [
      "INFO:SELFCAL:# Looking through data chunk 01 #\n"
     ]
    },
    {
     "name": "stderr",
     "output_type": "stream",
     "text": [
      "INFO:SELFCAL:# Found high noise in channel(s) 0 8 #\n"
     ]
    },
    {
     "name": "stderr",
     "output_type": "stream",
     "text": [
      "INFO:SELFCAL:# Flagged channel(s) 0 8 in data chunk 01 #\n"
     ]
    },
    {
     "name": "stderr",
     "output_type": "stream",
     "text": [
      "INFO:SELFCAL:# Moved to directory /data/adebahr/apertif/tutorials/T1/00/selfcal/02 #\n"
     ]
    },
    {
     "name": "stderr",
     "output_type": "stream",
     "text": [
      "INFO:SELFCAL:# Looking through data chunk 02 #\n"
     ]
    },
    {
     "name": "stderr",
     "output_type": "stream",
     "text": [
      "INFO:SELFCAL:# Found high noise in channel(s) 11 #\n"
     ]
    },
    {
     "name": "stderr",
     "output_type": "stream",
     "text": [
      "INFO:SELFCAL:# Flagged channel(s) 11 in data chunk 02 #\n"
     ]
    },
    {
     "name": "stderr",
     "output_type": "stream",
     "text": [
      "INFO:SELFCAL:# Moved to directory /data/adebahr/apertif/tutorials/T1/00/selfcal/03 #\n"
     ]
    },
    {
     "name": "stderr",
     "output_type": "stream",
     "text": [
      "INFO:SELFCAL:# Looking through data chunk 03 #\n"
     ]
    },
    {
     "name": "stderr",
     "output_type": "stream",
     "text": [
      "INFO:SELFCAL:# Found high noise in channel(s) 1 #\n"
     ]
    },
    {
     "name": "stderr",
     "output_type": "stream",
     "text": [
      "INFO:SELFCAL:# Flagged channel(s) 1 in data chunk 03 #\n"
     ]
    },
    {
     "name": "stderr",
     "output_type": "stream",
     "text": [
      "INFO:SELFCAL:# Moved to directory /data/adebahr/apertif/tutorials/T1/00/selfcal/04 #\n"
     ]
    },
    {
     "name": "stderr",
     "output_type": "stream",
     "text": [
      "INFO:SELFCAL:# Looking through data chunk 04 #\n"
     ]
    },
    {
     "name": "stderr",
     "output_type": "stream",
     "text": [
      "INFO:SELFCAL:# Found high noise in channel(s) 13 #\n"
     ]
    },
    {
     "name": "stderr",
     "output_type": "stream",
     "text": [
      "INFO:SELFCAL:# Flagged channel(s) 13 in data chunk 04 #\n"
     ]
    },
    {
     "name": "stderr",
     "output_type": "stream",
     "text": [
      "INFO:SELFCAL:# Moved to directory /data/adebahr/apertif/tutorials/T1/00/selfcal/05 #\n"
     ]
    },
    {
     "name": "stderr",
     "output_type": "stream",
     "text": [
      "INFO:SELFCAL:# Looking through data chunk 05 #\n"
     ]
    },
    {
     "name": "stderr",
     "output_type": "stream",
     "text": [
      "INFO:SELFCAL:# Found high noise in channel(s) 1 #\n"
     ]
    },
    {
     "name": "stderr",
     "output_type": "stream",
     "text": [
      "INFO:SELFCAL:# Flagged channel(s) 1 in data chunk 05 #\n"
     ]
    },
    {
     "name": "stderr",
     "output_type": "stream",
     "text": [
      "INFO:SELFCAL:# Moved to directory /data/adebahr/apertif/tutorials/T1/00/selfcal/06 #\n"
     ]
    },
    {
     "name": "stderr",
     "output_type": "stream",
     "text": [
      "INFO:SELFCAL:# Looking through data chunk 06 #\n"
     ]
    },
    {
     "name": "stderr",
     "output_type": "stream",
     "text": [
      "INFO:SELFCAL:# Found high noise in channel(s) 0 #\n"
     ]
    },
    {
     "name": "stderr",
     "output_type": "stream",
     "text": [
      "INFO:SELFCAL:# Flagged channel(s) 0 in data chunk 06 #\n"
     ]
    },
    {
     "name": "stderr",
     "output_type": "stream",
     "text": [
      "INFO:SELFCAL:# Moved to directory /data/adebahr/apertif/tutorials/T1/00/selfcal/07 #\n"
     ]
    },
    {
     "name": "stderr",
     "output_type": "stream",
     "text": [
      "INFO:SELFCAL:# Looking through data chunk 07 #\n"
     ]
    },
    {
     "name": "stderr",
     "output_type": "stream",
     "text": [
      "INFO:SELFCAL:# Found high noise in channel(s) 1 #\n"
     ]
    },
    {
     "name": "stderr",
     "output_type": "stream",
     "text": [
      "INFO:SELFCAL:# Flagged channel(s) 1 in data chunk 07 #\n"
     ]
    },
    {
     "name": "stderr",
     "output_type": "stream",
     "text": [
      "INFO:SELFCAL:### Automatic flagging of HI-line/RFI done ###\n"
     ]
    },
    {
     "name": "stderr",
     "output_type": "stream",
     "text": [
      "INFO:SELFCAL:### Parametric self calibration disabled ###\n"
     ]
    },
    {
     "name": "stderr",
     "output_type": "stream",
     "text": [
      "INFO:SELFCAL:### Starting standard self calibration routine ###\n"
     ]
    },
    {
     "name": "stderr",
     "output_type": "stream",
     "text": [
      "INFO:SELFCAL:# Moved to directory /data/adebahr/apertif/tutorials/T1/00/selfcal #\n"
     ]
    },
    {
     "name": "stderr",
     "output_type": "stream",
     "text": [
      "INFO:SELFCAL:# Starting standard self-calibration routine on frequency chunk 00 #\n"
     ]
    },
    {
     "name": "stderr",
     "output_type": "stream",
     "text": [
      "INFO:SELFCAL:# Moved to directory /data/adebahr/apertif/tutorials/T1/00/selfcal/00 #\n"
     ]
    },
    {
     "name": "stderr",
     "output_type": "stream",
     "text": [
      "INFO:SELFCAL:# Theoretical noise for chunk 00 is 6.85e-05 Jy/beam #\n"
     ]
    },
    {
     "name": "stderr",
     "output_type": "stream",
     "text": [
      "INFO:SELFCAL:# Your theoretical noise threshold will be 50 times the theoretical noise corresponding to 0.003425 Jy/beam #\n"
     ]
    },
    {
     "name": "stderr",
     "output_type": "stream",
     "text": [
      "INFO:SELFCAL:# Your dynamic range limits are set to [25.0, 50.0, 100.0] for the major self-calibration cycles #\n"
     ]
    },
    {
     "name": "stderr",
     "output_type": "stream",
     "text": [
      "INFO:SELFCAL:# Major self-calibration cycle 0 for frequency chunk 00 started #\n"
     ]
    },
    {
     "name": "stderr",
     "output_type": "stream",
     "text": [
      "INFO:SELFCAL:# Creating directory /data/adebahr/apertif/tutorials/T1/00/selfcal/00/00 #\n"
     ]
    },
    {
     "name": "stderr",
     "output_type": "stream",
     "text": [
      "INFO:SELFCAL:# The minor cycle dynamic range limits for major cycle 0 are [3.0, 1.5625, 6.25, 14.0625, 25.0] #\n"
     ]
    },
    {
     "name": "stderr",
     "output_type": "stream",
     "text": [
      "INFO:SELFCAL:# Minor self-calibration cycle 0 for frequency chunk 00 started #\n"
     ]
    },
    {
     "name": "stderr",
     "output_type": "stream",
     "text": [
      "INFO:SELFCAL:# Mask threshold for major/minor cycle 0/0 set to 0.0209248463313 Jy/beam #\n"
     ]
    },
    {
     "name": "stderr",
     "output_type": "stream",
     "text": [
      "INFO:SELFCAL:# Mask threshold set by Dynamic range threshold #\n"
     ]
    },
    {
     "name": "stderr",
     "output_type": "stream",
     "text": [
      "INFO:SELFCAL:# Mask with threshold 0.0209248463313 Jy/beam created #\n"
     ]
    },
    {
     "name": "stderr",
     "output_type": "stream",
     "text": [
      "INFO:SELFCAL:# Clean threshold at major/minor cycle 0/0 was set to 0.00418496926626 Jy/beam #\n"
     ]
    },
    {
     "name": "stderr",
     "output_type": "stream",
     "text": [
      "INFO:SELFCAL:# Major/minor cycle 0/0 cleaning done #\n"
     ]
    },
    {
     "name": "stderr",
     "output_type": "stream",
     "text": [
      "INFO:SELFCAL:# Cleaned image for major/minor cycle 0/0 created #\n"
     ]
    },
    {
     "name": "stderr",
     "output_type": "stream",
     "text": [
      "INFO:SELFCAL:# Residual image for major/minor cycle 0/0 created #\n"
     ]
    },
    {
     "name": "stderr",
     "output_type": "stream",
     "text": [
      "INFO:SELFCAL:# Peak of the residual image is 0.0197577 Jy/beam #\n"
     ]
    },
    {
     "name": "stderr",
     "output_type": "stream",
     "text": [
      "INFO:SELFCAL:# RMS of the residual image is 0.00112943 Jy/beam #\n"
     ]
    },
    {
     "name": "stderr",
     "output_type": "stream",
     "text": [
      "INFO:SELFCAL:# Minor self-calibration cycle 0 for frequency chunk 00 finished #\n"
     ]
    },
    {
     "name": "stderr",
     "output_type": "stream",
     "text": [
      "INFO:SELFCAL:# Minor self-calibration cycle 1 for frequency chunk 00 started #\n"
     ]
    },
    {
     "name": "stderr",
     "output_type": "stream",
     "text": [
      "INFO:SELFCAL:# Mask threshold for major/minor cycle 0/1 set to 0.0401757049561 Jy/beam #\n"
     ]
    },
    {
     "name": "stderr",
     "output_type": "stream",
     "text": [
      "INFO:SELFCAL:# Mask threshold set by Dynamic range threshold #\n"
     ]
    },
    {
     "name": "stderr",
     "output_type": "stream",
     "text": [
      "INFO:SELFCAL:# Mask with threshold 0.0401757049561 Jy/beam created #\n"
     ]
    },
    {
     "name": "stderr",
     "output_type": "stream",
     "text": [
      "INFO:SELFCAL:# Clean threshold at major/minor cycle 0/1 was set to 0.00803514099121 Jy/beam #\n"
     ]
    },
    {
     "name": "stderr",
     "output_type": "stream",
     "text": [
      "INFO:SELFCAL:# Major/minor cycle 0/1 cleaning done #\n"
     ]
    },
    {
     "name": "stderr",
     "output_type": "stream",
     "text": [
      "INFO:SELFCAL:# Cleaned image for major/minor cycle 0/1 created #\n"
     ]
    },
    {
     "name": "stderr",
     "output_type": "stream",
     "text": [
      "INFO:SELFCAL:# Residual image for major/minor cycle 0/1 created #\n"
     ]
    },
    {
     "name": "stderr",
     "output_type": "stream",
     "text": [
      "INFO:SELFCAL:# Peak of the residual image is 0.0205109 Jy/beam #\n"
     ]
    },
    {
     "name": "stderr",
     "output_type": "stream",
     "text": [
      "INFO:SELFCAL:# RMS of the residual image is 0.00118795 Jy/beam #\n"
     ]
    },
    {
     "name": "stderr",
     "output_type": "stream",
     "text": [
      "INFO:SELFCAL:# Minor self-calibration cycle 1 for frequency chunk 00 finished #\n"
     ]
    },
    {
     "name": "stderr",
     "output_type": "stream",
     "text": [
      "INFO:SELFCAL:# Minor self-calibration cycle 2 for frequency chunk 00 started #\n"
     ]
    },
    {
     "name": "stderr",
     "output_type": "stream",
     "text": [
      "INFO:SELFCAL:# Mask threshold for major/minor cycle 0/2 set to 0.010043926239 Jy/beam #\n"
     ]
    },
    {
     "name": "stderr",
     "output_type": "stream",
     "text": [
      "INFO:SELFCAL:# Mask threshold set by Dynamic range threshold #\n"
     ]
    },
    {
     "name": "stderr",
     "output_type": "stream",
     "text": [
      "INFO:SELFCAL:# Mask with threshold 0.010043926239 Jy/beam created #\n"
     ]
    },
    {
     "name": "stderr",
     "output_type": "stream",
     "text": [
      "INFO:SELFCAL:# Clean threshold at major/minor cycle 0/2 was set to 0.0020087852478 Jy/beam #\n"
     ]
    },
    {
     "name": "stderr",
     "output_type": "stream",
     "text": [
      "INFO:SELFCAL:# Major/minor cycle 0/2 cleaning done #\n"
     ]
    },
    {
     "name": "stderr",
     "output_type": "stream",
     "text": [
      "INFO:SELFCAL:# Cleaned image for major/minor cycle 0/2 created #\n"
     ]
    },
    {
     "name": "stderr",
     "output_type": "stream",
     "text": [
      "INFO:SELFCAL:# Residual image for major/minor cycle 0/2 created #\n"
     ]
    },
    {
     "name": "stderr",
     "output_type": "stream",
     "text": [
      "INFO:SELFCAL:# Peak of the residual image is 0.010904 Jy/beam #\n"
     ]
    },
    {
     "name": "stderr",
     "output_type": "stream",
     "text": [
      "INFO:SELFCAL:# RMS of the residual image is 0.000972267 Jy/beam #\n"
     ]
    },
    {
     "name": "stderr",
     "output_type": "stream",
     "text": [
      "INFO:SELFCAL:# Minor self-calibration cycle 2 for frequency chunk 00 finished #\n"
     ]
    },
    {
     "name": "stderr",
     "output_type": "stream",
     "text": [
      "INFO:SELFCAL:# Minor self-calibration cycle 3 for frequency chunk 00 started #\n"
     ]
    },
    {
     "name": "stderr",
     "output_type": "stream",
     "text": [
      "INFO:SELFCAL:# Mask threshold for major/minor cycle 0/3 set to 0.00446396721734 Jy/beam #\n"
     ]
    },
    {
     "name": "stderr",
     "output_type": "stream",
     "text": [
      "INFO:SELFCAL:# Mask threshold set by Dynamic range threshold #\n"
     ]
    },
    {
     "name": "stderr",
     "output_type": "stream",
     "text": [
      "INFO:SELFCAL:# Mask with threshold 0.00446396721734 Jy/beam created #\n"
     ]
    },
    {
     "name": "stderr",
     "output_type": "stream",
     "text": [
      "INFO:SELFCAL:# Clean threshold at major/minor cycle 0/3 was set to 0.000892793443468 Jy/beam #\n"
     ]
    },
    {
     "name": "stderr",
     "output_type": "stream",
     "text": [
      "INFO:SELFCAL:# Major/minor cycle 0/3 cleaning done #\n"
     ]
    },
    {
     "name": "stderr",
     "output_type": "stream",
     "text": [
      "INFO:SELFCAL:# Cleaned image for major/minor cycle 0/3 created #\n"
     ]
    },
    {
     "name": "stderr",
     "output_type": "stream",
     "text": [
      "INFO:SELFCAL:# Residual image for major/minor cycle 0/3 created #\n"
     ]
    },
    {
     "name": "stderr",
     "output_type": "stream",
     "text": [
      "INFO:SELFCAL:# Peak of the residual image is 0.00410515 Jy/beam #\n"
     ]
    },
    {
     "name": "stderr",
     "output_type": "stream",
     "text": [
      "INFO:SELFCAL:# RMS of the residual image is 0.000826019 Jy/beam #\n"
     ]
    },
    {
     "name": "stderr",
     "output_type": "stream",
     "text": [
      "INFO:SELFCAL:# Minor self-calibration cycle 3 for frequency chunk 00 finished #\n"
     ]
    },
    {
     "name": "stderr",
     "output_type": "stream",
     "text": [
      "INFO:SELFCAL:# Minor self-calibration cycle 4 for frequency chunk 00 started #\n"
     ]
    },
    {
     "name": "stderr",
     "output_type": "stream",
     "text": [
      "INFO:SELFCAL:# Mask threshold for major/minor cycle 0/4 set to 0.003425 Jy/beam #\n"
     ]
    },
    {
     "name": "stderr",
     "output_type": "stream",
     "text": [
      "INFO:SELFCAL:# Mask threshold set by Theoretical noise threshold #\n"
     ]
    },
    {
     "name": "stderr",
     "output_type": "stream",
     "text": [
      "INFO:SELFCAL:# Mask with threshold 0.003425 Jy/beam created #\n"
     ]
    },
    {
     "name": "stderr",
     "output_type": "stream",
     "text": [
      "INFO:SELFCAL:# Clean threshold at major/minor cycle 0/4 was set to 0.000685 Jy/beam #\n"
     ]
    },
    {
     "name": "stderr",
     "output_type": "stream",
     "text": [
      "INFO:SELFCAL:# Major/minor cycle 0/4 cleaning done #\n"
     ]
    },
    {
     "name": "stderr",
     "output_type": "stream",
     "text": [
      "INFO:SELFCAL:# Cleaned image for major/minor cycle 0/4 created #\n"
     ]
    },
    {
     "name": "stderr",
     "output_type": "stream",
     "text": [
      "INFO:SELFCAL:# Residual image for major/minor cycle 0/4 created #\n"
     ]
    },
    {
     "name": "stderr",
     "output_type": "stream",
     "text": [
      "INFO:SELFCAL:# Peak of the residual image is 0.00381905 Jy/beam #\n"
     ]
    },
    {
     "name": "stderr",
     "output_type": "stream",
     "text": [
      "INFO:SELFCAL:# RMS of the residual image is 0.000797132 Jy/beam #\n"
     ]
    },
    {
     "name": "stderr",
     "output_type": "stream",
     "text": [
      "INFO:SELFCAL:# Minor self-calibration cycle 4 for frequency chunk 00 finished #\n"
     ]
    },
    {
     "name": "stderr",
     "output_type": "stream",
     "text": [
      "INFO:SELFCAL:# Doing self-calibration with uvmin=0.0, uvmax=3000, solution interval=5 minutes for major cycle 00 #\n"
     ]
    },
    {
     "name": "stderr",
     "output_type": "stream",
     "text": [
      "INFO:SELFCAL:# Major self-calibration cycle 0 for frequency chunk 00 finished #\n"
     ]
    },
    {
     "name": "stderr",
     "output_type": "stream",
     "text": [
      "INFO:SELFCAL:# Major self-calibration cycle 1 for frequency chunk 00 started #\n"
     ]
    },
    {
     "name": "stderr",
     "output_type": "stream",
     "text": [
      "INFO:SELFCAL:# Creating directory /data/adebahr/apertif/tutorials/T1/00/selfcal/00/01 #\n"
     ]
    },
    {
     "name": "stderr",
     "output_type": "stream",
     "text": [
      "INFO:SELFCAL:# The minor cycle dynamic range limits for major cycle 1 are [25.0, 26.5625, 31.25, 39.0625, 50.0] #\n"
     ]
    },
    {
     "name": "stderr",
     "output_type": "stream",
     "text": [
      "INFO:SELFCAL:# Minor self-calibration cycle 0 for frequency chunk 00 started #\n"
     ]
    },
    {
     "name": "stderr",
     "output_type": "stream",
     "text": [
      "INFO:SELFCAL:# Mask threshold for major/minor cycle 1/0 set to 0.003425 Jy/beam #\n"
     ]
    },
    {
     "name": "stderr",
     "output_type": "stream",
     "text": [
      "INFO:SELFCAL:# Mask threshold set by Theoretical noise threshold #\n"
     ]
    },
    {
     "name": "stderr",
     "output_type": "stream",
     "text": [
      "INFO:SELFCAL:# Mask from last minor iteration of last major cycle copied #\n"
     ]
    },
    {
     "name": "stderr",
     "output_type": "stream",
     "text": [
      "INFO:SELFCAL:# Clean threshold at major/minor cycle 1/0 was set to 0.000685 Jy/beam #\n"
     ]
    },
    {
     "name": "stderr",
     "output_type": "stream",
     "text": [
      "INFO:SELFCAL:# Major/minor cycle 1/0 cleaning done #\n"
     ]
    },
    {
     "name": "stderr",
     "output_type": "stream",
     "text": [
      "INFO:SELFCAL:# Cleaned image for major/minor cycle 1/0 created #\n"
     ]
    },
    {
     "name": "stderr",
     "output_type": "stream",
     "text": [
      "INFO:SELFCAL:# Residual image for major/minor cycle 1/0 created #\n"
     ]
    },
    {
     "name": "stderr",
     "output_type": "stream",
     "text": [
      "INFO:SELFCAL:# Peak of the residual image is 0.00417739 Jy/beam #\n"
     ]
    },
    {
     "name": "stderr",
     "output_type": "stream",
     "text": [
      "INFO:SELFCAL:# RMS of the residual image is 0.00075418 Jy/beam #\n"
     ]
    },
    {
     "name": "stderr",
     "output_type": "stream",
     "text": [
      "INFO:SELFCAL:# Minor self-calibration cycle 0 for frequency chunk 00 finished #\n"
     ]
    },
    {
     "name": "stderr",
     "output_type": "stream",
     "text": [
      "INFO:SELFCAL:# Minor self-calibration cycle 1 for frequency chunk 00 started #\n"
     ]
    },
    {
     "name": "stderr",
     "output_type": "stream",
     "text": [
      "INFO:SELFCAL:# Mask threshold for major/minor cycle 1/1 set to 0.003425 Jy/beam #\n"
     ]
    },
    {
     "name": "stderr",
     "output_type": "stream",
     "text": [
      "INFO:SELFCAL:# Mask threshold set by Theoretical noise threshold #\n"
     ]
    },
    {
     "name": "stderr",
     "output_type": "stream",
     "text": [
      "INFO:SELFCAL:# Mask with threshold 0.003425 Jy/beam created #\n"
     ]
    },
    {
     "name": "stderr",
     "output_type": "stream",
     "text": [
      "INFO:SELFCAL:# Clean threshold at major/minor cycle 1/1 was set to 0.000685 Jy/beam #\n"
     ]
    },
    {
     "name": "stderr",
     "output_type": "stream",
     "text": [
      "INFO:SELFCAL:# Major/minor cycle 1/1 cleaning done #\n"
     ]
    },
    {
     "name": "stderr",
     "output_type": "stream",
     "text": [
      "INFO:SELFCAL:# Cleaned image for major/minor cycle 1/1 created #\n"
     ]
    },
    {
     "name": "stderr",
     "output_type": "stream",
     "text": [
      "INFO:SELFCAL:# Residual image for major/minor cycle 1/1 created #\n"
     ]
    },
    {
     "name": "stderr",
     "output_type": "stream",
     "text": [
      "INFO:SELFCAL:# Peak of the residual image is 0.00363477 Jy/beam #\n"
     ]
    },
    {
     "name": "stderr",
     "output_type": "stream",
     "text": [
      "INFO:SELFCAL:# RMS of the residual image is 0.000767242 Jy/beam #\n"
     ]
    },
    {
     "name": "stderr",
     "output_type": "stream",
     "text": [
      "INFO:SELFCAL:# Minor self-calibration cycle 1 for frequency chunk 00 finished #\n"
     ]
    },
    {
     "name": "stderr",
     "output_type": "stream",
     "text": [
      "INFO:SELFCAL:# Minor self-calibration cycle 2 for frequency chunk 00 started #\n"
     ]
    },
    {
     "name": "stderr",
     "output_type": "stream",
     "text": [
      "INFO:SELFCAL:# Mask threshold for major/minor cycle 1/2 set to 0.003425 Jy/beam #\n"
     ]
    },
    {
     "name": "stderr",
     "output_type": "stream",
     "text": [
      "INFO:SELFCAL:# Mask threshold set by Theoretical noise threshold #\n"
     ]
    },
    {
     "name": "stderr",
     "output_type": "stream",
     "text": [
      "INFO:SELFCAL:# Mask with threshold 0.003425 Jy/beam created #\n"
     ]
    },
    {
     "name": "stderr",
     "output_type": "stream",
     "text": [
      "INFO:SELFCAL:# Clean threshold at major/minor cycle 1/2 was set to 0.000685 Jy/beam #\n"
     ]
    },
    {
     "name": "stderr",
     "output_type": "stream",
     "text": [
      "INFO:SELFCAL:# Major/minor cycle 1/2 cleaning done #\n"
     ]
    },
    {
     "name": "stderr",
     "output_type": "stream",
     "text": [
      "INFO:SELFCAL:# Cleaned image for major/minor cycle 1/2 created #\n"
     ]
    },
    {
     "name": "stderr",
     "output_type": "stream",
     "text": [
      "INFO:SELFCAL:# Residual image for major/minor cycle 1/2 created #\n"
     ]
    },
    {
     "name": "stderr",
     "output_type": "stream",
     "text": [
      "INFO:SELFCAL:# Peak of the residual image is 0.0035874 Jy/beam #\n"
     ]
    },
    {
     "name": "stderr",
     "output_type": "stream",
     "text": [
      "INFO:SELFCAL:# RMS of the residual image is 0.000756999 Jy/beam #\n"
     ]
    },
    {
     "name": "stderr",
     "output_type": "stream",
     "text": [
      "INFO:SELFCAL:# Minor self-calibration cycle 2 for frequency chunk 00 finished #\n"
     ]
    },
    {
     "name": "stderr",
     "output_type": "stream",
     "text": [
      "INFO:SELFCAL:# Minor self-calibration cycle 3 for frequency chunk 00 started #\n"
     ]
    },
    {
     "name": "stderr",
     "output_type": "stream",
     "text": [
      "INFO:SELFCAL:# Mask threshold for major/minor cycle 1/3 set to 0.003425 Jy/beam #\n"
     ]
    },
    {
     "name": "stderr",
     "output_type": "stream",
     "text": [
      "INFO:SELFCAL:# Mask threshold set by Theoretical noise threshold #\n"
     ]
    },
    {
     "name": "stderr",
     "output_type": "stream",
     "text": [
      "INFO:SELFCAL:# Mask with threshold 0.003425 Jy/beam created #\n"
     ]
    },
    {
     "name": "stderr",
     "output_type": "stream",
     "text": [
      "INFO:SELFCAL:# Clean threshold at major/minor cycle 1/3 was set to 0.000685 Jy/beam #\n"
     ]
    },
    {
     "name": "stderr",
     "output_type": "stream",
     "text": [
      "INFO:SELFCAL:# Major/minor cycle 1/3 cleaning done #\n"
     ]
    },
    {
     "name": "stderr",
     "output_type": "stream",
     "text": [
      "INFO:SELFCAL:# Cleaned image for major/minor cycle 1/3 created #\n"
     ]
    },
    {
     "name": "stderr",
     "output_type": "stream",
     "text": [
      "INFO:SELFCAL:# Residual image for major/minor cycle 1/3 created #\n"
     ]
    },
    {
     "name": "stderr",
     "output_type": "stream",
     "text": [
      "INFO:SELFCAL:# Peak of the residual image is 0.00353786 Jy/beam #\n"
     ]
    },
    {
     "name": "stderr",
     "output_type": "stream",
     "text": [
      "INFO:SELFCAL:# RMS of the residual image is 0.000757086 Jy/beam #\n"
     ]
    },
    {
     "name": "stderr",
     "output_type": "stream",
     "text": [
      "INFO:SELFCAL:# Minor self-calibration cycle 3 for frequency chunk 00 finished #\n"
     ]
    },
    {
     "name": "stderr",
     "output_type": "stream",
     "text": [
      "INFO:SELFCAL:# Minor self-calibration cycle 4 for frequency chunk 00 started #\n"
     ]
    },
    {
     "name": "stderr",
     "output_type": "stream",
     "text": [
      "INFO:SELFCAL:# Mask threshold for major/minor cycle 1/4 set to 0.003425 Jy/beam #\n"
     ]
    },
    {
     "name": "stderr",
     "output_type": "stream",
     "text": [
      "INFO:SELFCAL:# Mask threshold set by Theoretical noise threshold #\n"
     ]
    },
    {
     "name": "stderr",
     "output_type": "stream",
     "text": [
      "INFO:SELFCAL:# Mask with threshold 0.003425 Jy/beam created #\n"
     ]
    },
    {
     "name": "stderr",
     "output_type": "stream",
     "text": [
      "INFO:SELFCAL:# Clean threshold at major/minor cycle 1/4 was set to 0.000685 Jy/beam #\n"
     ]
    },
    {
     "name": "stderr",
     "output_type": "stream",
     "text": [
      "INFO:SELFCAL:# Major/minor cycle 1/4 cleaning done #\n"
     ]
    },
    {
     "name": "stderr",
     "output_type": "stream",
     "text": [
      "INFO:SELFCAL:# Cleaned image for major/minor cycle 1/4 created #\n"
     ]
    },
    {
     "name": "stderr",
     "output_type": "stream",
     "text": [
      "INFO:SELFCAL:# Residual image for major/minor cycle 1/4 created #\n"
     ]
    },
    {
     "name": "stderr",
     "output_type": "stream",
     "text": [
      "INFO:SELFCAL:# Peak of the residual image is 0.00338326 Jy/beam #\n"
     ]
    },
    {
     "name": "stderr",
     "output_type": "stream",
     "text": [
      "INFO:SELFCAL:# RMS of the residual image is 0.000757882 Jy/beam #\n"
     ]
    },
    {
     "name": "stderr",
     "output_type": "stream",
     "text": [
      "INFO:SELFCAL:# Minor self-calibration cycle 4 for frequency chunk 00 finished #\n"
     ]
    },
    {
     "name": "stderr",
     "output_type": "stream",
     "text": [
      "INFO:SELFCAL:# Doing self-calibration with uvmin=0.0, uvmax=3000, solution interval=3 minutes for major cycle 01 #\n"
     ]
    },
    {
     "name": "stderr",
     "output_type": "stream",
     "text": [
      "INFO:SELFCAL:# Major self-calibration cycle 1 for frequency chunk 00 finished #\n"
     ]
    },
    {
     "name": "stderr",
     "output_type": "stream",
     "text": [
      "INFO:SELFCAL:# Major self-calibration cycle 2 for frequency chunk 00 started #\n"
     ]
    },
    {
     "name": "stderr",
     "output_type": "stream",
     "text": [
      "INFO:SELFCAL:# Creating directory /data/adebahr/apertif/tutorials/T1/00/selfcal/00/02 #\n"
     ]
    },
    {
     "name": "stderr",
     "output_type": "stream",
     "text": [
      "INFO:SELFCAL:# The minor cycle dynamic range limits for major cycle 2 are [50.0, 53.125, 62.5, 78.125, 100.0] #\n"
     ]
    },
    {
     "name": "stderr",
     "output_type": "stream",
     "text": [
      "INFO:SELFCAL:# Minor self-calibration cycle 0 for frequency chunk 00 started #\n"
     ]
    },
    {
     "name": "stderr",
     "output_type": "stream",
     "text": [
      "INFO:SELFCAL:# Mask threshold for major/minor cycle 2/0 set to 0.003425 Jy/beam #\n"
     ]
    },
    {
     "name": "stderr",
     "output_type": "stream",
     "text": [
      "INFO:SELFCAL:# Mask threshold set by Theoretical noise threshold #\n"
     ]
    },
    {
     "name": "stderr",
     "output_type": "stream",
     "text": [
      "INFO:SELFCAL:# Mask from last minor iteration of last major cycle copied #\n"
     ]
    },
    {
     "name": "stderr",
     "output_type": "stream",
     "text": [
      "INFO:SELFCAL:# Clean threshold at major/minor cycle 2/0 was set to 0.000685 Jy/beam #\n"
     ]
    },
    {
     "name": "stderr",
     "output_type": "stream",
     "text": [
      "INFO:SELFCAL:# Major/minor cycle 2/0 cleaning done #\n"
     ]
    },
    {
     "name": "stderr",
     "output_type": "stream",
     "text": [
      "INFO:SELFCAL:# Cleaned image for major/minor cycle 2/0 created #\n"
     ]
    },
    {
     "name": "stderr",
     "output_type": "stream",
     "text": [
      "INFO:SELFCAL:# Residual image for major/minor cycle 2/0 created #\n"
     ]
    },
    {
     "name": "stderr",
     "output_type": "stream",
     "text": [
      "INFO:SELFCAL:# Peak of the residual image is 0.0033692 Jy/beam #\n"
     ]
    },
    {
     "name": "stderr",
     "output_type": "stream",
     "text": [
      "INFO:SELFCAL:# RMS of the residual image is 0.000742771 Jy/beam #\n"
     ]
    },
    {
     "name": "stderr",
     "output_type": "stream",
     "text": [
      "INFO:SELFCAL:# Minor self-calibration cycle 0 for frequency chunk 00 finished #\n"
     ]
    },
    {
     "name": "stderr",
     "output_type": "stream",
     "text": [
      "INFO:SELFCAL:# Minor self-calibration cycle 1 for frequency chunk 00 started #\n"
     ]
    },
    {
     "name": "stderr",
     "output_type": "stream",
     "text": [
      "INFO:SELFCAL:# Mask threshold for major/minor cycle 2/1 set to 0.003425 Jy/beam #\n"
     ]
    },
    {
     "name": "stderr",
     "output_type": "stream",
     "text": [
      "INFO:SELFCAL:# Mask threshold set by Theoretical noise threshold #\n"
     ]
    },
    {
     "name": "stderr",
     "output_type": "stream",
     "text": [
      "INFO:SELFCAL:# Mask with threshold 0.003425 Jy/beam created #\n"
     ]
    },
    {
     "name": "stderr",
     "output_type": "stream",
     "text": [
      "INFO:SELFCAL:# Clean threshold at major/minor cycle 2/1 was set to 0.000685 Jy/beam #\n"
     ]
    },
    {
     "name": "stderr",
     "output_type": "stream",
     "text": [
      "INFO:SELFCAL:# Major/minor cycle 2/1 cleaning done #\n"
     ]
    },
    {
     "name": "stderr",
     "output_type": "stream",
     "text": [
      "INFO:SELFCAL:# Cleaned image for major/minor cycle 2/1 created #\n"
     ]
    },
    {
     "name": "stderr",
     "output_type": "stream",
     "text": [
      "INFO:SELFCAL:# Residual image for major/minor cycle 2/1 created #\n"
     ]
    },
    {
     "name": "stderr",
     "output_type": "stream",
     "text": [
      "INFO:SELFCAL:# Peak of the residual image is 0.00346807 Jy/beam #\n"
     ]
    },
    {
     "name": "stderr",
     "output_type": "stream",
     "text": [
      "INFO:SELFCAL:# RMS of the residual image is 0.000744351 Jy/beam #\n"
     ]
    },
    {
     "name": "stderr",
     "output_type": "stream",
     "text": [
      "INFO:SELFCAL:# Minor self-calibration cycle 1 for frequency chunk 00 finished #\n"
     ]
    },
    {
     "name": "stderr",
     "output_type": "stream",
     "text": [
      "INFO:SELFCAL:# Minor self-calibration cycle 2 for frequency chunk 00 started #\n"
     ]
    },
    {
     "name": "stderr",
     "output_type": "stream",
     "text": [
      "INFO:SELFCAL:# Mask threshold for major/minor cycle 2/2 set to 0.003425 Jy/beam #\n"
     ]
    },
    {
     "name": "stderr",
     "output_type": "stream",
     "text": [
      "INFO:SELFCAL:# Mask threshold set by Theoretical noise threshold #\n"
     ]
    },
    {
     "name": "stderr",
     "output_type": "stream",
     "text": [
      "INFO:SELFCAL:# Mask with threshold 0.003425 Jy/beam created #\n"
     ]
    },
    {
     "name": "stderr",
     "output_type": "stream",
     "text": [
      "INFO:SELFCAL:# Clean threshold at major/minor cycle 2/2 was set to 0.000685 Jy/beam #\n"
     ]
    },
    {
     "name": "stderr",
     "output_type": "stream",
     "text": [
      "INFO:SELFCAL:# Major/minor cycle 2/2 cleaning done #\n"
     ]
    },
    {
     "name": "stderr",
     "output_type": "stream",
     "text": [
      "INFO:SELFCAL:# Cleaned image for major/minor cycle 2/2 created #\n"
     ]
    },
    {
     "name": "stderr",
     "output_type": "stream",
     "text": [
      "INFO:SELFCAL:# Residual image for major/minor cycle 2/2 created #\n"
     ]
    },
    {
     "name": "stderr",
     "output_type": "stream",
     "text": [
      "INFO:SELFCAL:# Peak of the residual image is 0.00333757 Jy/beam #\n"
     ]
    },
    {
     "name": "stderr",
     "output_type": "stream",
     "text": [
      "INFO:SELFCAL:# RMS of the residual image is 0.000742954 Jy/beam #\n"
     ]
    },
    {
     "name": "stderr",
     "output_type": "stream",
     "text": [
      "INFO:SELFCAL:# Minor self-calibration cycle 2 for frequency chunk 00 finished #\n"
     ]
    },
    {
     "name": "stderr",
     "output_type": "stream",
     "text": [
      "INFO:SELFCAL:# Minor self-calibration cycle 3 for frequency chunk 00 started #\n"
     ]
    },
    {
     "name": "stderr",
     "output_type": "stream",
     "text": [
      "INFO:SELFCAL:# Mask threshold for major/minor cycle 2/3 set to 0.003425 Jy/beam #\n"
     ]
    },
    {
     "name": "stderr",
     "output_type": "stream",
     "text": [
      "INFO:SELFCAL:# Mask threshold set by Theoretical noise threshold #\n"
     ]
    },
    {
     "name": "stderr",
     "output_type": "stream",
     "text": [
      "INFO:SELFCAL:# Mask with threshold 0.003425 Jy/beam created #\n"
     ]
    },
    {
     "name": "stderr",
     "output_type": "stream",
     "text": [
      "INFO:SELFCAL:# Clean threshold at major/minor cycle 2/3 was set to 0.000685 Jy/beam #\n"
     ]
    },
    {
     "name": "stderr",
     "output_type": "stream",
     "text": [
      "INFO:SELFCAL:# Major/minor cycle 2/3 cleaning done #\n"
     ]
    },
    {
     "name": "stderr",
     "output_type": "stream",
     "text": [
      "INFO:SELFCAL:# Cleaned image for major/minor cycle 2/3 created #\n"
     ]
    },
    {
     "name": "stderr",
     "output_type": "stream",
     "text": [
      "INFO:SELFCAL:# Residual image for major/minor cycle 2/3 created #\n"
     ]
    },
    {
     "name": "stderr",
     "output_type": "stream",
     "text": [
      "INFO:SELFCAL:# Peak of the residual image is 0.00335971 Jy/beam #\n"
     ]
    },
    {
     "name": "stderr",
     "output_type": "stream",
     "text": [
      "INFO:SELFCAL:# RMS of the residual image is 0.000742631 Jy/beam #\n"
     ]
    },
    {
     "name": "stderr",
     "output_type": "stream",
     "text": [
      "INFO:SELFCAL:# Minor self-calibration cycle 3 for frequency chunk 00 finished #\n"
     ]
    },
    {
     "name": "stderr",
     "output_type": "stream",
     "text": [
      "INFO:SELFCAL:# Minor self-calibration cycle 4 for frequency chunk 00 started #\n"
     ]
    },
    {
     "name": "stderr",
     "output_type": "stream",
     "text": [
      "INFO:SELFCAL:# Mask threshold for major/minor cycle 2/4 set to 0.003425 Jy/beam #\n"
     ]
    },
    {
     "name": "stderr",
     "output_type": "stream",
     "text": [
      "INFO:SELFCAL:# Mask threshold set by Theoretical noise threshold #\n"
     ]
    },
    {
     "name": "stderr",
     "output_type": "stream",
     "text": [
      "INFO:SELFCAL:# Mask with threshold 0.003425 Jy/beam created #\n"
     ]
    },
    {
     "name": "stderr",
     "output_type": "stream",
     "text": [
      "INFO:SELFCAL:# Clean threshold at major/minor cycle 2/4 was set to 0.000685 Jy/beam #\n"
     ]
    },
    {
     "name": "stderr",
     "output_type": "stream",
     "text": [
      "INFO:SELFCAL:# Major/minor cycle 2/4 cleaning done #\n"
     ]
    },
    {
     "name": "stderr",
     "output_type": "stream",
     "text": [
      "INFO:SELFCAL:# Cleaned image for major/minor cycle 2/4 created #\n"
     ]
    },
    {
     "name": "stderr",
     "output_type": "stream",
     "text": [
      "INFO:SELFCAL:# Residual image for major/minor cycle 2/4 created #\n"
     ]
    },
    {
     "name": "stderr",
     "output_type": "stream",
     "text": [
      "INFO:SELFCAL:# Peak of the residual image is 0.00335922 Jy/beam #\n"
     ]
    },
    {
     "name": "stderr",
     "output_type": "stream",
     "text": [
      "INFO:SELFCAL:# RMS of the residual image is 0.000742483 Jy/beam #\n"
     ]
    },
    {
     "name": "stderr",
     "output_type": "stream",
     "text": [
      "INFO:SELFCAL:# Minor self-calibration cycle 4 for frequency chunk 00 finished #\n"
     ]
    },
    {
     "name": "stderr",
     "output_type": "stream",
     "text": [
      "INFO:SELFCAL:# Doing self-calibration with uvmin=0.0, uvmax=3000, solution interval=0.5 minutes for major cycle 02 #\n"
     ]
    },
    {
     "name": "stderr",
     "output_type": "stream",
     "text": [
      "INFO:SELFCAL:# Major self-calibration cycle 2 for frequency chunk 00 finished #\n"
     ]
    },
    {
     "name": "stderr",
     "output_type": "stream",
     "text": [
      "INFO:SELFCAL:# Standard self-calibration routine for chunk 00 finished #\n"
     ]
    },
    {
     "name": "stderr",
     "output_type": "stream",
     "text": [
      "INFO:SELFCAL:# Starting standard self-calibration routine on frequency chunk 01 #\n"
     ]
    },
    {
     "name": "stderr",
     "output_type": "stream",
     "text": [
      "INFO:SELFCAL:# Moved to directory /data/adebahr/apertif/tutorials/T1/00/selfcal/01 #\n"
     ]
    },
    {
     "name": "stderr",
     "output_type": "stream",
     "text": [
      "INFO:SELFCAL:# Theoretical noise for chunk 01 is 6.85e-05 Jy/beam #\n"
     ]
    },
    {
     "name": "stderr",
     "output_type": "stream",
     "text": [
      "INFO:SELFCAL:# Your theoretical noise threshold will be 50 times the theoretical noise corresponding to 0.003425 Jy/beam #\n"
     ]
    },
    {
     "name": "stderr",
     "output_type": "stream",
     "text": [
      "INFO:SELFCAL:# Your dynamic range limits are set to [25.0, 50.0, 100.0] for the major self-calibration cycles #\n"
     ]
    },
    {
     "name": "stderr",
     "output_type": "stream",
     "text": [
      "INFO:SELFCAL:# Major self-calibration cycle 0 for frequency chunk 01 started #\n"
     ]
    },
    {
     "name": "stderr",
     "output_type": "stream",
     "text": [
      "INFO:SELFCAL:# Creating directory /data/adebahr/apertif/tutorials/T1/00/selfcal/01/00 #\n"
     ]
    },
    {
     "name": "stderr",
     "output_type": "stream",
     "text": [
      "INFO:SELFCAL:# The minor cycle dynamic range limits for major cycle 0 are [3.0, 1.5625, 6.25, 14.0625, 25.0] #\n"
     ]
    },
    {
     "name": "stderr",
     "output_type": "stream",
     "text": [
      "INFO:SELFCAL:# Minor self-calibration cycle 0 for frequency chunk 01 started #\n"
     ]
    },
    {
     "name": "stderr",
     "output_type": "stream",
     "text": [
      "INFO:SELFCAL:# Mask threshold for major/minor cycle 0/0 set to 0.0209335063895 Jy/beam #\n"
     ]
    },
    {
     "name": "stderr",
     "output_type": "stream",
     "text": [
      "INFO:SELFCAL:# Mask threshold set by Dynamic range threshold #\n"
     ]
    },
    {
     "name": "stderr",
     "output_type": "stream",
     "text": [
      "INFO:SELFCAL:# Mask with threshold 0.0209335063895 Jy/beam created #\n"
     ]
    },
    {
     "name": "stderr",
     "output_type": "stream",
     "text": [
      "INFO:SELFCAL:# Clean threshold at major/minor cycle 0/0 was set to 0.00418670127789 Jy/beam #\n"
     ]
    },
    {
     "name": "stderr",
     "output_type": "stream",
     "text": [
      "INFO:SELFCAL:# Major/minor cycle 0/0 cleaning done #\n"
     ]
    },
    {
     "name": "stderr",
     "output_type": "stream",
     "text": [
      "INFO:SELFCAL:# Cleaned image for major/minor cycle 0/0 created #\n"
     ]
    },
    {
     "name": "stderr",
     "output_type": "stream",
     "text": [
      "INFO:SELFCAL:# Residual image for major/minor cycle 0/0 created #\n"
     ]
    },
    {
     "name": "stderr",
     "output_type": "stream",
     "text": [
      "INFO:SELFCAL:# Peak of the residual image is 0.0206956 Jy/beam #\n"
     ]
    },
    {
     "name": "stderr",
     "output_type": "stream",
     "text": [
      "INFO:SELFCAL:# RMS of the residual image is 0.0010708 Jy/beam #\n"
     ]
    },
    {
     "name": "stderr",
     "output_type": "stream",
     "text": [
      "INFO:SELFCAL:# Minor self-calibration cycle 0 for frequency chunk 01 finished #\n"
     ]
    },
    {
     "name": "stderr",
     "output_type": "stream",
     "text": [
      "INFO:SELFCAL:# Minor self-calibration cycle 1 for frequency chunk 01 started #\n"
     ]
    },
    {
     "name": "stderr",
     "output_type": "stream",
     "text": [
      "INFO:SELFCAL:# Mask threshold for major/minor cycle 0/1 set to 0.0401923322678 Jy/beam #\n"
     ]
    },
    {
     "name": "stderr",
     "output_type": "stream",
     "text": [
      "INFO:SELFCAL:# Mask threshold set by Dynamic range threshold #\n"
     ]
    },
    {
     "name": "stderr",
     "output_type": "stream",
     "text": [
      "INFO:SELFCAL:# Mask with threshold 0.0401923322678 Jy/beam created #\n"
     ]
    },
    {
     "name": "stderr",
     "output_type": "stream",
     "text": [
      "INFO:SELFCAL:# Clean threshold at major/minor cycle 0/1 was set to 0.00803846645355 Jy/beam #\n"
     ]
    },
    {
     "name": "stderr",
     "output_type": "stream",
     "text": [
      "INFO:SELFCAL:# Major/minor cycle 0/1 cleaning done #\n"
     ]
    },
    {
     "name": "stderr",
     "output_type": "stream",
     "text": [
      "INFO:SELFCAL:# Cleaned image for major/minor cycle 0/1 created #\n"
     ]
    },
    {
     "name": "stderr",
     "output_type": "stream",
     "text": [
      "INFO:SELFCAL:# Residual image for major/minor cycle 0/1 created #\n"
     ]
    },
    {
     "name": "stderr",
     "output_type": "stream",
     "text": [
      "INFO:SELFCAL:# Peak of the residual image is 0.0212985 Jy/beam #\n"
     ]
    },
    {
     "name": "stderr",
     "output_type": "stream",
     "text": [
      "INFO:SELFCAL:# RMS of the residual image is 0.00116712 Jy/beam #\n"
     ]
    },
    {
     "name": "stderr",
     "output_type": "stream",
     "text": [
      "INFO:SELFCAL:# Minor self-calibration cycle 1 for frequency chunk 01 finished #\n"
     ]
    },
    {
     "name": "stderr",
     "output_type": "stream",
     "text": [
      "INFO:SELFCAL:# Minor self-calibration cycle 2 for frequency chunk 01 started #\n"
     ]
    },
    {
     "name": "stderr",
     "output_type": "stream",
     "text": [
      "INFO:SELFCAL:# Mask threshold for major/minor cycle 0/2 set to 0.0100480830669 Jy/beam #\n"
     ]
    },
    {
     "name": "stderr",
     "output_type": "stream",
     "text": [
      "INFO:SELFCAL:# Mask threshold set by Dynamic range threshold #\n"
     ]
    },
    {
     "name": "stderr",
     "output_type": "stream",
     "text": [
      "INFO:SELFCAL:# Mask with threshold 0.0100480830669 Jy/beam created #\n"
     ]
    },
    {
     "name": "stderr",
     "output_type": "stream",
     "text": [
      "INFO:SELFCAL:# Clean threshold at major/minor cycle 0/2 was set to 0.00200961661339 Jy/beam #\n"
     ]
    },
    {
     "name": "stderr",
     "output_type": "stream",
     "text": [
      "INFO:SELFCAL:# Major/minor cycle 0/2 cleaning done #\n"
     ]
    },
    {
     "name": "stderr",
     "output_type": "stream",
     "text": [
      "INFO:SELFCAL:# Cleaned image for major/minor cycle 0/2 created #\n"
     ]
    },
    {
     "name": "stderr",
     "output_type": "stream",
     "text": [
      "INFO:SELFCAL:# Residual image for major/minor cycle 0/2 created #\n"
     ]
    },
    {
     "name": "stderr",
     "output_type": "stream",
     "text": [
      "INFO:SELFCAL:# Peak of the residual image is 0.00938676 Jy/beam #\n"
     ]
    },
    {
     "name": "stderr",
     "output_type": "stream",
     "text": [
      "INFO:SELFCAL:# RMS of the residual image is 0.000928432 Jy/beam #\n"
     ]
    },
    {
     "name": "stderr",
     "output_type": "stream",
     "text": [
      "INFO:SELFCAL:# Minor self-calibration cycle 2 for frequency chunk 01 finished #\n"
     ]
    },
    {
     "name": "stderr",
     "output_type": "stream",
     "text": [
      "INFO:SELFCAL:# Minor self-calibration cycle 3 for frequency chunk 01 started #\n"
     ]
    },
    {
     "name": "stderr",
     "output_type": "stream",
     "text": [
      "INFO:SELFCAL:# Mask threshold for major/minor cycle 0/3 set to 0.00446581469642 Jy/beam #\n"
     ]
    },
    {
     "name": "stderr",
     "output_type": "stream",
     "text": [
      "INFO:SELFCAL:# Mask threshold set by Dynamic range threshold #\n"
     ]
    },
    {
     "name": "stderr",
     "output_type": "stream",
     "text": [
      "INFO:SELFCAL:# Mask with threshold 0.00446581469642 Jy/beam created #\n"
     ]
    },
    {
     "name": "stderr",
     "output_type": "stream",
     "text": [
      "INFO:SELFCAL:# Clean threshold at major/minor cycle 0/3 was set to 0.000893162939284 Jy/beam #\n"
     ]
    },
    {
     "name": "stderr",
     "output_type": "stream",
     "text": [
      "INFO:SELFCAL:# Major/minor cycle 0/3 cleaning done #\n"
     ]
    },
    {
     "name": "stderr",
     "output_type": "stream",
     "text": [
      "INFO:SELFCAL:# Cleaned image for major/minor cycle 0/3 created #\n"
     ]
    },
    {
     "name": "stderr",
     "output_type": "stream",
     "text": [
      "INFO:SELFCAL:# Residual image for major/minor cycle 0/3 created #\n"
     ]
    },
    {
     "name": "stderr",
     "output_type": "stream",
     "text": [
      "INFO:SELFCAL:# Peak of the residual image is 0.0057164 Jy/beam #\n"
     ]
    },
    {
     "name": "stderr",
     "output_type": "stream",
     "text": [
      "INFO:SELFCAL:# RMS of the residual image is 0.00079322 Jy/beam #\n"
     ]
    },
    {
     "name": "stderr",
     "output_type": "stream",
     "text": [
      "INFO:SELFCAL:# Minor self-calibration cycle 3 for frequency chunk 01 finished #\n"
     ]
    },
    {
     "name": "stderr",
     "output_type": "stream",
     "text": [
      "INFO:SELFCAL:# Minor self-calibration cycle 4 for frequency chunk 01 started #\n"
     ]
    },
    {
     "name": "stderr",
     "output_type": "stream",
     "text": [
      "INFO:SELFCAL:# Mask threshold for major/minor cycle 0/4 set to 0.003425 Jy/beam #\n"
     ]
    },
    {
     "name": "stderr",
     "output_type": "stream",
     "text": [
      "INFO:SELFCAL:# Mask threshold set by Theoretical noise threshold #\n"
     ]
    },
    {
     "name": "stderr",
     "output_type": "stream",
     "text": [
      "INFO:SELFCAL:# Mask with threshold 0.003425 Jy/beam created #\n"
     ]
    },
    {
     "name": "stderr",
     "output_type": "stream",
     "text": [
      "INFO:SELFCAL:# Clean threshold at major/minor cycle 0/4 was set to 0.000685 Jy/beam #\n"
     ]
    },
    {
     "name": "stderr",
     "output_type": "stream",
     "text": [
      "INFO:SELFCAL:# Major/minor cycle 0/4 cleaning done #\n"
     ]
    },
    {
     "name": "stderr",
     "output_type": "stream",
     "text": [
      "INFO:SELFCAL:# Cleaned image for major/minor cycle 0/4 created #\n"
     ]
    },
    {
     "name": "stderr",
     "output_type": "stream",
     "text": [
      "INFO:SELFCAL:# Residual image for major/minor cycle 0/4 created #\n"
     ]
    },
    {
     "name": "stderr",
     "output_type": "stream",
     "text": [
      "INFO:SELFCAL:# Peak of the residual image is 0.00370515 Jy/beam #\n"
     ]
    },
    {
     "name": "stderr",
     "output_type": "stream",
     "text": [
      "INFO:SELFCAL:# RMS of the residual image is 0.000753004 Jy/beam #\n"
     ]
    },
    {
     "name": "stderr",
     "output_type": "stream",
     "text": [
      "INFO:SELFCAL:# Minor self-calibration cycle 4 for frequency chunk 01 finished #\n"
     ]
    },
    {
     "name": "stderr",
     "output_type": "stream",
     "text": [
      "INFO:SELFCAL:# Doing self-calibration with uvmin=0.0, uvmax=3000, solution interval=5 minutes for major cycle 00 #\n"
     ]
    },
    {
     "name": "stderr",
     "output_type": "stream",
     "text": [
      "INFO:SELFCAL:# Major self-calibration cycle 0 for frequency chunk 01 finished #\n"
     ]
    },
    {
     "name": "stderr",
     "output_type": "stream",
     "text": [
      "INFO:SELFCAL:# Major self-calibration cycle 1 for frequency chunk 01 started #\n"
     ]
    },
    {
     "name": "stderr",
     "output_type": "stream",
     "text": [
      "INFO:SELFCAL:# Creating directory /data/adebahr/apertif/tutorials/T1/00/selfcal/01/01 #\n"
     ]
    },
    {
     "name": "stderr",
     "output_type": "stream",
     "text": [
      "INFO:SELFCAL:# The minor cycle dynamic range limits for major cycle 1 are [25.0, 26.5625, 31.25, 39.0625, 50.0] #\n"
     ]
    },
    {
     "name": "stderr",
     "output_type": "stream",
     "text": [
      "INFO:SELFCAL:# Minor self-calibration cycle 0 for frequency chunk 01 started #\n"
     ]
    },
    {
     "name": "stderr",
     "output_type": "stream",
     "text": [
      "INFO:SELFCAL:# Mask threshold for major/minor cycle 1/0 set to 0.003425 Jy/beam #\n"
     ]
    },
    {
     "name": "stderr",
     "output_type": "stream",
     "text": [
      "INFO:SELFCAL:# Mask threshold set by Theoretical noise threshold #\n"
     ]
    },
    {
     "name": "stderr",
     "output_type": "stream",
     "text": [
      "INFO:SELFCAL:# Mask from last minor iteration of last major cycle copied #\n"
     ]
    },
    {
     "name": "stderr",
     "output_type": "stream",
     "text": [
      "INFO:SELFCAL:# Clean threshold at major/minor cycle 1/0 was set to 0.000685 Jy/beam #\n"
     ]
    },
    {
     "name": "stderr",
     "output_type": "stream",
     "text": [
      "INFO:SELFCAL:# Major/minor cycle 1/0 cleaning done #\n"
     ]
    },
    {
     "name": "stderr",
     "output_type": "stream",
     "text": [
      "INFO:SELFCAL:# Cleaned image for major/minor cycle 1/0 created #\n"
     ]
    },
    {
     "name": "stderr",
     "output_type": "stream",
     "text": [
      "INFO:SELFCAL:# Residual image for major/minor cycle 1/0 created #\n"
     ]
    },
    {
     "name": "stderr",
     "output_type": "stream",
     "text": [
      "INFO:SELFCAL:# Peak of the residual image is 0.00388959 Jy/beam #\n"
     ]
    },
    {
     "name": "stderr",
     "output_type": "stream",
     "text": [
      "INFO:SELFCAL:# RMS of the residual image is 0.000707647 Jy/beam #\n"
     ]
    },
    {
     "name": "stderr",
     "output_type": "stream",
     "text": [
      "INFO:SELFCAL:# Minor self-calibration cycle 0 for frequency chunk 01 finished #\n"
     ]
    },
    {
     "name": "stderr",
     "output_type": "stream",
     "text": [
      "INFO:SELFCAL:# Minor self-calibration cycle 1 for frequency chunk 01 started #\n"
     ]
    },
    {
     "name": "stderr",
     "output_type": "stream",
     "text": [
      "INFO:SELFCAL:# Mask threshold for major/minor cycle 1/1 set to 0.003425 Jy/beam #\n"
     ]
    },
    {
     "name": "stderr",
     "output_type": "stream",
     "text": [
      "INFO:SELFCAL:# Mask threshold set by Theoretical noise threshold #\n"
     ]
    },
    {
     "name": "stderr",
     "output_type": "stream",
     "text": [
      "INFO:SELFCAL:# Mask with threshold 0.003425 Jy/beam created #\n"
     ]
    },
    {
     "name": "stderr",
     "output_type": "stream",
     "text": [
      "INFO:SELFCAL:# Clean threshold at major/minor cycle 1/1 was set to 0.000685 Jy/beam #\n"
     ]
    },
    {
     "name": "stderr",
     "output_type": "stream",
     "text": [
      "INFO:SELFCAL:# Major/minor cycle 1/1 cleaning done #\n"
     ]
    },
    {
     "name": "stderr",
     "output_type": "stream",
     "text": [
      "INFO:SELFCAL:# Cleaned image for major/minor cycle 1/1 created #\n"
     ]
    },
    {
     "name": "stderr",
     "output_type": "stream",
     "text": [
      "INFO:SELFCAL:# Residual image for major/minor cycle 1/1 created #\n"
     ]
    },
    {
     "name": "stderr",
     "output_type": "stream",
     "text": [
      "INFO:SELFCAL:# Peak of the residual image is 0.00365409 Jy/beam #\n"
     ]
    },
    {
     "name": "stderr",
     "output_type": "stream",
     "text": [
      "INFO:SELFCAL:# RMS of the residual image is 0.000714862 Jy/beam #\n"
     ]
    },
    {
     "name": "stderr",
     "output_type": "stream",
     "text": [
      "INFO:SELFCAL:# Minor self-calibration cycle 1 for frequency chunk 01 finished #\n"
     ]
    },
    {
     "name": "stderr",
     "output_type": "stream",
     "text": [
      "INFO:SELFCAL:# Minor self-calibration cycle 2 for frequency chunk 01 started #\n"
     ]
    },
    {
     "name": "stderr",
     "output_type": "stream",
     "text": [
      "INFO:SELFCAL:# Mask threshold for major/minor cycle 1/2 set to 0.003425 Jy/beam #\n"
     ]
    },
    {
     "name": "stderr",
     "output_type": "stream",
     "text": [
      "INFO:SELFCAL:# Mask threshold set by Theoretical noise threshold #\n"
     ]
    },
    {
     "name": "stderr",
     "output_type": "stream",
     "text": [
      "INFO:SELFCAL:# Mask with threshold 0.003425 Jy/beam created #\n"
     ]
    },
    {
     "name": "stderr",
     "output_type": "stream",
     "text": [
      "INFO:SELFCAL:# Clean threshold at major/minor cycle 1/2 was set to 0.000685 Jy/beam #\n"
     ]
    },
    {
     "name": "stderr",
     "output_type": "stream",
     "text": [
      "INFO:SELFCAL:# Major/minor cycle 1/2 cleaning done #\n"
     ]
    },
    {
     "name": "stderr",
     "output_type": "stream",
     "text": [
      "INFO:SELFCAL:# Cleaned image for major/minor cycle 1/2 created #\n"
     ]
    },
    {
     "name": "stderr",
     "output_type": "stream",
     "text": [
      "INFO:SELFCAL:# Residual image for major/minor cycle 1/2 created #\n"
     ]
    },
    {
     "name": "stderr",
     "output_type": "stream",
     "text": [
      "INFO:SELFCAL:# Peak of the residual image is 0.00338284 Jy/beam #\n"
     ]
    },
    {
     "name": "stderr",
     "output_type": "stream",
     "text": [
      "INFO:SELFCAL:# RMS of the residual image is 0.000710744 Jy/beam #\n"
     ]
    },
    {
     "name": "stderr",
     "output_type": "stream",
     "text": [
      "INFO:SELFCAL:# Minor self-calibration cycle 2 for frequency chunk 01 finished #\n"
     ]
    },
    {
     "name": "stderr",
     "output_type": "stream",
     "text": [
      "INFO:SELFCAL:# Minor self-calibration cycle 3 for frequency chunk 01 started #\n"
     ]
    },
    {
     "name": "stderr",
     "output_type": "stream",
     "text": [
      "INFO:SELFCAL:# Mask threshold for major/minor cycle 1/3 set to 0.003425 Jy/beam #\n"
     ]
    },
    {
     "name": "stderr",
     "output_type": "stream",
     "text": [
      "INFO:SELFCAL:# Mask threshold set by Theoretical noise threshold #\n"
     ]
    },
    {
     "name": "stderr",
     "output_type": "stream",
     "text": [
      "INFO:SELFCAL:# Mask with threshold 0.003425 Jy/beam created #\n"
     ]
    },
    {
     "name": "stderr",
     "output_type": "stream",
     "text": [
      "INFO:SELFCAL:# Clean threshold at major/minor cycle 1/3 was set to 0.000685 Jy/beam #\n"
     ]
    },
    {
     "name": "stderr",
     "output_type": "stream",
     "text": [
      "INFO:SELFCAL:# Major/minor cycle 1/3 cleaning done #\n"
     ]
    },
    {
     "name": "stderr",
     "output_type": "stream",
     "text": [
      "INFO:SELFCAL:# Cleaned image for major/minor cycle 1/3 created #\n"
     ]
    },
    {
     "name": "stderr",
     "output_type": "stream",
     "text": [
      "INFO:SELFCAL:# Residual image for major/minor cycle 1/3 created #\n"
     ]
    },
    {
     "name": "stderr",
     "output_type": "stream",
     "text": [
      "INFO:SELFCAL:# Peak of the residual image is 0.00337431 Jy/beam #\n"
     ]
    },
    {
     "name": "stderr",
     "output_type": "stream",
     "text": [
      "INFO:SELFCAL:# RMS of the residual image is 0.000710605 Jy/beam #\n"
     ]
    },
    {
     "name": "stderr",
     "output_type": "stream",
     "text": [
      "INFO:SELFCAL:# Minor self-calibration cycle 3 for frequency chunk 01 finished #\n"
     ]
    },
    {
     "name": "stderr",
     "output_type": "stream",
     "text": [
      "INFO:SELFCAL:# Minor self-calibration cycle 4 for frequency chunk 01 started #\n"
     ]
    },
    {
     "name": "stderr",
     "output_type": "stream",
     "text": [
      "INFO:SELFCAL:# Mask threshold for major/minor cycle 1/4 set to 0.003425 Jy/beam #\n"
     ]
    },
    {
     "name": "stderr",
     "output_type": "stream",
     "text": [
      "INFO:SELFCAL:# Mask threshold set by Theoretical noise threshold #\n"
     ]
    },
    {
     "name": "stderr",
     "output_type": "stream",
     "text": [
      "INFO:SELFCAL:# Mask with threshold 0.003425 Jy/beam created #\n"
     ]
    },
    {
     "name": "stderr",
     "output_type": "stream",
     "text": [
      "INFO:SELFCAL:# Clean threshold at major/minor cycle 1/4 was set to 0.000685 Jy/beam #\n"
     ]
    },
    {
     "name": "stderr",
     "output_type": "stream",
     "text": [
      "INFO:SELFCAL:# Major/minor cycle 1/4 cleaning done #\n"
     ]
    },
    {
     "name": "stderr",
     "output_type": "stream",
     "text": [
      "INFO:SELFCAL:# Cleaned image for major/minor cycle 1/4 created #\n"
     ]
    },
    {
     "name": "stderr",
     "output_type": "stream",
     "text": [
      "INFO:SELFCAL:# Residual image for major/minor cycle 1/4 created #\n"
     ]
    },
    {
     "name": "stderr",
     "output_type": "stream",
     "text": [
      "INFO:SELFCAL:# Peak of the residual image is 0.00337276 Jy/beam #\n"
     ]
    },
    {
     "name": "stderr",
     "output_type": "stream",
     "text": [
      "INFO:SELFCAL:# RMS of the residual image is 0.000710286 Jy/beam #\n"
     ]
    },
    {
     "name": "stderr",
     "output_type": "stream",
     "text": [
      "INFO:SELFCAL:# Minor self-calibration cycle 4 for frequency chunk 01 finished #\n"
     ]
    },
    {
     "name": "stderr",
     "output_type": "stream",
     "text": [
      "INFO:SELFCAL:# Doing self-calibration with uvmin=0.0, uvmax=3000, solution interval=3 minutes for major cycle 01 #\n"
     ]
    },
    {
     "name": "stderr",
     "output_type": "stream",
     "text": [
      "INFO:SELFCAL:# Major self-calibration cycle 1 for frequency chunk 01 finished #\n"
     ]
    },
    {
     "name": "stderr",
     "output_type": "stream",
     "text": [
      "INFO:SELFCAL:# Major self-calibration cycle 2 for frequency chunk 01 started #\n"
     ]
    },
    {
     "name": "stderr",
     "output_type": "stream",
     "text": [
      "INFO:SELFCAL:# Creating directory /data/adebahr/apertif/tutorials/T1/00/selfcal/01/02 #\n"
     ]
    },
    {
     "name": "stderr",
     "output_type": "stream",
     "text": [
      "INFO:SELFCAL:# The minor cycle dynamic range limits for major cycle 2 are [50.0, 53.125, 62.5, 78.125, 100.0] #\n"
     ]
    },
    {
     "name": "stderr",
     "output_type": "stream",
     "text": [
      "INFO:SELFCAL:# Minor self-calibration cycle 0 for frequency chunk 01 started #\n"
     ]
    },
    {
     "name": "stderr",
     "output_type": "stream",
     "text": [
      "INFO:SELFCAL:# Mask threshold for major/minor cycle 2/0 set to 0.003425 Jy/beam #\n"
     ]
    },
    {
     "name": "stderr",
     "output_type": "stream",
     "text": [
      "INFO:SELFCAL:# Mask threshold set by Theoretical noise threshold #\n"
     ]
    },
    {
     "name": "stderr",
     "output_type": "stream",
     "text": [
      "INFO:SELFCAL:# Mask from last minor iteration of last major cycle copied #\n"
     ]
    },
    {
     "name": "stderr",
     "output_type": "stream",
     "text": [
      "INFO:SELFCAL:# Clean threshold at major/minor cycle 2/0 was set to 0.000685 Jy/beam #\n"
     ]
    },
    {
     "name": "stderr",
     "output_type": "stream",
     "text": [
      "INFO:SELFCAL:# Major/minor cycle 2/0 cleaning done #\n"
     ]
    },
    {
     "name": "stderr",
     "output_type": "stream",
     "text": [
      "INFO:SELFCAL:# Cleaned image for major/minor cycle 2/0 created #\n"
     ]
    },
    {
     "name": "stderr",
     "output_type": "stream",
     "text": [
      "INFO:SELFCAL:# Residual image for major/minor cycle 2/0 created #\n"
     ]
    },
    {
     "name": "stderr",
     "output_type": "stream",
     "text": [
      "INFO:SELFCAL:# Peak of the residual image is 0.00350327 Jy/beam #\n"
     ]
    },
    {
     "name": "stderr",
     "output_type": "stream",
     "text": [
      "INFO:SELFCAL:# RMS of the residual image is 0.000691743 Jy/beam #\n"
     ]
    },
    {
     "name": "stderr",
     "output_type": "stream",
     "text": [
      "INFO:SELFCAL:# Minor self-calibration cycle 0 for frequency chunk 01 finished #\n"
     ]
    },
    {
     "name": "stderr",
     "output_type": "stream",
     "text": [
      "INFO:SELFCAL:# Minor self-calibration cycle 1 for frequency chunk 01 started #\n"
     ]
    },
    {
     "name": "stderr",
     "output_type": "stream",
     "text": [
      "INFO:SELFCAL:# Mask threshold for major/minor cycle 2/1 set to 0.003425 Jy/beam #\n"
     ]
    },
    {
     "name": "stderr",
     "output_type": "stream",
     "text": [
      "INFO:SELFCAL:# Mask threshold set by Theoretical noise threshold #\n"
     ]
    },
    {
     "name": "stderr",
     "output_type": "stream",
     "text": [
      "INFO:SELFCAL:# Mask with threshold 0.003425 Jy/beam created #\n"
     ]
    },
    {
     "name": "stderr",
     "output_type": "stream",
     "text": [
      "INFO:SELFCAL:# Clean threshold at major/minor cycle 2/1 was set to 0.000685 Jy/beam #\n"
     ]
    },
    {
     "name": "stderr",
     "output_type": "stream",
     "text": [
      "INFO:SELFCAL:# Major/minor cycle 2/1 cleaning done #\n"
     ]
    },
    {
     "name": "stderr",
     "output_type": "stream",
     "text": [
      "INFO:SELFCAL:# Cleaned image for major/minor cycle 2/1 created #\n"
     ]
    },
    {
     "name": "stderr",
     "output_type": "stream",
     "text": [
      "INFO:SELFCAL:# Residual image for major/minor cycle 2/1 created #\n"
     ]
    },
    {
     "name": "stderr",
     "output_type": "stream",
     "text": [
      "INFO:SELFCAL:# Peak of the residual image is 0.0033734 Jy/beam #\n"
     ]
    },
    {
     "name": "stderr",
     "output_type": "stream",
     "text": [
      "INFO:SELFCAL:# RMS of the residual image is 0.000692255 Jy/beam #\n"
     ]
    },
    {
     "name": "stderr",
     "output_type": "stream",
     "text": [
      "INFO:SELFCAL:# Minor self-calibration cycle 1 for frequency chunk 01 finished #\n"
     ]
    },
    {
     "name": "stderr",
     "output_type": "stream",
     "text": [
      "INFO:SELFCAL:# Minor self-calibration cycle 2 for frequency chunk 01 started #\n"
     ]
    },
    {
     "name": "stderr",
     "output_type": "stream",
     "text": [
      "INFO:SELFCAL:# Mask threshold for major/minor cycle 2/2 set to 0.003425 Jy/beam #\n"
     ]
    },
    {
     "name": "stderr",
     "output_type": "stream",
     "text": [
      "INFO:SELFCAL:# Mask threshold set by Theoretical noise threshold #\n"
     ]
    },
    {
     "name": "stderr",
     "output_type": "stream",
     "text": [
      "INFO:SELFCAL:# Mask with threshold 0.003425 Jy/beam created #\n"
     ]
    },
    {
     "name": "stderr",
     "output_type": "stream",
     "text": [
      "INFO:SELFCAL:# Clean threshold at major/minor cycle 2/2 was set to 0.000685 Jy/beam #\n"
     ]
    },
    {
     "name": "stderr",
     "output_type": "stream",
     "text": [
      "INFO:SELFCAL:# Major/minor cycle 2/2 cleaning done #\n"
     ]
    },
    {
     "name": "stderr",
     "output_type": "stream",
     "text": [
      "INFO:SELFCAL:# Cleaned image for major/minor cycle 2/2 created #\n"
     ]
    },
    {
     "name": "stderr",
     "output_type": "stream",
     "text": [
      "INFO:SELFCAL:# Residual image for major/minor cycle 2/2 created #\n"
     ]
    },
    {
     "name": "stderr",
     "output_type": "stream",
     "text": [
      "INFO:SELFCAL:# Peak of the residual image is 0.00337648 Jy/beam #\n"
     ]
    },
    {
     "name": "stderr",
     "output_type": "stream",
     "text": [
      "INFO:SELFCAL:# RMS of the residual image is 0.000691992 Jy/beam #\n"
     ]
    },
    {
     "name": "stderr",
     "output_type": "stream",
     "text": [
      "INFO:SELFCAL:# Minor self-calibration cycle 2 for frequency chunk 01 finished #\n"
     ]
    },
    {
     "name": "stderr",
     "output_type": "stream",
     "text": [
      "INFO:SELFCAL:# Minor self-calibration cycle 3 for frequency chunk 01 started #\n"
     ]
    },
    {
     "name": "stderr",
     "output_type": "stream",
     "text": [
      "INFO:SELFCAL:# Mask threshold for major/minor cycle 2/3 set to 0.003425 Jy/beam #\n"
     ]
    },
    {
     "name": "stderr",
     "output_type": "stream",
     "text": [
      "INFO:SELFCAL:# Mask threshold set by Theoretical noise threshold #\n"
     ]
    },
    {
     "name": "stderr",
     "output_type": "stream",
     "text": [
      "INFO:SELFCAL:# Mask with threshold 0.003425 Jy/beam created #\n"
     ]
    },
    {
     "name": "stderr",
     "output_type": "stream",
     "text": [
      "INFO:SELFCAL:# Clean threshold at major/minor cycle 2/3 was set to 0.000685 Jy/beam #\n"
     ]
    },
    {
     "name": "stderr",
     "output_type": "stream",
     "text": [
      "INFO:SELFCAL:# Major/minor cycle 2/3 cleaning done #\n"
     ]
    },
    {
     "name": "stderr",
     "output_type": "stream",
     "text": [
      "INFO:SELFCAL:# Cleaned image for major/minor cycle 2/3 created #\n"
     ]
    },
    {
     "name": "stderr",
     "output_type": "stream",
     "text": [
      "INFO:SELFCAL:# Residual image for major/minor cycle 2/3 created #\n"
     ]
    },
    {
     "name": "stderr",
     "output_type": "stream",
     "text": [
      "INFO:SELFCAL:# Peak of the residual image is 0.00337788 Jy/beam #\n"
     ]
    },
    {
     "name": "stderr",
     "output_type": "stream",
     "text": [
      "INFO:SELFCAL:# RMS of the residual image is 0.000691917 Jy/beam #\n"
     ]
    },
    {
     "name": "stderr",
     "output_type": "stream",
     "text": [
      "INFO:SELFCAL:# Minor self-calibration cycle 3 for frequency chunk 01 finished #\n"
     ]
    },
    {
     "name": "stderr",
     "output_type": "stream",
     "text": [
      "INFO:SELFCAL:# Minor self-calibration cycle 4 for frequency chunk 01 started #\n"
     ]
    },
    {
     "name": "stderr",
     "output_type": "stream",
     "text": [
      "INFO:SELFCAL:# Mask threshold for major/minor cycle 2/4 set to 0.003425 Jy/beam #\n"
     ]
    },
    {
     "name": "stderr",
     "output_type": "stream",
     "text": [
      "INFO:SELFCAL:# Mask threshold set by Theoretical noise threshold #\n"
     ]
    },
    {
     "name": "stderr",
     "output_type": "stream",
     "text": [
      "INFO:SELFCAL:# Mask with threshold 0.003425 Jy/beam created #\n"
     ]
    },
    {
     "name": "stderr",
     "output_type": "stream",
     "text": [
      "INFO:SELFCAL:# Clean threshold at major/minor cycle 2/4 was set to 0.000685 Jy/beam #\n"
     ]
    },
    {
     "name": "stderr",
     "output_type": "stream",
     "text": [
      "INFO:SELFCAL:# Major/minor cycle 2/4 cleaning done #\n"
     ]
    },
    {
     "name": "stderr",
     "output_type": "stream",
     "text": [
      "INFO:SELFCAL:# Cleaned image for major/minor cycle 2/4 created #\n"
     ]
    },
    {
     "name": "stderr",
     "output_type": "stream",
     "text": [
      "INFO:SELFCAL:# Residual image for major/minor cycle 2/4 created #\n"
     ]
    },
    {
     "name": "stderr",
     "output_type": "stream",
     "text": [
      "INFO:SELFCAL:# Peak of the residual image is 0.00337782 Jy/beam #\n"
     ]
    },
    {
     "name": "stderr",
     "output_type": "stream",
     "text": [
      "INFO:SELFCAL:# RMS of the residual image is 0.000691871 Jy/beam #\n"
     ]
    },
    {
     "name": "stderr",
     "output_type": "stream",
     "text": [
      "INFO:SELFCAL:# Minor self-calibration cycle 4 for frequency chunk 01 finished #\n"
     ]
    },
    {
     "name": "stderr",
     "output_type": "stream",
     "text": [
      "INFO:SELFCAL:# Doing self-calibration with uvmin=0.0, uvmax=3000, solution interval=0.5 minutes for major cycle 02 #\n"
     ]
    },
    {
     "name": "stderr",
     "output_type": "stream",
     "text": [
      "INFO:SELFCAL:# Major self-calibration cycle 2 for frequency chunk 01 finished #\n"
     ]
    },
    {
     "name": "stderr",
     "output_type": "stream",
     "text": [
      "INFO:SELFCAL:# Standard self-calibration routine for chunk 01 finished #\n"
     ]
    },
    {
     "name": "stderr",
     "output_type": "stream",
     "text": [
      "INFO:SELFCAL:# Starting standard self-calibration routine on frequency chunk 02 #\n"
     ]
    },
    {
     "name": "stderr",
     "output_type": "stream",
     "text": [
      "INFO:SELFCAL:# Moved to directory /data/adebahr/apertif/tutorials/T1/00/selfcal/02 #\n"
     ]
    },
    {
     "name": "stderr",
     "output_type": "stream",
     "text": [
      "INFO:SELFCAL:# Theoretical noise for chunk 02 is 6.85e-05 Jy/beam #\n"
     ]
    },
    {
     "name": "stderr",
     "output_type": "stream",
     "text": [
      "INFO:SELFCAL:# Your theoretical noise threshold will be 50 times the theoretical noise corresponding to 0.003425 Jy/beam #\n"
     ]
    },
    {
     "name": "stderr",
     "output_type": "stream",
     "text": [
      "INFO:SELFCAL:# Your dynamic range limits are set to [25.0, 50.0, 100.0] for the major self-calibration cycles #\n"
     ]
    },
    {
     "name": "stderr",
     "output_type": "stream",
     "text": [
      "INFO:SELFCAL:# Major self-calibration cycle 0 for frequency chunk 02 started #\n"
     ]
    },
    {
     "name": "stderr",
     "output_type": "stream",
     "text": [
      "INFO:SELFCAL:# Creating directory /data/adebahr/apertif/tutorials/T1/00/selfcal/02/00 #\n"
     ]
    },
    {
     "name": "stderr",
     "output_type": "stream",
     "text": [
      "INFO:SELFCAL:# The minor cycle dynamic range limits for major cycle 0 are [3.0, 1.5625, 6.25, 14.0625, 25.0] #\n"
     ]
    },
    {
     "name": "stderr",
     "output_type": "stream",
     "text": [
      "INFO:SELFCAL:# Minor self-calibration cycle 0 for frequency chunk 02 started #\n"
     ]
    },
    {
     "name": "stderr",
     "output_type": "stream",
     "text": [
      "INFO:SELFCAL:# Mask threshold for major/minor cycle 0/0 set to 0.0211102689306 Jy/beam #\n"
     ]
    },
    {
     "name": "stderr",
     "output_type": "stream",
     "text": [
      "INFO:SELFCAL:# Mask threshold set by Dynamic range threshold #\n"
     ]
    },
    {
     "name": "stderr",
     "output_type": "stream",
     "text": [
      "INFO:SELFCAL:# Mask with threshold 0.0211102689306 Jy/beam created #\n"
     ]
    },
    {
     "name": "stderr",
     "output_type": "stream",
     "text": [
      "INFO:SELFCAL:# Clean threshold at major/minor cycle 0/0 was set to 0.00422205378612 Jy/beam #\n"
     ]
    },
    {
     "name": "stderr",
     "output_type": "stream",
     "text": [
      "INFO:SELFCAL:# Major/minor cycle 0/0 cleaning done #\n"
     ]
    },
    {
     "name": "stderr",
     "output_type": "stream",
     "text": [
      "INFO:SELFCAL:# Cleaned image for major/minor cycle 0/0 created #\n"
     ]
    },
    {
     "name": "stderr",
     "output_type": "stream",
     "text": [
      "INFO:SELFCAL:# Residual image for major/minor cycle 0/0 created #\n"
     ]
    },
    {
     "name": "stderr",
     "output_type": "stream",
     "text": [
      "INFO:SELFCAL:# Peak of the residual image is 0.0198825 Jy/beam #\n"
     ]
    },
    {
     "name": "stderr",
     "output_type": "stream",
     "text": [
      "INFO:SELFCAL:# RMS of the residual image is 0.0010492 Jy/beam #\n"
     ]
    },
    {
     "name": "stderr",
     "output_type": "stream",
     "text": [
      "INFO:SELFCAL:# Minor self-calibration cycle 0 for frequency chunk 02 finished #\n"
     ]
    },
    {
     "name": "stderr",
     "output_type": "stream",
     "text": [
      "INFO:SELFCAL:# Minor self-calibration cycle 1 for frequency chunk 02 started #\n"
     ]
    },
    {
     "name": "stderr",
     "output_type": "stream",
     "text": [
      "INFO:SELFCAL:# Mask threshold for major/minor cycle 0/1 set to 0.0405317163467 Jy/beam #\n"
     ]
    },
    {
     "name": "stderr",
     "output_type": "stream",
     "text": [
      "INFO:SELFCAL:# Mask threshold set by Dynamic range threshold #\n"
     ]
    },
    {
     "name": "stderr",
     "output_type": "stream",
     "text": [
      "INFO:SELFCAL:# Mask with threshold 0.0405317163467 Jy/beam created #\n"
     ]
    },
    {
     "name": "stderr",
     "output_type": "stream",
     "text": [
      "INFO:SELFCAL:# Clean threshold at major/minor cycle 0/1 was set to 0.00810634326935 Jy/beam #\n"
     ]
    },
    {
     "name": "stderr",
     "output_type": "stream",
     "text": [
      "INFO:SELFCAL:# Major/minor cycle 0/1 cleaning done #\n"
     ]
    },
    {
     "name": "stderr",
     "output_type": "stream",
     "text": [
      "INFO:SELFCAL:# Cleaned image for major/minor cycle 0/1 created #\n"
     ]
    },
    {
     "name": "stderr",
     "output_type": "stream",
     "text": [
      "INFO:SELFCAL:# Residual image for major/minor cycle 0/1 created #\n"
     ]
    },
    {
     "name": "stderr",
     "output_type": "stream",
     "text": [
      "INFO:SELFCAL:# Peak of the residual image is 0.0197726 Jy/beam #\n"
     ]
    },
    {
     "name": "stderr",
     "output_type": "stream",
     "text": [
      "INFO:SELFCAL:# RMS of the residual image is 0.00111761 Jy/beam #\n"
     ]
    },
    {
     "name": "stderr",
     "output_type": "stream",
     "text": [
      "INFO:SELFCAL:# Minor self-calibration cycle 1 for frequency chunk 02 finished #\n"
     ]
    },
    {
     "name": "stderr",
     "output_type": "stream",
     "text": [
      "INFO:SELFCAL:# Minor self-calibration cycle 2 for frequency chunk 02 started #\n"
     ]
    },
    {
     "name": "stderr",
     "output_type": "stream",
     "text": [
      "INFO:SELFCAL:# Mask threshold for major/minor cycle 0/2 set to 0.0101329290867 Jy/beam #\n"
     ]
    },
    {
     "name": "stderr",
     "output_type": "stream",
     "text": [
      "INFO:SELFCAL:# Mask threshold set by Dynamic range threshold #\n"
     ]
    },
    {
     "name": "stderr",
     "output_type": "stream",
     "text": [
      "INFO:SELFCAL:# Mask with threshold 0.0101329290867 Jy/beam created #\n"
     ]
    },
    {
     "name": "stderr",
     "output_type": "stream",
     "text": [
      "INFO:SELFCAL:# Clean threshold at major/minor cycle 0/2 was set to 0.00202658581734 Jy/beam #\n"
     ]
    },
    {
     "name": "stderr",
     "output_type": "stream",
     "text": [
      "INFO:SELFCAL:# Major/minor cycle 0/2 cleaning done #\n"
     ]
    },
    {
     "name": "stderr",
     "output_type": "stream",
     "text": [
      "INFO:SELFCAL:# Cleaned image for major/minor cycle 0/2 created #\n"
     ]
    },
    {
     "name": "stderr",
     "output_type": "stream",
     "text": [
      "INFO:SELFCAL:# Residual image for major/minor cycle 0/2 created #\n"
     ]
    },
    {
     "name": "stderr",
     "output_type": "stream",
     "text": [
      "INFO:SELFCAL:# Peak of the residual image is 0.00905545 Jy/beam #\n"
     ]
    },
    {
     "name": "stderr",
     "output_type": "stream",
     "text": [
      "INFO:SELFCAL:# RMS of the residual image is 0.000892677 Jy/beam #\n"
     ]
    },
    {
     "name": "stderr",
     "output_type": "stream",
     "text": [
      "INFO:SELFCAL:# Minor self-calibration cycle 2 for frequency chunk 02 finished #\n"
     ]
    },
    {
     "name": "stderr",
     "output_type": "stream",
     "text": [
      "INFO:SELFCAL:# Minor self-calibration cycle 3 for frequency chunk 02 started #\n"
     ]
    },
    {
     "name": "stderr",
     "output_type": "stream",
     "text": [
      "INFO:SELFCAL:# Mask threshold for major/minor cycle 0/3 set to 0.00450352403853 Jy/beam #\n"
     ]
    },
    {
     "name": "stderr",
     "output_type": "stream",
     "text": [
      "INFO:SELFCAL:# Mask threshold set by Dynamic range threshold #\n"
     ]
    },
    {
     "name": "stderr",
     "output_type": "stream",
     "text": [
      "INFO:SELFCAL:# Mask with threshold 0.00450352403853 Jy/beam created #\n"
     ]
    },
    {
     "name": "stderr",
     "output_type": "stream",
     "text": [
      "INFO:SELFCAL:# Clean threshold at major/minor cycle 0/3 was set to 0.000900704807705 Jy/beam #\n"
     ]
    },
    {
     "name": "stderr",
     "output_type": "stream",
     "text": [
      "INFO:SELFCAL:# Major/minor cycle 0/3 cleaning done #\n"
     ]
    },
    {
     "name": "stderr",
     "output_type": "stream",
     "text": [
      "INFO:SELFCAL:# Cleaned image for major/minor cycle 0/3 created #\n"
     ]
    },
    {
     "name": "stderr",
     "output_type": "stream",
     "text": [
      "INFO:SELFCAL:# Residual image for major/minor cycle 0/3 created #\n"
     ]
    },
    {
     "name": "stderr",
     "output_type": "stream",
     "text": [
      "INFO:SELFCAL:# Peak of the residual image is 0.00529795 Jy/beam #\n"
     ]
    },
    {
     "name": "stderr",
     "output_type": "stream",
     "text": [
      "INFO:SELFCAL:# RMS of the residual image is 0.000789098 Jy/beam #\n"
     ]
    },
    {
     "name": "stderr",
     "output_type": "stream",
     "text": [
      "INFO:SELFCAL:# Minor self-calibration cycle 3 for frequency chunk 02 finished #\n"
     ]
    },
    {
     "name": "stderr",
     "output_type": "stream",
     "text": [
      "INFO:SELFCAL:# Minor self-calibration cycle 4 for frequency chunk 02 started #\n"
     ]
    },
    {
     "name": "stderr",
     "output_type": "stream",
     "text": [
      "INFO:SELFCAL:# Mask threshold for major/minor cycle 0/4 set to 0.003425 Jy/beam #\n"
     ]
    },
    {
     "name": "stderr",
     "output_type": "stream",
     "text": [
      "INFO:SELFCAL:# Mask threshold set by Theoretical noise threshold #\n"
     ]
    },
    {
     "name": "stderr",
     "output_type": "stream",
     "text": [
      "INFO:SELFCAL:# Mask with threshold 0.003425 Jy/beam created #\n"
     ]
    },
    {
     "name": "stderr",
     "output_type": "stream",
     "text": [
      "INFO:SELFCAL:# Clean threshold at major/minor cycle 0/4 was set to 0.000685 Jy/beam #\n"
     ]
    },
    {
     "name": "stderr",
     "output_type": "stream",
     "text": [
      "INFO:SELFCAL:# Major/minor cycle 0/4 cleaning done #\n"
     ]
    },
    {
     "name": "stderr",
     "output_type": "stream",
     "text": [
      "INFO:SELFCAL:# Cleaned image for major/minor cycle 0/4 created #\n"
     ]
    },
    {
     "name": "stderr",
     "output_type": "stream",
     "text": [
      "INFO:SELFCAL:# Residual image for major/minor cycle 0/4 created #\n"
     ]
    },
    {
     "name": "stderr",
     "output_type": "stream",
     "text": [
      "INFO:SELFCAL:# Peak of the residual image is 0.00433799 Jy/beam #\n"
     ]
    },
    {
     "name": "stderr",
     "output_type": "stream",
     "text": [
      "INFO:SELFCAL:# RMS of the residual image is 0.00073958 Jy/beam #\n"
     ]
    },
    {
     "name": "stderr",
     "output_type": "stream",
     "text": [
      "INFO:SELFCAL:# Minor self-calibration cycle 4 for frequency chunk 02 finished #\n"
     ]
    },
    {
     "name": "stderr",
     "output_type": "stream",
     "text": [
      "INFO:SELFCAL:# Doing self-calibration with uvmin=0.0, uvmax=3000, solution interval=5 minutes for major cycle 00 #\n"
     ]
    },
    {
     "name": "stderr",
     "output_type": "stream",
     "text": [
      "INFO:SELFCAL:# Major self-calibration cycle 0 for frequency chunk 02 finished #\n"
     ]
    },
    {
     "name": "stderr",
     "output_type": "stream",
     "text": [
      "INFO:SELFCAL:# Major self-calibration cycle 1 for frequency chunk 02 started #\n"
     ]
    },
    {
     "name": "stderr",
     "output_type": "stream",
     "text": [
      "INFO:SELFCAL:# Creating directory /data/adebahr/apertif/tutorials/T1/00/selfcal/02/01 #\n"
     ]
    },
    {
     "name": "stderr",
     "output_type": "stream",
     "text": [
      "INFO:SELFCAL:# The minor cycle dynamic range limits for major cycle 1 are [25.0, 26.5625, 31.25, 39.0625, 50.0] #\n"
     ]
    },
    {
     "name": "stderr",
     "output_type": "stream",
     "text": [
      "INFO:SELFCAL:# Minor self-calibration cycle 0 for frequency chunk 02 started #\n"
     ]
    },
    {
     "name": "stderr",
     "output_type": "stream",
     "text": [
      "INFO:SELFCAL:# Mask threshold for major/minor cycle 1/0 set to 0.003425 Jy/beam #\n"
     ]
    },
    {
     "name": "stderr",
     "output_type": "stream",
     "text": [
      "INFO:SELFCAL:# Mask threshold set by Theoretical noise threshold #\n"
     ]
    },
    {
     "name": "stderr",
     "output_type": "stream",
     "text": [
      "INFO:SELFCAL:# Mask from last minor iteration of last major cycle copied #\n"
     ]
    },
    {
     "name": "stderr",
     "output_type": "stream",
     "text": [
      "INFO:SELFCAL:# Clean threshold at major/minor cycle 1/0 was set to 0.000685 Jy/beam #\n"
     ]
    },
    {
     "name": "stderr",
     "output_type": "stream",
     "text": [
      "INFO:SELFCAL:# Major/minor cycle 1/0 cleaning done #\n"
     ]
    },
    {
     "name": "stderr",
     "output_type": "stream",
     "text": [
      "INFO:SELFCAL:# Cleaned image for major/minor cycle 1/0 created #\n"
     ]
    },
    {
     "name": "stderr",
     "output_type": "stream",
     "text": [
      "INFO:SELFCAL:# Residual image for major/minor cycle 1/0 created #\n"
     ]
    },
    {
     "name": "stderr",
     "output_type": "stream",
     "text": [
      "INFO:SELFCAL:# Peak of the residual image is 0.00405382 Jy/beam #\n"
     ]
    },
    {
     "name": "stderr",
     "output_type": "stream",
     "text": [
      "INFO:SELFCAL:# RMS of the residual image is 0.000689792 Jy/beam #\n"
     ]
    },
    {
     "name": "stderr",
     "output_type": "stream",
     "text": [
      "INFO:SELFCAL:# Minor self-calibration cycle 0 for frequency chunk 02 finished #\n"
     ]
    },
    {
     "name": "stderr",
     "output_type": "stream",
     "text": [
      "INFO:SELFCAL:# Minor self-calibration cycle 1 for frequency chunk 02 started #\n"
     ]
    },
    {
     "name": "stderr",
     "output_type": "stream",
     "text": [
      "INFO:SELFCAL:# Mask threshold for major/minor cycle 1/1 set to 0.003425 Jy/beam #\n"
     ]
    },
    {
     "name": "stderr",
     "output_type": "stream",
     "text": [
      "INFO:SELFCAL:# Mask threshold set by Theoretical noise threshold #\n"
     ]
    },
    {
     "name": "stderr",
     "output_type": "stream",
     "text": [
      "INFO:SELFCAL:# Mask with threshold 0.003425 Jy/beam created #\n"
     ]
    },
    {
     "name": "stderr",
     "output_type": "stream",
     "text": [
      "INFO:SELFCAL:# Clean threshold at major/minor cycle 1/1 was set to 0.000685 Jy/beam #\n"
     ]
    },
    {
     "name": "stderr",
     "output_type": "stream",
     "text": [
      "INFO:SELFCAL:# Major/minor cycle 1/1 cleaning done #\n"
     ]
    },
    {
     "name": "stderr",
     "output_type": "stream",
     "text": [
      "INFO:SELFCAL:# Cleaned image for major/minor cycle 1/1 created #\n"
     ]
    },
    {
     "name": "stderr",
     "output_type": "stream",
     "text": [
      "INFO:SELFCAL:# Residual image for major/minor cycle 1/1 created #\n"
     ]
    },
    {
     "name": "stderr",
     "output_type": "stream",
     "text": [
      "INFO:SELFCAL:# Peak of the residual image is 0.00368279 Jy/beam #\n"
     ]
    },
    {
     "name": "stderr",
     "output_type": "stream",
     "text": [
      "INFO:SELFCAL:# RMS of the residual image is 0.000690744 Jy/beam #\n"
     ]
    },
    {
     "name": "stderr",
     "output_type": "stream",
     "text": [
      "INFO:SELFCAL:# Minor self-calibration cycle 1 for frequency chunk 02 finished #\n"
     ]
    },
    {
     "name": "stderr",
     "output_type": "stream",
     "text": [
      "INFO:SELFCAL:# Minor self-calibration cycle 2 for frequency chunk 02 started #\n"
     ]
    },
    {
     "name": "stderr",
     "output_type": "stream",
     "text": [
      "INFO:SELFCAL:# Mask threshold for major/minor cycle 1/2 set to 0.003425 Jy/beam #\n"
     ]
    },
    {
     "name": "stderr",
     "output_type": "stream",
     "text": [
      "INFO:SELFCAL:# Mask threshold set by Theoretical noise threshold #\n"
     ]
    },
    {
     "name": "stderr",
     "output_type": "stream",
     "text": [
      "INFO:SELFCAL:# Mask with threshold 0.003425 Jy/beam created #\n"
     ]
    },
    {
     "name": "stderr",
     "output_type": "stream",
     "text": [
      "INFO:SELFCAL:# Clean threshold at major/minor cycle 1/2 was set to 0.000685 Jy/beam #\n"
     ]
    },
    {
     "name": "stderr",
     "output_type": "stream",
     "text": [
      "INFO:SELFCAL:# Major/minor cycle 1/2 cleaning done #\n"
     ]
    },
    {
     "name": "stderr",
     "output_type": "stream",
     "text": [
      "INFO:SELFCAL:# Cleaned image for major/minor cycle 1/2 created #\n"
     ]
    },
    {
     "name": "stderr",
     "output_type": "stream",
     "text": [
      "INFO:SELFCAL:# Residual image for major/minor cycle 1/2 created #\n"
     ]
    },
    {
     "name": "stderr",
     "output_type": "stream",
     "text": [
      "INFO:SELFCAL:# Peak of the residual image is 0.00347905 Jy/beam #\n"
     ]
    },
    {
     "name": "stderr",
     "output_type": "stream",
     "text": [
      "INFO:SELFCAL:# RMS of the residual image is 0.000684401 Jy/beam #\n"
     ]
    },
    {
     "name": "stderr",
     "output_type": "stream",
     "text": [
      "INFO:SELFCAL:# Minor self-calibration cycle 2 for frequency chunk 02 finished #\n"
     ]
    },
    {
     "name": "stderr",
     "output_type": "stream",
     "text": [
      "INFO:SELFCAL:# Minor self-calibration cycle 3 for frequency chunk 02 started #\n"
     ]
    },
    {
     "name": "stderr",
     "output_type": "stream",
     "text": [
      "INFO:SELFCAL:# Mask threshold for major/minor cycle 1/3 set to 0.003425 Jy/beam #\n"
     ]
    },
    {
     "name": "stderr",
     "output_type": "stream",
     "text": [
      "INFO:SELFCAL:# Mask threshold set by Theoretical noise threshold #\n"
     ]
    },
    {
     "name": "stderr",
     "output_type": "stream",
     "text": [
      "INFO:SELFCAL:# Mask with threshold 0.003425 Jy/beam created #\n"
     ]
    },
    {
     "name": "stderr",
     "output_type": "stream",
     "text": [
      "INFO:SELFCAL:# Clean threshold at major/minor cycle 1/3 was set to 0.000685 Jy/beam #\n"
     ]
    },
    {
     "name": "stderr",
     "output_type": "stream",
     "text": [
      "INFO:SELFCAL:# Major/minor cycle 1/3 cleaning done #\n"
     ]
    },
    {
     "name": "stderr",
     "output_type": "stream",
     "text": [
      "INFO:SELFCAL:# Cleaned image for major/minor cycle 1/3 created #\n"
     ]
    },
    {
     "name": "stderr",
     "output_type": "stream",
     "text": [
      "INFO:SELFCAL:# Residual image for major/minor cycle 1/3 created #\n"
     ]
    },
    {
     "name": "stderr",
     "output_type": "stream",
     "text": [
      "INFO:SELFCAL:# Peak of the residual image is 0.00340945 Jy/beam #\n"
     ]
    },
    {
     "name": "stderr",
     "output_type": "stream",
     "text": [
      "INFO:SELFCAL:# RMS of the residual image is 0.00068401 Jy/beam #\n"
     ]
    },
    {
     "name": "stderr",
     "output_type": "stream",
     "text": [
      "INFO:SELFCAL:# Minor self-calibration cycle 3 for frequency chunk 02 finished #\n"
     ]
    },
    {
     "name": "stderr",
     "output_type": "stream",
     "text": [
      "INFO:SELFCAL:# Minor self-calibration cycle 4 for frequency chunk 02 started #\n"
     ]
    },
    {
     "name": "stderr",
     "output_type": "stream",
     "text": [
      "INFO:SELFCAL:# Mask threshold for major/minor cycle 1/4 set to 0.003425 Jy/beam #\n"
     ]
    },
    {
     "name": "stderr",
     "output_type": "stream",
     "text": [
      "INFO:SELFCAL:# Mask threshold set by Theoretical noise threshold #\n"
     ]
    },
    {
     "name": "stderr",
     "output_type": "stream",
     "text": [
      "INFO:SELFCAL:# Mask with threshold 0.003425 Jy/beam created #\n"
     ]
    },
    {
     "name": "stderr",
     "output_type": "stream",
     "text": [
      "INFO:SELFCAL:# Clean threshold at major/minor cycle 1/4 was set to 0.000685 Jy/beam #\n"
     ]
    },
    {
     "name": "stderr",
     "output_type": "stream",
     "text": [
      "INFO:SELFCAL:# Major/minor cycle 1/4 cleaning done #\n"
     ]
    },
    {
     "name": "stderr",
     "output_type": "stream",
     "text": [
      "INFO:SELFCAL:# Cleaned image for major/minor cycle 1/4 created #\n"
     ]
    },
    {
     "name": "stderr",
     "output_type": "stream",
     "text": [
      "INFO:SELFCAL:# Residual image for major/minor cycle 1/4 created #\n"
     ]
    },
    {
     "name": "stderr",
     "output_type": "stream",
     "text": [
      "INFO:SELFCAL:# Peak of the residual image is 0.00345266 Jy/beam #\n"
     ]
    },
    {
     "name": "stderr",
     "output_type": "stream",
     "text": [
      "INFO:SELFCAL:# RMS of the residual image is 0.000684884 Jy/beam #\n"
     ]
    },
    {
     "name": "stderr",
     "output_type": "stream",
     "text": [
      "INFO:SELFCAL:# Minor self-calibration cycle 4 for frequency chunk 02 finished #\n"
     ]
    },
    {
     "name": "stderr",
     "output_type": "stream",
     "text": [
      "INFO:SELFCAL:# Doing self-calibration with uvmin=0.0, uvmax=3000, solution interval=3 minutes for major cycle 01 #\n"
     ]
    },
    {
     "name": "stderr",
     "output_type": "stream",
     "text": [
      "INFO:SELFCAL:# Major self-calibration cycle 1 for frequency chunk 02 finished #\n"
     ]
    },
    {
     "name": "stderr",
     "output_type": "stream",
     "text": [
      "INFO:SELFCAL:# Major self-calibration cycle 2 for frequency chunk 02 started #\n"
     ]
    },
    {
     "name": "stderr",
     "output_type": "stream",
     "text": [
      "INFO:SELFCAL:# Creating directory /data/adebahr/apertif/tutorials/T1/00/selfcal/02/02 #\n"
     ]
    },
    {
     "name": "stderr",
     "output_type": "stream",
     "text": [
      "INFO:SELFCAL:# The minor cycle dynamic range limits for major cycle 2 are [50.0, 53.125, 62.5, 78.125, 100.0] #\n"
     ]
    },
    {
     "name": "stderr",
     "output_type": "stream",
     "text": [
      "INFO:SELFCAL:# Minor self-calibration cycle 0 for frequency chunk 02 started #\n"
     ]
    },
    {
     "name": "stderr",
     "output_type": "stream",
     "text": [
      "INFO:SELFCAL:# Mask threshold for major/minor cycle 2/0 set to 0.003425 Jy/beam #\n"
     ]
    },
    {
     "name": "stderr",
     "output_type": "stream",
     "text": [
      "INFO:SELFCAL:# Mask threshold set by Theoretical noise threshold #\n"
     ]
    },
    {
     "name": "stderr",
     "output_type": "stream",
     "text": [
      "INFO:SELFCAL:# Mask from last minor iteration of last major cycle copied #\n"
     ]
    },
    {
     "name": "stderr",
     "output_type": "stream",
     "text": [
      "INFO:SELFCAL:# Clean threshold at major/minor cycle 2/0 was set to 0.000685 Jy/beam #\n"
     ]
    },
    {
     "name": "stderr",
     "output_type": "stream",
     "text": [
      "INFO:SELFCAL:# Major/minor cycle 2/0 cleaning done #\n"
     ]
    },
    {
     "name": "stderr",
     "output_type": "stream",
     "text": [
      "INFO:SELFCAL:# Cleaned image for major/minor cycle 2/0 created #\n"
     ]
    },
    {
     "name": "stderr",
     "output_type": "stream",
     "text": [
      "INFO:SELFCAL:# Residual image for major/minor cycle 2/0 created #\n"
     ]
    },
    {
     "name": "stderr",
     "output_type": "stream",
     "text": [
      "INFO:SELFCAL:# Peak of the residual image is 0.00334307 Jy/beam #\n"
     ]
    },
    {
     "name": "stderr",
     "output_type": "stream",
     "text": [
      "INFO:SELFCAL:# RMS of the residual image is 0.000668014 Jy/beam #\n"
     ]
    },
    {
     "name": "stderr",
     "output_type": "stream",
     "text": [
      "INFO:SELFCAL:# Minor self-calibration cycle 0 for frequency chunk 02 finished #\n"
     ]
    },
    {
     "name": "stderr",
     "output_type": "stream",
     "text": [
      "INFO:SELFCAL:# Minor self-calibration cycle 1 for frequency chunk 02 started #\n"
     ]
    },
    {
     "name": "stderr",
     "output_type": "stream",
     "text": [
      "INFO:SELFCAL:# Mask threshold for major/minor cycle 2/1 set to 0.003425 Jy/beam #\n"
     ]
    },
    {
     "name": "stderr",
     "output_type": "stream",
     "text": [
      "INFO:SELFCAL:# Mask threshold set by Theoretical noise threshold #\n"
     ]
    },
    {
     "name": "stderr",
     "output_type": "stream",
     "text": [
      "INFO:SELFCAL:# Mask with threshold 0.003425 Jy/beam created #\n"
     ]
    },
    {
     "name": "stderr",
     "output_type": "stream",
     "text": [
      "INFO:SELFCAL:# Clean threshold at major/minor cycle 2/1 was set to 0.000685 Jy/beam #\n"
     ]
    },
    {
     "name": "stderr",
     "output_type": "stream",
     "text": [
      "INFO:SELFCAL:# Major/minor cycle 2/1 cleaning done #\n"
     ]
    },
    {
     "name": "stderr",
     "output_type": "stream",
     "text": [
      "INFO:SELFCAL:# Cleaned image for major/minor cycle 2/1 created #\n"
     ]
    },
    {
     "name": "stderr",
     "output_type": "stream",
     "text": [
      "INFO:SELFCAL:# Residual image for major/minor cycle 2/1 created #\n"
     ]
    },
    {
     "name": "stderr",
     "output_type": "stream",
     "text": [
      "INFO:SELFCAL:# Peak of the residual image is 0.00326136 Jy/beam #\n"
     ]
    },
    {
     "name": "stderr",
     "output_type": "stream",
     "text": [
      "INFO:SELFCAL:# RMS of the residual image is 0.000669803 Jy/beam #\n"
     ]
    },
    {
     "name": "stderr",
     "output_type": "stream",
     "text": [
      "INFO:SELFCAL:# Minor self-calibration cycle 1 for frequency chunk 02 finished #\n"
     ]
    },
    {
     "name": "stderr",
     "output_type": "stream",
     "text": [
      "INFO:SELFCAL:# Minor self-calibration cycle 2 for frequency chunk 02 started #\n"
     ]
    },
    {
     "name": "stderr",
     "output_type": "stream",
     "text": [
      "INFO:SELFCAL:# Mask threshold for major/minor cycle 2/2 set to 0.003425 Jy/beam #\n"
     ]
    },
    {
     "name": "stderr",
     "output_type": "stream",
     "text": [
      "INFO:SELFCAL:# Mask threshold set by Theoretical noise threshold #\n"
     ]
    },
    {
     "name": "stderr",
     "output_type": "stream",
     "text": [
      "INFO:SELFCAL:# Mask with threshold 0.003425 Jy/beam created #\n"
     ]
    },
    {
     "name": "stderr",
     "output_type": "stream",
     "text": [
      "INFO:SELFCAL:# Clean threshold at major/minor cycle 2/2 was set to 0.000685 Jy/beam #\n"
     ]
    },
    {
     "name": "stderr",
     "output_type": "stream",
     "text": [
      "INFO:SELFCAL:# Major/minor cycle 2/2 cleaning done #\n"
     ]
    },
    {
     "name": "stderr",
     "output_type": "stream",
     "text": [
      "INFO:SELFCAL:# Cleaned image for major/minor cycle 2/2 created #\n"
     ]
    },
    {
     "name": "stderr",
     "output_type": "stream",
     "text": [
      "INFO:SELFCAL:# Residual image for major/minor cycle 2/2 created #\n"
     ]
    },
    {
     "name": "stderr",
     "output_type": "stream",
     "text": [
      "INFO:SELFCAL:# Peak of the residual image is 0.00330944 Jy/beam #\n"
     ]
    },
    {
     "name": "stderr",
     "output_type": "stream",
     "text": [
      "INFO:SELFCAL:# RMS of the residual image is 0.000670149 Jy/beam #\n"
     ]
    },
    {
     "name": "stderr",
     "output_type": "stream",
     "text": [
      "INFO:SELFCAL:# Minor self-calibration cycle 2 for frequency chunk 02 finished #\n"
     ]
    },
    {
     "name": "stderr",
     "output_type": "stream",
     "text": [
      "INFO:SELFCAL:# Minor self-calibration cycle 3 for frequency chunk 02 started #\n"
     ]
    },
    {
     "name": "stderr",
     "output_type": "stream",
     "text": [
      "INFO:SELFCAL:# Mask threshold for major/minor cycle 2/3 set to 0.003425 Jy/beam #\n"
     ]
    },
    {
     "name": "stderr",
     "output_type": "stream",
     "text": [
      "INFO:SELFCAL:# Mask threshold set by Theoretical noise threshold #\n"
     ]
    },
    {
     "name": "stderr",
     "output_type": "stream",
     "text": [
      "INFO:SELFCAL:# Mask with threshold 0.003425 Jy/beam created #\n"
     ]
    },
    {
     "name": "stderr",
     "output_type": "stream",
     "text": [
      "INFO:SELFCAL:# Clean threshold at major/minor cycle 2/3 was set to 0.000685 Jy/beam #\n"
     ]
    },
    {
     "name": "stderr",
     "output_type": "stream",
     "text": [
      "INFO:SELFCAL:# Major/minor cycle 2/3 cleaning done #\n"
     ]
    },
    {
     "name": "stderr",
     "output_type": "stream",
     "text": [
      "INFO:SELFCAL:# Cleaned image for major/minor cycle 2/3 created #\n"
     ]
    },
    {
     "name": "stderr",
     "output_type": "stream",
     "text": [
      "INFO:SELFCAL:# Residual image for major/minor cycle 2/3 created #\n"
     ]
    },
    {
     "name": "stderr",
     "output_type": "stream",
     "text": [
      "INFO:SELFCAL:# Peak of the residual image is 0.0033005 Jy/beam #\n"
     ]
    },
    {
     "name": "stderr",
     "output_type": "stream",
     "text": [
      "INFO:SELFCAL:# RMS of the residual image is 0.000669952 Jy/beam #\n"
     ]
    },
    {
     "name": "stderr",
     "output_type": "stream",
     "text": [
      "INFO:SELFCAL:# Minor self-calibration cycle 3 for frequency chunk 02 finished #\n"
     ]
    },
    {
     "name": "stderr",
     "output_type": "stream",
     "text": [
      "INFO:SELFCAL:# Minor self-calibration cycle 4 for frequency chunk 02 started #\n"
     ]
    },
    {
     "name": "stderr",
     "output_type": "stream",
     "text": [
      "INFO:SELFCAL:# Mask threshold for major/minor cycle 2/4 set to 0.003425 Jy/beam #\n"
     ]
    },
    {
     "name": "stderr",
     "output_type": "stream",
     "text": [
      "INFO:SELFCAL:# Mask threshold set by Theoretical noise threshold #\n"
     ]
    },
    {
     "name": "stderr",
     "output_type": "stream",
     "text": [
      "INFO:SELFCAL:# Mask with threshold 0.003425 Jy/beam created #\n"
     ]
    },
    {
     "name": "stderr",
     "output_type": "stream",
     "text": [
      "INFO:SELFCAL:# Clean threshold at major/minor cycle 2/4 was set to 0.000685 Jy/beam #\n"
     ]
    },
    {
     "name": "stderr",
     "output_type": "stream",
     "text": [
      "INFO:SELFCAL:# Major/minor cycle 2/4 cleaning done #\n"
     ]
    },
    {
     "name": "stderr",
     "output_type": "stream",
     "text": [
      "INFO:SELFCAL:# Cleaned image for major/minor cycle 2/4 created #\n"
     ]
    },
    {
     "name": "stderr",
     "output_type": "stream",
     "text": [
      "INFO:SELFCAL:# Residual image for major/minor cycle 2/4 created #\n"
     ]
    },
    {
     "name": "stderr",
     "output_type": "stream",
     "text": [
      "INFO:SELFCAL:# Peak of the residual image is 0.00330153 Jy/beam #\n"
     ]
    },
    {
     "name": "stderr",
     "output_type": "stream",
     "text": [
      "INFO:SELFCAL:# RMS of the residual image is 0.000669883 Jy/beam #\n"
     ]
    },
    {
     "name": "stderr",
     "output_type": "stream",
     "text": [
      "INFO:SELFCAL:# Minor self-calibration cycle 4 for frequency chunk 02 finished #\n"
     ]
    },
    {
     "name": "stderr",
     "output_type": "stream",
     "text": [
      "INFO:SELFCAL:# Doing self-calibration with uvmin=0.0, uvmax=3000, solution interval=0.5 minutes for major cycle 02 #\n"
     ]
    },
    {
     "name": "stderr",
     "output_type": "stream",
     "text": [
      "INFO:SELFCAL:# Major self-calibration cycle 2 for frequency chunk 02 finished #\n"
     ]
    },
    {
     "name": "stderr",
     "output_type": "stream",
     "text": [
      "INFO:SELFCAL:# Standard self-calibration routine for chunk 02 finished #\n"
     ]
    },
    {
     "name": "stderr",
     "output_type": "stream",
     "text": [
      "INFO:SELFCAL:# Starting standard self-calibration routine on frequency chunk 03 #\n"
     ]
    },
    {
     "name": "stderr",
     "output_type": "stream",
     "text": [
      "INFO:SELFCAL:# Moved to directory /data/adebahr/apertif/tutorials/T1/00/selfcal/03 #\n"
     ]
    },
    {
     "name": "stderr",
     "output_type": "stream",
     "text": [
      "INFO:SELFCAL:# Theoretical noise for chunk 03 is 6.85e-05 Jy/beam #\n"
     ]
    },
    {
     "name": "stderr",
     "output_type": "stream",
     "text": [
      "INFO:SELFCAL:# Your theoretical noise threshold will be 50 times the theoretical noise corresponding to 0.003425 Jy/beam #\n"
     ]
    },
    {
     "name": "stderr",
     "output_type": "stream",
     "text": [
      "INFO:SELFCAL:# Your dynamic range limits are set to [25.0, 50.0, 100.0] for the major self-calibration cycles #\n"
     ]
    },
    {
     "name": "stderr",
     "output_type": "stream",
     "text": [
      "INFO:SELFCAL:# Major self-calibration cycle 0 for frequency chunk 03 started #\n"
     ]
    },
    {
     "name": "stderr",
     "output_type": "stream",
     "text": [
      "INFO:SELFCAL:# Creating directory /data/adebahr/apertif/tutorials/T1/00/selfcal/03/00 #\n"
     ]
    },
    {
     "name": "stderr",
     "output_type": "stream",
     "text": [
      "INFO:SELFCAL:# The minor cycle dynamic range limits for major cycle 0 are [3.0, 1.5625, 6.25, 14.0625, 25.0] #\n"
     ]
    },
    {
     "name": "stderr",
     "output_type": "stream",
     "text": [
      "INFO:SELFCAL:# Minor self-calibration cycle 0 for frequency chunk 03 started #\n"
     ]
    },
    {
     "name": "stderr",
     "output_type": "stream",
     "text": [
      "INFO:SELFCAL:# Mask threshold for major/minor cycle 0/0 set to 0.0207830307384 Jy/beam #\n"
     ]
    },
    {
     "name": "stderr",
     "output_type": "stream",
     "text": [
      "INFO:SELFCAL:# Mask threshold set by Dynamic range threshold #\n"
     ]
    },
    {
     "name": "stderr",
     "output_type": "stream",
     "text": [
      "INFO:SELFCAL:# Mask with threshold 0.0207830307384 Jy/beam created #\n"
     ]
    },
    {
     "name": "stderr",
     "output_type": "stream",
     "text": [
      "INFO:SELFCAL:# Clean threshold at major/minor cycle 0/0 was set to 0.00415660614769 Jy/beam #\n"
     ]
    },
    {
     "name": "stderr",
     "output_type": "stream",
     "text": [
      "INFO:SELFCAL:# Major/minor cycle 0/0 cleaning done #\n"
     ]
    },
    {
     "name": "stderr",
     "output_type": "stream",
     "text": [
      "INFO:SELFCAL:# Cleaned image for major/minor cycle 0/0 created #\n"
     ]
    },
    {
     "name": "stderr",
     "output_type": "stream",
     "text": [
      "INFO:SELFCAL:# Residual image for major/minor cycle 0/0 created #\n"
     ]
    },
    {
     "name": "stderr",
     "output_type": "stream",
     "text": [
      "INFO:SELFCAL:# Peak of the residual image is 0.0199179 Jy/beam #\n"
     ]
    },
    {
     "name": "stderr",
     "output_type": "stream",
     "text": [
      "INFO:SELFCAL:# RMS of the residual image is 0.00101991 Jy/beam #\n"
     ]
    },
    {
     "name": "stderr",
     "output_type": "stream",
     "text": [
      "INFO:SELFCAL:# Minor self-calibration cycle 0 for frequency chunk 03 finished #\n"
     ]
    },
    {
     "name": "stderr",
     "output_type": "stream",
     "text": [
      "INFO:SELFCAL:# Minor self-calibration cycle 1 for frequency chunk 03 started #\n"
     ]
    },
    {
     "name": "stderr",
     "output_type": "stream",
     "text": [
      "INFO:SELFCAL:# Mask threshold for major/minor cycle 0/1 set to 0.0399034190178 Jy/beam #\n"
     ]
    },
    {
     "name": "stderr",
     "output_type": "stream",
     "text": [
      "INFO:SELFCAL:# Mask threshold set by Dynamic range threshold #\n"
     ]
    },
    {
     "name": "stderr",
     "output_type": "stream",
     "text": [
      "INFO:SELFCAL:# Mask with threshold 0.0399034190178 Jy/beam created #\n"
     ]
    },
    {
     "name": "stderr",
     "output_type": "stream",
     "text": [
      "INFO:SELFCAL:# Clean threshold at major/minor cycle 0/1 was set to 0.00798068380356 Jy/beam #\n"
     ]
    },
    {
     "name": "stderr",
     "output_type": "stream",
     "text": [
      "INFO:SELFCAL:# Major/minor cycle 0/1 cleaning done #\n"
     ]
    },
    {
     "name": "stderr",
     "output_type": "stream",
     "text": [
      "INFO:SELFCAL:# Cleaned image for major/minor cycle 0/1 created #\n"
     ]
    },
    {
     "name": "stderr",
     "output_type": "stream",
     "text": [
      "INFO:SELFCAL:# Residual image for major/minor cycle 0/1 created #\n"
     ]
    },
    {
     "name": "stderr",
     "output_type": "stream",
     "text": [
      "INFO:SELFCAL:# Peak of the residual image is 0.0203447 Jy/beam #\n"
     ]
    },
    {
     "name": "stderr",
     "output_type": "stream",
     "text": [
      "INFO:SELFCAL:# RMS of the residual image is 0.0010831 Jy/beam #\n"
     ]
    },
    {
     "name": "stderr",
     "output_type": "stream",
     "text": [
      "INFO:SELFCAL:# Minor self-calibration cycle 1 for frequency chunk 03 finished #\n"
     ]
    },
    {
     "name": "stderr",
     "output_type": "stream",
     "text": [
      "INFO:SELFCAL:# Minor self-calibration cycle 2 for frequency chunk 03 started #\n"
     ]
    },
    {
     "name": "stderr",
     "output_type": "stream",
     "text": [
      "INFO:SELFCAL:# Mask threshold for major/minor cycle 0/2 set to 0.00997585475445 Jy/beam #\n"
     ]
    },
    {
     "name": "stderr",
     "output_type": "stream",
     "text": [
      "INFO:SELFCAL:# Mask threshold set by Dynamic range threshold #\n"
     ]
    },
    {
     "name": "stderr",
     "output_type": "stream",
     "text": [
      "INFO:SELFCAL:# Mask with threshold 0.00997585475445 Jy/beam created #\n"
     ]
    },
    {
     "name": "stderr",
     "output_type": "stream",
     "text": [
      "INFO:SELFCAL:# Clean threshold at major/minor cycle 0/2 was set to 0.00199517095089 Jy/beam #\n"
     ]
    },
    {
     "name": "stderr",
     "output_type": "stream",
     "text": [
      "INFO:SELFCAL:# Major/minor cycle 0/2 cleaning done #\n"
     ]
    },
    {
     "name": "stderr",
     "output_type": "stream",
     "text": [
      "INFO:SELFCAL:# Cleaned image for major/minor cycle 0/2 created #\n"
     ]
    },
    {
     "name": "stderr",
     "output_type": "stream",
     "text": [
      "INFO:SELFCAL:# Residual image for major/minor cycle 0/2 created #\n"
     ]
    },
    {
     "name": "stderr",
     "output_type": "stream",
     "text": [
      "INFO:SELFCAL:# Peak of the residual image is 0.00911684 Jy/beam #\n"
     ]
    },
    {
     "name": "stderr",
     "output_type": "stream",
     "text": [
      "INFO:SELFCAL:# RMS of the residual image is 0.000855694 Jy/beam #\n"
     ]
    },
    {
     "name": "stderr",
     "output_type": "stream",
     "text": [
      "INFO:SELFCAL:# Minor self-calibration cycle 2 for frequency chunk 03 finished #\n"
     ]
    },
    {
     "name": "stderr",
     "output_type": "stream",
     "text": [
      "INFO:SELFCAL:# Minor self-calibration cycle 3 for frequency chunk 03 started #\n"
     ]
    },
    {
     "name": "stderr",
     "output_type": "stream",
     "text": [
      "INFO:SELFCAL:# Mask threshold for major/minor cycle 0/3 set to 0.0044337132242 Jy/beam #\n"
     ]
    },
    {
     "name": "stderr",
     "output_type": "stream",
     "text": [
      "INFO:SELFCAL:# Mask threshold set by Dynamic range threshold #\n"
     ]
    },
    {
     "name": "stderr",
     "output_type": "stream",
     "text": [
      "INFO:SELFCAL:# Mask with threshold 0.0044337132242 Jy/beam created #\n"
     ]
    },
    {
     "name": "stderr",
     "output_type": "stream",
     "text": [
      "INFO:SELFCAL:# Clean threshold at major/minor cycle 0/3 was set to 0.00088674264484 Jy/beam #\n"
     ]
    },
    {
     "name": "stderr",
     "output_type": "stream",
     "text": [
      "INFO:SELFCAL:# Major/minor cycle 0/3 cleaning done #\n"
     ]
    },
    {
     "name": "stderr",
     "output_type": "stream",
     "text": [
      "INFO:SELFCAL:# Cleaned image for major/minor cycle 0/3 created #\n"
     ]
    },
    {
     "name": "stderr",
     "output_type": "stream",
     "text": [
      "INFO:SELFCAL:# Residual image for major/minor cycle 0/3 created #\n"
     ]
    },
    {
     "name": "stderr",
     "output_type": "stream",
     "text": [
      "INFO:SELFCAL:# Peak of the residual image is 0.00533885 Jy/beam #\n"
     ]
    },
    {
     "name": "stderr",
     "output_type": "stream",
     "text": [
      "INFO:SELFCAL:# RMS of the residual image is 0.00074104 Jy/beam #\n"
     ]
    },
    {
     "name": "stderr",
     "output_type": "stream",
     "text": [
      "INFO:SELFCAL:# Minor self-calibration cycle 3 for frequency chunk 03 finished #\n"
     ]
    },
    {
     "name": "stderr",
     "output_type": "stream",
     "text": [
      "INFO:SELFCAL:# Minor self-calibration cycle 4 for frequency chunk 03 started #\n"
     ]
    },
    {
     "name": "stderr",
     "output_type": "stream",
     "text": [
      "INFO:SELFCAL:# Mask threshold for major/minor cycle 0/4 set to 0.003425 Jy/beam #\n"
     ]
    },
    {
     "name": "stderr",
     "output_type": "stream",
     "text": [
      "INFO:SELFCAL:# Mask threshold set by Theoretical noise threshold #\n"
     ]
    },
    {
     "name": "stderr",
     "output_type": "stream",
     "text": [
      "INFO:SELFCAL:# Mask with threshold 0.003425 Jy/beam created #\n"
     ]
    },
    {
     "name": "stderr",
     "output_type": "stream",
     "text": [
      "INFO:SELFCAL:# Clean threshold at major/minor cycle 0/4 was set to 0.000685 Jy/beam #\n"
     ]
    },
    {
     "name": "stderr",
     "output_type": "stream",
     "text": [
      "INFO:SELFCAL:# Major/minor cycle 0/4 cleaning done #\n"
     ]
    },
    {
     "name": "stderr",
     "output_type": "stream",
     "text": [
      "INFO:SELFCAL:# Cleaned image for major/minor cycle 0/4 created #\n"
     ]
    },
    {
     "name": "stderr",
     "output_type": "stream",
     "text": [
      "INFO:SELFCAL:# Residual image for major/minor cycle 0/4 created #\n"
     ]
    },
    {
     "name": "stderr",
     "output_type": "stream",
     "text": [
      "INFO:SELFCAL:# Peak of the residual image is 0.00390317 Jy/beam #\n"
     ]
    },
    {
     "name": "stderr",
     "output_type": "stream",
     "text": [
      "INFO:SELFCAL:# RMS of the residual image is 0.000712877 Jy/beam #\n"
     ]
    },
    {
     "name": "stderr",
     "output_type": "stream",
     "text": [
      "INFO:SELFCAL:# Minor self-calibration cycle 4 for frequency chunk 03 finished #\n"
     ]
    },
    {
     "name": "stderr",
     "output_type": "stream",
     "text": [
      "INFO:SELFCAL:# Doing self-calibration with uvmin=0.0, uvmax=3000, solution interval=5 minutes for major cycle 00 #\n"
     ]
    },
    {
     "name": "stderr",
     "output_type": "stream",
     "text": [
      "INFO:SELFCAL:# Major self-calibration cycle 0 for frequency chunk 03 finished #\n"
     ]
    },
    {
     "name": "stderr",
     "output_type": "stream",
     "text": [
      "INFO:SELFCAL:# Major self-calibration cycle 1 for frequency chunk 03 started #\n"
     ]
    },
    {
     "name": "stderr",
     "output_type": "stream",
     "text": [
      "INFO:SELFCAL:# Creating directory /data/adebahr/apertif/tutorials/T1/00/selfcal/03/01 #\n"
     ]
    },
    {
     "name": "stderr",
     "output_type": "stream",
     "text": [
      "INFO:SELFCAL:# The minor cycle dynamic range limits for major cycle 1 are [25.0, 26.5625, 31.25, 39.0625, 50.0] #\n"
     ]
    },
    {
     "name": "stderr",
     "output_type": "stream",
     "text": [
      "INFO:SELFCAL:# Minor self-calibration cycle 0 for frequency chunk 03 started #\n"
     ]
    },
    {
     "name": "stderr",
     "output_type": "stream",
     "text": [
      "INFO:SELFCAL:# Mask threshold for major/minor cycle 1/0 set to 0.003425 Jy/beam #\n"
     ]
    },
    {
     "name": "stderr",
     "output_type": "stream",
     "text": [
      "INFO:SELFCAL:# Mask threshold set by Theoretical noise threshold #\n"
     ]
    },
    {
     "name": "stderr",
     "output_type": "stream",
     "text": [
      "INFO:SELFCAL:# Mask from last minor iteration of last major cycle copied #\n"
     ]
    },
    {
     "name": "stderr",
     "output_type": "stream",
     "text": [
      "INFO:SELFCAL:# Clean threshold at major/minor cycle 1/0 was set to 0.000685 Jy/beam #\n"
     ]
    },
    {
     "name": "stderr",
     "output_type": "stream",
     "text": [
      "INFO:SELFCAL:# Major/minor cycle 1/0 cleaning done #\n"
     ]
    },
    {
     "name": "stderr",
     "output_type": "stream",
     "text": [
      "INFO:SELFCAL:# Cleaned image for major/minor cycle 1/0 created #\n"
     ]
    },
    {
     "name": "stderr",
     "output_type": "stream",
     "text": [
      "INFO:SELFCAL:# Residual image for major/minor cycle 1/0 created #\n"
     ]
    },
    {
     "name": "stderr",
     "output_type": "stream",
     "text": [
      "INFO:SELFCAL:# Peak of the residual image is 0.00412611 Jy/beam #\n"
     ]
    },
    {
     "name": "stderr",
     "output_type": "stream",
     "text": [
      "INFO:SELFCAL:# RMS of the residual image is 0.000653051 Jy/beam #\n"
     ]
    },
    {
     "name": "stderr",
     "output_type": "stream",
     "text": [
      "INFO:SELFCAL:# Minor self-calibration cycle 0 for frequency chunk 03 finished #\n"
     ]
    },
    {
     "name": "stderr",
     "output_type": "stream",
     "text": [
      "INFO:SELFCAL:# Minor self-calibration cycle 1 for frequency chunk 03 started #\n"
     ]
    },
    {
     "name": "stderr",
     "output_type": "stream",
     "text": [
      "INFO:SELFCAL:# Mask threshold for major/minor cycle 1/1 set to 0.003425 Jy/beam #\n"
     ]
    },
    {
     "name": "stderr",
     "output_type": "stream",
     "text": [
      "INFO:SELFCAL:# Mask threshold set by Theoretical noise threshold #\n"
     ]
    },
    {
     "name": "stderr",
     "output_type": "stream",
     "text": [
      "INFO:SELFCAL:# Mask with threshold 0.003425 Jy/beam created #\n"
     ]
    },
    {
     "name": "stderr",
     "output_type": "stream",
     "text": [
      "INFO:SELFCAL:# Clean threshold at major/minor cycle 1/1 was set to 0.000685 Jy/beam #\n"
     ]
    },
    {
     "name": "stderr",
     "output_type": "stream",
     "text": [
      "INFO:SELFCAL:# Major/minor cycle 1/1 cleaning done #\n"
     ]
    },
    {
     "name": "stderr",
     "output_type": "stream",
     "text": [
      "INFO:SELFCAL:# Cleaned image for major/minor cycle 1/1 created #\n"
     ]
    },
    {
     "name": "stderr",
     "output_type": "stream",
     "text": [
      "INFO:SELFCAL:# Residual image for major/minor cycle 1/1 created #\n"
     ]
    },
    {
     "name": "stderr",
     "output_type": "stream",
     "text": [
      "INFO:SELFCAL:# Peak of the residual image is 0.00347027 Jy/beam #\n"
     ]
    },
    {
     "name": "stderr",
     "output_type": "stream",
     "text": [
      "INFO:SELFCAL:# RMS of the residual image is 0.000649197 Jy/beam #\n"
     ]
    },
    {
     "name": "stderr",
     "output_type": "stream",
     "text": [
      "INFO:SELFCAL:# Minor self-calibration cycle 1 for frequency chunk 03 finished #\n"
     ]
    },
    {
     "name": "stderr",
     "output_type": "stream",
     "text": [
      "INFO:SELFCAL:# Minor self-calibration cycle 2 for frequency chunk 03 started #\n"
     ]
    },
    {
     "name": "stderr",
     "output_type": "stream",
     "text": [
      "INFO:SELFCAL:# Mask threshold for major/minor cycle 1/2 set to 0.003425 Jy/beam #\n"
     ]
    },
    {
     "name": "stderr",
     "output_type": "stream",
     "text": [
      "INFO:SELFCAL:# Mask threshold set by Theoretical noise threshold #\n"
     ]
    },
    {
     "name": "stderr",
     "output_type": "stream",
     "text": [
      "INFO:SELFCAL:# Mask with threshold 0.003425 Jy/beam created #\n"
     ]
    },
    {
     "name": "stderr",
     "output_type": "stream",
     "text": [
      "INFO:SELFCAL:# Clean threshold at major/minor cycle 1/2 was set to 0.000685 Jy/beam #\n"
     ]
    },
    {
     "name": "stderr",
     "output_type": "stream",
     "text": [
      "INFO:SELFCAL:# Major/minor cycle 1/2 cleaning done #\n"
     ]
    },
    {
     "name": "stderr",
     "output_type": "stream",
     "text": [
      "INFO:SELFCAL:# Cleaned image for major/minor cycle 1/2 created #\n"
     ]
    },
    {
     "name": "stderr",
     "output_type": "stream",
     "text": [
      "INFO:SELFCAL:# Residual image for major/minor cycle 1/2 created #\n"
     ]
    },
    {
     "name": "stderr",
     "output_type": "stream",
     "text": [
      "INFO:SELFCAL:# Peak of the residual image is 0.00343744 Jy/beam #\n"
     ]
    },
    {
     "name": "stderr",
     "output_type": "stream",
     "text": [
      "INFO:SELFCAL:# RMS of the residual image is 0.000647807 Jy/beam #\n"
     ]
    },
    {
     "name": "stderr",
     "output_type": "stream",
     "text": [
      "INFO:SELFCAL:# Minor self-calibration cycle 2 for frequency chunk 03 finished #\n"
     ]
    },
    {
     "name": "stderr",
     "output_type": "stream",
     "text": [
      "INFO:SELFCAL:# Minor self-calibration cycle 3 for frequency chunk 03 started #\n"
     ]
    },
    {
     "name": "stderr",
     "output_type": "stream",
     "text": [
      "INFO:SELFCAL:# Mask threshold for major/minor cycle 1/3 set to 0.003425 Jy/beam #\n"
     ]
    },
    {
     "name": "stderr",
     "output_type": "stream",
     "text": [
      "INFO:SELFCAL:# Mask threshold set by Theoretical noise threshold #\n"
     ]
    },
    {
     "name": "stderr",
     "output_type": "stream",
     "text": [
      "INFO:SELFCAL:# Mask with threshold 0.003425 Jy/beam created #\n"
     ]
    },
    {
     "name": "stderr",
     "output_type": "stream",
     "text": [
      "INFO:SELFCAL:# Clean threshold at major/minor cycle 1/3 was set to 0.000685 Jy/beam #\n"
     ]
    },
    {
     "name": "stderr",
     "output_type": "stream",
     "text": [
      "INFO:SELFCAL:# Major/minor cycle 1/3 cleaning done #\n"
     ]
    },
    {
     "name": "stderr",
     "output_type": "stream",
     "text": [
      "INFO:SELFCAL:# Cleaned image for major/minor cycle 1/3 created #\n"
     ]
    },
    {
     "name": "stderr",
     "output_type": "stream",
     "text": [
      "INFO:SELFCAL:# Residual image for major/minor cycle 1/3 created #\n"
     ]
    },
    {
     "name": "stderr",
     "output_type": "stream",
     "text": [
      "INFO:SELFCAL:# Peak of the residual image is 0.00328276 Jy/beam #\n"
     ]
    },
    {
     "name": "stderr",
     "output_type": "stream",
     "text": [
      "INFO:SELFCAL:# RMS of the residual image is 0.000646141 Jy/beam #\n"
     ]
    },
    {
     "name": "stderr",
     "output_type": "stream",
     "text": [
      "INFO:SELFCAL:# Minor self-calibration cycle 3 for frequency chunk 03 finished #\n"
     ]
    },
    {
     "name": "stderr",
     "output_type": "stream",
     "text": [
      "INFO:SELFCAL:# Minor self-calibration cycle 4 for frequency chunk 03 started #\n"
     ]
    },
    {
     "name": "stderr",
     "output_type": "stream",
     "text": [
      "INFO:SELFCAL:# Mask threshold for major/minor cycle 1/4 set to 0.003425 Jy/beam #\n"
     ]
    },
    {
     "name": "stderr",
     "output_type": "stream",
     "text": [
      "INFO:SELFCAL:# Mask threshold set by Theoretical noise threshold #\n"
     ]
    },
    {
     "name": "stderr",
     "output_type": "stream",
     "text": [
      "INFO:SELFCAL:# Mask with threshold 0.003425 Jy/beam created #\n"
     ]
    },
    {
     "name": "stderr",
     "output_type": "stream",
     "text": [
      "INFO:SELFCAL:# Clean threshold at major/minor cycle 1/4 was set to 0.000685 Jy/beam #\n"
     ]
    },
    {
     "name": "stderr",
     "output_type": "stream",
     "text": [
      "INFO:SELFCAL:# Major/minor cycle 1/4 cleaning done #\n"
     ]
    },
    {
     "name": "stderr",
     "output_type": "stream",
     "text": [
      "INFO:SELFCAL:# Cleaned image for major/minor cycle 1/4 created #\n"
     ]
    },
    {
     "name": "stderr",
     "output_type": "stream",
     "text": [
      "INFO:SELFCAL:# Residual image for major/minor cycle 1/4 created #\n"
     ]
    },
    {
     "name": "stderr",
     "output_type": "stream",
     "text": [
      "INFO:SELFCAL:# Peak of the residual image is 0.00325085 Jy/beam #\n"
     ]
    },
    {
     "name": "stderr",
     "output_type": "stream",
     "text": [
      "INFO:SELFCAL:# RMS of the residual image is 0.000645786 Jy/beam #\n"
     ]
    },
    {
     "name": "stderr",
     "output_type": "stream",
     "text": [
      "INFO:SELFCAL:# Minor self-calibration cycle 4 for frequency chunk 03 finished #\n"
     ]
    },
    {
     "name": "stderr",
     "output_type": "stream",
     "text": [
      "INFO:SELFCAL:# Doing self-calibration with uvmin=0.0, uvmax=3000, solution interval=3 minutes for major cycle 01 #\n"
     ]
    },
    {
     "name": "stderr",
     "output_type": "stream",
     "text": [
      "INFO:SELFCAL:# Major self-calibration cycle 1 for frequency chunk 03 finished #\n"
     ]
    },
    {
     "name": "stderr",
     "output_type": "stream",
     "text": [
      "INFO:SELFCAL:# Major self-calibration cycle 2 for frequency chunk 03 started #\n"
     ]
    },
    {
     "name": "stderr",
     "output_type": "stream",
     "text": [
      "INFO:SELFCAL:# Creating directory /data/adebahr/apertif/tutorials/T1/00/selfcal/03/02 #\n"
     ]
    },
    {
     "name": "stderr",
     "output_type": "stream",
     "text": [
      "INFO:SELFCAL:# The minor cycle dynamic range limits for major cycle 2 are [50.0, 53.125, 62.5, 78.125, 100.0] #\n"
     ]
    },
    {
     "name": "stderr",
     "output_type": "stream",
     "text": [
      "INFO:SELFCAL:# Minor self-calibration cycle 0 for frequency chunk 03 started #\n"
     ]
    },
    {
     "name": "stderr",
     "output_type": "stream",
     "text": [
      "INFO:SELFCAL:# Mask threshold for major/minor cycle 2/0 set to 0.003425 Jy/beam #\n"
     ]
    },
    {
     "name": "stderr",
     "output_type": "stream",
     "text": [
      "INFO:SELFCAL:# Mask threshold set by Theoretical noise threshold #\n"
     ]
    },
    {
     "name": "stderr",
     "output_type": "stream",
     "text": [
      "INFO:SELFCAL:# Mask from last minor iteration of last major cycle copied #\n"
     ]
    },
    {
     "name": "stderr",
     "output_type": "stream",
     "text": [
      "INFO:SELFCAL:# Clean threshold at major/minor cycle 2/0 was set to 0.000685 Jy/beam #\n"
     ]
    },
    {
     "name": "stderr",
     "output_type": "stream",
     "text": [
      "INFO:SELFCAL:# Major/minor cycle 2/0 cleaning done #\n"
     ]
    },
    {
     "name": "stderr",
     "output_type": "stream",
     "text": [
      "INFO:SELFCAL:# Cleaned image for major/minor cycle 2/0 created #\n"
     ]
    },
    {
     "name": "stderr",
     "output_type": "stream",
     "text": [
      "INFO:SELFCAL:# Residual image for major/minor cycle 2/0 created #\n"
     ]
    },
    {
     "name": "stderr",
     "output_type": "stream",
     "text": [
      "INFO:SELFCAL:# Peak of the residual image is 0.0033731 Jy/beam #\n"
     ]
    },
    {
     "name": "stderr",
     "output_type": "stream",
     "text": [
      "INFO:SELFCAL:# RMS of the residual image is 0.00062112 Jy/beam #\n"
     ]
    },
    {
     "name": "stderr",
     "output_type": "stream",
     "text": [
      "INFO:SELFCAL:# Minor self-calibration cycle 0 for frequency chunk 03 finished #\n"
     ]
    },
    {
     "name": "stderr",
     "output_type": "stream",
     "text": [
      "INFO:SELFCAL:# Minor self-calibration cycle 1 for frequency chunk 03 started #\n"
     ]
    },
    {
     "name": "stderr",
     "output_type": "stream",
     "text": [
      "INFO:SELFCAL:# Mask threshold for major/minor cycle 2/1 set to 0.003425 Jy/beam #\n"
     ]
    },
    {
     "name": "stderr",
     "output_type": "stream",
     "text": [
      "INFO:SELFCAL:# Mask threshold set by Theoretical noise threshold #\n"
     ]
    },
    {
     "name": "stderr",
     "output_type": "stream",
     "text": [
      "INFO:SELFCAL:# Mask with threshold 0.003425 Jy/beam created #\n"
     ]
    },
    {
     "name": "stderr",
     "output_type": "stream",
     "text": [
      "INFO:SELFCAL:# Clean threshold at major/minor cycle 2/1 was set to 0.000685 Jy/beam #\n"
     ]
    },
    {
     "name": "stderr",
     "output_type": "stream",
     "text": [
      "INFO:SELFCAL:# Major/minor cycle 2/1 cleaning done #\n"
     ]
    },
    {
     "name": "stderr",
     "output_type": "stream",
     "text": [
      "INFO:SELFCAL:# Cleaned image for major/minor cycle 2/1 created #\n"
     ]
    },
    {
     "name": "stderr",
     "output_type": "stream",
     "text": [
      "INFO:SELFCAL:# Residual image for major/minor cycle 2/1 created #\n"
     ]
    },
    {
     "name": "stderr",
     "output_type": "stream",
     "text": [
      "INFO:SELFCAL:# Peak of the residual image is 0.00343378 Jy/beam #\n"
     ]
    },
    {
     "name": "stderr",
     "output_type": "stream",
     "text": [
      "INFO:SELFCAL:# RMS of the residual image is 0.00062073 Jy/beam #\n"
     ]
    },
    {
     "name": "stderr",
     "output_type": "stream",
     "text": [
      "INFO:SELFCAL:# Minor self-calibration cycle 1 for frequency chunk 03 finished #\n"
     ]
    },
    {
     "name": "stderr",
     "output_type": "stream",
     "text": [
      "INFO:SELFCAL:# Minor self-calibration cycle 2 for frequency chunk 03 started #\n"
     ]
    },
    {
     "name": "stderr",
     "output_type": "stream",
     "text": [
      "INFO:SELFCAL:# Mask threshold for major/minor cycle 2/2 set to 0.003425 Jy/beam #\n"
     ]
    },
    {
     "name": "stderr",
     "output_type": "stream",
     "text": [
      "INFO:SELFCAL:# Mask threshold set by Theoretical noise threshold #\n"
     ]
    },
    {
     "name": "stderr",
     "output_type": "stream",
     "text": [
      "INFO:SELFCAL:# Mask with threshold 0.003425 Jy/beam created #\n"
     ]
    },
    {
     "name": "stderr",
     "output_type": "stream",
     "text": [
      "INFO:SELFCAL:# Clean threshold at major/minor cycle 2/2 was set to 0.000685 Jy/beam #\n"
     ]
    },
    {
     "name": "stderr",
     "output_type": "stream",
     "text": [
      "INFO:SELFCAL:# Major/minor cycle 2/2 cleaning done #\n"
     ]
    },
    {
     "name": "stderr",
     "output_type": "stream",
     "text": [
      "INFO:SELFCAL:# Cleaned image for major/minor cycle 2/2 created #\n"
     ]
    },
    {
     "name": "stderr",
     "output_type": "stream",
     "text": [
      "INFO:SELFCAL:# Residual image for major/minor cycle 2/2 created #\n"
     ]
    },
    {
     "name": "stderr",
     "output_type": "stream",
     "text": [
      "INFO:SELFCAL:# Peak of the residual image is 0.00313661 Jy/beam #\n"
     ]
    },
    {
     "name": "stderr",
     "output_type": "stream",
     "text": [
      "INFO:SELFCAL:# RMS of the residual image is 0.000619055 Jy/beam #\n"
     ]
    },
    {
     "name": "stderr",
     "output_type": "stream",
     "text": [
      "INFO:SELFCAL:# Minor self-calibration cycle 2 for frequency chunk 03 finished #\n"
     ]
    },
    {
     "name": "stderr",
     "output_type": "stream",
     "text": [
      "INFO:SELFCAL:# Minor self-calibration cycle 3 for frequency chunk 03 started #\n"
     ]
    },
    {
     "name": "stderr",
     "output_type": "stream",
     "text": [
      "INFO:SELFCAL:# Mask threshold for major/minor cycle 2/3 set to 0.003425 Jy/beam #\n"
     ]
    },
    {
     "name": "stderr",
     "output_type": "stream",
     "text": [
      "INFO:SELFCAL:# Mask threshold set by Theoretical noise threshold #\n"
     ]
    },
    {
     "name": "stderr",
     "output_type": "stream",
     "text": [
      "INFO:SELFCAL:# Mask with threshold 0.003425 Jy/beam created #\n"
     ]
    },
    {
     "name": "stderr",
     "output_type": "stream",
     "text": [
      "INFO:SELFCAL:# Clean threshold at major/minor cycle 2/3 was set to 0.000685 Jy/beam #\n"
     ]
    },
    {
     "name": "stderr",
     "output_type": "stream",
     "text": [
      "INFO:SELFCAL:# Major/minor cycle 2/3 cleaning done #\n"
     ]
    },
    {
     "name": "stderr",
     "output_type": "stream",
     "text": [
      "INFO:SELFCAL:# Cleaned image for major/minor cycle 2/3 created #\n"
     ]
    },
    {
     "name": "stderr",
     "output_type": "stream",
     "text": [
      "INFO:SELFCAL:# Residual image for major/minor cycle 2/3 created #\n"
     ]
    },
    {
     "name": "stderr",
     "output_type": "stream",
     "text": [
      "INFO:SELFCAL:# Peak of the residual image is 0.0031355 Jy/beam #\n"
     ]
    },
    {
     "name": "stderr",
     "output_type": "stream",
     "text": [
      "INFO:SELFCAL:# RMS of the residual image is 0.000618577 Jy/beam #\n"
     ]
    },
    {
     "name": "stderr",
     "output_type": "stream",
     "text": [
      "INFO:SELFCAL:# Minor self-calibration cycle 3 for frequency chunk 03 finished #\n"
     ]
    },
    {
     "name": "stderr",
     "output_type": "stream",
     "text": [
      "INFO:SELFCAL:# Minor self-calibration cycle 4 for frequency chunk 03 started #\n"
     ]
    },
    {
     "name": "stderr",
     "output_type": "stream",
     "text": [
      "INFO:SELFCAL:# Mask threshold for major/minor cycle 2/4 set to 0.003425 Jy/beam #\n"
     ]
    },
    {
     "name": "stderr",
     "output_type": "stream",
     "text": [
      "INFO:SELFCAL:# Mask threshold set by Theoretical noise threshold #\n"
     ]
    },
    {
     "name": "stderr",
     "output_type": "stream",
     "text": [
      "INFO:SELFCAL:# Mask with threshold 0.003425 Jy/beam created #\n"
     ]
    },
    {
     "name": "stderr",
     "output_type": "stream",
     "text": [
      "INFO:SELFCAL:# Clean threshold at major/minor cycle 2/4 was set to 0.000685 Jy/beam #\n"
     ]
    },
    {
     "name": "stderr",
     "output_type": "stream",
     "text": [
      "INFO:SELFCAL:# Major/minor cycle 2/4 cleaning done #\n"
     ]
    },
    {
     "name": "stderr",
     "output_type": "stream",
     "text": [
      "INFO:SELFCAL:# Cleaned image for major/minor cycle 2/4 created #\n"
     ]
    },
    {
     "name": "stderr",
     "output_type": "stream",
     "text": [
      "INFO:SELFCAL:# Residual image for major/minor cycle 2/4 created #\n"
     ]
    },
    {
     "name": "stderr",
     "output_type": "stream",
     "text": [
      "INFO:SELFCAL:# Peak of the residual image is 0.00314103 Jy/beam #\n"
     ]
    },
    {
     "name": "stderr",
     "output_type": "stream",
     "text": [
      "INFO:SELFCAL:# RMS of the residual image is 0.000618372 Jy/beam #\n"
     ]
    },
    {
     "name": "stderr",
     "output_type": "stream",
     "text": [
      "INFO:SELFCAL:# Minor self-calibration cycle 4 for frequency chunk 03 finished #\n"
     ]
    },
    {
     "name": "stderr",
     "output_type": "stream",
     "text": [
      "INFO:SELFCAL:# Doing self-calibration with uvmin=0.0, uvmax=3000, solution interval=0.5 minutes for major cycle 02 #\n"
     ]
    },
    {
     "name": "stderr",
     "output_type": "stream",
     "text": [
      "INFO:SELFCAL:# Major self-calibration cycle 2 for frequency chunk 03 finished #\n"
     ]
    },
    {
     "name": "stderr",
     "output_type": "stream",
     "text": [
      "INFO:SELFCAL:# Standard self-calibration routine for chunk 03 finished #\n"
     ]
    },
    {
     "name": "stderr",
     "output_type": "stream",
     "text": [
      "INFO:SELFCAL:# Starting standard self-calibration routine on frequency chunk 04 #\n"
     ]
    },
    {
     "name": "stderr",
     "output_type": "stream",
     "text": [
      "INFO:SELFCAL:# Moved to directory /data/adebahr/apertif/tutorials/T1/00/selfcal/04 #\n"
     ]
    },
    {
     "name": "stderr",
     "output_type": "stream",
     "text": [
      "INFO:SELFCAL:# Theoretical noise for chunk 04 is 6.85e-05 Jy/beam #\n"
     ]
    },
    {
     "name": "stderr",
     "output_type": "stream",
     "text": [
      "INFO:SELFCAL:# Your theoretical noise threshold will be 50 times the theoretical noise corresponding to 0.003425 Jy/beam #\n"
     ]
    },
    {
     "name": "stderr",
     "output_type": "stream",
     "text": [
      "INFO:SELFCAL:# Your dynamic range limits are set to [25.0, 50.0, 100.0] for the major self-calibration cycles #\n"
     ]
    },
    {
     "name": "stderr",
     "output_type": "stream",
     "text": [
      "INFO:SELFCAL:# Major self-calibration cycle 0 for frequency chunk 04 started #\n"
     ]
    },
    {
     "name": "stderr",
     "output_type": "stream",
     "text": [
      "INFO:SELFCAL:# Creating directory /data/adebahr/apertif/tutorials/T1/00/selfcal/04/00 #\n"
     ]
    },
    {
     "name": "stderr",
     "output_type": "stream",
     "text": [
      "INFO:SELFCAL:# The minor cycle dynamic range limits for major cycle 0 are [3.0, 1.5625, 6.25, 14.0625, 25.0] #\n"
     ]
    },
    {
     "name": "stderr",
     "output_type": "stream",
     "text": [
      "INFO:SELFCAL:# Minor self-calibration cycle 0 for frequency chunk 04 started #\n"
     ]
    },
    {
     "name": "stderr",
     "output_type": "stream",
     "text": [
      "INFO:SELFCAL:# Mask threshold for major/minor cycle 0/0 set to 0.0207620014747 Jy/beam #\n"
     ]
    },
    {
     "name": "stderr",
     "output_type": "stream",
     "text": [
      "INFO:SELFCAL:# Mask threshold set by Dynamic range threshold #\n"
     ]
    },
    {
     "name": "stderr",
     "output_type": "stream",
     "text": [
      "INFO:SELFCAL:# Mask with threshold 0.0207620014747 Jy/beam created #\n"
     ]
    },
    {
     "name": "stderr",
     "output_type": "stream",
     "text": [
      "INFO:SELFCAL:# Clean threshold at major/minor cycle 0/0 was set to 0.00415240029494 Jy/beam #\n"
     ]
    },
    {
     "name": "stderr",
     "output_type": "stream",
     "text": [
      "INFO:SELFCAL:# Major/minor cycle 0/0 cleaning done #\n"
     ]
    },
    {
     "name": "stderr",
     "output_type": "stream",
     "text": [
      "INFO:SELFCAL:# Cleaned image for major/minor cycle 0/0 created #\n"
     ]
    },
    {
     "name": "stderr",
     "output_type": "stream",
     "text": [
      "INFO:SELFCAL:# Residual image for major/minor cycle 0/0 created #\n"
     ]
    },
    {
     "name": "stderr",
     "output_type": "stream",
     "text": [
      "INFO:SELFCAL:# Peak of the residual image is 0.0185268 Jy/beam #\n"
     ]
    },
    {
     "name": "stderr",
     "output_type": "stream",
     "text": [
      "INFO:SELFCAL:# RMS of the residual image is 0.000977379 Jy/beam #\n"
     ]
    },
    {
     "name": "stderr",
     "output_type": "stream",
     "text": [
      "INFO:SELFCAL:# Minor self-calibration cycle 0 for frequency chunk 04 finished #\n"
     ]
    },
    {
     "name": "stderr",
     "output_type": "stream",
     "text": [
      "INFO:SELFCAL:# Minor self-calibration cycle 1 for frequency chunk 04 started #\n"
     ]
    },
    {
     "name": "stderr",
     "output_type": "stream",
     "text": [
      "INFO:SELFCAL:# Mask threshold for major/minor cycle 0/1 set to 0.0398630428314 Jy/beam #\n"
     ]
    },
    {
     "name": "stderr",
     "output_type": "stream",
     "text": [
      "INFO:SELFCAL:# Mask threshold set by Dynamic range threshold #\n"
     ]
    },
    {
     "name": "stderr",
     "output_type": "stream",
     "text": [
      "INFO:SELFCAL:# Mask with threshold 0.0398630428314 Jy/beam created #\n"
     ]
    },
    {
     "name": "stderr",
     "output_type": "stream",
     "text": [
      "INFO:SELFCAL:# Clean threshold at major/minor cycle 0/1 was set to 0.00797260856628 Jy/beam #\n"
     ]
    },
    {
     "name": "stderr",
     "output_type": "stream",
     "text": [
      "INFO:SELFCAL:# Major/minor cycle 0/1 cleaning done #\n"
     ]
    },
    {
     "name": "stderr",
     "output_type": "stream",
     "text": [
      "INFO:SELFCAL:# Cleaned image for major/minor cycle 0/1 created #\n"
     ]
    },
    {
     "name": "stderr",
     "output_type": "stream",
     "text": [
      "INFO:SELFCAL:# Residual image for major/minor cycle 0/1 created #\n"
     ]
    },
    {
     "name": "stderr",
     "output_type": "stream",
     "text": [
      "INFO:SELFCAL:# Peak of the residual image is 0.0209335 Jy/beam #\n"
     ]
    },
    {
     "name": "stderr",
     "output_type": "stream",
     "text": [
      "INFO:SELFCAL:# RMS of the residual image is 0.00106814 Jy/beam #\n"
     ]
    },
    {
     "name": "stderr",
     "output_type": "stream",
     "text": [
      "INFO:SELFCAL:# Minor self-calibration cycle 1 for frequency chunk 04 finished #\n"
     ]
    },
    {
     "name": "stderr",
     "output_type": "stream",
     "text": [
      "INFO:SELFCAL:# Minor self-calibration cycle 2 for frequency chunk 04 started #\n"
     ]
    },
    {
     "name": "stderr",
     "output_type": "stream",
     "text": [
      "INFO:SELFCAL:# Mask threshold for major/minor cycle 0/2 set to 0.00996576070786 Jy/beam #\n"
     ]
    },
    {
     "name": "stderr",
     "output_type": "stream",
     "text": [
      "INFO:SELFCAL:# Mask threshold set by Dynamic range threshold #\n"
     ]
    },
    {
     "name": "stderr",
     "output_type": "stream",
     "text": [
      "INFO:SELFCAL:# Mask with threshold 0.00996576070786 Jy/beam created #\n"
     ]
    },
    {
     "name": "stderr",
     "output_type": "stream",
     "text": [
      "INFO:SELFCAL:# Clean threshold at major/minor cycle 0/2 was set to 0.00199315214157 Jy/beam #\n"
     ]
    },
    {
     "name": "stderr",
     "output_type": "stream",
     "text": [
      "INFO:SELFCAL:# Major/minor cycle 0/2 cleaning done #\n"
     ]
    },
    {
     "name": "stderr",
     "output_type": "stream",
     "text": [
      "INFO:SELFCAL:# Cleaned image for major/minor cycle 0/2 created #\n"
     ]
    },
    {
     "name": "stderr",
     "output_type": "stream",
     "text": [
      "INFO:SELFCAL:# Residual image for major/minor cycle 0/2 created #\n"
     ]
    },
    {
     "name": "stderr",
     "output_type": "stream",
     "text": [
      "INFO:SELFCAL:# Peak of the residual image is 0.00908384 Jy/beam #\n"
     ]
    },
    {
     "name": "stderr",
     "output_type": "stream",
     "text": [
      "INFO:SELFCAL:# RMS of the residual image is 0.000827804 Jy/beam #\n"
     ]
    },
    {
     "name": "stderr",
     "output_type": "stream",
     "text": [
      "INFO:SELFCAL:# Minor self-calibration cycle 2 for frequency chunk 04 finished #\n"
     ]
    },
    {
     "name": "stderr",
     "output_type": "stream",
     "text": [
      "INFO:SELFCAL:# Minor self-calibration cycle 3 for frequency chunk 04 started #\n"
     ]
    },
    {
     "name": "stderr",
     "output_type": "stream",
     "text": [
      "INFO:SELFCAL:# Mask threshold for major/minor cycle 0/3 set to 0.00442922698127 Jy/beam #\n"
     ]
    },
    {
     "name": "stderr",
     "output_type": "stream",
     "text": [
      "INFO:SELFCAL:# Mask threshold set by Dynamic range threshold #\n"
     ]
    },
    {
     "name": "stderr",
     "output_type": "stream",
     "text": [
      "INFO:SELFCAL:# Mask with threshold 0.00442922698127 Jy/beam created #\n"
     ]
    },
    {
     "name": "stderr",
     "output_type": "stream",
     "text": [
      "INFO:SELFCAL:# Clean threshold at major/minor cycle 0/3 was set to 0.000885845396254 Jy/beam #\n"
     ]
    },
    {
     "name": "stderr",
     "output_type": "stream",
     "text": [
      "INFO:SELFCAL:# Major/minor cycle 0/3 cleaning done #\n"
     ]
    },
    {
     "name": "stderr",
     "output_type": "stream",
     "text": [
      "INFO:SELFCAL:# Cleaned image for major/minor cycle 0/3 created #\n"
     ]
    },
    {
     "name": "stderr",
     "output_type": "stream",
     "text": [
      "INFO:SELFCAL:# Residual image for major/minor cycle 0/3 created #\n"
     ]
    },
    {
     "name": "stderr",
     "output_type": "stream",
     "text": [
      "INFO:SELFCAL:# Peak of the residual image is 0.00576007 Jy/beam #\n"
     ]
    },
    {
     "name": "stderr",
     "output_type": "stream",
     "text": [
      "INFO:SELFCAL:# RMS of the residual image is 0.00072 Jy/beam #\n"
     ]
    },
    {
     "name": "stderr",
     "output_type": "stream",
     "text": [
      "INFO:SELFCAL:# Minor self-calibration cycle 3 for frequency chunk 04 finished #\n"
     ]
    },
    {
     "name": "stderr",
     "output_type": "stream",
     "text": [
      "INFO:SELFCAL:# Minor self-calibration cycle 4 for frequency chunk 04 started #\n"
     ]
    },
    {
     "name": "stderr",
     "output_type": "stream",
     "text": [
      "INFO:SELFCAL:# Mask threshold for major/minor cycle 0/4 set to 0.003425 Jy/beam #\n"
     ]
    },
    {
     "name": "stderr",
     "output_type": "stream",
     "text": [
      "INFO:SELFCAL:# Mask threshold set by Theoretical noise threshold #\n"
     ]
    },
    {
     "name": "stderr",
     "output_type": "stream",
     "text": [
      "INFO:SELFCAL:# Mask with threshold 0.003425 Jy/beam created #\n"
     ]
    },
    {
     "name": "stderr",
     "output_type": "stream",
     "text": [
      "INFO:SELFCAL:# Clean threshold at major/minor cycle 0/4 was set to 0.000685 Jy/beam #\n"
     ]
    },
    {
     "name": "stderr",
     "output_type": "stream",
     "text": [
      "INFO:SELFCAL:# Major/minor cycle 0/4 cleaning done #\n"
     ]
    },
    {
     "name": "stderr",
     "output_type": "stream",
     "text": [
      "INFO:SELFCAL:# Cleaned image for major/minor cycle 0/4 created #\n"
     ]
    },
    {
     "name": "stderr",
     "output_type": "stream",
     "text": [
      "INFO:SELFCAL:# Residual image for major/minor cycle 0/4 created #\n"
     ]
    },
    {
     "name": "stderr",
     "output_type": "stream",
     "text": [
      "INFO:SELFCAL:# Peak of the residual image is 0.00358143 Jy/beam #\n"
     ]
    },
    {
     "name": "stderr",
     "output_type": "stream",
     "text": [
      "INFO:SELFCAL:# RMS of the residual image is 0.000675337 Jy/beam #\n"
     ]
    },
    {
     "name": "stderr",
     "output_type": "stream",
     "text": [
      "INFO:SELFCAL:# Minor self-calibration cycle 4 for frequency chunk 04 finished #\n"
     ]
    },
    {
     "name": "stderr",
     "output_type": "stream",
     "text": [
      "INFO:SELFCAL:# Doing self-calibration with uvmin=0.0, uvmax=3000, solution interval=5 minutes for major cycle 00 #\n"
     ]
    },
    {
     "name": "stderr",
     "output_type": "stream",
     "text": [
      "INFO:SELFCAL:# Major self-calibration cycle 0 for frequency chunk 04 finished #\n"
     ]
    },
    {
     "name": "stderr",
     "output_type": "stream",
     "text": [
      "INFO:SELFCAL:# Major self-calibration cycle 1 for frequency chunk 04 started #\n"
     ]
    },
    {
     "name": "stderr",
     "output_type": "stream",
     "text": [
      "INFO:SELFCAL:# Creating directory /data/adebahr/apertif/tutorials/T1/00/selfcal/04/01 #\n"
     ]
    },
    {
     "name": "stderr",
     "output_type": "stream",
     "text": [
      "INFO:SELFCAL:# The minor cycle dynamic range limits for major cycle 1 are [25.0, 26.5625, 31.25, 39.0625, 50.0] #\n"
     ]
    },
    {
     "name": "stderr",
     "output_type": "stream",
     "text": [
      "INFO:SELFCAL:# Minor self-calibration cycle 0 for frequency chunk 04 started #\n"
     ]
    },
    {
     "name": "stderr",
     "output_type": "stream",
     "text": [
      "INFO:SELFCAL:# Mask threshold for major/minor cycle 1/0 set to 0.003425 Jy/beam #\n"
     ]
    },
    {
     "name": "stderr",
     "output_type": "stream",
     "text": [
      "INFO:SELFCAL:# Mask threshold set by Theoretical noise threshold #\n"
     ]
    },
    {
     "name": "stderr",
     "output_type": "stream",
     "text": [
      "INFO:SELFCAL:# Mask from last minor iteration of last major cycle copied #\n"
     ]
    },
    {
     "name": "stderr",
     "output_type": "stream",
     "text": [
      "INFO:SELFCAL:# Clean threshold at major/minor cycle 1/0 was set to 0.000685 Jy/beam #\n"
     ]
    },
    {
     "name": "stderr",
     "output_type": "stream",
     "text": [
      "INFO:SELFCAL:# Major/minor cycle 1/0 cleaning done #\n"
     ]
    },
    {
     "name": "stderr",
     "output_type": "stream",
     "text": [
      "INFO:SELFCAL:# Cleaned image for major/minor cycle 1/0 created #\n"
     ]
    },
    {
     "name": "stderr",
     "output_type": "stream",
     "text": [
      "INFO:SELFCAL:# Residual image for major/minor cycle 1/0 created #\n"
     ]
    },
    {
     "name": "stderr",
     "output_type": "stream",
     "text": [
      "INFO:SELFCAL:# Peak of the residual image is 0.00374633 Jy/beam #\n"
     ]
    },
    {
     "name": "stderr",
     "output_type": "stream",
     "text": [
      "INFO:SELFCAL:# RMS of the residual image is 0.000612108 Jy/beam #\n"
     ]
    },
    {
     "name": "stderr",
     "output_type": "stream",
     "text": [
      "INFO:SELFCAL:# Minor self-calibration cycle 0 for frequency chunk 04 finished #\n"
     ]
    },
    {
     "name": "stderr",
     "output_type": "stream",
     "text": [
      "INFO:SELFCAL:# Minor self-calibration cycle 1 for frequency chunk 04 started #\n"
     ]
    },
    {
     "name": "stderr",
     "output_type": "stream",
     "text": [
      "INFO:SELFCAL:# Mask threshold for major/minor cycle 1/1 set to 0.003425 Jy/beam #\n"
     ]
    },
    {
     "name": "stderr",
     "output_type": "stream",
     "text": [
      "INFO:SELFCAL:# Mask threshold set by Theoretical noise threshold #\n"
     ]
    },
    {
     "name": "stderr",
     "output_type": "stream",
     "text": [
      "INFO:SELFCAL:# Mask with threshold 0.003425 Jy/beam created #\n"
     ]
    },
    {
     "name": "stderr",
     "output_type": "stream",
     "text": [
      "INFO:SELFCAL:# Clean threshold at major/minor cycle 1/1 was set to 0.000685 Jy/beam #\n"
     ]
    },
    {
     "name": "stderr",
     "output_type": "stream",
     "text": [
      "INFO:SELFCAL:# Major/minor cycle 1/1 cleaning done #\n"
     ]
    },
    {
     "name": "stderr",
     "output_type": "stream",
     "text": [
      "INFO:SELFCAL:# Cleaned image for major/minor cycle 1/1 created #\n"
     ]
    },
    {
     "name": "stderr",
     "output_type": "stream",
     "text": [
      "INFO:SELFCAL:# Residual image for major/minor cycle 1/1 created #\n"
     ]
    },
    {
     "name": "stderr",
     "output_type": "stream",
     "text": [
      "INFO:SELFCAL:# Peak of the residual image is 0.00350495 Jy/beam #\n"
     ]
    },
    {
     "name": "stderr",
     "output_type": "stream",
     "text": [
      "INFO:SELFCAL:# RMS of the residual image is 0.000620828 Jy/beam #\n"
     ]
    },
    {
     "name": "stderr",
     "output_type": "stream",
     "text": [
      "INFO:SELFCAL:# Minor self-calibration cycle 1 for frequency chunk 04 finished #\n"
     ]
    },
    {
     "name": "stderr",
     "output_type": "stream",
     "text": [
      "INFO:SELFCAL:# Minor self-calibration cycle 2 for frequency chunk 04 started #\n"
     ]
    },
    {
     "name": "stderr",
     "output_type": "stream",
     "text": [
      "INFO:SELFCAL:# Mask threshold for major/minor cycle 1/2 set to 0.003425 Jy/beam #\n"
     ]
    },
    {
     "name": "stderr",
     "output_type": "stream",
     "text": [
      "INFO:SELFCAL:# Mask threshold set by Theoretical noise threshold #\n"
     ]
    },
    {
     "name": "stderr",
     "output_type": "stream",
     "text": [
      "INFO:SELFCAL:# Mask with threshold 0.003425 Jy/beam created #\n"
     ]
    },
    {
     "name": "stderr",
     "output_type": "stream",
     "text": [
      "INFO:SELFCAL:# Clean threshold at major/minor cycle 1/2 was set to 0.000685 Jy/beam #\n"
     ]
    },
    {
     "name": "stderr",
     "output_type": "stream",
     "text": [
      "INFO:SELFCAL:# Major/minor cycle 1/2 cleaning done #\n"
     ]
    },
    {
     "name": "stderr",
     "output_type": "stream",
     "text": [
      "INFO:SELFCAL:# Cleaned image for major/minor cycle 1/2 created #\n"
     ]
    },
    {
     "name": "stderr",
     "output_type": "stream",
     "text": [
      "INFO:SELFCAL:# Residual image for major/minor cycle 1/2 created #\n"
     ]
    },
    {
     "name": "stderr",
     "output_type": "stream",
     "text": [
      "INFO:SELFCAL:# Peak of the residual image is 0.00321003 Jy/beam #\n"
     ]
    },
    {
     "name": "stderr",
     "output_type": "stream",
     "text": [
      "INFO:SELFCAL:# RMS of the residual image is 0.000617047 Jy/beam #\n"
     ]
    },
    {
     "name": "stderr",
     "output_type": "stream",
     "text": [
      "INFO:SELFCAL:# Minor self-calibration cycle 2 for frequency chunk 04 finished #\n"
     ]
    },
    {
     "name": "stderr",
     "output_type": "stream",
     "text": [
      "INFO:SELFCAL:# Minor self-calibration cycle 3 for frequency chunk 04 started #\n"
     ]
    },
    {
     "name": "stderr",
     "output_type": "stream",
     "text": [
      "INFO:SELFCAL:# Mask threshold for major/minor cycle 1/3 set to 0.003425 Jy/beam #\n"
     ]
    },
    {
     "name": "stderr",
     "output_type": "stream",
     "text": [
      "INFO:SELFCAL:# Mask threshold set by Theoretical noise threshold #\n"
     ]
    },
    {
     "name": "stderr",
     "output_type": "stream",
     "text": [
      "INFO:SELFCAL:# Mask with threshold 0.003425 Jy/beam created #\n"
     ]
    },
    {
     "name": "stderr",
     "output_type": "stream",
     "text": [
      "INFO:SELFCAL:# Clean threshold at major/minor cycle 1/3 was set to 0.000685 Jy/beam #\n"
     ]
    },
    {
     "name": "stderr",
     "output_type": "stream",
     "text": [
      "INFO:SELFCAL:# Major/minor cycle 1/3 cleaning done #\n"
     ]
    },
    {
     "name": "stderr",
     "output_type": "stream",
     "text": [
      "INFO:SELFCAL:# Cleaned image for major/minor cycle 1/3 created #\n"
     ]
    },
    {
     "name": "stderr",
     "output_type": "stream",
     "text": [
      "INFO:SELFCAL:# Residual image for major/minor cycle 1/3 created #\n"
     ]
    },
    {
     "name": "stderr",
     "output_type": "stream",
     "text": [
      "INFO:SELFCAL:# Peak of the residual image is 0.0033283 Jy/beam #\n"
     ]
    },
    {
     "name": "stderr",
     "output_type": "stream",
     "text": [
      "INFO:SELFCAL:# RMS of the residual image is 0.000615142 Jy/beam #\n"
     ]
    },
    {
     "name": "stderr",
     "output_type": "stream",
     "text": [
      "INFO:SELFCAL:# Minor self-calibration cycle 3 for frequency chunk 04 finished #\n"
     ]
    },
    {
     "name": "stderr",
     "output_type": "stream",
     "text": [
      "INFO:SELFCAL:# Minor self-calibration cycle 4 for frequency chunk 04 started #\n"
     ]
    },
    {
     "name": "stderr",
     "output_type": "stream",
     "text": [
      "INFO:SELFCAL:# Mask threshold for major/minor cycle 1/4 set to 0.003425 Jy/beam #\n"
     ]
    },
    {
     "name": "stderr",
     "output_type": "stream",
     "text": [
      "INFO:SELFCAL:# Mask threshold set by Theoretical noise threshold #\n"
     ]
    },
    {
     "name": "stderr",
     "output_type": "stream",
     "text": [
      "INFO:SELFCAL:# Mask with threshold 0.003425 Jy/beam created #\n"
     ]
    },
    {
     "name": "stderr",
     "output_type": "stream",
     "text": [
      "INFO:SELFCAL:# Clean threshold at major/minor cycle 1/4 was set to 0.000685 Jy/beam #\n"
     ]
    },
    {
     "name": "stderr",
     "output_type": "stream",
     "text": [
      "INFO:SELFCAL:# Major/minor cycle 1/4 cleaning done #\n"
     ]
    },
    {
     "name": "stderr",
     "output_type": "stream",
     "text": [
      "INFO:SELFCAL:# Cleaned image for major/minor cycle 1/4 created #\n"
     ]
    },
    {
     "name": "stderr",
     "output_type": "stream",
     "text": [
      "INFO:SELFCAL:# Residual image for major/minor cycle 1/4 created #\n"
     ]
    },
    {
     "name": "stderr",
     "output_type": "stream",
     "text": [
      "INFO:SELFCAL:# Peak of the residual image is 0.00312875 Jy/beam #\n"
     ]
    },
    {
     "name": "stderr",
     "output_type": "stream",
     "text": [
      "INFO:SELFCAL:# RMS of the residual image is 0.000612255 Jy/beam #\n"
     ]
    },
    {
     "name": "stderr",
     "output_type": "stream",
     "text": [
      "INFO:SELFCAL:# Minor self-calibration cycle 4 for frequency chunk 04 finished #\n"
     ]
    },
    {
     "name": "stderr",
     "output_type": "stream",
     "text": [
      "INFO:SELFCAL:# Doing self-calibration with uvmin=0.0, uvmax=3000, solution interval=3 minutes for major cycle 01 #\n"
     ]
    },
    {
     "name": "stderr",
     "output_type": "stream",
     "text": [
      "INFO:SELFCAL:# Major self-calibration cycle 1 for frequency chunk 04 finished #\n"
     ]
    },
    {
     "name": "stderr",
     "output_type": "stream",
     "text": [
      "INFO:SELFCAL:# Major self-calibration cycle 2 for frequency chunk 04 started #\n"
     ]
    },
    {
     "name": "stderr",
     "output_type": "stream",
     "text": [
      "INFO:SELFCAL:# Creating directory /data/adebahr/apertif/tutorials/T1/00/selfcal/04/02 #\n"
     ]
    },
    {
     "name": "stderr",
     "output_type": "stream",
     "text": [
      "INFO:SELFCAL:# The minor cycle dynamic range limits for major cycle 2 are [50.0, 53.125, 62.5, 78.125, 100.0] #\n"
     ]
    },
    {
     "name": "stderr",
     "output_type": "stream",
     "text": [
      "INFO:SELFCAL:# Minor self-calibration cycle 0 for frequency chunk 04 started #\n"
     ]
    },
    {
     "name": "stderr",
     "output_type": "stream",
     "text": [
      "INFO:SELFCAL:# Mask threshold for major/minor cycle 2/0 set to 0.003425 Jy/beam #\n"
     ]
    },
    {
     "name": "stderr",
     "output_type": "stream",
     "text": [
      "INFO:SELFCAL:# Mask threshold set by Theoretical noise threshold #\n"
     ]
    },
    {
     "name": "stderr",
     "output_type": "stream",
     "text": [
      "INFO:SELFCAL:# Mask from last minor iteration of last major cycle copied #\n"
     ]
    },
    {
     "name": "stderr",
     "output_type": "stream",
     "text": [
      "INFO:SELFCAL:# Clean threshold at major/minor cycle 2/0 was set to 0.000685 Jy/beam #\n"
     ]
    },
    {
     "name": "stderr",
     "output_type": "stream",
     "text": [
      "INFO:SELFCAL:# Major/minor cycle 2/0 cleaning done #\n"
     ]
    },
    {
     "name": "stderr",
     "output_type": "stream",
     "text": [
      "INFO:SELFCAL:# Cleaned image for major/minor cycle 2/0 created #\n"
     ]
    },
    {
     "name": "stderr",
     "output_type": "stream",
     "text": [
      "INFO:SELFCAL:# Residual image for major/minor cycle 2/0 created #\n"
     ]
    },
    {
     "name": "stderr",
     "output_type": "stream",
     "text": [
      "INFO:SELFCAL:# Peak of the residual image is 0.00313377 Jy/beam #\n"
     ]
    },
    {
     "name": "stderr",
     "output_type": "stream",
     "text": [
      "INFO:SELFCAL:# RMS of the residual image is 0.000580192 Jy/beam #\n"
     ]
    },
    {
     "name": "stderr",
     "output_type": "stream",
     "text": [
      "INFO:SELFCAL:# Minor self-calibration cycle 0 for frequency chunk 04 finished #\n"
     ]
    },
    {
     "name": "stderr",
     "output_type": "stream",
     "text": [
      "INFO:SELFCAL:# Minor self-calibration cycle 1 for frequency chunk 04 started #\n"
     ]
    },
    {
     "name": "stderr",
     "output_type": "stream",
     "text": [
      "INFO:SELFCAL:# Mask threshold for major/minor cycle 2/1 set to 0.003425 Jy/beam #\n"
     ]
    },
    {
     "name": "stderr",
     "output_type": "stream",
     "text": [
      "INFO:SELFCAL:# Mask threshold set by Theoretical noise threshold #\n"
     ]
    },
    {
     "name": "stderr",
     "output_type": "stream",
     "text": [
      "INFO:SELFCAL:# Mask with threshold 0.003425 Jy/beam created #\n"
     ]
    },
    {
     "name": "stderr",
     "output_type": "stream",
     "text": [
      "INFO:SELFCAL:# Clean threshold at major/minor cycle 2/1 was set to 0.000685 Jy/beam #\n"
     ]
    },
    {
     "name": "stderr",
     "output_type": "stream",
     "text": [
      "INFO:SELFCAL:# Major/minor cycle 2/1 cleaning done #\n"
     ]
    },
    {
     "name": "stderr",
     "output_type": "stream",
     "text": [
      "INFO:SELFCAL:# Cleaned image for major/minor cycle 2/1 created #\n"
     ]
    },
    {
     "name": "stderr",
     "output_type": "stream",
     "text": [
      "INFO:SELFCAL:# Residual image for major/minor cycle 2/1 created #\n"
     ]
    },
    {
     "name": "stderr",
     "output_type": "stream",
     "text": [
      "INFO:SELFCAL:# Peak of the residual image is 0.00313458 Jy/beam #\n"
     ]
    },
    {
     "name": "stderr",
     "output_type": "stream",
     "text": [
      "INFO:SELFCAL:# RMS of the residual image is 0.000578461 Jy/beam #\n"
     ]
    },
    {
     "name": "stderr",
     "output_type": "stream",
     "text": [
      "INFO:SELFCAL:# Minor self-calibration cycle 1 for frequency chunk 04 finished #\n"
     ]
    },
    {
     "name": "stderr",
     "output_type": "stream",
     "text": [
      "INFO:SELFCAL:# Minor self-calibration cycle 2 for frequency chunk 04 started #\n"
     ]
    },
    {
     "name": "stderr",
     "output_type": "stream",
     "text": [
      "INFO:SELFCAL:# Mask threshold for major/minor cycle 2/2 set to 0.003425 Jy/beam #\n"
     ]
    },
    {
     "name": "stderr",
     "output_type": "stream",
     "text": [
      "INFO:SELFCAL:# Mask threshold set by Theoretical noise threshold #\n"
     ]
    },
    {
     "name": "stderr",
     "output_type": "stream",
     "text": [
      "INFO:SELFCAL:# Mask with threshold 0.003425 Jy/beam created #\n"
     ]
    },
    {
     "name": "stderr",
     "output_type": "stream",
     "text": [
      "INFO:SELFCAL:# Clean threshold at major/minor cycle 2/2 was set to 0.000685 Jy/beam #\n"
     ]
    },
    {
     "name": "stderr",
     "output_type": "stream",
     "text": [
      "INFO:SELFCAL:# Major/minor cycle 2/2 cleaning done #\n"
     ]
    },
    {
     "name": "stderr",
     "output_type": "stream",
     "text": [
      "INFO:SELFCAL:# Cleaned image for major/minor cycle 2/2 created #\n"
     ]
    },
    {
     "name": "stderr",
     "output_type": "stream",
     "text": [
      "INFO:SELFCAL:# Residual image for major/minor cycle 2/2 created #\n"
     ]
    },
    {
     "name": "stderr",
     "output_type": "stream",
     "text": [
      "INFO:SELFCAL:# Peak of the residual image is 0.00313873 Jy/beam #\n"
     ]
    },
    {
     "name": "stderr",
     "output_type": "stream",
     "text": [
      "INFO:SELFCAL:# RMS of the residual image is 0.000578215 Jy/beam #\n"
     ]
    },
    {
     "name": "stderr",
     "output_type": "stream",
     "text": [
      "INFO:SELFCAL:# Minor self-calibration cycle 2 for frequency chunk 04 finished #\n"
     ]
    },
    {
     "name": "stderr",
     "output_type": "stream",
     "text": [
      "INFO:SELFCAL:# Minor self-calibration cycle 3 for frequency chunk 04 started #\n"
     ]
    },
    {
     "name": "stderr",
     "output_type": "stream",
     "text": [
      "INFO:SELFCAL:# Mask threshold for major/minor cycle 2/3 set to 0.003425 Jy/beam #\n"
     ]
    },
    {
     "name": "stderr",
     "output_type": "stream",
     "text": [
      "INFO:SELFCAL:# Mask threshold set by Theoretical noise threshold #\n"
     ]
    },
    {
     "name": "stderr",
     "output_type": "stream",
     "text": [
      "INFO:SELFCAL:# Mask with threshold 0.003425 Jy/beam created #\n"
     ]
    },
    {
     "name": "stderr",
     "output_type": "stream",
     "text": [
      "INFO:SELFCAL:# Clean threshold at major/minor cycle 2/3 was set to 0.000685 Jy/beam #\n"
     ]
    },
    {
     "name": "stderr",
     "output_type": "stream",
     "text": [
      "INFO:SELFCAL:# Major/minor cycle 2/3 cleaning done #\n"
     ]
    },
    {
     "name": "stderr",
     "output_type": "stream",
     "text": [
      "INFO:SELFCAL:# Cleaned image for major/minor cycle 2/3 created #\n"
     ]
    },
    {
     "name": "stderr",
     "output_type": "stream",
     "text": [
      "INFO:SELFCAL:# Residual image for major/minor cycle 2/3 created #\n"
     ]
    },
    {
     "name": "stderr",
     "output_type": "stream",
     "text": [
      "INFO:SELFCAL:# Peak of the residual image is 0.00313502 Jy/beam #\n"
     ]
    },
    {
     "name": "stderr",
     "output_type": "stream",
     "text": [
      "INFO:SELFCAL:# RMS of the residual image is 0.000578119 Jy/beam #\n"
     ]
    },
    {
     "name": "stderr",
     "output_type": "stream",
     "text": [
      "INFO:SELFCAL:# Minor self-calibration cycle 3 for frequency chunk 04 finished #\n"
     ]
    },
    {
     "name": "stderr",
     "output_type": "stream",
     "text": [
      "INFO:SELFCAL:# Minor self-calibration cycle 4 for frequency chunk 04 started #\n"
     ]
    },
    {
     "name": "stderr",
     "output_type": "stream",
     "text": [
      "INFO:SELFCAL:# Mask threshold for major/minor cycle 2/4 set to 0.003425 Jy/beam #\n"
     ]
    },
    {
     "name": "stderr",
     "output_type": "stream",
     "text": [
      "INFO:SELFCAL:# Mask threshold set by Theoretical noise threshold #\n"
     ]
    },
    {
     "name": "stderr",
     "output_type": "stream",
     "text": [
      "INFO:SELFCAL:# Mask with threshold 0.003425 Jy/beam created #\n"
     ]
    },
    {
     "name": "stderr",
     "output_type": "stream",
     "text": [
      "INFO:SELFCAL:# Clean threshold at major/minor cycle 2/4 was set to 0.000685 Jy/beam #\n"
     ]
    },
    {
     "name": "stderr",
     "output_type": "stream",
     "text": [
      "INFO:SELFCAL:# Major/minor cycle 2/4 cleaning done #\n"
     ]
    },
    {
     "name": "stderr",
     "output_type": "stream",
     "text": [
      "INFO:SELFCAL:# Cleaned image for major/minor cycle 2/4 created #\n"
     ]
    },
    {
     "name": "stderr",
     "output_type": "stream",
     "text": [
      "INFO:SELFCAL:# Residual image for major/minor cycle 2/4 created #\n"
     ]
    },
    {
     "name": "stderr",
     "output_type": "stream",
     "text": [
      "INFO:SELFCAL:# Peak of the residual image is 0.00313257 Jy/beam #\n"
     ]
    },
    {
     "name": "stderr",
     "output_type": "stream",
     "text": [
      "INFO:SELFCAL:# RMS of the residual image is 0.000578064 Jy/beam #\n"
     ]
    },
    {
     "name": "stderr",
     "output_type": "stream",
     "text": [
      "INFO:SELFCAL:# Minor self-calibration cycle 4 for frequency chunk 04 finished #\n"
     ]
    },
    {
     "name": "stderr",
     "output_type": "stream",
     "text": [
      "INFO:SELFCAL:# Doing self-calibration with uvmin=0.0, uvmax=3000, solution interval=0.5 minutes for major cycle 02 #\n"
     ]
    },
    {
     "name": "stderr",
     "output_type": "stream",
     "text": [
      "INFO:SELFCAL:# Major self-calibration cycle 2 for frequency chunk 04 finished #\n"
     ]
    },
    {
     "name": "stderr",
     "output_type": "stream",
     "text": [
      "INFO:SELFCAL:# Standard self-calibration routine for chunk 04 finished #\n"
     ]
    },
    {
     "name": "stderr",
     "output_type": "stream",
     "text": [
      "INFO:SELFCAL:# Starting standard self-calibration routine on frequency chunk 05 #\n"
     ]
    },
    {
     "name": "stderr",
     "output_type": "stream",
     "text": [
      "INFO:SELFCAL:# Moved to directory /data/adebahr/apertif/tutorials/T1/00/selfcal/05 #\n"
     ]
    },
    {
     "name": "stderr",
     "output_type": "stream",
     "text": [
      "INFO:SELFCAL:# Theoretical noise for chunk 05 is 6.85e-05 Jy/beam #\n"
     ]
    },
    {
     "name": "stderr",
     "output_type": "stream",
     "text": [
      "INFO:SELFCAL:# Your theoretical noise threshold will be 50 times the theoretical noise corresponding to 0.003425 Jy/beam #\n"
     ]
    },
    {
     "name": "stderr",
     "output_type": "stream",
     "text": [
      "INFO:SELFCAL:# Your dynamic range limits are set to [25.0, 50.0, 100.0] for the major self-calibration cycles #\n"
     ]
    },
    {
     "name": "stderr",
     "output_type": "stream",
     "text": [
      "INFO:SELFCAL:# Major self-calibration cycle 0 for frequency chunk 05 started #\n"
     ]
    },
    {
     "name": "stderr",
     "output_type": "stream",
     "text": [
      "INFO:SELFCAL:# Creating directory /data/adebahr/apertif/tutorials/T1/00/selfcal/05/00 #\n"
     ]
    },
    {
     "name": "stderr",
     "output_type": "stream",
     "text": [
      "INFO:SELFCAL:# The minor cycle dynamic range limits for major cycle 0 are [3.0, 1.5625, 6.25, 14.0625, 25.0] #\n"
     ]
    },
    {
     "name": "stderr",
     "output_type": "stream",
     "text": [
      "INFO:SELFCAL:# Minor self-calibration cycle 0 for frequency chunk 05 started #\n"
     ]
    },
    {
     "name": "stderr",
     "output_type": "stream",
     "text": [
      "INFO:SELFCAL:# Mask threshold for major/minor cycle 0/0 set to 0.0200045891106 Jy/beam #\n"
     ]
    },
    {
     "name": "stderr",
     "output_type": "stream",
     "text": [
      "INFO:SELFCAL:# Mask threshold set by Dynamic range threshold #\n"
     ]
    },
    {
     "name": "stderr",
     "output_type": "stream",
     "text": [
      "INFO:SELFCAL:# Mask with threshold 0.0200045891106 Jy/beam created #\n"
     ]
    },
    {
     "name": "stderr",
     "output_type": "stream",
     "text": [
      "INFO:SELFCAL:# Clean threshold at major/minor cycle 0/0 was set to 0.00400091782212 Jy/beam #\n"
     ]
    },
    {
     "name": "stderr",
     "output_type": "stream",
     "text": [
      "INFO:SELFCAL:# Major/minor cycle 0/0 cleaning done #\n"
     ]
    },
    {
     "name": "stderr",
     "output_type": "stream",
     "text": [
      "INFO:SELFCAL:# Cleaned image for major/minor cycle 0/0 created #\n"
     ]
    },
    {
     "name": "stderr",
     "output_type": "stream",
     "text": [
      "INFO:SELFCAL:# Residual image for major/minor cycle 0/0 created #\n"
     ]
    },
    {
     "name": "stderr",
     "output_type": "stream",
     "text": [
      "INFO:SELFCAL:# Peak of the residual image is 0.0196546 Jy/beam #\n"
     ]
    },
    {
     "name": "stderr",
     "output_type": "stream",
     "text": [
      "INFO:SELFCAL:# RMS of the residual image is 0.000977873 Jy/beam #\n"
     ]
    },
    {
     "name": "stderr",
     "output_type": "stream",
     "text": [
      "INFO:SELFCAL:# Minor self-calibration cycle 0 for frequency chunk 05 finished #\n"
     ]
    },
    {
     "name": "stderr",
     "output_type": "stream",
     "text": [
      "INFO:SELFCAL:# Minor self-calibration cycle 1 for frequency chunk 05 started #\n"
     ]
    },
    {
     "name": "stderr",
     "output_type": "stream",
     "text": [
      "INFO:SELFCAL:# Mask threshold for major/minor cycle 0/1 set to 0.0384088110924 Jy/beam #\n"
     ]
    },
    {
     "name": "stderr",
     "output_type": "stream",
     "text": [
      "INFO:SELFCAL:# Mask threshold set by Dynamic range threshold #\n"
     ]
    },
    {
     "name": "stderr",
     "output_type": "stream",
     "text": [
      "INFO:SELFCAL:# Mask with threshold 0.0384088110924 Jy/beam created #\n"
     ]
    },
    {
     "name": "stderr",
     "output_type": "stream",
     "text": [
      "INFO:SELFCAL:# Clean threshold at major/minor cycle 0/1 was set to 0.00768176221848 Jy/beam #\n"
     ]
    },
    {
     "name": "stderr",
     "output_type": "stream",
     "text": [
      "INFO:SELFCAL:# Major/minor cycle 0/1 cleaning done #\n"
     ]
    },
    {
     "name": "stderr",
     "output_type": "stream",
     "text": [
      "INFO:SELFCAL:# Cleaned image for major/minor cycle 0/1 created #\n"
     ]
    },
    {
     "name": "stderr",
     "output_type": "stream",
     "text": [
      "INFO:SELFCAL:# Residual image for major/minor cycle 0/1 created #\n"
     ]
    },
    {
     "name": "stderr",
     "output_type": "stream",
     "text": [
      "INFO:SELFCAL:# Peak of the residual image is 0.0201295 Jy/beam #\n"
     ]
    },
    {
     "name": "stderr",
     "output_type": "stream",
     "text": [
      "INFO:SELFCAL:# RMS of the residual image is 0.00104286 Jy/beam #\n"
     ]
    },
    {
     "name": "stderr",
     "output_type": "stream",
     "text": [
      "INFO:SELFCAL:# Minor self-calibration cycle 1 for frequency chunk 05 finished #\n"
     ]
    },
    {
     "name": "stderr",
     "output_type": "stream",
     "text": [
      "INFO:SELFCAL:# Minor self-calibration cycle 2 for frequency chunk 05 started #\n"
     ]
    },
    {
     "name": "stderr",
     "output_type": "stream",
     "text": [
      "INFO:SELFCAL:# Mask threshold for major/minor cycle 0/2 set to 0.00960220277309 Jy/beam #\n"
     ]
    },
    {
     "name": "stderr",
     "output_type": "stream",
     "text": [
      "INFO:SELFCAL:# Mask threshold set by Dynamic range threshold #\n"
     ]
    },
    {
     "name": "stderr",
     "output_type": "stream",
     "text": [
      "INFO:SELFCAL:# Mask with threshold 0.00960220277309 Jy/beam created #\n"
     ]
    },
    {
     "name": "stderr",
     "output_type": "stream",
     "text": [
      "INFO:SELFCAL:# Clean threshold at major/minor cycle 0/2 was set to 0.00192044055462 Jy/beam #\n"
     ]
    },
    {
     "name": "stderr",
     "output_type": "stream",
     "text": [
      "INFO:SELFCAL:# Major/minor cycle 0/2 cleaning done #\n"
     ]
    },
    {
     "name": "stderr",
     "output_type": "stream",
     "text": [
      "INFO:SELFCAL:# Cleaned image for major/minor cycle 0/2 created #\n"
     ]
    },
    {
     "name": "stderr",
     "output_type": "stream",
     "text": [
      "INFO:SELFCAL:# Residual image for major/minor cycle 0/2 created #\n"
     ]
    },
    {
     "name": "stderr",
     "output_type": "stream",
     "text": [
      "INFO:SELFCAL:# Peak of the residual image is 0.00925669 Jy/beam #\n"
     ]
    },
    {
     "name": "stderr",
     "output_type": "stream",
     "text": [
      "INFO:SELFCAL:# RMS of the residual image is 0.000801978 Jy/beam #\n"
     ]
    },
    {
     "name": "stderr",
     "output_type": "stream",
     "text": [
      "INFO:SELFCAL:# Minor self-calibration cycle 2 for frequency chunk 05 finished #\n"
     ]
    },
    {
     "name": "stderr",
     "output_type": "stream",
     "text": [
      "INFO:SELFCAL:# Minor self-calibration cycle 3 for frequency chunk 05 started #\n"
     ]
    },
    {
     "name": "stderr",
     "output_type": "stream",
     "text": [
      "INFO:SELFCAL:# Mask threshold for major/minor cycle 0/3 set to 0.00426764567693 Jy/beam #\n"
     ]
    },
    {
     "name": "stderr",
     "output_type": "stream",
     "text": [
      "INFO:SELFCAL:# Mask threshold set by Dynamic range threshold #\n"
     ]
    },
    {
     "name": "stderr",
     "output_type": "stream",
     "text": [
      "INFO:SELFCAL:# Mask with threshold 0.00426764567693 Jy/beam created #\n"
     ]
    },
    {
     "name": "stderr",
     "output_type": "stream",
     "text": [
      "INFO:SELFCAL:# Clean threshold at major/minor cycle 0/3 was set to 0.000853529135386 Jy/beam #\n"
     ]
    },
    {
     "name": "stderr",
     "output_type": "stream",
     "text": [
      "INFO:SELFCAL:# Major/minor cycle 0/3 cleaning done #\n"
     ]
    },
    {
     "name": "stderr",
     "output_type": "stream",
     "text": [
      "INFO:SELFCAL:# Cleaned image for major/minor cycle 0/3 created #\n"
     ]
    },
    {
     "name": "stderr",
     "output_type": "stream",
     "text": [
      "INFO:SELFCAL:# Residual image for major/minor cycle 0/3 created #\n"
     ]
    },
    {
     "name": "stderr",
     "output_type": "stream",
     "text": [
      "INFO:SELFCAL:# Peak of the residual image is 0.00499694 Jy/beam #\n"
     ]
    },
    {
     "name": "stderr",
     "output_type": "stream",
     "text": [
      "INFO:SELFCAL:# RMS of the residual image is 0.000673879 Jy/beam #\n"
     ]
    },
    {
     "name": "stderr",
     "output_type": "stream",
     "text": [
      "INFO:SELFCAL:# Minor self-calibration cycle 3 for frequency chunk 05 finished #\n"
     ]
    },
    {
     "name": "stderr",
     "output_type": "stream",
     "text": [
      "INFO:SELFCAL:# Minor self-calibration cycle 4 for frequency chunk 05 started #\n"
     ]
    },
    {
     "name": "stderr",
     "output_type": "stream",
     "text": [
      "INFO:SELFCAL:# Mask threshold for major/minor cycle 0/4 set to 0.003425 Jy/beam #\n"
     ]
    },
    {
     "name": "stderr",
     "output_type": "stream",
     "text": [
      "INFO:SELFCAL:# Mask threshold set by Theoretical noise threshold #\n"
     ]
    },
    {
     "name": "stderr",
     "output_type": "stream",
     "text": [
      "INFO:SELFCAL:# Mask with threshold 0.003425 Jy/beam created #\n"
     ]
    },
    {
     "name": "stderr",
     "output_type": "stream",
     "text": [
      "INFO:SELFCAL:# Clean threshold at major/minor cycle 0/4 was set to 0.000685 Jy/beam #\n"
     ]
    },
    {
     "name": "stderr",
     "output_type": "stream",
     "text": [
      "INFO:SELFCAL:# Major/minor cycle 0/4 cleaning done #\n"
     ]
    },
    {
     "name": "stderr",
     "output_type": "stream",
     "text": [
      "INFO:SELFCAL:# Cleaned image for major/minor cycle 0/4 created #\n"
     ]
    },
    {
     "name": "stderr",
     "output_type": "stream",
     "text": [
      "INFO:SELFCAL:# Residual image for major/minor cycle 0/4 created #\n"
     ]
    },
    {
     "name": "stderr",
     "output_type": "stream",
     "text": [
      "INFO:SELFCAL:# Peak of the residual image is 0.00434782 Jy/beam #\n"
     ]
    },
    {
     "name": "stderr",
     "output_type": "stream",
     "text": [
      "INFO:SELFCAL:# RMS of the residual image is 0.000659514 Jy/beam #\n"
     ]
    },
    {
     "name": "stderr",
     "output_type": "stream",
     "text": [
      "INFO:SELFCAL:# Minor self-calibration cycle 4 for frequency chunk 05 finished #\n"
     ]
    },
    {
     "name": "stderr",
     "output_type": "stream",
     "text": [
      "INFO:SELFCAL:# Doing self-calibration with uvmin=0.0, uvmax=3000, solution interval=5 minutes for major cycle 00 #\n"
     ]
    },
    {
     "name": "stderr",
     "output_type": "stream",
     "text": [
      "INFO:SELFCAL:# Major self-calibration cycle 0 for frequency chunk 05 finished #\n"
     ]
    },
    {
     "name": "stderr",
     "output_type": "stream",
     "text": [
      "INFO:SELFCAL:# Major self-calibration cycle 1 for frequency chunk 05 started #\n"
     ]
    },
    {
     "name": "stderr",
     "output_type": "stream",
     "text": [
      "INFO:SELFCAL:# Creating directory /data/adebahr/apertif/tutorials/T1/00/selfcal/05/01 #\n"
     ]
    },
    {
     "name": "stderr",
     "output_type": "stream",
     "text": [
      "INFO:SELFCAL:# The minor cycle dynamic range limits for major cycle 1 are [25.0, 26.5625, 31.25, 39.0625, 50.0] #\n"
     ]
    },
    {
     "name": "stderr",
     "output_type": "stream",
     "text": [
      "INFO:SELFCAL:# Minor self-calibration cycle 0 for frequency chunk 05 started #\n"
     ]
    },
    {
     "name": "stderr",
     "output_type": "stream",
     "text": [
      "INFO:SELFCAL:# Mask threshold for major/minor cycle 1/0 set to 0.003425 Jy/beam #\n"
     ]
    },
    {
     "name": "stderr",
     "output_type": "stream",
     "text": [
      "INFO:SELFCAL:# Mask threshold set by Theoretical noise threshold #\n"
     ]
    },
    {
     "name": "stderr",
     "output_type": "stream",
     "text": [
      "INFO:SELFCAL:# Mask from last minor iteration of last major cycle copied #\n"
     ]
    },
    {
     "name": "stderr",
     "output_type": "stream",
     "text": [
      "INFO:SELFCAL:# Clean threshold at major/minor cycle 1/0 was set to 0.000685 Jy/beam #\n"
     ]
    },
    {
     "name": "stderr",
     "output_type": "stream",
     "text": [
      "INFO:SELFCAL:# Major/minor cycle 1/0 cleaning done #\n"
     ]
    },
    {
     "name": "stderr",
     "output_type": "stream",
     "text": [
      "INFO:SELFCAL:# Cleaned image for major/minor cycle 1/0 created #\n"
     ]
    },
    {
     "name": "stderr",
     "output_type": "stream",
     "text": [
      "INFO:SELFCAL:# Residual image for major/minor cycle 1/0 created #\n"
     ]
    },
    {
     "name": "stderr",
     "output_type": "stream",
     "text": [
      "INFO:SELFCAL:# Peak of the residual image is 0.00367709 Jy/beam #\n"
     ]
    },
    {
     "name": "stderr",
     "output_type": "stream",
     "text": [
      "INFO:SELFCAL:# RMS of the residual image is 0.000578998 Jy/beam #\n"
     ]
    },
    {
     "name": "stderr",
     "output_type": "stream",
     "text": [
      "INFO:SELFCAL:# Minor self-calibration cycle 0 for frequency chunk 05 finished #\n"
     ]
    },
    {
     "name": "stderr",
     "output_type": "stream",
     "text": [
      "INFO:SELFCAL:# Minor self-calibration cycle 1 for frequency chunk 05 started #\n"
     ]
    },
    {
     "name": "stderr",
     "output_type": "stream",
     "text": [
      "INFO:SELFCAL:# Mask threshold for major/minor cycle 1/1 set to 0.003425 Jy/beam #\n"
     ]
    },
    {
     "name": "stderr",
     "output_type": "stream",
     "text": [
      "INFO:SELFCAL:# Mask threshold set by Theoretical noise threshold #\n"
     ]
    },
    {
     "name": "stderr",
     "output_type": "stream",
     "text": [
      "INFO:SELFCAL:# Mask with threshold 0.003425 Jy/beam created #\n"
     ]
    },
    {
     "name": "stderr",
     "output_type": "stream",
     "text": [
      "INFO:SELFCAL:# Clean threshold at major/minor cycle 1/1 was set to 0.000685 Jy/beam #\n"
     ]
    },
    {
     "name": "stderr",
     "output_type": "stream",
     "text": [
      "INFO:SELFCAL:# Major/minor cycle 1/1 cleaning done #\n"
     ]
    },
    {
     "name": "stderr",
     "output_type": "stream",
     "text": [
      "INFO:SELFCAL:# Cleaned image for major/minor cycle 1/1 created #\n"
     ]
    },
    {
     "name": "stderr",
     "output_type": "stream",
     "text": [
      "INFO:SELFCAL:# Residual image for major/minor cycle 1/1 created #\n"
     ]
    },
    {
     "name": "stderr",
     "output_type": "stream",
     "text": [
      "INFO:SELFCAL:# Peak of the residual image is 0.00409631 Jy/beam #\n"
     ]
    },
    {
     "name": "stderr",
     "output_type": "stream",
     "text": [
      "INFO:SELFCAL:# RMS of the residual image is 0.000575963 Jy/beam #\n"
     ]
    },
    {
     "name": "stderr",
     "output_type": "stream",
     "text": [
      "INFO:SELFCAL:# Minor self-calibration cycle 1 for frequency chunk 05 finished #\n"
     ]
    },
    {
     "name": "stderr",
     "output_type": "stream",
     "text": [
      "INFO:SELFCAL:# Minor self-calibration cycle 2 for frequency chunk 05 started #\n"
     ]
    },
    {
     "name": "stderr",
     "output_type": "stream",
     "text": [
      "INFO:SELFCAL:# Mask threshold for major/minor cycle 1/2 set to 0.003425 Jy/beam #\n"
     ]
    },
    {
     "name": "stderr",
     "output_type": "stream",
     "text": [
      "INFO:SELFCAL:# Mask threshold set by Theoretical noise threshold #\n"
     ]
    },
    {
     "name": "stderr",
     "output_type": "stream",
     "text": [
      "INFO:SELFCAL:# Mask with threshold 0.003425 Jy/beam created #\n"
     ]
    },
    {
     "name": "stderr",
     "output_type": "stream",
     "text": [
      "INFO:SELFCAL:# Clean threshold at major/minor cycle 1/2 was set to 0.000685 Jy/beam #\n"
     ]
    },
    {
     "name": "stderr",
     "output_type": "stream",
     "text": [
      "INFO:SELFCAL:# Major/minor cycle 1/2 cleaning done #\n"
     ]
    },
    {
     "name": "stderr",
     "output_type": "stream",
     "text": [
      "INFO:SELFCAL:# Cleaned image for major/minor cycle 1/2 created #\n"
     ]
    },
    {
     "name": "stderr",
     "output_type": "stream",
     "text": [
      "INFO:SELFCAL:# Residual image for major/minor cycle 1/2 created #\n"
     ]
    },
    {
     "name": "stderr",
     "output_type": "stream",
     "text": [
      "INFO:SELFCAL:# Peak of the residual image is 0.00313239 Jy/beam #\n"
     ]
    },
    {
     "name": "stderr",
     "output_type": "stream",
     "text": [
      "INFO:SELFCAL:# RMS of the residual image is 0.000570052 Jy/beam #\n"
     ]
    },
    {
     "name": "stderr",
     "output_type": "stream",
     "text": [
      "INFO:SELFCAL:# Minor self-calibration cycle 2 for frequency chunk 05 finished #\n"
     ]
    },
    {
     "name": "stderr",
     "output_type": "stream",
     "text": [
      "INFO:SELFCAL:# Minor self-calibration cycle 3 for frequency chunk 05 started #\n"
     ]
    },
    {
     "name": "stderr",
     "output_type": "stream",
     "text": [
      "INFO:SELFCAL:# Mask threshold for major/minor cycle 1/3 set to 0.003425 Jy/beam #\n"
     ]
    },
    {
     "name": "stderr",
     "output_type": "stream",
     "text": [
      "INFO:SELFCAL:# Mask threshold set by Theoretical noise threshold #\n"
     ]
    },
    {
     "name": "stderr",
     "output_type": "stream",
     "text": [
      "INFO:SELFCAL:# Mask with threshold 0.003425 Jy/beam created #\n"
     ]
    },
    {
     "name": "stderr",
     "output_type": "stream",
     "text": [
      "INFO:SELFCAL:# Clean threshold at major/minor cycle 1/3 was set to 0.000685 Jy/beam #\n"
     ]
    },
    {
     "name": "stderr",
     "output_type": "stream",
     "text": [
      "INFO:SELFCAL:# Major/minor cycle 1/3 cleaning done #\n"
     ]
    },
    {
     "name": "stderr",
     "output_type": "stream",
     "text": [
      "INFO:SELFCAL:# Cleaned image for major/minor cycle 1/3 created #\n"
     ]
    },
    {
     "name": "stderr",
     "output_type": "stream",
     "text": [
      "INFO:SELFCAL:# Residual image for major/minor cycle 1/3 created #\n"
     ]
    },
    {
     "name": "stderr",
     "output_type": "stream",
     "text": [
      "INFO:SELFCAL:# Peak of the residual image is 0.00316847 Jy/beam #\n"
     ]
    },
    {
     "name": "stderr",
     "output_type": "stream",
     "text": [
      "INFO:SELFCAL:# RMS of the residual image is 0.000569734 Jy/beam #\n"
     ]
    },
    {
     "name": "stderr",
     "output_type": "stream",
     "text": [
      "INFO:SELFCAL:# Minor self-calibration cycle 3 for frequency chunk 05 finished #\n"
     ]
    },
    {
     "name": "stderr",
     "output_type": "stream",
     "text": [
      "INFO:SELFCAL:# Minor self-calibration cycle 4 for frequency chunk 05 started #\n"
     ]
    },
    {
     "name": "stderr",
     "output_type": "stream",
     "text": [
      "INFO:SELFCAL:# Mask threshold for major/minor cycle 1/4 set to 0.003425 Jy/beam #\n"
     ]
    },
    {
     "name": "stderr",
     "output_type": "stream",
     "text": [
      "INFO:SELFCAL:# Mask threshold set by Theoretical noise threshold #\n"
     ]
    },
    {
     "name": "stderr",
     "output_type": "stream",
     "text": [
      "INFO:SELFCAL:# Mask with threshold 0.003425 Jy/beam created #\n"
     ]
    },
    {
     "name": "stderr",
     "output_type": "stream",
     "text": [
      "INFO:SELFCAL:# Clean threshold at major/minor cycle 1/4 was set to 0.000685 Jy/beam #\n"
     ]
    },
    {
     "name": "stderr",
     "output_type": "stream",
     "text": [
      "INFO:SELFCAL:# Major/minor cycle 1/4 cleaning done #\n"
     ]
    },
    {
     "name": "stderr",
     "output_type": "stream",
     "text": [
      "INFO:SELFCAL:# Cleaned image for major/minor cycle 1/4 created #\n"
     ]
    },
    {
     "name": "stderr",
     "output_type": "stream",
     "text": [
      "INFO:SELFCAL:# Residual image for major/minor cycle 1/4 created #\n"
     ]
    },
    {
     "name": "stderr",
     "output_type": "stream",
     "text": [
      "INFO:SELFCAL:# Peak of the residual image is 0.00317805 Jy/beam #\n"
     ]
    },
    {
     "name": "stderr",
     "output_type": "stream",
     "text": [
      "INFO:SELFCAL:# RMS of the residual image is 0.000569639 Jy/beam #\n"
     ]
    },
    {
     "name": "stderr",
     "output_type": "stream",
     "text": [
      "INFO:SELFCAL:# Minor self-calibration cycle 4 for frequency chunk 05 finished #\n"
     ]
    },
    {
     "name": "stderr",
     "output_type": "stream",
     "text": [
      "INFO:SELFCAL:# Doing self-calibration with uvmin=0.0, uvmax=3000, solution interval=3 minutes for major cycle 01 #\n"
     ]
    },
    {
     "name": "stderr",
     "output_type": "stream",
     "text": [
      "INFO:SELFCAL:# Major self-calibration cycle 1 for frequency chunk 05 finished #\n"
     ]
    },
    {
     "name": "stderr",
     "output_type": "stream",
     "text": [
      "INFO:SELFCAL:# Major self-calibration cycle 2 for frequency chunk 05 started #\n"
     ]
    },
    {
     "name": "stderr",
     "output_type": "stream",
     "text": [
      "INFO:SELFCAL:# Creating directory /data/adebahr/apertif/tutorials/T1/00/selfcal/05/02 #\n"
     ]
    },
    {
     "name": "stderr",
     "output_type": "stream",
     "text": [
      "INFO:SELFCAL:# The minor cycle dynamic range limits for major cycle 2 are [50.0, 53.125, 62.5, 78.125, 100.0] #\n"
     ]
    },
    {
     "name": "stderr",
     "output_type": "stream",
     "text": [
      "INFO:SELFCAL:# Minor self-calibration cycle 0 for frequency chunk 05 started #\n"
     ]
    },
    {
     "name": "stderr",
     "output_type": "stream",
     "text": [
      "INFO:SELFCAL:# Mask threshold for major/minor cycle 2/0 set to 0.003425 Jy/beam #\n"
     ]
    },
    {
     "name": "stderr",
     "output_type": "stream",
     "text": [
      "INFO:SELFCAL:# Mask threshold set by Theoretical noise threshold #\n"
     ]
    },
    {
     "name": "stderr",
     "output_type": "stream",
     "text": [
      "INFO:SELFCAL:# Mask from last minor iteration of last major cycle copied #\n"
     ]
    },
    {
     "name": "stderr",
     "output_type": "stream",
     "text": [
      "INFO:SELFCAL:# Clean threshold at major/minor cycle 2/0 was set to 0.000685 Jy/beam #\n"
     ]
    },
    {
     "name": "stderr",
     "output_type": "stream",
     "text": [
      "INFO:SELFCAL:# Major/minor cycle 2/0 cleaning done #\n"
     ]
    },
    {
     "name": "stderr",
     "output_type": "stream",
     "text": [
      "INFO:SELFCAL:# Cleaned image for major/minor cycle 2/0 created #\n"
     ]
    },
    {
     "name": "stderr",
     "output_type": "stream",
     "text": [
      "INFO:SELFCAL:# Residual image for major/minor cycle 2/0 created #\n"
     ]
    },
    {
     "name": "stderr",
     "output_type": "stream",
     "text": [
      "INFO:SELFCAL:# Peak of the residual image is 0.00334365 Jy/beam #\n"
     ]
    },
    {
     "name": "stderr",
     "output_type": "stream",
     "text": [
      "INFO:SELFCAL:# RMS of the residual image is 0.000537008 Jy/beam #\n"
     ]
    },
    {
     "name": "stderr",
     "output_type": "stream",
     "text": [
      "INFO:SELFCAL:# Minor self-calibration cycle 0 for frequency chunk 05 finished #\n"
     ]
    },
    {
     "name": "stderr",
     "output_type": "stream",
     "text": [
      "INFO:SELFCAL:# Minor self-calibration cycle 1 for frequency chunk 05 started #\n"
     ]
    },
    {
     "name": "stderr",
     "output_type": "stream",
     "text": [
      "INFO:SELFCAL:# Mask threshold for major/minor cycle 2/1 set to 0.003425 Jy/beam #\n"
     ]
    },
    {
     "name": "stderr",
     "output_type": "stream",
     "text": [
      "INFO:SELFCAL:# Mask threshold set by Theoretical noise threshold #\n"
     ]
    },
    {
     "name": "stderr",
     "output_type": "stream",
     "text": [
      "INFO:SELFCAL:# Mask with threshold 0.003425 Jy/beam created #\n"
     ]
    },
    {
     "name": "stderr",
     "output_type": "stream",
     "text": [
      "INFO:SELFCAL:# Clean threshold at major/minor cycle 2/1 was set to 0.000685 Jy/beam #\n"
     ]
    },
    {
     "name": "stderr",
     "output_type": "stream",
     "text": [
      "INFO:SELFCAL:# Major/minor cycle 2/1 cleaning done #\n"
     ]
    },
    {
     "name": "stderr",
     "output_type": "stream",
     "text": [
      "INFO:SELFCAL:# Cleaned image for major/minor cycle 2/1 created #\n"
     ]
    },
    {
     "name": "stderr",
     "output_type": "stream",
     "text": [
      "INFO:SELFCAL:# Residual image for major/minor cycle 2/1 created #\n"
     ]
    },
    {
     "name": "stderr",
     "output_type": "stream",
     "text": [
      "INFO:SELFCAL:# Peak of the residual image is 0.00334844 Jy/beam #\n"
     ]
    },
    {
     "name": "stderr",
     "output_type": "stream",
     "text": [
      "INFO:SELFCAL:# RMS of the residual image is 0.000535365 Jy/beam #\n"
     ]
    },
    {
     "name": "stderr",
     "output_type": "stream",
     "text": [
      "INFO:SELFCAL:# Minor self-calibration cycle 1 for frequency chunk 05 finished #\n"
     ]
    },
    {
     "name": "stderr",
     "output_type": "stream",
     "text": [
      "INFO:SELFCAL:# Minor self-calibration cycle 2 for frequency chunk 05 started #\n"
     ]
    },
    {
     "name": "stderr",
     "output_type": "stream",
     "text": [
      "INFO:SELFCAL:# Mask threshold for major/minor cycle 2/2 set to 0.003425 Jy/beam #\n"
     ]
    },
    {
     "name": "stderr",
     "output_type": "stream",
     "text": [
      "INFO:SELFCAL:# Mask threshold set by Theoretical noise threshold #\n"
     ]
    },
    {
     "name": "stderr",
     "output_type": "stream",
     "text": [
      "INFO:SELFCAL:# Mask with threshold 0.003425 Jy/beam created #\n"
     ]
    },
    {
     "name": "stderr",
     "output_type": "stream",
     "text": [
      "INFO:SELFCAL:# Clean threshold at major/minor cycle 2/2 was set to 0.000685 Jy/beam #\n"
     ]
    },
    {
     "name": "stderr",
     "output_type": "stream",
     "text": [
      "INFO:SELFCAL:# Major/minor cycle 2/2 cleaning done #\n"
     ]
    },
    {
     "name": "stderr",
     "output_type": "stream",
     "text": [
      "INFO:SELFCAL:# Cleaned image for major/minor cycle 2/2 created #\n"
     ]
    },
    {
     "name": "stderr",
     "output_type": "stream",
     "text": [
      "INFO:SELFCAL:# Residual image for major/minor cycle 2/2 created #\n"
     ]
    },
    {
     "name": "stderr",
     "output_type": "stream",
     "text": [
      "INFO:SELFCAL:# Peak of the residual image is 0.00336081 Jy/beam #\n"
     ]
    },
    {
     "name": "stderr",
     "output_type": "stream",
     "text": [
      "INFO:SELFCAL:# RMS of the residual image is 0.000535057 Jy/beam #\n"
     ]
    },
    {
     "name": "stderr",
     "output_type": "stream",
     "text": [
      "INFO:SELFCAL:# Minor self-calibration cycle 2 for frequency chunk 05 finished #\n"
     ]
    },
    {
     "name": "stderr",
     "output_type": "stream",
     "text": [
      "INFO:SELFCAL:# Minor self-calibration cycle 3 for frequency chunk 05 started #\n"
     ]
    },
    {
     "name": "stderr",
     "output_type": "stream",
     "text": [
      "INFO:SELFCAL:# Mask threshold for major/minor cycle 2/3 set to 0.003425 Jy/beam #\n"
     ]
    },
    {
     "name": "stderr",
     "output_type": "stream",
     "text": [
      "INFO:SELFCAL:# Mask threshold set by Theoretical noise threshold #\n"
     ]
    },
    {
     "name": "stderr",
     "output_type": "stream",
     "text": [
      "INFO:SELFCAL:# Mask with threshold 0.003425 Jy/beam created #\n"
     ]
    },
    {
     "name": "stderr",
     "output_type": "stream",
     "text": [
      "INFO:SELFCAL:# Clean threshold at major/minor cycle 2/3 was set to 0.000685 Jy/beam #\n"
     ]
    },
    {
     "name": "stderr",
     "output_type": "stream",
     "text": [
      "INFO:SELFCAL:# Major/minor cycle 2/3 cleaning done #\n"
     ]
    },
    {
     "name": "stderr",
     "output_type": "stream",
     "text": [
      "INFO:SELFCAL:# Cleaned image for major/minor cycle 2/3 created #\n"
     ]
    },
    {
     "name": "stderr",
     "output_type": "stream",
     "text": [
      "INFO:SELFCAL:# Residual image for major/minor cycle 2/3 created #\n"
     ]
    },
    {
     "name": "stderr",
     "output_type": "stream",
     "text": [
      "INFO:SELFCAL:# Peak of the residual image is 0.00336035 Jy/beam #\n"
     ]
    },
    {
     "name": "stderr",
     "output_type": "stream",
     "text": [
      "INFO:SELFCAL:# RMS of the residual image is 0.000534929 Jy/beam #\n"
     ]
    },
    {
     "name": "stderr",
     "output_type": "stream",
     "text": [
      "INFO:SELFCAL:# Minor self-calibration cycle 3 for frequency chunk 05 finished #\n"
     ]
    },
    {
     "name": "stderr",
     "output_type": "stream",
     "text": [
      "INFO:SELFCAL:# Minor self-calibration cycle 4 for frequency chunk 05 started #\n"
     ]
    },
    {
     "name": "stderr",
     "output_type": "stream",
     "text": [
      "INFO:SELFCAL:# Mask threshold for major/minor cycle 2/4 set to 0.003425 Jy/beam #\n"
     ]
    },
    {
     "name": "stderr",
     "output_type": "stream",
     "text": [
      "INFO:SELFCAL:# Mask threshold set by Theoretical noise threshold #\n"
     ]
    },
    {
     "name": "stderr",
     "output_type": "stream",
     "text": [
      "INFO:SELFCAL:# Mask with threshold 0.003425 Jy/beam created #\n"
     ]
    },
    {
     "name": "stderr",
     "output_type": "stream",
     "text": [
      "INFO:SELFCAL:# Clean threshold at major/minor cycle 2/4 was set to 0.000685 Jy/beam #\n"
     ]
    },
    {
     "name": "stderr",
     "output_type": "stream",
     "text": [
      "INFO:SELFCAL:# Major/minor cycle 2/4 cleaning done #\n"
     ]
    },
    {
     "name": "stderr",
     "output_type": "stream",
     "text": [
      "INFO:SELFCAL:# Cleaned image for major/minor cycle 2/4 created #\n"
     ]
    },
    {
     "name": "stderr",
     "output_type": "stream",
     "text": [
      "INFO:SELFCAL:# Residual image for major/minor cycle 2/4 created #\n"
     ]
    },
    {
     "name": "stderr",
     "output_type": "stream",
     "text": [
      "INFO:SELFCAL:# Peak of the residual image is 0.00336567 Jy/beam #\n"
     ]
    },
    {
     "name": "stderr",
     "output_type": "stream",
     "text": [
      "INFO:SELFCAL:# RMS of the residual image is 0.000534867 Jy/beam #\n"
     ]
    },
    {
     "name": "stderr",
     "output_type": "stream",
     "text": [
      "INFO:SELFCAL:# Minor self-calibration cycle 4 for frequency chunk 05 finished #\n"
     ]
    },
    {
     "name": "stderr",
     "output_type": "stream",
     "text": [
      "INFO:SELFCAL:# Doing self-calibration with uvmin=0.0, uvmax=3000, solution interval=0.5 minutes for major cycle 02 #\n"
     ]
    },
    {
     "name": "stderr",
     "output_type": "stream",
     "text": [
      "INFO:SELFCAL:# Major self-calibration cycle 2 for frequency chunk 05 finished #\n"
     ]
    },
    {
     "name": "stderr",
     "output_type": "stream",
     "text": [
      "INFO:SELFCAL:# Standard self-calibration routine for chunk 05 finished #\n"
     ]
    },
    {
     "name": "stderr",
     "output_type": "stream",
     "text": [
      "INFO:SELFCAL:# Starting standard self-calibration routine on frequency chunk 06 #\n"
     ]
    },
    {
     "name": "stderr",
     "output_type": "stream",
     "text": [
      "INFO:SELFCAL:# Moved to directory /data/adebahr/apertif/tutorials/T1/00/selfcal/06 #\n"
     ]
    },
    {
     "name": "stderr",
     "output_type": "stream",
     "text": [
      "INFO:SELFCAL:# Theoretical noise for chunk 06 is 6.85e-05 Jy/beam #\n"
     ]
    },
    {
     "name": "stderr",
     "output_type": "stream",
     "text": [
      "INFO:SELFCAL:# Your theoretical noise threshold will be 50 times the theoretical noise corresponding to 0.003425 Jy/beam #\n"
     ]
    },
    {
     "name": "stderr",
     "output_type": "stream",
     "text": [
      "INFO:SELFCAL:# Your dynamic range limits are set to [25.0, 50.0, 100.0] for the major self-calibration cycles #\n"
     ]
    },
    {
     "name": "stderr",
     "output_type": "stream",
     "text": [
      "INFO:SELFCAL:# Major self-calibration cycle 0 for frequency chunk 06 started #\n"
     ]
    },
    {
     "name": "stderr",
     "output_type": "stream",
     "text": [
      "INFO:SELFCAL:# Creating directory /data/adebahr/apertif/tutorials/T1/00/selfcal/06/00 #\n"
     ]
    },
    {
     "name": "stderr",
     "output_type": "stream",
     "text": [
      "INFO:SELFCAL:# The minor cycle dynamic range limits for major cycle 0 are [3.0, 1.5625, 6.25, 14.0625, 25.0] #\n"
     ]
    },
    {
     "name": "stderr",
     "output_type": "stream",
     "text": [
      "INFO:SELFCAL:# Minor self-calibration cycle 0 for frequency chunk 06 started #\n"
     ]
    },
    {
     "name": "stderr",
     "output_type": "stream",
     "text": [
      "INFO:SELFCAL:# Mask threshold for major/minor cycle 0/0 set to 0.019651265194 Jy/beam #\n"
     ]
    },
    {
     "name": "stderr",
     "output_type": "stream",
     "text": [
      "INFO:SELFCAL:# Mask threshold set by Dynamic range threshold #\n"
     ]
    },
    {
     "name": "stderr",
     "output_type": "stream",
     "text": [
      "INFO:SELFCAL:# Mask with threshold 0.019651265194 Jy/beam created #\n"
     ]
    },
    {
     "name": "stderr",
     "output_type": "stream",
     "text": [
      "INFO:SELFCAL:# Clean threshold at major/minor cycle 0/0 was set to 0.0039302530388 Jy/beam #\n"
     ]
    },
    {
     "name": "stderr",
     "output_type": "stream",
     "text": [
      "INFO:SELFCAL:# Major/minor cycle 0/0 cleaning done #\n"
     ]
    },
    {
     "name": "stderr",
     "output_type": "stream",
     "text": [
      "INFO:SELFCAL:# Cleaned image for major/minor cycle 0/0 created #\n"
     ]
    },
    {
     "name": "stderr",
     "output_type": "stream",
     "text": [
      "INFO:SELFCAL:# Residual image for major/minor cycle 0/0 created #\n"
     ]
    },
    {
     "name": "stderr",
     "output_type": "stream",
     "text": [
      "INFO:SELFCAL:# Peak of the residual image is 0.0191084 Jy/beam #\n"
     ]
    },
    {
     "name": "stderr",
     "output_type": "stream",
     "text": [
      "INFO:SELFCAL:# RMS of the residual image is 0.00092926 Jy/beam #\n"
     ]
    },
    {
     "name": "stderr",
     "output_type": "stream",
     "text": [
      "INFO:SELFCAL:# Minor self-calibration cycle 0 for frequency chunk 06 finished #\n"
     ]
    },
    {
     "name": "stderr",
     "output_type": "stream",
     "text": [
      "INFO:SELFCAL:# Minor self-calibration cycle 1 for frequency chunk 06 started #\n"
     ]
    },
    {
     "name": "stderr",
     "output_type": "stream",
     "text": [
      "INFO:SELFCAL:# Mask threshold for major/minor cycle 0/1 set to 0.0377304291725 Jy/beam #\n"
     ]
    },
    {
     "name": "stderr",
     "output_type": "stream",
     "text": [
      "INFO:SELFCAL:# Mask threshold set by Dynamic range threshold #\n"
     ]
    },
    {
     "name": "stderr",
     "output_type": "stream",
     "text": [
      "INFO:SELFCAL:# Mask with threshold 0.0377304291725 Jy/beam created #\n"
     ]
    },
    {
     "name": "stderr",
     "output_type": "stream",
     "text": [
      "INFO:SELFCAL:# Clean threshold at major/minor cycle 0/1 was set to 0.0075460858345 Jy/beam #\n"
     ]
    },
    {
     "name": "stderr",
     "output_type": "stream",
     "text": [
      "INFO:SELFCAL:# Major/minor cycle 0/1 cleaning done #\n"
     ]
    },
    {
     "name": "stderr",
     "output_type": "stream",
     "text": [
      "INFO:SELFCAL:# Cleaned image for major/minor cycle 0/1 created #\n"
     ]
    },
    {
     "name": "stderr",
     "output_type": "stream",
     "text": [
      "INFO:SELFCAL:# Residual image for major/minor cycle 0/1 created #\n"
     ]
    },
    {
     "name": "stderr",
     "output_type": "stream",
     "text": [
      "INFO:SELFCAL:# Peak of the residual image is 0.0205152 Jy/beam #\n"
     ]
    },
    {
     "name": "stderr",
     "output_type": "stream",
     "text": [
      "INFO:SELFCAL:# RMS of the residual image is 0.00102126 Jy/beam #\n"
     ]
    },
    {
     "name": "stderr",
     "output_type": "stream",
     "text": [
      "INFO:SELFCAL:# Minor self-calibration cycle 1 for frequency chunk 06 finished #\n"
     ]
    },
    {
     "name": "stderr",
     "output_type": "stream",
     "text": [
      "INFO:SELFCAL:# Minor self-calibration cycle 2 for frequency chunk 06 started #\n"
     ]
    },
    {
     "name": "stderr",
     "output_type": "stream",
     "text": [
      "INFO:SELFCAL:# Mask threshold for major/minor cycle 0/2 set to 0.00943260729313 Jy/beam #\n"
     ]
    },
    {
     "name": "stderr",
     "output_type": "stream",
     "text": [
      "INFO:SELFCAL:# Mask threshold set by Dynamic range threshold #\n"
     ]
    },
    {
     "name": "stderr",
     "output_type": "stream",
     "text": [
      "INFO:SELFCAL:# Mask with threshold 0.00943260729313 Jy/beam created #\n"
     ]
    },
    {
     "name": "stderr",
     "output_type": "stream",
     "text": [
      "INFO:SELFCAL:# Clean threshold at major/minor cycle 0/2 was set to 0.00188652145863 Jy/beam #\n"
     ]
    },
    {
     "name": "stderr",
     "output_type": "stream",
     "text": [
      "INFO:SELFCAL:# Major/minor cycle 0/2 cleaning done #\n"
     ]
    },
    {
     "name": "stderr",
     "output_type": "stream",
     "text": [
      "INFO:SELFCAL:# Cleaned image for major/minor cycle 0/2 created #\n"
     ]
    },
    {
     "name": "stderr",
     "output_type": "stream",
     "text": [
      "INFO:SELFCAL:# Residual image for major/minor cycle 0/2 created #\n"
     ]
    },
    {
     "name": "stderr",
     "output_type": "stream",
     "text": [
      "INFO:SELFCAL:# Peak of the residual image is 0.00956273 Jy/beam #\n"
     ]
    },
    {
     "name": "stderr",
     "output_type": "stream",
     "text": [
      "INFO:SELFCAL:# RMS of the residual image is 0.000758716 Jy/beam #\n"
     ]
    },
    {
     "name": "stderr",
     "output_type": "stream",
     "text": [
      "INFO:SELFCAL:# Minor self-calibration cycle 2 for frequency chunk 06 finished #\n"
     ]
    },
    {
     "name": "stderr",
     "output_type": "stream",
     "text": [
      "INFO:SELFCAL:# Minor self-calibration cycle 3 for frequency chunk 06 started #\n"
     ]
    },
    {
     "name": "stderr",
     "output_type": "stream",
     "text": [
      "INFO:SELFCAL:# Mask threshold for major/minor cycle 0/3 set to 0.00419226990806 Jy/beam #\n"
     ]
    },
    {
     "name": "stderr",
     "output_type": "stream",
     "text": [
      "INFO:SELFCAL:# Mask threshold set by Dynamic range threshold #\n"
     ]
    },
    {
     "name": "stderr",
     "output_type": "stream",
     "text": [
      "INFO:SELFCAL:# Mask with threshold 0.00419226990806 Jy/beam created #\n"
     ]
    },
    {
     "name": "stderr",
     "output_type": "stream",
     "text": [
      "INFO:SELFCAL:# Clean threshold at major/minor cycle 0/3 was set to 0.000838453981611 Jy/beam #\n"
     ]
    },
    {
     "name": "stderr",
     "output_type": "stream",
     "text": [
      "INFO:SELFCAL:# Major/minor cycle 0/3 cleaning done #\n"
     ]
    },
    {
     "name": "stderr",
     "output_type": "stream",
     "text": [
      "INFO:SELFCAL:# Cleaned image for major/minor cycle 0/3 created #\n"
     ]
    },
    {
     "name": "stderr",
     "output_type": "stream",
     "text": [
      "INFO:SELFCAL:# Residual image for major/minor cycle 0/3 created #\n"
     ]
    },
    {
     "name": "stderr",
     "output_type": "stream",
     "text": [
      "INFO:SELFCAL:# Peak of the residual image is 0.0053165 Jy/beam #\n"
     ]
    },
    {
     "name": "stderr",
     "output_type": "stream",
     "text": [
      "INFO:SELFCAL:# RMS of the residual image is 0.000637624 Jy/beam #\n"
     ]
    },
    {
     "name": "stderr",
     "output_type": "stream",
     "text": [
      "INFO:SELFCAL:# Minor self-calibration cycle 3 for frequency chunk 06 finished #\n"
     ]
    },
    {
     "name": "stderr",
     "output_type": "stream",
     "text": [
      "INFO:SELFCAL:# Minor self-calibration cycle 4 for frequency chunk 06 started #\n"
     ]
    },
    {
     "name": "stderr",
     "output_type": "stream",
     "text": [
      "INFO:SELFCAL:# Mask threshold for major/minor cycle 0/4 set to 0.003425 Jy/beam #\n"
     ]
    },
    {
     "name": "stderr",
     "output_type": "stream",
     "text": [
      "INFO:SELFCAL:# Mask threshold set by Theoretical noise threshold #\n"
     ]
    },
    {
     "name": "stderr",
     "output_type": "stream",
     "text": [
      "INFO:SELFCAL:# Mask with threshold 0.003425 Jy/beam created #\n"
     ]
    },
    {
     "name": "stderr",
     "output_type": "stream",
     "text": [
      "INFO:SELFCAL:# Clean threshold at major/minor cycle 0/4 was set to 0.000685 Jy/beam #\n"
     ]
    },
    {
     "name": "stderr",
     "output_type": "stream",
     "text": [
      "INFO:SELFCAL:# Major/minor cycle 0/4 cleaning done #\n"
     ]
    },
    {
     "name": "stderr",
     "output_type": "stream",
     "text": [
      "INFO:SELFCAL:# Cleaned image for major/minor cycle 0/4 created #\n"
     ]
    },
    {
     "name": "stderr",
     "output_type": "stream",
     "text": [
      "INFO:SELFCAL:# Residual image for major/minor cycle 0/4 created #\n"
     ]
    },
    {
     "name": "stderr",
     "output_type": "stream",
     "text": [
      "INFO:SELFCAL:# Peak of the residual image is 0.00341611 Jy/beam #\n"
     ]
    },
    {
     "name": "stderr",
     "output_type": "stream",
     "text": [
      "INFO:SELFCAL:# RMS of the residual image is 0.000610779 Jy/beam #\n"
     ]
    },
    {
     "name": "stderr",
     "output_type": "stream",
     "text": [
      "INFO:SELFCAL:# Minor self-calibration cycle 4 for frequency chunk 06 finished #\n"
     ]
    },
    {
     "name": "stderr",
     "output_type": "stream",
     "text": [
      "INFO:SELFCAL:# Doing self-calibration with uvmin=0.0, uvmax=3000, solution interval=5 minutes for major cycle 00 #\n"
     ]
    },
    {
     "name": "stderr",
     "output_type": "stream",
     "text": [
      "INFO:SELFCAL:# Major self-calibration cycle 0 for frequency chunk 06 finished #\n"
     ]
    },
    {
     "name": "stderr",
     "output_type": "stream",
     "text": [
      "INFO:SELFCAL:# Major self-calibration cycle 1 for frequency chunk 06 started #\n"
     ]
    },
    {
     "name": "stderr",
     "output_type": "stream",
     "text": [
      "INFO:SELFCAL:# Creating directory /data/adebahr/apertif/tutorials/T1/00/selfcal/06/01 #\n"
     ]
    },
    {
     "name": "stderr",
     "output_type": "stream",
     "text": [
      "INFO:SELFCAL:# The minor cycle dynamic range limits for major cycle 1 are [25.0, 26.5625, 31.25, 39.0625, 50.0] #\n"
     ]
    },
    {
     "name": "stderr",
     "output_type": "stream",
     "text": [
      "INFO:SELFCAL:# Minor self-calibration cycle 0 for frequency chunk 06 started #\n"
     ]
    },
    {
     "name": "stderr",
     "output_type": "stream",
     "text": [
      "INFO:SELFCAL:# Mask threshold for major/minor cycle 1/0 set to 0.003425 Jy/beam #\n"
     ]
    },
    {
     "name": "stderr",
     "output_type": "stream",
     "text": [
      "INFO:SELFCAL:# Mask threshold set by Theoretical noise threshold #\n"
     ]
    },
    {
     "name": "stderr",
     "output_type": "stream",
     "text": [
      "INFO:SELFCAL:# Mask from last minor iteration of last major cycle copied #\n"
     ]
    },
    {
     "name": "stderr",
     "output_type": "stream",
     "text": [
      "INFO:SELFCAL:# Clean threshold at major/minor cycle 1/0 was set to 0.000685 Jy/beam #\n"
     ]
    },
    {
     "name": "stderr",
     "output_type": "stream",
     "text": [
      "INFO:SELFCAL:# Major/minor cycle 1/0 cleaning done #\n"
     ]
    },
    {
     "name": "stderr",
     "output_type": "stream",
     "text": [
      "INFO:SELFCAL:# Cleaned image for major/minor cycle 1/0 created #\n"
     ]
    },
    {
     "name": "stderr",
     "output_type": "stream",
     "text": [
      "INFO:SELFCAL:# Residual image for major/minor cycle 1/0 created #\n"
     ]
    },
    {
     "name": "stderr",
     "output_type": "stream",
     "text": [
      "INFO:SELFCAL:# Peak of the residual image is 0.00346795 Jy/beam #\n"
     ]
    },
    {
     "name": "stderr",
     "output_type": "stream",
     "text": [
      "INFO:SELFCAL:# RMS of the residual image is 0.000539852 Jy/beam #\n"
     ]
    },
    {
     "name": "stderr",
     "output_type": "stream",
     "text": [
      "INFO:SELFCAL:# Minor self-calibration cycle 0 for frequency chunk 06 finished #\n"
     ]
    },
    {
     "name": "stderr",
     "output_type": "stream",
     "text": [
      "INFO:SELFCAL:# Minor self-calibration cycle 1 for frequency chunk 06 started #\n"
     ]
    },
    {
     "name": "stderr",
     "output_type": "stream",
     "text": [
      "INFO:SELFCAL:# Mask threshold for major/minor cycle 1/1 set to 0.003425 Jy/beam #\n"
     ]
    },
    {
     "name": "stderr",
     "output_type": "stream",
     "text": [
      "INFO:SELFCAL:# Mask threshold set by Theoretical noise threshold #\n"
     ]
    },
    {
     "name": "stderr",
     "output_type": "stream",
     "text": [
      "INFO:SELFCAL:# Mask with threshold 0.003425 Jy/beam created #\n"
     ]
    },
    {
     "name": "stderr",
     "output_type": "stream",
     "text": [
      "INFO:SELFCAL:# Clean threshold at major/minor cycle 1/1 was set to 0.000685 Jy/beam #\n"
     ]
    },
    {
     "name": "stderr",
     "output_type": "stream",
     "text": [
      "INFO:SELFCAL:# Major/minor cycle 1/1 cleaning done #\n"
     ]
    },
    {
     "name": "stderr",
     "output_type": "stream",
     "text": [
      "INFO:SELFCAL:# Cleaned image for major/minor cycle 1/1 created #\n"
     ]
    },
    {
     "name": "stderr",
     "output_type": "stream",
     "text": [
      "INFO:SELFCAL:# Residual image for major/minor cycle 1/1 created #\n"
     ]
    },
    {
     "name": "stderr",
     "output_type": "stream",
     "text": [
      "INFO:SELFCAL:# Peak of the residual image is 0.0032734 Jy/beam #\n"
     ]
    },
    {
     "name": "stderr",
     "output_type": "stream",
     "text": [
      "INFO:SELFCAL:# RMS of the residual image is 0.000537503 Jy/beam #\n"
     ]
    },
    {
     "name": "stderr",
     "output_type": "stream",
     "text": [
      "INFO:SELFCAL:# Minor self-calibration cycle 1 for frequency chunk 06 finished #\n"
     ]
    },
    {
     "name": "stderr",
     "output_type": "stream",
     "text": [
      "INFO:SELFCAL:# Minor self-calibration cycle 2 for frequency chunk 06 started #\n"
     ]
    },
    {
     "name": "stderr",
     "output_type": "stream",
     "text": [
      "INFO:SELFCAL:# Mask threshold for major/minor cycle 1/2 set to 0.003425 Jy/beam #\n"
     ]
    },
    {
     "name": "stderr",
     "output_type": "stream",
     "text": [
      "INFO:SELFCAL:# Mask threshold set by Theoretical noise threshold #\n"
     ]
    },
    {
     "name": "stderr",
     "output_type": "stream",
     "text": [
      "INFO:SELFCAL:# Mask with threshold 0.003425 Jy/beam created #\n"
     ]
    },
    {
     "name": "stderr",
     "output_type": "stream",
     "text": [
      "INFO:SELFCAL:# Clean threshold at major/minor cycle 1/2 was set to 0.000685 Jy/beam #\n"
     ]
    },
    {
     "name": "stderr",
     "output_type": "stream",
     "text": [
      "INFO:SELFCAL:# Major/minor cycle 1/2 cleaning done #\n"
     ]
    },
    {
     "name": "stderr",
     "output_type": "stream",
     "text": [
      "INFO:SELFCAL:# Cleaned image for major/minor cycle 1/2 created #\n"
     ]
    },
    {
     "name": "stderr",
     "output_type": "stream",
     "text": [
      "INFO:SELFCAL:# Residual image for major/minor cycle 1/2 created #\n"
     ]
    },
    {
     "name": "stderr",
     "output_type": "stream",
     "text": [
      "INFO:SELFCAL:# Peak of the residual image is 0.00345453 Jy/beam #\n"
     ]
    },
    {
     "name": "stderr",
     "output_type": "stream",
     "text": [
      "INFO:SELFCAL:# RMS of the residual image is 0.000536451 Jy/beam #\n"
     ]
    },
    {
     "name": "stderr",
     "output_type": "stream",
     "text": [
      "INFO:SELFCAL:# Minor self-calibration cycle 2 for frequency chunk 06 finished #\n"
     ]
    },
    {
     "name": "stderr",
     "output_type": "stream",
     "text": [
      "INFO:SELFCAL:# Minor self-calibration cycle 3 for frequency chunk 06 started #\n"
     ]
    },
    {
     "name": "stderr",
     "output_type": "stream",
     "text": [
      "INFO:SELFCAL:# Mask threshold for major/minor cycle 1/3 set to 0.003425 Jy/beam #\n"
     ]
    },
    {
     "name": "stderr",
     "output_type": "stream",
     "text": [
      "INFO:SELFCAL:# Mask threshold set by Theoretical noise threshold #\n"
     ]
    },
    {
     "name": "stderr",
     "output_type": "stream",
     "text": [
      "INFO:SELFCAL:# Mask with threshold 0.003425 Jy/beam created #\n"
     ]
    },
    {
     "name": "stderr",
     "output_type": "stream",
     "text": [
      "INFO:SELFCAL:# Clean threshold at major/minor cycle 1/3 was set to 0.000685 Jy/beam #\n"
     ]
    },
    {
     "name": "stderr",
     "output_type": "stream",
     "text": [
      "INFO:SELFCAL:# Major/minor cycle 1/3 cleaning done #\n"
     ]
    },
    {
     "name": "stderr",
     "output_type": "stream",
     "text": [
      "INFO:SELFCAL:# Cleaned image for major/minor cycle 1/3 created #\n"
     ]
    },
    {
     "name": "stderr",
     "output_type": "stream",
     "text": [
      "INFO:SELFCAL:# Residual image for major/minor cycle 1/3 created #\n"
     ]
    },
    {
     "name": "stderr",
     "output_type": "stream",
     "text": [
      "INFO:SELFCAL:# Peak of the residual image is 0.00315974 Jy/beam #\n"
     ]
    },
    {
     "name": "stderr",
     "output_type": "stream",
     "text": [
      "INFO:SELFCAL:# RMS of the residual image is 0.000535085 Jy/beam #\n"
     ]
    },
    {
     "name": "stderr",
     "output_type": "stream",
     "text": [
      "INFO:SELFCAL:# Minor self-calibration cycle 3 for frequency chunk 06 finished #\n"
     ]
    },
    {
     "name": "stderr",
     "output_type": "stream",
     "text": [
      "INFO:SELFCAL:# Minor self-calibration cycle 4 for frequency chunk 06 started #\n"
     ]
    },
    {
     "name": "stderr",
     "output_type": "stream",
     "text": [
      "INFO:SELFCAL:# Mask threshold for major/minor cycle 1/4 set to 0.003425 Jy/beam #\n"
     ]
    },
    {
     "name": "stderr",
     "output_type": "stream",
     "text": [
      "INFO:SELFCAL:# Mask threshold set by Theoretical noise threshold #\n"
     ]
    },
    {
     "name": "stderr",
     "output_type": "stream",
     "text": [
      "INFO:SELFCAL:# Mask with threshold 0.003425 Jy/beam created #\n"
     ]
    },
    {
     "name": "stderr",
     "output_type": "stream",
     "text": [
      "INFO:SELFCAL:# Clean threshold at major/minor cycle 1/4 was set to 0.000685 Jy/beam #\n"
     ]
    },
    {
     "name": "stderr",
     "output_type": "stream",
     "text": [
      "INFO:SELFCAL:# Major/minor cycle 1/4 cleaning done #\n"
     ]
    },
    {
     "name": "stderr",
     "output_type": "stream",
     "text": [
      "INFO:SELFCAL:# Cleaned image for major/minor cycle 1/4 created #\n"
     ]
    },
    {
     "name": "stderr",
     "output_type": "stream",
     "text": [
      "INFO:SELFCAL:# Residual image for major/minor cycle 1/4 created #\n"
     ]
    },
    {
     "name": "stderr",
     "output_type": "stream",
     "text": [
      "INFO:SELFCAL:# Peak of the residual image is 0.00318036 Jy/beam #\n"
     ]
    },
    {
     "name": "stderr",
     "output_type": "stream",
     "text": [
      "INFO:SELFCAL:# RMS of the residual image is 0.000534504 Jy/beam #\n"
     ]
    },
    {
     "name": "stderr",
     "output_type": "stream",
     "text": [
      "INFO:SELFCAL:# Minor self-calibration cycle 4 for frequency chunk 06 finished #\n"
     ]
    },
    {
     "name": "stderr",
     "output_type": "stream",
     "text": [
      "INFO:SELFCAL:# Doing self-calibration with uvmin=0.0, uvmax=3000, solution interval=3 minutes for major cycle 01 #\n"
     ]
    },
    {
     "name": "stderr",
     "output_type": "stream",
     "text": [
      "INFO:SELFCAL:# Major self-calibration cycle 1 for frequency chunk 06 finished #\n"
     ]
    },
    {
     "name": "stderr",
     "output_type": "stream",
     "text": [
      "INFO:SELFCAL:# Major self-calibration cycle 2 for frequency chunk 06 started #\n"
     ]
    },
    {
     "name": "stderr",
     "output_type": "stream",
     "text": [
      "INFO:SELFCAL:# Creating directory /data/adebahr/apertif/tutorials/T1/00/selfcal/06/02 #\n"
     ]
    },
    {
     "name": "stderr",
     "output_type": "stream",
     "text": [
      "INFO:SELFCAL:# The minor cycle dynamic range limits for major cycle 2 are [50.0, 53.125, 62.5, 78.125, 100.0] #\n"
     ]
    },
    {
     "name": "stderr",
     "output_type": "stream",
     "text": [
      "INFO:SELFCAL:# Minor self-calibration cycle 0 for frequency chunk 06 started #\n"
     ]
    },
    {
     "name": "stderr",
     "output_type": "stream",
     "text": [
      "INFO:SELFCAL:# Mask threshold for major/minor cycle 2/0 set to 0.003425 Jy/beam #\n"
     ]
    },
    {
     "name": "stderr",
     "output_type": "stream",
     "text": [
      "INFO:SELFCAL:# Mask threshold set by Theoretical noise threshold #\n"
     ]
    },
    {
     "name": "stderr",
     "output_type": "stream",
     "text": [
      "INFO:SELFCAL:# Mask from last minor iteration of last major cycle copied #\n"
     ]
    },
    {
     "name": "stderr",
     "output_type": "stream",
     "text": [
      "INFO:SELFCAL:# Clean threshold at major/minor cycle 2/0 was set to 0.000685 Jy/beam #\n"
     ]
    },
    {
     "name": "stderr",
     "output_type": "stream",
     "text": [
      "INFO:SELFCAL:# Major/minor cycle 2/0 cleaning done #\n"
     ]
    },
    {
     "name": "stderr",
     "output_type": "stream",
     "text": [
      "INFO:SELFCAL:# Cleaned image for major/minor cycle 2/0 created #\n"
     ]
    },
    {
     "name": "stderr",
     "output_type": "stream",
     "text": [
      "INFO:SELFCAL:# Residual image for major/minor cycle 2/0 created #\n"
     ]
    },
    {
     "name": "stderr",
     "output_type": "stream",
     "text": [
      "INFO:SELFCAL:# Peak of the residual image is 0.00315522 Jy/beam #\n"
     ]
    },
    {
     "name": "stderr",
     "output_type": "stream",
     "text": [
      "INFO:SELFCAL:# RMS of the residual image is 0.00050421 Jy/beam #\n"
     ]
    },
    {
     "name": "stderr",
     "output_type": "stream",
     "text": [
      "INFO:SELFCAL:# Minor self-calibration cycle 0 for frequency chunk 06 finished #\n"
     ]
    },
    {
     "name": "stderr",
     "output_type": "stream",
     "text": [
      "INFO:SELFCAL:# Minor self-calibration cycle 1 for frequency chunk 06 started #\n"
     ]
    },
    {
     "name": "stderr",
     "output_type": "stream",
     "text": [
      "INFO:SELFCAL:# Mask threshold for major/minor cycle 2/1 set to 0.003425 Jy/beam #\n"
     ]
    },
    {
     "name": "stderr",
     "output_type": "stream",
     "text": [
      "INFO:SELFCAL:# Mask threshold set by Theoretical noise threshold #\n"
     ]
    },
    {
     "name": "stderr",
     "output_type": "stream",
     "text": [
      "INFO:SELFCAL:# Mask with threshold 0.003425 Jy/beam created #\n"
     ]
    },
    {
     "name": "stderr",
     "output_type": "stream",
     "text": [
      "INFO:SELFCAL:# Clean threshold at major/minor cycle 2/1 was set to 0.000685 Jy/beam #\n"
     ]
    },
    {
     "name": "stderr",
     "output_type": "stream",
     "text": [
      "INFO:SELFCAL:# Major/minor cycle 2/1 cleaning done #\n"
     ]
    },
    {
     "name": "stderr",
     "output_type": "stream",
     "text": [
      "INFO:SELFCAL:# Cleaned image for major/minor cycle 2/1 created #\n"
     ]
    },
    {
     "name": "stderr",
     "output_type": "stream",
     "text": [
      "INFO:SELFCAL:# Residual image for major/minor cycle 2/1 created #\n"
     ]
    },
    {
     "name": "stderr",
     "output_type": "stream",
     "text": [
      "INFO:SELFCAL:# Peak of the residual image is 0.00321618 Jy/beam #\n"
     ]
    },
    {
     "name": "stderr",
     "output_type": "stream",
     "text": [
      "INFO:SELFCAL:# RMS of the residual image is 0.000502767 Jy/beam #\n"
     ]
    },
    {
     "name": "stderr",
     "output_type": "stream",
     "text": [
      "INFO:SELFCAL:# Minor self-calibration cycle 1 for frequency chunk 06 finished #\n"
     ]
    },
    {
     "name": "stderr",
     "output_type": "stream",
     "text": [
      "INFO:SELFCAL:# Minor self-calibration cycle 2 for frequency chunk 06 started #\n"
     ]
    },
    {
     "name": "stderr",
     "output_type": "stream",
     "text": [
      "INFO:SELFCAL:# Mask threshold for major/minor cycle 2/2 set to 0.003425 Jy/beam #\n"
     ]
    },
    {
     "name": "stderr",
     "output_type": "stream",
     "text": [
      "INFO:SELFCAL:# Mask threshold set by Theoretical noise threshold #\n"
     ]
    },
    {
     "name": "stderr",
     "output_type": "stream",
     "text": [
      "INFO:SELFCAL:# Mask with threshold 0.003425 Jy/beam created #\n"
     ]
    },
    {
     "name": "stderr",
     "output_type": "stream",
     "text": [
      "INFO:SELFCAL:# Clean threshold at major/minor cycle 2/2 was set to 0.000685 Jy/beam #\n"
     ]
    },
    {
     "name": "stderr",
     "output_type": "stream",
     "text": [
      "INFO:SELFCAL:# Major/minor cycle 2/2 cleaning done #\n"
     ]
    },
    {
     "name": "stderr",
     "output_type": "stream",
     "text": [
      "INFO:SELFCAL:# Cleaned image for major/minor cycle 2/2 created #\n"
     ]
    },
    {
     "name": "stderr",
     "output_type": "stream",
     "text": [
      "INFO:SELFCAL:# Residual image for major/minor cycle 2/2 created #\n"
     ]
    },
    {
     "name": "stderr",
     "output_type": "stream",
     "text": [
      "INFO:SELFCAL:# Peak of the residual image is 0.00326264 Jy/beam #\n"
     ]
    },
    {
     "name": "stderr",
     "output_type": "stream",
     "text": [
      "INFO:SELFCAL:# RMS of the residual image is 0.00050229 Jy/beam #\n"
     ]
    },
    {
     "name": "stderr",
     "output_type": "stream",
     "text": [
      "INFO:SELFCAL:# Minor self-calibration cycle 2 for frequency chunk 06 finished #\n"
     ]
    },
    {
     "name": "stderr",
     "output_type": "stream",
     "text": [
      "INFO:SELFCAL:# Minor self-calibration cycle 3 for frequency chunk 06 started #\n"
     ]
    },
    {
     "name": "stderr",
     "output_type": "stream",
     "text": [
      "INFO:SELFCAL:# Mask threshold for major/minor cycle 2/3 set to 0.003425 Jy/beam #\n"
     ]
    },
    {
     "name": "stderr",
     "output_type": "stream",
     "text": [
      "INFO:SELFCAL:# Mask threshold set by Theoretical noise threshold #\n"
     ]
    },
    {
     "name": "stderr",
     "output_type": "stream",
     "text": [
      "INFO:SELFCAL:# Mask with threshold 0.003425 Jy/beam created #\n"
     ]
    },
    {
     "name": "stderr",
     "output_type": "stream",
     "text": [
      "INFO:SELFCAL:# Clean threshold at major/minor cycle 2/3 was set to 0.000685 Jy/beam #\n"
     ]
    },
    {
     "name": "stderr",
     "output_type": "stream",
     "text": [
      "INFO:SELFCAL:# Major/minor cycle 2/3 cleaning done #\n"
     ]
    },
    {
     "name": "stderr",
     "output_type": "stream",
     "text": [
      "INFO:SELFCAL:# Cleaned image for major/minor cycle 2/3 created #\n"
     ]
    },
    {
     "name": "stderr",
     "output_type": "stream",
     "text": [
      "INFO:SELFCAL:# Residual image for major/minor cycle 2/3 created #\n"
     ]
    },
    {
     "name": "stderr",
     "output_type": "stream",
     "text": [
      "INFO:SELFCAL:# Peak of the residual image is 0.00326168 Jy/beam #\n"
     ]
    },
    {
     "name": "stderr",
     "output_type": "stream",
     "text": [
      "INFO:SELFCAL:# RMS of the residual image is 0.000502135 Jy/beam #\n"
     ]
    },
    {
     "name": "stderr",
     "output_type": "stream",
     "text": [
      "INFO:SELFCAL:# Minor self-calibration cycle 3 for frequency chunk 06 finished #\n"
     ]
    },
    {
     "name": "stderr",
     "output_type": "stream",
     "text": [
      "INFO:SELFCAL:# Minor self-calibration cycle 4 for frequency chunk 06 started #\n"
     ]
    },
    {
     "name": "stderr",
     "output_type": "stream",
     "text": [
      "INFO:SELFCAL:# Mask threshold for major/minor cycle 2/4 set to 0.003425 Jy/beam #\n"
     ]
    },
    {
     "name": "stderr",
     "output_type": "stream",
     "text": [
      "INFO:SELFCAL:# Mask threshold set by Theoretical noise threshold #\n"
     ]
    },
    {
     "name": "stderr",
     "output_type": "stream",
     "text": [
      "INFO:SELFCAL:# Mask with threshold 0.003425 Jy/beam created #\n"
     ]
    },
    {
     "name": "stderr",
     "output_type": "stream",
     "text": [
      "INFO:SELFCAL:# Clean threshold at major/minor cycle 2/4 was set to 0.000685 Jy/beam #\n"
     ]
    },
    {
     "name": "stderr",
     "output_type": "stream",
     "text": [
      "INFO:SELFCAL:# Major/minor cycle 2/4 cleaning done #\n"
     ]
    },
    {
     "name": "stderr",
     "output_type": "stream",
     "text": [
      "INFO:SELFCAL:# Cleaned image for major/minor cycle 2/4 created #\n"
     ]
    },
    {
     "name": "stderr",
     "output_type": "stream",
     "text": [
      "INFO:SELFCAL:# Residual image for major/minor cycle 2/4 created #\n"
     ]
    },
    {
     "name": "stderr",
     "output_type": "stream",
     "text": [
      "INFO:SELFCAL:# Peak of the residual image is 0.00326356 Jy/beam #\n"
     ]
    },
    {
     "name": "stderr",
     "output_type": "stream",
     "text": [
      "INFO:SELFCAL:# RMS of the residual image is 0.00050208 Jy/beam #\n"
     ]
    },
    {
     "name": "stderr",
     "output_type": "stream",
     "text": [
      "INFO:SELFCAL:# Minor self-calibration cycle 4 for frequency chunk 06 finished #\n"
     ]
    },
    {
     "name": "stderr",
     "output_type": "stream",
     "text": [
      "INFO:SELFCAL:# Doing self-calibration with uvmin=0.0, uvmax=3000, solution interval=0.5 minutes for major cycle 02 #\n"
     ]
    },
    {
     "name": "stderr",
     "output_type": "stream",
     "text": [
      "INFO:SELFCAL:# Major self-calibration cycle 2 for frequency chunk 06 finished #\n"
     ]
    },
    {
     "name": "stderr",
     "output_type": "stream",
     "text": [
      "INFO:SELFCAL:# Standard self-calibration routine for chunk 06 finished #\n"
     ]
    },
    {
     "name": "stderr",
     "output_type": "stream",
     "text": [
      "INFO:SELFCAL:# Starting standard self-calibration routine on frequency chunk 07 #\n"
     ]
    },
    {
     "name": "stderr",
     "output_type": "stream",
     "text": [
      "INFO:SELFCAL:# Moved to directory /data/adebahr/apertif/tutorials/T1/00/selfcal/07 #\n"
     ]
    },
    {
     "name": "stderr",
     "output_type": "stream",
     "text": [
      "INFO:SELFCAL:# Theoretical noise for chunk 07 is 6.85e-05 Jy/beam #\n"
     ]
    },
    {
     "name": "stderr",
     "output_type": "stream",
     "text": [
      "INFO:SELFCAL:# Your theoretical noise threshold will be 50 times the theoretical noise corresponding to 0.003425 Jy/beam #\n"
     ]
    },
    {
     "name": "stderr",
     "output_type": "stream",
     "text": [
      "INFO:SELFCAL:# Your dynamic range limits are set to [25.0, 50.0, 100.0] for the major self-calibration cycles #\n"
     ]
    },
    {
     "name": "stderr",
     "output_type": "stream",
     "text": [
      "INFO:SELFCAL:# Major self-calibration cycle 0 for frequency chunk 07 started #\n"
     ]
    },
    {
     "name": "stderr",
     "output_type": "stream",
     "text": [
      "INFO:SELFCAL:# Creating directory /data/adebahr/apertif/tutorials/T1/00/selfcal/07/00 #\n"
     ]
    },
    {
     "name": "stderr",
     "output_type": "stream",
     "text": [
      "INFO:SELFCAL:# The minor cycle dynamic range limits for major cycle 0 are [3.0, 1.5625, 6.25, 14.0625, 25.0] #\n"
     ]
    },
    {
     "name": "stderr",
     "output_type": "stream",
     "text": [
      "INFO:SELFCAL:# Minor self-calibration cycle 0 for frequency chunk 07 started #\n"
     ]
    },
    {
     "name": "stderr",
     "output_type": "stream",
     "text": [
      "INFO:SELFCAL:# Mask threshold for major/minor cycle 0/0 set to 0.0192418446143 Jy/beam #\n"
     ]
    },
    {
     "name": "stderr",
     "output_type": "stream",
     "text": [
      "INFO:SELFCAL:# Mask threshold set by Dynamic range threshold #\n"
     ]
    },
    {
     "name": "stderr",
     "output_type": "stream",
     "text": [
      "INFO:SELFCAL:# Mask with threshold 0.0192418446143 Jy/beam created #\n"
     ]
    },
    {
     "name": "stderr",
     "output_type": "stream",
     "text": [
      "INFO:SELFCAL:# Clean threshold at major/minor cycle 0/0 was set to 0.00384836892287 Jy/beam #\n"
     ]
    },
    {
     "name": "stderr",
     "output_type": "stream",
     "text": [
      "INFO:SELFCAL:# Major/minor cycle 0/0 cleaning done #\n"
     ]
    },
    {
     "name": "stderr",
     "output_type": "stream",
     "text": [
      "INFO:SELFCAL:# Cleaned image for major/minor cycle 0/0 created #\n"
     ]
    },
    {
     "name": "stderr",
     "output_type": "stream",
     "text": [
      "INFO:SELFCAL:# Residual image for major/minor cycle 0/0 created #\n"
     ]
    },
    {
     "name": "stderr",
     "output_type": "stream",
     "text": [
      "INFO:SELFCAL:# Peak of the residual image is 0.0200232 Jy/beam #\n"
     ]
    },
    {
     "name": "stderr",
     "output_type": "stream",
     "text": [
      "INFO:SELFCAL:# RMS of the residual image is 0.000867847 Jy/beam #\n"
     ]
    },
    {
     "name": "stderr",
     "output_type": "stream",
     "text": [
      "INFO:SELFCAL:# Minor self-calibration cycle 0 for frequency chunk 07 finished #\n"
     ]
    },
    {
     "name": "stderr",
     "output_type": "stream",
     "text": [
      "INFO:SELFCAL:# Minor self-calibration cycle 1 for frequency chunk 07 started #\n"
     ]
    },
    {
     "name": "stderr",
     "output_type": "stream",
     "text": [
      "INFO:SELFCAL:# Mask threshold for major/minor cycle 0/1 set to 0.0369443416595 Jy/beam #\n"
     ]
    },
    {
     "name": "stderr",
     "output_type": "stream",
     "text": [
      "INFO:SELFCAL:# Mask threshold set by Dynamic range threshold #\n"
     ]
    },
    {
     "name": "stderr",
     "output_type": "stream",
     "text": [
      "INFO:SELFCAL:# Mask with threshold 0.0369443416595 Jy/beam created #\n"
     ]
    },
    {
     "name": "stderr",
     "output_type": "stream",
     "text": [
      "INFO:SELFCAL:# Clean threshold at major/minor cycle 0/1 was set to 0.00738886833191 Jy/beam #\n"
     ]
    },
    {
     "name": "stderr",
     "output_type": "stream",
     "text": [
      "INFO:SELFCAL:# Major/minor cycle 0/1 cleaning done #\n"
     ]
    },
    {
     "name": "stderr",
     "output_type": "stream",
     "text": [
      "INFO:SELFCAL:# Cleaned image for major/minor cycle 0/1 created #\n"
     ]
    },
    {
     "name": "stderr",
     "output_type": "stream",
     "text": [
      "INFO:SELFCAL:# Residual image for major/minor cycle 0/1 created #\n"
     ]
    },
    {
     "name": "stderr",
     "output_type": "stream",
     "text": [
      "INFO:SELFCAL:# Peak of the residual image is 0.0216852 Jy/beam #\n"
     ]
    },
    {
     "name": "stderr",
     "output_type": "stream",
     "text": [
      "INFO:SELFCAL:# RMS of the residual image is 0.000969569 Jy/beam #\n"
     ]
    },
    {
     "name": "stderr",
     "output_type": "stream",
     "text": [
      "INFO:SELFCAL:# Minor self-calibration cycle 1 for frequency chunk 07 finished #\n"
     ]
    },
    {
     "name": "stderr",
     "output_type": "stream",
     "text": [
      "INFO:SELFCAL:# Minor self-calibration cycle 2 for frequency chunk 07 started #\n"
     ]
    },
    {
     "name": "stderr",
     "output_type": "stream",
     "text": [
      "INFO:SELFCAL:# Mask threshold for major/minor cycle 0/2 set to 0.00923608541489 Jy/beam #\n"
     ]
    },
    {
     "name": "stderr",
     "output_type": "stream",
     "text": [
      "INFO:SELFCAL:# Mask threshold set by Dynamic range threshold #\n"
     ]
    },
    {
     "name": "stderr",
     "output_type": "stream",
     "text": [
      "INFO:SELFCAL:# Mask with threshold 0.00923608541489 Jy/beam created #\n"
     ]
    },
    {
     "name": "stderr",
     "output_type": "stream",
     "text": [
      "INFO:SELFCAL:# Clean threshold at major/minor cycle 0/2 was set to 0.00184721708298 Jy/beam #\n"
     ]
    },
    {
     "name": "stderr",
     "output_type": "stream",
     "text": [
      "INFO:SELFCAL:# Major/minor cycle 0/2 cleaning done #\n"
     ]
    },
    {
     "name": "stderr",
     "output_type": "stream",
     "text": [
      "INFO:SELFCAL:# Cleaned image for major/minor cycle 0/2 created #\n"
     ]
    },
    {
     "name": "stderr",
     "output_type": "stream",
     "text": [
      "INFO:SELFCAL:# Residual image for major/minor cycle 0/2 created #\n"
     ]
    },
    {
     "name": "stderr",
     "output_type": "stream",
     "text": [
      "INFO:SELFCAL:# Peak of the residual image is 0.00893576 Jy/beam #\n"
     ]
    },
    {
     "name": "stderr",
     "output_type": "stream",
     "text": [
      "INFO:SELFCAL:# RMS of the residual image is 0.00071004 Jy/beam #\n"
     ]
    },
    {
     "name": "stderr",
     "output_type": "stream",
     "text": [
      "INFO:SELFCAL:# Minor self-calibration cycle 2 for frequency chunk 07 finished #\n"
     ]
    },
    {
     "name": "stderr",
     "output_type": "stream",
     "text": [
      "INFO:SELFCAL:# Minor self-calibration cycle 3 for frequency chunk 07 started #\n"
     ]
    },
    {
     "name": "stderr",
     "output_type": "stream",
     "text": [
      "INFO:SELFCAL:# Mask threshold for major/minor cycle 0/3 set to 0.00410492685106 Jy/beam #\n"
     ]
    },
    {
     "name": "stderr",
     "output_type": "stream",
     "text": [
      "INFO:SELFCAL:# Mask threshold set by Dynamic range threshold #\n"
     ]
    },
    {
     "name": "stderr",
     "output_type": "stream",
     "text": [
      "INFO:SELFCAL:# Mask with threshold 0.00410492685106 Jy/beam created #\n"
     ]
    },
    {
     "name": "stderr",
     "output_type": "stream",
     "text": [
      "INFO:SELFCAL:# Clean threshold at major/minor cycle 0/3 was set to 0.000820985370212 Jy/beam #\n"
     ]
    },
    {
     "name": "stderr",
     "output_type": "stream",
     "text": [
      "INFO:SELFCAL:# Major/minor cycle 0/3 cleaning done #\n"
     ]
    },
    {
     "name": "stderr",
     "output_type": "stream",
     "text": [
      "INFO:SELFCAL:# Cleaned image for major/minor cycle 0/3 created #\n"
     ]
    },
    {
     "name": "stderr",
     "output_type": "stream",
     "text": [
      "INFO:SELFCAL:# Residual image for major/minor cycle 0/3 created #\n"
     ]
    },
    {
     "name": "stderr",
     "output_type": "stream",
     "text": [
      "INFO:SELFCAL:# Peak of the residual image is 0.00546543 Jy/beam #\n"
     ]
    },
    {
     "name": "stderr",
     "output_type": "stream",
     "text": [
      "INFO:SELFCAL:# RMS of the residual image is 0.000598225 Jy/beam #\n"
     ]
    },
    {
     "name": "stderr",
     "output_type": "stream",
     "text": [
      "INFO:SELFCAL:# Minor self-calibration cycle 3 for frequency chunk 07 finished #\n"
     ]
    },
    {
     "name": "stderr",
     "output_type": "stream",
     "text": [
      "INFO:SELFCAL:# Minor self-calibration cycle 4 for frequency chunk 07 started #\n"
     ]
    },
    {
     "name": "stderr",
     "output_type": "stream",
     "text": [
      "INFO:SELFCAL:# Mask threshold for major/minor cycle 0/4 set to 0.003425 Jy/beam #\n"
     ]
    },
    {
     "name": "stderr",
     "output_type": "stream",
     "text": [
      "INFO:SELFCAL:# Mask threshold set by Theoretical noise threshold #\n"
     ]
    },
    {
     "name": "stderr",
     "output_type": "stream",
     "text": [
      "INFO:SELFCAL:# Mask with threshold 0.003425 Jy/beam created #\n"
     ]
    },
    {
     "name": "stderr",
     "output_type": "stream",
     "text": [
      "INFO:SELFCAL:# Clean threshold at major/minor cycle 0/4 was set to 0.000685 Jy/beam #\n"
     ]
    },
    {
     "name": "stderr",
     "output_type": "stream",
     "text": [
      "INFO:SELFCAL:# Major/minor cycle 0/4 cleaning done #\n"
     ]
    },
    {
     "name": "stderr",
     "output_type": "stream",
     "text": [
      "INFO:SELFCAL:# Cleaned image for major/minor cycle 0/4 created #\n"
     ]
    },
    {
     "name": "stderr",
     "output_type": "stream",
     "text": [
      "INFO:SELFCAL:# Residual image for major/minor cycle 0/4 created #\n"
     ]
    },
    {
     "name": "stderr",
     "output_type": "stream",
     "text": [
      "INFO:SELFCAL:# Peak of the residual image is 0.00359929 Jy/beam #\n"
     ]
    },
    {
     "name": "stderr",
     "output_type": "stream",
     "text": [
      "INFO:SELFCAL:# RMS of the residual image is 0.000569383 Jy/beam #\n"
     ]
    },
    {
     "name": "stderr",
     "output_type": "stream",
     "text": [
      "INFO:SELFCAL:# Minor self-calibration cycle 4 for frequency chunk 07 finished #\n"
     ]
    },
    {
     "name": "stderr",
     "output_type": "stream",
     "text": [
      "INFO:SELFCAL:# Doing self-calibration with uvmin=0.0, uvmax=3000, solution interval=5 minutes for major cycle 00 #\n"
     ]
    },
    {
     "name": "stderr",
     "output_type": "stream",
     "text": [
      "INFO:SELFCAL:# Major self-calibration cycle 0 for frequency chunk 07 finished #\n"
     ]
    },
    {
     "name": "stderr",
     "output_type": "stream",
     "text": [
      "INFO:SELFCAL:# Major self-calibration cycle 1 for frequency chunk 07 started #\n"
     ]
    },
    {
     "name": "stderr",
     "output_type": "stream",
     "text": [
      "INFO:SELFCAL:# Creating directory /data/adebahr/apertif/tutorials/T1/00/selfcal/07/01 #\n"
     ]
    },
    {
     "name": "stderr",
     "output_type": "stream",
     "text": [
      "INFO:SELFCAL:# The minor cycle dynamic range limits for major cycle 1 are [25.0, 26.5625, 31.25, 39.0625, 50.0] #\n"
     ]
    },
    {
     "name": "stderr",
     "output_type": "stream",
     "text": [
      "INFO:SELFCAL:# Minor self-calibration cycle 0 for frequency chunk 07 started #\n"
     ]
    },
    {
     "name": "stderr",
     "output_type": "stream",
     "text": [
      "INFO:SELFCAL:# Mask threshold for major/minor cycle 1/0 set to 0.003425 Jy/beam #\n"
     ]
    },
    {
     "name": "stderr",
     "output_type": "stream",
     "text": [
      "INFO:SELFCAL:# Mask threshold set by Theoretical noise threshold #\n"
     ]
    },
    {
     "name": "stderr",
     "output_type": "stream",
     "text": [
      "INFO:SELFCAL:# Mask from last minor iteration of last major cycle copied #\n"
     ]
    },
    {
     "name": "stderr",
     "output_type": "stream",
     "text": [
      "INFO:SELFCAL:# Clean threshold at major/minor cycle 1/0 was set to 0.000685 Jy/beam #\n"
     ]
    },
    {
     "name": "stderr",
     "output_type": "stream",
     "text": [
      "INFO:SELFCAL:# Major/minor cycle 1/0 cleaning done #\n"
     ]
    },
    {
     "name": "stderr",
     "output_type": "stream",
     "text": [
      "INFO:SELFCAL:# Cleaned image for major/minor cycle 1/0 created #\n"
     ]
    },
    {
     "name": "stderr",
     "output_type": "stream",
     "text": [
      "INFO:SELFCAL:# Residual image for major/minor cycle 1/0 created #\n"
     ]
    },
    {
     "name": "stderr",
     "output_type": "stream",
     "text": [
      "INFO:SELFCAL:# Peak of the residual image is 0.00344337 Jy/beam #\n"
     ]
    },
    {
     "name": "stderr",
     "output_type": "stream",
     "text": [
      "INFO:SELFCAL:# RMS of the residual image is 0.000503183 Jy/beam #\n"
     ]
    },
    {
     "name": "stderr",
     "output_type": "stream",
     "text": [
      "INFO:SELFCAL:# Minor self-calibration cycle 0 for frequency chunk 07 finished #\n"
     ]
    },
    {
     "name": "stderr",
     "output_type": "stream",
     "text": [
      "INFO:SELFCAL:# Minor self-calibration cycle 1 for frequency chunk 07 started #\n"
     ]
    },
    {
     "name": "stderr",
     "output_type": "stream",
     "text": [
      "INFO:SELFCAL:# Mask threshold for major/minor cycle 1/1 set to 0.003425 Jy/beam #\n"
     ]
    },
    {
     "name": "stderr",
     "output_type": "stream",
     "text": [
      "INFO:SELFCAL:# Mask threshold set by Theoretical noise threshold #\n"
     ]
    },
    {
     "name": "stderr",
     "output_type": "stream",
     "text": [
      "INFO:SELFCAL:# Mask with threshold 0.003425 Jy/beam created #\n"
     ]
    },
    {
     "name": "stderr",
     "output_type": "stream",
     "text": [
      "INFO:SELFCAL:# Clean threshold at major/minor cycle 1/1 was set to 0.000685 Jy/beam #\n"
     ]
    },
    {
     "name": "stderr",
     "output_type": "stream",
     "text": [
      "INFO:SELFCAL:# Major/minor cycle 1/1 cleaning done #\n"
     ]
    },
    {
     "name": "stderr",
     "output_type": "stream",
     "text": [
      "INFO:SELFCAL:# Cleaned image for major/minor cycle 1/1 created #\n"
     ]
    },
    {
     "name": "stderr",
     "output_type": "stream",
     "text": [
      "INFO:SELFCAL:# Residual image for major/minor cycle 1/1 created #\n"
     ]
    },
    {
     "name": "stderr",
     "output_type": "stream",
     "text": [
      "INFO:SELFCAL:# Peak of the residual image is 0.00313481 Jy/beam #\n"
     ]
    },
    {
     "name": "stderr",
     "output_type": "stream",
     "text": [
      "INFO:SELFCAL:# RMS of the residual image is 0.000499375 Jy/beam #\n"
     ]
    },
    {
     "name": "stderr",
     "output_type": "stream",
     "text": [
      "INFO:SELFCAL:# Minor self-calibration cycle 1 for frequency chunk 07 finished #\n"
     ]
    },
    {
     "name": "stderr",
     "output_type": "stream",
     "text": [
      "INFO:SELFCAL:# Minor self-calibration cycle 2 for frequency chunk 07 started #\n"
     ]
    },
    {
     "name": "stderr",
     "output_type": "stream",
     "text": [
      "INFO:SELFCAL:# Mask threshold for major/minor cycle 1/2 set to 0.003425 Jy/beam #\n"
     ]
    },
    {
     "name": "stderr",
     "output_type": "stream",
     "text": [
      "INFO:SELFCAL:# Mask threshold set by Theoretical noise threshold #\n"
     ]
    },
    {
     "name": "stderr",
     "output_type": "stream",
     "text": [
      "INFO:SELFCAL:# Mask with threshold 0.003425 Jy/beam created #\n"
     ]
    },
    {
     "name": "stderr",
     "output_type": "stream",
     "text": [
      "INFO:SELFCAL:# Clean threshold at major/minor cycle 1/2 was set to 0.000685 Jy/beam #\n"
     ]
    },
    {
     "name": "stderr",
     "output_type": "stream",
     "text": [
      "INFO:SELFCAL:# Major/minor cycle 1/2 cleaning done #\n"
     ]
    },
    {
     "name": "stderr",
     "output_type": "stream",
     "text": [
      "INFO:SELFCAL:# Cleaned image for major/minor cycle 1/2 created #\n"
     ]
    },
    {
     "name": "stderr",
     "output_type": "stream",
     "text": [
      "INFO:SELFCAL:# Residual image for major/minor cycle 1/2 created #\n"
     ]
    },
    {
     "name": "stderr",
     "output_type": "stream",
     "text": [
      "INFO:SELFCAL:# Peak of the residual image is 0.0031338 Jy/beam #\n"
     ]
    },
    {
     "name": "stderr",
     "output_type": "stream",
     "text": [
      "INFO:SELFCAL:# RMS of the residual image is 0.000497453 Jy/beam #\n"
     ]
    },
    {
     "name": "stderr",
     "output_type": "stream",
     "text": [
      "INFO:SELFCAL:# Minor self-calibration cycle 2 for frequency chunk 07 finished #\n"
     ]
    },
    {
     "name": "stderr",
     "output_type": "stream",
     "text": [
      "INFO:SELFCAL:# Minor self-calibration cycle 3 for frequency chunk 07 started #\n"
     ]
    },
    {
     "name": "stderr",
     "output_type": "stream",
     "text": [
      "INFO:SELFCAL:# Mask threshold for major/minor cycle 1/3 set to 0.003425 Jy/beam #\n"
     ]
    },
    {
     "name": "stderr",
     "output_type": "stream",
     "text": [
      "INFO:SELFCAL:# Mask threshold set by Theoretical noise threshold #\n"
     ]
    },
    {
     "name": "stderr",
     "output_type": "stream",
     "text": [
      "INFO:SELFCAL:# Mask with threshold 0.003425 Jy/beam created #\n"
     ]
    },
    {
     "name": "stderr",
     "output_type": "stream",
     "text": [
      "INFO:SELFCAL:# Clean threshold at major/minor cycle 1/3 was set to 0.000685 Jy/beam #\n"
     ]
    },
    {
     "name": "stderr",
     "output_type": "stream",
     "text": [
      "INFO:SELFCAL:# Major/minor cycle 1/3 cleaning done #\n"
     ]
    },
    {
     "name": "stderr",
     "output_type": "stream",
     "text": [
      "INFO:SELFCAL:# Cleaned image for major/minor cycle 1/3 created #\n"
     ]
    },
    {
     "name": "stderr",
     "output_type": "stream",
     "text": [
      "INFO:SELFCAL:# Residual image for major/minor cycle 1/3 created #\n"
     ]
    },
    {
     "name": "stderr",
     "output_type": "stream",
     "text": [
      "INFO:SELFCAL:# Peak of the residual image is 0.00313383 Jy/beam #\n"
     ]
    },
    {
     "name": "stderr",
     "output_type": "stream",
     "text": [
      "INFO:SELFCAL:# RMS of the residual image is 0.00049706 Jy/beam #\n"
     ]
    },
    {
     "name": "stderr",
     "output_type": "stream",
     "text": [
      "INFO:SELFCAL:# Minor self-calibration cycle 3 for frequency chunk 07 finished #\n"
     ]
    },
    {
     "name": "stderr",
     "output_type": "stream",
     "text": [
      "INFO:SELFCAL:# Minor self-calibration cycle 4 for frequency chunk 07 started #\n"
     ]
    },
    {
     "name": "stderr",
     "output_type": "stream",
     "text": [
      "INFO:SELFCAL:# Mask threshold for major/minor cycle 1/4 set to 0.003425 Jy/beam #\n"
     ]
    },
    {
     "name": "stderr",
     "output_type": "stream",
     "text": [
      "INFO:SELFCAL:# Mask threshold set by Theoretical noise threshold #\n"
     ]
    },
    {
     "name": "stderr",
     "output_type": "stream",
     "text": [
      "INFO:SELFCAL:# Mask with threshold 0.003425 Jy/beam created #\n"
     ]
    },
    {
     "name": "stderr",
     "output_type": "stream",
     "text": [
      "INFO:SELFCAL:# Clean threshold at major/minor cycle 1/4 was set to 0.000685 Jy/beam #\n"
     ]
    },
    {
     "name": "stderr",
     "output_type": "stream",
     "text": [
      "INFO:SELFCAL:# Major/minor cycle 1/4 cleaning done #\n"
     ]
    },
    {
     "name": "stderr",
     "output_type": "stream",
     "text": [
      "INFO:SELFCAL:# Cleaned image for major/minor cycle 1/4 created #\n"
     ]
    },
    {
     "name": "stderr",
     "output_type": "stream",
     "text": [
      "INFO:SELFCAL:# Residual image for major/minor cycle 1/4 created #\n"
     ]
    },
    {
     "name": "stderr",
     "output_type": "stream",
     "text": [
      "INFO:SELFCAL:# Peak of the residual image is 0.00316323 Jy/beam #\n"
     ]
    },
    {
     "name": "stderr",
     "output_type": "stream",
     "text": [
      "INFO:SELFCAL:# RMS of the residual image is 0.00049656 Jy/beam #\n"
     ]
    },
    {
     "name": "stderr",
     "output_type": "stream",
     "text": [
      "INFO:SELFCAL:# Minor self-calibration cycle 4 for frequency chunk 07 finished #\n"
     ]
    },
    {
     "name": "stderr",
     "output_type": "stream",
     "text": [
      "INFO:SELFCAL:# Doing self-calibration with uvmin=0.0, uvmax=3000, solution interval=3 minutes for major cycle 01 #\n"
     ]
    },
    {
     "name": "stderr",
     "output_type": "stream",
     "text": [
      "INFO:SELFCAL:# Major self-calibration cycle 1 for frequency chunk 07 finished #\n"
     ]
    },
    {
     "name": "stderr",
     "output_type": "stream",
     "text": [
      "INFO:SELFCAL:# Major self-calibration cycle 2 for frequency chunk 07 started #\n"
     ]
    },
    {
     "name": "stderr",
     "output_type": "stream",
     "text": [
      "INFO:SELFCAL:# Creating directory /data/adebahr/apertif/tutorials/T1/00/selfcal/07/02 #\n"
     ]
    },
    {
     "name": "stderr",
     "output_type": "stream",
     "text": [
      "INFO:SELFCAL:# The minor cycle dynamic range limits for major cycle 2 are [50.0, 53.125, 62.5, 78.125, 100.0] #\n"
     ]
    },
    {
     "name": "stderr",
     "output_type": "stream",
     "text": [
      "INFO:SELFCAL:# Minor self-calibration cycle 0 for frequency chunk 07 started #\n"
     ]
    },
    {
     "name": "stderr",
     "output_type": "stream",
     "text": [
      "INFO:SELFCAL:# Mask threshold for major/minor cycle 2/0 set to 0.003425 Jy/beam #\n"
     ]
    },
    {
     "name": "stderr",
     "output_type": "stream",
     "text": [
      "INFO:SELFCAL:# Mask threshold set by Theoretical noise threshold #\n"
     ]
    },
    {
     "name": "stderr",
     "output_type": "stream",
     "text": [
      "INFO:SELFCAL:# Mask from last minor iteration of last major cycle copied #\n"
     ]
    },
    {
     "name": "stderr",
     "output_type": "stream",
     "text": [
      "INFO:SELFCAL:# Clean threshold at major/minor cycle 2/0 was set to 0.000685 Jy/beam #\n"
     ]
    },
    {
     "name": "stderr",
     "output_type": "stream",
     "text": [
      "INFO:SELFCAL:# Major/minor cycle 2/0 cleaning done #\n"
     ]
    },
    {
     "name": "stderr",
     "output_type": "stream",
     "text": [
      "INFO:SELFCAL:# Cleaned image for major/minor cycle 2/0 created #\n"
     ]
    },
    {
     "name": "stderr",
     "output_type": "stream",
     "text": [
      "INFO:SELFCAL:# Residual image for major/minor cycle 2/0 created #\n"
     ]
    },
    {
     "name": "stderr",
     "output_type": "stream",
     "text": [
      "INFO:SELFCAL:# Peak of the residual image is 0.00267148 Jy/beam #\n"
     ]
    },
    {
     "name": "stderr",
     "output_type": "stream",
     "text": [
      "INFO:SELFCAL:# RMS of the residual image is 0.000471144 Jy/beam #\n"
     ]
    },
    {
     "name": "stderr",
     "output_type": "stream",
     "text": [
      "INFO:SELFCAL:# Minor self-calibration cycle 0 for frequency chunk 07 finished #\n"
     ]
    },
    {
     "name": "stderr",
     "output_type": "stream",
     "text": [
      "INFO:SELFCAL:# Minor self-calibration cycle 1 for frequency chunk 07 started #\n"
     ]
    },
    {
     "name": "stderr",
     "output_type": "stream",
     "text": [
      "INFO:SELFCAL:# Mask threshold for major/minor cycle 2/1 set to 0.003425 Jy/beam #\n"
     ]
    },
    {
     "name": "stderr",
     "output_type": "stream",
     "text": [
      "INFO:SELFCAL:# Mask threshold set by Theoretical noise threshold #\n"
     ]
    },
    {
     "name": "stderr",
     "output_type": "stream",
     "text": [
      "INFO:SELFCAL:# Mask with threshold 0.003425 Jy/beam created #\n"
     ]
    },
    {
     "name": "stderr",
     "output_type": "stream",
     "text": [
      "INFO:SELFCAL:# Clean threshold at major/minor cycle 2/1 was set to 0.000685 Jy/beam #\n"
     ]
    },
    {
     "name": "stderr",
     "output_type": "stream",
     "text": [
      "INFO:SELFCAL:# Major/minor cycle 2/1 cleaning done #\n"
     ]
    },
    {
     "name": "stderr",
     "output_type": "stream",
     "text": [
      "INFO:SELFCAL:# Cleaned image for major/minor cycle 2/1 created #\n"
     ]
    },
    {
     "name": "stderr",
     "output_type": "stream",
     "text": [
      "INFO:SELFCAL:# Residual image for major/minor cycle 2/1 created #\n"
     ]
    },
    {
     "name": "stderr",
     "output_type": "stream",
     "text": [
      "INFO:SELFCAL:# Peak of the residual image is 0.00268587 Jy/beam #\n"
     ]
    },
    {
     "name": "stderr",
     "output_type": "stream",
     "text": [
      "INFO:SELFCAL:# RMS of the residual image is 0.000469399 Jy/beam #\n"
     ]
    },
    {
     "name": "stderr",
     "output_type": "stream",
     "text": [
      "INFO:SELFCAL:# Minor self-calibration cycle 1 for frequency chunk 07 finished #\n"
     ]
    },
    {
     "name": "stderr",
     "output_type": "stream",
     "text": [
      "INFO:SELFCAL:# Minor self-calibration cycle 2 for frequency chunk 07 started #\n"
     ]
    },
    {
     "name": "stderr",
     "output_type": "stream",
     "text": [
      "INFO:SELFCAL:# Mask threshold for major/minor cycle 2/2 set to 0.003425 Jy/beam #\n"
     ]
    },
    {
     "name": "stderr",
     "output_type": "stream",
     "text": [
      "INFO:SELFCAL:# Mask threshold set by Theoretical noise threshold #\n"
     ]
    },
    {
     "name": "stderr",
     "output_type": "stream",
     "text": [
      "INFO:SELFCAL:# Mask with threshold 0.003425 Jy/beam created #\n"
     ]
    },
    {
     "name": "stderr",
     "output_type": "stream",
     "text": [
      "INFO:SELFCAL:# Clean threshold at major/minor cycle 2/2 was set to 0.000685 Jy/beam #\n"
     ]
    },
    {
     "name": "stderr",
     "output_type": "stream",
     "text": [
      "INFO:SELFCAL:# Major/minor cycle 2/2 cleaning done #\n"
     ]
    },
    {
     "name": "stderr",
     "output_type": "stream",
     "text": [
      "INFO:SELFCAL:# Cleaned image for major/minor cycle 2/2 created #\n"
     ]
    },
    {
     "name": "stderr",
     "output_type": "stream",
     "text": [
      "INFO:SELFCAL:# Residual image for major/minor cycle 2/2 created #\n"
     ]
    },
    {
     "name": "stderr",
     "output_type": "stream",
     "text": [
      "INFO:SELFCAL:# Peak of the residual image is 0.00270673 Jy/beam #\n"
     ]
    },
    {
     "name": "stderr",
     "output_type": "stream",
     "text": [
      "INFO:SELFCAL:# RMS of the residual image is 0.000469101 Jy/beam #\n"
     ]
    },
    {
     "name": "stderr",
     "output_type": "stream",
     "text": [
      "INFO:SELFCAL:# Minor self-calibration cycle 2 for frequency chunk 07 finished #\n"
     ]
    },
    {
     "name": "stderr",
     "output_type": "stream",
     "text": [
      "INFO:SELFCAL:# Minor self-calibration cycle 3 for frequency chunk 07 started #\n"
     ]
    },
    {
     "name": "stderr",
     "output_type": "stream",
     "text": [
      "INFO:SELFCAL:# Mask threshold for major/minor cycle 2/3 set to 0.003425 Jy/beam #\n"
     ]
    },
    {
     "name": "stderr",
     "output_type": "stream",
     "text": [
      "INFO:SELFCAL:# Mask threshold set by Theoretical noise threshold #\n"
     ]
    },
    {
     "name": "stderr",
     "output_type": "stream",
     "text": [
      "INFO:SELFCAL:# Mask with threshold 0.003425 Jy/beam created #\n"
     ]
    },
    {
     "name": "stderr",
     "output_type": "stream",
     "text": [
      "INFO:SELFCAL:# Clean threshold at major/minor cycle 2/3 was set to 0.000685 Jy/beam #\n"
     ]
    },
    {
     "name": "stderr",
     "output_type": "stream",
     "text": [
      "INFO:SELFCAL:# Major/minor cycle 2/3 cleaning done #\n"
     ]
    },
    {
     "name": "stderr",
     "output_type": "stream",
     "text": [
      "INFO:SELFCAL:# Cleaned image for major/minor cycle 2/3 created #\n"
     ]
    },
    {
     "name": "stderr",
     "output_type": "stream",
     "text": [
      "INFO:SELFCAL:# Residual image for major/minor cycle 2/3 created #\n"
     ]
    },
    {
     "name": "stderr",
     "output_type": "stream",
     "text": [
      "INFO:SELFCAL:# Peak of the residual image is 0.00271139 Jy/beam #\n"
     ]
    },
    {
     "name": "stderr",
     "output_type": "stream",
     "text": [
      "INFO:SELFCAL:# RMS of the residual image is 0.000468982 Jy/beam #\n"
     ]
    },
    {
     "name": "stderr",
     "output_type": "stream",
     "text": [
      "INFO:SELFCAL:# Minor self-calibration cycle 3 for frequency chunk 07 finished #\n"
     ]
    },
    {
     "name": "stderr",
     "output_type": "stream",
     "text": [
      "INFO:SELFCAL:# Minor self-calibration cycle 4 for frequency chunk 07 started #\n"
     ]
    },
    {
     "name": "stderr",
     "output_type": "stream",
     "text": [
      "INFO:SELFCAL:# Mask threshold for major/minor cycle 2/4 set to 0.003425 Jy/beam #\n"
     ]
    },
    {
     "name": "stderr",
     "output_type": "stream",
     "text": [
      "INFO:SELFCAL:# Mask threshold set by Theoretical noise threshold #\n"
     ]
    },
    {
     "name": "stderr",
     "output_type": "stream",
     "text": [
      "INFO:SELFCAL:# Mask with threshold 0.003425 Jy/beam created #\n"
     ]
    },
    {
     "name": "stderr",
     "output_type": "stream",
     "text": [
      "INFO:SELFCAL:# Clean threshold at major/minor cycle 2/4 was set to 0.000685 Jy/beam #\n"
     ]
    },
    {
     "name": "stderr",
     "output_type": "stream",
     "text": [
      "INFO:SELFCAL:# Major/minor cycle 2/4 cleaning done #\n"
     ]
    },
    {
     "name": "stderr",
     "output_type": "stream",
     "text": [
      "INFO:SELFCAL:# Cleaned image for major/minor cycle 2/4 created #\n"
     ]
    },
    {
     "name": "stderr",
     "output_type": "stream",
     "text": [
      "INFO:SELFCAL:# Residual image for major/minor cycle 2/4 created #\n"
     ]
    },
    {
     "name": "stderr",
     "output_type": "stream",
     "text": [
      "INFO:SELFCAL:# Peak of the residual image is 0.00271302 Jy/beam #\n"
     ]
    },
    {
     "name": "stderr",
     "output_type": "stream",
     "text": [
      "INFO:SELFCAL:# RMS of the residual image is 0.000468927 Jy/beam #\n"
     ]
    },
    {
     "name": "stderr",
     "output_type": "stream",
     "text": [
      "INFO:SELFCAL:# Minor self-calibration cycle 4 for frequency chunk 07 finished #\n"
     ]
    },
    {
     "name": "stderr",
     "output_type": "stream",
     "text": [
      "INFO:SELFCAL:# Doing self-calibration with uvmin=0.0, uvmax=3000, solution interval=0.5 minutes for major cycle 02 #\n"
     ]
    },
    {
     "name": "stderr",
     "output_type": "stream",
     "text": [
      "INFO:SELFCAL:# Major self-calibration cycle 2 for frequency chunk 07 finished #\n"
     ]
    },
    {
     "name": "stderr",
     "output_type": "stream",
     "text": [
      "INFO:SELFCAL:# Standard self-calibration routine for chunk 07 finished #\n"
     ]
    },
    {
     "name": "stderr",
     "output_type": "stream",
     "text": [
      "INFO:SELFCAL:### Standard self calibration routine finished ###\n"
     ]
    },
    {
     "name": "stderr",
     "output_type": "stream",
     "text": [
      "INFO:SELFCAL:########## SELF CALIBRATION done ##########\n"
     ]
    }
   ],
   "source": [
    "# For the self-calibration we are using an image size of 1025 pixels (selfcal_image_imsize = 1025) with a cell size of 8 arcseconds (selfcal_image_cellsize = 8)\n",
    "# We split the data (selfcal_splitdata = True) in chunks of 0.02 GHz (selfcal_splitdata_chunkbandwidth = 0.02) and average to a channel bandwidth of 0.001 GHz (selfcal_splitdata_channelbandwidth = 0.001)\n",
    "# The algorithm will split the observed band uniformly between the chunks. The used chunk and chanel bandwidth will therefore be close but not exactly the given ones\n",
    "# We do not do any parametric self-calibration (selfcal_parametric = False) since our observed target field is dominated by diffuse emission\n",
    "# We use 3 majorcycles (selfcal_standard_majorcycle = 3) with 5 minorcycles each (selfcal_standard_minorcycle = 5)\n",
    "# Both types of cycles have a square function in calculate the maximum increment in dynamic range between the cycles (selfcal_standard_majorcycle_function = square/selfcal_standard_minorcycle_function = square)\n",
    "# We use the complete uv-range for every cycle (selfcal_standard_uvmin = [0.0, 0.0, 0.0]/selfcal_standard_uvmax = [3000, 3000, 3000])\n",
    "# and solution intervals of 5,3, and 0.5 minutes for the three major cycles (selfcal_standard_solint = [5, 3, 0.5])\n",
    "# We do not use any amplitude calibration (selfcal_standard_amp = False). You can experiment with options True (always use amplitude calibration) or 'auto' (use amplitude calibration if the clean components reach a flux of selfcal_standard_amp_auto_limit Jy)\n",
    "# Only one solution is used for each individual chunk (selfcal_standard_nfbin = 1)\n",
    "scal.go()"
   ]
  },
  {
   "cell_type": "code",
   "execution_count": 23,
   "metadata": {},
   "outputs": [
    {
     "name": "stderr",
     "output_type": "stream",
     "text": [
      "INFO:CONTINUUM:### Configuration file /home/adebahr/apercal/ipython-notebooks/tutorials/cfg/1.cfg successfully read! ###\n"
     ]
    },
    {
     "name": "stdout",
     "output_type": "stream",
     "text": [
      "CONTINUUM\n\tcontinuum_image_imsize = 1025\n\tcontinuum_image_cellsize = 8\n\tcontinuum_image_centre = \n\tcontinuum_image_restorbeam = \n\tcontinuum_image_convolbeam = 45,45,0.0\n\tcontinuum_mode = stack\n\tcontinuum_majorcycle_function = square\n\tcontinuum_minorcycle_function = square\n\tcontinuum_minorcycle0_dr = 3.0\n\tcontinuum_minorcycle = 5\n\tcontinuum_c0 = 10.0\n\tcontinuum_c1 = 5.0\n\tcontinuum_drinit = 25\n\tcontinuum_dr0 = 2.0\n\tcontinuum_nsigma = 30\n\tcontinuum_robust = \n"
     ]
    }
   ],
   "source": [
    "# All frequency chunks were calibrated and it is now time to create a final continuum image\n",
    "continuum = apercal.continuum('/home/adebahr/apercal/ipython-notebooks/tutorials/cfg/1.cfg')\n",
    "continuum.show()"
   ]
  },
  {
   "cell_type": "code",
   "execution_count": 24,
   "metadata": {},
   "outputs": [
    {
     "name": "stderr",
     "output_type": "stream",
     "text": [
      "INFO:CONTINUUM:########## Starting CONTINUUM IMAGING ##########\n"
     ]
    },
    {
     "name": "stderr",
     "output_type": "stream",
     "text": [
      "INFO:CONTINUUM:### Starting deep continuum imaging of full dataset ###\n"
     ]
    },
    {
     "name": "stderr",
     "output_type": "stream",
     "text": [
      "INFO:CONTINUUM:# Creating directory /data/adebahr/apertif/tutorials/T1/00/continuum #\n"
     ]
    },
    {
     "name": "stderr",
     "output_type": "stream",
     "text": [
      "INFO:CONTINUUM:# Moved to directory /data/adebahr/apertif/tutorials/T1/00/continuum #\n"
     ]
    },
    {
     "name": "stderr",
     "output_type": "stream",
     "text": [
      "INFO:CONTINUUM:### Creating individual deep images from frequency chunks ###\n"
     ]
    },
    {
     "name": "stderr",
     "output_type": "stream",
     "text": [
      "INFO:CONTINUUM:# Creating directory /data/adebahr/apertif/tutorials/T1/00/continuum/stack #\n"
     ]
    },
    {
     "name": "stderr",
     "output_type": "stream",
     "text": [
      "INFO:CONTINUUM:# Moved to directory /data/adebahr/apertif/tutorials/T1/00/continuum/stack #\n"
     ]
    },
    {
     "name": "stderr",
     "output_type": "stream",
     "text": [
      "INFO:CONTINUUM:### Continuum imaging for chunk 00 started ###\n"
     ]
    },
    {
     "name": "stderr",
     "output_type": "stream",
     "text": [
      "INFO:CONTINUUM:# Last major self-calibration cycle seems to have been 3 #\n"
     ]
    },
    {
     "name": "stderr",
     "output_type": "stream",
     "text": [
      "INFO:CONTINUUM:# Creating directory /data/adebahr/apertif/tutorials/T1/00/continuum/stack/00 #\n"
     ]
    },
    {
     "name": "stderr",
     "output_type": "stream",
     "text": [
      "INFO:CONTINUUM:# Moved to directory /data/adebahr/apertif/tutorials/T1/00/continuum/stack/00 #\n"
     ]
    },
    {
     "name": "stderr",
     "output_type": "stream",
     "text": [
      "INFO:CONTINUUM:# Theoretical noise for chunk 00 is 6.85e-05 Jy/beam #\n"
     ]
    },
    {
     "name": "stderr",
     "output_type": "stream",
     "text": [
      "INFO:CONTINUUM:# Your theoretical noise threshold will be 30 times the theoretical noise corresponding to 0.002055 Jy/beam #\n"
     ]
    },
    {
     "name": "stderr",
     "output_type": "stream",
     "text": [
      "INFO:CONTINUUM:# Dynamic range limits for the continuum minor iterations to clean are [100.0, 106.25, 125.0, 156.25, 200.0] #\n"
     ]
    },
    {
     "name": "stderr",
     "output_type": "stream",
     "text": [
      "INFO:CONTINUUM:# Mask threshold for final minor cycle 0 set to 0.002055 Jy/beam #\n"
     ]
    },
    {
     "name": "stderr",
     "output_type": "stream",
     "text": [
      "INFO:CONTINUUM:# Mask threshold set by Theoretical noise threshold #\n"
     ]
    },
    {
     "name": "stderr",
     "output_type": "stream",
     "text": [
      "INFO:CONTINUUM:# Mask from last selfcal cycle copied and regridded to common grid #\n"
     ]
    },
    {
     "name": "stderr",
     "output_type": "stream",
     "text": [
      "INFO:CONTINUUM:# Clean threshold for minor cycle 0 was set to 0.000411 Jy/beam #\n"
     ]
    },
    {
     "name": "stderr",
     "output_type": "stream",
     "text": [
      "INFO:CONTINUUM:# Minor cycle 0 cleaning done #\n"
     ]
    },
    {
     "name": "stderr",
     "output_type": "stream",
     "text": [
      "INFO:CONTINUUM:# Cleaned image for minor cycle 0 created #\n"
     ]
    },
    {
     "name": "stderr",
     "output_type": "stream",
     "text": [
      "INFO:CONTINUUM:# Residual image for minor cycle 0 created #\n"
     ]
    },
    {
     "name": "stderr",
     "output_type": "stream",
     "text": [
      "INFO:CONTINUUM:# Peak of the residual image is 0.00366526 Jy/beam #\n"
     ]
    },
    {
     "name": "stderr",
     "output_type": "stream",
     "text": [
      "INFO:CONTINUUM:# RMS of the residual image is 0.000727436 Jy/beam #\n"
     ]
    },
    {
     "name": "stderr",
     "output_type": "stream",
     "text": [
      "INFO:CONTINUUM:# Mask threshold for final imaging minor cycle 1 set to 0.002055 Jy/beam #\n"
     ]
    },
    {
     "name": "stderr",
     "output_type": "stream",
     "text": [
      "INFO:CONTINUUM:# Mask threshold set by Theoretical noise threshold #\n"
     ]
    },
    {
     "name": "stderr",
     "output_type": "stream",
     "text": [
      "INFO:CONTINUUM:# Mask with threshold 0.002055 Jy/beam created #\n"
     ]
    },
    {
     "name": "stderr",
     "output_type": "stream",
     "text": [
      "INFO:CONTINUUM:# Clean threshold for minor cycle 1 was set to 0.000411 Jy/beam #\n"
     ]
    },
    {
     "name": "stderr",
     "output_type": "stream",
     "text": [
      "INFO:CONTINUUM:# Minor cycle 1 cleaning done #\n"
     ]
    },
    {
     "name": "stderr",
     "output_type": "stream",
     "text": [
      "INFO:CONTINUUM:# Cleaned image for minor cycle 1 created #\n"
     ]
    },
    {
     "name": "stderr",
     "output_type": "stream",
     "text": [
      "INFO:CONTINUUM:# Residual image for minor cycle 1 created #\n"
     ]
    },
    {
     "name": "stderr",
     "output_type": "stream",
     "text": [
      "INFO:CONTINUUM:# Peak of the residual image is 0.00234308 Jy/beam #\n"
     ]
    },
    {
     "name": "stderr",
     "output_type": "stream",
     "text": [
      "INFO:CONTINUUM:# RMS of the residual image is 0.000520804 Jy/beam #\n"
     ]
    },
    {
     "name": "stderr",
     "output_type": "stream",
     "text": [
      "INFO:CONTINUUM:# Mask threshold for final imaging minor cycle 2 set to 0.002055 Jy/beam #\n"
     ]
    },
    {
     "name": "stderr",
     "output_type": "stream",
     "text": [
      "INFO:CONTINUUM:# Mask threshold set by Theoretical noise threshold #\n"
     ]
    },
    {
     "name": "stderr",
     "output_type": "stream",
     "text": [
      "INFO:CONTINUUM:# Mask with threshold 0.002055 Jy/beam created #\n"
     ]
    },
    {
     "name": "stderr",
     "output_type": "stream",
     "text": [
      "INFO:CONTINUUM:# Clean threshold for minor cycle 2 was set to 0.000411 Jy/beam #\n"
     ]
    },
    {
     "name": "stderr",
     "output_type": "stream",
     "text": [
      "INFO:CONTINUUM:# Minor cycle 2 cleaning done #\n"
     ]
    },
    {
     "name": "stderr",
     "output_type": "stream",
     "text": [
      "INFO:CONTINUUM:# Cleaned image for minor cycle 2 created #\n"
     ]
    },
    {
     "name": "stderr",
     "output_type": "stream",
     "text": [
      "INFO:CONTINUUM:# Residual image for minor cycle 2 created #\n"
     ]
    },
    {
     "name": "stderr",
     "output_type": "stream",
     "text": [
      "INFO:CONTINUUM:# Peak of the residual image is 0.00344047 Jy/beam #\n"
     ]
    },
    {
     "name": "stderr",
     "output_type": "stream",
     "text": [
      "INFO:CONTINUUM:# RMS of the residual image is 0.000703391 Jy/beam #\n"
     ]
    },
    {
     "name": "stderr",
     "output_type": "stream",
     "text": [
      "INFO:CONTINUUM:# Mask threshold for final imaging minor cycle 3 set to 0.002055 Jy/beam #\n"
     ]
    },
    {
     "name": "stderr",
     "output_type": "stream",
     "text": [
      "INFO:CONTINUUM:# Mask threshold set by Theoretical noise threshold #\n"
     ]
    },
    {
     "name": "stderr",
     "output_type": "stream",
     "text": [
      "INFO:CONTINUUM:# Mask with threshold 0.002055 Jy/beam created #\n"
     ]
    },
    {
     "name": "stderr",
     "output_type": "stream",
     "text": [
      "INFO:CONTINUUM:# Clean threshold for minor cycle 3 was set to 0.000411 Jy/beam #\n"
     ]
    },
    {
     "name": "stderr",
     "output_type": "stream",
     "text": [
      "INFO:CONTINUUM:# Minor cycle 3 cleaning done #\n"
     ]
    },
    {
     "name": "stderr",
     "output_type": "stream",
     "text": [
      "INFO:CONTINUUM:# Cleaned image for minor cycle 3 created #\n"
     ]
    },
    {
     "name": "stderr",
     "output_type": "stream",
     "text": [
      "INFO:CONTINUUM:# Residual image for minor cycle 3 created #\n"
     ]
    },
    {
     "name": "stderr",
     "output_type": "stream",
     "text": [
      "INFO:CONTINUUM:# Peak of the residual image is 0.00259909 Jy/beam #\n"
     ]
    },
    {
     "name": "stderr",
     "output_type": "stream",
     "text": [
      "INFO:CONTINUUM:# RMS of the residual image is 0.000519959 Jy/beam #\n"
     ]
    },
    {
     "name": "stderr",
     "output_type": "stream",
     "text": [
      "INFO:CONTINUUM:# Mask threshold for final imaging minor cycle 4 set to 0.002055 Jy/beam #\n"
     ]
    },
    {
     "name": "stderr",
     "output_type": "stream",
     "text": [
      "INFO:CONTINUUM:# Mask threshold set by Theoretical noise threshold #\n"
     ]
    },
    {
     "name": "stderr",
     "output_type": "stream",
     "text": [
      "INFO:CONTINUUM:# Mask with threshold 0.002055 Jy/beam created #\n"
     ]
    },
    {
     "name": "stderr",
     "output_type": "stream",
     "text": [
      "INFO:CONTINUUM:# Clean threshold for minor cycle 4 was set to 0.000411 Jy/beam #\n"
     ]
    },
    {
     "name": "stderr",
     "output_type": "stream",
     "text": [
      "INFO:CONTINUUM:# Minor cycle 4 cleaning done #\n"
     ]
    },
    {
     "name": "stderr",
     "output_type": "stream",
     "text": [
      "INFO:CONTINUUM:# Cleaned image for minor cycle 4 created #\n"
     ]
    },
    {
     "name": "stderr",
     "output_type": "stream",
     "text": [
      "INFO:CONTINUUM:# Residual image for minor cycle 4 created #\n"
     ]
    },
    {
     "name": "stderr",
     "output_type": "stream",
     "text": [
      "INFO:CONTINUUM:# Peak of the residual image is 0.00320704 Jy/beam #\n"
     ]
    },
    {
     "name": "stderr",
     "output_type": "stream",
     "text": [
      "INFO:CONTINUUM:# RMS of the residual image is 0.000691223 Jy/beam #\n"
     ]
    },
    {
     "name": "stderr",
     "output_type": "stream",
     "text": [
      "INFO:CONTINUUM:### Continuum imaging for chunk 00 successful ###\n"
     ]
    },
    {
     "name": "stderr",
     "output_type": "stream",
     "text": [
      "INFO:CONTINUUM:### Continuum imaging for chunk 01 started ###\n"
     ]
    },
    {
     "name": "stderr",
     "output_type": "stream",
     "text": [
      "INFO:CONTINUUM:# Last major self-calibration cycle seems to have been 3 #\n"
     ]
    },
    {
     "name": "stderr",
     "output_type": "stream",
     "text": [
      "INFO:CONTINUUM:# Creating directory /data/adebahr/apertif/tutorials/T1/00/continuum/stack/01 #\n"
     ]
    },
    {
     "name": "stderr",
     "output_type": "stream",
     "text": [
      "INFO:CONTINUUM:# Moved to directory /data/adebahr/apertif/tutorials/T1/00/continuum/stack/01 #\n"
     ]
    },
    {
     "name": "stderr",
     "output_type": "stream",
     "text": [
      "INFO:CONTINUUM:# Theoretical noise for chunk 01 is 6.85e-05 Jy/beam #\n"
     ]
    },
    {
     "name": "stderr",
     "output_type": "stream",
     "text": [
      "INFO:CONTINUUM:# Your theoretical noise threshold will be 30 times the theoretical noise corresponding to 0.002055 Jy/beam #\n"
     ]
    },
    {
     "name": "stderr",
     "output_type": "stream",
     "text": [
      "INFO:CONTINUUM:# Dynamic range limits for the continuum minor iterations to clean are [100.0, 106.25, 125.0, 156.25, 200.0] #\n"
     ]
    },
    {
     "name": "stderr",
     "output_type": "stream",
     "text": [
      "INFO:CONTINUUM:# Mask threshold for final minor cycle 0 set to 0.002055 Jy/beam #\n"
     ]
    },
    {
     "name": "stderr",
     "output_type": "stream",
     "text": [
      "INFO:CONTINUUM:# Mask threshold set by Theoretical noise threshold #\n"
     ]
    },
    {
     "name": "stderr",
     "output_type": "stream",
     "text": [
      "INFO:CONTINUUM:# Mask from last selfcal cycle copied and regridded to common grid #\n"
     ]
    },
    {
     "name": "stderr",
     "output_type": "stream",
     "text": [
      "INFO:CONTINUUM:# Clean threshold for minor cycle 0 was set to 0.000411 Jy/beam #\n"
     ]
    },
    {
     "name": "stderr",
     "output_type": "stream",
     "text": [
      "INFO:CONTINUUM:# Minor cycle 0 cleaning done #\n"
     ]
    },
    {
     "name": "stderr",
     "output_type": "stream",
     "text": [
      "INFO:CONTINUUM:# Cleaned image for minor cycle 0 created #\n"
     ]
    },
    {
     "name": "stderr",
     "output_type": "stream",
     "text": [
      "INFO:CONTINUUM:# Residual image for minor cycle 0 created #\n"
     ]
    },
    {
     "name": "stderr",
     "output_type": "stream",
     "text": [
      "INFO:CONTINUUM:# Peak of the residual image is 0.00328394 Jy/beam #\n"
     ]
    },
    {
     "name": "stderr",
     "output_type": "stream",
     "text": [
      "INFO:CONTINUUM:# RMS of the residual image is 0.000660538 Jy/beam #\n"
     ]
    },
    {
     "name": "stderr",
     "output_type": "stream",
     "text": [
      "INFO:CONTINUUM:# Mask threshold for final imaging minor cycle 1 set to 0.002055 Jy/beam #\n"
     ]
    },
    {
     "name": "stderr",
     "output_type": "stream",
     "text": [
      "INFO:CONTINUUM:# Mask threshold set by Theoretical noise threshold #\n"
     ]
    },
    {
     "name": "stderr",
     "output_type": "stream",
     "text": [
      "INFO:CONTINUUM:# Mask with threshold 0.002055 Jy/beam created #\n"
     ]
    },
    {
     "name": "stderr",
     "output_type": "stream",
     "text": [
      "INFO:CONTINUUM:# Clean threshold for minor cycle 1 was set to 0.000411 Jy/beam #\n"
     ]
    },
    {
     "name": "stderr",
     "output_type": "stream",
     "text": [
      "INFO:CONTINUUM:# Minor cycle 1 cleaning done #\n"
     ]
    },
    {
     "name": "stderr",
     "output_type": "stream",
     "text": [
      "INFO:CONTINUUM:# Cleaned image for minor cycle 1 created #\n"
     ]
    },
    {
     "name": "stderr",
     "output_type": "stream",
     "text": [
      "INFO:CONTINUUM:# Residual image for minor cycle 1 created #\n"
     ]
    },
    {
     "name": "stderr",
     "output_type": "stream",
     "text": [
      "INFO:CONTINUUM:# Peak of the residual image is 0.00226014 Jy/beam #\n"
     ]
    },
    {
     "name": "stderr",
     "output_type": "stream",
     "text": [
      "INFO:CONTINUUM:# RMS of the residual image is 0.000530156 Jy/beam #\n"
     ]
    },
    {
     "name": "stderr",
     "output_type": "stream",
     "text": [
      "INFO:CONTINUUM:# Mask threshold for final imaging minor cycle 2 set to 0.002055 Jy/beam #\n"
     ]
    },
    {
     "name": "stderr",
     "output_type": "stream",
     "text": [
      "INFO:CONTINUUM:# Mask threshold set by Theoretical noise threshold #\n"
     ]
    },
    {
     "name": "stderr",
     "output_type": "stream",
     "text": [
      "INFO:CONTINUUM:# Mask with threshold 0.002055 Jy/beam created #\n"
     ]
    },
    {
     "name": "stderr",
     "output_type": "stream",
     "text": [
      "INFO:CONTINUUM:# Clean threshold for minor cycle 2 was set to 0.000411 Jy/beam #\n"
     ]
    },
    {
     "name": "stderr",
     "output_type": "stream",
     "text": [
      "INFO:CONTINUUM:# Minor cycle 2 cleaning done #\n"
     ]
    },
    {
     "name": "stderr",
     "output_type": "stream",
     "text": [
      "INFO:CONTINUUM:# Cleaned image for minor cycle 2 created #\n"
     ]
    },
    {
     "name": "stderr",
     "output_type": "stream",
     "text": [
      "INFO:CONTINUUM:# Residual image for minor cycle 2 created #\n"
     ]
    },
    {
     "name": "stderr",
     "output_type": "stream",
     "text": [
      "INFO:CONTINUUM:# Peak of the residual image is 0.00307088 Jy/beam #\n"
     ]
    },
    {
     "name": "stderr",
     "output_type": "stream",
     "text": [
      "INFO:CONTINUUM:# RMS of the residual image is 0.000630246 Jy/beam #\n"
     ]
    },
    {
     "name": "stderr",
     "output_type": "stream",
     "text": [
      "INFO:CONTINUUM:# Mask threshold for final imaging minor cycle 3 set to 0.002055 Jy/beam #\n"
     ]
    },
    {
     "name": "stderr",
     "output_type": "stream",
     "text": [
      "INFO:CONTINUUM:# Mask threshold set by Theoretical noise threshold #\n"
     ]
    },
    {
     "name": "stderr",
     "output_type": "stream",
     "text": [
      "INFO:CONTINUUM:# Mask with threshold 0.002055 Jy/beam created #\n"
     ]
    },
    {
     "name": "stderr",
     "output_type": "stream",
     "text": [
      "INFO:CONTINUUM:# Clean threshold for minor cycle 3 was set to 0.000411 Jy/beam #\n"
     ]
    },
    {
     "name": "stderr",
     "output_type": "stream",
     "text": [
      "INFO:CONTINUUM:# Minor cycle 3 cleaning done #\n"
     ]
    },
    {
     "name": "stderr",
     "output_type": "stream",
     "text": [
      "INFO:CONTINUUM:# Cleaned image for minor cycle 3 created #\n"
     ]
    },
    {
     "name": "stderr",
     "output_type": "stream",
     "text": [
      "INFO:CONTINUUM:# Residual image for minor cycle 3 created #\n"
     ]
    },
    {
     "name": "stderr",
     "output_type": "stream",
     "text": [
      "INFO:CONTINUUM:# Peak of the residual image is 0.00244155 Jy/beam #\n"
     ]
    },
    {
     "name": "stderr",
     "output_type": "stream",
     "text": [
      "INFO:CONTINUUM:# RMS of the residual image is 0.000533975 Jy/beam #\n"
     ]
    },
    {
     "name": "stderr",
     "output_type": "stream",
     "text": [
      "INFO:CONTINUUM:# Mask threshold for final imaging minor cycle 4 set to 0.002055 Jy/beam #\n"
     ]
    },
    {
     "name": "stderr",
     "output_type": "stream",
     "text": [
      "INFO:CONTINUUM:# Mask threshold set by Theoretical noise threshold #\n"
     ]
    },
    {
     "name": "stderr",
     "output_type": "stream",
     "text": [
      "INFO:CONTINUUM:# Mask with threshold 0.002055 Jy/beam created #\n"
     ]
    },
    {
     "name": "stderr",
     "output_type": "stream",
     "text": [
      "INFO:CONTINUUM:# Clean threshold for minor cycle 4 was set to 0.000411 Jy/beam #\n"
     ]
    },
    {
     "name": "stderr",
     "output_type": "stream",
     "text": [
      "INFO:CONTINUUM:# Minor cycle 4 cleaning done #\n"
     ]
    },
    {
     "name": "stderr",
     "output_type": "stream",
     "text": [
      "INFO:CONTINUUM:# Cleaned image for minor cycle 4 created #\n"
     ]
    },
    {
     "name": "stderr",
     "output_type": "stream",
     "text": [
      "INFO:CONTINUUM:# Residual image for minor cycle 4 created #\n"
     ]
    },
    {
     "name": "stderr",
     "output_type": "stream",
     "text": [
      "INFO:CONTINUUM:# Peak of the residual image is 0.00296549 Jy/beam #\n"
     ]
    },
    {
     "name": "stderr",
     "output_type": "stream",
     "text": [
      "INFO:CONTINUUM:# RMS of the residual image is 0.000614483 Jy/beam #\n"
     ]
    },
    {
     "name": "stderr",
     "output_type": "stream",
     "text": [
      "INFO:CONTINUUM:### Continuum imaging for chunk 01 successful ###\n"
     ]
    },
    {
     "name": "stderr",
     "output_type": "stream",
     "text": [
      "INFO:CONTINUUM:### Continuum imaging for chunk 02 started ###\n"
     ]
    },
    {
     "name": "stderr",
     "output_type": "stream",
     "text": [
      "INFO:CONTINUUM:# Last major self-calibration cycle seems to have been 3 #\n"
     ]
    },
    {
     "name": "stderr",
     "output_type": "stream",
     "text": [
      "INFO:CONTINUUM:# Creating directory /data/adebahr/apertif/tutorials/T1/00/continuum/stack/02 #\n"
     ]
    },
    {
     "name": "stderr",
     "output_type": "stream",
     "text": [
      "INFO:CONTINUUM:# Moved to directory /data/adebahr/apertif/tutorials/T1/00/continuum/stack/02 #\n"
     ]
    },
    {
     "name": "stderr",
     "output_type": "stream",
     "text": [
      "INFO:CONTINUUM:# Theoretical noise for chunk 02 is 6.85e-05 Jy/beam #\n"
     ]
    },
    {
     "name": "stderr",
     "output_type": "stream",
     "text": [
      "INFO:CONTINUUM:# Your theoretical noise threshold will be 30 times the theoretical noise corresponding to 0.002055 Jy/beam #\n"
     ]
    },
    {
     "name": "stderr",
     "output_type": "stream",
     "text": [
      "INFO:CONTINUUM:# Dynamic range limits for the continuum minor iterations to clean are [100.0, 106.25, 125.0, 156.25, 200.0] #\n"
     ]
    },
    {
     "name": "stderr",
     "output_type": "stream",
     "text": [
      "INFO:CONTINUUM:# Mask threshold for final minor cycle 0 set to 0.002055 Jy/beam #\n"
     ]
    },
    {
     "name": "stderr",
     "output_type": "stream",
     "text": [
      "INFO:CONTINUUM:# Mask threshold set by Theoretical noise threshold #\n"
     ]
    },
    {
     "name": "stderr",
     "output_type": "stream",
     "text": [
      "INFO:CONTINUUM:# Mask from last selfcal cycle copied and regridded to common grid #\n"
     ]
    },
    {
     "name": "stderr",
     "output_type": "stream",
     "text": [
      "INFO:CONTINUUM:# Clean threshold for minor cycle 0 was set to 0.000411 Jy/beam #\n"
     ]
    },
    {
     "name": "stderr",
     "output_type": "stream",
     "text": [
      "INFO:CONTINUUM:# Minor cycle 0 cleaning done #\n"
     ]
    },
    {
     "name": "stderr",
     "output_type": "stream",
     "text": [
      "INFO:CONTINUUM:# Cleaned image for minor cycle 0 created #\n"
     ]
    },
    {
     "name": "stderr",
     "output_type": "stream",
     "text": [
      "INFO:CONTINUUM:# Residual image for minor cycle 0 created #\n"
     ]
    },
    {
     "name": "stderr",
     "output_type": "stream",
     "text": [
      "INFO:CONTINUUM:# Peak of the residual image is 0.00348465 Jy/beam #\n"
     ]
    },
    {
     "name": "stderr",
     "output_type": "stream",
     "text": [
      "INFO:CONTINUUM:# RMS of the residual image is 0.00063625 Jy/beam #\n"
     ]
    },
    {
     "name": "stderr",
     "output_type": "stream",
     "text": [
      "INFO:CONTINUUM:# Mask threshold for final imaging minor cycle 1 set to 0.002055 Jy/beam #\n"
     ]
    },
    {
     "name": "stderr",
     "output_type": "stream",
     "text": [
      "INFO:CONTINUUM:# Mask threshold set by Theoretical noise threshold #\n"
     ]
    },
    {
     "name": "stderr",
     "output_type": "stream",
     "text": [
      "INFO:CONTINUUM:# Mask with threshold 0.002055 Jy/beam created #\n"
     ]
    },
    {
     "name": "stderr",
     "output_type": "stream",
     "text": [
      "INFO:CONTINUUM:# Clean threshold for minor cycle 1 was set to 0.000411 Jy/beam #\n"
     ]
    },
    {
     "name": "stderr",
     "output_type": "stream",
     "text": [
      "INFO:CONTINUUM:# Minor cycle 1 cleaning done #\n"
     ]
    },
    {
     "name": "stderr",
     "output_type": "stream",
     "text": [
      "INFO:CONTINUUM:# Cleaned image for minor cycle 1 created #\n"
     ]
    },
    {
     "name": "stderr",
     "output_type": "stream",
     "text": [
      "INFO:CONTINUUM:# Residual image for minor cycle 1 created #\n"
     ]
    },
    {
     "name": "stderr",
     "output_type": "stream",
     "text": [
      "INFO:CONTINUUM:# Peak of the residual image is 0.0021525 Jy/beam #\n"
     ]
    },
    {
     "name": "stderr",
     "output_type": "stream",
     "text": [
      "INFO:CONTINUUM:# RMS of the residual image is 0.000520755 Jy/beam #\n"
     ]
    },
    {
     "name": "stderr",
     "output_type": "stream",
     "text": [
      "INFO:CONTINUUM:# Mask threshold for final imaging minor cycle 2 set to 0.002055 Jy/beam #\n"
     ]
    },
    {
     "name": "stderr",
     "output_type": "stream",
     "text": [
      "INFO:CONTINUUM:# Mask threshold set by Theoretical noise threshold #\n"
     ]
    },
    {
     "name": "stderr",
     "output_type": "stream",
     "text": [
      "INFO:CONTINUUM:# Mask with threshold 0.002055 Jy/beam created #\n"
     ]
    },
    {
     "name": "stderr",
     "output_type": "stream",
     "text": [
      "INFO:CONTINUUM:# Clean threshold for minor cycle 2 was set to 0.000411 Jy/beam #\n"
     ]
    },
    {
     "name": "stderr",
     "output_type": "stream",
     "text": [
      "INFO:CONTINUUM:# Minor cycle 2 cleaning done #\n"
     ]
    },
    {
     "name": "stderr",
     "output_type": "stream",
     "text": [
      "INFO:CONTINUUM:# Cleaned image for minor cycle 2 created #\n"
     ]
    },
    {
     "name": "stderr",
     "output_type": "stream",
     "text": [
      "INFO:CONTINUUM:# Residual image for minor cycle 2 created #\n"
     ]
    },
    {
     "name": "stderr",
     "output_type": "stream",
     "text": [
      "INFO:CONTINUUM:# Peak of the residual image is 0.00321792 Jy/beam #\n"
     ]
    },
    {
     "name": "stderr",
     "output_type": "stream",
     "text": [
      "INFO:CONTINUUM:# RMS of the residual image is 0.000607411 Jy/beam #\n"
     ]
    },
    {
     "name": "stderr",
     "output_type": "stream",
     "text": [
      "INFO:CONTINUUM:# Mask threshold for final imaging minor cycle 3 set to 0.002055 Jy/beam #\n"
     ]
    },
    {
     "name": "stderr",
     "output_type": "stream",
     "text": [
      "INFO:CONTINUUM:# Mask threshold set by Theoretical noise threshold #\n"
     ]
    },
    {
     "name": "stderr",
     "output_type": "stream",
     "text": [
      "INFO:CONTINUUM:# Mask with threshold 0.002055 Jy/beam created #\n"
     ]
    },
    {
     "name": "stderr",
     "output_type": "stream",
     "text": [
      "INFO:CONTINUUM:# Clean threshold for minor cycle 3 was set to 0.000411 Jy/beam #\n"
     ]
    },
    {
     "name": "stderr",
     "output_type": "stream",
     "text": [
      "INFO:CONTINUUM:# Minor cycle 3 cleaning done #\n"
     ]
    },
    {
     "name": "stderr",
     "output_type": "stream",
     "text": [
      "INFO:CONTINUUM:# Cleaned image for minor cycle 3 created #\n"
     ]
    },
    {
     "name": "stderr",
     "output_type": "stream",
     "text": [
      "INFO:CONTINUUM:# Residual image for minor cycle 3 created #\n"
     ]
    },
    {
     "name": "stderr",
     "output_type": "stream",
     "text": [
      "INFO:CONTINUUM:# Peak of the residual image is 0.00227123 Jy/beam #\n"
     ]
    },
    {
     "name": "stderr",
     "output_type": "stream",
     "text": [
      "INFO:CONTINUUM:# RMS of the residual image is 0.00053222 Jy/beam #\n"
     ]
    },
    {
     "name": "stderr",
     "output_type": "stream",
     "text": [
      "INFO:CONTINUUM:# Mask threshold for final imaging minor cycle 4 set to 0.002055 Jy/beam #\n"
     ]
    },
    {
     "name": "stderr",
     "output_type": "stream",
     "text": [
      "INFO:CONTINUUM:# Mask threshold set by Theoretical noise threshold #\n"
     ]
    },
    {
     "name": "stderr",
     "output_type": "stream",
     "text": [
      "INFO:CONTINUUM:# Mask with threshold 0.002055 Jy/beam created #\n"
     ]
    },
    {
     "name": "stderr",
     "output_type": "stream",
     "text": [
      "INFO:CONTINUUM:# Clean threshold for minor cycle 4 was set to 0.000411 Jy/beam #\n"
     ]
    },
    {
     "name": "stderr",
     "output_type": "stream",
     "text": [
      "INFO:CONTINUUM:# Minor cycle 4 cleaning done #\n"
     ]
    },
    {
     "name": "stderr",
     "output_type": "stream",
     "text": [
      "INFO:CONTINUUM:# Cleaned image for minor cycle 4 created #\n"
     ]
    },
    {
     "name": "stderr",
     "output_type": "stream",
     "text": [
      "INFO:CONTINUUM:# Residual image for minor cycle 4 created #\n"
     ]
    },
    {
     "name": "stderr",
     "output_type": "stream",
     "text": [
      "INFO:CONTINUUM:# Peak of the residual image is 0.00298568 Jy/beam #\n"
     ]
    },
    {
     "name": "stderr",
     "output_type": "stream",
     "text": [
      "INFO:CONTINUUM:# RMS of the residual image is 0.000597006 Jy/beam #\n"
     ]
    },
    {
     "name": "stderr",
     "output_type": "stream",
     "text": [
      "INFO:CONTINUUM:### Continuum imaging for chunk 02 successful ###\n"
     ]
    },
    {
     "name": "stderr",
     "output_type": "stream",
     "text": [
      "INFO:CONTINUUM:### Continuum imaging for chunk 03 started ###\n"
     ]
    },
    {
     "name": "stderr",
     "output_type": "stream",
     "text": [
      "INFO:CONTINUUM:# Last major self-calibration cycle seems to have been 3 #\n"
     ]
    },
    {
     "name": "stderr",
     "output_type": "stream",
     "text": [
      "INFO:CONTINUUM:# Creating directory /data/adebahr/apertif/tutorials/T1/00/continuum/stack/03 #\n"
     ]
    },
    {
     "name": "stderr",
     "output_type": "stream",
     "text": [
      "INFO:CONTINUUM:# Moved to directory /data/adebahr/apertif/tutorials/T1/00/continuum/stack/03 #\n"
     ]
    },
    {
     "name": "stderr",
     "output_type": "stream",
     "text": [
      "INFO:CONTINUUM:# Theoretical noise for chunk 03 is 6.85e-05 Jy/beam #\n"
     ]
    },
    {
     "name": "stderr",
     "output_type": "stream",
     "text": [
      "INFO:CONTINUUM:# Your theoretical noise threshold will be 30 times the theoretical noise corresponding to 0.002055 Jy/beam #\n"
     ]
    },
    {
     "name": "stderr",
     "output_type": "stream",
     "text": [
      "INFO:CONTINUUM:# Dynamic range limits for the continuum minor iterations to clean are [100.0, 106.25, 125.0, 156.25, 200.0] #\n"
     ]
    },
    {
     "name": "stderr",
     "output_type": "stream",
     "text": [
      "INFO:CONTINUUM:# Mask threshold for final minor cycle 0 set to 0.002055 Jy/beam #\n"
     ]
    },
    {
     "name": "stderr",
     "output_type": "stream",
     "text": [
      "INFO:CONTINUUM:# Mask threshold set by Theoretical noise threshold #\n"
     ]
    },
    {
     "name": "stderr",
     "output_type": "stream",
     "text": [
      "INFO:CONTINUUM:# Mask from last selfcal cycle copied and regridded to common grid #\n"
     ]
    },
    {
     "name": "stderr",
     "output_type": "stream",
     "text": [
      "INFO:CONTINUUM:# Clean threshold for minor cycle 0 was set to 0.000411 Jy/beam #\n"
     ]
    },
    {
     "name": "stderr",
     "output_type": "stream",
     "text": [
      "INFO:CONTINUUM:# Minor cycle 0 cleaning done #\n"
     ]
    },
    {
     "name": "stderr",
     "output_type": "stream",
     "text": [
      "INFO:CONTINUUM:# Cleaned image for minor cycle 0 created #\n"
     ]
    },
    {
     "name": "stderr",
     "output_type": "stream",
     "text": [
      "INFO:CONTINUUM:# Residual image for minor cycle 0 created #\n"
     ]
    },
    {
     "name": "stderr",
     "output_type": "stream",
     "text": [
      "INFO:CONTINUUM:# Peak of the residual image is 0.00322827 Jy/beam #\n"
     ]
    },
    {
     "name": "stderr",
     "output_type": "stream",
     "text": [
      "INFO:CONTINUUM:# RMS of the residual image is 0.000586621 Jy/beam #\n"
     ]
    },
    {
     "name": "stderr",
     "output_type": "stream",
     "text": [
      "INFO:CONTINUUM:# Mask threshold for final imaging minor cycle 1 set to 0.002055 Jy/beam #\n"
     ]
    },
    {
     "name": "stderr",
     "output_type": "stream",
     "text": [
      "INFO:CONTINUUM:# Mask threshold set by Theoretical noise threshold #\n"
     ]
    },
    {
     "name": "stderr",
     "output_type": "stream",
     "text": [
      "INFO:CONTINUUM:# Mask with threshold 0.002055 Jy/beam created #\n"
     ]
    },
    {
     "name": "stderr",
     "output_type": "stream",
     "text": [
      "INFO:CONTINUUM:# Clean threshold for minor cycle 1 was set to 0.000411 Jy/beam #\n"
     ]
    },
    {
     "name": "stderr",
     "output_type": "stream",
     "text": [
      "INFO:CONTINUUM:# Minor cycle 1 cleaning done #\n"
     ]
    },
    {
     "name": "stderr",
     "output_type": "stream",
     "text": [
      "INFO:CONTINUUM:# Cleaned image for minor cycle 1 created #\n"
     ]
    },
    {
     "name": "stderr",
     "output_type": "stream",
     "text": [
      "INFO:CONTINUUM:# Residual image for minor cycle 1 created #\n"
     ]
    },
    {
     "name": "stderr",
     "output_type": "stream",
     "text": [
      "INFO:CONTINUUM:# Peak of the residual image is 0.00219686 Jy/beam #\n"
     ]
    },
    {
     "name": "stderr",
     "output_type": "stream",
     "text": [
      "INFO:CONTINUUM:# RMS of the residual image is 0.000534814 Jy/beam #\n"
     ]
    },
    {
     "name": "stderr",
     "output_type": "stream",
     "text": [
      "INFO:CONTINUUM:# Mask threshold for final imaging minor cycle 2 set to 0.002055 Jy/beam #\n"
     ]
    },
    {
     "name": "stderr",
     "output_type": "stream",
     "text": [
      "INFO:CONTINUUM:# Mask threshold set by Theoretical noise threshold #\n"
     ]
    },
    {
     "name": "stderr",
     "output_type": "stream",
     "text": [
      "INFO:CONTINUUM:# Mask with threshold 0.002055 Jy/beam created #\n"
     ]
    },
    {
     "name": "stderr",
     "output_type": "stream",
     "text": [
      "INFO:CONTINUUM:# Clean threshold for minor cycle 2 was set to 0.000411 Jy/beam #\n"
     ]
    },
    {
     "name": "stderr",
     "output_type": "stream",
     "text": [
      "INFO:CONTINUUM:# Minor cycle 2 cleaning done #\n"
     ]
    },
    {
     "name": "stderr",
     "output_type": "stream",
     "text": [
      "INFO:CONTINUUM:# Cleaned image for minor cycle 2 created #\n"
     ]
    },
    {
     "name": "stderr",
     "output_type": "stream",
     "text": [
      "INFO:CONTINUUM:# Residual image for minor cycle 2 created #\n"
     ]
    },
    {
     "name": "stderr",
     "output_type": "stream",
     "text": [
      "INFO:CONTINUUM:# Peak of the residual image is 0.00294633 Jy/beam #\n"
     ]
    },
    {
     "name": "stderr",
     "output_type": "stream",
     "text": [
      "INFO:CONTINUUM:# RMS of the residual image is 0.000558821 Jy/beam #\n"
     ]
    },
    {
     "name": "stderr",
     "output_type": "stream",
     "text": [
      "INFO:CONTINUUM:# Mask threshold for final imaging minor cycle 3 set to 0.002055 Jy/beam #\n"
     ]
    },
    {
     "name": "stderr",
     "output_type": "stream",
     "text": [
      "INFO:CONTINUUM:# Mask threshold set by Theoretical noise threshold #\n"
     ]
    },
    {
     "name": "stderr",
     "output_type": "stream",
     "text": [
      "INFO:CONTINUUM:# Mask with threshold 0.002055 Jy/beam created #\n"
     ]
    },
    {
     "name": "stderr",
     "output_type": "stream",
     "text": [
      "INFO:CONTINUUM:# Clean threshold for minor cycle 3 was set to 0.000411 Jy/beam #\n"
     ]
    },
    {
     "name": "stderr",
     "output_type": "stream",
     "text": [
      "INFO:CONTINUUM:# Minor cycle 3 cleaning done #\n"
     ]
    },
    {
     "name": "stderr",
     "output_type": "stream",
     "text": [
      "INFO:CONTINUUM:# Cleaned image for minor cycle 3 created #\n"
     ]
    },
    {
     "name": "stderr",
     "output_type": "stream",
     "text": [
      "INFO:CONTINUUM:# Residual image for minor cycle 3 created #\n"
     ]
    },
    {
     "name": "stderr",
     "output_type": "stream",
     "text": [
      "INFO:CONTINUUM:# Peak of the residual image is 0.00229517 Jy/beam #\n"
     ]
    },
    {
     "name": "stderr",
     "output_type": "stream",
     "text": [
      "INFO:CONTINUUM:# RMS of the residual image is 0.000537823 Jy/beam #\n"
     ]
    },
    {
     "name": "stderr",
     "output_type": "stream",
     "text": [
      "INFO:CONTINUUM:# Mask threshold for final imaging minor cycle 4 set to 0.002055 Jy/beam #\n"
     ]
    },
    {
     "name": "stderr",
     "output_type": "stream",
     "text": [
      "INFO:CONTINUUM:# Mask threshold set by Theoretical noise threshold #\n"
     ]
    },
    {
     "name": "stderr",
     "output_type": "stream",
     "text": [
      "INFO:CONTINUUM:# Mask with threshold 0.002055 Jy/beam created #\n"
     ]
    },
    {
     "name": "stderr",
     "output_type": "stream",
     "text": [
      "INFO:CONTINUUM:# Clean threshold for minor cycle 4 was set to 0.000411 Jy/beam #\n"
     ]
    },
    {
     "name": "stderr",
     "output_type": "stream",
     "text": [
      "INFO:CONTINUUM:# Minor cycle 4 cleaning done #\n"
     ]
    },
    {
     "name": "stderr",
     "output_type": "stream",
     "text": [
      "INFO:CONTINUUM:# Cleaned image for minor cycle 4 created #\n"
     ]
    },
    {
     "name": "stderr",
     "output_type": "stream",
     "text": [
      "INFO:CONTINUUM:# Residual image for minor cycle 4 created #\n"
     ]
    },
    {
     "name": "stderr",
     "output_type": "stream",
     "text": [
      "INFO:CONTINUUM:# Peak of the residual image is 0.00249735 Jy/beam #\n"
     ]
    },
    {
     "name": "stderr",
     "output_type": "stream",
     "text": [
      "INFO:CONTINUUM:# RMS of the residual image is 0.000549066 Jy/beam #\n"
     ]
    },
    {
     "name": "stderr",
     "output_type": "stream",
     "text": [
      "INFO:CONTINUUM:### Continuum imaging for chunk 03 successful ###\n"
     ]
    },
    {
     "name": "stderr",
     "output_type": "stream",
     "text": [
      "INFO:CONTINUUM:### Continuum imaging for chunk 04 started ###\n"
     ]
    },
    {
     "name": "stderr",
     "output_type": "stream",
     "text": [
      "INFO:CONTINUUM:# Last major self-calibration cycle seems to have been 3 #\n"
     ]
    },
    {
     "name": "stderr",
     "output_type": "stream",
     "text": [
      "INFO:CONTINUUM:# Creating directory /data/adebahr/apertif/tutorials/T1/00/continuum/stack/04 #\n"
     ]
    },
    {
     "name": "stderr",
     "output_type": "stream",
     "text": [
      "INFO:CONTINUUM:# Moved to directory /data/adebahr/apertif/tutorials/T1/00/continuum/stack/04 #\n"
     ]
    },
    {
     "name": "stderr",
     "output_type": "stream",
     "text": [
      "INFO:CONTINUUM:# Theoretical noise for chunk 04 is 6.85e-05 Jy/beam #\n"
     ]
    },
    {
     "name": "stderr",
     "output_type": "stream",
     "text": [
      "INFO:CONTINUUM:# Your theoretical noise threshold will be 30 times the theoretical noise corresponding to 0.002055 Jy/beam #\n"
     ]
    },
    {
     "name": "stderr",
     "output_type": "stream",
     "text": [
      "INFO:CONTINUUM:# Dynamic range limits for the continuum minor iterations to clean are [100.0, 106.25, 125.0, 156.25, 200.0] #\n"
     ]
    },
    {
     "name": "stderr",
     "output_type": "stream",
     "text": [
      "INFO:CONTINUUM:# Mask threshold for final minor cycle 0 set to 0.002055 Jy/beam #\n"
     ]
    },
    {
     "name": "stderr",
     "output_type": "stream",
     "text": [
      "INFO:CONTINUUM:# Mask threshold set by Theoretical noise threshold #\n"
     ]
    },
    {
     "name": "stderr",
     "output_type": "stream",
     "text": [
      "INFO:CONTINUUM:# Mask from last selfcal cycle copied and regridded to common grid #\n"
     ]
    },
    {
     "name": "stderr",
     "output_type": "stream",
     "text": [
      "INFO:CONTINUUM:# Clean threshold for minor cycle 0 was set to 0.000411 Jy/beam #\n"
     ]
    },
    {
     "name": "stderr",
     "output_type": "stream",
     "text": [
      "INFO:CONTINUUM:# Minor cycle 0 cleaning done #\n"
     ]
    },
    {
     "name": "stderr",
     "output_type": "stream",
     "text": [
      "INFO:CONTINUUM:# Cleaned image for minor cycle 0 created #\n"
     ]
    },
    {
     "name": "stderr",
     "output_type": "stream",
     "text": [
      "INFO:CONTINUUM:# Residual image for minor cycle 0 created #\n"
     ]
    },
    {
     "name": "stderr",
     "output_type": "stream",
     "text": [
      "INFO:CONTINUUM:# Peak of the residual image is 0.00312189 Jy/beam #\n"
     ]
    },
    {
     "name": "stderr",
     "output_type": "stream",
     "text": [
      "INFO:CONTINUUM:# RMS of the residual image is 0.000554065 Jy/beam #\n"
     ]
    },
    {
     "name": "stderr",
     "output_type": "stream",
     "text": [
      "INFO:CONTINUUM:# Mask threshold for final imaging minor cycle 1 set to 0.002055 Jy/beam #\n"
     ]
    },
    {
     "name": "stderr",
     "output_type": "stream",
     "text": [
      "INFO:CONTINUUM:# Mask threshold set by Theoretical noise threshold #\n"
     ]
    },
    {
     "name": "stderr",
     "output_type": "stream",
     "text": [
      "INFO:CONTINUUM:# Mask with threshold 0.002055 Jy/beam created #\n"
     ]
    },
    {
     "name": "stderr",
     "output_type": "stream",
     "text": [
      "INFO:CONTINUUM:# Clean threshold for minor cycle 1 was set to 0.000411 Jy/beam #\n"
     ]
    },
    {
     "name": "stderr",
     "output_type": "stream",
     "text": [
      "INFO:CONTINUUM:# Minor cycle 1 cleaning done #\n"
     ]
    },
    {
     "name": "stderr",
     "output_type": "stream",
     "text": [
      "INFO:CONTINUUM:# Cleaned image for minor cycle 1 created #\n"
     ]
    },
    {
     "name": "stderr",
     "output_type": "stream",
     "text": [
      "INFO:CONTINUUM:# Residual image for minor cycle 1 created #\n"
     ]
    },
    {
     "name": "stderr",
     "output_type": "stream",
     "text": [
      "INFO:CONTINUUM:# Peak of the residual image is 0.00214442 Jy/beam #\n"
     ]
    },
    {
     "name": "stderr",
     "output_type": "stream",
     "text": [
      "INFO:CONTINUUM:# RMS of the residual image is 0.000516755 Jy/beam #\n"
     ]
    },
    {
     "name": "stderr",
     "output_type": "stream",
     "text": [
      "INFO:CONTINUUM:# Mask threshold for final imaging minor cycle 2 set to 0.002055 Jy/beam #\n"
     ]
    },
    {
     "name": "stderr",
     "output_type": "stream",
     "text": [
      "INFO:CONTINUUM:# Mask threshold set by Theoretical noise threshold #\n"
     ]
    },
    {
     "name": "stderr",
     "output_type": "stream",
     "text": [
      "INFO:CONTINUUM:# Mask with threshold 0.002055 Jy/beam created #\n"
     ]
    },
    {
     "name": "stderr",
     "output_type": "stream",
     "text": [
      "INFO:CONTINUUM:# Clean threshold for minor cycle 2 was set to 0.000411 Jy/beam #\n"
     ]
    },
    {
     "name": "stderr",
     "output_type": "stream",
     "text": [
      "INFO:CONTINUUM:# Minor cycle 2 cleaning done #\n"
     ]
    },
    {
     "name": "stderr",
     "output_type": "stream",
     "text": [
      "INFO:CONTINUUM:# Cleaned image for minor cycle 2 created #\n"
     ]
    },
    {
     "name": "stderr",
     "output_type": "stream",
     "text": [
      "INFO:CONTINUUM:# Residual image for minor cycle 2 created #\n"
     ]
    },
    {
     "name": "stderr",
     "output_type": "stream",
     "text": [
      "INFO:CONTINUUM:# Peak of the residual image is 0.00224467 Jy/beam #\n"
     ]
    },
    {
     "name": "stderr",
     "output_type": "stream",
     "text": [
      "INFO:CONTINUUM:# RMS of the residual image is 0.000530842 Jy/beam #\n"
     ]
    },
    {
     "name": "stderr",
     "output_type": "stream",
     "text": [
      "INFO:CONTINUUM:# Mask threshold for final imaging minor cycle 3 set to 0.002055 Jy/beam #\n"
     ]
    },
    {
     "name": "stderr",
     "output_type": "stream",
     "text": [
      "INFO:CONTINUUM:# Mask threshold set by Theoretical noise threshold #\n"
     ]
    },
    {
     "name": "stderr",
     "output_type": "stream",
     "text": [
      "INFO:CONTINUUM:# Mask with threshold 0.002055 Jy/beam created #\n"
     ]
    },
    {
     "name": "stderr",
     "output_type": "stream",
     "text": [
      "INFO:CONTINUUM:# Clean threshold for minor cycle 3 was set to 0.000411 Jy/beam #\n"
     ]
    },
    {
     "name": "stderr",
     "output_type": "stream",
     "text": [
      "INFO:CONTINUUM:# Minor cycle 3 cleaning done #\n"
     ]
    },
    {
     "name": "stderr",
     "output_type": "stream",
     "text": [
      "INFO:CONTINUUM:# Cleaned image for minor cycle 3 created #\n"
     ]
    },
    {
     "name": "stderr",
     "output_type": "stream",
     "text": [
      "INFO:CONTINUUM:# Residual image for minor cycle 3 created #\n"
     ]
    },
    {
     "name": "stderr",
     "output_type": "stream",
     "text": [
      "INFO:CONTINUUM:# Peak of the residual image is 0.00213205 Jy/beam #\n"
     ]
    },
    {
     "name": "stderr",
     "output_type": "stream",
     "text": [
      "INFO:CONTINUUM:# RMS of the residual image is 0.000523113 Jy/beam #\n"
     ]
    },
    {
     "name": "stderr",
     "output_type": "stream",
     "text": [
      "INFO:CONTINUUM:# Mask threshold for final imaging minor cycle 4 set to 0.002055 Jy/beam #\n"
     ]
    },
    {
     "name": "stderr",
     "output_type": "stream",
     "text": [
      "INFO:CONTINUUM:# Mask threshold set by Theoretical noise threshold #\n"
     ]
    },
    {
     "name": "stderr",
     "output_type": "stream",
     "text": [
      "INFO:CONTINUUM:# Mask with threshold 0.002055 Jy/beam created #\n"
     ]
    },
    {
     "name": "stderr",
     "output_type": "stream",
     "text": [
      "INFO:CONTINUUM:# Clean threshold for minor cycle 4 was set to 0.000411 Jy/beam #\n"
     ]
    },
    {
     "name": "stderr",
     "output_type": "stream",
     "text": [
      "INFO:CONTINUUM:# Minor cycle 4 cleaning done #\n"
     ]
    },
    {
     "name": "stderr",
     "output_type": "stream",
     "text": [
      "INFO:CONTINUUM:# Cleaned image for minor cycle 4 created #\n"
     ]
    },
    {
     "name": "stderr",
     "output_type": "stream",
     "text": [
      "INFO:CONTINUUM:# Residual image for minor cycle 4 created #\n"
     ]
    },
    {
     "name": "stderr",
     "output_type": "stream",
     "text": [
      "INFO:CONTINUUM:# Peak of the residual image is 0.00208861 Jy/beam #\n"
     ]
    },
    {
     "name": "stderr",
     "output_type": "stream",
     "text": [
      "INFO:CONTINUUM:# RMS of the residual image is 0.000526056 Jy/beam #\n"
     ]
    },
    {
     "name": "stderr",
     "output_type": "stream",
     "text": [
      "INFO:CONTINUUM:### Continuum imaging for chunk 04 successful ###\n"
     ]
    },
    {
     "name": "stderr",
     "output_type": "stream",
     "text": [
      "INFO:CONTINUUM:### Continuum imaging for chunk 05 started ###\n"
     ]
    },
    {
     "name": "stderr",
     "output_type": "stream",
     "text": [
      "INFO:CONTINUUM:# Last major self-calibration cycle seems to have been 3 #\n"
     ]
    },
    {
     "name": "stderr",
     "output_type": "stream",
     "text": [
      "INFO:CONTINUUM:# Creating directory /data/adebahr/apertif/tutorials/T1/00/continuum/stack/05 #\n"
     ]
    },
    {
     "name": "stderr",
     "output_type": "stream",
     "text": [
      "INFO:CONTINUUM:# Moved to directory /data/adebahr/apertif/tutorials/T1/00/continuum/stack/05 #\n"
     ]
    },
    {
     "name": "stderr",
     "output_type": "stream",
     "text": [
      "INFO:CONTINUUM:# Theoretical noise for chunk 05 is 6.85e-05 Jy/beam #\n"
     ]
    },
    {
     "name": "stderr",
     "output_type": "stream",
     "text": [
      "INFO:CONTINUUM:# Your theoretical noise threshold will be 30 times the theoretical noise corresponding to 0.002055 Jy/beam #\n"
     ]
    },
    {
     "name": "stderr",
     "output_type": "stream",
     "text": [
      "INFO:CONTINUUM:# Dynamic range limits for the continuum minor iterations to clean are [100.0, 106.25, 125.0, 156.25, 200.0] #\n"
     ]
    },
    {
     "name": "stderr",
     "output_type": "stream",
     "text": [
      "INFO:CONTINUUM:# Mask threshold for final minor cycle 0 set to 0.002055 Jy/beam #\n"
     ]
    },
    {
     "name": "stderr",
     "output_type": "stream",
     "text": [
      "INFO:CONTINUUM:# Mask threshold set by Theoretical noise threshold #\n"
     ]
    },
    {
     "name": "stderr",
     "output_type": "stream",
     "text": [
      "INFO:CONTINUUM:# Mask from last selfcal cycle copied and regridded to common grid #\n"
     ]
    },
    {
     "name": "stderr",
     "output_type": "stream",
     "text": [
      "INFO:CONTINUUM:# Clean threshold for minor cycle 0 was set to 0.000411 Jy/beam #\n"
     ]
    },
    {
     "name": "stderr",
     "output_type": "stream",
     "text": [
      "INFO:CONTINUUM:# Minor cycle 0 cleaning done #\n"
     ]
    },
    {
     "name": "stderr",
     "output_type": "stream",
     "text": [
      "INFO:CONTINUUM:# Cleaned image for minor cycle 0 created #\n"
     ]
    },
    {
     "name": "stderr",
     "output_type": "stream",
     "text": [
      "INFO:CONTINUUM:# Residual image for minor cycle 0 created #\n"
     ]
    },
    {
     "name": "stderr",
     "output_type": "stream",
     "text": [
      "INFO:CONTINUUM:# Peak of the residual image is 0.003771 Jy/beam #\n"
     ]
    },
    {
     "name": "stderr",
     "output_type": "stream",
     "text": [
      "INFO:CONTINUUM:# RMS of the residual image is 0.000508794 Jy/beam #\n"
     ]
    },
    {
     "name": "stderr",
     "output_type": "stream",
     "text": [
      "INFO:CONTINUUM:# Mask threshold for final imaging minor cycle 1 set to 0.002055 Jy/beam #\n"
     ]
    },
    {
     "name": "stderr",
     "output_type": "stream",
     "text": [
      "INFO:CONTINUUM:# Mask threshold set by Theoretical noise threshold #\n"
     ]
    },
    {
     "name": "stderr",
     "output_type": "stream",
     "text": [
      "INFO:CONTINUUM:# Mask with threshold 0.002055 Jy/beam created #\n"
     ]
    },
    {
     "name": "stderr",
     "output_type": "stream",
     "text": [
      "INFO:CONTINUUM:# Clean threshold for minor cycle 1 was set to 0.000411 Jy/beam #\n"
     ]
    },
    {
     "name": "stderr",
     "output_type": "stream",
     "text": [
      "INFO:CONTINUUM:# Minor cycle 1 cleaning done #\n"
     ]
    },
    {
     "name": "stderr",
     "output_type": "stream",
     "text": [
      "INFO:CONTINUUM:# Cleaned image for minor cycle 1 created #\n"
     ]
    },
    {
     "name": "stderr",
     "output_type": "stream",
     "text": [
      "INFO:CONTINUUM:# Residual image for minor cycle 1 created #\n"
     ]
    },
    {
     "name": "stderr",
     "output_type": "stream",
     "text": [
      "INFO:CONTINUUM:# Peak of the residual image is 0.00213814 Jy/beam #\n"
     ]
    },
    {
     "name": "stderr",
     "output_type": "stream",
     "text": [
      "INFO:CONTINUUM:# RMS of the residual image is 0.000486085 Jy/beam #\n"
     ]
    },
    {
     "name": "stderr",
     "output_type": "stream",
     "text": [
      "INFO:CONTINUUM:# Mask threshold for final imaging minor cycle 2 set to 0.002055 Jy/beam #\n"
     ]
    },
    {
     "name": "stderr",
     "output_type": "stream",
     "text": [
      "INFO:CONTINUUM:# Mask threshold set by Theoretical noise threshold #\n"
     ]
    },
    {
     "name": "stderr",
     "output_type": "stream",
     "text": [
      "INFO:CONTINUUM:# Mask with threshold 0.002055 Jy/beam created #\n"
     ]
    },
    {
     "name": "stderr",
     "output_type": "stream",
     "text": [
      "INFO:CONTINUUM:# Clean threshold for minor cycle 2 was set to 0.000411 Jy/beam #\n"
     ]
    },
    {
     "name": "stderr",
     "output_type": "stream",
     "text": [
      "INFO:CONTINUUM:# Minor cycle 2 cleaning done #\n"
     ]
    },
    {
     "name": "stderr",
     "output_type": "stream",
     "text": [
      "INFO:CONTINUUM:# Cleaned image for minor cycle 2 created #\n"
     ]
    },
    {
     "name": "stderr",
     "output_type": "stream",
     "text": [
      "INFO:CONTINUUM:# Residual image for minor cycle 2 created #\n"
     ]
    },
    {
     "name": "stderr",
     "output_type": "stream",
     "text": [
      "INFO:CONTINUUM:# Peak of the residual image is 0.00209587 Jy/beam #\n"
     ]
    },
    {
     "name": "stderr",
     "output_type": "stream",
     "text": [
      "INFO:CONTINUUM:# RMS of the residual image is 0.000486368 Jy/beam #\n"
     ]
    },
    {
     "name": "stderr",
     "output_type": "stream",
     "text": [
      "INFO:CONTINUUM:# Mask threshold for final imaging minor cycle 3 set to 0.002055 Jy/beam #\n"
     ]
    },
    {
     "name": "stderr",
     "output_type": "stream",
     "text": [
      "INFO:CONTINUUM:# Mask threshold set by Theoretical noise threshold #\n"
     ]
    },
    {
     "name": "stderr",
     "output_type": "stream",
     "text": [
      "INFO:CONTINUUM:# Mask with threshold 0.002055 Jy/beam created #\n"
     ]
    },
    {
     "name": "stderr",
     "output_type": "stream",
     "text": [
      "INFO:CONTINUUM:# Clean threshold for minor cycle 3 was set to 0.000411 Jy/beam #\n"
     ]
    },
    {
     "name": "stderr",
     "output_type": "stream",
     "text": [
      "INFO:CONTINUUM:# Minor cycle 3 cleaning done #\n"
     ]
    },
    {
     "name": "stderr",
     "output_type": "stream",
     "text": [
      "INFO:CONTINUUM:# Cleaned image for minor cycle 3 created #\n"
     ]
    },
    {
     "name": "stderr",
     "output_type": "stream",
     "text": [
      "INFO:CONTINUUM:# Residual image for minor cycle 3 created #\n"
     ]
    },
    {
     "name": "stderr",
     "output_type": "stream",
     "text": [
      "INFO:CONTINUUM:# Peak of the residual image is 0.00202743 Jy/beam #\n"
     ]
    },
    {
     "name": "stderr",
     "output_type": "stream",
     "text": [
      "INFO:CONTINUUM:# RMS of the residual image is 0.000485399 Jy/beam #\n"
     ]
    },
    {
     "name": "stderr",
     "output_type": "stream",
     "text": [
      "INFO:CONTINUUM:# Mask threshold for final imaging minor cycle 4 set to 0.002055 Jy/beam #\n"
     ]
    },
    {
     "name": "stderr",
     "output_type": "stream",
     "text": [
      "INFO:CONTINUUM:# Mask threshold set by Theoretical noise threshold #\n"
     ]
    },
    {
     "name": "stderr",
     "output_type": "stream",
     "text": [
      "INFO:CONTINUUM:# Mask with threshold 0.002055 Jy/beam created #\n"
     ]
    },
    {
     "name": "stderr",
     "output_type": "stream",
     "text": [
      "INFO:CONTINUUM:# Clean threshold for minor cycle 4 was set to 0.000411 Jy/beam #\n"
     ]
    },
    {
     "name": "stderr",
     "output_type": "stream",
     "text": [
      "INFO:CONTINUUM:# Minor cycle 4 cleaning done #\n"
     ]
    },
    {
     "name": "stderr",
     "output_type": "stream",
     "text": [
      "INFO:CONTINUUM:# Cleaned image for minor cycle 4 created #\n"
     ]
    },
    {
     "name": "stderr",
     "output_type": "stream",
     "text": [
      "INFO:CONTINUUM:# Residual image for minor cycle 4 created #\n"
     ]
    },
    {
     "name": "stderr",
     "output_type": "stream",
     "text": [
      "INFO:CONTINUUM:# Peak of the residual image is 0.00211611 Jy/beam #\n"
     ]
    },
    {
     "name": "stderr",
     "output_type": "stream",
     "text": [
      "INFO:CONTINUUM:# RMS of the residual image is 0.000486159 Jy/beam #\n"
     ]
    },
    {
     "name": "stderr",
     "output_type": "stream",
     "text": [
      "INFO:CONTINUUM:### Continuum imaging for chunk 05 successful ###\n"
     ]
    },
    {
     "name": "stderr",
     "output_type": "stream",
     "text": [
      "INFO:CONTINUUM:### Continuum imaging for chunk 06 started ###\n"
     ]
    },
    {
     "name": "stderr",
     "output_type": "stream",
     "text": [
      "INFO:CONTINUUM:# Last major self-calibration cycle seems to have been 3 #\n"
     ]
    },
    {
     "name": "stderr",
     "output_type": "stream",
     "text": [
      "INFO:CONTINUUM:# Creating directory /data/adebahr/apertif/tutorials/T1/00/continuum/stack/06 #\n"
     ]
    },
    {
     "name": "stderr",
     "output_type": "stream",
     "text": [
      "INFO:CONTINUUM:# Moved to directory /data/adebahr/apertif/tutorials/T1/00/continuum/stack/06 #\n"
     ]
    },
    {
     "name": "stderr",
     "output_type": "stream",
     "text": [
      "INFO:CONTINUUM:# Theoretical noise for chunk 06 is 6.85e-05 Jy/beam #\n"
     ]
    },
    {
     "name": "stderr",
     "output_type": "stream",
     "text": [
      "INFO:CONTINUUM:# Your theoretical noise threshold will be 30 times the theoretical noise corresponding to 0.002055 Jy/beam #\n"
     ]
    },
    {
     "name": "stderr",
     "output_type": "stream",
     "text": [
      "INFO:CONTINUUM:# Dynamic range limits for the continuum minor iterations to clean are [100.0, 106.25, 125.0, 156.25, 200.0] #\n"
     ]
    },
    {
     "name": "stderr",
     "output_type": "stream",
     "text": [
      "INFO:CONTINUUM:# Mask threshold for final minor cycle 0 set to 0.002055 Jy/beam #\n"
     ]
    },
    {
     "name": "stderr",
     "output_type": "stream",
     "text": [
      "INFO:CONTINUUM:# Mask threshold set by Theoretical noise threshold #\n"
     ]
    },
    {
     "name": "stderr",
     "output_type": "stream",
     "text": [
      "INFO:CONTINUUM:# Mask from last selfcal cycle copied and regridded to common grid #\n"
     ]
    },
    {
     "name": "stderr",
     "output_type": "stream",
     "text": [
      "INFO:CONTINUUM:# Clean threshold for minor cycle 0 was set to 0.000411 Jy/beam #\n"
     ]
    },
    {
     "name": "stderr",
     "output_type": "stream",
     "text": [
      "INFO:CONTINUUM:# Minor cycle 0 cleaning done #\n"
     ]
    },
    {
     "name": "stderr",
     "output_type": "stream",
     "text": [
      "INFO:CONTINUUM:# Cleaned image for minor cycle 0 created #\n"
     ]
    },
    {
     "name": "stderr",
     "output_type": "stream",
     "text": [
      "INFO:CONTINUUM:# Residual image for minor cycle 0 created #\n"
     ]
    },
    {
     "name": "stderr",
     "output_type": "stream",
     "text": [
      "INFO:CONTINUUM:# Peak of the residual image is 0.00318372 Jy/beam #\n"
     ]
    },
    {
     "name": "stderr",
     "output_type": "stream",
     "text": [
      "INFO:CONTINUUM:# RMS of the residual image is 0.000478181 Jy/beam #\n"
     ]
    },
    {
     "name": "stderr",
     "output_type": "stream",
     "text": [
      "INFO:CONTINUUM:# Mask threshold for final imaging minor cycle 1 set to 0.002055 Jy/beam #\n"
     ]
    },
    {
     "name": "stderr",
     "output_type": "stream",
     "text": [
      "INFO:CONTINUUM:# Mask threshold set by Theoretical noise threshold #\n"
     ]
    },
    {
     "name": "stderr",
     "output_type": "stream",
     "text": [
      "INFO:CONTINUUM:# Mask with threshold 0.002055 Jy/beam created #\n"
     ]
    },
    {
     "name": "stderr",
     "output_type": "stream",
     "text": [
      "INFO:CONTINUUM:# Clean threshold for minor cycle 1 was set to 0.000411 Jy/beam #\n"
     ]
    },
    {
     "name": "stderr",
     "output_type": "stream",
     "text": [
      "INFO:CONTINUUM:# Minor cycle 1 cleaning done #\n"
     ]
    },
    {
     "name": "stderr",
     "output_type": "stream",
     "text": [
      "INFO:CONTINUUM:# Cleaned image for minor cycle 1 created #\n"
     ]
    },
    {
     "name": "stderr",
     "output_type": "stream",
     "text": [
      "INFO:CONTINUUM:# Residual image for minor cycle 1 created #\n"
     ]
    },
    {
     "name": "stderr",
     "output_type": "stream",
     "text": [
      "INFO:CONTINUUM:# Peak of the residual image is 0.00207473 Jy/beam #\n"
     ]
    },
    {
     "name": "stderr",
     "output_type": "stream",
     "text": [
      "INFO:CONTINUUM:# RMS of the residual image is 0.000459234 Jy/beam #\n"
     ]
    },
    {
     "name": "stderr",
     "output_type": "stream",
     "text": [
      "INFO:CONTINUUM:# Mask threshold for final imaging minor cycle 2 set to 0.002055 Jy/beam #\n"
     ]
    },
    {
     "name": "stderr",
     "output_type": "stream",
     "text": [
      "INFO:CONTINUUM:# Mask threshold set by Theoretical noise threshold #\n"
     ]
    },
    {
     "name": "stderr",
     "output_type": "stream",
     "text": [
      "INFO:CONTINUUM:# Mask with threshold 0.002055 Jy/beam created #\n"
     ]
    },
    {
     "name": "stderr",
     "output_type": "stream",
     "text": [
      "INFO:CONTINUUM:# Clean threshold for minor cycle 2 was set to 0.000411 Jy/beam #\n"
     ]
    },
    {
     "name": "stderr",
     "output_type": "stream",
     "text": [
      "INFO:CONTINUUM:# Minor cycle 2 cleaning done #\n"
     ]
    },
    {
     "name": "stderr",
     "output_type": "stream",
     "text": [
      "INFO:CONTINUUM:# Cleaned image for minor cycle 2 created #\n"
     ]
    },
    {
     "name": "stderr",
     "output_type": "stream",
     "text": [
      "INFO:CONTINUUM:# Residual image for minor cycle 2 created #\n"
     ]
    },
    {
     "name": "stderr",
     "output_type": "stream",
     "text": [
      "INFO:CONTINUUM:# Peak of the residual image is 0.00216432 Jy/beam #\n"
     ]
    },
    {
     "name": "stderr",
     "output_type": "stream",
     "text": [
      "INFO:CONTINUUM:# RMS of the residual image is 0.000460242 Jy/beam #\n"
     ]
    },
    {
     "name": "stderr",
     "output_type": "stream",
     "text": [
      "INFO:CONTINUUM:# Mask threshold for final imaging minor cycle 3 set to 0.002055 Jy/beam #\n"
     ]
    },
    {
     "name": "stderr",
     "output_type": "stream",
     "text": [
      "INFO:CONTINUUM:# Mask threshold set by Theoretical noise threshold #\n"
     ]
    },
    {
     "name": "stderr",
     "output_type": "stream",
     "text": [
      "INFO:CONTINUUM:# Mask with threshold 0.002055 Jy/beam created #\n"
     ]
    },
    {
     "name": "stderr",
     "output_type": "stream",
     "text": [
      "INFO:CONTINUUM:# Clean threshold for minor cycle 3 was set to 0.000411 Jy/beam #\n"
     ]
    },
    {
     "name": "stderr",
     "output_type": "stream",
     "text": [
      "INFO:CONTINUUM:# Minor cycle 3 cleaning done #\n"
     ]
    },
    {
     "name": "stderr",
     "output_type": "stream",
     "text": [
      "INFO:CONTINUUM:# Cleaned image for minor cycle 3 created #\n"
     ]
    },
    {
     "name": "stderr",
     "output_type": "stream",
     "text": [
      "INFO:CONTINUUM:# Residual image for minor cycle 3 created #\n"
     ]
    },
    {
     "name": "stderr",
     "output_type": "stream",
     "text": [
      "INFO:CONTINUUM:# Peak of the residual image is 0.00204733 Jy/beam #\n"
     ]
    },
    {
     "name": "stderr",
     "output_type": "stream",
     "text": [
      "INFO:CONTINUUM:# RMS of the residual image is 0.000459637 Jy/beam #\n"
     ]
    },
    {
     "name": "stderr",
     "output_type": "stream",
     "text": [
      "INFO:CONTINUUM:# Mask threshold for final imaging minor cycle 4 set to 0.002055 Jy/beam #\n"
     ]
    },
    {
     "name": "stderr",
     "output_type": "stream",
     "text": [
      "INFO:CONTINUUM:# Mask threshold set by Theoretical noise threshold #\n"
     ]
    },
    {
     "name": "stderr",
     "output_type": "stream",
     "text": [
      "INFO:CONTINUUM:# Mask with threshold 0.002055 Jy/beam created #\n"
     ]
    },
    {
     "name": "stderr",
     "output_type": "stream",
     "text": [
      "INFO:CONTINUUM:# Clean threshold for minor cycle 4 was set to 0.000411 Jy/beam #\n"
     ]
    },
    {
     "name": "stderr",
     "output_type": "stream",
     "text": [
      "INFO:CONTINUUM:# Minor cycle 4 cleaning done #\n"
     ]
    },
    {
     "name": "stderr",
     "output_type": "stream",
     "text": [
      "INFO:CONTINUUM:# Cleaned image for minor cycle 4 created #\n"
     ]
    },
    {
     "name": "stderr",
     "output_type": "stream",
     "text": [
      "INFO:CONTINUUM:# Residual image for minor cycle 4 created #\n"
     ]
    },
    {
     "name": "stderr",
     "output_type": "stream",
     "text": [
      "INFO:CONTINUUM:# Peak of the residual image is 0.00204503 Jy/beam #\n"
     ]
    },
    {
     "name": "stderr",
     "output_type": "stream",
     "text": [
      "INFO:CONTINUUM:# RMS of the residual image is 0.000459392 Jy/beam #\n"
     ]
    },
    {
     "name": "stderr",
     "output_type": "stream",
     "text": [
      "INFO:CONTINUUM:### Continuum imaging for chunk 06 successful ###\n"
     ]
    },
    {
     "name": "stderr",
     "output_type": "stream",
     "text": [
      "INFO:CONTINUUM:### Continuum imaging for chunk 07 started ###\n"
     ]
    },
    {
     "name": "stderr",
     "output_type": "stream",
     "text": [
      "INFO:CONTINUUM:# Last major self-calibration cycle seems to have been 3 #\n"
     ]
    },
    {
     "name": "stderr",
     "output_type": "stream",
     "text": [
      "INFO:CONTINUUM:# Creating directory /data/adebahr/apertif/tutorials/T1/00/continuum/stack/07 #\n"
     ]
    },
    {
     "name": "stderr",
     "output_type": "stream",
     "text": [
      "INFO:CONTINUUM:# Moved to directory /data/adebahr/apertif/tutorials/T1/00/continuum/stack/07 #\n"
     ]
    },
    {
     "name": "stderr",
     "output_type": "stream",
     "text": [
      "INFO:CONTINUUM:# Theoretical noise for chunk 07 is 6.85e-05 Jy/beam #\n"
     ]
    },
    {
     "name": "stderr",
     "output_type": "stream",
     "text": [
      "INFO:CONTINUUM:# Your theoretical noise threshold will be 30 times the theoretical noise corresponding to 0.002055 Jy/beam #\n"
     ]
    },
    {
     "name": "stderr",
     "output_type": "stream",
     "text": [
      "INFO:CONTINUUM:# Dynamic range limits for the continuum minor iterations to clean are [100.0, 106.25, 125.0, 156.25, 200.0] #\n"
     ]
    },
    {
     "name": "stderr",
     "output_type": "stream",
     "text": [
      "INFO:CONTINUUM:# Mask threshold for final minor cycle 0 set to 0.002055 Jy/beam #\n"
     ]
    },
    {
     "name": "stderr",
     "output_type": "stream",
     "text": [
      "INFO:CONTINUUM:# Mask threshold set by Theoretical noise threshold #\n"
     ]
    },
    {
     "name": "stderr",
     "output_type": "stream",
     "text": [
      "INFO:CONTINUUM:# Mask from last selfcal cycle copied and regridded to common grid #\n"
     ]
    },
    {
     "name": "stderr",
     "output_type": "stream",
     "text": [
      "INFO:CONTINUUM:# Clean threshold for minor cycle 0 was set to 0.000411 Jy/beam #\n"
     ]
    },
    {
     "name": "stderr",
     "output_type": "stream",
     "text": [
      "INFO:CONTINUUM:# Minor cycle 0 cleaning done #\n"
     ]
    },
    {
     "name": "stderr",
     "output_type": "stream",
     "text": [
      "INFO:CONTINUUM:# Cleaned image for minor cycle 0 created #\n"
     ]
    },
    {
     "name": "stderr",
     "output_type": "stream",
     "text": [
      "INFO:CONTINUUM:# Residual image for minor cycle 0 created #\n"
     ]
    },
    {
     "name": "stderr",
     "output_type": "stream",
     "text": [
      "INFO:CONTINUUM:# Peak of the residual image is 0.0027591 Jy/beam #\n"
     ]
    },
    {
     "name": "stderr",
     "output_type": "stream",
     "text": [
      "INFO:CONTINUUM:# RMS of the residual image is 0.000443956 Jy/beam #\n"
     ]
    },
    {
     "name": "stderr",
     "output_type": "stream",
     "text": [
      "INFO:CONTINUUM:# Mask threshold for final imaging minor cycle 1 set to 0.002055 Jy/beam #\n"
     ]
    },
    {
     "name": "stderr",
     "output_type": "stream",
     "text": [
      "INFO:CONTINUUM:# Mask threshold set by Theoretical noise threshold #\n"
     ]
    },
    {
     "name": "stderr",
     "output_type": "stream",
     "text": [
      "INFO:CONTINUUM:# Mask with threshold 0.002055 Jy/beam created #\n"
     ]
    },
    {
     "name": "stderr",
     "output_type": "stream",
     "text": [
      "INFO:CONTINUUM:# Clean threshold for minor cycle 1 was set to 0.000411 Jy/beam #\n"
     ]
    },
    {
     "name": "stderr",
     "output_type": "stream",
     "text": [
      "INFO:CONTINUUM:# Minor cycle 1 cleaning done #\n"
     ]
    },
    {
     "name": "stderr",
     "output_type": "stream",
     "text": [
      "INFO:CONTINUUM:# Cleaned image for minor cycle 1 created #\n"
     ]
    },
    {
     "name": "stderr",
     "output_type": "stream",
     "text": [
      "INFO:CONTINUUM:# Residual image for minor cycle 1 created #\n"
     ]
    },
    {
     "name": "stderr",
     "output_type": "stream",
     "text": [
      "INFO:CONTINUUM:# Peak of the residual image is 0.002093 Jy/beam #\n"
     ]
    },
    {
     "name": "stderr",
     "output_type": "stream",
     "text": [
      "INFO:CONTINUUM:# RMS of the residual image is 0.000426843 Jy/beam #\n"
     ]
    },
    {
     "name": "stderr",
     "output_type": "stream",
     "text": [
      "INFO:CONTINUUM:# Mask threshold for final imaging minor cycle 2 set to 0.002055 Jy/beam #\n"
     ]
    },
    {
     "name": "stderr",
     "output_type": "stream",
     "text": [
      "INFO:CONTINUUM:# Mask threshold set by Theoretical noise threshold #\n"
     ]
    },
    {
     "name": "stderr",
     "output_type": "stream",
     "text": [
      "INFO:CONTINUUM:# Mask with threshold 0.002055 Jy/beam created #\n"
     ]
    },
    {
     "name": "stderr",
     "output_type": "stream",
     "text": [
      "INFO:CONTINUUM:# Clean threshold for minor cycle 2 was set to 0.000411 Jy/beam #\n"
     ]
    },
    {
     "name": "stderr",
     "output_type": "stream",
     "text": [
      "INFO:CONTINUUM:# Minor cycle 2 cleaning done #\n"
     ]
    },
    {
     "name": "stderr",
     "output_type": "stream",
     "text": [
      "INFO:CONTINUUM:# Cleaned image for minor cycle 2 created #\n"
     ]
    },
    {
     "name": "stderr",
     "output_type": "stream",
     "text": [
      "INFO:CONTINUUM:# Residual image for minor cycle 2 created #\n"
     ]
    },
    {
     "name": "stderr",
     "output_type": "stream",
     "text": [
      "INFO:CONTINUUM:# Peak of the residual image is 0.00203623 Jy/beam #\n"
     ]
    },
    {
     "name": "stderr",
     "output_type": "stream",
     "text": [
      "INFO:CONTINUUM:# RMS of the residual image is 0.000426961 Jy/beam #\n"
     ]
    },
    {
     "name": "stderr",
     "output_type": "stream",
     "text": [
      "INFO:CONTINUUM:# Mask threshold for final imaging minor cycle 3 set to 0.002055 Jy/beam #\n"
     ]
    },
    {
     "name": "stderr",
     "output_type": "stream",
     "text": [
      "INFO:CONTINUUM:# Mask threshold set by Theoretical noise threshold #\n"
     ]
    },
    {
     "name": "stderr",
     "output_type": "stream",
     "text": [
      "INFO:CONTINUUM:# Mask with threshold 0.002055 Jy/beam created #\n"
     ]
    },
    {
     "name": "stderr",
     "output_type": "stream",
     "text": [
      "INFO:CONTINUUM:# Clean threshold for minor cycle 3 was set to 0.000411 Jy/beam #\n"
     ]
    },
    {
     "name": "stderr",
     "output_type": "stream",
     "text": [
      "INFO:CONTINUUM:# Minor cycle 3 cleaning done #\n"
     ]
    },
    {
     "name": "stderr",
     "output_type": "stream",
     "text": [
      "INFO:CONTINUUM:# Cleaned image for minor cycle 3 created #\n"
     ]
    },
    {
     "name": "stderr",
     "output_type": "stream",
     "text": [
      "INFO:CONTINUUM:# Residual image for minor cycle 3 created #\n"
     ]
    },
    {
     "name": "stderr",
     "output_type": "stream",
     "text": [
      "INFO:CONTINUUM:# Peak of the residual image is 0.00202949 Jy/beam #\n"
     ]
    },
    {
     "name": "stderr",
     "output_type": "stream",
     "text": [
      "INFO:CONTINUUM:# RMS of the residual image is 0.000426809 Jy/beam #\n"
     ]
    },
    {
     "name": "stderr",
     "output_type": "stream",
     "text": [
      "INFO:CONTINUUM:# Mask threshold for final imaging minor cycle 4 set to 0.002055 Jy/beam #\n"
     ]
    },
    {
     "name": "stderr",
     "output_type": "stream",
     "text": [
      "INFO:CONTINUUM:# Mask threshold set by Theoretical noise threshold #\n"
     ]
    },
    {
     "name": "stderr",
     "output_type": "stream",
     "text": [
      "INFO:CONTINUUM:# Mask with threshold 0.002055 Jy/beam created #\n"
     ]
    },
    {
     "name": "stderr",
     "output_type": "stream",
     "text": [
      "INFO:CONTINUUM:# Clean threshold for minor cycle 4 was set to 0.000411 Jy/beam #\n"
     ]
    },
    {
     "name": "stderr",
     "output_type": "stream",
     "text": [
      "INFO:CONTINUUM:# Minor cycle 4 cleaning done #\n"
     ]
    },
    {
     "name": "stderr",
     "output_type": "stream",
     "text": [
      "INFO:CONTINUUM:# Cleaned image for minor cycle 4 created #\n"
     ]
    },
    {
     "name": "stderr",
     "output_type": "stream",
     "text": [
      "INFO:CONTINUUM:# Residual image for minor cycle 4 created #\n"
     ]
    },
    {
     "name": "stderr",
     "output_type": "stream",
     "text": [
      "INFO:CONTINUUM:# Peak of the residual image is 0.00202741 Jy/beam #\n"
     ]
    },
    {
     "name": "stderr",
     "output_type": "stream",
     "text": [
      "INFO:CONTINUUM:# RMS of the residual image is 0.000426592 Jy/beam #\n"
     ]
    },
    {
     "name": "stderr",
     "output_type": "stream",
     "text": [
      "INFO:CONTINUUM:### Continuum imaging for chunk 07 successful ###\n"
     ]
    },
    {
     "name": "stderr",
     "output_type": "stream",
     "text": [
      "INFO:CONTINUUM:### Stacking continuum images of individual frequency chunks ###\n"
     ]
    },
    {
     "name": "stderr",
     "output_type": "stream",
     "text": [
      "INFO:CONTINUUM:# Moved to directory /data/adebahr/apertif/tutorials/T1/00/continuum/stack #\n"
     ]
    },
    {
     "name": "stderr",
     "output_type": "stream",
     "text": [
      "INFO:CONTINUUM:# Convolving final continuum images to major/minor fwhm 45,45and angle 0.0\n"
     ]
    },
    {
     "name": "stderr",
     "output_type": "stream",
     "text": [
      "INFO:CONTINUUM:### Final deep continuum image is /data/adebahr/apertif/tutorials/T1/00/continuum/M51_stack ###\n"
     ]
    },
    {
     "name": "stderr",
     "output_type": "stream",
     "text": [
      "INFO:CONTINUUM:### Deep continuum imaging of full dataset done ###\n"
     ]
    },
    {
     "name": "stderr",
     "output_type": "stream",
     "text": [
      "INFO:CONTINUUM:########## CONTINUUM IMAGING done ##########\n"
     ]
    }
   ],
   "source": [
    "# We are going to use the same image size and cellsize as for the self-calibration (continuum_image_imsize = 1025/continuum_image_cellsize = 8)\n",
    "# Since we are stacking all the final images of the individual chunks in the end (continuum_mode = stack) we want to convolve with a commen beam (continuum_image_convolbeam = 45,45,0.0)\n",
    "# We use the same paramaters as for the self-calibration for the final cleaning procedure\n",
    "continuum.go()"
   ]
  },
  {
   "cell_type": "code",
   "execution_count": 27,
   "metadata": {},
   "outputs": [
    {
     "name": "stderr",
     "output_type": "stream",
     "text": [
      "INFO:LINE:### Configuration file /home/adebahr/apercal/ipython-notebooks/tutorials/cfg/1.cfg successfully read! ###\n"
     ]
    },
    {
     "name": "stdout",
     "output_type": "stream",
     "text": [
      "LINE\n\tline_splitdata = True\n\tline_splitdata_chunkbandwidth = 0.02\n\tline_splitdata_channelbandwidth = 1.2e-05\n\tline_transfergains = True\n\tline_subtract = True\n\tline_subtract_mode = uvmodel\n\tline_subtract_mode_uvmodel_majorcycle_function = square\n\tline_subtract_mode_uvmodel_minorcycle_function = square\n\tline_subtract_mode_uvmodel_minorcycle = 5\n\tline_subtract_mode_uvmodel_c0 = 10.0\n\tline_subtract_mode_uvmodel_c1 = 5.0\n\tline_subtract_mode_uvmodel_drinit = 25\n\tline_subtract_mode_uvmodel_dr0 = 2.0\n\tline_subtract_mode_uvmodel_nsigma = 30\n\tline_subtract_mode_uvmodel_imsize = 513\n\tline_subtract_mode_uvmodel_cellsize = 10\n\tline_subtract_mode_uvmodel_minorcycle0_dr = 3.0\n\tline_image = True\n\tline_image_channels = 9650,9800\n\tline_image_imsize = 1025\n\tline_image_cellsize = 8\n\tline_image_centre = \n\tline_image_robust = -2\n\tline_image_ratio_limit = 1.03\n\tline_image_c0 = 10.0\n\tline_image_c1 = 5.0\n\tline_image_nsigma = 20\n\tline_image_minorcycle0_dr = 3.0\n\tline_image_dr0 = 2.0\n\tline_image_restorbeam = \n\tline_image_convolbeam = 45,45,0.0\n"
     ]
    }
   ],
   "source": [
    "# Since the deep continuum images are ready now, we can use this model to subtract the continuum and image the line channels\n",
    "# In case of a non-existent continuum model from the continuum step, the line module would automatically image the continuum beforehand and use it for subtraction\n",
    "line = apercal.line('/home/adebahr/apercal/ipython-notebooks/tutorials/cfg/1.cfg')\n",
    "line.show()"
   ]
  },
  {
   "cell_type": "code",
   "execution_count": 28,
   "metadata": {},
   "outputs": [
    {
     "name": "stderr",
     "output_type": "stream",
     "text": [
      "INFO:LINE:########## Starting CONTINUUM SUBTRACTION ##########\n"
     ]
    },
    {
     "name": "stderr",
     "output_type": "stream",
     "text": [
      "INFO:LINE:# Creating directory /data/adebahr/apertif/tutorials/T1/00/line #\n"
     ]
    },
    {
     "name": "stderr",
     "output_type": "stream",
     "text": [
      "INFO:LINE:# Moved to directory /data/adebahr/apertif/tutorials/T1/00/line #\n"
     ]
    },
    {
     "name": "stderr",
     "output_type": "stream",
     "text": [
      "INFO:LINE:### Splitting of target data into individual frequency chunks started ###\n"
     ]
    },
    {
     "name": "stderr",
     "output_type": "stream",
     "text": [
      "INFO:LINE:# Applying calibrator solutions to target data before averaging #\n"
     ]
    },
    {
     "name": "stderr",
     "output_type": "stream",
     "text": [
      "INFO:LINE:# Calibrator solutions to target data applied #\n"
     ]
    },
    {
     "name": "stderr",
     "output_type": "stream",
     "text": [
      "INFO:LINE:# Found 1 subband(s) in target data #\n"
     ]
    },
    {
     "name": "stderr",
     "output_type": "stream",
     "text": [
      "INFO:LINE:# Started splitting of subband 0 #\n"
     ]
    },
    {
     "name": "stderr",
     "output_type": "stream",
     "text": [
      "INFO:LINE:# Adjusting chunk size to 0.016796875 GHz for regular gridding of the data chunks over frequency #\n"
     ]
    },
    {
     "name": "stderr",
     "output_type": "stream",
     "text": [
      "INFO:LINE:# Starting splitting of data chunk 0 for subband 0 #\n"
     ]
    },
    {
     "name": "stderr",
     "output_type": "stream",
     "text": [
      "INFO:LINE:# Using frequency binning of 1.2e-05 for all subbands #\n"
     ]
    },
    {
     "name": "stderr",
     "output_type": "stream",
     "text": [
      "INFO:LINE:# Creating directory /data/adebahr/apertif/tutorials/T1/00/line/00 #\n"
     ]
    },
    {
     "name": "stderr",
     "output_type": "stream",
     "text": [
      "INFO:LINE:# Splitting of data chunk 0 for subband 0 done #\n"
     ]
    },
    {
     "name": "stderr",
     "output_type": "stream",
     "text": [
      "INFO:LINE:# Starting splitting of data chunk 1 for subband 0 #\n"
     ]
    },
    {
     "name": "stderr",
     "output_type": "stream",
     "text": [
      "INFO:LINE:# Using frequency binning of 1.2e-05 for all subbands #\n"
     ]
    },
    {
     "name": "stderr",
     "output_type": "stream",
     "text": [
      "INFO:LINE:# Creating directory /data/adebahr/apertif/tutorials/T1/00/line/01 #\n"
     ]
    },
    {
     "name": "stderr",
     "output_type": "stream",
     "text": [
      "INFO:LINE:# Splitting of data chunk 1 for subband 0 done #\n"
     ]
    },
    {
     "name": "stderr",
     "output_type": "stream",
     "text": [
      "INFO:LINE:# Starting splitting of data chunk 2 for subband 0 #\n"
     ]
    },
    {
     "name": "stderr",
     "output_type": "stream",
     "text": [
      "INFO:LINE:# Using frequency binning of 1.2e-05 for all subbands #\n"
     ]
    },
    {
     "name": "stderr",
     "output_type": "stream",
     "text": [
      "INFO:LINE:# Creating directory /data/adebahr/apertif/tutorials/T1/00/line/02 #\n"
     ]
    },
    {
     "name": "stderr",
     "output_type": "stream",
     "text": [
      "INFO:LINE:# Splitting of data chunk 2 for subband 0 done #\n"
     ]
    },
    {
     "name": "stderr",
     "output_type": "stream",
     "text": [
      "INFO:LINE:# Starting splitting of data chunk 3 for subband 0 #\n"
     ]
    },
    {
     "name": "stderr",
     "output_type": "stream",
     "text": [
      "INFO:LINE:# Using frequency binning of 1.2e-05 for all subbands #\n"
     ]
    },
    {
     "name": "stderr",
     "output_type": "stream",
     "text": [
      "INFO:LINE:# Creating directory /data/adebahr/apertif/tutorials/T1/00/line/03 #\n"
     ]
    },
    {
     "name": "stderr",
     "output_type": "stream",
     "text": [
      "INFO:LINE:# Splitting of data chunk 3 for subband 0 done #\n"
     ]
    },
    {
     "name": "stderr",
     "output_type": "stream",
     "text": [
      "INFO:LINE:# Starting splitting of data chunk 4 for subband 0 #\n"
     ]
    },
    {
     "name": "stderr",
     "output_type": "stream",
     "text": [
      "INFO:LINE:# Using frequency binning of 1.2e-05 for all subbands #\n"
     ]
    },
    {
     "name": "stderr",
     "output_type": "stream",
     "text": [
      "INFO:LINE:# Creating directory /data/adebahr/apertif/tutorials/T1/00/line/04 #\n"
     ]
    },
    {
     "name": "stderr",
     "output_type": "stream",
     "text": [
      "INFO:LINE:# Splitting of data chunk 4 for subband 0 done #\n"
     ]
    },
    {
     "name": "stderr",
     "output_type": "stream",
     "text": [
      "INFO:LINE:# Starting splitting of data chunk 5 for subband 0 #\n"
     ]
    },
    {
     "name": "stderr",
     "output_type": "stream",
     "text": [
      "INFO:LINE:# Using frequency binning of 1.2e-05 for all subbands #\n"
     ]
    },
    {
     "name": "stderr",
     "output_type": "stream",
     "text": [
      "INFO:LINE:# Creating directory /data/adebahr/apertif/tutorials/T1/00/line/05 #\n"
     ]
    },
    {
     "name": "stderr",
     "output_type": "stream",
     "text": [
      "INFO:LINE:# Splitting of data chunk 5 for subband 0 done #\n"
     ]
    },
    {
     "name": "stderr",
     "output_type": "stream",
     "text": [
      "INFO:LINE:# Starting splitting of data chunk 6 for subband 0 #\n"
     ]
    },
    {
     "name": "stderr",
     "output_type": "stream",
     "text": [
      "INFO:LINE:# Using frequency binning of 1.2e-05 for all subbands #\n"
     ]
    },
    {
     "name": "stderr",
     "output_type": "stream",
     "text": [
      "INFO:LINE:# Creating directory /data/adebahr/apertif/tutorials/T1/00/line/06 #\n"
     ]
    },
    {
     "name": "stderr",
     "output_type": "stream",
     "text": [
      "INFO:LINE:# Splitting of data chunk 6 for subband 0 done #\n"
     ]
    },
    {
     "name": "stderr",
     "output_type": "stream",
     "text": [
      "INFO:LINE:# Starting splitting of data chunk 7 for subband 0 #\n"
     ]
    },
    {
     "name": "stderr",
     "output_type": "stream",
     "text": [
      "INFO:LINE:# Using frequency binning of 1.2e-05 for all subbands #\n"
     ]
    },
    {
     "name": "stderr",
     "output_type": "stream",
     "text": [
      "INFO:LINE:# Creating directory /data/adebahr/apertif/tutorials/T1/00/line/07 #\n"
     ]
    },
    {
     "name": "stderr",
     "output_type": "stream",
     "text": [
      "INFO:LINE:# Splitting of data chunk 7 for subband 0 done #\n"
     ]
    },
    {
     "name": "stderr",
     "output_type": "stream",
     "text": [
      "INFO:LINE:# Splitting of data for subband 0 done #\n"
     ]
    },
    {
     "name": "stderr",
     "output_type": "stream",
     "text": [
      "INFO:LINE:### Splitting of target data into individual frequency chunks done ###\n"
     ]
    },
    {
     "name": "stderr",
     "output_type": "stream",
     "text": [
      "INFO:LINE:### Copying gains from continuum to line data ###\n"
     ]
    },
    {
     "name": "stderr",
     "output_type": "stream",
     "text": [
      "INFO:LINE:# Copying gains from continuum to line data for chunk 00 #\n"
     ]
    },
    {
     "name": "stderr",
     "output_type": "stream",
     "text": [
      "INFO:LINE:# Copying gains from continuum to line data for chunk 01 #\n"
     ]
    },
    {
     "name": "stderr",
     "output_type": "stream",
     "text": [
      "INFO:LINE:# Copying gains from continuum to line data for chunk 02 #\n"
     ]
    },
    {
     "name": "stderr",
     "output_type": "stream",
     "text": [
      "INFO:LINE:# Copying gains from continuum to line data for chunk 03 #\n"
     ]
    },
    {
     "name": "stderr",
     "output_type": "stream",
     "text": [
      "INFO:LINE:# Copying gains from continuum to line data for chunk 04 #\n"
     ]
    },
    {
     "name": "stderr",
     "output_type": "stream",
     "text": [
      "INFO:LINE:# Copying gains from continuum to line data for chunk 05 #\n"
     ]
    },
    {
     "name": "stderr",
     "output_type": "stream",
     "text": [
      "INFO:LINE:# Copying gains from continuum to line data for chunk 06 #\n"
     ]
    },
    {
     "name": "stderr",
     "output_type": "stream",
     "text": [
      "INFO:LINE:# Copying gains from continuum to line data for chunk 07 #\n"
     ]
    },
    {
     "name": "stderr",
     "output_type": "stream",
     "text": [
      "INFO:LINE:### Gains from continuum to line data copied ###\n"
     ]
    },
    {
     "name": "stderr",
     "output_type": "stream",
     "text": [
      "INFO:LINE:### Starting continuum subtraction of individual chunks using uvmodel ###\n"
     ]
    },
    {
     "name": "stderr",
     "output_type": "stream",
     "text": [
      "INFO:LINE:# Moved to directory /data/adebahr/apertif/tutorials/T1/00/line/00 #\n"
     ]
    },
    {
     "name": "stderr",
     "output_type": "stream",
     "text": [
      "INFO:LINE:# Applied gains to chunk 00 for subtraction of continuum model #\n"
     ]
    },
    {
     "name": "stderr",
     "output_type": "stream",
     "text": [
      "INFO:LINE:# Found model for subtraction in final continuum directory. No need to redo continuum imaging #\n"
     ]
    },
    {
     "name": "stderr",
     "output_type": "stream",
     "text": [
      "INFO:LINE:### Continuum subtraction using uvmodel method for chunk 00 successful! ###\n"
     ]
    },
    {
     "name": "stderr",
     "output_type": "stream",
     "text": [
      "INFO:LINE:# Moved to directory /data/adebahr/apertif/tutorials/T1/00/line/01 #\n"
     ]
    },
    {
     "name": "stderr",
     "output_type": "stream",
     "text": [
      "INFO:LINE:# Applied gains to chunk 01 for subtraction of continuum model #\n"
     ]
    },
    {
     "name": "stderr",
     "output_type": "stream",
     "text": [
      "INFO:LINE:# Found model for subtraction in final continuum directory. No need to redo continuum imaging #\n"
     ]
    },
    {
     "name": "stderr",
     "output_type": "stream",
     "text": [
      "INFO:LINE:### Continuum subtraction using uvmodel method for chunk 01 successful! ###\n"
     ]
    },
    {
     "name": "stderr",
     "output_type": "stream",
     "text": [
      "INFO:LINE:# Moved to directory /data/adebahr/apertif/tutorials/T1/00/line/02 #\n"
     ]
    },
    {
     "name": "stderr",
     "output_type": "stream",
     "text": [
      "INFO:LINE:# Applied gains to chunk 02 for subtraction of continuum model #\n"
     ]
    },
    {
     "name": "stderr",
     "output_type": "stream",
     "text": [
      "INFO:LINE:# Found model for subtraction in final continuum directory. No need to redo continuum imaging #\n"
     ]
    },
    {
     "name": "stderr",
     "output_type": "stream",
     "text": [
      "INFO:LINE:### Continuum subtraction using uvmodel method for chunk 02 successful! ###\n"
     ]
    },
    {
     "name": "stderr",
     "output_type": "stream",
     "text": [
      "INFO:LINE:# Moved to directory /data/adebahr/apertif/tutorials/T1/00/line/03 #\n"
     ]
    },
    {
     "name": "stderr",
     "output_type": "stream",
     "text": [
      "INFO:LINE:# Applied gains to chunk 03 for subtraction of continuum model #\n"
     ]
    },
    {
     "name": "stderr",
     "output_type": "stream",
     "text": [
      "INFO:LINE:# Found model for subtraction in final continuum directory. No need to redo continuum imaging #\n"
     ]
    },
    {
     "name": "stderr",
     "output_type": "stream",
     "text": [
      "INFO:LINE:### Continuum subtraction using uvmodel method for chunk 03 successful! ###\n"
     ]
    },
    {
     "name": "stderr",
     "output_type": "stream",
     "text": [
      "INFO:LINE:# Moved to directory /data/adebahr/apertif/tutorials/T1/00/line/04 #\n"
     ]
    },
    {
     "name": "stderr",
     "output_type": "stream",
     "text": [
      "INFO:LINE:# Applied gains to chunk 04 for subtraction of continuum model #\n"
     ]
    },
    {
     "name": "stderr",
     "output_type": "stream",
     "text": [
      "INFO:LINE:# Found model for subtraction in final continuum directory. No need to redo continuum imaging #\n"
     ]
    },
    {
     "name": "stderr",
     "output_type": "stream",
     "text": [
      "INFO:LINE:### Continuum subtraction using uvmodel method for chunk 04 successful! ###\n"
     ]
    },
    {
     "name": "stderr",
     "output_type": "stream",
     "text": [
      "INFO:LINE:# Moved to directory /data/adebahr/apertif/tutorials/T1/00/line/05 #\n"
     ]
    },
    {
     "name": "stderr",
     "output_type": "stream",
     "text": [
      "INFO:LINE:# Applied gains to chunk 05 for subtraction of continuum model #\n"
     ]
    },
    {
     "name": "stderr",
     "output_type": "stream",
     "text": [
      "INFO:LINE:# Found model for subtraction in final continuum directory. No need to redo continuum imaging #\n"
     ]
    },
    {
     "name": "stderr",
     "output_type": "stream",
     "text": [
      "INFO:LINE:### Continuum subtraction using uvmodel method for chunk 05 successful! ###\n"
     ]
    },
    {
     "name": "stderr",
     "output_type": "stream",
     "text": [
      "INFO:LINE:# Moved to directory /data/adebahr/apertif/tutorials/T1/00/line/06 #\n"
     ]
    },
    {
     "name": "stderr",
     "output_type": "stream",
     "text": [
      "INFO:LINE:# Applied gains to chunk 06 for subtraction of continuum model #\n"
     ]
    },
    {
     "name": "stderr",
     "output_type": "stream",
     "text": [
      "INFO:LINE:# Found model for subtraction in final continuum directory. No need to redo continuum imaging #\n"
     ]
    },
    {
     "name": "stderr",
     "output_type": "stream",
     "text": [
      "INFO:LINE:### Continuum subtraction using uvmodel method for chunk 06 successful! ###\n"
     ]
    },
    {
     "name": "stderr",
     "output_type": "stream",
     "text": [
      "INFO:LINE:# Moved to directory /data/adebahr/apertif/tutorials/T1/00/line/07 #\n"
     ]
    },
    {
     "name": "stderr",
     "output_type": "stream",
     "text": [
      "INFO:LINE:# Applied gains to chunk 07 for subtraction of continuum model #\n"
     ]
    },
    {
     "name": "stderr",
     "output_type": "stream",
     "text": [
      "INFO:LINE:# Found model for subtraction in final continuum directory. No need to redo continuum imaging #\n"
     ]
    },
    {
     "name": "stderr",
     "output_type": "stream",
     "text": [
      "INFO:LINE:### Continuum subtraction using uvmodel method for chunk 07 successful! ###\n"
     ]
    },
    {
     "name": "stderr",
     "output_type": "stream",
     "text": [
      "INFO:LINE:### Continuum subtraction using uvmodel done! ###\n"
     ]
    },
    {
     "name": "stderr",
     "output_type": "stream",
     "text": [
      "INFO:LINE:### Starting line imaging of dataset ###\n"
     ]
    },
    {
     "name": "stderr",
     "output_type": "stream",
     "text": [
      "INFO:LINE:# Moved to directory /data/adebahr/apertif/tutorials/T1/00/line #\n"
     ]
    },
    {
     "name": "stderr",
     "output_type": "stream",
     "text": [
      "INFO:LINE:# Creating directory /data/adebahr/apertif/tutorials/T1/00/line/cubes #\n"
     ]
    },
    {
     "name": "stderr",
     "output_type": "stream",
     "text": [
      "INFO:LINE:# Moved to directory /data/adebahr/apertif/tutorials/T1/00/line/cubes #\n"
     ]
    },
    {
     "name": "stderr",
     "output_type": "stream",
     "text": [
      "INFO:LINE:# Imaging each individual channel separately #\n"
     ]
    },
    {
     "name": "stderr",
     "output_type": "stream",
     "text": [
      "INFO:LINE:# All channels of chunk 00 imaged #\n"
     ]
    },
    {
     "name": "stderr",
     "output_type": "stream",
     "text": [
      "INFO:LINE:# Cleaned up the directory for chunk 00 #\n"
     ]
    },
    {
     "name": "stderr",
     "output_type": "stream",
     "text": [
      "INFO:LINE:# All channels of chunk 01 imaged #\n"
     ]
    },
    {
     "name": "stderr",
     "output_type": "stream",
     "text": [
      "INFO:LINE:# Cleaned up the directory for chunk 01 #\n"
     ]
    },
    {
     "name": "stderr",
     "output_type": "stream",
     "text": [
      "INFO:LINE:# All channels of chunk 02 imaged #\n"
     ]
    },
    {
     "name": "stderr",
     "output_type": "stream",
     "text": [
      "INFO:LINE:# Cleaned up the directory for chunk 02 #\n"
     ]
    },
    {
     "name": "stderr",
     "output_type": "stream",
     "text": [
      "INFO:LINE:# All channels of chunk 03 imaged #\n"
     ]
    },
    {
     "name": "stderr",
     "output_type": "stream",
     "text": [
      "INFO:LINE:# Cleaned up the directory for chunk 03 #\n"
     ]
    },
    {
     "name": "stderr",
     "output_type": "stream",
     "text": [
      "INFO:LINE:# All channels of chunk 04 imaged #\n"
     ]
    },
    {
     "name": "stderr",
     "output_type": "stream",
     "text": [
      "INFO:LINE:# Cleaned up the directory for chunk 04 #\n"
     ]
    },
    {
     "name": "stderr",
     "output_type": "stream",
     "text": [
      "INFO:LINE:# All channels of chunk 05 imaged #\n"
     ]
    },
    {
     "name": "stderr",
     "output_type": "stream",
     "text": [
      "INFO:LINE:# Cleaned up the directory for chunk 05 #\n"
     ]
    },
    {
     "name": "stderr",
     "output_type": "stream",
     "text": [
      "INFO:LINE:# All channels of chunk 06 imaged #\n"
     ]
    },
    {
     "name": "stderr",
     "output_type": "stream",
     "text": [
      "INFO:LINE:# Cleaned up the directory for chunk 06 #\n"
     ]
    },
    {
     "name": "stderr",
     "output_type": "stream",
     "text": [
      "INFO:LINE:# Emission found in channel 09650. Cleaning! #\n"
     ]
    },
    {
     "name": "stderr",
     "output_type": "stream",
     "text": [
      "INFO:LINE:# Finished processing channel 09650/11007. #\n"
     ]
    },
    {
     "name": "stderr",
     "output_type": "stream",
     "text": [
      "INFO:LINE:# Finished processing channel 09651/11007. #\n"
     ]
    },
    {
     "name": "stderr",
     "output_type": "stream",
     "text": [
      "INFO:LINE:# Finished processing channel 09652/11007. #\n"
     ]
    },
    {
     "name": "stderr",
     "output_type": "stream",
     "text": [
      "INFO:LINE:# Finished processing channel 09653/11007. #\n"
     ]
    },
    {
     "name": "stderr",
     "output_type": "stream",
     "text": [
      "INFO:LINE:# Emission found in channel 09654. Cleaning! #\n"
     ]
    },
    {
     "name": "stderr",
     "output_type": "stream",
     "text": [
      "INFO:LINE:# Finished processing channel 09654/11007. #\n"
     ]
    },
    {
     "name": "stderr",
     "output_type": "stream",
     "text": [
      "INFO:LINE:# Emission found in channel 09655. Cleaning! #\n"
     ]
    },
    {
     "name": "stderr",
     "output_type": "stream",
     "text": [
      "INFO:LINE:# Finished processing channel 09655/11007. #\n"
     ]
    },
    {
     "name": "stderr",
     "output_type": "stream",
     "text": [
      "INFO:LINE:# Emission found in channel 09656. Cleaning! #\n"
     ]
    },
    {
     "name": "stderr",
     "output_type": "stream",
     "text": [
      "INFO:LINE:# Finished processing channel 09656/11007. #\n"
     ]
    },
    {
     "name": "stderr",
     "output_type": "stream",
     "text": [
      "INFO:LINE:# Emission found in channel 09657. Cleaning! #\n"
     ]
    },
    {
     "name": "stderr",
     "output_type": "stream",
     "text": [
      "INFO:LINE:# Finished processing channel 09657/11007. #\n"
     ]
    },
    {
     "name": "stderr",
     "output_type": "stream",
     "text": [
      "INFO:LINE:# Emission found in channel 09658. Cleaning! #\n"
     ]
    },
    {
     "name": "stderr",
     "output_type": "stream",
     "text": [
      "INFO:LINE:# Finished processing channel 09658/11007. #\n"
     ]
    },
    {
     "name": "stderr",
     "output_type": "stream",
     "text": [
      "INFO:LINE:# Emission found in channel 09659. Cleaning! #\n"
     ]
    },
    {
     "name": "stderr",
     "output_type": "stream",
     "text": [
      "INFO:LINE:# Finished processing channel 09659/11007. #\n"
     ]
    },
    {
     "name": "stderr",
     "output_type": "stream",
     "text": [
      "INFO:LINE:# Emission found in channel 09660. Cleaning! #\n"
     ]
    },
    {
     "name": "stderr",
     "output_type": "stream",
     "text": [
      "INFO:LINE:# Finished processing channel 09660/11007. #\n"
     ]
    },
    {
     "name": "stderr",
     "output_type": "stream",
     "text": [
      "INFO:LINE:# Emission found in channel 09661. Cleaning! #\n"
     ]
    },
    {
     "name": "stderr",
     "output_type": "stream",
     "text": [
      "INFO:LINE:# Finished processing channel 09661/11007. #\n"
     ]
    },
    {
     "name": "stderr",
     "output_type": "stream",
     "text": [
      "INFO:LINE:# Emission found in channel 09662. Cleaning! #\n"
     ]
    },
    {
     "name": "stderr",
     "output_type": "stream",
     "text": [
      "INFO:LINE:# Finished processing channel 09662/11007. #\n"
     ]
    },
    {
     "name": "stderr",
     "output_type": "stream",
     "text": [
      "INFO:LINE:# 0 visibilities in channel 09663! Skipping channel! #\n"
     ]
    },
    {
     "name": "stderr",
     "output_type": "stream",
     "text": [
      "INFO:LINE:# 0 visibilities in channel 09664! Skipping channel! #\n"
     ]
    },
    {
     "name": "stderr",
     "output_type": "stream",
     "text": [
      "INFO:LINE:# 0 visibilities in channel 09665! Skipping channel! #\n"
     ]
    },
    {
     "name": "stderr",
     "output_type": "stream",
     "text": [
      "INFO:LINE:# Finished processing channel 09666/11007. #\n"
     ]
    },
    {
     "name": "stderr",
     "output_type": "stream",
     "text": [
      "INFO:LINE:# Emission found in channel 09667. Cleaning! #\n"
     ]
    },
    {
     "name": "stderr",
     "output_type": "stream",
     "text": [
      "INFO:LINE:# Finished processing channel 09667/11007. #\n"
     ]
    },
    {
     "name": "stderr",
     "output_type": "stream",
     "text": [
      "INFO:LINE:# Emission found in channel 09668. Cleaning! #\n"
     ]
    },
    {
     "name": "stderr",
     "output_type": "stream",
     "text": [
      "INFO:LINE:# Finished processing channel 09668/11007. #\n"
     ]
    },
    {
     "name": "stderr",
     "output_type": "stream",
     "text": [
      "INFO:LINE:# Finished processing channel 09669/11007. #\n"
     ]
    },
    {
     "name": "stderr",
     "output_type": "stream",
     "text": [
      "INFO:LINE:# Emission found in channel 09670. Cleaning! #\n"
     ]
    },
    {
     "name": "stderr",
     "output_type": "stream",
     "text": [
      "INFO:LINE:# Finished processing channel 09670/11007. #\n"
     ]
    },
    {
     "name": "stderr",
     "output_type": "stream",
     "text": [
      "INFO:LINE:# Finished processing channel 09671/11007. #\n"
     ]
    },
    {
     "name": "stderr",
     "output_type": "stream",
     "text": [
      "INFO:LINE:# Emission found in channel 09672. Cleaning! #\n"
     ]
    },
    {
     "name": "stderr",
     "output_type": "stream",
     "text": [
      "INFO:LINE:# Finished processing channel 09672/11007. #\n"
     ]
    },
    {
     "name": "stderr",
     "output_type": "stream",
     "text": [
      "INFO:LINE:# Emission found in channel 09673. Cleaning! #\n"
     ]
    },
    {
     "name": "stderr",
     "output_type": "stream",
     "text": [
      "INFO:LINE:# Finished processing channel 09673/11007. #\n"
     ]
    },
    {
     "name": "stderr",
     "output_type": "stream",
     "text": [
      "INFO:LINE:# Finished processing channel 09674/11007. #\n"
     ]
    },
    {
     "name": "stderr",
     "output_type": "stream",
     "text": [
      "INFO:LINE:# Finished processing channel 09675/11007. #\n"
     ]
    },
    {
     "name": "stderr",
     "output_type": "stream",
     "text": [
      "INFO:LINE:# Finished processing channel 09676/11007. #\n"
     ]
    },
    {
     "name": "stderr",
     "output_type": "stream",
     "text": [
      "INFO:LINE:# Emission found in channel 09677. Cleaning! #\n"
     ]
    },
    {
     "name": "stderr",
     "output_type": "stream",
     "text": [
      "INFO:LINE:# Finished processing channel 09677/11007. #\n"
     ]
    },
    {
     "name": "stderr",
     "output_type": "stream",
     "text": [
      "INFO:LINE:# Finished processing channel 09678/11007. #\n"
     ]
    },
    {
     "name": "stderr",
     "output_type": "stream",
     "text": [
      "INFO:LINE:# Finished processing channel 09679/11007. #\n"
     ]
    },
    {
     "name": "stderr",
     "output_type": "stream",
     "text": [
      "INFO:LINE:# 0 visibilities in channel 09680! Skipping channel! #\n"
     ]
    },
    {
     "name": "stderr",
     "output_type": "stream",
     "text": [
      "INFO:LINE:# Emission found in channel 09681. Cleaning! #\n"
     ]
    },
    {
     "name": "stderr",
     "output_type": "stream",
     "text": [
      "INFO:LINE:# Finished processing channel 09681/11007. #\n"
     ]
    },
    {
     "name": "stderr",
     "output_type": "stream",
     "text": [
      "INFO:LINE:# Finished processing channel 09682/11007. #\n"
     ]
    },
    {
     "name": "stderr",
     "output_type": "stream",
     "text": [
      "INFO:LINE:# Emission found in channel 09683. Cleaning! #\n"
     ]
    },
    {
     "name": "stderr",
     "output_type": "stream",
     "text": [
      "INFO:LINE:# Finished processing channel 09683/11007. #\n"
     ]
    },
    {
     "name": "stderr",
     "output_type": "stream",
     "text": [
      "INFO:LINE:# Emission found in channel 09684. Cleaning! #\n"
     ]
    },
    {
     "name": "stderr",
     "output_type": "stream",
     "text": [
      "INFO:LINE:# Finished processing channel 09684/11007. #\n"
     ]
    },
    {
     "name": "stderr",
     "output_type": "stream",
     "text": [
      "INFO:LINE:# Emission found in channel 09685. Cleaning! #\n"
     ]
    },
    {
     "name": "stderr",
     "output_type": "stream",
     "text": [
      "INFO:LINE:# Finished processing channel 09685/11007. #\n"
     ]
    },
    {
     "name": "stderr",
     "output_type": "stream",
     "text": [
      "INFO:LINE:# Emission found in channel 09686. Cleaning! #\n"
     ]
    },
    {
     "name": "stderr",
     "output_type": "stream",
     "text": [
      "INFO:LINE:# Finished processing channel 09686/11007. #\n"
     ]
    },
    {
     "name": "stderr",
     "output_type": "stream",
     "text": [
      "INFO:LINE:# Finished processing channel 09687/11007. #\n"
     ]
    },
    {
     "name": "stderr",
     "output_type": "stream",
     "text": [
      "INFO:LINE:# Emission found in channel 09688. Cleaning! #\n"
     ]
    },
    {
     "name": "stderr",
     "output_type": "stream",
     "text": [
      "INFO:LINE:# Finished processing channel 09688/11007. #\n"
     ]
    },
    {
     "name": "stderr",
     "output_type": "stream",
     "text": [
      "INFO:LINE:# Emission found in channel 09689. Cleaning! #\n"
     ]
    },
    {
     "name": "stderr",
     "output_type": "stream",
     "text": [
      "INFO:LINE:# Finished processing channel 09689/11007. #\n"
     ]
    },
    {
     "name": "stderr",
     "output_type": "stream",
     "text": [
      "INFO:LINE:# Emission found in channel 09690. Cleaning! #\n"
     ]
    },
    {
     "name": "stderr",
     "output_type": "stream",
     "text": [
      "INFO:LINE:# Finished processing channel 09690/11007. #\n"
     ]
    },
    {
     "name": "stderr",
     "output_type": "stream",
     "text": [
      "INFO:LINE:# Finished processing channel 09691/11007. #\n"
     ]
    },
    {
     "name": "stderr",
     "output_type": "stream",
     "text": [
      "INFO:LINE:# Finished processing channel 09692/11007. #\n"
     ]
    },
    {
     "name": "stderr",
     "output_type": "stream",
     "text": [
      "INFO:LINE:# Finished processing channel 09693/11007. #\n"
     ]
    },
    {
     "name": "stderr",
     "output_type": "stream",
     "text": [
      "INFO:LINE:# Emission found in channel 09694. Cleaning! #\n"
     ]
    },
    {
     "name": "stderr",
     "output_type": "stream",
     "text": [
      "INFO:LINE:# Finished processing channel 09694/11007. #\n"
     ]
    },
    {
     "name": "stderr",
     "output_type": "stream",
     "text": [
      "INFO:LINE:# Emission found in channel 09695. Cleaning! #\n"
     ]
    },
    {
     "name": "stderr",
     "output_type": "stream",
     "text": [
      "INFO:LINE:# Finished processing channel 09695/11007. #\n"
     ]
    },
    {
     "name": "stderr",
     "output_type": "stream",
     "text": [
      "INFO:LINE:# Emission found in channel 09696. Cleaning! #\n"
     ]
    },
    {
     "name": "stderr",
     "output_type": "stream",
     "text": [
      "INFO:LINE:# Finished processing channel 09696/11007. #\n"
     ]
    },
    {
     "name": "stderr",
     "output_type": "stream",
     "text": [
      "INFO:LINE:# Finished processing channel 09697/11007. #\n"
     ]
    },
    {
     "name": "stderr",
     "output_type": "stream",
     "text": [
      "INFO:LINE:# Emission found in channel 09698. Cleaning! #\n"
     ]
    },
    {
     "name": "stderr",
     "output_type": "stream",
     "text": [
      "INFO:LINE:# Finished processing channel 09698/11007. #\n"
     ]
    },
    {
     "name": "stderr",
     "output_type": "stream",
     "text": [
      "INFO:LINE:# Emission found in channel 09699. Cleaning! #\n"
     ]
    },
    {
     "name": "stderr",
     "output_type": "stream",
     "text": [
      "INFO:LINE:# Finished processing channel 09699/11007. #\n"
     ]
    },
    {
     "name": "stderr",
     "output_type": "stream",
     "text": [
      "INFO:LINE:# Emission found in channel 09700. Cleaning! #\n"
     ]
    },
    {
     "name": "stderr",
     "output_type": "stream",
     "text": [
      "INFO:LINE:# Finished processing channel 09700/11007. #\n"
     ]
    },
    {
     "name": "stderr",
     "output_type": "stream",
     "text": [
      "INFO:LINE:# Emission found in channel 09701. Cleaning! #\n"
     ]
    },
    {
     "name": "stderr",
     "output_type": "stream",
     "text": [
      "INFO:LINE:# Finished processing channel 09701/11007. #\n"
     ]
    },
    {
     "name": "stderr",
     "output_type": "stream",
     "text": [
      "INFO:LINE:# Emission found in channel 09702. Cleaning! #\n"
     ]
    },
    {
     "name": "stderr",
     "output_type": "stream",
     "text": [
      "INFO:LINE:# Finished processing channel 09702/11007. #\n"
     ]
    },
    {
     "name": "stderr",
     "output_type": "stream",
     "text": [
      "INFO:LINE:# Emission found in channel 09703. Cleaning! #\n"
     ]
    },
    {
     "name": "stderr",
     "output_type": "stream",
     "text": [
      "INFO:LINE:# Finished processing channel 09703/11007. #\n"
     ]
    },
    {
     "name": "stderr",
     "output_type": "stream",
     "text": [
      "INFO:LINE:# Emission found in channel 09704. Cleaning! #\n"
     ]
    },
    {
     "name": "stderr",
     "output_type": "stream",
     "text": [
      "INFO:LINE:# Finished processing channel 09704/11007. #\n"
     ]
    },
    {
     "name": "stderr",
     "output_type": "stream",
     "text": [
      "INFO:LINE:# Emission found in channel 09705. Cleaning! #\n"
     ]
    },
    {
     "name": "stderr",
     "output_type": "stream",
     "text": [
      "INFO:LINE:# Finished processing channel 09705/11007. #\n"
     ]
    },
    {
     "name": "stderr",
     "output_type": "stream",
     "text": [
      "INFO:LINE:# Emission found in channel 09706. Cleaning! #\n"
     ]
    },
    {
     "name": "stderr",
     "output_type": "stream",
     "text": [
      "INFO:LINE:# Finished processing channel 09706/11007. #\n"
     ]
    },
    {
     "name": "stderr",
     "output_type": "stream",
     "text": [
      "INFO:LINE:# Finished processing channel 09707/11007. #\n"
     ]
    },
    {
     "name": "stderr",
     "output_type": "stream",
     "text": [
      "INFO:LINE:# Finished processing channel 09708/11007. #\n"
     ]
    },
    {
     "name": "stderr",
     "output_type": "stream",
     "text": [
      "INFO:LINE:# Emission found in channel 09709. Cleaning! #\n"
     ]
    },
    {
     "name": "stderr",
     "output_type": "stream",
     "text": [
      "INFO:LINE:# Finished processing channel 09709/11007. #\n"
     ]
    },
    {
     "name": "stderr",
     "output_type": "stream",
     "text": [
      "INFO:LINE:# Emission found in channel 09710. Cleaning! #\n"
     ]
    },
    {
     "name": "stderr",
     "output_type": "stream",
     "text": [
      "INFO:LINE:# Finished processing channel 09710/11007. #\n"
     ]
    },
    {
     "name": "stderr",
     "output_type": "stream",
     "text": [
      "INFO:LINE:# Emission found in channel 09711. Cleaning! #\n"
     ]
    },
    {
     "name": "stderr",
     "output_type": "stream",
     "text": [
      "INFO:LINE:# Finished processing channel 09711/11007. #\n"
     ]
    },
    {
     "name": "stderr",
     "output_type": "stream",
     "text": [
      "INFO:LINE:# 0 visibilities in channel 09712! Skipping channel! #\n"
     ]
    },
    {
     "name": "stderr",
     "output_type": "stream",
     "text": [
      "INFO:LINE:# Emission found in channel 09713. Cleaning! #\n"
     ]
    },
    {
     "name": "stderr",
     "output_type": "stream",
     "text": [
      "INFO:LINE:# Finished processing channel 09713/11007. #\n"
     ]
    },
    {
     "name": "stderr",
     "output_type": "stream",
     "text": [
      "INFO:LINE:# Emission found in channel 09714. Cleaning! #\n"
     ]
    },
    {
     "name": "stderr",
     "output_type": "stream",
     "text": [
      "INFO:LINE:# Finished processing channel 09714/11007. #\n"
     ]
    },
    {
     "name": "stderr",
     "output_type": "stream",
     "text": [
      "INFO:LINE:# Finished processing channel 09715/11007. #\n"
     ]
    },
    {
     "name": "stderr",
     "output_type": "stream",
     "text": [
      "INFO:LINE:# Emission found in channel 09716. Cleaning! #\n"
     ]
    },
    {
     "name": "stderr",
     "output_type": "stream",
     "text": [
      "INFO:LINE:# Finished processing channel 09716/11007. #\n"
     ]
    },
    {
     "name": "stderr",
     "output_type": "stream",
     "text": [
      "INFO:LINE:# Finished processing channel 09717/11007. #\n"
     ]
    },
    {
     "name": "stderr",
     "output_type": "stream",
     "text": [
      "INFO:LINE:# Emission found in channel 09718. Cleaning! #\n"
     ]
    },
    {
     "name": "stderr",
     "output_type": "stream",
     "text": [
      "INFO:LINE:# Finished processing channel 09718/11007. #\n"
     ]
    },
    {
     "name": "stderr",
     "output_type": "stream",
     "text": [
      "INFO:LINE:# Emission found in channel 09719. Cleaning! #\n"
     ]
    },
    {
     "name": "stderr",
     "output_type": "stream",
     "text": [
      "INFO:LINE:# Finished processing channel 09719/11007. #\n"
     ]
    },
    {
     "name": "stderr",
     "output_type": "stream",
     "text": [
      "INFO:LINE:# Emission found in channel 09720. Cleaning! #\n"
     ]
    },
    {
     "name": "stderr",
     "output_type": "stream",
     "text": [
      "INFO:LINE:# Finished processing channel 09720/11007. #\n"
     ]
    },
    {
     "name": "stderr",
     "output_type": "stream",
     "text": [
      "INFO:LINE:# Finished processing channel 09721/11007. #\n"
     ]
    },
    {
     "name": "stderr",
     "output_type": "stream",
     "text": [
      "INFO:LINE:# Emission found in channel 09722. Cleaning! #\n"
     ]
    },
    {
     "name": "stderr",
     "output_type": "stream",
     "text": [
      "INFO:LINE:# Finished processing channel 09722/11007. #\n"
     ]
    },
    {
     "name": "stderr",
     "output_type": "stream",
     "text": [
      "INFO:LINE:# Emission found in channel 09723. Cleaning! #\n"
     ]
    },
    {
     "name": "stderr",
     "output_type": "stream",
     "text": [
      "INFO:LINE:# Finished processing channel 09723/11007. #\n"
     ]
    },
    {
     "name": "stderr",
     "output_type": "stream",
     "text": [
      "INFO:LINE:# Finished processing channel 09724/11007. #\n"
     ]
    },
    {
     "name": "stderr",
     "output_type": "stream",
     "text": [
      "INFO:LINE:# Emission found in channel 09725. Cleaning! #\n"
     ]
    },
    {
     "name": "stderr",
     "output_type": "stream",
     "text": [
      "INFO:LINE:# Finished processing channel 09725/11007. #\n"
     ]
    },
    {
     "name": "stderr",
     "output_type": "stream",
     "text": [
      "INFO:LINE:# Emission found in channel 09726. Cleaning! #\n"
     ]
    },
    {
     "name": "stderr",
     "output_type": "stream",
     "text": [
      "INFO:LINE:# Finished processing channel 09726/11007. #\n"
     ]
    },
    {
     "name": "stderr",
     "output_type": "stream",
     "text": [
      "INFO:LINE:# 0 visibilities in channel 09727! Skipping channel! #\n"
     ]
    },
    {
     "name": "stderr",
     "output_type": "stream",
     "text": [
      "INFO:LINE:# 0 visibilities in channel 09728! Skipping channel! #\n"
     ]
    },
    {
     "name": "stderr",
     "output_type": "stream",
     "text": [
      "INFO:LINE:# 0 visibilities in channel 09729! Skipping channel! #\n"
     ]
    },
    {
     "name": "stderr",
     "output_type": "stream",
     "text": [
      "INFO:LINE:# 0 visibilities in channel 09730! Skipping channel! #\n"
     ]
    },
    {
     "name": "stderr",
     "output_type": "stream",
     "text": [
      "INFO:LINE:# Emission found in channel 09731. Cleaning! #\n"
     ]
    },
    {
     "name": "stderr",
     "output_type": "stream",
     "text": [
      "INFO:LINE:# Finished processing channel 09731/11007. #\n"
     ]
    },
    {
     "name": "stderr",
     "output_type": "stream",
     "text": [
      "INFO:LINE:# Finished processing channel 09732/11007. #\n"
     ]
    },
    {
     "name": "stderr",
     "output_type": "stream",
     "text": [
      "INFO:LINE:# Emission found in channel 09733. Cleaning! #\n"
     ]
    },
    {
     "name": "stderr",
     "output_type": "stream",
     "text": [
      "INFO:LINE:# Finished processing channel 09733/11007. #\n"
     ]
    },
    {
     "name": "stderr",
     "output_type": "stream",
     "text": [
      "INFO:LINE:# Finished processing channel 09734/11007. #\n"
     ]
    },
    {
     "name": "stderr",
     "output_type": "stream",
     "text": [
      "INFO:LINE:# Emission found in channel 09735. Cleaning! #\n"
     ]
    },
    {
     "name": "stderr",
     "output_type": "stream",
     "text": [
      "INFO:LINE:# Finished processing channel 09735/11007. #\n"
     ]
    },
    {
     "name": "stderr",
     "output_type": "stream",
     "text": [
      "INFO:LINE:# Finished processing channel 09736/11007. #\n"
     ]
    },
    {
     "name": "stderr",
     "output_type": "stream",
     "text": [
      "INFO:LINE:# Finished processing channel 09737/11007. #\n"
     ]
    },
    {
     "name": "stderr",
     "output_type": "stream",
     "text": [
      "INFO:LINE:# Emission found in channel 09738. Cleaning! #\n"
     ]
    },
    {
     "name": "stderr",
     "output_type": "stream",
     "text": [
      "INFO:LINE:# Finished processing channel 09738/11007. #\n"
     ]
    },
    {
     "name": "stderr",
     "output_type": "stream",
     "text": [
      "INFO:LINE:# Emission found in channel 09739. Cleaning! #\n"
     ]
    },
    {
     "name": "stderr",
     "output_type": "stream",
     "text": [
      "INFO:LINE:# Finished processing channel 09739/11007. #\n"
     ]
    },
    {
     "name": "stderr",
     "output_type": "stream",
     "text": [
      "INFO:LINE:# Emission found in channel 09740. Cleaning! #\n"
     ]
    },
    {
     "name": "stderr",
     "output_type": "stream",
     "text": [
      "INFO:LINE:# Finished processing channel 09740/11007. #\n"
     ]
    },
    {
     "name": "stderr",
     "output_type": "stream",
     "text": [
      "INFO:LINE:# Emission found in channel 09741. Cleaning! #\n"
     ]
    },
    {
     "name": "stderr",
     "output_type": "stream",
     "text": [
      "INFO:LINE:# Finished processing channel 09741/11007. #\n"
     ]
    },
    {
     "name": "stderr",
     "output_type": "stream",
     "text": [
      "INFO:LINE:# Emission found in channel 09742. Cleaning! #\n"
     ]
    },
    {
     "name": "stderr",
     "output_type": "stream",
     "text": [
      "INFO:LINE:# Finished processing channel 09742/11007. #\n"
     ]
    },
    {
     "name": "stderr",
     "output_type": "stream",
     "text": [
      "INFO:LINE:# Finished processing channel 09743/11007. #\n"
     ]
    },
    {
     "name": "stderr",
     "output_type": "stream",
     "text": [
      "INFO:LINE:# 0 visibilities in channel 09744! Skipping channel! #\n"
     ]
    },
    {
     "name": "stderr",
     "output_type": "stream",
     "text": [
      "INFO:LINE:# Emission found in channel 09745. Cleaning! #\n"
     ]
    },
    {
     "name": "stderr",
     "output_type": "stream",
     "text": [
      "INFO:LINE:# Finished processing channel 09745/11007. #\n"
     ]
    },
    {
     "name": "stderr",
     "output_type": "stream",
     "text": [
      "INFO:LINE:# Emission found in channel 09746. Cleaning! #\n"
     ]
    },
    {
     "name": "stderr",
     "output_type": "stream",
     "text": [
      "INFO:LINE:# Finished processing channel 09746/11007. #\n"
     ]
    },
    {
     "name": "stderr",
     "output_type": "stream",
     "text": [
      "INFO:LINE:# Emission found in channel 09747. Cleaning! #\n"
     ]
    },
    {
     "name": "stderr",
     "output_type": "stream",
     "text": [
      "INFO:LINE:# Finished processing channel 09747/11007. #\n"
     ]
    },
    {
     "name": "stderr",
     "output_type": "stream",
     "text": [
      "INFO:LINE:# Emission found in channel 09748. Cleaning! #\n"
     ]
    },
    {
     "ename": "KeyboardInterrupt",
     "evalue": "",
     "traceback": [
      "\u001b[0;31m\u001b[0m",
      "\u001b[0;31mKeyboardInterrupt\u001b[0mTraceback (most recent call last)",
      "\u001b[0;32m<ipython-input-28-469d1801fb0f>\u001b[0m in \u001b[0;36m<module>\u001b[0;34m()\u001b[0m\n\u001b[1;32m      4\u001b[0m \u001b[0;31m# We a robust weighting of -2 for the imaging (line_image_robust = -2) and clean channels where the ratio between the maximum and minimum pixel value is larger than 1.03 (line_image_ratio_limit = 1.03)\u001b[0m\u001b[0;34m\u001b[0m\u001b[0;34m\u001b[0m\u001b[0m\n\u001b[1;32m      5\u001b[0m \u001b[0;31m# We only image the channel range between channel 9650 and 9800 (line_image_channels = 9650,9800) and all images are covolved to 45 arcseconds (line_image_convolbeam = 45,45,0.0)\u001b[0m\u001b[0;34m\u001b[0m\u001b[0;34m\u001b[0m\u001b[0m\n\u001b[0;32m----> 6\u001b[0;31m \u001b[0mline\u001b[0m\u001b[0;34m.\u001b[0m\u001b[0mgo\u001b[0m\u001b[0;34m(\u001b[0m\u001b[0;34m)\u001b[0m\u001b[0;34m\u001b[0m\u001b[0m\n\u001b[0m",
      "\u001b[0;32m/home/adebahr/apercal/modules/line.pyc\u001b[0m in \u001b[0;36mgo\u001b[0;34m(self)\u001b[0m\n\u001b[1;32m     55\u001b[0m         \u001b[0mself\u001b[0m\u001b[0;34m.\u001b[0m\u001b[0mtransfergains\u001b[0m\u001b[0;34m(\u001b[0m\u001b[0;34m)\u001b[0m\u001b[0;34m\u001b[0m\u001b[0m\n\u001b[1;32m     56\u001b[0m         \u001b[0mself\u001b[0m\u001b[0;34m.\u001b[0m\u001b[0msubtract\u001b[0m\u001b[0;34m(\u001b[0m\u001b[0;34m)\u001b[0m\u001b[0;34m\u001b[0m\u001b[0m\n\u001b[0;32m---> 57\u001b[0;31m         \u001b[0mself\u001b[0m\u001b[0;34m.\u001b[0m\u001b[0mimage_line\u001b[0m\u001b[0;34m(\u001b[0m\u001b[0;34m)\u001b[0m\u001b[0;34m\u001b[0m\u001b[0m\n\u001b[0m\u001b[1;32m     58\u001b[0m         \u001b[0mself\u001b[0m\u001b[0;34m.\u001b[0m\u001b[0mlogger\u001b[0m\u001b[0;34m.\u001b[0m\u001b[0minfo\u001b[0m\u001b[0;34m(\u001b[0m\u001b[0;34m\"########## CONTINUUM SUBTRACTION done ##########\"\u001b[0m\u001b[0;34m)\u001b[0m\u001b[0;34m\u001b[0m\u001b[0m\n\u001b[1;32m     59\u001b[0m \u001b[0;34m\u001b[0m\u001b[0m\n",
      "\u001b[0;32m/home/adebahr/apercal/modules/line.pyc\u001b[0m in \u001b[0;36mimage_line\u001b[0;34m(self)\u001b[0m\n\u001b[1;32m    269\u001b[0m                                                 \u001b[0mclean\u001b[0m\u001b[0;34m.\u001b[0m\u001b[0mniters\u001b[0m \u001b[0;34m=\u001b[0m \u001b[0;36m100000\u001b[0m\u001b[0;34m\u001b[0m\u001b[0m\n\u001b[1;32m    270\u001b[0m                                                 \u001b[0mclean\u001b[0m\u001b[0;34m.\u001b[0m\u001b[0mregion\u001b[0m \u001b[0;34m=\u001b[0m \u001b[0;34m'\"'\u001b[0m \u001b[0;34m+\u001b[0m \u001b[0;34m'mask(mask_00_'\u001b[0m \u001b[0;34m+\u001b[0m \u001b[0mstr\u001b[0m\u001b[0;34m(\u001b[0m\u001b[0mchannel_counter\u001b[0m\u001b[0;34m)\u001b[0m\u001b[0;34m.\u001b[0m\u001b[0mzfill\u001b[0m\u001b[0;34m(\u001b[0m\u001b[0;36m5\u001b[0m\u001b[0;34m)\u001b[0m \u001b[0;34m+\u001b[0m \u001b[0;34m')'\u001b[0m \u001b[0;34m+\u001b[0m \u001b[0;34m'\"'\u001b[0m\u001b[0;34m\u001b[0m\u001b[0m\n\u001b[0;32m--> 271\u001b[0;31m                                                 \u001b[0mclean\u001b[0m\u001b[0;34m.\u001b[0m\u001b[0mgo\u001b[0m\u001b[0;34m(\u001b[0m\u001b[0;34m)\u001b[0m\u001b[0;34m\u001b[0m\u001b[0m\n\u001b[0m\u001b[1;32m    272\u001b[0m                                             \u001b[0;32melse\u001b[0m\u001b[0;34m:\u001b[0m\u001b[0;34m\u001b[0m\u001b[0m\n\u001b[1;32m    273\u001b[0m                                                 \u001b[0mmaths\u001b[0m \u001b[0;34m=\u001b[0m \u001b[0mlib\u001b[0m\u001b[0;34m.\u001b[0m\u001b[0mmiriad\u001b[0m\u001b[0;34m(\u001b[0m\u001b[0;34m'maths'\u001b[0m\u001b[0;34m)\u001b[0m\u001b[0;34m\u001b[0m\u001b[0m\n",
      "\u001b[0;32m/home/adebahr/apercal/libs/lib.pyc\u001b[0m in \u001b[0;36mgo\u001b[0;34m(self, rmfiles)\u001b[0m\n\u001b[1;32m    337\u001b[0m         \u001b[0;32mif\u001b[0m \u001b[0mrmfiles\u001b[0m\u001b[0;34m:\u001b[0m\u001b[0;34m\u001b[0m\u001b[0m\n\u001b[1;32m    338\u001b[0m             \u001b[0mself\u001b[0m\u001b[0;34m.\u001b[0m\u001b[0mrmfiles\u001b[0m\u001b[0;34m(\u001b[0m\u001b[0;34m)\u001b[0m\u001b[0;34m\u001b[0m\u001b[0m\n\u001b[0;32m--> 339\u001b[0;31m         \u001b[0moutput\u001b[0m \u001b[0;34m=\u001b[0m \u001b[0mmasher\u001b[0m\u001b[0;34m(\u001b[0m\u001b[0;34m**\u001b[0m\u001b[0mself\u001b[0m\u001b[0;34m.\u001b[0m\u001b[0m__dict__\u001b[0m\u001b[0;34m)\u001b[0m\u001b[0;34m\u001b[0m\u001b[0m\n\u001b[0m\u001b[1;32m    340\u001b[0m \u001b[0;31m#        logger.info('Completed.')\u001b[0m\u001b[0;34m\u001b[0m\u001b[0;34m\u001b[0m\u001b[0m\n\u001b[1;32m    341\u001b[0m         \u001b[0;32mreturn\u001b[0m \u001b[0moutput\u001b[0m\u001b[0;34m\u001b[0m\u001b[0m\n",
      "\u001b[0;32m/home/adebahr/apercal/libs/lib.pyc\u001b[0m in \u001b[0;36mmasher\u001b[0;34m(task, **kwargs)\u001b[0m\n\u001b[1;32m    186\u001b[0m             \u001b[0mout\u001b[0m \u001b[0;34m=\u001b[0m \u001b[0mbasher\u001b[0m\u001b[0;34m(\u001b[0m\u001b[0mcmd\u001b[0m\u001b[0;34m,\u001b[0m \u001b[0mshowasinfo\u001b[0m\u001b[0;34m=\u001b[0m\u001b[0mTrue\u001b[0m\u001b[0;34m)\u001b[0m\u001b[0;34m\u001b[0m\u001b[0m\n\u001b[1;32m    187\u001b[0m         \u001b[0;32melse\u001b[0m\u001b[0;34m:\u001b[0m\u001b[0;34m\u001b[0m\u001b[0m\n\u001b[0;32m--> 188\u001b[0;31m             \u001b[0mout\u001b[0m \u001b[0;34m=\u001b[0m \u001b[0mbasher\u001b[0m\u001b[0;34m(\u001b[0m\u001b[0mcmd\u001b[0m\u001b[0;34m,\u001b[0m \u001b[0mshowasinfo\u001b[0m\u001b[0;34m=\u001b[0m\u001b[0mFalse\u001b[0m\u001b[0;34m)\u001b[0m\u001b[0;34m\u001b[0m\u001b[0m\n\u001b[0m\u001b[1;32m    189\u001b[0m         \u001b[0;32mreturn\u001b[0m \u001b[0mout\u001b[0m\u001b[0;34m\u001b[0m\u001b[0m\n\u001b[1;32m    190\u001b[0m     \u001b[0;32melse\u001b[0m\u001b[0;34m:\u001b[0m\u001b[0;34m\u001b[0m\u001b[0m\n",
      "\u001b[0;32m/home/adebahr/apercal/libs/lib.pyc\u001b[0m in \u001b[0;36mbasher\u001b[0;34m(cmd, showasinfo)\u001b[0m\n\u001b[1;32m    216\u001b[0m     proc = subprocess.Popen(cmd, stdout=subprocess.PIPE,\n\u001b[1;32m    217\u001b[0m             stderr = subprocess.PIPE, shell=True)\n\u001b[0;32m--> 218\u001b[0;31m     \u001b[0mout\u001b[0m\u001b[0;34m,\u001b[0m \u001b[0merr\u001b[0m \u001b[0;34m=\u001b[0m \u001b[0mproc\u001b[0m\u001b[0;34m.\u001b[0m\u001b[0mcommunicate\u001b[0m\u001b[0;34m(\u001b[0m\u001b[0;34m)\u001b[0m\u001b[0;34m\u001b[0m\u001b[0m\n\u001b[0m\u001b[1;32m    219\u001b[0m \u001b[0;34m\u001b[0m\u001b[0m\n\u001b[1;32m    220\u001b[0m     \u001b[0;32mif\u001b[0m \u001b[0mlen\u001b[0m\u001b[0;34m(\u001b[0m\u001b[0mout\u001b[0m\u001b[0;34m)\u001b[0m\u001b[0;34m>\u001b[0m\u001b[0;36m0\u001b[0m\u001b[0;34m:\u001b[0m\u001b[0;34m\u001b[0m\u001b[0m\n",
      "\u001b[0;32m/usr/lib/python2.7/subprocess.pyc\u001b[0m in \u001b[0;36mcommunicate\u001b[0;34m(self, input)\u001b[0m\n\u001b[1;32m    798\u001b[0m             \u001b[0;32mreturn\u001b[0m \u001b[0;34m(\u001b[0m\u001b[0mstdout\u001b[0m\u001b[0;34m,\u001b[0m \u001b[0mstderr\u001b[0m\u001b[0;34m)\u001b[0m\u001b[0;34m\u001b[0m\u001b[0m\n\u001b[1;32m    799\u001b[0m \u001b[0;34m\u001b[0m\u001b[0m\n\u001b[0;32m--> 800\u001b[0;31m         \u001b[0;32mreturn\u001b[0m \u001b[0mself\u001b[0m\u001b[0;34m.\u001b[0m\u001b[0m_communicate\u001b[0m\u001b[0;34m(\u001b[0m\u001b[0minput\u001b[0m\u001b[0;34m)\u001b[0m\u001b[0;34m\u001b[0m\u001b[0m\n\u001b[0m\u001b[1;32m    801\u001b[0m \u001b[0;34m\u001b[0m\u001b[0m\n\u001b[1;32m    802\u001b[0m \u001b[0;34m\u001b[0m\u001b[0m\n",
      "\u001b[0;32m/usr/lib/python2.7/subprocess.pyc\u001b[0m in \u001b[0;36m_communicate\u001b[0;34m(self, input)\u001b[0m\n\u001b[1;32m   1415\u001b[0m \u001b[0;34m\u001b[0m\u001b[0m\n\u001b[1;32m   1416\u001b[0m             \u001b[0;32mif\u001b[0m \u001b[0m_has_poll\u001b[0m\u001b[0;34m:\u001b[0m\u001b[0;34m\u001b[0m\u001b[0m\n\u001b[0;32m-> 1417\u001b[0;31m                 \u001b[0mstdout\u001b[0m\u001b[0;34m,\u001b[0m \u001b[0mstderr\u001b[0m \u001b[0;34m=\u001b[0m \u001b[0mself\u001b[0m\u001b[0;34m.\u001b[0m\u001b[0m_communicate_with_poll\u001b[0m\u001b[0;34m(\u001b[0m\u001b[0minput\u001b[0m\u001b[0;34m)\u001b[0m\u001b[0;34m\u001b[0m\u001b[0m\n\u001b[0m\u001b[1;32m   1418\u001b[0m             \u001b[0;32melse\u001b[0m\u001b[0;34m:\u001b[0m\u001b[0;34m\u001b[0m\u001b[0m\n\u001b[1;32m   1419\u001b[0m                 \u001b[0mstdout\u001b[0m\u001b[0;34m,\u001b[0m \u001b[0mstderr\u001b[0m \u001b[0;34m=\u001b[0m \u001b[0mself\u001b[0m\u001b[0;34m.\u001b[0m\u001b[0m_communicate_with_select\u001b[0m\u001b[0;34m(\u001b[0m\u001b[0minput\u001b[0m\u001b[0;34m)\u001b[0m\u001b[0;34m\u001b[0m\u001b[0m\n",
      "\u001b[0;32m/usr/lib/python2.7/subprocess.pyc\u001b[0m in \u001b[0;36m_communicate_with_poll\u001b[0;34m(self, input)\u001b[0m\n\u001b[1;32m   1469\u001b[0m             \u001b[0;32mwhile\u001b[0m \u001b[0mfd2file\u001b[0m\u001b[0;34m:\u001b[0m\u001b[0;34m\u001b[0m\u001b[0m\n\u001b[1;32m   1470\u001b[0m                 \u001b[0;32mtry\u001b[0m\u001b[0;34m:\u001b[0m\u001b[0;34m\u001b[0m\u001b[0m\n\u001b[0;32m-> 1471\u001b[0;31m                     \u001b[0mready\u001b[0m \u001b[0;34m=\u001b[0m \u001b[0mpoller\u001b[0m\u001b[0;34m.\u001b[0m\u001b[0mpoll\u001b[0m\u001b[0;34m(\u001b[0m\u001b[0;34m)\u001b[0m\u001b[0;34m\u001b[0m\u001b[0m\n\u001b[0m\u001b[1;32m   1472\u001b[0m                 \u001b[0;32mexcept\u001b[0m \u001b[0mselect\u001b[0m\u001b[0;34m.\u001b[0m\u001b[0merror\u001b[0m\u001b[0;34m,\u001b[0m \u001b[0me\u001b[0m\u001b[0;34m:\u001b[0m\u001b[0;34m\u001b[0m\u001b[0m\n\u001b[1;32m   1473\u001b[0m                     \u001b[0;32mif\u001b[0m \u001b[0me\u001b[0m\u001b[0;34m.\u001b[0m\u001b[0margs\u001b[0m\u001b[0;34m[\u001b[0m\u001b[0;36m0\u001b[0m\u001b[0;34m]\u001b[0m \u001b[0;34m==\u001b[0m \u001b[0merrno\u001b[0m\u001b[0;34m.\u001b[0m\u001b[0mEINTR\u001b[0m\u001b[0;34m:\u001b[0m\u001b[0;34m\u001b[0m\u001b[0m\n",
      "\u001b[0;31mKeyboardInterrupt\u001b[0m: "
     ],
     "output_type": "error"
    }
   ],
   "source": [
    "# The line module is using the originally converted MIRIAD data files, splits and compresses them to the desired channel bandwidth (parameters: line_splitdata_chunkbandwidth and line_splitdata_channelbandwidth)\n",
    "# Then it transfers the gains from the self calibration (line_transfergains) and applies them before subtracting the continuum model (line_subtract = True/line_subtract_mode = uvmodel)\n",
    "# Imaging of the line cube (line_image = True) is done with the same image size (line_image_imsize = 1025) and cell size (line_image_cellsize = 8) as for the continuum\n",
    "# We a robust weighting of -2 for the imaging (line_image_robust = -2) and clean channels where the ratio between the maximum and minimum pixel value is larger than 1.05 (line_image_ratio_limit = 1.05)\n",
    "# We only image the channel range between channel 9650 and 9800 (line_image_channels = 9650,9800) and all images are covolved to 45 arcseconds (line_image_convolbeam = 45,45,0.0)\n",
    "line.go()"
   ]
  },
  {
   "cell_type": "code",
   "execution_count": null,
   "metadata": {},
   "outputs": [],
   "source": [
    ""
   ]
  }
 ],
 "metadata": {
  "kernelspec": {
   "display_name": "Python 2",
   "language": "python",
   "name": "python2"
  },
  "language_info": {
   "codemirror_mode": {
    "name": "ipython",
    "version": 2.0
   },
   "file_extension": ".py",
   "mimetype": "text/x-python",
   "name": "python",
   "nbconvert_exporter": "python",
   "pygments_lexer": "ipython2",
   "version": "2.7.6"
  }
 },
 "nbformat": 4,
 "nbformat_minor": 0
}