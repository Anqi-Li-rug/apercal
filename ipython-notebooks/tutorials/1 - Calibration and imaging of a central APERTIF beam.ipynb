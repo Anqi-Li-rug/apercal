{
 "cells": [
  {
   "cell_type": "markdown",
   "metadata": {},
   "source": [
    "# Apercal tutorial 1: Calibration and imaging of a central APERTIF beam"
   ]
  },
  {
   "cell_type": "markdown",
   "metadata": {},
   "source": [
    "Now we want to actually use the pipeline to calibrate an APERTIF observation. Let's start the pipeline again as we did in the last tutorial. Remember that you need your `apercal` directory in your `$PYTHONPATH`\n"
   ]
  },
  {
   "cell_type": "code",
   "execution_count": null,
   "metadata": {},
   "outputs": [],
   "source": [
    "import os;\n",
    "myusername = os.environ['USER']\n",
    "if not ('PYTHONPATH' in os.environ and\n",
    "        '/home/' + myusername + '/apercal' in os.environ['PYTHONPATH']):\n",
    "      print(\"WARNING: your apercal directory should be in the $PYTHONPATH\")"
   ]
  },
  {
   "cell_type": "markdown",
   "metadata": {},
   "source": [
    "Enable Auto-completion, import the matplotlib backend for plotting and start the logger."
   ]
  },
  {
   "cell_type": "code",
   "execution_count": null,
   "metadata": {},
   "outputs": [],
   "source": [
    "%config IPCompleter.greedy=True\n",
    "%matplotlib notebook\n",
    "import libs.lib as lib\n",
    "lib.setup_logger('info', logfile='/home/{}/apercal/ipython-notebooks/tutorials/logs/1.log'.format(myusername))"
   ]
  },
  {
   "cell_type": "markdown",
   "metadata": {},
   "source": [
    "Then start apercal."
   ]
  },
  {
   "cell_type": "code",
   "execution_count": null,
   "metadata": {},
   "outputs": [],
   "source": [
    "import apercal"
   ]
  },
  {
   "cell_type": "markdown",
   "metadata": {},
   "source": [
    "Load the config file for the tutorial and look at it"
   ]
  },
  {
   "cell_type": "code",
   "execution_count": null,
   "metadata": {},
   "outputs": [],
   "source": [
    "prepare = apercal.prepare('/home/{}/apercal/ipython-notebooks/tutorials/cfg/1.cfg'.format(myusername))\n",
    "prepare.show(showall=True)"
   ]
  },
  {
   "cell_type": "markdown",
   "metadata": {},
   "source": [
    "As you might guess from the name of the dataset we will be working on an M51 dataset, which was observed a while ago. This observation used the APERTIF system with 135 MHz of bandwidth in single element mode. The parameter `prepare_obsmode=single_element` only copies the central element beam over and does not care about any other beams. This also means that you can use this parameter to reduce only the central element of a multi-element observation (in case you are not interested in the rest of the field) <br>\n",
    "Let the pipeline now create the needed directory structure in the given directory (parameter `basedir`) and copy over the datasets from the original directories (parameters `prepare_obsdir_fluxcal/polcal/target`)"
   ]
  },
  {
   "cell_type": "code",
   "execution_count": null,
   "metadata": {},
   "outputs": [],
   "source": [
    "prepare.go()"
   ]
  },
  {
   "cell_type": "markdown",
   "metadata": {},
   "source": [
    "You should now have a subdirectory in your `basedir + 00` (the number of the beam) + `raw` (the subdirectory for the raw datasets). To execute system tasks within the pipeline you can always import any python module you want and execute functions from them. <br>\n",
    "Let's look at the contents of the directory using the `listdir` function of the `os` module. <br>\n",
    "You can always access the current initial parameters by using the `module name + .[parameter]` (We will need that later to fix some issues with the dataset) "
   ]
  },
  {
   "cell_type": "code",
   "execution_count": null,
   "metadata": {},
   "outputs": [],
   "source": [
    "import os\n",
    "os.listdir(prepare.basedir + prepare.beam + '/' + prepare.rawsubdir)"
   ]
  },
  {
   "cell_type": "markdown",
   "metadata": {},
   "source": [
    "We now have two datasets in this subdirectory:\n",
    " - 3C147.MS (calibrator)\n",
    " - M51.MS (target) <br>\n",
    "\n",
    "Let's continue with the flagging step."
   ]
  },
  {
   "cell_type": "code",
   "execution_count": null,
   "metadata": {},
   "outputs": [],
   "source": [
    "preflag = apercal.preflag('/home/{}/apercal/ipython-notebooks/tutorials/cfg/1.cfg'.format(myusername))\n",
    "preflag.show()"
   ]
  },
  {
   "cell_type": "markdown",
   "metadata": {},
   "source": [
    "We will do manual flagging and after that use the aoflagger to automatically find RFI (parameters `preflag_manualflag=True` and `preflag_aoflagger=True`). Unfortunately, since we are using some CASA routines, it messes up the logger and crashes the pipeline, if we execute the whole module at once with `preflag.go()`. <br>\n",
    "To circumvent this we will execute the individual substeps one by one. For the manual flagging we will flag the auto-correlations (`preflag_manualflag_auto = True`) and flag for shadowing (`preflag_manualflag_shadow = True`)."
   ]
  },
  {
   "cell_type": "markdown",
   "metadata": {},
   "source": [
    "In addition we need to create a list of channels to flag the subband edges and the two channels affected by ghosts, which we then insert into the `preflag_manualflag_channel` parameter. The total number of channels is 11008."
   ]
  },
  {
   "cell_type": "code",
   "execution_count": null,
   "metadata": {},
   "outputs": [],
   "source": [
    "nchannel = 11008"
   ]
  },
  {
   "cell_type": "markdown",
   "metadata": {},
   "source": [
    "Then we need to make a list of channels which are affected, combine them into a list and convert to a string"
   ]
  },
  {
   "cell_type": "code",
   "execution_count": null,
   "metadata": {},
   "outputs": [],
   "source": [
    "a = range(0, nchannel, 64) # the subband edges\n",
    "b = range(1, nchannel, 64)\n",
    "c = range(63, nchannel, 64)\n",
    "d = range(16, nchannel, 64) # the two ghosts\n",
    "e = range(48, nchannel, 64)\n",
    "\n",
    "l = a + b + c + d + e\n",
    "preflag.preflag_manualflag_channel = ';'.join(str(ch) for ch in l)\n",
    "\n",
    "preflag.show()"
   ]
  },
  {
   "cell_type": "markdown",
   "metadata": {},
   "source": [
    "Now execute the `manualflag` substep."
   ]
  },
  {
   "cell_type": "code",
   "execution_count": null,
   "metadata": {},
   "outputs": [],
   "source": [
    "preflag.manualflag()"
   ]
  },
  {
   "cell_type": "markdown",
   "metadata": {},
   "source": [
    "We want to derive a bandpass and apply it to the data before we use aoflagger (`parameter preflag_aoflagger_bandpass = True`). This bandpass will not be used in later stages of the calibration process and helps aoflagger to distinguish between bandpass effects and real RFI better. There will be an error message at the end of the step which you can ignore."
   ]
  },
  {
   "cell_type": "code",
   "execution_count": null,
   "metadata": {},
   "outputs": [],
   "source": [
    "preflag.aoflagger_bandpass()"
   ]
  },
  {
   "cell_type": "markdown",
   "metadata": {},
   "source": [
    "Execute the aoflagger substep now."
   ]
  },
  {
   "cell_type": "code",
   "execution_count": null,
   "metadata": {},
   "outputs": [],
   "source": [
    "preflag.aoflagger_flag()"
   ]
  },
  {
   "cell_type": "code",
   "execution_count": null,
   "metadata": {},
   "outputs": [],
   "source": [
    "convert = apercal.convert('/home/{}/apercal/ipython-notebooks/tutorials/cfg/1.cfg'.format(myusername))\n",
    "convert.show()"
   ]
  },
  {
   "cell_type": "markdown",
   "metadata": {},
   "source": [
    "The convert step coverts the datasets from MS format to UVFITS format (`convert_ms2uvfits = True`) and then to MIRIAD format (`convert_uvfits2mir = True`). We do not want to carry the auto-correlations over (`convert_ms2uvfits_tool_casa_autocorr = False`). The converted datasets are saved in the crosscal subdirectory."
   ]
  },
  {
   "cell_type": "code",
   "execution_count": null,
   "metadata": {},
   "outputs": [],
   "source": [
    "convert.go()"
   ]
  },
  {
   "cell_type": "markdown",
   "metadata": {},
   "source": [
    "Since this is an old dataset (anything after 21.12.17 should be fine), we need to recompute the uv-coordinates. This can be done manually using the task `uvedit` in MIRIAD. We change the pointing centre by an infinitesimal amount (0.00001s) to force `uvedit` to recompute them."
   ]
  },
  {
   "cell_type": "markdown",
   "metadata": {},
   "source": [
    "Initialise the task."
   ]
  },
  {
   "cell_type": "code",
   "execution_count": null,
   "metadata": {},
   "outputs": [],
   "source": [
    "import os\n",
    "uvedit = lib.miriad('uvedit')"
   ]
  },
  {
   "cell_type": "markdown",
   "metadata": {},
   "source": [
    "Execute the task first the calibrator and the for the target."
   ]
  },
  {
   "cell_type": "code",
   "execution_count": null,
   "metadata": {},
   "outputs": [],
   "source": [
    "uvedit.vis = convert.crosscaldir + '/' + convert.fluxcal.rstrip('MS') + 'mir'\n",
    "uvedit.ra = 0.00001\n",
    "uvedit.out = convert.crosscaldir + '/' + convert.fluxcal.rstrip('.MS') + '_uvedit.mir'\n",
    "uvedit.go()\n",
    "\n",
    "uvedit.vis = convert.crosscaldir + '/' + convert.target.rstrip('MS') + 'mir'\n",
    "uvedit.ra = 0.00001\n",
    "uvedit.out = convert.crosscaldir + '/' + convert.target.rstrip('.MS') + '_uvedit.mir'\n",
    "uvedit.go()"
   ]
  },
  {
   "cell_type": "markdown",
   "metadata": {},
   "source": [
    "Remove the obsolete files from the directories"
   ]
  },
  {
   "cell_type": "code",
   "execution_count": null,
   "metadata": {},
   "outputs": [],
   "source": [
    "os.system('rm -rf ' + convert.crosscaldir + '/' + convert.fluxcal.rstrip('MS') + 'mir')\n",
    "os.system('rm -rf ' + convert.crosscaldir + '/' + convert.target.rstrip('MS') + 'mir')\n",
    "os.system('mv ' + convert.crosscaldir + '/' + convert.fluxcal.rstrip('.MS') + '_uvedit.mir ' + convert.crosscaldir + '/' + convert.fluxcal.rstrip('.MS') + '.mir')\n",
    "os.system('mv ' + convert.crosscaldir + '/' + convert.target.rstrip('.MS') + '_uvedit.mir ' + convert.crosscaldir + '/' + convert.target.rstrip('.MS') + '.mir')"
   ]
  },
  {
   "cell_type": "markdown",
   "metadata": {},
   "source": [
    "Since this is an old dataset (anything after 21.12.17 should be fine), we need to flip the phases. This can be done, in the same manner as before, using the task `uvrot` in MIRIAD."
   ]
  },
  {
   "cell_type": "code",
   "execution_count": null,
   "metadata": {},
   "outputs": [],
   "source": [
    "import os\n",
    "\n",
    "uvrot = lib.miriad('uvrot')\n",
    "\n",
    "uvrot.vis = convert.crosscaldir + '/' + convert.fluxcal.rstrip('.MS') + '.mir'\n",
    "uvrot.angle = 180\n",
    "uvrot.out = convert.crosscaldir + '/' + convert.fluxcal.rstrip('.MS') + '_uvrot.mir'\n",
    "uvrot.go()\n",
    "\n",
    "uvrot.vis = convert.crosscaldir + '/' + convert.target.rstrip('.MS') + '.mir'\n",
    "uvrot.angle = 180\n",
    "uvrot.out = convert.crosscaldir + '/' + convert.target.rstrip('.MS') + '_uvrot.mir'\n",
    "uvrot.go()\n",
    "\n",
    "os.system('rm -rf ' + convert.crosscaldir + '/' + convert.fluxcal.rstrip('MS') + 'mir')\n",
    "os.system('rm -rf ' + convert.crosscaldir + '/' + convert.target.rstrip('MS') + 'mir')\n",
    "os.system('mv ' + convert.crosscaldir + '/' + convert.fluxcal.rstrip('.MS') + '_uvrot.mir ' + convert.crosscaldir + '/' + convert.fluxcal.rstrip('.MS') + '.mir')\n",
    "os.system('mv ' + convert.crosscaldir + '/' + convert.target.rstrip('.MS') + '_uvrot.mir ' + convert.crosscaldir + '/' + convert.target.rstrip('.MS') + '.mir')"
   ]
  },
  {
   "cell_type": "code",
   "execution_count": null,
   "metadata": {},
   "outputs": [],
   "source": [
    "ccal = apercal.ccal('/home/{}/apercal/ipython-notebooks/tutorials/cfg/1.cfg'.format(myusername))\n",
    "ccal.show()"
   ]
  },
  {
   "cell_type": "markdown",
   "metadata": {},
   "source": [
    "Crosscal derives the gains and bandpass (`crosscal_bandpass = True`) from the calibrator and applies them to the target field (`crosscal_transfer_to_target = True`). We also want to solve for the delays. This will work better for recent datasets (since we have the cable delay compensation in place), but still might need to be done (the delay compensation can only be sampled in increments of 5ns)."
   ]
  },
  {
   "cell_type": "code",
   "execution_count": null,
   "metadata": {},
   "outputs": [],
   "source": [
    "ccal.go()"
   ]
  },
  {
   "cell_type": "code",
   "execution_count": null,
   "metadata": {},
   "outputs": [],
   "source": [
    "scal = apercal.scal('/home/{}/apercal/ipython-notebooks/tutorials/cfg/1.cfg'.format(myusername))\n",
    "scal.show()"
   ]
  },
  {
   "cell_type": "markdown",
   "metadata": {},
   "source": [
    "For the self-calibration we are using an image size of 1025 pixels (`selfcal_image_imsize = 1025`) with a cell size of 8 arcseconds (`selfcal_image_cellsize = 8`). We split the data (`selfcal_splitdata = True`) in chunks of 0.02 GHz (`selfcal_splitdata_chunkbandwidth = 0.02`) and average to a channel bandwidth of 0.001 GHz (`selfcal_splitdata_channelbandwidth = 0.001`). The algorithm will split the observed band uniformly between the chunks. The used chunk and chanel bandwidth will therefore be close but not exactly the given ones. <br>\n",
    "We do not do any parametric self-calibration (`selfcal_parametric = False`) since our observed target field is dominated by diffuse emission. We use 3 majorcycles (`selfcal_standard_majorcycle = 3`) with 5 minorcycles each (`selfcal_standard_minorcycle = 5`). Both types of cycles use a square function in calculate the maximum increment in dynamic range between the cycles (`selfcal_standard_majorcycle_function = square/selfcal_standard_minorcycle_function = square`). <br>\n",
    "We use the complete uv-range for every cycle (`selfcal_standard_uvmin = [0.0, 0.0, 0.0]/selfcal_standard_uvmax = [3000, 3000, 3000]`) and solution intervals of 5,3, and 0.5 minutes for the three major cycles (`selfcal_standard_solint = [5, 3, 0.5]`).\n",
    "We do not use any amplitude calibration (`selfcal_standard_amp = False`). You can experiment with options `True` (always use amplitude calibration) or `'auto'` (use amplitude calibration if the clean components reach a flux of selfcal_standard_amp_auto_limit Jy). <br>\n",
    "Only one solution is used for each individual chunk (`selfcal_standard_nfbin = 1`)."
   ]
  },
  {
   "cell_type": "code",
   "execution_count": null,
   "metadata": {},
   "outputs": [],
   "source": [
    "scal.go()"
   ]
  },
  {
   "cell_type": "markdown",
   "metadata": {},
   "source": [
    "All frequency chunks were calibrated and it is now time to create a final continuum image."
   ]
  },
  {
   "cell_type": "code",
   "execution_count": null,
   "metadata": {},
   "outputs": [],
   "source": [
    "continuum = apercal.continuum('/home/{}/apercal/ipython-notebooks/tutorials/cfg/1.cfg'.format(myusername))\n",
    "continuum.show()"
   ]
  },
  {
   "cell_type": "markdown",
   "metadata": {},
   "source": [
    "We are going to use the same image size and cellsize as for the self-calibration (`continuum_image_imsize = 1025/continuum_image_cellsize = 8`). Since we are stacking all the final images of the individual chunks in the end (`continuum_mode = stack`) we want to convolve with a commen beam (`continuum_image_convolbeam = 45,45,0.0`). We use the same paramaters as for the self-calibration for the final cleaning procedure."
   ]
  },
  {
   "cell_type": "code",
   "execution_count": null,
   "metadata": {},
   "outputs": [],
   "source": [
    "continuum.go()"
   ]
  },
  {
   "cell_type": "markdown",
   "metadata": {},
   "source": [
    "Since the deep continuum images are ready now, we can use this model to subtract the continuum and image the line channels. In case of a non-existent continuum model from the continuum step, the line module would automatically image the continuum beforehand and use it for subtraction."
   ]
  },
  {
   "cell_type": "code",
   "execution_count": null,
   "metadata": {},
   "outputs": [],
   "source": [
    "line = apercal.line('/home/{}/apercal/ipython-notebooks/tutorials/cfg/1.cfg'.format(myusername))\n",
    "line.show()"
   ]
  },
  {
   "cell_type": "markdown",
   "metadata": {},
   "source": [
    "The line module is using the originally converted MIRIAD data files, splits and compresses them to the desired channel bandwidth (parameters: `line_splitdata_chunkbandwidth` and `line_splitdata_channelbandwidth`). Then it transfers the gains from the self calibration (`line_transfergains`) and applies them before subtracting the continuum model (`line_subtract = True/line_subtract_mode = uvmodel`).\n",
    "Imaging of the line cube (`line_image = True`) is done with the same image size (`line_image_imsize = 1025`) and cell size (`line_image_cellsize = 8`) as for the continuum.\n",
    "We use a robust weighting of -2 for the imaging (`line_image_robust = -2`) and clean channels where the ratio between the maximum and minimum pixel value is larger than 1.05 (`line_image_ratio_limit = 1.05`).\n",
    "We only image the channel range between channel 9650 and 9800 (`line_image_channels = 9650,9800`) and all images are covolved to 45 arcseconds (`line_image_convolbeam = 45,45,0.0`)."
   ]
  },
  {
   "cell_type": "code",
   "execution_count": null,
   "metadata": {},
   "outputs": [],
   "source": [
    "line.go()"
   ]
  }
 ],
 "metadata": {
  "kernelspec": {
   "display_name": "Python 2",
   "language": "python",
   "name": "python2"
  },
  "language_info": {
   "codemirror_mode": {
    "name": "ipython",
    "version": 2
   },
   "file_extension": ".py",
   "mimetype": "text/x-python",
   "name": "python",
   "nbconvert_exporter": "python",
   "pygments_lexer": "ipython2",
   "version": "2.7.12"
  }
 },
 "nbformat": 4,
 "nbformat_minor": 1
}
