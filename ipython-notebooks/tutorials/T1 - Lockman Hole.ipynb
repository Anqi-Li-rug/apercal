{
 "cells": [
  {
   "cell_type": "code",
   "execution_count": 1,
   "metadata": {
    "collapsed": true
   },
   "outputs": [
    {
     "name": "stderr",
     "output_type": "stream",
     "text": [
      "root - INFO : Logging started!\n"
     ]
    },
    {
     "name": "stderr",
     "output_type": "stream",
     "text": [
      "root - INFO : To see the log in a bash window use the following command:\n"
     ]
    },
    {
     "name": "stderr",
     "output_type": "stream",
     "text": [
      "root - INFO : tail -n +1 -f /home/adebahr/apercal/ipython-notebooks/tutorials/logs/T1.log\n"
     ]
    },
    {
     "name": "stdout",
     "output_type": "stream",
     "text": [
      "Setup logger with lib.setup_logger()\n"
     ]
    }
   ],
   "source": [
    "# Let's start the pipeline again as in the last tutorial.\n",
    "%config IPCompleter.greedy=True\n",
    "import lib\n",
    "lib.setup_logger('info', logfile='/home/adebahr/apercal/ipython-notebooks/tutorials/logs/T1.log')\n",
    "import apercal"
   ]
  },
  {
   "cell_type": "code",
   "execution_count": 7,
   "metadata": {},
   "outputs": [
    {
     "name": "stderr",
     "output_type": "stream",
     "text": [
      "SELFCAL - INFO : ### Configuration file /home/adebahr/apercal/ipython-notebooks/tutorials/cfg/T1.cfg successfully read! ###\n"
     ]
    },
    {
     "name": "stderr",
     "output_type": "stream",
     "text": [
      "SELFCAL - WARNING : ### Deleting all self-calibrated data. ###\n"
     ]
    },
    {
     "name": "stderr",
     "output_type": "stream",
     "text": [
      "SELFCAL - INFO : # Moved to directory /data/adebahr/apertif/tutorial/T1/B01/selfcal #\n"
     ]
    }
   ],
   "source": [
    "scal = apercal.scal('/home/adebahr/apercal/ipython-notebooks/tutorials/cfg/T1.cfg')\n",
    "scal.reset()"
   ]
  },
  {
   "cell_type": "code",
   "execution_count": 8,
   "metadata": {},
   "outputs": [
    {
     "name": "stderr",
     "output_type": "stream",
     "text": [
      "SELFCAL - INFO : ########## Starting SELF CALIBRATION ##########\n"
     ]
    },
    {
     "name": "stderr",
     "output_type": "stream",
     "text": [
      "SELFCAL - INFO : ### Splitting of target data into individual freqeuncy chunks started ###\n"
     ]
    },
    {
     "name": "stderr",
     "output_type": "stream",
     "text": [
      "SELFCAL - INFO : # Applying calibrator solutions to target data before averaging #\n"
     ]
    },
    {
     "name": "stderr",
     "output_type": "stream",
     "text": [
      "SELFCAL - INFO : # Calibrator solutions to target data applied #\n"
     ]
    },
    {
     "name": "stderr",
     "output_type": "stream",
     "text": [
      "SELFCAL - INFO : # Found 8 subband(s) in target data #\n"
     ]
    },
    {
     "name": "stderr",
     "output_type": "stream",
     "text": [
      "SELFCAL - INFO : # Started splitting of subband 0 #\n"
     ]
    },
    {
     "name": "stderr",
     "output_type": "stream",
     "text": [
      "SELFCAL - INFO : # Adjusting chunk size to 0.019999999553 GHz for regular gridding of the data chunks over frequency #\n"
     ]
    },
    {
     "name": "stderr",
     "output_type": "stream",
     "text": [
      "SELFCAL - INFO : # Starting splitting of data chunk 0 for subband 0 #\n"
     ]
    },
    {
     "name": "stderr",
     "output_type": "stream",
     "text": [
      "SELFCAL - INFO : # Increasing frequency bin of data chunk 0 to keep bandwidth of chunks equal over the whole bandwidth #\n"
     ]
    },
    {
     "name": "stderr",
     "output_type": "stream",
     "text": [
      "SELFCAL - INFO : # New frequency bin is 0.00124999997206 GHz #\n"
     ]
    },
    {
     "name": "stderr",
     "output_type": "stream",
     "text": [
      "SELFCAL - INFO : # Creating directory /data/adebahr/apertif/tutorial/T1/B01/selfcal/00 #\n"
     ]
    },
    {
     "name": "stderr",
     "output_type": "stream",
     "text": [
      "SELFCAL - INFO : # Splitting of data chunk 0 for subband 0 done #\n"
     ]
    },
    {
     "name": "stderr",
     "output_type": "stream",
     "text": [
      "SELFCAL - INFO : # Splitting of data for subband 0 done #\n"
     ]
    },
    {
     "name": "stderr",
     "output_type": "stream",
     "text": [
      "SELFCAL - INFO : # Started splitting of subband 1 #\n"
     ]
    },
    {
     "name": "stderr",
     "output_type": "stream",
     "text": [
      "SELFCAL - INFO : # Adjusting chunk size to 0.019999999553 GHz for regular gridding of the data chunks over frequency #\n"
     ]
    },
    {
     "name": "stderr",
     "output_type": "stream",
     "text": [
      "SELFCAL - INFO : # Starting splitting of data chunk 0 for subband 1 #\n"
     ]
    },
    {
     "name": "stderr",
     "output_type": "stream",
     "text": [
      "SELFCAL - INFO : # Increasing frequency bin of data chunk 0 to keep bandwidth of chunks equal over the whole bandwidth #\n"
     ]
    },
    {
     "name": "stderr",
     "output_type": "stream",
     "text": [
      "SELFCAL - INFO : # New frequency bin is 0.00124999997206 GHz #\n"
     ]
    },
    {
     "name": "stderr",
     "output_type": "stream",
     "text": [
      "SELFCAL - INFO : # Creating directory /data/adebahr/apertif/tutorial/T1/B01/selfcal/01 #\n"
     ]
    },
    {
     "name": "stderr",
     "output_type": "stream",
     "text": [
      "SELFCAL - INFO : # Splitting of data chunk 0 for subband 1 done #\n"
     ]
    },
    {
     "name": "stderr",
     "output_type": "stream",
     "text": [
      "SELFCAL - INFO : # Splitting of data for subband 1 done #\n"
     ]
    },
    {
     "name": "stderr",
     "output_type": "stream",
     "text": [
      "SELFCAL - INFO : # Started splitting of subband 2 #\n"
     ]
    },
    {
     "name": "stderr",
     "output_type": "stream",
     "text": [
      "SELFCAL - INFO : # Adjusting chunk size to 0.019999999553 GHz for regular gridding of the data chunks over frequency #\n"
     ]
    },
    {
     "name": "stderr",
     "output_type": "stream",
     "text": [
      "SELFCAL - INFO : # Starting splitting of data chunk 0 for subband 2 #\n"
     ]
    },
    {
     "name": "stderr",
     "output_type": "stream",
     "text": [
      "SELFCAL - INFO : # Increasing frequency bin of data chunk 0 to keep bandwidth of chunks equal over the whole bandwidth #\n"
     ]
    },
    {
     "name": "stderr",
     "output_type": "stream",
     "text": [
      "SELFCAL - INFO : # New frequency bin is 0.00124999997206 GHz #\n"
     ]
    },
    {
     "name": "stderr",
     "output_type": "stream",
     "text": [
      "SELFCAL - INFO : # Creating directory /data/adebahr/apertif/tutorial/T1/B01/selfcal/02 #\n"
     ]
    },
    {
     "name": "stderr",
     "output_type": "stream",
     "text": [
      "SELFCAL - INFO : # Splitting of data chunk 0 for subband 2 done #\n"
     ]
    },
    {
     "name": "stderr",
     "output_type": "stream",
     "text": [
      "SELFCAL - INFO : # Splitting of data for subband 2 done #\n"
     ]
    },
    {
     "name": "stderr",
     "output_type": "stream",
     "text": [
      "SELFCAL - INFO : # Started splitting of subband 3 #\n"
     ]
    },
    {
     "name": "stderr",
     "output_type": "stream",
     "text": [
      "SELFCAL - INFO : # Adjusting chunk size to 0.019999999553 GHz for regular gridding of the data chunks over frequency #\n"
     ]
    },
    {
     "name": "stderr",
     "output_type": "stream",
     "text": [
      "SELFCAL - INFO : # Starting splitting of data chunk 0 for subband 3 #\n"
     ]
    },
    {
     "name": "stderr",
     "output_type": "stream",
     "text": [
      "SELFCAL - INFO : # Increasing frequency bin of data chunk 0 to keep bandwidth of chunks equal over the whole bandwidth #\n"
     ]
    },
    {
     "name": "stderr",
     "output_type": "stream",
     "text": [
      "SELFCAL - INFO : # New frequency bin is 0.00124999997206 GHz #\n"
     ]
    },
    {
     "name": "stderr",
     "output_type": "stream",
     "text": [
      "SELFCAL - INFO : # Creating directory /data/adebahr/apertif/tutorial/T1/B01/selfcal/03 #\n"
     ]
    },
    {
     "name": "stderr",
     "output_type": "stream",
     "text": [
      "SELFCAL - INFO : # Splitting of data chunk 0 for subband 3 done #\n"
     ]
    },
    {
     "name": "stderr",
     "output_type": "stream",
     "text": [
      "SELFCAL - INFO : # Splitting of data for subband 3 done #\n"
     ]
    },
    {
     "name": "stderr",
     "output_type": "stream",
     "text": [
      "SELFCAL - INFO : # Started splitting of subband 4 #\n"
     ]
    },
    {
     "name": "stderr",
     "output_type": "stream",
     "text": [
      "SELFCAL - INFO : # Adjusting chunk size to 0.019999999553 GHz for regular gridding of the data chunks over frequency #\n"
     ]
    },
    {
     "name": "stderr",
     "output_type": "stream",
     "text": [
      "SELFCAL - INFO : # Starting splitting of data chunk 0 for subband 4 #\n"
     ]
    },
    {
     "name": "stderr",
     "output_type": "stream",
     "text": [
      "SELFCAL - INFO : # Increasing frequency bin of data chunk 0 to keep bandwidth of chunks equal over the whole bandwidth #\n"
     ]
    },
    {
     "name": "stderr",
     "output_type": "stream",
     "text": [
      "SELFCAL - INFO : # New frequency bin is 0.00124999997206 GHz #\n"
     ]
    },
    {
     "name": "stderr",
     "output_type": "stream",
     "text": [
      "SELFCAL - INFO : # Creating directory /data/adebahr/apertif/tutorial/T1/B01/selfcal/04 #\n"
     ]
    },
    {
     "name": "stderr",
     "output_type": "stream",
     "text": [
      "SELFCAL - INFO : # Splitting of data chunk 0 for subband 4 done #\n"
     ]
    },
    {
     "name": "stderr",
     "output_type": "stream",
     "text": [
      "SELFCAL - INFO : # Splitting of data for subband 4 done #\n"
     ]
    },
    {
     "name": "stderr",
     "output_type": "stream",
     "text": [
      "SELFCAL - INFO : # Started splitting of subband 5 #\n"
     ]
    },
    {
     "name": "stderr",
     "output_type": "stream",
     "text": [
      "SELFCAL - INFO : # Adjusting chunk size to 0.019999999553 GHz for regular gridding of the data chunks over frequency #\n"
     ]
    },
    {
     "name": "stderr",
     "output_type": "stream",
     "text": [
      "SELFCAL - INFO : # Starting splitting of data chunk 0 for subband 5 #\n"
     ]
    },
    {
     "name": "stderr",
     "output_type": "stream",
     "text": [
      "SELFCAL - INFO : # Increasing frequency bin of data chunk 0 to keep bandwidth of chunks equal over the whole bandwidth #\n"
     ]
    },
    {
     "name": "stderr",
     "output_type": "stream",
     "text": [
      "SELFCAL - INFO : # New frequency bin is 0.00124999997206 GHz #\n"
     ]
    },
    {
     "name": "stderr",
     "output_type": "stream",
     "text": [
      "SELFCAL - INFO : # Creating directory /data/adebahr/apertif/tutorial/T1/B01/selfcal/05 #\n"
     ]
    },
    {
     "name": "stderr",
     "output_type": "stream",
     "text": [
      "SELFCAL - INFO : # Splitting of data chunk 0 for subband 5 done #\n"
     ]
    },
    {
     "name": "stderr",
     "output_type": "stream",
     "text": [
      "SELFCAL - INFO : # Splitting of data for subband 5 done #\n"
     ]
    },
    {
     "name": "stderr",
     "output_type": "stream",
     "text": [
      "SELFCAL - INFO : # Started splitting of subband 6 #\n"
     ]
    },
    {
     "name": "stderr",
     "output_type": "stream",
     "text": [
      "SELFCAL - INFO : # Adjusting chunk size to 0.019999999553 GHz for regular gridding of the data chunks over frequency #\n"
     ]
    },
    {
     "name": "stderr",
     "output_type": "stream",
     "text": [
      "SELFCAL - INFO : # Starting splitting of data chunk 0 for subband 6 #\n"
     ]
    },
    {
     "name": "stderr",
     "output_type": "stream",
     "text": [
      "SELFCAL - INFO : # Increasing frequency bin of data chunk 0 to keep bandwidth of chunks equal over the whole bandwidth #\n"
     ]
    },
    {
     "name": "stderr",
     "output_type": "stream",
     "text": [
      "SELFCAL - INFO : # New frequency bin is 0.00124999997206 GHz #\n"
     ]
    },
    {
     "name": "stderr",
     "output_type": "stream",
     "text": [
      "SELFCAL - INFO : # Creating directory /data/adebahr/apertif/tutorial/T1/B01/selfcal/06 #\n"
     ]
    },
    {
     "name": "stderr",
     "output_type": "stream",
     "text": [
      "SELFCAL - INFO : # Splitting of data chunk 0 for subband 6 done #\n"
     ]
    },
    {
     "name": "stderr",
     "output_type": "stream",
     "text": [
      "SELFCAL - INFO : # Splitting of data for subband 6 done #\n"
     ]
    },
    {
     "name": "stderr",
     "output_type": "stream",
     "text": [
      "SELFCAL - INFO : # Started splitting of subband 7 #\n"
     ]
    },
    {
     "name": "stderr",
     "output_type": "stream",
     "text": [
      "SELFCAL - INFO : # Adjusting chunk size to 0.019999999553 GHz for regular gridding of the data chunks over frequency #\n"
     ]
    },
    {
     "name": "stderr",
     "output_type": "stream",
     "text": [
      "SELFCAL - INFO : # Starting splitting of data chunk 0 for subband 7 #\n"
     ]
    },
    {
     "name": "stderr",
     "output_type": "stream",
     "text": [
      "SELFCAL - INFO : # Increasing frequency bin of data chunk 0 to keep bandwidth of chunks equal over the whole bandwidth #\n"
     ]
    },
    {
     "name": "stderr",
     "output_type": "stream",
     "text": [
      "SELFCAL - INFO : # New frequency bin is 0.00124999997206 GHz #\n"
     ]
    },
    {
     "name": "stderr",
     "output_type": "stream",
     "text": [
      "SELFCAL - INFO : # Creating directory /data/adebahr/apertif/tutorial/T1/B01/selfcal/07 #\n"
     ]
    },
    {
     "name": "stderr",
     "output_type": "stream",
     "text": [
      "SELFCAL - INFO : # Splitting of data chunk 0 for subband 7 done #\n"
     ]
    },
    {
     "name": "stderr",
     "output_type": "stream",
     "text": [
      "SELFCAL - INFO : # Splitting of data for subband 7 done #\n"
     ]
    },
    {
     "name": "stderr",
     "output_type": "stream",
     "text": [
      "SELFCAL - INFO : ### Splitting of target data into individual frequency chunks done ###\n"
     ]
    },
    {
     "name": "stderr",
     "output_type": "stream",
     "text": [
      "SELFCAL - INFO : ### Automatic flagging of HI-line/RFI started ###\n"
     ]
    },
    {
     "name": "stderr",
     "output_type": "stream",
     "text": [
      "SELFCAL - INFO : # Moved to directory /data/adebahr/apertif/tutorial/T1/B01/selfcal/00 #\n"
     ]
    },
    {
     "name": "stderr",
     "output_type": "stream",
     "text": [
      "SELFCAL - INFO : # Looking through data chunk 00 #\n"
     ]
    },
    {
     "name": "stderr",
     "output_type": "stream",
     "text": [
      "SELFCAL - INFO : # No high noise found in data chunk 00 #\n"
     ]
    },
    {
     "name": "stderr",
     "output_type": "stream",
     "text": [
      "SELFCAL - INFO : # Moved to directory /data/adebahr/apertif/tutorial/T1/B01/selfcal/01 #\n"
     ]
    },
    {
     "name": "stderr",
     "output_type": "stream",
     "text": [
      "SELFCAL - INFO : # Looking through data chunk 01 #\n"
     ]
    },
    {
     "name": "stderr",
     "output_type": "stream",
     "text": [
      "SELFCAL - INFO : # No high noise found in data chunk 01 #\n"
     ]
    },
    {
     "name": "stderr",
     "output_type": "stream",
     "text": [
      "SELFCAL - INFO : # Moved to directory /data/adebahr/apertif/tutorial/T1/B01/selfcal/02 #\n"
     ]
    },
    {
     "name": "stderr",
     "output_type": "stream",
     "text": [
      "SELFCAL - INFO : # Looking through data chunk 02 #\n"
     ]
    },
    {
     "name": "stderr",
     "output_type": "stream",
     "text": [
      "SELFCAL - INFO : # No high noise found in data chunk 02 #\n"
     ]
    },
    {
     "name": "stderr",
     "output_type": "stream",
     "text": [
      "SELFCAL - INFO : # Moved to directory /data/adebahr/apertif/tutorial/T1/B01/selfcal/03 #\n"
     ]
    },
    {
     "name": "stderr",
     "output_type": "stream",
     "text": [
      "SELFCAL - INFO : # Looking through data chunk 03 #\n"
     ]
    },
    {
     "name": "stderr",
     "output_type": "stream",
     "text": [
      "SELFCAL - INFO : # No high noise found in data chunk 03 #\n"
     ]
    },
    {
     "name": "stderr",
     "output_type": "stream",
     "text": [
      "SELFCAL - INFO : # Moved to directory /data/adebahr/apertif/tutorial/T1/B01/selfcal/04 #\n"
     ]
    },
    {
     "name": "stderr",
     "output_type": "stream",
     "text": [
      "SELFCAL - INFO : # Looking through data chunk 04 #\n"
     ]
    },
    {
     "name": "stderr",
     "output_type": "stream",
     "text": [
      "SELFCAL - INFO : # No high noise found in data chunk 04 #\n"
     ]
    },
    {
     "name": "stderr",
     "output_type": "stream",
     "text": [
      "SELFCAL - INFO : # Moved to directory /data/adebahr/apertif/tutorial/T1/B01/selfcal/05 #\n"
     ]
    },
    {
     "name": "stderr",
     "output_type": "stream",
     "text": [
      "SELFCAL - INFO : # Looking through data chunk 05 #\n"
     ]
    },
    {
     "name": "stderr",
     "output_type": "stream",
     "text": [
      "SELFCAL - INFO : # No high noise found in data chunk 05 #\n"
     ]
    },
    {
     "name": "stderr",
     "output_type": "stream",
     "text": [
      "SELFCAL - INFO : # Moved to directory /data/adebahr/apertif/tutorial/T1/B01/selfcal/06 #\n"
     ]
    },
    {
     "name": "stderr",
     "output_type": "stream",
     "text": [
      "SELFCAL - INFO : # Looking through data chunk 06 #\n"
     ]
    },
    {
     "name": "stderr",
     "output_type": "stream",
     "text": [
      "SELFCAL - INFO : # No high noise found in data chunk 06 #\n"
     ]
    },
    {
     "name": "stderr",
     "output_type": "stream",
     "text": [
      "SELFCAL - INFO : # Moved to directory /data/adebahr/apertif/tutorial/T1/B01/selfcal/07 #\n"
     ]
    },
    {
     "name": "stderr",
     "output_type": "stream",
     "text": [
      "SELFCAL - INFO : # Looking through data chunk 07 #\n"
     ]
    },
    {
     "name": "stderr",
     "output_type": "stream",
     "text": [
      "SELFCAL - INFO : # No high noise found in data chunk 07 #\n"
     ]
    },
    {
     "name": "stderr",
     "output_type": "stream",
     "text": [
      "SELFCAL - INFO : ### Automatic flagging of HI-line/RFI done ###\n"
     ]
    },
    {
     "name": "stderr",
     "output_type": "stream",
     "text": [
      "SELFCAL - INFO : ### Doing parametric self calibration ###\n"
     ]
    },
    {
     "name": "stderr",
     "output_type": "stream",
     "text": [
      "SELFCAL - INFO : # Moved to directory /data/adebahr/apertif/tutorial/T1/B01/selfcal #\n"
     ]
    },
    {
     "name": "stderr",
     "output_type": "stream",
     "text": [
      "SELFCAL - INFO : # Starting parametric self calibration routine on chunk 00 #\n"
     ]
    },
    {
     "name": "stderr",
     "output_type": "stream",
     "text": [
      "SELFCAL - INFO : # Moved to directory /data/adebahr/apertif/tutorial/T1/B01/selfcal/00 #\n"
     ]
    },
    {
     "name": "stderr",
     "output_type": "stream",
     "text": [
      "SELFCAL - INFO : # Creating directory /data/adebahr/apertif/tutorial/T1/B01/selfcal/00/pm #\n"
     ]
    },
    {
     "name": "stderr",
     "output_type": "stream",
     "text": [
      "root - INFO : ### Found 39 source(s) with no counterparts. Setting their spectral index to -0.7 ###\n"
     ]
    },
    {
     "name": "stderr",
     "output_type": "stream",
     "text": [
      "root - INFO : ### Found 9 source(s) with 1 counterpart(s) ###\n"
     ]
    },
    {
     "name": "stderr",
     "output_type": "stream",
     "text": [
      "root - INFO : ### Found 3 source(s) with 2 counterpart(s) ###\n"
     ]
    },
    {
     "name": "stderr",
     "output_type": "stream",
     "text": [
      "root - INFO : ### Found 1 source(s) with 3 counterpart(s) ###\n"
     ]
    },
    {
     "name": "stderr",
     "output_type": "stream",
     "text": [
      "root - INFO : ### Using standard WSRT beam for calculating apparent fluxes! ###\n"
     ]
    },
    {
     "name": "stderr",
     "output_type": "stream",
     "text": [
      "root - INFO : ### Field seems to have a flux of 0.369051778917 Jy ###\n"
     ]
    },
    {
     "name": "stderr",
     "output_type": "stream",
     "text": [
      "root - INFO : ### Found 10 source(s) in the model at a cutoff of 80.0 percent with a total flux of 0.301926316218 Jy ###\n"
     ]
    },
    {
     "name": "stderr",
     "output_type": "stream",
     "text": [
      "root - INFO : ### Wrote source textfile to /data/adebahr/apertif/tutorial/T1/B01/selfcal/00/pm/model.txt! ###\n"
     ]
    },
    {
     "name": "stderr",
     "output_type": "stream",
     "text": [
      "SELFCAL - INFO : # Creating model from textfile model.txt for chunk 00 #\n"
     ]
    },
    {
     "name": "stderr",
     "output_type": "stream",
     "text": [
      "SELFCAL - INFO : # Doing parametric self-calibration on chunk 00 with solution interval 10 min and uvrange limits of 0.5~1000 klambda #\n"
     ]
    },
    {
     "name": "stderr",
     "output_type": "stream",
     "text": [
      "SELFCAL - INFO : # Parametric self calibration routine on chunk 00 done! #\n"
     ]
    },
    {
     "name": "stderr",
     "output_type": "stream",
     "text": [
      "SELFCAL - INFO : # Starting parametric self calibration routine on chunk 01 #\n"
     ]
    },
    {
     "name": "stderr",
     "output_type": "stream",
     "text": [
      "SELFCAL - INFO : # Moved to directory /data/adebahr/apertif/tutorial/T1/B01/selfcal/01 #\n"
     ]
    },
    {
     "name": "stderr",
     "output_type": "stream",
     "text": [
      "SELFCAL - INFO : # Creating directory /data/adebahr/apertif/tutorial/T1/B01/selfcal/01/pm #\n"
     ]
    },
    {
     "name": "stderr",
     "output_type": "stream",
     "text": [
      "root - INFO : ### Found 39 source(s) with no counterparts. Setting their spectral index to -0.7 ###\n"
     ]
    },
    {
     "name": "stderr",
     "output_type": "stream",
     "text": [
      "root - INFO : ### Found 9 source(s) with 1 counterpart(s) ###\n"
     ]
    },
    {
     "name": "stderr",
     "output_type": "stream",
     "text": [
      "root - INFO : ### Found 3 source(s) with 2 counterpart(s) ###\n"
     ]
    },
    {
     "name": "stderr",
     "output_type": "stream",
     "text": [
      "root - INFO : ### Found 1 source(s) with 3 counterpart(s) ###\n"
     ]
    },
    {
     "name": "stderr",
     "output_type": "stream",
     "text": [
      "root - INFO : ### Using standard WSRT beam for calculating apparent fluxes! ###\n"
     ]
    },
    {
     "name": "stderr",
     "output_type": "stream",
     "text": [
      "root - INFO : ### Field seems to have a flux of 0.377826620339 Jy ###\n"
     ]
    },
    {
     "name": "stderr",
     "output_type": "stream",
     "text": [
      "root - INFO : ### Found 10 source(s) in the model at a cutoff of 80.0 percent with a total flux of 0.30932710768 Jy ###\n"
     ]
    },
    {
     "name": "stderr",
     "output_type": "stream",
     "text": [
      "root - INFO : ### Wrote source textfile to /data/adebahr/apertif/tutorial/T1/B01/selfcal/01/pm/model.txt! ###\n"
     ]
    },
    {
     "name": "stderr",
     "output_type": "stream",
     "text": [
      "SELFCAL - INFO : # Creating model from textfile model.txt for chunk 01 #\n"
     ]
    },
    {
     "name": "stderr",
     "output_type": "stream",
     "text": [
      "SELFCAL - INFO : # Doing parametric self-calibration on chunk 01 with solution interval 10 min and uvrange limits of 0.5~1000 klambda #\n"
     ]
    },
    {
     "name": "stderr",
     "output_type": "stream",
     "text": [
      "SELFCAL - INFO : # Parametric self calibration routine on chunk 01 done! #\n"
     ]
    },
    {
     "name": "stderr",
     "output_type": "stream",
     "text": [
      "SELFCAL - INFO : # Starting parametric self calibration routine on chunk 02 #\n"
     ]
    },
    {
     "name": "stderr",
     "output_type": "stream",
     "text": [
      "SELFCAL - INFO : # Moved to directory /data/adebahr/apertif/tutorial/T1/B01/selfcal/02 #\n"
     ]
    },
    {
     "name": "stderr",
     "output_type": "stream",
     "text": [
      "SELFCAL - INFO : # Creating directory /data/adebahr/apertif/tutorial/T1/B01/selfcal/02/pm #\n"
     ]
    },
    {
     "name": "stderr",
     "output_type": "stream",
     "text": [
      "root - INFO : ### Found 39 source(s) with no counterparts. Setting their spectral index to -0.7 ###\n"
     ]
    },
    {
     "name": "stderr",
     "output_type": "stream",
     "text": [
      "root - INFO : ### Found 9 source(s) with 1 counterpart(s) ###\n"
     ]
    },
    {
     "name": "stderr",
     "output_type": "stream",
     "text": [
      "root - INFO : ### Found 3 source(s) with 2 counterpart(s) ###\n"
     ]
    },
    {
     "name": "stderr",
     "output_type": "stream",
     "text": [
      "root - INFO : ### Found 1 source(s) with 3 counterpart(s) ###\n"
     ]
    },
    {
     "name": "stderr",
     "output_type": "stream",
     "text": [
      "root - INFO : ### Using standard WSRT beam for calculating apparent fluxes! ###\n"
     ]
    },
    {
     "name": "stderr",
     "output_type": "stream",
     "text": [
      "root - INFO : ### Field seems to have a flux of 0.388816833149 Jy ###\n"
     ]
    },
    {
     "name": "stderr",
     "output_type": "stream",
     "text": [
      "root - INFO : ### Found 10 source(s) in the model at a cutoff of 80.0 percent with a total flux of 0.318607713026 Jy ###\n"
     ]
    },
    {
     "name": "stderr",
     "output_type": "stream",
     "text": [
      "root - INFO : ### Wrote source textfile to /data/adebahr/apertif/tutorial/T1/B01/selfcal/02/pm/model.txt! ###\n"
     ]
    },
    {
     "name": "stderr",
     "output_type": "stream",
     "text": [
      "SELFCAL - INFO : # Creating model from textfile model.txt for chunk 02 #\n"
     ]
    },
    {
     "name": "stderr",
     "output_type": "stream",
     "text": [
      "SELFCAL - INFO : # Doing parametric self-calibration on chunk 02 with solution interval 10 min and uvrange limits of 0.5~1000 klambda #\n"
     ]
    },
    {
     "name": "stderr",
     "output_type": "stream",
     "text": [
      "SELFCAL - INFO : # Parametric self calibration routine on chunk 02 done! #\n"
     ]
    },
    {
     "name": "stderr",
     "output_type": "stream",
     "text": [
      "SELFCAL - INFO : # Starting parametric self calibration routine on chunk 03 #\n"
     ]
    },
    {
     "name": "stderr",
     "output_type": "stream",
     "text": [
      "SELFCAL - INFO : # Moved to directory /data/adebahr/apertif/tutorial/T1/B01/selfcal/03 #\n"
     ]
    },
    {
     "name": "stderr",
     "output_type": "stream",
     "text": [
      "SELFCAL - INFO : # Creating directory /data/adebahr/apertif/tutorial/T1/B01/selfcal/03/pm #\n"
     ]
    },
    {
     "name": "stderr",
     "output_type": "stream",
     "text": [
      "root - INFO : ### Found 39 source(s) with no counterparts. Setting their spectral index to -0.7 ###\n"
     ]
    },
    {
     "name": "stderr",
     "output_type": "stream",
     "text": [
      "root - INFO : ### Found 9 source(s) with 1 counterpart(s) ###\n"
     ]
    },
    {
     "name": "stderr",
     "output_type": "stream",
     "text": [
      "root - INFO : ### Found 3 source(s) with 2 counterpart(s) ###\n"
     ]
    },
    {
     "name": "stderr",
     "output_type": "stream",
     "text": [
      "root - INFO : ### Found 1 source(s) with 3 counterpart(s) ###\n"
     ]
    },
    {
     "name": "stderr",
     "output_type": "stream",
     "text": [
      "root - INFO : ### Using standard WSRT beam for calculating apparent fluxes! ###\n"
     ]
    },
    {
     "name": "stderr",
     "output_type": "stream",
     "text": [
      "root - INFO : ### Field seems to have a flux of 0.398026192605 Jy ###\n"
     ]
    },
    {
     "name": "stderr",
     "output_type": "stream",
     "text": [
      "root - INFO : ### Found 10 source(s) in the model at a cutoff of 80.0 percent with a total flux of 0.326393848547 Jy ###\n"
     ]
    },
    {
     "name": "stderr",
     "output_type": "stream",
     "text": [
      "root - INFO : ### Wrote source textfile to /data/adebahr/apertif/tutorial/T1/B01/selfcal/03/pm/model.txt! ###\n"
     ]
    },
    {
     "name": "stderr",
     "output_type": "stream",
     "text": [
      "SELFCAL - INFO : # Creating model from textfile model.txt for chunk 03 #\n"
     ]
    },
    {
     "name": "stderr",
     "output_type": "stream",
     "text": [
      "SELFCAL - INFO : # Doing parametric self-calibration on chunk 03 with solution interval 10 min and uvrange limits of 0.5~1000 klambda #\n"
     ]
    },
    {
     "name": "stderr",
     "output_type": "stream",
     "text": [
      "SELFCAL - INFO : # Parametric self calibration routine on chunk 03 done! #\n"
     ]
    },
    {
     "name": "stderr",
     "output_type": "stream",
     "text": [
      "SELFCAL - INFO : # Starting parametric self calibration routine on chunk 04 #\n"
     ]
    },
    {
     "name": "stderr",
     "output_type": "stream",
     "text": [
      "SELFCAL - INFO : # Moved to directory /data/adebahr/apertif/tutorial/T1/B01/selfcal/04 #\n"
     ]
    },
    {
     "name": "stderr",
     "output_type": "stream",
     "text": [
      "SELFCAL - INFO : # Creating directory /data/adebahr/apertif/tutorial/T1/B01/selfcal/04/pm #\n"
     ]
    },
    {
     "name": "stderr",
     "output_type": "stream",
     "text": [
      "root - INFO : ### Found 39 source(s) with no counterparts. Setting their spectral index to -0.7 ###\n"
     ]
    },
    {
     "name": "stderr",
     "output_type": "stream",
     "text": [
      "root - INFO : ### Found 9 source(s) with 1 counterpart(s) ###\n"
     ]
    },
    {
     "name": "stderr",
     "output_type": "stream",
     "text": [
      "root - INFO : ### Found 3 source(s) with 2 counterpart(s) ###\n"
     ]
    },
    {
     "name": "stderr",
     "output_type": "stream",
     "text": [
      "root - INFO : ### Found 1 source(s) with 3 counterpart(s) ###\n"
     ]
    },
    {
     "name": "stderr",
     "output_type": "stream",
     "text": [
      "root - INFO : ### Using standard WSRT beam for calculating apparent fluxes! ###\n"
     ]
    },
    {
     "name": "stderr",
     "output_type": "stream",
     "text": [
      "root - INFO : ### Field seems to have a flux of 0.409547476017 Jy ###\n"
     ]
    },
    {
     "name": "stderr",
     "output_type": "stream",
     "text": [
      "root - INFO : ### Found 10 source(s) in the model at a cutoff of 80.0 percent with a total flux of 0.336146160369 Jy ###\n"
     ]
    },
    {
     "name": "stderr",
     "output_type": "stream",
     "text": [
      "root - INFO : ### Wrote source textfile to /data/adebahr/apertif/tutorial/T1/B01/selfcal/04/pm/model.txt! ###\n"
     ]
    },
    {
     "name": "stderr",
     "output_type": "stream",
     "text": [
      "SELFCAL - INFO : # Creating model from textfile model.txt for chunk 04 #\n"
     ]
    },
    {
     "name": "stderr",
     "output_type": "stream",
     "text": [
      "SELFCAL - INFO : # Doing parametric self-calibration on chunk 04 with solution interval 10 min and uvrange limits of 0.5~1000 klambda #\n"
     ]
    },
    {
     "name": "stderr",
     "output_type": "stream",
     "text": [
      "SELFCAL - INFO : # Parametric self calibration routine on chunk 04 done! #\n"
     ]
    },
    {
     "name": "stderr",
     "output_type": "stream",
     "text": [
      "SELFCAL - INFO : # Starting parametric self calibration routine on chunk 05 #\n"
     ]
    },
    {
     "name": "stderr",
     "output_type": "stream",
     "text": [
      "SELFCAL - INFO : # Moved to directory /data/adebahr/apertif/tutorial/T1/B01/selfcal/05 #\n"
     ]
    },
    {
     "name": "stderr",
     "output_type": "stream",
     "text": [
      "SELFCAL - INFO : # Creating directory /data/adebahr/apertif/tutorial/T1/B01/selfcal/05/pm #\n"
     ]
    },
    {
     "name": "stderr",
     "output_type": "stream",
     "text": [
      "root - INFO : ### Found 39 source(s) with no counterparts. Setting their spectral index to -0.7 ###\n"
     ]
    },
    {
     "name": "stderr",
     "output_type": "stream",
     "text": [
      "root - INFO : ### Found 9 source(s) with 1 counterpart(s) ###\n"
     ]
    },
    {
     "name": "stderr",
     "output_type": "stream",
     "text": [
      "root - INFO : ### Found 3 source(s) with 2 counterpart(s) ###\n"
     ]
    },
    {
     "name": "stderr",
     "output_type": "stream",
     "text": [
      "root - INFO : ### Found 1 source(s) with 3 counterpart(s) ###\n"
     ]
    },
    {
     "name": "stderr",
     "output_type": "stream",
     "text": [
      "root - INFO : ### Using standard WSRT beam for calculating apparent fluxes! ###\n"
     ]
    },
    {
     "name": "stderr",
     "output_type": "stream",
     "text": [
      "root - INFO : ### Field seems to have a flux of 0.420273908645 Jy ###\n"
     ]
    },
    {
     "name": "stderr",
     "output_type": "stream",
     "text": [
      "root - INFO : ### Found 10 source(s) in the model at a cutoff of 80.0 percent with a total flux of 0.345236746302 Jy ###\n"
     ]
    },
    {
     "name": "stderr",
     "output_type": "stream",
     "text": [
      "root - INFO : ### Wrote source textfile to /data/adebahr/apertif/tutorial/T1/B01/selfcal/05/pm/model.txt! ###\n"
     ]
    },
    {
     "name": "stderr",
     "output_type": "stream",
     "text": [
      "SELFCAL - INFO : # Creating model from textfile model.txt for chunk 05 #\n"
     ]
    },
    {
     "name": "stderr",
     "output_type": "stream",
     "text": [
      "SELFCAL - INFO : # Doing parametric self-calibration on chunk 05 with solution interval 10 min and uvrange limits of 0.5~1000 klambda #\n"
     ]
    },
    {
     "name": "stderr",
     "output_type": "stream",
     "text": [
      "SELFCAL - INFO : # Parametric self calibration routine on chunk 05 done! #\n"
     ]
    },
    {
     "name": "stderr",
     "output_type": "stream",
     "text": [
      "SELFCAL - INFO : # Starting parametric self calibration routine on chunk 06 #\n"
     ]
    },
    {
     "name": "stderr",
     "output_type": "stream",
     "text": [
      "SELFCAL - INFO : # Moved to directory /data/adebahr/apertif/tutorial/T1/B01/selfcal/06 #\n"
     ]
    },
    {
     "name": "stderr",
     "output_type": "stream",
     "text": [
      "SELFCAL - INFO : # Creating directory /data/adebahr/apertif/tutorial/T1/B01/selfcal/06/pm #\n"
     ]
    },
    {
     "name": "stderr",
     "output_type": "stream",
     "text": [
      "root - INFO : ### Found 39 source(s) with no counterparts. Setting their spectral index to -0.7 ###\n"
     ]
    },
    {
     "name": "stderr",
     "output_type": "stream",
     "text": [
      "root - INFO : ### Found 9 source(s) with 1 counterpart(s) ###\n"
     ]
    },
    {
     "name": "stderr",
     "output_type": "stream",
     "text": [
      "root - INFO : ### Found 3 source(s) with 2 counterpart(s) ###\n"
     ]
    },
    {
     "name": "stderr",
     "output_type": "stream",
     "text": [
      "root - INFO : ### Found 1 source(s) with 3 counterpart(s) ###\n"
     ]
    },
    {
     "name": "stderr",
     "output_type": "stream",
     "text": [
      "root - INFO : ### Using standard WSRT beam for calculating apparent fluxes! ###\n"
     ]
    },
    {
     "name": "stderr",
     "output_type": "stream",
     "text": [
      "root - INFO : ### Field seems to have a flux of 0.431239523784 Jy ###\n"
     ]
    },
    {
     "name": "stderr",
     "output_type": "stream",
     "text": [
      "root - INFO : ### Found 10 source(s) in the model at a cutoff of 80.0 percent with a total flux of 0.354540643452 Jy ###\n"
     ]
    },
    {
     "name": "stderr",
     "output_type": "stream",
     "text": [
      "root - INFO : ### Wrote source textfile to /data/adebahr/apertif/tutorial/T1/B01/selfcal/06/pm/model.txt! ###\n"
     ]
    },
    {
     "name": "stderr",
     "output_type": "stream",
     "text": [
      "SELFCAL - INFO : # Creating model from textfile model.txt for chunk 06 #\n"
     ]
    },
    {
     "name": "stderr",
     "output_type": "stream",
     "text": [
      "SELFCAL - INFO : # Doing parametric self-calibration on chunk 06 with solution interval 10 min and uvrange limits of 0.5~1000 klambda #\n"
     ]
    },
    {
     "name": "stderr",
     "output_type": "stream",
     "text": [
      "SELFCAL - INFO : # Parametric self calibration routine on chunk 06 done! #\n"
     ]
    },
    {
     "name": "stderr",
     "output_type": "stream",
     "text": [
      "SELFCAL - INFO : # Starting parametric self calibration routine on chunk 07 #\n"
     ]
    },
    {
     "name": "stderr",
     "output_type": "stream",
     "text": [
      "SELFCAL - INFO : # Moved to directory /data/adebahr/apertif/tutorial/T1/B01/selfcal/07 #\n"
     ]
    },
    {
     "name": "stderr",
     "output_type": "stream",
     "text": [
      "SELFCAL - INFO : # Creating directory /data/adebahr/apertif/tutorial/T1/B01/selfcal/07/pm #\n"
     ]
    },
    {
     "name": "stderr",
     "output_type": "stream",
     "text": [
      "root - INFO : ### Found 39 source(s) with no counterparts. Setting their spectral index to -0.7 ###\n"
     ]
    },
    {
     "name": "stderr",
     "output_type": "stream",
     "text": [
      "root - INFO : ### Found 9 source(s) with 1 counterpart(s) ###\n"
     ]
    },
    {
     "name": "stderr",
     "output_type": "stream",
     "text": [
      "root - INFO : ### Found 3 source(s) with 2 counterpart(s) ###\n"
     ]
    },
    {
     "name": "stderr",
     "output_type": "stream",
     "text": [
      "root - INFO : ### Found 1 source(s) with 3 counterpart(s) ###\n"
     ]
    },
    {
     "name": "stderr",
     "output_type": "stream",
     "text": [
      "root - INFO : ### Using standard WSRT beam for calculating apparent fluxes! ###\n"
     ]
    },
    {
     "name": "stderr",
     "output_type": "stream",
     "text": [
      "root - INFO : ### Field seems to have a flux of 0.441876724271 Jy ###\n"
     ]
    },
    {
     "name": "stderr",
     "output_type": "stream",
     "text": [
      "root - INFO : ### Found 10 source(s) in the model at a cutoff of 80.0 percent with a total flux of 0.363575747032 Jy ###\n"
     ]
    },
    {
     "name": "stderr",
     "output_type": "stream",
     "text": [
      "root - INFO : ### Wrote source textfile to /data/adebahr/apertif/tutorial/T1/B01/selfcal/07/pm/model.txt! ###\n"
     ]
    },
    {
     "name": "stderr",
     "output_type": "stream",
     "text": [
      "SELFCAL - INFO : # Creating model from textfile model.txt for chunk 07 #\n"
     ]
    },
    {
     "name": "stderr",
     "output_type": "stream",
     "text": [
      "SELFCAL - INFO : # Doing parametric self-calibration on chunk 07 with solution interval 10 min and uvrange limits of 0.5~1000 klambda #\n"
     ]
    },
    {
     "name": "stderr",
     "output_type": "stream",
     "text": [
      "SELFCAL - INFO : # Parametric self calibration routine on chunk 07 done! #\n"
     ]
    },
    {
     "name": "stderr",
     "output_type": "stream",
     "text": [
      "SELFCAL - INFO : ### Parametric self calibration done ###\n"
     ]
    },
    {
     "name": "stderr",
     "output_type": "stream",
     "text": [
      "SELFCAL - INFO : # Moved to directory /data/adebahr/apertif/tutorial/T1/B01/selfcal #\n"
     ]
    },
    {
     "name": "stderr",
     "output_type": "stream",
     "text": [
      "SELFCAL - INFO : ### Starting adaptive self calibration routine ###\n"
     ]
    },
    {
     "name": "stderr",
     "output_type": "stream",
     "text": [
      "SELFCAL - INFO : # Starting adaptive self-calibration routine on chunk 00 #\n"
     ]
    },
    {
     "name": "stderr",
     "output_type": "stream",
     "text": [
      "SELFCAL - INFO : # Moved to directory /data/adebahr/apertif/tutorial/T1/B01/selfcal/00 #\n"
     ]
    },
    {
     "name": "stderr",
     "output_type": "stream",
     "text": [
      "SELFCAL - INFO : # Theoretical noise for chunk 00 is 2.86e-08 Jy/beam #\n"
     ]
    },
    {
     "name": "stderr",
     "output_type": "stream",
     "text": [
      "SELFCAL - INFO : # Major self-calibration cycle 0 for chunk 00 started #\n"
     ]
    },
    {
     "name": "stderr",
     "output_type": "stream",
     "text": [
      "SELFCAL - INFO : # Creating directory 00 #\n"
     ]
    },
    {
     "name": "stderr",
     "output_type": "stream",
     "text": [
      "SELFCAL - INFO : # The maximum dynamic range for chunk 00 is 3109.50658538 #\n"
     ]
    },
    {
     "name": "stderr",
     "output_type": "stream",
     "text": [
      "root - INFO : ### Using standard WSRT beam for calculating apparent fluxes! ###\n"
     ]
    },
    {
     "name": "stderr",
     "output_type": "stream",
     "text": [
      "root - INFO : ### Field seems to have a flux of 0.369309073385 Jy ###\n"
     ]
    },
    {
     "name": "stderr",
     "output_type": "stream",
     "text": [
      "root - INFO : ### Found 12 source(s) in the model at a cutoff of 90.0 percent with a total flux of 0.33562262369 Jy ###\n"
     ]
    },
    {
     "name": "stderr",
     "output_type": "stream",
     "text": [
      "root - INFO : ### Wrote mask textfile to 00/mask.txt! ###\n"
     ]
    },
    {
     "name": "stderr",
     "output_type": "stream",
     "text": [
      "SELFCAL - INFO : # Parametric mask for self-calibration cycle 0 created #\n"
     ]
    },
    {
     "name": "stderr",
     "output_type": "stream",
     "text": [
      "SELFCAL - INFO : # Cleaned image from self-calibration cycle 0 with 500 iterations #\n"
     ]
    },
    {
     "name": "stderr",
     "output_type": "stream",
     "text": [
      "SELFCAL - INFO : # Created restored image from self-calibration cycle 0 #\n"
     ]
    },
    {
     "name": "stderr",
     "output_type": "stream",
     "text": [
      "SELFCAL - INFO : # Created residual image from self-calibration cycle 0 #\n"
     ]
    },
    {
     "name": "stderr",
     "output_type": "stream",
     "text": [
      "SELFCAL - INFO : ### Self calibration reached a DR of 1344 of the maximum of 3109 ###\n"
     ]
    },
    {
     "name": "stderr",
     "output_type": "stream",
     "text": [
      "SELFCAL - INFO : ### Stop criterium was set to 1.5 corresponding to a DR of 2073 ###\n"
     ]
    },
    {
     "name": "stderr",
     "output_type": "stream",
     "text": [
      "SELFCAL - INFO : ### Continuing self calibration with next cycle... ###\n"
     ]
    },
    {
     "name": "stderr",
     "output_type": "stream",
     "text": [
      "SELFCAL - INFO : # Major self-calibration cycle 0 for chunk 00 done #\n"
     ]
    },
    {
     "name": "stderr",
     "output_type": "stream",
     "text": [
      "SELFCAL - INFO : # Major self-calibration cycle 1 for chunk 00 started #\n"
     ]
    },
    {
     "name": "stderr",
     "output_type": "stream",
     "text": [
      "SELFCAL - INFO : # Creating directory 01 #\n"
     ]
    },
    {
     "name": "stderr",
     "output_type": "stream",
     "text": [
      "SELFCAL - INFO : # Created mask with cutoff 0.000599529501051 for self-calibration cycle 1 from previous cycle image #\n"
     ]
    },
    {
     "name": "stderr",
     "output_type": "stream",
     "text": [
      "SELFCAL - INFO : # Cutoff for cleaning set to 0.000115765584269 Jy/beam #\n"
     ]
    },
    {
     "name": "stderr",
     "output_type": "stream",
     "text": [
      "SELFCAL - INFO : # Created restored image from self-calibration cycle 1 #\n"
     ]
    },
    {
     "name": "stderr",
     "output_type": "stream",
     "text": [
      "SELFCAL - INFO : # Created residual image from self-calibration cycle 1 #\n"
     ]
    },
    {
     "name": "stderr",
     "output_type": "stream",
     "text": [
      "SELFCAL - INFO : ### Self calibration reached a DR of 1803 of the maximum of 3109 ###\n"
     ]
    },
    {
     "name": "stderr",
     "output_type": "stream",
     "text": [
      "SELFCAL - INFO : ### Stop criterium was set to 1.5 corresponding to a DR of 2073 ###\n"
     ]
    },
    {
     "name": "stderr",
     "output_type": "stream",
     "text": [
      "SELFCAL - INFO : ### Continuing self calibration with next cycle... ###\n"
     ]
    },
    {
     "name": "stderr",
     "output_type": "stream",
     "text": [
      "SELFCAL - INFO : # Major self-calibration cycle 1 for chunk 00 done #\n"
     ]
    },
    {
     "name": "stderr",
     "output_type": "stream",
     "text": [
      "SELFCAL - INFO : # Major self-calibration cycle 2 for chunk 00 started #\n"
     ]
    },
    {
     "name": "stderr",
     "output_type": "stream",
     "text": [
      "SELFCAL - INFO : # Creating directory 02 #\n"
     ]
    },
    {
     "name": "stderr",
     "output_type": "stream",
     "text": [
      "SELFCAL - INFO : # Created mask with cutoff 0.000295909187116 for self-calibration cycle 2 from previous cycle image #\n"
     ]
    },
    {
     "name": "stderr",
     "output_type": "stream",
     "text": [
      "SELFCAL - INFO : # Cutoff for cleaning set to 8.63068462422e-05 Jy/beam #\n"
     ]
    },
    {
     "name": "stderr",
     "output_type": "stream",
     "text": [
      "SELFCAL - INFO : # Created restored image from self-calibration cycle 2 #\n"
     ]
    },
    {
     "name": "stderr",
     "output_type": "stream",
     "text": [
      "SELFCAL - INFO : # Created residual image from self-calibration cycle 2 #\n"
     ]
    },
    {
     "name": "stderr",
     "output_type": "stream",
     "text": [
      "SELFCAL - INFO : ### Self calibration reached a DR of 1890 of the maximum of 3109 ###\n"
     ]
    },
    {
     "name": "stderr",
     "output_type": "stream",
     "text": [
      "SELFCAL - INFO : ### Stop criterium was set to 1.5 corresponding to a DR of 2073 ###\n"
     ]
    },
    {
     "name": "stderr",
     "output_type": "stream",
     "text": [
      "SELFCAL - INFO : ### Continuing self calibration with next cycle... ###\n"
     ]
    },
    {
     "name": "stderr",
     "output_type": "stream",
     "text": [
      "SELFCAL - INFO : # Major self-calibration cycle 2 for chunk 00 done #\n"
     ]
    },
    {
     "name": "stderr",
     "output_type": "stream",
     "text": [
      "SELFCAL - INFO : # Major self-calibration cycle 3 for chunk 00 started #\n"
     ]
    },
    {
     "name": "stderr",
     "output_type": "stream",
     "text": [
      "SELFCAL - INFO : # Creating directory 03 #\n"
     ]
    },
    {
     "name": "stderr",
     "output_type": "stream",
     "text": [
      "SELFCAL - INFO : # Created mask with cutoff 0.000282202679955 for self-calibration cycle 3 from previous cycle image #\n"
     ]
    },
    {
     "name": "stderr",
     "output_type": "stream",
     "text": [
      "SELFCAL - INFO : # Cutoff for cleaning set to 8.23091149869e-05 Jy/beam #\n"
     ]
    },
    {
     "name": "stderr",
     "output_type": "stream",
     "text": [
      "SELFCAL - INFO : # Created restored image from self-calibration cycle 3 #\n"
     ]
    },
    {
     "name": "stderr",
     "output_type": "stream",
     "text": [
      "SELFCAL - INFO : # Created residual image from self-calibration cycle 3 #\n"
     ]
    },
    {
     "name": "stderr",
     "output_type": "stream",
     "text": [
      "SELFCAL - INFO : ### Self calibration reached a DR of 1891 of the maximum of 3109 ###\n"
     ]
    },
    {
     "name": "stderr",
     "output_type": "stream",
     "text": [
      "SELFCAL - INFO : ### Stop criterium was set to 1.5 corresponding to a DR of 2073 ###\n"
     ]
    },
    {
     "name": "stderr",
     "output_type": "stream",
     "text": [
      "SELFCAL - INFO : ### Continuing self calibration with next cycle... ###\n"
     ]
    },
    {
     "name": "stderr",
     "output_type": "stream",
     "text": [
      "SELFCAL - INFO : # Major self-calibration cycle 3 for chunk 00 done #\n"
     ]
    },
    {
     "name": "stderr",
     "output_type": "stream",
     "text": [
      "SELFCAL - INFO : # Major self-calibration cycle 4 for chunk 00 started #\n"
     ]
    },
    {
     "name": "stderr",
     "output_type": "stream",
     "text": [
      "SELFCAL - INFO : # Creating directory 04 #\n"
     ]
    },
    {
     "name": "stderr",
     "output_type": "stream",
     "text": [
      "SELFCAL - INFO : # Created mask with cutoff 0.000282059707388 for self-calibration cycle 4 from previous cycle image #\n"
     ]
    },
    {
     "name": "stderr",
     "output_type": "stream",
     "text": [
      "SELFCAL - INFO : # Cutoff for cleaning set to 8.22674146548e-05 Jy/beam #\n"
     ]
    },
    {
     "name": "stderr",
     "output_type": "stream",
     "text": [
      "SELFCAL - INFO : # Created restored image from self-calibration cycle 4 #\n"
     ]
    },
    {
     "name": "stderr",
     "output_type": "stream",
     "text": [
      "SELFCAL - INFO : # Created residual image from self-calibration cycle 4 #\n"
     ]
    },
    {
     "name": "stderr",
     "output_type": "stream",
     "text": [
      "SELFCAL - INFO : ### Self calibration reached a DR of 1892 of the maximum of 3109 ###\n"
     ]
    },
    {
     "name": "stderr",
     "output_type": "stream",
     "text": [
      "SELFCAL - INFO : ### Stop criterium was set to 1.5 corresponding to a DR of 2073 ###\n"
     ]
    },
    {
     "name": "stderr",
     "output_type": "stream",
     "text": [
      "SELFCAL - INFO : ### Continuing self calibration with next cycle... ###\n"
     ]
    },
    {
     "name": "stderr",
     "output_type": "stream",
     "text": [
      "SELFCAL - INFO : # Major self-calibration cycle 4 for chunk 00 done #\n"
     ]
    },
    {
     "name": "stderr",
     "output_type": "stream",
     "text": [
      "SELFCAL - INFO : # Major self-calibration cycle 5 for chunk 00 started #\n"
     ]
    },
    {
     "name": "stderr",
     "output_type": "stream",
     "text": [
      "SELFCAL - INFO : # Creating directory 05 #\n"
     ]
    },
    {
     "name": "stderr",
     "output_type": "stream",
     "text": [
      "SELFCAL - INFO : # Created mask with cutoff 0.000281973378151 for self-calibration cycle 5 from previous cycle image #\n"
     ]
    },
    {
     "name": "stderr",
     "output_type": "stream",
     "text": [
      "SELFCAL - INFO : # Cutoff for cleaning set to 8.2242235294e-05 Jy/beam #\n"
     ]
    },
    {
     "name": "stderr",
     "output_type": "stream",
     "text": [
      "SELFCAL - INFO : # Created restored image from self-calibration cycle 5 #\n"
     ]
    },
    {
     "name": "stderr",
     "output_type": "stream",
     "text": [
      "SELFCAL - INFO : # Created residual image from self-calibration cycle 5 #\n"
     ]
    },
    {
     "name": "stderr",
     "output_type": "stream",
     "text": [
      "SELFCAL - INFO : # Major self-calibration cycle 5 for chunk 00 done #\n"
     ]
    },
    {
     "name": "stderr",
     "output_type": "stream",
     "text": [
      "SELFCAL - INFO : # Starting adaptive self-calibration routine on chunk 01 #\n"
     ]
    },
    {
     "name": "stderr",
     "output_type": "stream",
     "text": [
      "SELFCAL - INFO : # Moved to directory /data/adebahr/apertif/tutorial/T1/B01/selfcal/01 #\n"
     ]
    },
    {
     "name": "stderr",
     "output_type": "stream",
     "text": [
      "SELFCAL - INFO : # Theoretical noise for chunk 01 is 2.84e-08 Jy/beam #\n"
     ]
    },
    {
     "name": "stderr",
     "output_type": "stream",
     "text": [
      "SELFCAL - INFO : # Major self-calibration cycle 0 for chunk 01 started #\n"
     ]
    },
    {
     "name": "stderr",
     "output_type": "stream",
     "text": [
      "SELFCAL - INFO : # Creating directory 00 #\n"
     ]
    },
    {
     "name": "stderr",
     "output_type": "stream",
     "text": [
      "SELFCAL - INFO : # The maximum dynamic range for chunk 01 is 3204.14002513 #\n"
     ]
    },
    {
     "name": "stderr",
     "output_type": "stream",
     "text": [
      "root - INFO : ### Using standard WSRT beam for calculating apparent fluxes! ###\n"
     ]
    },
    {
     "name": "stderr",
     "output_type": "stream",
     "text": [
      "root - INFO : ### Field seems to have a flux of 0.377979598375 Jy ###\n"
     ]
    },
    {
     "name": "stderr",
     "output_type": "stream",
     "text": [
      "root - INFO : ### Found 12 source(s) in the model at a cutoff of 90.0 percent with a total flux of 0.34342791267 Jy ###\n"
     ]
    },
    {
     "name": "stderr",
     "output_type": "stream",
     "text": [
      "root - INFO : ### Wrote mask textfile to 00/mask.txt! ###\n"
     ]
    },
    {
     "name": "stderr",
     "output_type": "stream",
     "text": [
      "SELFCAL - INFO : # Parametric mask for self-calibration cycle 0 created #\n"
     ]
    },
    {
     "name": "stderr",
     "output_type": "stream",
     "text": [
      "SELFCAL - INFO : # Cleaned image from self-calibration cycle 0 with 500 iterations #\n"
     ]
    },
    {
     "name": "stderr",
     "output_type": "stream",
     "text": [
      "SELFCAL - INFO : # Created restored image from self-calibration cycle 0 #\n"
     ]
    },
    {
     "name": "stderr",
     "output_type": "stream",
     "text": [
      "SELFCAL - INFO : # Created residual image from self-calibration cycle 0 #\n"
     ]
    },
    {
     "name": "stderr",
     "output_type": "stream",
     "text": [
      "SELFCAL - INFO : ### Self calibration reached a DR of 1339 of the maximum of 3204 ###\n"
     ]
    },
    {
     "name": "stderr",
     "output_type": "stream",
     "text": [
      "SELFCAL - INFO : ### Stop criterium was set to 1.5 corresponding to a DR of 2136 ###\n"
     ]
    },
    {
     "name": "stderr",
     "output_type": "stream",
     "text": [
      "SELFCAL - INFO : ### Continuing self calibration with next cycle... ###\n"
     ]
    },
    {
     "name": "stderr",
     "output_type": "stream",
     "text": [
      "SELFCAL - INFO : # Major self-calibration cycle 0 for chunk 01 done #\n"
     ]
    },
    {
     "name": "stderr",
     "output_type": "stream",
     "text": [
      "SELFCAL - INFO : # Major self-calibration cycle 1 for chunk 01 started #\n"
     ]
    },
    {
     "name": "stderr",
     "output_type": "stream",
     "text": [
      "SELFCAL - INFO : # Creating directory 01 #\n"
     ]
    },
    {
     "name": "stderr",
     "output_type": "stream",
     "text": [
      "SELFCAL - INFO : # Created mask with cutoff 0.000625280616805 for self-calibration cycle 1 from previous cycle image #\n"
     ]
    },
    {
     "name": "stderr",
     "output_type": "stream",
     "text": [
      "SELFCAL - INFO : # Cutoff for cleaning set to 0.000118898507935 Jy/beam #\n"
     ]
    },
    {
     "name": "stderr",
     "output_type": "stream",
     "text": [
      "SELFCAL - INFO : # Created restored image from self-calibration cycle 1 #\n"
     ]
    },
    {
     "name": "stderr",
     "output_type": "stream",
     "text": [
      "SELFCAL - INFO : # Created residual image from self-calibration cycle 1 #\n"
     ]
    },
    {
     "name": "stderr",
     "output_type": "stream",
     "text": [
      "SELFCAL - INFO : ### Self calibration reached a DR of 1849 of the maximum of 3204 ###\n"
     ]
    },
    {
     "name": "stderr",
     "output_type": "stream",
     "text": [
      "SELFCAL - INFO : ### Stop criterium was set to 1.5 corresponding to a DR of 2136 ###\n"
     ]
    },
    {
     "name": "stderr",
     "output_type": "stream",
     "text": [
      "SELFCAL - INFO : ### Continuing self calibration with next cycle... ###\n"
     ]
    },
    {
     "name": "stderr",
     "output_type": "stream",
     "text": [
      "SELFCAL - INFO : # Major self-calibration cycle 1 for chunk 01 done #\n"
     ]
    },
    {
     "name": "stderr",
     "output_type": "stream",
     "text": [
      "SELFCAL - INFO : # Major self-calibration cycle 2 for chunk 01 started #\n"
     ]
    },
    {
     "name": "stderr",
     "output_type": "stream",
     "text": [
      "SELFCAL - INFO : # Creating directory 02 #\n"
     ]
    },
    {
     "name": "stderr",
     "output_type": "stream",
     "text": [
      "SELFCAL - INFO : # Created mask with cutoff 0.000295151301543 for self-calibration cycle 2 from previous cycle image #\n"
     ]
    },
    {
     "name": "stderr",
     "output_type": "stream",
     "text": [
      "SELFCAL - INFO : # Cutoff for cleaning set to 8.60857962834e-05 Jy/beam #\n"
     ]
    },
    {
     "name": "stderr",
     "output_type": "stream",
     "text": [
      "SELFCAL - INFO : # Created restored image from self-calibration cycle 2 #\n"
     ]
    },
    {
     "name": "stderr",
     "output_type": "stream",
     "text": [
      "SELFCAL - INFO : # Created residual image from self-calibration cycle 2 #\n"
     ]
    },
    {
     "name": "stderr",
     "output_type": "stream",
     "text": [
      "SELFCAL - INFO : ### Self calibration reached a DR of 1955 of the maximum of 3204 ###\n"
     ]
    },
    {
     "name": "stderr",
     "output_type": "stream",
     "text": [
      "SELFCAL - INFO : ### Stop criterium was set to 1.5 corresponding to a DR of 2136 ###\n"
     ]
    },
    {
     "name": "stderr",
     "output_type": "stream",
     "text": [
      "SELFCAL - INFO : ### Continuing self calibration with next cycle... ###\n"
     ]
    },
    {
     "name": "stderr",
     "output_type": "stream",
     "text": [
      "SELFCAL - INFO : # Major self-calibration cycle 2 for chunk 01 done #\n"
     ]
    },
    {
     "name": "stderr",
     "output_type": "stream",
     "text": [
      "SELFCAL - INFO : # Major self-calibration cycle 3 for chunk 01 started #\n"
     ]
    },
    {
     "name": "stderr",
     "output_type": "stream",
     "text": [
      "SELFCAL - INFO : # Creating directory 03 #\n"
     ]
    },
    {
     "name": "stderr",
     "output_type": "stream",
     "text": [
      "SELFCAL - INFO : # Created mask with cutoff 0.000279238629446 for self-calibration cycle 3 from previous cycle image #\n"
     ]
    },
    {
     "name": "stderr",
     "output_type": "stream",
     "text": [
      "SELFCAL - INFO : # Cutoff for cleaning set to 8.14446002551e-05 Jy/beam #\n"
     ]
    },
    {
     "name": "stderr",
     "output_type": "stream",
     "text": [
      "SELFCAL - INFO : # Created restored image from self-calibration cycle 3 #\n"
     ]
    },
    {
     "name": "stderr",
     "output_type": "stream",
     "text": [
      "SELFCAL - INFO : # Created residual image from self-calibration cycle 3 #\n"
     ]
    },
    {
     "name": "stderr",
     "output_type": "stream",
     "text": [
      "SELFCAL - INFO : ### Self calibration reached a DR of 1991 of the maximum of 3204 ###\n"
     ]
    },
    {
     "name": "stderr",
     "output_type": "stream",
     "text": [
      "SELFCAL - INFO : ### Stop criterium was set to 1.5 corresponding to a DR of 2136 ###\n"
     ]
    },
    {
     "name": "stderr",
     "output_type": "stream",
     "text": [
      "SELFCAL - INFO : ### Continuing self calibration with next cycle... ###\n"
     ]
    },
    {
     "name": "stderr",
     "output_type": "stream",
     "text": [
      "SELFCAL - INFO : # Major self-calibration cycle 3 for chunk 01 done #\n"
     ]
    },
    {
     "name": "stderr",
     "output_type": "stream",
     "text": [
      "SELFCAL - INFO : # Major self-calibration cycle 4 for chunk 01 started #\n"
     ]
    },
    {
     "name": "stderr",
     "output_type": "stream",
     "text": [
      "SELFCAL - INFO : # Creating directory 04 #\n"
     ]
    },
    {
     "name": "stderr",
     "output_type": "stream",
     "text": [
      "SELFCAL - INFO : # Created mask with cutoff 0.000274197460385 for self-calibration cycle 4 from previous cycle image #\n"
     ]
    },
    {
     "name": "stderr",
     "output_type": "stream",
     "text": [
      "SELFCAL - INFO : # Cutoff for cleaning set to 7.9974259279e-05 Jy/beam #\n"
     ]
    },
    {
     "name": "stderr",
     "output_type": "stream",
     "text": [
      "SELFCAL - INFO : # Created restored image from self-calibration cycle 4 #\n"
     ]
    },
    {
     "name": "stderr",
     "output_type": "stream",
     "text": [
      "SELFCAL - INFO : # Created residual image from self-calibration cycle 4 #\n"
     ]
    },
    {
     "name": "stderr",
     "output_type": "stream",
     "text": [
      "SELFCAL - INFO : ### Self calibration reached a DR of 1993 of the maximum of 3204 ###\n"
     ]
    },
    {
     "name": "stderr",
     "output_type": "stream",
     "text": [
      "SELFCAL - INFO : ### Stop criterium was set to 1.5 corresponding to a DR of 2136 ###\n"
     ]
    },
    {
     "name": "stderr",
     "output_type": "stream",
     "text": [
      "SELFCAL - INFO : ### Continuing self calibration with next cycle... ###\n"
     ]
    },
    {
     "name": "stderr",
     "output_type": "stream",
     "text": [
      "SELFCAL - INFO : # Major self-calibration cycle 4 for chunk 01 done #\n"
     ]
    },
    {
     "name": "stderr",
     "output_type": "stream",
     "text": [
      "SELFCAL - INFO : # Major self-calibration cycle 5 for chunk 01 started #\n"
     ]
    },
    {
     "name": "stderr",
     "output_type": "stream",
     "text": [
      "SELFCAL - INFO : # Creating directory 05 #\n"
     ]
    },
    {
     "name": "stderr",
     "output_type": "stream",
     "text": [
      "SELFCAL - INFO : # Created mask with cutoff 0.000273918456514 for self-calibration cycle 5 from previous cycle image #\n"
     ]
    },
    {
     "name": "stderr",
     "output_type": "stream",
     "text": [
      "SELFCAL - INFO : # Cutoff for cleaning set to 7.989288315e-05 Jy/beam #\n"
     ]
    },
    {
     "name": "stderr",
     "output_type": "stream",
     "text": [
      "SELFCAL - INFO : # Created restored image from self-calibration cycle 5 #\n"
     ]
    },
    {
     "name": "stderr",
     "output_type": "stream",
     "text": [
      "SELFCAL - INFO : # Created residual image from self-calibration cycle 5 #\n"
     ]
    },
    {
     "name": "stderr",
     "output_type": "stream",
     "text": [
      "SELFCAL - INFO : # Major self-calibration cycle 5 for chunk 01 done #\n"
     ]
    },
    {
     "name": "stderr",
     "output_type": "stream",
     "text": [
      "SELFCAL - INFO : # Starting adaptive self-calibration routine on chunk 02 #\n"
     ]
    },
    {
     "name": "stderr",
     "output_type": "stream",
     "text": [
      "SELFCAL - INFO : # Moved to directory /data/adebahr/apertif/tutorial/T1/B01/selfcal/02 #\n"
     ]
    },
    {
     "name": "stderr",
     "output_type": "stream",
     "text": [
      "SELFCAL - INFO : # Theoretical noise for chunk 02 is 2.87e-08 Jy/beam #\n"
     ]
    },
    {
     "name": "stderr",
     "output_type": "stream",
     "text": [
      "SELFCAL - INFO : # Major self-calibration cycle 0 for chunk 02 started #\n"
     ]
    },
    {
     "name": "stderr",
     "output_type": "stream",
     "text": [
      "SELFCAL - INFO : # Creating directory 00 #\n"
     ]
    },
    {
     "name": "stderr",
     "output_type": "stream",
     "text": [
      "SELFCAL - INFO : # The maximum dynamic range for chunk 02 is 3209.62211604 #\n"
     ]
    },
    {
     "name": "stderr",
     "output_type": "stream",
     "text": [
      "root - INFO : ### Using standard WSRT beam for calculating apparent fluxes! ###\n"
     ]
    },
    {
     "name": "stderr",
     "output_type": "stream",
     "text": [
      "root - INFO : ### Field seems to have a flux of 0.388830820662 Jy ###\n"
     ]
    },
    {
     "name": "stderr",
     "output_type": "stream",
     "text": [
      "root - INFO : ### Found 12 source(s) in the model at a cutoff of 90.0 percent with a total flux of 0.353268489668 Jy ###\n"
     ]
    },
    {
     "name": "stderr",
     "output_type": "stream",
     "text": [
      "root - INFO : ### Wrote mask textfile to 00/mask.txt! ###\n"
     ]
    },
    {
     "name": "stderr",
     "output_type": "stream",
     "text": [
      "SELFCAL - INFO : # Parametric mask for self-calibration cycle 0 created #\n"
     ]
    },
    {
     "name": "stderr",
     "output_type": "stream",
     "text": [
      "SELFCAL - INFO : # Cleaned image from self-calibration cycle 0 with 500 iterations #\n"
     ]
    },
    {
     "name": "stderr",
     "output_type": "stream",
     "text": [
      "SELFCAL - INFO : # Created restored image from self-calibration cycle 0 #\n"
     ]
    },
    {
     "name": "stderr",
     "output_type": "stream",
     "text": [
      "SELFCAL - INFO : # Created residual image from self-calibration cycle 0 #\n"
     ]
    },
    {
     "name": "stderr",
     "output_type": "stream",
     "text": [
      "SELFCAL - INFO : ### Self calibration reached a DR of 1388 of the maximum of 3209 ###\n"
     ]
    },
    {
     "name": "stderr",
     "output_type": "stream",
     "text": [
      "SELFCAL - INFO : ### Stop criterium was set to 1.5 corresponding to a DR of 2139 ###\n"
     ]
    },
    {
     "name": "stderr",
     "output_type": "stream",
     "text": [
      "SELFCAL - INFO : ### Continuing self calibration with next cycle... ###\n"
     ]
    },
    {
     "name": "stderr",
     "output_type": "stream",
     "text": [
      "SELFCAL - INFO : # Major self-calibration cycle 0 for chunk 02 done #\n"
     ]
    },
    {
     "name": "stderr",
     "output_type": "stream",
     "text": [
      "SELFCAL - INFO : # Major self-calibration cycle 1 for chunk 02 started #\n"
     ]
    },
    {
     "name": "stderr",
     "output_type": "stream",
     "text": [
      "SELFCAL - INFO : # Creating directory 01 #\n"
     ]
    },
    {
     "name": "stderr",
     "output_type": "stream",
     "text": [
      "SELFCAL - INFO : # Created mask with cutoff 0.000459913723171 for self-calibration cycle 1 from previous cycle image #\n"
     ]
    },
    {
     "name": "stderr",
     "output_type": "stream",
     "text": [
      "SELFCAL - INFO : # Cutoff for cleaning set to 0.000116076624181 Jy/beam #\n"
     ]
    },
    {
     "name": "stderr",
     "output_type": "stream",
     "text": [
      "SELFCAL - INFO : # Created restored image from self-calibration cycle 1 #\n"
     ]
    },
    {
     "name": "stderr",
     "output_type": "stream",
     "text": [
      "SELFCAL - INFO : # Created residual image from self-calibration cycle 1 #\n"
     ]
    },
    {
     "name": "stderr",
     "output_type": "stream",
     "text": [
      "SELFCAL - INFO : ### Self calibration reached a DR of 1947 of the maximum of 3209 ###\n"
     ]
    },
    {
     "name": "stderr",
     "output_type": "stream",
     "text": [
      "SELFCAL - INFO : ### Stop criterium was set to 1.5 corresponding to a DR of 2139 ###\n"
     ]
    },
    {
     "name": "stderr",
     "output_type": "stream",
     "text": [
      "SELFCAL - INFO : ### Continuing self calibration with next cycle... ###\n"
     ]
    },
    {
     "name": "stderr",
     "output_type": "stream",
     "text": [
      "SELFCAL - INFO : # Major self-calibration cycle 1 for chunk 02 done #\n"
     ]
    },
    {
     "name": "stderr",
     "output_type": "stream",
     "text": [
      "SELFCAL - INFO : # Major self-calibration cycle 2 for chunk 02 started #\n"
     ]
    },
    {
     "name": "stderr",
     "output_type": "stream",
     "text": [
      "SELFCAL - INFO : # Creating directory 02 #\n"
     ]
    },
    {
     "name": "stderr",
     "output_type": "stream",
     "text": [
      "SELFCAL - INFO : # Created mask with cutoff 0.000283848414256 for self-calibration cycle 2 from previous cycle image #\n"
     ]
    },
    {
     "name": "stderr",
     "output_type": "stream",
     "text": [
      "SELFCAL - INFO : # Cutoff for cleaning set to 8.27891208246e-05 Jy/beam #\n"
     ]
    },
    {
     "name": "stderr",
     "output_type": "stream",
     "text": [
      "SELFCAL - INFO : # Created restored image from self-calibration cycle 2 #\n"
     ]
    },
    {
     "name": "stderr",
     "output_type": "stream",
     "text": [
      "SELFCAL - INFO : # Created residual image from self-calibration cycle 2 #\n"
     ]
    },
    {
     "name": "stderr",
     "output_type": "stream",
     "text": [
      "SELFCAL - INFO : ### Self calibration reached a DR of 2039 of the maximum of 3209 ###\n"
     ]
    },
    {
     "name": "stderr",
     "output_type": "stream",
     "text": [
      "SELFCAL - INFO : ### Stop criterium was set to 1.5 corresponding to a DR of 2139 ###\n"
     ]
    },
    {
     "name": "stderr",
     "output_type": "stream",
     "text": [
      "SELFCAL - INFO : ### Continuing self calibration with next cycle... ###\n"
     ]
    },
    {
     "name": "stderr",
     "output_type": "stream",
     "text": [
      "SELFCAL - INFO : # Major self-calibration cycle 2 for chunk 02 done #\n"
     ]
    },
    {
     "name": "stderr",
     "output_type": "stream",
     "text": [
      "SELFCAL - INFO : # Major self-calibration cycle 3 for chunk 02 started #\n"
     ]
    },
    {
     "name": "stderr",
     "output_type": "stream",
     "text": [
      "SELFCAL - INFO : # Creating directory 03 #\n"
     ]
    },
    {
     "name": "stderr",
     "output_type": "stream",
     "text": [
      "SELFCAL - INFO : # Created mask with cutoff 0.000270939235634 for self-calibration cycle 3 from previous cycle image #\n"
     ]
    },
    {
     "name": "stderr",
     "output_type": "stream",
     "text": [
      "SELFCAL - INFO : # Cutoff for cleaning set to 7.90239437265e-05 Jy/beam #\n"
     ]
    },
    {
     "name": "stderr",
     "output_type": "stream",
     "text": [
      "SELFCAL - INFO : # Created restored image from self-calibration cycle 3 #\n"
     ]
    },
    {
     "name": "stderr",
     "output_type": "stream",
     "text": [
      "SELFCAL - INFO : # Created residual image from self-calibration cycle 3 #\n"
     ]
    },
    {
     "name": "stderr",
     "output_type": "stream",
     "text": [
      "SELFCAL - INFO : ### Self calibration reached a DR of 2081 of the maximum of 3209 ###\n"
     ]
    },
    {
     "name": "stderr",
     "output_type": "stream",
     "text": [
      "SELFCAL - INFO : ### Stop criterium was set to 1.5 corresponding to a DR of 2139 ###\n"
     ]
    },
    {
     "name": "stderr",
     "output_type": "stream",
     "text": [
      "SELFCAL - INFO : ### Continuing self calibration with next cycle... ###\n"
     ]
    },
    {
     "name": "stderr",
     "output_type": "stream",
     "text": [
      "SELFCAL - INFO : # Major self-calibration cycle 3 for chunk 02 done #\n"
     ]
    },
    {
     "name": "stderr",
     "output_type": "stream",
     "text": [
      "SELFCAL - INFO : # Major self-calibration cycle 4 for chunk 02 started #\n"
     ]
    },
    {
     "name": "stderr",
     "output_type": "stream",
     "text": [
      "SELFCAL - INFO : # Creating directory 04 #\n"
     ]
    },
    {
     "name": "stderr",
     "output_type": "stream",
     "text": [
      "SELFCAL - INFO : # Created mask with cutoff 0.000265533344646 for self-calibration cycle 4 from previous cycle image #\n"
     ]
    },
    {
     "name": "stderr",
     "output_type": "stream",
     "text": [
      "SELFCAL - INFO : # Cutoff for cleaning set to 7.74472255216e-05 Jy/beam #\n"
     ]
    },
    {
     "name": "stderr",
     "output_type": "stream",
     "text": [
      "SELFCAL - INFO : # Created restored image from self-calibration cycle 4 #\n"
     ]
    },
    {
     "name": "stderr",
     "output_type": "stream",
     "text": [
      "SELFCAL - INFO : # Created residual image from self-calibration cycle 4 #\n"
     ]
    },
    {
     "name": "stderr",
     "output_type": "stream",
     "text": [
      "SELFCAL - INFO : ### Self calibration reached a DR of 2082 of the maximum of 3209 ###\n"
     ]
    },
    {
     "name": "stderr",
     "output_type": "stream",
     "text": [
      "SELFCAL - INFO : ### Stop criterium was set to 1.5 corresponding to a DR of 2139 ###\n"
     ]
    },
    {
     "name": "stderr",
     "output_type": "stream",
     "text": [
      "SELFCAL - INFO : ### Continuing self calibration with next cycle... ###\n"
     ]
    },
    {
     "name": "stderr",
     "output_type": "stream",
     "text": [
      "SELFCAL - INFO : # Major self-calibration cycle 4 for chunk 02 done #\n"
     ]
    },
    {
     "name": "stderr",
     "output_type": "stream",
     "text": [
      "SELFCAL - INFO : # Major self-calibration cycle 5 for chunk 02 started #\n"
     ]
    },
    {
     "name": "stderr",
     "output_type": "stream",
     "text": [
      "SELFCAL - INFO : # Creating directory 05 #\n"
     ]
    },
    {
     "name": "stderr",
     "output_type": "stream",
     "text": [
      "SELFCAL - INFO : # Created mask with cutoff 0.000265397597104 for self-calibration cycle 5 from previous cycle image #\n"
     ]
    },
    {
     "name": "stderr",
     "output_type": "stream",
     "text": [
      "SELFCAL - INFO : # Cutoff for cleaning set to 7.74076324888e-05 Jy/beam #\n"
     ]
    },
    {
     "name": "stderr",
     "output_type": "stream",
     "text": [
      "SELFCAL - INFO : # Created restored image from self-calibration cycle 5 #\n"
     ]
    },
    {
     "name": "stderr",
     "output_type": "stream",
     "text": [
      "SELFCAL - INFO : # Created residual image from self-calibration cycle 5 #\n"
     ]
    },
    {
     "name": "stderr",
     "output_type": "stream",
     "text": [
      "SELFCAL - INFO : # Major self-calibration cycle 5 for chunk 02 done #\n"
     ]
    },
    {
     "name": "stderr",
     "output_type": "stream",
     "text": [
      "SELFCAL - INFO : # Starting adaptive self-calibration routine on chunk 03 #\n"
     ]
    },
    {
     "name": "stderr",
     "output_type": "stream",
     "text": [
      "SELFCAL - INFO : # Moved to directory /data/adebahr/apertif/tutorial/T1/B01/selfcal/03 #\n"
     ]
    },
    {
     "name": "stderr",
     "output_type": "stream",
     "text": [
      "SELFCAL - INFO : # Theoretical noise for chunk 03 is 2.95e-08 Jy/beam #\n"
     ]
    },
    {
     "name": "stderr",
     "output_type": "stream",
     "text": [
      "SELFCAL - INFO : # Major self-calibration cycle 0 for chunk 03 started #\n"
     ]
    },
    {
     "name": "stderr",
     "output_type": "stream",
     "text": [
      "SELFCAL - INFO : # Creating directory 00 #\n"
     ]
    },
    {
     "name": "stderr",
     "output_type": "stream",
     "text": [
      "SELFCAL - INFO : # The maximum dynamic range for chunk 03 is 3211.97105666 #\n"
     ]
    },
    {
     "name": "stderr",
     "output_type": "stream",
     "text": [
      "root - INFO : ### Using standard WSRT beam for calculating apparent fluxes! ###\n"
     ]
    },
    {
     "name": "stderr",
     "output_type": "stream",
     "text": [
      "root - INFO : ### Field seems to have a flux of 0.397916898268 Jy ###\n"
     ]
    },
    {
     "name": "stderr",
     "output_type": "stream",
     "text": [
      "root - INFO : ### Found 12 source(s) in the model at a cutoff of 90.0 percent with a total flux of 0.361681387431 Jy ###\n"
     ]
    },
    {
     "name": "stderr",
     "output_type": "stream",
     "text": [
      "root - INFO : ### Wrote mask textfile to 00/mask.txt! ###\n"
     ]
    },
    {
     "name": "stderr",
     "output_type": "stream",
     "text": [
      "SELFCAL - INFO : # Parametric mask for self-calibration cycle 0 created #\n"
     ]
    },
    {
     "name": "stderr",
     "output_type": "stream",
     "text": [
      "SELFCAL - INFO : # Cleaned image from self-calibration cycle 0 with 500 iterations #\n"
     ]
    },
    {
     "name": "stderr",
     "output_type": "stream",
     "text": [
      "SELFCAL - INFO : # Created restored image from self-calibration cycle 0 #\n"
     ]
    },
    {
     "name": "stderr",
     "output_type": "stream",
     "text": [
      "SELFCAL - INFO : # Created residual image from self-calibration cycle 0 #\n"
     ]
    },
    {
     "name": "stderr",
     "output_type": "stream",
     "text": [
      "SELFCAL - INFO : ### Self calibration reached a DR of 1396 of the maximum of 3211 ###\n"
     ]
    },
    {
     "name": "stderr",
     "output_type": "stream",
     "text": [
      "SELFCAL - INFO : ### Stop criterium was set to 1.5 corresponding to a DR of 2141 ###\n"
     ]
    },
    {
     "name": "stderr",
     "output_type": "stream",
     "text": [
      "SELFCAL - INFO : ### Continuing self calibration with next cycle... ###\n"
     ]
    },
    {
     "name": "stderr",
     "output_type": "stream",
     "text": [
      "SELFCAL - INFO : # Major self-calibration cycle 0 for chunk 03 done #\n"
     ]
    },
    {
     "name": "stderr",
     "output_type": "stream",
     "text": [
      "SELFCAL - INFO : # Major self-calibration cycle 1 for chunk 03 started #\n"
     ]
    },
    {
     "name": "stderr",
     "output_type": "stream",
     "text": [
      "SELFCAL - INFO : # Creating directory 01 #\n"
     ]
    },
    {
     "name": "stderr",
     "output_type": "stream",
     "text": [
      "SELFCAL - INFO : # Created mask with cutoff 0.000470409542322 for self-calibration cycle 1 from previous cycle image #\n"
     ]
    },
    {
     "name": "stderr",
     "output_type": "stream",
     "text": [
      "SELFCAL - INFO : # Cutoff for cleaning set to 0.000118712836411 Jy/beam #\n"
     ]
    },
    {
     "name": "stderr",
     "output_type": "stream",
     "text": [
      "SELFCAL - INFO : # Created restored image from self-calibration cycle 1 #\n"
     ]
    },
    {
     "name": "stderr",
     "output_type": "stream",
     "text": [
      "SELFCAL - INFO : # Created residual image from self-calibration cycle 1 #\n"
     ]
    },
    {
     "name": "stderr",
     "output_type": "stream",
     "text": [
      "SELFCAL - INFO : ### Self calibration reached a DR of 1953 of the maximum of 3211 ###\n"
     ]
    },
    {
     "name": "stderr",
     "output_type": "stream",
     "text": [
      "SELFCAL - INFO : ### Stop criterium was set to 1.5 corresponding to a DR of 2141 ###\n"
     ]
    },
    {
     "name": "stderr",
     "output_type": "stream",
     "text": [
      "SELFCAL - INFO : ### Continuing self calibration with next cycle... ###\n"
     ]
    },
    {
     "name": "stderr",
     "output_type": "stream",
     "text": [
      "SELFCAL - INFO : # Major self-calibration cycle 1 for chunk 03 done #\n"
     ]
    },
    {
     "name": "stderr",
     "output_type": "stream",
     "text": [
      "SELFCAL - INFO : # Major self-calibration cycle 2 for chunk 03 started #\n"
     ]
    },
    {
     "name": "stderr",
     "output_type": "stream",
     "text": [
      "SELFCAL - INFO : # Creating directory 02 #\n"
     ]
    },
    {
     "name": "stderr",
     "output_type": "stream",
     "text": [
      "SELFCAL - INFO : # Created mask with cutoff 0.000291089199891 for self-calibration cycle 2 from previous cycle image #\n"
     ]
    },
    {
     "name": "stderr",
     "output_type": "stream",
     "text": [
      "SELFCAL - INFO : # Cutoff for cleaning set to 8.49010166348e-05 Jy/beam #\n"
     ]
    },
    {
     "name": "stderr",
     "output_type": "stream",
     "text": [
      "SELFCAL - INFO : # Created restored image from self-calibration cycle 2 #\n"
     ]
    },
    {
     "name": "stderr",
     "output_type": "stream",
     "text": [
      "SELFCAL - INFO : # Created residual image from self-calibration cycle 2 #\n"
     ]
    },
    {
     "name": "stderr",
     "output_type": "stream",
     "text": [
      "SELFCAL - INFO : ### Self calibration reached a DR of 2080 of the maximum of 3211 ###\n"
     ]
    },
    {
     "name": "stderr",
     "output_type": "stream",
     "text": [
      "SELFCAL - INFO : ### Stop criterium was set to 1.5 corresponding to a DR of 2141 ###\n"
     ]
    },
    {
     "name": "stderr",
     "output_type": "stream",
     "text": [
      "SELFCAL - INFO : ### Continuing self calibration with next cycle... ###\n"
     ]
    },
    {
     "name": "stderr",
     "output_type": "stream",
     "text": [
      "SELFCAL - INFO : # Major self-calibration cycle 2 for chunk 03 done #\n"
     ]
    },
    {
     "name": "stderr",
     "output_type": "stream",
     "text": [
      "SELFCAL - INFO : # Major self-calibration cycle 3 for chunk 03 started #\n"
     ]
    },
    {
     "name": "stderr",
     "output_type": "stream",
     "text": [
      "SELFCAL - INFO : # Creating directory 03 #\n"
     ]
    },
    {
     "name": "stderr",
     "output_type": "stream",
     "text": [
      "SELFCAL - INFO : # Created mask with cutoff 0.000273308716714 for self-calibration cycle 3 from previous cycle image #\n"
     ]
    },
    {
     "name": "stderr",
     "output_type": "stream",
     "text": [
      "SELFCAL - INFO : # Cutoff for cleaning set to 7.9715042375e-05 Jy/beam #\n"
     ]
    },
    {
     "name": "stderr",
     "output_type": "stream",
     "text": [
      "SELFCAL - INFO : # Created restored image from self-calibration cycle 3 #\n"
     ]
    },
    {
     "name": "stderr",
     "output_type": "stream",
     "text": [
      "SELFCAL - INFO : # Created residual image from self-calibration cycle 3 #\n"
     ]
    },
    {
     "name": "stderr",
     "output_type": "stream",
     "text": [
      "SELFCAL - INFO : ### Self calibration reached a DR of 2082 of the maximum of 3211 ###\n"
     ]
    },
    {
     "name": "stderr",
     "output_type": "stream",
     "text": [
      "SELFCAL - INFO : ### Stop criterium was set to 1.5 corresponding to a DR of 2141 ###\n"
     ]
    },
    {
     "name": "stderr",
     "output_type": "stream",
     "text": [
      "SELFCAL - INFO : ### Continuing self calibration with next cycle... ###\n"
     ]
    },
    {
     "name": "stderr",
     "output_type": "stream",
     "text": [
      "SELFCAL - INFO : # Major self-calibration cycle 3 for chunk 03 done #\n"
     ]
    },
    {
     "name": "stderr",
     "output_type": "stream",
     "text": [
      "SELFCAL - INFO : # Major self-calibration cycle 4 for chunk 03 started #\n"
     ]
    },
    {
     "name": "stderr",
     "output_type": "stream",
     "text": [
      "SELFCAL - INFO : # Creating directory 04 #\n"
     ]
    },
    {
     "name": "stderr",
     "output_type": "stream",
     "text": [
      "SELFCAL - INFO : # Created mask with cutoff 0.000272979661531 for self-calibration cycle 4 from previous cycle image #\n"
     ]
    },
    {
     "name": "stderr",
     "output_type": "stream",
     "text": [
      "SELFCAL - INFO : # Cutoff for cleaning set to 7.96190679466e-05 Jy/beam #\n"
     ]
    },
    {
     "name": "stderr",
     "output_type": "stream",
     "text": [
      "SELFCAL - INFO : # Created restored image from self-calibration cycle 4 #\n"
     ]
    },
    {
     "name": "stderr",
     "output_type": "stream",
     "text": [
      "SELFCAL - INFO : # Created residual image from self-calibration cycle 4 #\n"
     ]
    },
    {
     "name": "stderr",
     "output_type": "stream",
     "text": [
      "SELFCAL - INFO : ### Self calibration reached a DR of 2084 of the maximum of 3211 ###\n"
     ]
    },
    {
     "name": "stderr",
     "output_type": "stream",
     "text": [
      "SELFCAL - INFO : ### Stop criterium was set to 1.5 corresponding to a DR of 2141 ###\n"
     ]
    },
    {
     "name": "stderr",
     "output_type": "stream",
     "text": [
      "SELFCAL - INFO : ### Continuing self calibration with next cycle... ###\n"
     ]
    },
    {
     "name": "stderr",
     "output_type": "stream",
     "text": [
      "SELFCAL - INFO : # Major self-calibration cycle 4 for chunk 03 done #\n"
     ]
    },
    {
     "name": "stderr",
     "output_type": "stream",
     "text": [
      "SELFCAL - INFO : # Major self-calibration cycle 5 for chunk 03 started #\n"
     ]
    },
    {
     "name": "stderr",
     "output_type": "stream",
     "text": [
      "SELFCAL - INFO : # Creating directory 05 #\n"
     ]
    },
    {
     "name": "stderr",
     "output_type": "stream",
     "text": [
      "SELFCAL - INFO : # Created mask with cutoff 0.000272765071713 for self-calibration cycle 5 from previous cycle image #\n"
     ]
    },
    {
     "name": "stderr",
     "output_type": "stream",
     "text": [
      "SELFCAL - INFO : # Cutoff for cleaning set to 7.95564792497e-05 Jy/beam #\n"
     ]
    },
    {
     "name": "stderr",
     "output_type": "stream",
     "text": [
      "SELFCAL - INFO : # Created restored image from self-calibration cycle 5 #\n"
     ]
    },
    {
     "name": "stderr",
     "output_type": "stream",
     "text": [
      "SELFCAL - INFO : # Created residual image from self-calibration cycle 5 #\n"
     ]
    },
    {
     "name": "stderr",
     "output_type": "stream",
     "text": [
      "SELFCAL - INFO : # Major self-calibration cycle 5 for chunk 03 done #\n"
     ]
    },
    {
     "name": "stderr",
     "output_type": "stream",
     "text": [
      "SELFCAL - INFO : # Starting adaptive self-calibration routine on chunk 04 #\n"
     ]
    },
    {
     "name": "stderr",
     "output_type": "stream",
     "text": [
      "SELFCAL - INFO : # Moved to directory /data/adebahr/apertif/tutorial/T1/B01/selfcal/04 #\n"
     ]
    },
    {
     "name": "stderr",
     "output_type": "stream",
     "text": [
      "SELFCAL - INFO : # Theoretical noise for chunk 04 is 2.97e-08 Jy/beam #\n"
     ]
    },
    {
     "name": "stderr",
     "output_type": "stream",
     "text": [
      "SELFCAL - INFO : # Major self-calibration cycle 0 for chunk 04 started #\n"
     ]
    },
    {
     "name": "stderr",
     "output_type": "stream",
     "text": [
      "SELFCAL - INFO : # Creating directory 00 #\n"
     ]
    },
    {
     "name": "stderr",
     "output_type": "stream",
     "text": [
      "SELFCAL - INFO : # The maximum dynamic range for chunk 04 is 3266.92606464 #\n"
     ]
    },
    {
     "name": "stderr",
     "output_type": "stream",
     "text": [
      "root - INFO : ### Using standard WSRT beam for calculating apparent fluxes! ###\n"
     ]
    },
    {
     "name": "stderr",
     "output_type": "stream",
     "text": [
      "root - INFO : ### Field seems to have a flux of 0.409275632031 Jy ###\n"
     ]
    },
    {
     "name": "stderr",
     "output_type": "stream",
     "text": [
      "root - INFO : ### Found 12 source(s) in the model at a cutoff of 90.0 percent with a total flux of 0.372204175265 Jy ###\n"
     ]
    },
    {
     "name": "stderr",
     "output_type": "stream",
     "text": [
      "root - INFO : ### Wrote mask textfile to 00/mask.txt! ###\n"
     ]
    },
    {
     "name": "stderr",
     "output_type": "stream",
     "text": [
      "SELFCAL - INFO : # Parametric mask for self-calibration cycle 0 created #\n"
     ]
    },
    {
     "name": "stderr",
     "output_type": "stream",
     "text": [
      "SELFCAL - INFO : # Cleaned image from self-calibration cycle 0 with 500 iterations #\n"
     ]
    },
    {
     "name": "stderr",
     "output_type": "stream",
     "text": [
      "SELFCAL - INFO : # Created restored image from self-calibration cycle 0 #\n"
     ]
    },
    {
     "name": "stderr",
     "output_type": "stream",
     "text": [
      "SELFCAL - INFO : # Created residual image from self-calibration cycle 0 #\n"
     ]
    },
    {
     "name": "stderr",
     "output_type": "stream",
     "text": [
      "SELFCAL - INFO : ### Self calibration reached a DR of 1394 of the maximum of 3266 ###\n"
     ]
    },
    {
     "name": "stderr",
     "output_type": "stream",
     "text": [
      "SELFCAL - INFO : ### Stop criterium was set to 1.5 corresponding to a DR of 2177 ###\n"
     ]
    },
    {
     "name": "stderr",
     "output_type": "stream",
     "text": [
      "SELFCAL - INFO : ### Continuing self calibration with next cycle... ###\n"
     ]
    },
    {
     "name": "stderr",
     "output_type": "stream",
     "text": [
      "SELFCAL - INFO : # Major self-calibration cycle 0 for chunk 04 done #\n"
     ]
    },
    {
     "name": "stderr",
     "output_type": "stream",
     "text": [
      "SELFCAL - INFO : # Major self-calibration cycle 1 for chunk 04 started #\n"
     ]
    },
    {
     "name": "stderr",
     "output_type": "stream",
     "text": [
      "SELFCAL - INFO : # Creating directory 01 #\n"
     ]
    },
    {
     "name": "stderr",
     "output_type": "stream",
     "text": [
      "SELFCAL - INFO : # Created mask with cutoff 0.000475659035146 for self-calibration cycle 1 from previous cycle image #\n"
     ]
    },
    {
     "name": "stderr",
     "output_type": "stream",
     "text": [
      "SELFCAL - INFO : # Cutoff for cleaning set to 0.000121731685795 Jy/beam #\n"
     ]
    },
    {
     "name": "stderr",
     "output_type": "stream",
     "text": [
      "SELFCAL - INFO : # Created restored image from self-calibration cycle 1 #\n"
     ]
    },
    {
     "name": "stderr",
     "output_type": "stream",
     "text": [
      "SELFCAL - INFO : # Created residual image from self-calibration cycle 1 #\n"
     ]
    },
    {
     "name": "stderr",
     "output_type": "stream",
     "text": [
      "SELFCAL - INFO : ### Self calibration reached a DR of 1965 of the maximum of 3266 ###\n"
     ]
    },
    {
     "name": "stderr",
     "output_type": "stream",
     "text": [
      "SELFCAL - INFO : ### Stop criterium was set to 1.5 corresponding to a DR of 2177 ###\n"
     ]
    },
    {
     "name": "stderr",
     "output_type": "stream",
     "text": [
      "SELFCAL - INFO : ### Continuing self calibration with next cycle... ###\n"
     ]
    },
    {
     "name": "stderr",
     "output_type": "stream",
     "text": [
      "SELFCAL - INFO : # Major self-calibration cycle 1 for chunk 04 done #\n"
     ]
    },
    {
     "name": "stderr",
     "output_type": "stream",
     "text": [
      "SELFCAL - INFO : # Major self-calibration cycle 2 for chunk 04 started #\n"
     ]
    },
    {
     "name": "stderr",
     "output_type": "stream",
     "text": [
      "SELFCAL - INFO : # Creating directory 02 #\n"
     ]
    },
    {
     "name": "stderr",
     "output_type": "stream",
     "text": [
      "SELFCAL - INFO : # Created mask with cutoff 0.000296145517495 for self-calibration cycle 2 from previous cycle image #\n"
     ]
    },
    {
     "name": "stderr",
     "output_type": "stream",
     "text": [
      "SELFCAL - INFO : # Cutoff for cleaning set to 8.63757759362e-05 Jy/beam #\n"
     ]
    },
    {
     "name": "stderr",
     "output_type": "stream",
     "text": [
      "SELFCAL - INFO : # Created restored image from self-calibration cycle 2 #\n"
     ]
    },
    {
     "name": "stderr",
     "output_type": "stream",
     "text": [
      "SELFCAL - INFO : # Created residual image from self-calibration cycle 2 #\n"
     ]
    },
    {
     "name": "stderr",
     "output_type": "stream",
     "text": [
      "SELFCAL - INFO : ### Self calibration reached a DR of 2105 of the maximum of 3266 ###\n"
     ]
    },
    {
     "name": "stderr",
     "output_type": "stream",
     "text": [
      "SELFCAL - INFO : ### Stop criterium was set to 1.5 corresponding to a DR of 2177 ###\n"
     ]
    },
    {
     "name": "stderr",
     "output_type": "stream",
     "text": [
      "SELFCAL - INFO : ### Continuing self calibration with next cycle... ###\n"
     ]
    },
    {
     "name": "stderr",
     "output_type": "stream",
     "text": [
      "SELFCAL - INFO : # Major self-calibration cycle 2 for chunk 04 done #\n"
     ]
    },
    {
     "name": "stderr",
     "output_type": "stream",
     "text": [
      "SELFCAL - INFO : # Major self-calibration cycle 3 for chunk 04 started #\n"
     ]
    },
    {
     "name": "stderr",
     "output_type": "stream",
     "text": [
      "SELFCAL - INFO : # Creating directory 03 #\n"
     ]
    },
    {
     "name": "stderr",
     "output_type": "stream",
     "text": [
      "SELFCAL - INFO : # Created mask with cutoff 0.000276493883575 for self-calibration cycle 3 from previous cycle image #\n"
     ]
    },
    {
     "name": "stderr",
     "output_type": "stream",
     "text": [
      "SELFCAL - INFO : # Cutoff for cleaning set to 8.06440493761e-05 Jy/beam #\n"
     ]
    },
    {
     "name": "stderr",
     "output_type": "stream",
     "text": [
      "SELFCAL - INFO : # Created restored image from self-calibration cycle 3 #\n"
     ]
    },
    {
     "name": "stderr",
     "output_type": "stream",
     "text": [
      "SELFCAL - INFO : # Created residual image from self-calibration cycle 3 #\n"
     ]
    },
    {
     "name": "stderr",
     "output_type": "stream",
     "text": [
      "SELFCAL - INFO : ### Self calibration reached a DR of 2108 of the maximum of 3266 ###\n"
     ]
    },
    {
     "name": "stderr",
     "output_type": "stream",
     "text": [
      "SELFCAL - INFO : ### Stop criterium was set to 1.5 corresponding to a DR of 2177 ###\n"
     ]
    },
    {
     "name": "stderr",
     "output_type": "stream",
     "text": [
      "SELFCAL - INFO : ### Continuing self calibration with next cycle... ###\n"
     ]
    },
    {
     "name": "stderr",
     "output_type": "stream",
     "text": [
      "SELFCAL - INFO : # Major self-calibration cycle 3 for chunk 04 done #\n"
     ]
    },
    {
     "name": "stderr",
     "output_type": "stream",
     "text": [
      "SELFCAL - INFO : # Major self-calibration cycle 4 for chunk 04 started #\n"
     ]
    },
    {
     "name": "stderr",
     "output_type": "stream",
     "text": [
      "SELFCAL - INFO : # Creating directory 04 #\n"
     ]
    },
    {
     "name": "stderr",
     "output_type": "stream",
     "text": [
      "SELFCAL - INFO : # Created mask with cutoff 0.000276079656032 for self-calibration cycle 4 from previous cycle image #\n"
     ]
    },
    {
     "name": "stderr",
     "output_type": "stream",
     "text": [
      "SELFCAL - INFO : # Cutoff for cleaning set to 8.05232330094e-05 Jy/beam #\n"
     ]
    },
    {
     "name": "stderr",
     "output_type": "stream",
     "text": [
      "SELFCAL - INFO : # Created restored image from self-calibration cycle 4 #\n"
     ]
    },
    {
     "name": "stderr",
     "output_type": "stream",
     "text": [
      "SELFCAL - INFO : # Created residual image from self-calibration cycle 4 #\n"
     ]
    },
    {
     "name": "stderr",
     "output_type": "stream",
     "text": [
      "SELFCAL - INFO : ### Self calibration reached a DR of 2109 of the maximum of 3266 ###\n"
     ]
    },
    {
     "name": "stderr",
     "output_type": "stream",
     "text": [
      "SELFCAL - INFO : ### Stop criterium was set to 1.5 corresponding to a DR of 2177 ###\n"
     ]
    },
    {
     "name": "stderr",
     "output_type": "stream",
     "text": [
      "SELFCAL - INFO : ### Continuing self calibration with next cycle... ###\n"
     ]
    },
    {
     "name": "stderr",
     "output_type": "stream",
     "text": [
      "SELFCAL - INFO : # Major self-calibration cycle 4 for chunk 04 done #\n"
     ]
    },
    {
     "name": "stderr",
     "output_type": "stream",
     "text": [
      "SELFCAL - INFO : # Major self-calibration cycle 5 for chunk 04 started #\n"
     ]
    },
    {
     "name": "stderr",
     "output_type": "stream",
     "text": [
      "SELFCAL - INFO : # Creating directory 05 #\n"
     ]
    },
    {
     "name": "stderr",
     "output_type": "stream",
     "text": [
      "SELFCAL - INFO : # Created mask with cutoff 0.000275980819424 for self-calibration cycle 5 from previous cycle image #\n"
     ]
    },
    {
     "name": "stderr",
     "output_type": "stream",
     "text": [
      "SELFCAL - INFO : # Cutoff for cleaning set to 8.04944056654e-05 Jy/beam #\n"
     ]
    },
    {
     "name": "stderr",
     "output_type": "stream",
     "text": [
      "SELFCAL - INFO : # Created restored image from self-calibration cycle 5 #\n"
     ]
    },
    {
     "name": "stderr",
     "output_type": "stream",
     "text": [
      "SELFCAL - INFO : # Created residual image from self-calibration cycle 5 #\n"
     ]
    },
    {
     "name": "stderr",
     "output_type": "stream",
     "text": [
      "SELFCAL - INFO : # Major self-calibration cycle 5 for chunk 04 done #\n"
     ]
    },
    {
     "name": "stderr",
     "output_type": "stream",
     "text": [
      "SELFCAL - INFO : # Starting adaptive self-calibration routine on chunk 05 #\n"
     ]
    },
    {
     "name": "stderr",
     "output_type": "stream",
     "text": [
      "SELFCAL - INFO : # Moved to directory /data/adebahr/apertif/tutorial/T1/B01/selfcal/05 #\n"
     ]
    },
    {
     "name": "stderr",
     "output_type": "stream",
     "text": [
      "SELFCAL - INFO : # Theoretical noise for chunk 05 is 2.95e-08 Jy/beam #\n"
     ]
    },
    {
     "name": "stderr",
     "output_type": "stream",
     "text": [
      "SELFCAL - INFO : # Major self-calibration cycle 0 for chunk 05 started #\n"
     ]
    },
    {
     "name": "stderr",
     "output_type": "stream",
     "text": [
      "SELFCAL - INFO : # Creating directory 00 #\n"
     ]
    },
    {
     "name": "stderr",
     "output_type": "stream",
     "text": [
      "SELFCAL - INFO : # The maximum dynamic range for chunk 05 is 3324.00051214 #\n"
     ]
    },
    {
     "name": "stderr",
     "output_type": "stream",
     "text": [
      "root - INFO : ### Using standard WSRT beam for calculating apparent fluxes! ###\n"
     ]
    },
    {
     "name": "stderr",
     "output_type": "stream",
     "text": [
      "root - INFO : ### Field seems to have a flux of 0.419842813073 Jy ###\n"
     ]
    },
    {
     "name": "stderr",
     "output_type": "stream",
     "text": [
      "root - INFO : ### Found 12 source(s) in the model at a cutoff of 90.0 percent with a total flux of 0.38199906413 Jy ###\n"
     ]
    },
    {
     "name": "stderr",
     "output_type": "stream",
     "text": [
      "root - INFO : ### Wrote mask textfile to 00/mask.txt! ###\n"
     ]
    },
    {
     "name": "stderr",
     "output_type": "stream",
     "text": [
      "SELFCAL - INFO : # Parametric mask for self-calibration cycle 0 created #\n"
     ]
    },
    {
     "name": "stderr",
     "output_type": "stream",
     "text": [
      "SELFCAL - INFO : # Cleaned image from self-calibration cycle 0 with 500 iterations #\n"
     ]
    },
    {
     "name": "stderr",
     "output_type": "stream",
     "text": [
      "SELFCAL - INFO : # Created restored image from self-calibration cycle 0 #\n"
     ]
    },
    {
     "name": "stderr",
     "output_type": "stream",
     "text": [
      "SELFCAL - INFO : # Created residual image from self-calibration cycle 0 #\n"
     ]
    },
    {
     "name": "stderr",
     "output_type": "stream",
     "text": [
      "SELFCAL - INFO : ### Self calibration reached a DR of 1250 of the maximum of 3324 ###\n"
     ]
    },
    {
     "name": "stderr",
     "output_type": "stream",
     "text": [
      "SELFCAL - INFO : ### Stop criterium was set to 1.5 corresponding to a DR of 2216 ###\n"
     ]
    },
    {
     "name": "stderr",
     "output_type": "stream",
     "text": [
      "SELFCAL - INFO : ### Continuing self calibration with next cycle... ###\n"
     ]
    },
    {
     "name": "stderr",
     "output_type": "stream",
     "text": [
      "SELFCAL - INFO : # Major self-calibration cycle 0 for chunk 05 done #\n"
     ]
    },
    {
     "name": "stderr",
     "output_type": "stream",
     "text": [
      "SELFCAL - INFO : # Major self-calibration cycle 1 for chunk 05 started #\n"
     ]
    },
    {
     "name": "stderr",
     "output_type": "stream",
     "text": [
      "SELFCAL - INFO : # Creating directory 01 #\n"
     ]
    },
    {
     "name": "stderr",
     "output_type": "stream",
     "text": [
      "SELFCAL - INFO : # Created mask with cutoff 0.000485604722053 for self-calibration cycle 1 from previous cycle image #\n"
     ]
    },
    {
     "name": "stderr",
     "output_type": "stream",
     "text": [
      "SELFCAL - INFO : # Cutoff for cleaning set to 0.000137194640047 Jy/beam #\n"
     ]
    },
    {
     "name": "stderr",
     "output_type": "stream",
     "text": [
      "SELFCAL - INFO : # Created restored image from self-calibration cycle 1 #\n"
     ]
    },
    {
     "name": "stderr",
     "output_type": "stream",
     "text": [
      "SELFCAL - INFO : # Created residual image from self-calibration cycle 1 #\n"
     ]
    },
    {
     "name": "stderr",
     "output_type": "stream",
     "text": [
      "SELFCAL - INFO : ### Self calibration reached a DR of 1664 of the maximum of 3324 ###\n"
     ]
    },
    {
     "name": "stderr",
     "output_type": "stream",
     "text": [
      "SELFCAL - INFO : ### Stop criterium was set to 1.5 corresponding to a DR of 2216 ###\n"
     ]
    },
    {
     "name": "stderr",
     "output_type": "stream",
     "text": [
      "SELFCAL - INFO : ### Continuing self calibration with next cycle... ###\n"
     ]
    },
    {
     "name": "stderr",
     "output_type": "stream",
     "text": [
      "SELFCAL - INFO : # Major self-calibration cycle 1 for chunk 05 done #\n"
     ]
    },
    {
     "name": "stderr",
     "output_type": "stream",
     "text": [
      "SELFCAL - INFO : # Major self-calibration cycle 2 for chunk 05 started #\n"
     ]
    },
    {
     "name": "stderr",
     "output_type": "stream",
     "text": [
      "SELFCAL - INFO : # Creating directory 02 #\n"
     ]
    },
    {
     "name": "stderr",
     "output_type": "stream",
     "text": [
      "SELFCAL - INFO : # Created mask with cutoff 0.000353566159902 for self-calibration cycle 2 from previous cycle image #\n"
     ]
    },
    {
     "name": "stderr",
     "output_type": "stream",
     "text": [
      "SELFCAL - INFO : # Cutoff for cleaning set to 0.000103123463305 Jy/beam #\n"
     ]
    },
    {
     "name": "stderr",
     "output_type": "stream",
     "text": [
      "SELFCAL - INFO : # Created restored image from self-calibration cycle 2 #\n"
     ]
    },
    {
     "name": "stderr",
     "output_type": "stream",
     "text": [
      "SELFCAL - INFO : # Created residual image from self-calibration cycle 2 #\n"
     ]
    },
    {
     "name": "stderr",
     "output_type": "stream",
     "text": [
      "SELFCAL - INFO : ### Self calibration reached a DR of 1715 of the maximum of 3324 ###\n"
     ]
    },
    {
     "name": "stderr",
     "output_type": "stream",
     "text": [
      "SELFCAL - INFO : ### Stop criterium was set to 1.5 corresponding to a DR of 2216 ###\n"
     ]
    },
    {
     "name": "stderr",
     "output_type": "stream",
     "text": [
      "SELFCAL - INFO : ### Continuing self calibration with next cycle... ###\n"
     ]
    },
    {
     "name": "stderr",
     "output_type": "stream",
     "text": [
      "SELFCAL - INFO : # Major self-calibration cycle 2 for chunk 05 done #\n"
     ]
    },
    {
     "name": "stderr",
     "output_type": "stream",
     "text": [
      "SELFCAL - INFO : # Major self-calibration cycle 3 for chunk 05 started #\n"
     ]
    },
    {
     "name": "stderr",
     "output_type": "stream",
     "text": [
      "SELFCAL - INFO : # Creating directory 03 #\n"
     ]
    },
    {
     "name": "stderr",
     "output_type": "stream",
     "text": [
      "SELFCAL - INFO : # Created mask with cutoff 0.000342895888025 for self-calibration cycle 3 from previous cycle image #\n"
     ]
    },
    {
     "name": "stderr",
     "output_type": "stream",
     "text": [
      "SELFCAL - INFO : # Cutoff for cleaning set to 0.000100011300674 Jy/beam #\n"
     ]
    },
    {
     "name": "stderr",
     "output_type": "stream",
     "text": [
      "SELFCAL - INFO : # Created restored image from self-calibration cycle 3 #\n"
     ]
    },
    {
     "name": "stderr",
     "output_type": "stream",
     "text": [
      "SELFCAL - INFO : # Created residual image from self-calibration cycle 3 #\n"
     ]
    },
    {
     "name": "stderr",
     "output_type": "stream",
     "text": [
      "SELFCAL - INFO : ### Self calibration reached a DR of 1717 of the maximum of 3324 ###\n"
     ]
    },
    {
     "name": "stderr",
     "output_type": "stream",
     "text": [
      "SELFCAL - INFO : ### Stop criterium was set to 1.5 corresponding to a DR of 2216 ###\n"
     ]
    },
    {
     "name": "stderr",
     "output_type": "stream",
     "text": [
      "SELFCAL - INFO : ### Continuing self calibration with next cycle... ###\n"
     ]
    },
    {
     "name": "stderr",
     "output_type": "stream",
     "text": [
      "SELFCAL - INFO : # Major self-calibration cycle 3 for chunk 05 done #\n"
     ]
    },
    {
     "name": "stderr",
     "output_type": "stream",
     "text": [
      "SELFCAL - INFO : # Major self-calibration cycle 4 for chunk 05 started #\n"
     ]
    },
    {
     "name": "stderr",
     "output_type": "stream",
     "text": [
      "SELFCAL - INFO : # Creating directory 04 #\n"
     ]
    },
    {
     "name": "stderr",
     "output_type": "stream",
     "text": [
      "SELFCAL - INFO : # Created mask with cutoff 0.00034258562664 for self-calibration cycle 4 from previous cycle image #\n"
     ]
    },
    {
     "name": "stderr",
     "output_type": "stream",
     "text": [
      "SELFCAL - INFO : # Cutoff for cleaning set to 9.99208077701e-05 Jy/beam #\n"
     ]
    },
    {
     "name": "stderr",
     "output_type": "stream",
     "text": [
      "SELFCAL - INFO : # Created restored image from self-calibration cycle 4 #\n"
     ]
    },
    {
     "name": "stderr",
     "output_type": "stream",
     "text": [
      "SELFCAL - INFO : # Created residual image from self-calibration cycle 4 #\n"
     ]
    },
    {
     "name": "stderr",
     "output_type": "stream",
     "text": [
      "SELFCAL - INFO : ### Self calibration reached a DR of 1718 of the maximum of 3324 ###\n"
     ]
    },
    {
     "name": "stderr",
     "output_type": "stream",
     "text": [
      "SELFCAL - INFO : ### Stop criterium was set to 1.5 corresponding to a DR of 2216 ###\n"
     ]
    },
    {
     "name": "stderr",
     "output_type": "stream",
     "text": [
      "SELFCAL - INFO : ### Continuing self calibration with next cycle... ###\n"
     ]
    },
    {
     "name": "stderr",
     "output_type": "stream",
     "text": [
      "SELFCAL - INFO : # Major self-calibration cycle 4 for chunk 05 done #\n"
     ]
    },
    {
     "name": "stderr",
     "output_type": "stream",
     "text": [
      "SELFCAL - INFO : # Major self-calibration cycle 5 for chunk 05 started #\n"
     ]
    },
    {
     "name": "stderr",
     "output_type": "stream",
     "text": [
      "SELFCAL - INFO : # Creating directory 05 #\n"
     ]
    },
    {
     "name": "stderr",
     "output_type": "stream",
     "text": [
      "SELFCAL - INFO : # Created mask with cutoff 0.000342408406141 for self-calibration cycle 5 from previous cycle image #\n"
     ]
    },
    {
     "name": "stderr",
     "output_type": "stream",
     "text": [
      "SELFCAL - INFO : # Cutoff for cleaning set to 9.98691184577e-05 Jy/beam #\n"
     ]
    },
    {
     "name": "stderr",
     "output_type": "stream",
     "text": [
      "SELFCAL - INFO : # Created restored image from self-calibration cycle 5 #\n"
     ]
    },
    {
     "name": "stderr",
     "output_type": "stream",
     "text": [
      "SELFCAL - INFO : # Created residual image from self-calibration cycle 5 #\n"
     ]
    },
    {
     "name": "stderr",
     "output_type": "stream",
     "text": [
      "SELFCAL - INFO : # Major self-calibration cycle 5 for chunk 05 done #\n"
     ]
    },
    {
     "name": "stderr",
     "output_type": "stream",
     "text": [
      "SELFCAL - INFO : # Starting adaptive self-calibration routine on chunk 06 #\n"
     ]
    },
    {
     "name": "stderr",
     "output_type": "stream",
     "text": [
      "SELFCAL - INFO : # Moved to directory /data/adebahr/apertif/tutorial/T1/B01/selfcal/06 #\n"
     ]
    },
    {
     "name": "stderr",
     "output_type": "stream",
     "text": [
      "SELFCAL - INFO : # Theoretical noise for chunk 06 is 2.91e-08 Jy/beam #\n"
     ]
    },
    {
     "name": "stderr",
     "output_type": "stream",
     "text": [
      "SELFCAL - INFO : # Major self-calibration cycle 0 for chunk 06 started #\n"
     ]
    },
    {
     "name": "stderr",
     "output_type": "stream",
     "text": [
      "SELFCAL - INFO : # Creating directory 00 #\n"
     ]
    },
    {
     "name": "stderr",
     "output_type": "stream",
     "text": [
      "SELFCAL - INFO : # The maximum dynamic range for chunk 06 is 3454.56308311 #\n"
     ]
    },
    {
     "name": "stderr",
     "output_type": "stream",
     "text": [
      "root - INFO : ### Using standard WSRT beam for calculating apparent fluxes! ###\n"
     ]
    },
    {
     "name": "stderr",
     "output_type": "stream",
     "text": [
      "root - INFO : ### Field seems to have a flux of 0.430638123155 Jy ###\n"
     ]
    },
    {
     "name": "stderr",
     "output_type": "stream",
     "text": [
      "root - INFO : ### Found 12 source(s) in the model at a cutoff of 90.0 percent with a total flux of 0.392010583088 Jy ###\n"
     ]
    },
    {
     "name": "stderr",
     "output_type": "stream",
     "text": [
      "root - INFO : ### Wrote mask textfile to 00/mask.txt! ###\n"
     ]
    },
    {
     "name": "stderr",
     "output_type": "stream",
     "text": [
      "SELFCAL - INFO : # Parametric mask for self-calibration cycle 0 created #\n"
     ]
    },
    {
     "name": "stderr",
     "output_type": "stream",
     "text": [
      "SELFCAL - INFO : # Cleaned image from self-calibration cycle 0 with 500 iterations #\n"
     ]
    },
    {
     "name": "stderr",
     "output_type": "stream",
     "text": [
      "SELFCAL - INFO : # Created restored image from self-calibration cycle 0 #\n"
     ]
    },
    {
     "name": "stderr",
     "output_type": "stream",
     "text": [
      "SELFCAL - INFO : # Created residual image from self-calibration cycle 0 #\n"
     ]
    },
    {
     "name": "stderr",
     "output_type": "stream",
     "text": [
      "SELFCAL - INFO : ### Self calibration reached a DR of 1363 of the maximum of 3454 ###\n"
     ]
    },
    {
     "name": "stderr",
     "output_type": "stream",
     "text": [
      "SELFCAL - INFO : ### Stop criterium was set to 1.5 corresponding to a DR of 2303 ###\n"
     ]
    },
    {
     "name": "stderr",
     "output_type": "stream",
     "text": [
      "SELFCAL - INFO : ### Continuing self calibration with next cycle... ###\n"
     ]
    },
    {
     "name": "stderr",
     "output_type": "stream",
     "text": [
      "SELFCAL - INFO : # Major self-calibration cycle 0 for chunk 06 done #\n"
     ]
    },
    {
     "name": "stderr",
     "output_type": "stream",
     "text": [
      "SELFCAL - INFO : # Major self-calibration cycle 1 for chunk 06 started #\n"
     ]
    },
    {
     "name": "stderr",
     "output_type": "stream",
     "text": [
      "SELFCAL - INFO : # Creating directory 01 #\n"
     ]
    },
    {
     "name": "stderr",
     "output_type": "stream",
     "text": [
      "SELFCAL - INFO : # Created mask with cutoff 0.000481767486781 for self-calibration cycle 1 from previous cycle image #\n"
     ]
    },
    {
     "name": "stderr",
     "output_type": "stream",
     "text": [
      "SELFCAL - INFO : # Cutoff for cleaning set to 0.000129068919705 Jy/beam #\n"
     ]
    },
    {
     "name": "stderr",
     "output_type": "stream",
     "text": [
      "SELFCAL - INFO : # Created restored image from self-calibration cycle 1 #\n"
     ]
    },
    {
     "name": "stderr",
     "output_type": "stream",
     "text": [
      "SELFCAL - INFO : # Created residual image from self-calibration cycle 1 #\n"
     ]
    },
    {
     "name": "stderr",
     "output_type": "stream",
     "text": [
      "SELFCAL - INFO : ### Self calibration reached a DR of 1997 of the maximum of 3454 ###\n"
     ]
    },
    {
     "name": "stderr",
     "output_type": "stream",
     "text": [
      "SELFCAL - INFO : ### Stop criterium was set to 1.5 corresponding to a DR of 2303 ###\n"
     ]
    },
    {
     "name": "stderr",
     "output_type": "stream",
     "text": [
      "SELFCAL - INFO : ### Continuing self calibration with next cycle... ###\n"
     ]
    },
    {
     "name": "stderr",
     "output_type": "stream",
     "text": [
      "SELFCAL - INFO : # Major self-calibration cycle 1 for chunk 06 done #\n"
     ]
    },
    {
     "name": "stderr",
     "output_type": "stream",
     "text": [
      "SELFCAL - INFO : # Major self-calibration cycle 2 for chunk 06 started #\n"
     ]
    },
    {
     "name": "stderr",
     "output_type": "stream",
     "text": [
      "SELFCAL - INFO : # Creating directory 02 #\n"
     ]
    },
    {
     "name": "stderr",
     "output_type": "stream",
     "text": [
      "SELFCAL - INFO : # Created mask with cutoff 0.000301931650029 for self-calibration cycle 2 from previous cycle image #\n"
     ]
    },
    {
     "name": "stderr",
     "output_type": "stream",
     "text": [
      "SELFCAL - INFO : # Cutoff for cleaning set to 8.8063397925e-05 Jy/beam #\n"
     ]
    },
    {
     "name": "stderr",
     "output_type": "stream",
     "text": [
      "SELFCAL - INFO : # Created restored image from self-calibration cycle 2 #\n"
     ]
    },
    {
     "name": "stderr",
     "output_type": "stream",
     "text": [
      "SELFCAL - INFO : # Created residual image from self-calibration cycle 2 #\n"
     ]
    },
    {
     "name": "stderr",
     "output_type": "stream",
     "text": [
      "SELFCAL - INFO : ### Self calibration reached a DR of 2127 of the maximum of 3454 ###\n"
     ]
    },
    {
     "name": "stderr",
     "output_type": "stream",
     "text": [
      "SELFCAL - INFO : ### Stop criterium was set to 1.5 corresponding to a DR of 2303 ###\n"
     ]
    },
    {
     "name": "stderr",
     "output_type": "stream",
     "text": [
      "SELFCAL - INFO : ### Continuing self calibration with next cycle... ###\n"
     ]
    },
    {
     "name": "stderr",
     "output_type": "stream",
     "text": [
      "SELFCAL - INFO : # Major self-calibration cycle 2 for chunk 06 done #\n"
     ]
    },
    {
     "name": "stderr",
     "output_type": "stream",
     "text": [
      "SELFCAL - INFO : # Major self-calibration cycle 3 for chunk 06 started #\n"
     ]
    },
    {
     "name": "stderr",
     "output_type": "stream",
     "text": [
      "SELFCAL - INFO : # Creating directory 03 #\n"
     ]
    },
    {
     "name": "stderr",
     "output_type": "stream",
     "text": [
      "SELFCAL - INFO : # Created mask with cutoff 0.000283483997919 for self-calibration cycle 3 from previous cycle image #\n"
     ]
    },
    {
     "name": "stderr",
     "output_type": "stream",
     "text": [
      "SELFCAL - INFO : # Cutoff for cleaning set to 8.26828327263e-05 Jy/beam #\n"
     ]
    },
    {
     "name": "stderr",
     "output_type": "stream",
     "text": [
      "SELFCAL - INFO : # Created restored image from self-calibration cycle 3 #\n"
     ]
    },
    {
     "name": "stderr",
     "output_type": "stream",
     "text": [
      "SELFCAL - INFO : # Created residual image from self-calibration cycle 3 #\n"
     ]
    },
    {
     "name": "stderr",
     "output_type": "stream",
     "text": [
      "SELFCAL - INFO : ### Self calibration reached a DR of 2133 of the maximum of 3454 ###\n"
     ]
    },
    {
     "name": "stderr",
     "output_type": "stream",
     "text": [
      "SELFCAL - INFO : ### Stop criterium was set to 1.5 corresponding to a DR of 2303 ###\n"
     ]
    },
    {
     "name": "stderr",
     "output_type": "stream",
     "text": [
      "SELFCAL - INFO : ### Continuing self calibration with next cycle... ###\n"
     ]
    },
    {
     "name": "stderr",
     "output_type": "stream",
     "text": [
      "SELFCAL - INFO : # Major self-calibration cycle 3 for chunk 06 done #\n"
     ]
    },
    {
     "name": "stderr",
     "output_type": "stream",
     "text": [
      "SELFCAL - INFO : # Major self-calibration cycle 4 for chunk 06 started #\n"
     ]
    },
    {
     "name": "stderr",
     "output_type": "stream",
     "text": [
      "SELFCAL - INFO : # Creating directory 04 #\n"
     ]
    },
    {
     "name": "stderr",
     "output_type": "stream",
     "text": [
      "SELFCAL - INFO : # Created mask with cutoff 0.000282707689621 for self-calibration cycle 4 from previous cycle image #\n"
     ]
    },
    {
     "name": "stderr",
     "output_type": "stream",
     "text": [
      "SELFCAL - INFO : # Cutoff for cleaning set to 8.24564094728e-05 Jy/beam #\n"
     ]
    },
    {
     "name": "stderr",
     "output_type": "stream",
     "text": [
      "SELFCAL - INFO : # Created restored image from self-calibration cycle 4 #\n"
     ]
    },
    {
     "name": "stderr",
     "output_type": "stream",
     "text": [
      "SELFCAL - INFO : # Created residual image from self-calibration cycle 4 #\n"
     ]
    },
    {
     "name": "stderr",
     "output_type": "stream",
     "text": [
      "SELFCAL - INFO : ### Self calibration reached a DR of 2134 of the maximum of 3454 ###\n"
     ]
    },
    {
     "name": "stderr",
     "output_type": "stream",
     "text": [
      "SELFCAL - INFO : ### Stop criterium was set to 1.5 corresponding to a DR of 2303 ###\n"
     ]
    },
    {
     "name": "stderr",
     "output_type": "stream",
     "text": [
      "SELFCAL - INFO : ### Continuing self calibration with next cycle... ###\n"
     ]
    },
    {
     "name": "stderr",
     "output_type": "stream",
     "text": [
      "SELFCAL - INFO : # Major self-calibration cycle 4 for chunk 06 done #\n"
     ]
    },
    {
     "name": "stderr",
     "output_type": "stream",
     "text": [
      "SELFCAL - INFO : # Major self-calibration cycle 5 for chunk 06 started #\n"
     ]
    },
    {
     "name": "stderr",
     "output_type": "stream",
     "text": [
      "SELFCAL - INFO : # Creating directory 05 #\n"
     ]
    },
    {
     "name": "stderr",
     "output_type": "stream",
     "text": [
      "SELFCAL - INFO : # Created mask with cutoff 0.000282568646071 for self-calibration cycle 5 from previous cycle image #\n"
     ]
    },
    {
     "name": "stderr",
     "output_type": "stream",
     "text": [
      "SELFCAL - INFO : # Cutoff for cleaning set to 8.2415855104e-05 Jy/beam #\n"
     ]
    },
    {
     "name": "stderr",
     "output_type": "stream",
     "text": [
      "SELFCAL - INFO : # Created restored image from self-calibration cycle 5 #\n"
     ]
    },
    {
     "name": "stderr",
     "output_type": "stream",
     "text": [
      "SELFCAL - INFO : # Created residual image from self-calibration cycle 5 #\n"
     ]
    },
    {
     "name": "stderr",
     "output_type": "stream",
     "text": [
      "SELFCAL - INFO : # Major self-calibration cycle 5 for chunk 06 done #\n"
     ]
    },
    {
     "name": "stderr",
     "output_type": "stream",
     "text": [
      "SELFCAL - INFO : # Starting adaptive self-calibration routine on chunk 07 #\n"
     ]
    },
    {
     "name": "stderr",
     "output_type": "stream",
     "text": [
      "SELFCAL - INFO : # Moved to directory /data/adebahr/apertif/tutorial/T1/B01/selfcal/07 #\n"
     ]
    },
    {
     "name": "stderr",
     "output_type": "stream",
     "text": [
      "SELFCAL - INFO : # Theoretical noise for chunk 07 is 3.05e-08 Jy/beam #\n"
     ]
    },
    {
     "name": "stderr",
     "output_type": "stream",
     "text": [
      "SELFCAL - INFO : # Major self-calibration cycle 0 for chunk 07 started #\n"
     ]
    },
    {
     "name": "stderr",
     "output_type": "stream",
     "text": [
      "SELFCAL - INFO : # Creating directory 00 #\n"
     ]
    },
    {
     "name": "stderr",
     "output_type": "stream",
     "text": [
      "SELFCAL - INFO : # The maximum dynamic range for chunk 07 is 3374.48423026 #\n"
     ]
    },
    {
     "name": "stderr",
     "output_type": "stream",
     "text": [
      "root - INFO : ### Using standard WSRT beam for calculating apparent fluxes! ###\n"
     ]
    },
    {
     "name": "stderr",
     "output_type": "stream",
     "text": [
      "root - INFO : ### Field seems to have a flux of 0.44110321109 Jy ###\n"
     ]
    },
    {
     "name": "stderr",
     "output_type": "stream",
     "text": [
      "root - INFO : ### Found 12 source(s) in the model at a cutoff of 90.0 percent with a total flux of 0.401720668309 Jy ###\n"
     ]
    },
    {
     "name": "stderr",
     "output_type": "stream",
     "text": [
      "root - INFO : ### Wrote mask textfile to 00/mask.txt! ###\n"
     ]
    },
    {
     "name": "stderr",
     "output_type": "stream",
     "text": [
      "SELFCAL - INFO : # Parametric mask for self-calibration cycle 0 created #\n"
     ]
    },
    {
     "name": "stderr",
     "output_type": "stream",
     "text": [
      "SELFCAL - INFO : # Cleaned image from self-calibration cycle 0 with 500 iterations #\n"
     ]
    },
    {
     "name": "stderr",
     "output_type": "stream",
     "text": [
      "SELFCAL - INFO : # Created restored image from self-calibration cycle 0 #\n"
     ]
    },
    {
     "name": "stderr",
     "output_type": "stream",
     "text": [
      "SELFCAL - INFO : # Created residual image from self-calibration cycle 0 #\n"
     ]
    },
    {
     "name": "stderr",
     "output_type": "stream",
     "text": [
      "SELFCAL - INFO : ### Self calibration reached a DR of 1321 of the maximum of 3374 ###\n"
     ]
    },
    {
     "name": "stderr",
     "output_type": "stream",
     "text": [
      "SELFCAL - INFO : ### Stop criterium was set to 1.5 corresponding to a DR of 2249 ###\n"
     ]
    },
    {
     "name": "stderr",
     "output_type": "stream",
     "text": [
      "SELFCAL - INFO : ### Continuing self calibration with next cycle... ###\n"
     ]
    },
    {
     "name": "stderr",
     "output_type": "stream",
     "text": [
      "SELFCAL - INFO : # Major self-calibration cycle 0 for chunk 07 done #\n"
     ]
    },
    {
     "name": "stderr",
     "output_type": "stream",
     "text": [
      "SELFCAL - INFO : # Major self-calibration cycle 1 for chunk 07 started #\n"
     ]
    },
    {
     "name": "stderr",
     "output_type": "stream",
     "text": [
      "SELFCAL - INFO : # Creating directory 01 #\n"
     ]
    },
    {
     "name": "stderr",
     "output_type": "stream",
     "text": [
      "SELFCAL - INFO : # Created mask with cutoff 0.000508978078142 for self-calibration cycle 1 from previous cycle image #\n"
     ]
    },
    {
     "name": "stderr",
     "output_type": "stream",
     "text": [
      "SELFCAL - INFO : # Cutoff for cleaning set to 0.000136270165967 Jy/beam #\n"
     ]
    },
    {
     "name": "stderr",
     "output_type": "stream",
     "text": [
      "SELFCAL - INFO : # Created restored image from self-calibration cycle 1 #\n"
     ]
    },
    {
     "name": "stderr",
     "output_type": "stream",
     "text": [
      "SELFCAL - INFO : # Created residual image from self-calibration cycle 1 #\n"
     ]
    },
    {
     "name": "stderr",
     "output_type": "stream",
     "text": [
      "SELFCAL - INFO : ### Self calibration reached a DR of 1928 of the maximum of 3374 ###\n"
     ]
    },
    {
     "name": "stderr",
     "output_type": "stream",
     "text": [
      "SELFCAL - INFO : ### Stop criterium was set to 1.5 corresponding to a DR of 2249 ###\n"
     ]
    },
    {
     "name": "stderr",
     "output_type": "stream",
     "text": [
      "SELFCAL - INFO : ### Continuing self calibration with next cycle... ###\n"
     ]
    },
    {
     "name": "stderr",
     "output_type": "stream",
     "text": [
      "SELFCAL - INFO : # Major self-calibration cycle 1 for chunk 07 done #\n"
     ]
    },
    {
     "name": "stderr",
     "output_type": "stream",
     "text": [
      "SELFCAL - INFO : # Major self-calibration cycle 2 for chunk 07 started #\n"
     ]
    },
    {
     "name": "stderr",
     "output_type": "stream",
     "text": [
      "SELFCAL - INFO : # Creating directory 02 #\n"
     ]
    },
    {
     "name": "stderr",
     "output_type": "stream",
     "text": [
      "SELFCAL - INFO : # Created mask with cutoff 0.000320190534694 for self-calibration cycle 2 from previous cycle image #\n"
     ]
    },
    {
     "name": "stderr",
     "output_type": "stream",
     "text": [
      "SELFCAL - INFO : # Cutoff for cleaning set to 9.33889059525e-05 Jy/beam #\n"
     ]
    },
    {
     "name": "stderr",
     "output_type": "stream",
     "text": [
      "SELFCAL - INFO : # Created restored image from self-calibration cycle 2 #\n"
     ]
    },
    {
     "name": "stderr",
     "output_type": "stream",
     "text": [
      "SELFCAL - INFO : # Created residual image from self-calibration cycle 2 #\n"
     ]
    },
    {
     "name": "stderr",
     "output_type": "stream",
     "text": [
      "SELFCAL - INFO : ### Self calibration reached a DR of 2012 of the maximum of 3374 ###\n"
     ]
    },
    {
     "name": "stderr",
     "output_type": "stream",
     "text": [
      "SELFCAL - INFO : ### Stop criterium was set to 1.5 corresponding to a DR of 2249 ###\n"
     ]
    },
    {
     "name": "stderr",
     "output_type": "stream",
     "text": [
      "SELFCAL - INFO : ### Continuing self calibration with next cycle... ###\n"
     ]
    },
    {
     "name": "stderr",
     "output_type": "stream",
     "text": [
      "SELFCAL - INFO : # Major self-calibration cycle 2 for chunk 07 done #\n"
     ]
    },
    {
     "name": "stderr",
     "output_type": "stream",
     "text": [
      "SELFCAL - INFO : # Major self-calibration cycle 3 for chunk 07 started #\n"
     ]
    },
    {
     "name": "stderr",
     "output_type": "stream",
     "text": [
      "SELFCAL - INFO : # Creating directory 03 #\n"
     ]
    },
    {
     "name": "stderr",
     "output_type": "stream",
     "text": [
      "SELFCAL - INFO : # Created mask with cutoff 0.000306902948068 for self-calibration cycle 3 from previous cycle image #\n"
     ]
    },
    {
     "name": "stderr",
     "output_type": "stream",
     "text": [
      "SELFCAL - INFO : # Cutoff for cleaning set to 8.95133598533e-05 Jy/beam #\n"
     ]
    },
    {
     "name": "stderr",
     "output_type": "stream",
     "text": [
      "SELFCAL - INFO : # Created restored image from self-calibration cycle 3 #\n"
     ]
    },
    {
     "name": "stderr",
     "output_type": "stream",
     "text": [
      "SELFCAL - INFO : # Created residual image from self-calibration cycle 3 #\n"
     ]
    },
    {
     "name": "stderr",
     "output_type": "stream",
     "text": [
      "SELFCAL - INFO : ### Self calibration reached a DR of 2050 of the maximum of 3374 ###\n"
     ]
    },
    {
     "name": "stderr",
     "output_type": "stream",
     "text": [
      "SELFCAL - INFO : ### Stop criterium was set to 1.5 corresponding to a DR of 2249 ###\n"
     ]
    },
    {
     "name": "stderr",
     "output_type": "stream",
     "text": [
      "SELFCAL - INFO : ### Continuing self calibration with next cycle... ###\n"
     ]
    },
    {
     "name": "stderr",
     "output_type": "stream",
     "text": [
      "SELFCAL - INFO : # Major self-calibration cycle 3 for chunk 07 done #\n"
     ]
    },
    {
     "name": "stderr",
     "output_type": "stream",
     "text": [
      "SELFCAL - INFO : # Major self-calibration cycle 4 for chunk 07 started #\n"
     ]
    },
    {
     "name": "stderr",
     "output_type": "stream",
     "text": [
      "SELFCAL - INFO : # Creating directory 04 #\n"
     ]
    },
    {
     "name": "stderr",
     "output_type": "stream",
     "text": [
      "SELFCAL - INFO : # Created mask with cutoff 0.000301215717627 for self-calibration cycle 4 from previous cycle image #\n"
     ]
    },
    {
     "name": "stderr",
     "output_type": "stream",
     "text": [
      "SELFCAL - INFO : # Cutoff for cleaning set to 8.78545843079e-05 Jy/beam #\n"
     ]
    },
    {
     "name": "stderr",
     "output_type": "stream",
     "text": [
      "SELFCAL - INFO : # Created restored image from self-calibration cycle 4 #\n"
     ]
    },
    {
     "name": "stderr",
     "output_type": "stream",
     "text": [
      "SELFCAL - INFO : # Created residual image from self-calibration cycle 4 #\n"
     ]
    },
    {
     "name": "stderr",
     "output_type": "stream",
     "text": [
      "SELFCAL - INFO : ### Self calibration reached a DR of 2053 of the maximum of 3374 ###\n"
     ]
    },
    {
     "name": "stderr",
     "output_type": "stream",
     "text": [
      "SELFCAL - INFO : ### Stop criterium was set to 1.5 corresponding to a DR of 2249 ###\n"
     ]
    },
    {
     "name": "stderr",
     "output_type": "stream",
     "text": [
      "SELFCAL - INFO : ### Continuing self calibration with next cycle... ###\n"
     ]
    },
    {
     "name": "stderr",
     "output_type": "stream",
     "text": [
      "SELFCAL - INFO : # Major self-calibration cycle 4 for chunk 07 done #\n"
     ]
    },
    {
     "name": "stderr",
     "output_type": "stream",
     "text": [
      "SELFCAL - INFO : # Major self-calibration cycle 5 for chunk 07 started #\n"
     ]
    },
    {
     "name": "stderr",
     "output_type": "stream",
     "text": [
      "SELFCAL - INFO : # Creating directory 05 #\n"
     ]
    },
    {
     "name": "stderr",
     "output_type": "stream",
     "text": [
      "SELFCAL - INFO : # Created mask with cutoff 0.000300734980556 for self-calibration cycle 5 from previous cycle image #\n"
     ]
    },
    {
     "name": "stderr",
     "output_type": "stream",
     "text": [
      "SELFCAL - INFO : # Cutoff for cleaning set to 8.77143693288e-05 Jy/beam #\n"
     ]
    },
    {
     "name": "stderr",
     "output_type": "stream",
     "text": [
      "SELFCAL - INFO : # Created restored image from self-calibration cycle 5 #\n"
     ]
    },
    {
     "name": "stderr",
     "output_type": "stream",
     "text": [
      "SELFCAL - INFO : # Created residual image from self-calibration cycle 5 #\n"
     ]
    },
    {
     "name": "stderr",
     "output_type": "stream",
     "text": [
      "SELFCAL - INFO : # Major self-calibration cycle 5 for chunk 07 done #\n"
     ]
    },
    {
     "name": "stderr",
     "output_type": "stream",
     "text": [
      "SELFCAL - INFO : # Adaptive self-calibration routine for chunk 07 finished #\n"
     ]
    },
    {
     "name": "stderr",
     "output_type": "stream",
     "text": [
      "SELFCAL - INFO : ### Adaptive self calibration routine finished ###\n"
     ]
    },
    {
     "name": "stderr",
     "output_type": "stream",
     "text": [
      "SELFCAL - INFO : ########## SELF CALIBRATION done ##########\n"
     ]
    }
   ],
   "source": [
    "scal.go()"
   ]
  },
  {
   "cell_type": "code",
   "execution_count": 10,
   "metadata": {},
   "outputs": [
    {
     "name": "stderr",
     "output_type": "stream",
     "text": [
      "FINAL - INFO : ### Configuration file /home/adebahr/apercal/ipython-notebooks/tutorials/cfg/T1.cfg successfully read! ###\n"
     ]
    },
    {
     "name": "stderr",
     "output_type": "stream",
     "text": [
      "FINAL - WARNING : ### Deleting all final data products. ###\n"
     ]
    },
    {
     "name": "stderr",
     "output_type": "stream",
     "text": [
      "FINAL - INFO : # Moved to directory /data/adebahr/apertif/tutorial/T1/B01/final #\n"
     ]
    }
   ],
   "source": [
    "final = apercal.final('/home/adebahr/apercal/ipython-notebooks/tutorials/cfg/T1.cfg')\n",
    "final.reset()"
   ]
  },
  {
   "cell_type": "code",
   "execution_count": 7,
   "metadata": {},
   "outputs": [
    {
     "name": "stderr",
     "output_type": "stream",
     "text": [
      "FINAL - INFO : ########## Starting FINAL IMAGING ##########\n"
     ]
    },
    {
     "name": "stderr",
     "output_type": "stream",
     "text": [
      "FINAL - INFO : ### Starting deep continuum imaging of full dataset ###\n"
     ]
    },
    {
     "name": "stderr",
     "output_type": "stream",
     "text": [
      "FINAL - INFO : # Creating directory /data/adebahr/apertif/tutorial/T1/B01/final/continuum #\n"
     ]
    },
    {
     "name": "stderr",
     "output_type": "stream",
     "text": [
      "FINAL - INFO : # Moved to directory /data/adebahr/apertif/tutorial/T1/B01/final/continuum #\n"
     ]
    },
    {
     "name": "stderr",
     "output_type": "stream",
     "text": [
      "FINAL - INFO : ### Combining frequency chunks in the (u,v)-plane and creating an mfclean image ###\n"
     ]
    },
    {
     "name": "stderr",
     "output_type": "stream",
     "text": [
      "FINAL - INFO : # Creating directory /data/adebahr/apertif/tutorial/T1/B01/final/continuum/mf #\n"
     ]
    },
    {
     "name": "stderr",
     "output_type": "stream",
     "text": [
      "FINAL - INFO : # Moved to directory /data/adebahr/apertif/tutorial/T1/B01/final/continuum/mf #\n"
     ]
    },
    {
     "name": "stderr",
     "output_type": "stream",
     "text": [
      "FINAL - INFO : # Copying calibrated datasets to /data/adebahr/apertif/tutorial/T1/B01/final/continuum/mf\n"
     ]
    },
    {
     "name": "stderr",
     "output_type": "stream",
     "text": [
      "FINAL - INFO : # Theoretical noise for combined dataset is 1.03339208693e-05 Jy/beam #\n"
     ]
    },
    {
     "name": "stderr",
     "output_type": "stream",
     "text": [
      "FINAL - INFO : # Maximum value in the image is 0.0963467 Jy/beam #\n"
     ]
    },
    {
     "name": "stderr",
     "output_type": "stream",
     "text": [
      "FINAL - INFO : # Mask threshold minor cycle 0 is 0.0642311573029 Jy/beam #\n"
     ]
    },
    {
     "name": "stderr",
     "output_type": "stream",
     "text": [
      "FINAL - INFO : # Mask with threshold 0.0642311573029 Jy/beam created #\n"
     ]
    },
    {
     "name": "stderr",
     "output_type": "stream",
     "text": [
      "FINAL - INFO : # Clean noise threshold at minor cycle 0 is 0.0321155786514 Jy/beam #\n"
     ]
    },
    {
     "name": "stderr",
     "output_type": "stream",
     "text": [
      "FINAL - INFO : # Clean threshold at minor cycle 0 was set to 0.0321155786514 Jy/beam #\n"
     ]
    },
    {
     "name": "stderr",
     "output_type": "stream",
     "text": [
      "FINAL - INFO : # Minor cycle 0 cleaning done #\n"
     ]
    },
    {
     "name": "stderr",
     "output_type": "stream",
     "text": [
      "FINAL - INFO : # Cleaned image for minor cycle 0 created #\n"
     ]
    },
    {
     "name": "stderr",
     "output_type": "stream",
     "text": [
      "FINAL - INFO : # Residual image for major/minor cycle 0 created #\n"
     ]
    },
    {
     "name": "stderr",
     "output_type": "stream",
     "text": [
      "FINAL - INFO : # Maximum value in the image at minor cycle 1 is 0.0583791 Jy/beam #\n"
     ]
    },
    {
     "name": "stderr",
     "output_type": "stream",
     "text": [
      "FINAL - INFO : # Mask threshold at minor cycle 1 is 0.0194596983492 Jy/beam #\n"
     ]
    },
    {
     "name": "stderr",
     "output_type": "stream",
     "text": [
      "FINAL - INFO : # Mask with threshold 0.0194596983492 Jy/beam created #\n"
     ]
    },
    {
     "name": "stderr",
     "output_type": "stream",
     "text": [
      "FINAL - INFO : # Clean noise threshold at minor cycle 1 is 0.00972984917462 Jy/beam #\n"
     ]
    },
    {
     "name": "stderr",
     "output_type": "stream",
     "text": [
      "FINAL - INFO : # Clean threshold at major/minor cycle 1 was set to 0.00972984917462 Jy/beam #\n"
     ]
    },
    {
     "name": "stderr",
     "output_type": "stream",
     "text": [
      "FINAL - INFO : # Minor cycle 1 cleaning done #\n"
     ]
    },
    {
     "name": "stderr",
     "output_type": "stream",
     "text": [
      "FINAL - INFO : # Cleaned image for minor cycle 1 created #\n"
     ]
    },
    {
     "name": "stderr",
     "output_type": "stream",
     "text": [
      "FINAL - INFO : # Residual image for Minor cycle 1 created #\n"
     ]
    },
    {
     "name": "stderr",
     "output_type": "stream",
     "text": [
      "FINAL - INFO : # Maximum value in the image at minor cycle 2 is 0.0188032 Jy/beam #\n"
     ]
    },
    {
     "name": "stderr",
     "output_type": "stream",
     "text": [
      "FINAL - INFO : # Mask threshold at minor cycle 2 is 0.00417849628462 Jy/beam #\n"
     ]
    },
    {
     "name": "stderr",
     "output_type": "stream",
     "text": [
      "FINAL - INFO : # Mask with threshold 0.00417849628462 Jy/beam created #\n"
     ]
    },
    {
     "name": "stderr",
     "output_type": "stream",
     "text": [
      "FINAL - INFO : # Clean noise threshold at minor cycle 2 is 0.00208924814231 Jy/beam #\n"
     ]
    },
    {
     "name": "stderr",
     "output_type": "stream",
     "text": [
      "FINAL - INFO : # Clean threshold at major/minor cycle 2 was set to 0.00208924814231 Jy/beam #\n"
     ]
    },
    {
     "name": "stderr",
     "output_type": "stream",
     "text": [
      "FINAL - INFO : # Minor cycle 2 cleaning done #\n"
     ]
    },
    {
     "name": "stderr",
     "output_type": "stream",
     "text": [
      "FINAL - INFO : # Cleaned image for minor cycle 2 created #\n"
     ]
    },
    {
     "name": "stderr",
     "output_type": "stream",
     "text": [
      "FINAL - INFO : # Residual image for Minor cycle 2 created #\n"
     ]
    },
    {
     "name": "stderr",
     "output_type": "stream",
     "text": [
      "FINAL - INFO : ### Doing 5000 extra clean iterations for mfclean image ###\n"
     ]
    },
    {
     "name": "stderr",
     "output_type": "stream",
     "text": [
      "FINAL - INFO : # Extra iteration cleaning done #\n"
     ]
    },
    {
     "name": "stderr",
     "output_type": "stream",
     "text": [
      "FINAL - INFO : # Cleaned image created #\n"
     ]
    },
    {
     "name": "stderr",
     "output_type": "stream",
     "text": [
      "FINAL - INFO : # Residual image created #\n"
     ]
    },
    {
     "name": "stderr",
     "output_type": "stream",
     "text": [
      "FINAL - INFO : ### Extra iteration cleaning for mfclean image done ###\n"
     ]
    },
    {
     "name": "stderr",
     "output_type": "stream",
     "text": [
      "FINAL - INFO : ### Final deep continuum image is /data/adebahr/apertif/tutorial/T1/B01/final/continuum/mf/image_03 ###\n"
     ]
    },
    {
     "name": "stderr",
     "output_type": "stream",
     "text": [
      "FINAL - INFO : ### Deep continuum imaging of full dataset done ###\n"
     ]
    },
    {
     "name": "stderr",
     "output_type": "stream",
     "text": [
      "FINAL - INFO : ########## FINAL IMAGING done ##########\n"
     ]
    }
   ],
   "source": [
    "final.go()"
   ]
  },
  {
   "cell_type": "code",
   "execution_count": 3,
   "metadata": {},
   "outputs": [
    {
     "name": "stderr",
     "output_type": "stream",
     "text": [
      "FINAL - INFO : ### Configuration file /home/adebahr/apercal/ipython-notebooks/tutorials/cfg/T1.cfg successfully read! ###\n"
     ]
    },
    {
     "name": "stderr",
     "output_type": "stream",
     "text": [
      "FINAL - WARNING : ### Deleting all final data products. ###\n"
     ]
    },
    {
     "name": "stderr",
     "output_type": "stream",
     "text": [
      "FINAL - INFO : # Moved to directory /data/adebahr/apertif/tutorial/T1/B01/final #\n"
     ]
    },
    {
     "name": "stderr",
     "output_type": "stream",
     "text": [
      "FINAL - INFO : ########## Starting FINAL IMAGING ##########\n"
     ]
    },
    {
     "name": "stderr",
     "output_type": "stream",
     "text": [
      "FINAL - INFO : ### Starting deep continuum imaging of full dataset ###\n"
     ]
    },
    {
     "name": "stderr",
     "output_type": "stream",
     "text": [
      "FINAL - INFO : # Creating directory /data/adebahr/apertif/tutorial/T1/B01/final/continuum #\n"
     ]
    },
    {
     "name": "stderr",
     "output_type": "stream",
     "text": [
      "FINAL - INFO : # Moved to directory /data/adebahr/apertif/tutorial/T1/B01/final/continuum #\n"
     ]
    },
    {
     "name": "stderr",
     "output_type": "stream",
     "text": [
      "FINAL - INFO : ### Creating individual deep images from frequency chunks ###\n"
     ]
    },
    {
     "name": "stderr",
     "output_type": "stream",
     "text": [
      "FINAL - INFO : # Creating directory /data/adebahr/apertif/tutorial/T1/B01/final/continuum/stack #\n"
     ]
    },
    {
     "name": "stderr",
     "output_type": "stream",
     "text": [
      "FINAL - INFO : # Moved to directory /data/adebahr/apertif/tutorial/T1/B01/final/continuum/stack #\n"
     ]
    },
    {
     "name": "stderr",
     "output_type": "stream",
     "text": [
      "FINAL - INFO : # Creating directory /data/adebahr/apertif/tutorial/T1/B01/final/continuum/stack/00 #\n"
     ]
    },
    {
     "name": "stderr",
     "output_type": "stream",
     "text": [
      "FINAL - INFO : # Moved to directory /data/adebahr/apertif/tutorial/T1/B01/final/continuum/stack/00 #\n"
     ]
    },
    {
     "name": "stderr",
     "output_type": "stream",
     "text": [
      "FINAL - INFO : # Theoretical noise for chunk 00 is 2.86e-08 Jy/beam #\n"
     ]
    },
    {
     "name": "stderr",
     "output_type": "stream",
     "text": [
      "FINAL - INFO : # Maximum value in the image is 0.089683 Jy/beam #\n"
     ]
    },
    {
     "name": "stderr",
     "output_type": "stream",
     "text": [
      "FINAL - INFO : # Mask threshold minor cycle 0 is 0.059788664182 Jy/beam #\n"
     ]
    },
    {
     "name": "stderr",
     "output_type": "stream",
     "text": [
      "FINAL - INFO : # Mask with threshold 0.059788664182 Jy/beam created #\n"
     ]
    },
    {
     "name": "stderr",
     "output_type": "stream",
     "text": [
      "FINAL - INFO : # Clean noise threshold at minor cycle 0 is 0.029894332091 Jy/beam #\n"
     ]
    },
    {
     "name": "stderr",
     "output_type": "stream",
     "text": [
      "FINAL - INFO : # Clean threshold at minor cycle 0 was set to 0.029894332091 Jy/beam #\n"
     ]
    },
    {
     "name": "stderr",
     "output_type": "stream",
     "text": [
      "FINAL - INFO : # Minor cycle 0 cleaning done #\n"
     ]
    },
    {
     "name": "stderr",
     "output_type": "stream",
     "text": [
      "FINAL - INFO : # Cleaned image for minor cycle 0 created #\n"
     ]
    },
    {
     "name": "stderr",
     "output_type": "stream",
     "text": [
      "FINAL - INFO : # Residual image for major/minor cycle 0 created #\n"
     ]
    },
    {
     "name": "stderr",
     "output_type": "stream",
     "text": [
      "FINAL - INFO : # Maximum value in the image at minor cycle 1 is 0.0512843 Jy/beam #\n"
     ]
    },
    {
     "name": "stderr",
     "output_type": "stream",
     "text": [
      "FINAL - INFO : # Mask threshold at minor cycle 1 is 0.0170947648585 Jy/beam #\n"
     ]
    },
    {
     "name": "stderr",
     "output_type": "stream",
     "text": [
      "FINAL - INFO : # Mask with threshold 0.0170947648585 Jy/beam created #\n"
     ]
    },
    {
     "name": "stderr",
     "output_type": "stream",
     "text": [
      "FINAL - INFO : # Clean noise threshold at minor cycle 1 is 0.00854738242924 Jy/beam #\n"
     ]
    },
    {
     "name": "stderr",
     "output_type": "stream",
     "text": [
      "FINAL - INFO : # Clean threshold at major/minor cycle 1 was set to 0.00854738242924 Jy/beam #\n"
     ]
    },
    {
     "name": "stderr",
     "output_type": "stream",
     "text": [
      "FINAL - INFO : # Minor cycle 1 cleaning done #\n"
     ]
    },
    {
     "name": "stderr",
     "output_type": "stream",
     "text": [
      "FINAL - INFO : # Cleaned image for minor cycle 1 created #\n"
     ]
    },
    {
     "name": "stderr",
     "output_type": "stream",
     "text": [
      "FINAL - INFO : # Residual image for Minor cycle 1 created #\n"
     ]
    },
    {
     "name": "stderr",
     "output_type": "stream",
     "text": [
      "FINAL - INFO : # Maximum value in the image at minor cycle 2 is 0.0161868 Jy/beam #\n"
     ]
    },
    {
     "name": "stderr",
     "output_type": "stream",
     "text": [
      "FINAL - INFO : # Mask threshold at minor cycle 2 is 0.00359706166718 Jy/beam #\n"
     ]
    },
    {
     "name": "stderr",
     "output_type": "stream",
     "text": [
      "FINAL - INFO : # Mask with threshold 0.00359706166718 Jy/beam created #\n"
     ]
    },
    {
     "name": "stderr",
     "output_type": "stream",
     "text": [
      "FINAL - INFO : # Clean noise threshold at minor cycle 2 is 0.00179853083359 Jy/beam #\n"
     ]
    },
    {
     "name": "stderr",
     "output_type": "stream",
     "text": [
      "FINAL - INFO : # Clean threshold at major/minor cycle 2 was set to 0.00179853083359 Jy/beam #\n"
     ]
    },
    {
     "name": "stderr",
     "output_type": "stream",
     "text": [
      "FINAL - INFO : # Minor cycle 2 cleaning done #\n"
     ]
    },
    {
     "name": "stderr",
     "output_type": "stream",
     "text": [
      "FINAL - INFO : # Cleaned image for minor cycle 2 created #\n"
     ]
    },
    {
     "name": "stderr",
     "output_type": "stream",
     "text": [
      "FINAL - INFO : # Residual image for Minor cycle 2 created #\n"
     ]
    },
    {
     "name": "stderr",
     "output_type": "stream",
     "text": [
      "FINAL - INFO : ### Doing 5000 extra clean iterations without a mask for chunk 00 ###\n"
     ]
    },
    {
     "name": "stderr",
     "output_type": "stream",
     "text": [
      "FINAL - INFO : # Extra iteration cleaning done #\n"
     ]
    },
    {
     "name": "stderr",
     "output_type": "stream",
     "text": [
      "FINAL - INFO : # Cleaned image created #\n"
     ]
    },
    {
     "name": "stderr",
     "output_type": "stream",
     "text": [
      "FINAL - INFO : # Residual image created #\n"
     ]
    },
    {
     "name": "stderr",
     "output_type": "stream",
     "text": [
      "FINAL - INFO : ### Extra iteration cleaning for chunk 00 done ###\n"
     ]
    },
    {
     "name": "stderr",
     "output_type": "stream",
     "text": [
      "FINAL - INFO : # Creating directory /data/adebahr/apertif/tutorial/T1/B01/final/continuum/stack/01 #\n"
     ]
    },
    {
     "name": "stderr",
     "output_type": "stream",
     "text": [
      "FINAL - INFO : # Moved to directory /data/adebahr/apertif/tutorial/T1/B01/final/continuum/stack/01 #\n"
     ]
    },
    {
     "name": "stderr",
     "output_type": "stream",
     "text": [
      "FINAL - INFO : # Theoretical noise for chunk 01 is 2.84e-08 Jy/beam #\n"
     ]
    },
    {
     "name": "stderr",
     "output_type": "stream",
     "text": [
      "FINAL - INFO : # Maximum value in the image is 0.0918011 Jy/beam #\n"
     ]
    },
    {
     "name": "stderr",
     "output_type": "stream",
     "text": [
      "FINAL - INFO : # Mask threshold minor cycle 0 is 0.0612007131179 Jy/beam #\n"
     ]
    },
    {
     "name": "stderr",
     "output_type": "stream",
     "text": [
      "FINAL - INFO : # Mask with threshold 0.0612007131179 Jy/beam created #\n"
     ]
    },
    {
     "name": "stderr",
     "output_type": "stream",
     "text": [
      "FINAL - INFO : # Clean noise threshold at minor cycle 0 is 0.030600356559 Jy/beam #\n"
     ]
    },
    {
     "name": "stderr",
     "output_type": "stream",
     "text": [
      "FINAL - INFO : # Clean threshold at minor cycle 0 was set to 0.030600356559 Jy/beam #\n"
     ]
    },
    {
     "name": "stderr",
     "output_type": "stream",
     "text": [
      "FINAL - INFO : # Minor cycle 0 cleaning done #\n"
     ]
    },
    {
     "name": "stderr",
     "output_type": "stream",
     "text": [
      "FINAL - INFO : # Cleaned image for minor cycle 0 created #\n"
     ]
    },
    {
     "name": "stderr",
     "output_type": "stream",
     "text": [
      "FINAL - INFO : # Residual image for major/minor cycle 0 created #\n"
     ]
    },
    {
     "name": "stderr",
     "output_type": "stream",
     "text": [
      "FINAL - INFO : # Maximum value in the image at minor cycle 1 is 0.052902 Jy/beam #\n"
     ]
    },
    {
     "name": "stderr",
     "output_type": "stream",
     "text": [
      "FINAL - INFO : # Mask threshold at minor cycle 1 is 0.0176340130468 Jy/beam #\n"
     ]
    },
    {
     "name": "stderr",
     "output_type": "stream",
     "text": [
      "FINAL - INFO : # Mask with threshold 0.0176340130468 Jy/beam created #\n"
     ]
    },
    {
     "name": "stderr",
     "output_type": "stream",
     "text": [
      "FINAL - INFO : # Clean noise threshold at minor cycle 1 is 0.00881700652341 Jy/beam #\n"
     ]
    },
    {
     "name": "stderr",
     "output_type": "stream",
     "text": [
      "FINAL - INFO : # Clean threshold at major/minor cycle 1 was set to 0.00881700652341 Jy/beam #\n"
     ]
    },
    {
     "name": "stderr",
     "output_type": "stream",
     "text": [
      "FINAL - INFO : # Minor cycle 1 cleaning done #\n"
     ]
    },
    {
     "name": "stderr",
     "output_type": "stream",
     "text": [
      "FINAL - INFO : # Cleaned image for minor cycle 1 created #\n"
     ]
    },
    {
     "name": "stderr",
     "output_type": "stream",
     "text": [
      "FINAL - INFO : # Residual image for Minor cycle 1 created #\n"
     ]
    },
    {
     "name": "stderr",
     "output_type": "stream",
     "text": [
      "FINAL - INFO : # Maximum value in the image at minor cycle 2 is 0.0169148 Jy/beam #\n"
     ]
    },
    {
     "name": "stderr",
     "output_type": "stream",
     "text": [
      "FINAL - INFO : # Mask threshold at minor cycle 2 is 0.00375885102484 Jy/beam #\n"
     ]
    },
    {
     "name": "stderr",
     "output_type": "stream",
     "text": [
      "FINAL - INFO : # Mask with threshold 0.00375885102484 Jy/beam created #\n"
     ]
    },
    {
     "name": "stderr",
     "output_type": "stream",
     "text": [
      "FINAL - INFO : # Clean noise threshold at minor cycle 2 is 0.00187942551242 Jy/beam #\n"
     ]
    },
    {
     "name": "stderr",
     "output_type": "stream",
     "text": [
      "FINAL - INFO : # Clean threshold at major/minor cycle 2 was set to 0.00187942551242 Jy/beam #\n"
     ]
    },
    {
     "name": "stderr",
     "output_type": "stream",
     "text": [
      "FINAL - INFO : # Minor cycle 2 cleaning done #\n"
     ]
    },
    {
     "name": "stderr",
     "output_type": "stream",
     "text": [
      "FINAL - INFO : # Cleaned image for minor cycle 2 created #\n"
     ]
    },
    {
     "name": "stderr",
     "output_type": "stream",
     "text": [
      "FINAL - INFO : # Residual image for Minor cycle 2 created #\n"
     ]
    },
    {
     "name": "stderr",
     "output_type": "stream",
     "text": [
      "FINAL - INFO : ### Doing 5000 extra clean iterations without a mask for chunk 01 ###\n"
     ]
    },
    {
     "name": "stderr",
     "output_type": "stream",
     "text": [
      "FINAL - INFO : # Extra iteration cleaning done #\n"
     ]
    },
    {
     "name": "stderr",
     "output_type": "stream",
     "text": [
      "FINAL - INFO : # Cleaned image created #\n"
     ]
    },
    {
     "name": "stderr",
     "output_type": "stream",
     "text": [
      "FINAL - INFO : # Residual image created #\n"
     ]
    },
    {
     "name": "stderr",
     "output_type": "stream",
     "text": [
      "FINAL - INFO : ### Extra iteration cleaning for chunk 01 done ###\n"
     ]
    },
    {
     "name": "stderr",
     "output_type": "stream",
     "text": [
      "FINAL - INFO : # Creating directory /data/adebahr/apertif/tutorial/T1/B01/final/continuum/stack/02 #\n"
     ]
    },
    {
     "name": "stderr",
     "output_type": "stream",
     "text": [
      "FINAL - INFO : # Moved to directory /data/adebahr/apertif/tutorial/T1/B01/final/continuum/stack/02 #\n"
     ]
    },
    {
     "name": "stderr",
     "output_type": "stream",
     "text": [
      "FINAL - INFO : # Theoretical noise for chunk 02 is 2.87e-08 Jy/beam #\n"
     ]
    },
    {
     "name": "stderr",
     "output_type": "stream",
     "text": [
      "FINAL - INFO : # Maximum value in the image is 0.0928699 Jy/beam #\n"
     ]
    },
    {
     "name": "stderr",
     "output_type": "stream",
     "text": [
      "FINAL - INFO : # Mask threshold minor cycle 0 is 0.0619132618109 Jy/beam #\n"
     ]
    },
    {
     "name": "stderr",
     "output_type": "stream",
     "text": [
      "FINAL - INFO : # Mask with threshold 0.0619132618109 Jy/beam created #\n"
     ]
    },
    {
     "name": "stderr",
     "output_type": "stream",
     "text": [
      "FINAL - INFO : # Clean noise threshold at minor cycle 0 is 0.0309566309055 Jy/beam #\n"
     ]
    },
    {
     "name": "stderr",
     "output_type": "stream",
     "text": [
      "FINAL - INFO : # Clean threshold at minor cycle 0 was set to 0.0309566309055 Jy/beam #\n"
     ]
    },
    {
     "name": "stderr",
     "output_type": "stream",
     "text": [
      "FINAL - INFO : # Minor cycle 0 cleaning done #\n"
     ]
    },
    {
     "name": "stderr",
     "output_type": "stream",
     "text": [
      "FINAL - INFO : # Cleaned image for minor cycle 0 created #\n"
     ]
    },
    {
     "name": "stderr",
     "output_type": "stream",
     "text": [
      "FINAL - INFO : # Residual image for major/minor cycle 0 created #\n"
     ]
    },
    {
     "name": "stderr",
     "output_type": "stream",
     "text": [
      "FINAL - INFO : # Maximum value in the image at minor cycle 1 is 0.0546504 Jy/beam #\n"
     ]
    },
    {
     "name": "stderr",
     "output_type": "stream",
     "text": [
      "FINAL - INFO : # Mask threshold at minor cycle 1 is 0.0182167999446 Jy/beam #\n"
     ]
    },
    {
     "name": "stderr",
     "output_type": "stream",
     "text": [
      "FINAL - INFO : # Mask with threshold 0.0182167999446 Jy/beam created #\n"
     ]
    },
    {
     "name": "stderr",
     "output_type": "stream",
     "text": [
      "FINAL - INFO : # Clean noise threshold at minor cycle 1 is 0.00910839997232 Jy/beam #\n"
     ]
    },
    {
     "name": "stderr",
     "output_type": "stream",
     "text": [
      "FINAL - INFO : # Clean threshold at major/minor cycle 1 was set to 0.00910839997232 Jy/beam #\n"
     ]
    },
    {
     "name": "stderr",
     "output_type": "stream",
     "text": [
      "FINAL - INFO : # Minor cycle 1 cleaning done #\n"
     ]
    },
    {
     "name": "stderr",
     "output_type": "stream",
     "text": [
      "FINAL - INFO : # Cleaned image for minor cycle 1 created #\n"
     ]
    },
    {
     "name": "stderr",
     "output_type": "stream",
     "text": [
      "FINAL - INFO : # Residual image for Minor cycle 1 created #\n"
     ]
    },
    {
     "name": "stderr",
     "output_type": "stream",
     "text": [
      "FINAL - INFO : # Maximum value in the image at minor cycle 2 is 0.0173612 Jy/beam #\n"
     ]
    },
    {
     "name": "stderr",
     "output_type": "stream",
     "text": [
      "FINAL - INFO : # Mask threshold at minor cycle 2 is 0.0038580538498 Jy/beam #\n"
     ]
    },
    {
     "name": "stderr",
     "output_type": "stream",
     "text": [
      "FINAL - INFO : # Mask with threshold 0.0038580538498 Jy/beam created #\n"
     ]
    },
    {
     "name": "stderr",
     "output_type": "stream",
     "text": [
      "FINAL - INFO : # Clean noise threshold at minor cycle 2 is 0.0019290269249 Jy/beam #\n"
     ]
    },
    {
     "name": "stderr",
     "output_type": "stream",
     "text": [
      "FINAL - INFO : # Clean threshold at major/minor cycle 2 was set to 0.0019290269249 Jy/beam #\n"
     ]
    },
    {
     "name": "stderr",
     "output_type": "stream",
     "text": [
      "FINAL - INFO : # Minor cycle 2 cleaning done #\n"
     ]
    },
    {
     "name": "stderr",
     "output_type": "stream",
     "text": [
      "FINAL - INFO : # Cleaned image for minor cycle 2 created #\n"
     ]
    },
    {
     "name": "stderr",
     "output_type": "stream",
     "text": [
      "FINAL - INFO : # Residual image for Minor cycle 2 created #\n"
     ]
    },
    {
     "name": "stderr",
     "output_type": "stream",
     "text": [
      "FINAL - INFO : ### Doing 5000 extra clean iterations without a mask for chunk 02 ###\n"
     ]
    },
    {
     "name": "stderr",
     "output_type": "stream",
     "text": [
      "FINAL - INFO : # Extra iteration cleaning done #\n"
     ]
    },
    {
     "name": "stderr",
     "output_type": "stream",
     "text": [
      "FINAL - INFO : # Cleaned image created #\n"
     ]
    },
    {
     "name": "stderr",
     "output_type": "stream",
     "text": [
      "FINAL - INFO : # Residual image created #\n"
     ]
    },
    {
     "name": "stderr",
     "output_type": "stream",
     "text": [
      "FINAL - INFO : ### Extra iteration cleaning for chunk 02 done ###\n"
     ]
    },
    {
     "name": "stderr",
     "output_type": "stream",
     "text": [
      "FINAL - INFO : # Creating directory /data/adebahr/apertif/tutorial/T1/B01/final/continuum/stack/03 #\n"
     ]
    },
    {
     "name": "stderr",
     "output_type": "stream",
     "text": [
      "FINAL - INFO : # Moved to directory /data/adebahr/apertif/tutorial/T1/B01/final/continuum/stack/03 #\n"
     ]
    },
    {
     "name": "stderr",
     "output_type": "stream",
     "text": [
      "FINAL - INFO : # Theoretical noise for chunk 03 is 2.95e-08 Jy/beam #\n"
     ]
    },
    {
     "name": "stderr",
     "output_type": "stream",
     "text": [
      "FINAL - INFO : # Maximum value in the image is 0.0954472 Jy/beam #\n"
     ]
    },
    {
     "name": "stderr",
     "output_type": "stream",
     "text": [
      "FINAL - INFO : # Mask threshold minor cycle 0 is 0.0636314700047 Jy/beam #\n"
     ]
    },
    {
     "name": "stderr",
     "output_type": "stream",
     "text": [
      "FINAL - INFO : # Mask with threshold 0.0636314700047 Jy/beam created #\n"
     ]
    },
    {
     "name": "stderr",
     "output_type": "stream",
     "text": [
      "FINAL - INFO : # Clean noise threshold at minor cycle 0 is 0.0318157350024 Jy/beam #\n"
     ]
    },
    {
     "name": "stderr",
     "output_type": "stream",
     "text": [
      "FINAL - INFO : # Clean threshold at minor cycle 0 was set to 0.0318157350024 Jy/beam #\n"
     ]
    },
    {
     "name": "stderr",
     "output_type": "stream",
     "text": [
      "FINAL - INFO : # Minor cycle 0 cleaning done #\n"
     ]
    },
    {
     "name": "stderr",
     "output_type": "stream",
     "text": [
      "FINAL - INFO : # Cleaned image for minor cycle 0 created #\n"
     ]
    },
    {
     "name": "stderr",
     "output_type": "stream",
     "text": [
      "FINAL - INFO : # Residual image for major/minor cycle 0 created #\n"
     ]
    },
    {
     "name": "stderr",
     "output_type": "stream",
     "text": [
      "FINAL - INFO : # Maximum value in the image at minor cycle 1 is 0.0565279 Jy/beam #\n"
     ]
    },
    {
     "name": "stderr",
     "output_type": "stream",
     "text": [
      "FINAL - INFO : # Mask threshold at minor cycle 1 is 0.0188426350554 Jy/beam #\n"
     ]
    },
    {
     "name": "stderr",
     "output_type": "stream",
     "text": [
      "FINAL - INFO : # Mask with threshold 0.0188426350554 Jy/beam created #\n"
     ]
    },
    {
     "name": "stderr",
     "output_type": "stream",
     "text": [
      "FINAL - INFO : # Clean noise threshold at minor cycle 1 is 0.00942131752769 Jy/beam #\n"
     ]
    },
    {
     "name": "stderr",
     "output_type": "stream",
     "text": [
      "FINAL - INFO : # Clean threshold at major/minor cycle 1 was set to 0.00942131752769 Jy/beam #\n"
     ]
    },
    {
     "name": "stderr",
     "output_type": "stream",
     "text": [
      "FINAL - INFO : # Minor cycle 1 cleaning done #\n"
     ]
    },
    {
     "name": "stderr",
     "output_type": "stream",
     "text": [
      "FINAL - INFO : # Cleaned image for minor cycle 1 created #\n"
     ]
    },
    {
     "name": "stderr",
     "output_type": "stream",
     "text": [
      "FINAL - INFO : # Residual image for Minor cycle 1 created #\n"
     ]
    },
    {
     "name": "stderr",
     "output_type": "stream",
     "text": [
      "FINAL - INFO : # Maximum value in the image at minor cycle 2 is 0.0179363 Jy/beam #\n"
     ]
    },
    {
     "name": "stderr",
     "output_type": "stream",
     "text": [
      "FINAL - INFO : # Mask threshold at minor cycle 2 is 0.00398583544625 Jy/beam #\n"
     ]
    },
    {
     "name": "stderr",
     "output_type": "stream",
     "text": [
      "FINAL - INFO : # Mask with threshold 0.00398583544625 Jy/beam created #\n"
     ]
    },
    {
     "name": "stderr",
     "output_type": "stream",
     "text": [
      "FINAL - INFO : # Clean noise threshold at minor cycle 2 is 0.00199291772313 Jy/beam #\n"
     ]
    },
    {
     "name": "stderr",
     "output_type": "stream",
     "text": [
      "FINAL - INFO : # Clean threshold at major/minor cycle 2 was set to 0.00199291772313 Jy/beam #\n"
     ]
    },
    {
     "name": "stderr",
     "output_type": "stream",
     "text": [
      "FINAL - INFO : # Minor cycle 2 cleaning done #\n"
     ]
    },
    {
     "name": "stderr",
     "output_type": "stream",
     "text": [
      "FINAL - INFO : # Cleaned image for minor cycle 2 created #\n"
     ]
    },
    {
     "name": "stderr",
     "output_type": "stream",
     "text": [
      "FINAL - INFO : # Residual image for Minor cycle 2 created #\n"
     ]
    },
    {
     "name": "stderr",
     "output_type": "stream",
     "text": [
      "FINAL - INFO : ### Doing 5000 extra clean iterations without a mask for chunk 03 ###\n"
     ]
    },
    {
     "name": "stderr",
     "output_type": "stream",
     "text": [
      "FINAL - INFO : # Extra iteration cleaning done #\n"
     ]
    },
    {
     "name": "stderr",
     "output_type": "stream",
     "text": [
      "FINAL - INFO : # Cleaned image created #\n"
     ]
    },
    {
     "name": "stderr",
     "output_type": "stream",
     "text": [
      "FINAL - INFO : # Residual image created #\n"
     ]
    },
    {
     "name": "stderr",
     "output_type": "stream",
     "text": [
      "FINAL - INFO : ### Extra iteration cleaning for chunk 03 done ###\n"
     ]
    },
    {
     "name": "stderr",
     "output_type": "stream",
     "text": [
      "FINAL - INFO : # Creating directory /data/adebahr/apertif/tutorial/T1/B01/final/continuum/stack/04 #\n"
     ]
    },
    {
     "name": "stderr",
     "output_type": "stream",
     "text": [
      "FINAL - INFO : # Moved to directory /data/adebahr/apertif/tutorial/T1/B01/final/continuum/stack/04 #\n"
     ]
    },
    {
     "name": "stderr",
     "output_type": "stream",
     "text": [
      "FINAL - INFO : # Theoretical noise for chunk 04 is 2.97e-08 Jy/beam #\n"
     ]
    },
    {
     "name": "stderr",
     "output_type": "stream",
     "text": [
      "FINAL - INFO : # Maximum value in the image is 0.0976568 Jy/beam #\n"
     ]
    },
    {
     "name": "stderr",
     "output_type": "stream",
     "text": [
      "FINAL - INFO : # Mask threshold minor cycle 0 is 0.0651045292616 Jy/beam #\n"
     ]
    },
    {
     "name": "stderr",
     "output_type": "stream",
     "text": [
      "FINAL - INFO : # Mask with threshold 0.0651045292616 Jy/beam created #\n"
     ]
    },
    {
     "name": "stderr",
     "output_type": "stream",
     "text": [
      "FINAL - INFO : # Clean noise threshold at minor cycle 0 is 0.0325522646308 Jy/beam #\n"
     ]
    },
    {
     "name": "stderr",
     "output_type": "stream",
     "text": [
      "FINAL - INFO : # Clean threshold at minor cycle 0 was set to 0.0325522646308 Jy/beam #\n"
     ]
    },
    {
     "name": "stderr",
     "output_type": "stream",
     "text": [
      "FINAL - INFO : # Minor cycle 0 cleaning done #\n"
     ]
    },
    {
     "name": "stderr",
     "output_type": "stream",
     "text": [
      "FINAL - INFO : # Cleaned image for minor cycle 0 created #\n"
     ]
    },
    {
     "name": "stderr",
     "output_type": "stream",
     "text": [
      "FINAL - INFO : # Residual image for major/minor cycle 0 created #\n"
     ]
    },
    {
     "name": "stderr",
     "output_type": "stream",
     "text": [
      "FINAL - INFO : # Maximum value in the image at minor cycle 1 is 0.0598763 Jy/beam #\n"
     ]
    },
    {
     "name": "stderr",
     "output_type": "stream",
     "text": [
      "FINAL - INFO : # Mask threshold at minor cycle 1 is 0.0199587643147 Jy/beam #\n"
     ]
    },
    {
     "name": "stderr",
     "output_type": "stream",
     "text": [
      "FINAL - INFO : # Mask with threshold 0.0199587643147 Jy/beam created #\n"
     ]
    },
    {
     "name": "stderr",
     "output_type": "stream",
     "text": [
      "FINAL - INFO : # Clean noise threshold at minor cycle 1 is 0.00997938215733 Jy/beam #\n"
     ]
    },
    {
     "name": "stderr",
     "output_type": "stream",
     "text": [
      "FINAL - INFO : # Clean threshold at major/minor cycle 1 was set to 0.00997938215733 Jy/beam #\n"
     ]
    },
    {
     "name": "stderr",
     "output_type": "stream",
     "text": [
      "FINAL - INFO : # Minor cycle 1 cleaning done #\n"
     ]
    },
    {
     "name": "stderr",
     "output_type": "stream",
     "text": [
      "FINAL - INFO : # Cleaned image for minor cycle 1 created #\n"
     ]
    },
    {
     "name": "stderr",
     "output_type": "stream",
     "text": [
      "FINAL - INFO : # Residual image for Minor cycle 1 created #\n"
     ]
    },
    {
     "name": "stderr",
     "output_type": "stream",
     "text": [
      "FINAL - INFO : # Maximum value in the image at minor cycle 2 is 0.0186541 Jy/beam #\n"
     ]
    },
    {
     "name": "stderr",
     "output_type": "stream",
     "text": [
      "FINAL - INFO : # Mask threshold at minor cycle 2 is 0.00414535982741 Jy/beam #\n"
     ]
    },
    {
     "name": "stderr",
     "output_type": "stream",
     "text": [
      "FINAL - INFO : # Mask with threshold 0.00414535982741 Jy/beam created #\n"
     ]
    },
    {
     "name": "stderr",
     "output_type": "stream",
     "text": [
      "FINAL - INFO : # Clean noise threshold at minor cycle 2 is 0.00207267991371 Jy/beam #\n"
     ]
    },
    {
     "name": "stderr",
     "output_type": "stream",
     "text": [
      "FINAL - INFO : # Clean threshold at major/minor cycle 2 was set to 0.00207267991371 Jy/beam #\n"
     ]
    },
    {
     "name": "stderr",
     "output_type": "stream",
     "text": [
      "FINAL - INFO : # Minor cycle 2 cleaning done #\n"
     ]
    },
    {
     "name": "stderr",
     "output_type": "stream",
     "text": [
      "FINAL - INFO : # Cleaned image for minor cycle 2 created #\n"
     ]
    },
    {
     "name": "stderr",
     "output_type": "stream",
     "text": [
      "FINAL - INFO : # Residual image for Minor cycle 2 created #\n"
     ]
    },
    {
     "name": "stderr",
     "output_type": "stream",
     "text": [
      "FINAL - INFO : ### Doing 5000 extra clean iterations without a mask for chunk 04 ###\n"
     ]
    },
    {
     "name": "stderr",
     "output_type": "stream",
     "text": [
      "FINAL - INFO : # Extra iteration cleaning done #\n"
     ]
    },
    {
     "name": "stderr",
     "output_type": "stream",
     "text": [
      "FINAL - INFO : # Cleaned image created #\n"
     ]
    },
    {
     "name": "stderr",
     "output_type": "stream",
     "text": [
      "FINAL - INFO : # Residual image created #\n"
     ]
    },
    {
     "name": "stderr",
     "output_type": "stream",
     "text": [
      "FINAL - INFO : ### Extra iteration cleaning for chunk 04 done ###\n"
     ]
    },
    {
     "name": "stderr",
     "output_type": "stream",
     "text": [
      "FINAL - INFO : # Creating directory /data/adebahr/apertif/tutorial/T1/B01/final/continuum/stack/05 #\n"
     ]
    },
    {
     "name": "stderr",
     "output_type": "stream",
     "text": [
      "FINAL - INFO : # Moved to directory /data/adebahr/apertif/tutorial/T1/B01/final/continuum/stack/05 #\n"
     ]
    },
    {
     "name": "stderr",
     "output_type": "stream",
     "text": [
      "FINAL - INFO : # Theoretical noise for chunk 05 is 2.95e-08 Jy/beam #\n"
     ]
    },
    {
     "name": "stderr",
     "output_type": "stream",
     "text": [
      "FINAL - INFO : # Maximum value in the image is 0.0986583 Jy/beam #\n"
     ]
    },
    {
     "name": "stderr",
     "output_type": "stream",
     "text": [
      "FINAL - INFO : # Mask threshold minor cycle 0 is 0.0657721807559 Jy/beam #\n"
     ]
    },
    {
     "name": "stderr",
     "output_type": "stream",
     "text": [
      "FINAL - INFO : # Mask with threshold 0.0657721807559 Jy/beam created #\n"
     ]
    },
    {
     "name": "stderr",
     "output_type": "stream",
     "text": [
      "FINAL - INFO : # Clean noise threshold at minor cycle 0 is 0.032886090378 Jy/beam #\n"
     ]
    },
    {
     "name": "stderr",
     "output_type": "stream",
     "text": [
      "FINAL - INFO : # Clean threshold at minor cycle 0 was set to 0.032886090378 Jy/beam #\n"
     ]
    },
    {
     "name": "stderr",
     "output_type": "stream",
     "text": [
      "FINAL - INFO : # Minor cycle 0 cleaning done #\n"
     ]
    },
    {
     "name": "stderr",
     "output_type": "stream",
     "text": [
      "FINAL - INFO : # Cleaned image for minor cycle 0 created #\n"
     ]
    },
    {
     "name": "stderr",
     "output_type": "stream",
     "text": [
      "FINAL - INFO : # Residual image for major/minor cycle 0 created #\n"
     ]
    },
    {
     "name": "stderr",
     "output_type": "stream",
     "text": [
      "FINAL - INFO : # Maximum value in the image at minor cycle 1 is 0.0613969 Jy/beam #\n"
     ]
    },
    {
     "name": "stderr",
     "output_type": "stream",
     "text": [
      "FINAL - INFO : # Mask threshold at minor cycle 1 is 0.0204656186203 Jy/beam #\n"
     ]
    },
    {
     "name": "stderr",
     "output_type": "stream",
     "text": [
      "FINAL - INFO : # Mask with threshold 0.0204656186203 Jy/beam created #\n"
     ]
    },
    {
     "name": "stderr",
     "output_type": "stream",
     "text": [
      "FINAL - INFO : # Clean noise threshold at minor cycle 1 is 0.0102328093102 Jy/beam #\n"
     ]
    },
    {
     "name": "stderr",
     "output_type": "stream",
     "text": [
      "FINAL - INFO : # Clean threshold at major/minor cycle 1 was set to 0.0102328093102 Jy/beam #\n"
     ]
    },
    {
     "name": "stderr",
     "output_type": "stream",
     "text": [
      "FINAL - INFO : # Minor cycle 1 cleaning done #\n"
     ]
    },
    {
     "name": "stderr",
     "output_type": "stream",
     "text": [
      "FINAL - INFO : # Cleaned image for minor cycle 1 created #\n"
     ]
    },
    {
     "name": "stderr",
     "output_type": "stream",
     "text": [
      "FINAL - INFO : # Residual image for Minor cycle 1 created #\n"
     ]
    },
    {
     "name": "stderr",
     "output_type": "stream",
     "text": [
      "FINAL - INFO : # Maximum value in the image at minor cycle 2 is 0.0194845 Jy/beam #\n"
     ]
    },
    {
     "name": "stderr",
     "output_type": "stream",
     "text": [
      "FINAL - INFO : # Mask threshold at minor cycle 2 is 0.00432989166843 Jy/beam #\n"
     ]
    },
    {
     "name": "stderr",
     "output_type": "stream",
     "text": [
      "FINAL - INFO : # Mask with threshold 0.00432989166843 Jy/beam created #\n"
     ]
    },
    {
     "name": "stderr",
     "output_type": "stream",
     "text": [
      "FINAL - INFO : # Clean noise threshold at minor cycle 2 is 0.00216494583421 Jy/beam #\n"
     ]
    },
    {
     "name": "stderr",
     "output_type": "stream",
     "text": [
      "FINAL - INFO : # Clean threshold at major/minor cycle 2 was set to 0.00216494583421 Jy/beam #\n"
     ]
    },
    {
     "name": "stderr",
     "output_type": "stream",
     "text": [
      "FINAL - INFO : # Minor cycle 2 cleaning done #\n"
     ]
    },
    {
     "name": "stderr",
     "output_type": "stream",
     "text": [
      "FINAL - INFO : # Cleaned image for minor cycle 2 created #\n"
     ]
    },
    {
     "name": "stderr",
     "output_type": "stream",
     "text": [
      "FINAL - INFO : # Residual image for Minor cycle 2 created #\n"
     ]
    },
    {
     "name": "stderr",
     "output_type": "stream",
     "text": [
      "FINAL - INFO : ### Doing 5000 extra clean iterations without a mask for chunk 05 ###\n"
     ]
    },
    {
     "name": "stderr",
     "output_type": "stream",
     "text": [
      "FINAL - INFO : # Extra iteration cleaning done #\n"
     ]
    },
    {
     "name": "stderr",
     "output_type": "stream",
     "text": [
      "FINAL - INFO : # Cleaned image created #\n"
     ]
    },
    {
     "name": "stderr",
     "output_type": "stream",
     "text": [
      "FINAL - INFO : # Residual image created #\n"
     ]
    },
    {
     "name": "stderr",
     "output_type": "stream",
     "text": [
      "FINAL - INFO : ### Extra iteration cleaning for chunk 05 done ###\n"
     ]
    },
    {
     "name": "stderr",
     "output_type": "stream",
     "text": [
      "FINAL - INFO : # Creating directory /data/adebahr/apertif/tutorial/T1/B01/final/continuum/stack/06 #\n"
     ]
    },
    {
     "name": "stderr",
     "output_type": "stream",
     "text": [
      "FINAL - INFO : # Moved to directory /data/adebahr/apertif/tutorial/T1/B01/final/continuum/stack/06 #\n"
     ]
    },
    {
     "name": "stderr",
     "output_type": "stream",
     "text": [
      "FINAL - INFO : # Theoretical noise for chunk 06 is 2.91e-08 Jy/beam #\n"
     ]
    },
    {
     "name": "stderr",
     "output_type": "stream",
     "text": [
      "FINAL - INFO : # Maximum value in the image is 0.101173 Jy/beam #\n"
     ]
    },
    {
     "name": "stderr",
     "output_type": "stream",
     "text": [
      "FINAL - INFO : # Mask threshold minor cycle 0 is 0.0674489637216 Jy/beam #\n"
     ]
    },
    {
     "name": "stderr",
     "output_type": "stream",
     "text": [
      "FINAL - INFO : # Mask with threshold 0.0674489637216 Jy/beam created #\n"
     ]
    },
    {
     "name": "stderr",
     "output_type": "stream",
     "text": [
      "FINAL - INFO : # Clean noise threshold at minor cycle 0 is 0.0337244818608 Jy/beam #\n"
     ]
    },
    {
     "name": "stderr",
     "output_type": "stream",
     "text": [
      "FINAL - INFO : # Clean threshold at minor cycle 0 was set to 0.0337244818608 Jy/beam #\n"
     ]
    },
    {
     "name": "stderr",
     "output_type": "stream",
     "text": [
      "FINAL - INFO : # Minor cycle 0 cleaning done #\n"
     ]
    },
    {
     "name": "stderr",
     "output_type": "stream",
     "text": [
      "FINAL - INFO : # Cleaned image for minor cycle 0 created #\n"
     ]
    },
    {
     "name": "stderr",
     "output_type": "stream",
     "text": [
      "FINAL - INFO : # Residual image for major/minor cycle 0 created #\n"
     ]
    },
    {
     "name": "stderr",
     "output_type": "stream",
     "text": [
      "FINAL - INFO : # Maximum value in the image at minor cycle 1 is 0.0637114 Jy/beam #\n"
     ]
    },
    {
     "name": "stderr",
     "output_type": "stream",
     "text": [
      "FINAL - INFO : # Mask threshold at minor cycle 1 is 0.0212371324499 Jy/beam #\n"
     ]
    },
    {
     "name": "stderr",
     "output_type": "stream",
     "text": [
      "FINAL - INFO : # Mask with threshold 0.0212371324499 Jy/beam created #\n"
     ]
    },
    {
     "name": "stderr",
     "output_type": "stream",
     "text": [
      "FINAL - INFO : # Clean noise threshold at minor cycle 1 is 0.010618566225 Jy/beam #\n"
     ]
    },
    {
     "name": "stderr",
     "output_type": "stream",
     "text": [
      "FINAL - INFO : # Clean threshold at major/minor cycle 1 was set to 0.010618566225 Jy/beam #\n"
     ]
    },
    {
     "name": "stderr",
     "output_type": "stream",
     "text": [
      "FINAL - INFO : # Minor cycle 1 cleaning done #\n"
     ]
    },
    {
     "name": "stderr",
     "output_type": "stream",
     "text": [
      "FINAL - INFO : # Cleaned image for minor cycle 1 created #\n"
     ]
    },
    {
     "name": "stderr",
     "output_type": "stream",
     "text": [
      "FINAL - INFO : # Residual image for Minor cycle 1 created #\n"
     ]
    },
    {
     "name": "stderr",
     "output_type": "stream",
     "text": [
      "FINAL - INFO : # Maximum value in the image at minor cycle 2 is 0.0204405 Jy/beam #\n"
     ]
    },
    {
     "name": "stderr",
     "output_type": "stream",
     "text": [
      "FINAL - INFO : # Mask threshold at minor cycle 2 is 0.00454233214259 Jy/beam #\n"
     ]
    },
    {
     "name": "stderr",
     "output_type": "stream",
     "text": [
      "FINAL - INFO : # Mask with threshold 0.00454233214259 Jy/beam created #\n"
     ]
    },
    {
     "name": "stderr",
     "output_type": "stream",
     "text": [
      "FINAL - INFO : # Clean noise threshold at minor cycle 2 is 0.0022711660713 Jy/beam #\n"
     ]
    },
    {
     "name": "stderr",
     "output_type": "stream",
     "text": [
      "FINAL - INFO : # Clean threshold at major/minor cycle 2 was set to 0.0022711660713 Jy/beam #\n"
     ]
    },
    {
     "name": "stderr",
     "output_type": "stream",
     "text": [
      "FINAL - INFO : # Minor cycle 2 cleaning done #\n"
     ]
    },
    {
     "name": "stderr",
     "output_type": "stream",
     "text": [
      "FINAL - INFO : # Cleaned image for minor cycle 2 created #\n"
     ]
    },
    {
     "name": "stderr",
     "output_type": "stream",
     "text": [
      "FINAL - INFO : # Residual image for Minor cycle 2 created #\n"
     ]
    },
    {
     "name": "stderr",
     "output_type": "stream",
     "text": [
      "FINAL - INFO : ### Doing 5000 extra clean iterations without a mask for chunk 06 ###\n"
     ]
    },
    {
     "name": "stderr",
     "output_type": "stream",
     "text": [
      "FINAL - INFO : # Extra iteration cleaning done #\n"
     ]
    },
    {
     "name": "stderr",
     "output_type": "stream",
     "text": [
      "FINAL - INFO : # Cleaned image created #\n"
     ]
    },
    {
     "name": "stderr",
     "output_type": "stream",
     "text": [
      "FINAL - INFO : # Residual image created #\n"
     ]
    },
    {
     "name": "stderr",
     "output_type": "stream",
     "text": [
      "FINAL - INFO : ### Extra iteration cleaning for chunk 06 done ###\n"
     ]
    },
    {
     "name": "stderr",
     "output_type": "stream",
     "text": [
      "FINAL - INFO : # Creating directory /data/adebahr/apertif/tutorial/T1/B01/final/continuum/stack/07 #\n"
     ]
    },
    {
     "name": "stderr",
     "output_type": "stream",
     "text": [
      "FINAL - INFO : # Moved to directory /data/adebahr/apertif/tutorial/T1/B01/final/continuum/stack/07 #\n"
     ]
    },
    {
     "name": "stderr",
     "output_type": "stream",
     "text": [
      "FINAL - INFO : # Theoretical noise for chunk 07 is 3.05e-08 Jy/beam #\n"
     ]
    },
    {
     "name": "stderr",
     "output_type": "stream",
     "text": [
      "FINAL - INFO : # Maximum value in the image is 0.103472 Jy/beam #\n"
     ]
    },
    {
     "name": "stderr",
     "output_type": "stream",
     "text": [
      "FINAL - INFO : # Mask threshold minor cycle 0 is 0.0689816127221 Jy/beam #\n"
     ]
    },
    {
     "name": "stderr",
     "output_type": "stream",
     "text": [
      "FINAL - INFO : # Mask with threshold 0.0689816127221 Jy/beam created #\n"
     ]
    },
    {
     "name": "stderr",
     "output_type": "stream",
     "text": [
      "FINAL - INFO : # Clean noise threshold at minor cycle 0 is 0.034490806361 Jy/beam #\n"
     ]
    },
    {
     "name": "stderr",
     "output_type": "stream",
     "text": [
      "FINAL - INFO : # Clean threshold at minor cycle 0 was set to 0.034490806361 Jy/beam #\n"
     ]
    },
    {
     "name": "stderr",
     "output_type": "stream",
     "text": [
      "FINAL - INFO : # Minor cycle 0 cleaning done #\n"
     ]
    },
    {
     "name": "stderr",
     "output_type": "stream",
     "text": [
      "FINAL - INFO : # Cleaned image for minor cycle 0 created #\n"
     ]
    },
    {
     "name": "stderr",
     "output_type": "stream",
     "text": [
      "FINAL - INFO : # Residual image for major/minor cycle 0 created #\n"
     ]
    },
    {
     "name": "stderr",
     "output_type": "stream",
     "text": [
      "FINAL - INFO : # Maximum value in the image at minor cycle 1 is 0.066742 Jy/beam #\n"
     ]
    },
    {
     "name": "stderr",
     "output_type": "stream",
     "text": [
      "FINAL - INFO : # Mask threshold at minor cycle 1 is 0.0222473417719 Jy/beam #\n"
     ]
    },
    {
     "name": "stderr",
     "output_type": "stream",
     "text": [
      "FINAL - INFO : # Mask with threshold 0.0222473417719 Jy/beam created #\n"
     ]
    },
    {
     "name": "stderr",
     "output_type": "stream",
     "text": [
      "FINAL - INFO : # Clean noise threshold at minor cycle 1 is 0.011123670886 Jy/beam #\n"
     ]
    },
    {
     "name": "stderr",
     "output_type": "stream",
     "text": [
      "FINAL - INFO : # Clean threshold at major/minor cycle 1 was set to 0.011123670886 Jy/beam #\n"
     ]
    },
    {
     "name": "stderr",
     "output_type": "stream",
     "text": [
      "FINAL - INFO : # Minor cycle 1 cleaning done #\n"
     ]
    },
    {
     "name": "stderr",
     "output_type": "stream",
     "text": [
      "FINAL - INFO : # Cleaned image for minor cycle 1 created #\n"
     ]
    },
    {
     "name": "stderr",
     "output_type": "stream",
     "text": [
      "FINAL - INFO : # Residual image for Minor cycle 1 created #\n"
     ]
    },
    {
     "name": "stderr",
     "output_type": "stream",
     "text": [
      "FINAL - INFO : # Maximum value in the image at minor cycle 2 is 0.0219266 Jy/beam #\n"
     ]
    },
    {
     "name": "stderr",
     "output_type": "stream",
     "text": [
      "FINAL - INFO : # Mask threshold at minor cycle 2 is 0.0048725762301 Jy/beam #\n"
     ]
    },
    {
     "name": "stderr",
     "output_type": "stream",
     "text": [
      "FINAL - INFO : # Mask with threshold 0.0048725762301 Jy/beam created #\n"
     ]
    },
    {
     "name": "stderr",
     "output_type": "stream",
     "text": [
      "FINAL - INFO : # Clean noise threshold at minor cycle 2 is 0.00243628811505 Jy/beam #\n"
     ]
    },
    {
     "name": "stderr",
     "output_type": "stream",
     "text": [
      "FINAL - INFO : # Clean threshold at major/minor cycle 2 was set to 0.00243628811505 Jy/beam #\n"
     ]
    },
    {
     "name": "stderr",
     "output_type": "stream",
     "text": [
      "FINAL - INFO : # Minor cycle 2 cleaning done #\n"
     ]
    },
    {
     "name": "stderr",
     "output_type": "stream",
     "text": [
      "FINAL - INFO : # Cleaned image for minor cycle 2 created #\n"
     ]
    },
    {
     "name": "stderr",
     "output_type": "stream",
     "text": [
      "FINAL - INFO : # Residual image for Minor cycle 2 created #\n"
     ]
    },
    {
     "name": "stderr",
     "output_type": "stream",
     "text": [
      "FINAL - INFO : ### Doing 5000 extra clean iterations without a mask for chunk 07 ###\n"
     ]
    },
    {
     "name": "stderr",
     "output_type": "stream",
     "text": [
      "FINAL - INFO : # Extra iteration cleaning done #\n"
     ]
    },
    {
     "name": "stderr",
     "output_type": "stream",
     "text": [
      "FINAL - INFO : # Cleaned image created #\n"
     ]
    },
    {
     "name": "stderr",
     "output_type": "stream",
     "text": [
      "FINAL - INFO : # Residual image created #\n"
     ]
    },
    {
     "name": "stderr",
     "output_type": "stream",
     "text": [
      "FINAL - INFO : ### Extra iteration cleaning for chunk 07 done ###\n"
     ]
    },
    {
     "name": "stderr",
     "output_type": "stream",
     "text": [
      "FINAL - INFO : ### Stacking images of individual frequency chunks ###\n"
     ]
    },
    {
     "name": "stderr",
     "output_type": "stream",
     "text": [
      "FINAL - INFO : # Moved to directory /data/adebahr/apertif/tutorial/T1/B01/final/continuum/stack #\n"
     ]
    },
    {
     "name": "stderr",
     "output_type": "stream",
     "text": [
      "FINAL - INFO : ### Final deep continuum image is /data/adebahr/apertif/tutorial/T1/B01/final/continuum/stack/LH01_stack_linmos ###\n"
     ]
    },
    {
     "name": "stderr",
     "output_type": "stream",
     "text": [
      "FINAL - INFO : ### Deep continuum imaging of full dataset done ###\n"
     ]
    },
    {
     "name": "stderr",
     "output_type": "stream",
     "text": [
      "FINAL - INFO : ########## FINAL IMAGING done ##########\n"
     ]
    }
   ],
   "source": [
    "final = apercal.final('/home/adebahr/apercal/ipython-notebooks/tutorials/cfg/T1.cfg')\n",
    "final.reset()\n",
    "final.final_continuum_mode = 'stack'\n",
    "final.go()"
   ]
  },
  {
   "cell_type": "code",
   "execution_count": null,
   "metadata": {},
   "outputs": [],
   "source": [
    ""
   ]
  }
 ],
 "metadata": {
  "kernelspec": {
   "display_name": "Python 2",
   "language": "python",
   "name": "python2"
  },
  "language_info": {
   "codemirror_mode": {
    "name": "ipython",
    "version": 2.0
   },
   "file_extension": ".py",
   "mimetype": "text/x-python",
   "name": "python",
   "nbconvert_exporter": "python",
   "pygments_lexer": "ipython2",
   "version": "2.7.6"
  }
 },
 "nbformat": 4,
 "nbformat_minor": 0
}