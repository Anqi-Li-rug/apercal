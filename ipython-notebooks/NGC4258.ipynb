{
 "cells": [
  {
   "cell_type": "code",
   "execution_count": 1,
   "metadata": {
    "collapsed": false
   },
   "outputs": [
    {
     "name": "stderr",
     "output_type": "stream",
     "text": [
      "/usr/local/lib/python2.7/site-packages/matplotlib/font_manager.py:273: UserWarning: Matplotlib is building the font cache using fc-list. This may take a moment.\n",
      "  warnings.warn('Matplotlib is building the font cache using fc-list. This may take a moment.')\n",
      "root - INFO : Logging started!\n",
      "root - INFO : To see the log in a bash window use the following command:\n",
      "root - INFO : tail -n +1 -f /Users/adebahr/Software/apercal/ipython-notebooks/ngc4258.log\n"
     ]
    },
    {
     "name": "stdout",
     "output_type": "stream",
     "text": [
      "Setup logger with lib.setup_logger()\n"
     ]
    },
    {
     "ename": "ImportError",
     "evalue": "cannot import name calibrate",
     "traceback": [
      "\u001b[0;31m---------------------------------------------------------------------------\u001b[0m",
      "\u001b[0;31mImportError\u001b[0m                               Traceback (most recent call last)",
      "\u001b[0;32m<ipython-input-1-065c0b71d59c>\u001b[0m in \u001b[0;36m<module>\u001b[0;34m()\u001b[0m\n\u001b[1;32m      5\u001b[0m \u001b[0mget_ipython\u001b[0m\u001b[0;34m(\u001b[0m\u001b[0;34m)\u001b[0m\u001b[0;34m.\u001b[0m\u001b[0mmagic\u001b[0m\u001b[0;34m(\u001b[0m\u001b[0;34mu'matplotlib inline'\u001b[0m\u001b[0;34m)\u001b[0m\u001b[0;34m\u001b[0m\u001b[0m\n\u001b[1;32m      6\u001b[0m \u001b[0;32mimport\u001b[0m \u001b[0mos\u001b[0m\u001b[0;34m\u001b[0m\u001b[0m\n\u001b[0;32m----> 7\u001b[0;31m \u001b[0;32mfrom\u001b[0m \u001b[0mapercal\u001b[0m \u001b[0;32mimport\u001b[0m \u001b[0mcalibrate\u001b[0m\u001b[0;34m\u001b[0m\u001b[0m\n\u001b[0m\u001b[1;32m      8\u001b[0m \u001b[0mscal\u001b[0m \u001b[0;34m=\u001b[0m \u001b[0mcalibrate\u001b[0m\u001b[0;34m.\u001b[0m\u001b[0mwselfcal\u001b[0m\u001b[0;34m(\u001b[0m\u001b[0;34m)\u001b[0m\u001b[0;34m\u001b[0m\u001b[0m\n",
      "\u001b[0;31mImportError\u001b[0m: cannot import name calibrate"
     ],
     "output_type": "error"
    }
   ],
   "source": [
    "# Header Cell. You should NOT rerun this block if you have not restarted the kernel.\n",
    "from apercal import lib\n",
    "lib.setup_logger('info', logfile='/Users/adebahr/Software/apercal/ipython-notebooks/ngc4258.log')\n",
    "import pylab as pl\n",
    "%matplotlib inline\n",
    "import os\n",
    "from apercal import calibrate\n",
    "scal = calibrate.wselfcal()"
   ]
  },
  {
   "cell_type": "code",
   "execution_count": 2,
   "metadata": {
    "collapsed": false
   },
   "outputs": [
    {
     "name": "stderr",
     "output_type": "stream",
     "text": [
      "selfcal - INFO : ########## Starting SELF CALIBRATION ##########\n",
      "selfcal - INFO : Creating directory /Users/adebahr/Data/apercal/selfcal\n",
      "selfcal - INFO : Moved to directory /Users/adebahr/Data/apercal/selfcal\n",
      "masher - INFO : uvsplit vis=/Users/adebahr/Data/apercal/crosscal/wcs01_b2.uv maxwidth=0.02 \n",
      "selfcal - INFO : Split dataset into 1*20.0 MHz subbands\n",
      "selfcal - INFO : Subband starting frequencies are: ['1396'] MHz\n",
      "selfcal - INFO : ########## Starting self calibration for SB01 at 1396 MHz ##########\n",
      "selfcal - INFO : Creating directory /Users/adebahr/Data/apercal/selfcal/01\n",
      "selfcal - INFO : Moved to directory /Users/adebahr/Data/apercal/selfcal/01\n",
      "masher - INFO : invert map=rmsmap slop=1 beam=rmsbeam cell=3 vis=wcs01.1396.5 robust=0 stokes=qq options=mfs imsize=2049 \n",
      "basher - ERROR : ### Warning:  Visibilities rejected: 11674881\n",
      "\n",
      "masher - INFO : fits in=rmsmap op=xyout out=rmsmap.fits \n",
      "selfcal - INFO : Measured noise from Stokes V image is 3.61732e-05 Jy/beam\n",
      "masher - INFO : invert map=rmsmap slop=1 beam=rmsbeam cell=3 vis=wcs01.1396.5 robust=0 stokes=i options=mfs imsize=2049 \n",
      "basher - ERROR : ### Warning:  Visibilities rejected: 11674881\n",
      "\n",
      "masher - INFO : fits in=rmsmap op=xyout out=rmsmap.fits \n",
      "selfcal - INFO : Maximum in total power image is 0.101737 Jy/beam\n",
      "selfcal - INFO : Maximum dynamic range: 2812.49\n",
      "selfcal - INFO : ##### Starting parametric self calibration #####\n",
      "selfcal - INFO : Creating directory /Users/adebahr/Data/apercal/selfcal/01/parametric\n",
      "selfcal - INFO : Moved to directory /Users/adebahr/Data/apercal/selfcal/01/parametric\n",
      "selfcal - INFO : Considering sources in a 1.0 deg radius, a flux cutoff of 70.0 percent of the total apparent flux in the field, and a distance of 30 arcsec for source matching with WENSS sources\n",
      "WARNING: AstropyDeprecationWarning: Passing a frame as a positional argument is now deprecated, use the frame= keyword argument instead. [astropy.coordinates.sky_coordinate]\n",
      "root - INFO : Using FIRST catalogue for construction of the skymodel\n",
      "root - INFO : Field seems to have a flux of 0.71635925689 Jy\n",
      "root - INFO : Found 14 sources in the model at a cutoff of 70.0 percent with a total flux of 0.509226100537 Jy\n",
      "root - INFO : Using WENSS catalogue for calculation of the spectral index\n",
      "root - INFO : Found 14 sources with no counterparts. Setting their spectral index to -0.7\n",
      "root - INFO : Wrote source textfile to model.txt.\n",
      "root - INFO : Wrote mask textfile to mask.txt.\n",
      "masher - INFO : uvmodel flux=0.10182431565 offset=4.12620000022,8.3088 out=tmp0 options=replace,mfs vis=/Users/adebahr/Data/apercal/selfcal/01/wcs01.1396.5 \n",
      "basher - ERROR : ### Warning:  UVMODEL does not apply any calibration tables\n",
      "### Warning:  Antenna gain calibration not applied\n",
      "\n",
      "masher - INFO : uvmodel flux=0.082793632591 offset=-10.0793999998,-4.23 out=tmp1 options=add,mfs vis=tmp0 \n",
      "masher - INFO : uvmodel flux=0.0675994370403 offset=-209.3538,-172.6992 out=tmp2 options=add,mfs vis=tmp1 \n",
      "masher - INFO : uvmodel flux=0.058791853653 offset=146.1606,-180.5004 out=tmp3 options=add,mfs vis=tmp2 \n",
      "masher - INFO : uvmodel flux=0.0490983525774 offset=-248.205,-173.5884 out=tmp4 options=add,mfs vis=tmp3 \n",
      "masher - INFO : uvmodel flux=0.029889461047 offset=-183.675,-175.2516 out=tmp5 options=add,mfs vis=tmp4 \n",
      "masher - INFO : uvmodel flux=0.0233778802233 offset=-607.2006,-170.4708 out=tmp6 options=add,mfs vis=tmp5 \n",
      "masher - INFO : uvmodel flux=0.019551315151 offset=-623.1306,1219.4208 out=tmp7 options=add,mfs vis=tmp6 \n",
      "masher - INFO : uvmodel flux=0.0161352754239 offset=-1052.0994,-160.0416 out=tmp8 options=add,mfs vis=tmp7 \n",
      "masher - INFO : uvmodel flux=0.015682505509 offset=-342.525,-174.87 out=tmp9 options=add,mfs vis=tmp8 \n",
      "masher - INFO : uvmodel flux=0.0112472012388 offset=1124.5362,626.4216 out=tmp10 options=add,mfs vis=tmp9 \n",
      "masher - INFO : uvmodel flux=0.0112035354177 offset=-518.2806,-657.9396 out=tmp11 options=add,mfs vis=tmp10 \n",
      "masher - INFO : uvmodel flux=0.0105019634259 offset=-574.1418,-638.5896 out=tmp12 options=add,mfs vis=tmp11 \n",
      "masher - INFO : uvmodel flux=0.0088914678507 offset=122.505,-181.1016 out=tmp13 options=add,mfs vis=tmp12 \n",
      "masher - INFO : selfcal interval=20 vis=/Users/adebahr/Data/apercal/selfcal/01/wcs01.1396.5 model=model refant=7 options=mfs,phase select=uvrange(3,1000) \n",
      "selfcal - INFO : ##### Parametric self calibration done #####\n",
      "selfcal - INFO : ##### Starting self-calibration cycle 1\n",
      "selfcal - INFO : Creating directory /Users/adebahr/Data/apercal/selfcal/01/01\n",
      "selfcal - INFO : Moved to directory /Users/adebahr/Data/apercal/selfcal/01/01\n",
      "root - INFO : Using FIRST catalogue for construction of the skymodel\n",
      "root - INFO : Field seems to have a flux of 0.71635925689 Jy\n",
      "root - INFO : Found 14 sources in the model at a cutoff of 70.0 percent with a total flux of 0.509226100537 Jy\n",
      "root - INFO : Using WENSS catalogue for calculation of the spectral index\n",
      "root - INFO : Found 14 sources with no counterparts. Setting their spectral index to -0.7\n",
      "root - INFO : Wrote source textfile to model.txt.\n",
      "root - INFO : Wrote mask textfile to mask.txt.\n",
      "masher - INFO : imgen cell=3 spar=1,4,8,15,15,160,1,-10,-4,15,15,104,1,-209,-172,22,15,77,1,146,-180,66,15,85,1,-248,-173,56,16,108,1,-183,-175,15,15,71,1,-607,-170,26,15,101,1,-623,1219,15,15,69,1,-1052,-160,32,16,94,1,-342,-174,21,15,175,1,1124,626,15,15,25,1,-518,-657,15,15,91,1,-574,-638,15,15,102,1,122,-181,20,15,126 object=gaussian,gaussian,gaussian,gaussian,gaussian,gaussian,gaussian,gaussian,gaussian,gaussian,gaussian,gaussian,gaussian,gaussian out=imgen imsize=2049 \n",
      "masher - INFO : maths mask=imgen.gt.1e-6 exp=imgen out=mask \n",
      "masher - INFO : invert map=map slop=1 vis=/Users/adebahr/Data/apercal/selfcal/01/wcs01.1396.5 cell=3 beam=beam robust=0 options=mfs,double imsize=2049 \n",
      "basher - ERROR : ### Warning:  Visibilities rejected: 23349762\n",
      "\n",
      "masher - INFO : clean map=map cutoff=1e-09 region=mask(mask) beam=beam niters=500 out=model \n",
      "masher - INFO : restor map=map model=model out=image mode=clean beam=beam \n",
      "masher - INFO : restor map=map model=model out=residual mode=residual beam=beam \n",
      "masher - INFO : fits in=residual op=xyout out=residual.fits \n",
      "masher - INFO : maths mask=image.gt.6.84308761265e-06 exp=image out=mask_tmp \n",
      "selfcal - INFO : Creating directory ../02\n",
      "selfcal - INFO : Self calibration automatically stopped at the DR-limit! DR is 81480 of the maximum of 2812\n",
      "selfcal - INFO : ##### Self-calibration cycle 1 done\n",
      "selfcal - INFO : ########## Self calibration for SB01 at 1396 MHz done ##########\n",
      "selfcal - INFO : ########## Creating final deep image for SB 01 ##########\n",
      "selfcal - INFO : Moved to directory ../02\n",
      "masher - INFO : invert map=map slop=1 vis=/Users/adebahr/Data/apercal/selfcal/01/wcs01.1396.5 cell=3 beam=beam robust=0 options=mfs,double imsize=2049 \n",
      "basher - ERROR : ### Warning:  Visibilities rejected: 23349762\n",
      "\n",
      "masher - INFO : clean map=map cutoff=4.3099e-08 region=mask(mask) beam=beam niters=100000 out=model \n",
      "masher - INFO : restor map=map model=model out=image mode=clean beam=beam \n",
      "masher - INFO : fits in=image op=xyout out=wcs01.1396.5.fits \n",
      "selfcal - INFO : ########## Final deep image for SB 01 created successfully ##########\n",
      "selfcal - INFO : ########## SELF CALIBRATION done ##########\n"
     ]
    }
   ],
   "source": [
    "scal.go()"
   ]
  },
  {
   "cell_type": "code",
   "execution_count": null,
   "metadata": {
    "collapsed": true
   },
   "outputs": [],
   "source": [
    ""
   ]
  }
 ],
 "metadata": {
  "kernelspec": {
   "display_name": "Python 2",
   "language": "python",
   "name": "python2"
  },
  "language_info": {
   "codemirror_mode": {
    "name": "ipython",
    "version": 2.0
   },
   "file_extension": ".py",
   "mimetype": "text/x-python",
   "name": "python",
   "nbconvert_exporter": "python",
   "pygments_lexer": "ipython2",
   "version": "2.7.12"
  }
 },
 "nbformat": 4,
 "nbformat_minor": 0
}