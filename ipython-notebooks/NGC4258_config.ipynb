{
 "cells": [
  {
   "cell_type": "code",
   "execution_count": 1,
   "metadata": {
    "collapsed": false
   },
   "outputs": [
    {
     "name": "stderr",
     "output_type": "stream",
     "text": [
      "/usr/local/lib/python2.7/site-packages/matplotlib/font_manager.py:273: UserWarning: Matplotlib is building the font cache using fc-list. This may take a moment.\n  warnings.warn('Matplotlib is building the font cache using fc-list. This may take a moment.')\n"
     ]
    },
    {
     "name": "stderr",
     "output_type": "stream",
     "text": [
      "root - INFO : Logging started!\n"
     ]
    },
    {
     "name": "stderr",
     "output_type": "stream",
     "text": [
      "root - INFO : To see the log in a bash window use the following command:\n"
     ]
    },
    {
     "name": "stderr",
     "output_type": "stream",
     "text": [
      "root - INFO : tail -n +1 -f /Users/adebahr/Software/apercal/ipython-notebooks/ngc4258_LSM-tutorial.log\n"
     ]
    },
    {
     "name": "stdout",
     "output_type": "stream",
     "text": [
      "Setup logger with lib.setup_logger()\n"
     ]
    }
   ],
   "source": [
    "# Header Block. You should NOT rerun this block if you have not restarted the kernel.\n",
    "%config IPCompleter.greedy=True\n",
    "import lib\n",
    "lib.setup_logger('info', logfile='/Users/adebahr/Software/apercal/ipython-notebooks/ngc4258_LSM-tutorial.log')\n",
    "import apercal"
   ]
  },
  {
   "cell_type": "code",
   "execution_count": 2,
   "metadata": {
    "collapsed": false
   },
   "outputs": [
    {
     "name": "stdout",
     "output_type": "stream",
     "text": [
      "INITIAL\n\tapercaldir = '/Users/adebahr/Software/apercal'\n\tfcal = ''\n\tpcal = ''\n\ttarget = 'NGC4448_Day01.MS'\n\tbasedir = '/Users/adebahr/Data/apercal'\n\trawsubdir = '/raw'\n\tcrosscalsubdir = '/crosscal'\n\tselfcalsubdir = '/selfcal'\n\tfinalsubdir = '/final'\nPREFLAG\n\ttype = 'aoflagger'\n\taoflagger_fluxcal = True\n\taoflagger_polcal = True\n\taoflagger_target = True\n\taoflagger_calstrat = 'cal.rfis'\n\taoflagger_tarstrat = 'tar.rfis'\nCONVERT\n\ttool = 'casapy'\n\tconvert_fluxcal = True\n\tconvert_polcal = True\n\tconvert_target = True\nCROSSCAL\n\tbandpass = True\n\tpolcal = True\nSELFCAL\n\tchunksize = 0.02\n\tspeed = 'normal'\n\tmode = 'adaptive'\n\tname_map = 'map'\n\tname_beam = 'beam'\n\tname_model = 'model'\n\tname_image = 'image'\n\tname_mask = 'mask'\n\tname_residual = 'residual'\n\timsize = 2049\n\tcell = 3\n\tmode_turbo_freqav = 4\n\tmode_turbo_timeav = 1\n\tparametric = False\n\tparametric_if = [0]\n\tparametric_radius = 0.5\n\tparametric_cutoff = 0.8\n\tparametric_distance = 30\n\tparametric_interval = 20\n\tparametric_minuvrange = 0.5\n\tparametric_maxuvrange = 1000\n\tparametric_amp = False\n\tparametric_amp_freqbins = 64\n\tdiffuse = 'auto'\n\tdiffuse_limit = 1.1\n\tamp = 'auto'\n\tamp_fluxlimit = 0.25\n\tamp_interval = 20\n\tclean_minorcycle = False\n\tmanual_initstats = False\n\tmanual_if = [6]\n\tmanual_cycles = 1\n\tmanual_minuvrange = [[1]]\n\tmanual_maxuvrange = [3]\n\tmanual_interval = [10]\n\tmanual_niters = [500]\n\tmanual_cleancutoff = [0.0005]\n\tmanual_mskcutoff = [0.05]\n\tmanual_cleanstop = 'rms'\n\tadaptive_if = [0,1]\n\tadaptive_startinterval = 20\n\tadaptive_startuvrange = 3\n\tadaptive_maxcycle = 3\n\tadaptive_drlim = 1.3\n\tadaptive_firstniter = 500\n\tdeepimage = False\n\tdeepimage_if = []\nFINAL\n\tmfimage = True\n\tmfimage_cleannoise = True\n\tmfimage_cleannoise_niter = 100000\n\tmfimage_cleannoise_rms = 'auto'\n"
     ]
    }
   ],
   "source": [
    "config = apercal.config()\n",
    "config.show()"
   ]
  },
  {
   "cell_type": "code",
   "execution_count": 3,
   "metadata": {
    "collapsed": false
   },
   "outputs": [
    {
     "name": "stderr",
     "output_type": "stream",
     "text": [
      "SELFCAL - INFO : ### No configuration file given or file not found! Using default values for selfcal! ###\n"
     ]
    }
   ],
   "source": [
    "selfcal = apercal.wselfcal()"
   ]
  },
  {
   "cell_type": "code",
   "execution_count": 4,
   "metadata": {
    "collapsed": false
   },
   "outputs": [
    {
     "name": "stderr",
     "output_type": "stream",
     "text": [
      "SELFCAL - INFO : ########## Starting SELF CALIBRATION ##########\n",
      "SELFCAL - INFO : # Creating directory /Users/adebahr/Data/apercal/selfcal #\n",
      "SELFCAL - INFO : # Moved to directory /Users/adebahr/Data/apercal/selfcal #\n",
      "SELFCAL - INFO : ### Split dataset into 4*20.0 MHz subbands! ###\n",
      "SELFCAL - INFO : ### Subband starting frequencies are: ['1357', '1377', '1397', '1437'] MHz ###\n",
      "SELFCAL - INFO : ### Moved subband (u,v)-files to their directories! ###\n",
      "SELFCAL - INFO : ########## Using adaptive mode for self calibration! ##########\n",
      "SELFCAL - INFO : ### Using the same number for all subbands! ###\n",
      "SELFCAL - INFO : ### Using the same number for all subbands! ###\n",
      "SELFCAL - INFO : ### Using the same number for all subbands! ###\n",
      "SELFCAL - INFO : ### Using the same number for all subbands! ###\n",
      "SELFCAL - INFO : ### Using the same number for all subbands! ###\n",
      "SELFCAL - INFO : ##### Starting adaptive self calibration of subband 01! #####\n",
      "SELFCAL - INFO : # Moved to directory /Users/adebahr/Data/apercal/selfcal/01 #\n",
      "SELFCAL - INFO : ### Measured noise from Stokes V image is 4.4148e-05 Jy/beam ###\n",
      "SELFCAL - INFO : ### Theoretical noise is 4e-05 Jy/beam ###\n",
      "SELFCAL - INFO : ### Maximum in total power image is 0.0241016 Jy/beam ###\n",
      "SELFCAL - INFO : ### Maximum dynamic range calculated from Stokes V is 545.927 ###\n",
      "SELFCAL - INFO : ### Maximum dynamic range calculated from theoretical noise is 602.539768443 ###\n",
      "SELFCAL - INFO : ##### Starting self calibration cycle 1 for subband 01 #####\n",
      "SELFCAL - INFO : # Creating directory /Users/adebahr/Data/apercal/selfcal/01/01 #\n",
      "SELFCAL - INFO : # Moved to directory /Users/adebahr/Data/apercal/selfcal/01/01 #\n",
      "SELFCAL - INFO : ### No mask for cleaning available from earlier iterations! ###\n",
      "SELFCAL - INFO : ### Querying NVSS catalogue for producing a mask! ###\n",
      "WARNING: AstropyDeprecationWarning: Passing a frame as a positional argument is now deprecated, use the frame= keyword argument instead. [astropy.coordinates.sky_coordinate]\n",
      "root - INFO : ### Using standard WSRT beam for calculating apparent fluxes! ###\n",
      "root - INFO : ### Field seems to have a flux of \" + str(allflux) + \" Jy ###\n",
      "root - INFO : ### Found 21 sources in the model at a cutoff of 90.0 percent with a total flux of 0.12149707657 Jy ###\n",
      "root - INFO : ### Wrote mask textfile to /Users/adebahr/Data/apercal/selfcal/01/01/mask.txt! ###\n",
      "SELFCAL - INFO : ### Mask from catalogue created in /Users/adebahr/Data/apercal/selfcal/01/01/mask! ###\n",
      "SELFCAL - INFO : ### Clean niters criterium set: 500 ###\n",
      "SELFCAL - INFO : ### Self calibration reached a DR of 183 of the maximum of 545 ###\n",
      "SELFCAL - INFO : ### Stop criterium was set to 1.3 corresponding to a DR of 419 ###\n",
      "SELFCAL - INFO : ### Continuing self calibration with next cycle... ###\n",
      "SELFCAL - INFO : ##### Adaptive self-calibration cycle 1 of subband 01 done! #####\n",
      "SELFCAL - INFO : ##### Starting self calibration cycle 2 for subband 01 #####\n",
      "SELFCAL - INFO : # Creating directory /Users/adebahr/Data/apercal/selfcal/01/02 #\n",
      "SELFCAL - INFO : # Moved to directory /Users/adebahr/Data/apercal/selfcal/01/02 #\n",
      "SELFCAL - INFO : ### Mask cutoff: 0.000525809663316 Jy/beam ###\n",
      "SELFCAL - INFO : ### Clean cutoff criterium set: 0.000230041721807 Jy/beam ###\n",
      "SELFCAL - INFO : ### Self calibration reached a DR of 360 of the maximum of 545 ###\n",
      "SELFCAL - INFO : ### Stop criterium was set to 1.3 corresponding to a DR of 419 ###\n",
      "SELFCAL - INFO : ### Continuing self calibration with next cycle... ###\n",
      "SELFCAL - INFO : ##### Adaptive self-calibration cycle 2 of subband 01 done! #####\n",
      "SELFCAL - INFO : ##### Starting self calibration cycle 3 for subband 01 #####\n",
      "SELFCAL - INFO : # Creating directory /Users/adebahr/Data/apercal/selfcal/01/03 #\n",
      "SELFCAL - INFO : # Moved to directory /Users/adebahr/Data/apercal/selfcal/01/03 #\n",
      "SELFCAL - INFO : ### Mask cutoff: 0.000267125258127 Jy/beam ###\n",
      "SELFCAL - INFO : ### Clean cutoff criterium set: 0.000116867300676 Jy/beam ###\n",
      "SELFCAL - INFO : ##### Adaptive self-calibration cycle 3 of subband 01 done! #####\n",
      "SELFCAL - INFO : ##### Adaptive self calibration of subband 01 done! #####\n",
      "SELFCAL - INFO : ##### Starting adaptive self calibration of subband 02! #####\n",
      "SELFCAL - INFO : # Moved to directory /Users/adebahr/Data/apercal/selfcal/02 #\n",
      "SELFCAL - INFO : ### Measured noise from Stokes V image is 4.39133e-05 Jy/beam ###\n",
      "SELFCAL - INFO : ### Theoretical noise is 4e-05 Jy/beam ###\n",
      "SELFCAL - INFO : ### Maximum in total power image is 0.023202 Jy/beam ###\n",
      "SELFCAL - INFO : ### Maximum dynamic range calculated from Stokes V is 528.359 ###\n",
      "SELFCAL - INFO : ### Maximum dynamic range calculated from theoretical noise is 580.04911989 ###\n",
      "SELFCAL - INFO : ##### Starting self calibration cycle 1 for subband 02 #####\n",
      "SELFCAL - INFO : # Creating directory /Users/adebahr/Data/apercal/selfcal/02/01 #\n",
      "SELFCAL - INFO : # Moved to directory /Users/adebahr/Data/apercal/selfcal/02/01 #\n",
      "SELFCAL - INFO : ### No mask for cleaning available from earlier iterations! ###\n",
      "SELFCAL - INFO : ### Querying NVSS catalogue for producing a mask! ###\n",
      "root - INFO : ### Using standard WSRT beam for calculating apparent fluxes! ###\n",
      "root - INFO : ### Field seems to have a flux of \" + str(allflux) + \" Jy ###\n",
      "root - INFO : ### Found 21 sources in the model at a cutoff of 90.0 percent with a total flux of 0.118356657526 Jy ###\n",
      "root - INFO : ### Wrote mask textfile to /Users/adebahr/Data/apercal/selfcal/02/01/mask.txt! ###\n",
      "SELFCAL - INFO : ### Mask from catalogue created in /Users/adebahr/Data/apercal/selfcal/02/01/mask! ###\n",
      "SELFCAL - INFO : ### Clean niters criterium set: 500 ###\n",
      "SELFCAL - INFO : ### Self calibration reached a DR of 181 of the maximum of 528 ###\n",
      "SELFCAL - INFO : ### Stop criterium was set to 1.3 corresponding to a DR of 406 ###\n",
      "SELFCAL - INFO : ### Continuing self calibration with next cycle... ###\n",
      "SELFCAL - INFO : ##### Adaptive self-calibration cycle 1 of subband 02 done! #####\n",
      "SELFCAL - INFO : ##### Starting self calibration cycle 2 for subband 02 #####\n",
      "SELFCAL - INFO : # Creating directory /Users/adebahr/Data/apercal/selfcal/02/02 #\n",
      "SELFCAL - INFO : # Moved to directory /Users/adebahr/Data/apercal/selfcal/02/02 #\n",
      "SELFCAL - INFO : ### Mask cutoff: 0.000510370286104 Jy/beam ###\n",
      "SELFCAL - INFO : ### Clean cutoff criterium set: 0.00022328700652 Jy/beam ###\n",
      "SELFCAL - INFO : ### Self calibration reached a DR of 350 of the maximum of 528 ###\n",
      "SELFCAL - INFO : ### Stop criterium was set to 1.3 corresponding to a DR of 406 ###\n",
      "SELFCAL - INFO : ### Continuing self calibration with next cycle... ###\n",
      "SELFCAL - INFO : ##### Adaptive self-calibration cycle 2 of subband 02 done! #####\n",
      "SELFCAL - INFO : ##### Starting self calibration cycle 3 for subband 02 #####\n",
      "SELFCAL - INFO : # Creating directory /Users/adebahr/Data/apercal/selfcal/02/03 #\n",
      "SELFCAL - INFO : # Moved to directory /Users/adebahr/Data/apercal/selfcal/02/03 #\n",
      "SELFCAL - INFO : ### Mask cutoff: 0.00026452658445 Jy/beam ###\n",
      "SELFCAL - INFO : ### Clean cutoff criterium set: 0.000115730377729 Jy/beam ###\n",
      "SELFCAL - INFO : ##### Adaptive self-calibration cycle 3 of subband 02 done! #####\n",
      "SELFCAL - INFO : ##### Adaptive self calibration of subband 02 done! #####\n",
      "SELFCAL - INFO : ### Passing parameters to manual inputs! ###\n",
      "SELFCAL - INFO : ########## Adaptive self calibration done! ##########\n",
      "SELFCAL - INFO : ########## SELF CALIBRATION done ##########\n"
     ]
    }
   ],
   "source": [
    "selfcal.go()"
   ]
  },
  {
   "cell_type": "code",
   "execution_count": 5,
   "metadata": {
    "collapsed": false
   },
   "outputs": [
    {
     "name": "stdout",
     "output_type": "stream",
     "text": [
      "INITIAL\n",
      "\tapercaldir = /Users/adebahr/Software/apercal\n",
      "\tfcal = \n",
      "\tpcal = \n",
      "\ttarget = NGC4448_Day01.mir\n",
      "\tbasedir = /Users/adebahr/Data/apercal\n",
      "\trawsubdir = /raw\n",
      "\tcrosscalsubdir = /crosscal\n",
      "\tselfcalsubdir = /selfcal\n",
      "\tfinalsubdir = /final\n",
      "PREFLAG\n",
      "\ttype = aoflagger\n",
      "\taoflagger_fluxcal = True\n",
      "\taoflagger_polcal = True\n",
      "\taoflagger_target = True\n",
      "\taoflagger_calstrat = cal.rfis\n",
      "\taoflagger_tarstrat = tar.rfis\n",
      "CONVERT\n",
      "\ttool = casapy\n",
      "\tconvert_fluxcal = True\n",
      "\tconvert_polcal = True\n",
      "\tconvert_target = True\n",
      "CROSSCAL\n",
      "\tbandpass = True\n",
      "\tpolcal = True\n",
      "SELFCAL\n",
      "\tchunksize = 0.02\n",
      "\tspeed = normal\n",
      "\tmode = adaptive\n",
      "\tname_map = map\n",
      "\tname_beam = beam\n",
      "\tname_model = model\n",
      "\tname_image = image\n",
      "\tname_mask = mask\n",
      "\tname_residual = residual\n",
      "\timsize = 2049\n",
      "\tcell = 3\n",
      "\tmode_turbo_freqav = 4\n",
      "\tmode_turbo_timeav = 1\n",
      "\tparametric = False\n",
      "\tparametric_if = [0]\n",
      "\tparametric_radius = 0.5\n",
      "\tparametric_cutoff = 0.8\n",
      "\tparametric_distance = 30\n",
      "\tparametric_interval = 20\n",
      "\tparametric_minuvrange = 0.5\n",
      "\tparametric_maxuvrange = 1000\n",
      "\tparametric_amp = False\n",
      "\tparametric_amp_freqbins = 64\n",
      "\tdiffuse = auto\n",
      "\tdiffuse_limit = 1.1\n",
      "\tamp = auto\n",
      "\tamp_fluxlimit = 0.25\n",
      "\tamp_interval = 20\n",
      "\tclean_minorcycle = False\n",
      "\tmanual_initstats = False\n",
      "\tmanual_if = [0, 1]\n",
      "\tmanual_cycles = [3, 3]\n",
      "\tmanual_minuvrange = [[1.4029171147940562, 0.36370076246117389, 0.36370076246117389], [1.4173436609817547, 0.37633023072760713, 0.37633023072760713]]\n",
      "\tmanual_maxuvrange = [[1000, 1000, 1000], [1000, 1000, 1000]]\n",
      "\tmanual_interval = [[9.8851417270290227, 3.3034381622541011, 3.3034381622541011], [9.9765098528844458, 3.3834247946081786, 3.3834247946081786]]\n",
      "\tmanual_niters = [[500, 10000000, 10000000], [500, 10000000, 10000000]]\n",
      "\tmanual_cleancutoff = [[1e-09, 0.00023004172180662863, 0.00011686730067594908], [1e-09, 0.00022328700651996769, 0.00011573037772905082]]\n",
      "\tmanual_mskcutoff = [[1e-06, 0.00052580966331627552, 0.00026712525812652883], [1e-06, 0.00051037028610418506, 0.00026452658445046476]]\n",
      "\tmanual_cleanstop = [['niters', 'rms', 'rms'], ['niters', 'rms', 'rms']]\n",
      "\tadaptive_if = [0, 1]\n",
      "\tadaptive_startinterval = [20, 20]\n",
      "\tadaptive_startuvrange = [3, 3]\n",
      "\tadaptive_maxcycle = [3, 3]\n",
      "\tadaptive_drlim = [1.3, 1.3]\n",
      "\tadaptive_firstniter = [500, 500]\n",
      "\tdeepimage = False\n",
      "\tdeepimage_if = []\n",
      "FINAL\n",
      "\tmfimage = True\n",
      "\tmfimage_cleannoise = True\n",
      "\tmfimage_cleannoise_niter = 100000\n",
      "\tmfimage_cleannoise_rms = auto\n"
     ]
    }
   ],
   "source": [
    "selfcal.show()"
   ]
  },
  {
   "cell_type": "code",
   "execution_count": null,
   "metadata": {
    "collapsed": true
   },
   "outputs": [],
   "source": [
    ""
   ]
  }
 ],
 "metadata": {
  "kernelspec": {
   "display_name": "Python 2",
   "language": "python",
   "name": "python2"
  },
  "language_info": {
   "codemirror_mode": {
    "name": "ipython",
    "version": 2.0
   },
   "file_extension": ".py",
   "mimetype": "text/x-python",
   "name": "python",
   "nbconvert_exporter": "python",
   "pygments_lexer": "ipython2",
   "version": "2.7.12"
  }
 },
 "nbformat": 4,
 "nbformat_minor": 0
}