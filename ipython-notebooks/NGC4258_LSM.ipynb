{
 "cells": [
  {
   "cell_type": "code",
   "execution_count": 1,
   "metadata": {
    "collapsed": false
   },
   "outputs": [
    {
     "name": "stderr",
     "output_type": "stream",
     "text": [
      "/usr/local/lib/python2.7/site-packages/matplotlib/font_manager.py:273: UserWarning: Matplotlib is building the font cache using fc-list. This may take a moment.\n  warnings.warn('Matplotlib is building the font cache using fc-list. This may take a moment.')\n"
     ]
    },
    {
     "name": "stderr",
     "output_type": "stream",
     "text": [
      "root - INFO : Logging started!\n"
     ]
    },
    {
     "name": "stderr",
     "output_type": "stream",
     "text": [
      "root - INFO : To see the log in a bash window use the following command:\n"
     ]
    },
    {
     "name": "stderr",
     "output_type": "stream",
     "text": [
      "root - INFO : tail -n +1 -f /Users/adebahr/Software/apercal/ipython-notebooks/ngc4258_LSM-tutorial.log\n"
     ]
    },
    {
     "name": "stdout",
     "output_type": "stream",
     "text": [
      "Setup logger with lib.setup_logger()\n"
     ]
    }
   ],
   "source": [
    "# Header Block. You should NOT rerun this block if you have not restarted the kernel.\n",
    "import lib\n",
    "lib.setup_logger('info', logfile='/Users/adebahr/Software/apercal/ipython-notebooks/ngc4258_LSM-tutorial.log')\n",
    "import apercal"
   ]
  },
  {
   "cell_type": "code",
   "execution_count": 2,
   "metadata": {
    "collapsed": false
   },
   "outputs": [
    {
     "name": "stdout",
     "output_type": "stream",
     "text": [
      "INITIAL\n\tfcal = ''\n\tpcal = ''\n\ttarget = 'wcs01_b2.MS'\n\tbasedir = '/Users/adebahr/Data/apercal'\n\trawsubdir = '/raw'\n\tcrosscalsubdir = '/crosscal'\n\tselfcalsubdir = '/selfcal'\n\tfinalsubdir = '/final'\nPREFLAG\n\ttype = 'aoflagger'\n\taoflagger_fluxcal = True\n\taoflagger_polcal = True\n\taoflagger_src = True\n\taoflagger_calstrat = 'cal.rfis'\n\taoflagger_tarstrat = 'tar.rfis'\nCONVERT\n\ttool = 'casapy'\n\tconvert_fluxcal = True\n\tconvert_polcal = True\n\tconvert_target = True\nCROSSCAL\n\tbandpass = True\n\tpolcal = True\nSELFCAL\n\tchunksize = 0.02\n\tspeed = 'turbo'\n\tmode = 'manual'\n\tname_map = 'map'\n\tname_beam = 'beam'\n\tname_model = 'model'\n\tname_image = 'image'\n\tname_mask = 'mask'\n\tname_residual = 'residual'\n\timsize = 2049\n\tcell = 3\n\tmode_turbo_freqav = 8\n\tmode_turbo_timeav = 0.5\n\tparametric = False\n\tparametric_if = []\n\tparametric_radius = 1.0\n\tparametric_cutoff = 0.7\n\tparametric_distance = 30\n\tparametric_interval = [20]\n\tparametric_minuvrange = []\n\tparametric_maxuvrange = []\n\tparametric_amp = False\n\tdiffuse = 'auto'\n\tdiffuse_limit = 1.1\n\tamp = 'auto'\n\tamp_fluxlimit = 0.25\n\tamp_interval = [20]\n\tclean_minorcycle = False\n\tmanual_initstats = False\n\tmanual_cycles = 10\n\tmanual_minuvrange = 0.06\n\tmanual_maxuvrange = [3,3,3]\n\tmanual_interval = [10,5,3]\n\tmanual_niters = [500,1500,2500]\n\tmanual_cleancutoff = [0.0005,0.0003,0.0001]\n\tmanual_mskcutoff = [0.05,0.02,0.001]\n\tmanual_if = [1,2]\n\tadaptive_startinterval = 20\n\tadaptive_startuvrange = 3\n\tadaptive_maxcycle = 6\n\tadaptive_drlim = 1.1\nFINAL\n\tmfimage = True\n\tmfimage_cleannoise = True\n\tmfimage_cleannoise_niter = 100000\n\tmfimage_cleannoise_rms = 'auto'\n"
     ]
    }
   ],
   "source": [
    "config = apercal.config()\n",
    "config.show()"
   ]
  },
  {
   "cell_type": "code",
   "execution_count": 3,
   "metadata": {},
   "outputs": [
    {
     "name": "stderr",
     "output_type": "stream",
     "text": [
      "selfcal - INFO : No configuration file given or file not found! Using default values for selfcal!\n"
     ]
    }
   ],
   "source": [
    "selfcal = apercal.wselfcal()"
   ]
  },
  {
   "cell_type": "code",
   "execution_count": 4,
   "metadata": {},
   "outputs": [
    {
     "ename": "AttributeError",
     "evalue": "'dict' object has no attribute 'fcal'",
     "traceback": [
      "\u001b[0;31m---------------------------------------------------------------------------\u001b[0m",
      "\u001b[0;31mAttributeError\u001b[0m                            Traceback (most recent call last)",
      "\u001b[0;32m<ipython-input-4-23d6ab4b994a>\u001b[0m in \u001b[0;36m<module>\u001b[0;34m()\u001b[0m\n\u001b[0;32m----> 1\u001b[0;31m \u001b[0mdefault\u001b[0m \u001b[0;34m=\u001b[0m \u001b[0mselfcal\u001b[0m\u001b[0;34m.\u001b[0m\u001b[0mread_default\u001b[0m\u001b[0;34m(\u001b[0m\u001b[0;34m)\u001b[0m\u001b[0;34m\u001b[0m\u001b[0m\n\u001b[0m",
      "\u001b[0;32m/Users/adebahr/Software/apercal/calibrate.pyc\u001b[0m in \u001b[0;36mread_default\u001b[0;34m(self)\u001b[0m\n\u001b[1;32m    648\u001b[0m         \u001b[0;32mfor\u001b[0m \u001b[0ms\u001b[0m \u001b[0;32min\u001b[0m \u001b[0mconfig\u001b[0m\u001b[0;34m.\u001b[0m\u001b[0msections\u001b[0m\u001b[0;34m(\u001b[0m\u001b[0;34m)\u001b[0m\u001b[0;34m:\u001b[0m\u001b[0;34m\u001b[0m\u001b[0m\n\u001b[1;32m    649\u001b[0m             \u001b[0;32mfor\u001b[0m \u001b[0mo\u001b[0m \u001b[0;32min\u001b[0m \u001b[0mconfig\u001b[0m\u001b[0;34m.\u001b[0m\u001b[0mitems\u001b[0m\u001b[0;34m(\u001b[0m\u001b[0ms\u001b[0m\u001b[0;34m)\u001b[0m\u001b[0;34m:\u001b[0m\u001b[0;34m\u001b[0m\u001b[0m\n\u001b[0;32m--> 650\u001b[0;31m                 \u001b[0msetattr\u001b[0m\u001b[0;34m(\u001b[0m\u001b[0mdefault\u001b[0m\u001b[0;34m,\u001b[0m \u001b[0mo\u001b[0m\u001b[0;34m[\u001b[0m\u001b[0;36m0\u001b[0m\u001b[0;34m]\u001b[0m\u001b[0;34m,\u001b[0m \u001b[0meval\u001b[0m\u001b[0;34m(\u001b[0m\u001b[0mo\u001b[0m\u001b[0;34m[\u001b[0m\u001b[0;36m1\u001b[0m\u001b[0;34m]\u001b[0m\u001b[0;34m)\u001b[0m\u001b[0;34m)\u001b[0m\u001b[0;34m\u001b[0m\u001b[0m\n\u001b[0m",
      "\u001b[0;31mAttributeError\u001b[0m: 'dict' object has no attribute 'fcal'"
     ],
     "output_type": "error"
    }
   ],
   "source": [
    "default = selfcal.read_default()"
   ]
  },
  {
   "cell_type": "code",
   "execution_count": null,
   "metadata": {},
   "outputs": [],
   "source": [
    ""
   ]
  }
 ],
 "metadata": {
  "kernelspec": {
   "display_name": "Python 2",
   "language": "python",
   "name": "python2"
  },
  "language_info": {
   "codemirror_mode": {
    "name": "ipython",
    "version": 2.0
   },
   "file_extension": ".py",
   "mimetype": "text/x-python",
   "name": "python",
   "nbconvert_exporter": "python",
   "pygments_lexer": "ipython2",
   "version": "2.7.12"
  }
 },
 "nbformat": 4,
 "nbformat_minor": 0
}